{
 "cells": [
  {
   "cell_type": "code",
   "execution_count": 1,
   "id": "84e9a343",
   "metadata": {},
   "outputs": [
    {
     "name": "stdout",
     "output_type": "stream",
     "text": [
      "2021-08-27 15:52:12,584 -INFO - config.py:25 - Module utils.config was loaded\n",
      "2021-08-27 15:52:12,617 -INFO - common.py:112 - Module utils.common is loaded...\n",
      "2021-08-27 15:52:12,618 -INFO - hidden.py:63 - hidden module is loaded\n",
      "2021-08-27 15:52:13,014 -INFO - features_builder.py:557 - feature_bilder module is loaded...\n",
      "2021-08-27 15:52:13,252 -INFO - dataset.py:123 - dataset module is loaded...\n"
     ]
    }
   ],
   "source": [
    "import os, sys, re, gc\n",
    "\n",
    "WORKING_DIR = re.sub('jdi-qasp-ml.*$','',os.path.normpath(os.getcwd())) + 'jdi-qasp-ml'\n",
    "os.chdir(WORKING_DIR)\n",
    "import torch\n",
    "from torch.utils.data import Dataset, DataLoader\n",
    "from tqdm.auto import tqdm, trange\n",
    "from MUI_model.utils.dataset import JDNDataset\n",
    "from MUI_model.utils.model import JDIModel\n",
    "from MUI_model.utils.labels import assign_labels\n",
    "from MUI_model.utils.common import accuracy\n",
    "from MUI_model.utils.config import logger\n",
    "# from utils.dataset_builder import DatasetBuilder\n",
    "\n",
    "import pandas as pd\n",
    "import numpy as np\n",
    "import pickle\n",
    "import matplotlib.pyplot as plt\n",
    "from matplotlib.patches import Rectangle\n",
    "%matplotlib inline\n",
    "import seaborn as sns\n",
    "from time import sleep"
   ]
  },
  {
   "cell_type": "code",
   "execution_count": 2,
   "id": "5318a167",
   "metadata": {},
   "outputs": [],
   "source": [
    "from sklearn.metrics import confusion_matrix"
   ]
  },
  {
   "cell_type": "code",
   "execution_count": 3,
   "id": "7a309ebf",
   "metadata": {},
   "outputs": [],
   "source": [
    "def get_grey_image(file_path: str) -> np.ndarray:\n",
    "    img = plt.imread(file_path)\n",
    "    img = (img[..., 0] + img[..., 1] + img[..., 2]) / 3.0\n",
    "    return img"
   ]
  },
  {
   "cell_type": "code",
   "execution_count": 4,
   "id": "a1061829",
   "metadata": {},
   "outputs": [],
   "source": [
    "# SITE_URL = 'file:///C:/WORK/jdi-qasp-ml/MUI_model/dataset/material-ui-Buttons-Copy1/index.html'\n",
    "DATASET_NAME = 'material-ui-Buttons'\n",
    "WAIT_TIME_SECONDS = 7\n",
    "URL = 'https://jdi-testing.github.io/jdi-light/'\n",
    "SITE_URL = 'https://jdi-testing.github.io/jdi-light/material/buttons'\n",
    "# PREDICT_URL = 'http://localhost:5000/predict'\n",
    "\n",
    "LOGIN = 'Roman'\n",
    "PASSWORD = 'Jdi1234'\n",
    "SAVE_SCREEN = True\n",
    "WAIT_TIME_SECONDS = 7\n",
    "HEADLESS = True"
   ]
  },
  {
   "cell_type": "code",
   "execution_count": 5,
   "id": "fcda3cfc",
   "metadata": {},
   "outputs": [
    {
     "name": "stdout",
     "output_type": "stream",
     "text": [
      "2021-08-27 15:52:13,436 -INFO - 4109918096.py:148 - dataset package is loaded...\n"
     ]
    }
   ],
   "source": [
    "class DatasetBuilder:\n",
    "    \"\"\"\n",
    "        Build dataset from a specific url,\n",
    "\n",
    "    \"\"\"\n",
    "\n",
    "    headless = True\n",
    "\n",
    "    def __init__(self, url: str, dataset_name: str = 'dummy', headless=True):\n",
    "\n",
    "        if dataset_name == 'dummy':\n",
    "            logger.warning('The default dataset name \"dummy\" will be used')\n",
    "        else:\n",
    "            logger.info(f'Dataset name: {dataset_name}')\n",
    "\n",
    "        super(DatasetBuilder).__init__()\n",
    "        self.url = url\n",
    "        self.driver = None\n",
    "        self.logger = logger\n",
    "        self.dataset_name = dataset_name\n",
    "        self.headless = headless\n",
    "\n",
    "        logger.info('Create directories to save the dataset')\n",
    "        # logger.info('dataset/images')\n",
    "        os.makedirs('MUI_model/dataset/images', exist_ok=True)\n",
    "        # logger.info('dataset/df')\n",
    "        os.makedirs('MUI_model/dataset/df', exist_ok=True)\n",
    "        # logger.info('dataset/annotations')\n",
    "        os.makedirs('MUI_model/dataset/annotations', exist_ok=True)\n",
    "        # logger.info('dataset/html')\n",
    "        os.makedirs('MUI_model/dataset/html', exist_ok=True)\n",
    "        # logger.info('dataset/cache-labels')\n",
    "        os.makedirs('MUI_model/dataset/cache-labels', exist_ok=True)\n",
    "\n",
    "        self.__enter__()\n",
    "\n",
    "    def __exit__(self, exc_type, exc_val, exc_tb):\n",
    "        logger.info('Close web driver')\n",
    "        self.driver.close()\n",
    "\n",
    "    def __enter__(self):\n",
    "        import selenium\n",
    "        from selenium.webdriver.chrome.options import Options\n",
    "\n",
    "        if self.driver is not None:\n",
    "            return self\n",
    "\n",
    "        self.options = Options()\n",
    "        # Last I checked this was necessary.\n",
    "        self.options.add_argument('--disable-gpu')\n",
    "        self.options.add_argument('--skip-js-errors')\n",
    "\n",
    "        # to prevent \"I'm not a robot\" check, we have to add next option:\n",
    "        self.options.add_argument('--user-agent=\"Mozilla/5.0 (X11; Linux x86_64) AppleWebKit/537.36 (KHTML, like Gecko) Chrome/60.0.3112.50 Safari/537.36\")') # noqa\n",
    "        if sys.platform != 'darwin':\n",
    "            self.options.set_capability(\"platformName\", \"windows\")\n",
    "        # self.options.add_argument(\"--start-maximized\")\n",
    "        if self.headless:\n",
    "            self.options.add_argument('--headless')\n",
    "\n",
    "        logger.info('Creating driver')\n",
    "        if sys.platform == 'darwin':\n",
    "            chrome_driver_path = '/usr/local/bin/chromedriver'\n",
    "        else:\n",
    "            chrome_driver_path = os.path.join(os.getcwd(), 'chromedriver.exe')\n",
    "        if os.path.exists(chrome_driver_path):\n",
    "            self.driver = selenium.webdriver.Chrome(\n",
    "                executable_path=chrome_driver_path, options=self.options)\n",
    "        else:\n",
    "            raise FileNotFoundError(f\"chromedriver.exe  {os.getcwd()}\")\n",
    "\n",
    "        logger.info('Chrome web driver is created')\n",
    "        self.setUp(self.driver)\n",
    "        scr = f'MUI_model/dataset/images/{self.dataset_name}.png'\n",
    "        logger.info(f'save scrinshot: {scr}')\n",
    "        self.driver.save_screenshot(scr)\n",
    "        self.build_dataset()\n",
    "\n",
    "        return self\n",
    "\n",
    "    def full_page(self, driver):\n",
    "        logger.info('Getting full page')\n",
    "        sleep(3.0)\n",
    "        html_e = driver.find_element_by_tag_name('html')\n",
    "        sleep(3.0)\n",
    "        html_e.send_keys(Keys.CONTROL, Keys.END)\n",
    "        sleep(3.0)\n",
    "        html_e.send_keys(Keys.CONTROL, Keys.END)\n",
    "        sleep(3.0)\n",
    "\n",
    "        maximize_window(driver=self.driver, extend_pix=0)\n",
    "\n",
    "        sleep(9.0)\n",
    "        html_e.send_keys(Keys.CONTROL, Keys.END)\n",
    "        sleep(3.0)\n",
    "\n",
    "    def setUp(self, driver):\n",
    "        \"\"\"\n",
    "            This method may be overwitten if you need to login to the site\n",
    "            and navigate to a specific url,\n",
    "            otherwise it just returns\n",
    "        \"\"\"\n",
    "        logger.info(f'getting url: {self.url}')\n",
    "        self.driver.get(self.url)\n",
    "        sleep(3.0)\n",
    "\n",
    "        # As an example:\n",
    "        # driver.find_element_by_id(\"user-icon\").click()\n",
    "        # driver.find_element_by_id(\"name\").send_keys(LOGIN)\n",
    "        # driver.find_element_by_id(\"password\").send_keys(PASSWORD)\n",
    "        # driver.find_element_by_id(\"login-button\").click()\n",
    "        # sleep(3.0)\n",
    "        maximize_window(driver=self.driver, extend_pix=0)\n",
    "\n",
    "        # self.full_page(driver)\n",
    "\n",
    "    def build_dataset(self):\n",
    "\n",
    "        logger.info('Collect features using JS script')\n",
    "        with open('js/build-dataset.js', 'r') as f:\n",
    "            build_dataset_js = f.read()\n",
    "\n",
    "        self.dataset_json = self.driver.execute_script(build_dataset_js)\n",
    "        self.dataset = pd.DataFrame(self.dataset_json)\n",
    "\n",
    "        # Save HTML source\n",
    "        logger.info(f'Save html to MUI_model/dataset/html/{self.dataset_name}.html')\n",
    "        with open(f'MUI_model/dataset/html/{self.dataset_name}.html', 'wb') as f:\n",
    "            f.write(self.driver.page_source.encode())\n",
    "            f.flush()\n",
    "\n",
    "        self.dataset.onmouseover = self.dataset.onmouseover.apply(\n",
    "            lambda x: 'true' if x is not None else None)\n",
    "        self.dataset.onmouseenter = self.dataset.onmouseenter.apply(\n",
    "            lambda x: 'true' if x is not None else None)\n",
    "\n",
    "        logger.info(f'Save parquet to MUI_model/dataset/df/{self.dataset_name}.parquet')\n",
    "\n",
    "        logger.info(\"No attributes: \" + str(self.dataset[self.dataset.attributes == {}].shape))\n",
    "\n",
    "        self.dataset.attributes = self.dataset.attributes.apply(lambda x: None if x == {} else x)\n",
    "\n",
    "        self.dataset.to_parquet(f'MUI_model/dataset/df/{self.dataset_name}.parquet')\n",
    "\n",
    "        return self.dataset\n",
    "\n",
    "\n",
    "logger.info(\"dataset package is loaded...\")"
   ]
  },
  {
   "cell_type": "code",
   "execution_count": 23,
   "id": "b3166578",
   "metadata": {
    "scrolled": true
   },
   "outputs": [
    {
     "name": "stdout",
     "output_type": "stream",
     "text": [
      "2021-08-27 15:53:53,941 -INFO - 4109918096.py:14 - Dataset name: material-ui-Buttons\n",
      "2021-08-27 15:53:53,943 -INFO - 4109918096.py:23 - Create directories to save the dataset\n",
      "2021-08-27 15:53:53,945 -INFO - 4109918096.py:61 - Creating driver\n",
      "2021-08-27 15:53:55,103 -INFO - 4109918096.py:72 - Chrome web driver is created\n",
      "2021-08-27 15:53:55,104 -INFO - 696209846.py:4 - getting page\n",
      "2021-08-27 15:54:12,435 -INFO - 4109918096.py:75 - save scrinshot: MUI_model/dataset/images/material-ui-Buttons.png\n",
      "2021-08-27 15:54:12,613 -INFO - 4109918096.py:119 - Collect features using JS script\n",
      "2021-08-27 15:54:13,172 -INFO - 4109918096.py:127 - Save html to MUI_model/dataset/html/material-ui-Buttons.html\n",
      "2021-08-27 15:54:13,190 -INFO - 4109918096.py:137 - Save parquet to MUI_model/dataset/df/material-ui-Buttons.parquet\n",
      "2021-08-27 15:54:13,192 -INFO - 4109918096.py:139 - No attributes: (15, 13)\n",
      "2021-08-27 15:54:13,315 -INFO - 4109918096.py:38 - Close web driver\n"
     ]
    },
    {
     "data": {
      "image/png": "[encoded data removed]",
      "text/plain": [
       "<Figure size 432x288 with 1 Axes>"
      ]
     },
     "metadata": {
      "needs_background": "light"
     },
     "output_type": "display_data"
    }
   ],
   "source": [
    "class JDIDatasetBuilder(DatasetBuilder):\n",
    "\n",
    "    def setUp(self, driver):\n",
    "        self.logger.info(f'getting page')\n",
    "        driver.get(URL)\n",
    "        #driver.set_window_size(width=1920, height=8400)\n",
    "        driver.set_window_size(width=1500, height=6000)\n",
    "        \n",
    "        driver.find_element_by_id(\"user-icon\").click()\n",
    "        driver.find_element_by_id(\"name\").send_keys(LOGIN)\n",
    "        driver.find_element_by_id(\"password\").send_keys(PASSWORD)\n",
    "        driver.find_element_by_id(\"login-button\").click()\n",
    "        sleep(WAIT_TIME_SECONDS)\n",
    "        driver.find_element_by_xpath(\"/html/body/div/div[1]/div/div[1]/div/div[1]/ul/li[5]/a/div\").click()\n",
    "        driver.find_element_by_xpath(\"/html/body/div/div[1]/div/div[1]/div/div[1]/ul/li[5]/ul/li[8]/a\").click()\n",
    "        driver.find_element_by_xpath(\"/html/body/div/div/div/div[1]/div/div[2]/div/div\").click()\n",
    "\n",
    "#         driver.find_element_by_link_text(\"Service\").click()\n",
    "#         driver.find_element_by_link_text(\"Complex Table\").click()\n",
    "#         maximize_window(driver=driver)\n",
    "        sleep(WAIT_TIME_SECONDS)\n",
    "with JDIDatasetBuilder(url=SITE_URL, dataset_name=DATASET_NAME, headless=True) as builder:\n",
    "    elements_df = builder.dataset\n",
    "    dataset_json = builder.dataset_json\n",
    "    plt.imshow(plt.imread(f'MUI_model/dataset/images/{DATASET_NAME}.png'))\n",
    "    "
   ]
  },
  {
   "cell_type": "code",
   "execution_count": 7,
   "id": "d9915c3f",
   "metadata": {},
   "outputs": [],
   "source": [
    "elements_df['label_text'] = elements_df.attributes.apply(lambda x: x.get('data-label') if x is not None else 'n/a').fillna('n/a')"
   ]
  },
  {
   "cell_type": "code",
   "execution_count": 8,
   "id": "0300f698",
   "metadata": {},
   "outputs": [
    {
     "data": {
      "text/plain": [
       "array(['n/a'], dtype=object)"
      ]
     },
     "execution_count": 8,
     "metadata": {},
     "output_type": "execute_result"
    }
   ],
   "source": [
    "elements_df['label_text'].unique()"
   ]
  },
  {
   "cell_type": "code",
   "execution_count": 9,
   "id": "3986f151",
   "metadata": {},
   "outputs": [
    {
     "data": {
      "text/plain": [
       "0                                        {'lang': 'en'}\n",
       "1                                                  None\n",
       "2     {'href': 'https://fonts.googleapis.com/css?fam...\n",
       "3                                  {'charset': 'utf-8'}\n",
       "4                                                  None\n",
       "5     {'content': 'minimum-scale=1, initial-scale=1,...\n",
       "6           {'content': '3', 'name': 'next-head-count'}\n",
       "7                                    {'data-n-css': ''}\n",
       "8     {'as': 'script', 'href': '/jdi-light/material/...\n",
       "9     {'as': 'script', 'href': '/jdi-light/material/...\n",
       "10    {'as': 'script', 'href': '/jdi-light/material/...\n",
       "11    {'as': 'script', 'href': '/jdi-light/material/...\n",
       "12    {'as': 'script', 'href': '/jdi-light/material/...\n",
       "13    {'as': 'script', 'href': '/jdi-light/material/...\n",
       "14    {'as': 'script', 'href': '/jdi-light/material/...\n",
       "15    {'as': 'script', 'href': '/jdi-light/material/...\n",
       "16    {'as': 'script', 'href': '/jdi-light/material/...\n",
       "17    {'as': 'script', 'href': '/jdi-light/material/...\n",
       "18    {'as': 'script', 'href': '/jdi-light/material/...\n",
       "19    {'data-jss': '', 'data-meta': 'MuiListSubheader'}\n",
       "Name: attributes, dtype: object"
      ]
     },
     "execution_count": 9,
     "metadata": {},
     "output_type": "execute_result"
    }
   ],
   "source": [
    "elements_df['attributes'].head(20)"
   ]
  },
  {
   "cell_type": "code",
   "execution_count": 10,
   "id": "e2831e05",
   "metadata": {},
   "outputs": [],
   "source": [
    "DEVICE='cpu'"
   ]
  },
  {
   "cell_type": "code",
   "execution_count": 11,
   "id": "2679b84d",
   "metadata": {},
   "outputs": [
    {
     "data": {
      "text/plain": [
       "JDIModel(\n",
       "  (input_layer): Linear(in_features=1087, out_features=128, bias=False)\n",
       "  (batchNorm1): LayerNorm((128,), eps=1e-05, elementwise_affine=True)\n",
       "  (leaky_relu1): LeakyReLU(negative_slope=0.1, inplace=True)\n",
       "  (hidden1): Linear(in_features=128, out_features=32, bias=False)\n",
       "  (batchNorm2): LayerNorm((32,), eps=1e-05, elementwise_affine=True)\n",
       "  (leaky_relu2): LeakyReLU(negative_slope=0.1, inplace=True)\n",
       "  (hidden2): Linear(in_features=32, out_features=40, bias=True)\n",
       ")"
      ]
     },
     "execution_count": 11,
     "metadata": {},
     "output_type": "execute_result"
    }
   ],
   "source": [
    "model = torch.load('MUI_model/model/model.pth').to(DEVICE)\n",
    "model.eval()"
   ]
  },
  {
   "cell_type": "code",
   "execution_count": 12,
   "id": "51d57343",
   "metadata": {},
   "outputs": [],
   "source": [
    "dataset_name = 'material-ui-Buttons'"
   ]
  },
  {
   "cell_type": "code",
   "execution_count": 13,
   "id": "30cfb518",
   "metadata": {},
   "outputs": [
    {
     "data": {
      "application/vnd.jupyter.widget-view+json": {
       "model_id": "7bdaa4fe4e364c059349245860c7f638",
       "version_major": 2,
       "version_minor": 0
      },
      "text/plain": [
       "  0%|          | 0/1 [00:00<?, ?it/s]"
      ]
     },
     "metadata": {},
     "output_type": "display_data"
    },
    {
     "data": {
      "application/vnd.jupyter.widget-view+json": {
       "model_id": "098308abc0e04c63a9099dfceac97a2c",
       "version_major": 2,
       "version_minor": 0
      },
      "text/plain": [
       "  0%|          | 0/612 [00:00<?, ?it/s]"
      ]
     },
     "metadata": {},
     "output_type": "display_data"
    },
    {
     "data": {
      "application/vnd.jupyter.widget-view+json": {
       "model_id": "1f83a761939f4688b9bacac88fc506a8",
       "version_major": 2,
       "version_minor": 0
      },
      "text/plain": [
       "  0%|          | 0/612 [00:00<?, ?it/s]"
      ]
     },
     "metadata": {},
     "output_type": "display_data"
    },
    {
     "name": "stdout",
     "output_type": "stream",
     "text": [
      "2021-08-27 15:52:47,132 -INFO - dataset.py:101 - self.df.shape: (612, 34)\n",
      "2021-08-27 15:52:47,133 -INFO - dataset.py:103 - Check for duplicates...\n",
      "2021-08-27 15:52:47,134 -INFO - dataset.py:107 - Check for duplicates is OK\n",
      "2021-08-27 15:52:47,150 -INFO - features_builder.py:480 - used column: tag_name\n",
      "2021-08-27 15:52:47,152 -INFO - features_builder.py:483 - loading MUI_model/model/ohe_tag_name.pkl\n",
      "2021-08-27 15:52:47,154 -INFO - features_builder.py:480 - used column: tag_name_parent\n",
      "2021-08-27 15:52:47,156 -INFO - features_builder.py:483 - loading MUI_model/model/ohe_tag_name.pkl\n",
      "2021-08-27 15:52:47,158 -INFO - features_builder.py:480 - used column: tag_name_upsib\n",
      "2021-08-27 15:52:47,159 -INFO - features_builder.py:483 - loading MUI_model/model/ohe_tag_name.pkl\n",
      "2021-08-27 15:52:47,162 -INFO - features_builder.py:480 - used column: tag_name_dnsib\n",
      "2021-08-27 15:52:47,164 -INFO - features_builder.py:483 - loading MUI_model/model/ohe_tag_name.pkl\n",
      "2021-08-27 15:52:47,168 -INFO - dataset_collector.py:50 - tag_name: (612, 15)\n",
      "2021-08-27 15:52:47,169 -INFO - features_builder.py:401 - used column: attributes_parent\n"
     ]
    },
    {
     "data": {
      "application/vnd.jupyter.widget-view+json": {
       "model_id": "9f2fae6df53249729b33975455924f3c",
       "version_major": 2,
       "version_minor": 0
      },
      "text/plain": [
       "  0%|          | 0/612 [00:00<?, ?it/s]"
      ]
     },
     "metadata": {},
     "output_type": "display_data"
    },
    {
     "name": "stdout",
     "output_type": "stream",
     "text": [
      "2021-08-27 15:52:47,252 -INFO - features_builder.py:401 - used column: attributes_parent\n"
     ]
    },
    {
     "data": {
      "application/vnd.jupyter.widget-view+json": {
       "model_id": "969013537edd469e9621ff0bcaf0baa1",
       "version_major": 2,
       "version_minor": 0
      },
      "text/plain": [
       "  0%|          | 0/612 [00:00<?, ?it/s]"
      ]
     },
     "metadata": {},
     "output_type": "display_data"
    },
    {
     "name": "stdout",
     "output_type": "stream",
     "text": [
      "2021-08-27 15:52:47,320 -INFO - features_builder.py:401 - used column: attributes_upsib\n"
     ]
    },
    {
     "data": {
      "application/vnd.jupyter.widget-view+json": {
       "model_id": "bfece841b4b04972aedfac9440cc5de7",
       "version_major": 2,
       "version_minor": 0
      },
      "text/plain": [
       "  0%|          | 0/612 [00:00<?, ?it/s]"
      ]
     },
     "metadata": {},
     "output_type": "display_data"
    },
    {
     "name": "stdout",
     "output_type": "stream",
     "text": [
      "2021-08-27 15:52:47,403 -INFO - features_builder.py:401 - used column: attributes_dnsib\n"
     ]
    },
    {
     "data": {
      "application/vnd.jupyter.widget-view+json": {
       "model_id": "90c6b86345b14839960f80a0bbff9337",
       "version_major": 2,
       "version_minor": 0
      },
      "text/plain": [
       "  0%|          | 0/612 [00:00<?, ?it/s]"
      ]
     },
     "metadata": {},
     "output_type": "display_data"
    },
    {
     "name": "stdout",
     "output_type": "stream",
     "text": [
      "2021-08-27 15:52:47,490 -INFO - dataset_collector.py:57 - attributes_sm: (612, 74)\n",
      "2021-08-27 15:52:47,491 -INFO - features_builder.py:440 - used column: attributes\n",
      "2021-08-27 15:52:47,492 -INFO - features_builder.py:443 - TfIdfVectorizer for class attribute exists. Loaging...\n",
      "2021-08-27 15:52:47,498 -INFO - features_builder.py:440 - used column: attributes_parent\n",
      "2021-08-27 15:52:47,499 -INFO - features_builder.py:443 - TfIdfVectorizer for class attribute exists. Loaging...\n",
      "2021-08-27 15:52:47,505 -INFO - features_builder.py:440 - used column: attributes_upsib\n",
      "2021-08-27 15:52:47,506 -INFO - features_builder.py:443 - TfIdfVectorizer for class attribute exists. Loaging...\n",
      "2021-08-27 15:52:47,512 -INFO - features_builder.py:440 - used column: attributes_dnsib\n",
      "2021-08-27 15:52:47,513 -INFO - features_builder.py:443 - TfIdfVectorizer for class attribute exists. Loaging...\n",
      "2021-08-27 15:52:47,519 -INFO - dataset_collector.py:64 - class_sm: (612, 148)\n",
      "2021-08-27 15:52:47,520 -INFO - features_builder.py:531 - used column: attributes\n",
      "2021-08-27 15:52:47,521 -INFO - features_builder.py:534 - loading MUI_model/model/ohe_type.pkl\n",
      "2021-08-27 15:52:47,524 -INFO - features_builder.py:531 - used column: attributes_parent\n",
      "2021-08-27 15:52:47,526 -INFO - features_builder.py:534 - loading MUI_model/model/ohe_type.pkl\n",
      "2021-08-27 15:52:47,529 -INFO - features_builder.py:531 - used column: attributes_upsib\n",
      "2021-08-27 15:52:47,531 -INFO - features_builder.py:534 - loading MUI_model/model/ohe_type.pkl\n",
      "2021-08-27 15:52:47,535 -INFO - features_builder.py:531 - used column: attributes_dnsib\n",
      "2021-08-27 15:52:47,536 -INFO - features_builder.py:534 - loading MUI_model/model/ohe_type.pkl\n",
      "2021-08-27 15:52:47,539 -INFO - dataset_collector.py:71 - type_sm: (612, 2)\n",
      "2021-08-27 15:52:47,540 -INFO - features_builder.py:503 - used column: attributes\n",
      "2021-08-27 15:52:47,541 -INFO - features_builder.py:506 - loading MUI_model/model/ohe_role.pkl\n",
      "2021-08-27 15:52:47,547 -INFO - features_builder.py:503 - used column: attributes_parent\n",
      "2021-08-27 15:52:47,550 -INFO - features_builder.py:506 - loading MUI_model/model/ohe_role.pkl\n",
      "2021-08-27 15:52:47,553 -INFO - features_builder.py:503 - used column: attributes_upsib\n",
      "2021-08-27 15:52:47,554 -INFO - features_builder.py:506 - loading MUI_model/model/ohe_role.pkl\n",
      "2021-08-27 15:52:47,556 -INFO - features_builder.py:503 - used column: attributes_dnsib\n",
      "2021-08-27 15:52:47,557 -INFO - features_builder.py:506 - loading MUI_model/model/ohe_role.pkl\n",
      "2021-08-27 15:52:47,559 -INFO - dataset_collector.py:78 - role_sm: (612, 11)\n",
      "2021-08-27 15:52:47,560 -INFO - features_builder.py:89 - used column: children_tags\n",
      "2021-08-27 15:52:47,560 -INFO - features_builder.py:92 - TfIdfVectorizer for children tags exists. Loading...\n",
      "2021-08-27 15:52:47,567 -INFO - features_builder.py:125 - used column: followers_tags\n",
      "2021-08-27 15:52:47,569 -INFO - features_builder.py:128 - TfIdfVectorizer for children tags exists. Loading...\n",
      "2021-08-27 15:52:47,587 -INFO - dataset_collector.py:124 - X: (612, 1087)\n"
     ]
    }
   ],
   "source": [
    "dataset = JDNDataset(datasets_list=[dataset_name], rebalance_and_shuffle=False)"
   ]
  },
  {
   "cell_type": "code",
   "execution_count": 14,
   "id": "420f0b1c",
   "metadata": {},
   "outputs": [],
   "source": [
    "dataloader=DataLoader(dataset, shuffle=False, batch_size=1, pin_memory=True)"
   ]
  },
  {
   "cell_type": "code",
   "execution_count": 15,
   "id": "2db0f7bd",
   "metadata": {},
   "outputs": [
    {
     "data": {
      "application/vnd.jupyter.widget-view+json": {
       "model_id": "246e4a49d1044762aaf37c7be7ffaa0a",
       "version_major": 2,
       "version_minor": 0
      },
      "text/plain": [
       "  0%|          | 0/612 [00:00<?, ?it/s]"
      ]
     },
     "metadata": {},
     "output_type": "display_data"
    },
    {
     "data": {
      "text/html": [
       "<div>\n",
       "<style scoped>\n",
       "    .dataframe tbody tr th:only-of-type {\n",
       "        vertical-align: middle;\n",
       "    }\n",
       "\n",
       "    .dataframe tbody tr th {\n",
       "        vertical-align: top;\n",
       "    }\n",
       "\n",
       "    .dataframe thead th {\n",
       "        text-align: right;\n",
       "    }\n",
       "</style>\n",
       "<table border=\"1\" class=\"dataframe\">\n",
       "  <thead>\n",
       "    <tr style=\"text-align: right;\">\n",
       "      <th></th>\n",
       "      <th>y_true</th>\n",
       "      <th>y_pred</th>\n",
       "      <th>y_true_label</th>\n",
       "      <th>y_pred_label</th>\n",
       "      <th>is_hidden</th>\n",
       "    </tr>\n",
       "  </thead>\n",
       "  <tbody>\n",
       "    <tr>\n",
       "      <th>0</th>\n",
       "      <td>0</td>\n",
       "      <td>0</td>\n",
       "      <td>n/a</td>\n",
       "      <td>n/a</td>\n",
       "      <td>0</td>\n",
       "    </tr>\n",
       "    <tr>\n",
       "      <th>1</th>\n",
       "      <td>0</td>\n",
       "      <td>0</td>\n",
       "      <td>n/a</td>\n",
       "      <td>n/a</td>\n",
       "      <td>0</td>\n",
       "    </tr>\n",
       "    <tr>\n",
       "      <th>2</th>\n",
       "      <td>0</td>\n",
       "      <td>0</td>\n",
       "      <td>n/a</td>\n",
       "      <td>n/a</td>\n",
       "      <td>0</td>\n",
       "    </tr>\n",
       "    <tr>\n",
       "      <th>3</th>\n",
       "      <td>0</td>\n",
       "      <td>0</td>\n",
       "      <td>n/a</td>\n",
       "      <td>n/a</td>\n",
       "      <td>0</td>\n",
       "    </tr>\n",
       "    <tr>\n",
       "      <th>4</th>\n",
       "      <td>0</td>\n",
       "      <td>0</td>\n",
       "      <td>n/a</td>\n",
       "      <td>n/a</td>\n",
       "      <td>0</td>\n",
       "    </tr>\n",
       "    <tr>\n",
       "      <th>...</th>\n",
       "      <td>...</td>\n",
       "      <td>...</td>\n",
       "      <td>...</td>\n",
       "      <td>...</td>\n",
       "      <td>...</td>\n",
       "    </tr>\n",
       "    <tr>\n",
       "      <th>607</th>\n",
       "      <td>0</td>\n",
       "      <td>0</td>\n",
       "      <td>n/a</td>\n",
       "      <td>n/a</td>\n",
       "      <td>0</td>\n",
       "    </tr>\n",
       "    <tr>\n",
       "      <th>608</th>\n",
       "      <td>0</td>\n",
       "      <td>0</td>\n",
       "      <td>n/a</td>\n",
       "      <td>n/a</td>\n",
       "      <td>0</td>\n",
       "    </tr>\n",
       "    <tr>\n",
       "      <th>609</th>\n",
       "      <td>0</td>\n",
       "      <td>0</td>\n",
       "      <td>n/a</td>\n",
       "      <td>n/a</td>\n",
       "      <td>0</td>\n",
       "    </tr>\n",
       "    <tr>\n",
       "      <th>610</th>\n",
       "      <td>0</td>\n",
       "      <td>0</td>\n",
       "      <td>n/a</td>\n",
       "      <td>n/a</td>\n",
       "      <td>0</td>\n",
       "    </tr>\n",
       "    <tr>\n",
       "      <th>611</th>\n",
       "      <td>0</td>\n",
       "      <td>0</td>\n",
       "      <td>n/a</td>\n",
       "      <td>n/a</td>\n",
       "      <td>0</td>\n",
       "    </tr>\n",
       "  </tbody>\n",
       "</table>\n",
       "<p>612 rows × 5 columns</p>\n",
       "</div>"
      ],
      "text/plain": [
       "     y_true  y_pred y_true_label y_pred_label  is_hidden\n",
       "0         0       0          n/a          n/a          0\n",
       "1         0       0          n/a          n/a          0\n",
       "2         0       0          n/a          n/a          0\n",
       "3         0       0          n/a          n/a          0\n",
       "4         0       0          n/a          n/a          0\n",
       "..      ...     ...          ...          ...        ...\n",
       "607       0       0          n/a          n/a          0\n",
       "608       0       0          n/a          n/a          0\n",
       "609       0       0          n/a          n/a          0\n",
       "610       0       0          n/a          n/a          0\n",
       "611       0       0          n/a          n/a          0\n",
       "\n",
       "[612 rows x 5 columns]"
      ]
     },
     "execution_count": 15,
     "metadata": {},
     "output_type": "execute_result"
    }
   ],
   "source": [
    "results = []\n",
    "with trange(len(dataloader)) as bar:\n",
    "    with torch.no_grad():\n",
    "        for x, y in dataloader:\n",
    "           \n",
    "            y_pred = torch.round(torch.nn.Softmax(dim=1)(model(x.to(DEVICE)).to('cpu'))).detach().numpy()\n",
    "            y_pred = y_pred[0].argmax()\n",
    "            y = y.item()           \n",
    "            \n",
    "            results.append({\n",
    "                'y_true': y,\n",
    "                'y_pred': y_pred,\n",
    "                'y_true_label': dataset.classes_reverse_dict[y], \n",
    "                'y_pred_label': dataset.classes_reverse_dict[y_pred]\n",
    "            })\n",
    "            bar.update(1)\n",
    "\n",
    "results_df = pd.DataFrame(results)\n",
    "results_df['is_hidden'] = dataset.df.is_hidden.values\n",
    "results_df"
   ]
  },
  {
   "cell_type": "code",
   "execution_count": 16,
   "id": "ad9f9358",
   "metadata": {},
   "outputs": [
    {
     "data": {
      "text/html": [
       "<div>\n",
       "<style scoped>\n",
       "    .dataframe tbody tr th:only-of-type {\n",
       "        vertical-align: middle;\n",
       "    }\n",
       "\n",
       "    .dataframe tbody tr th {\n",
       "        vertical-align: top;\n",
       "    }\n",
       "\n",
       "    .dataframe thead th {\n",
       "        text-align: right;\n",
       "    }\n",
       "</style>\n",
       "<table border=\"1\" class=\"dataframe\">\n",
       "  <thead>\n",
       "    <tr style=\"text-align: right;\">\n",
       "      <th></th>\n",
       "      <th>y_true</th>\n",
       "      <th>y_pred</th>\n",
       "      <th>y_true_label</th>\n",
       "      <th>y_pred_label</th>\n",
       "      <th>is_hidden</th>\n",
       "    </tr>\n",
       "  </thead>\n",
       "  <tbody>\n",
       "    <tr>\n",
       "      <th>43</th>\n",
       "      <td>0</td>\n",
       "      <td>2</td>\n",
       "      <td>n/a</td>\n",
       "      <td>icon</td>\n",
       "      <td>0</td>\n",
       "    </tr>\n",
       "    <tr>\n",
       "      <th>45</th>\n",
       "      <td>0</td>\n",
       "      <td>12</td>\n",
       "      <td>n/a</td>\n",
       "      <td>button</td>\n",
       "      <td>0</td>\n",
       "    </tr>\n",
       "    <tr>\n",
       "      <th>81</th>\n",
       "      <td>0</td>\n",
       "      <td>8</td>\n",
       "      <td>n/a</td>\n",
       "      <td>stepper</td>\n",
       "      <td>0</td>\n",
       "    </tr>\n",
       "    <tr>\n",
       "      <th>129</th>\n",
       "      <td>0</td>\n",
       "      <td>2</td>\n",
       "      <td>n/a</td>\n",
       "      <td>icon</td>\n",
       "      <td>0</td>\n",
       "    </tr>\n",
       "    <tr>\n",
       "      <th>179</th>\n",
       "      <td>0</td>\n",
       "      <td>15</td>\n",
       "      <td>n/a</td>\n",
       "      <td>typography</td>\n",
       "      <td>0</td>\n",
       "    </tr>\n",
       "    <tr>\n",
       "      <th>421</th>\n",
       "      <td>0</td>\n",
       "      <td>12</td>\n",
       "      <td>n/a</td>\n",
       "      <td>button</td>\n",
       "      <td>0</td>\n",
       "    </tr>\n",
       "    <tr>\n",
       "      <th>452</th>\n",
       "      <td>0</td>\n",
       "      <td>2</td>\n",
       "      <td>n/a</td>\n",
       "      <td>icon</td>\n",
       "      <td>0</td>\n",
       "    </tr>\n",
       "    <tr>\n",
       "      <th>479</th>\n",
       "      <td>0</td>\n",
       "      <td>12</td>\n",
       "      <td>n/a</td>\n",
       "      <td>button</td>\n",
       "      <td>0</td>\n",
       "    </tr>\n",
       "    <tr>\n",
       "      <th>492</th>\n",
       "      <td>0</td>\n",
       "      <td>2</td>\n",
       "      <td>n/a</td>\n",
       "      <td>icon</td>\n",
       "      <td>0</td>\n",
       "    </tr>\n",
       "    <tr>\n",
       "      <th>548</th>\n",
       "      <td>0</td>\n",
       "      <td>12</td>\n",
       "      <td>n/a</td>\n",
       "      <td>button</td>\n",
       "      <td>0</td>\n",
       "    </tr>\n",
       "  </tbody>\n",
       "</table>\n",
       "</div>"
      ],
      "text/plain": [
       "     y_true  y_pred y_true_label y_pred_label  is_hidden\n",
       "43        0       2          n/a         icon          0\n",
       "45        0      12          n/a       button          0\n",
       "81        0       8          n/a      stepper          0\n",
       "129       0       2          n/a         icon          0\n",
       "179       0      15          n/a   typography          0\n",
       "421       0      12          n/a       button          0\n",
       "452       0       2          n/a         icon          0\n",
       "479       0      12          n/a       button          0\n",
       "492       0       2          n/a         icon          0\n",
       "548       0      12          n/a       button          0"
      ]
     },
     "execution_count": 16,
     "metadata": {},
     "output_type": "execute_result"
    }
   ],
   "source": [
    "results_df[results_df['y_pred_label'] != 'n/a']"
   ]
  },
  {
   "cell_type": "code",
   "execution_count": 17,
   "id": "d46a23a7",
   "metadata": {},
   "outputs": [
    {
     "data": {
      "text/html": [
       "<H2>Accuracy: 0.0 <H2>"
      ],
      "text/plain": [
       "<IPython.core.display.HTML object>"
      ]
     },
     "metadata": {},
     "output_type": "display_data"
    },
    {
     "name": "stdout",
     "output_type": "stream",
     "text": [
      "2021-08-27 15:52:47,939 -INFO - common.py:101 - Accuracy:  0/10 = 0.0, for 612 elements\n"
     ]
    },
    {
     "data": {
      "text/plain": [
       "0.0"
      ]
     },
     "execution_count": 17,
     "metadata": {},
     "output_type": "execute_result"
    }
   ],
   "source": [
    "accuracy(results_df)"
   ]
  },
  {
   "cell_type": "code",
   "execution_count": 18,
   "id": "42f275dc",
   "metadata": {},
   "outputs": [
    {
     "data": {
      "text/plain": [
       "['n/a',\n",
       " 'backdrop',\n",
       " 'icon',\n",
       " 'link',\n",
       " 'avatar',\n",
       " 'paper',\n",
       " 'bottom-navigation',\n",
       " 'menu',\n",
       " 'stepper',\n",
       " 'progress',\n",
       " 'box',\n",
       " 'dialog',\n",
       " 'button',\n",
       " 'card',\n",
       " 'switch',\n",
       " 'typography',\n",
       " 'container',\n",
       " 'table',\n",
       " 'popper',\n",
       " 'breadcrumbs',\n",
       " 'list',\n",
       " 'alert',\n",
       " 'chip',\n",
       " 'select',\n",
       " 'textarea-autosize',\n",
       " 'accordion',\n",
       " 'text-field',\n",
       " 'radio',\n",
       " 'checkbox',\n",
       " 'drawer',\n",
       " 'grid',\n",
       " 'popover',\n",
       " 'snackbar',\n",
       " 'radiogroup',\n",
       " 'slider',\n",
       " 'divider',\n",
       " 'badge',\n",
       " 'app-bar',\n",
       " 'button-group',\n",
       " 'tabs']"
      ]
     },
     "execution_count": 18,
     "metadata": {},
     "output_type": "execute_result"
    }
   ],
   "source": [
    "list(dataset.classes_dict.keys())"
   ]
  },
  {
   "cell_type": "code",
   "execution_count": 19,
   "id": "32362244",
   "metadata": {},
   "outputs": [],
   "source": [
    "confusion_matrix_df = pd.DataFrame(\n",
    "    confusion_matrix(y_true=results_df.y_true_label.values,\n",
    "                     y_pred=results_df.y_pred_label.values, \n",
    "                     labels=list(dataset.classes_dict.keys())\n",
    "                    ), \n",
    "    columns=list(dataset.classes_dict.keys()),\n",
    "    index=list(dataset.classes_dict.keys())\n",
    ")\n"
   ]
  },
  {
   "cell_type": "code",
   "execution_count": 20,
   "id": "b54fd677",
   "metadata": {},
   "outputs": [
    {
     "data": {
      "image/png": "[encoded data removed]",
      "text/plain": [
       "<Figure size 720x576 with 2 Axes>"
      ]
     },
     "metadata": {
      "needs_background": "light"
     },
     "output_type": "display_data"
    }
   ],
   "source": [
    "plt.figure(figsize=(10,8))\n",
    "sns.heatmap(confusion_matrix_df, annot=True, fmt=\"4d\", cmap=\"YlGnBu\");"
   ]
  },
  {
   "cell_type": "code",
   "execution_count": 21,
   "id": "48eb79a3",
   "metadata": {},
   "outputs": [],
   "source": [
    "dataset.df['label_text_predicted'] = results_df.y_pred_label.values"
   ]
  },
  {
   "cell_type": "code",
   "execution_count": 22,
   "id": "562bafae",
   "metadata": {},
   "outputs": [
    {
     "name": "stdout",
     "output_type": "stream",
     "text": [
      "(909, 1925)\n"
     ]
    },
    {
     "data": {
      "image/png": "[encoded data removed]",
      "text/plain": [
       "<Figure size 1080x509.984 with 1 Axes>"
      ]
     },
     "metadata": {
      "needs_background": "light"
     },
     "output_type": "display_data"
    }
   ],
   "source": [
    "gray_img = get_grey_image(f'MUI_model/dataset/images/{dataset_name}.png')\n",
    "print(gray_img.shape)\n",
    "\n",
    "IMG_SIZE = 15\n",
    "_h = gray_img.shape[0]/gray_img.shape[1]*IMG_SIZE\n",
    "_w = IMG_SIZE\n",
    "plt.figure(figsize=(_w, _h))\n",
    "\n",
    "plt.imshow(gray_img, cmap='gray')\n",
    "axes = plt.gca()\n",
    "\n",
    "for i, r in dataset.df[dataset.df.label_text_predicted != 'n/a'].iterrows():\n",
    "    #print(r.predicted_label, r.x, r.y, r.width, r.height)\n",
    "    \n",
    "    if (r.x<0) or (r.y<0) or (r.is_hidden == 1): # or (r.x>r.width): #or (r.y>r.height):\n",
    "        continue\n",
    "        \n",
    "    patch = Rectangle((r.x, r.y), r.width, r.height, linewidth=2, alpha = .2, facecolor = 'blue')\n",
    "    axes.add_patch(patch)\n",
    "    axes.text(r.x, r.y, r.label_text_predicted, color='white', backgroundcolor='blue')\n",
    "\n",
    "for i, r in dataset.df[dataset.df.label != dataset.classes_dict['n/a']].iterrows():\n",
    "    if r.is_hidden == 1:\n",
    "        continue\n",
    "    #print(r.predicted_label, r.x, r.y, r.width, r.height)\n",
    "    patch = Rectangle((r.x, r.y), r.width, r.height, linewidth=2, alpha = .2, facecolor = 'red')\n",
    "    axes.add_patch(patch)\n",
    "    axes.text(r.x+15, r.y+15, dataset.classes_reverse_dict[r.label], color='white', backgroundcolor='red')\n",
    "    "
   ]
  },
  {
   "cell_type": "code",
   "execution_count": null,
   "id": "06cbb75e",
   "metadata": {},
   "outputs": [],
   "source": []
  }
 ],
 "metadata": {
  "kernelspec": {
   "display_name": "Python 3 (ipykernel)",
   "language": "python",
   "name": "python3"
  },
  "language_info": {
   "codemirror_mode": {
    "name": "ipython",
    "version": 3
   },
   "file_extension": ".py",
   "mimetype": "text/x-python",
   "name": "python",
   "nbconvert_exporter": "python",
   "pygments_lexer": "ipython3",
   "version": "3.7.9"
  }
 },
 "nbformat": 4,
 "nbformat_minor": 5
}
