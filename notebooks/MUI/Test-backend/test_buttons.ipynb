{
 "cells": [
  {
   "cell_type": "code",
   "execution_count": 1,
   "metadata": {},
   "outputs": [],
   "source": [
    "from bs4 import BeautifulSoup\n",
    "import requests"
   ]
  },
  {
   "cell_type": "code",
   "execution_count": 18,
   "metadata": {},
   "outputs": [],
   "source": [
    "# page = requests.get(\"https://jdi-testing.github.io/jdi-light/material/buttons\")\n",
    "page = '<div class=\"jss54\"><button class=\"MuiButtonBase-root MuiButton-root MuiButton-contained\" tabindex=\"0\" type=\"button\"><span class=\"MuiButton-label\">Default</span><span class=\"MuiTouchRipple-root\"></span></button><button class=\"MuiButtonBase-root MuiButton-root MuiButton-contained MuiButton-containedPrimary\" tabindex=\"0\" type=\"button\"><span class=\"MuiButton-label\">Primary</span><span class=\"MuiTouchRipple-root\"></span></button><button class=\"MuiButtonBase-root MuiButton-root MuiButton-contained MuiButton-containedSecondary\" tabindex=\"0\" type=\"button\"><span class=\"MuiButton-label\">Secondary</span><span class=\"MuiTouchRipple-root\"></span></button><button class=\"MuiButtonBase-root MuiButton-root MuiButton-contained Mui-disabled Mui-disabled\" tabindex=\"-1\" type=\"button\" disabled=\"\"><span class=\"MuiButton-label\">Disabled</span></button><a class=\"MuiButtonBase-root MuiButton-root MuiButton-contained MuiButton-containedPrimary\" tabindex=\"0\" aria-disabled=\"false\" href=\"#simpleLastClick\"><span class=\"MuiButton-label\">Link</span><span class=\"MuiTouchRipple-root\"></span></a><p id=\"simpleLastClick\">Last click: </p></div>'\n",
    "page2 = '<div class=\"jss55\"><button class=\"MuiButtonBase-root MuiButton-root MuiButton-text\" tabindex=\"0\" type=\"button\"><span class=\"MuiButton-label\">Default</span><span class=\"MuiTouchRipple-root\"></span></button><button class=\"MuiButtonBase-root MuiButton-root MuiButton-text MuiButton-textPrimary\" tabindex=\"0\" type=\"button\"><span class=\"MuiButton-label\">Primary</span><span class=\"MuiTouchRipple-root\"></span></button><button class=\"MuiButtonBase-root MuiButton-root MuiButton-text MuiButton-textSecondary\" tabindex=\"0\" type=\"button\"><span class=\"MuiButton-label\">Secondary</span><span class=\"MuiTouchRipple-root\"></span></button><button class=\"MuiButtonBase-root MuiButton-root MuiButton-text Mui-disabled Mui-disabled\" tabindex=\"-1\" type=\"button\" disabled=\"\"><span class=\"MuiButton-label\">Disabled</span></button><a class=\"MuiButtonBase-root MuiButton-root MuiButton-text MuiButton-textPrimary\" tabindex=\"0\" aria-disabled=\"false\" href=\"#textLastClick\"><span class=\"MuiButton-label\">Link</span><span class=\"MuiTouchRipple-root\"></span></a><p id=\"textLastClick\">Last click: </p></div>'"
   ]
  },
  {
   "cell_type": "code",
   "execution_count": 19,
   "metadata": {},
   "outputs": [],
   "source": [
    "soup = BeautifulSoup(page, \"html.parser\")\n",
    "soup2 = BeautifulSoup(page2, \"html.parser\")"
   ]
  },
  {
   "cell_type": "code",
   "execution_count": 20,
   "metadata": {},
   "outputs": [],
   "source": [
    "allButtons = soup.findAll('button')\n",
    "allButtons2 = soup2.findAll('button')"
   ]
  },
  {
   "cell_type": "code",
   "execution_count": 22,
   "metadata": {},
   "outputs": [
    {
     "name": "stdout",
     "output_type": "stream",
     "text": [
      "<button class=\"MuiButtonBase-root MuiButton-root MuiButton-contained\" tabindex=\"0\" type=\"button\"><span class=\"MuiButton-label\">Default</span><span class=\"MuiTouchRipple-root\"></span></button>\n",
      "<button class=\"MuiButtonBase-root MuiButton-root MuiButton-contained MuiButton-containedPrimary\" tabindex=\"0\" type=\"button\"><span class=\"MuiButton-label\">Primary</span><span class=\"MuiTouchRipple-root\"></span></button>\n",
      "<button class=\"MuiButtonBase-root MuiButton-root MuiButton-contained MuiButton-containedSecondary\" tabindex=\"0\" type=\"button\"><span class=\"MuiButton-label\">Secondary</span><span class=\"MuiTouchRipple-root\"></span></button>\n",
      "<button class=\"MuiButtonBase-root MuiButton-root MuiButton-contained Mui-disabled Mui-disabled\" disabled=\"\" tabindex=\"-1\" type=\"button\"><span class=\"MuiButton-label\">Disabled</span></button>\n"
     ]
    }
   ],
   "source": [
    "for b in allButtons:\n",
    "    print(b)"
   ]
  },
  {
   "cell_type": "code",
   "execution_count": 23,
   "metadata": {},
   "outputs": [
    {
     "name": "stdout",
     "output_type": "stream",
     "text": [
      "<button class=\"MuiButtonBase-root MuiButton-root MuiButton-text\" tabindex=\"0\" type=\"button\"><span class=\"MuiButton-label\">Default</span><span class=\"MuiTouchRipple-root\"></span></button>\n",
      "<button class=\"MuiButtonBase-root MuiButton-root MuiButton-text MuiButton-textPrimary\" tabindex=\"0\" type=\"button\"><span class=\"MuiButton-label\">Primary</span><span class=\"MuiTouchRipple-root\"></span></button>\n",
      "<button class=\"MuiButtonBase-root MuiButton-root MuiButton-text MuiButton-textSecondary\" tabindex=\"0\" type=\"button\"><span class=\"MuiButton-label\">Secondary</span><span class=\"MuiTouchRipple-root\"></span></button>\n",
      "<button class=\"MuiButtonBase-root MuiButton-root MuiButton-text Mui-disabled Mui-disabled\" disabled=\"\" tabindex=\"-1\" type=\"button\"><span class=\"MuiButton-label\">Disabled</span></button>\n"
     ]
    }
   ],
   "source": [
    "for b in allButtons2:\n",
    "    print(b)"
   ]
  },
  {
   "cell_type": "code",
   "execution_count": null,
   "metadata": {},
   "outputs": [],
   "source": []
  }
 ],
 "metadata": {
  "interpreter": {
   "hash": "13c209e4579059eb9b33bacb9ad7adaf8e273a65ddbb1d43fdd32b331db54d25"
  },
  "kernelspec": {
   "display_name": "Python 3.9.7 64-bit ('nlp-env': conda)",
   "language": "python",
   "name": "python3"
  },
  "language_info": {
   "codemirror_mode": {
    "name": "ipython",
    "version": 3
   },
   "file_extension": ".py",
   "mimetype": "text/x-python",
   "name": "python",
   "nbconvert_exporter": "python",
   "pygments_lexer": "ipython3",
   "version": "3.9.7"
  },
  "orig_nbformat": 4
 },
 "nbformat": 4,
 "nbformat_minor": 2
}
