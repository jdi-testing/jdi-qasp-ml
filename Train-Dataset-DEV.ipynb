{
 "cells": [
  {
   "cell_type": "code",
   "execution_count": 1,
   "id": "included-express",
   "metadata": {},
   "outputs": [
    {
     "name": "stdout",
     "output_type": "stream",
     "text": [
      "2021-03-22 08:15:42,371 - INFO - dataset:dataset.py:27 - dataset package is loaded...\n"
     ]
    }
   ],
   "source": [
    "import os, sys, re, gc, glob\n",
    "import torch\n",
    "from torch.utils.data import Dataset, DataLoader\n",
    "\n",
    "import pandas as pd\n",
    "import numpy as np\n",
    "import matplotlib.pyplot as plt\n",
    "\n",
    "from utils import logger, assign_labels, build_children_features\n",
    "from IPython.display import display, clear_output, HTML\n",
    "import datetime as dt\n",
    "\n",
    "from sklearn.feature_extraction.text import CountVectorizer\n",
    "from sklearn.preprocessing import OneHotEncoder\n",
    "from scipy.sparse import hstack\n",
    "import pickle\n",
    "\n",
    "from tqdm.auto import trange\n",
    "from collections import Counter\n",
    "\n",
    "START_DT = dt.datetime.now()\n"
   ]
  },
  {
   "cell_type": "code",
   "execution_count": null,
   "id": "noted-volunteer",
   "metadata": {},
   "outputs": [],
   "source": []
  },
  {
   "cell_type": "code",
   "execution_count": null,
   "id": "blind-corporation",
   "metadata": {},
   "outputs": [],
   "source": []
  },
  {
   "cell_type": "code",
   "execution_count": 2,
   "id": "ceramic-theater",
   "metadata": {},
   "outputs": [],
   "source": [
    "class JDIDataset(Dataset):\n",
    "    \n",
    "    def __init__(self, dataset_names:list=None, rebalance=False):\n",
    "        super(JDIDataset, self).__init__()\n",
    "        self.rebalanced = rebalance\n",
    "               \n",
    "        with open('dataset/classes.txt', 'r') as f:\n",
    "            self.classes_dict = { class_name.strip():i for i, class_name in enumerate(f.readlines()) }\n",
    "            self.classes_reverse_dict = { v:k for k, v in self.classes_dict.items()}\n",
    "        self.dummy_class_value = self.classes_dict['n/a']\n",
    "            \n",
    "        if dataset_names is None:\n",
    "            logger.warning('Using all available data to generate dataset')\n",
    "            dataset_names = self._gen_dataset_names()\n",
    "            \n",
    "        logger.info(f\"List of dataset_names:{dataset_names}\")\n",
    "        \n",
    "        ds_list=[] # list of datasets to join\n",
    "        \n",
    "        for ds_name in dataset_names:\n",
    "            logger.info(f'Dataset for {ds_name}')\n",
    "            df = pd.read_parquet(f'dataset/df/{ds_name}.parquet')\n",
    "            logger.info(f\"Dataset shape: {df.shape}\")\n",
    "\n",
    "            logger.info('cleaning tag_name from dummy/auxiliary words')\n",
    "            df.tag_name = df.tag_name.apply(lambda x: x.lower().replace('-example', ''))\n",
    "            df = build_children_features(df=df)\n",
    "\n",
    "            #----------------------------------------------------------------------------------------------\n",
    "            # Merge children with parents\n",
    "            # WARNING: There is a tag <HTML> without parent. Let's fix this issue\n",
    "            df.parent_id = df.apply(lambda r: r.element_id if r.parent_id is None else r.parent_id, axis=1)            \n",
    "            df = df.merge(df, left_on='parent_id', right_on='element_id', suffixes=('', '_parent'))\n",
    "            logger.info(f\"Dataset shape after merging with parents: {df.shape}\")\n",
    "            #----------------------------------------------------------------------------------------------\n",
    "            \n",
    "            # If annotation file exists, lets load it and assign labels\n",
    "            if os.path.exists(f'dataset/annotations/{ds_name}.txt'):\n",
    "                logger.warning(f'Load LABELS from dataset/annotations/{ds_name}.txt')\n",
    "                df = assign_labels(df, annotations_file_path=f'dataset/annotations/{ds_name}.txt', \n",
    "                                       img=plt.imread(f'dataset/images/{ds_name}.png'),\n",
    "                                       dummy_value = self.dummy_class_value\n",
    "                                  )\n",
    "            else:\n",
    "                logger.warning(f'assign dummy values [n/a] for labels if there is no annotations')\n",
    "                df['label'] = self.dummy_class_value\n",
    "            \n",
    "            df['ds_name'] = ds_name\n",
    "            ds_list.append(df)            \n",
    "                \n",
    "        logger.info('Concatenate datasets')\n",
    "        self.dataset = pd.concat(ds_list)\n",
    "        logger.info(f\"Dataset shape after reading: {self.dataset.shape}\")\n",
    "        \n",
    "        if rebalance:\n",
    "            self._oversample()\n",
    "        \n",
    "        ### add ohe_ columns to one hot encoding several attributes\n",
    "        for attr in ['role', 'type', 'ui']:\n",
    "            logger.info(f'Build OHE column for attribute {attr}')\n",
    "            self.dataset['ohe_' + attr] = self.dataset['attributes'].apply(lambda x: x.get(attr)).fillna(\"\").str.lower()\n",
    "            \n",
    "        for attr in ['role', 'type', 'ui']:\n",
    "            logger.info(f'Build OHE column for attribute {attr}_parent')\n",
    "            self.dataset['ohe_' + attr+'_parent'] = self.dataset['attributes_parent'].apply(lambda x: x.get(attr)).fillna(\"\").str.lower()\n",
    "            \n",
    "        logger.info('OHE tag_name')\n",
    "        self.tag_name_sm = self._ohe_column('tag_name')\n",
    "        logger.info(f'tag_name_sm.shape: {self.tag_name_sm.shape}')\n",
    "\n",
    "        logger.info('OHE tag_name_parent')\n",
    "        self.tag_name_parent_sm = self._ohe_column(colname='tag_name_parent', ohe_file_path='model/tag_name.pkl')\n",
    "        logger.info(f'tag_name_parent_sm.shape: {self.tag_name_parent_sm.shape}')\n",
    "\n",
    "        logger.info('OHE ohe_role')\n",
    "        self.ohe_role_sm = self._ohe_column('ohe_role')\n",
    "        logger.info(f'ohe_role_sm.shape: {self.ohe_role_sm.shape}')\n",
    "\n",
    "        logger.info('OHE ohe_role_parent')\n",
    "        self.ohe_role_parent_sm = self._ohe_column(colname='ohe_role_parent', ohe_file_path='model/ohe_role.pkl')\n",
    "        logger.info(f'ohe_role_parent_sm.shape: {self.ohe_role_parent_sm.shape}')\n",
    "        \n",
    "        logger.info('OHE ohe_type')\n",
    "        self.ohe_type_sm = self._ohe_column('ohe_type')\n",
    "        logger.info(f'ohe_type_sm.shape: {self.ohe_type_sm.shape}')\n",
    "\n",
    "        logger.info('OHE ohe_type_parent')\n",
    "        self.ohe_type_parent_sm = self._ohe_column(colname='ohe_type_parent', ohe_file_path='model/ohe_type.pkl')\n",
    "        logger.info(f'ohe_type_parent_sm.shape: {self.ohe_type_parent_sm.shape}')\n",
    "        \n",
    "        logger.info('OHE ohe_ui')\n",
    "        self.ohe_ui_sm = self._ohe_column('ohe_ui')\n",
    "        logger.info(f'ohe_ui_sm.shape: {self.ohe_ui_sm.shape}')\n",
    "\n",
    "        logger.info('OHE ohe_ui_parent')\n",
    "        self.ohe_ui_parent_sm = self._ohe_column('ohe_ui_parent', ohe_file_path='model/ohe_ui.pkl')\n",
    "        logger.info(f'ohe_ui_parent_sm.shape: {self.ohe_ui_parent_sm.shape}')\n",
    "        \n",
    "        ## extract all non null attributes names\n",
    "        self.dataset['attributes_text'] = self.dataset.attributes.apply(lambda x: \" \".join([k for k in x.keys() if x[k] is not None ]))\n",
    "        logger.info('Fit CountVectorizer for column \"attributes\"')\n",
    "        self.attributes_sm = self._count_vectorizer_column('attributes_text')\n",
    "        logger.info(f'attributes_sm.shape: {self.attributes_sm.shape}')\n",
    "\n",
    "        ## extract all non null attributes names\n",
    "        self.dataset['attributes_parent_text'] = self.dataset.attributes_parent.apply(lambda x: \" \".join([k for k in x.keys() if x[k] is not None ]))\n",
    "        logger.info('Fit CountVectorizer for column \"attributes_parent\"')\n",
    "        self.attributes_parent_sm = self._count_vectorizer_column(colname='attributes_parent_text', \n",
    "                                                                  file_path='model/count_vectorizer_attributes_text.pkl')\n",
    "        logger.info(f'attributes_parent_sm.shape: {self.attributes_parent_sm.shape}')\n",
    "        \n",
    "        self._extract_features()\n",
    "        \n",
    "        self.labels = self.dataset.label.astype(int).map(self.classes_reverse_dict)\n",
    "        self.dataset.label = self.dataset.label.astype(int)\n",
    "        \n",
    "        self.data = hstack([\n",
    "                    self.attributes_sm, \n",
    "                    self.tag_name_sm, \n",
    "                    self.ohe_role_sm, \n",
    "                    self.ohe_type_sm, \n",
    "                    self.ohe_ui_sm,\n",
    "                    self.tag_name_parent_sm,\n",
    "                    self.ohe_type_parent_sm,\n",
    "                    self.ohe_role_parent_sm,\n",
    "                    self.ohe_ui_parent_sm,\n",
    "                    self.attributes_parent_sm,\n",
    "                    self.features_df.values\n",
    "                  ]).astype(np.float32)\n",
    "        \n",
    "        logger.info(f'OHE columns sparse matrix: {self.data.shape}')\n",
    "        \n",
    "    def __len__(self):\n",
    "        return self.data.shape[0]\n",
    "    \n",
    "    def __getitem__(self, idx):\n",
    "        return np.array(self.data.getrow(idx).todense()[0]).squeeze(), self.dataset.iloc[idx]['label']\n",
    "    \n",
    "\n",
    "    def _oversample(self):\n",
    "        logger.warning('Oversample data to balance the dataset, this will create duplicated rows in dataset')\n",
    "        \n",
    "        class_counts = [ r for r in self.dataset.label.value_counts().sort_values(ascending=False).items()]\n",
    "        max_count = class_counts[0][1]\n",
    "\n",
    "        dfs = [self.dataset]\n",
    "        for cc in class_counts[1:]:\n",
    "            ratio = max_count//cc[1]\n",
    "            ratio = 20 if ratio >= 20 else ratio\n",
    "            for _ in range(ratio):\n",
    "                dfs.append(self.dataset[self.dataset.label == cc[0]].copy())\n",
    "\n",
    "        self.dataset = pd.concat(dfs)\n",
    "        logger.warning(f'Rebalanced dataset size: {self.dataset.shape[0]}')\n",
    "        \n",
    "                \n",
    "    def _ohe_column(self, colname, ohe_file_path=None):\n",
    "        \"\"\"\n",
    "            load attr_ohe if exists model/attr_ohe.pkl\n",
    "            otherwise build the one\n",
    "        \"\"\"\n",
    "        if ohe_file_path is None:\n",
    "            file_path = f'model/{colname}.pkl'\n",
    "        else:\n",
    "            file_path = ohe_file_path\n",
    "            \n",
    "        if os.path.exists(file_path):\n",
    "            logger.warning(f'loading existing OHE for column \"{colname}\" from {file_path}')\n",
    "            with open(file_path,'rb') as f: \n",
    "                ohe = pickle.load(f)\n",
    "        else:\n",
    "            logger.warning(f'Create and fit OHE for column \"{colname}\"')\n",
    "            ohe = OneHotEncoder(handle_unknown='ignore')\n",
    "            ohe.fit(np.expand_dims(self.dataset[colname].values, axis=1))            \n",
    "            with open(file_path, 'wb') as f:\n",
    "                pickle.dump(ohe, f)\n",
    "                \n",
    "        sm = ohe.transform(np.expand_dims(self.dataset[colname].values, axis=1))        \n",
    "        return sm\n",
    "        \n",
    "    def _count_vectorizer_column(self, colname, file_path=None):\n",
    "        \"\"\"\n",
    "            load count_vercorizer for a column if a pkl file exists\n",
    "            otherwise create the one\n",
    "        \"\"\"\n",
    "        if file_path is None:\n",
    "            file_path = f'model/count_vectorizer_{colname}.pkl'\n",
    "            \n",
    "        if os.path.exists(file_path):\n",
    "            logger.warning(f'loading existing count vectorizer for column \"{colname}\" from {file_path}')\n",
    "            with open(file_path,'rb') as f: \n",
    "                vectorizer = pickle.load(f)\n",
    "            self.vocabulary = vectorizer.vocabulary_\n",
    "        else:\n",
    "            logger.warning(f'Create and fit count vectorizer for column \"{colname}\"')\n",
    "            vectorizer = CountVectorizer(vocabulary=self._build_vocabulary())\n",
    "            vectorizer.fit(self.dataset[colname].values)            \n",
    "            with open(file_path, 'wb') as f:\n",
    "                pickle.dump(vectorizer, f)\n",
    "                \n",
    "        sm = vectorizer.transform(self.dataset[colname].values)\n",
    "        return sm\n",
    "    \n",
    "    def _build_vocabulary(self):\n",
    "        \n",
    "        \"\"\"\n",
    "            Attempt to reduce number of features by removing rarely used attributes\n",
    "        \"\"\"\n",
    "        \n",
    "        attributes_usage = Counter()\n",
    "        for attr_list in self.dataset.attributes.apply(lambda x: [field for field in x if x[field] is not None]).values:\n",
    "            attributes_usage.update(attr_list)\n",
    "            \n",
    "        attributes_usasge_df = pd.DataFrame( \n",
    "            [[attribute, cnt] for attribute, cnt in attributes_usage.items()], \n",
    "            columns=['attribute', 'cnt']\n",
    "        ).sort_values(by='cnt', ascending=False)\n",
    "\n",
    "        ## Lets cut off attributes which are rarely used\n",
    "        attributes_list_df = attributes_usasge_df[attributes_usasge_df.cnt>1].copy()\n",
    "        \n",
    "        attr_unique_values_map = { \n",
    "                                    attr:self.dataset['attributes'].apply(lambda x: x.get(attr)).nunique() \n",
    "                                         for attr in (attributes_list_df.attribute.values)\n",
    "                                 }\n",
    "        attributes_list_df['num_unique_values'] = attributes_list_df.attribute.map(attr_unique_values_map)\n",
    "        attributes_list_df['k'] = attributes_list_df.cnt/attributes_list_df.num_unique_values\n",
    "        \n",
    "        attributes_list_df = attributes_list_df[(attributes_list_df.k>2.0) & (attributes_list_df.num_unique_values>1)]\\\n",
    "                                    .sort_values(by='cnt', ascending=False).copy()\n",
    "        \n",
    "        self.vocabulary = { w:i for i,w in enumerate(sorted(attributes_list_df.attribute.values))}\n",
    "        return self.vocabulary\n",
    "        \n",
    "        \n",
    "    def _extract_features(self):\n",
    "        self.features_df = self.dataset[[\n",
    "            #'tag_name_parent',\n",
    "            #'tag_name',\n",
    "            'width', \n",
    "            'height', \n",
    "            'width_parent', \n",
    "            'height_parent', \n",
    "            'x', \n",
    "            'x_parent', \n",
    "            'y', \n",
    "            'y_parent',\n",
    "            'is_leaf',\n",
    "            'is_leaf_parent',\n",
    "            'num_leafs',\n",
    "            #'num_leafs_parent',\n",
    "            'num_children',\n",
    "            'num_children_parent',\n",
    "            'sum_children_widths',\n",
    "            'sum_children_widths_parent',\n",
    "            'sum_children_hights',\n",
    "            'sum_children_hights_parent',\n",
    "            'displayed',\n",
    "            #'onmouseenter'\n",
    "        ]].copy()\n",
    "        \n",
    "        self.features_df.sum_children_hights = (self.features_df.sum_children_hights/self.features_df.num_children).fillna(-1)\n",
    "        self.features_df.sum_children_hights_parent = (self.features_df.sum_children_hights_parent/self.features_df.num_children_parent).fillna(-1)\n",
    "        self.features_df.sum_children_widths = (self.features_df.sum_children_widths/self.features_df.num_children).fillna(-1)\n",
    "        self.features_df.sum_children_widths_parent = (self.features_df.sum_children_widths_parent/self.features_df.num_children_parent).fillna(-1)\n",
    "\n",
    "        self.features_df.x = (self.features_df.x < 0).astype(int)\n",
    "        self.features_df.y = (self.features_df.y < 0).astype(int)\n",
    "        self.features_df.x_parent = (self.features_df.x_parent < 0).astype(int)\n",
    "        self.features_df.y_parent = (self.features_df.y_parent < 0).astype(int)\n",
    "        self.features_df['w'] = (self.features_df.width <= 2).astype(int)\n",
    "        self.features_df['w_parent'] = (self.features_df.width_parent <= 2).astype(int)\n",
    "        self.features_df['h'] = (self.features_df.height <= 2).astype(int)\n",
    "        self.features_df['h_parent'] = (self.features_df.height_parent <= 2).astype(int)\n",
    "        self.features_df.displayed = self.features_df.displayed.astype(int)\n",
    "        \n",
    "        \n",
    "        \n",
    "        \n",
    "    def _find_dataset_names(self, path_mask='dataset/df/*.parquet'):\n",
    "        return  set([re.sub( '.*[/\\\\\\]', '', re.sub('\\\\..*$', '', os.path.normpath(fn)))\n",
    "                    for fn in glob.glob(path_mask)])\n",
    "\n",
    "\n",
    "    def _gen_dataset_names(self):\n",
    "            dfs = self._find_dataset_names('dataset/df/*.parquet')\n",
    "            imgs = self._find_dataset_names('dataset/images/*.png')\n",
    "            anns = self._find_dataset_names('dataset/annotations/*.txt')\n",
    "\n",
    "            return (dfs.intersection(imgs)).intersection(anns)\n",
    "        \n",
    "    \n",
    "\n",
    "    "
   ]
  },
  {
   "cell_type": "code",
   "execution_count": 3,
   "id": "eastern-bathroom",
   "metadata": {
    "scrolled": true
   },
   "outputs": [
    {
     "name": "stdout",
     "output_type": "stream",
     "text": [
      "2021-03-22 08:15:42,468 - WARNING - <ipython-input-2-e1d8b3799ba9>:<ipython-input-2-e1d8b3799ba9>:13 - Using all available data to generate dataset\n",
      "2021-03-22 08:15:42,471 - INFO - <ipython-input-2-e1d8b3799ba9>:<ipython-input-2-e1d8b3799ba9>:16 - List of dataset_names:{'table-with-pages', 'angular', 'bootstrap-form', 'user-table', 'dates', 'support', 'bootstrap', 'contact-form', 'react-ant', 'login', 'bootstrap-forms', 'search', 'complex-table', 'metals-and-colors', 'mobile-and-html-5', 'html-5', 'different-elemants', 'performance'}\n",
      "2021-03-22 08:15:42,471 - INFO - <ipython-input-2-e1d8b3799ba9>:<ipython-input-2-e1d8b3799ba9>:21 - Dataset for table-with-pages\n",
      "2021-03-22 08:15:42,526 - INFO - <ipython-input-2-e1d8b3799ba9>:<ipython-input-2-e1d8b3799ba9>:23 - Dataset shape: (312, 13)\n",
      "2021-03-22 08:15:42,527 - INFO - <ipython-input-2-e1d8b3799ba9>:<ipython-input-2-e1d8b3799ba9>:25 - cleaning tag_name from dummy/auxiliary words\n",
      "2021-03-22 08:15:42,528 - INFO - dataset:dataset.py:56 - select all leafs (nodes which are not parents)\n",
      "2021-03-22 08:15:42,529 - INFO - dataset:dataset.py:58 - Leafs set size: 146 (nodes which have no children)\n",
      "2021-03-22 08:15:42,530 - INFO - dataset:dataset.py:61 - count number of references to leafs\n",
      "2021-03-22 08:15:42,532 - INFO - dataset:dataset.py:63 - Nodes with leafs as children set size: 94 (nodes which have leafs as children)\n",
      "2021-03-22 08:15:42,533 - INFO - dataset:dataset.py:66 - count num children for each node\n",
      "2021-03-22 08:15:42,534 - INFO - dataset:dataset.py:68 - Nodes with children: 167\n",
      "2021-03-22 08:15:42,535 - INFO - dataset:dataset.py:71 - sum of children widths, heights, counts\n",
      "2021-03-22 08:15:42,539 - INFO - dataset:dataset.py:76 - Sum of children widths\n",
      "2021-03-22 08:15:42,542 - INFO - dataset:dataset.py:80 - Sum of children hights\n",
      "2021-03-22 08:15:42,557 - INFO - <ipython-input-2-e1d8b3799ba9>:<ipython-input-2-e1d8b3799ba9>:34 - Dataset shape after merging with parents: (312, 36)\n",
      "2021-03-22 08:15:42,558 - WARNING - <ipython-input-2-e1d8b3799ba9>:<ipython-input-2-e1d8b3799ba9>:39 - Load LABELS from dataset/annotations/table-with-pages.txt\n"
     ]
    },
    {
     "data": {
      "application/vnd.jupyter.widget-view+json": {
       "model_id": "5ec6487546f8462fb95abbfbf3d81c51",
       "version_major": 2,
       "version_minor": 0
      },
      "text/plain": [
       "Assigning labels:   0%|          | 0/46 [00:00<?, ?it/s]"
      ]
     },
     "metadata": {},
     "output_type": "display_data"
    },
    {
     "name": "stdout",
     "output_type": "stream",
     "text": [
      "2021-03-22 08:15:42,837 - INFO - <ipython-input-2-e1d8b3799ba9>:<ipython-input-2-e1d8b3799ba9>:21 - Dataset for angular\n",
      "2021-03-22 08:15:43,760 - INFO - <ipython-input-2-e1d8b3799ba9>:<ipython-input-2-e1d8b3799ba9>:23 - Dataset shape: (6450, 13)\n",
      "2021-03-22 08:15:43,761 - INFO - <ipython-input-2-e1d8b3799ba9>:<ipython-input-2-e1d8b3799ba9>:25 - cleaning tag_name from dummy/auxiliary words\n",
      "2021-03-22 08:15:43,765 - INFO - dataset:dataset.py:56 - select all leafs (nodes which are not parents)\n",
      "2021-03-22 08:15:43,767 - INFO - dataset:dataset.py:58 - Leafs set size: 3250 (nodes which have no children)\n",
      "2021-03-22 08:15:43,771 - INFO - dataset:dataset.py:61 - count number of references to leafs\n",
      "2021-03-22 08:15:43,775 - INFO - dataset:dataset.py:63 - Nodes with leafs as children set size: 1750 (nodes which have leafs as children)\n",
      "2021-03-22 08:15:43,780 - INFO - dataset:dataset.py:66 - count num children for each node\n",
      "2021-03-22 08:15:43,782 - INFO - dataset:dataset.py:68 - Nodes with children: 3201\n",
      "2021-03-22 08:15:43,787 - INFO - dataset:dataset.py:71 - sum of children widths, heights, counts\n",
      "2021-03-22 08:15:43,793 - INFO - dataset:dataset.py:76 - Sum of children widths\n",
      "2021-03-22 08:15:43,800 - INFO - dataset:dataset.py:80 - Sum of children hights\n",
      "2021-03-22 08:15:43,921 - INFO - <ipython-input-2-e1d8b3799ba9>:<ipython-input-2-e1d8b3799ba9>:34 - Dataset shape after merging with parents: (6450, 36)\n",
      "2021-03-22 08:15:43,922 - WARNING - <ipython-input-2-e1d8b3799ba9>:<ipython-input-2-e1d8b3799ba9>:39 - Load LABELS from dataset/annotations/angular.txt\n"
     ]
    },
    {
     "data": {
      "application/vnd.jupyter.widget-view+json": {
       "model_id": "2e76657be5224ebb8cd0f9b10b536398",
       "version_major": 2,
       "version_minor": 0
      },
      "text/plain": [
       "Assigning labels:   0%|          | 0/526 [00:00<?, ?it/s]"
      ]
     },
     "metadata": {},
     "output_type": "display_data"
    },
    {
     "name": "stdout",
     "output_type": "stream",
     "text": [
      "2021-03-22 08:15:50,956 - INFO - <ipython-input-2-e1d8b3799ba9>:<ipython-input-2-e1d8b3799ba9>:21 - Dataset for bootstrap-form\n",
      "2021-03-22 08:15:50,995 - INFO - <ipython-input-2-e1d8b3799ba9>:<ipython-input-2-e1d8b3799ba9>:23 - Dataset shape: (814, 13)\n",
      "2021-03-22 08:15:50,995 - INFO - <ipython-input-2-e1d8b3799ba9>:<ipython-input-2-e1d8b3799ba9>:25 - cleaning tag_name from dummy/auxiliary words\n",
      "2021-03-22 08:15:50,997 - INFO - dataset:dataset.py:56 - select all leafs (nodes which are not parents)\n",
      "2021-03-22 08:15:50,997 - INFO - dataset:dataset.py:58 - Leafs set size: 475 (nodes which have no children)\n",
      "2021-03-22 08:15:50,998 - INFO - dataset:dataset.py:61 - count number of references to leafs\n",
      "2021-03-22 08:15:51,000 - INFO - dataset:dataset.py:63 - Nodes with leafs as children set size: 231 (nodes which have leafs as children)\n",
      "2021-03-22 08:15:51,001 - INFO - dataset:dataset.py:66 - count num children for each node\n",
      "2021-03-22 08:15:51,002 - INFO - dataset:dataset.py:68 - Nodes with children: 340\n",
      "2021-03-22 08:15:51,003 - INFO - dataset:dataset.py:71 - sum of children widths, heights, counts\n",
      "2021-03-22 08:15:51,006 - INFO - dataset:dataset.py:76 - Sum of children widths\n",
      "2021-03-22 08:15:51,009 - INFO - dataset:dataset.py:80 - Sum of children hights\n",
      "2021-03-22 08:15:51,030 - INFO - <ipython-input-2-e1d8b3799ba9>:<ipython-input-2-e1d8b3799ba9>:34 - Dataset shape after merging with parents: (814, 36)\n",
      "2021-03-22 08:15:51,031 - WARNING - <ipython-input-2-e1d8b3799ba9>:<ipython-input-2-e1d8b3799ba9>:39 - Load LABELS from dataset/annotations/bootstrap-form.txt\n"
     ]
    },
    {
     "data": {
      "application/vnd.jupyter.widget-view+json": {
       "model_id": "47f1ac363b0546f5a37513fb5b20672f",
       "version_major": 2,
       "version_minor": 0
      },
      "text/plain": [
       "Assigning labels:   0%|          | 0/160 [00:00<?, ?it/s]"
      ]
     },
     "metadata": {},
     "output_type": "display_data"
    },
    {
     "name": "stdout",
     "output_type": "stream",
     "text": [
      "2021-03-22 08:15:51,434 - INFO - <ipython-input-2-e1d8b3799ba9>:<ipython-input-2-e1d8b3799ba9>:21 - Dataset for user-table\n",
      "2021-03-22 08:15:51,451 - INFO - <ipython-input-2-e1d8b3799ba9>:<ipython-input-2-e1d8b3799ba9>:23 - Dataset shape: (369, 13)\n",
      "2021-03-22 08:15:51,452 - INFO - <ipython-input-2-e1d8b3799ba9>:<ipython-input-2-e1d8b3799ba9>:25 - cleaning tag_name from dummy/auxiliary words\n",
      "2021-03-22 08:15:51,453 - INFO - dataset:dataset.py:56 - select all leafs (nodes which are not parents)\n",
      "2021-03-22 08:15:51,454 - INFO - dataset:dataset.py:58 - Leafs set size: 178 (nodes which have no children)\n",
      "2021-03-22 08:15:51,455 - INFO - dataset:dataset.py:61 - count number of references to leafs\n",
      "2021-03-22 08:15:51,456 - INFO - dataset:dataset.py:63 - Nodes with leafs as children set size: 117 (nodes which have leafs as children)\n",
      "2021-03-22 08:15:51,457 - INFO - dataset:dataset.py:66 - count num children for each node\n",
      "2021-03-22 08:15:51,457 - INFO - dataset:dataset.py:68 - Nodes with children: 192\n",
      "2021-03-22 08:15:51,458 - INFO - dataset:dataset.py:71 - sum of children widths, heights, counts\n",
      "2021-03-22 08:15:51,461 - INFO - dataset:dataset.py:76 - Sum of children widths\n",
      "2021-03-22 08:15:51,463 - INFO - dataset:dataset.py:80 - Sum of children hights\n",
      "2021-03-22 08:15:51,477 - INFO - <ipython-input-2-e1d8b3799ba9>:<ipython-input-2-e1d8b3799ba9>:34 - Dataset shape after merging with parents: (369, 36)\n",
      "2021-03-22 08:15:51,478 - WARNING - <ipython-input-2-e1d8b3799ba9>:<ipython-input-2-e1d8b3799ba9>:39 - Load LABELS from dataset/annotations/user-table.txt\n"
     ]
    },
    {
     "data": {
      "application/vnd.jupyter.widget-view+json": {
       "model_id": "17ca5259112e4289b002726c8dc2ae06",
       "version_major": 2,
       "version_minor": 0
      },
      "text/plain": [
       "Assigning labels:   0%|          | 0/58 [00:00<?, ?it/s]"
      ]
     },
     "metadata": {},
     "output_type": "display_data"
    },
    {
     "name": "stdout",
     "output_type": "stream",
     "text": [
      "2021-03-22 08:15:51,559 - INFO - <ipython-input-2-e1d8b3799ba9>:<ipython-input-2-e1d8b3799ba9>:21 - Dataset for dates\n",
      "2021-03-22 08:15:51,574 - INFO - <ipython-input-2-e1d8b3799ba9>:<ipython-input-2-e1d8b3799ba9>:23 - Dataset shape: (316, 13)\n",
      "2021-03-22 08:15:51,574 - INFO - <ipython-input-2-e1d8b3799ba9>:<ipython-input-2-e1d8b3799ba9>:25 - cleaning tag_name from dummy/auxiliary words\n",
      "2021-03-22 08:15:51,576 - INFO - dataset:dataset.py:56 - select all leafs (nodes which are not parents)\n",
      "2021-03-22 08:15:51,578 - INFO - dataset:dataset.py:58 - Leafs set size: 138 (nodes which have no children)\n",
      "2021-03-22 08:15:51,578 - INFO - dataset:dataset.py:61 - count number of references to leafs\n",
      "2021-03-22 08:15:51,579 - INFO - dataset:dataset.py:63 - Nodes with leafs as children set size: 101 (nodes which have leafs as children)\n",
      "2021-03-22 08:15:51,580 - INFO - dataset:dataset.py:66 - count num children for each node\n",
      "2021-03-22 08:15:51,581 - INFO - dataset:dataset.py:68 - Nodes with children: 179\n",
      "2021-03-22 08:15:51,582 - INFO - dataset:dataset.py:71 - sum of children widths, heights, counts\n",
      "2021-03-22 08:15:51,585 - INFO - dataset:dataset.py:76 - Sum of children widths\n",
      "2021-03-22 08:15:51,588 - INFO - dataset:dataset.py:80 - Sum of children hights\n",
      "2021-03-22 08:15:51,600 - INFO - <ipython-input-2-e1d8b3799ba9>:<ipython-input-2-e1d8b3799ba9>:34 - Dataset shape after merging with parents: (316, 36)\n",
      "2021-03-22 08:15:51,601 - WARNING - <ipython-input-2-e1d8b3799ba9>:<ipython-input-2-e1d8b3799ba9>:39 - Load LABELS from dataset/annotations/dates.txt\n"
     ]
    },
    {
     "data": {
      "application/vnd.jupyter.widget-view+json": {
       "model_id": "1731d3af76654c0f939a77975e9ab7f1",
       "version_major": 2,
       "version_minor": 0
      },
      "text/plain": [
       "Assigning labels:   0%|          | 0/48 [00:00<?, ?it/s]"
      ]
     },
     "metadata": {},
     "output_type": "display_data"
    },
    {
     "name": "stdout",
     "output_type": "stream",
     "text": [
      "2021-03-22 08:15:51,669 - INFO - <ipython-input-2-e1d8b3799ba9>:<ipython-input-2-e1d8b3799ba9>:21 - Dataset for support\n",
      "2021-03-22 08:15:51,684 - INFO - <ipython-input-2-e1d8b3799ba9>:<ipython-input-2-e1d8b3799ba9>:23 - Dataset shape: (287, 13)\n",
      "2021-03-22 08:15:51,685 - INFO - <ipython-input-2-e1d8b3799ba9>:<ipython-input-2-e1d8b3799ba9>:25 - cleaning tag_name from dummy/auxiliary words\n",
      "2021-03-22 08:15:51,686 - INFO - dataset:dataset.py:56 - select all leafs (nodes which are not parents)\n",
      "2021-03-22 08:15:51,687 - INFO - dataset:dataset.py:58 - Leafs set size: 128 (nodes which have no children)\n",
      "2021-03-22 08:15:51,688 - INFO - dataset:dataset.py:61 - count number of references to leafs\n",
      "2021-03-22 08:15:51,689 - INFO - dataset:dataset.py:63 - Nodes with leafs as children set size: 90 (nodes which have leafs as children)\n",
      "2021-03-22 08:15:51,690 - INFO - dataset:dataset.py:66 - count num children for each node\n",
      "2021-03-22 08:15:51,690 - INFO - dataset:dataset.py:68 - Nodes with children: 160\n",
      "2021-03-22 08:15:51,692 - INFO - dataset:dataset.py:71 - sum of children widths, heights, counts\n",
      "2021-03-22 08:15:51,695 - INFO - dataset:dataset.py:76 - Sum of children widths\n",
      "2021-03-22 08:15:51,697 - INFO - dataset:dataset.py:80 - Sum of children hights\n",
      "2021-03-22 08:15:51,709 - INFO - <ipython-input-2-e1d8b3799ba9>:<ipython-input-2-e1d8b3799ba9>:34 - Dataset shape after merging with parents: (287, 36)\n",
      "2021-03-22 08:15:51,710 - WARNING - <ipython-input-2-e1d8b3799ba9>:<ipython-input-2-e1d8b3799ba9>:39 - Load LABELS from dataset/annotations/support.txt\n"
     ]
    },
    {
     "data": {
      "application/vnd.jupyter.widget-view+json": {
       "model_id": "a3ff6781caff4940bba2f96330ae096f",
       "version_major": 2,
       "version_minor": 0
      },
      "text/plain": [
       "Assigning labels:   0%|          | 0/40 [00:00<?, ?it/s]"
      ]
     },
     "metadata": {},
     "output_type": "display_data"
    },
    {
     "name": "stdout",
     "output_type": "stream",
     "text": [
      "2021-03-22 08:15:51,770 - INFO - <ipython-input-2-e1d8b3799ba9>:<ipython-input-2-e1d8b3799ba9>:21 - Dataset for bootstrap\n",
      "2021-03-22 08:15:51,822 - INFO - <ipython-input-2-e1d8b3799ba9>:<ipython-input-2-e1d8b3799ba9>:23 - Dataset shape: (1098, 13)\n",
      "2021-03-22 08:15:51,823 - INFO - <ipython-input-2-e1d8b3799ba9>:<ipython-input-2-e1d8b3799ba9>:25 - cleaning tag_name from dummy/auxiliary words\n",
      "2021-03-22 08:15:51,824 - INFO - dataset:dataset.py:56 - select all leafs (nodes which are not parents)\n",
      "2021-03-22 08:15:51,825 - INFO - dataset:dataset.py:58 - Leafs set size: 536 (nodes which have no children)\n",
      "2021-03-22 08:15:51,826 - INFO - dataset:dataset.py:61 - count number of references to leafs\n",
      "2021-03-22 08:15:51,829 - INFO - dataset:dataset.py:63 - Nodes with leafs as children set size: 373 (nodes which have leafs as children)\n",
      "2021-03-22 08:15:51,830 - INFO - dataset:dataset.py:66 - count num children for each node\n",
      "2021-03-22 08:15:51,831 - INFO - dataset:dataset.py:68 - Nodes with children: 563\n",
      "2021-03-22 08:15:51,832 - INFO - dataset:dataset.py:71 - sum of children widths, heights, counts\n",
      "2021-03-22 08:15:51,836 - INFO - dataset:dataset.py:76 - Sum of children widths\n",
      "2021-03-22 08:15:51,838 - INFO - dataset:dataset.py:80 - Sum of children hights\n",
      "2021-03-22 08:15:51,863 - INFO - <ipython-input-2-e1d8b3799ba9>:<ipython-input-2-e1d8b3799ba9>:34 - Dataset shape after merging with parents: (1098, 36)\n",
      "2021-03-22 08:15:51,864 - WARNING - <ipython-input-2-e1d8b3799ba9>:<ipython-input-2-e1d8b3799ba9>:39 - Load LABELS from dataset/annotations/bootstrap.txt\n"
     ]
    },
    {
     "data": {
      "application/vnd.jupyter.widget-view+json": {
       "model_id": "88d9b59b5b284aebb1c7b4454bb12db8",
       "version_major": 2,
       "version_minor": 0
      },
      "text/plain": [
       "Assigning labels:   0%|          | 0/264 [00:00<?, ?it/s]"
      ]
     },
     "metadata": {},
     "output_type": "display_data"
    },
    {
     "name": "stdout",
     "output_type": "stream",
     "text": [
      "2021-03-22 08:15:52,556 - INFO - <ipython-input-2-e1d8b3799ba9>:<ipython-input-2-e1d8b3799ba9>:21 - Dataset for contact-form\n",
      "2021-03-22 08:15:52,573 - INFO - <ipython-input-2-e1d8b3799ba9>:<ipython-input-2-e1d8b3799ba9>:23 - Dataset shape: (339, 13)\n",
      "2021-03-22 08:15:52,573 - INFO - <ipython-input-2-e1d8b3799ba9>:<ipython-input-2-e1d8b3799ba9>:25 - cleaning tag_name from dummy/auxiliary words\n",
      "2021-03-22 08:15:52,574 - INFO - dataset:dataset.py:56 - select all leafs (nodes which are not parents)\n",
      "2021-03-22 08:15:52,575 - INFO - dataset:dataset.py:58 - Leafs set size: 154 (nodes which have no children)\n",
      "2021-03-22 08:15:52,577 - INFO - dataset:dataset.py:61 - count number of references to leafs\n",
      "2021-03-22 08:15:52,578 - INFO - dataset:dataset.py:63 - Nodes with leafs as children set size: 99 (nodes which have leafs as children)\n",
      "2021-03-22 08:15:52,580 - INFO - dataset:dataset.py:66 - count num children for each node\n",
      "2021-03-22 08:15:52,581 - INFO - dataset:dataset.py:68 - Nodes with children: 186\n",
      "2021-03-22 08:15:52,582 - INFO - dataset:dataset.py:71 - sum of children widths, heights, counts\n",
      "2021-03-22 08:15:52,586 - INFO - dataset:dataset.py:76 - Sum of children widths\n",
      "2021-03-22 08:15:52,588 - INFO - dataset:dataset.py:80 - Sum of children hights\n",
      "2021-03-22 08:15:52,603 - INFO - <ipython-input-2-e1d8b3799ba9>:<ipython-input-2-e1d8b3799ba9>:34 - Dataset shape after merging with parents: (339, 36)\n",
      "2021-03-22 08:15:52,604 - WARNING - <ipython-input-2-e1d8b3799ba9>:<ipython-input-2-e1d8b3799ba9>:39 - Load LABELS from dataset/annotations/contact-form.txt\n"
     ]
    },
    {
     "data": {
      "application/vnd.jupyter.widget-view+json": {
       "model_id": "9a4453af3c7f48dcb47f0f0fb6a5620d",
       "version_major": 2,
       "version_minor": 0
      },
      "text/plain": [
       "Assigning labels:   0%|          | 0/38 [00:00<?, ?it/s]"
      ]
     },
     "metadata": {},
     "output_type": "display_data"
    },
    {
     "name": "stdout",
     "output_type": "stream",
     "text": [
      "2021-03-22 08:15:52,663 - INFO - <ipython-input-2-e1d8b3799ba9>:<ipython-input-2-e1d8b3799ba9>:21 - Dataset for react-ant\n",
      "2021-03-22 08:15:52,695 - INFO - <ipython-input-2-e1d8b3799ba9>:<ipython-input-2-e1d8b3799ba9>:23 - Dataset shape: (703, 13)\n",
      "2021-03-22 08:15:52,696 - INFO - <ipython-input-2-e1d8b3799ba9>:<ipython-input-2-e1d8b3799ba9>:25 - cleaning tag_name from dummy/auxiliary words\n",
      "2021-03-22 08:15:52,697 - INFO - dataset:dataset.py:56 - select all leafs (nodes which are not parents)\n",
      "2021-03-22 08:15:52,698 - INFO - dataset:dataset.py:58 - Leafs set size: 261 (nodes which have no children)\n",
      "2021-03-22 08:15:52,699 - INFO - dataset:dataset.py:61 - count number of references to leafs\n",
      "2021-03-22 08:15:52,700 - INFO - dataset:dataset.py:63 - Nodes with leafs as children set size: 199 (nodes which have leafs as children)\n",
      "2021-03-22 08:15:52,701 - INFO - dataset:dataset.py:66 - count num children for each node\n",
      "2021-03-22 08:15:52,702 - INFO - dataset:dataset.py:68 - Nodes with children: 443\n",
      "2021-03-22 08:15:52,703 - INFO - dataset:dataset.py:71 - sum of children widths, heights, counts\n",
      "2021-03-22 08:15:52,706 - INFO - dataset:dataset.py:76 - Sum of children widths\n",
      "2021-03-22 08:15:52,709 - INFO - dataset:dataset.py:80 - Sum of children hights\n",
      "2021-03-22 08:15:52,728 - INFO - <ipython-input-2-e1d8b3799ba9>:<ipython-input-2-e1d8b3799ba9>:34 - Dataset shape after merging with parents: (703, 36)\n",
      "2021-03-22 08:15:52,729 - WARNING - <ipython-input-2-e1d8b3799ba9>:<ipython-input-2-e1d8b3799ba9>:39 - Load LABELS from dataset/annotations/react-ant.txt\n"
     ]
    },
    {
     "data": {
      "application/vnd.jupyter.widget-view+json": {
       "model_id": "484407e510c440cda569aa84e18cf724",
       "version_major": 2,
       "version_minor": 0
      },
      "text/plain": [
       "Assigning labels:   0%|          | 0/91 [00:00<?, ?it/s]"
      ]
     },
     "metadata": {},
     "output_type": "display_data"
    },
    {
     "name": "stdout",
     "output_type": "stream",
     "text": [
      "2021-03-22 08:15:52,911 - INFO - <ipython-input-2-e1d8b3799ba9>:<ipython-input-2-e1d8b3799ba9>:21 - Dataset for login\n",
      "2021-03-22 08:15:52,926 - INFO - <ipython-input-2-e1d8b3799ba9>:<ipython-input-2-e1d8b3799ba9>:23 - Dataset shape: (231, 13)\n",
      "2021-03-22 08:15:52,927 - INFO - <ipython-input-2-e1d8b3799ba9>:<ipython-input-2-e1d8b3799ba9>:25 - cleaning tag_name from dummy/auxiliary words\n",
      "2021-03-22 08:15:52,928 - INFO - dataset:dataset.py:56 - select all leafs (nodes which are not parents)\n",
      "2021-03-22 08:15:52,929 - INFO - dataset:dataset.py:58 - Leafs set size: 100 (nodes which have no children)\n",
      "2021-03-22 08:15:52,930 - INFO - dataset:dataset.py:61 - count number of references to leafs\n",
      "2021-03-22 08:15:52,931 - INFO - dataset:dataset.py:63 - Nodes with leafs as children set size: 72 (nodes which have leafs as children)\n",
      "2021-03-22 08:15:52,932 - INFO - dataset:dataset.py:66 - count num children for each node\n",
      "2021-03-22 08:15:52,932 - INFO - dataset:dataset.py:68 - Nodes with children: 132\n",
      "2021-03-22 08:15:52,934 - INFO - dataset:dataset.py:71 - sum of children widths, heights, counts\n",
      "2021-03-22 08:15:52,937 - INFO - dataset:dataset.py:76 - Sum of children widths\n",
      "2021-03-22 08:15:52,940 - INFO - dataset:dataset.py:80 - Sum of children hights\n",
      "2021-03-22 08:15:52,951 - INFO - <ipython-input-2-e1d8b3799ba9>:<ipython-input-2-e1d8b3799ba9>:34 - Dataset shape after merging with parents: (231, 36)\n",
      "2021-03-22 08:15:52,952 - WARNING - <ipython-input-2-e1d8b3799ba9>:<ipython-input-2-e1d8b3799ba9>:39 - Load LABELS from dataset/annotations/login.txt\n"
     ]
    },
    {
     "data": {
      "application/vnd.jupyter.widget-view+json": {
       "model_id": "40af9662002d4f288857ea54604d61af",
       "version_major": 2,
       "version_minor": 0
      },
      "text/plain": [
       "Assigning labels:   0%|          | 0/23 [00:00<?, ?it/s]"
      ]
     },
     "metadata": {},
     "output_type": "display_data"
    },
    {
     "name": "stdout",
     "output_type": "stream",
     "text": [
      "2021-03-22 08:15:53,015 - INFO - <ipython-input-2-e1d8b3799ba9>:<ipython-input-2-e1d8b3799ba9>:21 - Dataset for bootstrap-forms\n",
      "2021-03-22 08:15:53,031 - INFO - <ipython-input-2-e1d8b3799ba9>:<ipython-input-2-e1d8b3799ba9>:23 - Dataset shape: (315, 13)\n",
      "2021-03-22 08:15:53,032 - INFO - <ipython-input-2-e1d8b3799ba9>:<ipython-input-2-e1d8b3799ba9>:25 - cleaning tag_name from dummy/auxiliary words\n",
      "2021-03-22 08:15:53,033 - INFO - dataset:dataset.py:56 - select all leafs (nodes which are not parents)\n",
      "2021-03-22 08:15:53,034 - INFO - dataset:dataset.py:58 - Leafs set size: 152 (nodes which have no children)\n",
      "2021-03-22 08:15:53,035 - INFO - dataset:dataset.py:61 - count number of references to leafs\n",
      "2021-03-22 08:15:53,037 - INFO - dataset:dataset.py:63 - Nodes with leafs as children set size: 93 (nodes which have leafs as children)\n",
      "2021-03-22 08:15:53,038 - INFO - dataset:dataset.py:66 - count num children for each node\n",
      "2021-03-22 08:15:53,038 - INFO - dataset:dataset.py:68 - Nodes with children: 164\n",
      "2021-03-22 08:15:53,039 - INFO - dataset:dataset.py:71 - sum of children widths, heights, counts\n",
      "2021-03-22 08:15:53,042 - INFO - dataset:dataset.py:76 - Sum of children widths\n",
      "2021-03-22 08:15:53,044 - INFO - dataset:dataset.py:80 - Sum of children hights\n",
      "2021-03-22 08:15:53,056 - INFO - <ipython-input-2-e1d8b3799ba9>:<ipython-input-2-e1d8b3799ba9>:34 - Dataset shape after merging with parents: (315, 36)\n",
      "2021-03-22 08:15:53,058 - WARNING - <ipython-input-2-e1d8b3799ba9>:<ipython-input-2-e1d8b3799ba9>:39 - Load LABELS from dataset/annotations/bootstrap-forms.txt\n"
     ]
    },
    {
     "data": {
      "application/vnd.jupyter.widget-view+json": {
       "model_id": "d62305628b0f4bccaf9b85b92e12f678",
       "version_major": 2,
       "version_minor": 0
      },
      "text/plain": [
       "Assigning labels:   0%|          | 0/46 [00:00<?, ?it/s]"
      ]
     },
     "metadata": {},
     "output_type": "display_data"
    },
    {
     "name": "stdout",
     "output_type": "stream",
     "text": [
      "2021-03-22 08:15:53,132 - INFO - <ipython-input-2-e1d8b3799ba9>:<ipython-input-2-e1d8b3799ba9>:21 - Dataset for search\n",
      "2021-03-22 08:15:53,147 - INFO - <ipython-input-2-e1d8b3799ba9>:<ipython-input-2-e1d8b3799ba9>:23 - Dataset shape: (297, 13)\n",
      "2021-03-22 08:15:53,148 - INFO - <ipython-input-2-e1d8b3799ba9>:<ipython-input-2-e1d8b3799ba9>:25 - cleaning tag_name from dummy/auxiliary words\n",
      "2021-03-22 08:15:53,149 - INFO - dataset:dataset.py:56 - select all leafs (nodes which are not parents)\n",
      "2021-03-22 08:15:53,150 - INFO - dataset:dataset.py:58 - Leafs set size: 139 (nodes which have no children)\n",
      "2021-03-22 08:15:53,151 - INFO - dataset:dataset.py:61 - count number of references to leafs\n",
      "2021-03-22 08:15:53,152 - INFO - dataset:dataset.py:63 - Nodes with leafs as children set size: 91 (nodes which have leafs as children)\n",
      "2021-03-22 08:15:53,153 - INFO - dataset:dataset.py:66 - count num children for each node\n",
      "2021-03-22 08:15:53,154 - INFO - dataset:dataset.py:68 - Nodes with children: 159\n",
      "2021-03-22 08:15:53,154 - INFO - dataset:dataset.py:71 - sum of children widths, heights, counts\n",
      "2021-03-22 08:15:53,158 - INFO - dataset:dataset.py:76 - Sum of children widths\n",
      "2021-03-22 08:15:53,159 - INFO - dataset:dataset.py:80 - Sum of children hights\n",
      "2021-03-22 08:15:53,172 - INFO - <ipython-input-2-e1d8b3799ba9>:<ipython-input-2-e1d8b3799ba9>:34 - Dataset shape after merging with parents: (297, 36)\n",
      "2021-03-22 08:15:53,172 - WARNING - <ipython-input-2-e1d8b3799ba9>:<ipython-input-2-e1d8b3799ba9>:39 - Load LABELS from dataset/annotations/search.txt\n"
     ]
    },
    {
     "data": {
      "application/vnd.jupyter.widget-view+json": {
       "model_id": "22659ef5f68e4e3da0972ace73be6624",
       "version_major": 2,
       "version_minor": 0
      },
      "text/plain": [
       "Assigning labels:   0%|          | 0/47 [00:00<?, ?it/s]"
      ]
     },
     "metadata": {},
     "output_type": "display_data"
    },
    {
     "name": "stdout",
     "output_type": "stream",
     "text": [
      "2021-03-22 08:15:53,238 - INFO - <ipython-input-2-e1d8b3799ba9>:<ipython-input-2-e1d8b3799ba9>:21 - Dataset for complex-table\n",
      "2021-03-22 08:15:53,259 - INFO - <ipython-input-2-e1d8b3799ba9>:<ipython-input-2-e1d8b3799ba9>:23 - Dataset shape: (426, 13)\n",
      "2021-03-22 08:15:53,260 - INFO - <ipython-input-2-e1d8b3799ba9>:<ipython-input-2-e1d8b3799ba9>:25 - cleaning tag_name from dummy/auxiliary words\n",
      "2021-03-22 08:15:53,261 - INFO - dataset:dataset.py:56 - select all leafs (nodes which are not parents)\n",
      "2021-03-22 08:15:53,262 - INFO - dataset:dataset.py:58 - Leafs set size: 206 (nodes which have no children)\n",
      "2021-03-22 08:15:53,263 - INFO - dataset:dataset.py:61 - count number of references to leafs\n",
      "2021-03-22 08:15:53,264 - INFO - dataset:dataset.py:63 - Nodes with leafs as children set size: 131 (nodes which have leafs as children)\n",
      "2021-03-22 08:15:53,265 - INFO - dataset:dataset.py:66 - count num children for each node\n",
      "2021-03-22 08:15:53,265 - INFO - dataset:dataset.py:68 - Nodes with children: 221\n",
      "2021-03-22 08:15:53,266 - INFO - dataset:dataset.py:71 - sum of children widths, heights, counts\n",
      "2021-03-22 08:15:53,270 - INFO - dataset:dataset.py:76 - Sum of children widths\n",
      "2021-03-22 08:15:53,272 - INFO - dataset:dataset.py:80 - Sum of children hights\n",
      "2021-03-22 08:15:53,286 - INFO - <ipython-input-2-e1d8b3799ba9>:<ipython-input-2-e1d8b3799ba9>:34 - Dataset shape after merging with parents: (426, 36)\n",
      "2021-03-22 08:15:53,286 - WARNING - <ipython-input-2-e1d8b3799ba9>:<ipython-input-2-e1d8b3799ba9>:39 - Load LABELS from dataset/annotations/complex-table.txt\n"
     ]
    },
    {
     "data": {
      "application/vnd.jupyter.widget-view+json": {
       "model_id": "b73fd9288daf468dad6278648d6df7d8",
       "version_major": 2,
       "version_minor": 0
      },
      "text/plain": [
       "Assigning labels:   0%|          | 0/61 [00:00<?, ?it/s]"
      ]
     },
     "metadata": {},
     "output_type": "display_data"
    },
    {
     "name": "stdout",
     "output_type": "stream",
     "text": [
      "2021-03-22 08:15:53,366 - INFO - <ipython-input-2-e1d8b3799ba9>:<ipython-input-2-e1d8b3799ba9>:21 - Dataset for metals-and-colors\n",
      "2021-03-22 08:15:53,383 - INFO - <ipython-input-2-e1d8b3799ba9>:<ipython-input-2-e1d8b3799ba9>:23 - Dataset shape: (376, 13)\n",
      "2021-03-22 08:15:53,384 - INFO - <ipython-input-2-e1d8b3799ba9>:<ipython-input-2-e1d8b3799ba9>:25 - cleaning tag_name from dummy/auxiliary words\n",
      "2021-03-22 08:15:53,385 - INFO - dataset:dataset.py:56 - select all leafs (nodes which are not parents)\n",
      "2021-03-22 08:15:53,386 - INFO - dataset:dataset.py:58 - Leafs set size: 169 (nodes which have no children)\n",
      "2021-03-22 08:15:53,388 - INFO - dataset:dataset.py:61 - count number of references to leafs\n",
      "2021-03-22 08:15:53,389 - INFO - dataset:dataset.py:63 - Nodes with leafs as children set size: 108 (nodes which have leafs as children)\n",
      "2021-03-22 08:15:53,390 - INFO - dataset:dataset.py:66 - count num children for each node\n",
      "2021-03-22 08:15:53,390 - INFO - dataset:dataset.py:68 - Nodes with children: 208\n",
      "2021-03-22 08:15:53,391 - INFO - dataset:dataset.py:71 - sum of children widths, heights, counts\n",
      "2021-03-22 08:15:53,395 - INFO - dataset:dataset.py:76 - Sum of children widths\n",
      "2021-03-22 08:15:53,397 - INFO - dataset:dataset.py:80 - Sum of children hights\n",
      "2021-03-22 08:15:53,410 - INFO - <ipython-input-2-e1d8b3799ba9>:<ipython-input-2-e1d8b3799ba9>:34 - Dataset shape after merging with parents: (376, 36)\n",
      "2021-03-22 08:15:53,410 - WARNING - <ipython-input-2-e1d8b3799ba9>:<ipython-input-2-e1d8b3799ba9>:39 - Load LABELS from dataset/annotations/metals-and-colors.txt\n"
     ]
    },
    {
     "data": {
      "application/vnd.jupyter.widget-view+json": {
       "model_id": "8bace5357d1a4aa8b75b8fbfc32de79a",
       "version_major": 2,
       "version_minor": 0
      },
      "text/plain": [
       "Assigning labels:   0%|          | 0/34 [00:00<?, ?it/s]"
      ]
     },
     "metadata": {},
     "output_type": "display_data"
    },
    {
     "name": "stdout",
     "output_type": "stream",
     "text": [
      "2021-03-22 08:15:53,468 - INFO - <ipython-input-2-e1d8b3799ba9>:<ipython-input-2-e1d8b3799ba9>:21 - Dataset for mobile-and-html-5\n",
      "2021-03-22 08:15:53,496 - INFO - <ipython-input-2-e1d8b3799ba9>:<ipython-input-2-e1d8b3799ba9>:23 - Dataset shape: (650, 13)\n",
      "2021-03-22 08:15:53,497 - INFO - <ipython-input-2-e1d8b3799ba9>:<ipython-input-2-e1d8b3799ba9>:25 - cleaning tag_name from dummy/auxiliary words\n",
      "2021-03-22 08:15:53,499 - INFO - dataset:dataset.py:56 - select all leafs (nodes which are not parents)\n",
      "2021-03-22 08:15:53,499 - INFO - dataset:dataset.py:58 - Leafs set size: 398 (nodes which have no children)\n",
      "2021-03-22 08:15:53,500 - INFO - dataset:dataset.py:61 - count number of references to leafs\n",
      "2021-03-22 08:15:53,501 - INFO - dataset:dataset.py:63 - Nodes with leafs as children set size: 165 (nodes which have leafs as children)\n",
      "2021-03-22 08:15:53,502 - INFO - dataset:dataset.py:66 - count num children for each node\n",
      "2021-03-22 08:15:53,503 - INFO - dataset:dataset.py:68 - Nodes with children: 253\n",
      "2021-03-22 08:15:53,504 - INFO - dataset:dataset.py:71 - sum of children widths, heights, counts\n",
      "2021-03-22 08:15:53,507 - INFO - dataset:dataset.py:76 - Sum of children widths\n",
      "2021-03-22 08:15:53,509 - INFO - dataset:dataset.py:80 - Sum of children hights\n",
      "2021-03-22 08:15:53,527 - INFO - <ipython-input-2-e1d8b3799ba9>:<ipython-input-2-e1d8b3799ba9>:34 - Dataset shape after merging with parents: (650, 36)\n",
      "2021-03-22 08:15:53,529 - WARNING - <ipython-input-2-e1d8b3799ba9>:<ipython-input-2-e1d8b3799ba9>:39 - Load LABELS from dataset/annotations/mobile-and-html-5.txt\n"
     ]
    },
    {
     "data": {
      "application/vnd.jupyter.widget-view+json": {
       "model_id": "a62375773dc24faeaa4dc91dffc77b61",
       "version_major": 2,
       "version_minor": 0
      },
      "text/plain": [
       "Assigning labels:   0%|          | 0/113 [00:00<?, ?it/s]"
      ]
     },
     "metadata": {},
     "output_type": "display_data"
    },
    {
     "name": "stdout",
     "output_type": "stream",
     "text": [
      "2021-03-22 08:15:53,796 - INFO - <ipython-input-2-e1d8b3799ba9>:<ipython-input-2-e1d8b3799ba9>:21 - Dataset for html-5\n",
      "2021-03-22 08:15:53,825 - INFO - <ipython-input-2-e1d8b3799ba9>:<ipython-input-2-e1d8b3799ba9>:23 - Dataset shape: (665, 13)\n",
      "2021-03-22 08:15:53,825 - INFO - <ipython-input-2-e1d8b3799ba9>:<ipython-input-2-e1d8b3799ba9>:25 - cleaning tag_name from dummy/auxiliary words\n",
      "2021-03-22 08:15:53,827 - INFO - dataset:dataset.py:56 - select all leafs (nodes which are not parents)\n",
      "2021-03-22 08:15:53,828 - INFO - dataset:dataset.py:58 - Leafs set size: 413 (nodes which have no children)\n",
      "2021-03-22 08:15:53,830 - INFO - dataset:dataset.py:61 - count number of references to leafs\n",
      "2021-03-22 08:15:53,831 - INFO - dataset:dataset.py:63 - Nodes with leafs as children set size: 165 (nodes which have leafs as children)\n",
      "2021-03-22 08:15:53,832 - INFO - dataset:dataset.py:66 - count num children for each node\n",
      "2021-03-22 08:15:53,833 - INFO - dataset:dataset.py:68 - Nodes with children: 253\n",
      "2021-03-22 08:15:53,834 - INFO - dataset:dataset.py:71 - sum of children widths, heights, counts\n",
      "2021-03-22 08:15:53,838 - INFO - dataset:dataset.py:76 - Sum of children widths\n",
      "2021-03-22 08:15:53,840 - INFO - dataset:dataset.py:80 - Sum of children hights\n",
      "2021-03-22 08:15:53,859 - INFO - <ipython-input-2-e1d8b3799ba9>:<ipython-input-2-e1d8b3799ba9>:34 - Dataset shape after merging with parents: (665, 36)\n",
      "2021-03-22 08:15:53,861 - WARNING - <ipython-input-2-e1d8b3799ba9>:<ipython-input-2-e1d8b3799ba9>:39 - Load LABELS from dataset/annotations/html-5.txt\n"
     ]
    },
    {
     "data": {
      "application/vnd.jupyter.widget-view+json": {
       "model_id": "16a48a37863e465d9836e90d79856355",
       "version_major": 2,
       "version_minor": 0
      },
      "text/plain": [
       "Assigning labels:   0%|          | 0/118 [00:00<?, ?it/s]"
      ]
     },
     "metadata": {},
     "output_type": "display_data"
    },
    {
     "name": "stdout",
     "output_type": "stream",
     "text": [
      "2021-03-22 08:15:54,140 - INFO - <ipython-input-2-e1d8b3799ba9>:<ipython-input-2-e1d8b3799ba9>:21 - Dataset for different-elemants\n",
      "2021-03-22 08:15:54,155 - INFO - <ipython-input-2-e1d8b3799ba9>:<ipython-input-2-e1d8b3799ba9>:23 - Dataset shape: (292, 13)\n",
      "2021-03-22 08:15:54,156 - INFO - <ipython-input-2-e1d8b3799ba9>:<ipython-input-2-e1d8b3799ba9>:25 - cleaning tag_name from dummy/auxiliary words\n",
      "2021-03-22 08:15:54,157 - INFO - dataset:dataset.py:56 - select all leafs (nodes which are not parents)\n",
      "2021-03-22 08:15:54,157 - INFO - dataset:dataset.py:58 - Leafs set size: 132 (nodes which have no children)\n",
      "2021-03-22 08:15:54,159 - INFO - dataset:dataset.py:61 - count number of references to leafs\n",
      "2021-03-22 08:15:54,160 - INFO - dataset:dataset.py:63 - Nodes with leafs as children set size: 93 (nodes which have leafs as children)\n",
      "2021-03-22 08:15:54,162 - INFO - dataset:dataset.py:66 - count num children for each node\n",
      "2021-03-22 08:15:54,162 - INFO - dataset:dataset.py:68 - Nodes with children: 161\n",
      "2021-03-22 08:15:54,163 - INFO - dataset:dataset.py:71 - sum of children widths, heights, counts\n",
      "2021-03-22 08:15:54,167 - INFO - dataset:dataset.py:76 - Sum of children widths\n",
      "2021-03-22 08:15:54,169 - INFO - dataset:dataset.py:80 - Sum of children hights\n",
      "2021-03-22 08:15:54,181 - INFO - <ipython-input-2-e1d8b3799ba9>:<ipython-input-2-e1d8b3799ba9>:34 - Dataset shape after merging with parents: (292, 36)\n",
      "2021-03-22 08:15:54,181 - WARNING - <ipython-input-2-e1d8b3799ba9>:<ipython-input-2-e1d8b3799ba9>:39 - Load LABELS from dataset/annotations/different-elemants.txt\n"
     ]
    },
    {
     "data": {
      "application/vnd.jupyter.widget-view+json": {
       "model_id": "321ef058495a43a0ae5050f7416d257f",
       "version_major": 2,
       "version_minor": 0
      },
      "text/plain": [
       "Assigning labels:   0%|          | 0/50 [00:00<?, ?it/s]"
      ]
     },
     "metadata": {},
     "output_type": "display_data"
    },
    {
     "name": "stdout",
     "output_type": "stream",
     "text": [
      "2021-03-22 08:15:54,240 - INFO - <ipython-input-2-e1d8b3799ba9>:<ipython-input-2-e1d8b3799ba9>:21 - Dataset for performance\n",
      "2021-03-22 08:15:54,326 - INFO - <ipython-input-2-e1d8b3799ba9>:<ipython-input-2-e1d8b3799ba9>:23 - Dataset shape: (2675, 13)\n",
      "2021-03-22 08:15:54,327 - INFO - <ipython-input-2-e1d8b3799ba9>:<ipython-input-2-e1d8b3799ba9>:25 - cleaning tag_name from dummy/auxiliary words\n",
      "2021-03-22 08:15:54,329 - INFO - dataset:dataset.py:56 - select all leafs (nodes which are not parents)\n",
      "2021-03-22 08:15:54,330 - INFO - dataset:dataset.py:58 - Leafs set size: 2121 (nodes which have no children)\n",
      "2021-03-22 08:15:54,331 - INFO - dataset:dataset.py:61 - count number of references to leafs\n",
      "2021-03-22 08:15:54,333 - INFO - dataset:dataset.py:63 - Nodes with leafs as children set size: 487 (nodes which have leafs as children)\n",
      "2021-03-22 08:15:54,335 - INFO - dataset:dataset.py:66 - count num children for each node\n",
      "2021-03-22 08:15:54,336 - INFO - dataset:dataset.py:68 - Nodes with children: 555\n",
      "2021-03-22 08:15:54,338 - INFO - dataset:dataset.py:71 - sum of children widths, heights, counts\n",
      "2021-03-22 08:15:54,341 - INFO - dataset:dataset.py:76 - Sum of children widths\n",
      "2021-03-22 08:15:54,344 - INFO - dataset:dataset.py:80 - Sum of children hights\n",
      "2021-03-22 08:15:54,395 - INFO - <ipython-input-2-e1d8b3799ba9>:<ipython-input-2-e1d8b3799ba9>:34 - Dataset shape after merging with parents: (2675, 36)\n",
      "2021-03-22 08:15:54,395 - WARNING - <ipython-input-2-e1d8b3799ba9>:<ipython-input-2-e1d8b3799ba9>:39 - Load LABELS from dataset/annotations/performance.txt\n"
     ]
    },
    {
     "data": {
      "application/vnd.jupyter.widget-view+json": {
       "model_id": "c75626f355244a59b8a0eae4116bb159",
       "version_major": 2,
       "version_minor": 0
      },
      "text/plain": [
       "Assigning labels:   0%|          | 0/42 [00:00<?, ?it/s]"
      ]
     },
     "metadata": {},
     "output_type": "display_data"
    },
    {
     "name": "stdout",
     "output_type": "stream",
     "text": [
      "2021-03-22 08:15:55,164 - INFO - <ipython-input-2-e1d8b3799ba9>:<ipython-input-2-e1d8b3799ba9>:51 - Concatenate datasets\n",
      "2021-03-22 08:15:55,243 - INFO - <ipython-input-2-e1d8b3799ba9>:<ipython-input-2-e1d8b3799ba9>:53 - Dataset shape after reading: (16615, 38)\n",
      "2021-03-22 08:15:55,243 - WARNING - <ipython-input-2-e1d8b3799ba9>:<ipython-input-2-e1d8b3799ba9>:141 - Oversample data to balance the dataset, this will create duplicated rows in dataset\n",
      "2021-03-22 08:15:55,781 - WARNING - <ipython-input-2-e1d8b3799ba9>:<ipython-input-2-e1d8b3799ba9>:154 - Rebalanced dataset size: 48070\n",
      "2021-03-22 08:15:55,785 - INFO - <ipython-input-2-e1d8b3799ba9>:<ipython-input-2-e1d8b3799ba9>:60 - Build OHE column for attribute role\n",
      "2021-03-22 08:15:55,804 - INFO - <ipython-input-2-e1d8b3799ba9>:<ipython-input-2-e1d8b3799ba9>:60 - Build OHE column for attribute type\n",
      "2021-03-22 08:15:55,823 - INFO - <ipython-input-2-e1d8b3799ba9>:<ipython-input-2-e1d8b3799ba9>:60 - Build OHE column for attribute ui\n",
      "2021-03-22 08:15:55,841 - INFO - <ipython-input-2-e1d8b3799ba9>:<ipython-input-2-e1d8b3799ba9>:64 - Build OHE column for attribute role_parent\n",
      "2021-03-22 08:15:55,858 - INFO - <ipython-input-2-e1d8b3799ba9>:<ipython-input-2-e1d8b3799ba9>:64 - Build OHE column for attribute type_parent\n",
      "2021-03-22 08:15:55,875 - INFO - <ipython-input-2-e1d8b3799ba9>:<ipython-input-2-e1d8b3799ba9>:64 - Build OHE column for attribute ui_parent\n",
      "2021-03-22 08:15:55,892 - INFO - <ipython-input-2-e1d8b3799ba9>:<ipython-input-2-e1d8b3799ba9>:67 - OHE tag_name\n",
      "2021-03-22 08:15:55,893 - WARNING - <ipython-input-2-e1d8b3799ba9>:<ipython-input-2-e1d8b3799ba9>:172 - Create and fit OHE for column \"tag_name\"\n",
      "2021-03-22 08:15:55,904 - INFO - <ipython-input-2-e1d8b3799ba9>:<ipython-input-2-e1d8b3799ba9>:69 - tag_name_sm.shape: (48070, 269)\n",
      "2021-03-22 08:15:55,905 - INFO - <ipython-input-2-e1d8b3799ba9>:<ipython-input-2-e1d8b3799ba9>:71 - OHE tag_name_parent\n",
      "2021-03-22 08:15:55,905 - WARNING - <ipython-input-2-e1d8b3799ba9>:<ipython-input-2-e1d8b3799ba9>:168 - loading existing OHE for column \"tag_name_parent\" from model/tag_name.pkl\n",
      "2021-03-22 08:15:55,915 - INFO - <ipython-input-2-e1d8b3799ba9>:<ipython-input-2-e1d8b3799ba9>:73 - tag_name_parent_sm.shape: (48070, 269)\n",
      "2021-03-22 08:15:55,915 - INFO - <ipython-input-2-e1d8b3799ba9>:<ipython-input-2-e1d8b3799ba9>:75 - OHE ohe_role\n",
      "2021-03-22 08:15:55,916 - WARNING - <ipython-input-2-e1d8b3799ba9>:<ipython-input-2-e1d8b3799ba9>:172 - Create and fit OHE for column \"ohe_role\"\n",
      "2021-03-22 08:15:55,925 - INFO - <ipython-input-2-e1d8b3799ba9>:<ipython-input-2-e1d8b3799ba9>:77 - ohe_role_sm.shape: (48070, 29)\n",
      "2021-03-22 08:15:55,925 - INFO - <ipython-input-2-e1d8b3799ba9>:<ipython-input-2-e1d8b3799ba9>:79 - OHE ohe_role_parent\n",
      "2021-03-22 08:15:55,926 - WARNING - <ipython-input-2-e1d8b3799ba9>:<ipython-input-2-e1d8b3799ba9>:168 - loading existing OHE for column \"ohe_role_parent\" from model/ohe_role.pkl\n",
      "2021-03-22 08:15:55,938 - INFO - <ipython-input-2-e1d8b3799ba9>:<ipython-input-2-e1d8b3799ba9>:81 - ohe_role_parent_sm.shape: (48070, 29)\n",
      "2021-03-22 08:15:55,939 - INFO - <ipython-input-2-e1d8b3799ba9>:<ipython-input-2-e1d8b3799ba9>:83 - OHE ohe_type\n",
      "2021-03-22 08:15:55,940 - WARNING - <ipython-input-2-e1d8b3799ba9>:<ipython-input-2-e1d8b3799ba9>:172 - Create and fit OHE for column \"ohe_type\"\n",
      "2021-03-22 08:15:55,948 - INFO - <ipython-input-2-e1d8b3799ba9>:<ipython-input-2-e1d8b3799ba9>:85 - ohe_type_sm.shape: (48070, 22)\n",
      "2021-03-22 08:15:55,949 - INFO - <ipython-input-2-e1d8b3799ba9>:<ipython-input-2-e1d8b3799ba9>:87 - OHE ohe_type_parent\n",
      "2021-03-22 08:15:55,949 - WARNING - <ipython-input-2-e1d8b3799ba9>:<ipython-input-2-e1d8b3799ba9>:168 - loading existing OHE for column \"ohe_type_parent\" from model/ohe_type.pkl\n",
      "2021-03-22 08:15:55,958 - INFO - <ipython-input-2-e1d8b3799ba9>:<ipython-input-2-e1d8b3799ba9>:89 - ohe_type_parent_sm.shape: (48070, 22)\n",
      "2021-03-22 08:15:55,958 - INFO - <ipython-input-2-e1d8b3799ba9>:<ipython-input-2-e1d8b3799ba9>:91 - OHE ohe_ui\n",
      "2021-03-22 08:15:55,959 - WARNING - <ipython-input-2-e1d8b3799ba9>:<ipython-input-2-e1d8b3799ba9>:172 - Create and fit OHE for column \"ohe_ui\"\n",
      "2021-03-22 08:15:55,968 - INFO - <ipython-input-2-e1d8b3799ba9>:<ipython-input-2-e1d8b3799ba9>:93 - ohe_ui_sm.shape: (48070, 14)\n",
      "2021-03-22 08:15:55,968 - INFO - <ipython-input-2-e1d8b3799ba9>:<ipython-input-2-e1d8b3799ba9>:95 - OHE ohe_ui_parent\n",
      "2021-03-22 08:15:55,969 - WARNING - <ipython-input-2-e1d8b3799ba9>:<ipython-input-2-e1d8b3799ba9>:168 - loading existing OHE for column \"ohe_ui_parent\" from model/ohe_ui.pkl\n",
      "2021-03-22 08:15:55,978 - INFO - <ipython-input-2-e1d8b3799ba9>:<ipython-input-2-e1d8b3799ba9>:97 - ohe_ui_parent_sm.shape: (48070, 14)\n",
      "2021-03-22 08:15:56,305 - INFO - <ipython-input-2-e1d8b3799ba9>:<ipython-input-2-e1d8b3799ba9>:101 - Fit CountVectorizer for column \"attributes\"\n",
      "2021-03-22 08:15:56,306 - WARNING - <ipython-input-2-e1d8b3799ba9>:<ipython-input-2-e1d8b3799ba9>:195 - Create and fit count vectorizer for column \"attributes_text\"\n",
      "2021-03-22 08:16:00,219 - INFO - <ipython-input-2-e1d8b3799ba9>:<ipython-input-2-e1d8b3799ba9>:103 - attributes_sm.shape: (48070, 76)\n",
      "2021-03-22 08:16:00,526 - INFO - <ipython-input-2-e1d8b3799ba9>:<ipython-input-2-e1d8b3799ba9>:107 - Fit CountVectorizer for column \"attributes_parent\"\n",
      "2021-03-22 08:16:00,527 - WARNING - <ipython-input-2-e1d8b3799ba9>:<ipython-input-2-e1d8b3799ba9>:190 - loading existing count vectorizer for column \"attributes_parent_text\" from model/count_vectorizer_attributes_text.pkl\n",
      "2021-03-22 08:16:00,668 - INFO - <ipython-input-2-e1d8b3799ba9>:<ipython-input-2-e1d8b3799ba9>:110 - attributes_parent_sm.shape: (48070, 76)\n",
      "2021-03-22 08:16:00,856 - INFO - <ipython-input-2-e1d8b3799ba9>:<ipython-input-2-e1d8b3799ba9>:131 - OHE columns sparse matrix: (48070, 842)\n"
     ]
    }
   ],
   "source": [
    "train_dataset = JDIDataset(rebalance=True)"
   ]
  },
  {
   "cell_type": "code",
   "execution_count": 4,
   "id": "racial-providence",
   "metadata": {},
   "outputs": [
    {
     "data": {
      "text/plain": [
       "(array([  0. ,   0. ,   0. ,   0. ,   0. ,   0. ,   0. ,   0. ,   0. ,\n",
       "          0. ,   0. ,   0. ,   0. ,   0. ,   0. ,   0. ,   0. ,   0. ,\n",
       "          0. ,   0. ,   1. ,   0. ,   0. ,   0. ,   0. ,   0. ,   0. ,\n",
       "          0. ,   0. ,   0. ,   0. ,   0. ,   0. ,   0. ,   0. ,   0. ,\n",
       "          0. ,   0. ,   0. ,   1. ,   0. ,   0. ,   0. ,   0. ,   0. ,\n",
       "          0. ,   0. ,   0. ,   0. ,   0. ,   0. ,   0. ,   0. ,   0. ,\n",
       "          0. ,   0. ,   0. ,   0. ,   0. ,   0. ,   0. ,   0. ,   0. ,\n",
       "          0. ,   0. ,   0. ,   0. ,   0. ,   0. ,   0. ,   0. ,   0. ,\n",
       "          0. ,   0. ,   0. ,   0. ,   0. ,   0. ,   0. ,   0. ,   0. ,\n",
       "          0. ,   0. ,   0. ,   0. ,   0. ,   0. ,   0. ,   0. ,   0. ,\n",
       "          0. ,   0. ,   0. ,   0. ,   0. ,   0. ,   0. ,   0. ,   0. ,\n",
       "          0. ,   0. ,   0. ,   0. ,   0. ,   0. ,   0. ,   0. ,   0. ,\n",
       "          0. ,   0. ,   0. ,   0. ,   0. ,   0. ,   0. ,   0. ,   0. ,\n",
       "          0. ,   0. ,   0. ,   0. ,   0. ,   0. ,   0. ,   0. ,   0. ,\n",
       "          0. ,   0. ,   0. ,   0. ,   0. ,   0. ,   0. ,   0. ,   0. ,\n",
       "          0. ,   0. ,   0. ,   0. ,   0. ,   0. ,   0. ,   0. ,   0. ,\n",
       "          0. ,   0. ,   0. ,   0. ,   0. ,   0. ,   0. ,   0. ,   0. ,\n",
       "          0. ,   0. ,   0. ,   0. ,   0. ,   0. ,   0. ,   0. ,   0. ,\n",
       "          1. ,   0. ,   0. ,   0. ,   0. ,   0. ,   0. ,   0. ,   0. ,\n",
       "          0. ,   0. ,   0. ,   0. ,   0. ,   0. ,   0. ,   0. ,   0. ,\n",
       "          0. ,   0. ,   0. ,   0. ,   0. ,   0. ,   0. ,   0. ,   0. ,\n",
       "          0. ,   0. ,   0. ,   0. ,   0. ,   0. ,   0. ,   0. ,   0. ,\n",
       "          0. ,   0. ,   0. ,   0. ,   0. ,   0. ,   0. ,   0. ,   0. ,\n",
       "          0. ,   0. ,   0. ,   0. ,   0. ,   0. ,   0. ,   0. ,   0. ,\n",
       "          0. ,   0. ,   0. ,   0. ,   0. ,   0. ,   0. ,   0. ,   0. ,\n",
       "          0. ,   0. ,   0. ,   0. ,   0. ,   0. ,   0. ,   0. ,   0. ,\n",
       "          0. ,   0. ,   0. ,   0. ,   0. ,   0. ,   0. ,   0. ,   0. ,\n",
       "          0. ,   0. ,   0. ,   0. ,   0. ,   0. ,   0. ,   0. ,   0. ,\n",
       "          0. ,   0. ,   0. ,   0. ,   0. ,   0. ,   0. ,   0. ,   0. ,\n",
       "          0. ,   0. ,   0. ,   0. ,   0. ,   0. ,   0. ,   0. ,   0. ,\n",
       "          0. ,   0. ,   0. ,   0. ,   0. ,   0. ,   0. ,   0. ,   0. ,\n",
       "          0. ,   0. ,   0. ,   0. ,   0. ,   0. ,   0. ,   0. ,   0. ,\n",
       "          0. ,   0. ,   0. ,   0. ,   0. ,   0. ,   0. ,   0. ,   0. ,\n",
       "          0. ,   0. ,   0. ,   0. ,   0. ,   0. ,   0. ,   0. ,   0. ,\n",
       "          0. ,   0. ,   0. ,   0. ,   0. ,   0. ,   0. ,   0. ,   0. ,\n",
       "          0. ,   0. ,   0. ,   0. ,   0. ,   0. ,   0. ,   0. ,   0. ,\n",
       "          0. ,   0. ,   0. ,   0. ,   0. ,   0. ,   0. ,   0. ,   0. ,\n",
       "          0. ,   0. ,   0. ,   0. ,   0. ,   0. ,   0. ,   0. ,   0. ,\n",
       "          0. ,   0. ,   0. ,   1. ,   0. ,   0. ,   0. ,   0. ,   0. ,\n",
       "          0. ,   0. ,   0. ,   0. ,   0. ,   0. ,   0. ,   0. ,   0. ,\n",
       "          0. ,   0. ,   0. ,   0. ,   0. ,   0. ,   0. ,   0. ,   0. ,\n",
       "          0. ,   0. ,   0. ,   0. ,   0. ,   1. ,   0. ,   0. ,   0. ,\n",
       "          0. ,   0. ,   0. ,   0. ,   0. ,   0. ,   0. ,   0. ,   0. ,\n",
       "          0. ,   0. ,   0. ,   0. ,   0. ,   0. ,   0. ,   0. ,   0. ,\n",
       "          1. ,   0. ,   0. ,   0. ,   0. ,   0. ,   0. ,   0. ,   0. ,\n",
       "          0. ,   0. ,   0. ,   0. ,   0. ,   0. ,   0. ,   0. ,   0. ,\n",
       "          0. ,   0. ,   0. ,   0. ,   0. ,   0. ,   0. ,   0. ,   0. ,\n",
       "          0. ,   0. ,   0. ,   0. ,   0. ,   0. ,   0. ,   0. ,   0. ,\n",
       "          0. ,   0. ,   0. ,   0. ,   0. ,   0. ,   0. ,   0. ,   0. ,\n",
       "          0. ,   0. ,   0. ,   0. ,   0. ,   0. ,   0. ,   0. ,   0. ,\n",
       "          0. ,   0. ,   0. ,   0. ,   0. ,   0. ,   0. ,   0. ,   0. ,\n",
       "          0. ,   0. ,   0. ,   0. ,   0. ,   0. ,   0. ,   0. ,   0. ,\n",
       "          0. ,   0. ,   0. ,   0. ,   0. ,   0. ,   0. ,   0. ,   0. ,\n",
       "          0. ,   0. ,   0. ,   0. ,   0. ,   0. ,   0. ,   0. ,   0. ,\n",
       "          0. ,   0. ,   0. ,   0. ,   0. ,   0. ,   0. ,   0. ,   0. ,\n",
       "          0. ,   0. ,   0. ,   0. ,   0. ,   0. ,   0. ,   0. ,   0. ,\n",
       "          0. ,   0. ,   0. ,   0. ,   0. ,   0. ,   0. ,   0. ,   0. ,\n",
       "          0. ,   0. ,   0. ,   0. ,   0. ,   0. ,   0. ,   0. ,   0. ,\n",
       "          0. ,   0. ,   0. ,   0. ,   0. ,   0. ,   0. ,   0. ,   0. ,\n",
       "          0. ,   0. ,   0. ,   0. ,   0. ,   0. ,   0. ,   0. ,   0. ,\n",
       "          0. ,   0. ,   0. ,   0. ,   0. ,   0. ,   0. ,   0. ,   0. ,\n",
       "          0. ,   0. ,   0. ,   0. ,   0. ,   0. ,   0. ,   0. ,   0. ,\n",
       "          0. ,   0. ,   0. ,   0. ,   0. ,   0. ,   0. ,   0. ,   0. ,\n",
       "          0. ,   0. ,   0. ,   0. ,   0. ,   0. ,   0. ,   0. ,   0. ,\n",
       "          0. ,   0. ,   0. ,   0. ,   0. ,   0. ,   0. ,   0. ,   0. ,\n",
       "          0. ,   0. ,   0. ,   0. ,   0. ,   0. ,   0. ,   0. ,   0. ,\n",
       "          0. ,   0. ,   0. ,   0. ,   0. ,   0. ,   0. ,   0. ,   0. ,\n",
       "          0. ,   0. ,   0. ,   0. ,   0. ,   0. ,   0. ,   0. ,   0. ,\n",
       "          0. ,   0. ,   0. ,   0. ,   0. ,   0. ,   0. ,   0. ,   0. ,\n",
       "          0. ,   0. ,   0. ,   0. ,   0. ,   0. ,   0. ,   0. ,   0. ,\n",
       "          0. ,   0. ,   0. ,   0. ,   0. ,   0. ,   0. ,   0. ,   0. ,\n",
       "          0. ,   0. ,   0. ,   0. ,   0. ,   0. ,   0. ,   0. ,   0. ,\n",
       "          0. ,   0. ,   0. ,   0. ,   0. ,   0. ,   0. ,   0. ,   0. ,\n",
       "          0. ,   0. ,   0. ,   0. ,   0. ,   0. ,   0. ,   0. ,   0. ,\n",
       "          0. ,   0. ,   0. ,   0. ,   0. ,   0. ,   0. ,   0. ,   0. ,\n",
       "          0. ,   0. ,   0. ,   1. ,   1. ,   0. ,   0. ,   0. ,   0. ,\n",
       "          0. ,   0. ,   0. ,   0. ,   0. ,   0. ,   0. ,   0. ,   0. ,\n",
       "          0. ,   0. ,   0. ,   0. ,   0. ,   0. ,   0. ,   0. ,   1. ,\n",
       "          0. ,   0. ,   0. ,   0. ,   0. ,   0. ,   0. ,   0. ,   0. ,\n",
       "          0. ,   0. ,   0. ,   0. ,   0. ,   0. ,   0. ,   0. ,   0. ,\n",
       "          0. ,   0. ,   0. ,   0. ,   0. ,   0. ,   0. ,   0. ,   0. ,\n",
       "          0. ,   1. ,   0. ,   0. ,   0. ,   0. ,   0. ,   0. ,   0. ,\n",
       "          0. ,   0. ,   0. ,   0. ,   0. ,   0. ,   0. ,   0. ,   0. ,\n",
       "          0. ,   0. ,   0. ,   0. ,   0. ,   0. ,   0. ,   0. ,   0. ,\n",
       "          0. ,   0. ,   0. ,   0. ,   0. ,   0. ,   0. ,   0. ,   1. ,\n",
       "          0. ,   0. ,   0. ,   0. ,   0. ,   0. ,   0. ,   0. ,   0. ,\n",
       "          0. ,   0. ,   0. ,   0. ,   0. ,   0. ,   0. ,   0. ,   0. ,\n",
       "          0. ,   0. ,   0. ,   0. ,   0. ,   0. ,   0. ,   0. ,   0. ,\n",
       "          0. ,   0. ,   0. ,   0. ,   0. ,   0. ,   0. ,   0. ,   0. ,\n",
       "          0. ,   0. ,   0. ,   0. ,   0. ,   0. ,   0. ,   0. ,   0. ,\n",
       "          0. ,   0. ,   0. ,   0. ,   0. ,   0. ,   0. ,   0. ,   0. ,\n",
       "          0. , 200. , 386. , 200. , 550. ,   0. ,   0. ,   0. ,   0. ,\n",
       "          0. ,   0. ,   0. ,   2. ,   5. , 200. , 200. , 193. , 108.4,\n",
       "          1. ,   0. ,   0. ,   0. ,   0. ], dtype=float32),\n",
       " 20)"
      ]
     },
     "execution_count": 4,
     "metadata": {},
     "output_type": "execute_result"
    }
   ],
   "source": [
    "train_dataset[120]"
   ]
  },
  {
   "cell_type": "code",
   "execution_count": 5,
   "id": "unlike-cleaning",
   "metadata": {},
   "outputs": [
    {
     "data": {
      "text/plain": [
       "link                14864\n",
       "n/a                 14810\n",
       "button               6447\n",
       "textfield            3591\n",
       "checkbox             2121\n",
       "radiobutton          1869\n",
       "dropdown             1785\n",
       "range                 630\n",
       "table                 525\n",
       "datetimeselector      483\n",
       "textarea              336\n",
       "fileinput             147\n",
       "numberselector        105\n",
       "dropdownselector      105\n",
       "iframe                 84\n",
       "colorpicker            84\n",
       "checklist              42\n",
       "image                  42\n",
       "Name: label, dtype: int64"
      ]
     },
     "execution_count": 5,
     "metadata": {},
     "output_type": "execute_result"
    }
   ],
   "source": [
    "train_dataset.labels.value_counts()"
   ]
  },
  {
   "cell_type": "code",
   "execution_count": 6,
   "id": "welsh-vancouver",
   "metadata": {},
   "outputs": [
    {
     "data": {
      "text/html": [
       "<div>\n",
       "<style scoped>\n",
       "    .dataframe tbody tr th:only-of-type {\n",
       "        vertical-align: middle;\n",
       "    }\n",
       "\n",
       "    .dataframe tbody tr th {\n",
       "        vertical-align: top;\n",
       "    }\n",
       "\n",
       "    .dataframe thead th {\n",
       "        text-align: right;\n",
       "    }\n",
       "</style>\n",
       "<table border=\"1\" class=\"dataframe\">\n",
       "  <thead>\n",
       "    <tr style=\"text-align: right;\">\n",
       "      <th></th>\n",
       "      <th>index</th>\n",
       "      <th>label</th>\n",
       "    </tr>\n",
       "  </thead>\n",
       "  <tbody>\n",
       "    <tr>\n",
       "      <th>2</th>\n",
       "      <td>0</td>\n",
       "      <td>6447</td>\n",
       "    </tr>\n",
       "    <tr>\n",
       "      <th>0</th>\n",
       "      <td>1</td>\n",
       "      <td>14864</td>\n",
       "    </tr>\n",
       "    <tr>\n",
       "      <th>14</th>\n",
       "      <td>2</td>\n",
       "      <td>84</td>\n",
       "    </tr>\n",
       "    <tr>\n",
       "      <th>3</th>\n",
       "      <td>3</td>\n",
       "      <td>3591</td>\n",
       "    </tr>\n",
       "    <tr>\n",
       "      <th>6</th>\n",
       "      <td>4</td>\n",
       "      <td>1785</td>\n",
       "    </tr>\n",
       "    <tr>\n",
       "      <th>4</th>\n",
       "      <td>5</td>\n",
       "      <td>2121</td>\n",
       "    </tr>\n",
       "    <tr>\n",
       "      <th>10</th>\n",
       "      <td>6</td>\n",
       "      <td>336</td>\n",
       "    </tr>\n",
       "    <tr>\n",
       "      <th>11</th>\n",
       "      <td>9</td>\n",
       "      <td>147</td>\n",
       "    </tr>\n",
       "    <tr>\n",
       "      <th>16</th>\n",
       "      <td>10</td>\n",
       "      <td>42</td>\n",
       "    </tr>\n",
       "    <tr>\n",
       "      <th>15</th>\n",
       "      <td>11</td>\n",
       "      <td>84</td>\n",
       "    </tr>\n",
       "    <tr>\n",
       "      <th>7</th>\n",
       "      <td>12</td>\n",
       "      <td>630</td>\n",
       "    </tr>\n",
       "    <tr>\n",
       "      <th>9</th>\n",
       "      <td>14</td>\n",
       "      <td>483</td>\n",
       "    </tr>\n",
       "    <tr>\n",
       "      <th>12</th>\n",
       "      <td>15</td>\n",
       "      <td>105</td>\n",
       "    </tr>\n",
       "    <tr>\n",
       "      <th>13</th>\n",
       "      <td>16</td>\n",
       "      <td>105</td>\n",
       "    </tr>\n",
       "    <tr>\n",
       "      <th>17</th>\n",
       "      <td>17</td>\n",
       "      <td>42</td>\n",
       "    </tr>\n",
       "    <tr>\n",
       "      <th>5</th>\n",
       "      <td>18</td>\n",
       "      <td>1869</td>\n",
       "    </tr>\n",
       "    <tr>\n",
       "      <th>8</th>\n",
       "      <td>19</td>\n",
       "      <td>525</td>\n",
       "    </tr>\n",
       "    <tr>\n",
       "      <th>1</th>\n",
       "      <td>20</td>\n",
       "      <td>14810</td>\n",
       "    </tr>\n",
       "  </tbody>\n",
       "</table>\n",
       "</div>"
      ],
      "text/plain": [
       "    index  label\n",
       "2       0   6447\n",
       "0       1  14864\n",
       "14      2     84\n",
       "3       3   3591\n",
       "6       4   1785\n",
       "4       5   2121\n",
       "10      6    336\n",
       "11      9    147\n",
       "16     10     42\n",
       "15     11     84\n",
       "7      12    630\n",
       "9      14    483\n",
       "12     15    105\n",
       "13     16    105\n",
       "17     17     42\n",
       "5      18   1869\n",
       "8      19    525\n",
       "1      20  14810"
      ]
     },
     "execution_count": 6,
     "metadata": {},
     "output_type": "execute_result"
    }
   ],
   "source": [
    "pd.DataFrame(train_dataset.dataset.label.value_counts()).reset_index().sort_values(by='index')"
   ]
  },
  {
   "cell_type": "code",
   "execution_count": 7,
   "id": "centered-flash",
   "metadata": {},
   "outputs": [
    {
     "data": {
      "text/plain": [
       "Index(['attributes', 'displayed', 'element_id', 'height', 'onmouseenter',\n",
       "       'onmouseover', 'parent_id', 'style', 'tag_name', 'text', 'width', 'x',\n",
       "       'y', 'is_leaf', 'num_leafs', 'num_children', 'sum_children_widths',\n",
       "       'sum_children_hights', 'attributes_parent', 'displayed_parent',\n",
       "       'element_id_parent', 'height_parent', 'onmouseenter_parent',\n",
       "       'onmouseover_parent', 'parent_id_parent', 'style_parent',\n",
       "       'tag_name_parent', 'text_parent', 'width_parent', 'x_parent',\n",
       "       'y_parent', 'is_leaf_parent', 'num_leafs_parent', 'num_children_parent',\n",
       "       'sum_children_widths_parent', 'sum_children_hights_parent', 'label',\n",
       "       'ds_name', 'ohe_role', 'ohe_type', 'ohe_ui', 'ohe_role_parent',\n",
       "       'ohe_type_parent', 'ohe_ui_parent', 'attributes_text',\n",
       "       'attributes_parent_text'],\n",
       "      dtype='object')"
      ]
     },
     "execution_count": 7,
     "metadata": {},
     "output_type": "execute_result"
    }
   ],
   "source": [
    "train_dataset.dataset.columns\n"
   ]
  },
  {
   "cell_type": "code",
   "execution_count": 8,
   "id": "delayed-bosnia",
   "metadata": {},
   "outputs": [
    {
     "data": {
      "text/plain": [
       "{'alt': 0,\n",
       " 'appearance': 1,\n",
       " 'aria-checked': 2,\n",
       " 'aria-controls': 3,\n",
       " 'aria-describedby': 4,\n",
       " 'aria-disabled': 5,\n",
       " 'aria-expanded': 6,\n",
       " 'aria-haspopup': 7,\n",
       " 'aria-hidden': 8,\n",
       " 'aria-label': 9,\n",
       " 'aria-multiselectable': 10,\n",
       " 'aria-posinset': 11,\n",
       " 'aria-pressed': 12,\n",
       " 'aria-required': 13,\n",
       " 'aria-selected': 14,\n",
       " 'aria-setsize': 15,\n",
       " 'aria-valuemax': 16,\n",
       " 'aria-valuemin': 17,\n",
       " 'aria-valuenow': 18,\n",
       " 'checked': 19,\n",
       " 'class': 20,\n",
       " 'color': 21,\n",
       " 'cols': 22,\n",
       " 'colspan': 23,\n",
       " 'content': 24,\n",
       " 'cx': 25,\n",
       " 'cy': 26,\n",
       " 'd': 27,\n",
       " 'data-dt-idx': 28,\n",
       " 'data-placement': 29,\n",
       " 'data-slide-to': 30,\n",
       " 'data-target': 31,\n",
       " 'data-toggle': 32,\n",
       " 'disabled': 33,\n",
       " 'fill': 34,\n",
       " 'for': 35,\n",
       " 'height': 36,\n",
       " 'href': 37,\n",
       " 'id': 38,\n",
       " 'index': 39,\n",
       " 'list': 40,\n",
       " 'mat-sort-header': 41,\n",
       " 'matbadge': 42,\n",
       " 'matbadgecolor': 43,\n",
       " 'mattooltip': 44,\n",
       " 'max': 45,\n",
       " 'maxlength': 46,\n",
       " 'min': 47,\n",
       " 'mode': 48,\n",
       " 'multiple': 49,\n",
       " 'name': 50,\n",
       " 'onchange': 51,\n",
       " 'onclick': 52,\n",
       " 'oncontextmenu': 53,\n",
       " 'oninput': 54,\n",
       " 'placeholder': 55,\n",
       " 'preserveAspectRatio': 56,\n",
       " 'r': 57,\n",
       " 'readonly': 58,\n",
       " 'rel': 59,\n",
       " 'role': 60,\n",
       " 'rows': 61,\n",
       " 'rowspan': 62,\n",
       " 'selected': 63,\n",
       " 'size': 64,\n",
       " 'src': 65,\n",
       " 'step': 66,\n",
       " 'style': 67,\n",
       " 'tabindex': 68,\n",
       " 'title': 69,\n",
       " 'type': 70,\n",
       " 'ui': 71,\n",
       " 'value': 72,\n",
       " 'viewBox': 73,\n",
       " 'width': 74,\n",
       " 'y': 75}"
      ]
     },
     "execution_count": 8,
     "metadata": {},
     "output_type": "execute_result"
    }
   ],
   "source": [
    "train_dataset.vocabulary"
   ]
  },
  {
   "cell_type": "code",
   "execution_count": 9,
   "id": "cubic-kennedy",
   "metadata": {},
   "outputs": [
    {
     "data": {
      "text/html": [
       "<h3>Check dataset.element_id for uniqueness: OK</h3>"
      ],
      "text/plain": [
       "<IPython.core.display.HTML object>"
      ]
     },
     "metadata": {},
     "output_type": "display_data"
    }
   ],
   "source": [
    "assert (train_dataset.dataset.element_id.nunique() == train_dataset.dataset.shape[0]) or train_dataset.rebalanced, 'There are nonunique values in the dataset, probably the dataset was rebalanced'\n",
    "display(HTML(\"<h3>Check dataset.element_id for uniqueness: OK</h3>\"))"
   ]
  },
  {
   "cell_type": "code",
   "execution_count": 10,
   "id": "matched-guitar",
   "metadata": {},
   "outputs": [
    {
     "data": {
      "text/html": [
       "<h3>Length of dataset: 48070<h3>"
      ],
      "text/plain": [
       "<IPython.core.display.HTML object>"
      ]
     },
     "metadata": {},
     "output_type": "display_data"
    }
   ],
   "source": [
    "display(HTML(f'<h3>Length of dataset: {train_dataset.dataset.shape[0]}<h3>'))"
   ]
  },
  {
   "cell_type": "code",
   "execution_count": 11,
   "id": "similar-deadline",
   "metadata": {},
   "outputs": [
    {
     "data": {
      "text/plain": [
       "(48070, 842)"
      ]
     },
     "execution_count": 11,
     "metadata": {},
     "output_type": "execute_result"
    }
   ],
   "source": [
    "train_dataset.data.shape"
   ]
  },
  {
   "cell_type": "markdown",
   "id": "passing-wichita",
   "metadata": {},
   "source": [
    "## Test Dataloader"
   ]
  },
  {
   "cell_type": "code",
   "execution_count": 12,
   "id": "complimentary-remark",
   "metadata": {},
   "outputs": [],
   "source": [
    "BATCH_SIZE = 256\n",
    "dataloader = DataLoader(train_dataset, shuffle=True, batch_size = BATCH_SIZE)"
   ]
  },
  {
   "cell_type": "code",
   "execution_count": 13,
   "id": "proper-porter",
   "metadata": {},
   "outputs": [
    {
     "data": {
      "text/plain": [
       "[tensor([[0., 0., 0.,  ..., 0., 0., 0.],\n",
       "         [0., 0., 0.,  ..., 0., 0., 0.],\n",
       "         [0., 0., 0.,  ..., 0., 0., 0.],\n",
       "         ...,\n",
       "         [1., 0., 0.,  ..., 0., 0., 0.],\n",
       "         [0., 0., 0.,  ..., 0., 0., 0.],\n",
       "         [0., 0., 0.,  ..., 0., 0., 0.]]),\n",
       " tensor([18,  3,  1,  1,  0,  1, 20,  4,  1, 20,  0, 20,  1, 20,  1, 20,  1, 18,\n",
       "          1,  0,  1,  1, 20,  0,  1,  1, 12,  3,  0,  4,  1,  0, 20, 20, 20,  3,\n",
       "         20,  0,  5,  1,  0,  1, 20,  0,  0,  0, 20, 20,  0,  1, 20, 14,  1, 20,\n",
       "          0, 20,  5, 18,  1,  1, 20, 20,  1, 20, 20, 20,  0, 20,  0, 20,  1,  1,\n",
       "          0,  1,  0,  1, 20,  1, 12,  1,  5,  1,  1,  1,  5, 20,  0,  3,  0,  1,\n",
       "          0,  4, 20,  3, 18,  1,  1, 20, 20,  3, 20,  1, 20,  0,  1,  1,  1, 20,\n",
       "          1,  1,  1, 20, 20,  1, 20,  4, 18,  1, 20, 20,  1,  1,  0,  1,  1, 14,\n",
       "          1, 20, 20,  1,  0, 20, 20, 18,  3, 20,  1,  0,  0,  3,  0, 20,  1,  4,\n",
       "          3,  0,  1, 20,  0,  1,  1, 20,  1,  4,  0,  3,  1,  1,  3,  0,  1,  1,\n",
       "          0,  0, 20,  1, 20, 20, 20, 20, 20, 20, 18,  0,  1,  0, 20, 20,  1,  1,\n",
       "         20,  1,  0, 20,  0, 20, 20,  1,  0, 20,  4,  1,  1, 20, 18, 20,  9, 18,\n",
       "         20,  1,  3, 20, 20,  1,  0,  1,  4,  1,  1,  1,  1, 18, 20,  1,  1, 20,\n",
       "         20,  0, 20,  1,  5, 20,  3,  1,  3, 20, 20, 20,  4,  0, 20, 20,  0,  0,\n",
       "          0,  0, 18, 20,  1, 20,  1,  0, 20, 14,  0, 14,  3,  0,  5,  4,  5,  5,\n",
       "         14,  1,  1,  1], dtype=torch.int32)]"
      ]
     },
     "execution_count": 13,
     "metadata": {},
     "output_type": "execute_result"
    }
   ],
   "source": [
    "next(iter(dataloader))"
   ]
  },
  {
   "cell_type": "code",
   "execution_count": 14,
   "id": "verified-radio",
   "metadata": {},
   "outputs": [
    {
     "name": "stdout",
     "output_type": "stream",
     "text": [
      "Elapsed time: 0:00:21.153855\n"
     ]
    }
   ],
   "source": [
    "print('Elapsed time:', dt.datetime.now() - START_DT)"
   ]
  },
  {
   "cell_type": "code",
   "execution_count": 15,
   "id": "accurate-elephant",
   "metadata": {
    "scrolled": true
   },
   "outputs": [
    {
     "data": {
      "application/vnd.jupyter.widget-view+json": {
       "model_id": "00030c437a2d48c7a5502ab1eae4619f",
       "version_major": 2,
       "version_minor": 0
      },
      "text/plain": [
       "  0%|          | 0/188 [00:00<?, ?it/s]"
      ]
     },
     "metadata": {},
     "output_type": "display_data"
    },
    {
     "name": "stdout",
     "output_type": "stream",
     "text": [
      "torch.Size([256, 842]) torch.Size([256])\n",
      "torch.Size([256, 842]) torch.Size([256])\n",
      "torch.Size([256, 842]) torch.Size([256])\n",
      "torch.Size([256, 842]) torch.Size([256])\n",
      "torch.Size([256, 842]) torch.Size([256])\n",
      "torch.Size([256, 842]) torch.Size([256])\n",
      "torch.Size([256, 842]) torch.Size([256])\n",
      "torch.Size([256, 842]) torch.Size([256])\n",
      "torch.Size([256, 842]) torch.Size([256])\n",
      "torch.Size([256, 842]) torch.Size([256])\n",
      "torch.Size([256, 842]) torch.Size([256])\n",
      "torch.Size([256, 842]) torch.Size([256])\n",
      "torch.Size([256, 842]) torch.Size([256])\n",
      "torch.Size([256, 842]) torch.Size([256])\n",
      "torch.Size([256, 842]) torch.Size([256])\n",
      "torch.Size([256, 842]) torch.Size([256])\n",
      "torch.Size([256, 842]) torch.Size([256])\n",
      "torch.Size([256, 842]) torch.Size([256])\n",
      "torch.Size([256, 842]) torch.Size([256])\n",
      "torch.Size([256, 842]) torch.Size([256])\n",
      "torch.Size([256, 842]) torch.Size([256])\n",
      "torch.Size([256, 842]) torch.Size([256])\n",
      "torch.Size([256, 842]) torch.Size([256])\n",
      "torch.Size([256, 842]) torch.Size([256])\n",
      "torch.Size([256, 842]) torch.Size([256])\n",
      "torch.Size([256, 842]) torch.Size([256])\n",
      "torch.Size([256, 842]) torch.Size([256])\n",
      "torch.Size([256, 842]) torch.Size([256])\n",
      "torch.Size([256, 842]) torch.Size([256])\n",
      "torch.Size([256, 842]) torch.Size([256])\n",
      "torch.Size([256, 842]) torch.Size([256])\n",
      "torch.Size([256, 842]) torch.Size([256])\n",
      "torch.Size([256, 842]) torch.Size([256])\n",
      "torch.Size([256, 842]) torch.Size([256])\n",
      "torch.Size([256, 842]) torch.Size([256])\n",
      "torch.Size([256, 842]) torch.Size([256])\n",
      "torch.Size([256, 842]) torch.Size([256])\n",
      "torch.Size([256, 842]) torch.Size([256])\n",
      "torch.Size([256, 842]) torch.Size([256])\n",
      "torch.Size([256, 842]) torch.Size([256])\n",
      "torch.Size([256, 842]) torch.Size([256])\n",
      "torch.Size([256, 842]) torch.Size([256])\n",
      "torch.Size([256, 842]) torch.Size([256])\n",
      "torch.Size([256, 842]) torch.Size([256])\n",
      "torch.Size([256, 842]) torch.Size([256])\n",
      "torch.Size([256, 842]) torch.Size([256])\n",
      "torch.Size([256, 842]) torch.Size([256])\n",
      "torch.Size([256, 842]) torch.Size([256])\n",
      "torch.Size([256, 842]) torch.Size([256])\n",
      "torch.Size([256, 842]) torch.Size([256])\n",
      "torch.Size([256, 842]) torch.Size([256])\n",
      "torch.Size([256, 842]) torch.Size([256])\n",
      "torch.Size([256, 842]) torch.Size([256])\n",
      "torch.Size([256, 842]) torch.Size([256])\n",
      "torch.Size([256, 842]) torch.Size([256])\n",
      "torch.Size([256, 842]) torch.Size([256])\n",
      "torch.Size([256, 842]) torch.Size([256])\n",
      "torch.Size([256, 842]) torch.Size([256])\n",
      "torch.Size([256, 842]) torch.Size([256])\n",
      "torch.Size([256, 842]) torch.Size([256])\n",
      "torch.Size([256, 842]) torch.Size([256])\n",
      "torch.Size([256, 842]) torch.Size([256])\n",
      "torch.Size([256, 842]) torch.Size([256])\n",
      "torch.Size([256, 842]) torch.Size([256])\n",
      "torch.Size([256, 842]) torch.Size([256])\n",
      "torch.Size([256, 842]) torch.Size([256])\n",
      "torch.Size([256, 842]) torch.Size([256])\n",
      "torch.Size([256, 842]) torch.Size([256])\n",
      "torch.Size([256, 842]) torch.Size([256])\n",
      "torch.Size([256, 842]) torch.Size([256])\n",
      "torch.Size([256, 842]) torch.Size([256])\n",
      "torch.Size([256, 842]) torch.Size([256])\n",
      "torch.Size([256, 842]) torch.Size([256])\n",
      "torch.Size([256, 842]) torch.Size([256])\n",
      "torch.Size([256, 842]) torch.Size([256])\n",
      "torch.Size([256, 842]) torch.Size([256])\n",
      "torch.Size([256, 842]) torch.Size([256])\n",
      "torch.Size([256, 842]) torch.Size([256])\n",
      "torch.Size([256, 842]) torch.Size([256])\n",
      "torch.Size([256, 842]) torch.Size([256])\n",
      "torch.Size([256, 842]) torch.Size([256])\n",
      "torch.Size([256, 842]) torch.Size([256])\n",
      "torch.Size([256, 842]) torch.Size([256])\n",
      "torch.Size([256, 842]) torch.Size([256])\n",
      "torch.Size([256, 842]) torch.Size([256])\n",
      "torch.Size([256, 842]) torch.Size([256])\n",
      "torch.Size([256, 842]) torch.Size([256])\n",
      "torch.Size([256, 842]) torch.Size([256])\n",
      "torch.Size([256, 842]) torch.Size([256])\n",
      "torch.Size([256, 842]) torch.Size([256])\n",
      "torch.Size([256, 842]) torch.Size([256])\n",
      "torch.Size([256, 842]) torch.Size([256])\n",
      "torch.Size([256, 842]) torch.Size([256])\n",
      "torch.Size([256, 842]) torch.Size([256])\n",
      "torch.Size([256, 842]) torch.Size([256])\n",
      "torch.Size([256, 842]) torch.Size([256])\n",
      "torch.Size([256, 842]) torch.Size([256])\n",
      "torch.Size([256, 842]) torch.Size([256])\n",
      "torch.Size([256, 842]) torch.Size([256])\n",
      "torch.Size([256, 842]) torch.Size([256])\n",
      "torch.Size([256, 842]) torch.Size([256])\n",
      "torch.Size([256, 842]) torch.Size([256])\n",
      "torch.Size([256, 842]) torch.Size([256])\n",
      "torch.Size([256, 842]) torch.Size([256])\n",
      "torch.Size([256, 842]) torch.Size([256])\n",
      "torch.Size([256, 842]) torch.Size([256])\n",
      "torch.Size([256, 842]) torch.Size([256])\n",
      "torch.Size([256, 842]) torch.Size([256])\n",
      "torch.Size([256, 842]) torch.Size([256])\n",
      "torch.Size([256, 842]) torch.Size([256])\n",
      "torch.Size([256, 842]) torch.Size([256])\n",
      "torch.Size([256, 842]) torch.Size([256])\n",
      "torch.Size([256, 842]) torch.Size([256])\n",
      "torch.Size([256, 842]) torch.Size([256])\n",
      "torch.Size([256, 842]) torch.Size([256])\n",
      "torch.Size([256, 842]) torch.Size([256])\n",
      "torch.Size([256, 842]) torch.Size([256])\n",
      "torch.Size([256, 842]) torch.Size([256])\n",
      "torch.Size([256, 842]) torch.Size([256])\n",
      "torch.Size([256, 842]) torch.Size([256])\n",
      "torch.Size([256, 842]) torch.Size([256])\n",
      "torch.Size([256, 842]) torch.Size([256])\n",
      "torch.Size([256, 842]) torch.Size([256])\n",
      "torch.Size([256, 842]) torch.Size([256])\n",
      "torch.Size([256, 842]) torch.Size([256])\n",
      "torch.Size([256, 842]) torch.Size([256])\n",
      "torch.Size([256, 842]) torch.Size([256])\n",
      "torch.Size([256, 842]) torch.Size([256])\n",
      "torch.Size([256, 842]) torch.Size([256])\n",
      "torch.Size([256, 842]) torch.Size([256])\n",
      "torch.Size([256, 842]) torch.Size([256])\n",
      "torch.Size([256, 842]) torch.Size([256])\n",
      "torch.Size([256, 842]) torch.Size([256])\n",
      "torch.Size([256, 842]) torch.Size([256])\n",
      "torch.Size([256, 842]) torch.Size([256])\n",
      "torch.Size([256, 842]) torch.Size([256])\n",
      "torch.Size([256, 842]) torch.Size([256])\n",
      "torch.Size([256, 842]) torch.Size([256])\n",
      "torch.Size([256, 842]) torch.Size([256])\n",
      "torch.Size([256, 842]) torch.Size([256])\n",
      "torch.Size([256, 842]) torch.Size([256])\n",
      "torch.Size([256, 842]) torch.Size([256])\n",
      "torch.Size([256, 842]) torch.Size([256])\n",
      "torch.Size([256, 842]) torch.Size([256])\n",
      "torch.Size([256, 842]) torch.Size([256])\n",
      "torch.Size([256, 842]) torch.Size([256])\n",
      "torch.Size([256, 842]) torch.Size([256])\n",
      "torch.Size([256, 842]) torch.Size([256])\n",
      "torch.Size([256, 842]) torch.Size([256])\n",
      "torch.Size([256, 842]) torch.Size([256])\n",
      "torch.Size([256, 842]) torch.Size([256])\n",
      "torch.Size([256, 842]) torch.Size([256])\n",
      "torch.Size([256, 842]) torch.Size([256])\n",
      "torch.Size([256, 842]) torch.Size([256])\n",
      "torch.Size([256, 842]) torch.Size([256])\n",
      "torch.Size([256, 842]) torch.Size([256])\n",
      "torch.Size([256, 842]) torch.Size([256])\n",
      "torch.Size([256, 842]) torch.Size([256])\n",
      "torch.Size([256, 842]) torch.Size([256])\n",
      "torch.Size([256, 842]) torch.Size([256])\n",
      "torch.Size([256, 842]) torch.Size([256])\n",
      "torch.Size([256, 842]) torch.Size([256])\n",
      "torch.Size([256, 842]) torch.Size([256])\n",
      "torch.Size([256, 842]) torch.Size([256])\n",
      "torch.Size([256, 842]) torch.Size([256])\n",
      "torch.Size([256, 842]) torch.Size([256])\n",
      "torch.Size([256, 842]) torch.Size([256])\n",
      "torch.Size([256, 842]) torch.Size([256])\n",
      "torch.Size([256, 842]) torch.Size([256])\n",
      "torch.Size([256, 842]) torch.Size([256])\n",
      "torch.Size([256, 842]) torch.Size([256])\n",
      "torch.Size([256, 842]) torch.Size([256])\n",
      "torch.Size([256, 842]) torch.Size([256])\n",
      "torch.Size([256, 842]) torch.Size([256])\n",
      "torch.Size([256, 842]) torch.Size([256])\n",
      "torch.Size([256, 842]) torch.Size([256])\n",
      "torch.Size([256, 842]) torch.Size([256])\n",
      "torch.Size([256, 842]) torch.Size([256])\n",
      "torch.Size([256, 842]) torch.Size([256])\n",
      "torch.Size([256, 842]) torch.Size([256])\n",
      "torch.Size([256, 842]) torch.Size([256])\n",
      "torch.Size([256, 842]) torch.Size([256])\n",
      "torch.Size([256, 842]) torch.Size([256])\n",
      "torch.Size([256, 842]) torch.Size([256])\n",
      "torch.Size([256, 842]) torch.Size([256])\n",
      "torch.Size([256, 842]) torch.Size([256])\n",
      "torch.Size([256, 842]) torch.Size([256])\n",
      "torch.Size([198, 842]) torch.Size([198])\n",
      "Wall time: 7min 42s\n"
     ]
    }
   ],
   "source": [
    "%%time\n",
    "\n",
    "NUM_BATCHES = len(dataloader)\n",
    "\n",
    "with trange(NUM_BATCHES) as bar:\n",
    "    for x, y in dataloader:\n",
    "        print(x.shape, y.shape)\n",
    "        bar.update(1)"
   ]
  },
  {
   "cell_type": "code",
   "execution_count": 16,
   "id": "transparent-office",
   "metadata": {},
   "outputs": [
    {
     "name": "stdout",
     "output_type": "stream",
     "text": [
      "Elapsed time: 0:08:03.681160\n"
     ]
    }
   ],
   "source": [
    "print('Elapsed time:', dt.datetime.now() - START_DT)"
   ]
  },
  {
   "cell_type": "code",
   "execution_count": 17,
   "id": "abstract-african",
   "metadata": {},
   "outputs": [
    {
     "name": "stdout",
     "output_type": "stream",
     "text": [
      "2021-03-22 08:24:03,056 - INFO - <ipython-input-2-e1d8b3799ba9>:<ipython-input-2-e1d8b3799ba9>:16 - List of dataset_names:['angular']\n",
      "2021-03-22 08:24:03,057 - INFO - <ipython-input-2-e1d8b3799ba9>:<ipython-input-2-e1d8b3799ba9>:21 - Dataset for angular\n",
      "2021-03-22 08:24:03,990 - INFO - <ipython-input-2-e1d8b3799ba9>:<ipython-input-2-e1d8b3799ba9>:23 - Dataset shape: (6450, 13)\n",
      "2021-03-22 08:24:03,991 - INFO - <ipython-input-2-e1d8b3799ba9>:<ipython-input-2-e1d8b3799ba9>:25 - cleaning tag_name from dummy/auxiliary words\n",
      "2021-03-22 08:24:03,994 - INFO - dataset:dataset.py:56 - select all leafs (nodes which are not parents)\n",
      "2021-03-22 08:24:03,996 - INFO - dataset:dataset.py:58 - Leafs set size: 3250 (nodes which have no children)\n",
      "2021-03-22 08:24:04,000 - INFO - dataset:dataset.py:61 - count number of references to leafs\n",
      "2021-03-22 08:24:04,003 - INFO - dataset:dataset.py:63 - Nodes with leafs as children set size: 1750 (nodes which have leafs as children)\n",
      "2021-03-22 08:24:04,008 - INFO - dataset:dataset.py:66 - count num children for each node\n",
      "2021-03-22 08:24:04,009 - INFO - dataset:dataset.py:68 - Nodes with children: 3201\n",
      "2021-03-22 08:24:04,014 - INFO - dataset:dataset.py:71 - sum of children widths, heights, counts\n",
      "2021-03-22 08:24:04,021 - INFO - dataset:dataset.py:76 - Sum of children widths\n",
      "2021-03-22 08:24:04,027 - INFO - dataset:dataset.py:80 - Sum of children hights\n",
      "2021-03-22 08:24:04,153 - INFO - <ipython-input-2-e1d8b3799ba9>:<ipython-input-2-e1d8b3799ba9>:34 - Dataset shape after merging with parents: (6450, 36)\n",
      "2021-03-22 08:24:04,154 - WARNING - <ipython-input-2-e1d8b3799ba9>:<ipython-input-2-e1d8b3799ba9>:39 - Load LABELS from dataset/annotations/angular.txt\n"
     ]
    },
    {
     "data": {
      "application/vnd.jupyter.widget-view+json": {
       "model_id": "5488374236564498aa21ea79c60e0578",
       "version_major": 2,
       "version_minor": 0
      },
      "text/plain": [
       "Assigning labels:   0%|          | 0/526 [00:00<?, ?it/s]"
      ]
     },
     "metadata": {},
     "output_type": "display_data"
    },
    {
     "name": "stdout",
     "output_type": "stream",
     "text": [
      "2021-03-22 08:24:11,215 - INFO - <ipython-input-2-e1d8b3799ba9>:<ipython-input-2-e1d8b3799ba9>:51 - Concatenate datasets\n",
      "2021-03-22 08:24:11,222 - INFO - <ipython-input-2-e1d8b3799ba9>:<ipython-input-2-e1d8b3799ba9>:53 - Dataset shape after reading: (6450, 38)\n",
      "2021-03-22 08:24:11,223 - INFO - <ipython-input-2-e1d8b3799ba9>:<ipython-input-2-e1d8b3799ba9>:60 - Build OHE column for attribute role\n",
      "2021-03-22 08:24:11,229 - INFO - <ipython-input-2-e1d8b3799ba9>:<ipython-input-2-e1d8b3799ba9>:60 - Build OHE column for attribute type\n",
      "2021-03-22 08:24:11,235 - INFO - <ipython-input-2-e1d8b3799ba9>:<ipython-input-2-e1d8b3799ba9>:60 - Build OHE column for attribute ui\n",
      "2021-03-22 08:24:11,243 - INFO - <ipython-input-2-e1d8b3799ba9>:<ipython-input-2-e1d8b3799ba9>:64 - Build OHE column for attribute role_parent\n",
      "2021-03-22 08:24:11,249 - INFO - <ipython-input-2-e1d8b3799ba9>:<ipython-input-2-e1d8b3799ba9>:64 - Build OHE column for attribute type_parent\n",
      "2021-03-22 08:24:11,255 - INFO - <ipython-input-2-e1d8b3799ba9>:<ipython-input-2-e1d8b3799ba9>:64 - Build OHE column for attribute ui_parent\n",
      "2021-03-22 08:24:11,262 - INFO - <ipython-input-2-e1d8b3799ba9>:<ipython-input-2-e1d8b3799ba9>:67 - OHE tag_name\n",
      "2021-03-22 08:24:11,262 - WARNING - <ipython-input-2-e1d8b3799ba9>:<ipython-input-2-e1d8b3799ba9>:168 - loading existing OHE for column \"tag_name\" from model/tag_name.pkl\n",
      "2021-03-22 08:24:11,266 - INFO - <ipython-input-2-e1d8b3799ba9>:<ipython-input-2-e1d8b3799ba9>:69 - tag_name_sm.shape: (6450, 269)\n",
      "2021-03-22 08:24:11,267 - INFO - <ipython-input-2-e1d8b3799ba9>:<ipython-input-2-e1d8b3799ba9>:71 - OHE tag_name_parent\n",
      "2021-03-22 08:24:11,267 - WARNING - <ipython-input-2-e1d8b3799ba9>:<ipython-input-2-e1d8b3799ba9>:168 - loading existing OHE for column \"tag_name_parent\" from model/tag_name.pkl\n",
      "2021-03-22 08:24:11,273 - INFO - <ipython-input-2-e1d8b3799ba9>:<ipython-input-2-e1d8b3799ba9>:73 - tag_name_parent_sm.shape: (6450, 269)\n",
      "2021-03-22 08:24:11,274 - INFO - <ipython-input-2-e1d8b3799ba9>:<ipython-input-2-e1d8b3799ba9>:75 - OHE ohe_role\n",
      "2021-03-22 08:24:11,274 - WARNING - <ipython-input-2-e1d8b3799ba9>:<ipython-input-2-e1d8b3799ba9>:168 - loading existing OHE for column \"ohe_role\" from model/ohe_role.pkl\n",
      "2021-03-22 08:24:11,277 - INFO - <ipython-input-2-e1d8b3799ba9>:<ipython-input-2-e1d8b3799ba9>:77 - ohe_role_sm.shape: (6450, 29)\n",
      "2021-03-22 08:24:11,278 - INFO - <ipython-input-2-e1d8b3799ba9>:<ipython-input-2-e1d8b3799ba9>:79 - OHE ohe_role_parent\n",
      "2021-03-22 08:24:11,278 - WARNING - <ipython-input-2-e1d8b3799ba9>:<ipython-input-2-e1d8b3799ba9>:168 - loading existing OHE for column \"ohe_role_parent\" from model/ohe_role.pkl\n",
      "2021-03-22 08:24:11,282 - INFO - <ipython-input-2-e1d8b3799ba9>:<ipython-input-2-e1d8b3799ba9>:81 - ohe_role_parent_sm.shape: (6450, 29)\n",
      "2021-03-22 08:24:11,282 - INFO - <ipython-input-2-e1d8b3799ba9>:<ipython-input-2-e1d8b3799ba9>:83 - OHE ohe_type\n",
      "2021-03-22 08:24:11,283 - WARNING - <ipython-input-2-e1d8b3799ba9>:<ipython-input-2-e1d8b3799ba9>:168 - loading existing OHE for column \"ohe_type\" from model/ohe_type.pkl\n",
      "2021-03-22 08:24:11,286 - INFO - <ipython-input-2-e1d8b3799ba9>:<ipython-input-2-e1d8b3799ba9>:85 - ohe_type_sm.shape: (6450, 22)\n",
      "2021-03-22 08:24:11,286 - INFO - <ipython-input-2-e1d8b3799ba9>:<ipython-input-2-e1d8b3799ba9>:87 - OHE ohe_type_parent\n",
      "2021-03-22 08:24:11,287 - WARNING - <ipython-input-2-e1d8b3799ba9>:<ipython-input-2-e1d8b3799ba9>:168 - loading existing OHE for column \"ohe_type_parent\" from model/ohe_type.pkl\n",
      "2021-03-22 08:24:11,289 - INFO - <ipython-input-2-e1d8b3799ba9>:<ipython-input-2-e1d8b3799ba9>:89 - ohe_type_parent_sm.shape: (6450, 22)\n",
      "2021-03-22 08:24:11,290 - INFO - <ipython-input-2-e1d8b3799ba9>:<ipython-input-2-e1d8b3799ba9>:91 - OHE ohe_ui\n",
      "2021-03-22 08:24:11,291 - WARNING - <ipython-input-2-e1d8b3799ba9>:<ipython-input-2-e1d8b3799ba9>:168 - loading existing OHE for column \"ohe_ui\" from model/ohe_ui.pkl\n",
      "2021-03-22 08:24:11,294 - INFO - <ipython-input-2-e1d8b3799ba9>:<ipython-input-2-e1d8b3799ba9>:93 - ohe_ui_sm.shape: (6450, 14)\n",
      "2021-03-22 08:24:11,294 - INFO - <ipython-input-2-e1d8b3799ba9>:<ipython-input-2-e1d8b3799ba9>:95 - OHE ohe_ui_parent\n",
      "2021-03-22 08:24:11,295 - WARNING - <ipython-input-2-e1d8b3799ba9>:<ipython-input-2-e1d8b3799ba9>:168 - loading existing OHE for column \"ohe_ui_parent\" from model/ohe_ui.pkl\n",
      "2021-03-22 08:24:11,297 - INFO - <ipython-input-2-e1d8b3799ba9>:<ipython-input-2-e1d8b3799ba9>:97 - ohe_ui_parent_sm.shape: (6450, 14)\n",
      "2021-03-22 08:24:11,415 - INFO - <ipython-input-2-e1d8b3799ba9>:<ipython-input-2-e1d8b3799ba9>:101 - Fit CountVectorizer for column \"attributes\"\n",
      "2021-03-22 08:24:11,416 - WARNING - <ipython-input-2-e1d8b3799ba9>:<ipython-input-2-e1d8b3799ba9>:190 - loading existing count vectorizer for column \"attributes_text\" from model/count_vectorizer_attributes_text.pkl\n",
      "2021-03-22 08:24:11,445 - INFO - <ipython-input-2-e1d8b3799ba9>:<ipython-input-2-e1d8b3799ba9>:103 - attributes_sm.shape: (6450, 76)\n",
      "2021-03-22 08:24:11,553 - INFO - <ipython-input-2-e1d8b3799ba9>:<ipython-input-2-e1d8b3799ba9>:107 - Fit CountVectorizer for column \"attributes_parent\"\n",
      "2021-03-22 08:24:11,554 - WARNING - <ipython-input-2-e1d8b3799ba9>:<ipython-input-2-e1d8b3799ba9>:190 - loading existing count vectorizer for column \"attributes_parent_text\" from model/count_vectorizer_attributes_text.pkl\n",
      "2021-03-22 08:24:11,584 - INFO - <ipython-input-2-e1d8b3799ba9>:<ipython-input-2-e1d8b3799ba9>:110 - attributes_parent_sm.shape: (6450, 76)\n",
      "2021-03-22 08:24:11,616 - INFO - <ipython-input-2-e1d8b3799ba9>:<ipython-input-2-e1d8b3799ba9>:131 - OHE columns sparse matrix: (6450, 842)\n"
     ]
    }
   ],
   "source": [
    "test_dataset = JDIDataset(dataset_names=['angular'], rebalance=False)"
   ]
  },
  {
   "cell_type": "code",
   "execution_count": 21,
   "id": "satellite-taste",
   "metadata": {},
   "outputs": [],
   "source": [
    "BATCH_SIZE = 1\n",
    "dataloader = DataLoader(test_dataset, shuffle=False, batch_size = BATCH_SIZE)"
   ]
  },
  {
   "cell_type": "code",
   "execution_count": 24,
   "id": "figured-score",
   "metadata": {},
   "outputs": [
    {
     "data": {
      "application/vnd.jupyter.widget-view+json": {
       "model_id": "7cff54dd059d432ab7282114ad1babf2",
       "version_major": 2,
       "version_minor": 0
      },
      "text/plain": [
       "  0%|          | 0/6450 [00:00<?, ?it/s]"
      ]
     },
     "metadata": {},
     "output_type": "display_data"
    },
    {
     "name": "stdout",
     "output_type": "stream",
     "text": [
      "Wall time: 8.88 s\n"
     ]
    }
   ],
   "source": [
    "%%time\n",
    "\n",
    "NUM_BATCHES = len(dataloader)\n",
    "\n",
    "with trange(NUM_BATCHES) as bar:\n",
    "    for x, y in dataloader:\n",
    "        #print(x.shape, y)\n",
    "        bar.update(1)"
   ]
  },
  {
   "cell_type": "code",
   "execution_count": null,
   "id": "employed-spirit",
   "metadata": {},
   "outputs": [],
   "source": []
  }
 ],
 "metadata": {
  "kernelspec": {
   "display_name": "Python 3",
   "language": "python",
   "name": "python3"
  },
  "language_info": {
   "codemirror_mode": {
    "name": "ipython",
    "version": 3
   },
   "file_extension": ".py",
   "mimetype": "text/x-python",
   "name": "python",
   "nbconvert_exporter": "python",
   "pygments_lexer": "ipython3",
   "version": "3.7.9"
  }
 },
 "nbformat": 4,
 "nbformat_minor": 5
}
