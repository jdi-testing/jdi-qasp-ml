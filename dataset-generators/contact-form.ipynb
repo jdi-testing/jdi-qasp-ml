{
 "cells": [
  {
   "cell_type": "code",
   "execution_count": 1,
   "id": "ae727196",
   "metadata": {},
   "outputs": [
    {
     "name": "stdout",
     "output_type": "stream",
     "text": [
      "2021-06-09 17:41:54,177 -INFO - config:config.py:16 - Module utils.config was loaded\n",
      "2021-06-09 17:41:54,179 -INFO - common:common.py:616 - Module utils.common is loaded...\n",
      "2021-06-09 17:41:54,181 -INFO - hidden:hidden.py:121 - hidden module is loaded\n",
      "2021-06-09 17:41:54,183 -INFO - dataset_builder:dataset_builder.py:202 - dataset package is loaded...\n",
      "2021-06-09 17:41:54,797 -INFO - dataset:dataset.py:653 - dataset module is loaded...\n"
     ]
    },
    {
     "data": {
      "text/html": [
       "2021-06-09 17:41:54.798150 - Current working directory: <b>D:\\DataScience\\!WORK\\jdi-qasp-ml</b>"
      ],
      "text/plain": [
       "<IPython.core.display.HTML object>"
      ]
     },
     "metadata": {},
     "output_type": "display_data"
    }
   ],
   "source": [
    "import sys\n",
    "import re\n",
    "import os\n",
    "from datetime import datetime\n",
    "from time import sleep\n",
    "from IPython.display import display, clear_output, HTML\n",
    "\n",
    "# set working dir\n",
    "WORKING_DIR = re.sub('jdi-qasp-ml.*$','',os.path.normpath(os.getcwd())) + 'jdi-qasp-ml'\n",
    "os.chdir(WORKING_DIR)\n",
    "\n",
    "import utils\n",
    "from utils import *\n",
    "import torch\n",
    "import pandas as pd\n",
    "import numpy as np\n",
    "import torch\n",
    "from glob import glob\n",
    "import selenium\n",
    "from tqdm.auto import tqdm\n",
    "\n",
    "START_TS = datetime.now()\n",
    "display(HTML(f'{START_TS} - Current working directory: <b>{WORKING_DIR}</b>'))\n",
    "\n",
    "import matplotlib.pyplot as plt\n",
    "import matplotlib.patches as patches\n",
    "%matplotlib inline\n",
    "\n",
    "import numba\n",
    "\n"
   ]
  },
  {
   "cell_type": "code",
   "execution_count": 2,
   "id": "dd856dd9",
   "metadata": {},
   "outputs": [],
   "source": [
    "from utils import get_all_elements, iou_xywh, screenshot, maximize_window, get_parents_list, build_tree_dict, DatasetBuilder"
   ]
  },
  {
   "cell_type": "code",
   "execution_count": 3,
   "id": "fa9e3100",
   "metadata": {},
   "outputs": [
    {
     "data": {
      "text/plain": [
       "'3.141.0'"
      ]
     },
     "execution_count": 3,
     "metadata": {},
     "output_type": "execute_result"
    }
   ],
   "source": [
    "selenium.__version__"
   ]
  },
  {
   "cell_type": "markdown",
   "id": "667a9705",
   "metadata": {},
   "source": [
    "# Parameters"
   ]
  },
  {
   "cell_type": "code",
   "execution_count": 4,
   "id": "f1f53234",
   "metadata": {},
   "outputs": [],
   "source": [
    "SITE_URL = 'https://jdi-testing.github.io/jdi-light/'\n",
    "LOGIN = 'Roman'\n",
    "PASSWORD = 'Jdi1234'\n",
    "SAVE_SCREEN = True\n",
    "WAIT_TIME_SECONDS = 7\n",
    "HEADLESS = True #False"
   ]
  },
  {
   "cell_type": "code",
   "execution_count": 5,
   "id": "8831117f",
   "metadata": {},
   "outputs": [
    {
     "data": {
      "text/plain": [
       "({0: 'button',\n",
       "  1: 'link',\n",
       "  2: 'textfield',\n",
       "  3: 'dropdown',\n",
       "  4: 'checkbox',\n",
       "  5: 'radiobutton',\n",
       "  6: 'textarea',\n",
       "  7: 'fileinput',\n",
       "  8: 'iframe',\n",
       "  9: 'range',\n",
       "  10: 'progressbar',\n",
       "  11: 'datetimeselector',\n",
       "  12: 'colorpicker',\n",
       "  13: 'numberselector',\n",
       "  14: 'selector',\n",
       "  15: 'table',\n",
       "  16: 'slider-toggle',\n",
       "  17: 'slider',\n",
       "  18: 'tree-node',\n",
       "  19: 'steper',\n",
       "  20: 'tab',\n",
       "  21: 'n/a'},\n",
       " {'button': 0,\n",
       "  'link': 1,\n",
       "  'textfield': 2,\n",
       "  'dropdown': 3,\n",
       "  'checkbox': 4,\n",
       "  'radiobutton': 5,\n",
       "  'textarea': 6,\n",
       "  'fileinput': 7,\n",
       "  'iframe': 8,\n",
       "  'range': 9,\n",
       "  'progressbar': 10,\n",
       "  'datetimeselector': 11,\n",
       "  'colorpicker': 12,\n",
       "  'numberselector': 13,\n",
       "  'selector': 14,\n",
       "  'table': 15,\n",
       "  'slider-toggle': 16,\n",
       "  'slider': 17,\n",
       "  'tree-node': 18,\n",
       "  'steper': 19,\n",
       "  'tab': 20,\n",
       "  'n/a': 21})"
      ]
     },
     "execution_count": 5,
     "metadata": {},
     "output_type": "execute_result"
    }
   ],
   "source": [
    "with open('dataset/classes.txt', 'r') as f:\n",
    "    decoder_dict = { i:s.strip() for i, s in  enumerate(f.readlines())}\n",
    "    encoder_dict = { v: k for k, v in decoder_dict.items()}\n",
    "decoder_dict, encoder_dict"
   ]
  },
  {
   "cell_type": "markdown",
   "id": "f5daf45b",
   "metadata": {},
   "source": [
    "# Generate dataset"
   ]
  },
  {
   "cell_type": "code",
   "execution_count": 6,
   "id": "79ccbc29",
   "metadata": {},
   "outputs": [],
   "source": [
    "DATASET_NAME = 'contact-form'"
   ]
  },
  {
   "cell_type": "raw",
   "id": "ca3b19c2",
   "metadata": {},
   "source": [
    "class JDIDatasetBuilder(DatasetBuilder):\n",
    "\n",
    "    def setUp(self, driver):\n",
    "        self.logger.info(f'getting page')\n",
    "        driver.get(SITE_URL)\n",
    "        \n",
    "        driver.find_element_by_id(\"user-icon\").click()\n",
    "        driver.find_element_by_id(\"name\").send_keys(LOGIN)\n",
    "        driver.find_element_by_id(\"password\").send_keys(PASSWORD)\n",
    "        driver.find_element_by_id(\"login-button\").click()\n",
    "        sleep(WAIT_TIME_SECONDS)\n",
    "        \n",
    "        driver.find_element_by_link_text(\"Contact form\").click()\n",
    "        #driver.find_element_by_link_text(\"Bootstrap forms\").click()\n",
    "        #sleep(WAIT_TIME_SECONDS)\n",
    "        \n",
    "#         driver.find_element_by_link_text(\"Service\").click()\n",
    "#         driver.find_element_by_link_text(\"Complex Table\").click()\n",
    "        maximize_window(driver=driver)\n",
    "        sleep(WAIT_TIME_SECONDS)\n",
    "        \n",
    "\n",
    "with JDIDatasetBuilder(url=SITE_URL, dataset_name=DATASET_NAME, headless=True) as builder:\n",
    "    elements_df = builder.dataset\n",
    "    plt.imshow(plt.imread(f'dataset/images/{DATASET_NAME}.png'))"
   ]
  },
  {
   "cell_type": "code",
   "execution_count": 7,
   "id": "4acc0e25",
   "metadata": {},
   "outputs": [],
   "source": [
    "df = pd.read_parquet(f'dataset/df/{DATASET_NAME}.parquet')"
   ]
  },
  {
   "cell_type": "code",
   "execution_count": 8,
   "id": "2a1fa64a",
   "metadata": {},
   "outputs": [
    {
     "name": "stdout",
     "output_type": "stream",
     "text": [
      "2021-06-09 17:41:55,075 -INFO - hidden:hidden.py:107 - build field \"is_hidden\"\n"
     ]
    }
   ],
   "source": [
    "df = build_features(df)"
   ]
  },
  {
   "cell_type": "code",
   "execution_count": 9,
   "id": "91e8138a",
   "metadata": {},
   "outputs": [],
   "source": [
    "elements_dict = build_elements_dict(df)"
   ]
  },
  {
   "cell_type": "code",
   "execution_count": 10,
   "id": "a18b0488",
   "metadata": {},
   "outputs": [
    {
     "data": {
      "text/html": [
       "<div>\n",
       "<style scoped>\n",
       "    .dataframe tbody tr th:only-of-type {\n",
       "        vertical-align: middle;\n",
       "    }\n",
       "\n",
       "    .dataframe tbody tr th {\n",
       "        vertical-align: top;\n",
       "    }\n",
       "\n",
       "    .dataframe thead th {\n",
       "        text-align: right;\n",
       "    }\n",
       "</style>\n",
       "<table border=\"1\" class=\"dataframe\">\n",
       "  <thead>\n",
       "    <tr style=\"text-align: right;\">\n",
       "      <th></th>\n",
       "      <th>tag_name</th>\n",
       "      <th>element_id</th>\n",
       "      <th>parent_id</th>\n",
       "      <th>upper_sibling</th>\n",
       "      <th>lower_sibling</th>\n",
       "      <th>displayed</th>\n",
       "      <th>is_hidden</th>\n",
       "      <th>x</th>\n",
       "      <th>y</th>\n",
       "      <th>width</th>\n",
       "      <th>height</th>\n",
       "    </tr>\n",
       "  </thead>\n",
       "  <tbody>\n",
       "    <tr>\n",
       "      <th>0</th>\n",
       "      <td>HTML</td>\n",
       "      <td>0115620405486209628526219678</td>\n",
       "      <td>None</td>\n",
       "      <td>None</td>\n",
       "      <td>None</td>\n",
       "      <td>True</td>\n",
       "      <td>0</td>\n",
       "      <td>0.000000</td>\n",
       "      <td>0.0</td>\n",
       "      <td>1183.000000</td>\n",
       "      <td>861.0</td>\n",
       "    </tr>\n",
       "    <tr>\n",
       "      <th>1</th>\n",
       "      <td>HEAD</td>\n",
       "      <td>7139341153486209624943449581</td>\n",
       "      <td>0115620405486209628526219678</td>\n",
       "      <td>None</td>\n",
       "      <td>1064178599486209620976677771</td>\n",
       "      <td>False</td>\n",
       "      <td>0</td>\n",
       "      <td>0.000000</td>\n",
       "      <td>0.0</td>\n",
       "      <td>0.000000</td>\n",
       "      <td>0.0</td>\n",
       "    </tr>\n",
       "    <tr>\n",
       "      <th>2</th>\n",
       "      <td>META</td>\n",
       "      <td>9086147699486209624077011338</td>\n",
       "      <td>7139341153486209624943449581</td>\n",
       "      <td>None</td>\n",
       "      <td>3387206599486209626920495702</td>\n",
       "      <td>False</td>\n",
       "      <td>0</td>\n",
       "      <td>0.000000</td>\n",
       "      <td>0.0</td>\n",
       "      <td>0.000000</td>\n",
       "      <td>0.0</td>\n",
       "    </tr>\n",
       "    <tr>\n",
       "      <th>3</th>\n",
       "      <td>TITLE</td>\n",
       "      <td>3387206599486209626920495702</td>\n",
       "      <td>7139341153486209624943449581</td>\n",
       "      <td>9086147699486209624077011338</td>\n",
       "      <td>8574964087486209620349038104</td>\n",
       "      <td>False</td>\n",
       "      <td>0</td>\n",
       "      <td>0.000000</td>\n",
       "      <td>0.0</td>\n",
       "      <td>0.000000</td>\n",
       "      <td>0.0</td>\n",
       "    </tr>\n",
       "    <tr>\n",
       "      <th>4</th>\n",
       "      <td>META</td>\n",
       "      <td>8574964087486209620349038104</td>\n",
       "      <td>7139341153486209624943449581</td>\n",
       "      <td>3387206599486209626920495702</td>\n",
       "      <td>5061266808486209627624289143</td>\n",
       "      <td>False</td>\n",
       "      <td>0</td>\n",
       "      <td>0.000000</td>\n",
       "      <td>0.0</td>\n",
       "      <td>0.000000</td>\n",
       "      <td>0.0</td>\n",
       "    </tr>\n",
       "    <tr>\n",
       "      <th>...</th>\n",
       "      <td>...</td>\n",
       "      <td>...</td>\n",
       "      <td>...</td>\n",
       "      <td>...</td>\n",
       "      <td>...</td>\n",
       "      <td>...</td>\n",
       "      <td>...</td>\n",
       "      <td>...</td>\n",
       "      <td>...</td>\n",
       "      <td>...</td>\n",
       "      <td>...</td>\n",
       "    </tr>\n",
       "    <tr>\n",
       "      <th>334</th>\n",
       "      <td>A</td>\n",
       "      <td>2754604340486209633589749818</td>\n",
       "      <td>6468319040486209634796161439</td>\n",
       "      <td>None</td>\n",
       "      <td>None</td>\n",
       "      <td>True</td>\n",
       "      <td>0</td>\n",
       "      <td>1052.718750</td>\n",
       "      <td>839.0</td>\n",
       "      <td>30.265625</td>\n",
       "      <td>15.0</td>\n",
       "    </tr>\n",
       "    <tr>\n",
       "      <th>335</th>\n",
       "      <td>LI</td>\n",
       "      <td>5243457087486209639806683244</td>\n",
       "      <td>8779026326486209630539556034</td>\n",
       "      <td>6468319040486209634796161439</td>\n",
       "      <td>5514620468486209635198976934</td>\n",
       "      <td>True</td>\n",
       "      <td>0</td>\n",
       "      <td>1097.984375</td>\n",
       "      <td>839.0</td>\n",
       "      <td>2.906250</td>\n",
       "      <td>15.0</td>\n",
       "    </tr>\n",
       "    <tr>\n",
       "      <th>336</th>\n",
       "      <td>LI</td>\n",
       "      <td>5514620468486209635198976934</td>\n",
       "      <td>8779026326486209630539556034</td>\n",
       "      <td>5243457087486209639806683244</td>\n",
       "      <td>None</td>\n",
       "      <td>True</td>\n",
       "      <td>0</td>\n",
       "      <td>1115.890625</td>\n",
       "      <td>839.0</td>\n",
       "      <td>64.109375</td>\n",
       "      <td>15.0</td>\n",
       "    </tr>\n",
       "    <tr>\n",
       "      <th>337</th>\n",
       "      <td>A</td>\n",
       "      <td>1331571536486209639302963359</td>\n",
       "      <td>5514620468486209635198976934</td>\n",
       "      <td>None</td>\n",
       "      <td>None</td>\n",
       "      <td>True</td>\n",
       "      <td>0</td>\n",
       "      <td>1115.890625</td>\n",
       "      <td>839.0</td>\n",
       "      <td>64.109375</td>\n",
       "      <td>15.0</td>\n",
       "    </tr>\n",
       "    <tr>\n",
       "      <th>338</th>\n",
       "      <td>SCRIPT</td>\n",
       "      <td>0869445625486209634617781109</td>\n",
       "      <td>1064178599486209620976677771</td>\n",
       "      <td>8983287946486209631183596574</td>\n",
       "      <td>None</td>\n",
       "      <td>False</td>\n",
       "      <td>1</td>\n",
       "      <td>0.000000</td>\n",
       "      <td>0.0</td>\n",
       "      <td>0.000000</td>\n",
       "      <td>0.0</td>\n",
       "    </tr>\n",
       "  </tbody>\n",
       "</table>\n",
       "<p>339 rows × 11 columns</p>\n",
       "</div>"
      ],
      "text/plain": [
       "    tag_name                    element_id                     parent_id  \\\n",
       "0       HTML  0115620405486209628526219678                          None   \n",
       "1       HEAD  7139341153486209624943449581  0115620405486209628526219678   \n",
       "2       META  9086147699486209624077011338  7139341153486209624943449581   \n",
       "3      TITLE  3387206599486209626920495702  7139341153486209624943449581   \n",
       "4       META  8574964087486209620349038104  7139341153486209624943449581   \n",
       "..       ...                           ...                           ...   \n",
       "334        A  2754604340486209633589749818  6468319040486209634796161439   \n",
       "335       LI  5243457087486209639806683244  8779026326486209630539556034   \n",
       "336       LI  5514620468486209635198976934  8779026326486209630539556034   \n",
       "337        A  1331571536486209639302963359  5514620468486209635198976934   \n",
       "338   SCRIPT  0869445625486209634617781109  1064178599486209620976677771   \n",
       "\n",
       "                    upper_sibling                 lower_sibling  displayed  \\\n",
       "0                            None                          None       True   \n",
       "1                            None  1064178599486209620976677771      False   \n",
       "2                            None  3387206599486209626920495702      False   \n",
       "3    9086147699486209624077011338  8574964087486209620349038104      False   \n",
       "4    3387206599486209626920495702  5061266808486209627624289143      False   \n",
       "..                            ...                           ...        ...   \n",
       "334                          None                          None       True   \n",
       "335  6468319040486209634796161439  5514620468486209635198976934       True   \n",
       "336  5243457087486209639806683244                          None       True   \n",
       "337                          None                          None       True   \n",
       "338  8983287946486209631183596574                          None      False   \n",
       "\n",
       "     is_hidden            x      y        width  height  \n",
       "0            0     0.000000    0.0  1183.000000   861.0  \n",
       "1            0     0.000000    0.0     0.000000     0.0  \n",
       "2            0     0.000000    0.0     0.000000     0.0  \n",
       "3            0     0.000000    0.0     0.000000     0.0  \n",
       "4            0     0.000000    0.0     0.000000     0.0  \n",
       "..         ...          ...    ...          ...     ...  \n",
       "334          0  1052.718750  839.0    30.265625    15.0  \n",
       "335          0  1097.984375  839.0     2.906250    15.0  \n",
       "336          0  1115.890625  839.0    64.109375    15.0  \n",
       "337          0  1115.890625  839.0    64.109375    15.0  \n",
       "338          1     0.000000    0.0     0.000000     0.0  \n",
       "\n",
       "[339 rows x 11 columns]"
      ]
     },
     "execution_count": 10,
     "metadata": {},
     "output_type": "execute_result"
    }
   ],
   "source": [
    "df[['tag_name', 'element_id', 'parent_id', 'upper_sibling', 'lower_sibling', 'displayed', 'is_hidden', 'x', 'y', 'width', 'height']]"
   ]
  },
  {
   "cell_type": "code",
   "execution_count": 11,
   "id": "3635e541",
   "metadata": {},
   "outputs": [
    {
     "name": "stdout",
     "output_type": "stream",
     "text": [
      "2021-06-09 17:41:55,455 -INFO - common:common.py:489 - Num radio buttons found: 8\n",
      "2021-06-09 17:41:55,458 -INFO - common:common.py:493 - Num radio2 buttons found: 0\n",
      "2021-06-09 17:41:55,460 -INFO - common:common.py:500 - Num checkboxes found: 4\n",
      "2021-06-09 17:41:55,463 -INFO - common:common.py:507 - Num comboboxes/dropdowns found: 0\n",
      "2021-06-09 17:41:55,466 -INFO - common:common.py:518 - Num textfields found: 7\n",
      "2021-06-09 17:41:55,469 -INFO - common:common.py:523 - Num texfields for numbers found: 0\n",
      "2021-06-09 17:41:55,472 -INFO - common:common.py:528 - Num ranges found: 0\n",
      "2021-06-09 17:41:55,474 -INFO - common:common.py:533 - Num ordinary text inputs found: 0\n",
      "2021-06-09 17:41:55,476 -INFO - common:common.py:536 - Num buttons found: 5\n",
      "2021-06-09 17:41:55,478 -INFO - common:common.py:541 - Num buttons1 found: 1\n",
      "2021-06-09 17:41:55,480 -INFO - common:common.py:546 - Num buttons2 (Material-UI) found: 0\n",
      "2021-06-09 17:41:55,482 -INFO - common:common.py:551 - Num links found: 43\n",
      "(22, 8)\n"
     ]
    }
   ],
   "source": [
    "predictions_df = rule_base_predict(df)\n",
    "print(predictions_df.shape)\n",
    "# predictions_df"
   ]
  },
  {
   "cell_type": "markdown",
   "id": "acc6e75f",
   "metadata": {},
   "source": [
    "# **Enrich predictions**"
   ]
  },
  {
   "cell_type": "code",
   "execution_count": 12,
   "id": "61514667",
   "metadata": {
    "scrolled": false
   },
   "outputs": [],
   "source": [
    "# img = load_gray_image(f'dataset/images/{DATASET_NAME}.png')\n",
    "# img_height, img_width = img.shape\n",
    "# print(img_width, img_height)\n",
    "# plt.figure(figsize=(15, 500))\n",
    "# plt.imshow(img, cmap='gray')\n",
    "# axes = plt.gca()\n",
    "\n",
    "# for _, r in predictions_df.iterrows():\n",
    "    \n",
    "#     patch = patches.Rectangle((r.x, r.y), r.width, r.height, linewidth=2, alpha = .3, facecolor = 'red', edgecolor ='black')\n",
    "#     axes.add_patch(patch)\n",
    "#     plt.text(r.x, r.y, \n",
    "#              decoder_dict[r.label] + ':',  ## + r.element_id, \n",
    "#              fontsize = 10, \n",
    "#              color = 'white', \n",
    "#              backgroundcolor='black',\n",
    "#              alpha=1.)\n",
    "    "
   ]
  },
  {
   "cell_type": "markdown",
   "id": "b80e9bc1",
   "metadata": {},
   "source": [
    "# Generate and Save Labels"
   ]
  },
  {
   "cell_type": "code",
   "execution_count": 13,
   "id": "b6192d53",
   "metadata": {},
   "outputs": [],
   "source": [
    "# labels = build_to_yolo(df = predictions_df, img_width=img_width, img_heght=img_height)\n",
    "# labels"
   ]
  },
  {
   "cell_type": "code",
   "execution_count": 14,
   "id": "12eaa333",
   "metadata": {},
   "outputs": [],
   "source": [
    "# labeled_df = pd.DataFrame(labels, columns=['label', 'x', 'y', 'width', 'height'])\n",
    "# labeled_df.label = labeled_df.label.astype(int)\n",
    "# display(labeled_df)\n",
    "# labeled_df.to_csv(f'dataset/annotations/{DATASET_NAME}.txt', header=False, sep=' ', index=False)"
   ]
  },
  {
   "cell_type": "markdown",
   "id": "3252751e",
   "metadata": {},
   "source": [
    "# Preview Labels"
   ]
  },
  {
   "cell_type": "code",
   "execution_count": 24,
   "id": "f1832b8d",
   "metadata": {},
   "outputs": [],
   "source": [
    "img = load_gray_image(f'dataset/images/{DATASET_NAME}.png')\n",
    "img_height, img_width = img.shape\n"
   ]
  },
  {
   "cell_type": "code",
   "execution_count": 25,
   "id": "5df9d5df",
   "metadata": {},
   "outputs": [
    {
     "data": {
      "text/html": [
       "<div>\n",
       "<style scoped>\n",
       "    .dataframe tbody tr th:only-of-type {\n",
       "        vertical-align: middle;\n",
       "    }\n",
       "\n",
       "    .dataframe tbody tr th {\n",
       "        vertical-align: top;\n",
       "    }\n",
       "\n",
       "    .dataframe thead th {\n",
       "        text-align: right;\n",
       "    }\n",
       "</style>\n",
       "<table border=\"1\" class=\"dataframe\">\n",
       "  <thead>\n",
       "    <tr style=\"text-align: right;\">\n",
       "      <th></th>\n",
       "      <th>label</th>\n",
       "      <th>x</th>\n",
       "      <th>y</th>\n",
       "      <th>width</th>\n",
       "      <th>height</th>\n",
       "      <th>box</th>\n",
       "    </tr>\n",
       "  </thead>\n",
       "  <tbody>\n",
       "    <tr>\n",
       "      <th>0</th>\n",
       "      <td>1</td>\n",
       "      <td>0.049583</td>\n",
       "      <td>0.033030</td>\n",
       "      <td>0.069167</td>\n",
       "      <td>0.027335</td>\n",
       "      <td>(17, 17, 83, 24)</td>\n",
       "    </tr>\n",
       "    <tr>\n",
       "      <th>1</th>\n",
       "      <td>1</td>\n",
       "      <td>0.130833</td>\n",
       "      <td>0.034169</td>\n",
       "      <td>0.063333</td>\n",
       "      <td>0.029613</td>\n",
       "      <td>(118, 17, 75, 26)</td>\n",
       "    </tr>\n",
       "    <tr>\n",
       "      <th>2</th>\n",
       "      <td>1</td>\n",
       "      <td>0.214583</td>\n",
       "      <td>0.031891</td>\n",
       "      <td>0.047500</td>\n",
       "      <td>0.061503</td>\n",
       "      <td>(228, 1, 57, 53)</td>\n",
       "    </tr>\n",
       "    <tr>\n",
       "      <th>3</th>\n",
       "      <td>1</td>\n",
       "      <td>0.291250</td>\n",
       "      <td>0.033030</td>\n",
       "      <td>0.095833</td>\n",
       "      <td>0.063781</td>\n",
       "      <td>(292, 1, 114, 55)</td>\n",
       "    </tr>\n",
       "    <tr>\n",
       "      <th>4</th>\n",
       "      <td>1</td>\n",
       "      <td>0.380833</td>\n",
       "      <td>0.033599</td>\n",
       "      <td>0.071667</td>\n",
       "      <td>0.064920</td>\n",
       "      <td>(413, 1, 86, 56)</td>\n",
       "    </tr>\n",
       "  </tbody>\n",
       "</table>\n",
       "</div>"
      ],
      "text/plain": [
       "   label         x         y     width    height                box\n",
       "0      1  0.049583  0.033030  0.069167  0.027335   (17, 17, 83, 24)\n",
       "1      1  0.130833  0.034169  0.063333  0.029613  (118, 17, 75, 26)\n",
       "2      1  0.214583  0.031891  0.047500  0.061503   (228, 1, 57, 53)\n",
       "3      1  0.291250  0.033030  0.095833  0.063781  (292, 1, 114, 55)\n",
       "4      1  0.380833  0.033599  0.071667  0.064920   (413, 1, 86, 56)"
      ]
     },
     "execution_count": 25,
     "metadata": {},
     "output_type": "execute_result"
    }
   ],
   "source": [
    "boxes_df = pd.read_csv(f'dataset/annotations/{DATASET_NAME}.txt', sep=' ', names = ['label', 'x', 'y', 'width', 'height'])\n",
    "boxes_df\n",
    "boxes_df['box'] = boxes_df.apply(lambda r: from_yolo(r.x, r.y, r.width, r.height, img_width=img_width, img_height=img_height), axis=1)\n",
    "boxes_df.head()"
   ]
  },
  {
   "cell_type": "code",
   "execution_count": 26,
   "id": "1834f51a",
   "metadata": {
    "scrolled": true
   },
   "outputs": [],
   "source": [
    "# img = load_gray_image(f'dataset/images/{DATASET_NAME}.png')\n",
    "# img_height, img_width = img.shape\n",
    "# print(img_width, img_height)\n",
    "# plt.figure(figsize=(15, 500))\n",
    "# plt.imshow(img, cmap='gray')\n",
    "# axes = plt.gca()\n",
    "\n",
    "# for i, r in boxes_df.iterrows():\n",
    "#     x, y, w, h = from_yolo(r.x, r.y, r.width, r.height, img_width=img_width, img_height=img_height)    \n",
    "#     patch = patches.Rectangle((x, y), w, h, linewidth=2, alpha = .3, facecolor = 'red', edgecolor ='black')\n",
    "#     axes.add_patch(patch)\n",
    "#     plt.text(x, y, \n",
    "#              f'({i})' + decoder_dict[r.label] + ':',  ## + r.element_id, \n",
    "#              fontsize = 10, \n",
    "#              color = 'white', \n",
    "#              backgroundcolor='black',\n",
    "#              alpha=1.)\n",
    "    "
   ]
  },
  {
   "cell_type": "code",
   "execution_count": 27,
   "id": "b0cf0314",
   "metadata": {},
   "outputs": [
    {
     "data": {
      "text/plain": [
       "Index(['attributes', 'displayed', 'element_id', 'height', 'onmouseenter',\n",
       "       'onmouseover', 'parent_id', 'style', 'tag_name', 'text', 'width', 'x',\n",
       "       'y', 'is_hidden', 'upper_sibling', 'lower_sibling', 'siblings', 'idx',\n",
       "       'label', 'annotation_line_no', 'iou', 'tag', 'label_text'],\n",
       "      dtype='object')"
      ]
     },
     "execution_count": 27,
     "metadata": {},
     "output_type": "execute_result"
    }
   ],
   "source": [
    "# df = pd.read_parquet(f'dataset/df/{DATASET_NAME}.parquet')\n",
    "df.columns"
   ]
  },
  {
   "cell_type": "code",
   "execution_count": 28,
   "id": "d800ce46",
   "metadata": {},
   "outputs": [],
   "source": [
    "columns_to_drop = set(df.columns).intersection(set(['label', 'annotation_line_no', 'iou', 'tag', 'label_text']))\n",
    "if len(columns_to_drop) >= 0:\n",
    "    df.drop(columns=columns_to_drop, inplace=True)"
   ]
  },
  {
   "cell_type": "code",
   "execution_count": 29,
   "id": "c34ba089",
   "metadata": {
    "scrolled": false
   },
   "outputs": [
    {
     "name": "stdout",
     "output_type": "stream",
     "text": [
      "2021-06-09 17:43:24,796 -INFO - labels:labels.py:40 - Assign labels from annotation file: dataset/annotations/contact-form.txt\n",
      "2021-06-09 17:43:24,797 -INFO - labels:labels.py:42 - Getting image size\n",
      "2021-06-09 17:43:24,798 -INFO - labels:labels.py:44 - Image size (w,h): (1200, 878)\n",
      "2021-06-09 17:43:24,799 -INFO - labels:labels.py:49 - {'button': 0, 'link': 1, 'textfield': 2, 'dropdown': 3, 'checkbox': 4, 'radiobutton': 5, 'textarea': 6, 'fileinput': 7, 'iframe': 8, 'range': 9, 'progressbar': 10, 'datetimeselector': 11, 'colorpicker': 12, 'numberselector': 13, 'selector': 14, 'table': 15, 'slider-toggle': 16, 'slider': 17, 'tree-node': 18, 'steper': 19, 'tab': 20, 'n/a': 21}\n",
      "2021-06-09 17:43:24,799 -INFO - labels:labels.py:57 - getting \"n/a\" class code\n",
      "2021-06-09 17:43:24,799 -INFO - labels:labels.py:64 - \"n/a\" class code: 21\n",
      "2021-06-09 17:43:24,801 -INFO - labels:labels.py:74 - 37 annotation has been read\n"
     ]
    },
    {
     "data": {
      "application/vnd.jupyter.widget-view+json": {
       "model_id": "f96f306336d642a295d3b7d4ceaaa4b2",
       "version_major": 2,
       "version_minor": 0
      },
      "text/plain": [
       "Assign labels:   0%|          | 0/37 [00:00<?, ?it/s]"
      ]
     },
     "metadata": {},
     "output_type": "display_data"
    },
    {
     "name": "stdout",
     "output_type": "stream",
     "text": [
      "2021-06-09 17:43:26,062 -INFO - labels:labels.py:123 - labels_df: Index(['idx', 'label', 'annotation_line_no', 'iou', 'tag', 'label_text'], dtype='object')\n",
      "2021-06-09 17:43:26,063 -INFO - labels:labels.py:126 - 37 labels have been assigned\n"
     ]
    }
   ],
   "source": [
    "df = assign_labels(df=df, annotations_file_path=f'dataset/annotations/{DATASET_NAME}.txt', img_width=img_width, img_height=img_height)"
   ]
  },
  {
   "cell_type": "code",
   "execution_count": 30,
   "id": "322946ac",
   "metadata": {},
   "outputs": [
    {
     "data": {
      "text/plain": [
       "Index(['attributes', 'displayed', 'element_id', 'height', 'onmouseenter',\n",
       "       'onmouseover', 'parent_id', 'style', 'tag_name', 'text', 'width', 'x',\n",
       "       'y', 'is_hidden', 'upper_sibling', 'lower_sibling', 'siblings', 'idx_x',\n",
       "       'idx_y', 'label', 'annotation_line_no', 'iou', 'tag', 'label_text'],\n",
       "      dtype='object')"
      ]
     },
     "execution_count": 30,
     "metadata": {},
     "output_type": "execute_result"
    }
   ],
   "source": [
    "df.columns"
   ]
  },
  {
   "cell_type": "code",
   "execution_count": 31,
   "id": "3f5f84aa",
   "metadata": {},
   "outputs": [
    {
     "data": {
      "text/plain": [
       "21    302\n",
       "1      15\n",
       "5       8\n",
       "2       6\n",
       "0       3\n",
       "4       2\n",
       "14      2\n",
       "6       1\n",
       "Name: label, dtype: int64"
      ]
     },
     "execution_count": 31,
     "metadata": {},
     "output_type": "execute_result"
    }
   ],
   "source": [
    "df.label.value_counts()"
   ]
  },
  {
   "cell_type": "code",
   "execution_count": 32,
   "id": "27c4a933",
   "metadata": {
    "scrolled": false
   },
   "outputs": [
    {
     "name": "stdout",
     "output_type": "stream",
     "text": [
      "1200 878\n"
     ]
    },
    {
     "data": {
      "image/png": "[encoded data removed]",
      "text/plain": [
       "<Figure size 1080x36000 with 1 Axes>"
      ]
     },
     "metadata": {
      "needs_background": "light"
     },
     "output_type": "display_data"
    }
   ],
   "source": [
    "img = load_gray_image(f'dataset/images/{DATASET_NAME}.png')\n",
    "img_height, img_width = img.shape\n",
    "print(img_width, img_height)\n",
    "plt.figure(figsize=(15, 500))\n",
    "plt.imshow(img, cmap='gray')\n",
    "axes = plt.gca()\n",
    "\n",
    "for _, r in df[df.label_text != 'n/a'].iterrows():\n",
    "    x, y, w, h = r.x, r.y, r.width, r.height  \n",
    "    patch = patches.Rectangle((x, y), w, h, linewidth=2, alpha = .3, facecolor = 'red', edgecolor ='black')\n",
    "    \n",
    "    # print(r.tag_name, r.label_text, (x,y,w,h), r.element_id)\n",
    "    \n",
    "    axes.add_patch(patch)\n",
    "    plt.text(x, y, \n",
    "             decoder_dict[r.label] + ':' + r.tag_name + ': ' +str(round(r.iou, 4)), # + ':' + str((x, y, w, h)),  ## + r.element_id, \n",
    "             fontsize = 10, \n",
    "             color = 'white', \n",
    "             backgroundcolor='black',\n",
    "             alpha=1.)\n"
   ]
  },
  {
   "cell_type": "code",
   "execution_count": null,
   "id": "a5652d64",
   "metadata": {},
   "outputs": [],
   "source": []
  },
  {
   "cell_type": "code",
   "execution_count": null,
   "id": "4a9b363f",
   "metadata": {},
   "outputs": [],
   "source": []
  }
 ],
 "metadata": {
  "kernelspec": {
   "display_name": "Python 3",
   "language": "python",
   "name": "python3"
  },
  "language_info": {
   "codemirror_mode": {
    "name": "ipython",
    "version": 3
   },
   "file_extension": ".py",
   "mimetype": "text/x-python",
   "name": "python",
   "nbconvert_exporter": "python",
   "pygments_lexer": "ipython3",
   "version": "3.7.9"
  }
 },
 "nbformat": 4,
 "nbformat_minor": 5
}
