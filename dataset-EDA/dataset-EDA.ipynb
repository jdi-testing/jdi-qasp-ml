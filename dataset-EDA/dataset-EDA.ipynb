{
 "cells": [
  {
   "cell_type": "code",
   "execution_count": 1,
   "id": "a6ed5ce4",
   "metadata": {},
   "outputs": [
    {
     "name": "stdout",
     "output_type": "stream",
     "text": [
      "2021-06-12 01:06:43,672 -INFO - config:config.py:16 - Module utils.config was loaded\n",
      "2021-06-12 01:06:43,674 -INFO - common:common.py:618 - Module utils.common is loaded...\n",
      "2021-06-12 01:06:43,676 -INFO - hidden:hidden.py:121 - hidden module is loaded\n",
      "2021-06-12 01:06:43,678 -INFO - dataset_builder:dataset_builder.py:207 - dataset package is loaded...\n",
      "2021-06-12 01:06:44,287 -INFO - dataset:dataset.py:653 - dataset module is loaded...\n"
     ]
    },
    {
     "data": {
      "text/html": [
       "2021-06-12 01:06:44.289909 - Current working directory: <b>D:\\DataScience\\!WORK\\jdi-qasp-ml</b>"
      ],
      "text/plain": [
       "<IPython.core.display.HTML object>"
      ]
     },
     "metadata": {},
     "output_type": "display_data"
    }
   ],
   "source": [
    "import sys\n",
    "import re\n",
    "import os\n",
    "from datetime import datetime\n",
    "from time import sleep\n",
    "from IPython.display import display, clear_output, HTML\n",
    "import logging\n",
    "\n",
    "# set working dir\n",
    "WORKING_DIR = re.sub('jdi-qasp-ml.*$','',os.path.normpath(os.getcwd())) + 'jdi-qasp-ml'\n",
    "os.chdir(WORKING_DIR)\n",
    "\n",
    "import utils\n",
    "from utils import *\n",
    "import torch\n",
    "import pandas as pd\n",
    "import numpy as np\n",
    "import torch\n",
    "from glob import glob\n",
    "import selenium\n",
    "from tqdm.auto import tqdm, trange\n",
    "\n",
    "START_TS = datetime.now()\n",
    "display(HTML(f'{START_TS} - Current working directory: <b>{WORKING_DIR}</b>'))\n",
    "\n",
    "import matplotlib.pyplot as plt\n",
    "import matplotlib.patches as patches\n",
    "%matplotlib inline\n",
    "\n",
    "import numba\n"
   ]
  },
  {
   "cell_type": "code",
   "execution_count": 2,
   "id": "a88157df",
   "metadata": {},
   "outputs": [],
   "source": [
    "from sklearn.preprocessing import OneHotEncoder\n",
    "from sklearn.feature_extraction.text import CountVectorizer\n",
    "\n"
   ]
  },
  {
   "cell_type": "code",
   "execution_count": 3,
   "id": "2ba16f09",
   "metadata": {},
   "outputs": [],
   "source": [
    "datasets = JDIDataset.gen_dataset_names()\n",
    "# datasets  "
   ]
  },
  {
   "cell_type": "code",
   "execution_count": 4,
   "id": "70701c8d",
   "metadata": {},
   "outputs": [],
   "source": [
    "logger.setLevel(logging.WARNING)"
   ]
  },
  {
   "cell_type": "code",
   "execution_count": 5,
   "id": "155c9a31",
   "metadata": {
    "scrolled": false
   },
   "outputs": [
    {
     "data": {
      "application/vnd.jupyter.widget-view+json": {
       "model_id": "a5b276ee0b02488db1a0e05f327e5fdd",
       "version_major": 2,
       "version_minor": 0
      },
      "text/plain": [
       "  0%|          | 0/42 [00:00<?, ?it/s]"
      ]
     },
     "metadata": {},
     "output_type": "display_data"
    },
    {
     "name": "stdout",
     "output_type": "stream",
     "text": [
      "skip: ('dataset/annotations/ac-avto161.txt', 'dataset/df/ac-avto161.parquet')\n"
     ]
    }
   ],
   "source": [
    "ds_list = []\n",
    "with trange(len(datasets)) as bar:\n",
    "    for ds in datasets:\n",
    "        bar.set_postfix_str(f'Processing dataset: \"{ds}\"')\n",
    "        df_file_path = f'dataset/df/{ds}.parquet'\n",
    "        ann_file_path = f'dataset/annotations/{ds}.txt'\n",
    "        \n",
    "        if not os.path.exists(ann_file_path):\n",
    "            print('skip:', (ann_file_path, df_file_path))\n",
    "        else:\n",
    "            df = pd.read_parquet(df_file_path)\n",
    "            df = build_features(df)\n",
    "            df = assign_labels(df=df, annotations_file_path=ann_file_path)\n",
    "            ds_list.append(df)\n",
    "            \n",
    "        bar.update(1)\n",
    "\n",
    "df = pd.concat(ds_list).copy()"
   ]
  },
  {
   "cell_type": "code",
   "execution_count": 6,
   "id": "163393fa",
   "metadata": {},
   "outputs": [
    {
     "data": {
      "text/plain": [
       "4773"
      ]
     },
     "execution_count": 6,
     "metadata": {},
     "output_type": "execute_result"
    }
   ],
   "source": [
    "df[df.label_text != 'n/a'].shape[0]"
   ]
  },
  {
   "cell_type": "code",
   "execution_count": 7,
   "id": "52e6a665",
   "metadata": {},
   "outputs": [
    {
     "data": {
      "text/plain": [
       "n/a                 43193\n",
       "link                 2410\n",
       "button               1411\n",
       "checkbox              246\n",
       "textfield             213\n",
       "radiobutton           130\n",
       "selector               82\n",
       "datetimeselector       34\n",
       "table                  32\n",
       "slider-toggle          30\n",
       "slider                 29\n",
       "dropdown               27\n",
       "tab                    27\n",
       "textarea               23\n",
       "progressbar            21\n",
       "range                  18\n",
       "tree-node              11\n",
       "fileinput               8\n",
       "steper                  7\n",
       "colorpicker             6\n",
       "iframe                  5\n",
       "numberselector          3\n",
       "Name: label_text, dtype: int64"
      ]
     },
     "execution_count": 7,
     "metadata": {},
     "output_type": "execute_result"
    }
   ],
   "source": [
    "df.label_text.value_counts()"
   ]
  },
  {
   "cell_type": "code",
   "execution_count": 8,
   "id": "76d20aa1",
   "metadata": {},
   "outputs": [
    {
     "data": {
      "text/plain": [
       "DIV                             12932\n",
       "SPAN                             9201\n",
       "A                                3908\n",
       "TD                               2775\n",
       "LI                               1973\n",
       "                                ...  \n",
       "MAT-TABLE                           1\n",
       "DIALOG-OVERVIEW-EXAMPLE             1\n",
       "MAT-CARD-HEADER                     1\n",
       "DATEPICKER-LOCALE-EXAMPLE           1\n",
       "TREE-NESTED-OVERVIEW-EXAMPLE        1\n",
       "Name: tag_name, Length: 308, dtype: int64"
      ]
     },
     "execution_count": 8,
     "metadata": {},
     "output_type": "execute_result"
    }
   ],
   "source": [
    "df.tag_name.value_counts()"
   ]
  },
  {
   "cell_type": "markdown",
   "id": "5a5e6963",
   "metadata": {},
   "source": [
    "# tag_name"
   ]
  },
  {
   "cell_type": "code",
   "execution_count": 9,
   "id": "a99e6154",
   "metadata": {},
   "outputs": [
    {
     "data": {
      "text/plain": [
       "A                    2305\n",
       "DIV                   971\n",
       "BUTTON                515\n",
       "INPUT                 493\n",
       "LABEL                  86\n",
       "SPAN                   77\n",
       "LI                     54\n",
       "SELECT                 52\n",
       "P                      44\n",
       "MAT-RADIO-BUTTON       28\n",
       "TABLE                  24\n",
       "MAT-CHECKBOX           23\n",
       "TEXTAREA               22\n",
       "MAT-SELECT             21\n",
       "SVG                    13\n",
       "IMG                     8\n",
       "MAT-TREE-NODE           8\n",
       "IFRAME                  5\n",
       "MAT-SLIDER              5\n",
       "MAT-BUTTON-TOGGLE       5\n",
       "MAT-SLIDE-TOGGLE        3\n",
       "RECT                    2\n",
       "PROGRESS                2\n",
       "CIRCLE                  2\n",
       "G                       1\n",
       "I                       1\n",
       "H2                      1\n",
       "MAT-TABLE               1\n",
       "H5                      1\n",
       "Name: tag_name, dtype: int64"
      ]
     },
     "metadata": {},
     "output_type": "display_data"
    }
   ],
   "source": [
    "tag_name_series = df[df.label_text != 'n/a'].tag_name.value_counts()\n",
    "display(tag_name_series)\n",
    "tag_name_set = set(tag_name_series.index)"
   ]
  },
  {
   "cell_type": "code",
   "execution_count": 10,
   "id": "1c37d9e4",
   "metadata": {},
   "outputs": [
    {
     "data": {
      "text/plain": [
       "OneHotEncoder(categories=[['IFRAME', 'P', 'SPAN', 'PROGRESS', 'A', 'SVG',\n",
       "                           'MAT-SLIDER', 'SELECT', 'MAT-CHECKBOX', 'H2', 'I',\n",
       "                           'BUTTON', 'LI', 'MAT-SELECT', 'TABLE', 'MAT-TABLE',\n",
       "                           'H5', 'MAT-RADIO-BUTTON', 'DIV', 'MAT-TREE-NODE',\n",
       "                           'TEXTAREA', 'MAT-SLIDE-TOGGLE', 'RECT', 'LABEL', 'G',\n",
       "                           'IMG', 'INPUT', 'MAT-BUTTON-TOGGLE', 'CIRCLE']],\n",
       "              handle_unknown='ignore')"
      ]
     },
     "execution_count": 10,
     "metadata": {},
     "output_type": "execute_result"
    }
   ],
   "source": [
    "tag_name_ohe = OneHotEncoder(handle_unknown='ignore', categories=[list(tag_name_set)])\n",
    "tag_name_ohe"
   ]
  },
  {
   "cell_type": "code",
   "execution_count": 11,
   "id": "39a729e8",
   "metadata": {},
   "outputs": [
    {
     "data": {
      "text/plain": [
       "array([['HTML'],\n",
       "       ['HEAD'],\n",
       "       ['META'],\n",
       "       ...,\n",
       "       ['SCRIPT'],\n",
       "       ['SCRIPT'],\n",
       "       ['SCRIPT']], dtype=object)"
      ]
     },
     "execution_count": 11,
     "metadata": {},
     "output_type": "execute_result"
    }
   ],
   "source": [
    "np.expand_dims(df.tag_name.values, -1)"
   ]
  },
  {
   "cell_type": "code",
   "execution_count": 12,
   "id": "40b37554",
   "metadata": {},
   "outputs": [
    {
     "data": {
      "text/plain": [
       "OneHotEncoder(categories=[['IFRAME', 'P', 'SPAN', 'PROGRESS', 'A', 'SVG',\n",
       "                           'MAT-SLIDER', 'SELECT', 'MAT-CHECKBOX', 'H2', 'I',\n",
       "                           'BUTTON', 'LI', 'MAT-SELECT', 'TABLE', 'MAT-TABLE',\n",
       "                           'H5', 'MAT-RADIO-BUTTON', 'DIV', 'MAT-TREE-NODE',\n",
       "                           'TEXTAREA', 'MAT-SLIDE-TOGGLE', 'RECT', 'LABEL', 'G',\n",
       "                           'IMG', 'INPUT', 'MAT-BUTTON-TOGGLE', 'CIRCLE']],\n",
       "              handle_unknown='ignore')"
      ]
     },
     "execution_count": 12,
     "metadata": {},
     "output_type": "execute_result"
    }
   ],
   "source": [
    "tag_name_ohe.fit(np.expand_dims(df[df.label_text != 'n/a'].tag_name.values, -1))"
   ]
  },
  {
   "cell_type": "code",
   "execution_count": 13,
   "id": "129d7e86",
   "metadata": {},
   "outputs": [
    {
     "data": {
      "text/plain": [
       "<47966x29 sparse matrix of type '<class 'numpy.float64'>'\n",
       "\twith 34389 stored elements in Compressed Sparse Row format>"
      ]
     },
     "execution_count": 13,
     "metadata": {},
     "output_type": "execute_result"
    }
   ],
   "source": [
    "tag_name_sm = tag_name_ohe.transform(np.expand_dims(df.tag_name.values, -1))\n",
    "tag_name_sm"
   ]
  },
  {
   "cell_type": "markdown",
   "id": "e1a115b5",
   "metadata": {},
   "source": [
    "# attributes.role"
   ]
  },
  {
   "cell_type": "code",
   "execution_count": 14,
   "id": "b5512a64",
   "metadata": {},
   "outputs": [
    {
     "data": {
      "text/plain": [
       "               3843\n",
       "button          820\n",
       "tab              34\n",
       "listbox          21\n",
       "combobox         15\n",
       "grid             12\n",
       "switch            9\n",
       "group             8\n",
       "slider            5\n",
       "progressbar       3\n",
       "option            3\n",
       "Name: attributes, dtype: int64"
      ]
     },
     "execution_count": 14,
     "metadata": {},
     "output_type": "execute_result"
    }
   ],
   "source": [
    "attr_role_series = df[df.label_text != 'n/a'].attributes.apply(lambda x: None if x is None else x.get('role')).fillna('')\n",
    "attr_role_series.value_counts()"
   ]
  },
  {
   "cell_type": "code",
   "execution_count": 15,
   "id": "2eb7b7f6",
   "metadata": {},
   "outputs": [
    {
     "data": {
      "text/plain": [
       "OneHotEncoder(handle_unknown='ignore')"
      ]
     },
     "execution_count": 15,
     "metadata": {},
     "output_type": "execute_result"
    }
   ],
   "source": [
    "attr_role_ohe = OneHotEncoder(handle_unknown='ignore').fit(np.expand_dims(attr_role_series.values, -1))\n",
    "attr_role_ohe"
   ]
  },
  {
   "cell_type": "code",
   "execution_count": 16,
   "id": "fe88f98b",
   "metadata": {},
   "outputs": [
    {
     "data": {
      "text/plain": [
       "<47966x11 sparse matrix of type '<class 'numpy.float64'>'\n",
       "\twith 46773 stored elements in Compressed Sparse Row format>"
      ]
     },
     "execution_count": 16,
     "metadata": {},
     "output_type": "execute_result"
    }
   ],
   "source": [
    "attr_role_sm = attr_role_ohe.transform(\n",
    "    np.expand_dims(\n",
    "        df.attributes.apply(lambda x: None if x is None else x.get('role')).fillna(''),\n",
    "        -1\n",
    "    )\n",
    ")\n",
    "attr_role_sm"
   ]
  },
  {
   "cell_type": "code",
   "execution_count": null,
   "id": "f5ffc0e7",
   "metadata": {},
   "outputs": [],
   "source": []
  },
  {
   "cell_type": "markdown",
   "id": "a9f444ad",
   "metadata": {},
   "source": [
    "# attributes.type"
   ]
  },
  {
   "cell_type": "code",
   "execution_count": 17,
   "id": "7bb5c77e",
   "metadata": {},
   "outputs": [
    {
     "data": {
      "text/plain": [
       "                  3964\n",
       "button             345\n",
       "checkbox           151\n",
       "text               102\n",
       "submit              41\n",
       "number              34\n",
       "radio               31\n",
       "range               27\n",
       "search              15\n",
       "email               13\n",
       "password            13\n",
       "file                 9\n",
       "reset                5\n",
       "color                5\n",
       "month                3\n",
       "datetime-local       3\n",
       "week                 3\n",
       "time                 3\n",
       "date                 3\n",
       "tel                  2\n",
       "url                  1\n",
       "Name: attributes, dtype: int64"
      ]
     },
     "execution_count": 17,
     "metadata": {},
     "output_type": "execute_result"
    }
   ],
   "source": [
    "attr_type_series = df[df.label_text != 'n/a'].attributes.apply(lambda x: None if x is None else x.get('type')).fillna('')\n",
    "attr_type_series.value_counts()"
   ]
  },
  {
   "cell_type": "code",
   "execution_count": 18,
   "id": "2b4c430e",
   "metadata": {},
   "outputs": [
    {
     "data": {
      "text/plain": [
       "OneHotEncoder(handle_unknown='ignore')"
      ]
     },
     "execution_count": 18,
     "metadata": {},
     "output_type": "execute_result"
    }
   ],
   "source": [
    "attr_type_ohe = OneHotEncoder(handle_unknown='ignore').fit(np.expand_dims(attr_type_series.values, -1))\n",
    "attr_type_ohe"
   ]
  },
  {
   "cell_type": "code",
   "execution_count": 19,
   "id": "a022c066",
   "metadata": {},
   "outputs": [
    {
     "data": {
      "text/plain": [
       "<47966x21 sparse matrix of type '<class 'numpy.float64'>'\n",
       "\twith 47703 stored elements in Compressed Sparse Row format>"
      ]
     },
     "execution_count": 19,
     "metadata": {},
     "output_type": "execute_result"
    }
   ],
   "source": [
    "attr_type_sm = attr_type_ohe.transform(\n",
    "    np.expand_dims(\n",
    "        df.attributes.apply(lambda x: None if x is None else x.get('type')).fillna(''),\n",
    "        -1\n",
    "    )\n",
    ")\n",
    "attr_type_sm"
   ]
  },
  {
   "cell_type": "code",
   "execution_count": null,
   "id": "a60e26cc",
   "metadata": {},
   "outputs": [],
   "source": []
  },
  {
   "cell_type": "markdown",
   "id": "1f27426c",
   "metadata": {},
   "source": [
    "# attributes.ui"
   ]
  },
  {
   "cell_type": "code",
   "execution_count": 20,
   "id": "e2e1f29a",
   "metadata": {},
   "outputs": [
    {
     "data": {
      "text/plain": [
       "               4714\n",
       "label            40\n",
       "furniture         5\n",
       "table             3\n",
       "d-table           3\n",
       "dropdown          2\n",
       "github-link       2\n",
       "link              1\n",
       "textarea          1\n",
       "products          1\n",
       "products-2        1\n",
       "Name: attributes, dtype: int64"
      ]
     },
     "execution_count": 20,
     "metadata": {},
     "output_type": "execute_result"
    }
   ],
   "source": [
    "attr_ui_series = df[df.label_text != 'n/a'].attributes.apply(lambda x: None if x is None else x.get('ui')).fillna('')\n",
    "attr_ui_series.value_counts()"
   ]
  },
  {
   "cell_type": "code",
   "execution_count": 21,
   "id": "f235e9ae",
   "metadata": {},
   "outputs": [
    {
     "data": {
      "text/plain": [
       "OneHotEncoder(handle_unknown='ignore')"
      ]
     },
     "execution_count": 21,
     "metadata": {},
     "output_type": "execute_result"
    }
   ],
   "source": [
    "attr_ui_ohe = OneHotEncoder(handle_unknown='ignore').fit(np.expand_dims(attr_ui_series.values, -1))\n",
    "attr_ui_ohe"
   ]
  },
  {
   "cell_type": "code",
   "execution_count": 22,
   "id": "5e147c07",
   "metadata": {},
   "outputs": [
    {
     "data": {
      "text/plain": [
       "<47966x11 sparse matrix of type '<class 'numpy.float64'>'\n",
       "\twith 47957 stored elements in Compressed Sparse Row format>"
      ]
     },
     "execution_count": 22,
     "metadata": {},
     "output_type": "execute_result"
    }
   ],
   "source": [
    "attr_ui_sm = attr_ui_ohe.transform(\n",
    "    np.expand_dims(\n",
    "        df.attributes.apply(lambda x: None if x is None else x.get('ui')).fillna(''),\n",
    "        -1\n",
    "    )\n",
    ")\n",
    "attr_ui_sm"
   ]
  },
  {
   "cell_type": "markdown",
   "id": "3cbafdef",
   "metadata": {},
   "source": [
    "# attributes.class"
   ]
  },
  {
   "cell_type": "code",
   "execution_count": 23,
   "id": "51bd929b",
   "metadata": {},
   "outputs": [
    {
     "data": {
      "text/plain": [
       "                                                                                                                                       1410\n",
       "MuiButtonBase-root MuiListItem-root MuiListItem-gutters MuiListItem-button                                                              796\n",
       "news-link                                                                                                                               165\n",
       "_1-6r                                                                                                                                   130\n",
       "_1V0q                                                                                                                                   103\n",
       "                                                                                                                                       ... \n",
       "mat-input-element mat-form-field-autofill-control ng-tns-c95-92 cdk-text-field-autofill-monitored ng-untouched ng-pristine ng-valid       1\n",
       "mat-select ng-tns-c171-191 ng-tns-c95-190 ng-star-inserted                                                                                1\n",
       "mat-input-element mat-form-field-autofill-control ng-tns-c95-72 cdk-text-field-autofill-monitored                                         1\n",
       "carousel-control-next                                                                                                                     1\n",
       "mat-select ng-tns-c171-33 ng-tns-c95-32 ng-star-inserted ng-untouched ng-pristine ng-valid                                                1\n",
       "Name: attributes, Length: 558, dtype: int64"
      ]
     },
     "execution_count": 23,
     "metadata": {},
     "output_type": "execute_result"
    }
   ],
   "source": [
    "attr_class_series = df[df.label_text != 'n/a'].attributes.apply(lambda x: None if x is None else x.get('class')).fillna('')\n",
    "attr_class_series.value_counts()"
   ]
  },
  {
   "cell_type": "code",
   "execution_count": 24,
   "id": "04c4bb70",
   "metadata": {},
   "outputs": [],
   "source": [
    "class_cv = CountVectorizer()"
   ]
  },
  {
   "cell_type": "code",
   "execution_count": 25,
   "id": "1fefe837",
   "metadata": {},
   "outputs": [
    {
     "data": {
      "text/plain": [
       "CountVectorizer()"
      ]
     },
     "execution_count": 25,
     "metadata": {},
     "output_type": "execute_result"
    }
   ],
   "source": [
    "class_cv.fit(attr_class_series.values)"
   ]
  },
  {
   "cell_type": "code",
   "execution_count": 26,
   "id": "eac9edb1",
   "metadata": {},
   "outputs": [
    {
     "name": "stdout",
     "output_type": "stream",
     "text": [
      "363\n",
      "['navbar', 'brand', 'nav', 'link', 'active', 'btn', 'download', 'inline', 'block', 'form', 'control', 'input', 'light', 'dropdown', 'toggle', 'flex', 'align', 'items', 'center', 'rounded', 'collapsed', 'carbon', 'img', 'text', 'poweredby', 'primary', 'clipboard', 'card', 'item', 'disabled', 'header', 'button', 'account', 'breaking', 'accent', 'news', 'selection', 'muted', 'outline', 'secondary', 'low', 'footer', 'company', 'info', 'border', 'bold', 'document', 'follow', 'profile', 'photo', 'icon', 'search', 'danger', 'check', 'label', 'custom', 'range', 'select', 'radio', 'cnb', 'container', 'html', 'logo', 'innovations', 'other', 'ntl', 'content', 'tizer', 'body', 'black', 'scroll', 'down', 'image', 'owl', 'dot', 'mni', 'overlay', 'column', 'cnm', 'inputs', 'slider', 'corner', 'all', 'horizontal', 'widget', 'filter', 'char', 'min', 'arrow', 'max', 'filters', 'more', 'buy', 'links', 'page', 'ani', 'postname', 'grow', 'technoblog', 'testic', 'eid', 'name', 'userpic', 'lazyloaded', 'forworklink', 'signuplink', 'btnprimary', 'toggleoptions', 'mdl', 'raised', 'ripple', 'effect', 'forworkbutton', 'helplink', 'uui', 'red', 'grey', 'blue', 'dark', 'green', 'violet', 'multiselect', 'default', 'table', 'stripe', 'tbl', 'delete', 'seemore', 'selectpicker', 'element', 'without', 'click', 'dynamic', 'records', 'per', 'showing', 'pages', 'paging', 'datatable', 'previous', 'current', 'next', 'alert', 'close', 'success', 'toggler', 'progress', 'change', 'carousel', 'prev', 'list', 'group', 'action', 'muibuttonbase', 'root', 'muilistitem', 'gutters', 'muilistsubheader', 'muiswitch', 'track', 'muiiconbutton', 'switchbase', 'colorsecondary', 'mui', 'muitypography', 'muiformcontrollabel', 'none', 'anchorjs', 'main', 'sign', 'cta', 'orange', 'lavender', 'benefits', 'learn', 'plain', 'margin', 'horiz', 'bottom', 'stage', 'see', 'comparisons', 'video', 'slick', 'slide', 'hero', 'release', 'tile', 'resource', 'grid', 'external', 'source', 'muibutton', 'outlined', 'muibuttongroup', 'grouped', 'groupedhorizontal', 'groupedoutlined', 'groupedoutlinedhorizontal', 'groupedoutlinedprimary', 'outlinedprimary', 'contained', 'groupedvertical', 'groupedcontained', 'groupedcontainedvertical', 'groupedcontainedprimary', 'containedprimary', 'groupedcontainedhorizontal', 'containedsizesmall', 'sizesmall', 'checkbox', 'edgeend', 'selected', 'dense', 'secondaryaction', 'login', 'muiinputbase', 'muiinput', 'inputtypesearch', 'muifilledinput', 'muioutlinedinput', 'inputmultiline', 'muiselect', 'nativeinput', 'inputadornedstart', 'inputadornedend', 'file', 'position', 'static', 'valid', 'invalid', 'muifab', 'extended', 'muitab', 'textcolorprimary', 'fullwidth', 'muinativeselect', 'filled', 'selectmenu', 'buttonlink', 'buttonnew', 'buttontext', 'bannerclose', 'sgl', 'stk', 'uhflogo', 'cat', 'uhf', 'glyph', 'topnavdropdownlink', 'topnavdropdowntrigger', 'suphomeandlandingpagesearchbox', 'pristine', 'suphomeandlandingpagesearchbutton', 'suphomepageiconmorelink', 'ocparticlelink', 'suphomeandlandingpagecta', 'ocpexternallink', 'suphomeandlandingpagectabutton', 'oneplayer', 'iframe', 'ocplinkwithimage', 'ocpimagelink', 'suphomeandlandingpagefooterelementcalltoaction', 'uhff', 'labelplacementtop', 'labelplacementstart', 'labelplacementbottom', 'small', 'upload', 'fileinput', 'new', 'handle', 'state', 'ant', 'switch', 'checked', 'wrapper', 'row', 'expand', 'pagination', 'before', 'jump', 'cascader', 'children', 'overflow', 'hlvc', 'hover', 'target', 'mat', 'example', 'untouched', 'field', 'autofill', 'autocomplete', 'trigger', 'tns', 'cdk', 'monitored', 'star', 'inserted', 'empty', 'required', 'textarea', 'autosize', 'focus', 'indicator', 'base', 'value', 'has', 'ticks', 'thumb', 'right', 'menu', 'tree', 'node', 'step', 'infix', 'tab', 'add', 'appearance', 'standard', 'warn', 'stroked', 'flat', 'fab', 'mini', 'badge', 'overlap', 'above', 'medium', 'chip', 'bar', 'buffer', 'elevation', 'paginator', 'navigation', 'sort', 'first', 'last', 'checkmark', 'drop', 'muicircularprogress', 'svg', 'circle', 'circledisableshrink', 'circleindeterminate', 'muibox', 'muilinearprogress', 'colorprimary', 'indeterminate', 'determinate', 'dashed', 'dashedcolorprimary', 'containedsecondary', 'textprimary', 'textsecondary', 'containedsizelarge', 'sizelarge', 'muislider', 'marked', 'inputmargindense', 'vertical']\n"
     ]
    }
   ],
   "source": [
    "vocabulary = [v for v in class_cv.vocabulary_.keys() if re.match(r'^[a-z]+$',v ) and len(v) > 2]\n",
    "print(len(vocabulary))\n",
    "print(vocabulary)"
   ]
  },
  {
   "cell_type": "code",
   "execution_count": 27,
   "id": "da3fd1e3",
   "metadata": {},
   "outputs": [
    {
     "data": {
      "text/plain": [
       "OneHotEncoder(categories=[['navbar', 'brand', 'nav', 'link', 'active', 'btn',\n",
       "                           'download', 'inline', 'block', 'form', 'control',\n",
       "                           'input', 'light', 'dropdown', 'toggle', 'flex',\n",
       "                           'align', 'items', 'center', 'rounded', 'collapsed',\n",
       "                           'carbon', 'img', 'text', 'poweredby', 'primary',\n",
       "                           'clipboard', 'card', 'item', 'disabled', ...]],\n",
       "              handle_unknown='ignore')"
      ]
     },
     "execution_count": 27,
     "metadata": {},
     "output_type": "execute_result"
    }
   ],
   "source": [
    "attr_class_ohe = OneHotEncoder(handle_unknown='ignore', categories=[vocabulary]).fit(np.expand_dims(attr_class_series.values, -1))\n",
    "attr_class_ohe"
   ]
  },
  {
   "cell_type": "code",
   "execution_count": 28,
   "id": "5f5a37b6",
   "metadata": {},
   "outputs": [
    {
     "data": {
      "text/plain": [
       "<47966x363 sparse matrix of type '<class 'numpy.float64'>'\n",
       "\twith 413 stored elements in Compressed Sparse Row format>"
      ]
     },
     "execution_count": 28,
     "metadata": {},
     "output_type": "execute_result"
    }
   ],
   "source": [
    "attr_class_ohe.transform(np.expand_dims(df.attributes.apply(lambda x: None if x is None else x.get('class')).fillna(''), -1))"
   ]
  },
  {
   "cell_type": "markdown",
   "id": "67bbf4ba",
   "metadata": {},
   "source": [
    "# Explore attributes"
   ]
  },
  {
   "cell_type": "code",
   "execution_count": 29,
   "id": "8ec148ef",
   "metadata": {},
   "outputs": [
    {
     "name": "stdout",
     "output_type": "stream",
     "text": [
      "Number of labels: 4773\n"
     ]
    },
    {
     "data": {
      "application/vnd.jupyter.widget-view+json": {
       "model_id": "7d261b42ca1d42cfa97edd05876256ef",
       "version_major": 2,
       "version_minor": 0
      },
      "text/plain": [
       "0it [00:00, ?it/s]"
      ]
     },
     "metadata": {},
     "output_type": "display_data"
    }
   ],
   "source": [
    "from collections import Counter\n",
    "\n",
    "stats_na = Counter()\n",
    "stats_ctl = Counter()\n",
    "\n",
    "print('Number of labels:', df[df.label_text != 'n/a'].shape[0])\n",
    "\n",
    "# Will Only attributes from labeled classes \n",
    "\n",
    "for _, r in tqdm(df[['attributes', 'label_text', 'displayed']].iterrows()):\n",
    "    if r.attributes is not None:\n",
    "        lst = [k for k in r.attributes.keys() if (r.attributes.get(k) is not None) and (str(r.attributes.get(k)).strip() != \"\")]\n",
    "        if r.label_text == 'n/a':\n",
    "            stats_na.update(lst)\n",
    "        else:\n",
    "            stats_ctl.update(lst)\n",
    "\n",
    "attributes_na_df = pd.DataFrame({'keys': stats_na.keys(), 'counts': stats_na.values()}).sort_values(by='counts', ascending=False)\n",
    "attributes_ctl_df = pd.DataFrame({'keys': stats_ctl.keys(), 'counts': stats_ctl.values()}).sort_values(by='counts', ascending=False)"
   ]
  },
  {
   "cell_type": "code",
   "execution_count": 30,
   "id": "3c74873f",
   "metadata": {},
   "outputs": [
    {
     "data": {
      "text/html": [
       "<div>\n",
       "<style scoped>\n",
       "    .dataframe tbody tr th:only-of-type {\n",
       "        vertical-align: middle;\n",
       "    }\n",
       "\n",
       "    .dataframe tbody tr th {\n",
       "        vertical-align: top;\n",
       "    }\n",
       "\n",
       "    .dataframe thead th {\n",
       "        text-align: right;\n",
       "    }\n",
       "</style>\n",
       "<table border=\"1\" class=\"dataframe\">\n",
       "  <thead>\n",
       "    <tr style=\"text-align: right;\">\n",
       "      <th></th>\n",
       "      <th>keys</th>\n",
       "      <th>counts_x</th>\n",
       "      <th>counts_y</th>\n",
       "      <th>p_x</th>\n",
       "      <th>p_y</th>\n",
       "      <th>importance</th>\n",
       "    </tr>\n",
       "  </thead>\n",
       "  <tbody>\n",
       "    <tr>\n",
       "      <th>1</th>\n",
       "      <td>href</td>\n",
       "      <td>2958</td>\n",
       "      <td>2192</td>\n",
       "      <td>0.059948</td>\n",
       "      <td>0.167341</td>\n",
       "      <td>2.791450</td>\n",
       "    </tr>\n",
       "    <tr>\n",
       "      <th>8</th>\n",
       "      <td>tabindex</td>\n",
       "      <td>701</td>\n",
       "      <td>1163</td>\n",
       "      <td>0.014207</td>\n",
       "      <td>0.088785</td>\n",
       "      <td>6.249555</td>\n",
       "    </tr>\n",
       "    <tr>\n",
       "      <th>5</th>\n",
       "      <td>role</td>\n",
       "      <td>1542</td>\n",
       "      <td>930</td>\n",
       "      <td>0.031251</td>\n",
       "      <td>0.070998</td>\n",
       "      <td>2.271883</td>\n",
       "    </tr>\n",
       "    <tr>\n",
       "      <th>19</th>\n",
       "      <td>aria-disabled</td>\n",
       "      <td>324</td>\n",
       "      <td>885</td>\n",
       "      <td>0.006566</td>\n",
       "      <td>0.067562</td>\n",
       "      <td>10.289296</td>\n",
       "    </tr>\n",
       "    <tr>\n",
       "      <th>7</th>\n",
       "      <td>type</td>\n",
       "      <td>789</td>\n",
       "      <td>809</td>\n",
       "      <td>0.015990</td>\n",
       "      <td>0.061760</td>\n",
       "      <td>3.862415</td>\n",
       "    </tr>\n",
       "    <tr>\n",
       "      <th>4</th>\n",
       "      <td>id</td>\n",
       "      <td>2065</td>\n",
       "      <td>609</td>\n",
       "      <td>0.041850</td>\n",
       "      <td>0.046492</td>\n",
       "      <td>1.110925</td>\n",
       "    </tr>\n",
       "    <tr>\n",
       "      <th>20</th>\n",
       "      <td>target</td>\n",
       "      <td>283</td>\n",
       "      <td>595</td>\n",
       "      <td>0.005735</td>\n",
       "      <td>0.045423</td>\n",
       "      <td>7.919868</td>\n",
       "    </tr>\n",
       "    <tr>\n",
       "      <th>23</th>\n",
       "      <td>aria-label</td>\n",
       "      <td>192</td>\n",
       "      <td>229</td>\n",
       "      <td>0.003891</td>\n",
       "      <td>0.017482</td>\n",
       "      <td>4.492847</td>\n",
       "    </tr>\n",
       "    <tr>\n",
       "      <th>51</th>\n",
       "      <td>placeholder</td>\n",
       "      <td>24</td>\n",
       "      <td>145</td>\n",
       "      <td>0.000486</td>\n",
       "      <td>0.011070</td>\n",
       "      <td>22.758528</td>\n",
       "    </tr>\n",
       "    <tr>\n",
       "      <th>68</th>\n",
       "      <td>aria-invalid</td>\n",
       "      <td>15</td>\n",
       "      <td>134</td>\n",
       "      <td>0.000304</td>\n",
       "      <td>0.010230</td>\n",
       "      <td>33.651230</td>\n",
       "    </tr>\n",
       "    <tr>\n",
       "      <th>16</th>\n",
       "      <td>value</td>\n",
       "      <td>355</td>\n",
       "      <td>122</td>\n",
       "      <td>0.007195</td>\n",
       "      <td>0.009314</td>\n",
       "      <td>1.294550</td>\n",
       "    </tr>\n",
       "    <tr>\n",
       "      <th>29</th>\n",
       "      <td>ms.pgarea</td>\n",
       "      <td>103</td>\n",
       "      <td>116</td>\n",
       "      <td>0.002087</td>\n",
       "      <td>0.008856</td>\n",
       "      <td>4.242366</td>\n",
       "    </tr>\n",
       "    <tr>\n",
       "      <th>70</th>\n",
       "      <td>aria-required</td>\n",
       "      <td>15</td>\n",
       "      <td>105</td>\n",
       "      <td>0.000304</td>\n",
       "      <td>0.008016</td>\n",
       "      <td>26.368501</td>\n",
       "    </tr>\n",
       "    <tr>\n",
       "      <th>37</th>\n",
       "      <td>data-toggle</td>\n",
       "      <td>51</td>\n",
       "      <td>72</td>\n",
       "      <td>0.001034</td>\n",
       "      <td>0.005497</td>\n",
       "      <td>5.318017</td>\n",
       "    </tr>\n",
       "    <tr>\n",
       "      <th>30</th>\n",
       "      <td>ms.cmpgrp</td>\n",
       "      <td>102</td>\n",
       "      <td>72</td>\n",
       "      <td>0.002067</td>\n",
       "      <td>0.005497</td>\n",
       "      <td>2.659009</td>\n",
       "    </tr>\n",
       "    <tr>\n",
       "      <th>28</th>\n",
       "      <td>title</td>\n",
       "      <td>112</td>\n",
       "      <td>65</td>\n",
       "      <td>0.002270</td>\n",
       "      <td>0.004962</td>\n",
       "      <td>2.186164</td>\n",
       "    </tr>\n",
       "    <tr>\n",
       "      <th>36</th>\n",
       "      <td>aria-expanded</td>\n",
       "      <td>52</td>\n",
       "      <td>61</td>\n",
       "      <td>0.001054</td>\n",
       "      <td>0.004657</td>\n",
       "      <td>4.418897</td>\n",
       "    </tr>\n",
       "    <tr>\n",
       "      <th>73</th>\n",
       "      <td>aria-haspopup</td>\n",
       "      <td>11</td>\n",
       "      <td>56</td>\n",
       "      <td>0.000223</td>\n",
       "      <td>0.004275</td>\n",
       "      <td>19.177092</td>\n",
       "    </tr>\n",
       "    <tr>\n",
       "      <th>26</th>\n",
       "      <td>data-m</td>\n",
       "      <td>149</td>\n",
       "      <td>55</td>\n",
       "      <td>0.003020</td>\n",
       "      <td>0.004199</td>\n",
       "      <td>1.390477</td>\n",
       "    </tr>\n",
       "    <tr>\n",
       "      <th>75</th>\n",
       "      <td>min</td>\n",
       "      <td>11</td>\n",
       "      <td>50</td>\n",
       "      <td>0.000223</td>\n",
       "      <td>0.003817</td>\n",
       "      <td>17.122404</td>\n",
       "    </tr>\n",
       "    <tr>\n",
       "      <th>78</th>\n",
       "      <td>max</td>\n",
       "      <td>9</td>\n",
       "      <td>49</td>\n",
       "      <td>0.000182</td>\n",
       "      <td>0.003741</td>\n",
       "      <td>20.508834</td>\n",
       "    </tr>\n",
       "    <tr>\n",
       "      <th>43</th>\n",
       "      <td>aria-controls</td>\n",
       "      <td>32</td>\n",
       "      <td>45</td>\n",
       "      <td>0.000649</td>\n",
       "      <td>0.003435</td>\n",
       "      <td>5.297244</td>\n",
       "    </tr>\n",
       "    <tr>\n",
       "      <th>80</th>\n",
       "      <td>aria-describedby</td>\n",
       "      <td>9</td>\n",
       "      <td>45</td>\n",
       "      <td>0.000182</td>\n",
       "      <td>0.003435</td>\n",
       "      <td>18.834644</td>\n",
       "    </tr>\n",
       "    <tr>\n",
       "      <th>41</th>\n",
       "      <td>onclick</td>\n",
       "      <td>36</td>\n",
       "      <td>41</td>\n",
       "      <td>0.000730</td>\n",
       "      <td>0.003130</td>\n",
       "      <td>4.290113</td>\n",
       "    </tr>\n",
       "    <tr>\n",
       "      <th>72</th>\n",
       "      <td>aria-selected</td>\n",
       "      <td>12</td>\n",
       "      <td>34</td>\n",
       "      <td>0.000243</td>\n",
       "      <td>0.002596</td>\n",
       "      <td>10.672965</td>\n",
       "    </tr>\n",
       "  </tbody>\n",
       "</table>\n",
       "</div>"
      ],
      "text/plain": [
       "                keys  counts_x  counts_y       p_x       p_y  importance\n",
       "1               href      2958      2192  0.059948  0.167341    2.791450\n",
       "8           tabindex       701      1163  0.014207  0.088785    6.249555\n",
       "5               role      1542       930  0.031251  0.070998    2.271883\n",
       "19     aria-disabled       324       885  0.006566  0.067562   10.289296\n",
       "7               type       789       809  0.015990  0.061760    3.862415\n",
       "4                 id      2065       609  0.041850  0.046492    1.110925\n",
       "20            target       283       595  0.005735  0.045423    7.919868\n",
       "23        aria-label       192       229  0.003891  0.017482    4.492847\n",
       "51       placeholder        24       145  0.000486  0.011070   22.758528\n",
       "68      aria-invalid        15       134  0.000304  0.010230   33.651230\n",
       "16             value       355       122  0.007195  0.009314    1.294550\n",
       "29         ms.pgarea       103       116  0.002087  0.008856    4.242366\n",
       "70     aria-required        15       105  0.000304  0.008016   26.368501\n",
       "37       data-toggle        51        72  0.001034  0.005497    5.318017\n",
       "30         ms.cmpgrp       102        72  0.002067  0.005497    2.659009\n",
       "28             title       112        65  0.002270  0.004962    2.186164\n",
       "36     aria-expanded        52        61  0.001054  0.004657    4.418897\n",
       "73     aria-haspopup        11        56  0.000223  0.004275   19.177092\n",
       "26            data-m       149        55  0.003020  0.004199    1.390477\n",
       "75               min        11        50  0.000223  0.003817   17.122404\n",
       "78               max         9        49  0.000182  0.003741   20.508834\n",
       "43     aria-controls        32        45  0.000649  0.003435    5.297244\n",
       "80  aria-describedby         9        45  0.000182  0.003435   18.834644\n",
       "41           onclick        36        41  0.000730  0.003130    4.290113\n",
       "72     aria-selected        12        34  0.000243  0.002596   10.672965"
      ]
     },
     "execution_count": 30,
     "metadata": {},
     "output_type": "execute_result"
    }
   ],
   "source": [
    "attr_stats_df = attributes_na_df.merge(attributes_ctl_df, on='keys').sort_values(by='counts_x', ascending=False)\n",
    "\n",
    "counts_x_sum, counts_y_sum = attr_stats_df.agg({ 'counts_x': 'sum', 'counts_y': 'sum'}).values\n",
    "attr_stats_df['p_x'] = attr_stats_df.counts_x / counts_x_sum\n",
    "attr_stats_df['p_y'] = attr_stats_df.counts_y / counts_y_sum\n",
    "\n",
    "attr_stats_df['importance'] = attr_stats_df['p_y'] / attr_stats_df['p_x']\n",
    "\n",
    "attr_stats_df[(attr_stats_df.p_x < attr_stats_df.p_y) & (attr_stats_df.counts_y > 30)].sort_values(by='counts_y', ascending=False).head(50)"
   ]
  }
 ],
 "metadata": {
  "kernelspec": {
   "display_name": "Python 3",
   "language": "python",
   "name": "python3"
  },
  "language_info": {
   "codemirror_mode": {
    "name": "ipython",
    "version": 3
   },
   "file_extension": ".py",
   "mimetype": "text/x-python",
   "name": "python",
   "nbconvert_exporter": "python",
   "pygments_lexer": "ipython3",
   "version": "3.7.9"
  }
 },
 "nbformat": 4,
 "nbformat_minor": 5
}
