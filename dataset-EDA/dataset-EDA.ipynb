{
 "cells": [
  {
   "cell_type": "code",
   "execution_count": 1,
   "id": "a6ed5ce4",
   "metadata": {},
   "outputs": [
    {
     "name": "stdout",
     "output_type": "stream",
     "text": [
      "2021-06-18 00:25:46,678 -INFO - config:config.py:16 - Module utils.config was loaded\n",
      "2021-06-18 00:25:46,681 -INFO - common:common.py:618 - Module utils.common is loaded...\n",
      "2021-06-18 00:25:46,682 -INFO - hidden:hidden.py:121 - hidden module is loaded\n",
      "2021-06-18 00:25:47,016 -INFO - features_builder:features_builder.py:305 - feature_bilder module is loaded...\n",
      "2021-06-18 00:25:47,018 -INFO - dataset_builder:dataset_builder.py:207 - dataset package is loaded...\n",
      "2021-06-18 00:25:47,421 -INFO - dataset:dataset.py:634 - dataset module is loaded...\n"
     ]
    },
    {
     "data": {
      "text/html": [
       "2021-06-18 00:25:47.424857 - Current working directory: <b>D:\\DataScience\\!WORK\\jdi-qasp-ml</b>"
      ],
      "text/plain": [
       "<IPython.core.display.HTML object>"
      ]
     },
     "metadata": {},
     "output_type": "display_data"
    }
   ],
   "source": [
    "import sys\n",
    "import re\n",
    "import os\n",
    "from datetime import datetime\n",
    "from time import sleep\n",
    "from IPython.display import display, clear_output, HTML\n",
    "import logging\n",
    "\n",
    "# set working dir\n",
    "WORKING_DIR = re.sub('jdi-qasp-ml.*$','',os.path.normpath(os.getcwd())) + 'jdi-qasp-ml'\n",
    "os.chdir(WORKING_DIR)\n",
    "\n",
    "import utils\n",
    "from utils import *\n",
    "import torch\n",
    "import pandas as pd\n",
    "import numpy as np\n",
    "import torch\n",
    "from glob import glob\n",
    "import selenium\n",
    "from tqdm.auto import tqdm, trange\n",
    "\n",
    "START_TS = datetime.now()\n",
    "display(HTML(f'{START_TS} - Current working directory: <b>{WORKING_DIR}</b>'))\n",
    "\n",
    "import matplotlib.pyplot as plt\n",
    "import matplotlib.patches as patches\n",
    "%matplotlib inline\n",
    "from scipy.sparse import csc_matrix, csr_matrix\n",
    "\n",
    "import numba\n"
   ]
  },
  {
   "cell_type": "code",
   "execution_count": 2,
   "id": "a88157df",
   "metadata": {},
   "outputs": [],
   "source": [
    "from sklearn.preprocessing import OneHotEncoder\n",
    "from sklearn.feature_extraction.text import CountVectorizer, TfidfVectorizer\n",
    "\n"
   ]
  },
  {
   "cell_type": "code",
   "execution_count": 3,
   "id": "2ba16f09",
   "metadata": {},
   "outputs": [],
   "source": [
    "datasets = JDIDataset.gen_dataset_names()\n",
    "# datasets  "
   ]
  },
  {
   "cell_type": "code",
   "execution_count": 4,
   "id": "70701c8d",
   "metadata": {},
   "outputs": [],
   "source": [
    "logger.setLevel(logging.WARNING)"
   ]
  },
  {
   "cell_type": "code",
   "execution_count": 5,
   "id": "155c9a31",
   "metadata": {
    "scrolled": false
   },
   "outputs": [
    {
     "data": {
      "application/vnd.jupyter.widget-view+json": {
       "model_id": "3a8e284f39fe4dbaa333e543d518f9ea",
       "version_major": 2,
       "version_minor": 0
      },
      "text/plain": [
       "  0%|          | 0/42 [00:00<?, ?it/s]"
      ]
     },
     "metadata": {},
     "output_type": "display_data"
    },
    {
     "name": "stdout",
     "output_type": "stream",
     "text": [
      "skip: ('dataset/annotations/ac-avto161.txt', 'dataset/df/ac-avto161.parquet')\n"
     ]
    }
   ],
   "source": [
    "ds_list = []\n",
    "with trange(len(datasets)) as bar:\n",
    "    for ds in datasets:\n",
    "        bar.set_postfix_str(f'Processing dataset: \"{ds}\"')\n",
    "        df_file_path = f'dataset/df/{ds}.parquet'\n",
    "        ann_file_path = f'dataset/annotations/{ds}.txt'\n",
    "        \n",
    "        if not os.path.exists(ann_file_path):\n",
    "            print('skip:', (ann_file_path, df_file_path))\n",
    "        else:\n",
    "            df = pd.read_parquet(df_file_path)\n",
    "            df = build_features(df)\n",
    "            df = assign_labels(df=df, annotations_file_path=ann_file_path)\n",
    "            ds_list.append(df)\n",
    "            \n",
    "        bar.update(1)\n",
    "\n",
    "df = pd.concat(ds_list).copy()"
   ]
  },
  {
   "cell_type": "code",
   "execution_count": 6,
   "id": "6bf43d3b",
   "metadata": {},
   "outputs": [
    {
     "data": {
      "text/plain": [
       "((47750,), 47750)"
      ]
     },
     "execution_count": 6,
     "metadata": {},
     "output_type": "execute_result"
    }
   ],
   "source": [
    "df.element_id.shape, df.element_id.nunique()"
   ]
  },
  {
   "cell_type": "code",
   "execution_count": 7,
   "id": "163393fa",
   "metadata": {},
   "outputs": [
    {
     "data": {
      "text/plain": [
       "4558"
      ]
     },
     "execution_count": 7,
     "metadata": {},
     "output_type": "execute_result"
    }
   ],
   "source": [
    "df[df.label_text != 'n/a'].shape[0]"
   ]
  },
  {
   "cell_type": "code",
   "execution_count": 8,
   "id": "52e6a665",
   "metadata": {},
   "outputs": [
    {
     "data": {
      "text/plain": [
       "n/a                 43192\n",
       "link                 2404\n",
       "button               1210\n",
       "checkbox              246\n",
       "textfield             229\n",
       "radiobutton           130\n",
       "selector               85\n",
       "datetimeselector       34\n",
       "table                  32\n",
       "slider                 30\n",
       "switch                 29\n",
       "tab                    27\n",
       "textarea               23\n",
       "progressbar            21\n",
       "range                  12\n",
       "tree-node              10\n",
       "fileinput               8\n",
       "steper                  7\n",
       "dropdown                7\n",
       "colorpicker             6\n",
       "iframe                  5\n",
       "numberselector          3\n",
       "Name: label_text, dtype: int64"
      ]
     },
     "execution_count": 8,
     "metadata": {},
     "output_type": "execute_result"
    }
   ],
   "source": [
    "df.label_text.value_counts()"
   ]
  },
  {
   "cell_type": "code",
   "execution_count": 9,
   "id": "76d20aa1",
   "metadata": {},
   "outputs": [
    {
     "data": {
      "text/plain": [
       "DIV                           12727\n",
       "SPAN                           9201\n",
       "A                              3908\n",
       "TD                             2775\n",
       "LI                             1973\n",
       "                              ...  \n",
       "SIDENAV-OVERVIEW-EXAMPLE          1\n",
       "LIST-OVERVIEW-EXAMPLE             1\n",
       "TREE-LOADMORE-EXAMPLE             1\n",
       "PROGRESS-BAR-QUERY-EXAMPLE        1\n",
       "SLIDER-OVERVIEW-EXAMPLE           1\n",
       "Name: tag_name, Length: 308, dtype: int64"
      ]
     },
     "execution_count": 9,
     "metadata": {},
     "output_type": "execute_result"
    }
   ],
   "source": [
    "df.tag_name.value_counts()"
   ]
  },
  {
   "cell_type": "markdown",
   "id": "5a5e6963",
   "metadata": {},
   "source": [
    "# tag_name"
   ]
  },
  {
   "cell_type": "code",
   "execution_count": 10,
   "id": "a99e6154",
   "metadata": {},
   "outputs": [
    {
     "data": {
      "text/plain": [
       "A                    2306\n",
       "DIV                   772\n",
       "BUTTON                510\n",
       "INPUT                 481\n",
       "LABEL                  86\n",
       "SPAN                   77\n",
       "LI                     53\n",
       "SELECT                 52\n",
       "P                      44\n",
       "MAT-RADIO-BUTTON       28\n",
       "TABLE                  24\n",
       "MAT-CHECKBOX           23\n",
       "TEXTAREA               22\n",
       "MAT-SELECT             22\n",
       "SVG                    13\n",
       "MAT-TREE-NODE           8\n",
       "IMG                     8\n",
       "MAT-BUTTON-TOGGLE       5\n",
       "MAT-SLIDER              5\n",
       "IFRAME                  5\n",
       "MAT-SLIDE-TOGGLE        3\n",
       "CIRCLE                  2\n",
       "PROGRESS                2\n",
       "RECT                    2\n",
       "MAT-TABLE               1\n",
       "G                       1\n",
       "I                       1\n",
       "H5                      1\n",
       "H2                      1\n",
       "Name: tag_name, dtype: int64"
      ]
     },
     "metadata": {},
     "output_type": "display_data"
    }
   ],
   "source": [
    "tag_name_series = df[df.label_text != 'n/a'].tag_name.value_counts()\n",
    "display(tag_name_series)\n",
    "tag_name_set = set(tag_name_series.index)"
   ]
  },
  {
   "cell_type": "code",
   "execution_count": 11,
   "id": "1c37d9e4",
   "metadata": {},
   "outputs": [
    {
     "data": {
      "text/plain": [
       "OneHotEncoder(categories=[['MAT-SELECT', 'MAT-TABLE', 'MAT-CHECKBOX', 'G', 'H5',\n",
       "                           'SELECT', 'I', 'H2', 'TABLE', 'TEXTAREA', 'DIV', 'A',\n",
       "                           'INPUT', 'LI', 'SVG', 'CIRCLE', 'SPAN',\n",
       "                           'MAT-BUTTON-TOGGLE', 'PROGRESS', 'LABEL', 'IMG',\n",
       "                           'MAT-SLIDE-TOGGLE', 'BUTTON', 'MAT-SLIDER', 'P',\n",
       "                           'MAT-TREE-NODE', 'IFRAME', 'MAT-RADIO-BUTTON',\n",
       "                           'RECT']],\n",
       "              handle_unknown='ignore')"
      ]
     },
     "execution_count": 11,
     "metadata": {},
     "output_type": "execute_result"
    }
   ],
   "source": [
    "tag_name_ohe = OneHotEncoder(handle_unknown='ignore', categories=[list(tag_name_set)])\n",
    "tag_name_ohe"
   ]
  },
  {
   "cell_type": "code",
   "execution_count": 12,
   "id": "39a729e8",
   "metadata": {},
   "outputs": [
    {
     "data": {
      "text/plain": [
       "array([['DIV'],\n",
       "       ['DIV'],\n",
       "       ['BR'],\n",
       "       ...,\n",
       "       ['A'],\n",
       "       ['IMG'],\n",
       "       ['DIV']], dtype=object)"
      ]
     },
     "execution_count": 12,
     "metadata": {},
     "output_type": "execute_result"
    }
   ],
   "source": [
    "np.expand_dims(df.tag_name.values, -1)"
   ]
  },
  {
   "cell_type": "code",
   "execution_count": 13,
   "id": "40b37554",
   "metadata": {},
   "outputs": [
    {
     "data": {
      "text/plain": [
       "OneHotEncoder(categories=[['MAT-SELECT', 'MAT-TABLE', 'MAT-CHECKBOX', 'G', 'H5',\n",
       "                           'SELECT', 'I', 'H2', 'TABLE', 'TEXTAREA', 'DIV', 'A',\n",
       "                           'INPUT', 'LI', 'SVG', 'CIRCLE', 'SPAN',\n",
       "                           'MAT-BUTTON-TOGGLE', 'PROGRESS', 'LABEL', 'IMG',\n",
       "                           'MAT-SLIDE-TOGGLE', 'BUTTON', 'MAT-SLIDER', 'P',\n",
       "                           'MAT-TREE-NODE', 'IFRAME', 'MAT-RADIO-BUTTON',\n",
       "                           'RECT']],\n",
       "              handle_unknown='ignore')"
      ]
     },
     "execution_count": 13,
     "metadata": {},
     "output_type": "execute_result"
    }
   ],
   "source": [
    "tag_name_ohe.fit(np.expand_dims(df[df.label_text != 'n/a'].tag_name.values, -1))"
   ]
  },
  {
   "cell_type": "code",
   "execution_count": 14,
   "id": "129d7e86",
   "metadata": {},
   "outputs": [
    {
     "data": {
      "text/plain": [
       "<47750x29 sparse matrix of type '<class 'numpy.float64'>'\n",
       "\twith 34173 stored elements in Compressed Sparse Row format>"
      ]
     },
     "execution_count": 14,
     "metadata": {},
     "output_type": "execute_result"
    }
   ],
   "source": [
    "tag_name_sm = tag_name_ohe.transform(np.expand_dims(df.tag_name.values, -1))\n",
    "tag_name_sm"
   ]
  },
  {
   "cell_type": "code",
   "execution_count": 15,
   "id": "6696ee71",
   "metadata": {},
   "outputs": [
    {
     "name": "stdout",
     "output_type": "stream",
     "text": [
      "2021-06-18 00:26:20,172 -INFO - features_builder:features_builder.py:228 - used column: tag_name\n",
      "2021-06-18 00:26:20,173 -INFO - features_builder:features_builder.py:231 - loading model/ohe_tag_name.pkl\n"
     ]
    },
    {
     "data": {
      "text/plain": [
       "<47750x29 sparse matrix of type '<class 'numpy.float64'>'\n",
       "\twith 34173 stored elements in Compressed Sparse Row format>"
      ]
     },
     "execution_count": 15,
     "metadata": {},
     "output_type": "execute_result"
    }
   ],
   "source": [
    "logger.setLevel(logging.DEBUG)\n",
    "tag_name_sm = build_tag_name_feature(df)\n",
    "tag_name_sm"
   ]
  },
  {
   "cell_type": "markdown",
   "id": "e1a115b5",
   "metadata": {},
   "source": [
    "# attributes.role"
   ]
  },
  {
   "cell_type": "code",
   "execution_count": 16,
   "id": "b5512a64",
   "metadata": {},
   "outputs": [
    {
     "data": {
      "text/plain": [
       "               3838\n",
       "button          616\n",
       "tab              34\n",
       "listbox          22\n",
       "grid             12\n",
       "switch            9\n",
       "group             8\n",
       "combobox          8\n",
       "slider            5\n",
       "option            3\n",
       "progressbar       3\n",
       "Name: attributes, dtype: int64"
      ]
     },
     "execution_count": 16,
     "metadata": {},
     "output_type": "execute_result"
    }
   ],
   "source": [
    "attr_role_series = df[df.label_text != 'n/a'].attributes.apply(lambda x: None if x is None else x.get('role')).fillna('')\n",
    "attr_role_series.value_counts()"
   ]
  },
  {
   "cell_type": "code",
   "execution_count": 17,
   "id": "2eb7b7f6",
   "metadata": {},
   "outputs": [
    {
     "data": {
      "text/plain": [
       "OneHotEncoder(handle_unknown='ignore')"
      ]
     },
     "execution_count": 17,
     "metadata": {},
     "output_type": "execute_result"
    }
   ],
   "source": [
    "attr_role_ohe = OneHotEncoder(handle_unknown='ignore').fit(np.expand_dims(attr_role_series.values, -1))\n",
    "attr_role_ohe"
   ]
  },
  {
   "cell_type": "code",
   "execution_count": 18,
   "id": "fe88f98b",
   "metadata": {},
   "outputs": [
    {
     "data": {
      "text/plain": [
       "<47750x11 sparse matrix of type '<class 'numpy.float64'>'\n",
       "\twith 46557 stored elements in Compressed Sparse Row format>"
      ]
     },
     "execution_count": 18,
     "metadata": {},
     "output_type": "execute_result"
    }
   ],
   "source": [
    "attr_role_sm = attr_role_ohe.transform(\n",
    "    np.expand_dims(\n",
    "        df.attributes.apply(lambda x: None if x is None else x.get('role')).fillna(''),\n",
    "        -1\n",
    "    )\n",
    ")\n",
    "attr_role_sm"
   ]
  },
  {
   "cell_type": "code",
   "execution_count": 19,
   "id": "f5ffc0e7",
   "metadata": {},
   "outputs": [
    {
     "name": "stdout",
     "output_type": "stream",
     "text": [
      "2021-06-18 00:26:20,281 -INFO - features_builder:features_builder.py:251 - used column: attributes\n",
      "2021-06-18 00:26:20,281 -INFO - features_builder:features_builder.py:254 - loading model/ohe_role.pkl\n"
     ]
    },
    {
     "data": {
      "text/plain": [
       "<47750x37 sparse matrix of type '<class 'numpy.float64'>'\n",
       "\twith 47731 stored elements in Compressed Sparse Row format>"
      ]
     },
     "execution_count": 19,
     "metadata": {},
     "output_type": "execute_result"
    }
   ],
   "source": [
    "logger.setLevel(logging.DEBUG)\n",
    "role_sm = build_role_feature(df)\n",
    "role_sm"
   ]
  },
  {
   "cell_type": "markdown",
   "id": "a9f444ad",
   "metadata": {},
   "source": [
    "# attributes.type"
   ]
  },
  {
   "cell_type": "code",
   "execution_count": 20,
   "id": "7bb5c77e",
   "metadata": {},
   "outputs": [
    {
     "data": {
      "text/plain": [
       "                               3760\n",
       "button                          340\n",
       "checkbox                        151\n",
       "text                             95\n",
       "submit                           41\n",
       "number                           34\n",
       "radio                            31\n",
       "range                            22\n",
       "search                           15\n",
       "password                         13\n",
       "email                            13\n",
       "file                              9\n",
       "addToCartButtonWithQuantity       6\n",
       "reset                             5\n",
       "color                             5\n",
       "time                              3\n",
       "datetime-local                    3\n",
       "month                             3\n",
       "week                              3\n",
       "date                              3\n",
       "tel                               2\n",
       "url                               1\n",
       "Name: attributes, dtype: int64"
      ]
     },
     "execution_count": 20,
     "metadata": {},
     "output_type": "execute_result"
    }
   ],
   "source": [
    "attr_type_series = df[df.label_text != 'n/a'].attributes.apply(lambda x: None if x is None else x.get('type')).fillna('')\n",
    "attr_type_series.value_counts()"
   ]
  },
  {
   "cell_type": "code",
   "execution_count": 21,
   "id": "2b4c430e",
   "metadata": {},
   "outputs": [
    {
     "data": {
      "text/plain": [
       "OneHotEncoder(handle_unknown='ignore')"
      ]
     },
     "execution_count": 21,
     "metadata": {},
     "output_type": "execute_result"
    }
   ],
   "source": [
    "attr_type_ohe = OneHotEncoder(handle_unknown='ignore').fit(np.expand_dims(attr_type_series.values, -1))\n",
    "attr_type_ohe"
   ]
  },
  {
   "cell_type": "code",
   "execution_count": 22,
   "id": "a022c066",
   "metadata": {},
   "outputs": [
    {
     "data": {
      "text/plain": [
       "<47750x22 sparse matrix of type '<class 'numpy.float64'>'\n",
       "\twith 47493 stored elements in Compressed Sparse Row format>"
      ]
     },
     "execution_count": 22,
     "metadata": {},
     "output_type": "execute_result"
    }
   ],
   "source": [
    "attr_type_sm = attr_type_ohe.transform(\n",
    "    np.expand_dims(\n",
    "        df.attributes.apply(lambda x: None if x is None else x.get('type')).fillna(''),\n",
    "        -1\n",
    "    )\n",
    ")\n",
    "attr_type_sm"
   ]
  },
  {
   "cell_type": "code",
   "execution_count": 23,
   "id": "57d74102",
   "metadata": {},
   "outputs": [
    {
     "name": "stdout",
     "output_type": "stream",
     "text": [
      "2021-06-18 00:26:20,408 -INFO - features_builder:features_builder.py:279 - used column: attributes\n",
      "2021-06-18 00:26:20,410 -INFO - features_builder:features_builder.py:282 - loading model/ohe_type.pkl\n"
     ]
    },
    {
     "data": {
      "text/plain": [
       "<47750x22 sparse matrix of type '<class 'numpy.float64'>'\n",
       "\twith 47493 stored elements in Compressed Sparse Row format>"
      ]
     },
     "execution_count": 23,
     "metadata": {},
     "output_type": "execute_result"
    }
   ],
   "source": [
    "logger.setLevel(logging.DEBUG)\n",
    "type_sm = build_type_feature(df)\n",
    "type_sm"
   ]
  },
  {
   "cell_type": "markdown",
   "id": "1f27426c",
   "metadata": {},
   "source": [
    "# attributes.ui"
   ]
  },
  {
   "cell_type": "code",
   "execution_count": 24,
   "id": "e2e1f29a",
   "metadata": {},
   "outputs": [
    {
     "data": {
      "text/plain": [
       "               4499\n",
       "label            40\n",
       "furniture         5\n",
       "d-table           3\n",
       "table             3\n",
       "github-link       2\n",
       "dropdown          2\n",
       "link              1\n",
       "products          1\n",
       "textarea          1\n",
       "products-2        1\n",
       "Name: attributes, dtype: int64"
      ]
     },
     "execution_count": 24,
     "metadata": {},
     "output_type": "execute_result"
    }
   ],
   "source": [
    "attr_ui_series = df[df.label_text != 'n/a'].attributes.apply(lambda x: None if x is None else x.get('ui')).fillna('')\n",
    "attr_ui_series.value_counts()"
   ]
  },
  {
   "cell_type": "code",
   "execution_count": 25,
   "id": "f235e9ae",
   "metadata": {},
   "outputs": [
    {
     "data": {
      "text/plain": [
       "OneHotEncoder(handle_unknown='ignore')"
      ]
     },
     "execution_count": 25,
     "metadata": {},
     "output_type": "execute_result"
    }
   ],
   "source": [
    "attr_ui_ohe = OneHotEncoder(handle_unknown='ignore').fit(np.expand_dims(attr_ui_series.values, -1))\n",
    "attr_ui_ohe"
   ]
  },
  {
   "cell_type": "code",
   "execution_count": 26,
   "id": "5e147c07",
   "metadata": {},
   "outputs": [
    {
     "data": {
      "text/plain": [
       "<47750x11 sparse matrix of type '<class 'numpy.float64'>'\n",
       "\twith 47741 stored elements in Compressed Sparse Row format>"
      ]
     },
     "execution_count": 26,
     "metadata": {},
     "output_type": "execute_result"
    }
   ],
   "source": [
    "attr_ui_sm = attr_ui_ohe.transform(\n",
    "    np.expand_dims(\n",
    "        df.attributes.apply(lambda x: None if x is None else x.get('ui')).fillna(''),\n",
    "        -1\n",
    "    )\n",
    ")\n",
    "attr_ui_sm"
   ]
  },
  {
   "cell_type": "markdown",
   "id": "eecc84a8",
   "metadata": {},
   "source": [
    "- I find that column UI is useless"
   ]
  },
  {
   "cell_type": "markdown",
   "id": "3cbafdef",
   "metadata": {},
   "source": [
    "# attributes.class"
   ]
  },
  {
   "cell_type": "code",
   "execution_count": 27,
   "id": "51bd929b",
   "metadata": {},
   "outputs": [
    {
     "data": {
      "text/plain": [
       "                                                                                                                                                                                                                                                                                                              1410\n",
       "MuiButtonBase-root MuiListItem-root MuiListItem-gutters MuiListItem-button                                                                                                                                                                                                                                     592\n",
       "news-link                                                                                                                                                                                                                                                                                                      165\n",
       "_1-6r                                                                                                                                                                                                                                                                                                          124\n",
       "_1V0q                                                                                                                                                                                                                                                                                                          103\n",
       "                                                                                                                                                                                                                                                                                                              ... \n",
       "MuiButtonBase-root MuiFab-root Mui-disabled Mui-disabled                                                                                                                                                                                                                                                         1\n",
       "MuiButtonBase-root MuiButton-root MuiButton-contained jss5 MuiButton-containedPrimary MuiButton-containedSizeLarge MuiButton-sizeLarge                                                                                                                                                                           1\n",
       "mat-sort-header-button mat-focus-indicator ng-tns-c191-196                                                                                                                                                                                                                                                       1\n",
       "MuiButtonBase-root MuiButton-root MuiButton-contained MuiButtonGroup-grouped MuiButtonGroup-groupedHorizontal MuiButtonGroup-groupedContained MuiButtonGroup-groupedContainedHorizontal MuiButtonGroup-groupedContainedPrimary MuiButton-containedPrimary MuiButton-containedSizeSmall MuiButton-sizeSmall       1\n",
       "MuiInputBase-input MuiInput-input Mui-disabled Mui-disabled                                                                                                                                                                                                                                                      1\n",
       "Name: attributes, Length: 560, dtype: int64"
      ]
     },
     "execution_count": 27,
     "metadata": {},
     "output_type": "execute_result"
    }
   ],
   "source": [
    "attr_class_series = df[df.label_text != 'n/a'].attributes.apply(lambda x: None if x is None else x.get('class')).fillna('')\n",
    "attr_class_series.value_counts()"
   ]
  },
  {
   "cell_type": "code",
   "execution_count": 28,
   "id": "04c4bb70",
   "metadata": {},
   "outputs": [],
   "source": [
    "class_cv = CountVectorizer()"
   ]
  },
  {
   "cell_type": "code",
   "execution_count": 29,
   "id": "1fefe837",
   "metadata": {},
   "outputs": [
    {
     "data": {
      "text/plain": [
       "CountVectorizer()"
      ]
     },
     "execution_count": 29,
     "metadata": {},
     "output_type": "execute_result"
    }
   ],
   "source": [
    "class_cv.fit(attr_class_series.values)"
   ]
  },
  {
   "cell_type": "code",
   "execution_count": 30,
   "id": "eac9edb1",
   "metadata": {},
   "outputs": [
    {
     "name": "stdout",
     "output_type": "stream",
     "text": [
      "363\n",
      "['above', 'accent', 'account', 'action', 'active', 'add', 'alert', 'align', 'all', 'anchorjs', 'ani', 'ant', 'appearance', 'arrow', 'autocomplete', 'autofill', 'autosize', 'badge', 'bannerclose', 'bar', 'base', 'before', 'benefits', 'black', 'block', 'blue', 'body', 'bold', 'border', 'bottom', 'brand', 'breaking', 'btn', 'btnprimary', 'buffer', 'button', 'buttonlink', 'buttonnew', 'buttontext', 'buy', 'carbon', 'card', 'carousel', 'cascader', 'cat', 'cdk', 'center', 'change', 'char', 'check', 'checkbox', 'checked', 'checkmark', 'children', 'chip', 'circle', 'circledisableshrink', 'circleindeterminate', 'click', 'clipboard', 'close', 'cnb', 'cnm', 'collapsed', 'colorprimary', 'colorsecondary', 'column', 'company', 'comparisons', 'contained', 'containedprimary', 'containedsecondary', 'containedsizelarge', 'containedsizesmall', 'container', 'content', 'control', 'corner', 'cta', 'current', 'custom', 'danger', 'dark', 'dashed', 'dashedcolorprimary', 'datatable', 'default', 'delete', 'dense', 'determinate', 'disabled', 'document', 'dot', 'down', 'download', 'drop', 'dropdown', 'dynamic', 'edgeend', 'effect', 'eid', 'element', 'elevation', 'empty', 'example', 'expand', 'extended', 'external', 'fab', 'field', 'file', 'fileinput', 'filled', 'filter', 'filters', 'first', 'flat', 'flex', 'focus', 'follow', 'footer', 'form', 'forworkbutton', 'forworklink', 'fullwidth', 'glyph', 'green', 'grey', 'grid', 'group', 'grouped', 'groupedcontained', 'groupedcontainedhorizontal', 'groupedcontainedprimary', 'groupedcontainedvertical', 'groupedhorizontal', 'groupedoutlined', 'groupedoutlinedhorizontal', 'groupedoutlinedprimary', 'groupedvertical', 'grow', 'gutters', 'handle', 'has', 'header', 'helplink', 'hero', 'hlvc', 'horiz', 'horizontal', 'hover', 'html', 'icon', 'iframe', 'image', 'img', 'indeterminate', 'indicator', 'infix', 'info', 'inline', 'innovations', 'input', 'inputadornedend', 'inputadornedstart', 'inputmargindense', 'inputmultiline', 'inputs', 'inputtypesearch', 'inserted', 'invalid', 'item', 'items', 'jump', 'label', 'labelplacementbottom', 'labelplacementstart', 'labelplacementtop', 'last', 'lavender', 'lazyloaded', 'learn', 'light', 'link', 'links', 'list', 'login', 'logo', 'low', 'main', 'margin', 'marked', 'mat', 'max', 'mdl', 'medium', 'menu', 'min', 'mini', 'mni', 'monitored', 'more', 'mui', 'muibox', 'muibutton', 'muibuttonbase', 'muibuttongroup', 'muicircularprogress', 'muifab', 'muifilledinput', 'muiformcontrollabel', 'muiiconbutton', 'muiinput', 'muiinputbase', 'muilinearprogress', 'muilistitem', 'muilistsubheader', 'muinativeselect', 'muioutlinedinput', 'muiselect', 'muislider', 'muiswitch', 'muitab', 'muitypography', 'multiselect', 'muted', 'name', 'nativeinput', 'nav', 'navbar', 'navigation', 'new', 'news', 'next', 'node', 'none', 'ntl', 'ocparticlelink', 'ocpexternallink', 'ocpimagelink', 'ocplinkwithimage', 'oneplayer', 'orange', 'other', 'outline', 'outlined', 'outlinedprimary', 'overlap', 'overlay', 'owl', 'page', 'pages', 'pagination', 'paginator', 'paging', 'per', 'photo', 'plain', 'position', 'postname', 'poweredby', 'prev', 'previous', 'primary', 'pristine', 'profile', 'progress', 'radio', 'raised', 'range', 'records', 'red', 'release', 'required', 'resource', 'right', 'ripple', 'root', 'rounded', 'row', 'scroll', 'search', 'secondary', 'secondaryaction', 'see', 'seemore', 'select', 'selected', 'selection', 'selectmenu', 'selectpicker', 'sgl', 'showing', 'sign', 'signuplink', 'sizelarge', 'sizesmall', 'slick', 'slide', 'slider', 'small', 'sort', 'source', 'split', 'stage', 'standard', 'star', 'state', 'static', 'step', 'stk', 'stripe', 'stroked', 'success', 'suphomeandlandingpagecta', 'suphomeandlandingpagectabutton', 'suphomeandlandingpagefooterelementcalltoaction', 'suphomeandlandingpagesearchbox', 'suphomeandlandingpagesearchbutton', 'suphomepageiconmorelink', 'svg', 'switch', 'switchbase', 'tab', 'table', 'target', 'tbl', 'technoblog', 'testic', 'text', 'textarea', 'textcolorprimary', 'textprimary', 'textsecondary', 'thumb', 'ticks', 'tile', 'tizer', 'tns', 'toggle', 'toggleoptions', 'toggler', 'topnavdropdownlink', 'topnavdropdowntrigger', 'track', 'tree', 'trigger', 'uhf', 'uhff', 'uhflogo', 'untouched', 'upload', 'userpic', 'uui', 'valid', 'value', 'vertical', 'video', 'violet', 'warn', 'widget', 'without', 'wrapper']\n"
     ]
    }
   ],
   "source": [
    "vocabulary = sorted([v for v in class_cv.vocabulary_.keys() if re.match(r'^[a-z]+$',v ) and len(v) > 2])\n",
    "print(len(vocabulary))\n",
    "print(vocabulary)"
   ]
  },
  {
   "cell_type": "code",
   "execution_count": 31,
   "id": "da3fd1e3",
   "metadata": {},
   "outputs": [
    {
     "data": {
      "text/plain": [
       "CountVectorizer(vocabulary=['above', 'accent', 'account', 'action', 'active',\n",
       "                            'add', 'alert', 'align', 'all', 'anchorjs', 'ani',\n",
       "                            'ant', 'appearance', 'arrow', 'autocomplete',\n",
       "                            'autofill', 'autosize', 'badge', 'bannerclose',\n",
       "                            'bar', 'base', 'before', 'benefits', 'black',\n",
       "                            'block', 'blue', 'body', 'bold', 'border', 'bottom', ...])"
      ]
     },
     "execution_count": 31,
     "metadata": {},
     "output_type": "execute_result"
    }
   ],
   "source": [
    "attr_class_cv = CountVectorizer(vocabulary=vocabulary) #.fit(attr_class_series.values)\n",
    "attr_class_cv"
   ]
  },
  {
   "cell_type": "code",
   "execution_count": 32,
   "id": "c17cce12",
   "metadata": {},
   "outputs": [
    {
     "data": {
      "text/plain": [
       "<4558x363 sparse matrix of type '<class 'numpy.int64'>'\n",
       "\twith 10711 stored elements in Compressed Sparse Row format>"
      ]
     },
     "execution_count": 32,
     "metadata": {},
     "output_type": "execute_result"
    }
   ],
   "source": [
    "attr_class_sm = attr_class_cv.transform(attr_class_series.values)\n",
    "attr_class_mx = attr_class_sm.todense()\n",
    "attr_class_sm"
   ]
  },
  {
   "cell_type": "code",
   "execution_count": 33,
   "id": "e834c145",
   "metadata": {},
   "outputs": [
    {
     "data": {
      "text/plain": [
       "matrix([[0, 0, 0, 0, 0, 0, 0, 0, 0, 0, 0, 0, 0, 0, 0, 0, 0, 0, 0, 0, 0,\n",
       "         0, 0, 0, 0, 0, 0, 0, 0, 0, 0, 0, 0, 0, 0, 0, 0, 0, 0, 0, 0, 0,\n",
       "         0, 0, 0, 0, 0, 0, 0, 0, 0, 0, 0, 0, 0, 0, 0, 0, 0, 0, 0, 0, 0,\n",
       "         0, 0, 0, 0, 0, 0, 0, 0, 0, 0, 0, 0, 0, 1, 0, 0, 0, 1, 0, 0, 0,\n",
       "         0, 0, 0, 0, 0, 0, 0, 0, 0, 0, 0, 0, 0, 0, 0, 0, 0, 0, 0, 0, 0,\n",
       "         0, 0, 0, 0, 0, 0, 0, 0, 0, 0, 0, 0, 0, 0, 0, 0, 0, 0, 0, 0, 0,\n",
       "         0, 0, 0, 0, 0, 0, 0, 0, 0, 0, 0, 0, 0, 0, 0, 0, 0, 0, 0, 0, 0,\n",
       "         0, 0, 0, 0, 0, 0, 0, 0, 0, 0, 0, 0, 0, 0, 0, 0, 0, 0, 0, 0, 0,\n",
       "         0, 0, 0, 0, 0, 0, 1, 0, 0, 0, 0, 0, 0, 0, 0, 0, 0, 0, 0, 0, 0,\n",
       "         0, 0, 0, 0, 0, 0, 0, 0, 0, 0, 0, 0, 0, 0, 0, 0, 0, 0, 0, 0, 0,\n",
       "         0, 0, 0, 0, 0, 0, 0, 0, 0, 0, 0, 0, 0, 0, 0, 0, 0, 0, 0, 0, 0,\n",
       "         0, 0, 0, 0, 0, 0, 0, 0, 0, 0, 0, 0, 0, 0, 0, 0, 0, 0, 0, 0, 0,\n",
       "         0, 0, 0, 0, 0, 0, 0, 0, 0, 0, 0, 0, 0, 0, 0, 0, 0, 0, 0, 0, 0,\n",
       "         0, 0, 0, 0, 0, 0, 0, 0, 0, 0, 0, 0, 0, 0, 0, 0, 0, 0, 0, 0, 0,\n",
       "         0, 0, 0, 0, 0, 0, 0, 0, 0, 0, 0, 0, 0, 0, 0, 0, 0, 0, 0, 0, 0,\n",
       "         0, 0, 0, 0, 0, 0, 0, 0, 0, 0, 0, 0, 0, 0, 0, 0, 0, 0, 0, 0, 0,\n",
       "         0, 0, 0, 0, 0, 0, 0, 0, 0, 0, 0, 0, 0, 0, 0, 0, 0, 0, 0, 0, 0,\n",
       "         0, 0, 0, 0, 0, 0]], dtype=int64)"
      ]
     },
     "execution_count": 33,
     "metadata": {},
     "output_type": "execute_result"
    }
   ],
   "source": [
    "attr_class_mx[10]"
   ]
  },
  {
   "cell_type": "code",
   "execution_count": 34,
   "id": "2bce06af",
   "metadata": {},
   "outputs": [],
   "source": [
    "attr_class_tfidf = TfidfVectorizer(vocabulary=vocabulary).fit(attr_class_series.values)"
   ]
  },
  {
   "cell_type": "code",
   "execution_count": 35,
   "id": "9fb72081",
   "metadata": {},
   "outputs": [
    {
     "data": {
      "text/plain": [
       "(<4558x363 sparse matrix of type '<class 'numpy.float64'>'\n",
       " \twith 10711 stored elements in Compressed Sparse Row format>,\n",
       " scipy.sparse.csr.csr_matrix)"
      ]
     },
     "execution_count": 35,
     "metadata": {},
     "output_type": "execute_result"
    }
   ],
   "source": [
    "attr_class_sm = attr_class_tfidf.transform(attr_class_series.values)\n",
    "attr_class_mx = attr_class_sm.todense()\n",
    "attr_class_sm, type(attr_class_sm)"
   ]
  },
  {
   "cell_type": "code",
   "execution_count": 36,
   "id": "31fbc527",
   "metadata": {},
   "outputs": [
    {
     "name": "stdout",
     "output_type": "stream",
     "text": [
      "2021-06-18 00:26:20,741 -INFO - features_builder:features_builder.py:188 - used column: attributes\n",
      "2021-06-18 00:26:20,741 -INFO - features_builder:features_builder.py:191 - TfIdfVectorizer for class attribute exists. Loaging...\n"
     ]
    },
    {
     "data": {
      "text/plain": [
       "<47750x389 sparse matrix of type '<class 'numpy.float64'>'\n",
       "\twith 64025 stored elements in Compressed Sparse Row format>"
      ]
     },
     "execution_count": 36,
     "metadata": {},
     "output_type": "execute_result"
    }
   ],
   "source": [
    "logger.setLevel(logging.DEBUG)\n",
    "attr_class_sm = build_class_feature(df)\n",
    "attr_class_sm"
   ]
  },
  {
   "cell_type": "markdown",
   "id": "67bbf4ba",
   "metadata": {},
   "source": [
    "# Explore attributes"
   ]
  },
  {
   "cell_type": "code",
   "execution_count": 37,
   "id": "8ec148ef",
   "metadata": {},
   "outputs": [
    {
     "name": "stdout",
     "output_type": "stream",
     "text": [
      "Number of labels: 4558\n"
     ]
    },
    {
     "data": {
      "application/vnd.jupyter.widget-view+json": {
       "model_id": "f97563036a9e49bcb553b3cfcff5b775",
       "version_major": 2,
       "version_minor": 0
      },
      "text/plain": [
       "0it [00:00, ?it/s]"
      ]
     },
     "metadata": {},
     "output_type": "display_data"
    }
   ],
   "source": [
    "from collections import Counter\n",
    "\n",
    "stats_na = Counter()\n",
    "stats_ctl = Counter()\n",
    "stats_all = Counter()\n",
    "\n",
    "print('Number of labels:', df[df.label_text != 'n/a'].shape[0])\n",
    "\n",
    "# Will use Only attributes from labeled classes \n",
    "\n",
    "for _, r in tqdm(df[['attributes', 'label_text', 'displayed']].iterrows()):\n",
    "    if r.attributes is not None:\n",
    "        lst = [k for k in r.attributes.keys() if (r.attributes.get(k) is not None) and (str(r.attributes.get(k)).strip() != \"\")]\n",
    "        if r.label_text == 'n/a':\n",
    "            stats_na.update(lst)\n",
    "        else:\n",
    "            stats_ctl.update(lst)\n",
    "        stats_all.update(lst)\n",
    "attributes_na_df = pd.DataFrame({'keys': stats_na.keys(), 'counts': stats_na.values()}).sort_values(by='counts', ascending=False)\n",
    "\n",
    "attributes_ctl_df = pd.DataFrame({'keys': stats_ctl.keys(), 'counts': stats_ctl.values()}).sort_values(by='counts', ascending=False)\n",
    "attributes_all_df = pd.DataFrame({'keys': stats_all.keys(), 'counts': stats_all.values()}).sort_values(by='counts', ascending=False)\n"
   ]
  },
  {
   "cell_type": "code",
   "execution_count": 38,
   "id": "f5704f57",
   "metadata": {},
   "outputs": [
    {
     "data": {
      "text/html": [
       "<div>\n",
       "<style scoped>\n",
       "    .dataframe tbody tr th:only-of-type {\n",
       "        vertical-align: middle;\n",
       "    }\n",
       "\n",
       "    .dataframe tbody tr th {\n",
       "        vertical-align: top;\n",
       "    }\n",
       "\n",
       "    .dataframe thead th {\n",
       "        text-align: right;\n",
       "    }\n",
       "</style>\n",
       "<table border=\"1\" class=\"dataframe\">\n",
       "  <thead>\n",
       "    <tr style=\"text-align: right;\">\n",
       "      <th></th>\n",
       "      <th>keys</th>\n",
       "      <th>counts</th>\n",
       "      <th>p_all</th>\n",
       "    </tr>\n",
       "  </thead>\n",
       "  <tbody>\n",
       "    <tr>\n",
       "      <th>0</th>\n",
       "      <td>class</td>\n",
       "      <td>30793</td>\n",
       "      <td>0.644880</td>\n",
       "    </tr>\n",
       "    <tr>\n",
       "      <th>2</th>\n",
       "      <td>href</td>\n",
       "      <td>5150</td>\n",
       "      <td>0.107853</td>\n",
       "    </tr>\n",
       "    <tr>\n",
       "      <th>3</th>\n",
       "      <td>id</td>\n",
       "      <td>2669</td>\n",
       "      <td>0.055895</td>\n",
       "    </tr>\n",
       "    <tr>\n",
       "      <th>19</th>\n",
       "      <td>role</td>\n",
       "      <td>2262</td>\n",
       "      <td>0.047372</td>\n",
       "    </tr>\n",
       "    <tr>\n",
       "      <th>8</th>\n",
       "      <td>style</td>\n",
       "      <td>2227</td>\n",
       "      <td>0.046639</td>\n",
       "    </tr>\n",
       "    <tr>\n",
       "      <th>...</th>\n",
       "      <td>...</td>\n",
       "      <td>...</td>\n",
       "      <td>...</td>\n",
       "    </tr>\n",
       "    <tr>\n",
       "      <th>255</th>\n",
       "      <td>svgicon</td>\n",
       "      <td>1</td>\n",
       "      <td>0.000021</td>\n",
       "    </tr>\n",
       "    <tr>\n",
       "      <th>254</th>\n",
       "      <td>tickinterval</td>\n",
       "      <td>1</td>\n",
       "      <td>0.000021</td>\n",
       "    </tr>\n",
       "    <tr>\n",
       "      <th>132</th>\n",
       "      <td>data-fl-category-id</td>\n",
       "      <td>1</td>\n",
       "      <td>0.000021</td>\n",
       "    </tr>\n",
       "    <tr>\n",
       "      <th>234</th>\n",
       "      <td>data-provides</td>\n",
       "      <td>1</td>\n",
       "      <td>0.000021</td>\n",
       "    </tr>\n",
       "    <tr>\n",
       "      <th>347</th>\n",
       "      <td>pattern</td>\n",
       "      <td>1</td>\n",
       "      <td>0.000021</td>\n",
       "    </tr>\n",
       "  </tbody>\n",
       "</table>\n",
       "<p>348 rows × 3 columns</p>\n",
       "</div>"
      ],
      "text/plain": [
       "                    keys  counts     p_all\n",
       "0                  class   30793  0.644880\n",
       "2                   href    5150  0.107853\n",
       "3                     id    2669  0.055895\n",
       "19                  role    2262  0.047372\n",
       "8                  style    2227  0.046639\n",
       "..                   ...     ...       ...\n",
       "255              svgicon       1  0.000021\n",
       "254         tickinterval       1  0.000021\n",
       "132  data-fl-category-id       1  0.000021\n",
       "234        data-provides       1  0.000021\n",
       "347              pattern       1  0.000021\n",
       "\n",
       "[348 rows x 3 columns]"
      ]
     },
     "execution_count": 38,
     "metadata": {},
     "output_type": "execute_result"
    }
   ],
   "source": [
    "attributes_all_df['p_all']=attributes_all_df.counts/df.shape[0]\n",
    "attributes_all_df"
   ]
  },
  {
   "cell_type": "code",
   "execution_count": 39,
   "id": "3c74873f",
   "metadata": {},
   "outputs": [
    {
     "data": {
      "text/html": [
       "<div>\n",
       "<style scoped>\n",
       "    .dataframe tbody tr th:only-of-type {\n",
       "        vertical-align: middle;\n",
       "    }\n",
       "\n",
       "    .dataframe tbody tr th {\n",
       "        vertical-align: top;\n",
       "    }\n",
       "\n",
       "    .dataframe thead th {\n",
       "        text-align: right;\n",
       "    }\n",
       "</style>\n",
       "<table border=\"1\" class=\"dataframe\">\n",
       "  <thead>\n",
       "    <tr style=\"text-align: right;\">\n",
       "      <th></th>\n",
       "      <th>keys</th>\n",
       "      <th>counts_x</th>\n",
       "      <th>counts_y</th>\n",
       "      <th>p_all</th>\n",
       "      <th>p_x</th>\n",
       "      <th>p_y</th>\n",
       "      <th>importance</th>\n",
       "    </tr>\n",
       "  </thead>\n",
       "  <tbody>\n",
       "    <tr>\n",
       "      <th>1</th>\n",
       "      <td>href</td>\n",
       "      <td>2957</td>\n",
       "      <td>2193.0</td>\n",
       "      <td>0.107853</td>\n",
       "      <td>0.052902</td>\n",
       "      <td>0.179828</td>\n",
       "      <td>3.399274</td>\n",
       "    </tr>\n",
       "    <tr>\n",
       "      <th>10</th>\n",
       "      <td>tabindex</td>\n",
       "      <td>707</td>\n",
       "      <td>952.0</td>\n",
       "      <td>0.034743</td>\n",
       "      <td>0.012648</td>\n",
       "      <td>0.078065</td>\n",
       "      <td>6.171866</td>\n",
       "    </tr>\n",
       "    <tr>\n",
       "      <th>9</th>\n",
       "      <td>type</td>\n",
       "      <td>789</td>\n",
       "      <td>798.0</td>\n",
       "      <td>0.033236</td>\n",
       "      <td>0.014116</td>\n",
       "      <td>0.065437</td>\n",
       "      <td>4.635801</td>\n",
       "    </tr>\n",
       "    <tr>\n",
       "      <th>5</th>\n",
       "      <td>role</td>\n",
       "      <td>1542</td>\n",
       "      <td>720.0</td>\n",
       "      <td>0.047372</td>\n",
       "      <td>0.027587</td>\n",
       "      <td>0.059041</td>\n",
       "      <td>2.140164</td>\n",
       "    </tr>\n",
       "    <tr>\n",
       "      <th>23</th>\n",
       "      <td>aria-disabled</td>\n",
       "      <td>323</td>\n",
       "      <td>682.0</td>\n",
       "      <td>0.021047</td>\n",
       "      <td>0.005779</td>\n",
       "      <td>0.055925</td>\n",
       "      <td>9.677892</td>\n",
       "    </tr>\n",
       "    <tr>\n",
       "      <th>4</th>\n",
       "      <td>id</td>\n",
       "      <td>2064</td>\n",
       "      <td>605.0</td>\n",
       "      <td>0.055895</td>\n",
       "      <td>0.036926</td>\n",
       "      <td>0.049610</td>\n",
       "      <td>1.343521</td>\n",
       "    </tr>\n",
       "    <tr>\n",
       "      <th>29</th>\n",
       "      <td>target</td>\n",
       "      <td>282</td>\n",
       "      <td>596.0</td>\n",
       "      <td>0.018387</td>\n",
       "      <td>0.005045</td>\n",
       "      <td>0.048872</td>\n",
       "      <td>9.687151</td>\n",
       "    </tr>\n",
       "    <tr>\n",
       "      <th>34</th>\n",
       "      <td>aria-label</td>\n",
       "      <td>191</td>\n",
       "      <td>227.0</td>\n",
       "      <td>0.008754</td>\n",
       "      <td>0.003417</td>\n",
       "      <td>0.018614</td>\n",
       "      <td>5.447427</td>\n",
       "    </tr>\n",
       "    <tr>\n",
       "      <th>87</th>\n",
       "      <td>placeholder</td>\n",
       "      <td>24</td>\n",
       "      <td>141.0</td>\n",
       "      <td>0.003455</td>\n",
       "      <td>0.000429</td>\n",
       "      <td>0.011562</td>\n",
       "      <td>26.928167</td>\n",
       "    </tr>\n",
       "    <tr>\n",
       "      <th>116</th>\n",
       "      <td>aria-invalid</td>\n",
       "      <td>14</td>\n",
       "      <td>130.0</td>\n",
       "      <td>0.003016</td>\n",
       "      <td>0.000250</td>\n",
       "      <td>0.010660</td>\n",
       "      <td>42.561237</td>\n",
       "    </tr>\n",
       "    <tr>\n",
       "      <th>20</th>\n",
       "      <td>value</td>\n",
       "      <td>355</td>\n",
       "      <td>121.0</td>\n",
       "      <td>0.009969</td>\n",
       "      <td>0.006351</td>\n",
       "      <td>0.009922</td>\n",
       "      <td>1.562269</td>\n",
       "    </tr>\n",
       "    <tr>\n",
       "      <th>43</th>\n",
       "      <td>ms.pgarea</td>\n",
       "      <td>103</td>\n",
       "      <td>116.0</td>\n",
       "      <td>0.004586</td>\n",
       "      <td>0.001843</td>\n",
       "      <td>0.009512</td>\n",
       "      <td>5.162020</td>\n",
       "    </tr>\n",
       "    <tr>\n",
       "      <th>117</th>\n",
       "      <td>aria-required</td>\n",
       "      <td>14</td>\n",
       "      <td>101.0</td>\n",
       "      <td>0.002408</td>\n",
       "      <td>0.000250</td>\n",
       "      <td>0.008282</td>\n",
       "      <td>33.066807</td>\n",
       "    </tr>\n",
       "    <tr>\n",
       "      <th>55</th>\n",
       "      <td>data-toggle</td>\n",
       "      <td>50</td>\n",
       "      <td>73.0</td>\n",
       "      <td>0.002576</td>\n",
       "      <td>0.000895</td>\n",
       "      <td>0.005986</td>\n",
       "      <td>6.691936</td>\n",
       "    </tr>\n",
       "    <tr>\n",
       "      <th>44</th>\n",
       "      <td>ms.cmpgrp</td>\n",
       "      <td>102</td>\n",
       "      <td>72.0</td>\n",
       "      <td>0.003644</td>\n",
       "      <td>0.001825</td>\n",
       "      <td>0.005904</td>\n",
       "      <td>3.235424</td>\n",
       "    </tr>\n",
       "    <tr>\n",
       "      <th>41</th>\n",
       "      <td>title</td>\n",
       "      <td>112</td>\n",
       "      <td>65.0</td>\n",
       "      <td>0.003707</td>\n",
       "      <td>0.002004</td>\n",
       "      <td>0.005330</td>\n",
       "      <td>2.660077</td>\n",
       "    </tr>\n",
       "    <tr>\n",
       "      <th>53</th>\n",
       "      <td>aria-expanded</td>\n",
       "      <td>51</td>\n",
       "      <td>57.0</td>\n",
       "      <td>0.002262</td>\n",
       "      <td>0.000912</td>\n",
       "      <td>0.004674</td>\n",
       "      <td>5.122755</td>\n",
       "    </tr>\n",
       "    <tr>\n",
       "      <th>38</th>\n",
       "      <td>data-m</td>\n",
       "      <td>149</td>\n",
       "      <td>55.0</td>\n",
       "      <td>0.004272</td>\n",
       "      <td>0.002666</td>\n",
       "      <td>0.004510</td>\n",
       "      <td>1.691903</td>\n",
       "    </tr>\n",
       "    <tr>\n",
       "      <th>131</th>\n",
       "      <td>aria-haspopup</td>\n",
       "      <td>10</td>\n",
       "      <td>52.0</td>\n",
       "      <td>0.001298</td>\n",
       "      <td>0.000179</td>\n",
       "      <td>0.004264</td>\n",
       "      <td>23.834293</td>\n",
       "    </tr>\n",
       "    <tr>\n",
       "      <th>68</th>\n",
       "      <td>aria-controls</td>\n",
       "      <td>32</td>\n",
       "      <td>45.0</td>\n",
       "      <td>0.001613</td>\n",
       "      <td>0.000572</td>\n",
       "      <td>0.003690</td>\n",
       "      <td>6.445572</td>\n",
       "    </tr>\n",
       "    <tr>\n",
       "      <th>128</th>\n",
       "      <td>min</td>\n",
       "      <td>11</td>\n",
       "      <td>45.0</td>\n",
       "      <td>0.001173</td>\n",
       "      <td>0.000197</td>\n",
       "      <td>0.003690</td>\n",
       "      <td>18.750755</td>\n",
       "    </tr>\n",
       "    <tr>\n",
       "      <th>136</th>\n",
       "      <td>aria-describedby</td>\n",
       "      <td>9</td>\n",
       "      <td>45.0</td>\n",
       "      <td>0.001131</td>\n",
       "      <td>0.000161</td>\n",
       "      <td>0.003690</td>\n",
       "      <td>22.917589</td>\n",
       "    </tr>\n",
       "    <tr>\n",
       "      <th>135</th>\n",
       "      <td>max</td>\n",
       "      <td>9</td>\n",
       "      <td>44.0</td>\n",
       "      <td>0.001110</td>\n",
       "      <td>0.000161</td>\n",
       "      <td>0.003608</td>\n",
       "      <td>22.408309</td>\n",
       "    </tr>\n",
       "    <tr>\n",
       "      <th>62</th>\n",
       "      <td>onclick</td>\n",
       "      <td>36</td>\n",
       "      <td>41.0</td>\n",
       "      <td>0.001613</td>\n",
       "      <td>0.000644</td>\n",
       "      <td>0.003362</td>\n",
       "      <td>5.220118</td>\n",
       "    </tr>\n",
       "    <tr>\n",
       "      <th>119</th>\n",
       "      <td>aria-selected</td>\n",
       "      <td>12</td>\n",
       "      <td>34.0</td>\n",
       "      <td>0.000963</td>\n",
       "      <td>0.000215</td>\n",
       "      <td>0.002788</td>\n",
       "      <td>12.986634</td>\n",
       "    </tr>\n",
       "  </tbody>\n",
       "</table>\n",
       "</div>"
      ],
      "text/plain": [
       "                 keys  counts_x  counts_y     p_all       p_x       p_y  \\\n",
       "1                href      2957    2193.0  0.107853  0.052902  0.179828   \n",
       "10           tabindex       707     952.0  0.034743  0.012648  0.078065   \n",
       "9                type       789     798.0  0.033236  0.014116  0.065437   \n",
       "5                role      1542     720.0  0.047372  0.027587  0.059041   \n",
       "23      aria-disabled       323     682.0  0.021047  0.005779  0.055925   \n",
       "4                  id      2064     605.0  0.055895  0.036926  0.049610   \n",
       "29             target       282     596.0  0.018387  0.005045  0.048872   \n",
       "34         aria-label       191     227.0  0.008754  0.003417  0.018614   \n",
       "87        placeholder        24     141.0  0.003455  0.000429  0.011562   \n",
       "116      aria-invalid        14     130.0  0.003016  0.000250  0.010660   \n",
       "20              value       355     121.0  0.009969  0.006351  0.009922   \n",
       "43          ms.pgarea       103     116.0  0.004586  0.001843  0.009512   \n",
       "117     aria-required        14     101.0  0.002408  0.000250  0.008282   \n",
       "55        data-toggle        50      73.0  0.002576  0.000895  0.005986   \n",
       "44          ms.cmpgrp       102      72.0  0.003644  0.001825  0.005904   \n",
       "41              title       112      65.0  0.003707  0.002004  0.005330   \n",
       "53      aria-expanded        51      57.0  0.002262  0.000912  0.004674   \n",
       "38             data-m       149      55.0  0.004272  0.002666  0.004510   \n",
       "131     aria-haspopup        10      52.0  0.001298  0.000179  0.004264   \n",
       "68      aria-controls        32      45.0  0.001613  0.000572  0.003690   \n",
       "128               min        11      45.0  0.001173  0.000197  0.003690   \n",
       "136  aria-describedby         9      45.0  0.001131  0.000161  0.003690   \n",
       "135               max         9      44.0  0.001110  0.000161  0.003608   \n",
       "62            onclick        36      41.0  0.001613  0.000644  0.003362   \n",
       "119     aria-selected        12      34.0  0.000963  0.000215  0.002788   \n",
       "\n",
       "     importance  \n",
       "1      3.399274  \n",
       "10     6.171866  \n",
       "9      4.635801  \n",
       "5      2.140164  \n",
       "23     9.677892  \n",
       "4      1.343521  \n",
       "29     9.687151  \n",
       "34     5.447427  \n",
       "87    26.928167  \n",
       "116   42.561237  \n",
       "20     1.562269  \n",
       "43     5.162020  \n",
       "117   33.066807  \n",
       "55     6.691936  \n",
       "44     3.235424  \n",
       "41     2.660077  \n",
       "53     5.122755  \n",
       "38     1.691903  \n",
       "131   23.834293  \n",
       "68     6.445572  \n",
       "128   18.750755  \n",
       "136   22.917589  \n",
       "135   22.408309  \n",
       "62     5.220118  \n",
       "119   12.986634  "
      ]
     },
     "execution_count": 39,
     "metadata": {},
     "output_type": "execute_result"
    }
   ],
   "source": [
    "attr_stats_df = attributes_na_df.merge(attributes_ctl_df, on='keys', how='left')\n",
    "attr_stats_df = attr_stats_df.merge(attributes_all_df[['keys', 'p_all']], on = 'keys', how='left')\n",
    "\n",
    "counts_x_sum, counts_y_sum = attr_stats_df.agg({ 'counts_x': 'sum', 'counts_y': 'sum'}).values\n",
    "attr_stats_df['p_x'] = attr_stats_df.counts_x / counts_x_sum\n",
    "attr_stats_df['p_y'] = attr_stats_df.counts_y / counts_y_sum\n",
    "\n",
    "\n",
    "attr_stats_df['importance'] = attr_stats_df['p_y'] / attr_stats_df['p_x']\n",
    "\n",
    "attr_stats_df[(attr_stats_df.p_x < attr_stats_df.p_y) & (attr_stats_df.counts_y > 30)].sort_values(by='p_y', ascending=False).head(50)\n",
    "\n"
   ]
  },
  {
   "cell_type": "code",
   "execution_count": 40,
   "id": "85e9c5aa",
   "metadata": {},
   "outputs": [
    {
     "data": {
      "application/vnd.jupyter.widget-view+json": {
       "model_id": "8ed9e5eccc5a40c88b3f3ecbe52bd4a0",
       "version_major": 2,
       "version_minor": 0
      },
      "text/plain": [
       "  0%|          | 0/47750 [00:00<?, ?it/s]"
      ]
     },
     "metadata": {},
     "output_type": "display_data"
    }
   ],
   "source": [
    "_keys = set([\n",
    "    'aria-invalid', \n",
    "    'aria-haspopup', \n",
    "    'aria-expanded',      \n",
    "    'aria-required',\n",
    "    'aria-disabled',\n",
    "    'aria-selected',\n",
    "    'aria-describedby',\n",
    "    'aria-controls',\n",
    "    'aria-invalid',\n",
    "    'placeholder',\n",
    "    'value',\n",
    "    'for',\n",
    "    'onclick',\n",
    "    'target',\n",
    "    'role',\n",
    "    'type',\n",
    "    'id',\n",
    "    'name',\n",
    "    'href',\n",
    "    'min',\n",
    "    'max'\n",
    "])\n",
    "\n",
    "report = []\n",
    "with trange(df.shape[0]) as bar:\n",
    "    for _, r in df.iterrows():\n",
    "        attr = r.attributes\n",
    "        if type(attr) is dict:\n",
    "            d = {}\n",
    "            d['label'] = 1 if r.label_text != 'n/a' else 0\n",
    "            for k in _keys:\n",
    "                v = attr.get(k)\n",
    "                if v is not None and v.strip() != \"\":\n",
    "                    d[k]=1\n",
    "                else:\n",
    "                    d[k]=0\n",
    "        else:\n",
    "            d = {k:0 for k in _keys}\n",
    "                \n",
    "        report.append(d)\n",
    "        bar.update(1)\n",
    "\n",
    "report_df = pd.DataFrame(report)"
   ]
  },
  {
   "cell_type": "code",
   "execution_count": 41,
   "id": "e233d695",
   "metadata": {},
   "outputs": [
    {
     "data": {
      "text/plain": [
       "0.0    35797\n",
       "1.0     6326\n",
       "2.0     3537\n",
       "3.0     1573\n",
       "4.0      299\n",
       "5.0      103\n",
       "6.0      100\n",
       "7.0        9\n",
       "9.0        4\n",
       "8.0        2\n",
       "dtype: int64"
      ]
     },
     "execution_count": 41,
     "metadata": {},
     "output_type": "execute_result"
    }
   ],
   "source": [
    "report_df.sum(axis=1).value_counts()"
   ]
  },
  {
   "cell_type": "code",
   "execution_count": 42,
   "id": "ade06558",
   "metadata": {},
   "outputs": [
    {
     "data": {
      "text/plain": [
       "_blank    762\n",
       "_self     115\n",
       "_top        1\n",
       "Name: attributes, dtype: int64"
      ]
     },
     "execution_count": 42,
     "metadata": {},
     "output_type": "execute_result"
    }
   ],
   "source": [
    "df.attributes.apply(lambda x: x.get('target') if x is not None else None).value_counts()"
   ]
  },
  {
   "cell_type": "code",
   "execution_count": 43,
   "id": "d4713e16",
   "metadata": {},
   "outputs": [
    {
     "data": {
      "text/plain": [
       "Index(['attributes', 'displayed', 'element_id', 'height', 'onmouseenter',\n",
       "       'onmouseover', 'parent_id', 'style', 'tag_name', 'text', 'width', 'x',\n",
       "       'y', 'is_hidden', 'upper_sibling', 'lower_sibling', 'siblings', 'idx',\n",
       "       'label', 'annotation_line_no', 'iou', 'tag', 'label_text', 'dataset'],\n",
       "      dtype='object')"
      ]
     },
     "execution_count": 43,
     "metadata": {},
     "output_type": "execute_result"
    }
   ],
   "source": [
    "df.columns"
   ]
  },
  {
   "cell_type": "code",
   "execution_count": 44,
   "id": "c0d46311",
   "metadata": {},
   "outputs": [
    {
     "data": {
      "text/html": [
       "<div>\n",
       "<style scoped>\n",
       "    .dataframe tbody tr th:only-of-type {\n",
       "        vertical-align: middle;\n",
       "    }\n",
       "\n",
       "    .dataframe tbody tr th {\n",
       "        vertical-align: top;\n",
       "    }\n",
       "\n",
       "    .dataframe thead th {\n",
       "        text-align: right;\n",
       "    }\n",
       "</style>\n",
       "<table border=\"1\" class=\"dataframe\">\n",
       "  <thead>\n",
       "    <tr style=\"text-align: right;\">\n",
       "      <th></th>\n",
       "      <th>label</th>\n",
       "      <th>href</th>\n",
       "      <th>for</th>\n",
       "      <th>aria-required</th>\n",
       "      <th>value</th>\n",
       "      <th>aria-controls</th>\n",
       "      <th>target</th>\n",
       "      <th>aria-haspopup</th>\n",
       "      <th>aria-invalid</th>\n",
       "      <th>placeholder</th>\n",
       "      <th>...</th>\n",
       "      <th>min</th>\n",
       "      <th>max</th>\n",
       "      <th>aria-disabled</th>\n",
       "      <th>onclick</th>\n",
       "      <th>aria-expanded</th>\n",
       "      <th>name</th>\n",
       "      <th>type</th>\n",
       "      <th>id</th>\n",
       "      <th>aria-describedby</th>\n",
       "      <th>role</th>\n",
       "    </tr>\n",
       "  </thead>\n",
       "  <tbody>\n",
       "    <tr>\n",
       "      <th>label</th>\n",
       "      <td>1.000000</td>\n",
       "      <td>0.386107</td>\n",
       "      <td>0.013142</td>\n",
       "      <td>0.130391</td>\n",
       "      <td>0.051951</td>\n",
       "      <td>0.066226</td>\n",
       "      <td>0.269947</td>\n",
       "      <td>0.090801</td>\n",
       "      <td>0.150572</td>\n",
       "      <td>0.151494</td>\n",
       "      <td>...</td>\n",
       "      <td>0.082169</td>\n",
       "      <td>0.082972</td>\n",
       "      <td>0.289132</td>\n",
       "      <td>0.059080</td>\n",
       "      <td>0.069229</td>\n",
       "      <td>0.009278</td>\n",
       "      <td>0.254101</td>\n",
       "      <td>0.103249</td>\n",
       "      <td>0.084114</td>\n",
       "      <td>0.164666</td>\n",
       "    </tr>\n",
       "    <tr>\n",
       "      <th>href</th>\n",
       "      <td>0.386107</td>\n",
       "      <td>1.000000</td>\n",
       "      <td>-0.037186</td>\n",
       "      <td>-0.017084</td>\n",
       "      <td>-0.034889</td>\n",
       "      <td>0.001170</td>\n",
       "      <td>0.393633</td>\n",
       "      <td>-0.001288</td>\n",
       "      <td>-0.019123</td>\n",
       "      <td>-0.020474</td>\n",
       "      <td>...</td>\n",
       "      <td>-0.011914</td>\n",
       "      <td>-0.011590</td>\n",
       "      <td>-0.039693</td>\n",
       "      <td>0.009583</td>\n",
       "      <td>-0.002342</td>\n",
       "      <td>-0.034926</td>\n",
       "      <td>-0.045635</td>\n",
       "      <td>-0.030524</td>\n",
       "      <td>-0.011699</td>\n",
       "      <td>-0.071814</td>\n",
       "    </tr>\n",
       "    <tr>\n",
       "      <th>for</th>\n",
       "      <td>0.013142</td>\n",
       "      <td>-0.037186</td>\n",
       "      <td>1.000000</td>\n",
       "      <td>-0.005255</td>\n",
       "      <td>-0.010732</td>\n",
       "      <td>-0.004298</td>\n",
       "      <td>-0.014638</td>\n",
       "      <td>-0.003856</td>\n",
       "      <td>-0.005882</td>\n",
       "      <td>-0.006298</td>\n",
       "      <td>...</td>\n",
       "      <td>-0.003665</td>\n",
       "      <td>-0.003565</td>\n",
       "      <td>-0.015682</td>\n",
       "      <td>-0.004298</td>\n",
       "      <td>-0.005092</td>\n",
       "      <td>-0.010743</td>\n",
       "      <td>-0.019830</td>\n",
       "      <td>0.073126</td>\n",
       "      <td>-0.003599</td>\n",
       "      <td>-0.023849</td>\n",
       "    </tr>\n",
       "    <tr>\n",
       "      <th>aria-required</th>\n",
       "      <td>0.130391</td>\n",
       "      <td>-0.017084</td>\n",
       "      <td>-0.005255</td>\n",
       "      <td>1.000000</td>\n",
       "      <td>0.020874</td>\n",
       "      <td>-0.001975</td>\n",
       "      <td>-0.006725</td>\n",
       "      <td>0.271119</td>\n",
       "      <td>0.893378</td>\n",
       "      <td>0.244657</td>\n",
       "      <td>...</td>\n",
       "      <td>0.048250</td>\n",
       "      <td>0.011194</td>\n",
       "      <td>0.070185</td>\n",
       "      <td>-0.001975</td>\n",
       "      <td>0.051625</td>\n",
       "      <td>0.003657</td>\n",
       "      <td>0.055246</td>\n",
       "      <td>0.201933</td>\n",
       "      <td>0.176319</td>\n",
       "      <td>0.053403</td>\n",
       "    </tr>\n",
       "    <tr>\n",
       "      <th>value</th>\n",
       "      <td>0.051951</td>\n",
       "      <td>-0.034889</td>\n",
       "      <td>-0.010732</td>\n",
       "      <td>0.020874</td>\n",
       "      <td>1.000000</td>\n",
       "      <td>-0.004033</td>\n",
       "      <td>-0.013734</td>\n",
       "      <td>-0.003618</td>\n",
       "      <td>0.040616</td>\n",
       "      <td>0.094678</td>\n",
       "      <td>...</td>\n",
       "      <td>0.187501</td>\n",
       "      <td>0.205580</td>\n",
       "      <td>-0.010307</td>\n",
       "      <td>0.043252</td>\n",
       "      <td>-0.004778</td>\n",
       "      <td>0.318488</td>\n",
       "      <td>0.296574</td>\n",
       "      <td>0.186649</td>\n",
       "      <td>0.021713</td>\n",
       "      <td>-0.018407</td>\n",
       "    </tr>\n",
       "    <tr>\n",
       "      <th>aria-controls</th>\n",
       "      <td>0.066226</td>\n",
       "      <td>0.001170</td>\n",
       "      <td>-0.004298</td>\n",
       "      <td>-0.001975</td>\n",
       "      <td>-0.004033</td>\n",
       "      <td>1.000000</td>\n",
       "      <td>-0.005500</td>\n",
       "      <td>0.027539</td>\n",
       "      <td>-0.002210</td>\n",
       "      <td>0.006528</td>\n",
       "      <td>...</td>\n",
       "      <td>-0.001377</td>\n",
       "      <td>-0.001340</td>\n",
       "      <td>0.095919</td>\n",
       "      <td>-0.001615</td>\n",
       "      <td>0.283752</td>\n",
       "      <td>0.006460</td>\n",
       "      <td>0.059519</td>\n",
       "      <td>0.101552</td>\n",
       "      <td>-0.001352</td>\n",
       "      <td>0.108972</td>\n",
       "    </tr>\n",
       "    <tr>\n",
       "      <th>target</th>\n",
       "      <td>0.269947</td>\n",
       "      <td>0.393633</td>\n",
       "      <td>-0.014638</td>\n",
       "      <td>-0.006725</td>\n",
       "      <td>-0.013734</td>\n",
       "      <td>-0.005500</td>\n",
       "      <td>1.000000</td>\n",
       "      <td>-0.000606</td>\n",
       "      <td>-0.007527</td>\n",
       "      <td>-0.008059</td>\n",
       "      <td>...</td>\n",
       "      <td>-0.004690</td>\n",
       "      <td>-0.004562</td>\n",
       "      <td>-0.003779</td>\n",
       "      <td>0.017809</td>\n",
       "      <td>-0.003235</td>\n",
       "      <td>-0.013748</td>\n",
       "      <td>-0.025377</td>\n",
       "      <td>-0.028552</td>\n",
       "      <td>-0.004605</td>\n",
       "      <td>-0.029053</td>\n",
       "    </tr>\n",
       "    <tr>\n",
       "      <th>aria-haspopup</th>\n",
       "      <td>0.090801</td>\n",
       "      <td>-0.001288</td>\n",
       "      <td>-0.003856</td>\n",
       "      <td>0.271119</td>\n",
       "      <td>-0.003618</td>\n",
       "      <td>0.027539</td>\n",
       "      <td>-0.000606</td>\n",
       "      <td>1.000000</td>\n",
       "      <td>0.241960</td>\n",
       "      <td>0.067250</td>\n",
       "      <td>...</td>\n",
       "      <td>0.015757</td>\n",
       "      <td>0.016264</td>\n",
       "      <td>-0.001235</td>\n",
       "      <td>-0.001449</td>\n",
       "      <td>0.230889</td>\n",
       "      <td>-0.003622</td>\n",
       "      <td>0.077670</td>\n",
       "      <td>0.079834</td>\n",
       "      <td>-0.001213</td>\n",
       "      <td>0.043975</td>\n",
       "    </tr>\n",
       "    <tr>\n",
       "      <th>aria-invalid</th>\n",
       "      <td>0.150572</td>\n",
       "      <td>-0.019123</td>\n",
       "      <td>-0.005882</td>\n",
       "      <td>0.893378</td>\n",
       "      <td>0.040616</td>\n",
       "      <td>-0.002210</td>\n",
       "      <td>-0.007527</td>\n",
       "      <td>0.241960</td>\n",
       "      <td>1.000000</td>\n",
       "      <td>0.224561</td>\n",
       "      <td>...</td>\n",
       "      <td>0.042752</td>\n",
       "      <td>0.009637</td>\n",
       "      <td>0.061116</td>\n",
       "      <td>-0.002210</td>\n",
       "      <td>0.045621</td>\n",
       "      <td>0.044403</td>\n",
       "      <td>0.075031</td>\n",
       "      <td>0.222708</td>\n",
       "      <td>0.202698</td>\n",
       "      <td>0.045268</td>\n",
       "    </tr>\n",
       "    <tr>\n",
       "      <th>placeholder</th>\n",
       "      <td>0.151494</td>\n",
       "      <td>-0.020474</td>\n",
       "      <td>-0.006298</td>\n",
       "      <td>0.244657</td>\n",
       "      <td>0.094678</td>\n",
       "      <td>0.006528</td>\n",
       "      <td>-0.008059</td>\n",
       "      <td>0.067250</td>\n",
       "      <td>0.224561</td>\n",
       "      <td>1.000000</td>\n",
       "      <td>...</td>\n",
       "      <td>0.196100</td>\n",
       "      <td>0.190961</td>\n",
       "      <td>-0.008634</td>\n",
       "      <td>-0.002367</td>\n",
       "      <td>0.057297</td>\n",
       "      <td>0.044326</td>\n",
       "      <td>0.237951</td>\n",
       "      <td>0.161223</td>\n",
       "      <td>0.199768</td>\n",
       "      <td>0.000309</td>\n",
       "    </tr>\n",
       "    <tr>\n",
       "      <th>aria-selected</th>\n",
       "      <td>0.067614</td>\n",
       "      <td>0.006613</td>\n",
       "      <td>-0.003321</td>\n",
       "      <td>-0.001526</td>\n",
       "      <td>-0.003116</td>\n",
       "      <td>0.671722</td>\n",
       "      <td>-0.004250</td>\n",
       "      <td>-0.001120</td>\n",
       "      <td>-0.001708</td>\n",
       "      <td>-0.001829</td>\n",
       "      <td>...</td>\n",
       "      <td>-0.001064</td>\n",
       "      <td>-0.001035</td>\n",
       "      <td>0.131831</td>\n",
       "      <td>-0.001248</td>\n",
       "      <td>-0.001478</td>\n",
       "      <td>-0.003119</td>\n",
       "      <td>0.005540</td>\n",
       "      <td>0.109990</td>\n",
       "      <td>-0.001045</td>\n",
       "      <td>0.139253</td>\n",
       "    </tr>\n",
       "    <tr>\n",
       "      <th>min</th>\n",
       "      <td>0.082169</td>\n",
       "      <td>-0.011914</td>\n",
       "      <td>-0.003665</td>\n",
       "      <td>0.048250</td>\n",
       "      <td>0.187501</td>\n",
       "      <td>-0.001377</td>\n",
       "      <td>-0.004690</td>\n",
       "      <td>0.015757</td>\n",
       "      <td>0.042752</td>\n",
       "      <td>0.196100</td>\n",
       "      <td>...</td>\n",
       "      <td>1.000000</td>\n",
       "      <td>0.936062</td>\n",
       "      <td>-0.000762</td>\n",
       "      <td>-0.001377</td>\n",
       "      <td>-0.001631</td>\n",
       "      <td>-0.003442</td>\n",
       "      <td>0.174567</td>\n",
       "      <td>0.063581</td>\n",
       "      <td>-0.001153</td>\n",
       "      <td>-0.004761</td>\n",
       "    </tr>\n",
       "    <tr>\n",
       "      <th>max</th>\n",
       "      <td>0.082972</td>\n",
       "      <td>-0.011590</td>\n",
       "      <td>-0.003565</td>\n",
       "      <td>0.011194</td>\n",
       "      <td>0.205580</td>\n",
       "      <td>-0.001340</td>\n",
       "      <td>-0.004562</td>\n",
       "      <td>0.016264</td>\n",
       "      <td>0.009637</td>\n",
       "      <td>0.190961</td>\n",
       "      <td>...</td>\n",
       "      <td>0.936062</td>\n",
       "      <td>1.000000</td>\n",
       "      <td>-0.000506</td>\n",
       "      <td>-0.001340</td>\n",
       "      <td>-0.001587</td>\n",
       "      <td>-0.003348</td>\n",
       "      <td>0.165749</td>\n",
       "      <td>0.063075</td>\n",
       "      <td>-0.001122</td>\n",
       "      <td>-0.004473</td>\n",
       "    </tr>\n",
       "    <tr>\n",
       "      <th>aria-disabled</th>\n",
       "      <td>0.289132</td>\n",
       "      <td>-0.039693</td>\n",
       "      <td>-0.015682</td>\n",
       "      <td>0.070185</td>\n",
       "      <td>-0.010307</td>\n",
       "      <td>0.095919</td>\n",
       "      <td>-0.003779</td>\n",
       "      <td>-0.001235</td>\n",
       "      <td>0.061116</td>\n",
       "      <td>-0.008634</td>\n",
       "      <td>...</td>\n",
       "      <td>-0.000762</td>\n",
       "      <td>-0.000506</td>\n",
       "      <td>1.000000</td>\n",
       "      <td>-0.005893</td>\n",
       "      <td>0.008375</td>\n",
       "      <td>-0.011795</td>\n",
       "      <td>-0.027187</td>\n",
       "      <td>0.008781</td>\n",
       "      <td>0.008089</td>\n",
       "      <td>0.592287</td>\n",
       "    </tr>\n",
       "    <tr>\n",
       "      <th>onclick</th>\n",
       "      <td>0.059080</td>\n",
       "      <td>0.009583</td>\n",
       "      <td>-0.004298</td>\n",
       "      <td>-0.001975</td>\n",
       "      <td>0.043252</td>\n",
       "      <td>-0.001615</td>\n",
       "      <td>0.017809</td>\n",
       "      <td>-0.001449</td>\n",
       "      <td>-0.002210</td>\n",
       "      <td>-0.002367</td>\n",
       "      <td>...</td>\n",
       "      <td>-0.001377</td>\n",
       "      <td>-0.001340</td>\n",
       "      <td>-0.005893</td>\n",
       "      <td>1.000000</td>\n",
       "      <td>-0.001913</td>\n",
       "      <td>-0.004037</td>\n",
       "      <td>0.053695</td>\n",
       "      <td>0.033390</td>\n",
       "      <td>-0.001352</td>\n",
       "      <td>-0.008962</td>\n",
       "    </tr>\n",
       "    <tr>\n",
       "      <th>aria-expanded</th>\n",
       "      <td>0.069229</td>\n",
       "      <td>-0.002342</td>\n",
       "      <td>-0.005092</td>\n",
       "      <td>0.051625</td>\n",
       "      <td>-0.004778</td>\n",
       "      <td>0.283752</td>\n",
       "      <td>-0.003235</td>\n",
       "      <td>0.230889</td>\n",
       "      <td>0.045621</td>\n",
       "      <td>0.057297</td>\n",
       "      <td>...</td>\n",
       "      <td>-0.001631</td>\n",
       "      <td>-0.001587</td>\n",
       "      <td>0.008375</td>\n",
       "      <td>-0.001913</td>\n",
       "      <td>1.000000</td>\n",
       "      <td>-0.000350</td>\n",
       "      <td>0.089549</td>\n",
       "      <td>0.042150</td>\n",
       "      <td>-0.001602</td>\n",
       "      <td>0.086920</td>\n",
       "    </tr>\n",
       "    <tr>\n",
       "      <th>name</th>\n",
       "      <td>0.009278</td>\n",
       "      <td>-0.034926</td>\n",
       "      <td>-0.010743</td>\n",
       "      <td>0.003657</td>\n",
       "      <td>0.318488</td>\n",
       "      <td>0.006460</td>\n",
       "      <td>-0.013748</td>\n",
       "      <td>-0.003622</td>\n",
       "      <td>0.044403</td>\n",
       "      <td>0.044326</td>\n",
       "      <td>...</td>\n",
       "      <td>-0.003442</td>\n",
       "      <td>-0.003348</td>\n",
       "      <td>-0.011795</td>\n",
       "      <td>-0.004037</td>\n",
       "      <td>-0.000350</td>\n",
       "      <td>1.000000</td>\n",
       "      <td>0.286829</td>\n",
       "      <td>0.169903</td>\n",
       "      <td>0.009151</td>\n",
       "      <td>-0.016452</td>\n",
       "    </tr>\n",
       "    <tr>\n",
       "      <th>type</th>\n",
       "      <td>0.254101</td>\n",
       "      <td>-0.045635</td>\n",
       "      <td>-0.019830</td>\n",
       "      <td>0.055246</td>\n",
       "      <td>0.296574</td>\n",
       "      <td>0.059519</td>\n",
       "      <td>-0.025377</td>\n",
       "      <td>0.077670</td>\n",
       "      <td>0.075031</td>\n",
       "      <td>0.237951</td>\n",
       "      <td>...</td>\n",
       "      <td>0.174567</td>\n",
       "      <td>0.165749</td>\n",
       "      <td>-0.027187</td>\n",
       "      <td>0.053695</td>\n",
       "      <td>0.089549</td>\n",
       "      <td>0.286829</td>\n",
       "      <td>1.000000</td>\n",
       "      <td>0.264616</td>\n",
       "      <td>0.056332</td>\n",
       "      <td>-0.027597</td>\n",
       "    </tr>\n",
       "    <tr>\n",
       "      <th>id</th>\n",
       "      <td>0.103249</td>\n",
       "      <td>-0.030524</td>\n",
       "      <td>0.073126</td>\n",
       "      <td>0.201933</td>\n",
       "      <td>0.186649</td>\n",
       "      <td>0.101552</td>\n",
       "      <td>-0.028552</td>\n",
       "      <td>0.079834</td>\n",
       "      <td>0.222708</td>\n",
       "      <td>0.161223</td>\n",
       "      <td>...</td>\n",
       "      <td>0.063581</td>\n",
       "      <td>0.063075</td>\n",
       "      <td>0.008781</td>\n",
       "      <td>0.033390</td>\n",
       "      <td>0.042150</td>\n",
       "      <td>0.169903</td>\n",
       "      <td>0.264616</td>\n",
       "      <td>1.000000</td>\n",
       "      <td>0.070474</td>\n",
       "      <td>0.035433</td>\n",
       "    </tr>\n",
       "    <tr>\n",
       "      <th>aria-describedby</th>\n",
       "      <td>0.084114</td>\n",
       "      <td>-0.011699</td>\n",
       "      <td>-0.003599</td>\n",
       "      <td>0.176319</td>\n",
       "      <td>0.021713</td>\n",
       "      <td>-0.001352</td>\n",
       "      <td>-0.004605</td>\n",
       "      <td>-0.001213</td>\n",
       "      <td>0.202698</td>\n",
       "      <td>0.199768</td>\n",
       "      <td>...</td>\n",
       "      <td>-0.001153</td>\n",
       "      <td>-0.001122</td>\n",
       "      <td>0.008089</td>\n",
       "      <td>-0.001352</td>\n",
       "      <td>-0.001602</td>\n",
       "      <td>0.009151</td>\n",
       "      <td>0.056332</td>\n",
       "      <td>0.070474</td>\n",
       "      <td>1.000000</td>\n",
       "      <td>0.039428</td>\n",
       "    </tr>\n",
       "    <tr>\n",
       "      <th>role</th>\n",
       "      <td>0.164666</td>\n",
       "      <td>-0.071814</td>\n",
       "      <td>-0.023849</td>\n",
       "      <td>0.053403</td>\n",
       "      <td>-0.018407</td>\n",
       "      <td>0.108972</td>\n",
       "      <td>-0.029053</td>\n",
       "      <td>0.043975</td>\n",
       "      <td>0.045268</td>\n",
       "      <td>0.000309</td>\n",
       "      <td>...</td>\n",
       "      <td>-0.004761</td>\n",
       "      <td>-0.004473</td>\n",
       "      <td>0.592287</td>\n",
       "      <td>-0.008962</td>\n",
       "      <td>0.086920</td>\n",
       "      <td>-0.016452</td>\n",
       "      <td>-0.027597</td>\n",
       "      <td>0.035433</td>\n",
       "      <td>0.039428</td>\n",
       "      <td>1.000000</td>\n",
       "    </tr>\n",
       "  </tbody>\n",
       "</table>\n",
       "<p>21 rows × 21 columns</p>\n",
       "</div>"
      ],
      "text/plain": [
       "                     label      href       for  aria-required     value  \\\n",
       "label             1.000000  0.386107  0.013142       0.130391  0.051951   \n",
       "href              0.386107  1.000000 -0.037186      -0.017084 -0.034889   \n",
       "for               0.013142 -0.037186  1.000000      -0.005255 -0.010732   \n",
       "aria-required     0.130391 -0.017084 -0.005255       1.000000  0.020874   \n",
       "value             0.051951 -0.034889 -0.010732       0.020874  1.000000   \n",
       "aria-controls     0.066226  0.001170 -0.004298      -0.001975 -0.004033   \n",
       "target            0.269947  0.393633 -0.014638      -0.006725 -0.013734   \n",
       "aria-haspopup     0.090801 -0.001288 -0.003856       0.271119 -0.003618   \n",
       "aria-invalid      0.150572 -0.019123 -0.005882       0.893378  0.040616   \n",
       "placeholder       0.151494 -0.020474 -0.006298       0.244657  0.094678   \n",
       "aria-selected     0.067614  0.006613 -0.003321      -0.001526 -0.003116   \n",
       "min               0.082169 -0.011914 -0.003665       0.048250  0.187501   \n",
       "max               0.082972 -0.011590 -0.003565       0.011194  0.205580   \n",
       "aria-disabled     0.289132 -0.039693 -0.015682       0.070185 -0.010307   \n",
       "onclick           0.059080  0.009583 -0.004298      -0.001975  0.043252   \n",
       "aria-expanded     0.069229 -0.002342 -0.005092       0.051625 -0.004778   \n",
       "name              0.009278 -0.034926 -0.010743       0.003657  0.318488   \n",
       "type              0.254101 -0.045635 -0.019830       0.055246  0.296574   \n",
       "id                0.103249 -0.030524  0.073126       0.201933  0.186649   \n",
       "aria-describedby  0.084114 -0.011699 -0.003599       0.176319  0.021713   \n",
       "role              0.164666 -0.071814 -0.023849       0.053403 -0.018407   \n",
       "\n",
       "                  aria-controls    target  aria-haspopup  aria-invalid  \\\n",
       "label                  0.066226  0.269947       0.090801      0.150572   \n",
       "href                   0.001170  0.393633      -0.001288     -0.019123   \n",
       "for                   -0.004298 -0.014638      -0.003856     -0.005882   \n",
       "aria-required         -0.001975 -0.006725       0.271119      0.893378   \n",
       "value                 -0.004033 -0.013734      -0.003618      0.040616   \n",
       "aria-controls          1.000000 -0.005500       0.027539     -0.002210   \n",
       "target                -0.005500  1.000000      -0.000606     -0.007527   \n",
       "aria-haspopup          0.027539 -0.000606       1.000000      0.241960   \n",
       "aria-invalid          -0.002210 -0.007527       0.241960      1.000000   \n",
       "placeholder            0.006528 -0.008059       0.067250      0.224561   \n",
       "aria-selected          0.671722 -0.004250      -0.001120     -0.001708   \n",
       "min                   -0.001377 -0.004690       0.015757      0.042752   \n",
       "max                   -0.001340 -0.004562       0.016264      0.009637   \n",
       "aria-disabled          0.095919 -0.003779      -0.001235      0.061116   \n",
       "onclick               -0.001615  0.017809      -0.001449     -0.002210   \n",
       "aria-expanded          0.283752 -0.003235       0.230889      0.045621   \n",
       "name                   0.006460 -0.013748      -0.003622      0.044403   \n",
       "type                   0.059519 -0.025377       0.077670      0.075031   \n",
       "id                     0.101552 -0.028552       0.079834      0.222708   \n",
       "aria-describedby      -0.001352 -0.004605      -0.001213      0.202698   \n",
       "role                   0.108972 -0.029053       0.043975      0.045268   \n",
       "\n",
       "                  placeholder  ...       min       max  aria-disabled  \\\n",
       "label                0.151494  ...  0.082169  0.082972       0.289132   \n",
       "href                -0.020474  ... -0.011914 -0.011590      -0.039693   \n",
       "for                 -0.006298  ... -0.003665 -0.003565      -0.015682   \n",
       "aria-required        0.244657  ...  0.048250  0.011194       0.070185   \n",
       "value                0.094678  ...  0.187501  0.205580      -0.010307   \n",
       "aria-controls        0.006528  ... -0.001377 -0.001340       0.095919   \n",
       "target              -0.008059  ... -0.004690 -0.004562      -0.003779   \n",
       "aria-haspopup        0.067250  ...  0.015757  0.016264      -0.001235   \n",
       "aria-invalid         0.224561  ...  0.042752  0.009637       0.061116   \n",
       "placeholder          1.000000  ...  0.196100  0.190961      -0.008634   \n",
       "aria-selected       -0.001829  ... -0.001064 -0.001035       0.131831   \n",
       "min                  0.196100  ...  1.000000  0.936062      -0.000762   \n",
       "max                  0.190961  ...  0.936062  1.000000      -0.000506   \n",
       "aria-disabled       -0.008634  ... -0.000762 -0.000506       1.000000   \n",
       "onclick             -0.002367  ... -0.001377 -0.001340      -0.005893   \n",
       "aria-expanded        0.057297  ... -0.001631 -0.001587       0.008375   \n",
       "name                 0.044326  ... -0.003442 -0.003348      -0.011795   \n",
       "type                 0.237951  ...  0.174567  0.165749      -0.027187   \n",
       "id                   0.161223  ...  0.063581  0.063075       0.008781   \n",
       "aria-describedby     0.199768  ... -0.001153 -0.001122       0.008089   \n",
       "role                 0.000309  ... -0.004761 -0.004473       0.592287   \n",
       "\n",
       "                   onclick  aria-expanded      name      type        id  \\\n",
       "label             0.059080       0.069229  0.009278  0.254101  0.103249   \n",
       "href              0.009583      -0.002342 -0.034926 -0.045635 -0.030524   \n",
       "for              -0.004298      -0.005092 -0.010743 -0.019830  0.073126   \n",
       "aria-required    -0.001975       0.051625  0.003657  0.055246  0.201933   \n",
       "value             0.043252      -0.004778  0.318488  0.296574  0.186649   \n",
       "aria-controls    -0.001615       0.283752  0.006460  0.059519  0.101552   \n",
       "target            0.017809      -0.003235 -0.013748 -0.025377 -0.028552   \n",
       "aria-haspopup    -0.001449       0.230889 -0.003622  0.077670  0.079834   \n",
       "aria-invalid     -0.002210       0.045621  0.044403  0.075031  0.222708   \n",
       "placeholder      -0.002367       0.057297  0.044326  0.237951  0.161223   \n",
       "aria-selected    -0.001248      -0.001478 -0.003119  0.005540  0.109990   \n",
       "min              -0.001377      -0.001631 -0.003442  0.174567  0.063581   \n",
       "max              -0.001340      -0.001587 -0.003348  0.165749  0.063075   \n",
       "aria-disabled    -0.005893       0.008375 -0.011795 -0.027187  0.008781   \n",
       "onclick           1.000000      -0.001913 -0.004037  0.053695  0.033390   \n",
       "aria-expanded    -0.001913       1.000000 -0.000350  0.089549  0.042150   \n",
       "name             -0.004037      -0.000350  1.000000  0.286829  0.169903   \n",
       "type              0.053695       0.089549  0.286829  1.000000  0.264616   \n",
       "id                0.033390       0.042150  0.169903  0.264616  1.000000   \n",
       "aria-describedby -0.001352      -0.001602  0.009151  0.056332  0.070474   \n",
       "role             -0.008962       0.086920 -0.016452 -0.027597  0.035433   \n",
       "\n",
       "                  aria-describedby      role  \n",
       "label                     0.084114  0.164666  \n",
       "href                     -0.011699 -0.071814  \n",
       "for                      -0.003599 -0.023849  \n",
       "aria-required             0.176319  0.053403  \n",
       "value                     0.021713 -0.018407  \n",
       "aria-controls            -0.001352  0.108972  \n",
       "target                   -0.004605 -0.029053  \n",
       "aria-haspopup            -0.001213  0.043975  \n",
       "aria-invalid              0.202698  0.045268  \n",
       "placeholder               0.199768  0.000309  \n",
       "aria-selected            -0.001045  0.139253  \n",
       "min                      -0.001153 -0.004761  \n",
       "max                      -0.001122 -0.004473  \n",
       "aria-disabled             0.008089  0.592287  \n",
       "onclick                  -0.001352 -0.008962  \n",
       "aria-expanded            -0.001602  0.086920  \n",
       "name                      0.009151 -0.016452  \n",
       "type                      0.056332 -0.027597  \n",
       "id                        0.070474  0.035433  \n",
       "aria-describedby          1.000000  0.039428  \n",
       "role                      0.039428  1.000000  \n",
       "\n",
       "[21 rows x 21 columns]"
      ]
     },
     "execution_count": 44,
     "metadata": {},
     "output_type": "execute_result"
    }
   ],
   "source": [
    "report_df.corr()"
   ]
  },
  {
   "cell_type": "code",
   "execution_count": 45,
   "id": "5a87887b",
   "metadata": {},
   "outputs": [
    {
     "name": "stdout",
     "output_type": "stream",
     "text": [
      "2021-06-18 00:26:59,573 -INFO - features_builder:features_builder.py:152 - used column: attributes\n"
     ]
    },
    {
     "data": {
      "application/vnd.jupyter.widget-view+json": {
       "model_id": "e9c07ab1cc604672b697742dced3244d",
       "version_major": 2,
       "version_minor": 0
      },
      "text/plain": [
       "  0%|          | 0/47750 [00:00<?, ?it/s]"
      ]
     },
     "metadata": {},
     "output_type": "display_data"
    },
    {
     "data": {
      "text/html": [
       "<div>\n",
       "<style scoped>\n",
       "    .dataframe tbody tr th:only-of-type {\n",
       "        vertical-align: middle;\n",
       "    }\n",
       "\n",
       "    .dataframe tbody tr th {\n",
       "        vertical-align: top;\n",
       "    }\n",
       "\n",
       "    .dataframe thead th {\n",
       "        text-align: right;\n",
       "    }\n",
       "</style>\n",
       "<table border=\"1\" class=\"dataframe\">\n",
       "  <thead>\n",
       "    <tr style=\"text-align: right;\">\n",
       "      <th></th>\n",
       "      <th>aria-invalid</th>\n",
       "      <th>aria-haspopup</th>\n",
       "      <th>aria-expanded</th>\n",
       "      <th>aria-required</th>\n",
       "      <th>aria-disabled</th>\n",
       "      <th>aria-selected</th>\n",
       "      <th>aria-describedby</th>\n",
       "      <th>aria-controls</th>\n",
       "      <th>placeholder</th>\n",
       "      <th>value</th>\n",
       "      <th>for</th>\n",
       "      <th>onclick</th>\n",
       "      <th>target</th>\n",
       "      <th>id</th>\n",
       "      <th>name</th>\n",
       "      <th>min</th>\n",
       "      <th>max</th>\n",
       "    </tr>\n",
       "  </thead>\n",
       "  <tbody>\n",
       "    <tr>\n",
       "      <th>0</th>\n",
       "      <td>0</td>\n",
       "      <td>0</td>\n",
       "      <td>0</td>\n",
       "      <td>0</td>\n",
       "      <td>0</td>\n",
       "      <td>0</td>\n",
       "      <td>0</td>\n",
       "      <td>0</td>\n",
       "      <td>0</td>\n",
       "      <td>0</td>\n",
       "      <td>0</td>\n",
       "      <td>0</td>\n",
       "      <td>0</td>\n",
       "      <td>0</td>\n",
       "      <td>0</td>\n",
       "      <td>0</td>\n",
       "      <td>0</td>\n",
       "    </tr>\n",
       "    <tr>\n",
       "      <th>1</th>\n",
       "      <td>0</td>\n",
       "      <td>0</td>\n",
       "      <td>0</td>\n",
       "      <td>0</td>\n",
       "      <td>0</td>\n",
       "      <td>0</td>\n",
       "      <td>0</td>\n",
       "      <td>0</td>\n",
       "      <td>0</td>\n",
       "      <td>0</td>\n",
       "      <td>0</td>\n",
       "      <td>0</td>\n",
       "      <td>0</td>\n",
       "      <td>0</td>\n",
       "      <td>0</td>\n",
       "      <td>0</td>\n",
       "      <td>0</td>\n",
       "    </tr>\n",
       "    <tr>\n",
       "      <th>2</th>\n",
       "      <td>0</td>\n",
       "      <td>0</td>\n",
       "      <td>0</td>\n",
       "      <td>0</td>\n",
       "      <td>0</td>\n",
       "      <td>0</td>\n",
       "      <td>0</td>\n",
       "      <td>0</td>\n",
       "      <td>0</td>\n",
       "      <td>0</td>\n",
       "      <td>0</td>\n",
       "      <td>0</td>\n",
       "      <td>0</td>\n",
       "      <td>0</td>\n",
       "      <td>0</td>\n",
       "      <td>0</td>\n",
       "      <td>0</td>\n",
       "    </tr>\n",
       "    <tr>\n",
       "      <th>3</th>\n",
       "      <td>0</td>\n",
       "      <td>0</td>\n",
       "      <td>0</td>\n",
       "      <td>0</td>\n",
       "      <td>0</td>\n",
       "      <td>0</td>\n",
       "      <td>0</td>\n",
       "      <td>0</td>\n",
       "      <td>0</td>\n",
       "      <td>0</td>\n",
       "      <td>0</td>\n",
       "      <td>0</td>\n",
       "      <td>0</td>\n",
       "      <td>0</td>\n",
       "      <td>0</td>\n",
       "      <td>0</td>\n",
       "      <td>0</td>\n",
       "    </tr>\n",
       "    <tr>\n",
       "      <th>4</th>\n",
       "      <td>0</td>\n",
       "      <td>0</td>\n",
       "      <td>0</td>\n",
       "      <td>0</td>\n",
       "      <td>0</td>\n",
       "      <td>0</td>\n",
       "      <td>0</td>\n",
       "      <td>0</td>\n",
       "      <td>0</td>\n",
       "      <td>0</td>\n",
       "      <td>0</td>\n",
       "      <td>0</td>\n",
       "      <td>0</td>\n",
       "      <td>0</td>\n",
       "      <td>0</td>\n",
       "      <td>0</td>\n",
       "      <td>0</td>\n",
       "    </tr>\n",
       "    <tr>\n",
       "      <th>...</th>\n",
       "      <td>...</td>\n",
       "      <td>...</td>\n",
       "      <td>...</td>\n",
       "      <td>...</td>\n",
       "      <td>...</td>\n",
       "      <td>...</td>\n",
       "      <td>...</td>\n",
       "      <td>...</td>\n",
       "      <td>...</td>\n",
       "      <td>...</td>\n",
       "      <td>...</td>\n",
       "      <td>...</td>\n",
       "      <td>...</td>\n",
       "      <td>...</td>\n",
       "      <td>...</td>\n",
       "      <td>...</td>\n",
       "      <td>...</td>\n",
       "    </tr>\n",
       "    <tr>\n",
       "      <th>47745</th>\n",
       "      <td>0</td>\n",
       "      <td>0</td>\n",
       "      <td>0</td>\n",
       "      <td>0</td>\n",
       "      <td>0</td>\n",
       "      <td>0</td>\n",
       "      <td>0</td>\n",
       "      <td>0</td>\n",
       "      <td>0</td>\n",
       "      <td>0</td>\n",
       "      <td>0</td>\n",
       "      <td>0</td>\n",
       "      <td>0</td>\n",
       "      <td>0</td>\n",
       "      <td>0</td>\n",
       "      <td>0</td>\n",
       "      <td>0</td>\n",
       "    </tr>\n",
       "    <tr>\n",
       "      <th>47746</th>\n",
       "      <td>0</td>\n",
       "      <td>0</td>\n",
       "      <td>0</td>\n",
       "      <td>0</td>\n",
       "      <td>0</td>\n",
       "      <td>0</td>\n",
       "      <td>0</td>\n",
       "      <td>0</td>\n",
       "      <td>0</td>\n",
       "      <td>0</td>\n",
       "      <td>0</td>\n",
       "      <td>0</td>\n",
       "      <td>0</td>\n",
       "      <td>1</td>\n",
       "      <td>0</td>\n",
       "      <td>0</td>\n",
       "      <td>0</td>\n",
       "    </tr>\n",
       "    <tr>\n",
       "      <th>47747</th>\n",
       "      <td>0</td>\n",
       "      <td>0</td>\n",
       "      <td>0</td>\n",
       "      <td>0</td>\n",
       "      <td>0</td>\n",
       "      <td>0</td>\n",
       "      <td>0</td>\n",
       "      <td>0</td>\n",
       "      <td>0</td>\n",
       "      <td>0</td>\n",
       "      <td>0</td>\n",
       "      <td>0</td>\n",
       "      <td>0</td>\n",
       "      <td>0</td>\n",
       "      <td>0</td>\n",
       "      <td>0</td>\n",
       "      <td>0</td>\n",
       "    </tr>\n",
       "    <tr>\n",
       "      <th>47748</th>\n",
       "      <td>0</td>\n",
       "      <td>0</td>\n",
       "      <td>0</td>\n",
       "      <td>0</td>\n",
       "      <td>0</td>\n",
       "      <td>0</td>\n",
       "      <td>0</td>\n",
       "      <td>0</td>\n",
       "      <td>0</td>\n",
       "      <td>0</td>\n",
       "      <td>0</td>\n",
       "      <td>0</td>\n",
       "      <td>0</td>\n",
       "      <td>1</td>\n",
       "      <td>0</td>\n",
       "      <td>0</td>\n",
       "      <td>0</td>\n",
       "    </tr>\n",
       "    <tr>\n",
       "      <th>47749</th>\n",
       "      <td>0</td>\n",
       "      <td>0</td>\n",
       "      <td>0</td>\n",
       "      <td>0</td>\n",
       "      <td>0</td>\n",
       "      <td>0</td>\n",
       "      <td>0</td>\n",
       "      <td>0</td>\n",
       "      <td>0</td>\n",
       "      <td>0</td>\n",
       "      <td>0</td>\n",
       "      <td>0</td>\n",
       "      <td>0</td>\n",
       "      <td>0</td>\n",
       "      <td>0</td>\n",
       "      <td>0</td>\n",
       "      <td>0</td>\n",
       "    </tr>\n",
       "  </tbody>\n",
       "</table>\n",
       "<p>47750 rows × 17 columns</p>\n",
       "</div>"
      ],
      "text/plain": [
       "       aria-invalid  aria-haspopup  aria-expanded  aria-required  \\\n",
       "0                 0              0              0              0   \n",
       "1                 0              0              0              0   \n",
       "2                 0              0              0              0   \n",
       "3                 0              0              0              0   \n",
       "4                 0              0              0              0   \n",
       "...             ...            ...            ...            ...   \n",
       "47745             0              0              0              0   \n",
       "47746             0              0              0              0   \n",
       "47747             0              0              0              0   \n",
       "47748             0              0              0              0   \n",
       "47749             0              0              0              0   \n",
       "\n",
       "       aria-disabled  aria-selected  aria-describedby  aria-controls  \\\n",
       "0                  0              0                 0              0   \n",
       "1                  0              0                 0              0   \n",
       "2                  0              0                 0              0   \n",
       "3                  0              0                 0              0   \n",
       "4                  0              0                 0              0   \n",
       "...              ...            ...               ...            ...   \n",
       "47745              0              0                 0              0   \n",
       "47746              0              0                 0              0   \n",
       "47747              0              0                 0              0   \n",
       "47748              0              0                 0              0   \n",
       "47749              0              0                 0              0   \n",
       "\n",
       "       placeholder  value  for  onclick  target  id  name  min  max  \n",
       "0                0      0    0        0       0   0     0    0    0  \n",
       "1                0      0    0        0       0   0     0    0    0  \n",
       "2                0      0    0        0       0   0     0    0    0  \n",
       "3                0      0    0        0       0   0     0    0    0  \n",
       "4                0      0    0        0       0   0     0    0    0  \n",
       "...            ...    ...  ...      ...     ...  ..   ...  ...  ...  \n",
       "47745            0      0    0        0       0   0     0    0    0  \n",
       "47746            0      0    0        0       0   1     0    0    0  \n",
       "47747            0      0    0        0       0   0     0    0    0  \n",
       "47748            0      0    0        0       0   1     0    0    0  \n",
       "47749            0      0    0        0       0   0     0    0    0  \n",
       "\n",
       "[47750 rows x 17 columns]"
      ]
     },
     "execution_count": 45,
     "metadata": {},
     "output_type": "execute_result"
    }
   ],
   "source": [
    "logger.setLevel(logging.DEBUG)\n",
    "attributes_df = build_attributes_feature(df)\n",
    "attributes_df"
   ]
  },
  {
   "cell_type": "code",
   "execution_count": 46,
   "id": "4892e0a1",
   "metadata": {},
   "outputs": [
    {
     "data": {
      "text/plain": [
       "(<47750x17 sparse matrix of type '<class 'numpy.int64'>'\n",
       " \twith 7002 stored elements in Compressed Sparse Row format>,\n",
       " 7002)"
      ]
     },
     "execution_count": 46,
     "metadata": {},
     "output_type": "execute_result"
    }
   ],
   "source": [
    "csr_matrix(attributes_df.values), attributes_df.values.sum()"
   ]
  },
  {
   "cell_type": "code",
   "execution_count": 47,
   "id": "0bf808b3",
   "metadata": {},
   "outputs": [
    {
     "data": {
      "text/plain": [
       "Index(['attributes', 'displayed', 'element_id', 'height', 'onmouseenter',\n",
       "       'onmouseover', 'parent_id', 'style', 'tag_name', 'text', 'width', 'x',\n",
       "       'y', 'is_hidden', 'upper_sibling', 'lower_sibling', 'siblings', 'idx',\n",
       "       'label', 'annotation_line_no', 'iou', 'tag', 'label_text', 'dataset'],\n",
       "      dtype='object')"
      ]
     },
     "execution_count": 47,
     "metadata": {},
     "output_type": "execute_result"
    }
   ],
   "source": [
    "df.columns"
   ]
  },
  {
   "cell_type": "markdown",
   "id": "6eebd301",
   "metadata": {},
   "source": [
    "# Check for duplicates"
   ]
  },
  {
   "cell_type": "code",
   "execution_count": 48,
   "id": "86bf65a7",
   "metadata": {},
   "outputs": [
    {
     "data": {
      "text/html": [
       "<h1><b>The dataset is OK, there are no duplicates</b></h1>"
      ],
      "text/plain": [
       "<IPython.core.display.HTML object>"
      ]
     },
     "metadata": {},
     "output_type": "display_data"
    }
   ],
   "source": [
    "assert df.element_id.nunique() == df.shape[0], \"There are duplicates in the dataset\"\n",
    "display(HTML(\"<h1><b>The dataset is OK, there are no duplicates</b></h1>\"))"
   ]
  },
  {
   "cell_type": "markdown",
   "id": "6bae86f8",
   "metadata": {},
   "source": [
    "<hr style=\"height: 5px\">"
   ]
  },
  {
   "cell_type": "markdown",
   "id": "83135cff",
   "metadata": {},
   "source": [
    "# DatasetCollector"
   ]
  },
  {
   "cell_type": "code",
   "execution_count": 49,
   "id": "6927bf17",
   "metadata": {},
   "outputs": [],
   "source": [
    "COLS = ['element_id', 'tag_name', 'attributes', 'displayed', 'is_hidden']\n",
    "TARGET_PARENT_COLUMNS = ['parent_id', 'tag_name_parent', 'attributes_parent', 'displayed_parent', 'is_hidden_parent']\n",
    "df_parent = df[COLS].copy()\n",
    "df_parent.columns = TARGET_PARENT_COLUMNS\n",
    "df.shape\n",
    "\n",
    "TARGET_UP_SIBLING_COLUMNS = ['upper_sibling', 'tag_name_upsib', 'attributes_upsib', 'displayed_upsib', 'is_hidden_upsib']\n",
    "upsib_df = df[COLS].copy()\n",
    "upsib_df.columns = TARGET_UP_SIBLING_COLUMNS\n",
    "\n",
    "TARGET_DN_SIBLING_COLUMNS = ['lower_sibling', 'tag_name_dnsib', 'attributes_dnsib', 'displayed_dnsib', 'is_hidden_dnsib']\n",
    "dnsib_df = df[COLS].copy()\n",
    "dnsib_df.columns = TARGET_DN_SIBLING_COLUMNS\n",
    "\n"
   ]
  },
  {
   "cell_type": "code",
   "execution_count": 50,
   "id": "4b763c4d",
   "metadata": {},
   "outputs": [],
   "source": [
    "train_df = df.merge(df_parent, on='parent_id', how='left')\n",
    "train_df = train_df.merge(upsib_df, on='upper_sibling', how='left')\n",
    "train_df = train_df.merge(dnsib_df, on='lower_sibling', how='left')\n"
   ]
  },
  {
   "cell_type": "code",
   "execution_count": 51,
   "id": "590a3248",
   "metadata": {},
   "outputs": [
    {
     "data": {
      "text/plain": [
       "((47750, 36),\n",
       " Index(['attributes', 'displayed', 'element_id', 'height', 'onmouseenter',\n",
       "        'onmouseover', 'parent_id', 'style', 'tag_name', 'text', 'width', 'x',\n",
       "        'y', 'is_hidden', 'upper_sibling', 'lower_sibling', 'siblings', 'idx',\n",
       "        'label', 'annotation_line_no', 'iou', 'tag', 'label_text', 'dataset',\n",
       "        'tag_name_parent', 'attributes_parent', 'displayed_parent',\n",
       "        'is_hidden_parent', 'tag_name_upsib', 'attributes_upsib',\n",
       "        'displayed_upsib', 'is_hidden_upsib', 'tag_name_dnsib',\n",
       "        'attributes_dnsib', 'displayed_dnsib', 'is_hidden_dnsib'],\n",
       "       dtype='object'))"
      ]
     },
     "execution_count": 51,
     "metadata": {},
     "output_type": "execute_result"
    }
   ],
   "source": [
    "train_df.shape, train_df.columns"
   ]
  },
  {
   "cell_type": "code",
   "execution_count": 52,
   "id": "9c465257",
   "metadata": {},
   "outputs": [
    {
     "name": "stdout",
     "output_type": "stream",
     "text": [
      "2021-06-18 00:27:03,474 -INFO - features_builder:features_builder.py:152 - used column: attributes_parent\n"
     ]
    },
    {
     "data": {
      "application/vnd.jupyter.widget-view+json": {
       "model_id": "fbc3493592474391972a2b8b5f68238b",
       "version_major": 2,
       "version_minor": 0
      },
      "text/plain": [
       "  0%|          | 0/47750 [00:00<?, ?it/s]"
      ]
     },
     "metadata": {},
     "output_type": "display_data"
    },
    {
     "data": {
      "text/plain": [
       "<47750x17 sparse matrix of type '<class 'numpy.int64'>'\n",
       "\twith 6456 stored elements in Compressed Sparse Row format>"
      ]
     },
     "execution_count": 52,
     "metadata": {},
     "output_type": "execute_result"
    }
   ],
   "source": [
    "parent_attributes_sm = csr_matrix(build_attributes_feature(df = train_df, colname = 'attributes_parent').values)\n",
    "parent_attributes_sm"
   ]
  },
  {
   "cell_type": "code",
   "execution_count": 53,
   "id": "035f9e31",
   "metadata": {},
   "outputs": [
    {
     "name": "stdout",
     "output_type": "stream",
     "text": [
      "2021-06-18 00:27:07,149 -INFO - features_builder:features_builder.py:152 - used column: attributes_upsib\n"
     ]
    },
    {
     "data": {
      "application/vnd.jupyter.widget-view+json": {
       "model_id": "fc4cec5f3a6040e69a7dea75a2fff218",
       "version_major": 2,
       "version_minor": 0
      },
      "text/plain": [
       "  0%|          | 0/47750 [00:00<?, ?it/s]"
      ]
     },
     "metadata": {},
     "output_type": "display_data"
    },
    {
     "data": {
      "text/plain": [
       "<47750x17 sparse matrix of type '<class 'numpy.int64'>'\n",
       "\twith 3630 stored elements in Compressed Sparse Row format>"
      ]
     },
     "execution_count": 53,
     "metadata": {},
     "output_type": "execute_result"
    }
   ],
   "source": [
    "upsib_attributes_sm = csr_matrix(build_attributes_feature(df = train_df, colname = 'attributes_upsib').values)\n",
    "upsib_attributes_sm"
   ]
  },
  {
   "cell_type": "code",
   "execution_count": 54,
   "id": "0556a692",
   "metadata": {},
   "outputs": [
    {
     "name": "stdout",
     "output_type": "stream",
     "text": [
      "2021-06-18 00:27:10,699 -INFO - features_builder:features_builder.py:152 - used column: attributes_dnsib\n"
     ]
    },
    {
     "data": {
      "application/vnd.jupyter.widget-view+json": {
       "model_id": "44c1ec3a5acb4192908b779735ff9091",
       "version_major": 2,
       "version_minor": 0
      },
      "text/plain": [
       "  0%|          | 0/47750 [00:00<?, ?it/s]"
      ]
     },
     "metadata": {},
     "output_type": "display_data"
    },
    {
     "data": {
      "text/plain": [
       "<47750x17 sparse matrix of type '<class 'numpy.int64'>'\n",
       "\twith 2877 stored elements in Compressed Sparse Row format>"
      ]
     },
     "execution_count": 54,
     "metadata": {},
     "output_type": "execute_result"
    }
   ],
   "source": [
    "dnsib_attributes_sm = csr_matrix(build_attributes_feature(df = train_df, colname = 'attributes_dnsib').values)\n",
    "dnsib_attributes_sm"
   ]
  },
  {
   "cell_type": "markdown",
   "id": "31c89c9b",
   "metadata": {},
   "source": [
    "<hr>\n",
    "\n",
    "- # class"
   ]
  },
  {
   "cell_type": "code",
   "execution_count": 55,
   "id": "8d6d5d98",
   "metadata": {},
   "outputs": [
    {
     "name": "stdout",
     "output_type": "stream",
     "text": [
      "2021-06-18 00:27:14,268 -INFO - features_builder:features_builder.py:188 - used column: attributes\n",
      "2021-06-18 00:27:14,269 -INFO - features_builder:features_builder.py:191 - TfIdfVectorizer for class attribute exists. Loaging...\n"
     ]
    },
    {
     "data": {
      "text/plain": [
       "<47750x389 sparse matrix of type '<class 'numpy.float64'>'\n",
       "\twith 64025 stored elements in Compressed Sparse Row format>"
      ]
     },
     "execution_count": 55,
     "metadata": {},
     "output_type": "execute_result"
    }
   ],
   "source": [
    "build_class_feature(train_df, colname='attributes')"
   ]
  },
  {
   "cell_type": "code",
   "execution_count": 56,
   "id": "903a53f9",
   "metadata": {},
   "outputs": [
    {
     "name": "stdout",
     "output_type": "stream",
     "text": [
      "2021-06-18 00:27:14,476 -INFO - features_builder:features_builder.py:188 - used column: attributes_parent\n",
      "2021-06-18 00:27:14,476 -INFO - features_builder:features_builder.py:191 - TfIdfVectorizer for class attribute exists. Loaging...\n"
     ]
    },
    {
     "data": {
      "text/plain": [
       "<47750x389 sparse matrix of type '<class 'numpy.float64'>'\n",
       "\twith 77982 stored elements in Compressed Sparse Row format>"
      ]
     },
     "execution_count": 56,
     "metadata": {},
     "output_type": "execute_result"
    }
   ],
   "source": [
    "build_class_feature(train_df, colname='attributes_parent')"
   ]
  },
  {
   "cell_type": "code",
   "execution_count": 57,
   "id": "b86efd9a",
   "metadata": {},
   "outputs": [
    {
     "name": "stdout",
     "output_type": "stream",
     "text": [
      "2021-06-18 00:27:14,683 -INFO - features_builder:features_builder.py:188 - used column: attributes_upsib\n",
      "2021-06-18 00:27:14,684 -INFO - features_builder:features_builder.py:191 - TfIdfVectorizer for class attribute exists. Loaging...\n"
     ]
    },
    {
     "data": {
      "text/plain": [
       "<47750x389 sparse matrix of type '<class 'numpy.float64'>'\n",
       "\twith 28251 stored elements in Compressed Sparse Row format>"
      ]
     },
     "execution_count": 57,
     "metadata": {},
     "output_type": "execute_result"
    }
   ],
   "source": [
    "build_class_feature(train_df, colname='attributes_upsib')"
   ]
  },
  {
   "cell_type": "code",
   "execution_count": 58,
   "id": "f7e3b372",
   "metadata": {},
   "outputs": [
    {
     "name": "stdout",
     "output_type": "stream",
     "text": [
      "2021-06-18 00:27:14,840 -INFO - features_builder:features_builder.py:188 - used column: attributes_dnsib\n",
      "2021-06-18 00:27:14,842 -INFO - features_builder:features_builder.py:191 - TfIdfVectorizer for class attribute exists. Loaging...\n"
     ]
    },
    {
     "data": {
      "text/plain": [
       "<47750x389 sparse matrix of type '<class 'numpy.float64'>'\n",
       "\twith 27468 stored elements in Compressed Sparse Row format>"
      ]
     },
     "execution_count": 58,
     "metadata": {},
     "output_type": "execute_result"
    }
   ],
   "source": [
    "build_class_feature(train_df, colname='attributes_dnsib')"
   ]
  },
  {
   "cell_type": "markdown",
   "id": "014c8c91",
   "metadata": {},
   "source": [
    "<hr>\n",
    "\n",
    "- # tag_name"
   ]
  },
  {
   "cell_type": "code",
   "execution_count": 59,
   "id": "45208043",
   "metadata": {},
   "outputs": [
    {
     "name": "stdout",
     "output_type": "stream",
     "text": [
      "2021-06-18 00:27:14,999 -INFO - features_builder:features_builder.py:228 - used column: tag_name\n",
      "2021-06-18 00:27:15,001 -INFO - features_builder:features_builder.py:231 - loading model/ohe_tag_name.pkl\n"
     ]
    },
    {
     "data": {
      "text/plain": [
       "<47750x29 sparse matrix of type '<class 'numpy.float64'>'\n",
       "\twith 34173 stored elements in Compressed Sparse Row format>"
      ]
     },
     "execution_count": 59,
     "metadata": {},
     "output_type": "execute_result"
    }
   ],
   "source": [
    "build_tag_name_feature(train_df, colname='tag_name')"
   ]
  },
  {
   "cell_type": "code",
   "execution_count": 60,
   "id": "79039bd6",
   "metadata": {},
   "outputs": [
    {
     "name": "stdout",
     "output_type": "stream",
     "text": [
      "2021-06-18 00:27:15,031 -INFO - features_builder:features_builder.py:228 - used column: tag_name_parent\n",
      "2021-06-18 00:27:15,032 -INFO - features_builder:features_builder.py:231 - loading model/ohe_tag_name.pkl\n"
     ]
    },
    {
     "data": {
      "text/plain": [
       "<47750x29 sparse matrix of type '<class 'numpy.float64'>'\n",
       "\twith 30194 stored elements in Compressed Sparse Row format>"
      ]
     },
     "execution_count": 60,
     "metadata": {},
     "output_type": "execute_result"
    }
   ],
   "source": [
    "build_tag_name_feature(train_df, colname='tag_name_parent')"
   ]
  },
  {
   "cell_type": "code",
   "execution_count": 61,
   "id": "1449a821",
   "metadata": {},
   "outputs": [
    {
     "name": "stdout",
     "output_type": "stream",
     "text": [
      "2021-06-18 00:27:15,064 -INFO - features_builder:features_builder.py:228 - used column: tag_name_upsib\n",
      "2021-06-18 00:27:15,064 -INFO - features_builder:features_builder.py:231 - loading model/ohe_tag_name.pkl\n"
     ]
    },
    {
     "data": {
      "text/plain": [
       "<47750x29 sparse matrix of type '<class 'numpy.float64'>'\n",
       "\twith 17026 stored elements in Compressed Sparse Row format>"
      ]
     },
     "execution_count": 61,
     "metadata": {},
     "output_type": "execute_result"
    }
   ],
   "source": [
    "build_tag_name_feature(train_df, colname='tag_name_upsib')"
   ]
  },
  {
   "cell_type": "code",
   "execution_count": 62,
   "id": "2530507f",
   "metadata": {},
   "outputs": [
    {
     "name": "stdout",
     "output_type": "stream",
     "text": [
      "2021-06-18 00:27:15,095 -INFO - features_builder:features_builder.py:228 - used column: tag_name_dnsib\n",
      "2021-06-18 00:27:15,096 -INFO - features_builder:features_builder.py:231 - loading model/ohe_tag_name.pkl\n"
     ]
    },
    {
     "data": {
      "text/plain": [
       "<47750x29 sparse matrix of type '<class 'numpy.float64'>'\n",
       "\twith 17262 stored elements in Compressed Sparse Row format>"
      ]
     },
     "execution_count": 62,
     "metadata": {},
     "output_type": "execute_result"
    }
   ],
   "source": [
    "build_tag_name_feature(train_df, colname='tag_name_dnsib')"
   ]
  },
  {
   "cell_type": "markdown",
   "id": "ed25939e",
   "metadata": {},
   "source": [
    "<hr>\n",
    "\n",
    "- # type"
   ]
  },
  {
   "cell_type": "code",
   "execution_count": 63,
   "id": "0dc1a100",
   "metadata": {},
   "outputs": [
    {
     "name": "stdout",
     "output_type": "stream",
     "text": [
      "2021-06-18 00:27:15,127 -INFO - features_builder:features_builder.py:279 - used column: attributes\n",
      "2021-06-18 00:27:15,128 -INFO - features_builder:features_builder.py:282 - loading model/ohe_type.pkl\n"
     ]
    },
    {
     "data": {
      "text/plain": [
       "<47750x22 sparse matrix of type '<class 'numpy.float64'>'\n",
       "\twith 47493 stored elements in Compressed Sparse Row format>"
      ]
     },
     "execution_count": 63,
     "metadata": {},
     "output_type": "execute_result"
    }
   ],
   "source": [
    "build_type_feature(train_df, colname='attributes')"
   ]
  },
  {
   "cell_type": "code",
   "execution_count": 64,
   "id": "de3ff6e3",
   "metadata": {},
   "outputs": [
    {
     "name": "stdout",
     "output_type": "stream",
     "text": [
      "2021-06-18 00:27:15,175 -INFO - features_builder:features_builder.py:279 - used column: attributes_parent\n",
      "2021-06-18 00:27:15,176 -INFO - features_builder:features_builder.py:282 - loading model/ohe_type.pkl\n"
     ]
    },
    {
     "data": {
      "text/plain": [
       "<47750x22 sparse matrix of type '<class 'numpy.float64'>'\n",
       "\twith 47750 stored elements in Compressed Sparse Row format>"
      ]
     },
     "execution_count": 64,
     "metadata": {},
     "output_type": "execute_result"
    }
   ],
   "source": [
    "build_type_feature(train_df, colname='attributes_parent')"
   ]
  },
  {
   "cell_type": "code",
   "execution_count": 65,
   "id": "8038159c",
   "metadata": {},
   "outputs": [
    {
     "name": "stdout",
     "output_type": "stream",
     "text": [
      "2021-06-18 00:27:15,222 -INFO - features_builder:features_builder.py:279 - used column: attributes_upsib\n",
      "2021-06-18 00:27:15,223 -INFO - features_builder:features_builder.py:282 - loading model/ohe_type.pkl\n"
     ]
    },
    {
     "data": {
      "text/plain": [
       "<47750x22 sparse matrix of type '<class 'numpy.float64'>'\n",
       "\twith 47530 stored elements in Compressed Sparse Row format>"
      ]
     },
     "execution_count": 65,
     "metadata": {},
     "output_type": "execute_result"
    }
   ],
   "source": [
    "build_type_feature(train_df, colname='attributes_upsib')"
   ]
  },
  {
   "cell_type": "code",
   "execution_count": 66,
   "id": "d11dd2b6",
   "metadata": {},
   "outputs": [
    {
     "name": "stdout",
     "output_type": "stream",
     "text": [
      "2021-06-18 00:27:15,271 -INFO - features_builder:features_builder.py:279 - used column: attributes_dnsib\n",
      "2021-06-18 00:27:15,272 -INFO - features_builder:features_builder.py:282 - loading model/ohe_type.pkl\n"
     ]
    },
    {
     "data": {
      "text/plain": [
       "<47750x22 sparse matrix of type '<class 'numpy.float64'>'\n",
       "\twith 47521 stored elements in Compressed Sparse Row format>"
      ]
     },
     "execution_count": 66,
     "metadata": {},
     "output_type": "execute_result"
    }
   ],
   "source": [
    "build_type_feature(train_df, colname='attributes_dnsib')"
   ]
  },
  {
   "cell_type": "markdown",
   "id": "78b788e0",
   "metadata": {},
   "source": [
    "<hr>\n",
    "\n",
    "- # role"
   ]
  },
  {
   "cell_type": "code",
   "execution_count": 67,
   "id": "8d7a75ff",
   "metadata": {},
   "outputs": [
    {
     "name": "stdout",
     "output_type": "stream",
     "text": [
      "2021-06-18 00:27:15,317 -INFO - features_builder:features_builder.py:251 - used column: attributes\n",
      "2021-06-18 00:27:15,318 -INFO - features_builder:features_builder.py:254 - loading model/ohe_role.pkl\n"
     ]
    },
    {
     "data": {
      "text/plain": [
       "<47750x37 sparse matrix of type '<class 'numpy.float64'>'\n",
       "\twith 47731 stored elements in Compressed Sparse Row format>"
      ]
     },
     "execution_count": 67,
     "metadata": {},
     "output_type": "execute_result"
    }
   ],
   "source": [
    "build_role_feature(train_df, colname='attributes')"
   ]
  },
  {
   "cell_type": "code",
   "execution_count": 68,
   "id": "b37aa88e",
   "metadata": {},
   "outputs": [
    {
     "name": "stdout",
     "output_type": "stream",
     "text": [
      "2021-06-18 00:27:15,369 -INFO - features_builder:features_builder.py:251 - used column: attributes_parent\n",
      "2021-06-18 00:27:15,370 -INFO - features_builder:features_builder.py:254 - loading model/ohe_role.pkl\n"
     ]
    },
    {
     "data": {
      "text/plain": [
       "<47750x37 sparse matrix of type '<class 'numpy.float64'>'\n",
       "\twith 47718 stored elements in Compressed Sparse Row format>"
      ]
     },
     "execution_count": 68,
     "metadata": {},
     "output_type": "execute_result"
    }
   ],
   "source": [
    "build_role_feature(train_df, colname='attributes_parent')"
   ]
  },
  {
   "cell_type": "code",
   "execution_count": 69,
   "id": "b6ee4e56",
   "metadata": {},
   "outputs": [
    {
     "name": "stdout",
     "output_type": "stream",
     "text": [
      "2021-06-18 00:27:15,412 -INFO - features_builder:features_builder.py:251 - used column: attributes_upsib\n",
      "2021-06-18 00:27:15,413 -INFO - features_builder:features_builder.py:254 - loading model/ohe_role.pkl\n"
     ]
    },
    {
     "data": {
      "text/plain": [
       "<47750x37 sparse matrix of type '<class 'numpy.float64'>'\n",
       "\twith 47735 stored elements in Compressed Sparse Row format>"
      ]
     },
     "execution_count": 69,
     "metadata": {},
     "output_type": "execute_result"
    }
   ],
   "source": [
    "build_role_feature(train_df, colname='attributes_upsib')"
   ]
  },
  {
   "cell_type": "code",
   "execution_count": 70,
   "id": "99401f75",
   "metadata": {},
   "outputs": [
    {
     "name": "stdout",
     "output_type": "stream",
     "text": [
      "2021-06-18 00:27:15,460 -INFO - features_builder:features_builder.py:251 - used column: attributes_dnsib\n",
      "2021-06-18 00:27:15,461 -INFO - features_builder:features_builder.py:254 - loading model/ohe_role.pkl\n"
     ]
    },
    {
     "data": {
      "text/plain": [
       "<47750x37 sparse matrix of type '<class 'numpy.float64'>'\n",
       "\twith 47735 stored elements in Compressed Sparse Row format>"
      ]
     },
     "execution_count": 70,
     "metadata": {},
     "output_type": "execute_result"
    }
   ],
   "source": [
    "build_role_feature(train_df, colname='attributes_dnsib')"
   ]
  },
  {
   "cell_type": "code",
   "execution_count": 71,
   "id": "90438f60",
   "metadata": {},
   "outputs": [
    {
     "data": {
      "text/plain": [
       "Index(['attributes', 'displayed', 'element_id', 'height', 'onmouseenter',\n",
       "       'onmouseover', 'parent_id', 'style', 'tag_name', 'text', 'width', 'x',\n",
       "       'y', 'is_hidden', 'upper_sibling', 'lower_sibling', 'siblings', 'idx',\n",
       "       'label', 'annotation_line_no', 'iou', 'tag', 'label_text', 'dataset'],\n",
       "      dtype='object')"
      ]
     },
     "execution_count": 71,
     "metadata": {},
     "output_type": "execute_result"
    }
   ],
   "source": [
    "df.columns"
   ]
  },
  {
   "cell_type": "code",
   "execution_count": 72,
   "id": "9fd7f3bf",
   "metadata": {},
   "outputs": [
    {
     "name": "stdout",
     "output_type": "stream",
     "text": [
      "2021-06-18 00:27:15,680 -INFO - features_builder:features_builder.py:228 - used column: tag_name\n",
      "2021-06-18 00:27:15,680 -INFO - features_builder:features_builder.py:231 - loading model/ohe_tag_name.pkl\n",
      "2021-06-18 00:27:15,699 -INFO - features_builder:features_builder.py:228 - used column: tag_name_parent\n",
      "2021-06-18 00:27:15,700 -INFO - features_builder:features_builder.py:231 - loading model/ohe_tag_name.pkl\n",
      "2021-06-18 00:27:15,721 -INFO - features_builder:features_builder.py:228 - used column: tag_name_upsib\n",
      "2021-06-18 00:27:15,721 -INFO - features_builder:features_builder.py:231 - loading model/ohe_tag_name.pkl\n",
      "2021-06-18 00:27:15,745 -INFO - features_builder:features_builder.py:228 - used column: tag_name_dnsib\n",
      "2021-06-18 00:27:15,746 -INFO - features_builder:features_builder.py:231 - loading model/ohe_tag_name.pkl\n",
      "2021-06-18 00:27:15,770 -INFO - dataset_collector:dataset_collector.py:45 - tag_name: (47750, 29)\n",
      "2021-06-18 00:27:15,771 -INFO - features_builder:features_builder.py:152 - used column: attributes_parent\n"
     ]
    },
    {
     "data": {
      "application/vnd.jupyter.widget-view+json": {
       "model_id": "9ec3320afe1d440ea5dc9bccf07a13c1",
       "version_major": 2,
       "version_minor": 0
      },
      "text/plain": [
       "  0%|          | 0/47750 [00:00<?, ?it/s]"
      ]
     },
     "metadata": {},
     "output_type": "display_data"
    },
    {
     "name": "stdout",
     "output_type": "stream",
     "text": [
      "2021-06-18 00:27:19,435 -INFO - features_builder:features_builder.py:152 - used column: attributes_parent\n"
     ]
    },
    {
     "data": {
      "application/vnd.jupyter.widget-view+json": {
       "model_id": "6715a9e02050408893073e3ff3fb631c",
       "version_major": 2,
       "version_minor": 0
      },
      "text/plain": [
       "  0%|          | 0/47750 [00:00<?, ?it/s]"
      ]
     },
     "metadata": {},
     "output_type": "display_data"
    },
    {
     "name": "stdout",
     "output_type": "stream",
     "text": [
      "2021-06-18 00:27:23,037 -INFO - features_builder:features_builder.py:152 - used column: attributes_upsib\n"
     ]
    },
    {
     "data": {
      "application/vnd.jupyter.widget-view+json": {
       "model_id": "b9c2d831d23a479ba9c7bc93d765a22b",
       "version_major": 2,
       "version_minor": 0
      },
      "text/plain": [
       "  0%|          | 0/47750 [00:00<?, ?it/s]"
      ]
     },
     "metadata": {},
     "output_type": "display_data"
    },
    {
     "name": "stdout",
     "output_type": "stream",
     "text": [
      "2021-06-18 00:27:26,535 -INFO - features_builder:features_builder.py:152 - used column: attributes_dnsib\n"
     ]
    },
    {
     "data": {
      "application/vnd.jupyter.widget-view+json": {
       "model_id": "158855d5b094445da7d61270b466cc88",
       "version_major": 2,
       "version_minor": 0
      },
      "text/plain": [
       "  0%|          | 0/47750 [00:00<?, ?it/s]"
      ]
     },
     "metadata": {},
     "output_type": "display_data"
    },
    {
     "name": "stdout",
     "output_type": "stream",
     "text": [
      "2021-06-18 00:27:30,013 -INFO - dataset_collector:dataset_collector.py:52 - attributes_sm: (47750, 17)\n",
      "2021-06-18 00:27:30,014 -INFO - features_builder:features_builder.py:188 - used column: attributes\n",
      "2021-06-18 00:27:30,015 -INFO - features_builder:features_builder.py:191 - TfIdfVectorizer for class attribute exists. Loaging...\n",
      "2021-06-18 00:27:30,194 -INFO - features_builder:features_builder.py:188 - used column: attributes_parent\n",
      "2021-06-18 00:27:30,194 -INFO - features_builder:features_builder.py:191 - TfIdfVectorizer for class attribute exists. Loaging...\n",
      "2021-06-18 00:27:30,379 -INFO - features_builder:features_builder.py:188 - used column: attributes_upsib\n",
      "2021-06-18 00:27:30,380 -INFO - features_builder:features_builder.py:191 - TfIdfVectorizer for class attribute exists. Loaging...\n",
      "2021-06-18 00:27:30,518 -INFO - features_builder:features_builder.py:188 - used column: attributes_dnsib\n",
      "2021-06-18 00:27:30,518 -INFO - features_builder:features_builder.py:191 - TfIdfVectorizer for class attribute exists. Loaging...\n",
      "2021-06-18 00:27:30,653 -INFO - dataset_collector:dataset_collector.py:59 - class_sm: (47750, 389)\n",
      "2021-06-18 00:27:30,654 -INFO - features_builder:features_builder.py:279 - used column: attributes\n",
      "2021-06-18 00:27:30,655 -INFO - features_builder:features_builder.py:282 - loading model/ohe_type.pkl\n",
      "2021-06-18 00:27:30,692 -INFO - features_builder:features_builder.py:279 - used column: attributes_parent\n",
      "2021-06-18 00:27:30,693 -INFO - features_builder:features_builder.py:282 - loading model/ohe_type.pkl\n",
      "2021-06-18 00:27:30,720 -INFO - features_builder:features_builder.py:279 - used column: attributes_upsib\n",
      "2021-06-18 00:27:30,720 -INFO - features_builder:features_builder.py:282 - loading model/ohe_type.pkl\n",
      "2021-06-18 00:27:30,754 -INFO - features_builder:features_builder.py:279 - used column: attributes_dnsib\n",
      "2021-06-18 00:27:30,754 -INFO - features_builder:features_builder.py:282 - loading model/ohe_type.pkl\n",
      "2021-06-18 00:27:30,787 -INFO - dataset_collector:dataset_collector.py:66 - type_sm: (47750, 22)\n",
      "2021-06-18 00:27:30,787 -INFO - features_builder:features_builder.py:251 - used column: attributes\n",
      "2021-06-18 00:27:30,788 -INFO - features_builder:features_builder.py:254 - loading model/ohe_role.pkl\n",
      "2021-06-18 00:27:30,823 -INFO - features_builder:features_builder.py:251 - used column: attributes_parent\n",
      "2021-06-18 00:27:30,824 -INFO - features_builder:features_builder.py:254 - loading model/ohe_role.pkl\n",
      "2021-06-18 00:27:30,856 -INFO - features_builder:features_builder.py:251 - used column: attributes_upsib\n",
      "2021-06-18 00:27:30,857 -INFO - features_builder:features_builder.py:254 - loading model/ohe_role.pkl\n",
      "2021-06-18 00:27:30,889 -INFO - features_builder:features_builder.py:251 - used column: attributes_dnsib\n",
      "2021-06-18 00:27:30,890 -INFO - features_builder:features_builder.py:254 - loading model/ohe_role.pkl\n",
      "2021-06-18 00:27:30,922 -INFO - dataset_collector:dataset_collector.py:73 - role_sm: (47750, 37)\n",
      "2021-06-18 00:27:30,964 -INFO - dataset_collector:dataset_collector.py:106 - X:<47750x1984 sparse matrix of type '<class 'numpy.float64'>'\n",
      "\twith 887489 stored elements in Compressed Sparse Row format>\n"
     ]
    }
   ],
   "source": [
    "X, y = collect_dataset(df)"
   ]
  },
  {
   "cell_type": "code",
   "execution_count": 73,
   "id": "f4eb45fd",
   "metadata": {},
   "outputs": [
    {
     "data": {
      "text/html": [
       "<div>\n",
       "<style scoped>\n",
       "    .dataframe tbody tr th:only-of-type {\n",
       "        vertical-align: middle;\n",
       "    }\n",
       "\n",
       "    .dataframe tbody tr th {\n",
       "        vertical-align: top;\n",
       "    }\n",
       "\n",
       "    .dataframe thead th {\n",
       "        text-align: right;\n",
       "    }\n",
       "</style>\n",
       "<table border=\"1\" class=\"dataframe\">\n",
       "  <thead>\n",
       "    <tr style=\"text-align: right;\">\n",
       "      <th></th>\n",
       "      <th>cnt</th>\n",
       "      <th>class</th>\n",
       "    </tr>\n",
       "  </thead>\n",
       "  <tbody>\n",
       "    <tr>\n",
       "      <th>21</th>\n",
       "      <td>43192</td>\n",
       "      <td>n/a</td>\n",
       "    </tr>\n",
       "    <tr>\n",
       "      <th>1</th>\n",
       "      <td>2404</td>\n",
       "      <td>link</td>\n",
       "    </tr>\n",
       "    <tr>\n",
       "      <th>0</th>\n",
       "      <td>1210</td>\n",
       "      <td>button</td>\n",
       "    </tr>\n",
       "    <tr>\n",
       "      <th>4</th>\n",
       "      <td>246</td>\n",
       "      <td>checkbox</td>\n",
       "    </tr>\n",
       "    <tr>\n",
       "      <th>2</th>\n",
       "      <td>229</td>\n",
       "      <td>textfield</td>\n",
       "    </tr>\n",
       "    <tr>\n",
       "      <th>5</th>\n",
       "      <td>130</td>\n",
       "      <td>radiobutton</td>\n",
       "    </tr>\n",
       "    <tr>\n",
       "      <th>14</th>\n",
       "      <td>85</td>\n",
       "      <td>selector</td>\n",
       "    </tr>\n",
       "    <tr>\n",
       "      <th>11</th>\n",
       "      <td>34</td>\n",
       "      <td>datetimeselector</td>\n",
       "    </tr>\n",
       "    <tr>\n",
       "      <th>15</th>\n",
       "      <td>32</td>\n",
       "      <td>table</td>\n",
       "    </tr>\n",
       "    <tr>\n",
       "      <th>17</th>\n",
       "      <td>30</td>\n",
       "      <td>slider</td>\n",
       "    </tr>\n",
       "    <tr>\n",
       "      <th>16</th>\n",
       "      <td>29</td>\n",
       "      <td>switch</td>\n",
       "    </tr>\n",
       "    <tr>\n",
       "      <th>20</th>\n",
       "      <td>27</td>\n",
       "      <td>tab</td>\n",
       "    </tr>\n",
       "    <tr>\n",
       "      <th>6</th>\n",
       "      <td>23</td>\n",
       "      <td>textarea</td>\n",
       "    </tr>\n",
       "    <tr>\n",
       "      <th>10</th>\n",
       "      <td>21</td>\n",
       "      <td>progressbar</td>\n",
       "    </tr>\n",
       "    <tr>\n",
       "      <th>9</th>\n",
       "      <td>12</td>\n",
       "      <td>range</td>\n",
       "    </tr>\n",
       "    <tr>\n",
       "      <th>18</th>\n",
       "      <td>10</td>\n",
       "      <td>tree-node</td>\n",
       "    </tr>\n",
       "    <tr>\n",
       "      <th>7</th>\n",
       "      <td>8</td>\n",
       "      <td>fileinput</td>\n",
       "    </tr>\n",
       "    <tr>\n",
       "      <th>19</th>\n",
       "      <td>7</td>\n",
       "      <td>steper</td>\n",
       "    </tr>\n",
       "    <tr>\n",
       "      <th>3</th>\n",
       "      <td>7</td>\n",
       "      <td>dropdown</td>\n",
       "    </tr>\n",
       "    <tr>\n",
       "      <th>12</th>\n",
       "      <td>6</td>\n",
       "      <td>colorpicker</td>\n",
       "    </tr>\n",
       "    <tr>\n",
       "      <th>8</th>\n",
       "      <td>5</td>\n",
       "      <td>iframe</td>\n",
       "    </tr>\n",
       "    <tr>\n",
       "      <th>13</th>\n",
       "      <td>3</td>\n",
       "      <td>numberselector</td>\n",
       "    </tr>\n",
       "  </tbody>\n",
       "</table>\n",
       "</div>"
      ],
      "text/plain": [
       "      cnt             class\n",
       "21  43192               n/a\n",
       "1    2404              link\n",
       "0    1210            button\n",
       "4     246          checkbox\n",
       "2     229         textfield\n",
       "5     130       radiobutton\n",
       "14     85          selector\n",
       "11     34  datetimeselector\n",
       "15     32             table\n",
       "17     30            slider\n",
       "16     29            switch\n",
       "20     27               tab\n",
       "6      23          textarea\n",
       "10     21       progressbar\n",
       "9      12             range\n",
       "18     10         tree-node\n",
       "7       8         fileinput\n",
       "19      7            steper\n",
       "3       7          dropdown\n",
       "12      6       colorpicker\n",
       "8       5            iframe\n",
       "13      3    numberselector"
      ]
     },
     "execution_count": 73,
     "metadata": {},
     "output_type": "execute_result"
    }
   ],
   "source": [
    "with open('dataset/classes.txt', 'r') as f:\n",
    "    decoder_dict = { i:v.strip() for i, v in enumerate(f.readlines())}\n",
    "results_df = pd.DataFrame(pd.Series(y).value_counts(), columns=['cnt'])\n",
    "results_df['class'] = results_df.index.map(decoder_dict)\n",
    "results_df"
   ]
  },
  {
   "cell_type": "code",
   "execution_count": 74,
   "id": "58e9aad8",
   "metadata": {},
   "outputs": [
    {
     "data": {
      "text/html": [
       "<div>\n",
       "<style scoped>\n",
       "    .dataframe tbody tr th:only-of-type {\n",
       "        vertical-align: middle;\n",
       "    }\n",
       "\n",
       "    .dataframe tbody tr th {\n",
       "        vertical-align: top;\n",
       "    }\n",
       "\n",
       "    .dataframe thead th {\n",
       "        text-align: right;\n",
       "    }\n",
       "</style>\n",
       "<table border=\"1\" class=\"dataframe\">\n",
       "  <thead>\n",
       "    <tr style=\"text-align: right;\">\n",
       "      <th></th>\n",
       "      <th>dataset</th>\n",
       "      <th>tag_name</th>\n",
       "      <th>x</th>\n",
       "      <th>y</th>\n",
       "      <th>width</th>\n",
       "      <th>height</th>\n",
       "    </tr>\n",
       "  </thead>\n",
       "  <tbody>\n",
       "    <tr>\n",
       "      <th>1417</th>\n",
       "      <td>ozon</td>\n",
       "      <td>DIV</td>\n",
       "      <td>479.500000</td>\n",
       "      <td>257.000000</td>\n",
       "      <td>206.000000</td>\n",
       "      <td>18.0</td>\n",
       "    </tr>\n",
       "    <tr>\n",
       "      <th>907</th>\n",
       "      <td>bootstrap</td>\n",
       "      <td>BUTTON</td>\n",
       "      <td>240.000000</td>\n",
       "      <td>6560.140625</td>\n",
       "      <td>114.000000</td>\n",
       "      <td>38.0</td>\n",
       "    </tr>\n",
       "    <tr>\n",
       "      <th>414</th>\n",
       "      <td>bootstrap</td>\n",
       "      <td>A</td>\n",
       "      <td>309.468750</td>\n",
       "      <td>2032.000000</td>\n",
       "      <td>107.640625</td>\n",
       "      <td>36.0</td>\n",
       "    </tr>\n",
       "    <tr>\n",
       "      <th>915</th>\n",
       "      <td>bootstrap</td>\n",
       "      <td>BUTTON</td>\n",
       "      <td>407.218750</td>\n",
       "      <td>6603.140625</td>\n",
       "      <td>29.593750</td>\n",
       "      <td>38.0</td>\n",
       "    </tr>\n",
       "    <tr>\n",
       "      <th>435</th>\n",
       "      <td>bootstrap</td>\n",
       "      <td>A</td>\n",
       "      <td>307.468750</td>\n",
       "      <td>2124.000000</td>\n",
       "      <td>105.640625</td>\n",
       "      <td>34.0</td>\n",
       "    </tr>\n",
       "    <tr>\n",
       "      <th>480</th>\n",
       "      <td>bootstrap</td>\n",
       "      <td>A</td>\n",
       "      <td>516.265625</td>\n",
       "      <td>2310.500000</td>\n",
       "      <td>72.859375</td>\n",
       "      <td>34.0</td>\n",
       "    </tr>\n",
       "    <tr>\n",
       "      <th>503</th>\n",
       "      <td>bootstrap</td>\n",
       "      <td>A</td>\n",
       "      <td>529.156250</td>\n",
       "      <td>2472.000000</td>\n",
       "      <td>89.640625</td>\n",
       "      <td>34.0</td>\n",
       "    </tr>\n",
       "  </tbody>\n",
       "</table>\n",
       "</div>"
      ],
      "text/plain": [
       "        dataset tag_name           x            y       width  height\n",
       "1417       ozon      DIV  479.500000   257.000000  206.000000    18.0\n",
       "907   bootstrap   BUTTON  240.000000  6560.140625  114.000000    38.0\n",
       "414   bootstrap        A  309.468750  2032.000000  107.640625    36.0\n",
       "915   bootstrap   BUTTON  407.218750  6603.140625   29.593750    38.0\n",
       "435   bootstrap        A  307.468750  2124.000000  105.640625    34.0\n",
       "480   bootstrap        A  516.265625  2310.500000   72.859375    34.0\n",
       "503   bootstrap        A  529.156250  2472.000000   89.640625    34.0"
      ]
     },
     "execution_count": 74,
     "metadata": {},
     "output_type": "execute_result"
    }
   ],
   "source": [
    "df[df.label_text == 'dropdown'][['dataset', 'tag_name', 'x', 'y', 'width', 'height']]"
   ]
  },
  {
   "cell_type": "code",
   "execution_count": 75,
   "id": "2ac09e53",
   "metadata": {},
   "outputs": [],
   "source": [
    "# def rebalance(y: np.ndarray):\n",
    "#     with open('dataset/classes.txt', 'r') as f:\n",
    "#         decoder_dict = { i: v.strip()  for i, v in enumerate(f.readlines())}\n",
    "\n",
    "#     proportion_df = pd.DataFrame([{'label': i, 'label_text': decoder_dict[i], 'cnt': np.where(y==i)[0].shape[0] } for i in range(0, len(decoder_dict))])\n",
    "#     labels_cnt = proportion_df[proportion_df.label_text != 'n/a'][['cnt']].sum().values[0]\n",
    "#     na_label_cnt = proportion_df[proportion_df.label_text == 'n/a'].cnt.values[0]\n",
    "#     print(na_label_cnt, labels_cnt)\n",
    "#     proportion_df['ratio'] = proportion_df.apply(lambda r: na_label_cnt//r.cnt//7 if r.label_text != 'n/a' else 1, axis=1)\n",
    "#     proportion_df['cnt2'] = proportion_df.ratio * proportion_df.cnt\n",
    "#     display(proportion_df)\n",
    "    \n",
    "#     indices = []\n",
    "#     for i, r in proportion_df.iterrows():\n",
    "#         lst = np.where(y == r.label)[0].tolist()\n",
    "#         for _ in range(r.ratio):\n",
    "#             indices.extend(lst)\n",
    "            \n",
    "#     print(len(indices))\n",
    "#     np.random.shuffle(indices)\n",
    "#     return indices\n"
   ]
  },
  {
   "cell_type": "code",
   "execution_count": 78,
   "id": "87718dee",
   "metadata": {},
   "outputs": [
    {
     "name": "stdout",
     "output_type": "stream",
     "text": [
      "2021-06-18 00:28:33,235 -INFO - dataset:dataset.py:602 - Rebalance dataset\n",
      "2021-06-18 00:28:33,240 -INFO - dataset:dataset.py:614 - \"n/a\" count: 43192, labels count: 4558\n"
     ]
    },
    {
     "data": {
      "text/html": [
       "<div>\n",
       "<style scoped>\n",
       "    .dataframe tbody tr th:only-of-type {\n",
       "        vertical-align: middle;\n",
       "    }\n",
       "\n",
       "    .dataframe tbody tr th {\n",
       "        vertical-align: top;\n",
       "    }\n",
       "\n",
       "    .dataframe thead th {\n",
       "        text-align: right;\n",
       "    }\n",
       "</style>\n",
       "<table border=\"1\" class=\"dataframe\">\n",
       "  <thead>\n",
       "    <tr style=\"text-align: right;\">\n",
       "      <th></th>\n",
       "      <th>label</th>\n",
       "      <th>label_text</th>\n",
       "      <th>cnt</th>\n",
       "      <th>ratio</th>\n",
       "      <th>cnt_rebalanced</th>\n",
       "    </tr>\n",
       "  </thead>\n",
       "  <tbody>\n",
       "    <tr>\n",
       "      <th>0</th>\n",
       "      <td>0</td>\n",
       "      <td>button</td>\n",
       "      <td>1210</td>\n",
       "      <td>5</td>\n",
       "      <td>6050</td>\n",
       "    </tr>\n",
       "    <tr>\n",
       "      <th>1</th>\n",
       "      <td>1</td>\n",
       "      <td>link</td>\n",
       "      <td>2404</td>\n",
       "      <td>2</td>\n",
       "      <td>4808</td>\n",
       "    </tr>\n",
       "    <tr>\n",
       "      <th>2</th>\n",
       "      <td>2</td>\n",
       "      <td>textfield</td>\n",
       "      <td>229</td>\n",
       "      <td>26</td>\n",
       "      <td>5954</td>\n",
       "    </tr>\n",
       "    <tr>\n",
       "      <th>3</th>\n",
       "      <td>3</td>\n",
       "      <td>dropdown</td>\n",
       "      <td>7</td>\n",
       "      <td>881</td>\n",
       "      <td>6167</td>\n",
       "    </tr>\n",
       "    <tr>\n",
       "      <th>4</th>\n",
       "      <td>4</td>\n",
       "      <td>checkbox</td>\n",
       "      <td>246</td>\n",
       "      <td>25</td>\n",
       "      <td>6150</td>\n",
       "    </tr>\n",
       "    <tr>\n",
       "      <th>5</th>\n",
       "      <td>5</td>\n",
       "      <td>radiobutton</td>\n",
       "      <td>130</td>\n",
       "      <td>47</td>\n",
       "      <td>6110</td>\n",
       "    </tr>\n",
       "    <tr>\n",
       "      <th>6</th>\n",
       "      <td>6</td>\n",
       "      <td>textarea</td>\n",
       "      <td>23</td>\n",
       "      <td>268</td>\n",
       "      <td>6164</td>\n",
       "    </tr>\n",
       "    <tr>\n",
       "      <th>7</th>\n",
       "      <td>7</td>\n",
       "      <td>fileinput</td>\n",
       "      <td>8</td>\n",
       "      <td>771</td>\n",
       "      <td>6168</td>\n",
       "    </tr>\n",
       "    <tr>\n",
       "      <th>8</th>\n",
       "      <td>8</td>\n",
       "      <td>iframe</td>\n",
       "      <td>5</td>\n",
       "      <td>1234</td>\n",
       "      <td>6170</td>\n",
       "    </tr>\n",
       "    <tr>\n",
       "      <th>9</th>\n",
       "      <td>9</td>\n",
       "      <td>range</td>\n",
       "      <td>12</td>\n",
       "      <td>514</td>\n",
       "      <td>6168</td>\n",
       "    </tr>\n",
       "    <tr>\n",
       "      <th>10</th>\n",
       "      <td>10</td>\n",
       "      <td>progressbar</td>\n",
       "      <td>21</td>\n",
       "      <td>293</td>\n",
       "      <td>6153</td>\n",
       "    </tr>\n",
       "    <tr>\n",
       "      <th>11</th>\n",
       "      <td>11</td>\n",
       "      <td>datetimeselector</td>\n",
       "      <td>34</td>\n",
       "      <td>181</td>\n",
       "      <td>6154</td>\n",
       "    </tr>\n",
       "    <tr>\n",
       "      <th>12</th>\n",
       "      <td>12</td>\n",
       "      <td>colorpicker</td>\n",
       "      <td>6</td>\n",
       "      <td>1028</td>\n",
       "      <td>6168</td>\n",
       "    </tr>\n",
       "    <tr>\n",
       "      <th>13</th>\n",
       "      <td>13</td>\n",
       "      <td>numberselector</td>\n",
       "      <td>3</td>\n",
       "      <td>2056</td>\n",
       "      <td>6168</td>\n",
       "    </tr>\n",
       "    <tr>\n",
       "      <th>14</th>\n",
       "      <td>14</td>\n",
       "      <td>selector</td>\n",
       "      <td>85</td>\n",
       "      <td>72</td>\n",
       "      <td>6120</td>\n",
       "    </tr>\n",
       "    <tr>\n",
       "      <th>15</th>\n",
       "      <td>15</td>\n",
       "      <td>table</td>\n",
       "      <td>32</td>\n",
       "      <td>192</td>\n",
       "      <td>6144</td>\n",
       "    </tr>\n",
       "    <tr>\n",
       "      <th>16</th>\n",
       "      <td>16</td>\n",
       "      <td>switch</td>\n",
       "      <td>29</td>\n",
       "      <td>212</td>\n",
       "      <td>6148</td>\n",
       "    </tr>\n",
       "    <tr>\n",
       "      <th>17</th>\n",
       "      <td>17</td>\n",
       "      <td>slider</td>\n",
       "      <td>30</td>\n",
       "      <td>205</td>\n",
       "      <td>6150</td>\n",
       "    </tr>\n",
       "    <tr>\n",
       "      <th>18</th>\n",
       "      <td>18</td>\n",
       "      <td>tree-node</td>\n",
       "      <td>10</td>\n",
       "      <td>617</td>\n",
       "      <td>6170</td>\n",
       "    </tr>\n",
       "    <tr>\n",
       "      <th>19</th>\n",
       "      <td>19</td>\n",
       "      <td>steper</td>\n",
       "      <td>7</td>\n",
       "      <td>881</td>\n",
       "      <td>6167</td>\n",
       "    </tr>\n",
       "    <tr>\n",
       "      <th>20</th>\n",
       "      <td>20</td>\n",
       "      <td>tab</td>\n",
       "      <td>27</td>\n",
       "      <td>228</td>\n",
       "      <td>6156</td>\n",
       "    </tr>\n",
       "    <tr>\n",
       "      <th>21</th>\n",
       "      <td>21</td>\n",
       "      <td>n/a</td>\n",
       "      <td>43192</td>\n",
       "      <td>1</td>\n",
       "      <td>43192</td>\n",
       "    </tr>\n",
       "  </tbody>\n",
       "</table>\n",
       "</div>"
      ],
      "text/plain": [
       "    label        label_text    cnt  ratio  cnt_rebalanced\n",
       "0       0            button   1210      5            6050\n",
       "1       1              link   2404      2            4808\n",
       "2       2         textfield    229     26            5954\n",
       "3       3          dropdown      7    881            6167\n",
       "4       4          checkbox    246     25            6150\n",
       "5       5       radiobutton    130     47            6110\n",
       "6       6          textarea     23    268            6164\n",
       "7       7         fileinput      8    771            6168\n",
       "8       8            iframe      5   1234            6170\n",
       "9       9             range     12    514            6168\n",
       "10     10       progressbar     21    293            6153\n",
       "11     11  datetimeselector     34    181            6154\n",
       "12     12       colorpicker      6   1028            6168\n",
       "13     13    numberselector      3   2056            6168\n",
       "14     14          selector     85     72            6120\n",
       "15     15             table     32    192            6144\n",
       "16     16            switch     29    212            6148\n",
       "17     17            slider     30    205            6150\n",
       "18     18         tree-node     10    617            6170\n",
       "19     19            steper      7    881            6167\n",
       "20     20               tab     27    228            6156\n",
       "21     21               n/a  43192      1           43192"
      ]
     },
     "metadata": {},
     "output_type": "display_data"
    },
    {
     "name": "stdout",
     "output_type": "stream",
     "text": [
      "2021-06-18 00:28:33,261 -INFO - dataset:dataset.py:629 - Rebalanced and shuffled indices: 170799\n"
     ]
    }
   ],
   "source": [
    "indices = rebalance(y)"
   ]
  },
  {
   "cell_type": "code",
   "execution_count": null,
   "id": "de702401",
   "metadata": {},
   "outputs": [],
   "source": []
  }
 ],
 "metadata": {
  "kernelspec": {
   "display_name": "Python 3",
   "language": "python",
   "name": "python3"
  },
  "language_info": {
   "codemirror_mode": {
    "name": "ipython",
    "version": 3
   },
   "file_extension": ".py",
   "mimetype": "text/x-python",
   "name": "python",
   "nbconvert_exporter": "python",
   "pygments_lexer": "ipython3",
   "version": "3.7.9"
  }
 },
 "nbformat": 4,
 "nbformat_minor": 5
}
