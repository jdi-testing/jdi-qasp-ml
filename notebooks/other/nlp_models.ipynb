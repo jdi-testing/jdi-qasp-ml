{
 "cells": [
  {
   "cell_type": "code",
   "execution_count": 2,
   "metadata": {},
   "outputs": [],
   "source": [
    "from torchtext.data.utils import get_tokenizer\n",
    "from torchtext.vocab import build_vocab_from_iterator\n",
    "\n",
    "import pandas as pd"
   ]
  },
  {
   "cell_type": "code",
   "execution_count": 3,
   "metadata": {},
   "outputs": [],
   "source": [
    "from tqdm.notebook import tqdm\n",
    "import sys\n",
    "import os\n",
    "import re\n",
    "from glob import glob\n",
    "from time import sleep\n",
    "\n",
    "prefix = os.getcwd().split(\"jdi-qasp-ml\")[0]\n",
    "sys.path.append(os.path.join(prefix, \"jdi-qasp-ml\"))"
   ]
  },
  {
   "cell_type": "code",
   "execution_count": 4,
   "metadata": {},
   "outputs": [],
   "source": [
    "dataset_path = os.path.join(prefix, \"jdi-qasp-ml\", \"data/mui_dataset\")\n",
    "\n",
    "SITE_DFS = [\n",
    "    p\n",
    "    for p in glob(f'{os.path.join(prefix, \"jdi-qasp-ml\")}/data/mui_dataset/df/site*')\n",
    "]\n",
    "DF_NAMES = [re.search(\"site-[0-9]+\", nm)[0] for nm in SITE_DFS]"
   ]
  },
  {
   "cell_type": "code",
   "execution_count": 5,
   "metadata": {},
   "outputs": [],
   "source": [
    "# total_df = pd.DataFrame()\n",
    "# for i, df_path in tqdm(enumerate(SITE_DFS)):\n",
    "#     df = pd.read_pickle(df_path)\n",
    "#     df['site'] = DF_NAMES[i]\n",
    "\n",
    "#     par_childs = {par:list(df[df.parent_id==par].element_id.unique()) for par in df.parent_id.unique()}\n",
    "\n",
    "#     def find_all_childs(elem_id):\n",
    "#         if par_childs.get(elem_id) is None:\n",
    "#             return []\n",
    "#         else:\n",
    "#             res = []\n",
    "#             for i in par_childs.get(elem_id):\n",
    "#                 res.append(i)\n",
    "#                 res.extend(find_all_childs(i))\n",
    "#             return res\n",
    "    \n",
    "#     df['all_followers'] = df['element_id'].apply(find_all_childs)\n",
    "\n",
    "#     df['STRING'] = df.attributes.apply((lambda x: '' if x is None else x.get('class', \"\") + \" \" + x.get('type', \"\") + \" \" + x.get('role', \"\")))\n",
    "#     df['STRING'] = df.tag_name.str.lower().str.cat(df['STRING'], sep=\" \")\n",
    "#     df['LABEL'] = df.attributes.apply(lambda x: None if x is None else x.get('data-label'))\n",
    "#     df = df[[\"site\", \"element_id\", \"parent_id\", \"all_followers\", \"STRING\", \"LABEL\"]]\n",
    "#     df.reset_index(drop=True, inplace=True)\n",
    "\n",
    "#     elem_string_dict = {k:v.get('STRING') for k,v in df[['STRING']].set_index(df.element_id).fillna('').T.to_dict().items()}\n",
    "\n",
    "#     def concat_all_strings(list):\n",
    "#         res = ''\n",
    "#         for l in list:\n",
    "#             res = res + elem_string_dict.get(l) + ' '\n",
    "#         return res\n",
    "    \n",
    "#     df['all_followers_string'] = df['all_followers'].apply(concat_all_strings)\n",
    "#     df['final_string'] = (df.STRING + ' ' + df.all_followers_string).fillna('')\n",
    "\n",
    "#     df = df[[\"site\", \"element_id\", \"parent_id\", \"final_string\", \"LABEL\"]]\n",
    "#     total_df = pd.concat([total_df, df])\n",
    "# total_df.reset_index(inplace=True, drop=True)"
   ]
  },
  {
   "cell_type": "code",
   "execution_count": 6,
   "metadata": {},
   "outputs": [],
   "source": [
    "# total_df.tail(3)"
   ]
  },
  {
   "cell_type": "code",
   "execution_count": 7,
   "metadata": {},
   "outputs": [],
   "source": [
    "# total_df.to_csv(f'{os.path.join(prefix, \"jdi-qasp-ml\")}/data/other/total_df_for_nlp_model.csv', index=False)"
   ]
  },
  {
   "cell_type": "code",
   "execution_count": 8,
   "metadata": {},
   "outputs": [],
   "source": [
    "# total_df = pd.read_csv(f'{os.path.join(prefix, \"jdi-qasp-ml\")}/data/other/total_df_for_nlp_model.csv')\n",
    "# total_df.LABEL = total_df.LABEL.fillna(\"n/a\")\n"
   ]
  },
  {
   "cell_type": "code",
   "execution_count": 9,
   "metadata": {},
   "outputs": [],
   "source": [
    "# total_df.tail()"
   ]
  },
  {
   "cell_type": "code",
   "execution_count": 10,
   "metadata": {},
   "outputs": [],
   "source": [
    "def prepare_string(string):\n",
    "    string = re.sub(r\"(?<=\\w)([A-Z])\", r\" \\1\", string)\n",
    "    string = str(string).lower().strip()\n",
    "    return(re.sub(' +', ' ', re.sub('(-)|([0-9]+)', ' ', string).strip()))\n",
    "\n",
    "\n",
    "# total_df['final_string'] = total_df['final_string'].apply(prepare_string)"
   ]
  },
  {
   "cell_type": "code",
   "execution_count": 11,
   "metadata": {},
   "outputs": [],
   "source": [
    "# total_df.tail()"
   ]
  },
  {
   "cell_type": "code",
   "execution_count": 12,
   "metadata": {},
   "outputs": [],
   "source": [
    "# total_df.to_csv(f'{os.path.join(prefix, \"jdi-qasp-ml\")}/data/other/total_df_for_nlp_model_prepared.csv', index=False)"
   ]
  },
  {
   "cell_type": "code",
   "execution_count": 13,
   "metadata": {},
   "outputs": [],
   "source": [
    "total_df = pd.read_csv(f'{os.path.join(prefix, \"jdi-qasp-ml\")}/data/other/total_df_for_nlp_model_prepared.csv')\n",
    "total_df.LABEL = total_df.LABEL.fillna(\"n/a\")"
   ]
  },
  {
   "cell_type": "code",
   "execution_count": 14,
   "metadata": {},
   "outputs": [
    {
     "data": {
      "text/html": [
       "<div>\n",
       "<style scoped>\n",
       "    .dataframe tbody tr th:only-of-type {\n",
       "        vertical-align: middle;\n",
       "    }\n",
       "\n",
       "    .dataframe tbody tr th {\n",
       "        vertical-align: top;\n",
       "    }\n",
       "\n",
       "    .dataframe thead th {\n",
       "        text-align: right;\n",
       "    }\n",
       "</style>\n",
       "<table border=\"1\" class=\"dataframe\">\n",
       "  <thead>\n",
       "    <tr style=\"text-align: right;\">\n",
       "      <th></th>\n",
       "      <th>site</th>\n",
       "      <th>element_id</th>\n",
       "      <th>parent_id</th>\n",
       "      <th>final_string</th>\n",
       "      <th>LABEL</th>\n",
       "    </tr>\n",
       "  </thead>\n",
       "  <tbody>\n",
       "    <tr>\n",
       "      <th>739896</th>\n",
       "      <td>site-13</td>\n",
       "      <td>9627524316559287764950874349</td>\n",
       "      <td>8293726446559287768833831671</td>\n",
       "      <td>div</td>\n",
       "      <td>n/a</td>\n",
       "    </tr>\n",
       "    <tr>\n",
       "      <th>739897</th>\n",
       "      <td>site-13</td>\n",
       "      <td>9638773789559287760038756767</td>\n",
       "      <td>8293726446559287768833831671</td>\n",
       "      <td>div</td>\n",
       "      <td>n/a</td>\n",
       "    </tr>\n",
       "    <tr>\n",
       "      <th>739898</th>\n",
       "      <td>site-13</td>\n",
       "      <td>4889127663559287761125737880</td>\n",
       "      <td>8293726446559287768833831671</td>\n",
       "      <td>div mui paper root mui popover paper mui paper...</td>\n",
       "      <td>n/a</td>\n",
       "    </tr>\n",
       "    <tr>\n",
       "      <th>739899</th>\n",
       "      <td>site-13</td>\n",
       "      <td>8651010676559287765452773916</td>\n",
       "      <td>4889127663559287761125737880</td>\n",
       "      <td>p mui typography root jss mui typography body</td>\n",
       "      <td>typography</td>\n",
       "    </tr>\n",
       "    <tr>\n",
       "      <th>739900</th>\n",
       "      <td>site-13</td>\n",
       "      <td>9980562521559287761155767932</td>\n",
       "      <td>8293726446559287768833831671</td>\n",
       "      <td>div</td>\n",
       "      <td>n/a</td>\n",
       "    </tr>\n",
       "  </tbody>\n",
       "</table>\n",
       "</div>"
      ],
      "text/plain": [
       "           site                    element_id                     parent_id  \\\n",
       "739896  site-13  9627524316559287764950874349  8293726446559287768833831671   \n",
       "739897  site-13  9638773789559287760038756767  8293726446559287768833831671   \n",
       "739898  site-13  4889127663559287761125737880  8293726446559287768833831671   \n",
       "739899  site-13  8651010676559287765452773916  4889127663559287761125737880   \n",
       "739900  site-13  9980562521559287761155767932  8293726446559287768833831671   \n",
       "\n",
       "                                             final_string       LABEL  \n",
       "739896                                                div         n/a  \n",
       "739897                                                div         n/a  \n",
       "739898  div mui paper root mui popover paper mui paper...         n/a  \n",
       "739899      p mui typography root jss mui typography body  typography  \n",
       "739900                                                div         n/a  "
      ]
     },
     "execution_count": 14,
     "metadata": {},
     "output_type": "execute_result"
    }
   ],
   "source": [
    "total_df.tail()"
   ]
  },
  {
   "cell_type": "code",
   "execution_count": 15,
   "metadata": {},
   "outputs": [],
   "source": [
    "train_dfs = DF_NAMES[:450]\n",
    "test_dfs = DF_NAMES[450:]\n",
    "\n",
    "train = total_df[total_df.site.isin(train_dfs)].copy()\n",
    "test = total_df[total_df.site.isin(test_dfs)].copy()"
   ]
  },
  {
   "cell_type": "code",
   "execution_count": 16,
   "metadata": {},
   "outputs": [
    {
     "data": {
      "text/html": [
       "<div>\n",
       "<style scoped>\n",
       "    .dataframe tbody tr th:only-of-type {\n",
       "        vertical-align: middle;\n",
       "    }\n",
       "\n",
       "    .dataframe tbody tr th {\n",
       "        vertical-align: top;\n",
       "    }\n",
       "\n",
       "    .dataframe thead th {\n",
       "        text-align: right;\n",
       "    }\n",
       "</style>\n",
       "<table border=\"1\" class=\"dataframe\">\n",
       "  <thead>\n",
       "    <tr style=\"text-align: right;\">\n",
       "      <th></th>\n",
       "      <th>site</th>\n",
       "      <th>element_id</th>\n",
       "      <th>parent_id</th>\n",
       "      <th>final_string</th>\n",
       "      <th>LABEL</th>\n",
       "    </tr>\n",
       "  </thead>\n",
       "  <tbody>\n",
       "    <tr>\n",
       "      <th>153</th>\n",
       "      <td>site-36</td>\n",
       "      <td>6012700921559833475778801775</td>\n",
       "      <td>8083030401559833473040253487</td>\n",
       "      <td>button mui button base root mui button root mu...</td>\n",
       "      <td>button</td>\n",
       "    </tr>\n",
       "    <tr>\n",
       "      <th>156</th>\n",
       "      <td>site-36</td>\n",
       "      <td>3055060397559833477516072019</td>\n",
       "      <td>8083030401559833473040253487</td>\n",
       "      <td>button mui button base root mui button root mu...</td>\n",
       "      <td>button</td>\n",
       "    </tr>\n",
       "    <tr>\n",
       "      <th>239</th>\n",
       "      <td>site-36</td>\n",
       "      <td>1494148025559833470349324986</td>\n",
       "      <td>2047237416559833471527487176</td>\n",
       "      <td>button mui button base root mui button root mu...</td>\n",
       "      <td>button</td>\n",
       "    </tr>\n",
       "    <tr>\n",
       "      <th>282</th>\n",
       "      <td>site-36</td>\n",
       "      <td>6202445220559833479221288362</td>\n",
       "      <td>5690271524559833471546038711</td>\n",
       "      <td>div mui button base root mui list item root mu...</td>\n",
       "      <td>button</td>\n",
       "    </tr>\n",
       "    <tr>\n",
       "      <th>287</th>\n",
       "      <td>site-36</td>\n",
       "      <td>6234426714559833478997189828</td>\n",
       "      <td>5690271524559833471546038711</td>\n",
       "      <td>div mui button base root mui list item root mu...</td>\n",
       "      <td>button</td>\n",
       "    </tr>\n",
       "    <tr>\n",
       "      <th>...</th>\n",
       "      <td>...</td>\n",
       "      <td>...</td>\n",
       "      <td>...</td>\n",
       "      <td>...</td>\n",
       "      <td>...</td>\n",
       "    </tr>\n",
       "    <tr>\n",
       "      <th>664196</th>\n",
       "      <td>site-15</td>\n",
       "      <td>1304723266555988633183829078</td>\n",
       "      <td>0537889071555988630964595256</td>\n",
       "      <td>div mui button base root mui list item root mu...</td>\n",
       "      <td>button</td>\n",
       "    </tr>\n",
       "    <tr>\n",
       "      <th>664201</th>\n",
       "      <td>site-15</td>\n",
       "      <td>6733012658555988634410515214</td>\n",
       "      <td>0537889071555988630964595256</td>\n",
       "      <td>div mui button base root mui list item root mu...</td>\n",
       "      <td>button</td>\n",
       "    </tr>\n",
       "    <tr>\n",
       "      <th>664205</th>\n",
       "      <td>site-15</td>\n",
       "      <td>0289113842555988634893828622</td>\n",
       "      <td>0537889071555988630964595256</td>\n",
       "      <td>div mui button base root mui list item root mu...</td>\n",
       "      <td>button</td>\n",
       "    </tr>\n",
       "    <tr>\n",
       "      <th>664210</th>\n",
       "      <td>site-15</td>\n",
       "      <td>6583630390555988633320450650</td>\n",
       "      <td>0537889071555988630964595256</td>\n",
       "      <td>div mui button base root mui list item root mu...</td>\n",
       "      <td>button</td>\n",
       "    </tr>\n",
       "    <tr>\n",
       "      <th>664306</th>\n",
       "      <td>site-15</td>\n",
       "      <td>4285147920555988635408256671</td>\n",
       "      <td>5712492032555988633883336055</td>\n",
       "      <td>button mui button base root mui button root mu...</td>\n",
       "      <td>button</td>\n",
       "    </tr>\n",
       "  </tbody>\n",
       "</table>\n",
       "<p>12405 rows × 5 columns</p>\n",
       "</div>"
      ],
      "text/plain": [
       "           site                    element_id                     parent_id  \\\n",
       "153     site-36  6012700921559833475778801775  8083030401559833473040253487   \n",
       "156     site-36  3055060397559833477516072019  8083030401559833473040253487   \n",
       "239     site-36  1494148025559833470349324986  2047237416559833471527487176   \n",
       "282     site-36  6202445220559833479221288362  5690271524559833471546038711   \n",
       "287     site-36  6234426714559833478997189828  5690271524559833471546038711   \n",
       "...         ...                           ...                           ...   \n",
       "664196  site-15  1304723266555988633183829078  0537889071555988630964595256   \n",
       "664201  site-15  6733012658555988634410515214  0537889071555988630964595256   \n",
       "664205  site-15  0289113842555988634893828622  0537889071555988630964595256   \n",
       "664210  site-15  6583630390555988633320450650  0537889071555988630964595256   \n",
       "664306  site-15  4285147920555988635408256671  5712492032555988633883336055   \n",
       "\n",
       "                                             final_string   LABEL  \n",
       "153     button mui button base root mui button root mu...  button  \n",
       "156     button mui button base root mui button root mu...  button  \n",
       "239     button mui button base root mui button root mu...  button  \n",
       "282     div mui button base root mui list item root mu...  button  \n",
       "287     div mui button base root mui list item root mu...  button  \n",
       "...                                                   ...     ...  \n",
       "664196  div mui button base root mui list item root mu...  button  \n",
       "664201  div mui button base root mui list item root mu...  button  \n",
       "664205  div mui button base root mui list item root mu...  button  \n",
       "664210  div mui button base root mui list item root mu...  button  \n",
       "664306  button mui button base root mui button root mu...  button  \n",
       "\n",
       "[12405 rows x 5 columns]"
      ]
     },
     "execution_count": 16,
     "metadata": {},
     "output_type": "execute_result"
    }
   ],
   "source": [
    "train[train.LABEL==\"button\"]"
   ]
  },
  {
   "cell_type": "markdown",
   "metadata": {},
   "source": [
    "Create text pipeline"
   ]
  },
  {
   "cell_type": "code",
   "execution_count": 17,
   "metadata": {},
   "outputs": [],
   "source": [
    "import itertools\n",
    "tokenizer = get_tokenizer('basic_english')\n",
    "def yield_tokens(data_iter):\n",
    "    for text in data_iter:\n",
    "        yield tokenizer(prepare_string(text))\n",
    "\n",
    "vocab = build_vocab_from_iterator(yield_tokens(train.final_string))"
   ]
  },
  {
   "cell_type": "code",
   "execution_count": 18,
   "metadata": {},
   "outputs": [
    {
     "name": "stdout",
     "output_type": "stream",
     "text": [
      "277\n",
      "61\n"
     ]
    }
   ],
   "source": [
    "print(len(vocab))\n",
    "print(vocab['accordion'])"
   ]
  },
  {
   "cell_type": "code",
   "execution_count": 19,
   "metadata": {},
   "outputs": [],
   "source": [
    "classes_path = os.path.join(prefix, \"jdi-qasp-ml\", \"data/mui_dataset/classes.txt\")\n",
    "with open(classes_path, \"r\") as f:\n",
    "    lines = f.readlines()\n",
    "    classes_dict = {v.strip(): i for i, v in enumerate(lines)}\n",
    "    classes_reverse_dict = {i: v.strip() for i, v in enumerate(lines)}\n",
    "\n",
    "train.LABEL = train.LABEL.apply(lambda x: classes_dict.get(x, 0))"
   ]
  },
  {
   "cell_type": "code",
   "execution_count": 20,
   "metadata": {},
   "outputs": [],
   "source": [
    "text_pipeline = lambda x: vocab(tokenizer(prepare_string(x)))"
   ]
  },
  {
   "cell_type": "code",
   "execution_count": 21,
   "metadata": {},
   "outputs": [
    {
     "data": {
      "text/plain": [
       "[7, 0, 38, 1, 0, 170, 38, 0, 38]"
      ]
     },
     "execution_count": 21,
     "metadata": {},
     "output_type": "execute_result"
    }
   ],
   "source": [
    "text_pipeline(\"div MuiPaper-root MuiPopover-paper MuiPaper\")"
   ]
  },
  {
   "cell_type": "code",
   "execution_count": null,
   "metadata": {},
   "outputs": [],
   "source": []
  },
  {
   "cell_type": "code",
   "execution_count": null,
   "metadata": {},
   "outputs": [],
   "source": []
  },
  {
   "cell_type": "code",
   "execution_count": null,
   "metadata": {},
   "outputs": [],
   "source": []
  }
 ],
 "metadata": {
  "interpreter": {
   "hash": "668ef8e5884dc3f6c7a385d426ec114c978b2f69913d82ea0913105f6d1e06ce"
  },
  "kernelspec": {
   "display_name": "Python 3.7.9 64-bit ('jdi-qasp-ml': conda)",
   "language": "python",
   "name": "python3"
  },
  "language_info": {
   "codemirror_mode": {
    "name": "ipython",
    "version": 3
   },
   "file_extension": ".py",
   "mimetype": "text/x-python",
   "name": "python",
   "nbconvert_exporter": "python",
   "pygments_lexer": "ipython3",
   "version": "3.9.7"
  },
  "orig_nbformat": 4
 },
 "nbformat": 4,
 "nbformat_minor": 2
}
