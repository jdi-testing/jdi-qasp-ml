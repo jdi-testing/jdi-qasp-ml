{
 "cells": [
  {
   "cell_type": "code",
   "execution_count": 1,
   "metadata": {},
   "outputs": [],
   "source": [
    "import os, sys, re\n",
    "import numpy as np\n",
    "import pandas as pd\n",
    "import platform\n",
    "from IPython.display import display, clear_output, HTML\n",
    "from datetime import datetime\n",
    "import pickle\n",
    "\n",
    "from time import sleep\n",
    "from tqdm.auto import tqdm\n",
    "\n",
    "import selenium\n",
    "from selenium.webdriver.common.by import By\n",
    "from selenium.webdriver import Firefox, ActionChains\n",
    "\n",
    "import matplotlib.pyplot as plt\n",
    "import matplotlib.patches as patches\n",
    "%matplotlib inline\n",
    "\n",
    "START_TS = datetime.now()"
   ]
  },
  {
   "cell_type": "code",
   "execution_count": 2,
   "metadata": {},
   "outputs": [
    {
     "name": "stdout",
     "output_type": "stream",
     "text": [
      "2021-02-27 01:26:58,199 - INFO - dataset:dataset.py:17 - dataset loaded...\n"
     ]
    }
   ],
   "source": [
    "from utils import get_all_elements, iou_xywh, screenshot, maximize_window, get_parents_list, build_tree_dict"
   ]
  },
  {
   "cell_type": "code",
   "execution_count": 3,
   "metadata": {},
   "outputs": [
    {
     "data": {
      "text/plain": [
       "'3.141.0'"
      ]
     },
     "execution_count": 3,
     "metadata": {},
     "output_type": "execute_result"
    }
   ],
   "source": [
    "selenium.__version__"
   ]
  },
  {
   "cell_type": "markdown",
   "metadata": {},
   "source": [
    "## Parameters"
   ]
  },
  {
   "cell_type": "code",
   "execution_count": 4,
   "metadata": {},
   "outputs": [],
   "source": [
    "SITE_ROOT = 'https://jdi-testing.github.io/jdi-light/'\n",
    "LOGIN = 'Roman'\n",
    "PASSWORD = 'Jdi1234'\n",
    "SAVE_SCREEN = True\n",
    "WAIT_TIME_SECONDS = 7\n",
    "HEADLESS = True #False\n"
   ]
  },
  {
   "cell_type": "markdown",
   "metadata": {},
   "source": [
    "## Create driver (HEADLESS={True|False})"
   ]
  },
  {
   "cell_type": "code",
   "execution_count": 5,
   "metadata": {},
   "outputs": [],
   "source": [
    "from selenium.webdriver.chrome.options import Options\n",
    "options = Options()\n",
    "options.add_argument('--disable-gpu')  # Last I checked this was necessary.\n",
    "options.add_argument('--headless')\n",
    "\n",
    "CHROME_DRIVER_PATH = os.path.join(os.getcwd(), 'chromedriver.exe')\n",
    "if os.path.exists(CHROME_DRIVER_PATH):\n",
    "    driver = selenium.webdriver.Chrome(executable_path=CHROME_DRIVER_PATH, options=options)\n",
    "    driver.get(SITE_ROOT)\n"
   ]
  },
  {
   "cell_type": "code",
   "execution_count": 6,
   "metadata": {},
   "outputs": [
    {
     "data": {
      "text/plain": [
       "({'x': 0, 'y': 0}, {'width': 800, 'height': 600}, 'Home Page')"
      ]
     },
     "execution_count": 6,
     "metadata": {},
     "output_type": "execute_result"
    }
   ],
   "source": [
    "driver.get_window_position(), driver.get_window_size(), driver.title"
   ]
  },
  {
   "cell_type": "code",
   "execution_count": 7,
   "metadata": {},
   "outputs": [
    {
     "data": {
      "text/plain": [
       "['<html lang=\"en\">',\n",
       " '<meta charset=\"utf-8\">',\n",
       " '<meta http-equiv=\"X-UA-Compatible\" content=\"IE=edge\">',\n",
       " '<meta name=\"viewport\" content=\"width=device-width\">',\n",
       " '<link rel=\"stylesheet\" href=\"bootstrap/css/bootstrap.min.css\">',\n",
       " '<link rel=\"stylesheet\" href=\"css/uui-all.css\">',\n",
       " '<link rel=\"stylesheet\" href=\"css/custom-styles.css\">',\n",
       " '<link rel=\"stylesheet\" href=\"fonts/font-awesome/css/font-awesome.min.css\">',\n",
       " '<link rel=\"stylesheet\" href=\"css/lib/components/jquery.mCustomScrollbar.css\">',\n",
       " '<script src=\"js/lib/jquery-1.11.1.min.js\">',\n",
       " '<script src=\"js/lib/components/jquery.mCustomScrollbar.concat.min.js\">',\n",
       " '<script src=\"js/lib/jquery.cookie.js\">',\n",
       " '<script src=\"bootstrap/js/bootstrap.min.js\">',\n",
       " '<script src=\"js/uui-core.min.js\" type=\"text/javascript\">',\n",
       " '<script src=\"js/utils.js\" type=\"text/javascript\">',\n",
       " '<script src=\"js/lib/html5shiv.js\">',\n",
       " '<script src=\"js/lib/respond.min.js\">',\n",
       " '<div class=\"uui-header dark-gray\">',\n",
       " '<nav role=\"navigation\">',\n",
       " '<div class=\"sidebar-toggle-box blue\" style=\"display: none;\">',\n",
       " '<div data-toggle=\"tooltip\" data-placement=\"right\" title=\"Toggle Navigation\" class=\"sidebar-tooltip\">',\n",
       " '<span class=\"fa fa-reorder\">',\n",
       " '<div class=\"epam-logo\">',\n",
       " '<a href=\"/jdi-light/index.html\">',\n",
       " '<img src=\"images/Logo_Epam_Color.svg\" alt=\"ALT\" id=\"epam-logo\" width=\"86\">',\n",
       " '<ul class=\"uui-navigation nav navbar-nav m-l8\">',\n",
       " '<a href=\"index.html\">',\n",
       " '<a href=\"contacts.html\">',\n",
       " '<li class=\"dropdown\">',\n",
       " '<a class=\"dropdown-toggle\" data-toggle=\"dropdown\">',\n",
       " '<span class=\"caret\">',\n",
       " '<ul class=\"dropdown-menu\" role=\"menu\">',\n",
       " '<a href=\"support.html\">',\n",
       " '<a href=\"dates.html\">',\n",
       " '<a href=\"search.html\">',\n",
       " '<a href=\"complex-table.html\">',\n",
       " '<a href=\"simple-table.html\">',\n",
       " '<a href=\"user-table.html\">',\n",
       " '<a href=\"table-pages.html\">',\n",
       " '<a href=\"different-elements.html\">',\n",
       " '<a href=\"performance.html\">',\n",
       " '<a href=\"metals-colors.html\">',\n",
       " '<ul class=\"uui-navigation navbar-nav navbar-right\">',\n",
       " '<li class=\"dropdown uui-profile-menu\">',\n",
       " '<a href=\"#\" class=\"dropdown-toggle\" data-toggle=\"dropdown\">',\n",
       " '<div class=\"profile-photo\">',\n",
       " '<img src=\"images/icons/user-icon.jpg\" alt=\"\" id=\"user-icon\">',\n",
       " '<span ui=\"label\" id=\"user-name\" class=\"hidden\">',\n",
       " '<span class=\"caret\">',\n",
       " '<div class=\"dropdown-menu dropdown-menu-login\" role=\"menu\">',\n",
       " '<form class=\"form-horizontal login\" id=\"login-form\">',\n",
       " '<div class=\"form-horizontal-pad\">',\n",
       " '<div class=\"form-group form-group10\">',\n",
       " '<label for=\"name\" class=\"col-sm-3\">',\n",
       " '<div class=\"col-sm-9\">',\n",
       " '<input id=\"name\" type=\"text\" class=\"uui-form-element\">',\n",
       " '<div class=\"form-group form-group10\">',\n",
       " '<label for=\"password\" class=\"col-sm-3\">',\n",
       " '<div class=\"col-sm-9\">',\n",
       " '<input id=\"password\" type=\"password\" class=\"uui-form-element\">',\n",
       " '<span class=\"login-txt hidden\">',\n",
       " '<button type=\"submit\" class=\"uui-button dark-blue btn-login\" id=\"login-button\">',\n",
       " '<i class=\"fa fa-sign-in\">',\n",
       " '<div class=\"logout hidden\">',\n",
       " '<button type=\"submit\" class=\"uui-button dark-blue btn-login\">',\n",
       " '<i class=\"fa fa-sign-out\">',\n",
       " '<div class=\"search\">',\n",
       " '<span class=\"icon-search\">',\n",
       " '<div class=\"search-active hidden\">',\n",
       " '<span class=\"search-title\">',\n",
       " '<span class=\"icon-search active\" onclick=\"window.open(\\'search.html\\',\\'_self\\')\">',\n",
       " '<div class=\"search-field\">',\n",
       " '<input type=\"text\">',\n",
       " '<div class=\"wrapper\">',\n",
       " '<div name=\"navigation-sidebar\" class=\"uui-side-bar mCustomScrollbar _mCS_1 mCS_no_scrollbar\" style=\"max-height: inherit; display: block;\">',\n",
       " '<div id=\"mCSB_1\" class=\"mCustomScrollBox mCS-light mCSB_vertical mCSB_inside\" tabindex=\"0\">',\n",
       " '<div id=\"mCSB_1_container\" class=\"mCSB_container mCS_y_hidden mCS_no_scrollbar_y\" style=\"position:relative; top:0; left:0;\" dir=\"ltr\">',\n",
       " '<div id=\"mCSB_1\" class=\"mCustomScrollBox mCS-light mCSB_vertical mCSB_inside\" tabindex=\"0\" style=\"max-height: inherit;\">',\n",
       " '<div id=\"mCSB_1_container\" class=\"mCSB_container mCS_y_hidden mCS_no_scrollbar_y\" style=\"position:relative; top:0; left:0;\" dir=\"ltr\">',\n",
       " '<ul class=\"sidebar-menu\">',\n",
       " '<li ui=\"label\" index=\"1\" class=\"active\">',\n",
       " '<a href=\"index.html\">',\n",
       " '<li ui=\"label\" index=\"2\">',\n",
       " '<a href=\"contacts.html\">',\n",
       " '<li class=\"menu-title\" index=\"3\">',\n",
       " '<a ui=\"label\">',\n",
       " '<div class=\"fa fa-caret-down arrow\">',\n",
       " '<ul class=\"sub hide-menu\">',\n",
       " '<li ui=\"label\" index=\"1\">',\n",
       " '<a href=\"support.html\">',\n",
       " '<li ui=\"label\" index=\"2\">',\n",
       " '<a href=\"dates.html\">',\n",
       " '<li ui=\"label\" index=\"3\">',\n",
       " '<a href=\"complex-table.html\">',\n",
       " '<li ui=\"label\" index=\"4\">',\n",
       " '<a href=\"simple-table.html\">',\n",
       " '<li ui=\"label\" index=\"5\">',\n",
       " '<a href=\"search.html\">',\n",
       " '<li ui=\"label\" index=\"6\">',\n",
       " '<a href=\"user-table.html\">',\n",
       " '<li ui=\"label\" index=\"7\">',\n",
       " '<a href=\"table-pages.html\">',\n",
       " '<li ui=\"label\" index=\"8\">',\n",
       " '<a href=\"different-elements.html\">',\n",
       " '<li ui=\"label\" index=\"9\">',\n",
       " '<a href=\"performance.html\">',\n",
       " '<li ui=\"label\" index=\"4\">',\n",
       " '<a href=\"metals-colors.html\">',\n",
       " '<li class=\"menu-title\" index=\"5\">',\n",
       " '<a ui=\"label\">',\n",
       " '<div class=\"fa fa-caret-down arrow\">',\n",
       " '<ul class=\"sub hide-menu\">',\n",
       " '<li ui=\"label\" index=\"1\">',\n",
       " '<a href=\"html5.html\">',\n",
       " '<li ui=\"label\" index=\"2\">',\n",
       " '<a href=\"mobile-html5.html\">',\n",
       " '<li ui=\"label\" index=\"3\">',\n",
       " '<a href=\"bootstrap-new.html\">',\n",
       " '<li ui=\"label\" index=\"4\">',\n",
       " '<a href=\"bootstrap_form.html\">',\n",
       " '<li ui=\"label\" index=\"5\">',\n",
       " '<a href=\"bootstrap_forms.html\">',\n",
       " '<li ui=\"label\" index=\"6\">',\n",
       " '<a href=\"react-ant.html\">',\n",
       " '<li ui=\"label\" index=\"7\">',\n",
       " '<a href=\"angular.html\">',\n",
       " '<div id=\"mCSB_1_scrollbar_vertical\" class=\"mCSB_scrollTools mCSB_1_scrollbar mCS-light mCSB_scrollTools_vertical\" style=\"display: none;\">',\n",
       " '<div class=\"mCSB_draggerContainer\">',\n",
       " '<div id=\"mCSB_1_dragger_vertical\" class=\"mCSB_dragger\" style=\"position: absolute; min-height: 0px; top: 0px; height: 0px;\" oncontextmenu=\"return false;\">',\n",
       " '<div class=\"mCSB_dragger_bar\" style=\"line-height: 0px;\">',\n",
       " '<div class=\"mCSB_draggerRail\">',\n",
       " '<div id=\"mCSB_1_scrollbar_vertical\" class=\"mCSB_scrollTools mCSB_1_scrollbar mCS-light mCSB_scrollTools_vertical\">',\n",
       " '<div class=\"mCSB_draggerContainer\">',\n",
       " '<div id=\"mCSB_1_dragger_vertical\" class=\"mCSB_dragger\" style=\"position:absolute;\" oncontextmenu=\"return false;\">',\n",
       " '<div class=\"mCSB_dragger_bar\">',\n",
       " '<div class=\"mCSB_draggerRail\">',\n",
       " '<div class=\"uui-main-container\">',\n",
       " '<div class=\"pattern-top\">',\n",
       " '<div class=\"main-content\">',\n",
       " '<p class=\"main-txt text-center\" name=\"jdi-text\" ui=\"text\">',\n",
       " '<a ui=\"link\" href=\"https://github.com/epam/JDI\" target=\"_blank\">',\n",
       " '<iframe id=\"frame\" scrolling=\"no\" src=\"https://jdi-testing.github.io/jdi-light/frame-button.html\">',\n",
       " '<div id=\"frames\">',\n",
       " '<iframe id=\"first_frame\" scrolling=\"no\" src=\"https://jdi-testing.github.io/jdi-light/images/wolverin.jpg\">',\n",
       " '<iframe id=\"second_frame\" scrolling=\"no\" src=\"https://jdi-testing.github.io/jdi-light/frame-spiderman.html\">',\n",
       " '<iframe id=\"jdi-frame-site\" scrolling=\"no\" src=\"https://jdi-testing.github.io/jdi-light/index.html\">',\n",
       " '<div class=\"row clerafix benefits\">',\n",
       " '<div class=\"col-sm-3\">',\n",
       " '<div class=\"benefit\">',\n",
       " '<div class=\"benefit-icon\">',\n",
       " '<span class=\"icons-benefit icon-practise\">',\n",
       " '<span class=\"benefit-txt\">',\n",
       " '<div class=\"col-sm-3\">',\n",
       " '<div class=\"benefit\">',\n",
       " '<div class=\"benefit-icon\">',\n",
       " '<span class=\"icons-benefit icon-custom\">',\n",
       " '<span class=\"benefit-txt\">',\n",
       " '<div class=\"col-sm-3\">',\n",
       " '<div class=\"benefit\">',\n",
       " '<div class=\"benefit-icon\">',\n",
       " '<span class=\"icons-benefit icon-multi\">',\n",
       " '<span class=\"benefit-txt\">',\n",
       " '<div class=\"col-sm-3\">',\n",
       " '<div class=\"benefit\">',\n",
       " '<div class=\"benefit-icon\">',\n",
       " '<span class=\"icons-benefit icon-base\">',\n",
       " '<span class=\"benefit-txt\">',\n",
       " '<div class=\"footer-bg\">',\n",
       " '<div class=\"footer-content overflow\">',\n",
       " '<ul class=\"footer-menu\">',\n",
       " '<a href=\"support.html\" title=\"Tip title\">',\n",
       " '<a href=\"\">',\n",
       " '<script language=\"JavaScript\">']"
      ]
     },
     "execution_count": 7,
     "metadata": {},
     "output_type": "execute_result"
    }
   ],
   "source": [
    "re.findall('<[A-Za-z]+ [^<>]*>', driver.page_source)"
   ]
  },
  {
   "cell_type": "code",
   "execution_count": 8,
   "metadata": {},
   "outputs": [
    {
     "data": {
      "text/plain": [
       "[('span', False, '4c69f710-cbf6-407e-b22b-fe78225f7051'),\n",
       " ('span', True, '80fd4b23-768c-4b24-8f53-f03d863c24a2'),\n",
       " ('span', True, 'e42e36d1-4f59-433d-83cf-e1f608f1922e'),\n",
       " ('span', False, 'b086ef66-ece7-413f-b869-50e9fd3169f8'),\n",
       " ('span', True, '9e1fd09f-5650-40e0-af3a-f126d53d1d00'),\n",
       " ('span', False, 'f58bf9b0-45e5-4fd7-ad1e-80beeb332e6c'),\n",
       " ('span', False, '73b1763a-0c4f-4c84-9e85-9555d597e60d'),\n",
       " ('span', False, 'd52301ca-2329-497a-af70-53736e1e3917'),\n",
       " ('span', True, '8dbf55e8-6ce9-4c08-bb92-eb054c961874'),\n",
       " ('span', False, 'da675a59-18b2-42ef-9a68-a2690b3d7830'),\n",
       " ('span', False, 'cc39ab89-07b2-43a2-891e-73b15e9cf4bd'),\n",
       " ('span', True, '09b4c2f1-9ec3-4fa1-b3b1-ade2f228e158'),\n",
       " ('span', True, '4499a44c-2b04-4d33-a1fe-f0a7383d8388'),\n",
       " ('span', True, 'aaa32b7d-12ee-435d-8a81-e2853d48f562'),\n",
       " ('span', False, '0fb1a780-a8a5-4de5-88d3-2e391386587f'),\n",
       " ('span', False, '3cd65ecc-37e6-4a78-aef5-2656a449dc6b'),\n",
       " ('span', False, 'c2e878af-e22d-4c79-9b43-f8bfeca4d5fb'),\n",
       " ('span', False, '07e5041b-d455-40e9-bec4-e6794db2f811'),\n",
       " ('span', False, '49a6c9c6-99f5-421c-8332-d5969e758fa2'),\n",
       " ('span', False, 'b3192bac-50b7-426a-a808-ac0e83625065'),\n",
       " ('span', False, 'bfac69a0-cb5d-4439-9389-228173ec1a5d'),\n",
       " ('span', False, '3175f57f-749a-495c-9d46-51b2f279f248'),\n",
       " ('span', False, '5488c4d1-9dc0-4e3a-872c-eb6621f9f424'),\n",
       " ('span', True, '24e3c589-e84f-4c75-857a-746ade13f89e'),\n",
       " ('span', True, '89662df7-c095-42e5-8738-4bebb5e4ee4d'),\n",
       " ('span', False, 'b879b79e-a052-4c4d-8393-992d83e81f7d'),\n",
       " ('span', False, '8c2e008c-f1af-4989-83a4-36947144323b'),\n",
       " ('span', False, 'b63a7744-16bd-4ffc-84ab-ba0fd725f847'),\n",
       " ('span', False, '8d40efb3-942c-49fd-a653-530dd8391903'),\n",
       " ('span', False, 'e83bd5f4-a80f-4edb-ba43-386d53d0f9a1'),\n",
       " ('span', False, 'd32f124a-1b32-4e43-b9e8-f95858de4d3c'),\n",
       " ('span', False, '0bfb9e80-b919-49ff-a8be-a138ec85aaca'),\n",
       " ('span', True, 'c0adb74c-147f-47e5-ac2e-c16941a64076'),\n",
       " ('span', True, 'b77222d6-1d7d-4d44-a8de-1b186c59f0df'),\n",
       " ('span', True, '7b1e7524-0538-4efb-9874-91f5ec4b46b3'),\n",
       " ('span', True, '58a98c0b-aca0-483e-984b-23117309bb15'),\n",
       " ('span', True, '096e7248-cd0a-4c46-9a16-ea9482c989e4'),\n",
       " ('span', True, 'dd0fa3bd-22bb-4da1-b53e-97a2965980b3'),\n",
       " ('span', True, 'ce32e0e5-675b-4d8a-ad75-679067e39392'),\n",
       " ('span', True, 'd6b852b1-d18d-4c5a-b1a9-21a56eed29f5')]"
      ]
     },
     "execution_count": 8,
     "metadata": {},
     "output_type": "execute_result"
    }
   ],
   "source": [
    "[(e.tag_name, e.is_displayed(), e.id) for e in driver.find_elements_by_xpath('//*') if e.tag_name == 'span']"
   ]
  },
  {
   "cell_type": "code",
   "execution_count": 9,
   "metadata": {},
   "outputs": [],
   "source": [
    "e = [e for e in driver.find_elements_by_xpath('//*') if e.tag_name == 'span'][1]"
   ]
  },
  {
   "cell_type": "code",
   "execution_count": 10,
   "metadata": {},
   "outputs": [],
   "source": [
    "import io"
   ]
  },
  {
   "cell_type": "code",
   "execution_count": 11,
   "metadata": {},
   "outputs": [],
   "source": [
    "buf = io.BytesIO(e.screenshot_as_png)"
   ]
  },
  {
   "cell_type": "code",
   "execution_count": 12,
   "metadata": {},
   "outputs": [
    {
     "data": {
      "text/plain": [
       "<matplotlib.image.AxesImage at 0x1d1f2d08d88>"
      ]
     },
     "execution_count": 12,
     "metadata": {},
     "output_type": "execute_result"
    },
    {
     "data": {
      "image/png": "[encoded data removed]",
      "text/plain": [
       "<Figure size 432x288 with 1 Axes>"
      ]
     },
     "metadata": {
      "needs_background": "light"
     },
     "output_type": "display_data"
    }
   ],
   "source": [
    "plt.imshow(plt.imread(buf))"
   ]
  },
  {
   "cell_type": "code",
   "execution_count": null,
   "metadata": {},
   "outputs": [],
   "source": []
  },
  {
   "cell_type": "code",
   "execution_count": null,
   "metadata": {},
   "outputs": [],
   "source": []
  },
  {
   "cell_type": "code",
   "execution_count": 13,
   "metadata": {},
   "outputs": [],
   "source": [
    "driver.close()"
   ]
  },
  {
   "cell_type": "code",
   "execution_count": 14,
   "metadata": {},
   "outputs": [],
   "source": [
    "os.makedirs('dataset/images', exist_ok=True)\n",
    "os.makedirs('dataset/df', exist_ok=True)\n",
    "os.makedirs('dataset/annotations', exist_ok=True)\n",
    "os.makedirs('dataset/html', exist_ok=True)\n"
   ]
  },
  {
   "cell_type": "markdown",
   "metadata": {},
   "source": [
    "## Setup (init web driver, login)"
   ]
  },
  {
   "cell_type": "code",
   "execution_count": 15,
   "metadata": {},
   "outputs": [],
   "source": [
    "def setup_web_driver():\n",
    "    \n",
    "    options = Options()\n",
    "    options.add_argument('--headless')\n",
    "    options.add_argument('--disable-gpu')\n",
    "\n",
    "    CHROME_DRIVER_PATH = os.path.join(os.getcwd(), 'chromedriver.exe')\n",
    "    if os.path.exists(CHROME_DRIVER_PATH):\n",
    "        driver = selenium.webdriver.Chrome(executable_path=CHROME_DRIVER_PATH, options=options)\n",
    "        driver.get(SITE_ROOT)\n",
    "    \n",
    "    driver.find_element_by_id(\"user-icon\").click()\n",
    "    driver.find_element_by_id(\"name\").send_keys(LOGIN)\n",
    "    driver.find_element_by_id(\"password\").send_keys(PASSWORD)\n",
    "    driver.find_element_by_id(\"login-button\").click()\n",
    "    sleep(WAIT_TIME_SECONDS)\n",
    "        \n",
    "    return driver\n",
    "    "
   ]
  },
  {
   "cell_type": "code",
   "execution_count": 16,
   "metadata": {},
   "outputs": [
    {
     "name": "stdout",
     "output_type": "stream",
     "text": [
      "2021-02-27 01:27:53,219 - INFO - common:common.py:82 - Window maximized\n",
      "Number of discovered elements: 228\n"
     ]
    },
    {
     "data": {
      "application/vnd.jupyter.widget-view+json": {
       "model_id": "8a1917cbe7e04ae49bd088daaee72bd4",
       "version_major": 2,
       "version_minor": 0
      },
      "text/plain": [
       "  0%|          | 0/228 [00:00<?, ?it/s]"
      ]
     },
     "metadata": {},
     "output_type": "display_data"
    },
    {
     "data": {
      "text/html": [
       "<div>\n",
       "<style scoped>\n",
       "    .dataframe tbody tr th:only-of-type {\n",
       "        vertical-align: middle;\n",
       "    }\n",
       "\n",
       "    .dataframe tbody tr th {\n",
       "        vertical-align: top;\n",
       "    }\n",
       "\n",
       "    .dataframe thead th {\n",
       "        text-align: right;\n",
       "    }\n",
       "</style>\n",
       "<table border=\"1\" class=\"dataframe\">\n",
       "  <thead>\n",
       "    <tr style=\"text-align: right;\">\n",
       "      <th></th>\n",
       "      <th>parent_id</th>\n",
       "      <th>element_id</th>\n",
       "      <th>tag_name</th>\n",
       "      <th>x</th>\n",
       "      <th>y</th>\n",
       "      <th>height</th>\n",
       "      <th>width</th>\n",
       "      <th>displayed</th>\n",
       "      <th>enabled</th>\n",
       "      <th>selected</th>\n",
       "      <th>text</th>\n",
       "      <th>is_hover</th>\n",
       "      <th>base64png_before_hover</th>\n",
       "      <th>base64png_after_hover</th>\n",
       "      <th>attr_class</th>\n",
       "      <th>attr_onclick</th>\n",
       "      <th>attr_type</th>\n",
       "      <th>attr_role</th>\n",
       "      <th>attr_id</th>\n",
       "    </tr>\n",
       "  </thead>\n",
       "  <tbody>\n",
       "    <tr>\n",
       "      <th>0</th>\n",
       "      <td>None</td>\n",
       "      <td>329aede5-0265-4760-86c7-009b76c67f4c</td>\n",
       "      <td>html</td>\n",
       "      <td>0</td>\n",
       "      <td>0</td>\n",
       "      <td>1319</td>\n",
       "      <td>1183</td>\n",
       "      <td>True</td>\n",
       "      <td>True</td>\n",
       "      <td>False</td>\n",
       "      <td>None</td>\n",
       "      <td>False</td>\n",
       "      <td>None</td>\n",
       "      <td>None</td>\n",
       "      <td></td>\n",
       "      <td>None</td>\n",
       "      <td>None</td>\n",
       "      <td>None</td>\n",
       "      <td></td>\n",
       "    </tr>\n",
       "    <tr>\n",
       "      <th>1</th>\n",
       "      <td>329aede5-0265-4760-86c7-009b76c67f4c</td>\n",
       "      <td>68aaf57a-440d-44de-b050-91842f290b28</td>\n",
       "      <td>head</td>\n",
       "      <td>17</td>\n",
       "      <td>0</td>\n",
       "      <td>0</td>\n",
       "      <td>0</td>\n",
       "      <td>False</td>\n",
       "      <td>True</td>\n",
       "      <td>False</td>\n",
       "      <td>None</td>\n",
       "      <td>False</td>\n",
       "      <td>None</td>\n",
       "      <td>None</td>\n",
       "      <td></td>\n",
       "      <td>None</td>\n",
       "      <td>None</td>\n",
       "      <td>None</td>\n",
       "      <td></td>\n",
       "    </tr>\n",
       "    <tr>\n",
       "      <th>2</th>\n",
       "      <td>68aaf57a-440d-44de-b050-91842f290b28</td>\n",
       "      <td>bd106201-353f-44d4-ad40-6d3cf8f1d74b</td>\n",
       "      <td>meta</td>\n",
       "      <td>17</td>\n",
       "      <td>0</td>\n",
       "      <td>0</td>\n",
       "      <td>0</td>\n",
       "      <td>False</td>\n",
       "      <td>True</td>\n",
       "      <td>False</td>\n",
       "      <td>None</td>\n",
       "      <td>False</td>\n",
       "      <td>None</td>\n",
       "      <td>None</td>\n",
       "      <td></td>\n",
       "      <td>None</td>\n",
       "      <td>None</td>\n",
       "      <td>None</td>\n",
       "      <td></td>\n",
       "    </tr>\n",
       "    <tr>\n",
       "      <th>3</th>\n",
       "      <td>68aaf57a-440d-44de-b050-91842f290b28</td>\n",
       "      <td>1a59bbfe-9af4-42d3-8fd8-5e6510882561</td>\n",
       "      <td>title</td>\n",
       "      <td>17</td>\n",
       "      <td>0</td>\n",
       "      <td>0</td>\n",
       "      <td>0</td>\n",
       "      <td>False</td>\n",
       "      <td>True</td>\n",
       "      <td>False</td>\n",
       "      <td>Home Page</td>\n",
       "      <td>False</td>\n",
       "      <td>None</td>\n",
       "      <td>None</td>\n",
       "      <td></td>\n",
       "      <td>None</td>\n",
       "      <td>None</td>\n",
       "      <td>None</td>\n",
       "      <td></td>\n",
       "    </tr>\n",
       "    <tr>\n",
       "      <th>4</th>\n",
       "      <td>68aaf57a-440d-44de-b050-91842f290b28</td>\n",
       "      <td>408292cb-238b-494a-ac56-0d6c51414172</td>\n",
       "      <td>meta</td>\n",
       "      <td>17</td>\n",
       "      <td>0</td>\n",
       "      <td>0</td>\n",
       "      <td>0</td>\n",
       "      <td>False</td>\n",
       "      <td>True</td>\n",
       "      <td>False</td>\n",
       "      <td>None</td>\n",
       "      <td>False</td>\n",
       "      <td>None</td>\n",
       "      <td>None</td>\n",
       "      <td></td>\n",
       "      <td>None</td>\n",
       "      <td>None</td>\n",
       "      <td>None</td>\n",
       "      <td></td>\n",
       "    </tr>\n",
       "    <tr>\n",
       "      <th>...</th>\n",
       "      <td>...</td>\n",
       "      <td>...</td>\n",
       "      <td>...</td>\n",
       "      <td>...</td>\n",
       "      <td>...</td>\n",
       "      <td>...</td>\n",
       "      <td>...</td>\n",
       "      <td>...</td>\n",
       "      <td>...</td>\n",
       "      <td>...</td>\n",
       "      <td>...</td>\n",
       "      <td>...</td>\n",
       "      <td>...</td>\n",
       "      <td>...</td>\n",
       "      <td>...</td>\n",
       "      <td>...</td>\n",
       "      <td>...</td>\n",
       "      <td>...</td>\n",
       "      <td>...</td>\n",
       "    </tr>\n",
       "    <tr>\n",
       "      <th>223</th>\n",
       "      <td>d344972a-c06c-40fb-bcec-7b35237b2965</td>\n",
       "      <td>55f584ff-9748-4fa8-a42a-1f66700d8e07</td>\n",
       "      <td>li</td>\n",
       "      <td>1098</td>\n",
       "      <td>1297</td>\n",
       "      <td>15</td>\n",
       "      <td>3</td>\n",
       "      <td>True</td>\n",
       "      <td>True</td>\n",
       "      <td>False</td>\n",
       "      <td>None</td>\n",
       "      <td>False</td>\n",
       "      <td>iVBORw0KGgoAAAANSUhEUgAAAAMAAAAPCAYAAAAh6nXEAA...</td>\n",
       "      <td>iVBORw0KGgoAAAANSUhEUgAAAAMAAAAPCAYAAAAh6nXEAA...</td>\n",
       "      <td></td>\n",
       "      <td>None</td>\n",
       "      <td></td>\n",
       "      <td>None</td>\n",
       "      <td></td>\n",
       "    </tr>\n",
       "    <tr>\n",
       "      <th>224</th>\n",
       "      <td>d344972a-c06c-40fb-bcec-7b35237b2965</td>\n",
       "      <td>0130a563-a022-44cf-8997-1f2042e1ef39</td>\n",
       "      <td>li</td>\n",
       "      <td>1116</td>\n",
       "      <td>1297</td>\n",
       "      <td>15</td>\n",
       "      <td>64</td>\n",
       "      <td>True</td>\n",
       "      <td>True</td>\n",
       "      <td>False</td>\n",
       "      <td>None</td>\n",
       "      <td>True</td>\n",
       "      <td>iVBORw0KGgoAAAANSUhEUgAAAEAAAAAPCAYAAABUZ8lnAA...</td>\n",
       "      <td>iVBORw0KGgoAAAANSUhEUgAAAEAAAAAPCAYAAABUZ8lnAA...</td>\n",
       "      <td></td>\n",
       "      <td>None</td>\n",
       "      <td></td>\n",
       "      <td>None</td>\n",
       "      <td></td>\n",
       "    </tr>\n",
       "    <tr>\n",
       "      <th>225</th>\n",
       "      <td>0130a563-a022-44cf-8997-1f2042e1ef39</td>\n",
       "      <td>6394d73b-13e1-4520-b7c0-d8ef698c1ed7</td>\n",
       "      <td>a</td>\n",
       "      <td>1116</td>\n",
       "      <td>1297</td>\n",
       "      <td>15</td>\n",
       "      <td>64</td>\n",
       "      <td>True</td>\n",
       "      <td>True</td>\n",
       "      <td>False</td>\n",
       "      <td>Report a bug</td>\n",
       "      <td>True</td>\n",
       "      <td>iVBORw0KGgoAAAANSUhEUgAAAEAAAAAPCAYAAABUZ8lnAA...</td>\n",
       "      <td>iVBORw0KGgoAAAANSUhEUgAAAEAAAAAPCAYAAABUZ8lnAA...</td>\n",
       "      <td></td>\n",
       "      <td>None</td>\n",
       "      <td></td>\n",
       "      <td>None</td>\n",
       "      <td></td>\n",
       "    </tr>\n",
       "    <tr>\n",
       "      <th>226</th>\n",
       "      <td>df94bd83-e8a5-4ba5-91b9-cc640851f14c</td>\n",
       "      <td>86329608-7ef0-4120-834e-772be97c66c2</td>\n",
       "      <td>script</td>\n",
       "      <td>17</td>\n",
       "      <td>17</td>\n",
       "      <td>18</td>\n",
       "      <td>223</td>\n",
       "      <td>False</td>\n",
       "      <td>True</td>\n",
       "      <td>False</td>\n",
       "      <td>\\n        UUI.Vertical_Menu.init({\"open\": true...</td>\n",
       "      <td>False</td>\n",
       "      <td>None</td>\n",
       "      <td>None</td>\n",
       "      <td></td>\n",
       "      <td>None</td>\n",
       "      <td></td>\n",
       "      <td>None</td>\n",
       "      <td></td>\n",
       "    </tr>\n",
       "    <tr>\n",
       "      <th>227</th>\n",
       "      <td>df94bd83-e8a5-4ba5-91b9-cc640851f14c</td>\n",
       "      <td>395dda61-3773-4452-ad0c-1ce768beaf70</td>\n",
       "      <td>script</td>\n",
       "      <td>17</td>\n",
       "      <td>17</td>\n",
       "      <td>18</td>\n",
       "      <td>239</td>\n",
       "      <td>False</td>\n",
       "      <td>True</td>\n",
       "      <td>False</td>\n",
       "      <td>\\n\\t\\tincludeSideBar();\\n\\t\\tactivateTopElemen...</td>\n",
       "      <td>False</td>\n",
       "      <td>None</td>\n",
       "      <td>None</td>\n",
       "      <td></td>\n",
       "      <td>None</td>\n",
       "      <td></td>\n",
       "      <td>None</td>\n",
       "      <td></td>\n",
       "    </tr>\n",
       "  </tbody>\n",
       "</table>\n",
       "<p>228 rows × 19 columns</p>\n",
       "</div>"
      ],
      "text/plain": [
       "                                parent_id  \\\n",
       "0                                    None   \n",
       "1    329aede5-0265-4760-86c7-009b76c67f4c   \n",
       "2    68aaf57a-440d-44de-b050-91842f290b28   \n",
       "3    68aaf57a-440d-44de-b050-91842f290b28   \n",
       "4    68aaf57a-440d-44de-b050-91842f290b28   \n",
       "..                                    ...   \n",
       "223  d344972a-c06c-40fb-bcec-7b35237b2965   \n",
       "224  d344972a-c06c-40fb-bcec-7b35237b2965   \n",
       "225  0130a563-a022-44cf-8997-1f2042e1ef39   \n",
       "226  df94bd83-e8a5-4ba5-91b9-cc640851f14c   \n",
       "227  df94bd83-e8a5-4ba5-91b9-cc640851f14c   \n",
       "\n",
       "                               element_id tag_name     x     y  height  width  \\\n",
       "0    329aede5-0265-4760-86c7-009b76c67f4c     html     0     0    1319   1183   \n",
       "1    68aaf57a-440d-44de-b050-91842f290b28     head    17     0       0      0   \n",
       "2    bd106201-353f-44d4-ad40-6d3cf8f1d74b     meta    17     0       0      0   \n",
       "3    1a59bbfe-9af4-42d3-8fd8-5e6510882561    title    17     0       0      0   \n",
       "4    408292cb-238b-494a-ac56-0d6c51414172     meta    17     0       0      0   \n",
       "..                                    ...      ...   ...   ...     ...    ...   \n",
       "223  55f584ff-9748-4fa8-a42a-1f66700d8e07       li  1098  1297      15      3   \n",
       "224  0130a563-a022-44cf-8997-1f2042e1ef39       li  1116  1297      15     64   \n",
       "225  6394d73b-13e1-4520-b7c0-d8ef698c1ed7        a  1116  1297      15     64   \n",
       "226  86329608-7ef0-4120-834e-772be97c66c2   script    17    17      18    223   \n",
       "227  395dda61-3773-4452-ad0c-1ce768beaf70   script    17    17      18    239   \n",
       "\n",
       "     displayed  enabled  selected  \\\n",
       "0         True     True     False   \n",
       "1        False     True     False   \n",
       "2        False     True     False   \n",
       "3        False     True     False   \n",
       "4        False     True     False   \n",
       "..         ...      ...       ...   \n",
       "223       True     True     False   \n",
       "224       True     True     False   \n",
       "225       True     True     False   \n",
       "226      False     True     False   \n",
       "227      False     True     False   \n",
       "\n",
       "                                                  text  is_hover  \\\n",
       "0                                                 None     False   \n",
       "1                                                 None     False   \n",
       "2                                                 None     False   \n",
       "3                                            Home Page     False   \n",
       "4                                                 None     False   \n",
       "..                                                 ...       ...   \n",
       "223                                               None     False   \n",
       "224                                               None      True   \n",
       "225                                       Report a bug      True   \n",
       "226  \\n        UUI.Vertical_Menu.init({\"open\": true...     False   \n",
       "227  \\n\\t\\tincludeSideBar();\\n\\t\\tactivateTopElemen...     False   \n",
       "\n",
       "                                base64png_before_hover  \\\n",
       "0                                                 None   \n",
       "1                                                 None   \n",
       "2                                                 None   \n",
       "3                                                 None   \n",
       "4                                                 None   \n",
       "..                                                 ...   \n",
       "223  iVBORw0KGgoAAAANSUhEUgAAAAMAAAAPCAYAAAAh6nXEAA...   \n",
       "224  iVBORw0KGgoAAAANSUhEUgAAAEAAAAAPCAYAAABUZ8lnAA...   \n",
       "225  iVBORw0KGgoAAAANSUhEUgAAAEAAAAAPCAYAAABUZ8lnAA...   \n",
       "226                                               None   \n",
       "227                                               None   \n",
       "\n",
       "                                 base64png_after_hover attr_class  \\\n",
       "0                                                 None              \n",
       "1                                                 None              \n",
       "2                                                 None              \n",
       "3                                                 None              \n",
       "4                                                 None              \n",
       "..                                                 ...        ...   \n",
       "223  iVBORw0KGgoAAAANSUhEUgAAAAMAAAAPCAYAAAAh6nXEAA...              \n",
       "224  iVBORw0KGgoAAAANSUhEUgAAAEAAAAAPCAYAAABUZ8lnAA...              \n",
       "225  iVBORw0KGgoAAAANSUhEUgAAAEAAAAAPCAYAAABUZ8lnAA...              \n",
       "226                                               None              \n",
       "227                                               None              \n",
       "\n",
       "    attr_onclick attr_type attr_role attr_id  \n",
       "0           None      None      None          \n",
       "1           None      None      None          \n",
       "2           None      None      None          \n",
       "3           None      None      None          \n",
       "4           None      None      None          \n",
       "..           ...       ...       ...     ...  \n",
       "223         None                None          \n",
       "224         None                None          \n",
       "225         None                None          \n",
       "226         None                None          \n",
       "227         None                None          \n",
       "\n",
       "[228 rows x 19 columns]"
      ]
     },
     "metadata": {},
     "output_type": "display_data"
    },
    {
     "data": {
      "image/png": "[encoded data removed]",
      "text/plain": [
       "<Figure size 432x288 with 1 Axes>"
      ]
     },
     "metadata": {
      "needs_background": "light"
     },
     "output_type": "display_data"
    }
   ],
   "source": [
    "with setup_web_driver() as driver:\n",
    "    maximize_window(driver=driver)\n",
    "    plt.imshow(screenshot(driver, save_to_file='dataset/images/login.png'))\n",
    "    elements_df = get_all_elements(driver=driver)\n",
    "    elements_df.to_parquet('dataset/df/login.parquet')\n",
    "    with open('dataset/html/login.html', 'w') as f:\n",
    "        f.write(driver.page_source)\n",
    "        f.flush()\n",
    "    \n",
    "    \n",
    "display(elements_df)\n"
   ]
  },
  {
   "cell_type": "code",
   "execution_count": 22,
   "metadata": {},
   "outputs": [],
   "source": [
    "tree_dict = build_tree_dict(elements_df)\n",
    "tag_name_dict = dict(zip(elements_df.element_id.values, elements_df.tag_name))\n",
    "width_dict = dict(zip(elements_df.element_id.values, elements_df.width))\n",
    "height_dict = dict(zip(elements_df.element_id.values, elements_df.height))\n"
   ]
  },
  {
   "cell_type": "code",
   "execution_count": 25,
   "metadata": {},
   "outputs": [
    {
     "name": "stdout",
     "output_type": "stream",
     "text": [
      "\n",
      "html:1183:1319\n",
      "head:0:0/html:1183:1319\n",
      "head:0:0/html:1183:1319\n",
      "head:0:0/html:1183:1319\n",
      "head:0:0/html:1183:1319\n",
      "head:0:0/html:1183:1319\n",
      "head:0:0/html:1183:1319\n",
      "head:0:0/html:1183:1319\n",
      "head:0:0/html:1183:1319\n",
      "head:0:0/html:1183:1319\n",
      "head:0:0/html:1183:1319\n",
      "head:0:0/html:1183:1319\n",
      "head:0:0/html:1183:1319\n",
      "head:0:0/html:1183:1319\n",
      "head:0:0/html:1183:1319\n",
      "head:0:0/html:1183:1319\n",
      "html:1183:1319\n",
      "body:1200:1336/html:1183:1319\n",
      "header:1200:60/body:1200:1336/html:1183:1319\n",
      "div:1200:60/header:1200:60/body:1200:1336/html:1183:1319\n",
      "nav:1200:0/div:1200:60/header:1200:60/body:1200:1336/html:1183:1319\n",
      "div:60:60/nav:1200:0/div:1200:60/header:1200:60/body:1200:1336/html:1183:1319\n",
      "div:0:0/div:60:60/nav:1200:0/div:1200:60/header:1200:60/body:1200:1336/html:1183:1319\n",
      "nav:1200:0/div:1200:60/header:1200:60/body:1200:1336/html:1183:1319\n",
      "div:215:60/nav:1200:0/div:1200:60/header:1200:60/body:1200:1336/html:1183:1319\n",
      "a:86:18/div:215:60/nav:1200:0/div:1200:60/header:1200:60/body:1200:1336/html:1183:1319\n",
      "span:77:24/a:86:18/div:215:60/nav:1200:0/div:1200:60/header:1200:60/body:1200:1336/html:1183:1319\n",
      "a:86:18/div:215:60/nav:1200:0/div:1200:60/header:1200:60/body:1200:1336/html:1183:1319\n",
      "nav:1200:0/div:1200:60/header:1200:60/body:1200:1336/html:1183:1319\n",
      "ul:420:60/nav:1200:0/div:1200:60/header:1200:60/body:1200:1336/html:1183:1319\n",
      "li:65:60/ul:420:60/nav:1200:0/div:1200:60/header:1200:60/body:1200:1336/html:1183:1319\n",
      "ul:420:60/nav:1200:0/div:1200:60/header:1200:60/body:1200:1336/html:1183:1319\n",
      "li:121:60/ul:420:60/nav:1200:0/div:1200:60/header:1200:60/body:1200:1336/html:1183:1319\n",
      "ul:420:60/nav:1200:0/div:1200:60/header:1200:60/body:1200:1336/html:1183:1319\n",
      "li:94:60/ul:420:60/nav:1200:0/div:1200:60/header:1200:60/body:1200:1336/html:1183:1319\n",
      "a:94:60/li:94:60/ul:420:60/nav:1200:0/div:1200:60/header:1200:60/body:1200:1336/html:1183:1319\n",
      "li:94:60/ul:420:60/nav:1200:0/div:1200:60/header:1200:60/body:1200:1336/html:1183:1319\n",
      "ul:242:368/li:94:60/ul:420:60/nav:1200:0/div:1200:60/header:1200:60/body:1200:1336/html:1183:1319\n",
      "li:0:0/ul:242:368/li:94:60/ul:420:60/nav:1200:0/div:1200:60/header:1200:60/body:1200:1336/html:1183:1319\n",
      "ul:242:368/li:94:60/ul:420:60/nav:1200:0/div:1200:60/header:1200:60/body:1200:1336/html:1183:1319\n",
      "li:0:0/ul:242:368/li:94:60/ul:420:60/nav:1200:0/div:1200:60/header:1200:60/body:1200:1336/html:1183:1319\n",
      "ul:242:368/li:94:60/ul:420:60/nav:1200:0/div:1200:60/header:1200:60/body:1200:1336/html:1183:1319\n",
      "li:0:0/ul:242:368/li:94:60/ul:420:60/nav:1200:0/div:1200:60/header:1200:60/body:1200:1336/html:1183:1319\n",
      "ul:242:368/li:94:60/ul:420:60/nav:1200:0/div:1200:60/header:1200:60/body:1200:1336/html:1183:1319\n",
      "li:0:0/ul:242:368/li:94:60/ul:420:60/nav:1200:0/div:1200:60/header:1200:60/body:1200:1336/html:1183:1319\n",
      "ul:242:368/li:94:60/ul:420:60/nav:1200:0/div:1200:60/header:1200:60/body:1200:1336/html:1183:1319\n",
      "li:0:0/ul:242:368/li:94:60/ul:420:60/nav:1200:0/div:1200:60/header:1200:60/body:1200:1336/html:1183:1319\n",
      "ul:242:368/li:94:60/ul:420:60/nav:1200:0/div:1200:60/header:1200:60/body:1200:1336/html:1183:1319\n",
      "li:0:0/ul:242:368/li:94:60/ul:420:60/nav:1200:0/div:1200:60/header:1200:60/body:1200:1336/html:1183:1319\n",
      "ul:242:368/li:94:60/ul:420:60/nav:1200:0/div:1200:60/header:1200:60/body:1200:1336/html:1183:1319\n",
      "li:0:0/ul:242:368/li:94:60/ul:420:60/nav:1200:0/div:1200:60/header:1200:60/body:1200:1336/html:1183:1319\n",
      "ul:242:368/li:94:60/ul:420:60/nav:1200:0/div:1200:60/header:1200:60/body:1200:1336/html:1183:1319\n",
      "li:0:0/ul:242:368/li:94:60/ul:420:60/nav:1200:0/div:1200:60/header:1200:60/body:1200:1336/html:1183:1319\n",
      "ul:242:368/li:94:60/ul:420:60/nav:1200:0/div:1200:60/header:1200:60/body:1200:1336/html:1183:1319\n",
      "li:0:0/ul:242:368/li:94:60/ul:420:60/nav:1200:0/div:1200:60/header:1200:60/body:1200:1336/html:1183:1319\n",
      "ul:420:60/nav:1200:0/div:1200:60/header:1200:60/body:1200:1336/html:1183:1319\n",
      "li:140:60/ul:420:60/nav:1200:0/div:1200:60/header:1200:60/body:1200:1336/html:1183:1319\n",
      "nav:1200:0/div:1200:60/header:1200:60/body:1200:1336/html:1183:1319\n",
      "ul:165:60/nav:1200:0/div:1200:60/header:1200:60/body:1200:1336/html:1183:1319\n",
      "li:165:60/ul:165:60/nav:1200:0/div:1200:60/header:1200:60/body:1200:1336/html:1183:1319\n",
      "a:40:20/li:165:60/ul:165:60/nav:1200:0/div:1200:60/header:1200:60/body:1200:1336/html:1183:1319\n",
      "div:120:60/a:40:20/li:165:60/ul:165:60/nav:1200:0/div:1200:60/header:1200:60/body:1200:1336/html:1183:1319\n",
      "div:120:60/a:40:20/li:165:60/ul:165:60/nav:1200:0/div:1200:60/header:1200:60/body:1200:1336/html:1183:1319\n",
      "a:40:20/li:165:60/ul:165:60/nav:1200:0/div:1200:60/header:1200:60/body:1200:1336/html:1183:1319\n",
      "li:165:60/ul:165:60/nav:1200:0/div:1200:60/header:1200:60/body:1200:1336/html:1183:1319\n",
      "div:220:34/li:165:60/ul:165:60/nav:1200:0/div:1200:60/header:1200:60/body:1200:1336/html:1183:1319\n",
      "form:0:0/div:220:34/li:165:60/ul:165:60/nav:1200:0/div:1200:60/header:1200:60/body:1200:1336/html:1183:1319\n",
      "div:0:0/form:0:0/div:220:34/li:165:60/ul:165:60/nav:1200:0/div:1200:60/header:1200:60/body:1200:1336/html:1183:1319\n",
      "div:0:0/div:0:0/form:0:0/div:220:34/li:165:60/ul:165:60/nav:1200:0/div:1200:60/header:1200:60/body:1200:1336/html:1183:1319\n",
      "div:0:0/div:0:0/form:0:0/div:220:34/li:165:60/ul:165:60/nav:1200:0/div:1200:60/header:1200:60/body:1200:1336/html:1183:1319\n",
      "div:0:0/div:0:0/div:0:0/form:0:0/div:220:34/li:165:60/ul:165:60/nav:1200:0/div:1200:60/header:1200:60/body:1200:1336/html:1183:1319\n",
      "div:0:0/form:0:0/div:220:34/li:165:60/ul:165:60/nav:1200:0/div:1200:60/header:1200:60/body:1200:1336/html:1183:1319\n",
      "div:0:0/div:0:0/form:0:0/div:220:34/li:165:60/ul:165:60/nav:1200:0/div:1200:60/header:1200:60/body:1200:1336/html:1183:1319\n",
      "div:0:0/div:0:0/form:0:0/div:220:34/li:165:60/ul:165:60/nav:1200:0/div:1200:60/header:1200:60/body:1200:1336/html:1183:1319\n",
      "div:0:0/div:0:0/div:0:0/form:0:0/div:220:34/li:165:60/ul:165:60/nav:1200:0/div:1200:60/header:1200:60/body:1200:1336/html:1183:1319\n",
      "div:0:0/form:0:0/div:220:34/li:165:60/ul:165:60/nav:1200:0/div:1200:60/header:1200:60/body:1200:1336/html:1183:1319\n",
      "form:0:0/div:220:34/li:165:60/ul:165:60/nav:1200:0/div:1200:60/header:1200:60/body:1200:1336/html:1183:1319\n",
      "button:0:0/form:0:0/div:220:34/li:165:60/ul:165:60/nav:1200:0/div:1200:60/header:1200:60/body:1200:1336/html:1183:1319\n",
      "button:0:0/form:0:0/div:220:34/li:165:60/ul:165:60/nav:1200:0/div:1200:60/header:1200:60/body:1200:1336/html:1183:1319\n",
      "div:220:34/li:165:60/ul:165:60/nav:1200:0/div:1200:60/header:1200:60/body:1200:1336/html:1183:1319\n",
      "div:220:34/div:220:34/li:165:60/ul:165:60/nav:1200:0/div:1200:60/header:1200:60/body:1200:1336/html:1183:1319\n",
      "button:220:34/div:220:34/div:220:34/li:165:60/ul:165:60/nav:1200:0/div:1200:60/header:1200:60/body:1200:1336/html:1183:1319\n",
      "button:220:34/div:220:34/div:220:34/li:165:60/ul:165:60/nav:1200:0/div:1200:60/header:1200:60/body:1200:1336/html:1183:1319\n",
      "nav:1200:0/div:1200:60/header:1200:60/body:1200:1336/html:1183:1319\n",
      "div:35:40/nav:1200:0/div:1200:60/header:1200:60/body:1200:1336/html:1183:1319\n",
      "div:35:40/nav:1200:0/div:1200:60/header:1200:60/body:1200:1336/html:1183:1319\n",
      "div:0:0/div:35:40/nav:1200:0/div:1200:60/header:1200:60/body:1200:1336/html:1183:1319\n",
      "div:0:0/div:35:40/nav:1200:0/div:1200:60/header:1200:60/body:1200:1336/html:1183:1319\n",
      "div:0:0/div:35:40/nav:1200:0/div:1200:60/header:1200:60/body:1200:1336/html:1183:1319\n",
      "div:0:0/div:0:0/div:35:40/nav:1200:0/div:1200:60/header:1200:60/body:1200:1336/html:1183:1319\n",
      "body:1200:1336/html:1183:1319\n",
      "div:1200:1212/body:1200:1336/html:1183:1319\n",
      "div:200:1212/div:1200:1212/body:1200:1336/html:1183:1319\n",
      "div:200:1212/div:200:1212/div:1200:1212/body:1200:1336/html:1183:1319\n",
      "div:200:213/div:200:1212/div:200:1212/div:1200:1212/body:1200:1336/html:1183:1319\n",
      "div:200:213/div:200:213/div:200:1212/div:200:1212/div:1200:1212/body:1200:1336/html:1183:1319\n",
      "div:200:213/div:200:213/div:200:213/div:200:1212/div:200:1212/div:1200:1212/body:1200:1336/html:1183:1319\n",
      "ul:200:203/div:200:213/div:200:213/div:200:213/div:200:1212/div:200:1212/div:1200:1212/body:1200:1336/html:1183:1319\n",
      "li:200:39/ul:200:203/div:200:213/div:200:213/div:200:213/div:200:1212/div:200:1212/div:1200:1212/body:1200:1336/html:1183:1319\n",
      "a:200:39/li:200:39/ul:200:203/div:200:213/div:200:213/div:200:213/div:200:1212/div:200:1212/div:1200:1212/body:1200:1336/html:1183:1319\n",
      "ul:200:203/div:200:213/div:200:213/div:200:213/div:200:1212/div:200:1212/div:1200:1212/body:1200:1336/html:1183:1319\n",
      "li:200:39/ul:200:203/div:200:213/div:200:213/div:200:213/div:200:1212/div:200:1212/div:1200:1212/body:1200:1336/html:1183:1319\n",
      "a:200:39/li:200:39/ul:200:203/div:200:213/div:200:213/div:200:213/div:200:1212/div:200:1212/div:1200:1212/body:1200:1336/html:1183:1319\n",
      "ul:200:203/div:200:213/div:200:213/div:200:213/div:200:1212/div:200:1212/div:1200:1212/body:1200:1336/html:1183:1319\n",
      "li:200:39/ul:200:203/div:200:213/div:200:213/div:200:213/div:200:1212/div:200:1212/div:1200:1212/body:1200:1336/html:1183:1319\n",
      "a:200:39/li:200:39/ul:200:203/div:200:213/div:200:213/div:200:213/div:200:1212/div:200:1212/div:1200:1212/body:1200:1336/html:1183:1319\n",
      "a:200:39/li:200:39/ul:200:203/div:200:213/div:200:213/div:200:213/div:200:1212/div:200:1212/div:1200:1212/body:1200:1336/html:1183:1319\n",
      "li:200:39/ul:200:203/div:200:213/div:200:213/div:200:213/div:200:1212/div:200:1212/div:1200:1212/body:1200:1336/html:1183:1319\n",
      "ul:0:0/li:200:39/ul:200:203/div:200:213/div:200:213/div:200:213/div:200:1212/div:200:1212/div:1200:1212/body:1200:1336/html:1183:1319\n",
      "li:0:0/ul:0:0/li:200:39/ul:200:203/div:200:213/div:200:213/div:200:213/div:200:1212/div:200:1212/div:1200:1212/body:1200:1336/html:1183:1319\n",
      "a:0:0/li:0:0/ul:0:0/li:200:39/ul:200:203/div:200:213/div:200:213/div:200:213/div:200:1212/div:200:1212/div:1200:1212/body:1200:1336/html:1183:1319\n",
      "p:0:0/a:0:0/li:0:0/ul:0:0/li:200:39/ul:200:203/div:200:213/div:200:213/div:200:213/div:200:1212/div:200:1212/div:1200:1212/body:1200:1336/html:1183:1319\n",
      "ul:0:0/li:200:39/ul:200:203/div:200:213/div:200:213/div:200:213/div:200:1212/div:200:1212/div:1200:1212/body:1200:1336/html:1183:1319\n",
      "li:0:0/ul:0:0/li:200:39/ul:200:203/div:200:213/div:200:213/div:200:213/div:200:1212/div:200:1212/div:1200:1212/body:1200:1336/html:1183:1319\n",
      "a:0:0/li:0:0/ul:0:0/li:200:39/ul:200:203/div:200:213/div:200:213/div:200:213/div:200:1212/div:200:1212/div:1200:1212/body:1200:1336/html:1183:1319\n",
      "ul:0:0/li:200:39/ul:200:203/div:200:213/div:200:213/div:200:213/div:200:1212/div:200:1212/div:1200:1212/body:1200:1336/html:1183:1319\n",
      "li:0:0/ul:0:0/li:200:39/ul:200:203/div:200:213/div:200:213/div:200:213/div:200:1212/div:200:1212/div:1200:1212/body:1200:1336/html:1183:1319\n",
      "a:0:0/li:0:0/ul:0:0/li:200:39/ul:200:203/div:200:213/div:200:213/div:200:213/div:200:1212/div:200:1212/div:1200:1212/body:1200:1336/html:1183:1319\n",
      "ul:0:0/li:200:39/ul:200:203/div:200:213/div:200:213/div:200:213/div:200:1212/div:200:1212/div:1200:1212/body:1200:1336/html:1183:1319\n",
      "li:0:0/ul:0:0/li:200:39/ul:200:203/div:200:213/div:200:213/div:200:213/div:200:1212/div:200:1212/div:1200:1212/body:1200:1336/html:1183:1319\n",
      "a:0:0/li:0:0/ul:0:0/li:200:39/ul:200:203/div:200:213/div:200:213/div:200:213/div:200:1212/div:200:1212/div:1200:1212/body:1200:1336/html:1183:1319\n",
      "ul:0:0/li:200:39/ul:200:203/div:200:213/div:200:213/div:200:213/div:200:1212/div:200:1212/div:1200:1212/body:1200:1336/html:1183:1319\n",
      "li:0:0/ul:0:0/li:200:39/ul:200:203/div:200:213/div:200:213/div:200:213/div:200:1212/div:200:1212/div:1200:1212/body:1200:1336/html:1183:1319\n",
      "a:0:0/li:0:0/ul:0:0/li:200:39/ul:200:203/div:200:213/div:200:213/div:200:213/div:200:1212/div:200:1212/div:1200:1212/body:1200:1336/html:1183:1319\n",
      "ul:0:0/li:200:39/ul:200:203/div:200:213/div:200:213/div:200:213/div:200:1212/div:200:1212/div:1200:1212/body:1200:1336/html:1183:1319\n",
      "li:0:0/ul:0:0/li:200:39/ul:200:203/div:200:213/div:200:213/div:200:213/div:200:1212/div:200:1212/div:1200:1212/body:1200:1336/html:1183:1319\n",
      "a:0:0/li:0:0/ul:0:0/li:200:39/ul:200:203/div:200:213/div:200:213/div:200:213/div:200:1212/div:200:1212/div:1200:1212/body:1200:1336/html:1183:1319\n",
      "ul:0:0/li:200:39/ul:200:203/div:200:213/div:200:213/div:200:213/div:200:1212/div:200:1212/div:1200:1212/body:1200:1336/html:1183:1319\n",
      "li:0:0/ul:0:0/li:200:39/ul:200:203/div:200:213/div:200:213/div:200:213/div:200:1212/div:200:1212/div:1200:1212/body:1200:1336/html:1183:1319\n",
      "a:0:0/li:0:0/ul:0:0/li:200:39/ul:200:203/div:200:213/div:200:213/div:200:213/div:200:1212/div:200:1212/div:1200:1212/body:1200:1336/html:1183:1319\n",
      "ul:0:0/li:200:39/ul:200:203/div:200:213/div:200:213/div:200:213/div:200:1212/div:200:1212/div:1200:1212/body:1200:1336/html:1183:1319\n",
      "li:0:0/ul:0:0/li:200:39/ul:200:203/div:200:213/div:200:213/div:200:213/div:200:1212/div:200:1212/div:1200:1212/body:1200:1336/html:1183:1319\n",
      "a:0:0/li:0:0/ul:0:0/li:200:39/ul:200:203/div:200:213/div:200:213/div:200:213/div:200:1212/div:200:1212/div:1200:1212/body:1200:1336/html:1183:1319\n",
      "ul:0:0/li:200:39/ul:200:203/div:200:213/div:200:213/div:200:213/div:200:1212/div:200:1212/div:1200:1212/body:1200:1336/html:1183:1319\n",
      "li:0:0/ul:0:0/li:200:39/ul:200:203/div:200:213/div:200:213/div:200:213/div:200:1212/div:200:1212/div:1200:1212/body:1200:1336/html:1183:1319\n",
      "a:0:0/li:0:0/ul:0:0/li:200:39/ul:200:203/div:200:213/div:200:213/div:200:213/div:200:1212/div:200:1212/div:1200:1212/body:1200:1336/html:1183:1319\n",
      "ul:200:203/div:200:213/div:200:213/div:200:213/div:200:1212/div:200:1212/div:1200:1212/body:1200:1336/html:1183:1319\n",
      "li:200:39/ul:200:203/div:200:213/div:200:213/div:200:213/div:200:1212/div:200:1212/div:1200:1212/body:1200:1336/html:1183:1319\n",
      "a:200:39/li:200:39/ul:200:203/div:200:213/div:200:213/div:200:213/div:200:1212/div:200:1212/div:1200:1212/body:1200:1336/html:1183:1319\n",
      "ul:200:203/div:200:213/div:200:213/div:200:213/div:200:1212/div:200:1212/div:1200:1212/body:1200:1336/html:1183:1319\n",
      "li:200:39/ul:200:203/div:200:213/div:200:213/div:200:213/div:200:1212/div:200:1212/div:1200:1212/body:1200:1336/html:1183:1319\n",
      "a:200:39/li:200:39/ul:200:203/div:200:213/div:200:213/div:200:213/div:200:1212/div:200:1212/div:1200:1212/body:1200:1336/html:1183:1319\n",
      "a:200:39/li:200:39/ul:200:203/div:200:213/div:200:213/div:200:213/div:200:1212/div:200:1212/div:1200:1212/body:1200:1336/html:1183:1319\n",
      "li:200:39/ul:200:203/div:200:213/div:200:213/div:200:213/div:200:1212/div:200:1212/div:1200:1212/body:1200:1336/html:1183:1319\n",
      "ul:0:0/li:200:39/ul:200:203/div:200:213/div:200:213/div:200:213/div:200:1212/div:200:1212/div:1200:1212/body:1200:1336/html:1183:1319\n",
      "li:0:0/ul:0:0/li:200:39/ul:200:203/div:200:213/div:200:213/div:200:213/div:200:1212/div:200:1212/div:1200:1212/body:1200:1336/html:1183:1319\n",
      "a:0:0/li:0:0/ul:0:0/li:200:39/ul:200:203/div:200:213/div:200:213/div:200:213/div:200:1212/div:200:1212/div:1200:1212/body:1200:1336/html:1183:1319\n",
      "ul:0:0/li:200:39/ul:200:203/div:200:213/div:200:213/div:200:213/div:200:1212/div:200:1212/div:1200:1212/body:1200:1336/html:1183:1319\n",
      "li:0:0/ul:0:0/li:200:39/ul:200:203/div:200:213/div:200:213/div:200:213/div:200:1212/div:200:1212/div:1200:1212/body:1200:1336/html:1183:1319\n",
      "a:0:0/li:0:0/ul:0:0/li:200:39/ul:200:203/div:200:213/div:200:213/div:200:213/div:200:1212/div:200:1212/div:1200:1212/body:1200:1336/html:1183:1319\n",
      "ul:0:0/li:200:39/ul:200:203/div:200:213/div:200:213/div:200:213/div:200:1212/div:200:1212/div:1200:1212/body:1200:1336/html:1183:1319\n",
      "li:0:0/ul:0:0/li:200:39/ul:200:203/div:200:213/div:200:213/div:200:213/div:200:1212/div:200:1212/div:1200:1212/body:1200:1336/html:1183:1319\n",
      "a:0:0/li:0:0/ul:0:0/li:200:39/ul:200:203/div:200:213/div:200:213/div:200:213/div:200:1212/div:200:1212/div:1200:1212/body:1200:1336/html:1183:1319\n",
      "ul:0:0/li:200:39/ul:200:203/div:200:213/div:200:213/div:200:213/div:200:1212/div:200:1212/div:1200:1212/body:1200:1336/html:1183:1319\n",
      "li:0:0/ul:0:0/li:200:39/ul:200:203/div:200:213/div:200:213/div:200:213/div:200:1212/div:200:1212/div:1200:1212/body:1200:1336/html:1183:1319\n",
      "a:0:0/li:0:0/ul:0:0/li:200:39/ul:200:203/div:200:213/div:200:213/div:200:213/div:200:1212/div:200:1212/div:1200:1212/body:1200:1336/html:1183:1319\n",
      "ul:0:0/li:200:39/ul:200:203/div:200:213/div:200:213/div:200:213/div:200:1212/div:200:1212/div:1200:1212/body:1200:1336/html:1183:1319\n",
      "li:0:0/ul:0:0/li:200:39/ul:200:203/div:200:213/div:200:213/div:200:213/div:200:1212/div:200:1212/div:1200:1212/body:1200:1336/html:1183:1319\n"
     ]
    },
    {
     "name": "stdout",
     "output_type": "stream",
     "text": [
      "a:0:0/li:0:0/ul:0:0/li:200:39/ul:200:203/div:200:213/div:200:213/div:200:213/div:200:1212/div:200:1212/div:1200:1212/body:1200:1336/html:1183:1319\n",
      "ul:0:0/li:200:39/ul:200:203/div:200:213/div:200:213/div:200:213/div:200:1212/div:200:1212/div:1200:1212/body:1200:1336/html:1183:1319\n",
      "li:0:0/ul:0:0/li:200:39/ul:200:203/div:200:213/div:200:213/div:200:213/div:200:1212/div:200:1212/div:1200:1212/body:1200:1336/html:1183:1319\n",
      "a:0:0/li:0:0/ul:0:0/li:200:39/ul:200:203/div:200:213/div:200:213/div:200:213/div:200:1212/div:200:1212/div:1200:1212/body:1200:1336/html:1183:1319\n",
      "ul:0:0/li:200:39/ul:200:203/div:200:213/div:200:213/div:200:213/div:200:1212/div:200:1212/div:1200:1212/body:1200:1336/html:1183:1319\n",
      "li:0:0/ul:0:0/li:200:39/ul:200:203/div:200:213/div:200:213/div:200:213/div:200:1212/div:200:1212/div:1200:1212/body:1200:1336/html:1183:1319\n",
      "a:0:0/li:0:0/ul:0:0/li:200:39/ul:200:203/div:200:213/div:200:213/div:200:213/div:200:1212/div:200:1212/div:1200:1212/body:1200:1336/html:1183:1319\n",
      "div:200:213/div:200:213/div:200:1212/div:200:1212/div:1200:1212/body:1200:1336/html:1183:1319\n",
      "div:0:213/div:200:213/div:200:213/div:200:1212/div:200:1212/div:1200:1212/body:1200:1336/html:1183:1319\n",
      "div:0:0/div:0:213/div:200:213/div:200:213/div:200:1212/div:200:1212/div:1200:1212/body:1200:1336/html:1183:1319\n",
      "div:0:0/div:0:0/div:0:213/div:200:213/div:200:213/div:200:1212/div:200:1212/div:1200:1212/body:1200:1336/html:1183:1319\n",
      "div:0:0/div:0:213/div:200:213/div:200:213/div:200:1212/div:200:1212/div:1200:1212/body:1200:1336/html:1183:1319\n",
      "div:200:1212/div:200:1212/div:1200:1212/body:1200:1336/html:1183:1319\n",
      "div:0:1212/div:200:1212/div:200:1212/div:1200:1212/body:1200:1336/html:1183:1319\n",
      "div:0:1212/div:0:1212/div:200:1212/div:200:1212/div:1200:1212/body:1200:1336/html:1183:1319\n",
      "div:0:30/div:0:1212/div:0:1212/div:200:1212/div:200:1212/div:1200:1212/body:1200:1336/html:1183:1319\n",
      "div:0:1212/div:0:1212/div:200:1212/div:200:1212/div:1200:1212/body:1200:1336/html:1183:1319\n",
      "div:1200:1212/body:1200:1336/html:1183:1319\n",
      "div:1000:1212/div:1200:1212/body:1200:1336/html:1183:1319\n",
      "main:1000:1212/div:1000:1212/div:1200:1212/body:1200:1336/html:1183:1319\n",
      "main:1000:1212/div:1000:1212/div:1200:1212/body:1200:1336/html:1183:1319\n",
      "div:1000:1212/main:1000:1212/div:1000:1212/div:1200:1212/body:1200:1336/html:1183:1319\n",
      "div:1000:1212/main:1000:1212/div:1000:1212/div:1200:1212/body:1200:1336/html:1183:1319\n",
      "div:1000:1212/main:1000:1212/div:1000:1212/div:1200:1212/body:1200:1336/html:1183:1319\n",
      "h3:920:26/div:1000:1212/main:1000:1212/div:1000:1212/div:1200:1212/body:1200:1336/html:1183:1319\n",
      "div:1000:1212/main:1000:1212/div:1000:1212/div:1200:1212/body:1200:1336/html:1183:1319\n",
      "div:1000:1212/main:1000:1212/div:1000:1212/div:1200:1212/body:1200:1336/html:1183:1319\n",
      "div:920:158/div:1000:1212/main:1000:1212/div:1000:1212/div:1200:1212/body:1200:1336/html:1183:1319\n",
      "div:920:158/div:1000:1212/main:1000:1212/div:1000:1212/div:1200:1212/body:1200:1336/html:1183:1319\n",
      "div:1000:1212/main:1000:1212/div:1000:1212/div:1200:1212/body:1200:1336/html:1183:1319\n",
      "div:1000:1212/main:1000:1212/div:1000:1212/div:1200:1212/body:1200:1336/html:1183:1319\n",
      "div:950:225/div:1000:1212/main:1000:1212/div:1000:1212/div:1200:1212/body:1200:1336/html:1183:1319\n",
      "div:238:225/div:950:225/div:1000:1212/main:1000:1212/div:1000:1212/div:1200:1212/body:1200:1336/html:1183:1319\n",
      "div:208:225/div:238:225/div:950:225/div:1000:1212/main:1000:1212/div:1000:1212/div:1200:1212/body:1200:1336/html:1183:1319\n",
      "div:142:104/div:208:225/div:238:225/div:950:225/div:1000:1212/main:1000:1212/div:1000:1212/div:1200:1212/body:1200:1336/html:1183:1319\n",
      "div:208:225/div:238:225/div:950:225/div:1000:1212/main:1000:1212/div:1000:1212/div:1200:1212/body:1200:1336/html:1183:1319\n",
      "span:206:165/div:208:225/div:238:225/div:950:225/div:1000:1212/main:1000:1212/div:1000:1212/div:1200:1212/body:1200:1336/html:1183:1319\n",
      "span:206:165/div:208:225/div:238:225/div:950:225/div:1000:1212/main:1000:1212/div:1000:1212/div:1200:1212/body:1200:1336/html:1183:1319\n",
      "div:950:225/div:1000:1212/main:1000:1212/div:1000:1212/div:1200:1212/body:1200:1336/html:1183:1319\n",
      "div:237:225/div:950:225/div:1000:1212/main:1000:1212/div:1000:1212/div:1200:1212/body:1200:1336/html:1183:1319\n",
      "div:208:225/div:237:225/div:950:225/div:1000:1212/main:1000:1212/div:1000:1212/div:1200:1212/body:1200:1336/html:1183:1319\n",
      "div:142:104/div:208:225/div:237:225/div:950:225/div:1000:1212/main:1000:1212/div:1000:1212/div:1200:1212/body:1200:1336/html:1183:1319\n",
      "div:208:225/div:237:225/div:950:225/div:1000:1212/main:1000:1212/div:1000:1212/div:1200:1212/body:1200:1336/html:1183:1319\n",
      "span:206:140/div:208:225/div:237:225/div:950:225/div:1000:1212/main:1000:1212/div:1000:1212/div:1200:1212/body:1200:1336/html:1183:1319\n",
      "div:950:225/div:1000:1212/main:1000:1212/div:1000:1212/div:1200:1212/body:1200:1336/html:1183:1319\n",
      "div:238:225/div:950:225/div:1000:1212/main:1000:1212/div:1000:1212/div:1200:1212/body:1200:1336/html:1183:1319\n",
      "div:208:225/div:238:225/div:950:225/div:1000:1212/main:1000:1212/div:1000:1212/div:1200:1212/body:1200:1336/html:1183:1319\n",
      "div:142:104/div:208:225/div:238:225/div:950:225/div:1000:1212/main:1000:1212/div:1000:1212/div:1200:1212/body:1200:1336/html:1183:1319\n",
      "div:208:225/div:238:225/div:950:225/div:1000:1212/main:1000:1212/div:1000:1212/div:1200:1212/body:1200:1336/html:1183:1319\n",
      "div:950:225/div:1000:1212/main:1000:1212/div:1000:1212/div:1200:1212/body:1200:1336/html:1183:1319\n",
      "div:237:225/div:950:225/div:1000:1212/main:1000:1212/div:1000:1212/div:1200:1212/body:1200:1336/html:1183:1319\n",
      "div:208:225/div:237:225/div:950:225/div:1000:1212/main:1000:1212/div:1000:1212/div:1200:1212/body:1200:1336/html:1183:1319\n",
      "div:142:104/div:208:225/div:237:225/div:950:225/div:1000:1212/main:1000:1212/div:1000:1212/div:1200:1212/body:1200:1336/html:1183:1319\n",
      "div:208:225/div:237:225/div:950:225/div:1000:1212/main:1000:1212/div:1000:1212/div:1200:1212/body:1200:1336/html:1183:1319\n",
      "span:206:190/div:208:225/div:237:225/div:950:225/div:1000:1212/main:1000:1212/div:1000:1212/div:1200:1212/body:1200:1336/html:1183:1319\n",
      "span:206:190/div:208:225/div:237:225/div:950:225/div:1000:1212/main:1000:1212/div:1000:1212/div:1200:1212/body:1200:1336/html:1183:1319\n",
      "span:206:190/div:208:225/div:237:225/div:950:225/div:1000:1212/main:1000:1212/div:1000:1212/div:1200:1212/body:1200:1336/html:1183:1319\n",
      "body:1200:1336/html:1183:1319\n",
      "footer:1200:64/body:1200:1336/html:1183:1319\n",
      "div:1200:64/footer:1200:64/body:1200:1336/html:1183:1319\n",
      "div:1200:64/div:1200:64/footer:1200:64/body:1200:1336/html:1183:1319\n",
      "div:1200:64/div:1200:64/footer:1200:64/body:1200:1336/html:1183:1319\n",
      "ul:142:15/div:1200:64/div:1200:64/footer:1200:64/body:1200:1336/html:1183:1319\n",
      "li:30:15/ul:142:15/div:1200:64/div:1200:64/footer:1200:64/body:1200:1336/html:1183:1319\n",
      "ul:142:15/div:1200:64/div:1200:64/footer:1200:64/body:1200:1336/html:1183:1319\n",
      "ul:142:15/div:1200:64/div:1200:64/footer:1200:64/body:1200:1336/html:1183:1319\n",
      "li:64:15/ul:142:15/div:1200:64/div:1200:64/footer:1200:64/body:1200:1336/html:1183:1319\n",
      "body:1200:1336/html:1183:1319\n",
      "body:1200:1336/html:1183:1319\n"
     ]
    }
   ],
   "source": [
    "for i, r in elements_df.iterrows():\n",
    "    list_of_parents = []\n",
    "    path = []\n",
    "    get_parents_list(tree_dict=tree_dict, element_id= r.element_id, paternts_list=list_of_parents)\n",
    "    path = \"/\".join([ \n",
    "        tag_name_dict[i]+':'+str(int(width_dict[i])) +':'+str(int(height_dict[i])) \n",
    "        for i in get_parents_list(tree_dict=tree_dict, element_id=r.element_id, paternts_list=path)])\n",
    "    print(path)"
   ]
  },
  {
   "cell_type": "code",
   "execution_count": null,
   "metadata": {},
   "outputs": [],
   "source": []
  },
  {
   "cell_type": "code",
   "execution_count": null,
   "metadata": {},
   "outputs": [],
   "source": []
  },
  {
   "cell_type": "code",
   "execution_count": 17,
   "metadata": {},
   "outputs": [
    {
     "data": {
      "text/plain": [
       "array(['', 'uui-header dark-gray', 'sidebar-toggle-box blue',\n",
       "       'sidebar-tooltip', 'fa fa-reorder', 'epam-logo',\n",
       "       'uui-navigation nav navbar-nav m-l8', 'dropdown',\n",
       "       'dropdown-toggle', 'caret', 'dropdown-menu',\n",
       "       'uui-navigation navbar-nav navbar-right',\n",
       "       'dropdown uui-profile-menu open', 'profile-photo',\n",
       "       'dropdown-menu dropdown-menu-login',\n",
       "       'form-horizontal login hidden', 'form-horizontal-pad',\n",
       "       'form-group form-group10', 'col-sm-3', 'col-sm-9',\n",
       "       'uui-form-element', 'login-txt hidden',\n",
       "       'uui-button dark-blue btn-login', 'fa fa-sign-in', 'logout',\n",
       "       'fa fa-sign-out', 'search', 'icon-search', 'search-active hidden',\n",
       "       'search-title', 'icon-search active', 'search-field', 'wrapper',\n",
       "       'uui-side-bar mCustomScrollbar _mCS_1 mCS_no_scrollbar',\n",
       "       'mCustomScrollBox mCS-light mCSB_vertical mCSB_inside',\n",
       "       'mCSB_container mCS_y_hidden mCS_no_scrollbar_y', 'sidebar-menu',\n",
       "       'active', 'menu-title', 'fa fa-caret-down arrow', 'sub hide-menu',\n",
       "       'mCSB_scrollTools mCSB_1_scrollbar mCS-light mCSB_scrollTools_vertical',\n",
       "       'mCSB_draggerContainer', 'mCSB_dragger', 'mCSB_dragger_bar',\n",
       "       'mCSB_draggerRail', 'uui-main-container', 'pattern-top',\n",
       "       'main-content', 'main-title text-center', 'main-txt text-center',\n",
       "       'text-center', 'row clerafix benefits', 'benefit', 'benefit-icon',\n",
       "       'icons-benefit icon-practise', 'benefit-txt',\n",
       "       'icons-benefit icon-custom', 'icons-benefit icon-multi',\n",
       "       'icons-benefit icon-base', 'footer-bg', 'footer-content overflow',\n",
       "       'footer-menu'], dtype=object)"
      ]
     },
     "execution_count": 17,
     "metadata": {},
     "output_type": "execute_result"
    }
   ],
   "source": [
    "elements_df.attr_class.unique()"
   ]
  },
  {
   "cell_type": "code",
   "execution_count": 18,
   "metadata": {},
   "outputs": [
    {
     "data": {
      "text/plain": [
       "array([None, 'navigation', 'menu'], dtype=object)"
      ]
     },
     "execution_count": 18,
     "metadata": {},
     "output_type": "execute_result"
    }
   ],
   "source": [
    "elements_df.attr_role.unique()"
   ]
  },
  {
   "cell_type": "code",
   "execution_count": 19,
   "metadata": {},
   "outputs": [
    {
     "data": {
      "text/plain": [
       "array([None, \"window.open('search.html','_self')\"], dtype=object)"
      ]
     },
     "execution_count": 19,
     "metadata": {},
     "output_type": "execute_result"
    }
   ],
   "source": [
    "elements_df.attr_onclick.unique()"
   ]
  },
  {
   "cell_type": "code",
   "execution_count": 20,
   "metadata": {},
   "outputs": [
    {
     "data": {
      "text/plain": [
       "array([None, '', 'text/javascript', 'text', 'password', 'submit'],\n",
       "      dtype=object)"
      ]
     },
     "execution_count": 20,
     "metadata": {},
     "output_type": "execute_result"
    }
   ],
   "source": [
    "elements_df.attr_type.unique()"
   ]
  },
  {
   "cell_type": "markdown",
   "metadata": {},
   "source": [
    "# Save pages & screenshots"
   ]
  },
  {
   "cell_type": "markdown",
   "metadata": {},
   "source": [
    "- ## HTML 5"
   ]
  },
  {
   "cell_type": "code",
   "execution_count": 21,
   "metadata": {
    "scrolled": true
   },
   "outputs": [
    {
     "name": "stdout",
     "output_type": "stream",
     "text": [
      "Window maximized\n",
      "Number of discovered elements: 662\n"
     ]
    },
    {
     "data": {
      "application/vnd.jupyter.widget-view+json": {
       "model_id": "29c4ef7ca23f4051b3756ec67448a043",
       "version_major": 2,
       "version_minor": 0
      },
      "text/plain": [
       "  0%|          | 0/662 [00:00<?, ?it/s]"
      ]
     },
     "metadata": {},
     "output_type": "display_data"
    },
    {
     "data": {
      "image/png": "[encoded data removed]",
      "text/plain": [
       "<Figure size 432x288 with 1 Axes>"
      ]
     },
     "metadata": {
      "needs_background": "light"
     },
     "output_type": "display_data"
    }
   ],
   "source": [
    "with setup_web_driver() as driver:\n",
    "      \n",
    "    driver.find_element(By.LINK_TEXT, \"Elements packs\").click()\n",
    "    driver.find_element(By.LINK_TEXT, \"HTML 5\").click()\n",
    "    maximize_window(driver=driver)\n",
    "    sleep(WAIT_TIME_SECONDS)\n",
    "    \n",
    "    plt.imshow(screenshot(driver, save_to_file='dataset/images/html-5.png'))\n",
    "    elements_df = get_all_elements(driver=driver)\n",
    "    elements_df.to_parquet('dataset/df/html-5.parquet')\n",
    "    with open('dataset/html/html-5.html', 'w') as f:\n",
    "        f.write(driver.page_source)\n",
    "        f.flush()\n",
    "    \n",
    "\n"
   ]
  },
  {
   "cell_type": "markdown",
   "metadata": {},
   "source": [
    "- ## Contact form"
   ]
  },
  {
   "cell_type": "code",
   "execution_count": 22,
   "metadata": {},
   "outputs": [
    {
     "name": "stdout",
     "output_type": "stream",
     "text": [
      "Window maximized\n",
      "Number of discovered elements: 336\n"
     ]
    },
    {
     "data": {
      "application/vnd.jupyter.widget-view+json": {
       "model_id": "9a7e9ee0d69f444aabd6a6d286bf415c",
       "version_major": 2,
       "version_minor": 0
      },
      "text/plain": [
       "  0%|          | 0/336 [00:00<?, ?it/s]"
      ]
     },
     "metadata": {},
     "output_type": "display_data"
    },
    {
     "data": {
      "image/png": "[encoded data removed]",
      "text/plain": [
       "<Figure size 432x288 with 1 Axes>"
      ]
     },
     "metadata": {
      "needs_background": "light"
     },
     "output_type": "display_data"
    }
   ],
   "source": [
    "with setup_web_driver() as driver:\n",
    "      \n",
    "    driver.find_element(By.LINK_TEXT, \"Contact form\").click()\n",
    "    maximize_window(driver=driver)\n",
    "    sleep(WAIT_TIME_SECONDS)\n",
    "    \n",
    "    plt.imshow(screenshot(driver, save_to_file='dataset/images/contact-form.png'))\n",
    "    elements_df = get_all_elements(driver=driver)\n",
    "    elements_df.to_parquet('dataset/df/contact-form.parquet')\n",
    "    with open('dataset/html/contact-form.html', 'w') as f:\n",
    "        f.write(driver.page_source)\n",
    "        f.flush()\n",
    "    \n"
   ]
  },
  {
   "cell_type": "markdown",
   "metadata": {},
   "source": [
    "- ## Mobile and HTML 5"
   ]
  },
  {
   "cell_type": "code",
   "execution_count": 23,
   "metadata": {},
   "outputs": [
    {
     "name": "stdout",
     "output_type": "stream",
     "text": [
      "Window maximized\n",
      "Number of discovered elements: 647\n"
     ]
    },
    {
     "data": {
      "application/vnd.jupyter.widget-view+json": {
       "model_id": "59dae8ba4c5e471688f0d752e3a5854e",
       "version_major": 2,
       "version_minor": 0
      },
      "text/plain": [
       "  0%|          | 0/647 [00:00<?, ?it/s]"
      ]
     },
     "metadata": {},
     "output_type": "display_data"
    },
    {
     "data": {
      "image/png": "[encoded data removed]",
      "text/plain": [
       "<Figure size 432x288 with 1 Axes>"
      ]
     },
     "metadata": {
      "needs_background": "light"
     },
     "output_type": "display_data"
    }
   ],
   "source": [
    "with setup_web_driver() as driver:\n",
    "      \n",
    "    driver.find_element_by_link_text(\"Elements packs\").click()\n",
    "    driver.find_element_by_link_text(\"Mobile and HTML 5\").click()\n",
    "    sleep(WAIT_TIME_SECONDS)\n",
    "    maximize_window(driver=driver)\n",
    "    sleep(WAIT_TIME_SECONDS)\n",
    "    \n",
    "    plt.imshow(screenshot(driver, save_to_file='dataset/images/mobile-and-html-5.png'))\n",
    "    elements_df = get_all_elements(driver=driver)\n",
    "    elements_df.to_parquet('dataset/df/mobile-and-html-5.parquet')\n",
    "    with open('dataset/html/mobile-and-html-5.html', 'w') as f:\n",
    "        f.write(driver.page_source)\n",
    "        f.flush()\n",
    "    \n"
   ]
  },
  {
   "cell_type": "markdown",
   "metadata": {},
   "source": [
    "- ## Bootstrap"
   ]
  },
  {
   "cell_type": "code",
   "execution_count": 24,
   "metadata": {},
   "outputs": [
    {
     "name": "stdout",
     "output_type": "stream",
     "text": [
      "Window maximized\n",
      "Number of discovered elements: 1095\n"
     ]
    },
    {
     "data": {
      "application/vnd.jupyter.widget-view+json": {
       "model_id": "238f0f379dce4be88ab918ae9fa2daa3",
       "version_major": 2,
       "version_minor": 0
      },
      "text/plain": [
       "  0%|          | 0/1095 [00:00<?, ?it/s]"
      ]
     },
     "metadata": {},
     "output_type": "display_data"
    },
    {
     "data": {
      "image/png": "[encoded data removed]",
      "text/plain": [
       "<Figure size 432x288 with 1 Axes>"
      ]
     },
     "metadata": {
      "needs_background": "light"
     },
     "output_type": "display_data"
    }
   ],
   "source": [
    "with setup_web_driver() as driver:\n",
    "      \n",
    "    driver.find_element_by_link_text(\"Elements packs\").click()\n",
    "    driver.find_element_by_link_text(\"Bootstrap\").click()\n",
    "    sleep(WAIT_TIME_SECONDS)\n",
    "    maximize_window(driver=driver)\n",
    "    sleep(WAIT_TIME_SECONDS)\n",
    "    \n",
    "    plt.imshow(screenshot(driver, save_to_file='dataset/images/bootstrap.png'))\n",
    "    elements_df = get_all_elements(driver=driver)\n",
    "    elements_df.to_parquet('dataset/df/bootstrap.parquet')\n",
    "    \n",
    "    with open('dataset/html/bootstrap.html', 'w') as f:\n",
    "        f.write(driver.page_source)\n",
    "        f.flush()\n"
   ]
  },
  {
   "cell_type": "markdown",
   "metadata": {},
   "source": [
    "- ## React Ant"
   ]
  },
  {
   "cell_type": "code",
   "execution_count": 25,
   "metadata": {},
   "outputs": [
    {
     "name": "stdout",
     "output_type": "stream",
     "text": [
      "Window maximized\n",
      "Number of discovered elements: 700\n"
     ]
    },
    {
     "data": {
      "application/vnd.jupyter.widget-view+json": {
       "model_id": "7489c5aeceec4eeb9dd17058b3b242ae",
       "version_major": 2,
       "version_minor": 0
      },
      "text/plain": [
       "  0%|          | 0/700 [00:00<?, ?it/s]"
      ]
     },
     "metadata": {},
     "output_type": "display_data"
    },
    {
     "data": {
      "image/png": "[encoded data removed]",
      "text/plain": [
       "<Figure size 432x288 with 1 Axes>"
      ]
     },
     "metadata": {
      "needs_background": "light"
     },
     "output_type": "display_data"
    }
   ],
   "source": [
    "with setup_web_driver() as driver:\n",
    "      \n",
    "    driver.find_element_by_link_text(\"Elements packs\").click()\n",
    "    driver.find_element_by_link_text(\"React Ant\").click()\n",
    "    sleep(WAIT_TIME_SECONDS)\n",
    "    maximize_window(driver=driver)\n",
    "    sleep(WAIT_TIME_SECONDS)\n",
    "    \n",
    "    plt.imshow(screenshot(driver, save_to_file='dataset/images/react-ant.png'))\n",
    "    elements_df = get_all_elements(driver=driver)\n",
    "    elements_df.to_parquet('dataset/df/react-ant.parquet')\n",
    "\n",
    "    with open('dataset/html/react-ant.html', 'wb') as f:\n",
    "        f.write(driver.page_source.encode())\n",
    "        f.flush()\n",
    "    \n",
    "  \n"
   ]
  },
  {
   "cell_type": "markdown",
   "metadata": {},
   "source": [
    "- ## Metals & Colors"
   ]
  },
  {
   "cell_type": "code",
   "execution_count": 26,
   "metadata": {},
   "outputs": [
    {
     "name": "stdout",
     "output_type": "stream",
     "text": [
      "Window maximized\n",
      "Number of discovered elements: 373\n"
     ]
    },
    {
     "data": {
      "application/vnd.jupyter.widget-view+json": {
       "model_id": "46ae53a99a81426d92585ca1227f7519",
       "version_major": 2,
       "version_minor": 0
      },
      "text/plain": [
       "  0%|          | 0/373 [00:00<?, ?it/s]"
      ]
     },
     "metadata": {},
     "output_type": "display_data"
    },
    {
     "data": {
      "image/png": "[encoded data removed]",
      "text/plain": [
       "<Figure size 432x288 with 1 Axes>"
      ]
     },
     "metadata": {
      "needs_background": "light"
     },
     "output_type": "display_data"
    }
   ],
   "source": [
    "with setup_web_driver() as driver:\n",
    "      \n",
    "    driver.find_element_by_link_text(\"Metals & Colors\").click()\n",
    "    maximize_window(driver=driver)\n",
    "    sleep(WAIT_TIME_SECONDS)\n",
    "    \n",
    "    plt.imshow(screenshot(driver, save_to_file='dataset/images/metals-and-colors.png'))\n",
    "    elements_df = get_all_elements(driver=driver)\n",
    "    elements_df.to_parquet('dataset/df/metals-and-colors.parquet')\n",
    "    \n",
    "    with open('dataset/html/metals-and-colors.html', 'wb') as f:\n",
    "        f.write(driver.page_source.encode())\n",
    "        f.flush()\n",
    "    \n"
   ]
  },
  {
   "cell_type": "markdown",
   "metadata": {},
   "source": [
    "- ## Service / Support"
   ]
  },
  {
   "cell_type": "code",
   "execution_count": 27,
   "metadata": {},
   "outputs": [
    {
     "name": "stdout",
     "output_type": "stream",
     "text": [
      "Window maximized\n",
      "Number of discovered elements: 284\n"
     ]
    },
    {
     "data": {
      "application/vnd.jupyter.widget-view+json": {
       "model_id": "09864affebed4eeeb1aa51b6da4b142e",
       "version_major": 2,
       "version_minor": 0
      },
      "text/plain": [
       "  0%|          | 0/284 [00:00<?, ?it/s]"
      ]
     },
     "metadata": {},
     "output_type": "display_data"
    },
    {
     "data": {
      "image/png": "[encoded data removed]",
      "text/plain": [
       "<Figure size 432x288 with 1 Axes>"
      ]
     },
     "metadata": {
      "needs_background": "light"
     },
     "output_type": "display_data"
    }
   ],
   "source": [
    "with setup_web_driver() as driver:\n",
    "      \n",
    "    driver.find_element_by_link_text(\"Service\").click()\n",
    "    driver.find_element_by_link_text(\"Support\").click()\n",
    "    maximize_window(driver=driver)\n",
    "    sleep(WAIT_TIME_SECONDS)\n",
    "    \n",
    "    plt.imshow(screenshot(driver, save_to_file='dataset/images/support.png'))\n",
    "    elements_df = get_all_elements(driver=driver)\n",
    "    elements_df.to_parquet('dataset/df/support.parquet')\n",
    "    \n",
    "    with open('dataset/html/support.html', 'wb') as f:\n",
    "        f.write(driver.page_source.encode())\n",
    "        f.flush()\n",
    "    \n"
   ]
  },
  {
   "cell_type": "markdown",
   "metadata": {},
   "source": [
    "- ## Service / Dates"
   ]
  },
  {
   "cell_type": "code",
   "execution_count": 28,
   "metadata": {},
   "outputs": [
    {
     "name": "stdout",
     "output_type": "stream",
     "text": [
      "Window maximized\n",
      "Number of discovered elements: 313\n"
     ]
    },
    {
     "data": {
      "application/vnd.jupyter.widget-view+json": {
       "model_id": "9d0baeeeeb554bff8e7c0acb7b45142c",
       "version_major": 2,
       "version_minor": 0
      },
      "text/plain": [
       "  0%|          | 0/313 [00:00<?, ?it/s]"
      ]
     },
     "metadata": {},
     "output_type": "display_data"
    },
    {
     "data": {
      "image/png": "[encoded data removed]",
      "text/plain": [
       "<Figure size 432x288 with 1 Axes>"
      ]
     },
     "metadata": {
      "needs_background": "light"
     },
     "output_type": "display_data"
    }
   ],
   "source": [
    "with setup_web_driver() as driver:\n",
    "      \n",
    "    driver.find_element_by_link_text(\"Service\").click()\n",
    "    driver.find_element_by_link_text(\"Dates\").click()\n",
    "    maximize_window(driver=driver)\n",
    "    sleep(WAIT_TIME_SECONDS)\n",
    "    \n",
    "    plt.imshow(screenshot(driver, save_to_file='dataset/images/dates.png'))\n",
    "    elements_df = get_all_elements(driver=driver)\n",
    "    elements_df.to_parquet('dataset/df/dates.parquet')\n",
    "    \n",
    "    with open('dataset/html/dates.html', 'wb') as f:\n",
    "        f.write(driver.page_source.encode())\n",
    "        f.flush()\n",
    "    \n"
   ]
  },
  {
   "cell_type": "markdown",
   "metadata": {},
   "source": [
    "- ## Service / Complex Table"
   ]
  },
  {
   "cell_type": "code",
   "execution_count": 29,
   "metadata": {},
   "outputs": [
    {
     "name": "stdout",
     "output_type": "stream",
     "text": [
      "Window maximized\n",
      "Number of discovered elements: 423\n"
     ]
    },
    {
     "data": {
      "application/vnd.jupyter.widget-view+json": {
       "model_id": "292590c26df24c049f7f600437df535a",
       "version_major": 2,
       "version_minor": 0
      },
      "text/plain": [
       "  0%|          | 0/423 [00:00<?, ?it/s]"
      ]
     },
     "metadata": {},
     "output_type": "display_data"
    },
    {
     "data": {
      "image/png": "[encoded data removed]",
      "text/plain": [
       "<Figure size 432x288 with 1 Axes>"
      ]
     },
     "metadata": {
      "needs_background": "light"
     },
     "output_type": "display_data"
    }
   ],
   "source": [
    "with setup_web_driver() as driver:\n",
    "      \n",
    "    driver.find_element_by_link_text(\"Service\").click()\n",
    "    driver.find_element_by_link_text(\"Complex Table\").click()\n",
    "    maximize_window(driver=driver)\n",
    "    sleep(WAIT_TIME_SECONDS)\n",
    "    \n",
    "    plt.imshow(screenshot(driver, save_to_file='dataset/images/complex-table.png'))\n",
    "    elements_df = get_all_elements(driver=driver)\n",
    "    elements_df.to_parquet('dataset/df/complex-table.parquet')\n",
    "    \n",
    "    with open('dataset/html/complex-table.html', 'wb') as f:\n",
    "        f.write(driver.page_source.encode())\n",
    "        f.flush()\n",
    "    \n"
   ]
  },
  {
   "cell_type": "markdown",
   "metadata": {},
   "source": [
    "- ## Service / Search"
   ]
  },
  {
   "cell_type": "code",
   "execution_count": 30,
   "metadata": {},
   "outputs": [
    {
     "name": "stdout",
     "output_type": "stream",
     "text": [
      "Window maximized\n",
      "Number of discovered elements: 294\n"
     ]
    },
    {
     "data": {
      "application/vnd.jupyter.widget-view+json": {
       "model_id": "d124dd2b09154f85ac189308a4bbfe45",
       "version_major": 2,
       "version_minor": 0
      },
      "text/plain": [
       "  0%|          | 0/294 [00:00<?, ?it/s]"
      ]
     },
     "metadata": {},
     "output_type": "display_data"
    },
    {
     "data": {
      "image/png": "[encoded data removed]",
      "text/plain": [
       "<Figure size 432x288 with 1 Axes>"
      ]
     },
     "metadata": {
      "needs_background": "light"
     },
     "output_type": "display_data"
    }
   ],
   "source": [
    "with setup_web_driver() as driver:\n",
    "      \n",
    "    driver.find_element_by_link_text(\"Service\").click()\n",
    "    driver.find_element_by_link_text(\"Search\").click()\n",
    "    maximize_window(driver=driver)\n",
    "    sleep(WAIT_TIME_SECONDS)\n",
    "    \n",
    "    plt.imshow(screenshot(driver, save_to_file='dataset/images/search.png'))\n",
    "    elements_df = get_all_elements(driver=driver)\n",
    "    elements_df.to_parquet('dataset/df/search.parquet')\n",
    "    \n",
    "    with open('dataset/html/search.html', 'wb') as f:\n",
    "        f.write(driver.page_source.encode())\n",
    "        f.flush()\n",
    "    \n"
   ]
  },
  {
   "cell_type": "markdown",
   "metadata": {},
   "source": [
    "- ## Service / User Table"
   ]
  },
  {
   "cell_type": "code",
   "execution_count": 31,
   "metadata": {},
   "outputs": [
    {
     "name": "stdout",
     "output_type": "stream",
     "text": [
      "Window maximized\n",
      "Number of discovered elements: 366\n"
     ]
    },
    {
     "data": {
      "application/vnd.jupyter.widget-view+json": {
       "model_id": "37f6586e96e34fa9839d178dfc36cf94",
       "version_major": 2,
       "version_minor": 0
      },
      "text/plain": [
       "  0%|          | 0/366 [00:00<?, ?it/s]"
      ]
     },
     "metadata": {},
     "output_type": "display_data"
    },
    {
     "data": {
      "image/png": "[encoded data removed]",
      "text/plain": [
       "<Figure size 432x288 with 1 Axes>"
      ]
     },
     "metadata": {
      "needs_background": "light"
     },
     "output_type": "display_data"
    }
   ],
   "source": [
    "with setup_web_driver() as driver:\n",
    "      \n",
    "    driver.find_element_by_link_text(\"Service\").click()\n",
    "    driver.find_element_by_link_text(\"User Table\").click()\n",
    "    maximize_window(driver=driver)\n",
    "    sleep(WAIT_TIME_SECONDS)\n",
    "    \n",
    "    plt.imshow(screenshot(driver, save_to_file='dataset/images/user-table.png'))\n",
    "    elements_df = get_all_elements(driver=driver)\n",
    "    elements_df.to_parquet('dataset/df/user-table.parquet')\n",
    "    \n",
    "    with open('dataset/html/user-table.html', 'wb') as f:\n",
    "        f.write(driver.page_source.encode())\n",
    "        f.flush()\n",
    "    \n"
   ]
  },
  {
   "cell_type": "markdown",
   "metadata": {},
   "source": [
    "- ## Service / Table with pages"
   ]
  },
  {
   "cell_type": "code",
   "execution_count": 32,
   "metadata": {},
   "outputs": [
    {
     "name": "stdout",
     "output_type": "stream",
     "text": [
      "Window maximized\n",
      "Number of discovered elements: 309\n"
     ]
    },
    {
     "data": {
      "application/vnd.jupyter.widget-view+json": {
       "model_id": "774697d6463c4cefb2e062589badd1c9",
       "version_major": 2,
       "version_minor": 0
      },
      "text/plain": [
       "  0%|          | 0/309 [00:00<?, ?it/s]"
      ]
     },
     "metadata": {},
     "output_type": "display_data"
    },
    {
     "data": {
      "image/png": "[encoded data removed]",
      "text/plain": [
       "<Figure size 432x288 with 1 Axes>"
      ]
     },
     "metadata": {
      "needs_background": "light"
     },
     "output_type": "display_data"
    }
   ],
   "source": [
    "with setup_web_driver() as driver:\n",
    "      \n",
    "    driver.find_element_by_link_text(\"Service\").click()\n",
    "    driver.find_element_by_link_text(\"Table with pages\").click()\n",
    "    maximize_window(driver=driver)\n",
    "    sleep(WAIT_TIME_SECONDS)\n",
    "    \n",
    "    plt.imshow(screenshot(driver, save_to_file='dataset/images/table-with-pages.png'))\n",
    "    elements_df = get_all_elements(driver=driver)\n",
    "    elements_df.to_parquet('dataset/df/table-with-pages.parquet')\n",
    "    \n",
    "    with open('dataset/html/table-with=pages.html', 'wb') as f:\n",
    "        f.write(driver.page_source.encode())\n",
    "        f.flush()\n",
    "    \n"
   ]
  },
  {
   "cell_type": "markdown",
   "metadata": {},
   "source": [
    " "
   ]
  },
  {
   "cell_type": "markdown",
   "metadata": {},
   "source": [
    "- ## Service / Different elements"
   ]
  },
  {
   "cell_type": "code",
   "execution_count": 33,
   "metadata": {},
   "outputs": [
    {
     "name": "stdout",
     "output_type": "stream",
     "text": [
      "Window maximized\n",
      "Number of discovered elements: 289\n"
     ]
    },
    {
     "data": {
      "application/vnd.jupyter.widget-view+json": {
       "model_id": "c135703ec4514471a5607c1b02ee0867",
       "version_major": 2,
       "version_minor": 0
      },
      "text/plain": [
       "  0%|          | 0/289 [00:00<?, ?it/s]"
      ]
     },
     "metadata": {},
     "output_type": "display_data"
    },
    {
     "data": {
      "image/png": "[encoded data removed]",
      "text/plain": [
       "<Figure size 432x288 with 1 Axes>"
      ]
     },
     "metadata": {
      "needs_background": "light"
     },
     "output_type": "display_data"
    }
   ],
   "source": [
    "with setup_web_driver() as driver:\n",
    "      \n",
    "    driver.find_element_by_link_text(\"Service\").click()\n",
    "    driver.find_element_by_link_text(\"Different elements\").click()\n",
    "    maximize_window(driver=driver)\n",
    "    sleep(WAIT_TIME_SECONDS)\n",
    "    \n",
    "    plt.imshow(screenshot(driver, save_to_file='dataset/images/different-elements.png'))\n",
    "    elements_df = get_all_elements(driver=driver)\n",
    "    elements_df.to_parquet('dataset/df/different-elements.parquet')\n",
    "    \n",
    "    with open('dataset/html/different-elemants.html', 'wb') as f:\n",
    "        f.write(driver.page_source.encode())\n",
    "        f.flush()\n",
    "    \n"
   ]
  },
  {
   "cell_type": "markdown",
   "metadata": {},
   "source": [
    " "
   ]
  },
  {
   "cell_type": "markdown",
   "metadata": {},
   "source": [
    "- ## Service / Performance"
   ]
  },
  {
   "cell_type": "code",
   "execution_count": 34,
   "metadata": {},
   "outputs": [
    {
     "name": "stdout",
     "output_type": "stream",
     "text": [
      "Window maximized\n",
      "Number of discovered elements: 2672\n"
     ]
    },
    {
     "data": {
      "application/vnd.jupyter.widget-view+json": {
       "model_id": "725357dd468547cf96a5457c37d69c97",
       "version_major": 2,
       "version_minor": 0
      },
      "text/plain": [
       "  0%|          | 0/2672 [00:00<?, ?it/s]"
      ]
     },
     "metadata": {},
     "output_type": "display_data"
    },
    {
     "data": {
      "image/png": "[encoded data removed]",
      "text/plain": [
       "<Figure size 432x288 with 1 Axes>"
      ]
     },
     "metadata": {
      "needs_background": "light"
     },
     "output_type": "display_data"
    }
   ],
   "source": [
    "with setup_web_driver() as driver:\n",
    "      \n",
    "    driver.find_element_by_link_text(\"Service\").click()\n",
    "    driver.find_element_by_link_text(\"Performance\").click()\n",
    "    maximize_window(driver=driver)\n",
    "    sleep(WAIT_TIME_SECONDS)\n",
    "    \n",
    "    plt.imshow(screenshot(driver, save_to_file='dataset/images/performance.png'))\n",
    "    elements_df = get_all_elements(driver=driver)\n",
    "    elements_df.to_parquet('dataset/df/performance.parquet')\n",
    "    \n",
    "    with open('dataset/html/performance.html', 'wb') as f:\n",
    "        f.write(driver.page_source.encode())\n",
    "        f.flush()\n",
    "    \n"
   ]
  },
  {
   "cell_type": "code",
   "execution_count": null,
   "metadata": {},
   "outputs": [],
   "source": []
  },
  {
   "cell_type": "markdown",
   "metadata": {},
   "source": [
    "- ## Angular"
   ]
  },
  {
   "cell_type": "code",
   "execution_count": 35,
   "metadata": {
    "scrolled": true
   },
   "outputs": [
    {
     "name": "stdout",
     "output_type": "stream",
     "text": [
      "Window maximized\n",
      "(44802, 1200, 4)\n",
      "Number of discovered elements: 6447\n"
     ]
    },
    {
     "data": {
      "application/vnd.jupyter.widget-view+json": {
       "model_id": "599b6e6a9a1d43ad9ac6512b771d1ac8",
       "version_major": 2,
       "version_minor": 0
      },
      "text/plain": [
       "  0%|          | 0/6447 [00:00<?, ?it/s]"
      ]
     },
     "metadata": {},
     "output_type": "display_data"
    },
    {
     "data": {
      "image/png": "[encoded data removed]",
      "text/plain": [
       "<Figure size 432x288 with 1 Axes>"
      ]
     },
     "metadata": {
      "needs_background": "light"
     },
     "output_type": "display_data"
    }
   ],
   "source": [
    "with setup_web_driver() as driver:\n",
    "      \n",
    "    driver.find_element_by_link_text(\"Elements packs\").click()\n",
    "    driver.find_element_by_link_text(\"Angular\").click()\n",
    "    sleep(15.0)\n",
    "    \n",
    "#     # selenium python to scroll to the bottom of a page\n",
    "#     driver.execute_script(\"window.scrollTo(0, document.body.scrollHeight);\")\n",
    "#     sleep(15.0)\n",
    "    \n",
    "    maximize_window(driver=driver)\n",
    "    sleep(15.0)\n",
    "    \n",
    "    _img = screenshot(driver, save_to_file='dataset/images/angular.png')\n",
    "    print(_img.shape)\n",
    "    plt.imshow(_img)\n",
    "    sleep(15.0)\n",
    "        \n",
    "    elements_df = get_all_elements(driver=driver)\n",
    "    elements_df.to_parquet('dataset/df/angular.parquet')\n",
    "    \n",
    "    with open('dataset/html/angular.html', 'wb') as f:\n",
    "        f.write(driver.page_source.encode())\n",
    "        f.flush()\n",
    "    \n"
   ]
  },
  {
   "cell_type": "code",
   "execution_count": 36,
   "metadata": {},
   "outputs": [
    {
     "name": "stdout",
     "output_type": "stream",
     "text": [
      "Elapsed time: 4:58:20.422241\n"
     ]
    }
   ],
   "source": [
    "print('Elapsed time:', datetime.now() - START_TS)"
   ]
  },
  {
   "cell_type": "markdown",
   "metadata": {},
   "source": [
    "## Bootstarp form"
   ]
  },
  {
   "cell_type": "code",
   "execution_count": 37,
   "metadata": {},
   "outputs": [
    {
     "name": "stdout",
     "output_type": "stream",
     "text": [
      "Window maximized\n",
      "(8015, 1200, 4)\n",
      "Number of discovered elements: 811\n"
     ]
    },
    {
     "data": {
      "application/vnd.jupyter.widget-view+json": {
       "model_id": "9526d13e932a4184be4f9f9c4b7785f1",
       "version_major": 2,
       "version_minor": 0
      },
      "text/plain": [
       "  0%|          | 0/811 [00:00<?, ?it/s]"
      ]
     },
     "metadata": {},
     "output_type": "display_data"
    },
    {
     "data": {
      "image/png": "[encoded data removed]",
      "text/plain": [
       "<Figure size 432x288 with 1 Axes>"
      ]
     },
     "metadata": {
      "needs_background": "light"
     },
     "output_type": "display_data"
    }
   ],
   "source": [
    "with setup_web_driver() as driver:\n",
    "      \n",
    "    driver.find_element_by_link_text(\"Elements packs\").click()\n",
    "    driver.find_element_by_link_text(\"Bootstrap form\").click()\n",
    "    sleep(15.0)\n",
    "        \n",
    "    maximize_window(driver=driver)\n",
    "    sleep(15.0)\n",
    "    \n",
    "    _img = screenshot(driver, save_to_file='dataset/images/bootstrap-form.png')\n",
    "    print(_img.shape)\n",
    "    plt.imshow(_img)\n",
    "    sleep(15.0)\n",
    "        \n",
    "    elements_df = get_all_elements(driver=driver)\n",
    "    elements_df.to_parquet('dataset/df/bootstrap-form.parquet')\n",
    "    \n",
    "    with open('dataset/html/bootstrap-form.html', 'wb') as f:\n",
    "        f.write(driver.page_source.encode())\n",
    "        f.flush()\n",
    "  "
   ]
  },
  {
   "cell_type": "markdown",
   "metadata": {},
   "source": [
    "## Bootstarp forms"
   ]
  },
  {
   "cell_type": "code",
   "execution_count": 38,
   "metadata": {},
   "outputs": [
    {
     "name": "stdout",
     "output_type": "stream",
     "text": [
      "Window maximized\n",
      "(1397, 1200, 4)\n",
      "Number of discovered elements: 312\n"
     ]
    },
    {
     "data": {
      "application/vnd.jupyter.widget-view+json": {
       "model_id": "d3eb0ec78fd346c7b790fe83cdeee79b",
       "version_major": 2,
       "version_minor": 0
      },
      "text/plain": [
       "  0%|          | 0/312 [00:00<?, ?it/s]"
      ]
     },
     "metadata": {},
     "output_type": "display_data"
    },
    {
     "data": {
      "image/png": "[encoded data removed]",
      "text/plain": [
       "<Figure size 432x288 with 1 Axes>"
      ]
     },
     "metadata": {
      "needs_background": "light"
     },
     "output_type": "display_data"
    }
   ],
   "source": [
    "with setup_web_driver() as driver:\n",
    "      \n",
    "    driver.find_element_by_link_text(\"Elements packs\").click()\n",
    "    driver.find_element_by_link_text(\"Bootstrap forms\").click()\n",
    "    sleep(15.0)\n",
    "        \n",
    "    maximize_window(driver=driver)\n",
    "    sleep(15.0)\n",
    "    \n",
    "    _img = screenshot(driver, save_to_file='dataset/images/bootstrap-forms.png')\n",
    "    print(_img.shape)\n",
    "    plt.imshow(_img)\n",
    "    sleep(15.0)\n",
    "        \n",
    "    elements_df = get_all_elements(driver=driver)\n",
    "    elements_df.to_parquet('dataset/df/bootstrap-forms.parquet')\n",
    "    \n",
    "    with open('dataset/html/bootstrap-forms.html', 'wb') as f:\n",
    "        f.write(driver.page_source.encode())\n",
    "        f.flush()\n"
   ]
  },
  {
   "cell_type": "code",
   "execution_count": 39,
   "metadata": {},
   "outputs": [
    {
     "name": "stdout",
     "output_type": "stream",
     "text": [
      "Elapsed time: 5:17:01.637805\n"
     ]
    }
   ],
   "source": [
    "print('Elapsed time:', datetime.now() - START_TS)"
   ]
  },
  {
   "cell_type": "code",
   "execution_count": null,
   "metadata": {},
   "outputs": [],
   "source": []
  }
 ],
 "metadata": {
  "kernelspec": {
   "display_name": "Python 3",
   "language": "python",
   "name": "python3"
  },
  "language_info": {
   "codemirror_mode": {
    "name": "ipython",
    "version": 3
   },
   "file_extension": ".py",
   "mimetype": "text/x-python",
   "name": "python",
   "nbconvert_exporter": "python",
   "pygments_lexer": "ipython3",
   "version": "3.7.9"
  },
  "widgets": {
   "application/vnd.jupyter.widget-state+json": {
    "state": {
     "0063fc041c6f45f5aecef203078be40f": {
      "model_module": "@jupyter-widgets/controls",
      "model_module_version": "1.5.0",
      "model_name": "ProgressStyleModel",
      "state": {
       "description_width": ""
      }
     },
     "00715cf4e95f47b29778928dd7334675": {
      "model_module": "@jupyter-widgets/base",
      "model_module_version": "1.2.0",
      "model_name": "LayoutModel",
      "state": {}
     },
     "007b04b02d7d44c9af526d356c983493": {
      "model_module": "@jupyter-widgets/controls",
      "model_module_version": "1.5.0",
      "model_name": "HTMLModel",
      "state": {
       "layout": "IPY_MODEL_4b7b3a4e53ba44258541a5f4300981f6",
       "style": "IPY_MODEL_a4af00d558ee4d3fac0b6376e70d2ebc",
       "value": " 313/313 [03:01&lt;00:00,  1.19it/s]"
      }
     },
     "00ff0a402a1942349350d50bb344c659": {
      "model_module": "@jupyter-widgets/base",
      "model_module_version": "1.2.0",
      "model_name": "LayoutModel",
      "state": {}
     },
     "00ff1304d2e940feadbb31edcf642670": {
      "model_module": "@jupyter-widgets/controls",
      "model_module_version": "1.5.0",
      "model_name": "ProgressStyleModel",
      "state": {
       "description_width": ""
      }
     },
     "013c58bd2fd54ee0b6faf7ced0edf403": {
      "model_module": "@jupyter-widgets/controls",
      "model_module_version": "1.5.0",
      "model_name": "DescriptionStyleModel",
      "state": {
       "description_width": ""
      }
     },
     "018e6eb8c48f4a04b9c48beab546ff66": {
      "model_module": "@jupyter-widgets/controls",
      "model_module_version": "1.5.0",
      "model_name": "HTMLModel",
      "state": {
       "layout": "IPY_MODEL_7a4396de98184481a594b7f5b739662c",
       "style": "IPY_MODEL_17b8db1777a84c9bbb5610f227c7d760",
       "value": " 228/228 [01:52&lt;00:00,  1.03s/it]"
      }
     },
     "01b40bd1f2bf476583eff7b4c88f9acb": {
      "model_module": "@jupyter-widgets/controls",
      "model_module_version": "1.5.0",
      "model_name": "FloatProgressModel",
      "state": {
       "bar_style": "success",
       "layout": "IPY_MODEL_be8c9080f7044a4eb0165b7193f5785b",
       "max": 423,
       "style": "IPY_MODEL_01e8aecc87074ec2ad636c318df6d67e",
       "value": 423
      }
     },
     "01d2afa0d023476ca7f5fdc9f6ecd705": {
      "model_module": "@jupyter-widgets/base",
      "model_module_version": "1.2.0",
      "model_name": "LayoutModel",
      "state": {}
     },
     "01e8aecc87074ec2ad636c318df6d67e": {
      "model_module": "@jupyter-widgets/controls",
      "model_module_version": "1.5.0",
      "model_name": "ProgressStyleModel",
      "state": {
       "description_width": ""
      }
     },
     "01f099481e004fcdad6d764843a8753d": {
      "model_module": "@jupyter-widgets/controls",
      "model_module_version": "1.5.0",
      "model_name": "ProgressStyleModel",
      "state": {
       "description_width": ""
      }
     },
     "021b0e6cd2924c2081aa471f1c6401ee": {
      "model_module": "@jupyter-widgets/controls",
      "model_module_version": "1.5.0",
      "model_name": "HBoxModel",
      "state": {
       "children": [
        "IPY_MODEL_1a8fc3e7e7384577b34546e644713c43",
        "IPY_MODEL_e51ec62d43ce460bb8a9b90d8da2e0e4",
        "IPY_MODEL_44b1b933e07d497ab7bea56bbc95b196"
       ],
       "layout": "IPY_MODEL_a0e1238acb694c63b6ea57b9d2ab3a91"
      }
     },
     "023c0dd903d24296a7554a6f1620db80": {
      "model_module": "@jupyter-widgets/base",
      "model_module_version": "1.2.0",
      "model_name": "LayoutModel",
      "state": {}
     },
     "02557189fb5a419e8d9464e3948d2b08": {
      "model_module": "@jupyter-widgets/controls",
      "model_module_version": "1.5.0",
      "model_name": "HTMLModel",
      "state": {
       "layout": "IPY_MODEL_0f488256b86c45b38a71b13cb2bc14b8",
       "style": "IPY_MODEL_a3e0b60edd974e8a8bb8c83c3f5a7c98",
       "value": "100%"
      }
     },
     "029d4cf3f69d4ab29f2ed89d0cccaa42": {
      "model_module": "@jupyter-widgets/controls",
      "model_module_version": "1.5.0",
      "model_name": "HBoxModel",
      "state": {
       "children": [
        "IPY_MODEL_29bf2b1fab874e8dbd49a2a2001a0cd2",
        "IPY_MODEL_25e8ec9eb6ec4ac48a096fff2db341cd",
        "IPY_MODEL_325e20d1eda243a2a09a573932c06019"
       ],
       "layout": "IPY_MODEL_d495446021bf41fbb405460ce4766562"
      }
     },
     "02aaed007605434a831960a28c7c0e2c": {
      "model_module": "@jupyter-widgets/controls",
      "model_module_version": "1.5.0",
      "model_name": "DescriptionStyleModel",
      "state": {
       "description_width": ""
      }
     },
     "02ea17cefba94dec827c5133f55168ee": {
      "model_module": "@jupyter-widgets/base",
      "model_module_version": "1.2.0",
      "model_name": "LayoutModel",
      "state": {}
     },
     "031c9312f7264b4db19419d62ea7d033": {
      "model_module": "@jupyter-widgets/base",
      "model_module_version": "1.2.0",
      "model_name": "LayoutModel",
      "state": {}
     },
     "035262e357544fc5834cb593d9de7f70": {
      "model_module": "@jupyter-widgets/base",
      "model_module_version": "1.2.0",
      "model_name": "LayoutModel",
      "state": {}
     },
     "03e56cbe6bc24b68837c53b22fa0368f": {
      "model_module": "@jupyter-widgets/controls",
      "model_module_version": "1.5.0",
      "model_name": "FloatProgressModel",
      "state": {
       "bar_style": "success",
       "layout": "IPY_MODEL_bba0d2415e2145239fb5585677b558b1",
       "max": 2672,
       "style": "IPY_MODEL_26dadddc46e841e8a56fecacfc628058",
       "value": 2672
      }
     },
     "04437e036a144a1b8906314194ec1571": {
      "model_module": "@jupyter-widgets/controls",
      "model_module_version": "1.5.0",
      "model_name": "HTMLModel",
      "state": {
       "layout": "IPY_MODEL_4003e6666e024bf5801f885b20e9b933",
       "style": "IPY_MODEL_9c55078b0ca441578e0ac58869eea9bb",
       "value": " 1095/1095 [18:44&lt;00:00,  5.39it/s]"
      }
     },
     "04b2cd2bf02f4e708c2a8aaef4791c87": {
      "model_module": "@jupyter-widgets/controls",
      "model_module_version": "1.5.0",
      "model_name": "DescriptionStyleModel",
      "state": {
       "description_width": ""
      }
     },
     "04c3695569a045d6b3bf6e09ed516c65": {
      "model_module": "@jupyter-widgets/controls",
      "model_module_version": "1.5.0",
      "model_name": "HTMLModel",
      "state": {
       "layout": "IPY_MODEL_a1214b44970144a191a103b7129962f2",
       "style": "IPY_MODEL_f78213380fd148408331d5c739d7ccf1",
       "value": " 662/662 [09:54&lt;00:00,  3.34it/s]"
      }
     },
     "0522ad88c9054eb9af94486ebe25db3e": {
      "model_module": "@jupyter-widgets/base",
      "model_module_version": "1.2.0",
      "model_name": "LayoutModel",
      "state": {}
     },
     "056ea4a8d9a74be184138b41540594f5": {
      "model_module": "@jupyter-widgets/controls",
      "model_module_version": "1.5.0",
      "model_name": "DescriptionStyleModel",
      "state": {
       "description_width": ""
      }
     },
     "059bd235dc3748018470093d54905d57": {
      "model_module": "@jupyter-widgets/controls",
      "model_module_version": "1.5.0",
      "model_name": "ProgressStyleModel",
      "state": {
       "description_width": ""
      }
     },
     "059ef138ec884b6496ea0592f91e2808": {
      "model_module": "@jupyter-widgets/controls",
      "model_module_version": "1.5.0",
      "model_name": "HTMLModel",
      "state": {
       "layout": "IPY_MODEL_f802dcf9e68246a5b74689cd8b8d836c",
       "style": "IPY_MODEL_a0d0c778478848718f1ba4ad325d51e5",
       "value": "100%"
      }
     },
     "05bb2632035144408d942009f832708d": {
      "model_module": "@jupyter-widgets/controls",
      "model_module_version": "1.5.0",
      "model_name": "DescriptionStyleModel",
      "state": {
       "description_width": ""
      }
     },
     "05d4515621af414588b6106ed559c88d": {
      "model_module": "@jupyter-widgets/base",
      "model_module_version": "1.2.0",
      "model_name": "LayoutModel",
      "state": {}
     },
     "05f99213ecd0408ea8285698d11b43ce": {
      "model_module": "@jupyter-widgets/controls",
      "model_module_version": "1.5.0",
      "model_name": "HBoxModel",
      "state": {
       "children": [
        "IPY_MODEL_1e8dad92618e4babae24c41d67601998",
        "IPY_MODEL_4b1d997d6fdd48a1aba415b4f2d65ea8",
        "IPY_MODEL_b31a5024160a4b2eaba6709244c66e35"
       ],
       "layout": "IPY_MODEL_ef16952a49c8449589254979af980bb5"
      }
     },
     "067b7863c47f4ebcab70c9809ccd38d4": {
      "model_module": "@jupyter-widgets/controls",
      "model_module_version": "1.5.0",
      "model_name": "DescriptionStyleModel",
      "state": {
       "description_width": ""
      }
     },
     "06b67903fa7444c6a06dc88cb1df4d11": {
      "model_module": "@jupyter-widgets/controls",
      "model_module_version": "1.5.0",
      "model_name": "HTMLModel",
      "state": {
       "layout": "IPY_MODEL_7e80bcaa63274b3e97950b581fdf6f34",
       "style": "IPY_MODEL_9395e73b181b4556a25149eea94975a2",
       "value": " 647/647 [09:48&lt;00:00,  3.22it/s]"
      }
     },
     "07924483d9b84a278bb9a7e9ce2831df": {
      "model_module": "@jupyter-widgets/controls",
      "model_module_version": "1.5.0",
      "model_name": "HBoxModel",
      "state": {
       "children": [
        "IPY_MODEL_2dd03d1ab8714202a035f5b4a85d5e23",
        "IPY_MODEL_640bfe481a884028afb9f3b412123a18",
        "IPY_MODEL_f7e49077fb8d4538b91bece38eb1c37f"
       ],
       "layout": "IPY_MODEL_cc67547fd5e34af788b039d85bd4dd24"
      }
     },
     "083d39b05e8c491a8e374f319209ec2f": {
      "model_module": "@jupyter-widgets/controls",
      "model_module_version": "1.5.0",
      "model_name": "HBoxModel",
      "state": {
       "children": [
        "IPY_MODEL_356db7be625d40b19bbd68f538f484c7",
        "IPY_MODEL_a9f22d2da0844fd1b43355baff562b75",
        "IPY_MODEL_8219c451925e4f89bc4dd12f37fb0f37"
       ],
       "layout": "IPY_MODEL_707ace48e1ee436c88fd2716a50318f9"
      }
     },
     "085b22010afb41fb86bcbee5ffa2b7e4": {
      "model_module": "@jupyter-widgets/controls",
      "model_module_version": "1.5.0",
      "model_name": "HTMLModel",
      "state": {
       "layout": "IPY_MODEL_595c6b9264c146ac80112324bb19844b",
       "style": "IPY_MODEL_04b2cd2bf02f4e708c2a8aaef4791c87",
       "value": "100%"
      }
     },
     "086de27a156a400891acd8a8f2b06c64": {
      "model_module": "@jupyter-widgets/controls",
      "model_module_version": "1.5.0",
      "model_name": "FloatProgressModel",
      "state": {
       "bar_style": "success",
       "layout": "IPY_MODEL_82977f574c9944a38aace3db58c0dac3",
       "max": 366,
       "style": "IPY_MODEL_73617afffc4a45dc83db768cbd5d0192",
       "value": 366
      }
     },
     "08763819b02648f4b20c7f27bfc1cd43": {
      "model_module": "@jupyter-widgets/controls",
      "model_module_version": "1.5.0",
      "model_name": "ProgressStyleModel",
      "state": {
       "description_width": ""
      }
     },
     "0923b26d38fd4f4b9a36bac3b4b7a2ec": {
      "model_module": "@jupyter-widgets/base",
      "model_module_version": "1.2.0",
      "model_name": "LayoutModel",
      "state": {}
     },
     "0923e3c18c734a14af207034c85b386b": {
      "model_module": "@jupyter-widgets/base",
      "model_module_version": "1.2.0",
      "model_name": "LayoutModel",
      "state": {}
     },
     "093993876f424553ab581a07a90e2eee": {
      "model_module": "@jupyter-widgets/controls",
      "model_module_version": "1.5.0",
      "model_name": "DescriptionStyleModel",
      "state": {
       "description_width": ""
      }
     },
     "0943bcbca27e4f13a29ab7e598200bda": {
      "model_module": "@jupyter-widgets/base",
      "model_module_version": "1.2.0",
      "model_name": "LayoutModel",
      "state": {}
     },
     "094aa5022a4f446c91477aa2d1a56695": {
      "model_module": "@jupyter-widgets/base",
      "model_module_version": "1.2.0",
      "model_name": "LayoutModel",
      "state": {}
     },
     "096bb0e727d944caad89b108190fc068": {
      "model_module": "@jupyter-widgets/base",
      "model_module_version": "1.2.0",
      "model_name": "LayoutModel",
      "state": {}
     },
     "09864affebed4eeeb1aa51b6da4b142e": {
      "model_module": "@jupyter-widgets/controls",
      "model_module_version": "1.5.0",
      "model_name": "HBoxModel",
      "state": {
       "children": [
        "IPY_MODEL_059ef138ec884b6496ea0592f91e2808",
        "IPY_MODEL_2e3246291ba84349a450b0946a12290a",
        "IPY_MODEL_7c814074874844278283b3cc69e1da0f"
       ],
       "layout": "IPY_MODEL_5cf4a56aa4ed4da9b76111f8fa4e18b7"
      }
     },
     "0a20bf3829cc48f495f325e2612ff944": {
      "model_module": "@jupyter-widgets/base",
      "model_module_version": "1.2.0",
      "model_name": "LayoutModel",
      "state": {}
     },
     "0a7857eacc664b5b945b85af557898c9": {
      "model_module": "@jupyter-widgets/base",
      "model_module_version": "1.2.0",
      "model_name": "LayoutModel",
      "state": {}
     },
     "0a8192fd6fa249b89109755b0204cbbd": {
      "model_module": "@jupyter-widgets/base",
      "model_module_version": "1.2.0",
      "model_name": "LayoutModel",
      "state": {}
     },
     "0a8bc6fb75f0438b83a1f1af0f52d753": {
      "model_module": "@jupyter-widgets/base",
      "model_module_version": "1.2.0",
      "model_name": "LayoutModel",
      "state": {}
     },
     "0aa55aea1b3d40a3a9a6458e4f7e70c0": {
      "model_module": "@jupyter-widgets/controls",
      "model_module_version": "1.5.0",
      "model_name": "HTMLModel",
      "state": {
       "layout": "IPY_MODEL_e384848e80d6495abde6f02622972a13",
       "style": "IPY_MODEL_9dbfd4ba51314f8093d14c03f6c91649",
       "value": " 662/662 [08:42&lt;00:00,  2.54it/s]"
      }
     },
     "0ace34e6f1454cb29c192fdf445c2f35": {
      "model_module": "@jupyter-widgets/controls",
      "model_module_version": "1.5.0",
      "model_name": "HTMLModel",
      "state": {
       "layout": "IPY_MODEL_279bb4c58ae44197acd3e6c379c47889",
       "style": "IPY_MODEL_d6f9be7d62d34cc8b1f474a44df4ab39",
       "value": " 366/366 [04:26&lt;00:00,  1.49it/s]"
      }
     },
     "0b2fe4cee5eb4127a3ac632a2586d421": {
      "model_module": "@jupyter-widgets/base",
      "model_module_version": "1.2.0",
      "model_name": "LayoutModel",
      "state": {}
     },
     "0b715425faf9449280d6ef09f6c0c4fb": {
      "model_module": "@jupyter-widgets/base",
      "model_module_version": "1.2.0",
      "model_name": "LayoutModel",
      "state": {}
     },
     "0b948b0704d74641b192f2d7dc492ed7": {
      "model_module": "@jupyter-widgets/base",
      "model_module_version": "1.2.0",
      "model_name": "LayoutModel",
      "state": {}
     },
     "0bd4247f4f3246eeb06fe01d258ce67f": {
      "model_module": "@jupyter-widgets/base",
      "model_module_version": "1.2.0",
      "model_name": "LayoutModel",
      "state": {}
     },
     "0c9f9d305aed461cbd42329afde5b5d6": {
      "model_module": "@jupyter-widgets/controls",
      "model_module_version": "1.5.0",
      "model_name": "FloatProgressModel",
      "state": {
       "bar_style": "success",
       "layout": "IPY_MODEL_3f9971500f4248b9a884ad4551b7074c",
       "max": 228,
       "style": "IPY_MODEL_d972ac0ca9214ecd94ba7088add6dbea",
       "value": 228
      }
     },
     "0caf603ad15343ed8efdc50994039ddb": {
      "model_module": "@jupyter-widgets/controls",
      "model_module_version": "1.5.0",
      "model_name": "DescriptionStyleModel",
      "state": {
       "description_width": ""
      }
     },
     "0dd2646f114a4f04bcbf426b7a087c05": {
      "model_module": "@jupyter-widgets/controls",
      "model_module_version": "1.5.0",
      "model_name": "DescriptionStyleModel",
      "state": {
       "description_width": ""
      }
     },
     "0e19940194c549ba81f769d583245772": {
      "model_module": "@jupyter-widgets/controls",
      "model_module_version": "1.5.0",
      "model_name": "ProgressStyleModel",
      "state": {
       "description_width": ""
      }
     },
     "0e6e9656002743a08c3da287ee65a398": {
      "model_module": "@jupyter-widgets/controls",
      "model_module_version": "1.5.0",
      "model_name": "DescriptionStyleModel",
      "state": {
       "description_width": ""
      }
     },
     "0f335c5eb91c41ffa6de736b8baecfa3": {
      "model_module": "@jupyter-widgets/base",
      "model_module_version": "1.2.0",
      "model_name": "LayoutModel",
      "state": {}
     },
     "0f488256b86c45b38a71b13cb2bc14b8": {
      "model_module": "@jupyter-widgets/base",
      "model_module_version": "1.2.0",
      "model_name": "LayoutModel",
      "state": {}
     },
     "0f49f636b67841acb2a2c78aa84768b4": {
      "model_module": "@jupyter-widgets/base",
      "model_module_version": "1.2.0",
      "model_name": "LayoutModel",
      "state": {}
     },
     "0ff21cb1e2f5458f8c0bc0df49db7e1d": {
      "model_module": "@jupyter-widgets/controls",
      "model_module_version": "1.5.0",
      "model_name": "DescriptionStyleModel",
      "state": {
       "description_width": ""
      }
     },
     "10138c64622a49fdad96ab0977f6cb9d": {
      "model_module": "@jupyter-widgets/base",
      "model_module_version": "1.2.0",
      "model_name": "LayoutModel",
      "state": {}
     },
     "106e59eb8c2d45c6a42714558e7a0238": {
      "model_module": "@jupyter-widgets/base",
      "model_module_version": "1.2.0",
      "model_name": "LayoutModel",
      "state": {}
     },
     "115fc00f13dd47b2828310d3f731318b": {
      "model_module": "@jupyter-widgets/controls",
      "model_module_version": "1.5.0",
      "model_name": "DescriptionStyleModel",
      "state": {
       "description_width": ""
      }
     },
     "11cd3b10f31944a5bdac6799ca304d8f": {
      "model_module": "@jupyter-widgets/base",
      "model_module_version": "1.2.0",
      "model_name": "LayoutModel",
      "state": {}
     },
     "12d2f036c89d4a0bae706cc71045464c": {
      "model_module": "@jupyter-widgets/base",
      "model_module_version": "1.2.0",
      "model_name": "LayoutModel",
      "state": {}
     },
     "13067de51406400595ab31c91ef32e8d": {
      "model_module": "@jupyter-widgets/controls",
      "model_module_version": "1.5.0",
      "model_name": "DescriptionStyleModel",
      "state": {
       "description_width": ""
      }
     },
     "130a7f05d93d48d4bf8bf423914dc91a": {
      "model_module": "@jupyter-widgets/controls",
      "model_module_version": "1.5.0",
      "model_name": "ProgressStyleModel",
      "state": {
       "description_width": ""
      }
     },
     "139fbaf55d24467ea5f1e66f31ff5534": {
      "model_module": "@jupyter-widgets/base",
      "model_module_version": "1.2.0",
      "model_name": "LayoutModel",
      "state": {}
     },
     "13d4018deb4e47df8fd5eb67b4911bc2": {
      "model_module": "@jupyter-widgets/base",
      "model_module_version": "1.2.0",
      "model_name": "LayoutModel",
      "state": {}
     },
     "13d8c520b76847c2980434b5f872eacb": {
      "model_module": "@jupyter-widgets/base",
      "model_module_version": "1.2.0",
      "model_name": "LayoutModel",
      "state": {}
     },
     "1470127c6cb74051aedde38cdc88c98e": {
      "model_module": "@jupyter-widgets/base",
      "model_module_version": "1.2.0",
      "model_name": "LayoutModel",
      "state": {}
     },
     "147bfe790d3645bab535202eb0d482f4": {
      "model_module": "@jupyter-widgets/controls",
      "model_module_version": "1.5.0",
      "model_name": "ProgressStyleModel",
      "state": {
       "description_width": ""
      }
     },
     "14de403184ff44e2bf69e779bd615f3f": {
      "model_module": "@jupyter-widgets/controls",
      "model_module_version": "1.5.0",
      "model_name": "DescriptionStyleModel",
      "state": {
       "description_width": ""
      }
     },
     "1579ac35965d4c27a7153048b70ef160": {
      "model_module": "@jupyter-widgets/controls",
      "model_module_version": "1.5.0",
      "model_name": "DescriptionStyleModel",
      "state": {
       "description_width": ""
      }
     },
     "163705f1d76b4e429ba1d9b5a9913371": {
      "model_module": "@jupyter-widgets/controls",
      "model_module_version": "1.5.0",
      "model_name": "ProgressStyleModel",
      "state": {
       "description_width": ""
      }
     },
     "1670b76ccd1b479eb8673f734137038e": {
      "model_module": "@jupyter-widgets/base",
      "model_module_version": "1.2.0",
      "model_name": "LayoutModel",
      "state": {}
     },
     "16944babffb343cda2ac1c864164704c": {
      "model_module": "@jupyter-widgets/base",
      "model_module_version": "1.2.0",
      "model_name": "LayoutModel",
      "state": {}
     },
     "169ff3c340cf45cbb4db4c52786edaba": {
      "model_module": "@jupyter-widgets/controls",
      "model_module_version": "1.5.0",
      "model_name": "HTMLModel",
      "state": {
       "layout": "IPY_MODEL_dddeb4076fa848f98108d9b5d07f8eb4",
       "style": "IPY_MODEL_8104924943414347a5e24ea103efdddc",
       "value": " 309/309 [03:35&lt;00:00,  2.32it/s]"
      }
     },
     "16f202ec66ae4bf6a8846062d857839e": {
      "model_module": "@jupyter-widgets/base",
      "model_module_version": "1.2.0",
      "model_name": "LayoutModel",
      "state": {}
     },
     "16f36e103d4447499af3d6dbef2078c1": {
      "model_module": "@jupyter-widgets/controls",
      "model_module_version": "1.5.0",
      "model_name": "ProgressStyleModel",
      "state": {
       "description_width": ""
      }
     },
     "17266cbbb846400dab1a3c6fb43a6f00": {
      "model_module": "@jupyter-widgets/controls",
      "model_module_version": "1.5.0",
      "model_name": "ProgressStyleModel",
      "state": {
       "description_width": ""
      }
     },
     "172cc1b1f19d44dc86aecafe9007744f": {
      "model_module": "@jupyter-widgets/base",
      "model_module_version": "1.2.0",
      "model_name": "LayoutModel",
      "state": {}
     },
     "17b8db1777a84c9bbb5610f227c7d760": {
      "model_module": "@jupyter-widgets/controls",
      "model_module_version": "1.5.0",
      "model_name": "DescriptionStyleModel",
      "state": {
       "description_width": ""
      }
     },
     "183788ffde39411b986efe68b0ca5f05": {
      "model_module": "@jupyter-widgets/base",
      "model_module_version": "1.2.0",
      "model_name": "LayoutModel",
      "state": {}
     },
     "186ce644f15f4e969c138b7ed87fc7cb": {
      "model_module": "@jupyter-widgets/base",
      "model_module_version": "1.2.0",
      "model_name": "LayoutModel",
      "state": {}
     },
     "186fec1400ae4bba8893ad656d58f39e": {
      "model_module": "@jupyter-widgets/controls",
      "model_module_version": "1.5.0",
      "model_name": "DescriptionStyleModel",
      "state": {
       "description_width": ""
      }
     },
     "19914d04e9184bbb8a26faadd7497d0c": {
      "model_module": "@jupyter-widgets/controls",
      "model_module_version": "1.5.0",
      "model_name": "HTMLModel",
      "state": {
       "layout": "IPY_MODEL_4f4b148c46794560a341922bd5781c91",
       "style": "IPY_MODEL_ab5231e9f2934af390345b5e2ade201a",
       "value": "100%"
      }
     },
     "19a0d78701884c00a23b27c9c5889507": {
      "model_module": "@jupyter-widgets/base",
      "model_module_version": "1.2.0",
      "model_name": "LayoutModel",
      "state": {}
     },
     "19a1c9e5aa4d4e56847466dda4892c54": {
      "model_module": "@jupyter-widgets/controls",
      "model_module_version": "1.5.0",
      "model_name": "FloatProgressModel",
      "state": {
       "bar_style": "success",
       "layout": "IPY_MODEL_83dd037c1182478eb1152f95cb49817c",
       "max": 228,
       "style": "IPY_MODEL_f3d62a9806e44c15ae11530661856aef",
       "value": 228
      }
     },
     "19c3a574dba743b1825ffb5ab4d297de": {
      "model_module": "@jupyter-widgets/controls",
      "model_module_version": "1.5.0",
      "model_name": "DescriptionStyleModel",
      "state": {
       "description_width": ""
      }
     },
     "19d86043cb214cebbd990a23e7d2f5e4": {
      "model_module": "@jupyter-widgets/base",
      "model_module_version": "1.2.0",
      "model_name": "LayoutModel",
      "state": {}
     },
     "1a2d78ee610c44d59ce39720b555dd2b": {
      "model_module": "@jupyter-widgets/controls",
      "model_module_version": "1.5.0",
      "model_name": "DescriptionStyleModel",
      "state": {
       "description_width": ""
      }
     },
     "1a7c665b31c849acbee910bb96ca111c": {
      "model_module": "@jupyter-widgets/controls",
      "model_module_version": "1.5.0",
      "model_name": "ProgressStyleModel",
      "state": {
       "description_width": ""
      }
     },
     "1a8f82fcf4cf4cd1a5c07a6036803313": {
      "model_module": "@jupyter-widgets/controls",
      "model_module_version": "1.5.0",
      "model_name": "HBoxModel",
      "state": {
       "children": [
        "IPY_MODEL_dfa0fe328ff44cdaac0906937aef4243",
        "IPY_MODEL_49e59c075e584b3988618e3b2f2eb552",
        "IPY_MODEL_50dc4144355149a3abeec94b74999722"
       ],
       "layout": "IPY_MODEL_10138c64622a49fdad96ab0977f6cb9d"
      }
     },
     "1a8fc3e7e7384577b34546e644713c43": {
      "model_module": "@jupyter-widgets/controls",
      "model_module_version": "1.5.0",
      "model_name": "HTMLModel",
      "state": {
       "layout": "IPY_MODEL_e75a00a6d764422781c338d1824f6846",
       "style": "IPY_MODEL_e0fa1febd5264e1a999a7a092d2d6aab",
       "value": "100%"
      }
     },
     "1aa1ba83054d46cc9a784d74bce6208d": {
      "model_module": "@jupyter-widgets/base",
      "model_module_version": "1.2.0",
      "model_name": "LayoutModel",
      "state": {}
     },
     "1ab6da806dac4f0dac12abac3aabf8d7": {
      "model_module": "@jupyter-widgets/base",
      "model_module_version": "1.2.0",
      "model_name": "LayoutModel",
      "state": {}
     },
     "1af11a412b5b4d2da4d29b1070797a29": {
      "model_module": "@jupyter-widgets/controls",
      "model_module_version": "1.5.0",
      "model_name": "DescriptionStyleModel",
      "state": {
       "description_width": ""
      }
     },
     "1b69fcb412094d6194267a99d8f235de": {
      "model_module": "@jupyter-widgets/controls",
      "model_module_version": "1.5.0",
      "model_name": "FloatProgressModel",
      "state": {
       "bar_style": "success",
       "layout": "IPY_MODEL_ff1e3b1397ec42929e82eb10fdcc539e",
       "max": 2672,
       "style": "IPY_MODEL_3f9fcc099f3f47808c51b45f632c1969",
       "value": 2672
      }
     },
     "1bbc6ce762654d4ba07286373f560467": {
      "model_module": "@jupyter-widgets/controls",
      "model_module_version": "1.5.0",
      "model_name": "HTMLModel",
      "state": {
       "layout": "IPY_MODEL_971026a812af4bb98e017076ad26b3fe",
       "style": "IPY_MODEL_13067de51406400595ab31c91ef32e8d",
       "value": " 1095/1095 [18:47&lt;00:00,  5.29it/s]"
      }
     },
     "1bbcab598cf6405ea6b7a42f55cc51c9": {
      "model_module": "@jupyter-widgets/base",
      "model_module_version": "1.2.0",
      "model_name": "LayoutModel",
      "state": {}
     },
     "1bfb567e5c9f4c51ae126eb22591734f": {
      "model_module": "@jupyter-widgets/controls",
      "model_module_version": "1.5.0",
      "model_name": "HTMLModel",
      "state": {
       "layout": "IPY_MODEL_550d62dbb49c42d5af81aea65df7fed7",
       "style": "IPY_MODEL_be7fcc4778294d76b1b9e50b01f87217",
       "value": " 373/373 [03:14&lt;00:00,  1.49it/s]"
      }
     },
     "1c2b8e1ff2c84b649982b2c36bbc5f18": {
      "model_module": "@jupyter-widgets/controls",
      "model_module_version": "1.5.0",
      "model_name": "DescriptionStyleModel",
      "state": {
       "description_width": ""
      }
     },
     "1c34b85acff3421298501601e7f0bc13": {
      "model_module": "@jupyter-widgets/base",
      "model_module_version": "1.2.0",
      "model_name": "LayoutModel",
      "state": {}
     },
     "1c3a60ba4227487f9e4098a1b7d92920": {
      "model_module": "@jupyter-widgets/controls",
      "model_module_version": "1.5.0",
      "model_name": "HTMLModel",
      "state": {
       "layout": "IPY_MODEL_994a595f85ce4cd89856ec16d37ade54",
       "style": "IPY_MODEL_5f2e455fa3ff4a9389d5be7660e25b12",
       "value": " 228/228 [01:31&lt;00:00,  1.23it/s]"
      }
     },
     "1c41c595c47b4a31956480f8269a7cb9": {
      "model_module": "@jupyter-widgets/controls",
      "model_module_version": "1.5.0",
      "model_name": "FloatProgressModel",
      "state": {
       "bar_style": "success",
       "layout": "IPY_MODEL_31da84915ab34fa8be37bb9fa613fe06",
       "max": 228,
       "style": "IPY_MODEL_fb64b9cc326748ffa09f3357134e3bbb",
       "value": 228
      }
     },
     "1c69fc4e832c437b85dae0209e4fbc4e": {
      "model_module": "@jupyter-widgets/base",
      "model_module_version": "1.2.0",
      "model_name": "LayoutModel",
      "state": {}
     },
     "1c84a4b7a1e54ad09fdf698780a1436b": {
      "model_module": "@jupyter-widgets/controls",
      "model_module_version": "1.5.0",
      "model_name": "FloatProgressModel",
      "state": {
       "bar_style": "success",
       "layout": "IPY_MODEL_a4e10d53b8f742279ecfc8ce9d83054e",
       "max": 1095,
       "style": "IPY_MODEL_437133c0700d49f59c6b96ff58d2e323",
       "value": 1095
      }
     },
     "1cded0df6b63442b8bceef25077bc540": {
      "model_module": "@jupyter-widgets/controls",
      "model_module_version": "1.5.0",
      "model_name": "ProgressStyleModel",
      "state": {
       "description_width": ""
      }
     },
     "1cf5f386d0aa4c768bd4f44c8cca599a": {
      "model_module": "@jupyter-widgets/controls",
      "model_module_version": "1.5.0",
      "model_name": "DescriptionStyleModel",
      "state": {
       "description_width": ""
      }
     },
     "1d103d67fcf34d369117f02fb2ae3b4c": {
      "model_module": "@jupyter-widgets/controls",
      "model_module_version": "1.5.0",
      "model_name": "HTMLModel",
      "state": {
       "layout": "IPY_MODEL_50c3e466d6cb47218b0d34875e0cb129",
       "style": "IPY_MODEL_69c00e28ae6a430f9c65b50e0a3e7c28",
       "value": "100%"
      }
     },
     "1d2d987f268649d48a02f88ab14fee2b": {
      "model_module": "@jupyter-widgets/base",
      "model_module_version": "1.2.0",
      "model_name": "LayoutModel",
      "state": {}
     },
     "1d37adf71f8b479d8522983998de14dc": {
      "model_module": "@jupyter-widgets/controls",
      "model_module_version": "1.5.0",
      "model_name": "HTMLModel",
      "state": {
       "layout": "IPY_MODEL_622c0179e8224b6e9e51d2561a8b9127",
       "style": "IPY_MODEL_aabd630411dd44d0b49a6423ecfa951a",
       "value": " 811/811 [12:56&lt;00:00,  2.21it/s]"
      }
     },
     "1daa18af08904f7b830728258e251d95": {
      "model_module": "@jupyter-widgets/controls",
      "model_module_version": "1.5.0",
      "model_name": "DescriptionStyleModel",
      "state": {
       "description_width": ""
      }
     },
     "1dd95ed18439444c9253d3f5433da57d": {
      "model_module": "@jupyter-widgets/base",
      "model_module_version": "1.2.0",
      "model_name": "LayoutModel",
      "state": {}
     },
     "1de30c19a4674474a80d27ef0eb0cd8a": {
      "model_module": "@jupyter-widgets/base",
      "model_module_version": "1.2.0",
      "model_name": "LayoutModel",
      "state": {}
     },
     "1e1e61f4849b407b922bf12102729ffe": {
      "model_module": "@jupyter-widgets/controls",
      "model_module_version": "1.5.0",
      "model_name": "ProgressStyleModel",
      "state": {
       "description_width": ""
      }
     },
     "1e207d582c44471195e1df166c67ea9f": {
      "model_module": "@jupyter-widgets/controls",
      "model_module_version": "1.5.0",
      "model_name": "DescriptionStyleModel",
      "state": {
       "description_width": ""
      }
     },
     "1e2a3671a62341ba84364ea6833d99d6": {
      "model_module": "@jupyter-widgets/controls",
      "model_module_version": "1.5.0",
      "model_name": "DescriptionStyleModel",
      "state": {
       "description_width": ""
      }
     },
     "1e8dad92618e4babae24c41d67601998": {
      "model_module": "@jupyter-widgets/controls",
      "model_module_version": "1.5.0",
      "model_name": "HTMLModel",
      "state": {
       "layout": "IPY_MODEL_a40dbf32a9304cec99a61fdf482f693e",
       "style": "IPY_MODEL_c1324a613c474c35b1d128ee38577708",
       "value": "100%"
      }
     },
     "1ef2c39e54fc4037a4193627480d9fb1": {
      "model_module": "@jupyter-widgets/controls",
      "model_module_version": "1.5.0",
      "model_name": "HTMLModel",
      "state": {
       "layout": "IPY_MODEL_ff4084cf38224415b8c5f938699adad2",
       "style": "IPY_MODEL_3f8c63a1187c49acb2f80b5c373a714c",
       "value": " 37%"
      }
     },
     "1f14ed96718f43a9b7da7ed50d119af9": {
      "model_module": "@jupyter-widgets/controls",
      "model_module_version": "1.5.0",
      "model_name": "DescriptionStyleModel",
      "state": {
       "description_width": ""
      }
     },
     "1f18f1613010481ca97791654a5c48de": {
      "model_module": "@jupyter-widgets/controls",
      "model_module_version": "1.5.0",
      "model_name": "ProgressStyleModel",
      "state": {
       "description_width": ""
      }
     },
     "1f6a29113019421d9620ca86bafeede4": {
      "model_module": "@jupyter-widgets/controls",
      "model_module_version": "1.5.0",
      "model_name": "FloatProgressModel",
      "state": {
       "bar_style": "success",
       "layout": "IPY_MODEL_d9ea6a7e5dc3470ea669e2bf8b98c95c",
       "max": 289,
       "style": "IPY_MODEL_130a7f05d93d48d4bf8bf423914dc91a",
       "value": 289
      }
     },
     "1f6f1e9448104d6ba2a1fde5c546ee73": {
      "model_module": "@jupyter-widgets/controls",
      "model_module_version": "1.5.0",
      "model_name": "ProgressStyleModel",
      "state": {
       "description_width": ""
      }
     },
     "1f77d19166b049edbfdc701df89e874d": {
      "model_module": "@jupyter-widgets/controls",
      "model_module_version": "1.5.0",
      "model_name": "FloatProgressModel",
      "state": {
       "bar_style": "success",
       "layout": "IPY_MODEL_74b6550d0d6147c297bc0d136e95a5c8",
       "max": 6447,
       "style": "IPY_MODEL_a70926ca66384d5a938cff28afe3a9c0",
       "value": 6447
      }
     },
     "1f93bb9db2884b17bf9b2ab0d53bc3c6": {
      "model_module": "@jupyter-widgets/base",
      "model_module_version": "1.2.0",
      "model_name": "LayoutModel",
      "state": {}
     },
     "1ff622990b4e4c4ea66e30a02839a4e6": {
      "model_module": "@jupyter-widgets/base",
      "model_module_version": "1.2.0",
      "model_name": "LayoutModel",
      "state": {}
     },
     "20759e3c3bb646cfa3a5615888d6b61b": {
      "model_module": "@jupyter-widgets/controls",
      "model_module_version": "1.5.0",
      "model_name": "DescriptionStyleModel",
      "state": {
       "description_width": ""
      }
     },
     "208e0a6e84fb4fc9aa05ee6ba8e22f32": {
      "model_module": "@jupyter-widgets/controls",
      "model_module_version": "1.5.0",
      "model_name": "HTMLModel",
      "state": {
       "layout": "IPY_MODEL_a08897872c554c41b8af6c1000a6ba12",
       "style": "IPY_MODEL_31eeb1fc2f0d4c5bb1348aff3cc53cf5",
       "value": " 312/312 [03:41&lt;00:00,  2.21it/s]"
      }
     },
     "209c871e917d475088292a5e1b11578b": {
      "model_module": "@jupyter-widgets/base",
      "model_module_version": "1.2.0",
      "model_name": "LayoutModel",
      "state": {}
     },
     "20bd4fd18f184472b7f7ecef37df538c": {
      "model_module": "@jupyter-widgets/base",
      "model_module_version": "1.2.0",
      "model_name": "LayoutModel",
      "state": {}
     },
     "20ea989f81f24554a5dd099057b82012": {
      "model_module": "@jupyter-widgets/base",
      "model_module_version": "1.2.0",
      "model_name": "LayoutModel",
      "state": {}
     },
     "21371e91bbdf4158b821cf3358b3e616": {
      "model_module": "@jupyter-widgets/controls",
      "model_module_version": "1.5.0",
      "model_name": "HTMLModel",
      "state": {
       "layout": "IPY_MODEL_e056d812ac0d401382f42bc54f72e509",
       "style": "IPY_MODEL_115fc00f13dd47b2828310d3f731318b",
       "value": " 294/294 [03:25&lt;00:00,  2.34it/s]"
      }
     },
     "21bc76863dc044448c722e736ec04eb1": {
      "model_module": "@jupyter-widgets/controls",
      "model_module_version": "1.5.0",
      "model_name": "DescriptionStyleModel",
      "state": {
       "description_width": ""
      }
     },
     "224afaa9ec7f49399fe55adf525b8cfe": {
      "model_module": "@jupyter-widgets/base",
      "model_module_version": "1.2.0",
      "model_name": "LayoutModel",
      "state": {}
     },
     "229fc7fe4b7046f0a849adcf3c8ee921": {
      "model_module": "@jupyter-widgets/base",
      "model_module_version": "1.2.0",
      "model_name": "LayoutModel",
      "state": {}
     },
     "22fa9fdfe3284476a17ea65126569bb9": {
      "model_module": "@jupyter-widgets/controls",
      "model_module_version": "1.5.0",
      "model_name": "HBoxModel",
      "state": {
       "children": [
        "IPY_MODEL_7f2ebd9f2a0f4874bd1a59ce09e1c446",
        "IPY_MODEL_dbdf672b92f844108d2816a704281056",
        "IPY_MODEL_35c2945525114350b7528e4fa1ac0037"
       ],
       "layout": "IPY_MODEL_934effae2ad947a8b18d8e7300c8fa1f"
      }
     },
     "23075c7683be43ca9399f602d35acee8": {
      "model_module": "@jupyter-widgets/controls",
      "model_module_version": "1.5.0",
      "model_name": "HBoxModel",
      "state": {
       "children": [
        "IPY_MODEL_f58a93d0e5094b959b33e875f4a2e422",
        "IPY_MODEL_b34f0f1124e248fd91f9a33c8107facc",
        "IPY_MODEL_69e0211ee00a4ed4bde40af411629169"
       ],
       "layout": "IPY_MODEL_e0b0969f329644ed828d1cd01ba5f3a2"
      }
     },
     "238f0f379dce4be88ab918ae9fa2daa3": {
      "model_module": "@jupyter-widgets/controls",
      "model_module_version": "1.5.0",
      "model_name": "HBoxModel",
      "state": {
       "children": [
        "IPY_MODEL_f4394488619344218bf03283f2e4ac91",
        "IPY_MODEL_99c7378130184602995a984081155e36",
        "IPY_MODEL_1bbc6ce762654d4ba07286373f560467"
       ],
       "layout": "IPY_MODEL_50c2aff695cd4bd5b69252f94d7b3467"
      }
     },
     "23a22ffc33dd444f9d209e672b3f1ea9": {
      "model_module": "@jupyter-widgets/base",
      "model_module_version": "1.2.0",
      "model_name": "LayoutModel",
      "state": {}
     },
     "23c79385da6c4952a317a1f5a981b52f": {
      "model_module": "@jupyter-widgets/controls",
      "model_module_version": "1.5.0",
      "model_name": "DescriptionStyleModel",
      "state": {
       "description_width": ""
      }
     },
     "23d3a7f0e1e048b18a351cc32308428a": {
      "model_module": "@jupyter-widgets/controls",
      "model_module_version": "1.5.0",
      "model_name": "DescriptionStyleModel",
      "state": {
       "description_width": ""
      }
     },
     "23fbcfb2890d44cea8afbf5a6c80425d": {
      "model_module": "@jupyter-widgets/controls",
      "model_module_version": "1.5.0",
      "model_name": "HTMLModel",
      "state": {
       "layout": "IPY_MODEL_43bc3c3a418245ecade7c5aae8f7cc8d",
       "style": "IPY_MODEL_798d86b890ea4ae884787de3b716b095",
       "value": "100%"
      }
     },
     "24350cdf087d4b998d73d6bc8f5ea31f": {
      "model_module": "@jupyter-widgets/controls",
      "model_module_version": "1.5.0",
      "model_name": "HTMLModel",
      "state": {
       "layout": "IPY_MODEL_a463ae4df2784f97a3d14f9d5207cd2f",
       "style": "IPY_MODEL_aabc668d576e444c803392b4a5f9b017",
       "value": " 700/700 [11:07&lt;00:00,  2.41it/s]"
      }
     },
     "246cbc4a5b594dd5acfd9c84f90897ef": {
      "model_module": "@jupyter-widgets/controls",
      "model_module_version": "1.5.0",
      "model_name": "FloatProgressModel",
      "state": {
       "bar_style": "success",
       "layout": "IPY_MODEL_cfa3a90d910f40d18f9f406826de9692",
       "max": 284,
       "style": "IPY_MODEL_abf99568c09247b48fdd8381f1db5235",
       "value": 284
      }
     },
     "2526ea7043c2448fb0d2c6d9550d48e9": {
      "model_module": "@jupyter-widgets/controls",
      "model_module_version": "1.5.0",
      "model_name": "HBoxModel",
      "state": {
       "children": [
        "IPY_MODEL_7bc23e6f26ed480d9fde9f661749ad14",
        "IPY_MODEL_0c9f9d305aed461cbd42329afde5b5d6",
        "IPY_MODEL_e5cc004ce9ce47b09d368ed7f15a6489"
       ],
       "layout": "IPY_MODEL_0a8192fd6fa249b89109755b0204cbbd"
      }
     },
     "25aac2eacb6e4dd7abdc2df8fd6ddaf1": {
      "model_module": "@jupyter-widgets/controls",
      "model_module_version": "1.5.0",
      "model_name": "FloatProgressModel",
      "state": {
       "bar_style": "success",
       "layout": "IPY_MODEL_d6e6af85ca2d492fba5116ae0220964b",
       "max": 366,
       "style": "IPY_MODEL_e438a97b209a45f4a1a3918eb756d89b",
       "value": 366
      }
     },
     "25abe9dba60c4a4da51cf031b75a13ca": {
      "model_module": "@jupyter-widgets/base",
      "model_module_version": "1.2.0",
      "model_name": "LayoutModel",
      "state": {}
     },
     "25ac6160fd84421d89ad026f41262049": {
      "model_module": "@jupyter-widgets/controls",
      "model_module_version": "1.5.0",
      "model_name": "HTMLModel",
      "state": {
       "layout": "IPY_MODEL_b13a1363641e437ea02c07f5dae5cac7",
       "style": "IPY_MODEL_da8b8b5a243d45dbbd02412972d27543",
       "value": " 700/700 [07:10&lt;00:00,  2.77it/s]"
      }
     },
     "25e8ec9eb6ec4ac48a096fff2db341cd": {
      "model_module": "@jupyter-widgets/controls",
      "model_module_version": "1.5.0",
      "model_name": "FloatProgressModel",
      "state": {
       "bar_style": "success",
       "layout": "IPY_MODEL_23a22ffc33dd444f9d209e672b3f1ea9",
       "max": 2672,
       "style": "IPY_MODEL_cacb7533d368433fb5600991c0e7e383",
       "value": 2672
      }
     },
     "2642a5c8b0c7401eb455f1659f15bb4c": {
      "model_module": "@jupyter-widgets/base",
      "model_module_version": "1.2.0",
      "model_name": "LayoutModel",
      "state": {}
     },
     "26cbc486b7df4c59963e0865ddbd5c46": {
      "model_module": "@jupyter-widgets/base",
      "model_module_version": "1.2.0",
      "model_name": "LayoutModel",
      "state": {}
     },
     "26dadddc46e841e8a56fecacfc628058": {
      "model_module": "@jupyter-widgets/controls",
      "model_module_version": "1.5.0",
      "model_name": "ProgressStyleModel",
      "state": {
       "description_width": ""
      }
     },
     "26ef18541e7c4e4b9c56d47365759e7a": {
      "model_module": "@jupyter-widgets/base",
      "model_module_version": "1.2.0",
      "model_name": "LayoutModel",
      "state": {}
     },
     "26fdc1a5fa824e61be1e213fc4fd0e3d": {
      "model_module": "@jupyter-widgets/controls",
      "model_module_version": "1.5.0",
      "model_name": "HBoxModel",
      "state": {
       "children": [
        "IPY_MODEL_23fbcfb2890d44cea8afbf5a6c80425d",
        "IPY_MODEL_7ddcc675b28f45bd959a704f6b817078",
        "IPY_MODEL_83418f5b5b454a8a966b75b49e367935"
       ],
       "layout": "IPY_MODEL_73380672dffd4403818e3e4491469296"
      }
     },
     "274fc3e8ba464bb4a522c5bf06245d6f": {
      "model_module": "@jupyter-widgets/base",
      "model_module_version": "1.2.0",
      "model_name": "LayoutModel",
      "state": {}
     },
     "2772ec00d9bd46b997ebd0d408ff0019": {
      "model_module": "@jupyter-widgets/controls",
      "model_module_version": "1.5.0",
      "model_name": "HTMLModel",
      "state": {
       "layout": "IPY_MODEL_1670b76ccd1b479eb8673f734137038e",
       "style": "IPY_MODEL_bcd3d092f9dd49fa97cdb2bb41dd3065",
       "value": "100%"
      }
     },
     "279bb4c58ae44197acd3e6c379c47889": {
      "model_module": "@jupyter-widgets/base",
      "model_module_version": "1.2.0",
      "model_name": "LayoutModel",
      "state": {}
     },
     "27ccae432b954b889a4e77da97b6e918": {
      "model_module": "@jupyter-widgets/controls",
      "model_module_version": "1.5.0",
      "model_name": "DescriptionStyleModel",
      "state": {
       "description_width": ""
      }
     },
     "28251c6ecb2147a3bc5d3b207828fed0": {
      "model_module": "@jupyter-widgets/base",
      "model_module_version": "1.2.0",
      "model_name": "LayoutModel",
      "state": {}
     },
     "2904b912037e489995163cc361ad3f1b": {
      "model_module": "@jupyter-widgets/controls",
      "model_module_version": "1.5.0",
      "model_name": "DescriptionStyleModel",
      "state": {
       "description_width": ""
      }
     },
     "292590c26df24c049f7f600437df535a": {
      "model_module": "@jupyter-widgets/controls",
      "model_module_version": "1.5.0",
      "model_name": "HBoxModel",
      "state": {
       "children": [
        "IPY_MODEL_5a4883729f4445f09d51f47cf2b13b16",
        "IPY_MODEL_f46426e6cae74f8a888d1aaa1b6cbb69",
        "IPY_MODEL_93300900d30b460eb6467ececb49cc31"
       ],
       "layout": "IPY_MODEL_b8ffd4016a3e4ff1abecee0f121f5ccb"
      }
     },
     "294f7a8c7e864cb59ea39370e1c0c459": {
      "model_module": "@jupyter-widgets/controls",
      "model_module_version": "1.5.0",
      "model_name": "HTMLModel",
      "state": {
       "layout": "IPY_MODEL_919597e003134d24ab46dfbeef6b29a8",
       "style": "IPY_MODEL_b7b5d0227be54374aa641a3b5d8532ae",
       "value": "  0%"
      }
     },
     "29ba8a3c8ab848ccba5646b13a434324": {
      "model_module": "@jupyter-widgets/base",
      "model_module_version": "1.2.0",
      "model_name": "LayoutModel",
      "state": {}
     },
     "29bf2b1fab874e8dbd49a2a2001a0cd2": {
      "model_module": "@jupyter-widgets/controls",
      "model_module_version": "1.5.0",
      "model_name": "HTMLModel",
      "state": {
       "layout": "IPY_MODEL_d740789bec544ccc855f3392b62d1405",
       "style": "IPY_MODEL_8068a8e273c1425e88157a7e6424d826",
       "value": "100%"
      }
     },
     "29c4ef7ca23f4051b3756ec67448a043": {
      "model_module": "@jupyter-widgets/controls",
      "model_module_version": "1.5.0",
      "model_name": "HBoxModel",
      "state": {
       "children": [
        "IPY_MODEL_89ec6a09f0af4c89a54d2b3eb2dc6975",
        "IPY_MODEL_cd4eb86d0b4b4672b88fc38645eff55f",
        "IPY_MODEL_2a123c61065b45f290e2cd615e8ab220"
       ],
       "layout": "IPY_MODEL_f256136a56d54fab9f8cf5a94023a07a"
      }
     },
     "2a123c61065b45f290e2cd615e8ab220": {
      "model_module": "@jupyter-widgets/controls",
      "model_module_version": "1.5.0",
      "model_name": "HTMLModel",
      "state": {
       "layout": "IPY_MODEL_90a95976a4ce47f7897ee58cd5783d6a",
       "style": "IPY_MODEL_5ca655bc2f4545798d1020924a2a1902",
       "value": " 662/662 [10:03&lt;00:00,  3.19it/s]"
      }
     },
     "2a3491548ddc4483afffc3a9e6bc92d5": {
      "model_module": "@jupyter-widgets/controls",
      "model_module_version": "1.5.0",
      "model_name": "ProgressStyleModel",
      "state": {
       "description_width": ""
      }
     },
     "2a3af8dff06845b39035e215f2907445": {
      "model_module": "@jupyter-widgets/controls",
      "model_module_version": "1.5.0",
      "model_name": "DescriptionStyleModel",
      "state": {
       "description_width": ""
      }
     },
     "2a86251adbc343628d4cecc3056edd36": {
      "model_module": "@jupyter-widgets/base",
      "model_module_version": "1.2.0",
      "model_name": "LayoutModel",
      "state": {}
     },
     "2ab2d491eeaa4222b6439dc2507c49c5": {
      "model_module": "@jupyter-widgets/controls",
      "model_module_version": "1.5.0",
      "model_name": "DescriptionStyleModel",
      "state": {
       "description_width": ""
      }
     },
     "2af1f692cd4c4c3690bb916cc767b420": {
      "model_module": "@jupyter-widgets/controls",
      "model_module_version": "1.5.0",
      "model_name": "HTMLModel",
      "state": {
       "layout": "IPY_MODEL_13d8c520b76847c2980434b5f872eacb",
       "style": "IPY_MODEL_ed538b90fdd0473b9e7b9c663bb6860d",
       "value": " 294/294 [03:26&lt;00:00,  2.34it/s]"
      }
     },
     "2b54bf5a9db44fc993e32b6961264705": {
      "model_module": "@jupyter-widgets/base",
      "model_module_version": "1.2.0",
      "model_name": "LayoutModel",
      "state": {}
     },
     "2b6793a3225e4099b6f6227a5c786624": {
      "model_module": "@jupyter-widgets/base",
      "model_module_version": "1.2.0",
      "model_name": "LayoutModel",
      "state": {}
     },
     "2b95fe9b36c543a4b82f6f48552763bc": {
      "model_module": "@jupyter-widgets/controls",
      "model_module_version": "1.5.0",
      "model_name": "DescriptionStyleModel",
      "state": {
       "description_width": ""
      }
     },
     "2bc36d6e7c3743db83937282249b89d6": {
      "model_module": "@jupyter-widgets/controls",
      "model_module_version": "1.5.0",
      "model_name": "DescriptionStyleModel",
      "state": {
       "description_width": ""
      }
     },
     "2bf3870fc1eb428ca84a3274e21b70f7": {
      "model_module": "@jupyter-widgets/controls",
      "model_module_version": "1.5.0",
      "model_name": "HTMLModel",
      "state": {
       "layout": "IPY_MODEL_94fabfd499e64b55bca4d55933c477cd",
       "style": "IPY_MODEL_d8330a64fa854598aaac53dec2155a86",
       "value": " 294/294 [02:12&lt;00:00,  3.26it/s]"
      }
     },
     "2bfa66bc9fbb41bf920e1255c2210122": {
      "model_module": "@jupyter-widgets/controls",
      "model_module_version": "1.5.0",
      "model_name": "DescriptionStyleModel",
      "state": {
       "description_width": ""
      }
     },
     "2c30e2e4a81d41ec92f454f09141b64b": {
      "model_module": "@jupyter-widgets/controls",
      "model_module_version": "1.5.0",
      "model_name": "DescriptionStyleModel",
      "state": {
       "description_width": ""
      }
     },
     "2c5e09840f5348988d4e2ec80a6e8d29": {
      "model_module": "@jupyter-widgets/base",
      "model_module_version": "1.2.0",
      "model_name": "LayoutModel",
      "state": {}
     },
     "2c9580f0442749928ecb923a79539dea": {
      "model_module": "@jupyter-widgets/controls",
      "model_module_version": "1.5.0",
      "model_name": "HTMLModel",
      "state": {
       "layout": "IPY_MODEL_c17d714c98b74a3e8c4dcd74e9d5c2a6",
       "style": "IPY_MODEL_056ea4a8d9a74be184138b41540594f5",
       "value": " 284/284 [02:41&lt;00:00,  1.16it/s]"
      }
     },
     "2cb34c45b78d4224afeddd48ad6fcfca": {
      "model_module": "@jupyter-widgets/controls",
      "model_module_version": "1.5.0",
      "model_name": "DescriptionStyleModel",
      "state": {
       "description_width": ""
      }
     },
     "2cd2e485e4b549818b939dec385205c2": {
      "model_module": "@jupyter-widgets/controls",
      "model_module_version": "1.5.0",
      "model_name": "HBoxModel",
      "state": {
       "children": [
        "IPY_MODEL_97d7c111745a4804aedbce28f81d629f",
        "IPY_MODEL_9f098aaf21bf4102b78be362bdacc218",
        "IPY_MODEL_018e6eb8c48f4a04b9c48beab546ff66"
       ],
       "layout": "IPY_MODEL_c81fa5bb623c43108f6d4b786680ee7d"
      }
     },
     "2ce0ab8de77c416e91d743401574240a": {
      "model_module": "@jupyter-widgets/controls",
      "model_module_version": "1.5.0",
      "model_name": "HTMLModel",
      "state": {
       "layout": "IPY_MODEL_fb7cbc3bdff04db4bddffc4ff54acd44",
       "style": "IPY_MODEL_1c2b8e1ff2c84b649982b2c36bbc5f18",
       "value": " 309/309 [02:22&lt;00:00,  3.09it/s]"
      }
     },
     "2ce2b01fe8f947d38d79f3863ba0b950": {
      "model_module": "@jupyter-widgets/base",
      "model_module_version": "1.2.0",
      "model_name": "LayoutModel",
      "state": {}
     },
     "2cf4cff270fc4b2e8e6df9061fc9f06d": {
      "model_module": "@jupyter-widgets/controls",
      "model_module_version": "1.5.0",
      "model_name": "ProgressStyleModel",
      "state": {
       "description_width": ""
      }
     },
     "2cfadea17acb41fa83c300a06b7974fc": {
      "model_module": "@jupyter-widgets/controls",
      "model_module_version": "1.5.0",
      "model_name": "DescriptionStyleModel",
      "state": {
       "description_width": ""
      }
     },
     "2d63bfad95c945fd98ce6610fa88c132": {
      "model_module": "@jupyter-widgets/base",
      "model_module_version": "1.2.0",
      "model_name": "LayoutModel",
      "state": {}
     },
     "2d838727c1e647a6b926082a18a5bd5c": {
      "model_module": "@jupyter-widgets/controls",
      "model_module_version": "1.5.0",
      "model_name": "DescriptionStyleModel",
      "state": {
       "description_width": ""
      }
     },
     "2da91bfdae3947c5b51f90fe8ae2ae40": {
      "model_module": "@jupyter-widgets/controls",
      "model_module_version": "1.5.0",
      "model_name": "HTMLModel",
      "state": {
       "layout": "IPY_MODEL_8019745f717a480ea03e588d403d02fa",
       "style": "IPY_MODEL_ff942c7af80d4f52a9cf028d66f30550",
       "value": "100%"
      }
     },
     "2dae2cf0f82043e681eca877c6e26827": {
      "model_module": "@jupyter-widgets/base",
      "model_module_version": "1.2.0",
      "model_name": "LayoutModel",
      "state": {}
     },
     "2dd03d1ab8714202a035f5b4a85d5e23": {
      "model_module": "@jupyter-widgets/controls",
      "model_module_version": "1.5.0",
      "model_name": "HTMLModel",
      "state": {
       "layout": "IPY_MODEL_4393ae83c16d42688ce5316060f8a4d6",
       "style": "IPY_MODEL_5f9f46dff644457e88fbd7a0871c61b9",
       "value": "100%"
      }
     },
     "2e3246291ba84349a450b0946a12290a": {
      "model_module": "@jupyter-widgets/controls",
      "model_module_version": "1.5.0",
      "model_name": "FloatProgressModel",
      "state": {
       "bar_style": "success",
       "layout": "IPY_MODEL_e09b062e5f704839bfb4d7d56c3310b9",
       "max": 284,
       "style": "IPY_MODEL_163705f1d76b4e429ba1d9b5a9913371",
       "value": 284
      }
     },
     "2f491d4dbc9f42ee8726f57ec0e8b6b0": {
      "model_module": "@jupyter-widgets/controls",
      "model_module_version": "1.5.0",
      "model_name": "HTMLModel",
      "state": {
       "layout": "IPY_MODEL_855462c24f1947eaa30ab29dddcbe3db",
       "style": "IPY_MODEL_36c322e6b1a04d6aa4dd83c95166e128",
       "value": " 289/289 [03:12&lt;00:00,  1.49it/s]"
      }
     },
     "2fa1086acf1c42f58cf1c04635afc414": {
      "model_module": "@jupyter-widgets/base",
      "model_module_version": "1.2.0",
      "model_name": "LayoutModel",
      "state": {}
     },
     "2fe1f3f3c47a4ba0b0b580d8f45cc550": {
      "model_module": "@jupyter-widgets/controls",
      "model_module_version": "1.5.0",
      "model_name": "FloatProgressModel",
      "state": {
       "bar_style": "success",
       "layout": "IPY_MODEL_db1ec272047e4631bd21d42aaf8d7ce4",
       "max": 423,
       "style": "IPY_MODEL_757cc50f39454f9aa54623ca06cf2b8b",
       "value": 423
      }
     },
     "303a4a634f4d4f40b7af272de25541a6": {
      "model_module": "@jupyter-widgets/controls",
      "model_module_version": "1.5.0",
      "model_name": "HTMLModel",
      "state": {
       "layout": "IPY_MODEL_2fa1086acf1c42f58cf1c04635afc414",
       "style": "IPY_MODEL_a83388d2a59a41d880a3d07caa7e737f",
       "value": " 313/313 [03:47&lt;00:00,  1.49it/s]"
      }
     },
     "30a443f80d3041baa0b9074bb3381cb8": {
      "model_module": "@jupyter-widgets/controls",
      "model_module_version": "1.5.0",
      "model_name": "DescriptionStyleModel",
      "state": {
       "description_width": ""
      }
     },
     "30ebc0389bc7413a9f49861b72dd42e7": {
      "model_module": "@jupyter-widgets/base",
      "model_module_version": "1.2.0",
      "model_name": "LayoutModel",
      "state": {}
     },
     "311fae6591294a0e86e008ce55acd597": {
      "model_module": "@jupyter-widgets/base",
      "model_module_version": "1.2.0",
      "model_name": "LayoutModel",
      "state": {}
     },
     "31244c778eec412897569efe7278e97a": {
      "model_module": "@jupyter-widgets/base",
      "model_module_version": "1.2.0",
      "model_name": "LayoutModel",
      "state": {}
     },
     "312df954cb634c63973f2c9045497475": {
      "model_module": "@jupyter-widgets/controls",
      "model_module_version": "1.5.0",
      "model_name": "HTMLModel",
      "state": {
       "layout": "IPY_MODEL_bd94af0523a241919e67749fe1fed971",
       "style": "IPY_MODEL_2d838727c1e647a6b926082a18a5bd5c",
       "value": "100%"
      }
     },
     "313253ac890c4f8b98a78b38c2d19a55": {
      "model_module": "@jupyter-widgets/controls",
      "model_module_version": "1.5.0",
      "model_name": "FloatProgressModel",
      "state": {
       "bar_style": "success",
       "layout": "IPY_MODEL_44eebced9f5d499daf8f4a6307780c5c",
       "max": 309,
       "style": "IPY_MODEL_9fd4c97bb037416da017a1f308ff5e74",
       "value": 309
      }
     },
     "313ddb782a68484facdbd57079faf543": {
      "model_module": "@jupyter-widgets/base",
      "model_module_version": "1.2.0",
      "model_name": "LayoutModel",
      "state": {}
     },
     "316abe84efe246328fb1477da3d155cf": {
      "model_module": "@jupyter-widgets/controls",
      "model_module_version": "1.5.0",
      "model_name": "HTMLModel",
      "state": {
       "layout": "IPY_MODEL_f0bec105372b474abfcef15bf031a82b",
       "style": "IPY_MODEL_4d19acf692884d69aeb9fd6e2d4155c8",
       "value": " 228/228 [02:13&lt;00:00,  1.46it/s]"
      }
     },
     "317fafec996441a39663746c4e798ccc": {
      "model_module": "@jupyter-widgets/controls",
      "model_module_version": "1.5.0",
      "model_name": "FloatProgressModel",
      "state": {
       "bar_style": "success",
       "layout": "IPY_MODEL_ffb80e9a828a42f4aab64ce65bfb9f83",
       "max": 312,
       "style": "IPY_MODEL_c1141edb77384221869ac5e1e10f83d8",
       "value": 312
      }
     },
     "31da84915ab34fa8be37bb9fa613fe06": {
      "model_module": "@jupyter-widgets/base",
      "model_module_version": "1.2.0",
      "model_name": "LayoutModel",
      "state": {}
     },
     "31eeb1fc2f0d4c5bb1348aff3cc53cf5": {
      "model_module": "@jupyter-widgets/controls",
      "model_module_version": "1.5.0",
      "model_name": "DescriptionStyleModel",
      "state": {
       "description_width": ""
      }
     },
     "32182fc82f364e3789b52c54a925d66d": {
      "model_module": "@jupyter-widgets/base",
      "model_module_version": "1.2.0",
      "model_name": "LayoutModel",
      "state": {}
     },
     "32400e7637df4a80950996057c09f47d": {
      "model_module": "@jupyter-widgets/controls",
      "model_module_version": "1.5.0",
      "model_name": "ProgressStyleModel",
      "state": {
       "description_width": ""
      }
     },
     "325e20d1eda243a2a09a573932c06019": {
      "model_module": "@jupyter-widgets/controls",
      "model_module_version": "1.5.0",
      "model_name": "HTMLModel",
      "state": {
       "layout": "IPY_MODEL_f694816343494badb308f2fe63ba383d",
       "style": "IPY_MODEL_3b875ceb8e5b423c82a8948612610e07",
       "value": " 2672/2672 [34:47&lt;00:00,  2.72it/s]"
      }
     },
     "32c7b4d3e3a946aa8313a185208a717c": {
      "model_module": "@jupyter-widgets/controls",
      "model_module_version": "1.5.0",
      "model_name": "DescriptionStyleModel",
      "state": {
       "description_width": ""
      }
     },
     "33102ec99980433fba1cda8dbad0fb5a": {
      "model_module": "@jupyter-widgets/controls",
      "model_module_version": "1.5.0",
      "model_name": "FloatProgressModel",
      "state": {
       "bar_style": "danger",
       "layout": "IPY_MODEL_2dae2cf0f82043e681eca877c6e26827",
       "max": 6447,
       "style": "IPY_MODEL_01f099481e004fcdad6d764843a8753d",
       "value": 172
      }
     },
     "3322ddf6c0794715b8386a0c741572db": {
      "model_module": "@jupyter-widgets/controls",
      "model_module_version": "1.5.0",
      "model_name": "HBoxModel",
      "state": {
       "children": [
        "IPY_MODEL_b95f18d948ae4a5d9accdb2da94ff4c8",
        "IPY_MODEL_8ba21b586b24460b9408de8f798ffead",
        "IPY_MODEL_24350cdf087d4b998d73d6bc8f5ea31f"
       ],
       "layout": "IPY_MODEL_ea3a6993cacc4234993c2c4dee659861"
      }
     },
     "339dedce05434239863d92090ebd3a93": {
      "model_module": "@jupyter-widgets/controls",
      "model_module_version": "1.5.0",
      "model_name": "DescriptionStyleModel",
      "state": {
       "description_width": ""
      }
     },
     "3426793224c141969bcea0bee12f2255": {
      "model_module": "@jupyter-widgets/controls",
      "model_module_version": "1.5.0",
      "model_name": "HTMLModel",
      "state": {
       "layout": "IPY_MODEL_99b3710c2bed4ecf9a9db7be6133b89c",
       "style": "IPY_MODEL_811c11bf4b224c8c92d0bc64adc948e9",
       "value": " 647/647 [08:26&lt;00:00,  2.53it/s]"
      }
     },
     "34cb6452033349bb96a028e494a095a9": {
      "model_module": "@jupyter-widgets/controls",
      "model_module_version": "1.5.0",
      "model_name": "FloatProgressModel",
      "state": {
       "bar_style": "success",
       "layout": "IPY_MODEL_f2b03650dbfe4bf894b7aefee592304b",
       "max": 228,
       "style": "IPY_MODEL_7088f74ef82545b3bd73890e71e68380",
       "value": 228
      }
     },
     "354643e9ea8040ec84c273e21e07e636": {
      "model_module": "@jupyter-widgets/controls",
      "model_module_version": "1.5.0",
      "model_name": "HBoxModel",
      "state": {
       "children": [
        "IPY_MODEL_ec512afc383a4edb92d67541bff7b8d4",
        "IPY_MODEL_1b69fcb412094d6194267a99d8f235de",
        "IPY_MODEL_b5d3392c6ed04f5098b7bf9c71a28f00"
       ],
       "layout": "IPY_MODEL_6f1a712e6827456095509df256ef5517"
      }
     },
     "3547bbff10d14e8cacea670698573698": {
      "model_module": "@jupyter-widgets/base",
      "model_module_version": "1.2.0",
      "model_name": "LayoutModel",
      "state": {}
     },
     "356db7be625d40b19bbd68f538f484c7": {
      "model_module": "@jupyter-widgets/controls",
      "model_module_version": "1.5.0",
      "model_name": "HTMLModel",
      "state": {
       "layout": "IPY_MODEL_4ede34f633294be6a0e9ed745fd99ea4",
       "style": "IPY_MODEL_7953f82e0b944cabac8df110de78314e",
       "value": "100%"
      }
     },
     "35ae7bcd56914e47b5b3bba30585537b": {
      "model_module": "@jupyter-widgets/controls",
      "model_module_version": "1.5.0",
      "model_name": "DescriptionStyleModel",
      "state": {
       "description_width": ""
      }
     },
     "35c2945525114350b7528e4fa1ac0037": {
      "model_module": "@jupyter-widgets/controls",
      "model_module_version": "1.5.0",
      "model_name": "HTMLModel",
      "state": {
       "layout": "IPY_MODEL_7425a00362904ed4be1a6dc3773de624",
       "style": "IPY_MODEL_dcc45f9d98944cfa895dfcc819135566",
       "value": " 309/309 [02:25&lt;00:00,  2.74it/s]"
      }
     },
     "35d96fa62d454a9d95622b5081dff9bf": {
      "model_module": "@jupyter-widgets/controls",
      "model_module_version": "1.5.0",
      "model_name": "HBoxModel",
      "state": {
       "children": [
        "IPY_MODEL_5e62559c1c4245aa82de686f2470d5ee",
        "IPY_MODEL_7c3287d3d0864115996338bc91d13f77",
        "IPY_MODEL_8381474ff74245eb849a490a84e300dc"
       ],
       "layout": "IPY_MODEL_b9748d347c924812b2e4ad006535ac66"
      }
     },
     "36337764321046bab94df94d595c75a8": {
      "model_module": "@jupyter-widgets/controls",
      "model_module_version": "1.5.0",
      "model_name": "DescriptionStyleModel",
      "state": {
       "description_width": ""
      }
     },
     "36662abe3f744d61af340bf6e0ed9453": {
      "model_module": "@jupyter-widgets/base",
      "model_module_version": "1.2.0",
      "model_name": "LayoutModel",
      "state": {}
     },
     "36c322e6b1a04d6aa4dd83c95166e128": {
      "model_module": "@jupyter-widgets/controls",
      "model_module_version": "1.5.0",
      "model_name": "DescriptionStyleModel",
      "state": {
       "description_width": ""
      }
     },
     "36e529bee56049a8b53594774d6ba6f9": {
      "model_module": "@jupyter-widgets/base",
      "model_module_version": "1.2.0",
      "model_name": "LayoutModel",
      "state": {}
     },
     "376bb1704215480dbddd239481216290": {
      "model_module": "@jupyter-widgets/controls",
      "model_module_version": "1.5.0",
      "model_name": "HTMLModel",
      "state": {
       "layout": "IPY_MODEL_68cef5a1e23047e78a47a3eed68cc61f",
       "style": "IPY_MODEL_d7d6b2e8d63a406f93854a5e34536450",
       "value": "100%"
      }
     },
     "3781a1aa7ab34777b73c1354e23da028": {
      "model_module": "@jupyter-widgets/base",
      "model_module_version": "1.2.0",
      "model_name": "LayoutModel",
      "state": {}
     },
     "37968bedcdc043d088f28b7c24a61ea9": {
      "model_module": "@jupyter-widgets/base",
      "model_module_version": "1.2.0",
      "model_name": "LayoutModel",
      "state": {}
     },
     "37a92490dd3246dca96627978a341d72": {
      "model_module": "@jupyter-widgets/controls",
      "model_module_version": "1.5.0",
      "model_name": "HTMLModel",
      "state": {
       "layout": "IPY_MODEL_f9ea62a2c362464f9d9b2e92e02cc56e",
       "style": "IPY_MODEL_90f660bc460a4bb19ce2e9b811b1ba05",
       "value": " 172/6447 [00:13&lt;04:49, 21.64it/s]"
      }
     },
     "37aefe0d870542529fec091df726dd89": {
      "model_module": "@jupyter-widgets/controls",
      "model_module_version": "1.5.0",
      "model_name": "DescriptionStyleModel",
      "state": {
       "description_width": ""
      }
     },
     "37c9a77f4e2946489ef42f585ee80c19": {
      "model_module": "@jupyter-widgets/controls",
      "model_module_version": "1.5.0",
      "model_name": "FloatProgressModel",
      "state": {
       "bar_style": "success",
       "layout": "IPY_MODEL_60ef43bb116841148c5e8cd85d38b8bd",
       "max": 336,
       "style": "IPY_MODEL_b0b76523a6424ee5bb3f25147e5ee0e3",
       "value": 336
      }
     },
     "37ec0d0364564682af76d8f4086dbc6e": {
      "model_module": "@jupyter-widgets/controls",
      "model_module_version": "1.5.0",
      "model_name": "HBoxModel",
      "state": {
       "children": [
        "IPY_MODEL_57ff833fce774bdca8b92d6f924c3dbb",
        "IPY_MODEL_f72b8cdbf8f74c6a88d31873b6e2e5b8",
        "IPY_MODEL_9d8b0a35363b49d8a414f3d04b5d6d74"
       ],
       "layout": "IPY_MODEL_58a0fc1801ee481da972ad30294ee54d"
      }
     },
     "37f6586e96e34fa9839d178dfc36cf94": {
      "model_module": "@jupyter-widgets/controls",
      "model_module_version": "1.5.0",
      "model_name": "HBoxModel",
      "state": {
       "children": [
        "IPY_MODEL_4a1d1e08a9db410d9f9c28c835823a63",
        "IPY_MODEL_25aac2eacb6e4dd7abdc2df8fd6ddaf1",
        "IPY_MODEL_887ad81828a442f79d234a0b22345d31"
       ],
       "layout": "IPY_MODEL_5d6284d0872b4d2a8059ac5615e2c384"
      }
     },
     "382ee23fb9bd403c82f6290d02376d1d": {
      "model_module": "@jupyter-widgets/base",
      "model_module_version": "1.2.0",
      "model_name": "LayoutModel",
      "state": {}
     },
     "384d0cacb50e4f04a425fe5499dd6e44": {
      "model_module": "@jupyter-widgets/controls",
      "model_module_version": "1.5.0",
      "model_name": "DescriptionStyleModel",
      "state": {
       "description_width": ""
      }
     },
     "38616b68d0864fb689e3cf90cbd2ae2f": {
      "model_module": "@jupyter-widgets/controls",
      "model_module_version": "1.5.0",
      "model_name": "HTMLModel",
      "state": {
       "layout": "IPY_MODEL_7710f3021a5840e680de8e9f81c2d7d6",
       "style": "IPY_MODEL_9bd6d236d78b4aaf9e3444d2804822fd",
       "value": " 811/811 [12:59&lt;00:00,  1.85it/s]"
      }
     },
     "386acf258ca540499f9037a998d895f2": {
      "model_module": "@jupyter-widgets/controls",
      "model_module_version": "1.5.0",
      "model_name": "HTMLModel",
      "state": {
       "layout": "IPY_MODEL_9711704e425c461dab0dbe5d3738d0a0",
       "style": "IPY_MODEL_20759e3c3bb646cfa3a5615888d6b61b",
       "value": "100%"
      }
     },
     "3901f8ce9cf0483ea652246649a5e300": {
      "model_module": "@jupyter-widgets/controls",
      "model_module_version": "1.5.0",
      "model_name": "DescriptionStyleModel",
      "state": {
       "description_width": ""
      }
     },
     "39645c70e4b8482992935f4df5882181": {
      "model_module": "@jupyter-widgets/controls",
      "model_module_version": "1.5.0",
      "model_name": "DescriptionStyleModel",
      "state": {
       "description_width": ""
      }
     },
     "39ba203a8a5a4fef82199c3d55e66519": {
      "model_module": "@jupyter-widgets/controls",
      "model_module_version": "1.5.0",
      "model_name": "ProgressStyleModel",
      "state": {
       "description_width": ""
      }
     },
     "39f1802680f849b9a673b7134abb4719": {
      "model_module": "@jupyter-widgets/controls",
      "model_module_version": "1.5.0",
      "model_name": "DescriptionStyleModel",
      "state": {
       "description_width": ""
      }
     },
     "3a76e6fab0984ea1826265aebf3137d7": {
      "model_module": "@jupyter-widgets/controls",
      "model_module_version": "1.5.0",
      "model_name": "HBoxModel",
      "state": {
       "children": [
        "IPY_MODEL_622e27ebd22c4e629a3660bc4b0233e7",
        "IPY_MODEL_876b3f41d5cb4d5e859bf82f2f18717b",
        "IPY_MODEL_b6f0c7ec02804be7a05405e44c710512"
       ],
       "layout": "IPY_MODEL_139fbaf55d24467ea5f1e66f31ff5534"
      }
     },
     "3abc8a6ed7ce4befbec27a53e990c447": {
      "model_module": "@jupyter-widgets/controls",
      "model_module_version": "1.5.0",
      "model_name": "HTMLModel",
      "state": {
       "layout": "IPY_MODEL_c57c069df9b3402090e81c0279cb4189",
       "style": "IPY_MODEL_de25d7d2b5c84c7cb48670e566a7e2e9",
       "value": " 647/647 [09:50&lt;00:00,  3.18it/s]"
      }
     },
     "3aebbf0af971491d8b4aaf8166809161": {
      "model_module": "@jupyter-widgets/controls",
      "model_module_version": "1.5.0",
      "model_name": "FloatProgressModel",
      "state": {
       "bar_style": "success",
       "layout": "IPY_MODEL_43beb682e9f3433b99cd51f2e36a7eff",
       "max": 811,
       "style": "IPY_MODEL_da6ddd5d32ad4585b85d08e021b8b8e9",
       "value": 811
      }
     },
     "3af1a6049fa44492b9572e30344a7b4a": {
      "model_module": "@jupyter-widgets/controls",
      "model_module_version": "1.5.0",
      "model_name": "HBoxModel",
      "state": {
       "children": [
        "IPY_MODEL_a4bb29872dae4cb38d7d05e116478f2c",
        "IPY_MODEL_86217193a3f345b09e66301a54afece0",
        "IPY_MODEL_dfcae7d36bf24844afdc8cac7d1372bc"
       ],
       "layout": "IPY_MODEL_7beeeb9312224886b2b1dca7cc8822d3"
      }
     },
     "3b3af4a1af714ac7bfe1ced758661787": {
      "model_module": "@jupyter-widgets/controls",
      "model_module_version": "1.5.0",
      "model_name": "HTMLModel",
      "state": {
       "layout": "IPY_MODEL_755d7d56d63244d895c965c895c943a1",
       "style": "IPY_MODEL_02aaed007605434a831960a28c7c0e2c",
       "value": " 6447/6447 [1:07:54&lt;00:00,  2.52it/s]"
      }
     },
     "3b4aa8bbbd47449ebb0e948d3ec4034b": {
      "model_module": "@jupyter-widgets/base",
      "model_module_version": "1.2.0",
      "model_name": "LayoutModel",
      "state": {}
     },
     "3b875ceb8e5b423c82a8948612610e07": {
      "model_module": "@jupyter-widgets/controls",
      "model_module_version": "1.5.0",
      "model_name": "DescriptionStyleModel",
      "state": {
       "description_width": ""
      }
     },
     "3b9bc6c1bb8549228c393638ad30aafa": {
      "model_module": "@jupyter-widgets/controls",
      "model_module_version": "1.5.0",
      "model_name": "FloatProgressModel",
      "state": {
       "bar_style": "success",
       "layout": "IPY_MODEL_5010441c594249b9add4971dbd33d876",
       "max": 313,
       "style": "IPY_MODEL_cab4c907fe0542788eb3d6c84e3bc55a",
       "value": 313
      }
     },
     "3bf5dcfcd44c411d83977964e8dbd430": {
      "model_module": "@jupyter-widgets/controls",
      "model_module_version": "1.5.0",
      "model_name": "FloatProgressModel",
      "state": {
       "bar_style": "success",
       "layout": "IPY_MODEL_f9754a52cf8e420d8331c478984ce5db",
       "max": 700,
       "style": "IPY_MODEL_73396a771838425cac012c98eae9989e",
       "value": 700
      }
     },
     "3c2f9380e52640bab52cd8a20398c048": {
      "model_module": "@jupyter-widgets/controls",
      "model_module_version": "1.5.0",
      "model_name": "HTMLModel",
      "state": {
       "layout": "IPY_MODEL_ad7995cad24b47f3815e2b9a1616e4d2",
       "style": "IPY_MODEL_ec4dac24669a4effbbfc561bcfd16291",
       "value": " 228/228 [01:53&lt;00:00,  1.03s/it]"
      }
     },
     "3c86cd1725254d25bad2f7b67a40940c": {
      "model_module": "@jupyter-widgets/base",
      "model_module_version": "1.2.0",
      "model_name": "LayoutModel",
      "state": {}
     },
     "3c8e46d78030468281cd67fdfa93724a": {
      "model_module": "@jupyter-widgets/controls",
      "model_module_version": "1.5.0",
      "model_name": "FloatProgressModel",
      "state": {
       "bar_style": "success",
       "layout": "IPY_MODEL_11cd3b10f31944a5bdac6799ca304d8f",
       "max": 294,
       "style": "IPY_MODEL_00ff1304d2e940feadbb31edcf642670",
       "value": 294
      }
     },
     "3c9616b3c6584825a5f9e1c9390cb708": {
      "model_module": "@jupyter-widgets/base",
      "model_module_version": "1.2.0",
      "model_name": "LayoutModel",
      "state": {}
     },
     "3d1e131a067c47fdad1c437f0bad41e3": {
      "model_module": "@jupyter-widgets/controls",
      "model_module_version": "1.5.0",
      "model_name": "DescriptionStyleModel",
      "state": {
       "description_width": ""
      }
     },
     "3d238d1f257847e1b970ec5a5afa1dda": {
      "model_module": "@jupyter-widgets/base",
      "model_module_version": "1.2.0",
      "model_name": "LayoutModel",
      "state": {}
     },
     "3d494621c9b94708ab1a59465aa7afb8": {
      "model_module": "@jupyter-widgets/controls",
      "model_module_version": "1.5.0",
      "model_name": "FloatProgressModel",
      "state": {
       "bar_style": "success",
       "layout": "IPY_MODEL_b7a495db43af48bb944b9db1c6bf9ff7",
       "max": 423,
       "style": "IPY_MODEL_bf053617a4c140baa0ca743025ff2222",
       "value": 423
      }
     },
     "3d584d1ca5eb41f39b039eaa8b8c7a77": {
      "model_module": "@jupyter-widgets/controls",
      "model_module_version": "1.5.0",
      "model_name": "HBoxModel",
      "state": {
       "children": [
        "IPY_MODEL_e6a2c0d1fca0451b8b5711f24b0060cf",
        "IPY_MODEL_f3a7d16cc6cd4bb1b92a3262a75dd0b1",
        "IPY_MODEL_6c886e42315848a7b659927ccca1ebc8"
       ],
       "layout": "IPY_MODEL_0b2fe4cee5eb4127a3ac632a2586d421"
      }
     },
     "3d9c6770f9de41ae9f45c3ac414b61ee": {
      "model_module": "@jupyter-widgets/base",
      "model_module_version": "1.2.0",
      "model_name": "LayoutModel",
      "state": {}
     },
     "3dc2e9bf02554418b0a890f5c99c30a7": {
      "model_module": "@jupyter-widgets/base",
      "model_module_version": "1.2.0",
      "model_name": "LayoutModel",
      "state": {}
     },
     "3dc8d146d26e477b82d325c0e3b9c75a": {
      "model_module": "@jupyter-widgets/controls",
      "model_module_version": "1.5.0",
      "model_name": "ProgressStyleModel",
      "state": {
       "description_width": ""
      }
     },
     "3e3c958d46fc433da76824ff878b36d5": {
      "model_module": "@jupyter-widgets/base",
      "model_module_version": "1.2.0",
      "model_name": "LayoutModel",
      "state": {}
     },
     "3ef6c31ae01f4e2f9fc0c1ee993887ec": {
      "model_module": "@jupyter-widgets/controls",
      "model_module_version": "1.5.0",
      "model_name": "ProgressStyleModel",
      "state": {
       "description_width": ""
      }
     },
     "3f382ff8b2ed48b0acdcbf7011a04b5d": {
      "model_module": "@jupyter-widgets/base",
      "model_module_version": "1.2.0",
      "model_name": "LayoutModel",
      "state": {}
     },
     "3f8c63a1187c49acb2f80b5c373a714c": {
      "model_module": "@jupyter-widgets/controls",
      "model_module_version": "1.5.0",
      "model_name": "DescriptionStyleModel",
      "state": {
       "description_width": ""
      }
     },
     "3f98ad4a65b94a6ea13014cec3eaef4c": {
      "model_module": "@jupyter-widgets/controls",
      "model_module_version": "1.5.0",
      "model_name": "HBoxModel",
      "state": {
       "children": [
        "IPY_MODEL_1ef2c39e54fc4037a4193627480d9fb1",
        "IPY_MODEL_5d0bd9d9d98c4f4584871e0aaab24717",
        "IPY_MODEL_40faeb82dbff42d8afb9924bcbecd3ec"
       ],
       "layout": "IPY_MODEL_3d238d1f257847e1b970ec5a5afa1dda"
      }
     },
     "3f9971500f4248b9a884ad4551b7074c": {
      "model_module": "@jupyter-widgets/base",
      "model_module_version": "1.2.0",
      "model_name": "LayoutModel",
      "state": {}
     },
     "3f9f2312d5b648af98c795215256fd74": {
      "model_module": "@jupyter-widgets/base",
      "model_module_version": "1.2.0",
      "model_name": "LayoutModel",
      "state": {}
     },
     "3f9fcc099f3f47808c51b45f632c1969": {
      "model_module": "@jupyter-widgets/controls",
      "model_module_version": "1.5.0",
      "model_name": "ProgressStyleModel",
      "state": {
       "description_width": ""
      }
     },
     "4003e6666e024bf5801f885b20e9b933": {
      "model_module": "@jupyter-widgets/base",
      "model_module_version": "1.2.0",
      "model_name": "LayoutModel",
      "state": {}
     },
     "4025b8fb3f2c4fedb8bbc307f79b40c2": {
      "model_module": "@jupyter-widgets/base",
      "model_module_version": "1.2.0",
      "model_name": "LayoutModel",
      "state": {}
     },
     "403da114486b4054b5cd3abf8df27611": {
      "model_module": "@jupyter-widgets/controls",
      "model_module_version": "1.5.0",
      "model_name": "DescriptionStyleModel",
      "state": {
       "description_width": ""
      }
     },
     "407abd84d07e46a9b2d3700443476bd3": {
      "model_module": "@jupyter-widgets/controls",
      "model_module_version": "1.5.0",
      "model_name": "HTMLModel",
      "state": {
       "layout": "IPY_MODEL_b68abb36a0ad487ab4c007dfc6e38f9e",
       "style": "IPY_MODEL_a93b0b26cf814416b3a29533528e6389",
       "value": " 1095/1095 [18:29&lt;00:00,  5.76it/s]"
      }
     },
     "40d8223e0af443b0b1a6758234b9d4ee": {
      "model_module": "@jupyter-widgets/controls",
      "model_module_version": "1.5.0",
      "model_name": "HBoxModel",
      "state": {
       "children": [
        "IPY_MODEL_5a4566b0778b4b5cba42d1f9441de936",
        "IPY_MODEL_abbfe2964d98449a9c55247e7ec0ea74",
        "IPY_MODEL_7e4ff8adaf754c53aeb7ee9bfe443319"
       ],
       "layout": "IPY_MODEL_894f17a2664a4413ae7d56cb5d73b764"
      }
     },
     "40faeb82dbff42d8afb9924bcbecd3ec": {
      "model_module": "@jupyter-widgets/controls",
      "model_module_version": "1.5.0",
      "model_name": "HTMLModel",
      "state": {
       "layout": "IPY_MODEL_f0026003ede6459cb3a3d00d35581ce2",
       "style": "IPY_MODEL_23d3a7f0e1e048b18a351cc32308428a",
       "value": " 2355/6447 [55:54&lt;2:06:10,  1.85s/it]"
      }
     },
     "4108c62cbc164e99b9814d6882792325": {
      "model_module": "@jupyter-widgets/base",
      "model_module_version": "1.2.0",
      "model_name": "LayoutModel",
      "state": {}
     },
     "41855a432e1e4938a8573d783133ce6a": {
      "model_module": "@jupyter-widgets/controls",
      "model_module_version": "1.5.0",
      "model_name": "FloatProgressModel",
      "state": {
       "bar_style": "success",
       "layout": "IPY_MODEL_0a7857eacc664b5b945b85af557898c9",
       "max": 373,
       "style": "IPY_MODEL_6ea684dad7b14e90868842ed2640c532",
       "value": 373
      }
     },
     "420809324f7842b2baade41db8c73932": {
      "model_module": "@jupyter-widgets/base",
      "model_module_version": "1.2.0",
      "model_name": "LayoutModel",
      "state": {}
     },
     "4223484bd122444d9e7f668a0177e233": {
      "model_module": "@jupyter-widgets/base",
      "model_module_version": "1.2.0",
      "model_name": "LayoutModel",
      "state": {}
     },
     "42241dc4416540d9b0508d76416bb998": {
      "model_module": "@jupyter-widgets/controls",
      "model_module_version": "1.5.0",
      "model_name": "DescriptionStyleModel",
      "state": {
       "description_width": ""
      }
     },
     "437133c0700d49f59c6b96ff58d2e323": {
      "model_module": "@jupyter-widgets/controls",
      "model_module_version": "1.5.0",
      "model_name": "ProgressStyleModel",
      "state": {
       "description_width": ""
      }
     },
     "438528302ae643168b54bbc0a5a1489d": {
      "model_module": "@jupyter-widgets/controls",
      "model_module_version": "1.5.0",
      "model_name": "HTMLModel",
      "state": {
       "layout": "IPY_MODEL_fabbd29a1f7445d6a6f2602c1ea4d813",
       "style": "IPY_MODEL_bd6fd640bdaf44ebac2363871b32de6d",
       "value": "100%"
      }
     },
     "4393ae83c16d42688ce5316060f8a4d6": {
      "model_module": "@jupyter-widgets/base",
      "model_module_version": "1.2.0",
      "model_name": "LayoutModel",
      "state": {}
     },
     "43bc3c3a418245ecade7c5aae8f7cc8d": {
      "model_module": "@jupyter-widgets/base",
      "model_module_version": "1.2.0",
      "model_name": "LayoutModel",
      "state": {}
     },
     "43beb682e9f3433b99cd51f2e36a7eff": {
      "model_module": "@jupyter-widgets/base",
      "model_module_version": "1.2.0",
      "model_name": "LayoutModel",
      "state": {}
     },
     "43f9eaf46f754419917cb0333d7d7551": {
      "model_module": "@jupyter-widgets/controls",
      "model_module_version": "1.5.0",
      "model_name": "HBoxModel",
      "state": {
       "children": [
        "IPY_MODEL_c016e1eb7a7141d885eb49cef60c6686",
        "IPY_MODEL_608afc0903c14d22935ef72461db0fc0",
        "IPY_MODEL_3c2f9380e52640bab52cd8a20398c048"
       ],
       "layout": "IPY_MODEL_023c0dd903d24296a7554a6f1620db80"
      }
     },
     "4402d99d7157488b92132de0c8ca035f": {
      "model_module": "@jupyter-widgets/base",
      "model_module_version": "1.2.0",
      "model_name": "LayoutModel",
      "state": {}
     },
     "4422fdbd66a847cf81761d4225a20b7e": {
      "model_module": "@jupyter-widgets/controls",
      "model_module_version": "1.5.0",
      "model_name": "HBoxModel",
      "state": {
       "children": [
        "IPY_MODEL_cd779157cb26445a905a02e5d1113631",
        "IPY_MODEL_37c9a77f4e2946489ef42f585ee80c19",
        "IPY_MODEL_e3bc710c4615404c9f0a5f4358368246"
       ],
       "layout": "IPY_MODEL_ef85e6134a0c40d78de68411d62287bb"
      }
     },
     "444136047cb047c3a0c08103e80f6d90": {
      "model_module": "@jupyter-widgets/controls",
      "model_module_version": "1.5.0",
      "model_name": "HTMLModel",
      "state": {
       "layout": "IPY_MODEL_20bd4fd18f184472b7f7ecef37df538c",
       "style": "IPY_MODEL_c003c1781113436e85453f5204437412",
       "value": "100%"
      }
     },
     "4453e43e1cbe466d86989824fc1be542": {
      "model_module": "@jupyter-widgets/base",
      "model_module_version": "1.2.0",
      "model_name": "LayoutModel",
      "state": {}
     },
     "4497c02439de499dadeeb9a49f02eba5": {
      "model_module": "@jupyter-widgets/base",
      "model_module_version": "1.2.0",
      "model_name": "LayoutModel",
      "state": {}
     },
     "44b1b933e07d497ab7bea56bbc95b196": {
      "model_module": "@jupyter-widgets/controls",
      "model_module_version": "1.5.0",
      "model_name": "HTMLModel",
      "state": {
       "layout": "IPY_MODEL_9d71dc79f4a4407c99239819bd9bba31",
       "style": "IPY_MODEL_99e6165610b944b2abc43269b093e1a6",
       "value": " 289/289 [03:12&lt;00:00,  1.52it/s]"
      }
     },
     "44ca2ebfa5a94080aa58d9af27652a55": {
      "model_module": "@jupyter-widgets/base",
      "model_module_version": "1.2.0",
      "model_name": "LayoutModel",
      "state": {}
     },
     "44eebced9f5d499daf8f4a6307780c5c": {
      "model_module": "@jupyter-widgets/base",
      "model_module_version": "1.2.0",
      "model_name": "LayoutModel",
      "state": {}
     },
     "44f93cf13e9e472da66902d524581e30": {
      "model_module": "@jupyter-widgets/controls",
      "model_module_version": "1.5.0",
      "model_name": "HTMLModel",
      "state": {
       "layout": "IPY_MODEL_5975d19f7ed84e7f9af94235edcf8ca8",
       "style": "IPY_MODEL_1579ac35965d4c27a7153048b70ef160",
       "value": "  0%"
      }
     },
     "45df3582ce6f4b6586ae2559dc9005d0": {
      "model_module": "@jupyter-widgets/controls",
      "model_module_version": "1.5.0",
      "model_name": "HTMLModel",
      "state": {
       "layout": "IPY_MODEL_46b5d7ac6d5b480b9cb2598fb293f376",
       "style": "IPY_MODEL_a309df36891846319c954df66b700dea",
       "value": " 662/662 [10:02&lt;00:00,  3.23it/s]"
      }
     },
     "463e1be4e2fd441facee414f71eb9e62": {
      "model_module": "@jupyter-widgets/controls",
      "model_module_version": "1.5.0",
      "model_name": "HBoxModel",
      "state": {
       "children": [
        "IPY_MODEL_085b22010afb41fb86bcbee5ffa2b7e4",
        "IPY_MODEL_5adc61b4b33948d48403172b63cfa8c9",
        "IPY_MODEL_d87665335b134654b8a9a63a3cd60391"
       ],
       "layout": "IPY_MODEL_a086ee6ba6994815b2b0f5004b115517"
      }
     },
     "468d8ad48ed148f7b56e41f710601d99": {
      "model_module": "@jupyter-widgets/base",
      "model_module_version": "1.2.0",
      "model_name": "LayoutModel",
      "state": {}
     },
     "46ae53a99a81426d92585ca1227f7519": {
      "model_module": "@jupyter-widgets/controls",
      "model_module_version": "1.5.0",
      "model_name": "HBoxModel",
      "state": {
       "children": [
        "IPY_MODEL_6f994a93dc954e76884be853e25b5dad",
        "IPY_MODEL_bf1f95027e554302bc622f1abf0ab522",
        "IPY_MODEL_1bfb567e5c9f4c51ae126eb22591734f"
       ],
       "layout": "IPY_MODEL_3e3c958d46fc433da76824ff878b36d5"
      }
     },
     "46b51417b15547cc8b59b58dd87f6a33": {
      "model_module": "@jupyter-widgets/base",
      "model_module_version": "1.2.0",
      "model_name": "LayoutModel",
      "state": {}
     },
     "46b5d7ac6d5b480b9cb2598fb293f376": {
      "model_module": "@jupyter-widgets/base",
      "model_module_version": "1.2.0",
      "model_name": "LayoutModel",
      "state": {}
     },
     "471fef9a0b574d1bbcd091fba8bc2c8d": {
      "model_module": "@jupyter-widgets/controls",
      "model_module_version": "1.5.0",
      "model_name": "HTMLModel",
      "state": {
       "layout": "IPY_MODEL_b4750697d63341238da320206680705e",
       "style": "IPY_MODEL_e046cc37c35b4040805498020394b369",
       "value": " 662/662 [08:45&lt;00:00,  2.60it/s]"
      }
     },
     "4752059c8ff8484cbf4b465f3b241aa4": {
      "model_module": "@jupyter-widgets/controls",
      "model_module_version": "1.5.0",
      "model_name": "FloatProgressModel",
      "state": {
       "bar_style": "success",
       "layout": "IPY_MODEL_3781a1aa7ab34777b73c1354e23da028",
       "max": 309,
       "style": "IPY_MODEL_17266cbbb846400dab1a3c6fb43a6f00",
       "value": 309
      }
     },
     "4770b651200c430598e30ccfe5610232": {
      "model_module": "@jupyter-widgets/controls",
      "model_module_version": "1.5.0",
      "model_name": "DescriptionStyleModel",
      "state": {
       "description_width": ""
      }
     },
     "48183f3a855747a4b2af4f81876bfa19": {
      "model_module": "@jupyter-widgets/controls",
      "model_module_version": "1.5.0",
      "model_name": "HBoxModel",
      "state": {
       "children": [
        "IPY_MODEL_6a66fe6bbb474403bb2396b126ec4d3f",
        "IPY_MODEL_33102ec99980433fba1cda8dbad0fb5a",
        "IPY_MODEL_37a92490dd3246dca96627978a341d72"
       ],
       "layout": "IPY_MODEL_cd3a5f569e0d40ae95be3cc7a0281c93"
      }
     },
     "48deafff7c46466bbb5cd146ce85d30c": {
      "model_module": "@jupyter-widgets/controls",
      "model_module_version": "1.5.0",
      "model_name": "HTMLModel",
      "state": {
       "layout": "IPY_MODEL_f786b3e58e9146848857be657ac3ea73",
       "style": "IPY_MODEL_f10b1a94e6c24e2f83d8bbdf8f82c6cf",
       "value": " 6447/6447 [2:36:31&lt;00:00,  1.07s/it]"
      }
     },
     "49155a969a784898a81c8c0e3928bff4": {
      "model_module": "@jupyter-widgets/controls",
      "model_module_version": "1.5.0",
      "model_name": "HTMLModel",
      "state": {
       "layout": "IPY_MODEL_6ad3647529a641328218324f882a889d",
       "style": "IPY_MODEL_6a821a7a9683401e98dab88f57b5cb0e",
       "value": " 1095/1095 [12:02&lt;00:00,  7.41it/s]"
      }
     },
     "493d43ec1ac448549206d1e59eb98dfa": {
      "model_module": "@jupyter-widgets/base",
      "model_module_version": "1.2.0",
      "model_name": "LayoutModel",
      "state": {}
     },
     "494f22adfbcb482799341a75cc9fe9a1": {
      "model_module": "@jupyter-widgets/controls",
      "model_module_version": "1.5.0",
      "model_name": "HTMLModel",
      "state": {
       "layout": "IPY_MODEL_3f9f2312d5b648af98c795215256fd74",
       "style": "IPY_MODEL_4afb055d6aa2439d83e5e55d8b2a37ad",
       "value": " 6447/6447 [2:30:40&lt;00:00,  1.01s/it]"
      }
     },
     "49dbee778afa492cb1de722af501bc63": {
      "model_module": "@jupyter-widgets/base",
      "model_module_version": "1.2.0",
      "model_name": "LayoutModel",
      "state": {}
     },
     "49e59c075e584b3988618e3b2f2eb552": {
      "model_module": "@jupyter-widgets/controls",
      "model_module_version": "1.5.0",
      "model_name": "FloatProgressModel",
      "state": {
       "bar_style": "danger",
       "layout": "IPY_MODEL_2d63bfad95c945fd98ce6610fa88c132",
       "max": 6447,
       "style": "IPY_MODEL_1a7c665b31c849acbee910bb96ca111c",
       "value": 172
      }
     },
     "49efda93c438445f916b3d70f9cfe20f": {
      "model_module": "@jupyter-widgets/controls",
      "model_module_version": "1.5.0",
      "model_name": "DescriptionStyleModel",
      "state": {
       "description_width": ""
      }
     },
     "4a1d1e08a9db410d9f9c28c835823a63": {
      "model_module": "@jupyter-widgets/controls",
      "model_module_version": "1.5.0",
      "model_name": "HTMLModel",
      "state": {
       "layout": "IPY_MODEL_3547bbff10d14e8cacea670698573698",
       "style": "IPY_MODEL_37aefe0d870542529fec091df726dd89",
       "value": "100%"
      }
     },
     "4a9338d7e82d4f9787380b8f94e16470": {
      "model_module": "@jupyter-widgets/controls",
      "model_module_version": "1.5.0",
      "model_name": "HTMLModel",
      "state": {
       "layout": "IPY_MODEL_c1269c3a68e5457a91ff3fc72e31b094",
       "style": "IPY_MODEL_895d38bd96ac4b9692942d81c4683dcd",
       "value": "  0%"
      }
     },
     "4afb055d6aa2439d83e5e55d8b2a37ad": {
      "model_module": "@jupyter-widgets/controls",
      "model_module_version": "1.5.0",
      "model_name": "DescriptionStyleModel",
      "state": {
       "description_width": ""
      }
     },
     "4b1d997d6fdd48a1aba415b4f2d65ea8": {
      "model_module": "@jupyter-widgets/controls",
      "model_module_version": "1.5.0",
      "model_name": "FloatProgressModel",
      "state": {
       "bar_style": "success",
       "layout": "IPY_MODEL_a049ec6ad3314f7eb8e4317bf60e9377",
       "max": 647,
       "style": "IPY_MODEL_ccc0e89695e34ad7be569a6ac1f2df78",
       "value": 647
      }
     },
     "4b7b3a4e53ba44258541a5f4300981f6": {
      "model_module": "@jupyter-widgets/base",
      "model_module_version": "1.2.0",
      "model_name": "LayoutModel",
      "state": {}
     },
     "4bc89bb73a4c42c98a15aa7374682021": {
      "model_module": "@jupyter-widgets/controls",
      "model_module_version": "1.5.0",
      "model_name": "HTMLModel",
      "state": {
       "layout": "IPY_MODEL_7f37c0360b324122815fb8207b4b8d89",
       "style": "IPY_MODEL_1daa18af08904f7b830728258e251d95",
       "value": "100%"
      }
     },
     "4c24806ff2f1435f8898a46d6118fa58": {
      "model_module": "@jupyter-widgets/controls",
      "model_module_version": "1.5.0",
      "model_name": "HTMLModel",
      "state": {
       "layout": "IPY_MODEL_d3697b5dabfd4bcb8c07e00944681a3d",
       "style": "IPY_MODEL_cfc3844c2d0a4ebf93bb0f12825d8a3f",
       "value": "100%"
      }
     },
     "4c3ea1f4416b42948e673b807e51a1d3": {
      "model_module": "@jupyter-widgets/base",
      "model_module_version": "1.2.0",
      "model_name": "LayoutModel",
      "state": {}
     },
     "4c51950cc7c14bc9a8c5348c7047b159": {
      "model_module": "@jupyter-widgets/controls",
      "model_module_version": "1.5.0",
      "model_name": "DescriptionStyleModel",
      "state": {
       "description_width": ""
      }
     },
     "4d10b4865b2048f786ee535acaa77ce1": {
      "model_module": "@jupyter-widgets/base",
      "model_module_version": "1.2.0",
      "model_name": "LayoutModel",
      "state": {}
     },
     "4d19acf692884d69aeb9fd6e2d4155c8": {
      "model_module": "@jupyter-widgets/controls",
      "model_module_version": "1.5.0",
      "model_name": "DescriptionStyleModel",
      "state": {
       "description_width": ""
      }
     },
     "4d3c7042617744f1954b7fd9c0c41662": {
      "model_module": "@jupyter-widgets/base",
      "model_module_version": "1.2.0",
      "model_name": "LayoutModel",
      "state": {}
     },
     "4d88a84c69fc4ecba7281c312feeabf8": {
      "model_module": "@jupyter-widgets/controls",
      "model_module_version": "1.5.0",
      "model_name": "FloatProgressModel",
      "state": {
       "bar_style": "success",
       "layout": "IPY_MODEL_5bfcc814199c42d1ade9462e26a3f2cc",
       "max": 811,
       "style": "IPY_MODEL_059bd235dc3748018470093d54905d57",
       "value": 811
      }
     },
     "4e4e1577e04c4627bd21a27b430c68a3": {
      "model_module": "@jupyter-widgets/controls",
      "model_module_version": "1.5.0",
      "model_name": "HTMLModel",
      "state": {
       "layout": "IPY_MODEL_509a5a0f50f94fab806b21a3d5367f73",
       "style": "IPY_MODEL_581d1841e6d04ceba800138a10e139fa",
       "value": "100%"
      }
     },
     "4e8f0a8787bb4b2abb422976e4f12388": {
      "model_module": "@jupyter-widgets/controls",
      "model_module_version": "1.5.0",
      "model_name": "HBoxModel",
      "state": {
       "children": [
        "IPY_MODEL_6a53e8921fde40bbbc1e32ddb7b7b8c9",
        "IPY_MODEL_fcf43d4b61de49b69cc1acf2767f9c3e",
        "IPY_MODEL_5b82dd63b30e4c8a8fea2c0cca3f9883"
       ],
       "layout": "IPY_MODEL_6ca7ebb7a6e24d83be175bd472fa02dd"
      }
     },
     "4ed759689908431b971d95c59766bbdc": {
      "model_module": "@jupyter-widgets/base",
      "model_module_version": "1.2.0",
      "model_name": "LayoutModel",
      "state": {}
     },
     "4ede34f633294be6a0e9ed745fd99ea4": {
      "model_module": "@jupyter-widgets/base",
      "model_module_version": "1.2.0",
      "model_name": "LayoutModel",
      "state": {}
     },
     "4edf4f3e5aca4d85b30d0768523d0400": {
      "model_module": "@jupyter-widgets/controls",
      "model_module_version": "1.5.0",
      "model_name": "HTMLModel",
      "state": {
       "layout": "IPY_MODEL_848a26582b1749038d63adb53f0f2791",
       "style": "IPY_MODEL_fc244aeecab043efb3eac6036d9c2dea",
       "value": "100%"
      }
     },
     "4f3bdf9cdcae4da9b84036f2787c70a0": {
      "model_module": "@jupyter-widgets/controls",
      "model_module_version": "1.5.0",
      "model_name": "DescriptionStyleModel",
      "state": {
       "description_width": ""
      }
     },
     "4f4b148c46794560a341922bd5781c91": {
      "model_module": "@jupyter-widgets/base",
      "model_module_version": "1.2.0",
      "model_name": "LayoutModel",
      "state": {}
     },
     "5010441c594249b9add4971dbd33d876": {
      "model_module": "@jupyter-widgets/base",
      "model_module_version": "1.2.0",
      "model_name": "LayoutModel",
      "state": {}
     },
     "509a5a0f50f94fab806b21a3d5367f73": {
      "model_module": "@jupyter-widgets/base",
      "model_module_version": "1.2.0",
      "model_name": "LayoutModel",
      "state": {}
     },
     "50b56292a71540b0b2b3305f96805ffc": {
      "model_module": "@jupyter-widgets/controls",
      "model_module_version": "1.5.0",
      "model_name": "HTMLModel",
      "state": {
       "layout": "IPY_MODEL_ccf7ab79d31045a69bf533722d1a5652",
       "style": "IPY_MODEL_23c79385da6c4952a317a1f5a981b52f",
       "value": "100%"
      }
     },
     "50c2aff695cd4bd5b69252f94d7b3467": {
      "model_module": "@jupyter-widgets/base",
      "model_module_version": "1.2.0",
      "model_name": "LayoutModel",
      "state": {}
     },
     "50c3e466d6cb47218b0d34875e0cb129": {
      "model_module": "@jupyter-widgets/base",
      "model_module_version": "1.2.0",
      "model_name": "LayoutModel",
      "state": {}
     },
     "50dc4144355149a3abeec94b74999722": {
      "model_module": "@jupyter-widgets/controls",
      "model_module_version": "1.5.0",
      "model_name": "HTMLModel",
      "state": {
       "layout": "IPY_MODEL_bc8a501c0d12402f95ffa297e39ba293",
       "style": "IPY_MODEL_6fdcffe165a8440ba48896fdaa067ae7",
       "value": " 172/6447 [00:16&lt;54:22,  1.92it/s]"
      }
     },
     "50f38d38532d4e59b0cf07db2a4c8fe0": {
      "model_module": "@jupyter-widgets/controls",
      "model_module_version": "1.5.0",
      "model_name": "DescriptionStyleModel",
      "state": {
       "description_width": ""
      }
     },
     "511a308936b343fc8f87aca6f463c10a": {
      "model_module": "@jupyter-widgets/base",
      "model_module_version": "1.2.0",
      "model_name": "LayoutModel",
      "state": {}
     },
     "511ff471bd1e48a7a8838e9126d250c2": {
      "model_module": "@jupyter-widgets/base",
      "model_module_version": "1.2.0",
      "model_name": "LayoutModel",
      "state": {}
     },
     "512f07af9f62489792a8a0aa7dfceede": {
      "model_module": "@jupyter-widgets/base",
      "model_module_version": "1.2.0",
      "model_name": "LayoutModel",
      "state": {}
     },
     "51346da377f543dabf6b52b0fa321d49": {
      "model_module": "@jupyter-widgets/base",
      "model_module_version": "1.2.0",
      "model_name": "LayoutModel",
      "state": {}
     },
     "5168152d09e64210aad0859cc6ff06af": {
      "model_module": "@jupyter-widgets/controls",
      "model_module_version": "1.5.0",
      "model_name": "HBoxModel",
      "state": {
       "children": [
        "IPY_MODEL_4bc89bb73a4c42c98a15aa7374682021",
        "IPY_MODEL_68e868633d14491a82a01ccc1dff7e72",
        "IPY_MODEL_7e6c3d139ddc4a0c801a2b0744d9337c"
       ],
       "layout": "IPY_MODEL_54a63dec777e4ce3961ff76e86ab5bcf"
      }
     },
     "519dea077efe4679ac83f05ec56f2101": {
      "model_module": "@jupyter-widgets/controls",
      "model_module_version": "1.5.0",
      "model_name": "FloatProgressModel",
      "state": {
       "bar_style": "danger",
       "layout": "IPY_MODEL_863cd6c856d84443b28052a5e3f1fd2c",
       "max": 228,
       "style": "IPY_MODEL_16f36e103d4447499af3d6dbef2078c1"
      }
     },
     "52b7c5ebf8f94cda9e5a579acfccc713": {
      "model_module": "@jupyter-widgets/controls",
      "model_module_version": "1.5.0",
      "model_name": "HBoxModel",
      "state": {
       "children": [
        "IPY_MODEL_e6f6d75822f04370920da22e96f2b266",
        "IPY_MODEL_e040360c73984dd58d71b3ba4e187ff7",
        "IPY_MODEL_b8ca967b0383498fb82c0a7797c0091a"
       ],
       "layout": "IPY_MODEL_1aa1ba83054d46cc9a784d74bce6208d"
      }
     },
     "52bf194088144c8bbb35ab8bc3995fdd": {
      "model_module": "@jupyter-widgets/controls",
      "model_module_version": "1.5.0",
      "model_name": "DescriptionStyleModel",
      "state": {
       "description_width": ""
      }
     },
     "5318f93f032547198ae049fb3562f3e6": {
      "model_module": "@jupyter-widgets/base",
      "model_module_version": "1.2.0",
      "model_name": "LayoutModel",
      "state": {}
     },
     "53d350a3586f4cca99caaf90a87617e5": {
      "model_module": "@jupyter-widgets/controls",
      "model_module_version": "1.5.0",
      "model_name": "FloatProgressModel",
      "state": {
       "bar_style": "success",
       "layout": "IPY_MODEL_512f07af9f62489792a8a0aa7dfceede",
       "max": 228,
       "style": "IPY_MODEL_b029c0eec208446fbae4dabe814a7c41",
       "value": 228
      }
     },
     "53e7df2bf9af458d8e014b7705f4ecee": {
      "model_module": "@jupyter-widgets/controls",
      "model_module_version": "1.5.0",
      "model_name": "DescriptionStyleModel",
      "state": {
       "description_width": ""
      }
     },
     "53f4d4b9e5c842849fe0670999e0e3ff": {
      "model_module": "@jupyter-widgets/controls",
      "model_module_version": "1.5.0",
      "model_name": "HTMLModel",
      "state": {
       "layout": "IPY_MODEL_8bd7035cca3844359c821cf80248c820",
       "style": "IPY_MODEL_e7b9ad8070f149e981afe0a01da60e70",
       "value": " 423/423 [03:53&lt;00:00,  1.14it/s]"
      }
     },
     "53fd7c1f76b140628ea3c52857300e64": {
      "model_module": "@jupyter-widgets/base",
      "model_module_version": "1.2.0",
      "model_name": "LayoutModel",
      "state": {}
     },
     "543b808f232746a9bb549d4750c192e0": {
      "model_module": "@jupyter-widgets/controls",
      "model_module_version": "1.5.0",
      "model_name": "HTMLModel",
      "state": {
       "layout": "IPY_MODEL_f62df6dd1a3845cd9be796b0297ff4d5",
       "style": "IPY_MODEL_0ff21cb1e2f5458f8c0bc0df49db7e1d",
       "value": "100%"
      }
     },
     "54a63dec777e4ce3961ff76e86ab5bcf": {
      "model_module": "@jupyter-widgets/base",
      "model_module_version": "1.2.0",
      "model_name": "LayoutModel",
      "state": {}
     },
     "54b137f6e3994b04afc59456371b98f6": {
      "model_module": "@jupyter-widgets/controls",
      "model_module_version": "1.5.0",
      "model_name": "HTMLModel",
      "state": {
       "layout": "IPY_MODEL_df24663380794076ae3648aa56050539",
       "style": "IPY_MODEL_5ea75b47bbd2494f816445bfd5999b4d",
       "value": "100%"
      }
     },
     "54b2d3fccdfa4048bda33a904910a147": {
      "model_module": "@jupyter-widgets/controls",
      "model_module_version": "1.5.0",
      "model_name": "ProgressStyleModel",
      "state": {
       "description_width": ""
      }
     },
     "550d62dbb49c42d5af81aea65df7fed7": {
      "model_module": "@jupyter-widgets/base",
      "model_module_version": "1.2.0",
      "model_name": "LayoutModel",
      "state": {}
     },
     "553e8c4b82ac4f0c84b131cb23425fb5": {
      "model_module": "@jupyter-widgets/controls",
      "model_module_version": "1.5.0",
      "model_name": "HBoxModel",
      "state": {
       "children": [
        "IPY_MODEL_68b27f57e1d5412f994230c11671ac4e",
        "IPY_MODEL_246cbc4a5b594dd5acfd9c84f90897ef",
        "IPY_MODEL_e4ba5494f69540e5a4b925cf7f6562e3"
       ],
       "layout": "IPY_MODEL_83ab3c173e304c46949d68bb39e4a288"
      }
     },
     "55fbf4b790e54062b6b25ef05d7e416d": {
      "model_module": "@jupyter-widgets/base",
      "model_module_version": "1.2.0",
      "model_name": "LayoutModel",
      "state": {}
     },
     "5617cf6cb814480b8e8d485c5e12ba7e": {
      "model_module": "@jupyter-widgets/base",
      "model_module_version": "1.2.0",
      "model_name": "LayoutModel",
      "state": {}
     },
     "567f8823ee5a457db7cfba84871fb073": {
      "model_module": "@jupyter-widgets/controls",
      "model_module_version": "1.5.0",
      "model_name": "HBoxModel",
      "state": {
       "children": [
        "IPY_MODEL_294f7a8c7e864cb59ea39370e1c0c459",
        "IPY_MODEL_609a689e9255460e91b9c5d2bf48eba5",
        "IPY_MODEL_badf7231e0a94926adbe1ad75b8b224d"
       ],
       "layout": "IPY_MODEL_e638acd9034445bbadf77c06a8838e3d"
      }
     },
     "5699142245f046389392b18acb43bdb9": {
      "model_module": "@jupyter-widgets/controls",
      "model_module_version": "1.5.0",
      "model_name": "DescriptionStyleModel",
      "state": {
       "description_width": ""
      }
     },
     "56cb180178c54f729f0835f7e2593bc5": {
      "model_module": "@jupyter-widgets/base",
      "model_module_version": "1.2.0",
      "model_name": "LayoutModel",
      "state": {}
     },
     "57890facee3242778d8d31aa43540168": {
      "model_module": "@jupyter-widgets/controls",
      "model_module_version": "1.5.0",
      "model_name": "FloatProgressModel",
      "state": {
       "bar_style": "success",
       "layout": "IPY_MODEL_0f49f636b67841acb2a2c78aa84768b4",
       "max": 647,
       "style": "IPY_MODEL_0063fc041c6f45f5aecef203078be40f",
       "value": 647
      }
     },
     "57ff833fce774bdca8b92d6f924c3dbb": {
      "model_module": "@jupyter-widgets/controls",
      "model_module_version": "1.5.0",
      "model_name": "HTMLModel",
      "state": {
       "layout": "IPY_MODEL_16944babffb343cda2ac1c864164704c",
       "style": "IPY_MODEL_df378e8ce92e44189e52925086d5ae32",
       "value": "100%"
      }
     },
     "580b6a228b374f48b8c20038cb1a9d4e": {
      "model_module": "@jupyter-widgets/base",
      "model_module_version": "1.2.0",
      "model_name": "LayoutModel",
      "state": {}
     },
     "581b895b7eb5488dbfb3c89be2444d9b": {
      "model_module": "@jupyter-widgets/base",
      "model_module_version": "1.2.0",
      "model_name": "LayoutModel",
      "state": {}
     },
     "581d1841e6d04ceba800138a10e139fa": {
      "model_module": "@jupyter-widgets/controls",
      "model_module_version": "1.5.0",
      "model_name": "DescriptionStyleModel",
      "state": {
       "description_width": ""
      }
     },
     "5848aff680814367aaaacc30560ca686": {
      "model_module": "@jupyter-widgets/base",
      "model_module_version": "1.2.0",
      "model_name": "LayoutModel",
      "state": {}
     },
     "58a0fc1801ee481da972ad30294ee54d": {
      "model_module": "@jupyter-widgets/base",
      "model_module_version": "1.2.0",
      "model_name": "LayoutModel",
      "state": {}
     },
     "595c6b9264c146ac80112324bb19844b": {
      "model_module": "@jupyter-widgets/base",
      "model_module_version": "1.2.0",
      "model_name": "LayoutModel",
      "state": {}
     },
     "5975d19f7ed84e7f9af94235edcf8ca8": {
      "model_module": "@jupyter-widgets/base",
      "model_module_version": "1.2.0",
      "model_name": "LayoutModel",
      "state": {}
     },
     "599b6e6a9a1d43ad9ac6512b771d1ac8": {
      "model_module": "@jupyter-widgets/controls",
      "model_module_version": "1.5.0",
      "model_name": "HBoxModel",
      "state": {
       "children": [
        "IPY_MODEL_92cf6922797d4f708a7101fefe819d1a",
        "IPY_MODEL_7f2c404f5bec4fc7a807412e341b7192",
        "IPY_MODEL_48deafff7c46466bbb5cd146ce85d30c"
       ],
       "layout": "IPY_MODEL_ed2cbb50228e4ed18c4aebdfc7b3385b"
      }
     },
     "59d39cdad0de4ff29fc8f02d2f92b061": {
      "model_module": "@jupyter-widgets/controls",
      "model_module_version": "1.5.0",
      "model_name": "FloatProgressModel",
      "state": {
       "bar_style": "success",
       "layout": "IPY_MODEL_a0560ba232f349e6bd035556aa4f9035",
       "max": 662,
       "style": "IPY_MODEL_32400e7637df4a80950996057c09f47d",
       "value": 662
      }
     },
     "59dae8ba4c5e471688f0d752e3a5854e": {
      "model_module": "@jupyter-widgets/controls",
      "model_module_version": "1.5.0",
      "model_name": "HBoxModel",
      "state": {
       "children": [
        "IPY_MODEL_4e4e1577e04c4627bd21a27b430c68a3",
        "IPY_MODEL_640bed7638dd46819bd552a8c53a61f1",
        "IPY_MODEL_3abc8a6ed7ce4befbec27a53e990c447"
       ],
       "layout": "IPY_MODEL_c12ca9ad88e64f1b8355d8d23bf012d7"
      }
     },
     "59f4fd9f84ff41989439527d84700c8d": {
      "model_module": "@jupyter-widgets/controls",
      "model_module_version": "1.5.0",
      "model_name": "HBoxModel",
      "state": {
       "children": [
        "IPY_MODEL_a001e686d0cd4e32beb24f3036dae803",
        "IPY_MODEL_313253ac890c4f8b98a78b38c2d19a55",
        "IPY_MODEL_99a0c71483684d2db413d46a14958b87"
       ],
       "layout": "IPY_MODEL_f9821d6f67334717b785be564609ad89"
      }
     },
     "5a1f13d26162469f83021e335503b6e3": {
      "model_module": "@jupyter-widgets/base",
      "model_module_version": "1.2.0",
      "model_name": "LayoutModel",
      "state": {}
     },
     "5a3b791a6a61415cbae0e8ab699107f9": {
      "model_module": "@jupyter-widgets/controls",
      "model_module_version": "1.5.0",
      "model_name": "HTMLModel",
      "state": {
       "layout": "IPY_MODEL_d461faa9770343aeb5f2d65cbbfa21ec",
       "style": "IPY_MODEL_39645c70e4b8482992935f4df5882181",
       "value": " 700/700 [07:10&lt;00:00,  2.67it/s]"
      }
     },
     "5a4566b0778b4b5cba42d1f9441de936": {
      "model_module": "@jupyter-widgets/controls",
      "model_module_version": "1.5.0",
      "model_name": "HTMLModel",
      "state": {
       "layout": "IPY_MODEL_f351df3fcafe4f5fa47105fd4e7c357e",
       "style": "IPY_MODEL_dee55d43818741bc8edbc64e791bb1f8",
       "value": "100%"
      }
     },
     "5a4883729f4445f09d51f47cf2b13b16": {
      "model_module": "@jupyter-widgets/controls",
      "model_module_version": "1.5.0",
      "model_name": "HTMLModel",
      "state": {
       "layout": "IPY_MODEL_1f93bb9db2884b17bf9b2ab0d53bc3c6",
       "style": "IPY_MODEL_80666f143731481a8d137d84aa8ef0a4",
       "value": "100%"
      }
     },
     "5a515530b3fb402eab6782e20eba63e3": {
      "model_module": "@jupyter-widgets/controls",
      "model_module_version": "1.5.0",
      "model_name": "HTMLModel",
      "state": {
       "layout": "IPY_MODEL_26ef18541e7c4e4b9c56d47365759e7a",
       "style": "IPY_MODEL_cf697b00103e4ffb83943a12caaf9df1",
       "value": "100%"
      }
     },
     "5a9a9cbf04a74282878fecfebb54eb8d": {
      "model_module": "@jupyter-widgets/base",
      "model_module_version": "1.2.0",
      "model_name": "LayoutModel",
      "state": {}
     },
     "5aa43f82bbb6403fa89effe1d07e2a12": {
      "model_module": "@jupyter-widgets/controls",
      "model_module_version": "1.5.0",
      "model_name": "FloatProgressModel",
      "state": {
       "bar_style": "success",
       "layout": "IPY_MODEL_751c61b143b342399f5fa6a976d64eb8",
       "max": 284,
       "style": "IPY_MODEL_bc8463f7725e474bb5afdc7b033f540e",
       "value": 284
      }
     },
     "5adc61b4b33948d48403172b63cfa8c9": {
      "model_module": "@jupyter-widgets/controls",
      "model_module_version": "1.5.0",
      "model_name": "FloatProgressModel",
      "state": {
       "bar_style": "success",
       "layout": "IPY_MODEL_d09d7fba29504c629fdbfef66020a45e",
       "max": 2672,
       "style": "IPY_MODEL_b328339d4a5f4ffb9ff8ea456c30d122",
       "value": 2672
      }
     },
     "5b3f98c02ae34df9a165036001e5e051": {
      "model_module": "@jupyter-widgets/controls",
      "model_module_version": "1.5.0",
      "model_name": "ProgressStyleModel",
      "state": {
       "description_width": ""
      }
     },
     "5b4c8c8fc05d4d5da0111a6842c6f965": {
      "model_module": "@jupyter-widgets/base",
      "model_module_version": "1.2.0",
      "model_name": "LayoutModel",
      "state": {}
     },
     "5b6ced8183d342bcbe2232a53ba1e626": {
      "model_module": "@jupyter-widgets/base",
      "model_module_version": "1.2.0",
      "model_name": "LayoutModel",
      "state": {}
     },
     "5b82dd63b30e4c8a8fea2c0cca3f9883": {
      "model_module": "@jupyter-widgets/controls",
      "model_module_version": "1.5.0",
      "model_name": "HTMLModel",
      "state": {
       "layout": "IPY_MODEL_3c9616b3c6584825a5f9e1c9390cb708",
       "style": "IPY_MODEL_ba1b70edbd894820a890e0b0293a0ffe",
       "value": " 700/700 [11:04&lt;00:00,  2.24it/s]"
      }
     },
     "5bae26d670674c9487a5512338daff34": {
      "model_module": "@jupyter-widgets/controls",
      "model_module_version": "1.5.0",
      "model_name": "HTMLModel",
      "state": {
       "layout": "IPY_MODEL_a61add1c14c14f1e94b7e4005f43afb3",
       "style": "IPY_MODEL_d1bdec5379654464a00037d090637b0f",
       "value": "100%"
      }
     },
     "5bde9200beb347ca9c8c49d6cb5f818d": {
      "model_module": "@jupyter-widgets/controls",
      "model_module_version": "1.5.0",
      "model_name": "HBoxModel",
      "state": {
       "children": [
        "IPY_MODEL_ee99eae9ecf541019884bf3656f39619",
        "IPY_MODEL_6a2e0715617542f3b89ad6bf3d5b25f6",
        "IPY_MODEL_3426793224c141969bcea0bee12f2255"
       ],
       "layout": "IPY_MODEL_7f19633188e447d9a6171e8d2f1ed2f0"
      }
     },
     "5bfcc814199c42d1ade9462e26a3f2cc": {
      "model_module": "@jupyter-widgets/base",
      "model_module_version": "1.2.0",
      "model_name": "LayoutModel",
      "state": {}
     },
     "5c5001e50db5401391e854470c48c553": {
      "model_module": "@jupyter-widgets/base",
      "model_module_version": "1.2.0",
      "model_name": "LayoutModel",
      "state": {}
     },
     "5c676ebc7eaf4d0aae408e591f9e9911": {
      "model_module": "@jupyter-widgets/controls",
      "model_module_version": "1.5.0",
      "model_name": "HBoxModel",
      "state": {
       "children": [
        "IPY_MODEL_64a55ec0340f4d2b83db0b8fdd827a0c",
        "IPY_MODEL_7bc3358e69ac408487444c9836322ca1",
        "IPY_MODEL_2af1f692cd4c4c3690bb916cc767b420"
       ],
       "layout": "IPY_MODEL_9fb8c7a6bbfe408b839012d66f896850"
      }
     },
     "5c7d443b289d448891cb16d65ef61115": {
      "model_module": "@jupyter-widgets/controls",
      "model_module_version": "1.5.0",
      "model_name": "FloatProgressModel",
      "state": {
       "bar_style": "success",
       "layout": "IPY_MODEL_be07dca836e64cbfa6e17315c00b7f04",
       "max": 700,
       "style": "IPY_MODEL_c9a5f5735af44209839bdea06c242423",
       "value": 700
      }
     },
     "5ca655bc2f4545798d1020924a2a1902": {
      "model_module": "@jupyter-widgets/controls",
      "model_module_version": "1.5.0",
      "model_name": "DescriptionStyleModel",
      "state": {
       "description_width": ""
      }
     },
     "5ca789e0443c470294ec93d6390f042a": {
      "model_module": "@jupyter-widgets/base",
      "model_module_version": "1.2.0",
      "model_name": "LayoutModel",
      "state": {}
     },
     "5cc6b4054ac445c8ad4d239b0450c5b0": {
      "model_module": "@jupyter-widgets/controls",
      "model_module_version": "1.5.0",
      "model_name": "ProgressStyleModel",
      "state": {
       "description_width": ""
      }
     },
     "5cf4a56aa4ed4da9b76111f8fa4e18b7": {
      "model_module": "@jupyter-widgets/base",
      "model_module_version": "1.2.0",
      "model_name": "LayoutModel",
      "state": {}
     },
     "5d0bd9d9d98c4f4584871e0aaab24717": {
      "model_module": "@jupyter-widgets/controls",
      "model_module_version": "1.5.0",
      "model_name": "FloatProgressModel",
      "state": {
       "bar_style": "danger",
       "layout": "IPY_MODEL_690eaa58d01b43c2b04932568852d458",
       "max": 6447,
       "style": "IPY_MODEL_7f7a9e0b086f47159b1dc2d3d693e202",
       "value": 2355
      }
     },
     "5d2dd2d8e76144618b6e4b03250b5145": {
      "model_module": "@jupyter-widgets/base",
      "model_module_version": "1.2.0",
      "model_name": "LayoutModel",
      "state": {}
     },
     "5d393bb27d244de380ad280390bca920": {
      "model_module": "@jupyter-widgets/controls",
      "model_module_version": "1.5.0",
      "model_name": "ProgressStyleModel",
      "state": {
       "description_width": ""
      }
     },
     "5d6284d0872b4d2a8059ac5615e2c384": {
      "model_module": "@jupyter-widgets/base",
      "model_module_version": "1.2.0",
      "model_name": "LayoutModel",
      "state": {}
     },
     "5db44698662d47ab873c48ed7c455c4f": {
      "model_module": "@jupyter-widgets/controls",
      "model_module_version": "1.5.0",
      "model_name": "DescriptionStyleModel",
      "state": {
       "description_width": ""
      }
     },
     "5de59bc0131442349c0b5871adbf17eb": {
      "model_module": "@jupyter-widgets/base",
      "model_module_version": "1.2.0",
      "model_name": "LayoutModel",
      "state": {}
     },
     "5dedd6e31b36491ab2ff1f057199d8a7": {
      "model_module": "@jupyter-widgets/base",
      "model_module_version": "1.2.0",
      "model_name": "LayoutModel",
      "state": {}
     },
     "5e0e816fa8804279b40d73fb49839b8f": {
      "model_module": "@jupyter-widgets/base",
      "model_module_version": "1.2.0",
      "model_name": "LayoutModel",
      "state": {}
     },
     "5e178a1087fb4f0a941e6d83498d7bbb": {
      "model_module": "@jupyter-widgets/controls",
      "model_module_version": "1.5.0",
      "model_name": "HBoxModel",
      "state": {
       "children": [
        "IPY_MODEL_f6be9ac7c6514241858fed37be323e44",
        "IPY_MODEL_4d88a84c69fc4ecba7281c312feeabf8",
        "IPY_MODEL_daa232e90066465bb010a30ddf37e77f"
       ],
       "layout": "IPY_MODEL_d0a2d55c497a4901b994e8a4bdb95dd8"
      }
     },
     "5e2450572ae9461ca33ac25b8d9942c0": {
      "model_module": "@jupyter-widgets/controls",
      "model_module_version": "1.5.0",
      "model_name": "HBoxModel",
      "state": {
       "children": [
        "IPY_MODEL_83629d17cf0a4925a16bee0073bb227a",
        "IPY_MODEL_5aa43f82bbb6403fa89effe1d07e2a12",
        "IPY_MODEL_d8b757eb50bb499cb7db84a4cc81c84a"
       ],
       "layout": "IPY_MODEL_4453e43e1cbe466d86989824fc1be542"
      }
     },
     "5e5b0bf8e083442ca9d40e10d21a8f42": {
      "model_module": "@jupyter-widgets/controls",
      "model_module_version": "1.5.0",
      "model_name": "HTMLModel",
      "state": {
       "layout": "IPY_MODEL_dfdcbb16513c4bd69a2e0055c0978ab3",
       "style": "IPY_MODEL_1af11a412b5b4d2da4d29b1070797a29",
       "value": "100%"
      }
     },
     "5e62559c1c4245aa82de686f2470d5ee": {
      "model_module": "@jupyter-widgets/controls",
      "model_module_version": "1.5.0",
      "model_name": "HTMLModel",
      "state": {
       "layout": "IPY_MODEL_ace50e290adf4e9bbd4f090707f11997",
       "style": "IPY_MODEL_36337764321046bab94df94d595c75a8",
       "value": "100%"
      }
     },
     "5e74322cc04d497eba87415791a8eaff": {
      "model_module": "@jupyter-widgets/controls",
      "model_module_version": "1.5.0",
      "model_name": "ProgressStyleModel",
      "state": {
       "description_width": ""
      }
     },
     "5ea75b47bbd2494f816445bfd5999b4d": {
      "model_module": "@jupyter-widgets/controls",
      "model_module_version": "1.5.0",
      "model_name": "DescriptionStyleModel",
      "state": {
       "description_width": ""
      }
     },
     "5ec59347561f44b0b9c222b506673422": {
      "model_module": "@jupyter-widgets/controls",
      "model_module_version": "1.5.0",
      "model_name": "FloatProgressModel",
      "state": {
       "bar_style": "success",
       "layout": "IPY_MODEL_6114f5a3e3274cfe957283bf708e85ff",
       "max": 313,
       "style": "IPY_MODEL_08763819b02648f4b20c7f27bfc1cd43",
       "value": 313
      }
     },
     "5eca656b6d5b48e9861b33aac3b58772": {
      "model_module": "@jupyter-widgets/controls",
      "model_module_version": "1.5.0",
      "model_name": "HBoxModel",
      "state": {
       "children": [
        "IPY_MODEL_d2ca21d8fc984d3fa1faf0230cb217cc",
        "IPY_MODEL_3d494621c9b94708ab1a59465aa7afb8",
        "IPY_MODEL_53f4d4b9e5c842849fe0670999e0e3ff"
       ],
       "layout": "IPY_MODEL_6c64ec0a8dee415ca0cdd4cdd7583074"
      }
     },
     "5ecd9e50eeb04664b9596819a39045b8": {
      "model_module": "@jupyter-widgets/controls",
      "model_module_version": "1.5.0",
      "model_name": "ProgressStyleModel",
      "state": {
       "description_width": ""
      }
     },
     "5eda12b5610845e8827e5ed10be96d9b": {
      "model_module": "@jupyter-widgets/controls",
      "model_module_version": "1.5.0",
      "model_name": "DescriptionStyleModel",
      "state": {
       "description_width": ""
      }
     },
     "5f2bb1cbba6844498de5e41f6a2c0428": {
      "model_module": "@jupyter-widgets/controls",
      "model_module_version": "1.5.0",
      "model_name": "FloatProgressModel",
      "state": {
       "bar_style": "success",
       "layout": "IPY_MODEL_01d2afa0d023476ca7f5fdc9f6ecd705",
       "max": 1095,
       "style": "IPY_MODEL_2a3491548ddc4483afffc3a9e6bc92d5",
       "value": 1095
      }
     },
     "5f2e455fa3ff4a9389d5be7660e25b12": {
      "model_module": "@jupyter-widgets/controls",
      "model_module_version": "1.5.0",
      "model_name": "DescriptionStyleModel",
      "state": {
       "description_width": ""
      }
     },
     "5f9f46dff644457e88fbd7a0871c61b9": {
      "model_module": "@jupyter-widgets/controls",
      "model_module_version": "1.5.0",
      "model_name": "DescriptionStyleModel",
      "state": {
       "description_width": ""
      }
     },
     "5fd4277637ee4bba85af3144863db172": {
      "model_module": "@jupyter-widgets/base",
      "model_module_version": "1.2.0",
      "model_name": "LayoutModel",
      "state": {}
     },
     "5ff4bad2d0374237bedeffe89e4be20c": {
      "model_module": "@jupyter-widgets/base",
      "model_module_version": "1.2.0",
      "model_name": "LayoutModel",
      "state": {}
     },
     "602536fed09c4be6aba0100cc8a935a6": {
      "model_module": "@jupyter-widgets/base",
      "model_module_version": "1.2.0",
      "model_name": "LayoutModel",
      "state": {}
     },
     "603bf296ae6d474bb510763dc40c7c63": {
      "model_module": "@jupyter-widgets/controls",
      "model_module_version": "1.5.0",
      "model_name": "HTMLModel",
      "state": {
       "layout": "IPY_MODEL_6d640e7cf29a4fbcbfa018de549f77af",
       "style": "IPY_MODEL_53e7df2bf9af458d8e014b7705f4ecee",
       "value": "100%"
      }
     },
     "605da3f6526445f28e01fc16d79cb4cf": {
      "model_module": "@jupyter-widgets/base",
      "model_module_version": "1.2.0",
      "model_name": "LayoutModel",
      "state": {}
     },
     "60897021ad9c45f083e9417fb8015db7": {
      "model_module": "@jupyter-widgets/controls",
      "model_module_version": "1.5.0",
      "model_name": "HTMLModel",
      "state": {
       "layout": "IPY_MODEL_5a1f13d26162469f83021e335503b6e3",
       "style": "IPY_MODEL_ce1d57742f0d40bbb1acc24e3b1df42a",
       "value": " 0/228 [00:01&lt;?, ?it/s]"
      }
     },
     "608afc0903c14d22935ef72461db0fc0": {
      "model_module": "@jupyter-widgets/controls",
      "model_module_version": "1.5.0",
      "model_name": "FloatProgressModel",
      "state": {
       "bar_style": "success",
       "layout": "IPY_MODEL_b19b1f0eaeab4ea5895e94639e57681d",
       "max": 228,
       "style": "IPY_MODEL_6f8b0dd26c2748cd80f484cfb5b9657a",
       "value": 228
      }
     },
     "609a689e9255460e91b9c5d2bf48eba5": {
      "model_module": "@jupyter-widgets/controls",
      "model_module_version": "1.5.0",
      "model_name": "FloatProgressModel",
      "state": {
       "bar_style": "danger",
       "layout": "IPY_MODEL_6944a3c553b94e7cae7f14f7edb7dafc",
       "max": 228,
       "style": "IPY_MODEL_5e74322cc04d497eba87415791a8eaff"
      }
     },
     "60d0d38625ca45789aa73e5075b49a55": {
      "model_module": "@jupyter-widgets/controls",
      "model_module_version": "1.5.0",
      "model_name": "ProgressStyleModel",
      "state": {
       "description_width": ""
      }
     },
     "60ef43bb116841148c5e8cd85d38b8bd": {
      "model_module": "@jupyter-widgets/base",
      "model_module_version": "1.2.0",
      "model_name": "LayoutModel",
      "state": {}
     },
     "61085ce98094445eb6813ad42f455540": {
      "model_module": "@jupyter-widgets/controls",
      "model_module_version": "1.5.0",
      "model_name": "DescriptionStyleModel",
      "state": {
       "description_width": ""
      }
     },
     "6114f5a3e3274cfe957283bf708e85ff": {
      "model_module": "@jupyter-widgets/base",
      "model_module_version": "1.2.0",
      "model_name": "LayoutModel",
      "state": {}
     },
     "6130d9cfdb9940c4817228e472c81390": {
      "model_module": "@jupyter-widgets/base",
      "model_module_version": "1.2.0",
      "model_name": "LayoutModel",
      "state": {}
     },
     "613cd0815c154166ad1283ab55c7579e": {
      "model_module": "@jupyter-widgets/controls",
      "model_module_version": "1.5.0",
      "model_name": "HTMLModel",
      "state": {
       "layout": "IPY_MODEL_5848aff680814367aaaacc30560ca686",
       "style": "IPY_MODEL_c27ed28acb884391926830deeb8b20fc",
       "value": "100%"
      }
     },
     "61e34e7a17634a80bcd4cc456267770b": {
      "model_module": "@jupyter-widgets/controls",
      "model_module_version": "1.5.0",
      "model_name": "HTMLModel",
      "state": {
       "layout": "IPY_MODEL_4d10b4865b2048f786ee535acaa77ce1",
       "style": "IPY_MODEL_339dedce05434239863d92090ebd3a93",
       "value": "100%"
      }
     },
     "61e461df2dcd42578a9400d334cb3445": {
      "model_module": "@jupyter-widgets/controls",
      "model_module_version": "1.5.0",
      "model_name": "DescriptionStyleModel",
      "state": {
       "description_width": ""
      }
     },
     "61e523f4c7204d939872c0c1cd9fbb1c": {
      "model_module": "@jupyter-widgets/base",
      "model_module_version": "1.2.0",
      "model_name": "LayoutModel",
      "state": {}
     },
     "622c0179e8224b6e9e51d2561a8b9127": {
      "model_module": "@jupyter-widgets/base",
      "model_module_version": "1.2.0",
      "model_name": "LayoutModel",
      "state": {}
     },
     "622e27ebd22c4e629a3660bc4b0233e7": {
      "model_module": "@jupyter-widgets/controls",
      "model_module_version": "1.5.0",
      "model_name": "HTMLModel",
      "state": {
       "layout": "IPY_MODEL_0522ad88c9054eb9af94486ebe25db3e",
       "style": "IPY_MODEL_729244587b244f73bf60c748675ecb4f",
       "value": "100%"
      }
     },
     "62b812860ce74231aa4e5cb204512058": {
      "model_module": "@jupyter-widgets/base",
      "model_module_version": "1.2.0",
      "model_name": "LayoutModel",
      "state": {}
     },
     "62d05eebebbf49d19c97cb38cbd988bf": {
      "model_module": "@jupyter-widgets/controls",
      "model_module_version": "1.5.0",
      "model_name": "HTMLModel",
      "state": {
       "layout": "IPY_MODEL_26cbc486b7df4c59963e0865ddbd5c46",
       "style": "IPY_MODEL_c7ac150be8184a639bd5d67bf5733ac5",
       "value": "100%"
      }
     },
     "633a6cba9bdb452595a94175988414d8": {
      "model_module": "@jupyter-widgets/controls",
      "model_module_version": "1.5.0",
      "model_name": "DescriptionStyleModel",
      "state": {
       "description_width": ""
      }
     },
     "6364433550a946a0aa28efb6d05900ea": {
      "model_module": "@jupyter-widgets/controls",
      "model_module_version": "1.5.0",
      "model_name": "HBoxModel",
      "state": {
       "children": [
        "IPY_MODEL_c99ff54385734b4594c88b1eb43c8c34",
        "IPY_MODEL_5f2bb1cbba6844498de5e41f6a2c0428",
        "IPY_MODEL_04437e036a144a1b8906314194ec1571"
       ],
       "layout": "IPY_MODEL_5b4c8c8fc05d4d5da0111a6842c6f965"
      }
     },
     "636e6fdf6122472f9b06c6e56084ddce": {
      "model_module": "@jupyter-widgets/base",
      "model_module_version": "1.2.0",
      "model_name": "LayoutModel",
      "state": {}
     },
     "640bed7638dd46819bd552a8c53a61f1": {
      "model_module": "@jupyter-widgets/controls",
      "model_module_version": "1.5.0",
      "model_name": "FloatProgressModel",
      "state": {
       "bar_style": "success",
       "layout": "IPY_MODEL_c12e8068f1c746c2a3bbb9426eaa4e8d",
       "max": 647,
       "style": "IPY_MODEL_ca519480c8cb4f1f82f00a9afd080f42",
       "value": 647
      }
     },
     "640bfe481a884028afb9f3b412123a18": {
      "model_module": "@jupyter-widgets/controls",
      "model_module_version": "1.5.0",
      "model_name": "FloatProgressModel",
      "state": {
       "bar_style": "success",
       "layout": "IPY_MODEL_76c705353fd145e290b6c63d6c3b1745",
       "max": 1095,
       "style": "IPY_MODEL_813901a59c9b4a58b9176a0e23c03397",
       "value": 1095
      }
     },
     "648542d60b254f8a89eb5aec72eac93a": {
      "model_module": "@jupyter-widgets/controls",
      "model_module_version": "1.5.0",
      "model_name": "FloatProgressModel",
      "state": {
       "bar_style": "success",
       "layout": "IPY_MODEL_313ddb782a68484facdbd57079faf543",
       "max": 700,
       "style": "IPY_MODEL_bc8b11b6cd1e44e692a24ec4d0e90580",
       "value": 700
      }
     },
     "648867269a0a4924a3f64da436d848b2": {
      "model_module": "@jupyter-widgets/base",
      "model_module_version": "1.2.0",
      "model_name": "LayoutModel",
      "state": {}
     },
     "64a55ec0340f4d2b83db0b8fdd827a0c": {
      "model_module": "@jupyter-widgets/controls",
      "model_module_version": "1.5.0",
      "model_name": "HTMLModel",
      "state": {
       "layout": "IPY_MODEL_9b6c62aed6c84fcfa1615b20724735a2",
       "style": "IPY_MODEL_e579ac58be61472b98129dcd7fdd1390",
       "value": "100%"
      }
     },
     "6541f3013e5a4adf9425a555ec24ee56": {
      "model_module": "@jupyter-widgets/controls",
      "model_module_version": "1.5.0",
      "model_name": "DescriptionStyleModel",
      "state": {
       "description_width": ""
      }
     },
     "6648fb68215b4d24b77f3bbe0dfbead3": {
      "model_module": "@jupyter-widgets/base",
      "model_module_version": "1.2.0",
      "model_name": "LayoutModel",
      "state": {}
     },
     "665ced6b53c74eaf85feafdaa54de7f1": {
      "model_module": "@jupyter-widgets/controls",
      "model_module_version": "1.5.0",
      "model_name": "ProgressStyleModel",
      "state": {
       "description_width": ""
      }
     },
     "6694573ef86040198ef86aa4baa5b262": {
      "model_module": "@jupyter-widgets/base",
      "model_module_version": "1.2.0",
      "model_name": "LayoutModel",
      "state": {}
     },
     "676d6b2d14b64e7cb55362778a0b583f": {
      "model_module": "@jupyter-widgets/controls",
      "model_module_version": "1.5.0",
      "model_name": "HBoxModel",
      "state": {
       "children": [
        "IPY_MODEL_4a9338d7e82d4f9787380b8f94e16470",
        "IPY_MODEL_ab9e599b5e5b486ca8f1fd0ff007ed30",
        "IPY_MODEL_d0c9d40a51004203aae99109e66f1252"
       ],
       "layout": "IPY_MODEL_dda8694ea6674b268c9cde76aec376cc"
      }
     },
     "68b27f57e1d5412f994230c11671ac4e": {
      "model_module": "@jupyter-widgets/controls",
      "model_module_version": "1.5.0",
      "model_name": "HTMLModel",
      "state": {
       "layout": "IPY_MODEL_7ea668cec8ef4caea2cb537be8e4454c",
       "style": "IPY_MODEL_2bfa66bc9fbb41bf920e1255c2210122",
       "value": "100%"
      }
     },
     "68cef5a1e23047e78a47a3eed68cc61f": {
      "model_module": "@jupyter-widgets/base",
      "model_module_version": "1.2.0",
      "model_name": "LayoutModel",
      "state": {}
     },
     "68e868633d14491a82a01ccc1dff7e72": {
      "model_module": "@jupyter-widgets/controls",
      "model_module_version": "1.5.0",
      "model_name": "FloatProgressModel",
      "state": {
       "bar_style": "success",
       "layout": "IPY_MODEL_02ea17cefba94dec827c5133f55168ee",
       "max": 662,
       "style": "IPY_MODEL_89523d187838423e96c0ebb674030e78",
       "value": 662
      }
     },
     "68fd489ae6654c59a68c94be465655c7": {
      "model_module": "@jupyter-widgets/controls",
      "model_module_version": "1.5.0",
      "model_name": "HTMLModel",
      "state": {
       "layout": "IPY_MODEL_274fc3e8ba464bb4a522c5bf06245d6f",
       "style": "IPY_MODEL_c3294064ae8e40159c89902a352e8a69",
       "value": "100%"
      }
     },
     "690eaa58d01b43c2b04932568852d458": {
      "model_module": "@jupyter-widgets/base",
      "model_module_version": "1.2.0",
      "model_name": "LayoutModel",
      "state": {}
     },
     "6944a3c553b94e7cae7f14f7edb7dafc": {
      "model_module": "@jupyter-widgets/base",
      "model_module_version": "1.2.0",
      "model_name": "LayoutModel",
      "state": {}
     },
     "69759e076f6b42ff8ba1edaf07949607": {
      "model_module": "@jupyter-widgets/base",
      "model_module_version": "1.2.0",
      "model_name": "LayoutModel",
      "state": {}
     },
     "69c00e28ae6a430f9c65b50e0a3e7c28": {
      "model_module": "@jupyter-widgets/controls",
      "model_module_version": "1.5.0",
      "model_name": "DescriptionStyleModel",
      "state": {
       "description_width": ""
      }
     },
     "69e0211ee00a4ed4bde40af411629169": {
      "model_module": "@jupyter-widgets/controls",
      "model_module_version": "1.5.0",
      "model_name": "HTMLModel",
      "state": {
       "layout": "IPY_MODEL_581b895b7eb5488dbfb3c89be2444d9b",
       "style": "IPY_MODEL_1cf5f386d0aa4c768bd4f44c8cca599a",
       "value": " 366/366 [03:11&lt;00:00,  1.42it/s]"
      }
     },
     "6a00ba25d8bf4cfe89c33380d85383e5": {
      "model_module": "@jupyter-widgets/base",
      "model_module_version": "1.2.0",
      "model_name": "LayoutModel",
      "state": {}
     },
     "6a2e0715617542f3b89ad6bf3d5b25f6": {
      "model_module": "@jupyter-widgets/controls",
      "model_module_version": "1.5.0",
      "model_name": "FloatProgressModel",
      "state": {
       "bar_style": "success",
       "layout": "IPY_MODEL_bd97417917774f44b1ee65d16978c430",
       "max": 647,
       "style": "IPY_MODEL_3ef6c31ae01f4e2f9fc0c1ee993887ec",
       "value": 647
      }
     },
     "6a53e8921fde40bbbc1e32ddb7b7b8c9": {
      "model_module": "@jupyter-widgets/controls",
      "model_module_version": "1.5.0",
      "model_name": "HTMLModel",
      "state": {
       "layout": "IPY_MODEL_abeb322f36ce441a81c7725f70917f01",
       "style": "IPY_MODEL_e4824d4654094e87966a4f33bac0ec41",
       "value": "100%"
      }
     },
     "6a66fe6bbb474403bb2396b126ec4d3f": {
      "model_module": "@jupyter-widgets/controls",
      "model_module_version": "1.5.0",
      "model_name": "HTMLModel",
      "state": {
       "layout": "IPY_MODEL_9e4dee70a0f74df8b826bf8992c20aa8",
       "style": "IPY_MODEL_ecbd1213225344c7a6ecd416d747e9e8",
       "value": "  3%"
      }
     },
     "6a676a23c595494e92ed58fb2040baf0": {
      "model_module": "@jupyter-widgets/base",
      "model_module_version": "1.2.0",
      "model_name": "LayoutModel",
      "state": {}
     },
     "6a821a7a9683401e98dab88f57b5cb0e": {
      "model_module": "@jupyter-widgets/controls",
      "model_module_version": "1.5.0",
      "model_name": "DescriptionStyleModel",
      "state": {
       "description_width": ""
      }
     },
     "6aaa30f8f2d84e0e97a57a9b63a55016": {
      "model_module": "@jupyter-widgets/controls",
      "model_module_version": "1.5.0",
      "model_name": "HBoxModel",
      "state": {
       "children": [
        "IPY_MODEL_fa1a8959e34a4301aa03f74c876f7a61",
        "IPY_MODEL_648542d60b254f8a89eb5aec72eac93a",
        "IPY_MODEL_cf04d66282144081b0e6bfd3e11ae551"
       ],
       "layout": "IPY_MODEL_9a18b6af283a4d558568bd2b05c4247e"
      }
     },
     "6acf68b926794c68abc1662e31081a0b": {
      "model_module": "@jupyter-widgets/controls",
      "model_module_version": "1.5.0",
      "model_name": "ProgressStyleModel",
      "state": {
       "description_width": ""
      }
     },
     "6ad3647529a641328218324f882a889d": {
      "model_module": "@jupyter-widgets/base",
      "model_module_version": "1.2.0",
      "model_name": "LayoutModel",
      "state": {}
     },
     "6b7a5db80e1c48448f12bf12a3205328": {
      "model_module": "@jupyter-widgets/base",
      "model_module_version": "1.2.0",
      "model_name": "LayoutModel",
      "state": {}
     },
     "6bb3132c278a44da9a9d1fb11986eb01": {
      "model_module": "@jupyter-widgets/controls",
      "model_module_version": "1.5.0",
      "model_name": "DescriptionStyleModel",
      "state": {
       "description_width": ""
      }
     },
     "6bfa314bef9a44d68b1f1b55fef4c9e5": {
      "model_module": "@jupyter-widgets/base",
      "model_module_version": "1.2.0",
      "model_name": "LayoutModel",
      "state": {}
     },
     "6c4711b45e3c462e9d06df9c5115b471": {
      "model_module": "@jupyter-widgets/base",
      "model_module_version": "1.2.0",
      "model_name": "LayoutModel",
      "state": {}
     },
     "6c6277be6feb41b281f9a8bf3c245713": {
      "model_module": "@jupyter-widgets/controls",
      "model_module_version": "1.5.0",
      "model_name": "DescriptionStyleModel",
      "state": {
       "description_width": ""
      }
     },
     "6c64ec0a8dee415ca0cdd4cdd7583074": {
      "model_module": "@jupyter-widgets/base",
      "model_module_version": "1.2.0",
      "model_name": "LayoutModel",
      "state": {}
     },
     "6c6ce12d353d43dcb599cf59e7a09c80": {
      "model_module": "@jupyter-widgets/controls",
      "model_module_version": "1.5.0",
      "model_name": "ProgressStyleModel",
      "state": {
       "description_width": ""
      }
     },
     "6c884e3bcb134c89a3153e0f6e1792cc": {
      "model_module": "@jupyter-widgets/base",
      "model_module_version": "1.2.0",
      "model_name": "LayoutModel",
      "state": {}
     },
     "6c886e42315848a7b659927ccca1ebc8": {
      "model_module": "@jupyter-widgets/controls",
      "model_module_version": "1.5.0",
      "model_name": "HTMLModel",
      "state": {
       "layout": "IPY_MODEL_28251c6ecb2147a3bc5d3b207828fed0",
       "style": "IPY_MODEL_52bf194088144c8bbb35ab8bc3995fdd",
       "value": " 554/554 [06:51&lt;00:00,  1.24it/s]"
      }
     },
     "6c9c406a09a0410681d22f47a6cc12d2": {
      "model_module": "@jupyter-widgets/controls",
      "model_module_version": "1.5.0",
      "model_name": "DescriptionStyleModel",
      "state": {
       "description_width": ""
      }
     },
     "6ca7ebb7a6e24d83be175bd472fa02dd": {
      "model_module": "@jupyter-widgets/base",
      "model_module_version": "1.2.0",
      "model_name": "LayoutModel",
      "state": {}
     },
     "6ccc9149407c4a57b63fee58b564bb05": {
      "model_module": "@jupyter-widgets/controls",
      "model_module_version": "1.5.0",
      "model_name": "DescriptionStyleModel",
      "state": {
       "description_width": ""
      }
     },
     "6d07ad5ef3134c0e882299c529b18ca5": {
      "model_module": "@jupyter-widgets/base",
      "model_module_version": "1.2.0",
      "model_name": "LayoutModel",
      "state": {}
     },
     "6d640e7cf29a4fbcbfa018de549f77af": {
      "model_module": "@jupyter-widgets/base",
      "model_module_version": "1.2.0",
      "model_name": "LayoutModel",
      "state": {}
     },
     "6e3c886601074cd09be2062cc62dfdac": {
      "model_module": "@jupyter-widgets/base",
      "model_module_version": "1.2.0",
      "model_name": "LayoutModel",
      "state": {}
     },
     "6e7e1563f19a4083b718041fa716c16f": {
      "model_module": "@jupyter-widgets/controls",
      "model_module_version": "1.5.0",
      "model_name": "ProgressStyleModel",
      "state": {
       "description_width": ""
      }
     },
     "6ea2783121cc4669bf86da4f21b55fd1": {
      "model_module": "@jupyter-widgets/controls",
      "model_module_version": "1.5.0",
      "model_name": "FloatProgressModel",
      "state": {
       "bar_style": "success",
       "layout": "IPY_MODEL_5ca789e0443c470294ec93d6390f042a",
       "max": 1095,
       "style": "IPY_MODEL_6acf68b926794c68abc1662e31081a0b",
       "value": 1095
      }
     },
     "6ea684dad7b14e90868842ed2640c532": {
      "model_module": "@jupyter-widgets/controls",
      "model_module_version": "1.5.0",
      "model_name": "ProgressStyleModel",
      "state": {
       "description_width": ""
      }
     },
     "6ef1f0bddcf24d3ebfc83fc090ba6348": {
      "model_module": "@jupyter-widgets/controls",
      "model_module_version": "1.5.0",
      "model_name": "DescriptionStyleModel",
      "state": {
       "description_width": ""
      }
     },
     "6f1a712e6827456095509df256ef5517": {
      "model_module": "@jupyter-widgets/base",
      "model_module_version": "1.2.0",
      "model_name": "LayoutModel",
      "state": {}
     },
     "6f8b0dd26c2748cd80f484cfb5b9657a": {
      "model_module": "@jupyter-widgets/controls",
      "model_module_version": "1.5.0",
      "model_name": "ProgressStyleModel",
      "state": {
       "description_width": ""
      }
     },
     "6f974a211bc247d9b066fa321e84c3e1": {
      "model_module": "@jupyter-widgets/controls",
      "model_module_version": "1.5.0",
      "model_name": "DescriptionStyleModel",
      "state": {
       "description_width": ""
      }
     },
     "6f994a93dc954e76884be853e25b5dad": {
      "model_module": "@jupyter-widgets/controls",
      "model_module_version": "1.5.0",
      "model_name": "HTMLModel",
      "state": {
       "layout": "IPY_MODEL_6d07ad5ef3134c0e882299c529b18ca5",
       "style": "IPY_MODEL_61e461df2dcd42578a9400d334cb3445",
       "value": "100%"
      }
     },
     "6fb8c79071a04fc5aa58ac60bf509d31": {
      "model_module": "@jupyter-widgets/controls",
      "model_module_version": "1.5.0",
      "model_name": "HBoxModel",
      "state": {
       "children": [
        "IPY_MODEL_a248c0f165a24d8aaa42c7383ded8d49",
        "IPY_MODEL_6ea2783121cc4669bf86da4f21b55fd1",
        "IPY_MODEL_8ad7e3073b924fb9928bd2be67b4737a"
       ],
       "layout": "IPY_MODEL_e96b40da0fc149709a1065f0fee7252c"
      }
     },
     "6fdcffe165a8440ba48896fdaa067ae7": {
      "model_module": "@jupyter-widgets/controls",
      "model_module_version": "1.5.0",
      "model_name": "DescriptionStyleModel",
      "state": {
       "description_width": ""
      }
     },
     "704abc9ca06548f896df4fe2b7fad328": {
      "model_module": "@jupyter-widgets/base",
      "model_module_version": "1.2.0",
      "model_name": "LayoutModel",
      "state": {}
     },
     "707ace48e1ee436c88fd2716a50318f9": {
      "model_module": "@jupyter-widgets/base",
      "model_module_version": "1.2.0",
      "model_name": "LayoutModel",
      "state": {}
     },
     "70880777f1944b77825b883b6808c0b0": {
      "model_module": "@jupyter-widgets/controls",
      "model_module_version": "1.5.0",
      "model_name": "DescriptionStyleModel",
      "state": {
       "description_width": ""
      }
     },
     "7088f74ef82545b3bd73890e71e68380": {
      "model_module": "@jupyter-widgets/controls",
      "model_module_version": "1.5.0",
      "model_name": "ProgressStyleModel",
      "state": {
       "description_width": ""
      }
     },
     "7099c04000c64d48b1bb5d09edb70c7f": {
      "model_module": "@jupyter-widgets/controls",
      "model_module_version": "1.5.0",
      "model_name": "HBoxModel",
      "state": {
       "children": [
        "IPY_MODEL_a448e902ea3e4d52aca0549f625a3fce",
        "IPY_MODEL_90dda6cd4dfd4d97a368cee5e4e929fb",
        "IPY_MODEL_45df3582ce6f4b6586ae2559dc9005d0"
       ],
       "layout": "IPY_MODEL_c43cadb898224dc6bc4cf28b46cb4f50"
      }
     },
     "70a8931667a2472287002dcc305d0a11": {
      "model_module": "@jupyter-widgets/base",
      "model_module_version": "1.2.0",
      "model_name": "LayoutModel",
      "state": {}
     },
     "70b2aec01b034f16ae32ad78ca587344": {
      "model_module": "@jupyter-widgets/base",
      "model_module_version": "1.2.0",
      "model_name": "LayoutModel",
      "state": {}
     },
     "712aac13d9164950abfe92d755857b6f": {
      "model_module": "@jupyter-widgets/controls",
      "model_module_version": "1.5.0",
      "model_name": "HTMLModel",
      "state": {
       "layout": "IPY_MODEL_05d4515621af414588b6106ed559c88d",
       "style": "IPY_MODEL_7fbcf78fdeda4899a8ef886a052aa190",
       "value": " 336/336 [02:11&lt;00:00,  1.54it/s]"
      }
     },
     "715f4e8c9f284c64894e4a7c8f493c88": {
      "model_module": "@jupyter-widgets/base",
      "model_module_version": "1.2.0",
      "model_name": "LayoutModel",
      "state": {}
     },
     "7169db4dcae24e29a5f0548531dac06d": {
      "model_module": "@jupyter-widgets/base",
      "model_module_version": "1.2.0",
      "model_name": "LayoutModel",
      "state": {}
     },
     "71a295abe5984c2b812fc9dc1df3e87c": {
      "model_module": "@jupyter-widgets/controls",
      "model_module_version": "1.5.0",
      "model_name": "HTMLModel",
      "state": {
       "layout": "IPY_MODEL_d0c00d68c57f4ff9a707a7b7453fc2f0",
       "style": "IPY_MODEL_e33f481e9f1d4059a1e90438e96104c0",
       "value": " 312/312 [03:38&lt;00:00,  2.32it/s]"
      }
     },
     "722de6bbf5a8483192c8a99dbf9e2f10": {
      "model_module": "@jupyter-widgets/controls",
      "model_module_version": "1.5.0",
      "model_name": "HTMLModel",
      "state": {
       "layout": "IPY_MODEL_32182fc82f364e3789b52c54a925d66d",
       "style": "IPY_MODEL_a144db4ffd61493cb5bb6413a5712bcd",
       "value": "100%"
      }
     },
     "725357dd468547cf96a5457c37d69c97": {
      "model_module": "@jupyter-widgets/controls",
      "model_module_version": "1.5.0",
      "model_name": "HBoxModel",
      "state": {
       "children": [
        "IPY_MODEL_61e34e7a17634a80bcd4cc456267770b",
        "IPY_MODEL_03e56cbe6bc24b68837c53b22fa0368f",
        "IPY_MODEL_eb5cd9dd1df748f496ca9a0c5f75aec0"
       ],
       "layout": "IPY_MODEL_93dba56921824576a09b1f38a82d4d32"
      }
     },
     "726752572d4b4c06a0fb0de9d16d33cc": {
      "model_module": "@jupyter-widgets/controls",
      "model_module_version": "1.5.0",
      "model_name": "DescriptionStyleModel",
      "state": {
       "description_width": ""
      }
     },
     "729244587b244f73bf60c748675ecb4f": {
      "model_module": "@jupyter-widgets/controls",
      "model_module_version": "1.5.0",
      "model_name": "DescriptionStyleModel",
      "state": {
       "description_width": ""
      }
     },
     "73380672dffd4403818e3e4491469296": {
      "model_module": "@jupyter-widgets/base",
      "model_module_version": "1.2.0",
      "model_name": "LayoutModel",
      "state": {}
     },
     "73396a771838425cac012c98eae9989e": {
      "model_module": "@jupyter-widgets/controls",
      "model_module_version": "1.5.0",
      "model_name": "ProgressStyleModel",
      "state": {
       "description_width": ""
      }
     },
     "73617afffc4a45dc83db768cbd5d0192": {
      "model_module": "@jupyter-widgets/controls",
      "model_module_version": "1.5.0",
      "model_name": "ProgressStyleModel",
      "state": {
       "description_width": ""
      }
     },
     "7374dd28f7e74d2088a62bd35238f2c3": {
      "model_module": "@jupyter-widgets/controls",
      "model_module_version": "1.5.0",
      "model_name": "DescriptionStyleModel",
      "state": {
       "description_width": ""
      }
     },
     "737d9fb66db24449a86781e064d3a4ee": {
      "model_module": "@jupyter-widgets/controls",
      "model_module_version": "1.5.0",
      "model_name": "ProgressStyleModel",
      "state": {
       "description_width": ""
      }
     },
     "7425a00362904ed4be1a6dc3773de624": {
      "model_module": "@jupyter-widgets/base",
      "model_module_version": "1.2.0",
      "model_name": "LayoutModel",
      "state": {}
     },
     "7489c5aeceec4eeb9dd17058b3b242ae": {
      "model_module": "@jupyter-widgets/controls",
      "model_module_version": "1.5.0",
      "model_name": "HBoxModel",
      "state": {
       "children": [
        "IPY_MODEL_4c24806ff2f1435f8898a46d6118fa58",
        "IPY_MODEL_5c7d443b289d448891cb16d65ef61115",
        "IPY_MODEL_97e14f817d5f47ef9448cdae5216305f"
       ],
       "layout": "IPY_MODEL_4025b8fb3f2c4fedb8bbc307f79b40c2"
      }
     },
     "74b6550d0d6147c297bc0d136e95a5c8": {
      "model_module": "@jupyter-widgets/base",
      "model_module_version": "1.2.0",
      "model_name": "LayoutModel",
      "state": {}
     },
     "74c1891cf7fe4b81941fc7b9150d10f3": {
      "model_module": "@jupyter-widgets/controls",
      "model_module_version": "1.5.0",
      "model_name": "ProgressStyleModel",
      "state": {
       "description_width": ""
      }
     },
     "751c61b143b342399f5fa6a976d64eb8": {
      "model_module": "@jupyter-widgets/base",
      "model_module_version": "1.2.0",
      "model_name": "LayoutModel",
      "state": {}
     },
     "753058c57a57410f90778f6195d4eb93": {
      "model_module": "@jupyter-widgets/controls",
      "model_module_version": "1.5.0",
      "model_name": "FloatProgressModel",
      "state": {
       "bar_style": "success",
       "layout": "IPY_MODEL_829e67f33f4e4ba1ae0a7b79452790d9",
       "max": 6447,
       "style": "IPY_MODEL_1f6f1e9448104d6ba2a1fde5c546ee73",
       "value": 6447
      }
     },
     "755d7d56d63244d895c965c895c943a1": {
      "model_module": "@jupyter-widgets/base",
      "model_module_version": "1.2.0",
      "model_name": "LayoutModel",
      "state": {}
     },
     "75717be5ca134bacaf6d0f7937774ce2": {
      "model_module": "@jupyter-widgets/controls",
      "model_module_version": "1.5.0",
      "model_name": "HTMLModel",
      "state": {
       "layout": "IPY_MODEL_af2e7c0c3f794dd2ba7ed5728449c5b0",
       "style": "IPY_MODEL_851d1b7997984e32910ba16e553dca7b",
       "value": "100%"
      }
     },
     "757cc50f39454f9aa54623ca06cf2b8b": {
      "model_module": "@jupyter-widgets/controls",
      "model_module_version": "1.5.0",
      "model_name": "ProgressStyleModel",
      "state": {
       "description_width": ""
      }
     },
     "75a5ae2829d741ff97b4e6491a6664f2": {
      "model_module": "@jupyter-widgets/base",
      "model_module_version": "1.2.0",
      "model_name": "LayoutModel",
      "state": {}
     },
     "76c705353fd145e290b6c63d6c3b1745": {
      "model_module": "@jupyter-widgets/base",
      "model_module_version": "1.2.0",
      "model_name": "LayoutModel",
      "state": {}
     },
     "76c8751866884262a85ba19bd3b0144e": {
      "model_module": "@jupyter-widgets/controls",
      "model_module_version": "1.5.0",
      "model_name": "HTMLModel",
      "state": {
       "layout": "IPY_MODEL_d2c12bd51a034b669da707c12badd254",
       "style": "IPY_MODEL_6f974a211bc247d9b066fa321e84c3e1",
       "value": " 366/366 [03:14&lt;00:00,  1.48it/s]"
      }
     },
     "7710f3021a5840e680de8e9f81c2d7d6": {
      "model_module": "@jupyter-widgets/base",
      "model_module_version": "1.2.0",
      "model_name": "LayoutModel",
      "state": {}
     },
     "774697d6463c4cefb2e062589badd1c9": {
      "model_module": "@jupyter-widgets/controls",
      "model_module_version": "1.5.0",
      "model_name": "HBoxModel",
      "state": {
       "children": [
        "IPY_MODEL_5bae26d670674c9487a5512338daff34",
        "IPY_MODEL_e54904eeacd04468a61dc318a9197d72",
        "IPY_MODEL_169ff3c340cf45cbb4db4c52786edaba"
       ],
       "layout": "IPY_MODEL_fa13abfab3bd4c4eb4e7991312319c98"
      }
     },
     "7825f515812b44c79f7d34aa94a57eb4": {
      "model_module": "@jupyter-widgets/controls",
      "model_module_version": "1.5.0",
      "model_name": "ProgressStyleModel",
      "state": {
       "description_width": ""
      }
     },
     "789991bbdd714e948097e7c770c31788": {
      "model_module": "@jupyter-widgets/controls",
      "model_module_version": "1.5.0",
      "model_name": "ProgressStyleModel",
      "state": {
       "description_width": ""
      }
     },
     "78f1d49b53c140498b43b5d639bccf28": {
      "model_module": "@jupyter-widgets/controls",
      "model_module_version": "1.5.0",
      "model_name": "HBoxModel",
      "state": {
       "children": [
        "IPY_MODEL_1d103d67fcf34d369117f02fb2ae3b4c",
        "IPY_MODEL_34cb6452033349bb96a028e494a095a9",
        "IPY_MODEL_7f54bacc47e8445c9aea15cf10badae0"
       ],
       "layout": "IPY_MODEL_56cb180178c54f729f0835f7e2593bc5"
      }
     },
     "7919f3ed43454fffbbc844b460d614a1": {
      "model_module": "@jupyter-widgets/controls",
      "model_module_version": "1.5.0",
      "model_name": "HTMLModel",
      "state": {
       "layout": "IPY_MODEL_c301798c9d81422992dd66a06d4c986c",
       "style": "IPY_MODEL_cfaddbe00fe8404e99f6f645829c5514",
       "value": " 811/811 [11:15&lt;00:00,  1.12it/s]"
      }
     },
     "7953f82e0b944cabac8df110de78314e": {
      "model_module": "@jupyter-widgets/controls",
      "model_module_version": "1.5.0",
      "model_name": "DescriptionStyleModel",
      "state": {
       "description_width": ""
      }
     },
     "7961d95d4acb4d3095222b1da95f292e": {
      "model_module": "@jupyter-widgets/controls",
      "model_module_version": "1.5.0",
      "model_name": "DescriptionStyleModel",
      "state": {
       "description_width": ""
      }
     },
     "798d86b890ea4ae884787de3b716b095": {
      "model_module": "@jupyter-widgets/controls",
      "model_module_version": "1.5.0",
      "model_name": "DescriptionStyleModel",
      "state": {
       "description_width": ""
      }
     },
     "79e54bd54bea4ebc835a9d6c76ebbe0b": {
      "model_module": "@jupyter-widgets/controls",
      "model_module_version": "1.5.0",
      "model_name": "FloatProgressModel",
      "state": {
       "bar_style": "success",
       "layout": "IPY_MODEL_ab2805e7713640a0999fd9e79ab264a4",
       "max": 228,
       "style": "IPY_MODEL_de29b8c436934d579f027e1ebae3235d",
       "value": 228
      }
     },
     "79eda0097f03494d8deda88f4cfa933c": {
      "model_module": "@jupyter-widgets/base",
      "model_module_version": "1.2.0",
      "model_name": "LayoutModel",
      "state": {}
     },
     "7a4396de98184481a594b7f5b739662c": {
      "model_module": "@jupyter-widgets/base",
      "model_module_version": "1.2.0",
      "model_name": "LayoutModel",
      "state": {}
     },
     "7a8072b5b2b04003b3a8f4507dc5dc8a": {
      "model_module": "@jupyter-widgets/controls",
      "model_module_version": "1.5.0",
      "model_name": "HTMLModel",
      "state": {
       "layout": "IPY_MODEL_229fc7fe4b7046f0a849adcf3c8ee921",
       "style": "IPY_MODEL_05bb2632035144408d942009f832708d",
       "value": " 423/423 [03:11&lt;00:00,  2.72it/s]"
      }
     },
     "7ae5c654bbcd4188be948d014d3c1e0e": {
      "model_module": "@jupyter-widgets/base",
      "model_module_version": "1.2.0",
      "model_name": "LayoutModel",
      "state": {}
     },
     "7afc49e38a2d48568aec5b889787ef13": {
      "model_module": "@jupyter-widgets/controls",
      "model_module_version": "1.5.0",
      "model_name": "ProgressStyleModel",
      "state": {
       "description_width": ""
      }
     },
     "7b6bd766fef04a7d9f4457b85d5ec62a": {
      "model_module": "@jupyter-widgets/controls",
      "model_module_version": "1.5.0",
      "model_name": "ProgressStyleModel",
      "state": {
       "description_width": ""
      }
     },
     "7bc23e6f26ed480d9fde9f661749ad14": {
      "model_module": "@jupyter-widgets/controls",
      "model_module_version": "1.5.0",
      "model_name": "HTMLModel",
      "state": {
       "layout": "IPY_MODEL_20ea989f81f24554a5dd099057b82012",
       "style": "IPY_MODEL_61085ce98094445eb6813ad42f455540",
       "value": "100%"
      }
     },
     "7bc3358e69ac408487444c9836322ca1": {
      "model_module": "@jupyter-widgets/controls",
      "model_module_version": "1.5.0",
      "model_name": "FloatProgressModel",
      "state": {
       "bar_style": "success",
       "layout": "IPY_MODEL_6648fb68215b4d24b77f3bbe0dfbead3",
       "max": 294,
       "style": "IPY_MODEL_0e19940194c549ba81f769d583245772",
       "value": 294
      }
     },
     "7beeeb9312224886b2b1dca7cc8822d3": {
      "model_module": "@jupyter-widgets/base",
      "model_module_version": "1.2.0",
      "model_name": "LayoutModel",
      "state": {}
     },
     "7c3287d3d0864115996338bc91d13f77": {
      "model_module": "@jupyter-widgets/controls",
      "model_module_version": "1.5.0",
      "model_name": "FloatProgressModel",
      "state": {
       "bar_style": "success",
       "layout": "IPY_MODEL_9965940eca1d42509fbeef2a4ecefcfe",
       "max": 289,
       "style": "IPY_MODEL_5d393bb27d244de380ad280390bca920",
       "value": 289
      }
     },
     "7c811100d95f4433a473fd05b5b60a85": {
      "model_module": "@jupyter-widgets/controls",
      "model_module_version": "1.5.0",
      "model_name": "DescriptionStyleModel",
      "state": {
       "description_width": ""
      }
     },
     "7c814074874844278283b3cc69e1da0f": {
      "model_module": "@jupyter-widgets/controls",
      "model_module_version": "1.5.0",
      "model_name": "HTMLModel",
      "state": {
       "layout": "IPY_MODEL_46b51417b15547cc8b59b58dd87f6a33",
       "style": "IPY_MODEL_dc5ef7ada484407ea92d7bb24dccb039",
       "value": " 284/284 [03:23&lt;00:00,  1.50it/s]"
      }
     },
     "7cc9119319ba486a89f81a02f6754fb3": {
      "model_module": "@jupyter-widgets/base",
      "model_module_version": "1.2.0",
      "model_name": "LayoutModel",
      "state": {}
     },
     "7d369925397a45599c96a5c91330ec52": {
      "model_module": "@jupyter-widgets/controls",
      "model_module_version": "1.5.0",
      "model_name": "HTMLModel",
      "state": {
       "layout": "IPY_MODEL_6a00ba25d8bf4cfe89c33380d85383e5",
       "style": "IPY_MODEL_a2f66c638ed64e01b1c72934b623a5d5",
       "value": "100%"
      }
     },
     "7d40358943fb49b2947f3f51818a24eb": {
      "model_module": "@jupyter-widgets/controls",
      "model_module_version": "1.5.0",
      "model_name": "ProgressStyleModel",
      "state": {
       "description_width": ""
      }
     },
     "7dd5c66a9c244e0b81689a8230a70c0d": {
      "model_module": "@jupyter-widgets/controls",
      "model_module_version": "1.5.0",
      "model_name": "DescriptionStyleModel",
      "state": {
       "description_width": ""
      }
     },
     "7ddcc675b28f45bd959a704f6b817078": {
      "model_module": "@jupyter-widgets/controls",
      "model_module_version": "1.5.0",
      "model_name": "FloatProgressModel",
      "state": {
       "bar_style": "success",
       "layout": "IPY_MODEL_3b4aa8bbbd47449ebb0e948d3ec4034b",
       "max": 313,
       "style": "IPY_MODEL_cd7bcbface9248e9a5b664234b202822",
       "value": 313
      }
     },
     "7e4ff8adaf754c53aeb7ee9bfe443319": {
      "model_module": "@jupyter-widgets/controls",
      "model_module_version": "1.5.0",
      "model_name": "HTMLModel",
      "state": {
       "layout": "IPY_MODEL_49dbee778afa492cb1de722af501bc63",
       "style": "IPY_MODEL_d399fcd75a924905b3bd19f748ba51bc",
       "value": " 228/228 [02:12&lt;00:00,  1.47it/s]"
      }
     },
     "7e6c3d139ddc4a0c801a2b0744d9337c": {
      "model_module": "@jupyter-widgets/controls",
      "model_module_version": "1.5.0",
      "model_name": "HTMLModel",
      "state": {
       "layout": "IPY_MODEL_172cc1b1f19d44dc86aecafe9007744f",
       "style": "IPY_MODEL_21bc76863dc044448c722e736ec04eb1",
       "value": " 662/662 [09:58&lt;00:00,  3.29it/s]"
      }
     },
     "7e80bcaa63274b3e97950b581fdf6f34": {
      "model_module": "@jupyter-widgets/base",
      "model_module_version": "1.2.0",
      "model_name": "LayoutModel",
      "state": {}
     },
     "7ea668cec8ef4caea2cb537be8e4454c": {
      "model_module": "@jupyter-widgets/base",
      "model_module_version": "1.2.0",
      "model_name": "LayoutModel",
      "state": {}
     },
     "7ee7efdc62a441f48bd8ee537b5bcf84": {
      "model_module": "@jupyter-widgets/controls",
      "model_module_version": "1.5.0",
      "model_name": "HTMLModel",
      "state": {
       "layout": "IPY_MODEL_6c4711b45e3c462e9d06df9c5115b471",
       "style": "IPY_MODEL_1e2a3671a62341ba84364ea6833d99d6",
       "value": "100%"
      }
     },
     "7f19633188e447d9a6171e8d2f1ed2f0": {
      "model_module": "@jupyter-widgets/base",
      "model_module_version": "1.2.0",
      "model_name": "LayoutModel",
      "state": {}
     },
     "7f2c404f5bec4fc7a807412e341b7192": {
      "model_module": "@jupyter-widgets/controls",
      "model_module_version": "1.5.0",
      "model_name": "FloatProgressModel",
      "state": {
       "bar_style": "success",
       "layout": "IPY_MODEL_9f3f56be65f542a6bffd133fda6d1559",
       "max": 6447,
       "style": "IPY_MODEL_c2e1602970924e71b62aabcc2101b2cc",
       "value": 6447
      }
     },
     "7f2ebd9f2a0f4874bd1a59ce09e1c446": {
      "model_module": "@jupyter-widgets/controls",
      "model_module_version": "1.5.0",
      "model_name": "HTMLModel",
      "state": {
       "layout": "IPY_MODEL_648867269a0a4924a3f64da436d848b2",
       "style": "IPY_MODEL_9d68b80c85884aa986cbec87f35e762a",
       "value": "100%"
      }
     },
     "7f3363408b574d93bb7e02c06cc84f8b": {
      "model_module": "@jupyter-widgets/controls",
      "model_module_version": "1.5.0",
      "model_name": "FloatProgressModel",
      "state": {
       "bar_style": "success",
       "layout": "IPY_MODEL_5617cf6cb814480b8e8d485c5e12ba7e",
       "max": 811,
       "style": "IPY_MODEL_ac0c4aaeaf474fc1885edc9768a50c0a",
       "value": 811
      }
     },
     "7f37c0360b324122815fb8207b4b8d89": {
      "model_module": "@jupyter-widgets/base",
      "model_module_version": "1.2.0",
      "model_name": "LayoutModel",
      "state": {}
     },
     "7f54bacc47e8445c9aea15cf10badae0": {
      "model_module": "@jupyter-widgets/controls",
      "model_module_version": "1.5.0",
      "model_name": "HTMLModel",
      "state": {
       "layout": "IPY_MODEL_92c2905bf6d74de2aab1347a4ea7122f",
       "style": "IPY_MODEL_726752572d4b4c06a0fb0de9d16d33cc",
       "value": " 228/228 [01:30&lt;00:00,  1.25it/s]"
      }
     },
     "7f7a9e0b086f47159b1dc2d3d693e202": {
      "model_module": "@jupyter-widgets/controls",
      "model_module_version": "1.5.0",
      "model_name": "ProgressStyleModel",
      "state": {
       "description_width": ""
      }
     },
     "7fbcf78fdeda4899a8ef886a052aa190": {
      "model_module": "@jupyter-widgets/controls",
      "model_module_version": "1.5.0",
      "model_name": "DescriptionStyleModel",
      "state": {
       "description_width": ""
      }
     },
     "8010297a89224562a1f7cd91af948444": {
      "model_module": "@jupyter-widgets/controls",
      "model_module_version": "1.5.0",
      "model_name": "HBoxModel",
      "state": {
       "children": [
        "IPY_MODEL_87fefae97d3b43bc9e8e45c0f8fee64a",
        "IPY_MODEL_57890facee3242778d8d31aa43540168",
        "IPY_MODEL_06b67903fa7444c6a06dc88cb1df4d11"
       ],
       "layout": "IPY_MODEL_f67e856b76274b8ea5f5dc2b7d48f6bb"
      }
     },
     "8019745f717a480ea03e588d403d02fa": {
      "model_module": "@jupyter-widgets/base",
      "model_module_version": "1.2.0",
      "model_name": "LayoutModel",
      "state": {}
     },
     "801a5eda4e4e4fa582bf0dbe9577d72e": {
      "model_module": "@jupyter-widgets/base",
      "model_module_version": "1.2.0",
      "model_name": "LayoutModel",
      "state": {}
     },
     "801ea17b4cb2459aa50b5cccca1ed48d": {
      "model_module": "@jupyter-widgets/base",
      "model_module_version": "1.2.0",
      "model_name": "LayoutModel",
      "state": {}
     },
     "80666f143731481a8d137d84aa8ef0a4": {
      "model_module": "@jupyter-widgets/controls",
      "model_module_version": "1.5.0",
      "model_name": "DescriptionStyleModel",
      "state": {
       "description_width": ""
      }
     },
     "8068a8e273c1425e88157a7e6424d826": {
      "model_module": "@jupyter-widgets/controls",
      "model_module_version": "1.5.0",
      "model_name": "DescriptionStyleModel",
      "state": {
       "description_width": ""
      }
     },
     "8090165504c04b41a5e45138b2b5e0ed": {
      "model_module": "@jupyter-widgets/controls",
      "model_module_version": "1.5.0",
      "model_name": "DescriptionStyleModel",
      "state": {
       "description_width": ""
      }
     },
     "80d23cf126ee41f8b224f99f40de03bc": {
      "model_module": "@jupyter-widgets/base",
      "model_module_version": "1.2.0",
      "model_name": "LayoutModel",
      "state": {}
     },
     "80f5e2931b874cff907d439c54477b98": {
      "model_module": "@jupyter-widgets/controls",
      "model_module_version": "1.5.0",
      "model_name": "FloatProgressModel",
      "state": {
       "bar_style": "success",
       "layout": "IPY_MODEL_99fd9416091948678c9e71131fca37a4",
       "max": 700,
       "style": "IPY_MODEL_e9e3977afe544b878b10a69715a07fda",
       "value": 700
      }
     },
     "8104924943414347a5e24ea103efdddc": {
      "model_module": "@jupyter-widgets/controls",
      "model_module_version": "1.5.0",
      "model_name": "DescriptionStyleModel",
      "state": {
       "description_width": ""
      }
     },
     "811c11bf4b224c8c92d0bc64adc948e9": {
      "model_module": "@jupyter-widgets/controls",
      "model_module_version": "1.5.0",
      "model_name": "DescriptionStyleModel",
      "state": {
       "description_width": ""
      }
     },
     "813901a59c9b4a58b9176a0e23c03397": {
      "model_module": "@jupyter-widgets/controls",
      "model_module_version": "1.5.0",
      "model_name": "ProgressStyleModel",
      "state": {
       "description_width": ""
      }
     },
     "814d48d1eadb46048e6576ef185b42f6": {
      "model_module": "@jupyter-widgets/controls",
      "model_module_version": "1.5.0",
      "model_name": "HBoxModel",
      "state": {
       "children": [
        "IPY_MODEL_d8782b4446434a80acaf4a673d1116da",
        "IPY_MODEL_4752059c8ff8484cbf4b465f3b241aa4",
        "IPY_MODEL_2ce0ab8de77c416e91d743401574240a"
       ],
       "layout": "IPY_MODEL_e2ee5c144f284eeeb9aee6e67a6def7c"
      }
     },
     "81818c9d5a054751991177ba9e6a043d": {
      "model_module": "@jupyter-widgets/controls",
      "model_module_version": "1.5.0",
      "model_name": "HBoxModel",
      "state": {
       "children": [
        "IPY_MODEL_8735ab2284f64417af9c4fad56a56b65",
        "IPY_MODEL_80f5e2931b874cff907d439c54477b98",
        "IPY_MODEL_25ac6160fd84421d89ad026f41262049"
       ],
       "layout": "IPY_MODEL_bc17f625e29f4e4e9322f50e072831a9"
      }
     },
     "81e454e9ad424ca0bf683ac2cfbc2844": {
      "model_module": "@jupyter-widgets/controls",
      "model_module_version": "1.5.0",
      "model_name": "FloatProgressModel",
      "state": {
       "bar_style": "success",
       "layout": "IPY_MODEL_80d23cf126ee41f8b224f99f40de03bc",
       "max": 6447,
       "style": "IPY_MODEL_b57e03c89a2840b18d14cd3b978487c9",
       "value": 6447
      }
     },
     "820e00cc179e4b49950f630a0434791d": {
      "model_module": "@jupyter-widgets/controls",
      "model_module_version": "1.5.0",
      "model_name": "DescriptionStyleModel",
      "state": {
       "description_width": ""
      }
     },
     "8219c451925e4f89bc4dd12f37fb0f37": {
      "model_module": "@jupyter-widgets/controls",
      "model_module_version": "1.5.0",
      "model_name": "HTMLModel",
      "state": {
       "layout": "IPY_MODEL_a85b79b667664fdc984737e53d5fcdf2",
       "style": "IPY_MODEL_7dd5c66a9c244e0b81689a8230a70c0d",
       "value": " 336/336 [02:46&lt;00:00,  1.14it/s]"
      }
     },
     "828d4713c7d44ac7999bc3afb59e1275": {
      "model_module": "@jupyter-widgets/controls",
      "model_module_version": "1.5.0",
      "model_name": "HTMLModel",
      "state": {
       "layout": "IPY_MODEL_ae659eaa8a49436f8c1f26274e41f5a4",
       "style": "IPY_MODEL_013c58bd2fd54ee0b6faf7ced0edf403",
       "value": " 423/423 [05:21&lt;00:00,  1.49it/s]"
      }
     },
     "82977f574c9944a38aace3db58c0dac3": {
      "model_module": "@jupyter-widgets/base",
      "model_module_version": "1.2.0",
      "model_name": "LayoutModel",
      "state": {}
     },
     "829e67f33f4e4ba1ae0a7b79452790d9": {
      "model_module": "@jupyter-widgets/base",
      "model_module_version": "1.2.0",
      "model_name": "LayoutModel",
      "state": {}
     },
     "83418f5b5b454a8a966b75b49e367935": {
      "model_module": "@jupyter-widgets/controls",
      "model_module_version": "1.5.0",
      "model_name": "HTMLModel",
      "state": {
       "layout": "IPY_MODEL_5e0e816fa8804279b40d73fb49839b8f",
       "style": "IPY_MODEL_e0d96d27945a4805a04027797931375a",
       "value": " 313/313 [02:27&lt;00:00,  1.47it/s]"
      }
     },
     "8342600be5e24608b678cb81369a30a8": {
      "model_module": "@jupyter-widgets/base",
      "model_module_version": "1.2.0",
      "model_name": "LayoutModel",
      "state": {}
     },
     "83629d17cf0a4925a16bee0073bb227a": {
      "model_module": "@jupyter-widgets/controls",
      "model_module_version": "1.5.0",
      "model_name": "HTMLModel",
      "state": {
       "layout": "IPY_MODEL_9731604b378d45bb9f554de85b1fb2db",
       "style": "IPY_MODEL_ac0d5a881105469eb413deb85b0c7cf5",
       "value": "100%"
      }
     },
     "8381474ff74245eb849a490a84e300dc": {
      "model_module": "@jupyter-widgets/controls",
      "model_module_version": "1.5.0",
      "model_name": "HTMLModel",
      "state": {
       "layout": "IPY_MODEL_16f202ec66ae4bf6a8846062d857839e",
       "style": "IPY_MODEL_c9f1e2b233904d289b0e48e335675fc6",
       "value": " 289/289 [02:08&lt;00:00,  1.44it/s]"
      }
     },
     "83ab3c173e304c46949d68bb39e4a288": {
      "model_module": "@jupyter-widgets/base",
      "model_module_version": "1.2.0",
      "model_name": "LayoutModel",
      "state": {}
     },
     "83dd037c1182478eb1152f95cb49817c": {
      "model_module": "@jupyter-widgets/base",
      "model_module_version": "1.2.0",
      "model_name": "LayoutModel",
      "state": {}
     },
     "847a905e4b034e22a1fe17c3b82d4650": {
      "model_module": "@jupyter-widgets/controls",
      "model_module_version": "1.5.0",
      "model_name": "DescriptionStyleModel",
      "state": {
       "description_width": ""
      }
     },
     "848a26582b1749038d63adb53f0f2791": {
      "model_module": "@jupyter-widgets/base",
      "model_module_version": "1.2.0",
      "model_name": "LayoutModel",
      "state": {}
     },
     "84c2b4ad1dd545e6881d74a7d6834fc8": {
      "model_module": "@jupyter-widgets/base",
      "model_module_version": "1.2.0",
      "model_name": "LayoutModel",
      "state": {}
     },
     "851d1b7997984e32910ba16e553dca7b": {
      "model_module": "@jupyter-widgets/controls",
      "model_module_version": "1.5.0",
      "model_name": "DescriptionStyleModel",
      "state": {
       "description_width": ""
      }
     },
     "853acbf8016745578be447f4d4aded21": {
      "model_module": "@jupyter-widgets/controls",
      "model_module_version": "1.5.0",
      "model_name": "FloatProgressModel",
      "state": {
       "bar_style": "success",
       "layout": "IPY_MODEL_9f9ae02478a94ee3b8946a7e11c7bf85",
       "max": 662,
       "style": "IPY_MODEL_dab76b6b4d534a6d9e66e60e8e38758d",
       "value": 662
      }
     },
     "855462c24f1947eaa30ab29dddcbe3db": {
      "model_module": "@jupyter-widgets/base",
      "model_module_version": "1.2.0",
      "model_name": "LayoutModel",
      "state": {}
     },
     "857053aee5874513aba7f386f28b7b51": {
      "model_module": "@jupyter-widgets/controls",
      "model_module_version": "1.5.0",
      "model_name": "ProgressStyleModel",
      "state": {
       "description_width": ""
      }
     },
     "85cde7fd37964d5292dc7c6f567ae9ff": {
      "model_module": "@jupyter-widgets/base",
      "model_module_version": "1.2.0",
      "model_name": "LayoutModel",
      "state": {}
     },
     "86217193a3f345b09e66301a54afece0": {
      "model_module": "@jupyter-widgets/controls",
      "model_module_version": "1.5.0",
      "model_name": "FloatProgressModel",
      "state": {
       "bar_style": "success",
       "layout": "IPY_MODEL_f72e58e1f0b24d7790d2ab8773ad2060",
       "max": 647,
       "style": "IPY_MODEL_665ced6b53c74eaf85feafdaa54de7f1",
       "value": 647
      }
     },
     "863cd6c856d84443b28052a5e3f1fd2c": {
      "model_module": "@jupyter-widgets/base",
      "model_module_version": "1.2.0",
      "model_name": "LayoutModel",
      "state": {}
     },
     "869e279ce06145259a3e911283f3e5b3": {
      "model_module": "@jupyter-widgets/controls",
      "model_module_version": "1.5.0",
      "model_name": "ProgressStyleModel",
      "state": {
       "description_width": ""
      }
     },
     "86f2330e817a4a329327556e99a64f08": {
      "model_module": "@jupyter-widgets/controls",
      "model_module_version": "1.5.0",
      "model_name": "DescriptionStyleModel",
      "state": {
       "description_width": ""
      }
     },
     "8735ab2284f64417af9c4fad56a56b65": {
      "model_module": "@jupyter-widgets/controls",
      "model_module_version": "1.5.0",
      "model_name": "HTMLModel",
      "state": {
       "layout": "IPY_MODEL_5dedd6e31b36491ab2ff1f057199d8a7",
       "style": "IPY_MODEL_acecc52806da410ba0e5f9f513290bed",
       "value": "100%"
      }
     },
     "876b3f41d5cb4d5e859bf82f2f18717b": {
      "model_module": "@jupyter-widgets/controls",
      "model_module_version": "1.5.0",
      "model_name": "FloatProgressModel",
      "state": {
       "bar_style": "success",
       "layout": "IPY_MODEL_511ff471bd1e48a7a8838e9126d250c2",
       "max": 700,
       "style": "IPY_MODEL_b31dde1c801a4eeaa8798b7776802f8e",
       "value": 700
      }
     },
     "877ad8dbb2d544d8910f1e7c43bd8923": {
      "model_module": "@jupyter-widgets/base",
      "model_module_version": "1.2.0",
      "model_name": "LayoutModel",
      "state": {}
     },
     "87fefae97d3b43bc9e8e45c0f8fee64a": {
      "model_module": "@jupyter-widgets/controls",
      "model_module_version": "1.5.0",
      "model_name": "HTMLModel",
      "state": {
       "layout": "IPY_MODEL_5de59bc0131442349c0b5871adbf17eb",
       "style": "IPY_MODEL_e343dbbcb5994ccd88ea24504f010a83",
       "value": "100%"
      }
     },
     "88454b058e3947ac963596f0e5b84e33": {
      "model_module": "@jupyter-widgets/base",
      "model_module_version": "1.2.0",
      "model_name": "LayoutModel",
      "state": {}
     },
     "884604962e464f4a9926b8dccf0af10f": {
      "model_module": "@jupyter-widgets/controls",
      "model_module_version": "1.5.0",
      "model_name": "HBoxModel",
      "state": {
       "children": [
        "IPY_MODEL_8e6ed958b5cb4bdd8d6424ed658b8b8c",
        "IPY_MODEL_9d3a6649a5c54572860250a5ba6bffd9",
        "IPY_MODEL_b4cb3330984048b8b34d5a86472ab021"
       ],
       "layout": "IPY_MODEL_8e76241b40cb460e87b7d6b9f37a4dea"
      }
     },
     "887ad81828a442f79d234a0b22345d31": {
      "model_module": "@jupyter-widgets/controls",
      "model_module_version": "1.5.0",
      "model_name": "HTMLModel",
      "state": {
       "layout": "IPY_MODEL_4223484bd122444d9e7f668a0177e233",
       "style": "IPY_MODEL_6c9c406a09a0410681d22f47a6cc12d2",
       "value": " 366/366 [04:25&lt;00:00,  1.50it/s]"
      }
     },
     "88e2f923a8434df28413d055aee598fe": {
      "model_module": "@jupyter-widgets/controls",
      "model_module_version": "1.5.0",
      "model_name": "HTMLModel",
      "state": {
       "layout": "IPY_MODEL_b91ddbef3cd947e5bfd3d79b4a420133",
       "style": "IPY_MODEL_f9a5ad82132e437f8dcbfb350bab9f85",
       "value": "100%"
      }
     },
     "894f17a2664a4413ae7d56cb5d73b764": {
      "model_module": "@jupyter-widgets/base",
      "model_module_version": "1.2.0",
      "model_name": "LayoutModel",
      "state": {}
     },
     "895149fcc8824b16b50871d164301d8d": {
      "model_module": "@jupyter-widgets/controls",
      "model_module_version": "1.5.0",
      "model_name": "HTMLModel",
      "state": {
       "layout": "IPY_MODEL_ab728d36ddd54a6d8762ad75abf8aa18",
       "style": "IPY_MODEL_9f898806cce14e10adb61f3385efad44",
       "value": "100%"
      }
     },
     "89523d187838423e96c0ebb674030e78": {
      "model_module": "@jupyter-widgets/controls",
      "model_module_version": "1.5.0",
      "model_name": "ProgressStyleModel",
      "state": {
       "description_width": ""
      }
     },
     "895d38bd96ac4b9692942d81c4683dcd": {
      "model_module": "@jupyter-widgets/controls",
      "model_module_version": "1.5.0",
      "model_name": "DescriptionStyleModel",
      "state": {
       "description_width": ""
      }
     },
     "89677973567448acad723f9ed3c15eb6": {
      "model_module": "@jupyter-widgets/base",
      "model_module_version": "1.2.0",
      "model_name": "LayoutModel",
      "state": {}
     },
     "89ec6a09f0af4c89a54d2b3eb2dc6975": {
      "model_module": "@jupyter-widgets/controls",
      "model_module_version": "1.5.0",
      "model_name": "HTMLModel",
      "state": {
       "layout": "IPY_MODEL_602536fed09c4be6aba0100cc8a935a6",
       "style": "IPY_MODEL_2cb34c45b78d4224afeddd48ad6fcfca",
       "value": "100%"
      }
     },
     "8a126587b44048868cd0d9d1b9f02a3c": {
      "model_module": "@jupyter-widgets/base",
      "model_module_version": "1.2.0",
      "model_name": "LayoutModel",
      "state": {}
     },
     "8a18e0b9526047f2909ef5041a82e5ba": {
      "model_module": "@jupyter-widgets/base",
      "model_module_version": "1.2.0",
      "model_name": "LayoutModel",
      "state": {}
     },
     "8a6a9e65ca4d46198ba60b77a8d7951d": {
      "model_module": "@jupyter-widgets/controls",
      "model_module_version": "1.5.0",
      "model_name": "ProgressStyleModel",
      "state": {
       "description_width": ""
      }
     },
     "8ad7e3073b924fb9928bd2be67b4737a": {
      "model_module": "@jupyter-widgets/controls",
      "model_module_version": "1.5.0",
      "model_name": "HTMLModel",
      "state": {
       "layout": "IPY_MODEL_a2c2d8c5bdec4339a2458e2883518e47",
       "style": "IPY_MODEL_7961d95d4acb4d3095222b1da95f292e",
       "value": " 1095/1095 [18:41&lt;00:00,  5.57it/s]"
      }
     },
     "8adfb03fa9934c2a91c9fe4a5c4b9683": {
      "model_module": "@jupyter-widgets/controls",
      "model_module_version": "1.5.0",
      "model_name": "FloatProgressModel",
      "state": {
       "bar_style": "success",
       "layout": "IPY_MODEL_de2599d9a67e4ae497c38ed83f735af1",
       "max": 662,
       "style": "IPY_MODEL_1e1e61f4849b407b922bf12102729ffe",
       "value": 662
      }
     },
     "8ba21b586b24460b9408de8f798ffead": {
      "model_module": "@jupyter-widgets/controls",
      "model_module_version": "1.5.0",
      "model_name": "FloatProgressModel",
      "state": {
       "bar_style": "success",
       "layout": "IPY_MODEL_1c34b85acff3421298501601e7f0bc13",
       "max": 700,
       "style": "IPY_MODEL_2cf4cff270fc4b2e8e6df9061fc9f06d",
       "value": 700
      }
     },
     "8bd7035cca3844359c821cf80248c820": {
      "model_module": "@jupyter-widgets/base",
      "model_module_version": "1.2.0",
      "model_name": "LayoutModel",
      "state": {}
     },
     "8cb5d286b895441090fc10e5fd726054": {
      "model_module": "@jupyter-widgets/controls",
      "model_module_version": "1.5.0",
      "model_name": "DescriptionStyleModel",
      "state": {
       "description_width": ""
      }
     },
     "8dde6669f7c74600b880332a12234431": {
      "model_module": "@jupyter-widgets/base",
      "model_module_version": "1.2.0",
      "model_name": "LayoutModel",
      "state": {}
     },
     "8e199ac4ef3944c9b7dc8f45e26b1545": {
      "model_module": "@jupyter-widgets/base",
      "model_module_version": "1.2.0",
      "model_name": "LayoutModel",
      "state": {}
     },
     "8e1e249935b640d18c3be62681f0c4b7": {
      "model_module": "@jupyter-widgets/controls",
      "model_module_version": "1.5.0",
      "model_name": "ProgressStyleModel",
      "state": {
       "description_width": ""
      }
     },
     "8e28c8e698f24cb6856cb5dbbefb2132": {
      "model_module": "@jupyter-widgets/controls",
      "model_module_version": "1.5.0",
      "model_name": "DescriptionStyleModel",
      "state": {
       "description_width": ""
      }
     },
     "8e6ed958b5cb4bdd8d6424ed658b8b8c": {
      "model_module": "@jupyter-widgets/controls",
      "model_module_version": "1.5.0",
      "model_name": "HTMLModel",
      "state": {
       "layout": "IPY_MODEL_90ddc640a0074ccb9f6d40cec08f7737",
       "style": "IPY_MODEL_99883fddd89848458f0b56c92234590b",
       "value": "  3%"
      }
     },
     "8e76241b40cb460e87b7d6b9f37a4dea": {
      "model_module": "@jupyter-widgets/base",
      "model_module_version": "1.2.0",
      "model_name": "LayoutModel",
      "state": {}
     },
     "8ea8a269e53c493e8fd1db3a38664b1c": {
      "model_module": "@jupyter-widgets/controls",
      "model_module_version": "1.5.0",
      "model_name": "FloatProgressModel",
      "state": {
       "bar_style": "success",
       "layout": "IPY_MODEL_183788ffde39411b986efe68b0ca5f05",
       "max": 662,
       "style": "IPY_MODEL_5cc6b4054ac445c8ad4d239b0450c5b0",
       "value": 662
      }
     },
     "8eb5a88e5b4c45329a15e61c52450f2a": {
      "model_module": "@jupyter-widgets/controls",
      "model_module_version": "1.5.0",
      "model_name": "HTMLModel",
      "state": {
       "layout": "IPY_MODEL_0bd4247f4f3246eeb06fe01d258ce67f",
       "style": "IPY_MODEL_e720f560db2f4d32b970ff5827c58207",
       "value": "100%"
      }
     },
     "8f2a27a053f748578d2acd3b00f8b45b": {
      "model_module": "@jupyter-widgets/controls",
      "model_module_version": "1.5.0",
      "model_name": "HTMLModel",
      "state": {
       "layout": "IPY_MODEL_9b7b91fc34094cefbafc71a5dfd088ca",
       "style": "IPY_MODEL_7c811100d95f4433a473fd05b5b60a85",
       "value": " 336/336 [02:12&lt;00:00,  1.46it/s]"
      }
     },
     "8f36e55abd094e93a5942583c225a169": {
      "model_module": "@jupyter-widgets/controls",
      "model_module_version": "1.5.0",
      "model_name": "DescriptionStyleModel",
      "state": {
       "description_width": ""
      }
     },
     "8f5e6dc51f364e99af868bf0ff0b17ec": {
      "model_module": "@jupyter-widgets/controls",
      "model_module_version": "1.5.0",
      "model_name": "HTMLModel",
      "state": {
       "layout": "IPY_MODEL_9575f56ac5d94ee6b87844e5ec00d9ea",
       "style": "IPY_MODEL_6ccc9149407c4a57b63fee58b564bb05",
       "value": " 647/647 [09:39&lt;00:00,  3.35it/s]"
      }
     },
     "8f95429407794b5088b7e85dc0674c20": {
      "model_module": "@jupyter-widgets/controls",
      "model_module_version": "1.5.0",
      "model_name": "HTMLModel",
      "state": {
       "layout": "IPY_MODEL_e3ad3fe92b6040ecb676e04877b5bc00",
       "style": "IPY_MODEL_b3fe12601ff54cf1bede91ddcb54650d",
       "value": " 373/373 [02:31&lt;00:00,  1.17it/s]"
      }
     },
     "8faa8463a2bc4cfb9d12a624ddd62ce0": {
      "model_module": "@jupyter-widgets/base",
      "model_module_version": "1.2.0",
      "model_name": "LayoutModel",
      "state": {}
     },
     "9005599afd954edc8d735826a019adcb": {
      "model_module": "@jupyter-widgets/controls",
      "model_module_version": "1.5.0",
      "model_name": "DescriptionStyleModel",
      "state": {
       "description_width": ""
      }
     },
     "90821d2a08204fdca0396398c7938838": {
      "model_module": "@jupyter-widgets/controls",
      "model_module_version": "1.5.0",
      "model_name": "HTMLModel",
      "state": {
       "layout": "IPY_MODEL_224afaa9ec7f49399fe55adf525b8cfe",
       "style": "IPY_MODEL_8e28c8e698f24cb6856cb5dbbefb2132",
       "value": "100%"
      }
     },
     "90a95976a4ce47f7897ee58cd5783d6a": {
      "model_module": "@jupyter-widgets/base",
      "model_module_version": "1.2.0",
      "model_name": "LayoutModel",
      "state": {}
     },
     "90dda6cd4dfd4d97a368cee5e4e929fb": {
      "model_module": "@jupyter-widgets/controls",
      "model_module_version": "1.5.0",
      "model_name": "FloatProgressModel",
      "state": {
       "bar_style": "success",
       "layout": "IPY_MODEL_096bb0e727d944caad89b108190fc068",
       "max": 662,
       "style": "IPY_MODEL_d11177d7be0749499efb4d24312383e2",
       "value": 662
      }
     },
     "90ddc640a0074ccb9f6d40cec08f7737": {
      "model_module": "@jupyter-widgets/base",
      "model_module_version": "1.2.0",
      "model_name": "LayoutModel",
      "state": {}
     },
     "90f660bc460a4bb19ce2e9b811b1ba05": {
      "model_module": "@jupyter-widgets/controls",
      "model_module_version": "1.5.0",
      "model_name": "DescriptionStyleModel",
      "state": {
       "description_width": ""
      }
     },
     "919597e003134d24ab46dfbeef6b29a8": {
      "model_module": "@jupyter-widgets/base",
      "model_module_version": "1.2.0",
      "model_name": "LayoutModel",
      "state": {}
     },
     "91ae0fd1f3a74fc199b7c2c5f2447ffe": {
      "model_module": "@jupyter-widgets/controls",
      "model_module_version": "1.5.0",
      "model_name": "HTMLModel",
      "state": {
       "layout": "IPY_MODEL_c57bbaac2b0d45bfabe3ae581a2fe630",
       "style": "IPY_MODEL_ea2547620be24ceabe9daef3b53b4c69",
       "value": "100%"
      }
     },
     "9208e9918bf44739818ebb8a80fc64d1": {
      "model_module": "@jupyter-widgets/controls",
      "model_module_version": "1.5.0",
      "model_name": "FloatProgressModel",
      "state": {
       "bar_style": "success",
       "layout": "IPY_MODEL_70b2aec01b034f16ae32ad78ca587344",
       "max": 294,
       "style": "IPY_MODEL_f13885b167f3428c946c43bf188b7925",
       "value": 294
      }
     },
     "92389e642ddc4f55b23c6fee42c661fd": {
      "model_module": "@jupyter-widgets/base",
      "model_module_version": "1.2.0",
      "model_name": "LayoutModel",
      "state": {}
     },
     "92c2905bf6d74de2aab1347a4ea7122f": {
      "model_module": "@jupyter-widgets/base",
      "model_module_version": "1.2.0",
      "model_name": "LayoutModel",
      "state": {}
     },
     "92cf6922797d4f708a7101fefe819d1a": {
      "model_module": "@jupyter-widgets/controls",
      "model_module_version": "1.5.0",
      "model_name": "HTMLModel",
      "state": {
       "layout": "IPY_MODEL_511a308936b343fc8f87aca6f463c10a",
       "style": "IPY_MODEL_a8cfb4f9bb304e43b91b1faec5667449",
       "value": "100%"
      }
     },
     "93300900d30b460eb6467ececb49cc31": {
      "model_module": "@jupyter-widgets/controls",
      "model_module_version": "1.5.0",
      "model_name": "HTMLModel",
      "state": {
       "layout": "IPY_MODEL_fcdd8b6f05a546c6a792f5b119778a3d",
       "style": "IPY_MODEL_e8615573846842c0bea1fede645a1b97",
       "value": " 423/423 [05:21&lt;00:00,  1.48it/s]"
      }
     },
     "934effae2ad947a8b18d8e7300c8fa1f": {
      "model_module": "@jupyter-widgets/base",
      "model_module_version": "1.2.0",
      "model_name": "LayoutModel",
      "state": {}
     },
     "935c460a7c454575b3eb5b7a2873ecc3": {
      "model_module": "@jupyter-widgets/controls",
      "model_module_version": "1.5.0",
      "model_name": "ProgressStyleModel",
      "state": {
       "description_width": ""
      }
     },
     "9395e73b181b4556a25149eea94975a2": {
      "model_module": "@jupyter-widgets/controls",
      "model_module_version": "1.5.0",
      "model_name": "DescriptionStyleModel",
      "state": {
       "description_width": ""
      }
     },
     "93dba56921824576a09b1f38a82d4d32": {
      "model_module": "@jupyter-widgets/base",
      "model_module_version": "1.2.0",
      "model_name": "LayoutModel",
      "state": {}
     },
     "94d620b679364f7b82bc1953daf408cd": {
      "model_module": "@jupyter-widgets/controls",
      "model_module_version": "1.5.0",
      "model_name": "HTMLModel",
      "state": {
       "layout": "IPY_MODEL_0a20bf3829cc48f495f325e2612ff944",
       "style": "IPY_MODEL_2ab2d491eeaa4222b6439dc2507c49c5",
       "value": "100%"
      }
     },
     "94fabfd499e64b55bca4d55933c477cd": {
      "model_module": "@jupyter-widgets/base",
      "model_module_version": "1.2.0",
      "model_name": "LayoutModel",
      "state": {}
     },
     "94fc681864c546b191ef66cf2f70d84a": {
      "model_module": "@jupyter-widgets/base",
      "model_module_version": "1.2.0",
      "model_name": "LayoutModel",
      "state": {}
     },
     "9526d13e932a4184be4f9f9c4b7785f1": {
      "model_module": "@jupyter-widgets/controls",
      "model_module_version": "1.5.0",
      "model_name": "HBoxModel",
      "state": {
       "children": [
        "IPY_MODEL_91ae0fd1f3a74fc199b7c2c5f2447ffe",
        "IPY_MODEL_ee8d01f80ea54d9f8bf610905e66906c",
        "IPY_MODEL_1d37adf71f8b479d8522983998de14dc"
       ],
       "layout": "IPY_MODEL_f6c0926ad80342399c6ae3227b945330"
      }
     },
     "9575f56ac5d94ee6b87844e5ec00d9ea": {
      "model_module": "@jupyter-widgets/base",
      "model_module_version": "1.2.0",
      "model_name": "LayoutModel",
      "state": {}
     },
     "95ecf59844604ae7bd475a06e92924be": {
      "model_module": "@jupyter-widgets/base",
      "model_module_version": "1.2.0",
      "model_name": "LayoutModel",
      "state": {}
     },
     "9612c2a6b05c49d7a0fd0df0ade1fd70": {
      "model_module": "@jupyter-widgets/controls",
      "model_module_version": "1.5.0",
      "model_name": "FloatProgressModel",
      "state": {
       "bar_style": "danger",
       "layout": "IPY_MODEL_704abc9ca06548f896df4fe2b7fad328",
       "max": 228,
       "style": "IPY_MODEL_1cded0df6b63442b8bceef25077bc540"
      }
     },
     "96dc6fd117d341c9b7a7b4827f805b12": {
      "model_module": "@jupyter-widgets/base",
      "model_module_version": "1.2.0",
      "model_name": "LayoutModel",
      "state": {}
     },
     "971026a812af4bb98e017076ad26b3fe": {
      "model_module": "@jupyter-widgets/base",
      "model_module_version": "1.2.0",
      "model_name": "LayoutModel",
      "state": {}
     },
     "9711704e425c461dab0dbe5d3738d0a0": {
      "model_module": "@jupyter-widgets/base",
      "model_module_version": "1.2.0",
      "model_name": "LayoutModel",
      "state": {}
     },
     "9731604b378d45bb9f554de85b1fb2db": {
      "model_module": "@jupyter-widgets/base",
      "model_module_version": "1.2.0",
      "model_name": "LayoutModel",
      "state": {}
     },
     "9745b65fa2b549e7b66e14c7c4cb9113": {
      "model_module": "@jupyter-widgets/controls",
      "model_module_version": "1.5.0",
      "model_name": "DescriptionStyleModel",
      "state": {
       "description_width": ""
      }
     },
     "9795c3bc94744dcf8efcaea2c6ea0e86": {
      "model_module": "@jupyter-widgets/controls",
      "model_module_version": "1.5.0",
      "model_name": "FloatProgressModel",
      "state": {
       "bar_style": "success",
       "layout": "IPY_MODEL_b8b35f1813e64d3dbf8fd87a64fc1c86",
       "max": 1095,
       "style": "IPY_MODEL_7d40358943fb49b2947f3f51818a24eb",
       "value": 1095
      }
     },
     "97c21dae6f324ec2993d82eb38a29656": {
      "model_module": "@jupyter-widgets/controls",
      "model_module_version": "1.5.0",
      "model_name": "HBoxModel",
      "state": {
       "children": [
        "IPY_MODEL_eb9218d12aa7478293a3fd943974a59d",
        "IPY_MODEL_1c84a4b7a1e54ad09fdf698780a1436b",
        "IPY_MODEL_49155a969a784898a81c8c0e3928bff4"
       ],
       "layout": "IPY_MODEL_094aa5022a4f446c91477aa2d1a56695"
      }
     },
     "97d7c111745a4804aedbce28f81d629f": {
      "model_module": "@jupyter-widgets/controls",
      "model_module_version": "1.5.0",
      "model_name": "HTMLModel",
      "state": {
       "layout": "IPY_MODEL_e2c9ace22b7b40fc89f27d22c2e2de66",
       "style": "IPY_MODEL_32c7b4d3e3a946aa8313a185208a717c",
       "value": "100%"
      }
     },
     "97e14f817d5f47ef9448cdae5216305f": {
      "model_module": "@jupyter-widgets/controls",
      "model_module_version": "1.5.0",
      "model_name": "HTMLModel",
      "state": {
       "layout": "IPY_MODEL_a3cfa7230bf243909b111b85031fb6ec",
       "style": "IPY_MODEL_4770b651200c430598e30ccfe5610232",
       "value": " 700/700 [11:06&lt;00:00,  2.22it/s]"
      }
     },
     "97ec96a0840a46a2a4582cf063c1a308": {
      "model_module": "@jupyter-widgets/base",
      "model_module_version": "1.2.0",
      "model_name": "LayoutModel",
      "state": {}
     },
     "98070edd6b76455e97f6aa912fab4a2c": {
      "model_module": "@jupyter-widgets/controls",
      "model_module_version": "1.5.0",
      "model_name": "HTMLModel",
      "state": {
       "layout": "IPY_MODEL_b01b4e59d8f244e98e596b69c159f39c",
       "style": "IPY_MODEL_30a443f80d3041baa0b9074bb3381cb8",
       "value": " 289/289 [02:08&lt;00:00,  2.84it/s]"
      }
     },
     "99131ff7badf45feb754f1ad3c9915ae": {
      "model_module": "@jupyter-widgets/controls",
      "model_module_version": "1.5.0",
      "model_name": "HBoxModel",
      "state": {
       "children": [
        "IPY_MODEL_543b808f232746a9bb549d4750c192e0",
        "IPY_MODEL_9208e9918bf44739818ebb8a80fc64d1",
        "IPY_MODEL_e40d0efb3d524632bd9c94e6595d7c00"
       ],
       "layout": "IPY_MODEL_db270b4917f64da8be595ab9b11663d0"
      }
     },
     "994a595f85ce4cd89856ec16d37ade54": {
      "model_module": "@jupyter-widgets/base",
      "model_module_version": "1.2.0",
      "model_name": "LayoutModel",
      "state": {}
     },
     "9965940eca1d42509fbeef2a4ecefcfe": {
      "model_module": "@jupyter-widgets/base",
      "model_module_version": "1.2.0",
      "model_name": "LayoutModel",
      "state": {}
     },
     "99883fddd89848458f0b56c92234590b": {
      "model_module": "@jupyter-widgets/controls",
      "model_module_version": "1.5.0",
      "model_name": "DescriptionStyleModel",
      "state": {
       "description_width": ""
      }
     },
     "99a0c71483684d2db413d46a14958b87": {
      "model_module": "@jupyter-widgets/controls",
      "model_module_version": "1.5.0",
      "model_name": "HTMLModel",
      "state": {
       "layout": "IPY_MODEL_cdc12f43cc51419aadd27335816ba043",
       "style": "IPY_MODEL_19c3a574dba743b1825ffb5ab4d297de",
       "value": " 309/309 [03:36&lt;00:00,  2.34it/s]"
      }
     },
     "99b3710c2bed4ecf9a9db7be6133b89c": {
      "model_module": "@jupyter-widgets/base",
      "model_module_version": "1.2.0",
      "model_name": "LayoutModel",
      "state": {}
     },
     "99c7378130184602995a984081155e36": {
      "model_module": "@jupyter-widgets/controls",
      "model_module_version": "1.5.0",
      "model_name": "FloatProgressModel",
      "state": {
       "bar_style": "success",
       "layout": "IPY_MODEL_6b7a5db80e1c48448f12bf12a3205328",
       "max": 1095,
       "style": "IPY_MODEL_b4ca3bac2e4340f1accc79fc1d744ccc",
       "value": 1095
      }
     },
     "99e6165610b944b2abc43269b093e1a6": {
      "model_module": "@jupyter-widgets/controls",
      "model_module_version": "1.5.0",
      "model_name": "DescriptionStyleModel",
      "state": {
       "description_width": ""
      }
     },
     "99fd9416091948678c9e71131fca37a4": {
      "model_module": "@jupyter-widgets/base",
      "model_module_version": "1.2.0",
      "model_name": "LayoutModel",
      "state": {}
     },
     "9a18b6af283a4d558568bd2b05c4247e": {
      "model_module": "@jupyter-widgets/base",
      "model_module_version": "1.2.0",
      "model_name": "LayoutModel",
      "state": {}
     },
     "9a5d84d69a154ee2b8e6fc367f58ee75": {
      "model_module": "@jupyter-widgets/base",
      "model_module_version": "1.2.0",
      "model_name": "LayoutModel",
      "state": {}
     },
     "9a5e15c1a59345989f2ccea270373f02": {
      "model_module": "@jupyter-widgets/base",
      "model_module_version": "1.2.0",
      "model_name": "LayoutModel",
      "state": {}
     },
     "9a744868fd374f29a2541fc14b33e941": {
      "model_module": "@jupyter-widgets/controls",
      "model_module_version": "1.5.0",
      "model_name": "HTMLModel",
      "state": {
       "layout": "IPY_MODEL_9a5d84d69a154ee2b8e6fc367f58ee75",
       "style": "IPY_MODEL_2cfadea17acb41fa83c300a06b7974fc",
       "value": " 647/647 [06:36&lt;00:00,  3.14it/s]"
      }
     },
     "9a7e9ee0d69f444aabd6a6d286bf415c": {
      "model_module": "@jupyter-widgets/controls",
      "model_module_version": "1.5.0",
      "model_name": "HBoxModel",
      "state": {
       "children": [
        "IPY_MODEL_312df954cb634c63973f2c9045497475",
        "IPY_MODEL_d24347f0aed946b6a19e9e9ff772e425",
        "IPY_MODEL_dc5c93e240024a1882041c33248745bf"
       ],
       "layout": "IPY_MODEL_00715cf4e95f47b29778928dd7334675"
      }
     },
     "9a82daab96e34d7a8954d95cf4440770": {
      "model_module": "@jupyter-widgets/controls",
      "model_module_version": "1.5.0",
      "model_name": "DescriptionStyleModel",
      "state": {
       "description_width": ""
      }
     },
     "9aaef743e83d4f6dafc7e2188fdec6fc": {
      "model_module": "@jupyter-widgets/base",
      "model_module_version": "1.2.0",
      "model_name": "LayoutModel",
      "state": {}
     },
     "9ab628db248540edb6e032c623da72af": {
      "model_module": "@jupyter-widgets/controls",
      "model_module_version": "1.5.0",
      "model_name": "HBoxModel",
      "state": {
       "children": [
        "IPY_MODEL_54b137f6e3994b04afc59456371b98f6",
        "IPY_MODEL_c0ce91f866904ecd837d4c682ee4e1c5",
        "IPY_MODEL_303a4a634f4d4f40b7af272de25541a6"
       ],
       "layout": "IPY_MODEL_1470127c6cb74051aedde38cdc88c98e"
      }
     },
     "9aef2340565d4309a0e5c5baa802b806": {
      "model_module": "@jupyter-widgets/base",
      "model_module_version": "1.2.0",
      "model_name": "LayoutModel",
      "state": {}
     },
     "9b2ab84cbf7d4d828644a8eb518d8fa8": {
      "model_module": "@jupyter-widgets/controls",
      "model_module_version": "1.5.0",
      "model_name": "HTMLModel",
      "state": {
       "layout": "IPY_MODEL_fb0663eb01e843c9b49ecfd3ecb61ffd",
       "style": "IPY_MODEL_ec8e7ff7f4da4ef2a9ed9ddab6e1cae9",
       "value": " 373/373 [02:05&lt;00:00,  2.76it/s]"
      }
     },
     "9b6c62aed6c84fcfa1615b20724735a2": {
      "model_module": "@jupyter-widgets/base",
      "model_module_version": "1.2.0",
      "model_name": "LayoutModel",
      "state": {}
     },
     "9b7b91fc34094cefbafc71a5dfd088ca": {
      "model_module": "@jupyter-widgets/base",
      "model_module_version": "1.2.0",
      "model_name": "LayoutModel",
      "state": {}
     },
     "9bd6d236d78b4aaf9e3444d2804822fd": {
      "model_module": "@jupyter-widgets/controls",
      "model_module_version": "1.5.0",
      "model_name": "DescriptionStyleModel",
      "state": {
       "description_width": ""
      }
     },
     "9c55078b0ca441578e0ac58869eea9bb": {
      "model_module": "@jupyter-widgets/controls",
      "model_module_version": "1.5.0",
      "model_name": "DescriptionStyleModel",
      "state": {
       "description_width": ""
      }
     },
     "9cb533bc2f504a60aae3d5eedd0e9af8": {
      "model_module": "@jupyter-widgets/controls",
      "model_module_version": "1.5.0",
      "model_name": "ProgressStyleModel",
      "state": {
       "description_width": ""
      }
     },
     "9d0baeeeeb554bff8e7c0acb7b45142c": {
      "model_module": "@jupyter-widgets/controls",
      "model_module_version": "1.5.0",
      "model_name": "HBoxModel",
      "state": {
       "children": [
        "IPY_MODEL_376bb1704215480dbddd239481216290",
        "IPY_MODEL_3b9bc6c1bb8549228c393638ad30aafa",
        "IPY_MODEL_dccff8b31ec84458b1bd4c80e8a2854f"
       ],
       "layout": "IPY_MODEL_75a5ae2829d741ff97b4e6491a6664f2"
      }
     },
     "9d3a6649a5c54572860250a5ba6bffd9": {
      "model_module": "@jupyter-widgets/controls",
      "model_module_version": "1.5.0",
      "model_name": "FloatProgressModel",
      "state": {
       "bar_style": "danger",
       "layout": "IPY_MODEL_6c884e3bcb134c89a3153e0f6e1792cc",
       "max": 6447,
       "style": "IPY_MODEL_f2ec9854aba9444fb0d84c6f7009b13d",
       "value": 172
      }
     },
     "9d481ac4a30541de94fdb8019b4df2d9": {
      "model_module": "@jupyter-widgets/controls",
      "model_module_version": "1.5.0",
      "model_name": "HTMLModel",
      "state": {
       "layout": "IPY_MODEL_fb93101410cf47eb97e07149698345e4",
       "style": "IPY_MODEL_bed83e9ca4294152b293266abd3cd334",
       "value": "100%"
      }
     },
     "9d6249d12d574a7b928104abc2cafcde": {
      "model_module": "@jupyter-widgets/controls",
      "model_module_version": "1.5.0",
      "model_name": "HTMLModel",
      "state": {
       "layout": "IPY_MODEL_fc7fc0bb824940719ba7ffedd8cc7b7b",
       "style": "IPY_MODEL_4c51950cc7c14bc9a8c5348c7047b159",
       "value": " 700/700 [09:00&lt;00:00,  2.61it/s]"
      }
     },
     "9d68b80c85884aa986cbec87f35e762a": {
      "model_module": "@jupyter-widgets/controls",
      "model_module_version": "1.5.0",
      "model_name": "DescriptionStyleModel",
      "state": {
       "description_width": ""
      }
     },
     "9d71dc79f4a4407c99239819bd9bba31": {
      "model_module": "@jupyter-widgets/base",
      "model_module_version": "1.2.0",
      "model_name": "LayoutModel",
      "state": {}
     },
     "9d8b0a35363b49d8a414f3d04b5d6d74": {
      "model_module": "@jupyter-widgets/controls",
      "model_module_version": "1.5.0",
      "model_name": "HTMLModel",
      "state": {
       "layout": "IPY_MODEL_5b6ced8183d342bcbe2232a53ba1e626",
       "style": "IPY_MODEL_2bc36d6e7c3743db83937282249b89d6",
       "value": " 6447/6447 [2:33:41&lt;00:00,  1.02s/it]"
      }
     },
     "9db41ba6feda4297bb1a428b01999928": {
      "model_module": "@jupyter-widgets/controls",
      "model_module_version": "1.5.0",
      "model_name": "DescriptionStyleModel",
      "state": {
       "description_width": ""
      }
     },
     "9dbfd4ba51314f8093d14c03f6c91649": {
      "model_module": "@jupyter-widgets/controls",
      "model_module_version": "1.5.0",
      "model_name": "DescriptionStyleModel",
      "state": {
       "description_width": ""
      }
     },
     "9e2a86ee48f54653a2798b8491e441fc": {
      "model_module": "@jupyter-widgets/base",
      "model_module_version": "1.2.0",
      "model_name": "LayoutModel",
      "state": {}
     },
     "9e4c49aba3b842cfaa7698fce605fab4": {
      "model_module": "@jupyter-widgets/controls",
      "model_module_version": "1.5.0",
      "model_name": "ProgressStyleModel",
      "state": {
       "description_width": ""
      }
     },
     "9e4dee70a0f74df8b826bf8992c20aa8": {
      "model_module": "@jupyter-widgets/base",
      "model_module_version": "1.2.0",
      "model_name": "LayoutModel",
      "state": {}
     },
     "9f098aaf21bf4102b78be362bdacc218": {
      "model_module": "@jupyter-widgets/controls",
      "model_module_version": "1.5.0",
      "model_name": "FloatProgressModel",
      "state": {
       "bar_style": "success",
       "layout": "IPY_MODEL_69759e076f6b42ff8ba1edaf07949607",
       "max": 228,
       "style": "IPY_MODEL_737d9fb66db24449a86781e064d3a4ee",
       "value": 228
      }
     },
     "9f3532dd97f74a20adf36bf83cd05410": {
      "model_module": "@jupyter-widgets/controls",
      "model_module_version": "1.5.0",
      "model_name": "FloatProgressModel",
      "state": {
       "bar_style": "success",
       "layout": "IPY_MODEL_84c2b4ad1dd545e6881d74a7d6834fc8",
       "max": 336,
       "style": "IPY_MODEL_1f18f1613010481ca97791654a5c48de",
       "value": 336
      }
     },
     "9f3f56be65f542a6bffd133fda6d1559": {
      "model_module": "@jupyter-widgets/base",
      "model_module_version": "1.2.0",
      "model_name": "LayoutModel",
      "state": {}
     },
     "9f898806cce14e10adb61f3385efad44": {
      "model_module": "@jupyter-widgets/controls",
      "model_module_version": "1.5.0",
      "model_name": "DescriptionStyleModel",
      "state": {
       "description_width": ""
      }
     },
     "9f90598398bd4f0d881e34894051d243": {
      "model_module": "@jupyter-widgets/base",
      "model_module_version": "1.2.0",
      "model_name": "LayoutModel",
      "state": {}
     },
     "9f9ae02478a94ee3b8946a7e11c7bf85": {
      "model_module": "@jupyter-widgets/base",
      "model_module_version": "1.2.0",
      "model_name": "LayoutModel",
      "state": {}
     },
     "9fb8c7a6bbfe408b839012d66f896850": {
      "model_module": "@jupyter-widgets/base",
      "model_module_version": "1.2.0",
      "model_name": "LayoutModel",
      "state": {}
     },
     "9fd4c97bb037416da017a1f308ff5e74": {
      "model_module": "@jupyter-widgets/controls",
      "model_module_version": "1.5.0",
      "model_name": "ProgressStyleModel",
      "state": {
       "description_width": ""
      }
     },
     "a001e686d0cd4e32beb24f3036dae803": {
      "model_module": "@jupyter-widgets/controls",
      "model_module_version": "1.5.0",
      "model_name": "HTMLModel",
      "state": {
       "layout": "IPY_MODEL_fbcce3ca5d8b4fb5b533926fa9d67543",
       "style": "IPY_MODEL_27ccae432b954b889a4e77da97b6e918",
       "value": "100%"
      }
     },
     "a010375b61674893b1b00589954fd5f1": {
      "model_module": "@jupyter-widgets/controls",
      "model_module_version": "1.5.0",
      "model_name": "HTMLModel",
      "state": {
       "layout": "IPY_MODEL_5ff4bad2d0374237bedeffe89e4be20c",
       "style": "IPY_MODEL_0e6e9656002743a08c3da287ee65a398",
       "value": "100%"
      }
     },
     "a049ec6ad3314f7eb8e4317bf60e9377": {
      "model_module": "@jupyter-widgets/base",
      "model_module_version": "1.2.0",
      "model_name": "LayoutModel",
      "state": {}
     },
     "a053e59bdcde4d409da50e40538f47d8": {
      "model_module": "@jupyter-widgets/controls",
      "model_module_version": "1.5.0",
      "model_name": "HBoxModel",
      "state": {
       "children": [
        "IPY_MODEL_d1e75a7993094907965a73366d6b2a82",
        "IPY_MODEL_d0e5b7f76c444059b4c06cd02e4a626e",
        "IPY_MODEL_e3a0bca492824f97afd2b4b8a96473b4"
       ],
       "layout": "IPY_MODEL_4497c02439de499dadeeb9a49f02eba5"
      }
     },
     "a0560ba232f349e6bd035556aa4f9035": {
      "model_module": "@jupyter-widgets/base",
      "model_module_version": "1.2.0",
      "model_name": "LayoutModel",
      "state": {}
     },
     "a086ee6ba6994815b2b0f5004b115517": {
      "model_module": "@jupyter-widgets/base",
      "model_module_version": "1.2.0",
      "model_name": "LayoutModel",
      "state": {}
     },
     "a08897872c554c41b8af6c1000a6ba12": {
      "model_module": "@jupyter-widgets/base",
      "model_module_version": "1.2.0",
      "model_name": "LayoutModel",
      "state": {}
     },
     "a096a434abe64fd6b5d46e77aaf43934": {
      "model_module": "@jupyter-widgets/controls",
      "model_module_version": "1.5.0",
      "model_name": "HTMLModel",
      "state": {
       "layout": "IPY_MODEL_88454b058e3947ac963596f0e5b84e33",
       "style": "IPY_MODEL_a13182da9807411c833ff488013535f7",
       "value": "  0%"
      }
     },
     "a0d0c778478848718f1ba4ad325d51e5": {
      "model_module": "@jupyter-widgets/controls",
      "model_module_version": "1.5.0",
      "model_name": "DescriptionStyleModel",
      "state": {
       "description_width": ""
      }
     },
     "a0e1238acb694c63b6ea57b9d2ab3a91": {
      "model_module": "@jupyter-widgets/base",
      "model_module_version": "1.2.0",
      "model_name": "LayoutModel",
      "state": {}
     },
     "a120734226cc4319b0ed7571c71766e1": {
      "model_module": "@jupyter-widgets/controls",
      "model_module_version": "1.5.0",
      "model_name": "HTMLModel",
      "state": {
       "layout": "IPY_MODEL_70a8931667a2472287002dcc305d0a11",
       "style": "IPY_MODEL_dfa73c1602614bc68e06c7c6ea38d1d2",
       "value": "100%"
      }
     },
     "a1214b44970144a191a103b7129962f2": {
      "model_module": "@jupyter-widgets/base",
      "model_module_version": "1.2.0",
      "model_name": "LayoutModel",
      "state": {}
     },
     "a12ae9d903bb46ad9698355e11e01885": {
      "model_module": "@jupyter-widgets/base",
      "model_module_version": "1.2.0",
      "model_name": "LayoutModel",
      "state": {}
     },
     "a13182da9807411c833ff488013535f7": {
      "model_module": "@jupyter-widgets/controls",
      "model_module_version": "1.5.0",
      "model_name": "DescriptionStyleModel",
      "state": {
       "description_width": ""
      }
     },
     "a144db4ffd61493cb5bb6413a5712bcd": {
      "model_module": "@jupyter-widgets/controls",
      "model_module_version": "1.5.0",
      "model_name": "DescriptionStyleModel",
      "state": {
       "description_width": ""
      }
     },
     "a187357dd13e42609b8f8ed0647a7090": {
      "model_module": "@jupyter-widgets/controls",
      "model_module_version": "1.5.0",
      "model_name": "HTMLModel",
      "state": {
       "layout": "IPY_MODEL_6a676a23c595494e92ed58fb2040baf0",
       "style": "IPY_MODEL_a55417a6241b4d93a30f41453adff120",
       "value": " 336/336 [02:46&lt;00:00,  1.14it/s]"
      }
     },
     "a1d5b10ca0704ed6a89ef14a274cf178": {
      "model_module": "@jupyter-widgets/base",
      "model_module_version": "1.2.0",
      "model_name": "LayoutModel",
      "state": {}
     },
     "a22c9ecf20dd4c4d9fcc677808727360": {
      "model_module": "@jupyter-widgets/base",
      "model_module_version": "1.2.0",
      "model_name": "LayoutModel",
      "state": {}
     },
     "a244c0efba0f4e4b9d0e94da6038265d": {
      "model_module": "@jupyter-widgets/controls",
      "model_module_version": "1.5.0",
      "model_name": "HTMLModel",
      "state": {
       "layout": "IPY_MODEL_1bbcab598cf6405ea6b7a42f55cc51c9",
       "style": "IPY_MODEL_5699142245f046389392b18acb43bdb9",
       "value": " 336/336 [03:21&lt;00:00,  1.14s/it]"
      }
     },
     "a248c0f165a24d8aaa42c7383ded8d49": {
      "model_module": "@jupyter-widgets/controls",
      "model_module_version": "1.5.0",
      "model_name": "HTMLModel",
      "state": {
       "layout": "IPY_MODEL_106e59eb8c2d45c6a42714558e7a0238",
       "style": "IPY_MODEL_b1f8e4a633dd4f0994ab2f88dc38062c",
       "value": "100%"
      }
     },
     "a2c2d8c5bdec4339a2458e2883518e47": {
      "model_module": "@jupyter-widgets/base",
      "model_module_version": "1.2.0",
      "model_name": "LayoutModel",
      "state": {}
     },
     "a2f66c638ed64e01b1c72934b623a5d5": {
      "model_module": "@jupyter-widgets/controls",
      "model_module_version": "1.5.0",
      "model_name": "DescriptionStyleModel",
      "state": {
       "description_width": ""
      }
     },
     "a309df36891846319c954df66b700dea": {
      "model_module": "@jupyter-widgets/controls",
      "model_module_version": "1.5.0",
      "model_name": "DescriptionStyleModel",
      "state": {
       "description_width": ""
      }
     },
     "a3cfa7230bf243909b111b85031fb6ec": {
      "model_module": "@jupyter-widgets/base",
      "model_module_version": "1.2.0",
      "model_name": "LayoutModel",
      "state": {}
     },
     "a3e0b60edd974e8a8bb8c83c3f5a7c98": {
      "model_module": "@jupyter-widgets/controls",
      "model_module_version": "1.5.0",
      "model_name": "DescriptionStyleModel",
      "state": {
       "description_width": ""
      }
     },
     "a40dbf32a9304cec99a61fdf482f693e": {
      "model_module": "@jupyter-widgets/base",
      "model_module_version": "1.2.0",
      "model_name": "LayoutModel",
      "state": {}
     },
     "a431f4b1e26049379a5786952e62c9b6": {
      "model_module": "@jupyter-widgets/controls",
      "model_module_version": "1.5.0",
      "model_name": "HTMLModel",
      "state": {
       "layout": "IPY_MODEL_3f382ff8b2ed48b0acdcbf7011a04b5d",
       "style": "IPY_MODEL_1a2d78ee610c44d59ce39720b555dd2b",
       "value": "100%"
      }
     },
     "a448e902ea3e4d52aca0549f625a3fce": {
      "model_module": "@jupyter-widgets/controls",
      "model_module_version": "1.5.0",
      "model_name": "HTMLModel",
      "state": {
       "layout": "IPY_MODEL_cede2dfb376c46189dd6e05d6d0421a6",
       "style": "IPY_MODEL_093993876f424553ab581a07a90e2eee",
       "value": "100%"
      }
     },
     "a463ae4df2784f97a3d14f9d5207cd2f": {
      "model_module": "@jupyter-widgets/base",
      "model_module_version": "1.2.0",
      "model_name": "LayoutModel",
      "state": {}
     },
     "a4af00d558ee4d3fac0b6376e70d2ebc": {
      "model_module": "@jupyter-widgets/controls",
      "model_module_version": "1.5.0",
      "model_name": "DescriptionStyleModel",
      "state": {
       "description_width": ""
      }
     },
     "a4bb29872dae4cb38d7d05e116478f2c": {
      "model_module": "@jupyter-widgets/controls",
      "model_module_version": "1.5.0",
      "model_name": "HTMLModel",
      "state": {
       "layout": "IPY_MODEL_801ea17b4cb2459aa50b5cccca1ed48d",
       "style": "IPY_MODEL_6bb3132c278a44da9a9d1fb11986eb01",
       "value": "100%"
      }
     },
     "a4e10d53b8f742279ecfc8ce9d83054e": {
      "model_module": "@jupyter-widgets/base",
      "model_module_version": "1.2.0",
      "model_name": "LayoutModel",
      "state": {}
     },
     "a55417a6241b4d93a30f41453adff120": {
      "model_module": "@jupyter-widgets/controls",
      "model_module_version": "1.5.0",
      "model_name": "DescriptionStyleModel",
      "state": {
       "description_width": ""
      }
     },
     "a61add1c14c14f1e94b7e4005f43afb3": {
      "model_module": "@jupyter-widgets/base",
      "model_module_version": "1.2.0",
      "model_name": "LayoutModel",
      "state": {}
     },
     "a70926ca66384d5a938cff28afe3a9c0": {
      "model_module": "@jupyter-widgets/controls",
      "model_module_version": "1.5.0",
      "model_name": "ProgressStyleModel",
      "state": {
       "description_width": ""
      }
     },
     "a7323b81186648dd975d7eda80b70852": {
      "model_module": "@jupyter-widgets/controls",
      "model_module_version": "1.5.0",
      "model_name": "ProgressStyleModel",
      "state": {
       "description_width": ""
      }
     },
     "a749096a3c944e698edfc94382b2a9ff": {
      "model_module": "@jupyter-widgets/base",
      "model_module_version": "1.2.0",
      "model_name": "LayoutModel",
      "state": {}
     },
     "a83388d2a59a41d880a3d07caa7e737f": {
      "model_module": "@jupyter-widgets/controls",
      "model_module_version": "1.5.0",
      "model_name": "DescriptionStyleModel",
      "state": {
       "description_width": ""
      }
     },
     "a84b8541b39b43e888b4cfd3d6870c8f": {
      "model_module": "@jupyter-widgets/controls",
      "model_module_version": "1.5.0",
      "model_name": "HTMLModel",
      "state": {
       "layout": "IPY_MODEL_cf126c7adcac4321a675f1931ab9fac7",
       "style": "IPY_MODEL_9745b65fa2b549e7b66e14c7c4cb9113",
       "value": "100%"
      }
     },
     "a85b79b667664fdc984737e53d5fcdf2": {
      "model_module": "@jupyter-widgets/base",
      "model_module_version": "1.2.0",
      "model_name": "LayoutModel",
      "state": {}
     },
     "a8614673d65747f998ea2082ad64ad68": {
      "model_module": "@jupyter-widgets/controls",
      "model_module_version": "1.5.0",
      "model_name": "HBoxModel",
      "state": {
       "children": [
        "IPY_MODEL_d8117e9dce8b408989025990e9b90ad2",
        "IPY_MODEL_19a1c9e5aa4d4e56847466dda4892c54",
        "IPY_MODEL_bfca6e8d9d0f49e5abd71a8157c0c67d"
       ],
       "layout": "IPY_MODEL_96dc6fd117d341c9b7a7b4827f805b12"
      }
     },
     "a87e214023044b5ea4e00f3e39aa96d1": {
      "model_module": "@jupyter-widgets/base",
      "model_module_version": "1.2.0",
      "model_name": "LayoutModel",
      "state": {}
     },
     "a89545b73e8a424184d1976173c15e03": {
      "model_module": "@jupyter-widgets/base",
      "model_module_version": "1.2.0",
      "model_name": "LayoutModel",
      "state": {}
     },
     "a8b21f3518c3422dbc31701ae4ad3f12": {
      "model_module": "@jupyter-widgets/controls",
      "model_module_version": "1.5.0",
      "model_name": "HBoxModel",
      "state": {
       "children": [
        "IPY_MODEL_a120734226cc4319b0ed7571c71766e1",
        "IPY_MODEL_7f3363408b574d93bb7e02c06cc84f8b",
        "IPY_MODEL_38616b68d0864fb689e3cf90cbd2ae2f"
       ],
       "layout": "IPY_MODEL_ea06262a58ce428a81040f9ba6528d65"
      }
     },
     "a8cfb4f9bb304e43b91b1faec5667449": {
      "model_module": "@jupyter-widgets/controls",
      "model_module_version": "1.5.0",
      "model_name": "DescriptionStyleModel",
      "state": {
       "description_width": ""
      }
     },
     "a90bcfcf7dec4a229a7fea88b3f28d02": {
      "model_module": "@jupyter-widgets/base",
      "model_module_version": "1.2.0",
      "model_name": "LayoutModel",
      "state": {}
     },
     "a93b0b26cf814416b3a29533528e6389": {
      "model_module": "@jupyter-widgets/controls",
      "model_module_version": "1.5.0",
      "model_name": "DescriptionStyleModel",
      "state": {
       "description_width": ""
      }
     },
     "a9f22d2da0844fd1b43355baff562b75": {
      "model_module": "@jupyter-widgets/controls",
      "model_module_version": "1.5.0",
      "model_name": "FloatProgressModel",
      "state": {
       "bar_style": "success",
       "layout": "IPY_MODEL_6e3c886601074cd09be2062cc62dfdac",
       "max": 336,
       "style": "IPY_MODEL_d08ce2fe3b714d3abf7162cac78b5a3d",
       "value": 336
      }
     },
     "aa329beaa41a4fb2acbaefa03fb72623": {
      "model_module": "@jupyter-widgets/controls",
      "model_module_version": "1.5.0",
      "model_name": "HBoxModel",
      "state": {
       "children": [
        "IPY_MODEL_386acf258ca540499f9037a998d895f2",
        "IPY_MODEL_f85a2259e9f04690ab35088c83a02d72",
        "IPY_MODEL_2c9580f0442749928ecb923a79539dea"
       ],
       "layout": "IPY_MODEL_9e2a86ee48f54653a2798b8491e441fc"
      }
     },
     "aaa6a8e49cbc4d268d461c2ba5dce107": {
      "model_module": "@jupyter-widgets/controls",
      "model_module_version": "1.5.0",
      "model_name": "DescriptionStyleModel",
      "state": {
       "description_width": ""
      }
     },
     "aabc668d576e444c803392b4a5f9b017": {
      "model_module": "@jupyter-widgets/controls",
      "model_module_version": "1.5.0",
      "model_name": "DescriptionStyleModel",
      "state": {
       "description_width": ""
      }
     },
     "aabd630411dd44d0b49a6423ecfa951a": {
      "model_module": "@jupyter-widgets/controls",
      "model_module_version": "1.5.0",
      "model_name": "DescriptionStyleModel",
      "state": {
       "description_width": ""
      }
     },
     "ab2805e7713640a0999fd9e79ab264a4": {
      "model_module": "@jupyter-widgets/base",
      "model_module_version": "1.2.0",
      "model_name": "LayoutModel",
      "state": {}
     },
     "ab5231e9f2934af390345b5e2ade201a": {
      "model_module": "@jupyter-widgets/controls",
      "model_module_version": "1.5.0",
      "model_name": "DescriptionStyleModel",
      "state": {
       "description_width": ""
      }
     },
     "ab728d36ddd54a6d8762ad75abf8aa18": {
      "model_module": "@jupyter-widgets/base",
      "model_module_version": "1.2.0",
      "model_name": "LayoutModel",
      "state": {}
     },
     "ab8cbb489a884c2a9b9d17760edcab40": {
      "model_module": "@jupyter-widgets/controls",
      "model_module_version": "1.5.0",
      "model_name": "HBoxModel",
      "state": {
       "children": [
        "IPY_MODEL_90821d2a08204fdca0396398c7938838",
        "IPY_MODEL_8adfb03fa9934c2a91c9fe4a5c4b9683",
        "IPY_MODEL_d02ca81fc59f4377951dfc9defa07ef8"
       ],
       "layout": "IPY_MODEL_94fc681864c546b191ef66cf2f70d84a"
      }
     },
     "ab9e599b5e5b486ca8f1fd0ff007ed30": {
      "model_module": "@jupyter-widgets/controls",
      "model_module_version": "1.5.0",
      "model_name": "FloatProgressModel",
      "state": {
       "bar_style": "danger",
       "layout": "IPY_MODEL_cecd10b28dcd4a68b9c225b7fc831ac7",
       "max": 700,
       "style": "IPY_MODEL_d4e2832f14a947a4b4ba4e1d45f1c0a3"
      }
     },
     "abbfe2964d98449a9c55247e7ec0ea74": {
      "model_module": "@jupyter-widgets/controls",
      "model_module_version": "1.5.0",
      "model_name": "FloatProgressModel",
      "state": {
       "bar_style": "success",
       "layout": "IPY_MODEL_8dde6669f7c74600b880332a12234431",
       "max": 228,
       "style": "IPY_MODEL_789991bbdd714e948097e7c770c31788",
       "value": 228
      }
     },
     "abeb322f36ce441a81c7725f70917f01": {
      "model_module": "@jupyter-widgets/base",
      "model_module_version": "1.2.0",
      "model_name": "LayoutModel",
      "state": {}
     },
     "abf99568c09247b48fdd8381f1db5235": {
      "model_module": "@jupyter-widgets/controls",
      "model_module_version": "1.5.0",
      "model_name": "ProgressStyleModel",
      "state": {
       "description_width": ""
      }
     },
     "ac0c4aaeaf474fc1885edc9768a50c0a": {
      "model_module": "@jupyter-widgets/controls",
      "model_module_version": "1.5.0",
      "model_name": "ProgressStyleModel",
      "state": {
       "description_width": ""
      }
     },
     "ac0d5a881105469eb413deb85b0c7cf5": {
      "model_module": "@jupyter-widgets/controls",
      "model_module_version": "1.5.0",
      "model_name": "DescriptionStyleModel",
      "state": {
       "description_width": ""
      }
     },
     "acae5893a9884ab986c4015597578e85": {
      "model_module": "@jupyter-widgets/base",
      "model_module_version": "1.2.0",
      "model_name": "LayoutModel",
      "state": {}
     },
     "ace50e290adf4e9bbd4f090707f11997": {
      "model_module": "@jupyter-widgets/base",
      "model_module_version": "1.2.0",
      "model_name": "LayoutModel",
      "state": {}
     },
     "acecc52806da410ba0e5f9f513290bed": {
      "model_module": "@jupyter-widgets/controls",
      "model_module_version": "1.5.0",
      "model_name": "DescriptionStyleModel",
      "state": {
       "description_width": ""
      }
     },
     "ad7995cad24b47f3815e2b9a1616e4d2": {
      "model_module": "@jupyter-widgets/base",
      "model_module_version": "1.2.0",
      "model_name": "LayoutModel",
      "state": {}
     },
     "adcb0ea0fc5746b692933de6b82f2043": {
      "model_module": "@jupyter-widgets/controls",
      "model_module_version": "1.5.0",
      "model_name": "FloatProgressModel",
      "state": {
       "bar_style": "success",
       "layout": "IPY_MODEL_a12ae9d903bb46ad9698355e11e01885",
       "max": 312,
       "style": "IPY_MODEL_deaddbadd8c84dc0a0968fbe71575c9b",
       "value": 312
      }
     },
     "adff9f1c090444378ed268f471e7b769": {
      "model_module": "@jupyter-widgets/controls",
      "model_module_version": "1.5.0",
      "model_name": "HBoxModel",
      "state": {
       "children": [
        "IPY_MODEL_a431f4b1e26049379a5786952e62c9b6",
        "IPY_MODEL_81e454e9ad424ca0bf683ac2cfbc2844",
        "IPY_MODEL_c1c25a150e574f19a99ddd34f731a207"
       ],
       "layout": "IPY_MODEL_97ec96a0840a46a2a4582cf063c1a308"
      }
     },
     "ae50160fdf844c05a1375b3f2e555750": {
      "model_module": "@jupyter-widgets/controls",
      "model_module_version": "1.5.0",
      "model_name": "ProgressStyleModel",
      "state": {
       "description_width": ""
      }
     },
     "ae659eaa8a49436f8c1f26274e41f5a4": {
      "model_module": "@jupyter-widgets/base",
      "model_module_version": "1.2.0",
      "model_name": "LayoutModel",
      "state": {}
     },
     "af2e7c0c3f794dd2ba7ed5728449c5b0": {
      "model_module": "@jupyter-widgets/base",
      "model_module_version": "1.2.0",
      "model_name": "LayoutModel",
      "state": {}
     },
     "af61c3728af44054aadee8d4f242167a": {
      "model_module": "@jupyter-widgets/controls",
      "model_module_version": "1.5.0",
      "model_name": "HBoxModel",
      "state": {
       "children": [
        "IPY_MODEL_02557189fb5a419e8d9464e3948d2b08",
        "IPY_MODEL_79e54bd54bea4ebc835a9d6c76ebbe0b",
        "IPY_MODEL_1c3a60ba4227487f9e4098a1b7d92920"
       ],
       "layout": "IPY_MODEL_00ff0a402a1942349350d50bb344c659"
      }
     },
     "af70ae00b371435b83e317f739ca0bbd": {
      "model_module": "@jupyter-widgets/controls",
      "model_module_version": "1.5.0",
      "model_name": "HBoxModel",
      "state": {
       "children": [
        "IPY_MODEL_b1cd5fa08ba24496973de2fe1f78e3ec",
        "IPY_MODEL_db0f0c3c08d04d2bbe92ed853019970d",
        "IPY_MODEL_9d6249d12d574a7b928104abc2cafcde"
       ],
       "layout": "IPY_MODEL_ef7d606b1e2f421f80815200cd9fe976"
      }
     },
     "b01b4e59d8f244e98e596b69c159f39c": {
      "model_module": "@jupyter-widgets/base",
      "model_module_version": "1.2.0",
      "model_name": "LayoutModel",
      "state": {}
     },
     "b029c0eec208446fbae4dabe814a7c41": {
      "model_module": "@jupyter-widgets/controls",
      "model_module_version": "1.5.0",
      "model_name": "ProgressStyleModel",
      "state": {
       "description_width": ""
      }
     },
     "b0b76523a6424ee5bb3f25147e5ee0e3": {
      "model_module": "@jupyter-widgets/controls",
      "model_module_version": "1.5.0",
      "model_name": "ProgressStyleModel",
      "state": {
       "description_width": ""
      }
     },
     "b11b152f8f2c42cbb69728dde3ac06a1": {
      "model_module": "@jupyter-widgets/controls",
      "model_module_version": "1.5.0",
      "model_name": "HTMLModel",
      "state": {
       "layout": "IPY_MODEL_d68dff5b7d8d442095ad10de728ee68d",
       "style": "IPY_MODEL_1e207d582c44471195e1df166c67ea9f",
       "value": " 366/366 [03:11&lt;00:00,  1.48it/s]"
      }
     },
     "b13a1363641e437ea02c07f5dae5cac7": {
      "model_module": "@jupyter-widgets/base",
      "model_module_version": "1.2.0",
      "model_name": "LayoutModel",
      "state": {}
     },
     "b19b1f0eaeab4ea5895e94639e57681d": {
      "model_module": "@jupyter-widgets/base",
      "model_module_version": "1.2.0",
      "model_name": "LayoutModel",
      "state": {}
     },
     "b1cbc9bf6608476f980b0b2cad82d541": {
      "model_module": "@jupyter-widgets/controls",
      "model_module_version": "1.5.0",
      "model_name": "HTMLModel",
      "state": {
       "layout": "IPY_MODEL_31244c778eec412897569efe7278e97a",
       "style": "IPY_MODEL_c31c170776194fb3a663167c6de50150",
       "value": " 336/336 [03:18&lt;00:00,  1.12s/it]"
      }
     },
     "b1cd5fa08ba24496973de2fe1f78e3ec": {
      "model_module": "@jupyter-widgets/controls",
      "model_module_version": "1.5.0",
      "model_name": "HTMLModel",
      "state": {
       "layout": "IPY_MODEL_44ca2ebfa5a94080aa58d9af27652a55",
       "style": "IPY_MODEL_9db41ba6feda4297bb1a428b01999928",
       "value": "100%"
      }
     },
     "b1f8e4a633dd4f0994ab2f88dc38062c": {
      "model_module": "@jupyter-widgets/controls",
      "model_module_version": "1.5.0",
      "model_name": "DescriptionStyleModel",
      "state": {
       "description_width": ""
      }
     },
     "b2538a16040748ad92985cfa2f0741b9": {
      "model_module": "@jupyter-widgets/base",
      "model_module_version": "1.2.0",
      "model_name": "LayoutModel",
      "state": {}
     },
     "b275cd7c04a44cf28d9f16e721d1000e": {
      "model_module": "@jupyter-widgets/controls",
      "model_module_version": "1.5.0",
      "model_name": "HBoxModel",
      "state": {
       "children": [
        "IPY_MODEL_fb0ff80106344cc6bf50146795b216ab",
        "IPY_MODEL_9f3532dd97f74a20adf36bf83cd05410",
        "IPY_MODEL_a187357dd13e42609b8f8ed0647a7090"
       ],
       "layout": "IPY_MODEL_1dd95ed18439444c9253d3f5433da57d"
      }
     },
     "b298baf8ed144803809dcb7b7c237c0e": {
      "model_module": "@jupyter-widgets/controls",
      "model_module_version": "1.5.0",
      "model_name": "HBoxModel",
      "state": {
       "children": [
        "IPY_MODEL_75717be5ca134bacaf6d0f7937774ce2",
        "IPY_MODEL_753058c57a57410f90778f6195d4eb93",
        "IPY_MODEL_494f22adfbcb482799341a75cc9fe9a1"
       ],
       "layout": "IPY_MODEL_e9b9924c50a84a75bb96dc4d42986b87"
      }
     },
     "b31a5024160a4b2eaba6709244c66e35": {
      "model_module": "@jupyter-widgets/controls",
      "model_module_version": "1.5.0",
      "model_name": "HTMLModel",
      "state": {
       "layout": "IPY_MODEL_2ce2b01fe8f947d38d79f3863ba0b950",
       "style": "IPY_MODEL_7374dd28f7e74d2088a62bd35238f2c3",
       "value": " 647/647 [08:27&lt;00:00,  2.53it/s]"
      }
     },
     "b31dde1c801a4eeaa8798b7776802f8e": {
      "model_module": "@jupyter-widgets/controls",
      "model_module_version": "1.5.0",
      "model_name": "ProgressStyleModel",
      "state": {
       "description_width": ""
      }
     },
     "b328339d4a5f4ffb9ff8ea456c30d122": {
      "model_module": "@jupyter-widgets/controls",
      "model_module_version": "1.5.0",
      "model_name": "ProgressStyleModel",
      "state": {
       "description_width": ""
      }
     },
     "b32bc4c719484c1d96d2e7ef8438b702": {
      "model_module": "@jupyter-widgets/base",
      "model_module_version": "1.2.0",
      "model_name": "LayoutModel",
      "state": {}
     },
     "b34f0f1124e248fd91f9a33c8107facc": {
      "model_module": "@jupyter-widgets/controls",
      "model_module_version": "1.5.0",
      "model_name": "FloatProgressModel",
      "state": {
       "bar_style": "success",
       "layout": "IPY_MODEL_25abe9dba60c4a4da51cf031b75a13ca",
       "max": 366,
       "style": "IPY_MODEL_b8875668cf1e46bfafd28bf9940069b9",
       "value": 366
      }
     },
     "b399cada8d4343b2a96c9769810ca058": {
      "model_module": "@jupyter-widgets/controls",
      "model_module_version": "1.5.0",
      "model_name": "HTMLModel",
      "state": {
       "layout": "IPY_MODEL_29ba8a3c8ab848ccba5646b13a434324",
       "style": "IPY_MODEL_ece2b1defb884c2db39f2672351f7ec9",
       "value": "100%"
      }
     },
     "b3fe12601ff54cf1bede91ddcb54650d": {
      "model_module": "@jupyter-widgets/controls",
      "model_module_version": "1.5.0",
      "model_name": "DescriptionStyleModel",
      "state": {
       "description_width": ""
      }
     },
     "b46a5d9c4b9b4e6d8664f71b9f51b365": {
      "model_module": "@jupyter-widgets/controls",
      "model_module_version": "1.5.0",
      "model_name": "FloatProgressModel",
      "state": {
       "bar_style": "success",
       "layout": "IPY_MODEL_e103dd8eee4248c58283d7cc23fe9457",
       "max": 336,
       "style": "IPY_MODEL_5b3f98c02ae34df9a165036001e5e051",
       "value": 336
      }
     },
     "b472b0a243854c8f8cc66bd7adec5ad4": {
      "model_module": "@jupyter-widgets/controls",
      "model_module_version": "1.5.0",
      "model_name": "HTMLModel",
      "state": {
       "layout": "IPY_MODEL_c8ca47faddd44699821861b30fc580c6",
       "style": "IPY_MODEL_50f38d38532d4e59b0cf07db2a4c8fe0",
       "value": "100%"
      }
     },
     "b4750697d63341238da320206680705e": {
      "model_module": "@jupyter-widgets/base",
      "model_module_version": "1.2.0",
      "model_name": "LayoutModel",
      "state": {}
     },
     "b475b521c33b45d4a936a8de7d354e7d": {
      "model_module": "@jupyter-widgets/controls",
      "model_module_version": "1.5.0",
      "model_name": "FloatProgressModel",
      "state": {
       "bar_style": "success",
       "layout": "IPY_MODEL_79eda0097f03494d8deda88f4cfa933c",
       "max": 336,
       "style": "IPY_MODEL_8e1e249935b640d18c3be62681f0c4b7",
       "value": 336
      }
     },
     "b47e8a04e3574beca9ad8ce2c6a2a0c3": {
      "model_module": "@jupyter-widgets/base",
      "model_module_version": "1.2.0",
      "model_name": "LayoutModel",
      "state": {}
     },
     "b4ca3bac2e4340f1accc79fc1d744ccc": {
      "model_module": "@jupyter-widgets/controls",
      "model_module_version": "1.5.0",
      "model_name": "ProgressStyleModel",
      "state": {
       "description_width": ""
      }
     },
     "b4cb3330984048b8b34d5a86472ab021": {
      "model_module": "@jupyter-widgets/controls",
      "model_module_version": "1.5.0",
      "model_name": "HTMLModel",
      "state": {
       "layout": "IPY_MODEL_8a18e0b9526047f2909ef5041a82e5ba",
       "style": "IPY_MODEL_86f2330e817a4a329327556e99a64f08",
       "value": " 172/6447 [00:14&lt;04:41, 22.32it/s]"
      }
     },
     "b4fc2843d1964f8c8e458a0410304d32": {
      "model_module": "@jupyter-widgets/base",
      "model_module_version": "1.2.0",
      "model_name": "LayoutModel",
      "state": {}
     },
     "b5050c5734dc479bb8d4f811eb3b2e20": {
      "model_module": "@jupyter-widgets/controls",
      "model_module_version": "1.5.0",
      "model_name": "HTMLModel",
      "state": {
       "layout": "IPY_MODEL_30ebc0389bc7413a9f49861b72dd42e7",
       "style": "IPY_MODEL_e0334333ab8c4f0dbaa6f6f2c61ce522",
       "value": " 662/662 [08:43&lt;00:00,  2.58it/s]"
      }
     },
     "b57e03c89a2840b18d14cd3b978487c9": {
      "model_module": "@jupyter-widgets/controls",
      "model_module_version": "1.5.0",
      "model_name": "ProgressStyleModel",
      "state": {
       "description_width": ""
      }
     },
     "b5d3392c6ed04f5098b7bf9c71a28f00": {
      "model_module": "@jupyter-widgets/controls",
      "model_module_version": "1.5.0",
      "model_name": "HTMLModel",
      "state": {
       "layout": "IPY_MODEL_493d43ec1ac448549206d1e59eb98dfa",
       "style": "IPY_MODEL_633a6cba9bdb452595a94175988414d8",
       "value": " 2672/2672 [48:53&lt;00:00,  2.07it/s]"
      }
     },
     "b5fe4055af124cb4a445000e67e3f5e7": {
      "model_module": "@jupyter-widgets/controls",
      "model_module_version": "1.5.0",
      "model_name": "HBoxModel",
      "state": {
       "children": [
        "IPY_MODEL_19914d04e9184bbb8a26faadd7497d0c",
        "IPY_MODEL_cb0cd2e0112147258bafdc4001666a79",
        "IPY_MODEL_9a744868fd374f29a2541fc14b33e941"
       ],
       "layout": "IPY_MODEL_12d2f036c89d4a0bae706cc71045464c"
      }
     },
     "b68abb36a0ad487ab4c007dfc6e38f9e": {
      "model_module": "@jupyter-widgets/base",
      "model_module_version": "1.2.0",
      "model_name": "LayoutModel",
      "state": {}
     },
     "b6f0c7ec02804be7a05405e44c710512": {
      "model_module": "@jupyter-widgets/controls",
      "model_module_version": "1.5.0",
      "model_name": "HTMLModel",
      "state": {
       "layout": "IPY_MODEL_f2209116bbd9444da801679691e317ad",
       "style": "IPY_MODEL_820e00cc179e4b49950f630a0434791d",
       "value": " 700/700 [10:51&lt;00:00,  2.29it/s]"
      }
     },
     "b778a242a2314e5abace5b57be9b1898": {
      "model_module": "@jupyter-widgets/controls",
      "model_module_version": "1.5.0",
      "model_name": "DescriptionStyleModel",
      "state": {
       "description_width": ""
      }
     },
     "b7a495db43af48bb944b9db1c6bf9ff7": {
      "model_module": "@jupyter-widgets/base",
      "model_module_version": "1.2.0",
      "model_name": "LayoutModel",
      "state": {}
     },
     "b7b5d0227be54374aa641a3b5d8532ae": {
      "model_module": "@jupyter-widgets/controls",
      "model_module_version": "1.5.0",
      "model_name": "DescriptionStyleModel",
      "state": {
       "description_width": ""
      }
     },
     "b859051e50f9442dad7ac9c9b0b769ce": {
      "model_module": "@jupyter-widgets/controls",
      "model_module_version": "1.5.0",
      "model_name": "HBoxModel",
      "state": {
       "children": [
        "IPY_MODEL_ca41e40b75744f26a549684e74857fc9",
        "IPY_MODEL_c4a64cf9894b44bcb4c9971787dd78a6",
        "IPY_MODEL_471fef9a0b574d1bbcd091fba8bc2c8d"
       ],
       "layout": "IPY_MODEL_9aef2340565d4309a0e5c5baa802b806"
      }
     },
     "b8875668cf1e46bfafd28bf9940069b9": {
      "model_module": "@jupyter-widgets/controls",
      "model_module_version": "1.5.0",
      "model_name": "ProgressStyleModel",
      "state": {
       "description_width": ""
      }
     },
     "b895a82f2b104085bb0b387aa2f31681": {
      "model_module": "@jupyter-widgets/controls",
      "model_module_version": "1.5.0",
      "model_name": "HBoxModel",
      "state": {
       "children": [
        "IPY_MODEL_68fd489ae6654c59a68c94be465655c7",
        "IPY_MODEL_53d350a3586f4cca99caaf90a87617e5",
        "IPY_MODEL_eca99013585241cea617a8ae53c50c97"
       ],
       "layout": "IPY_MODEL_9aaef743e83d4f6dafc7e2188fdec6fc"
      }
     },
     "b8b35f1813e64d3dbf8fd87a64fc1c86": {
      "model_module": "@jupyter-widgets/base",
      "model_module_version": "1.2.0",
      "model_name": "LayoutModel",
      "state": {}
     },
     "b8ca967b0383498fb82c0a7797c0091a": {
      "model_module": "@jupyter-widgets/controls",
      "model_module_version": "1.5.0",
      "model_name": "HTMLModel",
      "state": {
       "layout": "IPY_MODEL_1c69fc4e832c437b85dae0209e4fbc4e",
       "style": "IPY_MODEL_3901f8ce9cf0483ea652246649a5e300",
       "value": " 0/700 [00:00&lt;?, ?it/s]"
      }
     },
     "b8ffd4016a3e4ff1abecee0f121f5ccb": {
      "model_module": "@jupyter-widgets/base",
      "model_module_version": "1.2.0",
      "model_name": "LayoutModel",
      "state": {}
     },
     "b90faf3891634e2fb39cde7bce9304a9": {
      "model_module": "@jupyter-widgets/controls",
      "model_module_version": "1.5.0",
      "model_name": "FloatProgressModel",
      "state": {
       "bar_style": "success",
       "layout": "IPY_MODEL_7ae5c654bbcd4188be948d014d3c1e0e",
       "max": 336,
       "style": "IPY_MODEL_f1fcd12258b6454286dc221df3f6aeed",
       "value": 336
      }
     },
     "b91ddbef3cd947e5bfd3d79b4a420133": {
      "model_module": "@jupyter-widgets/base",
      "model_module_version": "1.2.0",
      "model_name": "LayoutModel",
      "state": {}
     },
     "b95f18d948ae4a5d9accdb2da94ff4c8": {
      "model_module": "@jupyter-widgets/controls",
      "model_module_version": "1.5.0",
      "model_name": "HTMLModel",
      "state": {
       "layout": "IPY_MODEL_031c9312f7264b4db19419d62ea7d033",
       "style": "IPY_MODEL_2a3af8dff06845b39035e215f2907445",
       "value": "100%"
      }
     },
     "b965de6dbf7f42c499d3af68c479e41a": {
      "model_module": "@jupyter-widgets/controls",
      "model_module_version": "1.5.0",
      "model_name": "HBoxModel",
      "state": {
       "children": [
        "IPY_MODEL_62d05eebebbf49d19c97cb38cbd988bf",
        "IPY_MODEL_3c8e46d78030468281cd67fdfa93724a",
        "IPY_MODEL_2bf3870fc1eb428ca84a3274e21b70f7"
       ],
       "layout": "IPY_MODEL_7169db4dcae24e29a5f0548531dac06d"
      }
     },
     "b9748d347c924812b2e4ad006535ac66": {
      "model_module": "@jupyter-widgets/base",
      "model_module_version": "1.2.0",
      "model_name": "LayoutModel",
      "state": {}
     },
     "b99242a57009476d9d4b3906a7752cb3": {
      "model_module": "@jupyter-widgets/controls",
      "model_module_version": "1.5.0",
      "model_name": "DescriptionStyleModel",
      "state": {
       "description_width": ""
      }
     },
     "b9a6b097182648668d4f0208bd36f687": {
      "model_module": "@jupyter-widgets/controls",
      "model_module_version": "1.5.0",
      "model_name": "FloatProgressModel",
      "state": {
       "bar_style": "success",
       "layout": "IPY_MODEL_ea3ac11734b14444adb145951ce5c0e2",
       "max": 647,
       "style": "IPY_MODEL_ff123f83f5c148138f69a6eee3d456fe",
       "value": 647
      }
     },
     "ba1b70edbd894820a890e0b0293a0ffe": {
      "model_module": "@jupyter-widgets/controls",
      "model_module_version": "1.5.0",
      "model_name": "DescriptionStyleModel",
      "state": {
       "description_width": ""
      }
     },
     "ba395c3b97354c3789b7b86c7210b79e": {
      "model_module": "@jupyter-widgets/controls",
      "model_module_version": "1.5.0",
      "model_name": "ProgressStyleModel",
      "state": {
       "description_width": ""
      }
     },
     "badf7231e0a94926adbe1ad75b8b224d": {
      "model_module": "@jupyter-widgets/controls",
      "model_module_version": "1.5.0",
      "model_name": "HTMLModel",
      "state": {
       "layout": "IPY_MODEL_37968bedcdc043d088f28b7c24a61ea9",
       "style": "IPY_MODEL_847a905e4b034e22a1fe17c3b82d4650",
       "value": " 0/228 [00:01&lt;?, ?it/s]"
      }
     },
     "bba0d2415e2145239fb5585677b558b1": {
      "model_module": "@jupyter-widgets/base",
      "model_module_version": "1.2.0",
      "model_name": "LayoutModel",
      "state": {}
     },
     "bc17f625e29f4e4e9322f50e072831a9": {
      "model_module": "@jupyter-widgets/base",
      "model_module_version": "1.2.0",
      "model_name": "LayoutModel",
      "state": {}
     },
     "bc8463f7725e474bb5afdc7b033f540e": {
      "model_module": "@jupyter-widgets/controls",
      "model_module_version": "1.5.0",
      "model_name": "ProgressStyleModel",
      "state": {
       "description_width": ""
      }
     },
     "bc8a501c0d12402f95ffa297e39ba293": {
      "model_module": "@jupyter-widgets/base",
      "model_module_version": "1.2.0",
      "model_name": "LayoutModel",
      "state": {}
     },
     "bc8b11b6cd1e44e692a24ec4d0e90580": {
      "model_module": "@jupyter-widgets/controls",
      "model_module_version": "1.5.0",
      "model_name": "ProgressStyleModel",
      "state": {
       "description_width": ""
      }
     },
     "bcc292517a3b4167a90804c94c771e3d": {
      "model_module": "@jupyter-widgets/base",
      "model_module_version": "1.2.0",
      "model_name": "LayoutModel",
      "state": {}
     },
     "bcd3d092f9dd49fa97cdb2bb41dd3065": {
      "model_module": "@jupyter-widgets/controls",
      "model_module_version": "1.5.0",
      "model_name": "DescriptionStyleModel",
      "state": {
       "description_width": ""
      }
     },
     "bce63bc144ec4cc78876182321cdf1ef": {
      "model_module": "@jupyter-widgets/base",
      "model_module_version": "1.2.0",
      "model_name": "LayoutModel",
      "state": {}
     },
     "bd622be6f4284399bac1af56dc7ce9d8": {
      "model_module": "@jupyter-widgets/base",
      "model_module_version": "1.2.0",
      "model_name": "LayoutModel",
      "state": {}
     },
     "bd6fd640bdaf44ebac2363871b32de6d": {
      "model_module": "@jupyter-widgets/controls",
      "model_module_version": "1.5.0",
      "model_name": "DescriptionStyleModel",
      "state": {
       "description_width": ""
      }
     },
     "bd7252bb789e4cbfaced55f6cadec8fd": {
      "model_module": "@jupyter-widgets/controls",
      "model_module_version": "1.5.0",
      "model_name": "ProgressStyleModel",
      "state": {
       "description_width": ""
      }
     },
     "bd94af0523a241919e67749fe1fed971": {
      "model_module": "@jupyter-widgets/base",
      "model_module_version": "1.2.0",
      "model_name": "LayoutModel",
      "state": {}
     },
     "bd97417917774f44b1ee65d16978c430": {
      "model_module": "@jupyter-widgets/base",
      "model_module_version": "1.2.0",
      "model_name": "LayoutModel",
      "state": {}
     },
     "be07dca836e64cbfa6e17315c00b7f04": {
      "model_module": "@jupyter-widgets/base",
      "model_module_version": "1.2.0",
      "model_name": "LayoutModel",
      "state": {}
     },
     "be7fcc4778294d76b1b9e50b01f87217": {
      "model_module": "@jupyter-widgets/controls",
      "model_module_version": "1.5.0",
      "model_name": "DescriptionStyleModel",
      "state": {
       "description_width": ""
      }
     },
     "be8c9080f7044a4eb0165b7193f5785b": {
      "model_module": "@jupyter-widgets/base",
      "model_module_version": "1.2.0",
      "model_name": "LayoutModel",
      "state": {}
     },
     "bed83e9ca4294152b293266abd3cd334": {
      "model_module": "@jupyter-widgets/controls",
      "model_module_version": "1.5.0",
      "model_name": "DescriptionStyleModel",
      "state": {
       "description_width": ""
      }
     },
     "bf053617a4c140baa0ca743025ff2222": {
      "model_module": "@jupyter-widgets/controls",
      "model_module_version": "1.5.0",
      "model_name": "ProgressStyleModel",
      "state": {
       "description_width": ""
      }
     },
     "bf1f38e1ea1c4afcb3b4bec9abffbc01": {
      "model_module": "@jupyter-widgets/base",
      "model_module_version": "1.2.0",
      "model_name": "LayoutModel",
      "state": {}
     },
     "bf1f95027e554302bc622f1abf0ab522": {
      "model_module": "@jupyter-widgets/controls",
      "model_module_version": "1.5.0",
      "model_name": "FloatProgressModel",
      "state": {
       "bar_style": "success",
       "layout": "IPY_MODEL_1d2d987f268649d48a02f88ab14fee2b",
       "max": 373,
       "style": "IPY_MODEL_bd7252bb789e4cbfaced55f6cadec8fd",
       "value": 373
      }
     },
     "bf488185959942cfba6e423ad76dcf12": {
      "model_module": "@jupyter-widgets/controls",
      "model_module_version": "1.5.0",
      "model_name": "HBoxModel",
      "state": {
       "children": [
        "IPY_MODEL_44f93cf13e9e472da66902d524581e30",
        "IPY_MODEL_519dea077efe4679ac83f05ec56f2101",
        "IPY_MODEL_60897021ad9c45f083e9417fb8015db7"
       ],
       "layout": "IPY_MODEL_a89545b73e8a424184d1976173c15e03"
      }
     },
     "bfca6e8d9d0f49e5abd71a8157c0c67d": {
      "model_module": "@jupyter-widgets/controls",
      "model_module_version": "1.5.0",
      "model_name": "HTMLModel",
      "state": {
       "layout": "IPY_MODEL_acae5893a9884ab986c4015597578e85",
       "style": "IPY_MODEL_39f1802680f849b9a673b7134abb4719",
       "value": " 228/228 [01:53&lt;00:00,  1.03s/it]"
      }
     },
     "c003c1781113436e85453f5204437412": {
      "model_module": "@jupyter-widgets/controls",
      "model_module_version": "1.5.0",
      "model_name": "DescriptionStyleModel",
      "state": {
       "description_width": ""
      }
     },
     "c016e1eb7a7141d885eb49cef60c6686": {
      "model_module": "@jupyter-widgets/controls",
      "model_module_version": "1.5.0",
      "model_name": "HTMLModel",
      "state": {
       "layout": "IPY_MODEL_2a86251adbc343628d4cecc3056edd36",
       "style": "IPY_MODEL_c9c77effeee8443985cda6fe72d2ca51",
       "value": "100%"
      }
     },
     "c0ce91f866904ecd837d4c682ee4e1c5": {
      "model_module": "@jupyter-widgets/controls",
      "model_module_version": "1.5.0",
      "model_name": "FloatProgressModel",
      "state": {
       "bar_style": "success",
       "layout": "IPY_MODEL_89677973567448acad723f9ed3c15eb6",
       "max": 313,
       "style": "IPY_MODEL_6e7e1563f19a4083b718041fa716c16f",
       "value": 313
      }
     },
     "c1141edb77384221869ac5e1e10f83d8": {
      "model_module": "@jupyter-widgets/controls",
      "model_module_version": "1.5.0",
      "model_name": "ProgressStyleModel",
      "state": {
       "description_width": ""
      }
     },
     "c1269c3a68e5457a91ff3fc72e31b094": {
      "model_module": "@jupyter-widgets/base",
      "model_module_version": "1.2.0",
      "model_name": "LayoutModel",
      "state": {}
     },
     "c12ca9ad88e64f1b8355d8d23bf012d7": {
      "model_module": "@jupyter-widgets/base",
      "model_module_version": "1.2.0",
      "model_name": "LayoutModel",
      "state": {}
     },
     "c12e8068f1c746c2a3bbb9426eaa4e8d": {
      "model_module": "@jupyter-widgets/base",
      "model_module_version": "1.2.0",
      "model_name": "LayoutModel",
      "state": {}
     },
     "c1324a613c474c35b1d128ee38577708": {
      "model_module": "@jupyter-widgets/controls",
      "model_module_version": "1.5.0",
      "model_name": "DescriptionStyleModel",
      "state": {
       "description_width": ""
      }
     },
     "c135703ec4514471a5607c1b02ee0867": {
      "model_module": "@jupyter-widgets/controls",
      "model_module_version": "1.5.0",
      "model_name": "HBoxModel",
      "state": {
       "children": [
        "IPY_MODEL_7ee7efdc62a441f48bd8ee537b5bcf84",
        "IPY_MODEL_1f6a29113019421d9620ca86bafeede4",
        "IPY_MODEL_2f491d4dbc9f42ee8726f57ec0e8b6b0"
       ],
       "layout": "IPY_MODEL_6bfa314bef9a44d68b1f1b55fef4c9e5"
      }
     },
     "c162ce5e9fa340dd9ec9c504e95af7c8": {
      "model_module": "@jupyter-widgets/base",
      "model_module_version": "1.2.0",
      "model_name": "LayoutModel",
      "state": {}
     },
     "c16e2abd1e414b2987565bbc7f0d14d9": {
      "model_module": "@jupyter-widgets/controls",
      "model_module_version": "1.5.0",
      "model_name": "HBoxModel",
      "state": {
       "children": [
        "IPY_MODEL_b472b0a243854c8f8cc66bd7adec5ad4",
        "IPY_MODEL_1c41c595c47b4a31956480f8269a7cb9",
        "IPY_MODEL_ee31c795233d478aa260fabfdd3bb397"
       ],
       "layout": "IPY_MODEL_b32bc4c719484c1d96d2e7ef8438b702"
      }
     },
     "c17d714c98b74a3e8c4dcd74e9d5c2a6": {
      "model_module": "@jupyter-widgets/base",
      "model_module_version": "1.2.0",
      "model_name": "LayoutModel",
      "state": {}
     },
     "c1aa2d33425340e5a052e6ac91b78a01": {
      "model_module": "@jupyter-widgets/controls",
      "model_module_version": "1.5.0",
      "model_name": "HTMLModel",
      "state": {
       "layout": "IPY_MODEL_0943bcbca27e4f13a29ab7e598200bda",
       "style": "IPY_MODEL_c27e848256244496b8b5a937978698dc",
       "value": "100%"
      }
     },
     "c1c25a150e574f19a99ddd34f731a207": {
      "model_module": "@jupyter-widgets/controls",
      "model_module_version": "1.5.0",
      "model_name": "HTMLModel",
      "state": {
       "layout": "IPY_MODEL_4108c62cbc164e99b9814d6882792325",
       "style": "IPY_MODEL_ed228cce670a47a4ab404625468c3349",
       "value": " 6447/6447 [1:23:13&lt;00:00,  2.08it/s]"
      }
     },
     "c1d67df7ab8941418c363f49ad5b45d8": {
      "model_module": "@jupyter-widgets/controls",
      "model_module_version": "1.5.0",
      "model_name": "HBoxModel",
      "state": {
       "children": [
        "IPY_MODEL_895149fcc8824b16b50871d164301d8d",
        "IPY_MODEL_e16383a321f14cb1a388b12a805a5fa8",
        "IPY_MODEL_98070edd6b76455e97f6aa912fab4a2c"
       ],
       "layout": "IPY_MODEL_19a0d78701884c00a23b27c9c5889507"
      }
     },
     "c22319f32a264e09896609ef5df274b7": {
      "model_module": "@jupyter-widgets/controls",
      "model_module_version": "1.5.0",
      "model_name": "FloatProgressModel",
      "state": {
       "bar_style": "success",
       "layout": "IPY_MODEL_2c5e09840f5348988d4e2ec80a6e8d29",
       "max": 294,
       "style": "IPY_MODEL_da287ae3714540e7bea5fe9bd0bf4704",
       "value": 294
      }
     },
     "c25f6d0ffb03478582deaa6b4fc0caab": {
      "model_module": "@jupyter-widgets/controls",
      "model_module_version": "1.5.0",
      "model_name": "DescriptionStyleModel",
      "state": {
       "description_width": ""
      }
     },
     "c27e848256244496b8b5a937978698dc": {
      "model_module": "@jupyter-widgets/controls",
      "model_module_version": "1.5.0",
      "model_name": "DescriptionStyleModel",
      "state": {
       "description_width": ""
      }
     },
     "c27ed28acb884391926830deeb8b20fc": {
      "model_module": "@jupyter-widgets/controls",
      "model_module_version": "1.5.0",
      "model_name": "DescriptionStyleModel",
      "state": {
       "description_width": ""
      }
     },
     "c2e1602970924e71b62aabcc2101b2cc": {
      "model_module": "@jupyter-widgets/controls",
      "model_module_version": "1.5.0",
      "model_name": "ProgressStyleModel",
      "state": {
       "description_width": ""
      }
     },
     "c301798c9d81422992dd66a06d4c986c": {
      "model_module": "@jupyter-widgets/base",
      "model_module_version": "1.2.0",
      "model_name": "LayoutModel",
      "state": {}
     },
     "c31c170776194fb3a663167c6de50150": {
      "model_module": "@jupyter-widgets/controls",
      "model_module_version": "1.5.0",
      "model_name": "DescriptionStyleModel",
      "state": {
       "description_width": ""
      }
     },
     "c3294064ae8e40159c89902a352e8a69": {
      "model_module": "@jupyter-widgets/controls",
      "model_module_version": "1.5.0",
      "model_name": "DescriptionStyleModel",
      "state": {
       "description_width": ""
      }
     },
     "c350c46e65874b56851868b41dd2d590": {
      "model_module": "@jupyter-widgets/controls",
      "model_module_version": "1.5.0",
      "model_name": "DescriptionStyleModel",
      "state": {
       "description_width": ""
      }
     },
     "c42e83e400f2436daceb850d45484102": {
      "model_module": "@jupyter-widgets/base",
      "model_module_version": "1.2.0",
      "model_name": "LayoutModel",
      "state": {}
     },
     "c43cadb898224dc6bc4cf28b46cb4f50": {
      "model_module": "@jupyter-widgets/base",
      "model_module_version": "1.2.0",
      "model_name": "LayoutModel",
      "state": {}
     },
     "c466f15bec1844daaa39893887edd89c": {
      "model_module": "@jupyter-widgets/controls",
      "model_module_version": "1.5.0",
      "model_name": "FloatProgressModel",
      "state": {
       "bar_style": "success",
       "layout": "IPY_MODEL_deda068af38a40ebbbfdfea61b550e2c",
       "max": 228,
       "style": "IPY_MODEL_147bfe790d3645bab535202eb0d482f4",
       "value": 228
      }
     },
     "c4a64cf9894b44bcb4c9971787dd78a6": {
      "model_module": "@jupyter-widgets/controls",
      "model_module_version": "1.5.0",
      "model_name": "FloatProgressModel",
      "state": {
       "bar_style": "success",
       "layout": "IPY_MODEL_3dc2e9bf02554418b0a890f5c99c30a7",
       "max": 662,
       "style": "IPY_MODEL_9e4c49aba3b842cfaa7698fce605fab4",
       "value": 662
      }
     },
     "c4f3b3f379b0444fa7edcabf9a713178": {
      "model_module": "@jupyter-widgets/controls",
      "model_module_version": "1.5.0",
      "model_name": "DescriptionStyleModel",
      "state": {
       "description_width": ""
      }
     },
     "c57bbaac2b0d45bfabe3ae581a2fe630": {
      "model_module": "@jupyter-widgets/base",
      "model_module_version": "1.2.0",
      "model_name": "LayoutModel",
      "state": {}
     },
     "c57c069df9b3402090e81c0279cb4189": {
      "model_module": "@jupyter-widgets/base",
      "model_module_version": "1.2.0",
      "model_name": "LayoutModel",
      "state": {}
     },
     "c5bd15788d174cbd8f7ef269f80abcd6": {
      "model_module": "@jupyter-widgets/controls",
      "model_module_version": "1.5.0",
      "model_name": "DescriptionStyleModel",
      "state": {
       "description_width": ""
      }
     },
     "c635a11fc6224f158350798f337a58f3": {
      "model_module": "@jupyter-widgets/controls",
      "model_module_version": "1.5.0",
      "model_name": "DescriptionStyleModel",
      "state": {
       "description_width": ""
      }
     },
     "c64e2bd2cc3245d1b46d6c6dbfc1c4c8": {
      "model_module": "@jupyter-widgets/controls",
      "model_module_version": "1.5.0",
      "model_name": "HTMLModel",
      "state": {
       "layout": "IPY_MODEL_62b812860ce74231aa4e5cb204512058",
       "style": "IPY_MODEL_49efda93c438445f916b3d70f9cfe20f",
       "value": " 0/228 [00:01&lt;?, ?it/s]"
      }
     },
     "c77d404386454bd2ade05b22ad28e782": {
      "model_module": "@jupyter-widgets/controls",
      "model_module_version": "1.5.0",
      "model_name": "HBoxModel",
      "state": {
       "children": [
        "IPY_MODEL_444136047cb047c3a0c08103e80f6d90",
        "IPY_MODEL_f8ef35eefd1944578e23ca45ff280261",
        "IPY_MODEL_76c8751866884262a85ba19bd3b0144e"
       ],
       "layout": "IPY_MODEL_1ff622990b4e4c4ea66e30a02839a4e6"
      }
     },
     "c7ac150be8184a639bd5d67bf5733ac5": {
      "model_module": "@jupyter-widgets/controls",
      "model_module_version": "1.5.0",
      "model_name": "DescriptionStyleModel",
      "state": {
       "description_width": ""
      }
     },
     "c8179567a4574f0ea7f9c6a0479a1a17": {
      "model_module": "@jupyter-widgets/base",
      "model_module_version": "1.2.0",
      "model_name": "LayoutModel",
      "state": {}
     },
     "c81fa5bb623c43108f6d4b786680ee7d": {
      "model_module": "@jupyter-widgets/base",
      "model_module_version": "1.2.0",
      "model_name": "LayoutModel",
      "state": {}
     },
     "c8ca47faddd44699821861b30fc580c6": {
      "model_module": "@jupyter-widgets/base",
      "model_module_version": "1.2.0",
      "model_name": "LayoutModel",
      "state": {}
     },
     "c99ff54385734b4594c88b1eb43c8c34": {
      "model_module": "@jupyter-widgets/controls",
      "model_module_version": "1.5.0",
      "model_name": "HTMLModel",
      "state": {
       "layout": "IPY_MODEL_51346da377f543dabf6b52b0fa321d49",
       "style": "IPY_MODEL_4f3bdf9cdcae4da9b84036f2787c70a0",
       "value": "100%"
      }
     },
     "c9a5f5735af44209839bdea06c242423": {
      "model_module": "@jupyter-widgets/controls",
      "model_module_version": "1.5.0",
      "model_name": "ProgressStyleModel",
      "state": {
       "description_width": ""
      }
     },
     "c9c77effeee8443985cda6fe72d2ca51": {
      "model_module": "@jupyter-widgets/controls",
      "model_module_version": "1.5.0",
      "model_name": "DescriptionStyleModel",
      "state": {
       "description_width": ""
      }
     },
     "c9f1e2b233904d289b0e48e335675fc6": {
      "model_module": "@jupyter-widgets/controls",
      "model_module_version": "1.5.0",
      "model_name": "DescriptionStyleModel",
      "state": {
       "description_width": ""
      }
     },
     "ca41e40b75744f26a549684e74857fc9": {
      "model_module": "@jupyter-widgets/controls",
      "model_module_version": "1.5.0",
      "model_name": "HTMLModel",
      "state": {
       "layout": "IPY_MODEL_95ecf59844604ae7bd475a06e92924be",
       "style": "IPY_MODEL_067b7863c47f4ebcab70c9809ccd38d4",
       "value": "100%"
      }
     },
     "ca519480c8cb4f1f82f00a9afd080f42": {
      "model_module": "@jupyter-widgets/controls",
      "model_module_version": "1.5.0",
      "model_name": "ProgressStyleModel",
      "state": {
       "description_width": ""
      }
     },
     "ca8aeabc44b64356babf322a6563c9ad": {
      "model_module": "@jupyter-widgets/controls",
      "model_module_version": "1.5.0",
      "model_name": "HBoxModel",
      "state": {
       "children": [
        "IPY_MODEL_94d620b679364f7b82bc1953daf408cd",
        "IPY_MODEL_3aebbf0af971491d8b4aaf8166809161",
        "IPY_MODEL_7919f3ed43454fffbbc844b460d614a1"
       ],
       "layout": "IPY_MODEL_a22c9ecf20dd4c4d9fcc677808727360"
      }
     },
     "ca95a2d1079b4fa6b4fc8fb8c1162cb5": {
      "model_module": "@jupyter-widgets/controls",
      "model_module_version": "1.5.0",
      "model_name": "FloatProgressModel",
      "state": {
       "bar_style": "success",
       "layout": "IPY_MODEL_eff20e7084fd4b98b34805ac7c5d674e",
       "max": 336,
       "style": "IPY_MODEL_60d0d38625ca45789aa73e5075b49a55",
       "value": 336
      }
     },
     "cab4c907fe0542788eb3d6c84e3bc55a": {
      "model_module": "@jupyter-widgets/controls",
      "model_module_version": "1.5.0",
      "model_name": "ProgressStyleModel",
      "state": {
       "description_width": ""
      }
     },
     "cacb7533d368433fb5600991c0e7e383": {
      "model_module": "@jupyter-widgets/controls",
      "model_module_version": "1.5.0",
      "model_name": "ProgressStyleModel",
      "state": {
       "description_width": ""
      }
     },
     "cad1bbe5312f4d0599a9f19f8b882080": {
      "model_module": "@jupyter-widgets/controls",
      "model_module_version": "1.5.0",
      "model_name": "DescriptionStyleModel",
      "state": {
       "description_width": ""
      }
     },
     "cb0cd2e0112147258bafdc4001666a79": {
      "model_module": "@jupyter-widgets/controls",
      "model_module_version": "1.5.0",
      "model_name": "FloatProgressModel",
      "state": {
       "bar_style": "success",
       "layout": "IPY_MODEL_3c86cd1725254d25bad2f7b67a40940c",
       "max": 647,
       "style": "IPY_MODEL_54b2d3fccdfa4048bda33a904910a147",
       "value": 647
      }
     },
     "cb104f22208e464cad7589127c62ae03": {
      "model_module": "@jupyter-widgets/base",
      "model_module_version": "1.2.0",
      "model_name": "LayoutModel",
      "state": {}
     },
     "cbf666166d94429bad2934f5c24f8d73": {
      "model_module": "@jupyter-widgets/controls",
      "model_module_version": "1.5.0",
      "model_name": "ProgressStyleModel",
      "state": {
       "description_width": ""
      }
     },
     "cc67547fd5e34af788b039d85bd4dd24": {
      "model_module": "@jupyter-widgets/base",
      "model_module_version": "1.2.0",
      "model_name": "LayoutModel",
      "state": {}
     },
     "ccc0e89695e34ad7be569a6ac1f2df78": {
      "model_module": "@jupyter-widgets/controls",
      "model_module_version": "1.5.0",
      "model_name": "ProgressStyleModel",
      "state": {
       "description_width": ""
      }
     },
     "ccf7ab79d31045a69bf533722d1a5652": {
      "model_module": "@jupyter-widgets/base",
      "model_module_version": "1.2.0",
      "model_name": "LayoutModel",
      "state": {}
     },
     "cd3a5f569e0d40ae95be3cc7a0281c93": {
      "model_module": "@jupyter-widgets/base",
      "model_module_version": "1.2.0",
      "model_name": "LayoutModel",
      "state": {}
     },
     "cd4eb86d0b4b4672b88fc38645eff55f": {
      "model_module": "@jupyter-widgets/controls",
      "model_module_version": "1.5.0",
      "model_name": "FloatProgressModel",
      "state": {
       "bar_style": "success",
       "layout": "IPY_MODEL_2b6793a3225e4099b6f6227a5c786624",
       "max": 662,
       "style": "IPY_MODEL_857053aee5874513aba7f386f28b7b51",
       "value": 662
      }
     },
     "cd779157cb26445a905a02e5d1113631": {
      "model_module": "@jupyter-widgets/controls",
      "model_module_version": "1.5.0",
      "model_name": "HTMLModel",
      "state": {
       "layout": "IPY_MODEL_d513917ddc8c42b69e77e281f15df386",
       "style": "IPY_MODEL_d7b31c3721724a5ea6f330b838e55440",
       "value": "100%"
      }
     },
     "cd7bcbface9248e9a5b664234b202822": {
      "model_module": "@jupyter-widgets/controls",
      "model_module_version": "1.5.0",
      "model_name": "ProgressStyleModel",
      "state": {
       "description_width": ""
      }
     },
     "cd9709d923184b22bd0f3bb48155bffe": {
      "model_module": "@jupyter-widgets/controls",
      "model_module_version": "1.5.0",
      "model_name": "HTMLModel",
      "state": {
       "layout": "IPY_MODEL_6130d9cfdb9940c4817228e472c81390",
       "style": "IPY_MODEL_14de403184ff44e2bf69e779bd615f3f",
       "value": "100%"
      }
     },
     "cdc12f43cc51419aadd27335816ba043": {
      "model_module": "@jupyter-widgets/base",
      "model_module_version": "1.2.0",
      "model_name": "LayoutModel",
      "state": {}
     },
     "ce1d57742f0d40bbb1acc24e3b1df42a": {
      "model_module": "@jupyter-widgets/controls",
      "model_module_version": "1.5.0",
      "model_name": "DescriptionStyleModel",
      "state": {
       "description_width": ""
      }
     },
     "ce3b4a093ce745339eb207a9df8f2383": {
      "model_module": "@jupyter-widgets/controls",
      "model_module_version": "1.5.0",
      "model_name": "HBoxModel",
      "state": {
       "children": [
        "IPY_MODEL_b399cada8d4343b2a96c9769810ca058",
        "IPY_MODEL_f2b5689ce2f8424b89622464e39743e9",
        "IPY_MODEL_d4b2bfe467a14c35a57e8a0c7393de16"
       ],
       "layout": "IPY_MODEL_5c5001e50db5401391e854470c48c553"
      }
     },
     "ce7226456dfa491998ffec0c31d355f9": {
      "model_module": "@jupyter-widgets/controls",
      "model_module_version": "1.5.0",
      "model_name": "HBoxModel",
      "state": {
       "children": [
        "IPY_MODEL_a096a434abe64fd6b5d46e77aaf43934",
        "IPY_MODEL_9612c2a6b05c49d7a0fd0df0ade1fd70",
        "IPY_MODEL_c64e2bd2cc3245d1b46d6c6dbfc1c4c8"
       ],
       "layout": "IPY_MODEL_5a9a9cbf04a74282878fecfebb54eb8d"
      }
     },
     "cecd10b28dcd4a68b9c225b7fc831ac7": {
      "model_module": "@jupyter-widgets/base",
      "model_module_version": "1.2.0",
      "model_name": "LayoutModel",
      "state": {}
     },
     "cede2dfb376c46189dd6e05d6d0421a6": {
      "model_module": "@jupyter-widgets/base",
      "model_module_version": "1.2.0",
      "model_name": "LayoutModel",
      "state": {}
     },
     "cf04d66282144081b0e6bfd3e11ae551": {
      "model_module": "@jupyter-widgets/controls",
      "model_module_version": "1.5.0",
      "model_name": "HTMLModel",
      "state": {
       "layout": "IPY_MODEL_a87e214023044b5ea4e00f3e39aa96d1",
       "style": "IPY_MODEL_186fec1400ae4bba8893ad656d58f39e",
       "value": " 700/700 [07:06&lt;00:00,  2.81it/s]"
      }
     },
     "cf126c7adcac4321a675f1931ab9fac7": {
      "model_module": "@jupyter-widgets/base",
      "model_module_version": "1.2.0",
      "model_name": "LayoutModel",
      "state": {}
     },
     "cf697b00103e4ffb83943a12caaf9df1": {
      "model_module": "@jupyter-widgets/controls",
      "model_module_version": "1.5.0",
      "model_name": "DescriptionStyleModel",
      "state": {
       "description_width": ""
      }
     },
     "cf915ea1deca4cc8b893dedb92a3b375": {
      "model_module": "@jupyter-widgets/controls",
      "model_module_version": "1.5.0",
      "model_name": "HTMLModel",
      "state": {
       "layout": "IPY_MODEL_382ee23fb9bd403c82f6290d02376d1d",
       "style": "IPY_MODEL_cad1bbe5312f4d0599a9f19f8b882080",
       "value": "100%"
      }
     },
     "cfa3a90d910f40d18f9f406826de9692": {
      "model_module": "@jupyter-widgets/base",
      "model_module_version": "1.2.0",
      "model_name": "LayoutModel",
      "state": {}
     },
     "cfaddbe00fe8404e99f6f645829c5514": {
      "model_module": "@jupyter-widgets/controls",
      "model_module_version": "1.5.0",
      "model_name": "DescriptionStyleModel",
      "state": {
       "description_width": ""
      }
     },
     "cfb83af189734366b4af5753b919daf8": {
      "model_module": "@jupyter-widgets/controls",
      "model_module_version": "1.5.0",
      "model_name": "FloatProgressModel",
      "state": {
       "bar_style": "success",
       "layout": "IPY_MODEL_8a126587b44048868cd0d9d1b9f02a3c",
       "max": 373,
       "style": "IPY_MODEL_d0c84264a5414a5da16e3e3c608f628f",
       "value": 373
      }
     },
     "cfc3844c2d0a4ebf93bb0f12825d8a3f": {
      "model_module": "@jupyter-widgets/controls",
      "model_module_version": "1.5.0",
      "model_name": "DescriptionStyleModel",
      "state": {
       "description_width": ""
      }
     },
     "d02ca81fc59f4377951dfc9defa07ef8": {
      "model_module": "@jupyter-widgets/controls",
      "model_module_version": "1.5.0",
      "model_name": "HTMLModel",
      "state": {
       "layout": "IPY_MODEL_a90bcfcf7dec4a229a7fea88b3f28d02",
       "style": "IPY_MODEL_70880777f1944b77825b883b6808c0b0",
       "value": " 662/662 [06:48&lt;00:00,  2.73it/s]"
      }
     },
     "d08ce2fe3b714d3abf7162cac78b5a3d": {
      "model_module": "@jupyter-widgets/controls",
      "model_module_version": "1.5.0",
      "model_name": "ProgressStyleModel",
      "state": {
       "description_width": ""
      }
     },
     "d09d7fba29504c629fdbfef66020a45e": {
      "model_module": "@jupyter-widgets/base",
      "model_module_version": "1.2.0",
      "model_name": "LayoutModel",
      "state": {}
     },
     "d0a2d55c497a4901b994e8a4bdb95dd8": {
      "model_module": "@jupyter-widgets/base",
      "model_module_version": "1.2.0",
      "model_name": "LayoutModel",
      "state": {}
     },
     "d0c00d68c57f4ff9a707a7b7453fc2f0": {
      "model_module": "@jupyter-widgets/base",
      "model_module_version": "1.2.0",
      "model_name": "LayoutModel",
      "state": {}
     },
     "d0c84264a5414a5da16e3e3c608f628f": {
      "model_module": "@jupyter-widgets/controls",
      "model_module_version": "1.5.0",
      "model_name": "ProgressStyleModel",
      "state": {
       "description_width": ""
      }
     },
     "d0c9d40a51004203aae99109e66f1252": {
      "model_module": "@jupyter-widgets/controls",
      "model_module_version": "1.5.0",
      "model_name": "HTMLModel",
      "state": {
       "layout": "IPY_MODEL_fbe87b2127234fc9b8c4c374de5d270c",
       "style": "IPY_MODEL_fc1df8d72cf44206871e3ac896577ca9",
       "value": " 0/700 [00:00&lt;?, ?it/s]"
      }
     },
     "d0e5b7f76c444059b4c06cd02e4a626e": {
      "model_module": "@jupyter-widgets/controls",
      "model_module_version": "1.5.0",
      "model_name": "FloatProgressModel",
      "state": {
       "bar_style": "success",
       "layout": "IPY_MODEL_0a8bc6fb75f0438b83a1f1af0f52d753",
       "max": 373,
       "style": "IPY_MODEL_ae50160fdf844c05a1375b3f2e555750",
       "value": 373
      }
     },
     "d11177d7be0749499efb4d24312383e2": {
      "model_module": "@jupyter-widgets/controls",
      "model_module_version": "1.5.0",
      "model_name": "ProgressStyleModel",
      "state": {
       "description_width": ""
      }
     },
     "d124dd2b09154f85ac189308a4bbfe45": {
      "model_module": "@jupyter-widgets/controls",
      "model_module_version": "1.5.0",
      "model_name": "HBoxModel",
      "state": {
       "children": [
        "IPY_MODEL_2da91bfdae3947c5b51f90fe8ae2ae40",
        "IPY_MODEL_c22319f32a264e09896609ef5df274b7",
        "IPY_MODEL_21371e91bbdf4158b821cf3358b3e616"
       ],
       "layout": "IPY_MODEL_b47e8a04e3574beca9ad8ce2c6a2a0c3"
      }
     },
     "d1bdec5379654464a00037d090637b0f": {
      "model_module": "@jupyter-widgets/controls",
      "model_module_version": "1.5.0",
      "model_name": "DescriptionStyleModel",
      "state": {
       "description_width": ""
      }
     },
     "d1dd397126fe4293ba86cd575eb6c387": {
      "model_module": "@jupyter-widgets/base",
      "model_module_version": "1.2.0",
      "model_name": "LayoutModel",
      "state": {}
     },
     "d1e75a7993094907965a73366d6b2a82": {
      "model_module": "@jupyter-widgets/controls",
      "model_module_version": "1.5.0",
      "model_name": "HTMLModel",
      "state": {
       "layout": "IPY_MODEL_5fd4277637ee4bba85af3144863db172",
       "style": "IPY_MODEL_5eda12b5610845e8827e5ed10be96d9b",
       "value": "100%"
      }
     },
     "d1f6b50202364131a4571b98aa0ca55b": {
      "model_module": "@jupyter-widgets/base",
      "model_module_version": "1.2.0",
      "model_name": "LayoutModel",
      "state": {}
     },
     "d24347f0aed946b6a19e9e9ff772e425": {
      "model_module": "@jupyter-widgets/controls",
      "model_module_version": "1.5.0",
      "model_name": "FloatProgressModel",
      "state": {
       "bar_style": "success",
       "layout": "IPY_MODEL_85cde7fd37964d5292dc7c6f567ae9ff",
       "max": 336,
       "style": "IPY_MODEL_39ba203a8a5a4fef82199c3d55e66519",
       "value": 336
      }
     },
     "d2c12bd51a034b669da707c12badd254": {
      "model_module": "@jupyter-widgets/base",
      "model_module_version": "1.2.0",
      "model_name": "LayoutModel",
      "state": {}
     },
     "d2ca21d8fc984d3fa1faf0230cb217cc": {
      "model_module": "@jupyter-widgets/controls",
      "model_module_version": "1.5.0",
      "model_name": "HTMLModel",
      "state": {
       "layout": "IPY_MODEL_801a5eda4e4e4fa582bf0dbe9577d72e",
       "style": "IPY_MODEL_42241dc4416540d9b0508d76416bb998",
       "value": "100%"
      }
     },
     "d352431371714cd9b92918d71244af13": {
      "model_module": "@jupyter-widgets/controls",
      "model_module_version": "1.5.0",
      "model_name": "DescriptionStyleModel",
      "state": {
       "description_width": ""
      }
     },
     "d3697b5dabfd4bcb8c07e00944681a3d": {
      "model_module": "@jupyter-widgets/base",
      "model_module_version": "1.2.0",
      "model_name": "LayoutModel",
      "state": {}
     },
     "d399fcd75a924905b3bd19f748ba51bc": {
      "model_module": "@jupyter-widgets/controls",
      "model_module_version": "1.5.0",
      "model_name": "DescriptionStyleModel",
      "state": {
       "description_width": ""
      }
     },
     "d3eb0ec78fd346c7b790fe83cdeee79b": {
      "model_module": "@jupyter-widgets/controls",
      "model_module_version": "1.5.0",
      "model_name": "HBoxModel",
      "state": {
       "children": [
        "IPY_MODEL_8eb5a88e5b4c45329a15e61c52450f2a",
        "IPY_MODEL_adcb0ea0fc5746b692933de6b82f2043",
        "IPY_MODEL_71a295abe5984c2b812fc9dc1df3e87c"
       ],
       "layout": "IPY_MODEL_5d2dd2d8e76144618b6e4b03250b5145"
      }
     },
     "d461faa9770343aeb5f2d65cbbfa21ec": {
      "model_module": "@jupyter-widgets/base",
      "model_module_version": "1.2.0",
      "model_name": "LayoutModel",
      "state": {}
     },
     "d495446021bf41fbb405460ce4766562": {
      "model_module": "@jupyter-widgets/base",
      "model_module_version": "1.2.0",
      "model_name": "LayoutModel",
      "state": {}
     },
     "d4b2bfe467a14c35a57e8a0c7393de16": {
      "model_module": "@jupyter-widgets/controls",
      "model_module_version": "1.5.0",
      "model_name": "HTMLModel",
      "state": {
       "layout": "IPY_MODEL_8e199ac4ef3944c9b7dc8f45e26b1545",
       "style": "IPY_MODEL_ed10f7550dcd47d3a9e09ad1a8d8d0bb",
       "value": " 6447/6447 [1:09:56&lt;00:00,  2.34it/s]"
      }
     },
     "d4e2832f14a947a4b4ba4e1d45f1c0a3": {
      "model_module": "@jupyter-widgets/controls",
      "model_module_version": "1.5.0",
      "model_name": "ProgressStyleModel",
      "state": {
       "description_width": ""
      }
     },
     "d513917ddc8c42b69e77e281f15df386": {
      "model_module": "@jupyter-widgets/base",
      "model_module_version": "1.2.0",
      "model_name": "LayoutModel",
      "state": {}
     },
     "d5374cc07b174674b02eadddabb644f7": {
      "model_module": "@jupyter-widgets/controls",
      "model_module_version": "1.5.0",
      "model_name": "HBoxModel",
      "state": {
       "children": [
        "IPY_MODEL_a84b8541b39b43e888b4cfd3d6870c8f",
        "IPY_MODEL_ca95a2d1079b4fa6b4fc8fb8c1162cb5",
        "IPY_MODEL_712aac13d9164950abfe92d755857b6f"
       ],
       "layout": "IPY_MODEL_13d4018deb4e47df8fd5eb67b4911bc2"
      }
     },
     "d6206b9c6c1847caaab2594ce527c1f7": {
      "model_module": "@jupyter-widgets/controls",
      "model_module_version": "1.5.0",
      "model_name": "DescriptionStyleModel",
      "state": {
       "description_width": ""
      }
     },
     "d626dc95e7c14ee4b7914d5f26038785": {
      "model_module": "@jupyter-widgets/controls",
      "model_module_version": "1.5.0",
      "model_name": "HBoxModel",
      "state": {
       "children": [
        "IPY_MODEL_a010375b61674893b1b00589954fd5f1",
        "IPY_MODEL_3bf5dcfcd44c411d83977964e8dbd430",
        "IPY_MODEL_5a3b791a6a61415cbae0e8ab699107f9"
       ],
       "layout": "IPY_MODEL_e85e26718b944892a1c2cf8b86a4ac69"
      }
     },
     "d6367be8f12345c0b751001f077b956c": {
      "model_module": "@jupyter-widgets/controls",
      "model_module_version": "1.5.0",
      "model_name": "FloatProgressModel",
      "state": {
       "bar_style": "success",
       "layout": "IPY_MODEL_61e523f4c7204d939872c0c1cd9fbb1c",
       "max": 366,
       "style": "IPY_MODEL_cbf666166d94429bad2934f5c24f8d73",
       "value": 366
      }
     },
     "d68dff5b7d8d442095ad10de728ee68d": {
      "model_module": "@jupyter-widgets/base",
      "model_module_version": "1.2.0",
      "model_name": "LayoutModel",
      "state": {}
     },
     "d6e6af85ca2d492fba5116ae0220964b": {
      "model_module": "@jupyter-widgets/base",
      "model_module_version": "1.2.0",
      "model_name": "LayoutModel",
      "state": {}
     },
     "d6f9be7d62d34cc8b1f474a44df4ab39": {
      "model_module": "@jupyter-widgets/controls",
      "model_module_version": "1.5.0",
      "model_name": "DescriptionStyleModel",
      "state": {
       "description_width": ""
      }
     },
     "d740789bec544ccc855f3392b62d1405": {
      "model_module": "@jupyter-widgets/base",
      "model_module_version": "1.2.0",
      "model_name": "LayoutModel",
      "state": {}
     },
     "d7b31c3721724a5ea6f330b838e55440": {
      "model_module": "@jupyter-widgets/controls",
      "model_module_version": "1.5.0",
      "model_name": "DescriptionStyleModel",
      "state": {
       "description_width": ""
      }
     },
     "d7d6b2e8d63a406f93854a5e34536450": {
      "model_module": "@jupyter-widgets/controls",
      "model_module_version": "1.5.0",
      "model_name": "DescriptionStyleModel",
      "state": {
       "description_width": ""
      }
     },
     "d80919cf1c5b43908e19ce3ee8ac08fe": {
      "model_module": "@jupyter-widgets/controls",
      "model_module_version": "1.5.0",
      "model_name": "HTMLModel",
      "state": {
       "layout": "IPY_MODEL_877ad8dbb2d544d8910f1e7c43bd8923",
       "style": "IPY_MODEL_c4f3b3f379b0444fa7edcabf9a713178",
       "value": "100%"
      }
     },
     "d8117e9dce8b408989025990e9b90ad2": {
      "model_module": "@jupyter-widgets/controls",
      "model_module_version": "1.5.0",
      "model_name": "HTMLModel",
      "state": {
       "layout": "IPY_MODEL_c42e83e400f2436daceb850d45484102",
       "style": "IPY_MODEL_8f36e55abd094e93a5942583c225a169",
       "value": "100%"
      }
     },
     "d8330a64fa854598aaac53dec2155a86": {
      "model_module": "@jupyter-widgets/controls",
      "model_module_version": "1.5.0",
      "model_name": "DescriptionStyleModel",
      "state": {
       "description_width": ""
      }
     },
     "d83c1a2d0a9943af9beae3d7b60bff5a": {
      "model_module": "@jupyter-widgets/controls",
      "model_module_version": "1.5.0",
      "model_name": "HBoxModel",
      "state": {
       "children": [
        "IPY_MODEL_cf915ea1deca4cc8b893dedb92a3b375",
        "IPY_MODEL_086de27a156a400891acd8a8f2b06c64",
        "IPY_MODEL_b11b152f8f2c42cbb69728dde3ac06a1"
       ],
       "layout": "IPY_MODEL_cb104f22208e464cad7589127c62ae03"
      }
     },
     "d87665335b134654b8a9a63a3cd60391": {
      "model_module": "@jupyter-widgets/controls",
      "model_module_version": "1.5.0",
      "model_name": "HTMLModel",
      "state": {
       "layout": "IPY_MODEL_0923e3c18c734a14af207034c85b386b",
       "style": "IPY_MODEL_c25f6d0ffb03478582deaa6b4fc0caab",
       "value": " 2672/2672 [34:30&lt;00:00,  3.30it/s]"
      }
     },
     "d8782b4446434a80acaf4a673d1116da": {
      "model_module": "@jupyter-widgets/controls",
      "model_module_version": "1.5.0",
      "model_name": "HTMLModel",
      "state": {
       "layout": "IPY_MODEL_0f335c5eb91c41ffa6de736b8baecfa3",
       "style": "IPY_MODEL_2b95fe9b36c543a4b82f6f48552763bc",
       "value": "100%"
      }
     },
     "d8b757eb50bb499cb7db84a4cc81c84a": {
      "model_module": "@jupyter-widgets/controls",
      "model_module_version": "1.5.0",
      "model_name": "HTMLModel",
      "state": {
       "layout": "IPY_MODEL_9f90598398bd4f0d881e34894051d243",
       "style": "IPY_MODEL_b778a242a2314e5abace5b57be9b1898",
       "value": " 284/284 [03:22&lt;00:00,  1.50it/s]"
      }
     },
     "d965982266184cfabefc850d0145172d": {
      "model_module": "@jupyter-widgets/controls",
      "model_module_version": "1.5.0",
      "model_name": "HBoxModel",
      "state": {
       "children": [
        "IPY_MODEL_722de6bbf5a8483192c8a99dbf9e2f10",
        "IPY_MODEL_b9a6b097182648668d4f0208bd36f687",
        "IPY_MODEL_8f5e6dc51f364e99af868bf0ff0b17ec"
       ],
       "layout": "IPY_MODEL_bd622be6f4284399bac1af56dc7ce9d8"
      }
     },
     "d972ac0ca9214ecd94ba7088add6dbea": {
      "model_module": "@jupyter-widgets/controls",
      "model_module_version": "1.5.0",
      "model_name": "ProgressStyleModel",
      "state": {
       "description_width": ""
      }
     },
     "d9ea6a7e5dc3470ea669e2bf8b98c95c": {
      "model_module": "@jupyter-widgets/base",
      "model_module_version": "1.2.0",
      "model_name": "LayoutModel",
      "state": {}
     },
     "da287ae3714540e7bea5fe9bd0bf4704": {
      "model_module": "@jupyter-widgets/controls",
      "model_module_version": "1.5.0",
      "model_name": "ProgressStyleModel",
      "state": {
       "description_width": ""
      }
     },
     "da4f24342999464aba3b28c28420c972": {
      "model_module": "@jupyter-widgets/controls",
      "model_module_version": "1.5.0",
      "model_name": "HBoxModel",
      "state": {
       "children": [
        "IPY_MODEL_9d481ac4a30541de94fdb8019b4df2d9",
        "IPY_MODEL_1f77d19166b049edbfdc701df89e874d",
        "IPY_MODEL_3b3af4a1af714ac7bfe1ced758661787"
       ],
       "layout": "IPY_MODEL_1de30c19a4674474a80d27ef0eb0cd8a"
      }
     },
     "da6ddd5d32ad4585b85d08e021b8b8e9": {
      "model_module": "@jupyter-widgets/controls",
      "model_module_version": "1.5.0",
      "model_name": "ProgressStyleModel",
      "state": {
       "description_width": ""
      }
     },
     "da8b8b5a243d45dbbd02412972d27543": {
      "model_module": "@jupyter-widgets/controls",
      "model_module_version": "1.5.0",
      "model_name": "DescriptionStyleModel",
      "state": {
       "description_width": ""
      }
     },
     "daa232e90066465bb010a30ddf37e77f": {
      "model_module": "@jupyter-widgets/controls",
      "model_module_version": "1.5.0",
      "model_name": "HTMLModel",
      "state": {
       "layout": "IPY_MODEL_bf1f38e1ea1c4afcb3b4bec9abffbc01",
       "style": "IPY_MODEL_384d0cacb50e4f04a425fe5499dd6e44",
       "value": " 811/811 [13:05&lt;00:00,  2.19it/s]"
      }
     },
     "dab76b6b4d534a6d9e66e60e8e38758d": {
      "model_module": "@jupyter-widgets/controls",
      "model_module_version": "1.5.0",
      "model_name": "ProgressStyleModel",
      "state": {
       "description_width": ""
      }
     },
     "db0f0c3c08d04d2bbe92ed853019970d": {
      "model_module": "@jupyter-widgets/controls",
      "model_module_version": "1.5.0",
      "model_name": "FloatProgressModel",
      "state": {
       "bar_style": "success",
       "layout": "IPY_MODEL_a1d5b10ca0704ed6a89ef14a274cf178",
       "max": 700,
       "style": "IPY_MODEL_a7323b81186648dd975d7eda80b70852",
       "value": 700
      }
     },
     "db1ec272047e4631bd21d42aaf8d7ce4": {
      "model_module": "@jupyter-widgets/base",
      "model_module_version": "1.2.0",
      "model_name": "LayoutModel",
      "state": {}
     },
     "db270b4917f64da8be595ab9b11663d0": {
      "model_module": "@jupyter-widgets/base",
      "model_module_version": "1.2.0",
      "model_name": "LayoutModel",
      "state": {}
     },
     "dbdf672b92f844108d2816a704281056": {
      "model_module": "@jupyter-widgets/controls",
      "model_module_version": "1.5.0",
      "model_name": "FloatProgressModel",
      "state": {
       "bar_style": "success",
       "layout": "IPY_MODEL_1ab6da806dac4f0dac12abac3aabf8d7",
       "max": 309,
       "style": "IPY_MODEL_935c460a7c454575b3eb5b7a2873ecc3",
       "value": 309
      }
     },
     "dc5c93e240024a1882041c33248745bf": {
      "model_module": "@jupyter-widgets/controls",
      "model_module_version": "1.5.0",
      "model_name": "HTMLModel",
      "state": {
       "layout": "IPY_MODEL_420809324f7842b2baade41db8c73932",
       "style": "IPY_MODEL_6541f3013e5a4adf9425a555ec24ee56",
       "value": " 336/336 [03:23&lt;00:00,  1.18s/it]"
      }
     },
     "dc5ef7ada484407ea92d7bb24dccb039": {
      "model_module": "@jupyter-widgets/controls",
      "model_module_version": "1.5.0",
      "model_name": "DescriptionStyleModel",
      "state": {
       "description_width": ""
      }
     },
     "dc6dadb5bcd14166b91492bc4f5f208e": {
      "model_module": "@jupyter-widgets/base",
      "model_module_version": "1.2.0",
      "model_name": "LayoutModel",
      "state": {}
     },
     "dcc45f9d98944cfa895dfcc819135566": {
      "model_module": "@jupyter-widgets/controls",
      "model_module_version": "1.5.0",
      "model_name": "DescriptionStyleModel",
      "state": {
       "description_width": ""
      }
     },
     "dccff8b31ec84458b1bd4c80e8a2854f": {
      "model_module": "@jupyter-widgets/controls",
      "model_module_version": "1.5.0",
      "model_name": "HTMLModel",
      "state": {
       "layout": "IPY_MODEL_de0ead273ab64e108c425c3d764893d6",
       "style": "IPY_MODEL_3d1e131a067c47fdad1c437f0bad41e3",
       "value": " 313/313 [03:47&lt;00:00,  1.50it/s]"
      }
     },
     "dda8694ea6674b268c9cde76aec376cc": {
      "model_module": "@jupyter-widgets/base",
      "model_module_version": "1.2.0",
      "model_name": "LayoutModel",
      "state": {}
     },
     "ddbaeb450b7943cbafe888e8b8bc9dc7": {
      "model_module": "@jupyter-widgets/controls",
      "model_module_version": "1.5.0",
      "model_name": "HBoxModel",
      "state": {
       "children": [
        "IPY_MODEL_50b56292a71540b0b2b3305f96805ffc",
        "IPY_MODEL_853acbf8016745578be447f4d4aded21",
        "IPY_MODEL_04c3695569a045d6b3bf6e09ed516c65"
       ],
       "layout": "IPY_MODEL_4ed759689908431b971d95c59766bbdc"
      }
     },
     "dddeb4076fa848f98108d9b5d07f8eb4": {
      "model_module": "@jupyter-widgets/base",
      "model_module_version": "1.2.0",
      "model_name": "LayoutModel",
      "state": {}
     },
     "ddf97dfea57a459985e82e9c4c6d88a2": {
      "model_module": "@jupyter-widgets/base",
      "model_module_version": "1.2.0",
      "model_name": "LayoutModel",
      "state": {}
     },
     "de0ead273ab64e108c425c3d764893d6": {
      "model_module": "@jupyter-widgets/base",
      "model_module_version": "1.2.0",
      "model_name": "LayoutModel",
      "state": {}
     },
     "de2599d9a67e4ae497c38ed83f735af1": {
      "model_module": "@jupyter-widgets/base",
      "model_module_version": "1.2.0",
      "model_name": "LayoutModel",
      "state": {}
     },
     "de25d7d2b5c84c7cb48670e566a7e2e9": {
      "model_module": "@jupyter-widgets/controls",
      "model_module_version": "1.5.0",
      "model_name": "DescriptionStyleModel",
      "state": {
       "description_width": ""
      }
     },
     "de29b8c436934d579f027e1ebae3235d": {
      "model_module": "@jupyter-widgets/controls",
      "model_module_version": "1.5.0",
      "model_name": "ProgressStyleModel",
      "state": {
       "description_width": ""
      }
     },
     "deaddbadd8c84dc0a0968fbe71575c9b": {
      "model_module": "@jupyter-widgets/controls",
      "model_module_version": "1.5.0",
      "model_name": "ProgressStyleModel",
      "state": {
       "description_width": ""
      }
     },
     "deda068af38a40ebbbfdfea61b550e2c": {
      "model_module": "@jupyter-widgets/base",
      "model_module_version": "1.2.0",
      "model_name": "LayoutModel",
      "state": {}
     },
     "dee55d43818741bc8edbc64e791bb1f8": {
      "model_module": "@jupyter-widgets/controls",
      "model_module_version": "1.5.0",
      "model_name": "DescriptionStyleModel",
      "state": {
       "description_width": ""
      }
     },
     "df24663380794076ae3648aa56050539": {
      "model_module": "@jupyter-widgets/base",
      "model_module_version": "1.2.0",
      "model_name": "LayoutModel",
      "state": {}
     },
     "df378e8ce92e44189e52925086d5ae32": {
      "model_module": "@jupyter-widgets/controls",
      "model_module_version": "1.5.0",
      "model_name": "DescriptionStyleModel",
      "state": {
       "description_width": ""
      }
     },
     "dfa0fe328ff44cdaac0906937aef4243": {
      "model_module": "@jupyter-widgets/controls",
      "model_module_version": "1.5.0",
      "model_name": "HTMLModel",
      "state": {
       "layout": "IPY_MODEL_9a5e15c1a59345989f2ccea270373f02",
       "style": "IPY_MODEL_0caf603ad15343ed8efdc50994039ddb",
       "value": "  3%"
      }
     },
     "dfa73c1602614bc68e06c7c6ea38d1d2": {
      "model_module": "@jupyter-widgets/controls",
      "model_module_version": "1.5.0",
      "model_name": "DescriptionStyleModel",
      "state": {
       "description_width": ""
      }
     },
     "dfcae7d36bf24844afdc8cac7d1372bc": {
      "model_module": "@jupyter-widgets/controls",
      "model_module_version": "1.5.0",
      "model_name": "HTMLModel",
      "state": {
       "layout": "IPY_MODEL_e4d77b6baf304318aa5cb61381702231",
       "style": "IPY_MODEL_8090165504c04b41a5e45138b2b5e0ed",
       "value": " 647/647 [09:46&lt;00:00,  3.30it/s]"
      }
     },
     "dfdcbb16513c4bd69a2e0055c0978ab3": {
      "model_module": "@jupyter-widgets/base",
      "model_module_version": "1.2.0",
      "model_name": "LayoutModel",
      "state": {}
     },
     "dfe850ab7acc4921b0dfb21770ea0628": {
      "model_module": "@jupyter-widgets/controls",
      "model_module_version": "1.5.0",
      "model_name": "HBoxModel",
      "state": {
       "children": [
        "IPY_MODEL_613cd0815c154166ad1283ab55c7579e",
        "IPY_MODEL_b90faf3891634e2fb39cde7bce9304a9",
        "IPY_MODEL_8f2a27a053f748578d2acd3b00f8b45b"
       ],
       "layout": "IPY_MODEL_53fd7c1f76b140628ea3c52857300e64"
      }
     },
     "e0334333ab8c4f0dbaa6f6f2c61ce522": {
      "model_module": "@jupyter-widgets/controls",
      "model_module_version": "1.5.0",
      "model_name": "DescriptionStyleModel",
      "state": {
       "description_width": ""
      }
     },
     "e040360c73984dd58d71b3ba4e187ff7": {
      "model_module": "@jupyter-widgets/controls",
      "model_module_version": "1.5.0",
      "model_name": "FloatProgressModel",
      "state": {
       "bar_style": "danger",
       "layout": "IPY_MODEL_605da3f6526445f28e01fc16d79cb4cf",
       "max": 700,
       "style": "IPY_MODEL_fc7e4b0306d541dd8e8b159ee28585d8"
      }
     },
     "e046cc37c35b4040805498020394b369": {
      "model_module": "@jupyter-widgets/controls",
      "model_module_version": "1.5.0",
      "model_name": "DescriptionStyleModel",
      "state": {
       "description_width": ""
      }
     },
     "e056d812ac0d401382f42bc54f72e509": {
      "model_module": "@jupyter-widgets/base",
      "model_module_version": "1.2.0",
      "model_name": "LayoutModel",
      "state": {}
     },
     "e09b062e5f704839bfb4d7d56c3310b9": {
      "model_module": "@jupyter-widgets/base",
      "model_module_version": "1.2.0",
      "model_name": "LayoutModel",
      "state": {}
     },
     "e0b0969f329644ed828d1cd01ba5f3a2": {
      "model_module": "@jupyter-widgets/base",
      "model_module_version": "1.2.0",
      "model_name": "LayoutModel",
      "state": {}
     },
     "e0d96d27945a4805a04027797931375a": {
      "model_module": "@jupyter-widgets/controls",
      "model_module_version": "1.5.0",
      "model_name": "DescriptionStyleModel",
      "state": {
       "description_width": ""
      }
     },
     "e0fa1febd5264e1a999a7a092d2d6aab": {
      "model_module": "@jupyter-widgets/controls",
      "model_module_version": "1.5.0",
      "model_name": "DescriptionStyleModel",
      "state": {
       "description_width": ""
      }
     },
     "e103dd8eee4248c58283d7cc23fe9457": {
      "model_module": "@jupyter-widgets/base",
      "model_module_version": "1.2.0",
      "model_name": "LayoutModel",
      "state": {}
     },
     "e14a62e1f0df4ad7881879ed53e65058": {
      "model_module": "@jupyter-widgets/base",
      "model_module_version": "1.2.0",
      "model_name": "LayoutModel",
      "state": {}
     },
     "e16383a321f14cb1a388b12a805a5fa8": {
      "model_module": "@jupyter-widgets/controls",
      "model_module_version": "1.5.0",
      "model_name": "FloatProgressModel",
      "state": {
       "bar_style": "success",
       "layout": "IPY_MODEL_e14a62e1f0df4ad7881879ed53e65058",
       "max": 289,
       "style": "IPY_MODEL_9cb533bc2f504a60aae3d5eedd0e9af8",
       "value": 289
      }
     },
     "e175845ad0114afbb45cc6e36083bc7a": {
      "model_module": "@jupyter-widgets/controls",
      "model_module_version": "1.5.0",
      "model_name": "HBoxModel",
      "state": {
       "children": [
        "IPY_MODEL_cd9709d923184b22bd0f3bb48155bffe",
        "IPY_MODEL_b46a5d9c4b9b4e6d8664f71b9f51b365",
        "IPY_MODEL_b1cbc9bf6608476f980b0b2cad82d541"
       ],
       "layout": "IPY_MODEL_4d3c7042617744f1954b7fd9c0c41662"
      }
     },
     "e256a5adeae644b48de71e2727cb363b": {
      "model_module": "@jupyter-widgets/base",
      "model_module_version": "1.2.0",
      "model_name": "LayoutModel",
      "state": {}
     },
     "e2c9ace22b7b40fc89f27d22c2e2de66": {
      "model_module": "@jupyter-widgets/base",
      "model_module_version": "1.2.0",
      "model_name": "LayoutModel",
      "state": {}
     },
     "e2ee5c144f284eeeb9aee6e67a6def7c": {
      "model_module": "@jupyter-widgets/base",
      "model_module_version": "1.2.0",
      "model_name": "LayoutModel",
      "state": {}
     },
     "e33f481e9f1d4059a1e90438e96104c0": {
      "model_module": "@jupyter-widgets/controls",
      "model_module_version": "1.5.0",
      "model_name": "DescriptionStyleModel",
      "state": {
       "description_width": ""
      }
     },
     "e343dbbcb5994ccd88ea24504f010a83": {
      "model_module": "@jupyter-widgets/controls",
      "model_module_version": "1.5.0",
      "model_name": "DescriptionStyleModel",
      "state": {
       "description_width": ""
      }
     },
     "e384848e80d6495abde6f02622972a13": {
      "model_module": "@jupyter-widgets/base",
      "model_module_version": "1.2.0",
      "model_name": "LayoutModel",
      "state": {}
     },
     "e3a0bca492824f97afd2b4b8a96473b4": {
      "model_module": "@jupyter-widgets/controls",
      "model_module_version": "1.5.0",
      "model_name": "HTMLModel",
      "state": {
       "layout": "IPY_MODEL_5318f93f032547198ae049fb3562f3e6",
       "style": "IPY_MODEL_b99242a57009476d9d4b3906a7752cb3",
       "value": " 373/373 [03:14&lt;00:00,  1.47it/s]"
      }
     },
     "e3ad3fe92b6040ecb676e04877b5bc00": {
      "model_module": "@jupyter-widgets/base",
      "model_module_version": "1.2.0",
      "model_name": "LayoutModel",
      "state": {}
     },
     "e3bc710c4615404c9f0a5f4358368246": {
      "model_module": "@jupyter-widgets/controls",
      "model_module_version": "1.5.0",
      "model_name": "HTMLModel",
      "state": {
       "layout": "IPY_MODEL_6694573ef86040198ef86aa4baa5b262",
       "style": "IPY_MODEL_2c30e2e4a81d41ec92f454f09141b64b",
       "value": " 336/336 [03:21&lt;00:00,  1.15s/it]"
      }
     },
     "e40d0efb3d524632bd9c94e6595d7c00": {
      "model_module": "@jupyter-widgets/controls",
      "model_module_version": "1.5.0",
      "model_name": "HTMLModel",
      "state": {
       "layout": "IPY_MODEL_e256a5adeae644b48de71e2727cb363b",
       "style": "IPY_MODEL_8cb5d286b895441090fc10e5fd726054",
       "value": " 294/294 [02:13&lt;00:00,  3.18it/s]"
      }
     },
     "e438a97b209a45f4a1a3918eb756d89b": {
      "model_module": "@jupyter-widgets/controls",
      "model_module_version": "1.5.0",
      "model_name": "ProgressStyleModel",
      "state": {
       "description_width": ""
      }
     },
     "e4824d4654094e87966a4f33bac0ec41": {
      "model_module": "@jupyter-widgets/controls",
      "model_module_version": "1.5.0",
      "model_name": "DescriptionStyleModel",
      "state": {
       "description_width": ""
      }
     },
     "e4ba5494f69540e5a4b925cf7f6562e3": {
      "model_module": "@jupyter-widgets/controls",
      "model_module_version": "1.5.0",
      "model_name": "HTMLModel",
      "state": {
       "layout": "IPY_MODEL_92389e642ddc4f55b23c6fee42c661fd",
       "style": "IPY_MODEL_c5bd15788d174cbd8f7ef269f80abcd6",
       "value": " 284/284 [02:12&lt;00:00,  1.51it/s]"
      }
     },
     "e4d77b6baf304318aa5cb61381702231": {
      "model_module": "@jupyter-widgets/base",
      "model_module_version": "1.2.0",
      "model_name": "LayoutModel",
      "state": {}
     },
     "e51ec62d43ce460bb8a9b90d8da2e0e4": {
      "model_module": "@jupyter-widgets/controls",
      "model_module_version": "1.5.0",
      "model_name": "FloatProgressModel",
      "state": {
       "bar_style": "success",
       "layout": "IPY_MODEL_209c871e917d475088292a5e1b11578b",
       "max": 289,
       "style": "IPY_MODEL_74c1891cf7fe4b81941fc7b9150d10f3",
       "value": 289
      }
     },
     "e54904eeacd04468a61dc318a9197d72": {
      "model_module": "@jupyter-widgets/controls",
      "model_module_version": "1.5.0",
      "model_name": "FloatProgressModel",
      "state": {
       "bar_style": "success",
       "layout": "IPY_MODEL_4402d99d7157488b92132de0c8ca035f",
       "max": 309,
       "style": "IPY_MODEL_ba395c3b97354c3789b7b86c7210b79e",
       "value": 309
      }
     },
     "e579ac58be61472b98129dcd7fdd1390": {
      "model_module": "@jupyter-widgets/controls",
      "model_module_version": "1.5.0",
      "model_name": "DescriptionStyleModel",
      "state": {
       "description_width": ""
      }
     },
     "e5cc004ce9ce47b09d368ed7f15a6489": {
      "model_module": "@jupyter-widgets/controls",
      "model_module_version": "1.5.0",
      "model_name": "HTMLModel",
      "state": {
       "layout": "IPY_MODEL_fde65f8d6d5d4c57a5bcd290f94033a3",
       "style": "IPY_MODEL_d6206b9c6c1847caaab2594ce527c1f7",
       "value": " 228/228 [02:11&lt;00:00,  1.46it/s]"
      }
     },
     "e638acd9034445bbadf77c06a8838e3d": {
      "model_module": "@jupyter-widgets/base",
      "model_module_version": "1.2.0",
      "model_name": "LayoutModel",
      "state": {}
     },
     "e69fbafdf1494627992671be6dc3a497": {
      "model_module": "@jupyter-widgets/controls",
      "model_module_version": "1.5.0",
      "model_name": "DescriptionStyleModel",
      "state": {
       "description_width": ""
      }
     },
     "e6a2c0d1fca0451b8b5711f24b0060cf": {
      "model_module": "@jupyter-widgets/controls",
      "model_module_version": "1.5.0",
      "model_name": "HTMLModel",
      "state": {
       "layout": "IPY_MODEL_d1f6b50202364131a4571b98aa0ca55b",
       "style": "IPY_MODEL_2904b912037e489995163cc361ad3f1b",
       "value": "100%"
      }
     },
     "e6f6d75822f04370920da22e96f2b266": {
      "model_module": "@jupyter-widgets/controls",
      "model_module_version": "1.5.0",
      "model_name": "HTMLModel",
      "state": {
       "layout": "IPY_MODEL_19d86043cb214cebbd990a23e7d2f5e4",
       "style": "IPY_MODEL_35ae7bcd56914e47b5b3bba30585537b",
       "value": "  0%"
      }
     },
     "e720f560db2f4d32b970ff5827c58207": {
      "model_module": "@jupyter-widgets/controls",
      "model_module_version": "1.5.0",
      "model_name": "DescriptionStyleModel",
      "state": {
       "description_width": ""
      }
     },
     "e75a00a6d764422781c338d1824f6846": {
      "model_module": "@jupyter-widgets/base",
      "model_module_version": "1.2.0",
      "model_name": "LayoutModel",
      "state": {}
     },
     "e7ac896b58a84dca90a30b3451e44c5f": {
      "model_module": "@jupyter-widgets/controls",
      "model_module_version": "1.5.0",
      "model_name": "HBoxModel",
      "state": {
       "children": [
        "IPY_MODEL_4edf4f3e5aca4d85b30d0768523d0400",
        "IPY_MODEL_317fafec996441a39663746c4e798ccc",
        "IPY_MODEL_208e0a6e84fb4fc9aa05ee6ba8e22f32"
       ],
       "layout": "IPY_MODEL_f6eb90050bed4c0d811ab5aea6111784"
      }
     },
     "e7b9ad8070f149e981afe0a01da60e70": {
      "model_module": "@jupyter-widgets/controls",
      "model_module_version": "1.5.0",
      "model_name": "DescriptionStyleModel",
      "state": {
       "description_width": ""
      }
     },
     "e7cba728c996487880713e6ee8910d48": {
      "model_module": "@jupyter-widgets/controls",
      "model_module_version": "1.5.0",
      "model_name": "HBoxModel",
      "state": {
       "children": [
        "IPY_MODEL_e97b6914895c43ec9fb761c3bbd8ee3e",
        "IPY_MODEL_d6367be8f12345c0b751001f077b956c",
        "IPY_MODEL_0ace34e6f1454cb29c192fdf445c2f35"
       ],
       "layout": "IPY_MODEL_0b948b0704d74641b192f2d7dc492ed7"
      }
     },
     "e831767e69f043b1835ff7dc1aa604a6": {
      "model_module": "@jupyter-widgets/controls",
      "model_module_version": "1.5.0",
      "model_name": "HBoxModel",
      "state": {
       "children": [
        "IPY_MODEL_438528302ae643168b54bbc0a5a1489d",
        "IPY_MODEL_cfb83af189734366b4af5753b919daf8",
        "IPY_MODEL_9b2ab84cbf7d4d828644a8eb518d8fa8"
       ],
       "layout": "IPY_MODEL_0923b26d38fd4f4b9a36bac3b4b7a2ec"
      }
     },
     "e85e26718b944892a1c2cf8b86a4ac69": {
      "model_module": "@jupyter-widgets/base",
      "model_module_version": "1.2.0",
      "model_name": "LayoutModel",
      "state": {}
     },
     "e8615573846842c0bea1fede645a1b97": {
      "model_module": "@jupyter-widgets/controls",
      "model_module_version": "1.5.0",
      "model_name": "DescriptionStyleModel",
      "state": {
       "description_width": ""
      }
     },
     "e96b40da0fc149709a1065f0fee7252c": {
      "model_module": "@jupyter-widgets/base",
      "model_module_version": "1.2.0",
      "model_name": "LayoutModel",
      "state": {}
     },
     "e97b6914895c43ec9fb761c3bbd8ee3e": {
      "model_module": "@jupyter-widgets/controls",
      "model_module_version": "1.5.0",
      "model_name": "HTMLModel",
      "state": {
       "layout": "IPY_MODEL_d1dd397126fe4293ba86cd575eb6c387",
       "style": "IPY_MODEL_403da114486b4054b5cd3abf8df27611",
       "value": "100%"
      }
     },
     "e9b9924c50a84a75bb96dc4d42986b87": {
      "model_module": "@jupyter-widgets/base",
      "model_module_version": "1.2.0",
      "model_name": "LayoutModel",
      "state": {}
     },
     "e9d8446354b1406191f12b10fbf72997": {
      "model_module": "@jupyter-widgets/controls",
      "model_module_version": "1.5.0",
      "model_name": "HBoxModel",
      "state": {
       "children": [
        "IPY_MODEL_2772ec00d9bd46b997ebd0d408ff0019",
        "IPY_MODEL_2fe1f3f3c47a4ba0b0b580d8f45cc550",
        "IPY_MODEL_7a8072b5b2b04003b3a8f4507dc5dc8a"
       ],
       "layout": "IPY_MODEL_311fae6591294a0e86e008ce55acd597"
      }
     },
     "e9e3977afe544b878b10a69715a07fda": {
      "model_module": "@jupyter-widgets/controls",
      "model_module_version": "1.5.0",
      "model_name": "ProgressStyleModel",
      "state": {
       "description_width": ""
      }
     },
     "ea06262a58ce428a81040f9ba6528d65": {
      "model_module": "@jupyter-widgets/base",
      "model_module_version": "1.2.0",
      "model_name": "LayoutModel",
      "state": {}
     },
     "ea2547620be24ceabe9daef3b53b4c69": {
      "model_module": "@jupyter-widgets/controls",
      "model_module_version": "1.5.0",
      "model_name": "DescriptionStyleModel",
      "state": {
       "description_width": ""
      }
     },
     "ea3a6993cacc4234993c2c4dee659861": {
      "model_module": "@jupyter-widgets/base",
      "model_module_version": "1.2.0",
      "model_name": "LayoutModel",
      "state": {}
     },
     "ea3ac11734b14444adb145951ce5c0e2": {
      "model_module": "@jupyter-widgets/base",
      "model_module_version": "1.2.0",
      "model_name": "LayoutModel",
      "state": {}
     },
     "eb002137adeb4a3a97463d798713241b": {
      "model_module": "@jupyter-widgets/controls",
      "model_module_version": "1.5.0",
      "model_name": "HBoxModel",
      "state": {
       "children": [
        "IPY_MODEL_c1aa2d33425340e5a052e6ac91b78a01",
        "IPY_MODEL_c466f15bec1844daaa39893887edd89c",
        "IPY_MODEL_316abe84efe246328fb1477da3d155cf"
       ],
       "layout": "IPY_MODEL_7cc9119319ba486a89f81a02f6754fb3"
      }
     },
     "eb5cd9dd1df748f496ca9a0c5f75aec0": {
      "model_module": "@jupyter-widgets/controls",
      "model_module_version": "1.5.0",
      "model_name": "HTMLModel",
      "state": {
       "layout": "IPY_MODEL_b4fc2843d1964f8c8e458a0410304d32",
       "style": "IPY_MODEL_5db44698662d47ab873c48ed7c455c4f",
       "value": " 2672/2672 [48:56&lt;00:00,  2.57it/s]"
      }
     },
     "eb9218d12aa7478293a3fd943974a59d": {
      "model_module": "@jupyter-widgets/controls",
      "model_module_version": "1.5.0",
      "model_name": "HTMLModel",
      "state": {
       "layout": "IPY_MODEL_715f4e8c9f284c64894e4a7c8f493c88",
       "style": "IPY_MODEL_aaa6a8e49cbc4d268d461c2ba5dce107",
       "value": "100%"
      }
     },
     "ebb8d27fb4a0411aadb4929274ff66fb": {
      "model_module": "@jupyter-widgets/controls",
      "model_module_version": "1.5.0",
      "model_name": "HBoxModel",
      "state": {
       "children": [
        "IPY_MODEL_603bf296ae6d474bb510763dc40c7c63",
        "IPY_MODEL_59d39cdad0de4ff29fc8f02d2f92b061",
        "IPY_MODEL_0aa55aea1b3d40a3a9a6458e4f7e70c0"
       ],
       "layout": "IPY_MODEL_ffdc1e9faa1748258dc946860996af07"
      }
     },
     "ec4dac24669a4effbbfc561bcfd16291": {
      "model_module": "@jupyter-widgets/controls",
      "model_module_version": "1.5.0",
      "model_name": "DescriptionStyleModel",
      "state": {
       "description_width": ""
      }
     },
     "ec512afc383a4edb92d67541bff7b8d4": {
      "model_module": "@jupyter-widgets/controls",
      "model_module_version": "1.5.0",
      "model_name": "HTMLModel",
      "state": {
       "layout": "IPY_MODEL_c162ce5e9fa340dd9ec9c504e95af7c8",
       "style": "IPY_MODEL_e69fbafdf1494627992671be6dc3a497",
       "value": "100%"
      }
     },
     "ec8e7ff7f4da4ef2a9ed9ddab6e1cae9": {
      "model_module": "@jupyter-widgets/controls",
      "model_module_version": "1.5.0",
      "model_name": "DescriptionStyleModel",
      "state": {
       "description_width": ""
      }
     },
     "eca5c882ee80408683254e303e9b9524": {
      "model_module": "@jupyter-widgets/controls",
      "model_module_version": "1.5.0",
      "model_name": "HTMLModel",
      "state": {
       "layout": "IPY_MODEL_186ce644f15f4e969c138b7ed87fc7cb",
       "style": "IPY_MODEL_9005599afd954edc8d735826a019adcb",
       "value": "100%"
      }
     },
     "eca99013585241cea617a8ae53c50c97": {
      "model_module": "@jupyter-widgets/controls",
      "model_module_version": "1.5.0",
      "model_name": "HTMLModel",
      "state": {
       "layout": "IPY_MODEL_a749096a3c944e698edfc94382b2a9ff",
       "style": "IPY_MODEL_c350c46e65874b56851868b41dd2d590",
       "value": " 228/228 [01:53&lt;00:00,  1.03s/it]"
      }
     },
     "ecbd1213225344c7a6ecd416d747e9e8": {
      "model_module": "@jupyter-widgets/controls",
      "model_module_version": "1.5.0",
      "model_name": "DescriptionStyleModel",
      "state": {
       "description_width": ""
      }
     },
     "ece2b1defb884c2db39f2672351f7ec9": {
      "model_module": "@jupyter-widgets/controls",
      "model_module_version": "1.5.0",
      "model_name": "DescriptionStyleModel",
      "state": {
       "description_width": ""
      }
     },
     "ed10f7550dcd47d3a9e09ad1a8d8d0bb": {
      "model_module": "@jupyter-widgets/controls",
      "model_module_version": "1.5.0",
      "model_name": "DescriptionStyleModel",
      "state": {
       "description_width": ""
      }
     },
     "ed228cce670a47a4ab404625468c3349": {
      "model_module": "@jupyter-widgets/controls",
      "model_module_version": "1.5.0",
      "model_name": "DescriptionStyleModel",
      "state": {
       "description_width": ""
      }
     },
     "ed2cbb50228e4ed18c4aebdfc7b3385b": {
      "model_module": "@jupyter-widgets/base",
      "model_module_version": "1.2.0",
      "model_name": "LayoutModel",
      "state": {}
     },
     "ed538b90fdd0473b9e7b9c663bb6860d": {
      "model_module": "@jupyter-widgets/controls",
      "model_module_version": "1.5.0",
      "model_name": "DescriptionStyleModel",
      "state": {
       "description_width": ""
      }
     },
     "edb7b9a9b0cd4b4e8decb13e3e6420ca": {
      "model_module": "@jupyter-widgets/controls",
      "model_module_version": "1.5.0",
      "model_name": "HBoxModel",
      "state": {
       "children": [
        "IPY_MODEL_5a515530b3fb402eab6782e20eba63e3",
        "IPY_MODEL_41855a432e1e4938a8573d783133ce6a",
        "IPY_MODEL_8f95429407794b5088b7e85dc0674c20"
       ],
       "layout": "IPY_MODEL_2b54bf5a9db44fc993e32b6961264705"
      }
     },
     "ee2bbd8951554493b22a4769d526381a": {
      "model_module": "@jupyter-widgets/controls",
      "model_module_version": "1.5.0",
      "model_name": "HBoxModel",
      "state": {
       "children": [
        "IPY_MODEL_5e5b0bf8e083442ca9d40e10d21a8f42",
        "IPY_MODEL_01b40bd1f2bf476583eff7b4c88f9acb",
        "IPY_MODEL_828d4713c7d44ac7999bc3afb59e1275"
       ],
       "layout": "IPY_MODEL_3d9c6770f9de41ae9f45c3ac414b61ee"
      }
     },
     "ee31c795233d478aa260fabfdd3bb397": {
      "model_module": "@jupyter-widgets/controls",
      "model_module_version": "1.5.0",
      "model_name": "HTMLModel",
      "state": {
       "layout": "IPY_MODEL_dc6dadb5bcd14166b91492bc4f5f208e",
       "style": "IPY_MODEL_c635a11fc6224f158350798f337a58f3",
       "value": " 228/228 [02:10&lt;00:00,  1.48it/s]"
      }
     },
     "ee8d01f80ea54d9f8bf610905e66906c": {
      "model_module": "@jupyter-widgets/controls",
      "model_module_version": "1.5.0",
      "model_name": "FloatProgressModel",
      "state": {
       "bar_style": "success",
       "layout": "IPY_MODEL_2642a5c8b0c7401eb455f1659f15bb4c",
       "max": 811,
       "style": "IPY_MODEL_6c6ce12d353d43dcb599cf59e7a09c80",
       "value": 811
      }
     },
     "ee99eae9ecf541019884bf3656f39619": {
      "model_module": "@jupyter-widgets/controls",
      "model_module_version": "1.5.0",
      "model_name": "HTMLModel",
      "state": {
       "layout": "IPY_MODEL_36e529bee56049a8b53594774d6ba6f9",
       "style": "IPY_MODEL_1f14ed96718f43a9b7da7ed50d119af9",
       "value": "100%"
      }
     },
     "ef16952a49c8449589254979af980bb5": {
      "model_module": "@jupyter-widgets/base",
      "model_module_version": "1.2.0",
      "model_name": "LayoutModel",
      "state": {}
     },
     "ef7d606b1e2f421f80815200cd9fe976": {
      "model_module": "@jupyter-widgets/base",
      "model_module_version": "1.2.0",
      "model_name": "LayoutModel",
      "state": {}
     },
     "ef85e6134a0c40d78de68411d62287bb": {
      "model_module": "@jupyter-widgets/base",
      "model_module_version": "1.2.0",
      "model_name": "LayoutModel",
      "state": {}
     },
     "eff20e7084fd4b98b34805ac7c5d674e": {
      "model_module": "@jupyter-widgets/base",
      "model_module_version": "1.2.0",
      "model_name": "LayoutModel",
      "state": {}
     },
     "f0026003ede6459cb3a3d00d35581ce2": {
      "model_module": "@jupyter-widgets/base",
      "model_module_version": "1.2.0",
      "model_name": "LayoutModel",
      "state": {}
     },
     "f0bec105372b474abfcef15bf031a82b": {
      "model_module": "@jupyter-widgets/base",
      "model_module_version": "1.2.0",
      "model_name": "LayoutModel",
      "state": {}
     },
     "f10b1a94e6c24e2f83d8bbdf8f82c6cf": {
      "model_module": "@jupyter-widgets/controls",
      "model_module_version": "1.5.0",
      "model_name": "DescriptionStyleModel",
      "state": {
       "description_width": ""
      }
     },
     "f13885b167f3428c946c43bf188b7925": {
      "model_module": "@jupyter-widgets/controls",
      "model_module_version": "1.5.0",
      "model_name": "ProgressStyleModel",
      "state": {
       "description_width": ""
      }
     },
     "f1fcd12258b6454286dc221df3f6aeed": {
      "model_module": "@jupyter-widgets/controls",
      "model_module_version": "1.5.0",
      "model_name": "ProgressStyleModel",
      "state": {
       "description_width": ""
      }
     },
     "f2209116bbd9444da801679691e317ad": {
      "model_module": "@jupyter-widgets/base",
      "model_module_version": "1.2.0",
      "model_name": "LayoutModel",
      "state": {}
     },
     "f256136a56d54fab9f8cf5a94023a07a": {
      "model_module": "@jupyter-widgets/base",
      "model_module_version": "1.2.0",
      "model_name": "LayoutModel",
      "state": {}
     },
     "f2b03650dbfe4bf894b7aefee592304b": {
      "model_module": "@jupyter-widgets/base",
      "model_module_version": "1.2.0",
      "model_name": "LayoutModel",
      "state": {}
     },
     "f2b5689ce2f8424b89622464e39743e9": {
      "model_module": "@jupyter-widgets/controls",
      "model_module_version": "1.5.0",
      "model_name": "FloatProgressModel",
      "state": {
       "bar_style": "success",
       "layout": "IPY_MODEL_ddf97dfea57a459985e82e9c4c6d88a2",
       "max": 6447,
       "style": "IPY_MODEL_869e279ce06145259a3e911283f3e5b3",
       "value": 6447
      }
     },
     "f2ec9854aba9444fb0d84c6f7009b13d": {
      "model_module": "@jupyter-widgets/controls",
      "model_module_version": "1.5.0",
      "model_name": "ProgressStyleModel",
      "state": {
       "description_width": ""
      }
     },
     "f351df3fcafe4f5fa47105fd4e7c357e": {
      "model_module": "@jupyter-widgets/base",
      "model_module_version": "1.2.0",
      "model_name": "LayoutModel",
      "state": {}
     },
     "f3a7d16cc6cd4bb1b92a3262a75dd0b1": {
      "model_module": "@jupyter-widgets/controls",
      "model_module_version": "1.5.0",
      "model_name": "FloatProgressModel",
      "state": {
       "bar_style": "success",
       "layout": "IPY_MODEL_636e6fdf6122472f9b06c6e56084ddce",
       "max": 554,
       "style": "IPY_MODEL_7825f515812b44c79f7d34aa94a57eb4",
       "value": 554
      }
     },
     "f3d62a9806e44c15ae11530661856aef": {
      "model_module": "@jupyter-widgets/controls",
      "model_module_version": "1.5.0",
      "model_name": "ProgressStyleModel",
      "state": {
       "description_width": ""
      }
     },
     "f4394488619344218bf03283f2e4ac91": {
      "model_module": "@jupyter-widgets/controls",
      "model_module_version": "1.5.0",
      "model_name": "HTMLModel",
      "state": {
       "layout": "IPY_MODEL_bcc292517a3b4167a90804c94c771e3d",
       "style": "IPY_MODEL_9a82daab96e34d7a8954d95cf4440770",
       "value": "100%"
      }
     },
     "f46426e6cae74f8a888d1aaa1b6cbb69": {
      "model_module": "@jupyter-widgets/controls",
      "model_module_version": "1.5.0",
      "model_name": "FloatProgressModel",
      "state": {
       "bar_style": "success",
       "layout": "IPY_MODEL_55fbf4b790e54062b6b25ef05d7e416d",
       "max": 423,
       "style": "IPY_MODEL_3dc8d146d26e477b82d325c0e3b9c75a",
       "value": 423
      }
     },
     "f58a93d0e5094b959b33e875f4a2e422": {
      "model_module": "@jupyter-widgets/controls",
      "model_module_version": "1.5.0",
      "model_name": "HTMLModel",
      "state": {
       "layout": "IPY_MODEL_36662abe3f744d61af340bf6e0ed9453",
       "style": "IPY_MODEL_f9eb008a41b74268a58dba5e50dc06e6",
       "value": "100%"
      }
     },
     "f6153623eec5401e81ae7a11969a8fda": {
      "model_module": "@jupyter-widgets/controls",
      "model_module_version": "1.5.0",
      "model_name": "HBoxModel",
      "state": {
       "children": [
        "IPY_MODEL_eca5c882ee80408683254e303e9b9524",
        "IPY_MODEL_8ea8a269e53c493e8fd1db3a38664b1c",
        "IPY_MODEL_b5050c5734dc479bb8d4f811eb3b2e20"
       ],
       "layout": "IPY_MODEL_0b715425faf9449280d6ef09f6c0c4fb"
      }
     },
     "f62df6dd1a3845cd9be796b0297ff4d5": {
      "model_module": "@jupyter-widgets/base",
      "model_module_version": "1.2.0",
      "model_name": "LayoutModel",
      "state": {}
     },
     "f67e856b76274b8ea5f5dc2b7d48f6bb": {
      "model_module": "@jupyter-widgets/base",
      "model_module_version": "1.2.0",
      "model_name": "LayoutModel",
      "state": {}
     },
     "f694816343494badb308f2fe63ba383d": {
      "model_module": "@jupyter-widgets/base",
      "model_module_version": "1.2.0",
      "model_name": "LayoutModel",
      "state": {}
     },
     "f6be9ac7c6514241858fed37be323e44": {
      "model_module": "@jupyter-widgets/controls",
      "model_module_version": "1.5.0",
      "model_name": "HTMLModel",
      "state": {
       "layout": "IPY_MODEL_468d8ad48ed148f7b56e41f710601d99",
       "style": "IPY_MODEL_6c6277be6feb41b281f9a8bf3c245713",
       "value": "100%"
      }
     },
     "f6c0926ad80342399c6ae3227b945330": {
      "model_module": "@jupyter-widgets/base",
      "model_module_version": "1.2.0",
      "model_name": "LayoutModel",
      "state": {}
     },
     "f6eb90050bed4c0d811ab5aea6111784": {
      "model_module": "@jupyter-widgets/base",
      "model_module_version": "1.2.0",
      "model_name": "LayoutModel",
      "state": {}
     },
     "f72b8cdbf8f74c6a88d31873b6e2e5b8": {
      "model_module": "@jupyter-widgets/controls",
      "model_module_version": "1.5.0",
      "model_name": "FloatProgressModel",
      "state": {
       "bar_style": "success",
       "layout": "IPY_MODEL_8342600be5e24608b678cb81369a30a8",
       "max": 6447,
       "style": "IPY_MODEL_7b6bd766fef04a7d9f4457b85d5ec62a",
       "value": 6447
      }
     },
     "f72e58e1f0b24d7790d2ab8773ad2060": {
      "model_module": "@jupyter-widgets/base",
      "model_module_version": "1.2.0",
      "model_name": "LayoutModel",
      "state": {}
     },
     "f78213380fd148408331d5c739d7ccf1": {
      "model_module": "@jupyter-widgets/controls",
      "model_module_version": "1.5.0",
      "model_name": "DescriptionStyleModel",
      "state": {
       "description_width": ""
      }
     },
     "f786b3e58e9146848857be657ac3ea73": {
      "model_module": "@jupyter-widgets/base",
      "model_module_version": "1.2.0",
      "model_name": "LayoutModel",
      "state": {}
     },
     "f7e49077fb8d4538b91bece38eb1c37f": {
      "model_module": "@jupyter-widgets/controls",
      "model_module_version": "1.5.0",
      "model_name": "HTMLModel",
      "state": {
       "layout": "IPY_MODEL_8faa8463a2bc4cfb9d12a624ddd62ce0",
       "style": "IPY_MODEL_0dd2646f114a4f04bcbf426b7a087c05",
       "value": " 1095/1095 [14:55&lt;00:00,  4.56it/s]"
      }
     },
     "f802dcf9e68246a5b74689cd8b8d836c": {
      "model_module": "@jupyter-widgets/base",
      "model_module_version": "1.2.0",
      "model_name": "LayoutModel",
      "state": {}
     },
     "f85a2259e9f04690ab35088c83a02d72": {
      "model_module": "@jupyter-widgets/controls",
      "model_module_version": "1.5.0",
      "model_name": "FloatProgressModel",
      "state": {
       "bar_style": "success",
       "layout": "IPY_MODEL_fc887020d2ea45ed8931dde04bfef4fb",
       "max": 284,
       "style": "IPY_MODEL_5ecd9e50eeb04664b9596819a39045b8",
       "value": 284
      }
     },
     "f8ef35eefd1944578e23ca45ff280261": {
      "model_module": "@jupyter-widgets/controls",
      "model_module_version": "1.5.0",
      "model_name": "FloatProgressModel",
      "state": {
       "bar_style": "success",
       "layout": "IPY_MODEL_b2538a16040748ad92985cfa2f0741b9",
       "max": 366,
       "style": "IPY_MODEL_8a6a9e65ca4d46198ba60b77a8d7951d",
       "value": 366
      }
     },
     "f9754a52cf8e420d8331c478984ce5db": {
      "model_module": "@jupyter-widgets/base",
      "model_module_version": "1.2.0",
      "model_name": "LayoutModel",
      "state": {}
     },
     "f9821d6f67334717b785be564609ad89": {
      "model_module": "@jupyter-widgets/base",
      "model_module_version": "1.2.0",
      "model_name": "LayoutModel",
      "state": {}
     },
     "f9a5ad82132e437f8dcbfb350bab9f85": {
      "model_module": "@jupyter-widgets/controls",
      "model_module_version": "1.5.0",
      "model_name": "DescriptionStyleModel",
      "state": {
       "description_width": ""
      }
     },
     "f9ea62a2c362464f9d9b2e92e02cc56e": {
      "model_module": "@jupyter-widgets/base",
      "model_module_version": "1.2.0",
      "model_name": "LayoutModel",
      "state": {}
     },
     "f9eb008a41b74268a58dba5e50dc06e6": {
      "model_module": "@jupyter-widgets/controls",
      "model_module_version": "1.5.0",
      "model_name": "DescriptionStyleModel",
      "state": {
       "description_width": ""
      }
     },
     "fa13abfab3bd4c4eb4e7991312319c98": {
      "model_module": "@jupyter-widgets/base",
      "model_module_version": "1.2.0",
      "model_name": "LayoutModel",
      "state": {}
     },
     "fa1a8959e34a4301aa03f74c876f7a61": {
      "model_module": "@jupyter-widgets/controls",
      "model_module_version": "1.5.0",
      "model_name": "HTMLModel",
      "state": {
       "layout": "IPY_MODEL_bce63bc144ec4cc78876182321cdf1ef",
       "style": "IPY_MODEL_6ef1f0bddcf24d3ebfc83fc090ba6348",
       "value": "100%"
      }
     },
     "fabbd29a1f7445d6a6f2602c1ea4d813": {
      "model_module": "@jupyter-widgets/base",
      "model_module_version": "1.2.0",
      "model_name": "LayoutModel",
      "state": {}
     },
     "fb0663eb01e843c9b49ecfd3ecb61ffd": {
      "model_module": "@jupyter-widgets/base",
      "model_module_version": "1.2.0",
      "model_name": "LayoutModel",
      "state": {}
     },
     "fb0ff80106344cc6bf50146795b216ab": {
      "model_module": "@jupyter-widgets/controls",
      "model_module_version": "1.5.0",
      "model_name": "HTMLModel",
      "state": {
       "layout": "IPY_MODEL_c8179567a4574f0ea7f9c6a0479a1a17",
       "style": "IPY_MODEL_d352431371714cd9b92918d71244af13",
       "value": "100%"
      }
     },
     "fb2ead999d4741559b0afe20c976ccd5": {
      "model_module": "@jupyter-widgets/controls",
      "model_module_version": "1.5.0",
      "model_name": "HBoxModel",
      "state": {
       "children": [
        "IPY_MODEL_d80919cf1c5b43908e19ce3ee8ac08fe",
        "IPY_MODEL_5ec59347561f44b0b9c222b506673422",
        "IPY_MODEL_007b04b02d7d44c9af526d356c983493"
       ],
       "layout": "IPY_MODEL_035262e357544fc5834cb593d9de7f70"
      }
     },
     "fb64b9cc326748ffa09f3357134e3bbb": {
      "model_module": "@jupyter-widgets/controls",
      "model_module_version": "1.5.0",
      "model_name": "ProgressStyleModel",
      "state": {
       "description_width": ""
      }
     },
     "fb7cbc3bdff04db4bddffc4ff54acd44": {
      "model_module": "@jupyter-widgets/base",
      "model_module_version": "1.2.0",
      "model_name": "LayoutModel",
      "state": {}
     },
     "fb93101410cf47eb97e07149698345e4": {
      "model_module": "@jupyter-widgets/base",
      "model_module_version": "1.2.0",
      "model_name": "LayoutModel",
      "state": {}
     },
     "fbcce3ca5d8b4fb5b533926fa9d67543": {
      "model_module": "@jupyter-widgets/base",
      "model_module_version": "1.2.0",
      "model_name": "LayoutModel",
      "state": {}
     },
     "fbe87b2127234fc9b8c4c374de5d270c": {
      "model_module": "@jupyter-widgets/base",
      "model_module_version": "1.2.0",
      "model_name": "LayoutModel",
      "state": {}
     },
     "fc1df8d72cf44206871e3ac896577ca9": {
      "model_module": "@jupyter-widgets/controls",
      "model_module_version": "1.5.0",
      "model_name": "DescriptionStyleModel",
      "state": {
       "description_width": ""
      }
     },
     "fc244aeecab043efb3eac6036d9c2dea": {
      "model_module": "@jupyter-widgets/controls",
      "model_module_version": "1.5.0",
      "model_name": "DescriptionStyleModel",
      "state": {
       "description_width": ""
      }
     },
     "fc7e4b0306d541dd8e8b159ee28585d8": {
      "model_module": "@jupyter-widgets/controls",
      "model_module_version": "1.5.0",
      "model_name": "ProgressStyleModel",
      "state": {
       "description_width": ""
      }
     },
     "fc7fc0bb824940719ba7ffedd8cc7b7b": {
      "model_module": "@jupyter-widgets/base",
      "model_module_version": "1.2.0",
      "model_name": "LayoutModel",
      "state": {}
     },
     "fc887020d2ea45ed8931dde04bfef4fb": {
      "model_module": "@jupyter-widgets/base",
      "model_module_version": "1.2.0",
      "model_name": "LayoutModel",
      "state": {}
     },
     "fcdd8b6f05a546c6a792f5b119778a3d": {
      "model_module": "@jupyter-widgets/base",
      "model_module_version": "1.2.0",
      "model_name": "LayoutModel",
      "state": {}
     },
     "fcf43d4b61de49b69cc1acf2767f9c3e": {
      "model_module": "@jupyter-widgets/controls",
      "model_module_version": "1.5.0",
      "model_name": "FloatProgressModel",
      "state": {
       "bar_style": "success",
       "layout": "IPY_MODEL_fe4886b656bb44f891882cd05bb321cb",
       "max": 700,
       "style": "IPY_MODEL_7afc49e38a2d48568aec5b889787ef13",
       "value": 700
      }
     },
     "fd7ab7aaf1ce46a98db90ab05a53219d": {
      "model_module": "@jupyter-widgets/controls",
      "model_module_version": "1.5.0",
      "model_name": "HBoxModel",
      "state": {
       "children": [
        "IPY_MODEL_7d369925397a45599c96a5c91330ec52",
        "IPY_MODEL_9795c3bc94744dcf8efcaea2c6ea0e86",
        "IPY_MODEL_407abd84d07e46a9b2d3700443476bd3"
       ],
       "layout": "IPY_MODEL_580b6a228b374f48b8c20038cb1a9d4e"
      }
     },
     "fde65f8d6d5d4c57a5bcd290f94033a3": {
      "model_module": "@jupyter-widgets/base",
      "model_module_version": "1.2.0",
      "model_name": "LayoutModel",
      "state": {}
     },
     "fe4886b656bb44f891882cd05bb321cb": {
      "model_module": "@jupyter-widgets/base",
      "model_module_version": "1.2.0",
      "model_name": "LayoutModel",
      "state": {}
     },
     "ff123f83f5c148138f69a6eee3d456fe": {
      "model_module": "@jupyter-widgets/controls",
      "model_module_version": "1.5.0",
      "model_name": "ProgressStyleModel",
      "state": {
       "description_width": ""
      }
     },
     "ff1e3b1397ec42929e82eb10fdcc539e": {
      "model_module": "@jupyter-widgets/base",
      "model_module_version": "1.2.0",
      "model_name": "LayoutModel",
      "state": {}
     },
     "ff3c425af53d4788a46cf9475b9abe86": {
      "model_module": "@jupyter-widgets/controls",
      "model_module_version": "1.5.0",
      "model_name": "HBoxModel",
      "state": {
       "children": [
        "IPY_MODEL_88e2f923a8434df28413d055aee598fe",
        "IPY_MODEL_b475b521c33b45d4a936a8de7d354e7d",
        "IPY_MODEL_a244c0efba0f4e4b9d0e94da6038265d"
       ],
       "layout": "IPY_MODEL_4c3ea1f4416b42948e673b807e51a1d3"
      }
     },
     "ff4084cf38224415b8c5f938699adad2": {
      "model_module": "@jupyter-widgets/base",
      "model_module_version": "1.2.0",
      "model_name": "LayoutModel",
      "state": {}
     },
     "ff942c7af80d4f52a9cf028d66f30550": {
      "model_module": "@jupyter-widgets/controls",
      "model_module_version": "1.5.0",
      "model_name": "DescriptionStyleModel",
      "state": {
       "description_width": ""
      }
     },
     "ffb80e9a828a42f4aab64ce65bfb9f83": {
      "model_module": "@jupyter-widgets/base",
      "model_module_version": "1.2.0",
      "model_name": "LayoutModel",
      "state": {}
     },
     "ffdc1e9faa1748258dc946860996af07": {
      "model_module": "@jupyter-widgets/base",
      "model_module_version": "1.2.0",
      "model_name": "LayoutModel",
      "state": {}
     }
    },
    "version_major": 2,
    "version_minor": 0
   }
  }
 },
 "nbformat": 4,
 "nbformat_minor": 4
}
