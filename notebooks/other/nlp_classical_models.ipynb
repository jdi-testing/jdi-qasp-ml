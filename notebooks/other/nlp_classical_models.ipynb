{
 "cells": [
  {
   "cell_type": "code",
   "execution_count": 10,
   "metadata": {},
   "outputs": [],
   "source": [
    "import pandas as pd"
   ]
  },
  {
   "cell_type": "code",
   "execution_count": 11,
   "metadata": {},
   "outputs": [],
   "source": [
    "from tqdm.notebook import tqdm\n",
    "import sys\n",
    "import os\n",
    "import re\n",
    "from glob import glob\n",
    "from time import sleep\n",
    "\n",
    "prefix = os.getcwd().split(\"jdi-qasp-ml\")[0]\n",
    "sys.path.append(os.path.join(prefix, \"jdi-qasp-ml\"))"
   ]
  },
  {
   "cell_type": "code",
   "execution_count": 12,
   "metadata": {},
   "outputs": [],
   "source": [
    "dataset_path = os.path.join(prefix, \"jdi-qasp-ml\", \"data/mui_dataset\")\n",
    "\n",
    "SITE_DFS = [\n",
    "    p\n",
    "    for p in glob(f'{os.path.join(prefix, \"jdi-qasp-ml\")}/data/mui_dataset/df/site*')\n",
    "]\n",
    "DF_NAMES = [re.search(\"site-[0-9]+\", nm)[0] for nm in SITE_DFS]"
   ]
  },
  {
   "cell_type": "code",
   "execution_count": 13,
   "metadata": {},
   "outputs": [],
   "source": [
    "# total_df = pd.DataFrame()\n",
    "# for i, df_path in tqdm(enumerate(SITE_DFS)):\n",
    "#     df = pd.read_pickle(df_path)\n",
    "#     df['site'] = DF_NAMES[i]\n",
    "\n",
    "#     par_childs = {par:list(df[df.parent_id==par].element_id.unique()) for par in df.parent_id.unique()}\n",
    "\n",
    "#     def find_all_childs(elem_id):\n",
    "#         if par_childs.get(elem_id) is None:\n",
    "#             return []\n",
    "#         else:\n",
    "#             res = []\n",
    "#             for i in par_childs.get(elem_id):\n",
    "#                 res.append(i)\n",
    "#                 res.extend(find_all_childs(i))\n",
    "#             return res\n",
    "    \n",
    "#     df['all_followers'] = df['element_id'].apply(find_all_childs)\n",
    "\n",
    "#     df['STRING'] = df.attributes.apply((lambda x: '' if x is None else x.get('class', \"\") + \" \" + x.get('type', \"\") + \" \" + x.get('role', \"\")))\n",
    "#     df['STRING'] = df.tag_name.str.lower().str.cat(df['STRING'], sep=\" \")\n",
    "#     df['LABEL'] = df.attributes.apply(lambda x: None if x is None else x.get('data-label'))\n",
    "#     df = df[[\"site\", \"element_id\", \"parent_id\", \"all_followers\", \"STRING\", \"LABEL\"]]\n",
    "#     df.reset_index(drop=True, inplace=True)\n",
    "\n",
    "#     elem_string_dict = {k:v.get('STRING') for k,v in df[['STRING']].set_index(df.element_id).fillna('').T.to_dict().items()}\n",
    "\n",
    "#     def concat_all_strings(list):\n",
    "#         res = ''\n",
    "#         for l in list:\n",
    "#             res = res + elem_string_dict.get(l) + ' '\n",
    "#         return res\n",
    "    \n",
    "#     df['all_followers_string'] = df['all_followers'].apply(concat_all_strings)\n",
    "#     df['final_string'] = (df.STRING + ' ' + df.all_followers_string).fillna('')\n",
    "\n",
    "#     df = df[[\"site\", \"element_id\", \"parent_id\", \"final_string\", \"LABEL\"]]\n",
    "#     total_df = pd.concat([total_df, df])\n",
    "# total_df.reset_index(inplace=True, drop=True)"
   ]
  },
  {
   "cell_type": "code",
   "execution_count": 14,
   "metadata": {},
   "outputs": [],
   "source": [
    "# total_df.tail(3)"
   ]
  },
  {
   "cell_type": "code",
   "execution_count": 15,
   "metadata": {},
   "outputs": [],
   "source": [
    "# total_df.to_csv(f'{os.path.join(prefix, \"jdi-qasp-ml\")}/data/other/total_df_for_nlp_model.csv', index=False)"
   ]
  },
  {
   "cell_type": "code",
   "execution_count": 16,
   "metadata": {},
   "outputs": [],
   "source": [
    "# total_df = pd.read_csv(f'{os.path.join(prefix, \"jdi-qasp-ml\")}/data/other/total_df_for_nlp_model.csv')\n",
    "# total_df.LABEL = total_df.LABEL.fillna(\"n/a\")\n"
   ]
  },
  {
   "cell_type": "code",
   "execution_count": 17,
   "metadata": {},
   "outputs": [],
   "source": [
    "# total_df.tail()"
   ]
  },
  {
   "cell_type": "code",
   "execution_count": 18,
   "metadata": {},
   "outputs": [],
   "source": [
    "def prepare_string(string):\n",
    "    string = re.sub(r\"(?<=\\w)([A-Z])\", r\" \\1\", string)\n",
    "    string = str(string).lower().strip()\n",
    "    return(re.sub(' +', ' ', re.sub('(-)|([0-9]+)', ' ', string).strip()))\n",
    "\n",
    "\n",
    "# total_df['final_string'] = total_df['final_string'].apply(prepare_string)"
   ]
  },
  {
   "cell_type": "code",
   "execution_count": 19,
   "metadata": {},
   "outputs": [],
   "source": [
    "# total_df.tail()"
   ]
  },
  {
   "cell_type": "code",
   "execution_count": 20,
   "metadata": {},
   "outputs": [],
   "source": [
    "# total_df.to_csv(f'{os.path.join(prefix, \"jdi-qasp-ml\")}/data/other/total_df_for_nlp_model_prepared.csv', index=False)"
   ]
  },
  {
   "cell_type": "code",
   "execution_count": 21,
   "metadata": {},
   "outputs": [],
   "source": [
    "total_df = pd.read_csv(f'{os.path.join(prefix, \"jdi-qasp-ml\")}/data/other/total_df_for_nlp_model_prepared.csv')\n",
    "total_df.LABEL = total_df.LABEL.fillna(\"n/a\")"
   ]
  },
  {
   "cell_type": "code",
   "execution_count": 22,
   "metadata": {},
   "outputs": [
    {
     "data": {
      "text/html": [
       "<div>\n",
       "<style scoped>\n",
       "    .dataframe tbody tr th:only-of-type {\n",
       "        vertical-align: middle;\n",
       "    }\n",
       "\n",
       "    .dataframe tbody tr th {\n",
       "        vertical-align: top;\n",
       "    }\n",
       "\n",
       "    .dataframe thead th {\n",
       "        text-align: right;\n",
       "    }\n",
       "</style>\n",
       "<table border=\"1\" class=\"dataframe\">\n",
       "  <thead>\n",
       "    <tr style=\"text-align: right;\">\n",
       "      <th></th>\n",
       "      <th>site</th>\n",
       "      <th>element_id</th>\n",
       "      <th>parent_id</th>\n",
       "      <th>final_string</th>\n",
       "      <th>LABEL</th>\n",
       "    </tr>\n",
       "  </thead>\n",
       "  <tbody>\n",
       "    <tr>\n",
       "      <th>739896</th>\n",
       "      <td>site-13</td>\n",
       "      <td>9627524316559287764950874349</td>\n",
       "      <td>8293726446559287768833831671</td>\n",
       "      <td>div</td>\n",
       "      <td>n/a</td>\n",
       "    </tr>\n",
       "    <tr>\n",
       "      <th>739897</th>\n",
       "      <td>site-13</td>\n",
       "      <td>9638773789559287760038756767</td>\n",
       "      <td>8293726446559287768833831671</td>\n",
       "      <td>div</td>\n",
       "      <td>n/a</td>\n",
       "    </tr>\n",
       "    <tr>\n",
       "      <th>739898</th>\n",
       "      <td>site-13</td>\n",
       "      <td>4889127663559287761125737880</td>\n",
       "      <td>8293726446559287768833831671</td>\n",
       "      <td>div mui paper root mui popover paper mui paper...</td>\n",
       "      <td>n/a</td>\n",
       "    </tr>\n",
       "    <tr>\n",
       "      <th>739899</th>\n",
       "      <td>site-13</td>\n",
       "      <td>8651010676559287765452773916</td>\n",
       "      <td>4889127663559287761125737880</td>\n",
       "      <td>p mui typography root jss mui typography body</td>\n",
       "      <td>typography</td>\n",
       "    </tr>\n",
       "    <tr>\n",
       "      <th>739900</th>\n",
       "      <td>site-13</td>\n",
       "      <td>9980562521559287761155767932</td>\n",
       "      <td>8293726446559287768833831671</td>\n",
       "      <td>div</td>\n",
       "      <td>n/a</td>\n",
       "    </tr>\n",
       "  </tbody>\n",
       "</table>\n",
       "</div>"
      ],
      "text/plain": [
       "           site                    element_id                     parent_id  \\\n",
       "739896  site-13  9627524316559287764950874349  8293726446559287768833831671   \n",
       "739897  site-13  9638773789559287760038756767  8293726446559287768833831671   \n",
       "739898  site-13  4889127663559287761125737880  8293726446559287768833831671   \n",
       "739899  site-13  8651010676559287765452773916  4889127663559287761125737880   \n",
       "739900  site-13  9980562521559287761155767932  8293726446559287768833831671   \n",
       "\n",
       "                                             final_string       LABEL  \n",
       "739896                                                div         n/a  \n",
       "739897                                                div         n/a  \n",
       "739898  div mui paper root mui popover paper mui paper...         n/a  \n",
       "739899      p mui typography root jss mui typography body  typography  \n",
       "739900                                                div         n/a  "
      ]
     },
     "execution_count": 22,
     "metadata": {},
     "output_type": "execute_result"
    }
   ],
   "source": [
    "total_df.tail()"
   ]
  },
  {
   "cell_type": "code",
   "execution_count": 23,
   "metadata": {},
   "outputs": [],
   "source": [
    "train_dfs = DF_NAMES[:400]\n",
    "val_dfs = DF_NAMES[400:450]\n",
    "test_dfs = DF_NAMES[450:]\n",
    "\n",
    "train_df = total_df[total_df.site.isin(train_dfs)].copy()[['element_id', 'final_string', 'LABEL']].copy().reset_index(drop=True)\n",
    "val_df = total_df[total_df.site.isin(val_dfs)].copy()[['element_id', 'final_string', 'LABEL']].copy().reset_index(drop=True)\n",
    "test_df = total_df[total_df.site.isin(test_dfs)].copy()[['element_id', 'final_string', 'LABEL']].copy().reset_index(drop=True)\n",
    "\n",
    "# train.to_csv(f'{os.path.join(prefix, \"jdi-qasp-ml\")}/data/other/'+ 'nlp_train.csv', index=False)\n",
    "# val_df.to_csv(f'{os.path.join(prefix, \"jdi-qasp-ml\")}/data/other/'+ 'nlp_val.csv', index=False)\n",
    "# test_df.to_csv(f'{os.path.join(prefix, \"jdi-qasp-ml\")}/data/other/'+ 'nlp_test.csv', index=False)"
   ]
  },
  {
   "cell_type": "code",
   "execution_count": 24,
   "metadata": {},
   "outputs": [
    {
     "data": {
      "text/html": [
       "<div>\n",
       "<style scoped>\n",
       "    .dataframe tbody tr th:only-of-type {\n",
       "        vertical-align: middle;\n",
       "    }\n",
       "\n",
       "    .dataframe tbody tr th {\n",
       "        vertical-align: top;\n",
       "    }\n",
       "\n",
       "    .dataframe thead th {\n",
       "        text-align: right;\n",
       "    }\n",
       "</style>\n",
       "<table border=\"1\" class=\"dataframe\">\n",
       "  <thead>\n",
       "    <tr style=\"text-align: right;\">\n",
       "      <th></th>\n",
       "      <th>element_id</th>\n",
       "      <th>final_string</th>\n",
       "      <th>LABEL</th>\n",
       "    </tr>\n",
       "  </thead>\n",
       "  <tbody>\n",
       "    <tr>\n",
       "      <th>0</th>\n",
       "      <td>5377782770559833469033671578</td>\n",
       "      <td>html head meta link meta meta meta link link t...</td>\n",
       "      <td>n/a</td>\n",
       "    </tr>\n",
       "    <tr>\n",
       "      <th>1</th>\n",
       "      <td>7829459489559833462475342827</td>\n",
       "      <td>head meta link meta meta meta link link title ...</td>\n",
       "      <td>n/a</td>\n",
       "    </tr>\n",
       "    <tr>\n",
       "      <th>2</th>\n",
       "      <td>0631196382559833465296481442</td>\n",
       "      <td>meta</td>\n",
       "      <td>n/a</td>\n",
       "    </tr>\n",
       "    <tr>\n",
       "      <th>3</th>\n",
       "      <td>3432217540559833464644554437</td>\n",
       "      <td>link</td>\n",
       "      <td>n/a</td>\n",
       "    </tr>\n",
       "    <tr>\n",
       "      <th>4</th>\n",
       "      <td>8074386043559833462890934880</td>\n",
       "      <td>meta</td>\n",
       "      <td>n/a</td>\n",
       "    </tr>\n",
       "    <tr>\n",
       "      <th>...</th>\n",
       "      <td>...</td>\n",
       "      <td>...</td>\n",
       "      <td>...</td>\n",
       "    </tr>\n",
       "    <tr>\n",
       "      <th>588254</th>\n",
       "      <td>7082420646580084644836977116</td>\n",
       "      <td>div</td>\n",
       "      <td>n/a</td>\n",
       "    </tr>\n",
       "    <tr>\n",
       "      <th>588255</th>\n",
       "      <td>4245731393580084649975250848</td>\n",
       "      <td>div</td>\n",
       "      <td>n/a</td>\n",
       "    </tr>\n",
       "    <tr>\n",
       "      <th>588256</th>\n",
       "      <td>8235246246580084649721106092</td>\n",
       "      <td>div mui paper root mui popover paper jss mui p...</td>\n",
       "      <td>n/a</td>\n",
       "    </tr>\n",
       "    <tr>\n",
       "      <th>588257</th>\n",
       "      <td>1458830904580084640254145688</td>\n",
       "      <td>p mui typography root mui typography body</td>\n",
       "      <td>n/a</td>\n",
       "    </tr>\n",
       "    <tr>\n",
       "      <th>588258</th>\n",
       "      <td>7821705247580084644814489735</td>\n",
       "      <td>div</td>\n",
       "      <td>n/a</td>\n",
       "    </tr>\n",
       "  </tbody>\n",
       "</table>\n",
       "<p>588259 rows × 3 columns</p>\n",
       "</div>"
      ],
      "text/plain": [
       "                          element_id  \\\n",
       "0       5377782770559833469033671578   \n",
       "1       7829459489559833462475342827   \n",
       "2       0631196382559833465296481442   \n",
       "3       3432217540559833464644554437   \n",
       "4       8074386043559833462890934880   \n",
       "...                              ...   \n",
       "588254  7082420646580084644836977116   \n",
       "588255  4245731393580084649975250848   \n",
       "588256  8235246246580084649721106092   \n",
       "588257  1458830904580084640254145688   \n",
       "588258  7821705247580084644814489735   \n",
       "\n",
       "                                             final_string LABEL  \n",
       "0       html head meta link meta meta meta link link t...   n/a  \n",
       "1       head meta link meta meta meta link link title ...   n/a  \n",
       "2                                                    meta   n/a  \n",
       "3                                                    link   n/a  \n",
       "4                                                    meta   n/a  \n",
       "...                                                   ...   ...  \n",
       "588254                                                div   n/a  \n",
       "588255                                                div   n/a  \n",
       "588256  div mui paper root mui popover paper jss mui p...   n/a  \n",
       "588257          p mui typography root mui typography body   n/a  \n",
       "588258                                                div   n/a  \n",
       "\n",
       "[588259 rows x 3 columns]"
      ]
     },
     "execution_count": 24,
     "metadata": {},
     "output_type": "execute_result"
    }
   ],
   "source": [
    "train_df"
   ]
  },
  {
   "cell_type": "code",
   "execution_count": 25,
   "metadata": {},
   "outputs": [
    {
     "data": {
      "text/html": [
       "<div>\n",
       "<style scoped>\n",
       "    .dataframe tbody tr th:only-of-type {\n",
       "        vertical-align: middle;\n",
       "    }\n",
       "\n",
       "    .dataframe tbody tr th {\n",
       "        vertical-align: top;\n",
       "    }\n",
       "\n",
       "    .dataframe thead th {\n",
       "        text-align: right;\n",
       "    }\n",
       "</style>\n",
       "<table border=\"1\" class=\"dataframe\">\n",
       "  <thead>\n",
       "    <tr style=\"text-align: right;\">\n",
       "      <th></th>\n",
       "      <th>element_id</th>\n",
       "      <th>final_string</th>\n",
       "      <th>LABEL</th>\n",
       "    </tr>\n",
       "  </thead>\n",
       "  <tbody>\n",
       "    <tr>\n",
       "      <th>112</th>\n",
       "      <td>6533486216559833460616205753</td>\n",
       "      <td>span mui slider root mui slider color primary ...</td>\n",
       "      <td>slider</td>\n",
       "    </tr>\n",
       "  </tbody>\n",
       "</table>\n",
       "</div>"
      ],
      "text/plain": [
       "                       element_id  \\\n",
       "112  6533486216559833460616205753   \n",
       "\n",
       "                                          final_string   LABEL  \n",
       "112  span mui slider root mui slider color primary ...  slider  "
      ]
     },
     "execution_count": 25,
     "metadata": {},
     "output_type": "execute_result"
    }
   ],
   "source": [
    "train_df[train_df.element_id==\"6533486216559833460616205753\"]"
   ]
  },
  {
   "cell_type": "markdown",
   "metadata": {},
   "source": [
    "Create text pipeline"
   ]
  },
  {
   "cell_type": "code",
   "execution_count": 26,
   "metadata": {},
   "outputs": [],
   "source": [
    "import itertools\n",
    "\n",
    "vocab = list(set(list(\n",
    "            itertools.chain.from_iterable(\n",
    "                train_df.final_string.apply(lambda x: x.split(sep=\" \"))\n",
    "            )\n",
    "        )))"
   ]
  },
  {
   "cell_type": "code",
   "execution_count": 27,
   "metadata": {},
   "outputs": [
    {
     "name": "stdout",
     "output_type": "stream",
     "text": [
      "['viewport', 'scroller', 'entered', 'contained', 'breadcrumbs', 'data', 'contract', 'select', 'tr', 'warning', 'badge', 'fixed', 'switch', 'tooltip', 'pickers', 'day', 'alternative', 'em', 'renderer', 'error', 'animate', 'padding', 'xs', 'wrapper', 'txt', 'direction', 'spacing', 'resize', 'span', 'fieldset', 'view', 'deletable', 'horizontal', 'paper', 'actions', 'disabled', 'completed', 'chip', 'subtitle', 'clock', 'edge', 'link', 'footer', 'active', 'rectangle', 'delete', 'helper', 'text/css', 'top', 'time', 'backdrop', 'base', 'html', 'position', 'center', 'pin', 'anchor', 'email', 'multiline', 'summary', 'expanded', 'required', 'placement', 'success', 'mask', 'separator', 'details', 'justify', 'primary', 'triggers', 'only', 'left', 'btn', 'mui', 'gutter', 'svg', 'password', 'legend', 'asterisk', 'body', 'color', 'inset', 'max', 'mark', 'app', 'h', 'checkbox', 'radiogroup', 'desktop', 'pagination', 'columnheader', 'window', 'collapse', 'header', 'days', 'value', 'scroll', 'numeric', 'secondary', 'circle', 'row', 'action', 'info', 'navigation', 'minute', 'width', 'slide', 'track', 'group', 'even', 'path', 'selected', 'dialog', 'progress', 'bar', 'tabs', 'popover', 'sortable', 'dense', 'spacer', 'noscript', 'title', 'bottom', 'script', 'hidden', 'step', 'subheader', 'indeterminate', 'focus', 'middle', 'lg', 'zone', 'circular', 'grouped', 'sort', 'clickable', 'item', 'tbody', 'listitem', 'text', 'native', 'thead', 'space', 'line', 'progressbar', 'trigger', 'ul', 'dot', 'columns', 'control', 'scrollable', 'fab', 'point', 'textarea', 'region', 'margin', 'hover', 'presentation', 'asc', 'meta', 'toolbar', 'div', 'origin', 'start', 'content', 'draggable', 'nav', 'size', 'square', 'animated', 'items', 'large', 'default', 'p', 'box', 'th', 'inner', 'input', 'avatar', 'small', 'transform', 'accordion', 'week', 'gutters', 'li', 'main', 'style', 'rendering', 'child', 'thumb', 'label', 'icon', 'font', 'right', 'table', 'typography', 'alert', 'radio', 'number', 'stepper', 'focused', 'rail', 'vertical', 'underline', 'align', 'list', 'docked', 'slider', 'full', 'button', 'connector', 'root', 'elevation', 'expand', 'tablist', 'block', 'linear', 'with', 'hr', 'picker', 'container', 'field', 'grid', 'cell', 'pointer', 'touch', 'outlined', 'no', 'static', 'caption', 'visible', 'ripple', 'ol', 'end', 'checked', 'tab', 'card', 'around', 'hour', 'column', 'menuitem', 'inherit', 'divider', 'buttons', 'form', 'indicator', 'shrink', 'option', 'true', 'snackbar', 'a', 'selection', 'menu', 'jss', 'none', 'drawer', 'date', 'calendar', 'wrap', 'marked', 'ampm', 'flex', 'regular', 'transition', 'odd', 'display', 'rounded', 'determinate', 'td', 'disable', 'filled', 'pulsate', 'dividers', 'message', 'sm', 'head', 'light']\n"
     ]
    }
   ],
   "source": [
    "print(vocab)"
   ]
  },
  {
   "cell_type": "code",
   "execution_count": 28,
   "metadata": {},
   "outputs": [
    {
     "name": "stdout",
     "output_type": "stream",
     "text": [
      "277\n"
     ]
    }
   ],
   "source": [
    "print(len(vocab))\n"
   ]
  },
  {
   "cell_type": "code",
   "execution_count": 29,
   "metadata": {},
   "outputs": [],
   "source": [
    "classes_path = os.path.join(prefix, \"jdi-qasp-ml\", \"data/mui_dataset/classes.txt\")\n",
    "with open(classes_path, \"r\") as f:\n",
    "    lines = f.readlines()\n",
    "    classes_dict = {v.strip(): i for i, v in enumerate(lines)}\n",
    "    classes_reverse_dict = {i: v.strip() for i, v in enumerate(lines)}\n",
    "\n",
    "# train_df.LABEL = train_df.LABEL.apply(lambda x: classes_dict.get(x, 0))"
   ]
  },
  {
   "cell_type": "code",
   "execution_count": 30,
   "metadata": {},
   "outputs": [
    {
     "data": {
      "text/plain": [
       "{'n/a': 0,\n",
       " 'link': 1,\n",
       " 'bottom-navigation': 2,\n",
       " 'menu': 3,\n",
       " 'stepper': 4,\n",
       " 'progress': 5,\n",
       " 'dialog': 6,\n",
       " 'button': 7,\n",
       " 'switch': 8,\n",
       " 'table': 9,\n",
       " 'breadcrumbs': 10,\n",
       " 'list': 11,\n",
       " 'alert': 12,\n",
       " 'chip': 13,\n",
       " 'select': 14,\n",
       " 'textarea-autosize': 15,\n",
       " 'accordion': 16,\n",
       " 'text-field': 17,\n",
       " 'radio': 18,\n",
       " 'checkbox': 19,\n",
       " 'drawer': 20,\n",
       " 'snackbar': 21,\n",
       " 'radiogroup': 22,\n",
       " 'slider': 23,\n",
       " 'badge': 24,\n",
       " 'button-group': 25,\n",
       " 'tabs': 26}"
      ]
     },
     "execution_count": 30,
     "metadata": {},
     "output_type": "execute_result"
    }
   ],
   "source": [
    "classes_dict"
   ]
  },
  {
   "cell_type": "code",
   "execution_count": 31,
   "metadata": {},
   "outputs": [],
   "source": [
    "text_pipeline = lambda x: prepare_string(x)\n",
    "label_pipeline = lambda x: classes_dict.get(x, 0)"
   ]
  },
  {
   "cell_type": "code",
   "execution_count": 32,
   "metadata": {},
   "outputs": [
    {
     "data": {
      "text/plain": [
       "'div mui paper root mui popover paper mui paper'"
      ]
     },
     "execution_count": 32,
     "metadata": {},
     "output_type": "execute_result"
    }
   ],
   "source": [
    "text_pipeline(\"div MuiPaper-root MuiPopover-paper MuiPaper\")"
   ]
  },
  {
   "cell_type": "markdown",
   "metadata": {},
   "source": [
    "Generate data batch and iterator"
   ]
  },
  {
   "cell_type": "code",
   "execution_count": 33,
   "metadata": {},
   "outputs": [],
   "source": [
    "from sklearn.feature_extraction.text import (\n",
    "    CountVectorizer,\n",
    "    TfidfTransformer,\n",
    ")"
   ]
  },
  {
   "cell_type": "code",
   "execution_count": 34,
   "metadata": {},
   "outputs": [],
   "source": [
    "\n",
    "model_cv = CountVectorizer(vocabulary=vocab).fit(train_df.final_string.values)\n",
    "cv_transformed = model_cv.transform(train_df.final_string.values)\n",
    "model_tf = TfidfTransformer().fit(cv_transformed)\n",
    "tfidf_transformed = model_tf.transform(cv_transformed)\n"
   ]
  },
  {
   "cell_type": "code",
   "execution_count": 35,
   "metadata": {},
   "outputs": [],
   "source": [
    "X_train = tfidf_transformed.copy()\n",
    "y_train = train_df.LABEL.apply(lambda x: classes_dict.get(x, 0)).astype(int)\n",
    "\n",
    "cv_transformed = model_cv.transform(val_df.final_string.values)\n",
    "X_val = model_tf.transform(cv_transformed)\n",
    "y_val = val_df.LABEL.apply(lambda x: classes_dict.get(x, 0)).astype(int)"
   ]
  },
  {
   "cell_type": "code",
   "execution_count": 36,
   "metadata": {},
   "outputs": [],
   "source": [
    "from sklearn.ensemble import RandomForestClassifier"
   ]
  },
  {
   "cell_type": "code",
   "execution_count": 37,
   "metadata": {},
   "outputs": [
    {
     "data": {
      "text/plain": [
       "0     543393\n",
       "7      10993\n",
       "13      7273\n",
       "18      5599\n",
       "19      3536\n",
       "1       2614\n",
       "11      2104\n",
       "16      1876\n",
       "5       1097\n",
       "24       820\n",
       "8        715\n",
       "17       652\n",
       "15       592\n",
       "12       579\n",
       "21       576\n",
       "4        575\n",
       "26       556\n",
       "2        545\n",
       "10       543\n",
       "20       538\n",
       "23       532\n",
       "3        525\n",
       "22       513\n",
       "9        499\n",
       "14       498\n",
       "25       393\n",
       "6        123\n",
       "Name: LABEL, dtype: int64"
      ]
     },
     "execution_count": 37,
     "metadata": {},
     "output_type": "execute_result"
    }
   ],
   "source": [
    "pd.Series(y_train).value_counts()"
   ]
  },
  {
   "cell_type": "code",
   "execution_count": 38,
   "metadata": {},
   "outputs": [],
   "source": [
    "# classifier = RandomForestClassifier(n_estimators=1000, random_state=0)\n",
    "# classifier.fit(X_train, y_train) \n",
    "# import pickle\n",
    "# with open(\"RF_model.pkl\", \"wb\") as c:\n",
    "#             pickle.dump(classifier, c)\n",
    "#             c.flush()"
   ]
  },
  {
   "cell_type": "code",
   "execution_count": 40,
   "metadata": {},
   "outputs": [],
   "source": [
    "import pickle\n",
    "with open(\"RF_model.pkl\", \"rb\") as f:\n",
    "            classifier = pickle.load(f)"
   ]
  },
  {
   "cell_type": "code",
   "execution_count": 41,
   "metadata": {},
   "outputs": [],
   "source": [
    "y_pred = classifier.predict(X_val)"
   ]
  },
  {
   "cell_type": "code",
   "execution_count": 42,
   "metadata": {},
   "outputs": [
    {
     "data": {
      "text/plain": [
       "element_id                           3256084674564724863972029713\n",
       "final_string    span mui button base root mui icon button root...\n",
       "LABEL                                                       radio\n",
       "Name: 123, dtype: object"
      ]
     },
     "execution_count": 42,
     "metadata": {},
     "output_type": "execute_result"
    }
   ],
   "source": [
    "val_df.loc[123]"
   ]
  },
  {
   "cell_type": "code",
   "execution_count": 43,
   "metadata": {},
   "outputs": [
    {
     "data": {
      "text/plain": [
       "Series([], dtype: object)"
      ]
     },
     "execution_count": 43,
     "metadata": {},
     "output_type": "execute_result"
    }
   ],
   "source": [
    "pr = pd.Series(y_pred).apply(lambda x: classes_reverse_dict.get(x))\n",
    "pr[pr!='n/a']"
   ]
  },
  {
   "cell_type": "code",
   "execution_count": 95,
   "metadata": {},
   "outputs": [
    {
     "data": {
      "text/plain": [
       "array([0, 0, 0, ..., 0, 0, 0])"
      ]
     },
     "execution_count": 95,
     "metadata": {},
     "output_type": "execute_result"
    }
   ],
   "source": [
    "y_pred"
   ]
  },
  {
   "cell_type": "code",
   "execution_count": 44,
   "metadata": {},
   "outputs": [
    {
     "name": "stdout",
     "output_type": "stream",
     "text": [
      "              precision    recall  f1-score   support\n",
      "\n",
      "           0       0.92      1.00      0.96     70201\n",
      "           1       0.00      0.00      0.00       296\n",
      "           2       0.00      0.00      0.00        91\n",
      "           3       0.00      0.00      0.00        70\n",
      "           4       0.00      0.00      0.00        57\n",
      "           5       0.00      0.00      0.00       134\n",
      "           6       0.00      0.00      0.00        14\n",
      "           7       0.00      0.00      0.00      1412\n",
      "           8       0.00      0.00      0.00       104\n",
      "           9       0.00      0.00      0.00        45\n",
      "          10       0.00      0.00      0.00        66\n",
      "          11       0.00      0.00      0.00       280\n",
      "          12       0.00      0.00      0.00        46\n",
      "          13       0.00      0.00      0.00      1084\n",
      "          14       0.00      0.00      0.00        70\n",
      "          15       0.00      0.00      0.00        71\n",
      "          16       0.00      0.00      0.00       218\n",
      "          17       0.00      0.00      0.00        82\n",
      "          18       0.00      0.00      0.00       728\n",
      "          19       0.00      0.00      0.00       482\n",
      "          20       0.00      0.00      0.00        80\n",
      "          21       0.00      0.00      0.00        75\n",
      "          22       0.00      0.00      0.00        63\n",
      "          23       0.00      0.00      0.00        66\n",
      "          24       0.00      0.00      0.00       118\n",
      "          25       0.00      0.00      0.00        44\n",
      "          26       0.00      0.00      0.00        71\n",
      "\n",
      "    accuracy                           0.92     76068\n",
      "   macro avg       0.03      0.04      0.04     76068\n",
      "weighted avg       0.85      0.92      0.89     76068\n",
      "\n",
      "0.9228716411631698\n"
     ]
    },
    {
     "name": "stderr",
     "output_type": "stream",
     "text": [
      "/Users/Mikhail_Bulgakov/opt/anaconda3/envs/nlp-env/lib/python3.9/site-packages/sklearn/metrics/_classification.py:1308: UndefinedMetricWarning: Precision and F-score are ill-defined and being set to 0.0 in labels with no predicted samples. Use `zero_division` parameter to control this behavior.\n",
      "  _warn_prf(average, modifier, msg_start, len(result))\n",
      "/Users/Mikhail_Bulgakov/opt/anaconda3/envs/nlp-env/lib/python3.9/site-packages/sklearn/metrics/_classification.py:1308: UndefinedMetricWarning: Precision and F-score are ill-defined and being set to 0.0 in labels with no predicted samples. Use `zero_division` parameter to control this behavior.\n",
      "  _warn_prf(average, modifier, msg_start, len(result))\n",
      "/Users/Mikhail_Bulgakov/opt/anaconda3/envs/nlp-env/lib/python3.9/site-packages/sklearn/metrics/_classification.py:1308: UndefinedMetricWarning: Precision and F-score are ill-defined and being set to 0.0 in labels with no predicted samples. Use `zero_division` parameter to control this behavior.\n",
      "  _warn_prf(average, modifier, msg_start, len(result))\n"
     ]
    }
   ],
   "source": [
    "from sklearn.metrics import classification_report, confusion_matrix, accuracy_score\n",
    "\n",
    "print(classification_report(y_val,y_pred))\n",
    "print(accuracy_score(y_val, y_pred))"
   ]
  },
  {
   "cell_type": "code",
   "execution_count": 45,
   "metadata": {},
   "outputs": [
    {
     "name": "stdout",
     "output_type": "stream",
     "text": [
      "2021-11-30 14:07:51,428 -INFO - config.py:31 - Module utils.config was loaded\n",
      "2021-11-30 14:07:51,547 -INFO - common.py:119 - Module utils.common is loaded...\n",
      "2021-11-30 14:07:51,548 -INFO - dataset_builder.py:245 - dataset package is loaded...\n"
     ]
    }
   ],
   "source": [
    "prefix = os.getcwd().split('jdi-qasp-ml')[0]\n",
    "sys.path.append(os.path.join(prefix, 'jdi-qasp-ml'))\n",
    "from utils.dataset_builder import DatasetBuilder\n",
    "from utils.common import maximize_window "
   ]
  },
  {
   "cell_type": "code",
   "execution_count": 46,
   "metadata": {},
   "outputs": [],
   "source": [
    "DATASET_NAME = 'material-ui-Buttons'\n",
    "WAIT_TIME_SECONDS = 7\n",
    "SITE_URL = 'https://jdi-testing.github.io/jdi-light/'\n",
    "# SITE_URL = 'https://jdi-testing.github.io/jdi-light/material/buttons'\n",
    "PREDICT_URL = 'http://localhost:5050/mui-predict'\n",
    "\n",
    "LOGIN = 'Roman'\n",
    "PASSWORD = 'Jdi1234'\n",
    "SAVE_SCREEN = True\n",
    "WAIT_TIME_SECONDS = 7"
   ]
  },
  {
   "cell_type": "code",
   "execution_count": 75,
   "metadata": {},
   "outputs": [
    {
     "name": "stdout",
     "output_type": "stream",
     "text": [
      "2021-11-30 14:18:59,467 -INFO - dataset_builder.py:100 - Dataset name: material-ui-Buttons\n",
      "2021-11-30 14:18:59,470 -INFO - dataset_builder.py:110 - Create directories to save the dataset\n",
      "2021-11-30 14:18:59,472 -INFO - dataset_builder.py:151 - Creating driver\n",
      "2021-11-30 14:19:01,315 -INFO - dataset_builder.py:163 - Chrome web driver is created\n",
      "2021-11-30 14:19:14,183 -INFO - common.py:22 - Window maximized\n",
      "2021-11-30 14:19:21,190 -INFO - dataset_builder.py:166 - save scrinshot: /Users/Mikhail_Bulgakov/GitRepo/jdi-qasp-ml/data/mui_dataset/images/material-ui-Buttons.png\n",
      "2021-11-30 14:19:27,810 -INFO - dataset_builder.py:210 - Collect features using JS script\n",
      "2021-11-30 14:19:28,442 -INFO - dataset_builder.py:218 - Save html to /Users/Mikhail_Bulgakov/GitRepo/jdi-qasp-ml/data/mui_dataset/html/material-ui-Buttons.html\n",
      "2021-11-30 14:19:28,460 -INFO - dataset_builder.py:230 - Save peakle to /Users/Mikhail_Bulgakov/GitRepo/jdi-qasp-ml/data/mui_dataset/df/material-ui-Buttons.pkl\n",
      "2021-11-30 14:19:28,462 -INFO - dataset_builder.py:232 - No attributes: (15, 13)\n",
      "2021-11-30 14:19:28,557 -INFO - dataset_builder.py:125 - Close web driver\n"
     ]
    }
   ],
   "source": [
    "class DSBuilder(DatasetBuilder):\n",
    "    def setUp(self, driver):\n",
    "        \"\"\"\n",
    "            This method may be overwitten if you need to login to the site\n",
    "            and navigate to a specific url,\n",
    "            otherwise it just returns \n",
    "        \"\"\"\n",
    "        \n",
    "        driver.set_window_size(width=1500, height=15000)\n",
    "        self.driver.get(self.url)\n",
    "        driver.find_element_by_id(\"user-icon\").click()\n",
    "        driver.find_element_by_id(\"name\").send_keys(LOGIN)\n",
    "        driver.find_element_by_id(\"password\").send_keys(PASSWORD)\n",
    "        driver.find_element_by_id(\"login-button\").click()\n",
    "        sleep(WAIT_TIME_SECONDS)\n",
    "        driver.find_element_by_xpath(\"/html/body/div/div[1]/div/div[1]/div/div[1]/ul/li[5]/a/div\").click()\n",
    "        driver.find_element_by_xpath(\"/html/body/div/div[1]/div/div[1]/div/div[1]/ul/li[5]/ul/li[8]/a\").click()\n",
    "        driver.find_element_by_xpath(\"/html/body/div/div/div/div[1]/div/div[2]/div/div\").click()\n",
    "        sleep(3.0)\n",
    "        maximize_window(driver=driver, extend_pix=0)\n",
    "        sleep(7.0)\n",
    "        \n",
    "with DSBuilder(url=SITE_URL, dataset_name=DATASET_NAME, headless=True, dataset_root_path=dataset_path) as builder:\n",
    "    df = builder.dataset"
   ]
  },
  {
   "cell_type": "code",
   "execution_count": 67,
   "metadata": {},
   "outputs": [],
   "source": [
    "df = builder.dataset"
   ]
  },
  {
   "cell_type": "code",
   "execution_count": 76,
   "metadata": {},
   "outputs": [
    {
     "name": "stderr",
     "output_type": "stream",
     "text": [
      "/var/folders/n6/xlg_j8tx7xzdv6qgxc7hwb680000gp/T/ipykernel_15378/4177210050.py:30: SettingWithCopyWarning: \n",
      "A value is trying to be set on a copy of a slice from a DataFrame.\n",
      "Try using .loc[row_indexer,col_indexer] = value instead\n",
      "\n",
      "See the caveats in the documentation: https://pandas.pydata.org/pandas-docs/stable/user_guide/indexing.html#returning-a-view-versus-a-copy\n",
      "  df['all_followers_string'] = df['all_followers'].apply(concat_all_strings)\n",
      "/var/folders/n6/xlg_j8tx7xzdv6qgxc7hwb680000gp/T/ipykernel_15378/4177210050.py:31: SettingWithCopyWarning: \n",
      "A value is trying to be set on a copy of a slice from a DataFrame.\n",
      "Try using .loc[row_indexer,col_indexer] = value instead\n",
      "\n",
      "See the caveats in the documentation: https://pandas.pydata.org/pandas-docs/stable/user_guide/indexing.html#returning-a-view-versus-a-copy\n",
      "  df['final_string'] = (df.STRING + ' ' + df.all_followers_string).fillna('').apply(prepare_string)\n"
     ]
    }
   ],
   "source": [
    "df[\"site\"] = \"mui_buttons\"\n",
    "par_childs = {par:list(df[df.parent_id==par].element_id.unique()) for par in df.parent_id.unique()}\n",
    "\n",
    "def find_all_childs(elem_id):\n",
    "    if par_childs.get(elem_id) is None:\n",
    "        return []\n",
    "    else:\n",
    "        res = []\n",
    "        for i in par_childs.get(elem_id):\n",
    "            res.append(i)\n",
    "            res.extend(find_all_childs(i))\n",
    "        return res\n",
    "\n",
    "df['all_followers'] = df['element_id'].apply(find_all_childs)\n",
    "\n",
    "df['STRING'] = df.attributes.apply((lambda x: '' if x is None else x.get('class', \"\") + \" \" + x.get('type', \"\") + \" \" + x.get('role', \"\")))\n",
    "df['STRING'] = df.tag_name.str.lower().str.cat(df['STRING'], sep=\" \")\n",
    "df['LABEL'] = df.attributes.apply(lambda x: None if x is None else x.get('data-label'))\n",
    "df = df[[\"site\", \"element_id\", \"parent_id\", \"all_followers\", \"STRING\", \"LABEL\"]]\n",
    "df.reset_index(drop=True, inplace=True)\n",
    "\n",
    "elem_string_dict = {k:v.get('STRING') for k,v in df[['STRING']].set_index(df.element_id).fillna('').T.to_dict().items()}\n",
    "\n",
    "def concat_all_strings(list):\n",
    "    res = ''\n",
    "    for l in list:\n",
    "        res = res + elem_string_dict.get(l) + ' '\n",
    "    return res\n",
    "\n",
    "df['all_followers_string'] = df['all_followers'].apply(concat_all_strings)\n",
    "df['final_string'] = (df.STRING + ' ' + df.all_followers_string).fillna('').apply(prepare_string)\n",
    "\n",
    "df = df[[\"site\", \"element_id\", \"parent_id\", \"final_string\", \"LABEL\"]]"
   ]
  },
  {
   "cell_type": "code",
   "execution_count": 77,
   "metadata": {},
   "outputs": [
    {
     "data": {
      "text/html": [
       "<div>\n",
       "<style scoped>\n",
       "    .dataframe tbody tr th:only-of-type {\n",
       "        vertical-align: middle;\n",
       "    }\n",
       "\n",
       "    .dataframe tbody tr th {\n",
       "        vertical-align: top;\n",
       "    }\n",
       "\n",
       "    .dataframe thead th {\n",
       "        text-align: right;\n",
       "    }\n",
       "</style>\n",
       "<table border=\"1\" class=\"dataframe\">\n",
       "  <thead>\n",
       "    <tr style=\"text-align: right;\">\n",
       "      <th></th>\n",
       "      <th>site</th>\n",
       "      <th>element_id</th>\n",
       "      <th>parent_id</th>\n",
       "      <th>final_string</th>\n",
       "      <th>LABEL</th>\n",
       "    </tr>\n",
       "  </thead>\n",
       "  <tbody>\n",
       "    <tr>\n",
       "      <th>0</th>\n",
       "      <td>mui_buttons</td>\n",
       "      <td>0269594694711678175970615340</td>\n",
       "      <td>None</td>\n",
       "      <td>html head link meta title meta meta noscript l...</td>\n",
       "      <td>None</td>\n",
       "    </tr>\n",
       "    <tr>\n",
       "      <th>120</th>\n",
       "      <td>mui_buttons</td>\n",
       "      <td>9015416235711678175666305286</td>\n",
       "      <td>0269594694711678175970615340</td>\n",
       "      <td>body div div div mui grid root mui grid contai...</td>\n",
       "      <td>None</td>\n",
       "    </tr>\n",
       "    <tr>\n",
       "      <th>121</th>\n",
       "      <td>mui_buttons</td>\n",
       "      <td>1486404568711678175511849197</td>\n",
       "      <td>9015416235711678175666305286</td>\n",
       "      <td>div div div mui grid root mui grid container d...</td>\n",
       "      <td>None</td>\n",
       "    </tr>\n",
       "    <tr>\n",
       "      <th>122</th>\n",
       "      <td>mui_buttons</td>\n",
       "      <td>7965836976711678176671339181</td>\n",
       "      <td>1486404568711678175511849197</td>\n",
       "      <td>div div mui grid root mui grid container div m...</td>\n",
       "      <td>None</td>\n",
       "    </tr>\n",
       "    <tr>\n",
       "      <th>123</th>\n",
       "      <td>mui_buttons</td>\n",
       "      <td>0350515143711678170641231175</td>\n",
       "      <td>7965836976711678176671339181</td>\n",
       "      <td>div mui grid root mui grid container div mui g...</td>\n",
       "      <td>None</td>\n",
       "    </tr>\n",
       "    <tr>\n",
       "      <th>...</th>\n",
       "      <td>...</td>\n",
       "      <td>...</td>\n",
       "      <td>...</td>\n",
       "      <td>...</td>\n",
       "      <td>...</td>\n",
       "    </tr>\n",
       "    <tr>\n",
       "      <th>609</th>\n",
       "      <td>mui_buttons</td>\n",
       "      <td>0819828816711678184474173763</td>\n",
       "      <td>7822840155711678186134499331</td>\n",
       "      <td>span mui button label</td>\n",
       "      <td>None</td>\n",
       "    </tr>\n",
       "    <tr>\n",
       "      <th>612</th>\n",
       "      <td>mui_buttons</td>\n",
       "      <td>7062622000711678185935999164</td>\n",
       "      <td>2592352868711678185001627240</td>\n",
       "      <td>div jss button mui button base root jss button...</td>\n",
       "      <td>None</td>\n",
       "    </tr>\n",
       "    <tr>\n",
       "      <th>613</th>\n",
       "      <td>mui_buttons</td>\n",
       "      <td>4235694777711678186599470765</td>\n",
       "      <td>7062622000711678185935999164</td>\n",
       "      <td>button mui button base root jss button span js...</td>\n",
       "      <td>None</td>\n",
       "    </tr>\n",
       "    <tr>\n",
       "      <th>620</th>\n",
       "      <td>mui_buttons</td>\n",
       "      <td>2487698244711678184322260342</td>\n",
       "      <td>7062622000711678185935999164</td>\n",
       "      <td>button mui button base root jss button span js...</td>\n",
       "      <td>None</td>\n",
       "    </tr>\n",
       "    <tr>\n",
       "      <th>627</th>\n",
       "      <td>mui_buttons</td>\n",
       "      <td>9982134166711678189331057173</td>\n",
       "      <td>7062622000711678185935999164</td>\n",
       "      <td>button mui button base root jss button span js...</td>\n",
       "      <td>None</td>\n",
       "    </tr>\n",
       "  </tbody>\n",
       "</table>\n",
       "<p>222 rows × 5 columns</p>\n",
       "</div>"
      ],
      "text/plain": [
       "            site                    element_id                     parent_id  \\\n",
       "0    mui_buttons  0269594694711678175970615340                          None   \n",
       "120  mui_buttons  9015416235711678175666305286  0269594694711678175970615340   \n",
       "121  mui_buttons  1486404568711678175511849197  9015416235711678175666305286   \n",
       "122  mui_buttons  7965836976711678176671339181  1486404568711678175511849197   \n",
       "123  mui_buttons  0350515143711678170641231175  7965836976711678176671339181   \n",
       "..           ...                           ...                           ...   \n",
       "609  mui_buttons  0819828816711678184474173763  7822840155711678186134499331   \n",
       "612  mui_buttons  7062622000711678185935999164  2592352868711678185001627240   \n",
       "613  mui_buttons  4235694777711678186599470765  7062622000711678185935999164   \n",
       "620  mui_buttons  2487698244711678184322260342  7062622000711678185935999164   \n",
       "627  mui_buttons  9982134166711678189331057173  7062622000711678185935999164   \n",
       "\n",
       "                                          final_string LABEL  \n",
       "0    html head link meta title meta meta noscript l...  None  \n",
       "120  body div div div mui grid root mui grid contai...  None  \n",
       "121  div div div mui grid root mui grid container d...  None  \n",
       "122  div div mui grid root mui grid container div m...  None  \n",
       "123  div mui grid root mui grid container div mui g...  None  \n",
       "..                                                 ...   ...  \n",
       "609                              span mui button label  None  \n",
       "612  div jss button mui button base root jss button...  None  \n",
       "613  button mui button base root jss button span js...  None  \n",
       "620  button mui button base root jss button span js...  None  \n",
       "627  button mui button base root jss button span js...  None  \n",
       "\n",
       "[222 rows x 5 columns]"
      ]
     },
     "execution_count": 77,
     "metadata": {},
     "output_type": "execute_result"
    }
   ],
   "source": [
    "df[df.final_string.apply(lambda x: 'button' in x)]"
   ]
  },
  {
   "cell_type": "code",
   "execution_count": 78,
   "metadata": {},
   "outputs": [],
   "source": [
    "cv_transformed = model_cv.transform(df.final_string.values)\n",
    "X_buttons = model_tf.transform(cv_transformed)"
   ]
  },
  {
   "cell_type": "code",
   "execution_count": 87,
   "metadata": {},
   "outputs": [
    {
     "data": {
      "text/plain": [
       "matrix([[0.        , 0.        , 0.        , 0.        , 0.        ,\n",
       "         0.        , 0.        , 0.        , 0.        , 0.        ,\n",
       "         0.        , 0.        , 0.        , 0.        , 0.        ,\n",
       "         0.        , 0.        , 0.        , 0.        , 0.        ,\n",
       "         0.        , 0.        , 0.        , 0.        , 0.        ,\n",
       "         0.        , 0.        , 0.        , 0.43308756, 0.        ,\n",
       "         0.        , 0.        , 0.        , 0.        , 0.        ,\n",
       "         0.        , 0.        , 0.        , 0.25468926, 0.        ,\n",
       "         0.        , 0.        , 0.        , 0.        , 0.        ,\n",
       "         0.        , 0.        , 0.        , 0.        , 0.        ,\n",
       "         0.        , 0.10809318, 0.        , 0.        , 0.        ,\n",
       "         0.        , 0.        , 0.        , 0.        , 0.        ,\n",
       "         0.        , 0.        , 0.        , 0.        , 0.        ,\n",
       "         0.        , 0.        , 0.        , 0.        , 0.        ,\n",
       "         0.        , 0.        , 0.        , 0.26523225, 0.        ,\n",
       "         0.        , 0.        , 0.        , 0.        , 0.        ,\n",
       "         0.10033457, 0.        , 0.        , 0.        , 0.        ,\n",
       "         0.        , 0.        , 0.        , 0.        , 0.        ,\n",
       "         0.        , 0.        , 0.        , 0.        , 0.        ,\n",
       "         0.        , 0.        , 0.        , 0.        , 0.        ,\n",
       "         0.        , 0.        , 0.        , 0.        , 0.        ,\n",
       "         0.        , 0.        , 0.        , 0.        , 0.        ,\n",
       "         0.        , 0.        , 0.        , 0.        , 0.        ,\n",
       "         0.        , 0.        , 0.        , 0.        , 0.        ,\n",
       "         0.        , 0.        , 0.        , 0.        , 0.        ,\n",
       "         0.        , 0.        , 0.        , 0.        , 0.        ,\n",
       "         0.        , 0.        , 0.        , 0.        , 0.        ,\n",
       "         0.        , 0.        , 0.        , 0.        , 0.        ,\n",
       "         0.        , 0.        , 0.        , 0.        , 0.        ,\n",
       "         0.        , 0.        , 0.        , 0.        , 0.        ,\n",
       "         0.        , 0.        , 0.        , 0.        , 0.        ,\n",
       "         0.        , 0.        , 0.        , 0.        , 0.        ,\n",
       "         0.        , 0.        , 0.        , 0.        , 0.        ,\n",
       "         0.        , 0.        , 0.        , 0.        , 0.        ,\n",
       "         0.        , 0.        , 0.        , 0.        , 0.        ,\n",
       "         0.        , 0.        , 0.        , 0.        , 0.        ,\n",
       "         0.        , 0.        , 0.        , 0.        , 0.        ,\n",
       "         0.        , 0.        , 0.        , 0.        , 0.        ,\n",
       "         0.        , 0.        , 0.        , 0.        , 0.        ,\n",
       "         0.27626343, 0.        , 0.        , 0.        , 0.        ,\n",
       "         0.        , 0.        , 0.        , 0.        , 0.        ,\n",
       "         0.        , 0.        , 0.        , 0.        , 0.29330731,\n",
       "         0.        , 0.17211874, 0.        , 0.        , 0.        ,\n",
       "         0.        , 0.        , 0.        , 0.        , 0.        ,\n",
       "         0.        , 0.        , 0.        , 0.        , 0.        ,\n",
       "         0.09934032, 0.        , 0.        , 0.        , 0.        ,\n",
       "         0.        , 0.09934032, 0.        , 0.        , 0.        ,\n",
       "         0.        , 0.        , 0.        , 0.        , 0.        ,\n",
       "         0.        , 0.12639249, 0.        , 0.        , 0.        ,\n",
       "         0.        , 0.        , 0.        , 0.        , 0.        ,\n",
       "         0.        , 0.        , 0.        , 0.65405019, 0.        ,\n",
       "         0.        , 0.        , 0.        , 0.        , 0.        ,\n",
       "         0.        , 0.        , 0.        , 0.        , 0.        ,\n",
       "         0.        , 0.        , 0.        , 0.        , 0.        ,\n",
       "         0.        , 0.        , 0.        , 0.        , 0.        ,\n",
       "         0.        , 0.        ]])"
      ]
     },
     "execution_count": 87,
     "metadata": {},
     "output_type": "execute_result"
    }
   ],
   "source": [
    "X_buttons.todense()[627]"
   ]
  },
  {
   "cell_type": "code",
   "execution_count": 82,
   "metadata": {},
   "outputs": [
    {
     "data": {
      "text/plain": [
       "matrix([[0., 0., 0., 0., 0., 0., 0., 0., 0., 0., 0., 0., 0., 0., 0., 0.,\n",
       "         0., 0., 0., 0., 0., 0., 0., 0., 0., 0., 0., 0., 0., 0., 0., 0.,\n",
       "         0., 0., 0., 0., 0., 0., 0., 0., 0., 0., 0., 0., 0., 0., 0., 0.,\n",
       "         0., 0., 0., 0., 0., 0., 0., 0., 0., 0., 0., 0., 0., 0., 0., 0.,\n",
       "         0., 0., 0., 0., 0., 0., 0., 0., 0., 0., 0., 0., 0., 0., 0., 0.,\n",
       "         0., 0., 0., 0., 0., 0., 0., 0., 0., 0., 0., 0., 0., 0., 0., 0.,\n",
       "         0., 0., 0., 0., 0., 0., 0., 0., 0., 0., 0., 0., 0., 0., 0., 0.,\n",
       "         0., 0., 0., 0., 0., 0., 0., 0., 0., 0., 0., 1., 0., 0., 0., 0.,\n",
       "         0., 0., 0., 0., 0., 0., 0., 0., 0., 0., 0., 0., 0., 0., 0., 0.,\n",
       "         0., 0., 0., 0., 0., 0., 0., 0., 0., 0., 0., 0., 0., 0., 0., 0.,\n",
       "         0., 0., 0., 0., 0., 0., 0., 0., 0., 0., 0., 0., 0., 0., 0., 0.,\n",
       "         0., 0., 0., 0., 0., 0., 0., 0., 0., 0., 0., 0., 0., 0., 0., 0.,\n",
       "         0., 0., 0., 0., 0., 0., 0., 0., 0., 0., 0., 0., 0., 0., 0., 0.,\n",
       "         0., 0., 0., 0., 0., 0., 0., 0., 0., 0., 0., 0., 0., 0., 0., 0.,\n",
       "         0., 0., 0., 0., 0., 0., 0., 0., 0., 0., 0., 0., 0., 0., 0., 0.,\n",
       "         0., 0., 0., 0., 0., 0., 0., 0., 0., 0., 0., 0., 0., 0., 0., 0.,\n",
       "         0., 0., 0., 0., 0., 0., 0., 0., 0., 0., 0., 0., 0., 0., 0., 0.,\n",
       "         0., 0., 0., 0., 0.]])"
      ]
     },
     "execution_count": 82,
     "metadata": {},
     "output_type": "execute_result"
    }
   ],
   "source": [
    "X_buttons.todense()[-1]"
   ]
  },
  {
   "cell_type": "code",
   "execution_count": 91,
   "metadata": {},
   "outputs": [],
   "source": [
    "buttons_pred = classifier.predict_proba(X_buttons)"
   ]
  },
  {
   "cell_type": "code",
   "execution_count": 93,
   "metadata": {},
   "outputs": [
    {
     "data": {
      "text/plain": [
       "array([[0.67889694, 0.        , 0.        , ..., 0.        , 0.        ,\n",
       "        0.059     ],\n",
       "       [0.97605546, 0.        , 0.015     , ..., 0.        , 0.        ,\n",
       "        0.        ],\n",
       "       [0.97605546, 0.        , 0.015     , ..., 0.        , 0.        ,\n",
       "        0.        ],\n",
       "       ...,\n",
       "       [1.        , 0.        , 0.        , ..., 0.        , 0.        ,\n",
       "        0.        ],\n",
       "       [1.        , 0.        , 0.        , ..., 0.        , 0.        ,\n",
       "        0.        ],\n",
       "       [1.        , 0.        , 0.        , ..., 0.        , 0.        ,\n",
       "        0.        ]])"
      ]
     },
     "execution_count": 93,
     "metadata": {},
     "output_type": "execute_result"
    }
   ],
   "source": [
    "buttons_pred"
   ]
  },
  {
   "cell_type": "code",
   "execution_count": null,
   "metadata": {},
   "outputs": [],
   "source": []
  }
 ],
 "metadata": {
  "interpreter": {
   "hash": "668ef8e5884dc3f6c7a385d426ec114c978b2f69913d82ea0913105f6d1e06ce"
  },
  "kernelspec": {
   "display_name": "Python 3.7.9 64-bit ('jdi-qasp-ml': conda)",
   "language": "python",
   "name": "python3"
  },
  "language_info": {
   "codemirror_mode": {
    "name": "ipython",
    "version": 3
   },
   "file_extension": ".py",
   "mimetype": "text/x-python",
   "name": "python",
   "nbconvert_exporter": "python",
   "pygments_lexer": "ipython3",
   "version": "3.9.7"
  },
  "orig_nbformat": 4
 },
 "nbformat": 4,
 "nbformat_minor": 2
}
