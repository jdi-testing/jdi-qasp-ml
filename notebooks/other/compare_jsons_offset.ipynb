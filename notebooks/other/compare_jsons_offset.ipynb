{
 "cells": [
  {
   "cell_type": "code",
   "execution_count": 1,
   "metadata": {},
   "outputs": [],
   "source": [
    "import pandas as pd\n",
    "import json"
   ]
  },
  {
   "cell_type": "code",
   "execution_count": 2,
   "metadata": {},
   "outputs": [],
   "source": [
    "with open(\"C:/Users/Natalia_Odintsova/Downloads/2_of_3.json\", 'r', encoding=\"utf8\") as fp:\n",
    "        # Чтение файла 'data.json' и преобразование\n",
    "        # данных JSON в объект Python \n",
    "        big = json.load(fp)"
   ]
  },
  {
   "cell_type": "code",
   "execution_count": 3,
   "metadata": {},
   "outputs": [],
   "source": [
    "with open(r\"C:\\Users\\Natalia_Odintsova\\Downloads\\1_of_3_left.json\", 'r', encoding=\"utf8\") as fp:\n",
    "        # Чтение файла 'data.json' и преобразование\n",
    "        # данных JSON в объект Python \n",
    "        small = json.load(fp)"
   ]
  },
  {
   "cell_type": "code",
   "execution_count": 4,
   "metadata": {},
   "outputs": [
    {
     "name": "stdout",
     "output_type": "stream",
     "text": [
      "51\n",
      "51\n"
     ]
    }
   ],
   "source": [
    "print(len(big))\n",
    "print(len(small))"
   ]
  },
  {
   "cell_type": "markdown",
   "metadata": {},
   "source": [
    "8972307597485916983462979086"
   ]
  },
  {
   "cell_type": "code",
   "execution_count": 7,
   "metadata": {},
   "outputs": [],
   "source": [
    "PREDICT_URL = 'http://localhost:5050/mui-predict'"
   ]
  },
  {
   "cell_type": "code",
   "execution_count": 8,
   "metadata": {},
   "outputs": [
    {
     "data": {
      "text/plain": [
       "[{'element_id': '3661317878637055041302661643',\n",
       "  'x': 168,\n",
       "  'y': 8,\n",
       "  'width': 64,\n",
       "  'height': 36.5,\n",
       "  'predicted_label': 'button',\n",
       "  'predicted_probability': 0.9999047517776489,\n",
       "  'sort_key': 2336.0},\n",
       " {'element_id': '9288518587637055047321934274',\n",
       "  'x': 8,\n",
       "  'y': 8,\n",
       "  'width': 64,\n",
       "  'height': 36.5,\n",
       "  'predicted_label': 'button',\n",
       "  'predicted_probability': 0.9999957084655762,\n",
       "  'sort_key': 2336.0}]"
      ]
     },
     "metadata": {},
     "output_type": "display_data"
    },
    {
     "name": "stdout",
     "output_type": "stream",
     "text": [
      "Wall time: 913 ms\n"
     ]
    }
   ],
   "source": [
    "%%time\n",
    "import requests\n",
    "\n",
    "from IPython.display import display\n",
    "\n",
    "response_small = requests.post(\n",
    "    PREDICT_URL, data=json.dumps(small)\n",
    ")\n",
    "\n",
    "if response_small.status_code == 200:\n",
    "    display(json.loads(response_small.text))\n",
    "else:\n",
    "    raise Exception(response_small.text)"
   ]
  },
  {
   "cell_type": "code",
   "execution_count": 9,
   "metadata": {},
   "outputs": [
    {
     "data": {
      "text/plain": [
       "[{'element_id': '9288518587637055047321934274',\n",
       "  'x': 8.0,\n",
       "  'y': 8,\n",
       "  'width': 79.078125,\n",
       "  'height': 36.5,\n",
       "  'predicted_label': 'button',\n",
       "  'predicted_probability': 0.9999961853027344,\n",
       "  'sort_key': 2886.3515625},\n",
       " {'element_id': '3661317878637055041302661643',\n",
       "  'x': 202.625,\n",
       "  'y': 8,\n",
       "  'width': 64.0,\n",
       "  'height': 36.5,\n",
       "  'predicted_label': 'button',\n",
       "  'predicted_probability': 0.9999047517776489,\n",
       "  'sort_key': 2336.0}]"
      ]
     },
     "metadata": {},
     "output_type": "display_data"
    },
    {
     "name": "stdout",
     "output_type": "stream",
     "text": [
      "Wall time: 288 ms\n"
     ]
    }
   ],
   "source": [
    "%%time\n",
    "import requests\n",
    "\n",
    "from IPython.display import display\n",
    "\n",
    "response_big = requests.post(\n",
    "    PREDICT_URL, data=json.dumps(big)\n",
    ")\n",
    "\n",
    "if response_big.status_code == 200:\n",
    "    display(json.loads(response_big.text))\n",
    "else:\n",
    "    raise Exception(response_big.text)"
   ]
  },
  {
   "cell_type": "code",
   "execution_count": 10,
   "metadata": {},
   "outputs": [],
   "source": [
    "preds_small = pd.DataFrame(json.loads(response_small.text))\n",
    "preds_big = pd.DataFrame(json.loads(response_big.text))"
   ]
  },
  {
   "cell_type": "code",
   "execution_count": 11,
   "metadata": {},
   "outputs": [
    {
     "data": {
      "text/html": [
       "<div>\n",
       "<style scoped>\n",
       "    .dataframe tbody tr th:only-of-type {\n",
       "        vertical-align: middle;\n",
       "    }\n",
       "\n",
       "    .dataframe tbody tr th {\n",
       "        vertical-align: top;\n",
       "    }\n",
       "\n",
       "    .dataframe thead th {\n",
       "        text-align: right;\n",
       "    }\n",
       "</style>\n",
       "<table border=\"1\" class=\"dataframe\">\n",
       "  <thead>\n",
       "    <tr style=\"text-align: right;\">\n",
       "      <th></th>\n",
       "      <th>element_id</th>\n",
       "      <th>x</th>\n",
       "      <th>y</th>\n",
       "      <th>width</th>\n",
       "      <th>height</th>\n",
       "      <th>predicted_label</th>\n",
       "      <th>predicted_probability</th>\n",
       "      <th>sort_key</th>\n",
       "    </tr>\n",
       "  </thead>\n",
       "  <tbody>\n",
       "    <tr>\n",
       "      <th>0</th>\n",
       "      <td>3661317878637055041302661643</td>\n",
       "      <td>168</td>\n",
       "      <td>8</td>\n",
       "      <td>64</td>\n",
       "      <td>36.5</td>\n",
       "      <td>button</td>\n",
       "      <td>0.999905</td>\n",
       "      <td>2336.0</td>\n",
       "    </tr>\n",
       "    <tr>\n",
       "      <th>1</th>\n",
       "      <td>9288518587637055047321934274</td>\n",
       "      <td>8</td>\n",
       "      <td>8</td>\n",
       "      <td>64</td>\n",
       "      <td>36.5</td>\n",
       "      <td>button</td>\n",
       "      <td>0.999996</td>\n",
       "      <td>2336.0</td>\n",
       "    </tr>\n",
       "  </tbody>\n",
       "</table>\n",
       "</div>"
      ],
      "text/plain": [
       "                     element_id    x  y  width  height predicted_label  \\\n",
       "0  3661317878637055041302661643  168  8     64    36.5          button   \n",
       "1  9288518587637055047321934274    8  8     64    36.5          button   \n",
       "\n",
       "   predicted_probability  sort_key  \n",
       "0               0.999905    2336.0  \n",
       "1               0.999996    2336.0  "
      ]
     },
     "execution_count": 11,
     "metadata": {},
     "output_type": "execute_result"
    }
   ],
   "source": [
    "preds_small"
   ]
  },
  {
   "cell_type": "code",
   "execution_count": 12,
   "metadata": {},
   "outputs": [
    {
     "data": {
      "text/html": [
       "<div>\n",
       "<style scoped>\n",
       "    .dataframe tbody tr th:only-of-type {\n",
       "        vertical-align: middle;\n",
       "    }\n",
       "\n",
       "    .dataframe tbody tr th {\n",
       "        vertical-align: top;\n",
       "    }\n",
       "\n",
       "    .dataframe thead th {\n",
       "        text-align: right;\n",
       "    }\n",
       "</style>\n",
       "<table border=\"1\" class=\"dataframe\">\n",
       "  <thead>\n",
       "    <tr style=\"text-align: right;\">\n",
       "      <th></th>\n",
       "      <th>element_id</th>\n",
       "      <th>x</th>\n",
       "      <th>y</th>\n",
       "      <th>width</th>\n",
       "      <th>height</th>\n",
       "      <th>predicted_label</th>\n",
       "      <th>predicted_probability</th>\n",
       "      <th>sort_key</th>\n",
       "    </tr>\n",
       "  </thead>\n",
       "  <tbody>\n",
       "    <tr>\n",
       "      <th>0</th>\n",
       "      <td>9288518587637055047321934274</td>\n",
       "      <td>8.000</td>\n",
       "      <td>8</td>\n",
       "      <td>79.078125</td>\n",
       "      <td>36.5</td>\n",
       "      <td>button</td>\n",
       "      <td>0.999996</td>\n",
       "      <td>2886.351562</td>\n",
       "    </tr>\n",
       "    <tr>\n",
       "      <th>1</th>\n",
       "      <td>3661317878637055041302661643</td>\n",
       "      <td>202.625</td>\n",
       "      <td>8</td>\n",
       "      <td>64.000000</td>\n",
       "      <td>36.5</td>\n",
       "      <td>button</td>\n",
       "      <td>0.999905</td>\n",
       "      <td>2336.000000</td>\n",
       "    </tr>\n",
       "  </tbody>\n",
       "</table>\n",
       "</div>"
      ],
      "text/plain": [
       "                     element_id        x  y      width  height  \\\n",
       "0  9288518587637055047321934274    8.000  8  79.078125    36.5   \n",
       "1  3661317878637055041302661643  202.625  8  64.000000    36.5   \n",
       "\n",
       "  predicted_label  predicted_probability     sort_key  \n",
       "0          button               0.999996  2886.351562  \n",
       "1          button               0.999905  2336.000000  "
      ]
     },
     "execution_count": 12,
     "metadata": {},
     "output_type": "execute_result"
    }
   ],
   "source": [
    "preds_big"
   ]
  },
  {
   "cell_type": "markdown",
   "metadata": {},
   "source": []
  }
 ],
 "metadata": {
  "interpreter": {
   "hash": "668ef8e5884dc3f6c7a385d426ec114c978b2f69913d82ea0913105f6d1e06ce"
  },
  "kernelspec": {
   "display_name": "Python 3 (ipykernel)",
   "language": "python",
   "name": "python3"
  },
  "language_info": {
   "codemirror_mode": {
    "name": "ipython",
    "version": 3
   },
   "file_extension": ".py",
   "mimetype": "text/x-python",
   "name": "python",
   "nbconvert_exporter": "python",
   "pygments_lexer": "ipython3",
   "version": "3.7.9"
  }
 },
 "nbformat": 4,
 "nbformat_minor": 2
}
