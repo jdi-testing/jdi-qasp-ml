{
 "cells": [
  {
   "cell_type": "code",
   "execution_count": 1,
   "id": "a6ed5ce4",
   "metadata": {},
   "outputs": [
    {
     "name": "stdout",
     "output_type": "stream",
     "text": [
      "2021-06-10 15:25:51,323 -INFO - config:config.py:16 - Module utils.config was loaded\n",
      "2021-06-10 15:25:51,326 -INFO - common:common.py:618 - Module utils.common is loaded...\n",
      "2021-06-10 15:25:51,345 -INFO - hidden:hidden.py:121 - hidden module is loaded\n",
      "2021-06-10 15:25:51,389 -INFO - dataset_builder:dataset_builder.py:207 - dataset package is loaded...\n",
      "2021-06-10 15:26:10,438 -INFO - dataset:dataset.py:653 - dataset module is loaded...\n"
     ]
    },
    {
     "data": {
      "text/html": [
       "2021-06-10 15:26:10.474791 - Current working directory: <b>D:\\DataScience\\!WORK\\jdi-qasp-ml</b>"
      ],
      "text/plain": [
       "<IPython.core.display.HTML object>"
      ]
     },
     "metadata": {},
     "output_type": "display_data"
    }
   ],
   "source": [
    "import sys\n",
    "import re\n",
    "import os\n",
    "from datetime import datetime\n",
    "from time import sleep\n",
    "from IPython.display import display, clear_output, HTML\n",
    "\n",
    "# set working dir\n",
    "WORKING_DIR = re.sub('jdi-qasp-ml.*$','',os.path.normpath(os.getcwd())) + 'jdi-qasp-ml'\n",
    "os.chdir(WORKING_DIR)\n",
    "\n",
    "import utils\n",
    "from utils import *\n",
    "import torch\n",
    "import pandas as pd\n",
    "import numpy as np\n",
    "import torch\n",
    "from glob import glob\n",
    "import selenium\n",
    "from tqdm.auto import tqdm\n",
    "\n",
    "START_TS = datetime.now()\n",
    "display(HTML(f'{START_TS} - Current working directory: <b>{WORKING_DIR}</b>'))\n",
    "\n",
    "import matplotlib.pyplot as plt\n",
    "import matplotlib.patches as patches\n",
    "%matplotlib inline\n",
    "\n",
    "import numba\n"
   ]
  },
  {
   "cell_type": "code",
   "execution_count": 3,
   "id": "2ba16f09",
   "metadata": {},
   "outputs": [
    {
     "data": {
      "text/plain": [
       "{'ac-avto161',\n",
       " 'angular',\n",
       " 'bootstrap',\n",
       " 'bootstrap-1',\n",
       " 'bootstrap-form',\n",
       " 'bootstrap-forms',\n",
       " 'bootstrap-reboot',\n",
       " 'cnews',\n",
       " 'complex-table',\n",
       " 'contact-form',\n",
       " 'dates',\n",
       " 'different-elements',\n",
       " 'dummy',\n",
       " 'gitlab',\n",
       " 'google-voice',\n",
       " 'html-5',\n",
       " 'login',\n",
       " 'material-ui-Button Groups',\n",
       " 'material-ui-Buttons',\n",
       " 'material-ui-Checkbox',\n",
       " 'material-ui-Floating Action Button',\n",
       " 'material-ui-List',\n",
       " 'material-ui-Progress',\n",
       " 'material-ui-Radio',\n",
       " 'material-ui-Select',\n",
       " 'material-ui-Slider',\n",
       " 'material-ui-Switch',\n",
       " 'material-ui-Text Field',\n",
       " 'material-ui-Textarea Autosize',\n",
       " 'metals-and-colors',\n",
       " 'mobile-and-html-5',\n",
       " 'ms-office',\n",
       " 'ozon',\n",
       " 'performance',\n",
       " 'phys-org',\n",
       " 'react-ant',\n",
       " 'search',\n",
       " 'simple-table',\n",
       " 'support',\n",
       " 'table-with-pages',\n",
       " 'user-table',\n",
       " 'wildberries'}"
      ]
     },
     "execution_count": 3,
     "metadata": {},
     "output_type": "execute_result"
    }
   ],
   "source": [
    "# JDIDataset.gen_dataset_names()\n",
    "datasets = "
   ]
  },
  {
   "cell_type": "code",
   "execution_count": null,
   "id": "7d44963a",
   "metadata": {},
   "outputs": [],
   "source": []
  }
 ],
 "metadata": {
  "kernelspec": {
   "display_name": "Python 3",
   "language": "python",
   "name": "python3"
  },
  "language_info": {
   "codemirror_mode": {
    "name": "ipython",
    "version": 3
   },
   "file_extension": ".py",
   "mimetype": "text/x-python",
   "name": "python",
   "nbconvert_exporter": "python",
   "pygments_lexer": "ipython3",
   "version": "3.7.9"
  }
 },
 "nbformat": 4,
 "nbformat_minor": 5
}
