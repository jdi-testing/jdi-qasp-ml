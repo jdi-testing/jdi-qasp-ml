{
 "cells": [
  {
   "cell_type": "code",
   "execution_count": 1,
   "id": "a6ed5ce4",
   "metadata": {},
   "outputs": [
    {
     "name": "stdout",
     "output_type": "stream",
     "text": [
      "2021-06-20 14:48:41,004 -INFO - config:config.py:16 - Module utils.config was loaded\n",
      "2021-06-20 14:48:41,004 -INFO - common:common.py:618 - Module utils.common is loaded...\n",
      "2021-06-20 14:48:41,007 -INFO - hidden:hidden.py:121 - hidden module is loaded\n",
      "2021-06-20 14:48:41,304 -INFO - features_builder:features_builder.py:305 - feature_bilder module is loaded...\n",
      "2021-06-20 14:48:41,309 -INFO - dataset_builder:dataset_builder.py:207 - dataset package is loaded...\n",
      "2021-06-20 14:48:41,648 -INFO - dataset:dataset.py:277 - dataset module is loaded...\n"
     ]
    },
    {
     "data": {
      "text/html": [
       "2021-06-20 14:48:41.648934 - Current working directory: <b>D:\\DataScience\\!WORK\\jdi-qasp-ml</b>"
      ],
      "text/plain": [
       "<IPython.core.display.HTML object>"
      ]
     },
     "metadata": {},
     "output_type": "display_data"
    }
   ],
   "source": [
    "import sys\n",
    "import re\n",
    "import os\n",
    "from datetime import datetime\n",
    "from time import sleep\n",
    "from IPython.display import display, clear_output, HTML\n",
    "import logging\n",
    "\n",
    "# set working dir\n",
    "WORKING_DIR = re.sub('jdi-qasp-ml.*$','',os.path.normpath(os.getcwd())) + 'jdi-qasp-ml'\n",
    "os.chdir(WORKING_DIR)\n",
    "\n",
    "import utils\n",
    "from utils import *\n",
    "import torch\n",
    "import pandas as pd\n",
    "import numpy as np\n",
    "import torch\n",
    "from glob import glob\n",
    "import selenium\n",
    "from tqdm.auto import tqdm, trange\n",
    "\n",
    "START_TS = datetime.now()\n",
    "display(HTML(f'{START_TS} - Current working directory: <b>{WORKING_DIR}</b>'))\n",
    "\n",
    "import matplotlib.pyplot as plt\n",
    "import matplotlib.patches as patches\n",
    "%matplotlib inline\n",
    "from scipy.sparse import csc_matrix, csr_matrix\n",
    "\n",
    "import numba\n"
   ]
  },
  {
   "cell_type": "code",
   "execution_count": 2,
   "id": "a88157df",
   "metadata": {},
   "outputs": [],
   "source": [
    "from sklearn.preprocessing import OneHotEncoder\n",
    "from sklearn.feature_extraction.text import CountVectorizer, TfidfVectorizer\n",
    "\n"
   ]
  },
  {
   "cell_type": "code",
   "execution_count": 3,
   "id": "70701c8d",
   "metadata": {},
   "outputs": [],
   "source": [
    "logger.setLevel(logging.WARNING)"
   ]
  },
  {
   "cell_type": "code",
   "execution_count": 4,
   "id": "be5eb6c4",
   "metadata": {},
   "outputs": [
    {
     "data": {
      "text/plain": [
       "['angular',\n",
       " 'bootstrap-1',\n",
       " 'bootstrap-form',\n",
       " 'bootstrap-forms',\n",
       " 'bootstrap-reboot',\n",
       " 'bootstrap',\n",
       " 'cnews',\n",
       " 'complex-table',\n",
       " 'contact-form',\n",
       " 'dates',\n",
       " 'different-elements',\n",
       " 'gitlab',\n",
       " 'google-voice',\n",
       " 'html-5',\n",
       " 'login',\n",
       " 'material-ui-Button Groups',\n",
       " 'material-ui-Buttons',\n",
       " 'material-ui-Checkbox',\n",
       " 'material-ui-Floating Action Button',\n",
       " 'material-ui-List',\n",
       " 'material-ui-Progress',\n",
       " 'material-ui-Radio',\n",
       " 'material-ui-Select',\n",
       " 'material-ui-Slider',\n",
       " 'material-ui-Switch',\n",
       " 'material-ui-Text Field',\n",
       " 'material-ui-Textarea Autosize',\n",
       " 'metals-and-colors',\n",
       " 'mobile-and-html-5',\n",
       " 'ms-office',\n",
       " 'ozon',\n",
       " 'performance',\n",
       " 'phys-org',\n",
       " 'react-ant',\n",
       " 'search',\n",
       " 'simple-table',\n",
       " 'support',\n",
       " 'table-with-pages',\n",
       " 'user-table',\n",
       " 'wildberries']"
      ]
     },
     "execution_count": 4,
     "metadata": {},
     "output_type": "execute_result"
    }
   ],
   "source": [
    "datasets = [re.sub(r'^.*[/\\\\]+', '', re.sub(r'.parquet$', '', fn)) for fn in glob('dataset/df/*.parquet')]\n",
    "datasets = [ d for d in datasets if not re.match(r'[0-9]+', d) and (d not in ['dummy', 'ac-avto161'])]\n",
    "datasets"
   ]
  },
  {
   "cell_type": "code",
   "execution_count": 5,
   "id": "155c9a31",
   "metadata": {
    "scrolled": false
   },
   "outputs": [
    {
     "data": {
      "application/vnd.jupyter.widget-view+json": {
       "model_id": "05b583c782ee48a7967e13f6bfafe2f5",
       "version_major": 2,
       "version_minor": 0
      },
      "text/plain": [
       "  0%|          | 0/40 [00:00<?, ?it/s]"
      ]
     },
     "metadata": {},
     "output_type": "display_data"
    }
   ],
   "source": [
    "ds_list = []\n",
    "with trange(len(datasets)) as bar:\n",
    "    for ds in datasets:\n",
    "        bar.set_postfix_str(f'Processing dataset: \"{ds}\"')\n",
    "        df_file_path = f'dataset/df/{ds}.parquet'\n",
    "        ann_file_path = f'dataset/annotations/{ds}.txt'\n",
    "        \n",
    "        if not os.path.exists(ann_file_path):\n",
    "            print('skip:', (ann_file_path, df_file_path))\n",
    "        else:\n",
    "            df = pd.read_parquet(df_file_path)\n",
    "            df = build_features(df)\n",
    "            df = assign_labels(df=df, annotations_file_path=ann_file_path)\n",
    "            ds_list.append(df)\n",
    "            \n",
    "        bar.update(1)\n",
    "\n",
    "df = pd.concat(ds_list).copy()"
   ]
  },
  {
   "cell_type": "code",
   "execution_count": 6,
   "id": "6bf43d3b",
   "metadata": {},
   "outputs": [
    {
     "data": {
      "text/plain": [
       "((47324,), 47324)"
      ]
     },
     "execution_count": 6,
     "metadata": {},
     "output_type": "execute_result"
    }
   ],
   "source": [
    "df.element_id.shape, df.element_id.nunique()"
   ]
  },
  {
   "cell_type": "code",
   "execution_count": 7,
   "id": "163393fa",
   "metadata": {},
   "outputs": [
    {
     "data": {
      "text/plain": [
       "4500"
      ]
     },
     "execution_count": 7,
     "metadata": {},
     "output_type": "execute_result"
    }
   ],
   "source": [
    "df[df.label_text != 'n/a'].shape[0]"
   ]
  },
  {
   "cell_type": "code",
   "execution_count": 8,
   "id": "52e6a665",
   "metadata": {},
   "outputs": [
    {
     "data": {
      "text/html": [
       "<div>\n",
       "<style scoped>\n",
       "    .dataframe tbody tr th:only-of-type {\n",
       "        vertical-align: middle;\n",
       "    }\n",
       "\n",
       "    .dataframe tbody tr th {\n",
       "        vertical-align: top;\n",
       "    }\n",
       "\n",
       "    .dataframe thead th {\n",
       "        text-align: right;\n",
       "    }\n",
       "</style>\n",
       "<table border=\"1\" class=\"dataframe\">\n",
       "  <thead>\n",
       "    <tr style=\"text-align: right;\">\n",
       "      <th></th>\n",
       "      <th>label_text</th>\n",
       "    </tr>\n",
       "  </thead>\n",
       "  <tbody>\n",
       "    <tr>\n",
       "      <th>n/a</th>\n",
       "      <td>42824</td>\n",
       "    </tr>\n",
       "    <tr>\n",
       "      <th>link</th>\n",
       "      <td>2359</td>\n",
       "    </tr>\n",
       "    <tr>\n",
       "      <th>button</th>\n",
       "      <td>1207</td>\n",
       "    </tr>\n",
       "    <tr>\n",
       "      <th>checkbox</th>\n",
       "      <td>245</td>\n",
       "    </tr>\n",
       "    <tr>\n",
       "      <th>textfield</th>\n",
       "      <td>229</td>\n",
       "    </tr>\n",
       "    <tr>\n",
       "      <th>radiobutton</th>\n",
       "      <td>122</td>\n",
       "    </tr>\n",
       "    <tr>\n",
       "      <th>selector</th>\n",
       "      <td>85</td>\n",
       "    </tr>\n",
       "    <tr>\n",
       "      <th>datetimeselector</th>\n",
       "      <td>34</td>\n",
       "    </tr>\n",
       "    <tr>\n",
       "      <th>table</th>\n",
       "      <td>32</td>\n",
       "    </tr>\n",
       "    <tr>\n",
       "      <th>slider</th>\n",
       "      <td>30</td>\n",
       "    </tr>\n",
       "    <tr>\n",
       "      <th>switch</th>\n",
       "      <td>29</td>\n",
       "    </tr>\n",
       "    <tr>\n",
       "      <th>tab</th>\n",
       "      <td>26</td>\n",
       "    </tr>\n",
       "    <tr>\n",
       "      <th>textarea</th>\n",
       "      <td>23</td>\n",
       "    </tr>\n",
       "    <tr>\n",
       "      <th>progressbar</th>\n",
       "      <td>21</td>\n",
       "    </tr>\n",
       "    <tr>\n",
       "      <th>range</th>\n",
       "      <td>12</td>\n",
       "    </tr>\n",
       "    <tr>\n",
       "      <th>tree-node</th>\n",
       "      <td>10</td>\n",
       "    </tr>\n",
       "    <tr>\n",
       "      <th>fileinput</th>\n",
       "      <td>8</td>\n",
       "    </tr>\n",
       "    <tr>\n",
       "      <th>steper</th>\n",
       "      <td>7</td>\n",
       "    </tr>\n",
       "    <tr>\n",
       "      <th>dropdown</th>\n",
       "      <td>7</td>\n",
       "    </tr>\n",
       "    <tr>\n",
       "      <th>colorpicker</th>\n",
       "      <td>6</td>\n",
       "    </tr>\n",
       "    <tr>\n",
       "      <th>iframe</th>\n",
       "      <td>5</td>\n",
       "    </tr>\n",
       "    <tr>\n",
       "      <th>numberselector</th>\n",
       "      <td>3</td>\n",
       "    </tr>\n",
       "  </tbody>\n",
       "</table>\n",
       "</div>"
      ],
      "text/plain": [
       "                  label_text\n",
       "n/a                    42824\n",
       "link                    2359\n",
       "button                  1207\n",
       "checkbox                 245\n",
       "textfield                229\n",
       "radiobutton              122\n",
       "selector                  85\n",
       "datetimeselector          34\n",
       "table                     32\n",
       "slider                    30\n",
       "switch                    29\n",
       "tab                       26\n",
       "textarea                  23\n",
       "progressbar               21\n",
       "range                     12\n",
       "tree-node                 10\n",
       "fileinput                  8\n",
       "steper                     7\n",
       "dropdown                   7\n",
       "colorpicker                6\n",
       "iframe                     5\n",
       "numberselector             3"
      ]
     },
     "execution_count": 8,
     "metadata": {},
     "output_type": "execute_result"
    }
   ],
   "source": [
    "label_s = df.label_text.value_counts()\n",
    "pd.DataFrame(label_s)"
   ]
  },
  {
   "cell_type": "code",
   "execution_count": 9,
   "id": "cf700c3c",
   "metadata": {},
   "outputs": [
    {
     "data": {
      "image/png": "[encoded data removed]",
      "text/plain": [
       "<Figure size 720x432 with 1 Axes>"
      ]
     },
     "metadata": {
      "needs_background": "light"
     },
     "output_type": "display_data"
    }
   ],
   "source": [
    "plt.figure(figsize=(10, 6))\n",
    "plt.grid(True)\n",
    "plt.bar(label_s.index, label_s.values)\n",
    "_ = plt.xticks(rotation='vertical')\n"
   ]
  },
  {
   "cell_type": "code",
   "execution_count": 10,
   "id": "8a2f758e",
   "metadata": {},
   "outputs": [
    {
     "data": {
      "text/plain": [
       "(4500, 42824)"
      ]
     },
     "execution_count": 10,
     "metadata": {},
     "output_type": "execute_result"
    }
   ],
   "source": [
    "label_s.iloc[1:].sum(), label_s.iloc[0]"
   ]
  },
  {
   "cell_type": "code",
   "execution_count": 11,
   "id": "e46dc9c1",
   "metadata": {},
   "outputs": [],
   "source": [
    "# plt.figure(figsize=(10,10))\n",
    "# plt.pie(x=label_s.values, \n",
    "#         labels=label_s.index, \n",
    "#         labeldistance=1.1,\n",
    "#         shadow=False,\n",
    "#         explode = [0.1 for _ in label_s.index]\n",
    "#        );"
   ]
  },
  {
   "cell_type": "code",
   "execution_count": 12,
   "id": "76d20aa1",
   "metadata": {},
   "outputs": [
    {
     "data": {
      "text/plain": [
       "DIV                          12660\n",
       "SPAN                          9155\n",
       "A                             3837\n",
       "TD                            2750\n",
       "LI                            1918\n",
       "                             ...  \n",
       "EXAMPLE-TEL-INPUT                1\n",
       "SIDENAV-MODE-EXAMPLE             1\n",
       "RADIO-OVERVIEW-EXAMPLE           1\n",
       "DATEPICKER-EVENTS-EXAMPLE        1\n",
       "MAT-NAV-LIST                     1\n",
       "Name: tag_name, Length: 308, dtype: int64"
      ]
     },
     "execution_count": 12,
     "metadata": {},
     "output_type": "execute_result"
    }
   ],
   "source": [
    "df.tag_name.value_counts()"
   ]
  },
  {
   "cell_type": "markdown",
   "id": "5a5e6963",
   "metadata": {},
   "source": [
    "# tag_name"
   ]
  },
  {
   "cell_type": "code",
   "execution_count": 13,
   "id": "a99e6154",
   "metadata": {},
   "outputs": [
    {
     "data": {
      "text/plain": [
       "A                    2263\n",
       "DIV                   771\n",
       "BUTTON                507\n",
       "INPUT                 481\n",
       "LABEL                  78\n",
       "SPAN                   75\n",
       "LI                     53\n",
       "SELECT                 52\n",
       "P                      44\n",
       "MAT-RADIO-BUTTON       28\n",
       "MAT-CHECKBOX           23\n",
       "TABLE                  23\n",
       "MAT-SELECT             22\n",
       "TEXTAREA               22\n",
       "SVG                    13\n",
       "MAT-TREE-NODE           8\n",
       "IMG                     8\n",
       "IFRAME                  5\n",
       "MAT-SLIDER              5\n",
       "MAT-BUTTON-TOGGLE       5\n",
       "MAT-SLIDE-TOGGLE        3\n",
       "RECT                    2\n",
       "PROGRESS                2\n",
       "CIRCLE                  2\n",
       "I                       1\n",
       "MAT-TABLE               1\n",
       "H5                      1\n",
       "H2                      1\n",
       "G                       1\n",
       "Name: tag_name, dtype: int64"
      ]
     },
     "metadata": {},
     "output_type": "display_data"
    }
   ],
   "source": [
    "tag_name_series = df[df.label_text != 'n/a'].tag_name.value_counts()\n",
    "display(tag_name_series)\n",
    "tag_name_set = set(tag_name_series.index)"
   ]
  },
  {
   "cell_type": "code",
   "execution_count": 14,
   "id": "1c37d9e4",
   "metadata": {},
   "outputs": [
    {
     "data": {
      "text/plain": [
       "OneHotEncoder(categories=[['MAT-TREE-NODE', 'INPUT', 'CIRCLE', 'DIV', 'TABLE',\n",
       "                           'SELECT', 'MAT-CHECKBOX', 'MAT-SLIDE-TOGGLE', 'LI',\n",
       "                           'BUTTON', 'MAT-TABLE', 'TEXTAREA', 'IMG', 'RECT',\n",
       "                           'H2', 'MAT-RADIO-BUTTON', 'LABEL', 'P', 'IFRAME',\n",
       "                           'SVG', 'MAT-SELECT', 'A', 'PROGRESS', 'MAT-SLIDER',\n",
       "                           'G', 'MAT-BUTTON-TOGGLE', 'I', 'SPAN', 'H5']],\n",
       "              handle_unknown='ignore')"
      ]
     },
     "execution_count": 14,
     "metadata": {},
     "output_type": "execute_result"
    }
   ],
   "source": [
    "tag_name_ohe = OneHotEncoder(handle_unknown='ignore', categories=[list(tag_name_set)])\n",
    "tag_name_ohe"
   ]
  },
  {
   "cell_type": "code",
   "execution_count": 15,
   "id": "39a729e8",
   "metadata": {},
   "outputs": [
    {
     "data": {
      "text/plain": [
       "array([['DIV'],\n",
       "       ['DIV'],\n",
       "       ['PATH'],\n",
       "       ...,\n",
       "       ['DIV'],\n",
       "       ['H4'],\n",
       "       ['USE']], dtype=object)"
      ]
     },
     "execution_count": 15,
     "metadata": {},
     "output_type": "execute_result"
    }
   ],
   "source": [
    "np.expand_dims(df.tag_name.values, -1)"
   ]
  },
  {
   "cell_type": "code",
   "execution_count": 16,
   "id": "40b37554",
   "metadata": {},
   "outputs": [
    {
     "data": {
      "text/plain": [
       "OneHotEncoder(categories=[['MAT-TREE-NODE', 'INPUT', 'CIRCLE', 'DIV', 'TABLE',\n",
       "                           'SELECT', 'MAT-CHECKBOX', 'MAT-SLIDE-TOGGLE', 'LI',\n",
       "                           'BUTTON', 'MAT-TABLE', 'TEXTAREA', 'IMG', 'RECT',\n",
       "                           'H2', 'MAT-RADIO-BUTTON', 'LABEL', 'P', 'IFRAME',\n",
       "                           'SVG', 'MAT-SELECT', 'A', 'PROGRESS', 'MAT-SLIDER',\n",
       "                           'G', 'MAT-BUTTON-TOGGLE', 'I', 'SPAN', 'H5']],\n",
       "              handle_unknown='ignore')"
      ]
     },
     "execution_count": 16,
     "metadata": {},
     "output_type": "execute_result"
    }
   ],
   "source": [
    "tag_name_ohe.fit(np.expand_dims(df[df.label_text != 'n/a'].tag_name.values, -1))"
   ]
  },
  {
   "cell_type": "code",
   "execution_count": 17,
   "id": "129d7e86",
   "metadata": {},
   "outputs": [
    {
     "data": {
      "text/plain": [
       "<47324x29 sparse matrix of type '<class 'numpy.float64'>'\n",
       "\twith 33845 stored elements in Compressed Sparse Row format>"
      ]
     },
     "execution_count": 17,
     "metadata": {},
     "output_type": "execute_result"
    }
   ],
   "source": [
    "tag_name_sm = tag_name_ohe.transform(np.expand_dims(df.tag_name.values, -1))\n",
    "tag_name_sm"
   ]
  },
  {
   "cell_type": "code",
   "execution_count": 18,
   "id": "6696ee71",
   "metadata": {},
   "outputs": [
    {
     "name": "stdout",
     "output_type": "stream",
     "text": [
      "2021-06-20 14:49:14,543 -INFO - features_builder:features_builder.py:228 - used column: tag_name\n",
      "2021-06-20 14:49:14,544 -INFO - features_builder:features_builder.py:231 - loading model/ohe_tag_name.pkl\n"
     ]
    },
    {
     "data": {
      "text/plain": [
       "<47324x28 sparse matrix of type '<class 'numpy.float64'>'\n",
       "\twith 33557 stored elements in Compressed Sparse Row format>"
      ]
     },
     "execution_count": 18,
     "metadata": {},
     "output_type": "execute_result"
    }
   ],
   "source": [
    "logger.setLevel(logging.DEBUG)\n",
    "tag_name_sm = build_tag_name_feature(df)\n",
    "tag_name_sm"
   ]
  },
  {
   "cell_type": "markdown",
   "id": "e1a115b5",
   "metadata": {},
   "source": [
    "# attributes.role"
   ]
  },
  {
   "cell_type": "code",
   "execution_count": 19,
   "id": "b5512a64",
   "metadata": {},
   "outputs": [
    {
     "data": {
      "text/plain": [
       "               3780\n",
       "button          616\n",
       "tab              34\n",
       "listbox          22\n",
       "grid             12\n",
       "switch            9\n",
       "combobox          8\n",
       "group             8\n",
       "slider            5\n",
       "progressbar       3\n",
       "option            3\n",
       "Name: attributes, dtype: int64"
      ]
     },
     "execution_count": 19,
     "metadata": {},
     "output_type": "execute_result"
    }
   ],
   "source": [
    "attr_role_series = df[df.label_text != 'n/a'].attributes.apply(lambda x: None if x is None else x.get('role')).fillna('')\n",
    "attr_role_series.value_counts()"
   ]
  },
  {
   "cell_type": "code",
   "execution_count": 20,
   "id": "2eb7b7f6",
   "metadata": {},
   "outputs": [
    {
     "data": {
      "text/plain": [
       "OneHotEncoder(handle_unknown='ignore')"
      ]
     },
     "execution_count": 20,
     "metadata": {},
     "output_type": "execute_result"
    }
   ],
   "source": [
    "attr_role_ohe = OneHotEncoder(handle_unknown='ignore').fit(np.expand_dims(attr_role_series.values, -1))\n",
    "attr_role_ohe"
   ]
  },
  {
   "cell_type": "code",
   "execution_count": 21,
   "id": "fe88f98b",
   "metadata": {},
   "outputs": [
    {
     "data": {
      "text/plain": [
       "<47324x11 sparse matrix of type '<class 'numpy.float64'>'\n",
       "\twith 46135 stored elements in Compressed Sparse Row format>"
      ]
     },
     "execution_count": 21,
     "metadata": {},
     "output_type": "execute_result"
    }
   ],
   "source": [
    "attr_role_sm = attr_role_ohe.transform(\n",
    "    np.expand_dims(\n",
    "        df.attributes.apply(lambda x: None if x is None else x.get('role')).fillna(''),\n",
    "        -1\n",
    "    )\n",
    ")\n",
    "attr_role_sm"
   ]
  },
  {
   "cell_type": "code",
   "execution_count": 22,
   "id": "f5ffc0e7",
   "metadata": {},
   "outputs": [
    {
     "name": "stdout",
     "output_type": "stream",
     "text": [
      "2021-06-20 14:49:14,653 -INFO - features_builder:features_builder.py:251 - used column: attributes\n",
      "2021-06-20 14:49:14,654 -INFO - features_builder:features_builder.py:254 - loading model/ohe_role.pkl\n"
     ]
    },
    {
     "data": {
      "text/plain": [
       "<47324x11 sparse matrix of type '<class 'numpy.float64'>'\n",
       "\twith 46135 stored elements in Compressed Sparse Row format>"
      ]
     },
     "execution_count": 22,
     "metadata": {},
     "output_type": "execute_result"
    }
   ],
   "source": [
    "logger.setLevel(logging.DEBUG)\n",
    "role_sm = build_role_feature(df)\n",
    "role_sm"
   ]
  },
  {
   "cell_type": "markdown",
   "id": "a9f444ad",
   "metadata": {},
   "source": [
    "# attributes.type"
   ]
  },
  {
   "cell_type": "code",
   "execution_count": 23,
   "id": "7bb5c77e",
   "metadata": {},
   "outputs": [
    {
     "data": {
      "text/plain": [
       "                               3703\n",
       "button                          339\n",
       "checkbox                        151\n",
       "text                             95\n",
       "submit                           41\n",
       "number                           34\n",
       "radio                            31\n",
       "range                            22\n",
       "search                           15\n",
       "password                         13\n",
       "email                            13\n",
       "file                              9\n",
       "addToCartButtonWithQuantity       6\n",
       "reset                             5\n",
       "color                             5\n",
       "datetime-local                    3\n",
       "month                             3\n",
       "time                              3\n",
       "week                              3\n",
       "date                              3\n",
       "tel                               2\n",
       "url                               1\n",
       "Name: attributes, dtype: int64"
      ]
     },
     "execution_count": 23,
     "metadata": {},
     "output_type": "execute_result"
    }
   ],
   "source": [
    "attr_type_series = df[df.label_text != 'n/a'].attributes.apply(lambda x: None if x is None else x.get('type')).fillna('')\n",
    "attr_type_series.value_counts()"
   ]
  },
  {
   "cell_type": "code",
   "execution_count": 24,
   "id": "2b4c430e",
   "metadata": {},
   "outputs": [
    {
     "data": {
      "text/plain": [
       "OneHotEncoder(handle_unknown='ignore')"
      ]
     },
     "execution_count": 24,
     "metadata": {},
     "output_type": "execute_result"
    }
   ],
   "source": [
    "attr_type_ohe = OneHotEncoder(handle_unknown='ignore').fit(np.expand_dims(attr_type_series.values, -1))\n",
    "attr_type_ohe"
   ]
  },
  {
   "cell_type": "code",
   "execution_count": 25,
   "id": "a022c066",
   "metadata": {},
   "outputs": [
    {
     "data": {
      "text/plain": [
       "<47324x22 sparse matrix of type '<class 'numpy.float64'>'\n",
       "\twith 47069 stored elements in Compressed Sparse Row format>"
      ]
     },
     "execution_count": 25,
     "metadata": {},
     "output_type": "execute_result"
    }
   ],
   "source": [
    "attr_type_sm = attr_type_ohe.transform(\n",
    "    np.expand_dims(\n",
    "        df.attributes.apply(lambda x: None if x is None else x.get('type')).fillna(''),\n",
    "        -1\n",
    "    )\n",
    ")\n",
    "attr_type_sm"
   ]
  },
  {
   "cell_type": "code",
   "execution_count": 26,
   "id": "57d74102",
   "metadata": {},
   "outputs": [
    {
     "name": "stdout",
     "output_type": "stream",
     "text": [
      "2021-06-20 14:49:14,796 -INFO - features_builder:features_builder.py:279 - used column: attributes\n",
      "2021-06-20 14:49:14,797 -INFO - features_builder:features_builder.py:282 - loading model/ohe_type.pkl\n"
     ]
    },
    {
     "data": {
      "text/plain": [
       "<47324x22 sparse matrix of type '<class 'numpy.float64'>'\n",
       "\twith 47069 stored elements in Compressed Sparse Row format>"
      ]
     },
     "execution_count": 26,
     "metadata": {},
     "output_type": "execute_result"
    }
   ],
   "source": [
    "logger.setLevel(logging.DEBUG)\n",
    "type_sm = build_type_feature(df)\n",
    "type_sm"
   ]
  },
  {
   "cell_type": "markdown",
   "id": "1f27426c",
   "metadata": {},
   "source": [
    "# attributes.ui"
   ]
  },
  {
   "cell_type": "code",
   "execution_count": 27,
   "id": "e2e1f29a",
   "metadata": {},
   "outputs": [
    {
     "data": {
      "text/plain": [
       "               4444\n",
       "label            38\n",
       "furniture         5\n",
       "table             3\n",
       "dropdown          2\n",
       "d-table           2\n",
       "github-link       2\n",
       "link              1\n",
       "products          1\n",
       "products-2        1\n",
       "textarea          1\n",
       "Name: attributes, dtype: int64"
      ]
     },
     "execution_count": 27,
     "metadata": {},
     "output_type": "execute_result"
    }
   ],
   "source": [
    "attr_ui_series = df[df.label_text != 'n/a'].attributes.apply(lambda x: None if x is None else x.get('ui')).fillna('')\n",
    "attr_ui_series.value_counts()"
   ]
  },
  {
   "cell_type": "code",
   "execution_count": 28,
   "id": "f235e9ae",
   "metadata": {},
   "outputs": [
    {
     "data": {
      "text/plain": [
       "OneHotEncoder(handle_unknown='ignore')"
      ]
     },
     "execution_count": 28,
     "metadata": {},
     "output_type": "execute_result"
    }
   ],
   "source": [
    "attr_ui_ohe = OneHotEncoder(handle_unknown='ignore').fit(np.expand_dims(attr_ui_series.values, -1))\n",
    "attr_ui_ohe"
   ]
  },
  {
   "cell_type": "code",
   "execution_count": 29,
   "id": "5e147c07",
   "metadata": {},
   "outputs": [
    {
     "data": {
      "text/plain": [
       "<47324x11 sparse matrix of type '<class 'numpy.float64'>'\n",
       "\twith 47315 stored elements in Compressed Sparse Row format>"
      ]
     },
     "execution_count": 29,
     "metadata": {},
     "output_type": "execute_result"
    }
   ],
   "source": [
    "attr_ui_sm = attr_ui_ohe.transform(\n",
    "    np.expand_dims(\n",
    "        df.attributes.apply(lambda x: None if x is None else x.get('ui')).fillna(''),\n",
    "        -1\n",
    "    )\n",
    ")\n",
    "attr_ui_sm"
   ]
  },
  {
   "cell_type": "markdown",
   "id": "eecc84a8",
   "metadata": {},
   "source": [
    "- I find that column UI is useless"
   ]
  },
  {
   "cell_type": "markdown",
   "id": "3cbafdef",
   "metadata": {},
   "source": [
    "# attributes.class"
   ]
  },
  {
   "cell_type": "code",
   "execution_count": 30,
   "id": "51bd929b",
   "metadata": {},
   "outputs": [
    {
     "data": {
      "text/plain": [
       "                                                                                                                                        1368\n",
       "MuiButtonBase-root MuiListItem-root MuiListItem-gutters MuiListItem-button                                                               592\n",
       "news-link                                                                                                                                165\n",
       "_1-6r                                                                                                                                    124\n",
       "_1V0q                                                                                                                                    103\n",
       "                                                                                                                                        ... \n",
       "mat-input-element mat-form-field-autofill-control ng-tns-c95-83 cdk-text-field-autofill-monitored                                          1\n",
       "mat-focus-indicator mat-raised-button mat-button-base mat-primary                                                                          1\n",
       "mat-input-element mat-form-field-autofill-control ng-tns-c95-169 cdk-text-field-autofill-monitored ng-untouched ng-pristine ng-valid       1\n",
       "mat-focus-indicator mat-fab mat-button-base mat-warn                                                                                       1\n",
       "MuiCircularProgress-circle MuiCircularProgress-circleDisableShrink MuiCircularProgress-circleIndeterminate                                 1\n",
       "Name: attributes, Length: 560, dtype: int64"
      ]
     },
     "execution_count": 30,
     "metadata": {},
     "output_type": "execute_result"
    }
   ],
   "source": [
    "attr_class_series = df[df.label_text != 'n/a'].attributes.apply(lambda x: None if x is None else x.get('class')).fillna('')\n",
    "attr_class_series.value_counts()"
   ]
  },
  {
   "cell_type": "code",
   "execution_count": 31,
   "id": "04c4bb70",
   "metadata": {},
   "outputs": [],
   "source": [
    "class_cv = CountVectorizer()"
   ]
  },
  {
   "cell_type": "code",
   "execution_count": 32,
   "id": "1fefe837",
   "metadata": {},
   "outputs": [
    {
     "data": {
      "text/plain": [
       "CountVectorizer()"
      ]
     },
     "execution_count": 32,
     "metadata": {},
     "output_type": "execute_result"
    }
   ],
   "source": [
    "class_cv.fit(attr_class_series.values)"
   ]
  },
  {
   "cell_type": "code",
   "execution_count": 33,
   "id": "eac9edb1",
   "metadata": {},
   "outputs": [
    {
     "name": "stdout",
     "output_type": "stream",
     "text": [
      "363\n",
      "['above', 'accent', 'account', 'action', 'active', 'add', 'alert', 'align', 'all', 'anchorjs', 'ani', 'ant', 'appearance', 'arrow', 'autocomplete', 'autofill', 'autosize', 'badge', 'bannerclose', 'bar', 'base', 'before', 'benefits', 'black', 'block', 'blue', 'body', 'bold', 'border', 'bottom', 'brand', 'breaking', 'btn', 'btnprimary', 'buffer', 'button', 'buttonlink', 'buttonnew', 'buttontext', 'buy', 'carbon', 'card', 'carousel', 'cascader', 'cat', 'cdk', 'center', 'change', 'char', 'check', 'checkbox', 'checked', 'checkmark', 'children', 'chip', 'circle', 'circledisableshrink', 'circleindeterminate', 'click', 'clipboard', 'close', 'cnb', 'cnm', 'collapsed', 'colorprimary', 'colorsecondary', 'column', 'company', 'comparisons', 'contained', 'containedprimary', 'containedsecondary', 'containedsizelarge', 'containedsizesmall', 'container', 'content', 'control', 'corner', 'cta', 'current', 'custom', 'danger', 'dark', 'dashed', 'dashedcolorprimary', 'datatable', 'default', 'delete', 'dense', 'determinate', 'disabled', 'document', 'dot', 'down', 'download', 'drop', 'dropdown', 'dynamic', 'edgeend', 'effect', 'eid', 'element', 'elevation', 'empty', 'example', 'expand', 'extended', 'external', 'fab', 'field', 'file', 'fileinput', 'filled', 'filter', 'filters', 'first', 'flat', 'flex', 'focus', 'follow', 'footer', 'form', 'forworkbutton', 'forworklink', 'fullwidth', 'glyph', 'green', 'grey', 'grid', 'group', 'grouped', 'groupedcontained', 'groupedcontainedhorizontal', 'groupedcontainedprimary', 'groupedcontainedvertical', 'groupedhorizontal', 'groupedoutlined', 'groupedoutlinedhorizontal', 'groupedoutlinedprimary', 'groupedvertical', 'grow', 'gutters', 'handle', 'has', 'header', 'helplink', 'hero', 'hlvc', 'horiz', 'horizontal', 'hover', 'html', 'icon', 'iframe', 'image', 'img', 'indeterminate', 'indicator', 'infix', 'info', 'inline', 'innovations', 'input', 'inputadornedend', 'inputadornedstart', 'inputmargindense', 'inputmultiline', 'inputs', 'inputtypesearch', 'inserted', 'invalid', 'item', 'items', 'jump', 'label', 'labelplacementbottom', 'labelplacementstart', 'labelplacementtop', 'last', 'lavender', 'lazyloaded', 'learn', 'light', 'link', 'links', 'list', 'login', 'logo', 'low', 'main', 'margin', 'marked', 'mat', 'max', 'mdl', 'medium', 'menu', 'min', 'mini', 'mni', 'monitored', 'more', 'mui', 'muibox', 'muibutton', 'muibuttonbase', 'muibuttongroup', 'muicircularprogress', 'muifab', 'muifilledinput', 'muiformcontrollabel', 'muiiconbutton', 'muiinput', 'muiinputbase', 'muilinearprogress', 'muilistitem', 'muilistsubheader', 'muinativeselect', 'muioutlinedinput', 'muiselect', 'muislider', 'muiswitch', 'muitab', 'muitypography', 'multiselect', 'muted', 'name', 'nativeinput', 'nav', 'navbar', 'navigation', 'new', 'news', 'next', 'node', 'none', 'ntl', 'ocparticlelink', 'ocpexternallink', 'ocpimagelink', 'ocplinkwithimage', 'oneplayer', 'orange', 'other', 'outline', 'outlined', 'outlinedprimary', 'overlap', 'overlay', 'owl', 'page', 'pages', 'pagination', 'paginator', 'paging', 'per', 'photo', 'plain', 'position', 'postname', 'poweredby', 'prev', 'previous', 'primary', 'pristine', 'profile', 'progress', 'radio', 'raised', 'range', 'records', 'red', 'release', 'required', 'resource', 'right', 'ripple', 'root', 'rounded', 'row', 'scroll', 'search', 'secondary', 'secondaryaction', 'see', 'seemore', 'select', 'selected', 'selection', 'selectmenu', 'selectpicker', 'sgl', 'showing', 'sign', 'signuplink', 'sizelarge', 'sizesmall', 'slick', 'slide', 'slider', 'small', 'sort', 'source', 'split', 'stage', 'standard', 'star', 'state', 'static', 'step', 'stk', 'stripe', 'stroked', 'success', 'suphomeandlandingpagecta', 'suphomeandlandingpagectabutton', 'suphomeandlandingpagefooterelementcalltoaction', 'suphomeandlandingpagesearchbox', 'suphomeandlandingpagesearchbutton', 'suphomepageiconmorelink', 'svg', 'switch', 'switchbase', 'tab', 'table', 'target', 'tbl', 'technoblog', 'testic', 'text', 'textarea', 'textcolorprimary', 'textprimary', 'textsecondary', 'thumb', 'ticks', 'tile', 'tizer', 'tns', 'toggle', 'toggleoptions', 'toggler', 'topnavdropdownlink', 'topnavdropdowntrigger', 'track', 'tree', 'trigger', 'uhf', 'uhff', 'uhflogo', 'untouched', 'upload', 'userpic', 'uui', 'valid', 'value', 'vertical', 'video', 'violet', 'warn', 'widget', 'without', 'wrapper']\n"
     ]
    }
   ],
   "source": [
    "vocabulary = sorted([v for v in class_cv.vocabulary_.keys() if re.match(r'^[a-z]+$',v ) and len(v) > 2])\n",
    "print(len(vocabulary))\n",
    "print(vocabulary)"
   ]
  },
  {
   "cell_type": "code",
   "execution_count": 34,
   "id": "da3fd1e3",
   "metadata": {},
   "outputs": [
    {
     "data": {
      "text/plain": [
       "CountVectorizer(vocabulary=['above', 'accent', 'account', 'action', 'active',\n",
       "                            'add', 'alert', 'align', 'all', 'anchorjs', 'ani',\n",
       "                            'ant', 'appearance', 'arrow', 'autocomplete',\n",
       "                            'autofill', 'autosize', 'badge', 'bannerclose',\n",
       "                            'bar', 'base', 'before', 'benefits', 'black',\n",
       "                            'block', 'blue', 'body', 'bold', 'border', 'bottom', ...])"
      ]
     },
     "execution_count": 34,
     "metadata": {},
     "output_type": "execute_result"
    }
   ],
   "source": [
    "attr_class_cv = CountVectorizer(vocabulary=vocabulary) #.fit(attr_class_series.values)\n",
    "attr_class_cv"
   ]
  },
  {
   "cell_type": "code",
   "execution_count": 35,
   "id": "c17cce12",
   "metadata": {},
   "outputs": [
    {
     "data": {
      "text/plain": [
       "<4500x363 sparse matrix of type '<class 'numpy.int64'>'\n",
       "\twith 10678 stored elements in Compressed Sparse Row format>"
      ]
     },
     "execution_count": 35,
     "metadata": {},
     "output_type": "execute_result"
    }
   ],
   "source": [
    "attr_class_sm = attr_class_cv.transform(attr_class_series.values)\n",
    "attr_class_mx = attr_class_sm.todense()\n",
    "attr_class_sm"
   ]
  },
  {
   "cell_type": "code",
   "execution_count": 36,
   "id": "e834c145",
   "metadata": {},
   "outputs": [
    {
     "data": {
      "text/plain": [
       "matrix([[0, 1, 0, 0, 0, 0, 0, 0, 0, 0, 0, 0, 0, 0, 0, 0, 0, 0, 0, 0, 1,\n",
       "         0, 0, 0, 0, 0, 0, 0, 0, 0, 0, 0, 0, 0, 0, 1, 0, 0, 0, 0, 0, 0,\n",
       "         0, 0, 0, 0, 0, 0, 0, 0, 0, 0, 0, 0, 0, 0, 0, 0, 0, 0, 0, 0, 0,\n",
       "         0, 0, 0, 0, 0, 0, 0, 0, 0, 0, 0, 0, 0, 0, 0, 0, 0, 0, 0, 0, 0,\n",
       "         0, 0, 0, 0, 0, 0, 0, 0, 0, 0, 0, 0, 0, 0, 0, 0, 0, 0, 0, 0, 0,\n",
       "         0, 0, 0, 1, 0, 0, 0, 0, 0, 0, 0, 0, 0, 1, 0, 0, 0, 0, 0, 0, 0,\n",
       "         0, 0, 0, 0, 0, 0, 0, 0, 0, 0, 0, 0, 0, 0, 0, 0, 0, 0, 0, 0, 0,\n",
       "         0, 0, 0, 0, 0, 0, 0, 0, 0, 0, 1, 0, 0, 0, 0, 0, 0, 0, 0, 0, 0,\n",
       "         0, 0, 0, 0, 0, 0, 0, 0, 0, 0, 0, 0, 0, 0, 0, 0, 0, 0, 0, 0, 0,\n",
       "         0, 0, 0, 4, 0, 0, 0, 0, 0, 1, 0, 0, 0, 0, 0, 0, 0, 0, 0, 0, 0,\n",
       "         0, 0, 0, 0, 0, 0, 0, 0, 0, 0, 0, 0, 0, 0, 0, 0, 0, 0, 0, 0, 0,\n",
       "         0, 0, 0, 0, 0, 0, 0, 0, 0, 0, 0, 0, 0, 0, 0, 0, 0, 0, 0, 0, 0,\n",
       "         0, 0, 0, 0, 0, 0, 0, 0, 0, 0, 0, 0, 0, 0, 0, 0, 0, 0, 0, 0, 0,\n",
       "         0, 0, 0, 0, 0, 0, 0, 0, 0, 0, 0, 0, 0, 0, 0, 0, 0, 0, 0, 0, 0,\n",
       "         0, 0, 0, 0, 0, 0, 0, 0, 0, 0, 0, 0, 0, 0, 0, 0, 0, 0, 0, 0, 0,\n",
       "         0, 0, 0, 0, 0, 0, 0, 0, 0, 0, 0, 0, 0, 0, 0, 0, 0, 0, 0, 0, 0,\n",
       "         0, 0, 0, 0, 0, 0, 0, 0, 0, 0, 0, 0, 0, 0, 0, 0, 0, 0, 0, 0, 0,\n",
       "         0, 0, 0, 0, 0, 0]], dtype=int64)"
      ]
     },
     "execution_count": 36,
     "metadata": {},
     "output_type": "execute_result"
    }
   ],
   "source": [
    "attr_class_mx[10]"
   ]
  },
  {
   "cell_type": "code",
   "execution_count": 37,
   "id": "2bce06af",
   "metadata": {},
   "outputs": [],
   "source": [
    "attr_class_tfidf = TfidfVectorizer(vocabulary=vocabulary).fit(attr_class_series.values)"
   ]
  },
  {
   "cell_type": "code",
   "execution_count": 38,
   "id": "9fb72081",
   "metadata": {},
   "outputs": [
    {
     "data": {
      "text/plain": [
       "(<4500x363 sparse matrix of type '<class 'numpy.float64'>'\n",
       " \twith 10678 stored elements in Compressed Sparse Row format>,\n",
       " scipy.sparse.csr.csr_matrix)"
      ]
     },
     "execution_count": 38,
     "metadata": {},
     "output_type": "execute_result"
    }
   ],
   "source": [
    "attr_class_sm = attr_class_tfidf.transform(attr_class_series.values)\n",
    "attr_class_mx = attr_class_sm.todense()\n",
    "attr_class_sm, type(attr_class_sm)"
   ]
  },
  {
   "cell_type": "code",
   "execution_count": 39,
   "id": "31fbc527",
   "metadata": {},
   "outputs": [
    {
     "name": "stdout",
     "output_type": "stream",
     "text": [
      "2021-06-20 14:49:15,143 -INFO - features_builder:features_builder.py:188 - used column: attributes\n",
      "2021-06-20 14:49:15,144 -INFO - features_builder:features_builder.py:191 - TfIdfVectorizer for class attribute exists. Loaging...\n"
     ]
    },
    {
     "data": {
      "text/plain": [
       "<47324x353 sparse matrix of type '<class 'numpy.float64'>'\n",
       "\twith 60648 stored elements in Compressed Sparse Row format>"
      ]
     },
     "execution_count": 39,
     "metadata": {},
     "output_type": "execute_result"
    }
   ],
   "source": [
    "logger.setLevel(logging.DEBUG)\n",
    "attr_class_sm = build_class_feature(df)\n",
    "attr_class_sm"
   ]
  },
  {
   "cell_type": "markdown",
   "id": "67bbf4ba",
   "metadata": {},
   "source": [
    "# Explore attributes"
   ]
  },
  {
   "cell_type": "code",
   "execution_count": 40,
   "id": "8ec148ef",
   "metadata": {},
   "outputs": [
    {
     "name": "stdout",
     "output_type": "stream",
     "text": [
      "Number of labels: 4500\n"
     ]
    },
    {
     "data": {
      "application/vnd.jupyter.widget-view+json": {
       "model_id": "3b770822c7284095ab5db7ea4717ded3",
       "version_major": 2,
       "version_minor": 0
      },
      "text/plain": [
       "0it [00:00, ?it/s]"
      ]
     },
     "metadata": {},
     "output_type": "display_data"
    }
   ],
   "source": [
    "from collections import Counter\n",
    "\n",
    "stats_na = Counter()\n",
    "stats_ctl = Counter()\n",
    "stats_all = Counter()\n",
    "\n",
    "print('Number of labels:', df[df.label_text != 'n/a'].shape[0])\n",
    "\n",
    "# Will use Only attributes from labeled classes \n",
    "\n",
    "for _, r in tqdm(df[['attributes', 'label_text', 'displayed']].iterrows()):\n",
    "    if r.attributes is not None:\n",
    "        lst = [k for k in r.attributes.keys() if (r.attributes.get(k) is not None) and (str(r.attributes.get(k)).strip() != \"\")]\n",
    "        if r.label_text == 'n/a':\n",
    "            stats_na.update(lst)\n",
    "        else:\n",
    "            stats_ctl.update(lst)\n",
    "        stats_all.update(lst)\n",
    "attributes_na_df = pd.DataFrame({'keys': stats_na.keys(), 'counts': stats_na.values()}).sort_values(by='counts', ascending=False)\n",
    "\n",
    "attributes_ctl_df = pd.DataFrame({'keys': stats_ctl.keys(), 'counts': stats_ctl.values()}).sort_values(by='counts', ascending=False)\n",
    "attributes_all_df = pd.DataFrame({'keys': stats_all.keys(), 'counts': stats_all.values()}).sort_values(by='counts', ascending=False)\n"
   ]
  },
  {
   "cell_type": "code",
   "execution_count": 41,
   "id": "f5704f57",
   "metadata": {},
   "outputs": [
    {
     "data": {
      "text/html": [
       "<div>\n",
       "<style scoped>\n",
       "    .dataframe tbody tr th:only-of-type {\n",
       "        vertical-align: middle;\n",
       "    }\n",
       "\n",
       "    .dataframe tbody tr th {\n",
       "        vertical-align: top;\n",
       "    }\n",
       "\n",
       "    .dataframe thead th {\n",
       "        text-align: right;\n",
       "    }\n",
       "</style>\n",
       "<table border=\"1\" class=\"dataframe\">\n",
       "  <thead>\n",
       "    <tr style=\"text-align: right;\">\n",
       "      <th></th>\n",
       "      <th>keys</th>\n",
       "      <th>counts</th>\n",
       "      <th>p_all</th>\n",
       "    </tr>\n",
       "  </thead>\n",
       "  <tbody>\n",
       "    <tr>\n",
       "      <th>0</th>\n",
       "      <td>class</td>\n",
       "      <td>30612</td>\n",
       "      <td>0.646860</td>\n",
       "    </tr>\n",
       "    <tr>\n",
       "      <th>19</th>\n",
       "      <td>href</td>\n",
       "      <td>5076</td>\n",
       "      <td>0.107261</td>\n",
       "    </tr>\n",
       "    <tr>\n",
       "      <th>12</th>\n",
       "      <td>id</td>\n",
       "      <td>2628</td>\n",
       "      <td>0.055532</td>\n",
       "    </tr>\n",
       "    <tr>\n",
       "      <th>13</th>\n",
       "      <td>role</td>\n",
       "      <td>2258</td>\n",
       "      <td>0.047714</td>\n",
       "    </tr>\n",
       "    <tr>\n",
       "      <th>15</th>\n",
       "      <td>style</td>\n",
       "      <td>2207</td>\n",
       "      <td>0.046636</td>\n",
       "    </tr>\n",
       "    <tr>\n",
       "      <th>...</th>\n",
       "      <td>...</td>\n",
       "      <td>...</td>\n",
       "      <td>...</td>\n",
       "    </tr>\n",
       "    <tr>\n",
       "      <th>266</th>\n",
       "      <td>data-js-auto-suggest-position</td>\n",
       "      <td>1</td>\n",
       "      <td>0.000021</td>\n",
       "    </tr>\n",
       "    <tr>\n",
       "      <th>139</th>\n",
       "      <td>data-offset</td>\n",
       "      <td>1</td>\n",
       "      <td>0.000021</td>\n",
       "    </tr>\n",
       "    <tr>\n",
       "      <th>140</th>\n",
       "      <td>data-spy</td>\n",
       "      <td>1</td>\n",
       "      <td>0.000021</td>\n",
       "    </tr>\n",
       "    <tr>\n",
       "      <th>143</th>\n",
       "      <td>data-pause</td>\n",
       "      <td>1</td>\n",
       "      <td>0.000021</td>\n",
       "    </tr>\n",
       "    <tr>\n",
       "      <th>174</th>\n",
       "      <td>data-style</td>\n",
       "      <td>1</td>\n",
       "      <td>0.000021</td>\n",
       "    </tr>\n",
       "  </tbody>\n",
       "</table>\n",
       "<p>348 rows × 3 columns</p>\n",
       "</div>"
      ],
      "text/plain": [
       "                              keys  counts     p_all\n",
       "0                            class   30612  0.646860\n",
       "19                            href    5076  0.107261\n",
       "12                              id    2628  0.055532\n",
       "13                            role    2258  0.047714\n",
       "15                           style    2207  0.046636\n",
       "..                             ...     ...       ...\n",
       "266  data-js-auto-suggest-position       1  0.000021\n",
       "139                    data-offset       1  0.000021\n",
       "140                       data-spy       1  0.000021\n",
       "143                     data-pause       1  0.000021\n",
       "174                     data-style       1  0.000021\n",
       "\n",
       "[348 rows x 3 columns]"
      ]
     },
     "execution_count": 41,
     "metadata": {},
     "output_type": "execute_result"
    }
   ],
   "source": [
    "attributes_all_df['p_all']=attributes_all_df.counts/df.shape[0]\n",
    "attributes_all_df"
   ]
  },
  {
   "cell_type": "code",
   "execution_count": 42,
   "id": "3c74873f",
   "metadata": {},
   "outputs": [
    {
     "data": {
      "text/html": [
       "<div>\n",
       "<style scoped>\n",
       "    .dataframe tbody tr th:only-of-type {\n",
       "        vertical-align: middle;\n",
       "    }\n",
       "\n",
       "    .dataframe tbody tr th {\n",
       "        vertical-align: top;\n",
       "    }\n",
       "\n",
       "    .dataframe thead th {\n",
       "        text-align: right;\n",
       "    }\n",
       "</style>\n",
       "<table border=\"1\" class=\"dataframe\">\n",
       "  <thead>\n",
       "    <tr style=\"text-align: right;\">\n",
       "      <th></th>\n",
       "      <th>keys</th>\n",
       "      <th>counts_x</th>\n",
       "      <th>counts_y</th>\n",
       "      <th>p_all</th>\n",
       "      <th>p_x</th>\n",
       "      <th>p_y</th>\n",
       "      <th>importance</th>\n",
       "    </tr>\n",
       "  </thead>\n",
       "  <tbody>\n",
       "    <tr>\n",
       "      <th>1</th>\n",
       "      <td>href</td>\n",
       "      <td>2922</td>\n",
       "      <td>2154.0</td>\n",
       "      <td>0.107261</td>\n",
       "      <td>0.052657</td>\n",
       "      <td>0.177693</td>\n",
       "      <td>3.374534</td>\n",
       "    </tr>\n",
       "    <tr>\n",
       "      <th>10</th>\n",
       "      <td>tabindex</td>\n",
       "      <td>700</td>\n",
       "      <td>952.0</td>\n",
       "      <td>0.034908</td>\n",
       "      <td>0.012615</td>\n",
       "      <td>0.078535</td>\n",
       "      <td>6.225686</td>\n",
       "    </tr>\n",
       "    <tr>\n",
       "      <th>9</th>\n",
       "      <td>type</td>\n",
       "      <td>766</td>\n",
       "      <td>797.0</td>\n",
       "      <td>0.033028</td>\n",
       "      <td>0.013804</td>\n",
       "      <td>0.065748</td>\n",
       "      <td>4.762970</td>\n",
       "    </tr>\n",
       "    <tr>\n",
       "      <th>5</th>\n",
       "      <td>role</td>\n",
       "      <td>1538</td>\n",
       "      <td>720.0</td>\n",
       "      <td>0.047714</td>\n",
       "      <td>0.027716</td>\n",
       "      <td>0.059396</td>\n",
       "      <td>2.143011</td>\n",
       "    </tr>\n",
       "    <tr>\n",
       "      <th>23</th>\n",
       "      <td>aria-disabled</td>\n",
       "      <td>323</td>\n",
       "      <td>682.0</td>\n",
       "      <td>0.021237</td>\n",
       "      <td>0.005821</td>\n",
       "      <td>0.056261</td>\n",
       "      <td>9.665629</td>\n",
       "    </tr>\n",
       "    <tr>\n",
       "      <th>4</th>\n",
       "      <td>id</td>\n",
       "      <td>2024</td>\n",
       "      <td>604.0</td>\n",
       "      <td>0.055532</td>\n",
       "      <td>0.036474</td>\n",
       "      <td>0.049827</td>\n",
       "      <td>1.366075</td>\n",
       "    </tr>\n",
       "    <tr>\n",
       "      <th>29</th>\n",
       "      <td>target</td>\n",
       "      <td>282</td>\n",
       "      <td>596.0</td>\n",
       "      <td>0.018553</td>\n",
       "      <td>0.005082</td>\n",
       "      <td>0.049167</td>\n",
       "      <td>9.674876</td>\n",
       "    </tr>\n",
       "    <tr>\n",
       "      <th>34</th>\n",
       "      <td>aria-label</td>\n",
       "      <td>191</td>\n",
       "      <td>227.0</td>\n",
       "      <td>0.008833</td>\n",
       "      <td>0.003442</td>\n",
       "      <td>0.018726</td>\n",
       "      <td>5.440524</td>\n",
       "    </tr>\n",
       "    <tr>\n",
       "      <th>84</th>\n",
       "      <td>placeholder</td>\n",
       "      <td>24</td>\n",
       "      <td>141.0</td>\n",
       "      <td>0.003487</td>\n",
       "      <td>0.000433</td>\n",
       "      <td>0.011632</td>\n",
       "      <td>26.894046</td>\n",
       "    </tr>\n",
       "    <tr>\n",
       "      <th>115</th>\n",
       "      <td>aria-invalid</td>\n",
       "      <td>14</td>\n",
       "      <td>130.0</td>\n",
       "      <td>0.003043</td>\n",
       "      <td>0.000252</td>\n",
       "      <td>0.010724</td>\n",
       "      <td>42.507307</td>\n",
       "    </tr>\n",
       "    <tr>\n",
       "      <th>20</th>\n",
       "      <td>value</td>\n",
       "      <td>355</td>\n",
       "      <td>121.0</td>\n",
       "      <td>0.010058</td>\n",
       "      <td>0.006397</td>\n",
       "      <td>0.009982</td>\n",
       "      <td>1.560290</td>\n",
       "    </tr>\n",
       "    <tr>\n",
       "      <th>43</th>\n",
       "      <td>ms.pgarea</td>\n",
       "      <td>103</td>\n",
       "      <td>116.0</td>\n",
       "      <td>0.004628</td>\n",
       "      <td>0.001856</td>\n",
       "      <td>0.009569</td>\n",
       "      <td>5.155479</td>\n",
       "    </tr>\n",
       "    <tr>\n",
       "      <th>116</th>\n",
       "      <td>aria-required</td>\n",
       "      <td>14</td>\n",
       "      <td>101.0</td>\n",
       "      <td>0.002430</td>\n",
       "      <td>0.000252</td>\n",
       "      <td>0.008332</td>\n",
       "      <td>33.024907</td>\n",
       "    </tr>\n",
       "    <tr>\n",
       "      <th>44</th>\n",
       "      <td>ms.cmpgrp</td>\n",
       "      <td>102</td>\n",
       "      <td>72.0</td>\n",
       "      <td>0.003677</td>\n",
       "      <td>0.001838</td>\n",
       "      <td>0.005940</td>\n",
       "      <td>3.231325</td>\n",
       "    </tr>\n",
       "    <tr>\n",
       "      <th>55</th>\n",
       "      <td>data-toggle</td>\n",
       "      <td>49</td>\n",
       "      <td>70.0</td>\n",
       "      <td>0.002515</td>\n",
       "      <td>0.000883</td>\n",
       "      <td>0.005775</td>\n",
       "      <td>6.539586</td>\n",
       "    </tr>\n",
       "    <tr>\n",
       "      <th>41</th>\n",
       "      <td>title</td>\n",
       "      <td>111</td>\n",
       "      <td>63.0</td>\n",
       "      <td>0.003677</td>\n",
       "      <td>0.002000</td>\n",
       "      <td>0.005197</td>\n",
       "      <td>2.598160</td>\n",
       "    </tr>\n",
       "    <tr>\n",
       "      <th>53</th>\n",
       "      <td>aria-expanded</td>\n",
       "      <td>51</td>\n",
       "      <td>57.0</td>\n",
       "      <td>0.002282</td>\n",
       "      <td>0.000919</td>\n",
       "      <td>0.004702</td>\n",
       "      <td>5.116264</td>\n",
       "    </tr>\n",
       "    <tr>\n",
       "      <th>38</th>\n",
       "      <td>data-m</td>\n",
       "      <td>149</td>\n",
       "      <td>55.0</td>\n",
       "      <td>0.004311</td>\n",
       "      <td>0.002685</td>\n",
       "      <td>0.004537</td>\n",
       "      <td>1.689759</td>\n",
       "    </tr>\n",
       "    <tr>\n",
       "      <th>133</th>\n",
       "      <td>aria-haspopup</td>\n",
       "      <td>10</td>\n",
       "      <td>52.0</td>\n",
       "      <td>0.001310</td>\n",
       "      <td>0.000180</td>\n",
       "      <td>0.004290</td>\n",
       "      <td>23.804092</td>\n",
       "    </tr>\n",
       "    <tr>\n",
       "      <th>70</th>\n",
       "      <td>aria-controls</td>\n",
       "      <td>32</td>\n",
       "      <td>45.0</td>\n",
       "      <td>0.001627</td>\n",
       "      <td>0.000577</td>\n",
       "      <td>0.003712</td>\n",
       "      <td>6.437405</td>\n",
       "    </tr>\n",
       "    <tr>\n",
       "      <th>125</th>\n",
       "      <td>min</td>\n",
       "      <td>11</td>\n",
       "      <td>45.0</td>\n",
       "      <td>0.001183</td>\n",
       "      <td>0.000198</td>\n",
       "      <td>0.003712</td>\n",
       "      <td>18.726995</td>\n",
       "    </tr>\n",
       "    <tr>\n",
       "      <th>137</th>\n",
       "      <td>aria-describedby</td>\n",
       "      <td>9</td>\n",
       "      <td>45.0</td>\n",
       "      <td>0.001141</td>\n",
       "      <td>0.000162</td>\n",
       "      <td>0.003712</td>\n",
       "      <td>22.888550</td>\n",
       "    </tr>\n",
       "    <tr>\n",
       "      <th>136</th>\n",
       "      <td>max</td>\n",
       "      <td>9</td>\n",
       "      <td>44.0</td>\n",
       "      <td>0.001120</td>\n",
       "      <td>0.000162</td>\n",
       "      <td>0.003630</td>\n",
       "      <td>22.379915</td>\n",
       "    </tr>\n",
       "    <tr>\n",
       "      <th>62</th>\n",
       "      <td>onclick</td>\n",
       "      <td>35</td>\n",
       "      <td>41.0</td>\n",
       "      <td>0.001606</td>\n",
       "      <td>0.000631</td>\n",
       "      <td>0.003382</td>\n",
       "      <td>5.362460</td>\n",
       "    </tr>\n",
       "    <tr>\n",
       "      <th>121</th>\n",
       "      <td>aria-selected</td>\n",
       "      <td>12</td>\n",
       "      <td>34.0</td>\n",
       "      <td>0.000972</td>\n",
       "      <td>0.000216</td>\n",
       "      <td>0.002805</td>\n",
       "      <td>12.970178</td>\n",
       "    </tr>\n",
       "  </tbody>\n",
       "</table>\n",
       "</div>"
      ],
      "text/plain": [
       "                 keys  counts_x  counts_y     p_all       p_x       p_y  \\\n",
       "1                href      2922    2154.0  0.107261  0.052657  0.177693   \n",
       "10           tabindex       700     952.0  0.034908  0.012615  0.078535   \n",
       "9                type       766     797.0  0.033028  0.013804  0.065748   \n",
       "5                role      1538     720.0  0.047714  0.027716  0.059396   \n",
       "23      aria-disabled       323     682.0  0.021237  0.005821  0.056261   \n",
       "4                  id      2024     604.0  0.055532  0.036474  0.049827   \n",
       "29             target       282     596.0  0.018553  0.005082  0.049167   \n",
       "34         aria-label       191     227.0  0.008833  0.003442  0.018726   \n",
       "84        placeholder        24     141.0  0.003487  0.000433  0.011632   \n",
       "115      aria-invalid        14     130.0  0.003043  0.000252  0.010724   \n",
       "20              value       355     121.0  0.010058  0.006397  0.009982   \n",
       "43          ms.pgarea       103     116.0  0.004628  0.001856  0.009569   \n",
       "116     aria-required        14     101.0  0.002430  0.000252  0.008332   \n",
       "44          ms.cmpgrp       102      72.0  0.003677  0.001838  0.005940   \n",
       "55        data-toggle        49      70.0  0.002515  0.000883  0.005775   \n",
       "41              title       111      63.0  0.003677  0.002000  0.005197   \n",
       "53      aria-expanded        51      57.0  0.002282  0.000919  0.004702   \n",
       "38             data-m       149      55.0  0.004311  0.002685  0.004537   \n",
       "133     aria-haspopup        10      52.0  0.001310  0.000180  0.004290   \n",
       "70      aria-controls        32      45.0  0.001627  0.000577  0.003712   \n",
       "125               min        11      45.0  0.001183  0.000198  0.003712   \n",
       "137  aria-describedby         9      45.0  0.001141  0.000162  0.003712   \n",
       "136               max         9      44.0  0.001120  0.000162  0.003630   \n",
       "62            onclick        35      41.0  0.001606  0.000631  0.003382   \n",
       "121     aria-selected        12      34.0  0.000972  0.000216  0.002805   \n",
       "\n",
       "     importance  \n",
       "1      3.374534  \n",
       "10     6.225686  \n",
       "9      4.762970  \n",
       "5      2.143011  \n",
       "23     9.665629  \n",
       "4      1.366075  \n",
       "29     9.674876  \n",
       "34     5.440524  \n",
       "84    26.894046  \n",
       "115   42.507307  \n",
       "20     1.560290  \n",
       "43     5.155479  \n",
       "116   33.024907  \n",
       "44     3.231325  \n",
       "55     6.539586  \n",
       "41     2.598160  \n",
       "53     5.116264  \n",
       "38     1.689759  \n",
       "133   23.804092  \n",
       "70     6.437405  \n",
       "125   18.726995  \n",
       "137   22.888550  \n",
       "136   22.379915  \n",
       "62     5.362460  \n",
       "121   12.970178  "
      ]
     },
     "execution_count": 42,
     "metadata": {},
     "output_type": "execute_result"
    }
   ],
   "source": [
    "attr_stats_df = attributes_na_df.merge(attributes_ctl_df, on='keys', how='left')\n",
    "attr_stats_df = attr_stats_df.merge(attributes_all_df[['keys', 'p_all']], on = 'keys', how='left')\n",
    "\n",
    "counts_x_sum, counts_y_sum = attr_stats_df.agg({ 'counts_x': 'sum', 'counts_y': 'sum'}).values\n",
    "attr_stats_df['p_x'] = attr_stats_df.counts_x / counts_x_sum\n",
    "attr_stats_df['p_y'] = attr_stats_df.counts_y / counts_y_sum\n",
    "\n",
    "\n",
    "attr_stats_df['importance'] = attr_stats_df['p_y'] / attr_stats_df['p_x']\n",
    "\n",
    "attr_stats_df[(attr_stats_df.p_x < attr_stats_df.p_y) & (attr_stats_df.counts_y > 30)].sort_values(by='p_y', ascending=False).head(50)\n",
    "\n"
   ]
  },
  {
   "cell_type": "code",
   "execution_count": 43,
   "id": "85e9c5aa",
   "metadata": {},
   "outputs": [
    {
     "data": {
      "application/vnd.jupyter.widget-view+json": {
       "model_id": "8710497499984f6eb94aa57071f478aa",
       "version_major": 2,
       "version_minor": 0
      },
      "text/plain": [
       "  0%|          | 0/47324 [00:00<?, ?it/s]"
      ]
     },
     "metadata": {},
     "output_type": "display_data"
    }
   ],
   "source": [
    "_keys = set([\n",
    "    'aria-invalid', \n",
    "    'aria-haspopup', \n",
    "    'aria-expanded',      \n",
    "    'aria-required',\n",
    "    'aria-disabled',\n",
    "    'aria-selected',\n",
    "    'aria-describedby',\n",
    "    'aria-controls',\n",
    "    'aria-invalid',\n",
    "    'placeholder',\n",
    "    'value',\n",
    "    'for',\n",
    "    'onclick',\n",
    "    'target',\n",
    "    'role',\n",
    "    'type',\n",
    "    'id',\n",
    "    'name',\n",
    "    'href',\n",
    "    'min',\n",
    "    'max'\n",
    "])\n",
    "\n",
    "report = []\n",
    "with trange(df.shape[0]) as bar:\n",
    "    for _, r in df.iterrows():\n",
    "        attr = r.attributes\n",
    "        if type(attr) is dict:\n",
    "            d = {}\n",
    "            d['label'] = 1 if r.label_text != 'n/a' else 0\n",
    "            for k in _keys:\n",
    "                v = attr.get(k)\n",
    "                if v is not None and v.strip() != \"\":\n",
    "                    d[k]=1\n",
    "                else:\n",
    "                    d[k]=0\n",
    "        else:\n",
    "            d = {k:0 for k in _keys}\n",
    "                \n",
    "        report.append(d)\n",
    "        bar.update(1)\n",
    "\n",
    "report_df = pd.DataFrame(report)"
   ]
  },
  {
   "cell_type": "code",
   "execution_count": 44,
   "id": "e233d695",
   "metadata": {},
   "outputs": [
    {
     "data": {
      "text/plain": [
       "0.0    35526\n",
       "1.0     6239\n",
       "2.0     3469\n",
       "3.0     1573\n",
       "4.0      299\n",
       "5.0      103\n",
       "6.0      100\n",
       "7.0        9\n",
       "9.0        4\n",
       "8.0        2\n",
       "dtype: int64"
      ]
     },
     "execution_count": 44,
     "metadata": {},
     "output_type": "execute_result"
    }
   ],
   "source": [
    "report_df.sum(axis=1).value_counts()"
   ]
  },
  {
   "cell_type": "code",
   "execution_count": 45,
   "id": "ade06558",
   "metadata": {},
   "outputs": [
    {
     "data": {
      "text/plain": [
       "_blank    762\n",
       "_self     115\n",
       "_top        1\n",
       "Name: attributes, dtype: int64"
      ]
     },
     "execution_count": 45,
     "metadata": {},
     "output_type": "execute_result"
    }
   ],
   "source": [
    "df.attributes.apply(lambda x: x.get('target') if x is not None else None).value_counts()"
   ]
  },
  {
   "cell_type": "code",
   "execution_count": 46,
   "id": "d4713e16",
   "metadata": {},
   "outputs": [
    {
     "data": {
      "text/plain": [
       "Index(['attributes', 'displayed', 'element_id', 'height', 'onmouseenter',\n",
       "       'onmouseover', 'parent_id', 'style', 'tag_name', 'text', 'width', 'x',\n",
       "       'y', 'is_hidden', 'upper_sibling', 'lower_sibling', 'siblings', 'idx',\n",
       "       'label', 'annotation_line_no', 'iou', 'tag', 'label_text', 'dataset'],\n",
       "      dtype='object')"
      ]
     },
     "execution_count": 46,
     "metadata": {},
     "output_type": "execute_result"
    }
   ],
   "source": [
    "df.columns"
   ]
  },
  {
   "cell_type": "code",
   "execution_count": 47,
   "id": "c0d46311",
   "metadata": {},
   "outputs": [
    {
     "data": {
      "text/html": [
       "<div>\n",
       "<style scoped>\n",
       "    .dataframe tbody tr th:only-of-type {\n",
       "        vertical-align: middle;\n",
       "    }\n",
       "\n",
       "    .dataframe tbody tr th {\n",
       "        vertical-align: top;\n",
       "    }\n",
       "\n",
       "    .dataframe thead th {\n",
       "        text-align: right;\n",
       "    }\n",
       "</style>\n",
       "<table border=\"1\" class=\"dataframe\">\n",
       "  <thead>\n",
       "    <tr style=\"text-align: right;\">\n",
       "      <th></th>\n",
       "      <th>label</th>\n",
       "      <th>value</th>\n",
       "      <th>aria-selected</th>\n",
       "      <th>aria-describedby</th>\n",
       "      <th>id</th>\n",
       "      <th>aria-expanded</th>\n",
       "      <th>aria-required</th>\n",
       "      <th>max</th>\n",
       "      <th>aria-controls</th>\n",
       "      <th>target</th>\n",
       "      <th>...</th>\n",
       "      <th>role</th>\n",
       "      <th>placeholder</th>\n",
       "      <th>aria-haspopup</th>\n",
       "      <th>href</th>\n",
       "      <th>aria-invalid</th>\n",
       "      <th>aria-disabled</th>\n",
       "      <th>name</th>\n",
       "      <th>min</th>\n",
       "      <th>type</th>\n",
       "      <th>for</th>\n",
       "    </tr>\n",
       "  </thead>\n",
       "  <tbody>\n",
       "    <tr>\n",
       "      <th>label</th>\n",
       "      <td>1.000000</td>\n",
       "      <td>0.052391</td>\n",
       "      <td>0.068072</td>\n",
       "      <td>0.084679</td>\n",
       "      <td>0.105975</td>\n",
       "      <td>0.069716</td>\n",
       "      <td>0.131264</td>\n",
       "      <td>0.083529</td>\n",
       "      <td>0.066686</td>\n",
       "      <td>0.271817</td>\n",
       "      <td>...</td>\n",
       "      <td>0.166268</td>\n",
       "      <td>0.152511</td>\n",
       "      <td>0.091411</td>\n",
       "      <td>0.384226</td>\n",
       "      <td>0.151579</td>\n",
       "      <td>0.291139</td>\n",
       "      <td>0.009703</td>\n",
       "      <td>0.082722</td>\n",
       "      <td>0.258425</td>\n",
       "      <td>0.009300</td>\n",
       "    </tr>\n",
       "    <tr>\n",
       "      <th>value</th>\n",
       "      <td>0.052391</td>\n",
       "      <td>1.000000</td>\n",
       "      <td>-0.003144</td>\n",
       "      <td>0.021683</td>\n",
       "      <td>0.188231</td>\n",
       "      <td>-0.004821</td>\n",
       "      <td>0.020831</td>\n",
       "      <td>0.205560</td>\n",
       "      <td>-0.004069</td>\n",
       "      <td>-0.013859</td>\n",
       "      <td>...</td>\n",
       "      <td>-0.018589</td>\n",
       "      <td>0.094630</td>\n",
       "      <td>-0.003651</td>\n",
       "      <td>-0.034939</td>\n",
       "      <td>0.040569</td>\n",
       "      <td>-0.010441</td>\n",
       "      <td>0.319486</td>\n",
       "      <td>0.187479</td>\n",
       "      <td>0.298941</td>\n",
       "      <td>-0.010645</td>\n",
       "    </tr>\n",
       "    <tr>\n",
       "      <th>aria-selected</th>\n",
       "      <td>0.068072</td>\n",
       "      <td>-0.003144</td>\n",
       "      <td>1.000000</td>\n",
       "      <td>-0.001054</td>\n",
       "      <td>0.110873</td>\n",
       "      <td>-0.001492</td>\n",
       "      <td>-0.001540</td>\n",
       "      <td>-0.001044</td>\n",
       "      <td>0.671718</td>\n",
       "      <td>-0.004289</td>\n",
       "      <td>...</td>\n",
       "      <td>0.139352</td>\n",
       "      <td>-0.001845</td>\n",
       "      <td>-0.001130</td>\n",
       "      <td>0.006719</td>\n",
       "      <td>-0.001723</td>\n",
       "      <td>0.131803</td>\n",
       "      <td>-0.003138</td>\n",
       "      <td>-0.001074</td>\n",
       "      <td>0.005619</td>\n",
       "      <td>-0.003294</td>\n",
       "    </tr>\n",
       "    <tr>\n",
       "      <th>aria-describedby</th>\n",
       "      <td>0.084679</td>\n",
       "      <td>0.021683</td>\n",
       "      <td>-0.001054</td>\n",
       "      <td>1.000000</td>\n",
       "      <td>0.071062</td>\n",
       "      <td>-0.001616</td>\n",
       "      <td>0.176307</td>\n",
       "      <td>-0.001132</td>\n",
       "      <td>-0.001364</td>\n",
       "      <td>-0.004647</td>\n",
       "      <td>...</td>\n",
       "      <td>0.039416</td>\n",
       "      <td>0.199754</td>\n",
       "      <td>-0.001224</td>\n",
       "      <td>-0.011716</td>\n",
       "      <td>0.202685</td>\n",
       "      <td>0.008046</td>\n",
       "      <td>0.009172</td>\n",
       "      <td>-0.001163</td>\n",
       "      <td>0.056797</td>\n",
       "      <td>-0.003569</td>\n",
       "    </tr>\n",
       "    <tr>\n",
       "      <th>id</th>\n",
       "      <td>0.105975</td>\n",
       "      <td>0.188231</td>\n",
       "      <td>0.110873</td>\n",
       "      <td>0.071062</td>\n",
       "      <td>1.000000</td>\n",
       "      <td>0.042545</td>\n",
       "      <td>0.203544</td>\n",
       "      <td>0.063606</td>\n",
       "      <td>0.102387</td>\n",
       "      <td>-0.028552</td>\n",
       "      <td>...</td>\n",
       "      <td>0.036191</td>\n",
       "      <td>0.162541</td>\n",
       "      <td>0.080497</td>\n",
       "      <td>-0.029186</td>\n",
       "      <td>0.224486</td>\n",
       "      <td>0.009082</td>\n",
       "      <td>0.172048</td>\n",
       "      <td>0.064118</td>\n",
       "      <td>0.259807</td>\n",
       "      <td>0.075985</td>\n",
       "    </tr>\n",
       "    <tr>\n",
       "      <th>aria-expanded</th>\n",
       "      <td>0.069716</td>\n",
       "      <td>-0.004821</td>\n",
       "      <td>-0.001492</td>\n",
       "      <td>-0.001616</td>\n",
       "      <td>0.042545</td>\n",
       "      <td>1.000000</td>\n",
       "      <td>0.051605</td>\n",
       "      <td>-0.001601</td>\n",
       "      <td>0.283740</td>\n",
       "      <td>-0.003294</td>\n",
       "      <td>...</td>\n",
       "      <td>0.086936</td>\n",
       "      <td>0.057273</td>\n",
       "      <td>0.230877</td>\n",
       "      <td>-0.002267</td>\n",
       "      <td>0.045599</td>\n",
       "      <td>0.008313</td>\n",
       "      <td>-0.000363</td>\n",
       "      <td>-0.001646</td>\n",
       "      <td>0.090280</td>\n",
       "      <td>-0.005051</td>\n",
       "    </tr>\n",
       "    <tr>\n",
       "      <th>aria-required</th>\n",
       "      <td>0.131264</td>\n",
       "      <td>0.020831</td>\n",
       "      <td>-0.001540</td>\n",
       "      <td>0.176307</td>\n",
       "      <td>0.203544</td>\n",
       "      <td>0.051605</td>\n",
       "      <td>1.000000</td>\n",
       "      <td>0.011179</td>\n",
       "      <td>-0.001992</td>\n",
       "      <td>-0.006786</td>\n",
       "      <td>...</td>\n",
       "      <td>0.053382</td>\n",
       "      <td>0.244637</td>\n",
       "      <td>0.271108</td>\n",
       "      <td>-0.017108</td>\n",
       "      <td>0.893376</td>\n",
       "      <td>0.070128</td>\n",
       "      <td>0.003656</td>\n",
       "      <td>0.048236</td>\n",
       "      <td>0.055720</td>\n",
       "      <td>-0.005212</td>\n",
       "    </tr>\n",
       "    <tr>\n",
       "      <th>max</th>\n",
       "      <td>0.083529</td>\n",
       "      <td>0.205560</td>\n",
       "      <td>-0.001044</td>\n",
       "      <td>-0.001132</td>\n",
       "      <td>0.063606</td>\n",
       "      <td>-0.001601</td>\n",
       "      <td>0.011179</td>\n",
       "      <td>1.000000</td>\n",
       "      <td>-0.001352</td>\n",
       "      <td>-0.004604</td>\n",
       "      <td>...</td>\n",
       "      <td>-0.004531</td>\n",
       "      <td>0.190947</td>\n",
       "      <td>0.016253</td>\n",
       "      <td>-0.011606</td>\n",
       "      <td>0.009621</td>\n",
       "      <td>-0.000550</td>\n",
       "      <td>-0.003368</td>\n",
       "      <td>0.936061</td>\n",
       "      <td>0.167038</td>\n",
       "      <td>-0.003536</td>\n",
       "    </tr>\n",
       "    <tr>\n",
       "      <th>aria-controls</th>\n",
       "      <td>0.066686</td>\n",
       "      <td>-0.004069</td>\n",
       "      <td>0.671718</td>\n",
       "      <td>-0.001364</td>\n",
       "      <td>0.102387</td>\n",
       "      <td>0.283740</td>\n",
       "      <td>-0.001992</td>\n",
       "      <td>-0.001352</td>\n",
       "      <td>1.000000</td>\n",
       "      <td>-0.005550</td>\n",
       "      <td>...</td>\n",
       "      <td>0.109024</td>\n",
       "      <td>0.006507</td>\n",
       "      <td>0.027526</td>\n",
       "      <td>0.001255</td>\n",
       "      <td>-0.002230</td>\n",
       "      <td>0.095876</td>\n",
       "      <td>0.006470</td>\n",
       "      <td>-0.001390</td>\n",
       "      <td>0.060015</td>\n",
       "      <td>-0.004263</td>\n",
       "    </tr>\n",
       "    <tr>\n",
       "      <th>target</th>\n",
       "      <td>0.271817</td>\n",
       "      <td>-0.013859</td>\n",
       "      <td>-0.004289</td>\n",
       "      <td>-0.004647</td>\n",
       "      <td>-0.028552</td>\n",
       "      <td>-0.003294</td>\n",
       "      <td>-0.006786</td>\n",
       "      <td>-0.004604</td>\n",
       "      <td>-0.005550</td>\n",
       "      <td>1.000000</td>\n",
       "      <td>...</td>\n",
       "      <td>-0.029307</td>\n",
       "      <td>-0.008133</td>\n",
       "      <td>-0.000651</td>\n",
       "      <td>0.396657</td>\n",
       "      <td>-0.007596</td>\n",
       "      <td>-0.003960</td>\n",
       "      <td>-0.013830</td>\n",
       "      <td>-0.004732</td>\n",
       "      <td>-0.025410</td>\n",
       "      <td>-0.014520</td>\n",
       "    </tr>\n",
       "    <tr>\n",
       "      <th>onclick</th>\n",
       "      <td>0.060070</td>\n",
       "      <td>0.043554</td>\n",
       "      <td>-0.001251</td>\n",
       "      <td>-0.001356</td>\n",
       "      <td>0.034056</td>\n",
       "      <td>-0.001918</td>\n",
       "      <td>-0.001979</td>\n",
       "      <td>-0.001343</td>\n",
       "      <td>-0.001619</td>\n",
       "      <td>0.017950</td>\n",
       "      <td>...</td>\n",
       "      <td>-0.008977</td>\n",
       "      <td>-0.002372</td>\n",
       "      <td>-0.001453</td>\n",
       "      <td>0.009973</td>\n",
       "      <td>-0.002216</td>\n",
       "      <td>-0.005908</td>\n",
       "      <td>-0.004034</td>\n",
       "      <td>-0.001380</td>\n",
       "      <td>0.054600</td>\n",
       "      <td>-0.004236</td>\n",
       "    </tr>\n",
       "    <tr>\n",
       "      <th>role</th>\n",
       "      <td>0.166268</td>\n",
       "      <td>-0.018589</td>\n",
       "      <td>0.139352</td>\n",
       "      <td>0.039416</td>\n",
       "      <td>0.036191</td>\n",
       "      <td>0.086936</td>\n",
       "      <td>0.053382</td>\n",
       "      <td>-0.004531</td>\n",
       "      <td>0.109024</td>\n",
       "      <td>-0.029307</td>\n",
       "      <td>...</td>\n",
       "      <td>1.000000</td>\n",
       "      <td>0.000214</td>\n",
       "      <td>0.043964</td>\n",
       "      <td>-0.071822</td>\n",
       "      <td>0.045229</td>\n",
       "      <td>0.592739</td>\n",
       "      <td>-0.016542</td>\n",
       "      <td>-0.004821</td>\n",
       "      <td>-0.027501</td>\n",
       "      <td>-0.023640</td>\n",
       "    </tr>\n",
       "    <tr>\n",
       "      <th>placeholder</th>\n",
       "      <td>0.152511</td>\n",
       "      <td>0.094630</td>\n",
       "      <td>-0.001845</td>\n",
       "      <td>0.199754</td>\n",
       "      <td>0.162541</td>\n",
       "      <td>0.057273</td>\n",
       "      <td>0.244637</td>\n",
       "      <td>0.190947</td>\n",
       "      <td>0.006507</td>\n",
       "      <td>-0.008133</td>\n",
       "      <td>...</td>\n",
       "      <td>0.000214</td>\n",
       "      <td>1.000000</td>\n",
       "      <td>0.067233</td>\n",
       "      <td>-0.020503</td>\n",
       "      <td>0.224538</td>\n",
       "      <td>-0.008713</td>\n",
       "      <td>0.044452</td>\n",
       "      <td>0.196086</td>\n",
       "      <td>0.239818</td>\n",
       "      <td>-0.006247</td>\n",
       "    </tr>\n",
       "    <tr>\n",
       "      <th>aria-haspopup</th>\n",
       "      <td>0.091411</td>\n",
       "      <td>-0.003651</td>\n",
       "      <td>-0.001130</td>\n",
       "      <td>-0.001224</td>\n",
       "      <td>0.080497</td>\n",
       "      <td>0.230877</td>\n",
       "      <td>0.271108</td>\n",
       "      <td>0.016253</td>\n",
       "      <td>0.027526</td>\n",
       "      <td>-0.000651</td>\n",
       "      <td>...</td>\n",
       "      <td>0.043964</td>\n",
       "      <td>0.067233</td>\n",
       "      <td>1.000000</td>\n",
       "      <td>-0.001227</td>\n",
       "      <td>0.241947</td>\n",
       "      <td>-0.001283</td>\n",
       "      <td>-0.003643</td>\n",
       "      <td>0.015746</td>\n",
       "      <td>0.078298</td>\n",
       "      <td>-0.003825</td>\n",
       "    </tr>\n",
       "    <tr>\n",
       "      <th>href</th>\n",
       "      <td>0.384226</td>\n",
       "      <td>-0.034939</td>\n",
       "      <td>0.006719</td>\n",
       "      <td>-0.011716</td>\n",
       "      <td>-0.029186</td>\n",
       "      <td>-0.002267</td>\n",
       "      <td>-0.017108</td>\n",
       "      <td>-0.011606</td>\n",
       "      <td>0.001255</td>\n",
       "      <td>0.396657</td>\n",
       "      <td>...</td>\n",
       "      <td>-0.071822</td>\n",
       "      <td>-0.020503</td>\n",
       "      <td>-0.001227</td>\n",
       "      <td>1.000000</td>\n",
       "      <td>-0.019150</td>\n",
       "      <td>-0.039690</td>\n",
       "      <td>-0.034865</td>\n",
       "      <td>-0.011931</td>\n",
       "      <td>-0.044955</td>\n",
       "      <td>-0.036607</td>\n",
       "    </tr>\n",
       "    <tr>\n",
       "      <th>aria-invalid</th>\n",
       "      <td>0.151579</td>\n",
       "      <td>0.040569</td>\n",
       "      <td>-0.001723</td>\n",
       "      <td>0.202685</td>\n",
       "      <td>0.224486</td>\n",
       "      <td>0.045599</td>\n",
       "      <td>0.893376</td>\n",
       "      <td>0.009621</td>\n",
       "      <td>-0.002230</td>\n",
       "      <td>-0.007596</td>\n",
       "      <td>...</td>\n",
       "      <td>0.045229</td>\n",
       "      <td>0.224538</td>\n",
       "      <td>0.241947</td>\n",
       "      <td>-0.019150</td>\n",
       "      <td>1.000000</td>\n",
       "      <td>0.061050</td>\n",
       "      <td>0.044530</td>\n",
       "      <td>0.042736</td>\n",
       "      <td>0.075662</td>\n",
       "      <td>-0.005835</td>\n",
       "    </tr>\n",
       "    <tr>\n",
       "      <th>aria-disabled</th>\n",
       "      <td>0.291139</td>\n",
       "      <td>-0.010441</td>\n",
       "      <td>0.131803</td>\n",
       "      <td>0.008046</td>\n",
       "      <td>0.009082</td>\n",
       "      <td>0.008313</td>\n",
       "      <td>0.070128</td>\n",
       "      <td>-0.000550</td>\n",
       "      <td>0.095876</td>\n",
       "      <td>-0.003960</td>\n",
       "      <td>...</td>\n",
       "      <td>0.592739</td>\n",
       "      <td>-0.008713</td>\n",
       "      <td>-0.001283</td>\n",
       "      <td>-0.039690</td>\n",
       "      <td>0.061050</td>\n",
       "      <td>1.000000</td>\n",
       "      <td>-0.011872</td>\n",
       "      <td>-0.000807</td>\n",
       "      <td>-0.027223</td>\n",
       "      <td>-0.015556</td>\n",
       "    </tr>\n",
       "    <tr>\n",
       "      <th>name</th>\n",
       "      <td>0.009703</td>\n",
       "      <td>0.319486</td>\n",
       "      <td>-0.003138</td>\n",
       "      <td>0.009172</td>\n",
       "      <td>0.172048</td>\n",
       "      <td>-0.000363</td>\n",
       "      <td>0.003656</td>\n",
       "      <td>-0.003368</td>\n",
       "      <td>0.006470</td>\n",
       "      <td>-0.013830</td>\n",
       "      <td>...</td>\n",
       "      <td>-0.016542</td>\n",
       "      <td>0.044452</td>\n",
       "      <td>-0.003643</td>\n",
       "      <td>-0.034865</td>\n",
       "      <td>0.044530</td>\n",
       "      <td>-0.011872</td>\n",
       "      <td>1.000000</td>\n",
       "      <td>-0.003462</td>\n",
       "      <td>0.290144</td>\n",
       "      <td>-0.010623</td>\n",
       "    </tr>\n",
       "    <tr>\n",
       "      <th>min</th>\n",
       "      <td>0.082722</td>\n",
       "      <td>0.187479</td>\n",
       "      <td>-0.001074</td>\n",
       "      <td>-0.001163</td>\n",
       "      <td>0.064118</td>\n",
       "      <td>-0.001646</td>\n",
       "      <td>0.048236</td>\n",
       "      <td>0.936061</td>\n",
       "      <td>-0.001390</td>\n",
       "      <td>-0.004732</td>\n",
       "      <td>...</td>\n",
       "      <td>-0.004821</td>\n",
       "      <td>0.196086</td>\n",
       "      <td>0.015746</td>\n",
       "      <td>-0.011931</td>\n",
       "      <td>0.042736</td>\n",
       "      <td>-0.000807</td>\n",
       "      <td>-0.003462</td>\n",
       "      <td>1.000000</td>\n",
       "      <td>0.175924</td>\n",
       "      <td>-0.003635</td>\n",
       "    </tr>\n",
       "    <tr>\n",
       "      <th>type</th>\n",
       "      <td>0.258425</td>\n",
       "      <td>0.298941</td>\n",
       "      <td>0.005619</td>\n",
       "      <td>0.056797</td>\n",
       "      <td>0.259807</td>\n",
       "      <td>0.090280</td>\n",
       "      <td>0.055720</td>\n",
       "      <td>0.167038</td>\n",
       "      <td>0.060015</td>\n",
       "      <td>-0.025410</td>\n",
       "      <td>...</td>\n",
       "      <td>-0.027501</td>\n",
       "      <td>0.239818</td>\n",
       "      <td>0.078298</td>\n",
       "      <td>-0.044955</td>\n",
       "      <td>0.075662</td>\n",
       "      <td>-0.027223</td>\n",
       "      <td>0.290144</td>\n",
       "      <td>0.175924</td>\n",
       "      <td>1.000000</td>\n",
       "      <td>-0.019518</td>\n",
       "    </tr>\n",
       "    <tr>\n",
       "      <th>for</th>\n",
       "      <td>0.009300</td>\n",
       "      <td>-0.010645</td>\n",
       "      <td>-0.003294</td>\n",
       "      <td>-0.003569</td>\n",
       "      <td>0.075985</td>\n",
       "      <td>-0.005051</td>\n",
       "      <td>-0.005212</td>\n",
       "      <td>-0.003536</td>\n",
       "      <td>-0.004263</td>\n",
       "      <td>-0.014520</td>\n",
       "      <td>...</td>\n",
       "      <td>-0.023640</td>\n",
       "      <td>-0.006247</td>\n",
       "      <td>-0.003825</td>\n",
       "      <td>-0.036607</td>\n",
       "      <td>-0.005835</td>\n",
       "      <td>-0.015556</td>\n",
       "      <td>-0.010623</td>\n",
       "      <td>-0.003635</td>\n",
       "      <td>-0.019518</td>\n",
       "      <td>1.000000</td>\n",
       "    </tr>\n",
       "  </tbody>\n",
       "</table>\n",
       "<p>21 rows × 21 columns</p>\n",
       "</div>"
      ],
      "text/plain": [
       "                     label     value  aria-selected  aria-describedby  \\\n",
       "label             1.000000  0.052391       0.068072          0.084679   \n",
       "value             0.052391  1.000000      -0.003144          0.021683   \n",
       "aria-selected     0.068072 -0.003144       1.000000         -0.001054   \n",
       "aria-describedby  0.084679  0.021683      -0.001054          1.000000   \n",
       "id                0.105975  0.188231       0.110873          0.071062   \n",
       "aria-expanded     0.069716 -0.004821      -0.001492         -0.001616   \n",
       "aria-required     0.131264  0.020831      -0.001540          0.176307   \n",
       "max               0.083529  0.205560      -0.001044         -0.001132   \n",
       "aria-controls     0.066686 -0.004069       0.671718         -0.001364   \n",
       "target            0.271817 -0.013859      -0.004289         -0.004647   \n",
       "onclick           0.060070  0.043554      -0.001251         -0.001356   \n",
       "role              0.166268 -0.018589       0.139352          0.039416   \n",
       "placeholder       0.152511  0.094630      -0.001845          0.199754   \n",
       "aria-haspopup     0.091411 -0.003651      -0.001130         -0.001224   \n",
       "href              0.384226 -0.034939       0.006719         -0.011716   \n",
       "aria-invalid      0.151579  0.040569      -0.001723          0.202685   \n",
       "aria-disabled     0.291139 -0.010441       0.131803          0.008046   \n",
       "name              0.009703  0.319486      -0.003138          0.009172   \n",
       "min               0.082722  0.187479      -0.001074         -0.001163   \n",
       "type              0.258425  0.298941       0.005619          0.056797   \n",
       "for               0.009300 -0.010645      -0.003294         -0.003569   \n",
       "\n",
       "                        id  aria-expanded  aria-required       max  \\\n",
       "label             0.105975       0.069716       0.131264  0.083529   \n",
       "value             0.188231      -0.004821       0.020831  0.205560   \n",
       "aria-selected     0.110873      -0.001492      -0.001540 -0.001044   \n",
       "aria-describedby  0.071062      -0.001616       0.176307 -0.001132   \n",
       "id                1.000000       0.042545       0.203544  0.063606   \n",
       "aria-expanded     0.042545       1.000000       0.051605 -0.001601   \n",
       "aria-required     0.203544       0.051605       1.000000  0.011179   \n",
       "max               0.063606      -0.001601       0.011179  1.000000   \n",
       "aria-controls     0.102387       0.283740      -0.001992 -0.001352   \n",
       "target           -0.028552      -0.003294      -0.006786 -0.004604   \n",
       "onclick           0.034056      -0.001918      -0.001979 -0.001343   \n",
       "role              0.036191       0.086936       0.053382 -0.004531   \n",
       "placeholder       0.162541       0.057273       0.244637  0.190947   \n",
       "aria-haspopup     0.080497       0.230877       0.271108  0.016253   \n",
       "href             -0.029186      -0.002267      -0.017108 -0.011606   \n",
       "aria-invalid      0.224486       0.045599       0.893376  0.009621   \n",
       "aria-disabled     0.009082       0.008313       0.070128 -0.000550   \n",
       "name              0.172048      -0.000363       0.003656 -0.003368   \n",
       "min               0.064118      -0.001646       0.048236  0.936061   \n",
       "type              0.259807       0.090280       0.055720  0.167038   \n",
       "for               0.075985      -0.005051      -0.005212 -0.003536   \n",
       "\n",
       "                  aria-controls    target  ...      role  placeholder  \\\n",
       "label                  0.066686  0.271817  ...  0.166268     0.152511   \n",
       "value                 -0.004069 -0.013859  ... -0.018589     0.094630   \n",
       "aria-selected          0.671718 -0.004289  ...  0.139352    -0.001845   \n",
       "aria-describedby      -0.001364 -0.004647  ...  0.039416     0.199754   \n",
       "id                     0.102387 -0.028552  ...  0.036191     0.162541   \n",
       "aria-expanded          0.283740 -0.003294  ...  0.086936     0.057273   \n",
       "aria-required         -0.001992 -0.006786  ...  0.053382     0.244637   \n",
       "max                   -0.001352 -0.004604  ... -0.004531     0.190947   \n",
       "aria-controls          1.000000 -0.005550  ...  0.109024     0.006507   \n",
       "target                -0.005550  1.000000  ... -0.029307    -0.008133   \n",
       "onclick               -0.001619  0.017950  ... -0.008977    -0.002372   \n",
       "role                   0.109024 -0.029307  ...  1.000000     0.000214   \n",
       "placeholder            0.006507 -0.008133  ...  0.000214     1.000000   \n",
       "aria-haspopup          0.027526 -0.000651  ...  0.043964     0.067233   \n",
       "href                   0.001255  0.396657  ... -0.071822    -0.020503   \n",
       "aria-invalid          -0.002230 -0.007596  ...  0.045229     0.224538   \n",
       "aria-disabled          0.095876 -0.003960  ...  0.592739    -0.008713   \n",
       "name                   0.006470 -0.013830  ... -0.016542     0.044452   \n",
       "min                   -0.001390 -0.004732  ... -0.004821     0.196086   \n",
       "type                   0.060015 -0.025410  ... -0.027501     0.239818   \n",
       "for                   -0.004263 -0.014520  ... -0.023640    -0.006247   \n",
       "\n",
       "                  aria-haspopup      href  aria-invalid  aria-disabled  \\\n",
       "label                  0.091411  0.384226      0.151579       0.291139   \n",
       "value                 -0.003651 -0.034939      0.040569      -0.010441   \n",
       "aria-selected         -0.001130  0.006719     -0.001723       0.131803   \n",
       "aria-describedby      -0.001224 -0.011716      0.202685       0.008046   \n",
       "id                     0.080497 -0.029186      0.224486       0.009082   \n",
       "aria-expanded          0.230877 -0.002267      0.045599       0.008313   \n",
       "aria-required          0.271108 -0.017108      0.893376       0.070128   \n",
       "max                    0.016253 -0.011606      0.009621      -0.000550   \n",
       "aria-controls          0.027526  0.001255     -0.002230       0.095876   \n",
       "target                -0.000651  0.396657     -0.007596      -0.003960   \n",
       "onclick               -0.001453  0.009973     -0.002216      -0.005908   \n",
       "role                   0.043964 -0.071822      0.045229       0.592739   \n",
       "placeholder            0.067233 -0.020503      0.224538      -0.008713   \n",
       "aria-haspopup          1.000000 -0.001227      0.241947      -0.001283   \n",
       "href                  -0.001227  1.000000     -0.019150      -0.039690   \n",
       "aria-invalid           0.241947 -0.019150      1.000000       0.061050   \n",
       "aria-disabled         -0.001283 -0.039690      0.061050       1.000000   \n",
       "name                  -0.003643 -0.034865      0.044530      -0.011872   \n",
       "min                    0.015746 -0.011931      0.042736      -0.000807   \n",
       "type                   0.078298 -0.044955      0.075662      -0.027223   \n",
       "for                   -0.003825 -0.036607     -0.005835      -0.015556   \n",
       "\n",
       "                      name       min      type       for  \n",
       "label             0.009703  0.082722  0.258425  0.009300  \n",
       "value             0.319486  0.187479  0.298941 -0.010645  \n",
       "aria-selected    -0.003138 -0.001074  0.005619 -0.003294  \n",
       "aria-describedby  0.009172 -0.001163  0.056797 -0.003569  \n",
       "id                0.172048  0.064118  0.259807  0.075985  \n",
       "aria-expanded    -0.000363 -0.001646  0.090280 -0.005051  \n",
       "aria-required     0.003656  0.048236  0.055720 -0.005212  \n",
       "max              -0.003368  0.936061  0.167038 -0.003536  \n",
       "aria-controls     0.006470 -0.001390  0.060015 -0.004263  \n",
       "target           -0.013830 -0.004732 -0.025410 -0.014520  \n",
       "onclick          -0.004034 -0.001380  0.054600 -0.004236  \n",
       "role             -0.016542 -0.004821 -0.027501 -0.023640  \n",
       "placeholder       0.044452  0.196086  0.239818 -0.006247  \n",
       "aria-haspopup    -0.003643  0.015746  0.078298 -0.003825  \n",
       "href             -0.034865 -0.011931 -0.044955 -0.036607  \n",
       "aria-invalid      0.044530  0.042736  0.075662 -0.005835  \n",
       "aria-disabled    -0.011872 -0.000807 -0.027223 -0.015556  \n",
       "name              1.000000 -0.003462  0.290144 -0.010623  \n",
       "min              -0.003462  1.000000  0.175924 -0.003635  \n",
       "type              0.290144  0.175924  1.000000 -0.019518  \n",
       "for              -0.010623 -0.003635 -0.019518  1.000000  \n",
       "\n",
       "[21 rows x 21 columns]"
      ]
     },
     "execution_count": 47,
     "metadata": {},
     "output_type": "execute_result"
    }
   ],
   "source": [
    "report_df.corr()"
   ]
  },
  {
   "cell_type": "code",
   "execution_count": 48,
   "id": "5a87887b",
   "metadata": {},
   "outputs": [
    {
     "name": "stdout",
     "output_type": "stream",
     "text": [
      "2021-06-20 14:49:53,552 -INFO - features_builder:features_builder.py:152 - used column: attributes\n"
     ]
    },
    {
     "data": {
      "application/vnd.jupyter.widget-view+json": {
       "model_id": "9a1e84a28e4e464588fefaac35715690",
       "version_major": 2,
       "version_minor": 0
      },
      "text/plain": [
       "  0%|          | 0/47324 [00:00<?, ?it/s]"
      ]
     },
     "metadata": {},
     "output_type": "display_data"
    },
    {
     "data": {
      "text/html": [
       "<div>\n",
       "<style scoped>\n",
       "    .dataframe tbody tr th:only-of-type {\n",
       "        vertical-align: middle;\n",
       "    }\n",
       "\n",
       "    .dataframe tbody tr th {\n",
       "        vertical-align: top;\n",
       "    }\n",
       "\n",
       "    .dataframe thead th {\n",
       "        text-align: right;\n",
       "    }\n",
       "</style>\n",
       "<table border=\"1\" class=\"dataframe\">\n",
       "  <thead>\n",
       "    <tr style=\"text-align: right;\">\n",
       "      <th></th>\n",
       "      <th>aria-invalid</th>\n",
       "      <th>aria-haspopup</th>\n",
       "      <th>aria-expanded</th>\n",
       "      <th>aria-required</th>\n",
       "      <th>aria-disabled</th>\n",
       "      <th>aria-selected</th>\n",
       "      <th>aria-describedby</th>\n",
       "      <th>aria-controls</th>\n",
       "      <th>placeholder</th>\n",
       "      <th>value</th>\n",
       "      <th>for</th>\n",
       "      <th>onclick</th>\n",
       "      <th>target</th>\n",
       "      <th>id</th>\n",
       "      <th>name</th>\n",
       "      <th>min</th>\n",
       "      <th>max</th>\n",
       "    </tr>\n",
       "  </thead>\n",
       "  <tbody>\n",
       "    <tr>\n",
       "      <th>0</th>\n",
       "      <td>0</td>\n",
       "      <td>0</td>\n",
       "      <td>0</td>\n",
       "      <td>0</td>\n",
       "      <td>0</td>\n",
       "      <td>0</td>\n",
       "      <td>0</td>\n",
       "      <td>0</td>\n",
       "      <td>0</td>\n",
       "      <td>0</td>\n",
       "      <td>0</td>\n",
       "      <td>0</td>\n",
       "      <td>0</td>\n",
       "      <td>0</td>\n",
       "      <td>0</td>\n",
       "      <td>0</td>\n",
       "      <td>0</td>\n",
       "    </tr>\n",
       "    <tr>\n",
       "      <th>1</th>\n",
       "      <td>0</td>\n",
       "      <td>0</td>\n",
       "      <td>0</td>\n",
       "      <td>0</td>\n",
       "      <td>0</td>\n",
       "      <td>0</td>\n",
       "      <td>0</td>\n",
       "      <td>0</td>\n",
       "      <td>0</td>\n",
       "      <td>0</td>\n",
       "      <td>0</td>\n",
       "      <td>0</td>\n",
       "      <td>0</td>\n",
       "      <td>0</td>\n",
       "      <td>0</td>\n",
       "      <td>0</td>\n",
       "      <td>0</td>\n",
       "    </tr>\n",
       "    <tr>\n",
       "      <th>2</th>\n",
       "      <td>0</td>\n",
       "      <td>0</td>\n",
       "      <td>0</td>\n",
       "      <td>0</td>\n",
       "      <td>0</td>\n",
       "      <td>0</td>\n",
       "      <td>0</td>\n",
       "      <td>0</td>\n",
       "      <td>0</td>\n",
       "      <td>0</td>\n",
       "      <td>0</td>\n",
       "      <td>0</td>\n",
       "      <td>0</td>\n",
       "      <td>0</td>\n",
       "      <td>0</td>\n",
       "      <td>0</td>\n",
       "      <td>0</td>\n",
       "    </tr>\n",
       "    <tr>\n",
       "      <th>3</th>\n",
       "      <td>0</td>\n",
       "      <td>0</td>\n",
       "      <td>0</td>\n",
       "      <td>0</td>\n",
       "      <td>0</td>\n",
       "      <td>0</td>\n",
       "      <td>0</td>\n",
       "      <td>0</td>\n",
       "      <td>0</td>\n",
       "      <td>0</td>\n",
       "      <td>0</td>\n",
       "      <td>0</td>\n",
       "      <td>0</td>\n",
       "      <td>0</td>\n",
       "      <td>0</td>\n",
       "      <td>0</td>\n",
       "      <td>0</td>\n",
       "    </tr>\n",
       "    <tr>\n",
       "      <th>4</th>\n",
       "      <td>0</td>\n",
       "      <td>0</td>\n",
       "      <td>0</td>\n",
       "      <td>0</td>\n",
       "      <td>0</td>\n",
       "      <td>0</td>\n",
       "      <td>0</td>\n",
       "      <td>0</td>\n",
       "      <td>0</td>\n",
       "      <td>0</td>\n",
       "      <td>0</td>\n",
       "      <td>0</td>\n",
       "      <td>0</td>\n",
       "      <td>0</td>\n",
       "      <td>0</td>\n",
       "      <td>0</td>\n",
       "      <td>0</td>\n",
       "    </tr>\n",
       "    <tr>\n",
       "      <th>...</th>\n",
       "      <td>...</td>\n",
       "      <td>...</td>\n",
       "      <td>...</td>\n",
       "      <td>...</td>\n",
       "      <td>...</td>\n",
       "      <td>...</td>\n",
       "      <td>...</td>\n",
       "      <td>...</td>\n",
       "      <td>...</td>\n",
       "      <td>...</td>\n",
       "      <td>...</td>\n",
       "      <td>...</td>\n",
       "      <td>...</td>\n",
       "      <td>...</td>\n",
       "      <td>...</td>\n",
       "      <td>...</td>\n",
       "      <td>...</td>\n",
       "    </tr>\n",
       "    <tr>\n",
       "      <th>47319</th>\n",
       "      <td>0</td>\n",
       "      <td>0</td>\n",
       "      <td>0</td>\n",
       "      <td>0</td>\n",
       "      <td>0</td>\n",
       "      <td>0</td>\n",
       "      <td>0</td>\n",
       "      <td>0</td>\n",
       "      <td>0</td>\n",
       "      <td>0</td>\n",
       "      <td>0</td>\n",
       "      <td>0</td>\n",
       "      <td>0</td>\n",
       "      <td>0</td>\n",
       "      <td>0</td>\n",
       "      <td>0</td>\n",
       "      <td>0</td>\n",
       "    </tr>\n",
       "    <tr>\n",
       "      <th>47320</th>\n",
       "      <td>0</td>\n",
       "      <td>0</td>\n",
       "      <td>0</td>\n",
       "      <td>0</td>\n",
       "      <td>0</td>\n",
       "      <td>0</td>\n",
       "      <td>0</td>\n",
       "      <td>0</td>\n",
       "      <td>0</td>\n",
       "      <td>0</td>\n",
       "      <td>0</td>\n",
       "      <td>0</td>\n",
       "      <td>1</td>\n",
       "      <td>0</td>\n",
       "      <td>0</td>\n",
       "      <td>0</td>\n",
       "      <td>0</td>\n",
       "    </tr>\n",
       "    <tr>\n",
       "      <th>47321</th>\n",
       "      <td>0</td>\n",
       "      <td>0</td>\n",
       "      <td>0</td>\n",
       "      <td>0</td>\n",
       "      <td>0</td>\n",
       "      <td>0</td>\n",
       "      <td>0</td>\n",
       "      <td>0</td>\n",
       "      <td>0</td>\n",
       "      <td>0</td>\n",
       "      <td>0</td>\n",
       "      <td>0</td>\n",
       "      <td>0</td>\n",
       "      <td>0</td>\n",
       "      <td>0</td>\n",
       "      <td>0</td>\n",
       "      <td>0</td>\n",
       "    </tr>\n",
       "    <tr>\n",
       "      <th>47322</th>\n",
       "      <td>0</td>\n",
       "      <td>0</td>\n",
       "      <td>0</td>\n",
       "      <td>0</td>\n",
       "      <td>0</td>\n",
       "      <td>0</td>\n",
       "      <td>0</td>\n",
       "      <td>0</td>\n",
       "      <td>0</td>\n",
       "      <td>0</td>\n",
       "      <td>0</td>\n",
       "      <td>0</td>\n",
       "      <td>0</td>\n",
       "      <td>0</td>\n",
       "      <td>0</td>\n",
       "      <td>0</td>\n",
       "      <td>0</td>\n",
       "    </tr>\n",
       "    <tr>\n",
       "      <th>47323</th>\n",
       "      <td>0</td>\n",
       "      <td>0</td>\n",
       "      <td>0</td>\n",
       "      <td>0</td>\n",
       "      <td>0</td>\n",
       "      <td>0</td>\n",
       "      <td>0</td>\n",
       "      <td>0</td>\n",
       "      <td>0</td>\n",
       "      <td>0</td>\n",
       "      <td>0</td>\n",
       "      <td>0</td>\n",
       "      <td>0</td>\n",
       "      <td>0</td>\n",
       "      <td>0</td>\n",
       "      <td>0</td>\n",
       "      <td>0</td>\n",
       "    </tr>\n",
       "  </tbody>\n",
       "</table>\n",
       "<p>47324 rows × 17 columns</p>\n",
       "</div>"
      ],
      "text/plain": [
       "       aria-invalid  aria-haspopup  aria-expanded  aria-required  \\\n",
       "0                 0              0              0              0   \n",
       "1                 0              0              0              0   \n",
       "2                 0              0              0              0   \n",
       "3                 0              0              0              0   \n",
       "4                 0              0              0              0   \n",
       "...             ...            ...            ...            ...   \n",
       "47319             0              0              0              0   \n",
       "47320             0              0              0              0   \n",
       "47321             0              0              0              0   \n",
       "47322             0              0              0              0   \n",
       "47323             0              0              0              0   \n",
       "\n",
       "       aria-disabled  aria-selected  aria-describedby  aria-controls  \\\n",
       "0                  0              0                 0              0   \n",
       "1                  0              0                 0              0   \n",
       "2                  0              0                 0              0   \n",
       "3                  0              0                 0              0   \n",
       "4                  0              0                 0              0   \n",
       "...              ...            ...               ...            ...   \n",
       "47319              0              0                 0              0   \n",
       "47320              0              0                 0              0   \n",
       "47321              0              0                 0              0   \n",
       "47322              0              0                 0              0   \n",
       "47323              0              0                 0              0   \n",
       "\n",
       "       placeholder  value  for  onclick  target  id  name  min  max  \n",
       "0                0      0    0        0       0   0     0    0    0  \n",
       "1                0      0    0        0       0   0     0    0    0  \n",
       "2                0      0    0        0       0   0     0    0    0  \n",
       "3                0      0    0        0       0   0     0    0    0  \n",
       "4                0      0    0        0       0   0     0    0    0  \n",
       "...            ...    ...  ...      ...     ...  ..   ...  ...  ...  \n",
       "47319            0      0    0        0       0   0     0    0    0  \n",
       "47320            0      0    0        0       1   0     0    0    0  \n",
       "47321            0      0    0        0       0   0     0    0    0  \n",
       "47322            0      0    0        0       0   0     0    0    0  \n",
       "47323            0      0    0        0       0   0     0    0    0  \n",
       "\n",
       "[47324 rows x 17 columns]"
      ]
     },
     "execution_count": 48,
     "metadata": {},
     "output_type": "execute_result"
    }
   ],
   "source": [
    "logger.setLevel(logging.DEBUG)\n",
    "attributes_df = build_attributes_feature(df)\n",
    "attributes_df"
   ]
  },
  {
   "cell_type": "code",
   "execution_count": 49,
   "id": "4892e0a1",
   "metadata": {},
   "outputs": [
    {
     "data": {
      "text/plain": [
       "(<47324x17 sparse matrix of type '<class 'numpy.int64'>'\n",
       " \twith 6939 stored elements in Compressed Sparse Row format>,\n",
       " 6939)"
      ]
     },
     "execution_count": 49,
     "metadata": {},
     "output_type": "execute_result"
    }
   ],
   "source": [
    "csr_matrix(attributes_df.values), attributes_df.values.sum()"
   ]
  },
  {
   "cell_type": "code",
   "execution_count": 50,
   "id": "0bf808b3",
   "metadata": {},
   "outputs": [
    {
     "data": {
      "text/plain": [
       "Index(['attributes', 'displayed', 'element_id', 'height', 'onmouseenter',\n",
       "       'onmouseover', 'parent_id', 'style', 'tag_name', 'text', 'width', 'x',\n",
       "       'y', 'is_hidden', 'upper_sibling', 'lower_sibling', 'siblings', 'idx',\n",
       "       'label', 'annotation_line_no', 'iou', 'tag', 'label_text', 'dataset'],\n",
       "      dtype='object')"
      ]
     },
     "execution_count": 50,
     "metadata": {},
     "output_type": "execute_result"
    }
   ],
   "source": [
    "df.columns"
   ]
  },
  {
   "cell_type": "markdown",
   "id": "6eebd301",
   "metadata": {},
   "source": [
    "# Check for duplicates"
   ]
  },
  {
   "cell_type": "code",
   "execution_count": 51,
   "id": "86bf65a7",
   "metadata": {},
   "outputs": [
    {
     "data": {
      "text/html": [
       "<h1><b>The dataset is OK, there are no duplicates</b></h1>"
      ],
      "text/plain": [
       "<IPython.core.display.HTML object>"
      ]
     },
     "metadata": {},
     "output_type": "display_data"
    }
   ],
   "source": [
    "assert df.element_id.nunique() == df.shape[0], \"There are duplicates in the dataset\"\n",
    "display(HTML(\"<h1><b>The dataset is OK, there are no duplicates</b></h1>\"))"
   ]
  },
  {
   "cell_type": "markdown",
   "id": "6bae86f8",
   "metadata": {},
   "source": [
    "<hr style=\"height: 5px\">"
   ]
  },
  {
   "cell_type": "markdown",
   "id": "83135cff",
   "metadata": {},
   "source": [
    "# DatasetCollector"
   ]
  },
  {
   "cell_type": "code",
   "execution_count": 52,
   "id": "6927bf17",
   "metadata": {},
   "outputs": [],
   "source": [
    "COLS = ['element_id', 'tag_name', 'attributes', 'displayed', 'is_hidden']\n",
    "TARGET_PARENT_COLUMNS = ['parent_id', 'tag_name_parent', 'attributes_parent', 'displayed_parent', 'is_hidden_parent']\n",
    "df_parent = df[COLS].copy()\n",
    "df_parent.columns = TARGET_PARENT_COLUMNS\n",
    "df.shape\n",
    "\n",
    "TARGET_UP_SIBLING_COLUMNS = ['upper_sibling', 'tag_name_upsib', 'attributes_upsib', 'displayed_upsib', 'is_hidden_upsib']\n",
    "upsib_df = df[COLS].copy()\n",
    "upsib_df.columns = TARGET_UP_SIBLING_COLUMNS\n",
    "\n",
    "TARGET_DN_SIBLING_COLUMNS = ['lower_sibling', 'tag_name_dnsib', 'attributes_dnsib', 'displayed_dnsib', 'is_hidden_dnsib']\n",
    "dnsib_df = df[COLS].copy()\n",
    "dnsib_df.columns = TARGET_DN_SIBLING_COLUMNS\n",
    "\n"
   ]
  },
  {
   "cell_type": "code",
   "execution_count": 53,
   "id": "4b763c4d",
   "metadata": {},
   "outputs": [],
   "source": [
    "train_df = df.merge(df_parent, on='parent_id', how='left')\n",
    "train_df = train_df.merge(upsib_df, on='upper_sibling', how='left')\n",
    "train_df = train_df.merge(dnsib_df, on='lower_sibling', how='left')\n"
   ]
  },
  {
   "cell_type": "code",
   "execution_count": 54,
   "id": "590a3248",
   "metadata": {},
   "outputs": [
    {
     "data": {
      "text/plain": [
       "((47324, 36),\n",
       " Index(['attributes', 'displayed', 'element_id', 'height', 'onmouseenter',\n",
       "        'onmouseover', 'parent_id', 'style', 'tag_name', 'text', 'width', 'x',\n",
       "        'y', 'is_hidden', 'upper_sibling', 'lower_sibling', 'siblings', 'idx',\n",
       "        'label', 'annotation_line_no', 'iou', 'tag', 'label_text', 'dataset',\n",
       "        'tag_name_parent', 'attributes_parent', 'displayed_parent',\n",
       "        'is_hidden_parent', 'tag_name_upsib', 'attributes_upsib',\n",
       "        'displayed_upsib', 'is_hidden_upsib', 'tag_name_dnsib',\n",
       "        'attributes_dnsib', 'displayed_dnsib', 'is_hidden_dnsib'],\n",
       "       dtype='object'))"
      ]
     },
     "execution_count": 54,
     "metadata": {},
     "output_type": "execute_result"
    }
   ],
   "source": [
    "train_df.shape, train_df.columns"
   ]
  },
  {
   "cell_type": "code",
   "execution_count": 55,
   "id": "9c465257",
   "metadata": {},
   "outputs": [
    {
     "name": "stdout",
     "output_type": "stream",
     "text": [
      "2021-06-20 14:49:57,503 -INFO - features_builder:features_builder.py:152 - used column: attributes_parent\n"
     ]
    },
    {
     "data": {
      "application/vnd.jupyter.widget-view+json": {
       "model_id": "ca92b6400e604914a9cd7c205359f410",
       "version_major": 2,
       "version_minor": 0
      },
      "text/plain": [
       "  0%|          | 0/47324 [00:00<?, ?it/s]"
      ]
     },
     "metadata": {},
     "output_type": "display_data"
    },
    {
     "data": {
      "text/plain": [
       "<47324x17 sparse matrix of type '<class 'numpy.int64'>'\n",
       "\twith 6424 stored elements in Compressed Sparse Row format>"
      ]
     },
     "execution_count": 55,
     "metadata": {},
     "output_type": "execute_result"
    }
   ],
   "source": [
    "parent_attributes_sm = csr_matrix(build_attributes_feature(df = train_df, colname = 'attributes_parent').values)\n",
    "parent_attributes_sm"
   ]
  },
  {
   "cell_type": "code",
   "execution_count": 56,
   "id": "035f9e31",
   "metadata": {},
   "outputs": [
    {
     "name": "stdout",
     "output_type": "stream",
     "text": [
      "2021-06-20 14:50:01,181 -INFO - features_builder:features_builder.py:152 - used column: attributes_upsib\n"
     ]
    },
    {
     "data": {
      "application/vnd.jupyter.widget-view+json": {
       "model_id": "b3e3dcc491be4972949b56f36de48bb5",
       "version_major": 2,
       "version_minor": 0
      },
      "text/plain": [
       "  0%|          | 0/47324 [00:00<?, ?it/s]"
      ]
     },
     "metadata": {},
     "output_type": "display_data"
    },
    {
     "data": {
      "text/plain": [
       "<47324x17 sparse matrix of type '<class 'numpy.int64'>'\n",
       "\twith 3597 stored elements in Compressed Sparse Row format>"
      ]
     },
     "execution_count": 56,
     "metadata": {},
     "output_type": "execute_result"
    }
   ],
   "source": [
    "upsib_attributes_sm = csr_matrix(build_attributes_feature(df = train_df, colname = 'attributes_upsib').values)\n",
    "upsib_attributes_sm"
   ]
  },
  {
   "cell_type": "code",
   "execution_count": 57,
   "id": "0556a692",
   "metadata": {},
   "outputs": [
    {
     "name": "stdout",
     "output_type": "stream",
     "text": [
      "2021-06-20 14:50:04,826 -INFO - features_builder:features_builder.py:152 - used column: attributes_dnsib\n"
     ]
    },
    {
     "data": {
      "application/vnd.jupyter.widget-view+json": {
       "model_id": "797bf74e19804be78a948916726eec37",
       "version_major": 2,
       "version_minor": 0
      },
      "text/plain": [
       "  0%|          | 0/47324 [00:00<?, ?it/s]"
      ]
     },
     "metadata": {},
     "output_type": "display_data"
    },
    {
     "data": {
      "text/plain": [
       "<47324x17 sparse matrix of type '<class 'numpy.int64'>'\n",
       "\twith 2849 stored elements in Compressed Sparse Row format>"
      ]
     },
     "execution_count": 57,
     "metadata": {},
     "output_type": "execute_result"
    }
   ],
   "source": [
    "dnsib_attributes_sm = csr_matrix(build_attributes_feature(df = train_df, colname = 'attributes_dnsib').values)\n",
    "dnsib_attributes_sm"
   ]
  },
  {
   "cell_type": "markdown",
   "id": "31c89c9b",
   "metadata": {},
   "source": [
    "<hr>\n",
    "\n",
    "- # class"
   ]
  },
  {
   "cell_type": "code",
   "execution_count": 58,
   "id": "8d6d5d98",
   "metadata": {},
   "outputs": [
    {
     "name": "stdout",
     "output_type": "stream",
     "text": [
      "2021-06-20 14:50:08,453 -INFO - features_builder:features_builder.py:188 - used column: attributes\n",
      "2021-06-20 14:50:08,455 -INFO - features_builder:features_builder.py:191 - TfIdfVectorizer for class attribute exists. Loaging...\n"
     ]
    },
    {
     "data": {
      "text/plain": [
       "<47324x353 sparse matrix of type '<class 'numpy.float64'>'\n",
       "\twith 60648 stored elements in Compressed Sparse Row format>"
      ]
     },
     "execution_count": 58,
     "metadata": {},
     "output_type": "execute_result"
    }
   ],
   "source": [
    "build_class_feature(train_df, colname='attributes')"
   ]
  },
  {
   "cell_type": "code",
   "execution_count": 59,
   "id": "903a53f9",
   "metadata": {},
   "outputs": [
    {
     "name": "stdout",
     "output_type": "stream",
     "text": [
      "2021-06-20 14:50:08,643 -INFO - features_builder:features_builder.py:188 - used column: attributes_parent\n",
      "2021-06-20 14:50:08,644 -INFO - features_builder:features_builder.py:191 - TfIdfVectorizer for class attribute exists. Loaging...\n"
     ]
    },
    {
     "data": {
      "text/plain": [
       "<47324x353 sparse matrix of type '<class 'numpy.float64'>'\n",
       "\twith 69851 stored elements in Compressed Sparse Row format>"
      ]
     },
     "execution_count": 59,
     "metadata": {},
     "output_type": "execute_result"
    }
   ],
   "source": [
    "build_class_feature(train_df, colname='attributes_parent')"
   ]
  },
  {
   "cell_type": "code",
   "execution_count": 60,
   "id": "b86efd9a",
   "metadata": {},
   "outputs": [
    {
     "name": "stdout",
     "output_type": "stream",
     "text": [
      "2021-06-20 14:50:08,847 -INFO - features_builder:features_builder.py:188 - used column: attributes_upsib\n",
      "2021-06-20 14:50:08,848 -INFO - features_builder:features_builder.py:191 - TfIdfVectorizer for class attribute exists. Loaging...\n"
     ]
    },
    {
     "data": {
      "text/plain": [
       "<47324x353 sparse matrix of type '<class 'numpy.float64'>'\n",
       "\twith 26515 stored elements in Compressed Sparse Row format>"
      ]
     },
     "execution_count": 60,
     "metadata": {},
     "output_type": "execute_result"
    }
   ],
   "source": [
    "build_class_feature(train_df, colname='attributes_upsib')"
   ]
  },
  {
   "cell_type": "code",
   "execution_count": 61,
   "id": "f7e3b372",
   "metadata": {},
   "outputs": [
    {
     "name": "stdout",
     "output_type": "stream",
     "text": [
      "2021-06-20 14:50:09,007 -INFO - features_builder:features_builder.py:188 - used column: attributes_dnsib\n",
      "2021-06-20 14:50:09,008 -INFO - features_builder:features_builder.py:191 - TfIdfVectorizer for class attribute exists. Loaging...\n"
     ]
    },
    {
     "data": {
      "text/plain": [
       "<47324x353 sparse matrix of type '<class 'numpy.float64'>'\n",
       "\twith 25300 stored elements in Compressed Sparse Row format>"
      ]
     },
     "execution_count": 61,
     "metadata": {},
     "output_type": "execute_result"
    }
   ],
   "source": [
    "build_class_feature(train_df, colname='attributes_dnsib')"
   ]
  },
  {
   "cell_type": "markdown",
   "id": "014c8c91",
   "metadata": {},
   "source": [
    "<hr>\n",
    "\n",
    "- # tag_name"
   ]
  },
  {
   "cell_type": "code",
   "execution_count": 62,
   "id": "45208043",
   "metadata": {},
   "outputs": [
    {
     "name": "stdout",
     "output_type": "stream",
     "text": [
      "2021-06-20 14:50:09,164 -INFO - features_builder:features_builder.py:228 - used column: tag_name\n",
      "2021-06-20 14:50:09,165 -INFO - features_builder:features_builder.py:231 - loading model/ohe_tag_name.pkl\n"
     ]
    },
    {
     "data": {
      "text/plain": [
       "<47324x28 sparse matrix of type '<class 'numpy.float64'>'\n",
       "\twith 33557 stored elements in Compressed Sparse Row format>"
      ]
     },
     "execution_count": 62,
     "metadata": {},
     "output_type": "execute_result"
    }
   ],
   "source": [
    "build_tag_name_feature(train_df, colname='tag_name')"
   ]
  },
  {
   "cell_type": "code",
   "execution_count": 63,
   "id": "79039bd6",
   "metadata": {},
   "outputs": [
    {
     "name": "stdout",
     "output_type": "stream",
     "text": [
      "2021-06-20 14:50:09,196 -INFO - features_builder:features_builder.py:228 - used column: tag_name_parent\n",
      "2021-06-20 14:50:09,197 -INFO - features_builder:features_builder.py:231 - loading model/ohe_tag_name.pkl\n"
     ]
    },
    {
     "data": {
      "text/plain": [
       "<47324x28 sparse matrix of type '<class 'numpy.float64'>'\n",
       "\twith 29804 stored elements in Compressed Sparse Row format>"
      ]
     },
     "execution_count": 63,
     "metadata": {},
     "output_type": "execute_result"
    }
   ],
   "source": [
    "build_tag_name_feature(train_df, colname='tag_name_parent')"
   ]
  },
  {
   "cell_type": "code",
   "execution_count": 64,
   "id": "1449a821",
   "metadata": {},
   "outputs": [
    {
     "name": "stdout",
     "output_type": "stream",
     "text": [
      "2021-06-20 14:50:09,229 -INFO - features_builder:features_builder.py:228 - used column: tag_name_upsib\n",
      "2021-06-20 14:50:09,230 -INFO - features_builder:features_builder.py:231 - loading model/ohe_tag_name.pkl\n"
     ]
    },
    {
     "data": {
      "text/plain": [
       "<47324x28 sparse matrix of type '<class 'numpy.float64'>'\n",
       "\twith 16603 stored elements in Compressed Sparse Row format>"
      ]
     },
     "execution_count": 64,
     "metadata": {},
     "output_type": "execute_result"
    }
   ],
   "source": [
    "build_tag_name_feature(train_df, colname='tag_name_upsib')"
   ]
  },
  {
   "cell_type": "code",
   "execution_count": 65,
   "id": "2530507f",
   "metadata": {},
   "outputs": [
    {
     "name": "stdout",
     "output_type": "stream",
     "text": [
      "2021-06-20 14:50:09,260 -INFO - features_builder:features_builder.py:228 - used column: tag_name_dnsib\n",
      "2021-06-20 14:50:09,261 -INFO - features_builder:features_builder.py:231 - loading model/ohe_tag_name.pkl\n"
     ]
    },
    {
     "data": {
      "text/plain": [
       "<47324x28 sparse matrix of type '<class 'numpy.float64'>'\n",
       "\twith 17004 stored elements in Compressed Sparse Row format>"
      ]
     },
     "execution_count": 65,
     "metadata": {},
     "output_type": "execute_result"
    }
   ],
   "source": [
    "build_tag_name_feature(train_df, colname='tag_name_dnsib')"
   ]
  },
  {
   "cell_type": "markdown",
   "id": "ed25939e",
   "metadata": {},
   "source": [
    "<hr>\n",
    "\n",
    "- # type"
   ]
  },
  {
   "cell_type": "code",
   "execution_count": 66,
   "id": "0dc1a100",
   "metadata": {},
   "outputs": [
    {
     "name": "stdout",
     "output_type": "stream",
     "text": [
      "2021-06-20 14:50:09,291 -INFO - features_builder:features_builder.py:279 - used column: attributes\n",
      "2021-06-20 14:50:09,292 -INFO - features_builder:features_builder.py:282 - loading model/ohe_type.pkl\n"
     ]
    },
    {
     "data": {
      "text/plain": [
       "<47324x22 sparse matrix of type '<class 'numpy.float64'>'\n",
       "\twith 47069 stored elements in Compressed Sparse Row format>"
      ]
     },
     "execution_count": 66,
     "metadata": {},
     "output_type": "execute_result"
    }
   ],
   "source": [
    "build_type_feature(train_df, colname='attributes')"
   ]
  },
  {
   "cell_type": "code",
   "execution_count": 67,
   "id": "de3ff6e3",
   "metadata": {},
   "outputs": [
    {
     "name": "stdout",
     "output_type": "stream",
     "text": [
      "2021-06-20 14:50:09,339 -INFO - features_builder:features_builder.py:279 - used column: attributes_parent\n",
      "2021-06-20 14:50:09,340 -INFO - features_builder:features_builder.py:282 - loading model/ohe_type.pkl\n"
     ]
    },
    {
     "data": {
      "text/plain": [
       "<47324x22 sparse matrix of type '<class 'numpy.float64'>'\n",
       "\twith 47324 stored elements in Compressed Sparse Row format>"
      ]
     },
     "execution_count": 67,
     "metadata": {},
     "output_type": "execute_result"
    }
   ],
   "source": [
    "build_type_feature(train_df, colname='attributes_parent')"
   ]
  },
  {
   "cell_type": "code",
   "execution_count": 68,
   "id": "8038159c",
   "metadata": {},
   "outputs": [
    {
     "name": "stdout",
     "output_type": "stream",
     "text": [
      "2021-06-20 14:50:09,390 -INFO - features_builder:features_builder.py:279 - used column: attributes_upsib\n",
      "2021-06-20 14:50:09,391 -INFO - features_builder:features_builder.py:282 - loading model/ohe_type.pkl\n"
     ]
    },
    {
     "data": {
      "text/plain": [
       "<47324x22 sparse matrix of type '<class 'numpy.float64'>'\n",
       "\twith 47105 stored elements in Compressed Sparse Row format>"
      ]
     },
     "execution_count": 68,
     "metadata": {},
     "output_type": "execute_result"
    }
   ],
   "source": [
    "build_type_feature(train_df, colname='attributes_upsib')"
   ]
  },
  {
   "cell_type": "code",
   "execution_count": 69,
   "id": "d11dd2b6",
   "metadata": {},
   "outputs": [
    {
     "name": "stdout",
     "output_type": "stream",
     "text": [
      "2021-06-20 14:50:09,434 -INFO - features_builder:features_builder.py:279 - used column: attributes_dnsib\n",
      "2021-06-20 14:50:09,435 -INFO - features_builder:features_builder.py:282 - loading model/ohe_type.pkl\n"
     ]
    },
    {
     "data": {
      "text/plain": [
       "<47324x22 sparse matrix of type '<class 'numpy.float64'>'\n",
       "\twith 47097 stored elements in Compressed Sparse Row format>"
      ]
     },
     "execution_count": 69,
     "metadata": {},
     "output_type": "execute_result"
    }
   ],
   "source": [
    "build_type_feature(train_df, colname='attributes_dnsib')"
   ]
  },
  {
   "cell_type": "markdown",
   "id": "78b788e0",
   "metadata": {},
   "source": [
    "<hr>\n",
    "\n",
    "- # role"
   ]
  },
  {
   "cell_type": "code",
   "execution_count": 70,
   "id": "8d7a75ff",
   "metadata": {},
   "outputs": [
    {
     "name": "stdout",
     "output_type": "stream",
     "text": [
      "2021-06-20 14:50:09,482 -INFO - features_builder:features_builder.py:251 - used column: attributes\n",
      "2021-06-20 14:50:09,484 -INFO - features_builder:features_builder.py:254 - loading model/ohe_role.pkl\n"
     ]
    },
    {
     "data": {
      "text/plain": [
       "<47324x11 sparse matrix of type '<class 'numpy.float64'>'\n",
       "\twith 46135 stored elements in Compressed Sparse Row format>"
      ]
     },
     "execution_count": 70,
     "metadata": {},
     "output_type": "execute_result"
    }
   ],
   "source": [
    "build_role_feature(train_df, colname='attributes')"
   ]
  },
  {
   "cell_type": "code",
   "execution_count": 71,
   "id": "b37aa88e",
   "metadata": {},
   "outputs": [
    {
     "name": "stdout",
     "output_type": "stream",
     "text": [
      "2021-06-20 14:50:09,528 -INFO - features_builder:features_builder.py:251 - used column: attributes_parent\n",
      "2021-06-20 14:50:09,529 -INFO - features_builder:features_builder.py:254 - loading model/ohe_role.pkl\n"
     ]
    },
    {
     "data": {
      "text/plain": [
       "<47324x11 sparse matrix of type '<class 'numpy.float64'>'\n",
       "\twith 45768 stored elements in Compressed Sparse Row format>"
      ]
     },
     "execution_count": 71,
     "metadata": {},
     "output_type": "execute_result"
    }
   ],
   "source": [
    "build_role_feature(train_df, colname='attributes_parent')"
   ]
  },
  {
   "cell_type": "code",
   "execution_count": 72,
   "id": "b6ee4e56",
   "metadata": {},
   "outputs": [
    {
     "name": "stdout",
     "output_type": "stream",
     "text": [
      "2021-06-20 14:50:09,575 -INFO - features_builder:features_builder.py:251 - used column: attributes_upsib\n",
      "2021-06-20 14:50:09,576 -INFO - features_builder:features_builder.py:254 - loading model/ohe_role.pkl\n"
     ]
    },
    {
     "data": {
      "text/plain": [
       "<47324x11 sparse matrix of type '<class 'numpy.float64'>'\n",
       "\twith 46555 stored elements in Compressed Sparse Row format>"
      ]
     },
     "execution_count": 72,
     "metadata": {},
     "output_type": "execute_result"
    }
   ],
   "source": [
    "build_role_feature(train_df, colname='attributes_upsib')"
   ]
  },
  {
   "cell_type": "code",
   "execution_count": 73,
   "id": "99401f75",
   "metadata": {},
   "outputs": [
    {
     "name": "stdout",
     "output_type": "stream",
     "text": [
      "2021-06-20 14:50:09,623 -INFO - features_builder:features_builder.py:251 - used column: attributes_dnsib\n",
      "2021-06-20 14:50:09,624 -INFO - features_builder:features_builder.py:254 - loading model/ohe_role.pkl\n"
     ]
    },
    {
     "data": {
      "text/plain": [
       "<47324x11 sparse matrix of type '<class 'numpy.float64'>'\n",
       "\twith 46534 stored elements in Compressed Sparse Row format>"
      ]
     },
     "execution_count": 73,
     "metadata": {},
     "output_type": "execute_result"
    }
   ],
   "source": [
    "build_role_feature(train_df, colname='attributes_dnsib')"
   ]
  },
  {
   "cell_type": "code",
   "execution_count": 74,
   "id": "90438f60",
   "metadata": {},
   "outputs": [
    {
     "data": {
      "text/plain": [
       "Index(['attributes', 'displayed', 'element_id', 'height', 'onmouseenter',\n",
       "       'onmouseover', 'parent_id', 'style', 'tag_name', 'text', 'width', 'x',\n",
       "       'y', 'is_hidden', 'upper_sibling', 'lower_sibling', 'siblings', 'idx',\n",
       "       'label', 'annotation_line_no', 'iou', 'tag', 'label_text', 'dataset'],\n",
       "      dtype='object')"
      ]
     },
     "execution_count": 74,
     "metadata": {},
     "output_type": "execute_result"
    }
   ],
   "source": [
    "df.columns"
   ]
  },
  {
   "cell_type": "code",
   "execution_count": 75,
   "id": "9fd7f3bf",
   "metadata": {},
   "outputs": [
    {
     "name": "stdout",
     "output_type": "stream",
     "text": [
      "2021-06-20 14:50:09,846 -INFO - features_builder:features_builder.py:228 - used column: tag_name\n",
      "2021-06-20 14:50:09,846 -INFO - features_builder:features_builder.py:231 - loading model/ohe_tag_name.pkl\n",
      "2021-06-20 14:50:09,866 -INFO - features_builder:features_builder.py:228 - used column: tag_name_parent\n",
      "2021-06-20 14:50:09,866 -INFO - features_builder:features_builder.py:231 - loading model/ohe_tag_name.pkl\n",
      "2021-06-20 14:50:09,886 -INFO - features_builder:features_builder.py:228 - used column: tag_name_upsib\n",
      "2021-06-20 14:50:09,887 -INFO - features_builder:features_builder.py:231 - loading model/ohe_tag_name.pkl\n",
      "2021-06-20 14:50:09,907 -INFO - features_builder:features_builder.py:228 - used column: tag_name_dnsib\n",
      "2021-06-20 14:50:09,908 -INFO - features_builder:features_builder.py:231 - loading model/ohe_tag_name.pkl\n",
      "2021-06-20 14:50:09,928 -INFO - dataset_collector:dataset_collector.py:46 - tag_name: (47324, 28)\n",
      "2021-06-20 14:50:09,929 -INFO - features_builder:features_builder.py:152 - used column: attributes_parent\n"
     ]
    },
    {
     "data": {
      "application/vnd.jupyter.widget-view+json": {
       "model_id": "f036f99d0e684196910b9e7756d3e556",
       "version_major": 2,
       "version_minor": 0
      },
      "text/plain": [
       "  0%|          | 0/47324 [00:00<?, ?it/s]"
      ]
     },
     "metadata": {},
     "output_type": "display_data"
    },
    {
     "name": "stdout",
     "output_type": "stream",
     "text": [
      "2021-06-20 14:50:13,640 -INFO - features_builder:features_builder.py:152 - used column: attributes_parent\n"
     ]
    },
    {
     "data": {
      "application/vnd.jupyter.widget-view+json": {
       "model_id": "64933b49c307428baa40ec7fe9510094",
       "version_major": 2,
       "version_minor": 0
      },
      "text/plain": [
       "  0%|          | 0/47324 [00:00<?, ?it/s]"
      ]
     },
     "metadata": {},
     "output_type": "display_data"
    },
    {
     "name": "stdout",
     "output_type": "stream",
     "text": [
      "2021-06-20 14:50:17,309 -INFO - features_builder:features_builder.py:152 - used column: attributes_upsib\n"
     ]
    },
    {
     "data": {
      "application/vnd.jupyter.widget-view+json": {
       "model_id": "1e3e28dd472c4732b144a9313028aa66",
       "version_major": 2,
       "version_minor": 0
      },
      "text/plain": [
       "  0%|          | 0/47324 [00:00<?, ?it/s]"
      ]
     },
     "metadata": {},
     "output_type": "display_data"
    },
    {
     "name": "stdout",
     "output_type": "stream",
     "text": [
      "2021-06-20 14:50:20,901 -INFO - features_builder:features_builder.py:152 - used column: attributes_dnsib\n"
     ]
    },
    {
     "data": {
      "application/vnd.jupyter.widget-view+json": {
       "model_id": "f2f6a49c68c742798679d9279e5b94a8",
       "version_major": 2,
       "version_minor": 0
      },
      "text/plain": [
       "  0%|          | 0/47324 [00:00<?, ?it/s]"
      ]
     },
     "metadata": {},
     "output_type": "display_data"
    },
    {
     "name": "stdout",
     "output_type": "stream",
     "text": [
      "2021-06-20 14:50:24,530 -INFO - dataset_collector:dataset_collector.py:53 - attributes_sm: (47324, 17)\n",
      "2021-06-20 14:50:24,531 -INFO - features_builder:features_builder.py:188 - used column: attributes\n",
      "2021-06-20 14:50:24,531 -INFO - features_builder:features_builder.py:191 - TfIdfVectorizer for class attribute exists. Loaging...\n",
      "2021-06-20 14:50:24,715 -INFO - features_builder:features_builder.py:188 - used column: attributes_parent\n",
      "2021-06-20 14:50:24,715 -INFO - features_builder:features_builder.py:191 - TfIdfVectorizer for class attribute exists. Loaging...\n",
      "2021-06-20 14:50:24,909 -INFO - features_builder:features_builder.py:188 - used column: attributes_upsib\n",
      "2021-06-20 14:50:24,910 -INFO - features_builder:features_builder.py:191 - TfIdfVectorizer for class attribute exists. Loaging...\n",
      "2021-06-20 14:50:25,046 -INFO - features_builder:features_builder.py:188 - used column: attributes_dnsib\n",
      "2021-06-20 14:50:25,046 -INFO - features_builder:features_builder.py:191 - TfIdfVectorizer for class attribute exists. Loaging...\n",
      "2021-06-20 14:50:25,182 -INFO - dataset_collector:dataset_collector.py:60 - class_sm: (47324, 353)\n",
      "2021-06-20 14:50:25,182 -INFO - features_builder:features_builder.py:279 - used column: attributes\n",
      "2021-06-20 14:50:25,183 -INFO - features_builder:features_builder.py:282 - loading model/ohe_type.pkl\n",
      "2021-06-20 14:50:25,220 -INFO - features_builder:features_builder.py:279 - used column: attributes_parent\n",
      "2021-06-20 14:50:25,221 -INFO - features_builder:features_builder.py:282 - loading model/ohe_type.pkl\n",
      "2021-06-20 14:50:25,248 -INFO - features_builder:features_builder.py:279 - used column: attributes_upsib\n",
      "2021-06-20 14:50:25,249 -INFO - features_builder:features_builder.py:282 - loading model/ohe_type.pkl\n",
      "2021-06-20 14:50:25,283 -INFO - features_builder:features_builder.py:279 - used column: attributes_dnsib\n",
      "2021-06-20 14:50:25,284 -INFO - features_builder:features_builder.py:282 - loading model/ohe_type.pkl\n",
      "2021-06-20 14:50:25,315 -INFO - dataset_collector:dataset_collector.py:67 - type_sm: (47324, 22)\n",
      "2021-06-20 14:50:25,316 -INFO - features_builder:features_builder.py:251 - used column: attributes\n",
      "2021-06-20 14:50:25,316 -INFO - features_builder:features_builder.py:254 - loading model/ohe_role.pkl\n",
      "2021-06-20 14:50:25,353 -INFO - features_builder:features_builder.py:251 - used column: attributes_parent\n",
      "2021-06-20 14:50:25,353 -INFO - features_builder:features_builder.py:254 - loading model/ohe_role.pkl\n",
      "2021-06-20 14:50:25,387 -INFO - features_builder:features_builder.py:251 - used column: attributes_upsib\n",
      "2021-06-20 14:50:25,388 -INFO - features_builder:features_builder.py:254 - loading model/ohe_role.pkl\n",
      "2021-06-20 14:50:25,420 -INFO - features_builder:features_builder.py:251 - used column: attributes_dnsib\n",
      "2021-06-20 14:50:25,420 -INFO - features_builder:features_builder.py:254 - loading model/ohe_role.pkl\n",
      "2021-06-20 14:50:25,455 -INFO - dataset_collector:dataset_collector.py:74 - role_sm: (47324, 11)\n",
      "2021-06-20 14:50:25,766 -INFO - dataset_collector:dataset_collector.py:107 - X: (47324, 1732)\n"
     ]
    }
   ],
   "source": [
    "X, y = collect_dataset(df)"
   ]
  },
  {
   "cell_type": "code",
   "execution_count": 76,
   "id": "f4eb45fd",
   "metadata": {},
   "outputs": [
    {
     "data": {
      "text/html": [
       "<div>\n",
       "<style scoped>\n",
       "    .dataframe tbody tr th:only-of-type {\n",
       "        vertical-align: middle;\n",
       "    }\n",
       "\n",
       "    .dataframe tbody tr th {\n",
       "        vertical-align: top;\n",
       "    }\n",
       "\n",
       "    .dataframe thead th {\n",
       "        text-align: right;\n",
       "    }\n",
       "</style>\n",
       "<table border=\"1\" class=\"dataframe\">\n",
       "  <thead>\n",
       "    <tr style=\"text-align: right;\">\n",
       "      <th></th>\n",
       "      <th>cnt</th>\n",
       "      <th>class</th>\n",
       "    </tr>\n",
       "  </thead>\n",
       "  <tbody>\n",
       "    <tr>\n",
       "      <th>21</th>\n",
       "      <td>42824</td>\n",
       "      <td>n/a</td>\n",
       "    </tr>\n",
       "    <tr>\n",
       "      <th>1</th>\n",
       "      <td>2359</td>\n",
       "      <td>link</td>\n",
       "    </tr>\n",
       "    <tr>\n",
       "      <th>0</th>\n",
       "      <td>1207</td>\n",
       "      <td>button</td>\n",
       "    </tr>\n",
       "    <tr>\n",
       "      <th>4</th>\n",
       "      <td>245</td>\n",
       "      <td>checkbox</td>\n",
       "    </tr>\n",
       "    <tr>\n",
       "      <th>2</th>\n",
       "      <td>229</td>\n",
       "      <td>textfield</td>\n",
       "    </tr>\n",
       "    <tr>\n",
       "      <th>5</th>\n",
       "      <td>122</td>\n",
       "      <td>radiobutton</td>\n",
       "    </tr>\n",
       "    <tr>\n",
       "      <th>14</th>\n",
       "      <td>85</td>\n",
       "      <td>selector</td>\n",
       "    </tr>\n",
       "    <tr>\n",
       "      <th>11</th>\n",
       "      <td>34</td>\n",
       "      <td>datetimeselector</td>\n",
       "    </tr>\n",
       "    <tr>\n",
       "      <th>15</th>\n",
       "      <td>32</td>\n",
       "      <td>table</td>\n",
       "    </tr>\n",
       "    <tr>\n",
       "      <th>17</th>\n",
       "      <td>30</td>\n",
       "      <td>slider</td>\n",
       "    </tr>\n",
       "    <tr>\n",
       "      <th>16</th>\n",
       "      <td>29</td>\n",
       "      <td>switch</td>\n",
       "    </tr>\n",
       "    <tr>\n",
       "      <th>20</th>\n",
       "      <td>26</td>\n",
       "      <td>tab</td>\n",
       "    </tr>\n",
       "    <tr>\n",
       "      <th>6</th>\n",
       "      <td>23</td>\n",
       "      <td>textarea</td>\n",
       "    </tr>\n",
       "    <tr>\n",
       "      <th>10</th>\n",
       "      <td>21</td>\n",
       "      <td>progressbar</td>\n",
       "    </tr>\n",
       "    <tr>\n",
       "      <th>9</th>\n",
       "      <td>12</td>\n",
       "      <td>range</td>\n",
       "    </tr>\n",
       "    <tr>\n",
       "      <th>18</th>\n",
       "      <td>10</td>\n",
       "      <td>tree-node</td>\n",
       "    </tr>\n",
       "    <tr>\n",
       "      <th>7</th>\n",
       "      <td>8</td>\n",
       "      <td>fileinput</td>\n",
       "    </tr>\n",
       "    <tr>\n",
       "      <th>19</th>\n",
       "      <td>7</td>\n",
       "      <td>steper</td>\n",
       "    </tr>\n",
       "    <tr>\n",
       "      <th>3</th>\n",
       "      <td>7</td>\n",
       "      <td>dropdown</td>\n",
       "    </tr>\n",
       "    <tr>\n",
       "      <th>12</th>\n",
       "      <td>6</td>\n",
       "      <td>colorpicker</td>\n",
       "    </tr>\n",
       "    <tr>\n",
       "      <th>8</th>\n",
       "      <td>5</td>\n",
       "      <td>iframe</td>\n",
       "    </tr>\n",
       "    <tr>\n",
       "      <th>13</th>\n",
       "      <td>3</td>\n",
       "      <td>numberselector</td>\n",
       "    </tr>\n",
       "  </tbody>\n",
       "</table>\n",
       "</div>"
      ],
      "text/plain": [
       "      cnt             class\n",
       "21  42824               n/a\n",
       "1    2359              link\n",
       "0    1207            button\n",
       "4     245          checkbox\n",
       "2     229         textfield\n",
       "5     122       radiobutton\n",
       "14     85          selector\n",
       "11     34  datetimeselector\n",
       "15     32             table\n",
       "17     30            slider\n",
       "16     29            switch\n",
       "20     26               tab\n",
       "6      23          textarea\n",
       "10     21       progressbar\n",
       "9      12             range\n",
       "18     10         tree-node\n",
       "7       8         fileinput\n",
       "19      7            steper\n",
       "3       7          dropdown\n",
       "12      6       colorpicker\n",
       "8       5            iframe\n",
       "13      3    numberselector"
      ]
     },
     "execution_count": 76,
     "metadata": {},
     "output_type": "execute_result"
    }
   ],
   "source": [
    "with open('dataset/classes.txt', 'r') as f:\n",
    "    decoder_dict = { i:v.strip() for i, v in enumerate(f.readlines())}\n",
    "results_df = pd.DataFrame(pd.Series(y).value_counts(), columns=['cnt'])\n",
    "results_df['class'] = results_df.index.map(decoder_dict)\n",
    "results_df"
   ]
  },
  {
   "cell_type": "code",
   "execution_count": 77,
   "id": "58e9aad8",
   "metadata": {},
   "outputs": [
    {
     "data": {
      "text/html": [
       "<div>\n",
       "<style scoped>\n",
       "    .dataframe tbody tr th:only-of-type {\n",
       "        vertical-align: middle;\n",
       "    }\n",
       "\n",
       "    .dataframe tbody tr th {\n",
       "        vertical-align: top;\n",
       "    }\n",
       "\n",
       "    .dataframe thead th {\n",
       "        text-align: right;\n",
       "    }\n",
       "</style>\n",
       "<table border=\"1\" class=\"dataframe\">\n",
       "  <thead>\n",
       "    <tr style=\"text-align: right;\">\n",
       "      <th></th>\n",
       "      <th>dataset</th>\n",
       "      <th>tag_name</th>\n",
       "      <th>x</th>\n",
       "      <th>y</th>\n",
       "      <th>width</th>\n",
       "      <th>height</th>\n",
       "    </tr>\n",
       "  </thead>\n",
       "  <tbody>\n",
       "    <tr>\n",
       "      <th>907</th>\n",
       "      <td>bootstrap</td>\n",
       "      <td>BUTTON</td>\n",
       "      <td>240.000000</td>\n",
       "      <td>6560.140625</td>\n",
       "      <td>114.000000</td>\n",
       "      <td>38.0</td>\n",
       "    </tr>\n",
       "    <tr>\n",
       "      <th>414</th>\n",
       "      <td>bootstrap</td>\n",
       "      <td>A</td>\n",
       "      <td>309.468750</td>\n",
       "      <td>2032.000000</td>\n",
       "      <td>107.640625</td>\n",
       "      <td>36.0</td>\n",
       "    </tr>\n",
       "    <tr>\n",
       "      <th>915</th>\n",
       "      <td>bootstrap</td>\n",
       "      <td>BUTTON</td>\n",
       "      <td>407.218750</td>\n",
       "      <td>6603.140625</td>\n",
       "      <td>29.593750</td>\n",
       "      <td>38.0</td>\n",
       "    </tr>\n",
       "    <tr>\n",
       "      <th>435</th>\n",
       "      <td>bootstrap</td>\n",
       "      <td>A</td>\n",
       "      <td>307.468750</td>\n",
       "      <td>2124.000000</td>\n",
       "      <td>105.640625</td>\n",
       "      <td>34.0</td>\n",
       "    </tr>\n",
       "    <tr>\n",
       "      <th>480</th>\n",
       "      <td>bootstrap</td>\n",
       "      <td>A</td>\n",
       "      <td>516.265625</td>\n",
       "      <td>2310.500000</td>\n",
       "      <td>72.859375</td>\n",
       "      <td>34.0</td>\n",
       "    </tr>\n",
       "    <tr>\n",
       "      <th>503</th>\n",
       "      <td>bootstrap</td>\n",
       "      <td>A</td>\n",
       "      <td>529.156250</td>\n",
       "      <td>2472.000000</td>\n",
       "      <td>89.640625</td>\n",
       "      <td>34.0</td>\n",
       "    </tr>\n",
       "    <tr>\n",
       "      <th>1417</th>\n",
       "      <td>ozon</td>\n",
       "      <td>DIV</td>\n",
       "      <td>479.500000</td>\n",
       "      <td>257.000000</td>\n",
       "      <td>206.000000</td>\n",
       "      <td>18.0</td>\n",
       "    </tr>\n",
       "  </tbody>\n",
       "</table>\n",
       "</div>"
      ],
      "text/plain": [
       "        dataset tag_name           x            y       width  height\n",
       "907   bootstrap   BUTTON  240.000000  6560.140625  114.000000    38.0\n",
       "414   bootstrap        A  309.468750  2032.000000  107.640625    36.0\n",
       "915   bootstrap   BUTTON  407.218750  6603.140625   29.593750    38.0\n",
       "435   bootstrap        A  307.468750  2124.000000  105.640625    34.0\n",
       "480   bootstrap        A  516.265625  2310.500000   72.859375    34.0\n",
       "503   bootstrap        A  529.156250  2472.000000   89.640625    34.0\n",
       "1417       ozon      DIV  479.500000   257.000000  206.000000    18.0"
      ]
     },
     "execution_count": 77,
     "metadata": {},
     "output_type": "execute_result"
    }
   ],
   "source": [
    "df[df.label_text == 'dropdown'][['dataset', 'tag_name', 'x', 'y', 'width', 'height']]"
   ]
  },
  {
   "cell_type": "code",
   "execution_count": 78,
   "id": "2ac09e53",
   "metadata": {},
   "outputs": [],
   "source": [
    "# def rebalance(y: np.ndarray):\n",
    "#     with open('dataset/classes.txt', 'r') as f:\n",
    "#         decoder_dict = { i: v.strip()  for i, v in enumerate(f.readlines())}\n",
    "\n",
    "#     proportion_df = pd.DataFrame([{'label': i, 'label_text': decoder_dict[i], 'cnt': np.where(y==i)[0].shape[0] } for i in range(0, len(decoder_dict))])\n",
    "#     labels_cnt = proportion_df[proportion_df.label_text != 'n/a'][['cnt']].sum().values[0]\n",
    "#     na_label_cnt = proportion_df[proportion_df.label_text == 'n/a'].cnt.values[0]\n",
    "#     print(na_label_cnt, labels_cnt)\n",
    "#     proportion_df['ratio'] = proportion_df.apply(lambda r: na_label_cnt//r.cnt//7 if r.label_text != 'n/a' else 1, axis=1)\n",
    "#     proportion_df['cnt2'] = proportion_df.ratio * proportion_df.cnt\n",
    "#     display(proportion_df)\n",
    "    \n",
    "#     indices = []\n",
    "#     for i, r in proportion_df.iterrows():\n",
    "#         lst = np.where(y == r.label)[0].tolist()\n",
    "#         for _ in range(r.ratio):\n",
    "#             indices.extend(lst)\n",
    "            \n",
    "#     print(len(indices))\n",
    "#     np.random.shuffle(indices)\n",
    "#     return indices\n"
   ]
  },
  {
   "cell_type": "code",
   "execution_count": 79,
   "id": "87718dee",
   "metadata": {},
   "outputs": [
    {
     "name": "stdout",
     "output_type": "stream",
     "text": [
      "2021-06-20 14:50:25,974 -INFO - dataset:dataset.py:181 - Rebalance dataset\n",
      "2021-06-20 14:50:25,979 -INFO - dataset:dataset.py:194 - \"n/a\" count: 42824, labels count: 4500\n",
      "2021-06-20 14:50:25,995 -INFO - dataset:dataset.py:209 - Rebalanced and shuffled indices: 169138\n"
     ]
    }
   ],
   "source": [
    "indices = rebalance(y)"
   ]
  },
  {
   "cell_type": "code",
   "execution_count": null,
   "id": "de702401",
   "metadata": {},
   "outputs": [],
   "source": []
  }
 ],
 "metadata": {
  "kernelspec": {
   "display_name": "Python 3",
   "language": "python",
   "name": "python3"
  },
  "language_info": {
   "codemirror_mode": {
    "name": "ipython",
    "version": 3
   },
   "file_extension": ".py",
   "mimetype": "text/x-python",
   "name": "python",
   "nbconvert_exporter": "python",
   "pygments_lexer": "ipython3",
   "version": "3.7.9"
  }
 },
 "nbformat": 4,
 "nbformat_minor": 5
}
