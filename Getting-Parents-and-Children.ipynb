{
 "cells": [
  {
   "cell_type": "code",
   "execution_count": 1,
   "id": "regulated-lewis",
   "metadata": {},
   "outputs": [],
   "source": [
    "import re, glob, os, sys, gc\n",
    "import pandas as pd\n",
    "import numpy as np\n",
    "import numba\n",
    "\n",
    "import matplotlib.pyplot as plt\n",
    "\n",
    "%matplotlib inline"
   ]
  },
  {
   "cell_type": "code",
   "execution_count": 2,
   "id": "discrete-millennium",
   "metadata": {},
   "outputs": [
    {
     "data": {
      "text/plain": [
       "(6447, 19)"
      ]
     },
     "execution_count": 2,
     "metadata": {},
     "output_type": "execute_result"
    }
   ],
   "source": [
    "angular_df = pd.read_parquet('dataset/df/angular.parquet')\n",
    "angular_df.shape"
   ]
  },
  {
   "cell_type": "code",
   "execution_count": 3,
   "id": "lasting-adelaide",
   "metadata": {},
   "outputs": [
    {
     "name": "stdout",
     "output_type": "stream",
     "text": [
      "Tree is ok\n"
     ]
    }
   ],
   "source": [
    "assert angular_df.element_id.nunique() == angular_df.shape[0] , 'Duplicated nodes'\n",
    "print(\"Tree is ok\")"
   ]
  },
  {
   "cell_type": "code",
   "execution_count": 4,
   "id": "accompanied-picking",
   "metadata": {},
   "outputs": [],
   "source": [
    "def get_leafs(df):\n",
    "    return set(df.element_id.values) - set(df.parent_id.values)"
   ]
  },
  {
   "cell_type": "code",
   "execution_count": 5,
   "id": "consolidated-impossible",
   "metadata": {},
   "outputs": [
    {
     "data": {
      "text/plain": [
       "(2338, 4961)"
      ]
     },
     "execution_count": 5,
     "metadata": {},
     "output_type": "execute_result"
    }
   ],
   "source": [
    "displayed_leafs_df = angular_df[angular_df.element_id.isin(get_leafs(angular_df)) & angular_df.displayed]\n",
    "displayed_leafs_df.shape[0], angular_df[angular_df.displayed].shape[0]"
   ]
  },
  {
   "cell_type": "code",
   "execution_count": 6,
   "id": "august-newsletter",
   "metadata": {},
   "outputs": [],
   "source": [
    "# pg.displayed_leafs_df.groupby('tag_name').size()"
   ]
  },
  {
   "cell_type": "code",
   "execution_count": 7,
   "id": "dedicated-boundary",
   "metadata": {},
   "outputs": [
    {
     "data": {
      "text/plain": [
       "parent_id                              7839ed69-b14a-42a0-865f-878ca50161b6\n",
       "element_id                             c52342c3-37a2-4bf7-b668-db5d0f2e99a5\n",
       "tag_name                                                                div\n",
       "x                                                                       256\n",
       "y                                                                      1720\n",
       "height                                                                 16.0\n",
       "width                                                                  16.0\n",
       "displayed                                                              True\n",
       "enabled                                                                True\n",
       "selected                                                              False\n",
       "text                                                                   None\n",
       "is_hover                                                               True\n",
       "base64png_before_hover    iVBORw0KGgoAAAANSUhEUgAAABAAAAAQCAYAAAAf8/9hAA...\n",
       "base64png_after_hover     iVBORw0KGgoAAAANSUhEUgAAABAAAAAQCAYAAAAf8/9hAA...\n",
       "attr_class                                               mat-checkbox-frame\n",
       "attr_onclick                                                           None\n",
       "attr_type                                                              None\n",
       "attr_role                                                              None\n",
       "attr_id                                                                    \n",
       "Name: 575, dtype: object"
      ]
     },
     "execution_count": 7,
     "metadata": {},
     "output_type": "execute_result"
    }
   ],
   "source": [
    "displayed_leafs_df.iloc[111]"
   ]
  },
  {
   "cell_type": "code",
   "execution_count": 8,
   "id": "thrown-review",
   "metadata": {},
   "outputs": [],
   "source": [
    "@numba.jit(forceobj=True)\n",
    "def get_parents_list(tree_dict:dict, element_id:str, paternts_list:list=[]):\n",
    "    parent_id = tree_dict.get(element_id)\n",
    "    if parent_id is None:\n",
    "        return paternts_list\n",
    "    else:\n",
    "        paternts_list.append(parent_id)\n",
    "        return get_parents_list(tree_dict, element_id=parent_id, paternts_list=paternts_list)\n",
    "    "
   ]
  },
  {
   "cell_type": "code",
   "execution_count": 9,
   "id": "worth-conflict",
   "metadata": {},
   "outputs": [],
   "source": [
    "tree_dict = dict(zip(angular_df.element_id.values, angular_df.parent_id.values))"
   ]
  },
  {
   "cell_type": "code",
   "execution_count": null,
   "id": "floating-update",
   "metadata": {},
   "outputs": [],
   "source": []
  },
  {
   "cell_type": "code",
   "execution_count": 10,
   "id": "dependent-opera",
   "metadata": {},
   "outputs": [
    {
     "data": {
      "text/plain": [
       "['7839ed69-b14a-42a0-865f-878ca50161b6',\n",
       " '48b64ba2-98d7-4cd2-9d1f-663296683175',\n",
       " '16d3bd3c-8f7a-41dd-a95c-b0793c968cec',\n",
       " '7930decd-39b2-4c8b-b0f3-99cbf0ed90a8',\n",
       " '5ae4fca9-4d82-4b60-8e7d-a802a71d0366',\n",
       " 'cbedcdf8-4a6e-4ec6-a9d9-03ca49034499',\n",
       " '1e10782a-0399-4c42-953a-184d1a07c0df',\n",
       " 'ff4e087b-7c4a-444e-8ec4-cedcaad7bf68',\n",
       " 'ce4f5657-7d10-43aa-91f8-25495162c942',\n",
       " '1b39fc83-f378-48b0-b34e-37dabddbead5',\n",
       " 'dee6f6bb-f389-4684-b1c0-da2f854c8515',\n",
       " '91df6dab-a0b3-4a93-9851-fb1c6ac64640']"
      ]
     },
     "execution_count": 10,
     "metadata": {},
     "output_type": "execute_result"
    }
   ],
   "source": [
    "el_id = 'c52342c3-37a2-4bf7-b668-db5d0f2e99a5'\n",
    "list_of_parents=[]\n",
    "\n",
    "get_parents_list(tree_dict=tree_dict, element_id= el_id, paternts_list=list_of_parents)"
   ]
  },
  {
   "cell_type": "code",
   "execution_count": 11,
   "id": "monetary-lebanon",
   "metadata": {},
   "outputs": [],
   "source": [
    "tag_name_dict = dict(zip(angular_df.element_id.values, angular_df.tag_name))\n",
    "width_dict = dict(zip(angular_df.element_id.values, angular_df.width))\n",
    "height_dict = dict(zip(angular_df.element_id.values, angular_df.height))\n",
    "displayed_dict = dict(zip(angular_df.element_id.values, angular_df.displayed))\n",
    "x_dict = dict(zip(angular_df.element_id.values, angular_df.x))\n",
    "y_dict = dict(zip(angular_df.element_id.values, angular_df.y))\n",
    "\n"
   ]
  },
  {
   "cell_type": "code",
   "execution_count": 12,
   "id": "coordinated-skating",
   "metadata": {},
   "outputs": [
    {
     "data": {
      "text/plain": [
       "'div:16:16/label:73:24/mat-checkbox:73:29/section:908:60/mat-card-content:908:209/mat-card:940:241/slide-toggle-configurable-example:940:398/div:1000:44678/div:1000:44678/div:1200:44678/body:1200:44802/html:1183:44785'"
      ]
     },
     "execution_count": 12,
     "metadata": {},
     "output_type": "execute_result"
    }
   ],
   "source": [
    "path = []\n",
    "path = \"/\".join([ tag_name_dict[i]+':'+str(int(width_dict[i])) +':'+str(int(height_dict[i])) for i in get_parents_list(tree_dict=tree_dict, element_id=el_id, paternts_list=path)])\n",
    "path"
   ]
  },
  {
   "cell_type": "code",
   "execution_count": 13,
   "id": "elect-longer",
   "metadata": {},
   "outputs": [
    {
     "data": {
      "text/plain": [
       "'div:1720/label:1716/mat-checkbox:1716/section:1700/mat-card-content:1611/mat-card:1595/slide-toggle-configurable-example:1559/div:60/div:60/div:60/body:0/html:0'"
      ]
     },
     "execution_count": 13,
     "metadata": {},
     "output_type": "execute_result"
    }
   ],
   "source": [
    "path = []\n",
    "path = \"/\".join([tag_name_dict[i]+':'+str(int(y_dict[i])) for i in get_parents_list(tree_dict=tree_dict, element_id=el_id, paternts_list=path)])\n",
    "path"
   ]
  },
  {
   "cell_type": "code",
   "execution_count": null,
   "id": "infrared-transport",
   "metadata": {},
   "outputs": [],
   "source": [
    "d"
   ]
  },
  {
   "cell_type": "code",
   "execution_count": null,
   "id": "bronze-auction",
   "metadata": {},
   "outputs": [],
   "source": []
  },
  {
   "cell_type": "code",
   "execution_count": null,
   "id": "undefined-feedback",
   "metadata": {},
   "outputs": [],
   "source": []
  },
  {
   "cell_type": "code",
   "execution_count": null,
   "id": "veterinary-content",
   "metadata": {},
   "outputs": [],
   "source": []
  },
  {
   "cell_type": "code",
   "execution_count": null,
   "id": "special-continent",
   "metadata": {},
   "outputs": [],
   "source": []
  },
  {
   "cell_type": "markdown",
   "id": "direct-compiler",
   "metadata": {},
   "source": [
    "## Detect leafs and their parents, grandparents (nodes without children)"
   ]
  },
  {
   "cell_type": "code",
   "execution_count": 14,
   "id": "violent-wireless",
   "metadata": {},
   "outputs": [
    {
     "name": "stdout",
     "output_type": "stream",
     "text": [
      "Leafs set size: 3249 (nodes which have no children)\n",
      "Parents set size: 1749 (nodes which have only children)\n",
      "Grandpa set size: 1256 (nodes which have children and grandchildren)\n"
     ]
    }
   ],
   "source": [
    "from collections import Counter\n",
    "\n",
    "def get_children(df):\n",
    "    \n",
    "    # select all leafs (nodes which are not parents)\n",
    "    leafs_set = set(df.element_id.values) - set(df.parent_id.values)\n",
    "    print(f'Leafs set size: {len(leafs_set)} (nodes which have no children)')\n",
    "    \n",
    "    # count number of references (nodes which have one level of children)\n",
    "    parents_dict = Counter(df[df.element_id.isin(leafs_set)].parent_id.values)\n",
    "    print(f'Parents set size: {len(parents_dict)} (nodes which have only children)')\n",
    "        \n",
    "    # select all nodes which have at least two levels of children \n",
    "    grandpa_dict = Counter(df[df.element_id.isin(parents_dict.keys())].parent_id.values)\n",
    "    print(f'Grandpa set size: {len(grandpa_dict)} (nodes which have children and grandchildren)')\n",
    "    \n",
    "    return  {'leafs':leafs_set, 'parents':parents_dict, 'grandpa':grandpa_dict}\n",
    "\n",
    "get_children(angular_df);   "
   ]
  },
  {
   "cell_type": "code",
   "execution_count": null,
   "id": "forced-cinema",
   "metadata": {},
   "outputs": [],
   "source": []
  }
 ],
 "metadata": {
  "kernelspec": {
   "display_name": "Python 3",
   "language": "python",
   "name": "python3"
  },
  "language_info": {
   "codemirror_mode": {
    "name": "ipython",
    "version": 3
   },
   "file_extension": ".py",
   "mimetype": "text/x-python",
   "name": "python",
   "nbconvert_exporter": "python",
   "pygments_lexer": "ipython3",
   "version": "3.7.9"
  }
 },
 "nbformat": 4,
 "nbformat_minor": 5
}
