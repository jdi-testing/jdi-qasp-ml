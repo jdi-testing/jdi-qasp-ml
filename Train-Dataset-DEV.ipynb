{
 "cells": [
  {
   "cell_type": "code",
   "execution_count": 1,
   "id": "included-express",
   "metadata": {},
   "outputs": [
    {
     "name": "stdout",
     "output_type": "stream",
     "text": [
      "2021-03-29 23:29:17,538 - INFO - dataset:dataset.py:27 - dataset package is loaded...\n"
     ]
    }
   ],
   "source": [
    "import os, sys, re, gc, glob, numba\n",
    "import torch\n",
    "from torch.utils.data import Dataset, DataLoader\n",
    "\n",
    "import pandas as pd\n",
    "import numpy as np\n",
    "import matplotlib.pyplot as plt\n",
    "\n",
    "from utils import logger, assign_labels, build_children_features\n",
    "from IPython.display import display, clear_output, HTML\n",
    "import datetime as dt\n",
    "\n",
    "from sklearn.feature_extraction.text import CountVectorizer\n",
    "from sklearn.preprocessing import OneHotEncoder\n",
    "from scipy.sparse import hstack\n",
    "import pickle\n",
    "from collections import defaultdict\n",
    "\n",
    "from tqdm.auto import trange\n",
    "from collections import Counter\n",
    "\n",
    "START_DT = dt.datetime.now()\n"
   ]
  },
  {
   "cell_type": "code",
   "execution_count": null,
   "id": "noted-volunteer",
   "metadata": {},
   "outputs": [],
   "source": []
  },
  {
   "cell_type": "code",
   "execution_count": 2,
   "id": "vocal-growing",
   "metadata": {},
   "outputs": [],
   "source": [
    "@numba.jit(forceobj=True)\n",
    "def get_parents_list(tree_dict:dict, element_id:str, paternts_list:list=None) -> list:\n",
    "    \"\"\"\n",
    "        returns ordered list of parent for a element\n",
    "        starting from root which is the <html/> tag\n",
    "    \"\"\"\n",
    "    if paternts_list is None:\n",
    "        paternts_list = []\n",
    "    \n",
    "    parent_id = tree_dict.get(element_id)\n",
    "    if parent_id is None:\n",
    "        return paternts_list\n",
    "    else:\n",
    "        paternts_list.append(parent_id)\n",
    "        return get_parents_list(tree_dict, element_id=parent_id, paternts_list=paternts_list)\n"
   ]
  },
  {
   "cell_type": "code",
   "execution_count": null,
   "id": "adaptive-fellowship",
   "metadata": {},
   "outputs": [],
   "source": []
  },
  {
   "cell_type": "code",
   "execution_count": 3,
   "id": "split-vessel",
   "metadata": {},
   "outputs": [],
   "source": [
    "def build_tree_dict(df:pd.DataFrame) -> dict:\n",
    "    \"\"\"\n",
    "        Builds tree dict for\n",
    "        get_parents_list \n",
    "    \"\"\"\n",
    "    tree_dict = dict(zip(df.element_id.values, df.parent_id.values))\n",
    "    return tree_dict\n"
   ]
  },
  {
   "cell_type": "code",
   "execution_count": null,
   "id": "piano-zambia",
   "metadata": {},
   "outputs": [],
   "source": []
  },
  {
   "cell_type": "code",
   "execution_count": 4,
   "id": "offshore-maldives",
   "metadata": {},
   "outputs": [],
   "source": [
    "def build_tree_features(elements_df:pd.DataFrame) -> pd.DataFrame:\n",
    "    \n",
    "    def empty_string():\n",
    "        return ''\n",
    "\n",
    "    tree_dict = build_tree_dict(elements_df)\n",
    "    tag_name_dict = dict(zip(elements_df.element_id.values, elements_df.tag_name.values))\n",
    "    width_dict = dict(zip(elements_df.element_id.values, elements_df.width.values))\n",
    "    height_dict = dict(zip(elements_df.element_id.values, elements_df.height.values))\n",
    "\n",
    "    # Build paths\n",
    "    followers_counter = Counter()\n",
    "    level_dict = defaultdict(int)\n",
    "    children_tags_dict = defaultdict(empty_string)\n",
    "    \n",
    "    with trange(elements_df.shape[0]) as tbar:\n",
    "        tbar.set_description('Build tree features')\n",
    "        for i, r in elements_df.iterrows(): \n",
    "            list_of_parents = get_parents_list(tree_dict=tree_dict, element_id= r.element_id)\n",
    "            children_tags_dict[r.parent_id] += r.tag_name.lower()+' '\n",
    "            #print(list_of_parents)\n",
    "            followers_counter.update(list_of_parents)  # calculate number of followers\n",
    "            tbar.update(1)\n",
    "            \n",
    "    elements_df['children_tags'] = elements_df.element_id.map(children_tags_dict).fillna('')\n",
    "    elements_df['num_followers'] = elements_df.element_id.map(followers_counter)\n",
    "    return elements_df\n"
   ]
  },
  {
   "cell_type": "code",
   "execution_count": 5,
   "id": "embedded-multiple",
   "metadata": {},
   "outputs": [],
   "source": [
    "elements_df = pd.read_parquet('dataset/df/bootstrap-reboot.parquet')"
   ]
  },
  {
   "cell_type": "code",
   "execution_count": 6,
   "id": "checked-approval",
   "metadata": {},
   "outputs": [
    {
     "data": {
      "text/plain": [
       "1043"
      ]
     },
     "execution_count": 6,
     "metadata": {},
     "output_type": "execute_result"
    }
   ],
   "source": [
    "len(build_tree_dict(elements_df))"
   ]
  },
  {
   "cell_type": "code",
   "execution_count": 7,
   "id": "blond-tablet",
   "metadata": {},
   "outputs": [
    {
     "data": {
      "application/vnd.jupyter.widget-view+json": {
       "model_id": "fb68c00ba412446b864ed3e9c5ee270a",
       "version_major": 2,
       "version_minor": 0
      },
      "text/plain": [
       "  0%|          | 0/1043 [00:00<?, ?it/s]"
      ]
     },
     "metadata": {},
     "output_type": "display_data"
    }
   ],
   "source": [
    "build_tree_features(elements_df=elements_df);"
   ]
  },
  {
   "cell_type": "code",
   "execution_count": 8,
   "id": "exciting-international",
   "metadata": {},
   "outputs": [],
   "source": [
    "# elements_df[['parent_id', 'element_id', 'tag_name', 'children_tags', 'num_followers']].tail(30)"
   ]
  },
  {
   "cell_type": "code",
   "execution_count": null,
   "id": "legendary-refrigerator",
   "metadata": {},
   "outputs": [],
   "source": []
  },
  {
   "cell_type": "code",
   "execution_count": 9,
   "id": "ceramic-theater",
   "metadata": {},
   "outputs": [],
   "source": [
    "class JDIDataset(Dataset):\n",
    "    \n",
    "    def __init__(self, dataset_names:list=None, rebalance=False):\n",
    "        super(JDIDataset, self).__init__()\n",
    "        self.rebalanced = rebalance\n",
    "               \n",
    "        with open('dataset/classes.txt', 'r') as f:\n",
    "            self.classes_dict = { class_name.strip():i for i, class_name in enumerate(f.readlines()) }\n",
    "            self.classes_reverse_dict = { v:k for k, v in self.classes_dict.items()}\n",
    "        self.dummy_class_value = self.classes_dict['n/a']\n",
    "            \n",
    "        if dataset_names is None:\n",
    "            logger.warning('Using all available data to generate dataset')\n",
    "            dataset_names = self._gen_dataset_names()\n",
    "            \n",
    "        logger.info(f\"List of dataset_names:{dataset_names}\")\n",
    "        \n",
    "        ds_list=[] # list of datasets to join\n",
    "        \n",
    "        for ds_name in dataset_names:\n",
    "            logger.info(f'Dataset for {ds_name}')\n",
    "            df = pd.read_parquet(f'dataset/df/{ds_name}.parquet')\n",
    "            logger.info(f\"Dataset shape: {df.shape}\")\n",
    "\n",
    "            logger.info('cleaning tag_name from dummy/auxiliary words')\n",
    "            df.tag_name = df.tag_name.apply(lambda x: x.lower().replace('-example', '')) ### tag_name LOWER()\n",
    "            df = build_children_features(df=df)\n",
    "            df = build_tree_features(df)\n",
    "\n",
    "            #----------------------------------------------------------------------------------------------\n",
    "            # Merge children with parents\n",
    "            # WARNING: There is a tag <HTML> without parent. Let's fix this issue\n",
    "            df.parent_id = df.apply(lambda r: r.element_id if r.parent_id is None else r.parent_id, axis=1)            \n",
    "            df = df.merge(df, left_on='parent_id', right_on='element_id', suffixes=('', '_parent'))\n",
    "            logger.info(f\"Dataset shape after merging with parents: {df.shape}\")\n",
    "            #----------------------------------------------------------------------------------------------\n",
    "            \n",
    "            # If annotation file exists, lets load it and assign labels\n",
    "            if os.path.exists(f'dataset/annotations/{ds_name}.txt'):\n",
    "                logger.warning(f'Load LABELS from dataset/annotations/{ds_name}.txt')\n",
    "                img = plt.imread(f'dataset/images/{ds_name}.png')\n",
    "                df = assign_labels(df, annotations_file_path=f'dataset/annotations/{ds_name}.txt', \n",
    "                                       img=img,\n",
    "                                       dummy_value = self.dummy_class_value\n",
    "                                  )\n",
    "                del img\n",
    "            else:\n",
    "                logger.warning(f'assign dummy values [n/a] for labels if there is no annotations')\n",
    "                df['label'] = self.dummy_class_value\n",
    "            \n",
    "            df['ds_name'] = ds_name\n",
    "            ds_list.append(df)\n",
    "            gc.collect()\n",
    "                \n",
    "        logger.info('Concatenate datasets')\n",
    "        self.dataset = pd.concat(ds_list)\n",
    "        logger.info(f\"Dataset shape after reading: {self.dataset.shape}\")\n",
    "        \n",
    "        if rebalance:\n",
    "            self._oversample()\n",
    "        \n",
    "        self._count_vectorizer_class()\n",
    "\n",
    "        ### add ohe_ columns to one hot encoding several attributes\n",
    "        for attr in ['role', 'type', 'ui']:\n",
    "            logger.info(f'Build OHE column for attribute {attr}')\n",
    "            self.dataset['ohe_' + attr] = self.dataset['attributes'].apply(lambda x: x.get(attr)).fillna(\"\").str.lower()\n",
    "            \n",
    "        for attr in ['role', 'type', 'ui']:\n",
    "            logger.info(f'Build OHE column for attribute {attr}_parent')\n",
    "            self.dataset['ohe_' + attr+'_parent'] = self.dataset['attributes_parent'].apply(lambda x: x.get(attr)).fillna(\"\").str.lower()\n",
    "            \n",
    "        logger.info('OHE tag_name')\n",
    "        self.tag_name_sm = self._ohe_column('tag_name')\n",
    "        logger.info(f'tag_name_sm.shape: {self.tag_name_sm.shape}')\n",
    "\n",
    "        logger.info('OHE tag_name_parent')\n",
    "        self.tag_name_parent_sm = self._ohe_column(colname='tag_name_parent', ohe_file_path='model/tag_name.pkl')\n",
    "        logger.info(f'tag_name_parent_sm.shape: {self.tag_name_parent_sm.shape}')\n",
    "\n",
    "        logger.info('OHE ohe_role')\n",
    "        self.ohe_role_sm = self._ohe_column('ohe_role')\n",
    "        logger.info(f'ohe_role_sm.shape: {self.ohe_role_sm.shape}')\n",
    "\n",
    "        logger.info('OHE ohe_role_parent')\n",
    "        self.ohe_role_parent_sm = self._ohe_column(colname='ohe_role_parent', ohe_file_path='model/ohe_role.pkl')\n",
    "        logger.info(f'ohe_role_parent_sm.shape: {self.ohe_role_parent_sm.shape}')\n",
    "        \n",
    "        logger.info('OHE ohe_type')\n",
    "        self.ohe_type_sm = self._ohe_column('ohe_type')\n",
    "        logger.info(f'ohe_type_sm.shape: {self.ohe_type_sm.shape}')\n",
    "\n",
    "        logger.info('OHE ohe_type_parent')\n",
    "        self.ohe_type_parent_sm = self._ohe_column(colname='ohe_type_parent', ohe_file_path='model/ohe_type.pkl')\n",
    "        logger.info(f'ohe_type_parent_sm.shape: {self.ohe_type_parent_sm.shape}')\n",
    "        \n",
    "        logger.info('OHE ohe_ui')\n",
    "        self.ohe_ui_sm = self._ohe_column('ohe_ui')\n",
    "        logger.info(f'ohe_ui_sm.shape: {self.ohe_ui_sm.shape}')\n",
    "\n",
    "        logger.info('OHE ohe_ui_parent')\n",
    "        self.ohe_ui_parent_sm = self._ohe_column('ohe_ui_parent', ohe_file_path='model/ohe_ui.pkl')\n",
    "        logger.info(f'ohe_ui_parent_sm.shape: {self.ohe_ui_parent_sm.shape}')       \n",
    "        \n",
    "        ## extract all non null attributes names\n",
    "        self.dataset['attributes_text'] = self.dataset.attributes.apply(lambda x: \" \".join([k for k in x.keys() if x[k] is not None ]))\n",
    "        logger.info('Fit CountVectorizer for column \"attributes\"')\n",
    "        self.attributes_sm = self._count_vectorizer_column('attributes_text')\n",
    "        logger.info(f'attributes_sm.shape: {self.attributes_sm.shape}')    \n",
    "\n",
    "        ## children_tags\n",
    "        file_path='model/count_vectorizer_children_tags.pkl'\n",
    "        if os.path.exists(file_path):\n",
    "            with open(file_path, 'rb') as f:\n",
    "                logger.warning(f'Load CountVectorizer for column \"chidren_tags\": {file_path}')\n",
    "                self.count_vectorizer_chilgren_tags = pickle.load(f)\n",
    "        else:\n",
    "            logger.warning(f'Saving CountVectorizer for \"children_tags\": {file_path}')\n",
    "            self.count_vectorizer_chilgren_tags = CountVectorizer().fit(self.dataset.children_tags.values)\n",
    "            with open(file_path, 'wb') as f:\n",
    "                pickle.dump(self.count_vectorizer_chilgren_tags, f)\n",
    "        logger.info(f'CountVectorizer \"chilren_tags\" size: {len(self.count_vectorizer_chilgren_tags.vocabulary_)}')\n",
    "        self.children_tags_sm = self.count_vectorizer_chilgren_tags.transform(self.dataset.children_tags.values)\n",
    "        logger.info(f\"chidren_tags_sm: {self.children_tags_sm.shape}\")\n",
    "        \n",
    "\n",
    "        ## extract all non null attributes names\n",
    "        self.dataset['attributes_parent_text'] = self.dataset.attributes_parent.apply(lambda x: \" \".join([k for k in x.keys() if x[k] is not None ]))\n",
    "        logger.info('Fit CountVectorizer for column \"attributes_parent\"')\n",
    "        self.attributes_parent_sm = self._count_vectorizer_column(colname='attributes_parent_text', \n",
    "                                                                  file_path='model/count_vectorizer_attributes_text.pkl')\n",
    "        logger.info(f'attributes_parent_sm.shape: {self.attributes_parent_sm.shape}')\n",
    "        \n",
    "        self._extract_features()\n",
    "        \n",
    "        self.labels = self.dataset.label.astype(int).map(self.classes_reverse_dict)\n",
    "        self.dataset.label = self.dataset.label.astype(int)\n",
    "        \n",
    "        self.data = hstack([\n",
    "                    self.attributes_sm, \n",
    "                    self.tag_name_sm, \n",
    "                    self.ohe_role_sm, \n",
    "                    self.ohe_type_sm, \n",
    "                    self.ohe_ui_sm,\n",
    "                    self.tag_name_parent_sm,\n",
    "                    self.ohe_type_parent_sm,\n",
    "                    self.ohe_role_parent_sm,\n",
    "                    self.ohe_ui_parent_sm,\n",
    "                    self.attributes_parent_sm,\n",
    "                    self.features_df.values,\n",
    "                    self.children_tags_sm,\n",
    "                    self.class_sm\n",
    "                  ]).astype(np.float32)\n",
    "        \n",
    "        logger.info(f'OHE columns sparse matrix: {self.data.shape}')\n",
    "        \n",
    "    def __len__(self):\n",
    "        return self.data.shape[0]\n",
    "    \n",
    "    def __getitem__(self, idx):\n",
    "        return np.array(self.data.getrow(idx).todense()[0]).squeeze(), self.dataset.iloc[idx]['label']\n",
    "    \n",
    "\n",
    "    def _oversample(self):\n",
    "        logger.warning('Oversample data to balance the dataset, this will create duplicated rows in dataset')\n",
    "        \n",
    "        class_counts = [ r for r in self.dataset.label.value_counts().sort_values(ascending=False).items()]\n",
    "        max_count = class_counts[0][1]\n",
    "\n",
    "        dfs = [self.dataset]\n",
    "        for cc in class_counts[1:]:\n",
    "            ratio = max_count//cc[1]\n",
    "            ratio = 30 if ratio >= 30 else ratio\n",
    "            for _ in range(ratio):\n",
    "                dfs.append(self.dataset[self.dataset.label == cc[0]].copy())\n",
    "\n",
    "        self.dataset = pd.concat(dfs)\n",
    "        logger.warning(f'Rebalanced dataset size: {self.dataset.shape[0]}')\n",
    "        \n",
    "                \n",
    "    def _ohe_column(self, colname, ohe_file_path=None):\n",
    "        \"\"\"\n",
    "            load attr_ohe if exists model/attr_ohe.pkl\n",
    "            otherwise build the one\n",
    "        \"\"\"\n",
    "        if ohe_file_path is None:\n",
    "            file_path = f'model/{colname}.pkl'\n",
    "        else:\n",
    "            file_path = ohe_file_path\n",
    "            \n",
    "        if os.path.exists(file_path):\n",
    "            logger.warning(f'loading existing OHE for column \"{colname}\" from {file_path}')\n",
    "            with open(file_path,'rb') as f: \n",
    "                ohe = pickle.load(f)\n",
    "        else:\n",
    "            logger.warning(f'Create and fit OHE for column \"{colname}\"')\n",
    "            ohe = OneHotEncoder(handle_unknown='ignore')\n",
    "            ohe.fit(np.expand_dims(self.dataset[colname].values, axis=1))            \n",
    "            with open(file_path, 'wb') as f:\n",
    "                pickle.dump(ohe, f)\n",
    "                \n",
    "        sm = ohe.transform(np.expand_dims(self.dataset[colname].values, axis=1))        \n",
    "        return sm\n",
    "        \n",
    "    def _count_vectorizer_column(self, colname, file_path=None):\n",
    "        \"\"\"\n",
    "            load count_vercorizer for a column if a pkl file exists\n",
    "            otherwise create the one\n",
    "        \"\"\"\n",
    "        if file_path is None:\n",
    "            file_path = f'model/count_vectorizer_{colname}.pkl'\n",
    "            \n",
    "        if os.path.exists(file_path):\n",
    "            logger.warning(f'loading existing count vectorizer for column \"{colname}\" from {file_path}')\n",
    "            with open(file_path,'rb') as f: \n",
    "                vectorizer = pickle.load(f)\n",
    "            self.vocabulary = vectorizer.vocabulary_\n",
    "        else:\n",
    "            logger.warning(f'Create and fit count vectorizer for column \"{colname}\"')\n",
    "            vectorizer = CountVectorizer(vocabulary=self._build_vocabulary())\n",
    "            vectorizer.fit(self.dataset[colname].values)            \n",
    "            with open(file_path, 'wb') as f:\n",
    "                pickle.dump(vectorizer, f)\n",
    "                \n",
    "        sm = vectorizer.transform(self.dataset[colname].values)\n",
    "        return sm\n",
    "    \n",
    "    def _build_vocabulary(self):\n",
    "        \n",
    "        \"\"\"\n",
    "            Attempt to reduce number of features by removing rarely used attributes\n",
    "        \"\"\"\n",
    "        \n",
    "        attributes_usage = Counter()\n",
    "        for attr_list in self.dataset.attributes.apply(lambda x: [field for field in x if x[field] is not None]).values:\n",
    "            attributes_usage.update(attr_list)\n",
    "            \n",
    "        attributes_usasge_df = pd.DataFrame( \n",
    "            [[attribute, cnt] for attribute, cnt in attributes_usage.items()], \n",
    "            columns=['attribute', 'cnt']\n",
    "        ).sort_values(by='cnt', ascending=False)\n",
    "\n",
    "        ## Lets cut off attributes which are rarely used\n",
    "        attributes_list_df = attributes_usasge_df[attributes_usasge_df.cnt>1].copy()\n",
    "        \n",
    "        attr_unique_values_map = { \n",
    "                                    attr:self.dataset['attributes'].apply(lambda x: x.get(attr)).nunique() \n",
    "                                         for attr in (attributes_list_df.attribute.values)\n",
    "                                 }\n",
    "        attributes_list_df['num_unique_values'] = attributes_list_df.attribute.map(attr_unique_values_map)\n",
    "        attributes_list_df['k'] = attributes_list_df.cnt/attributes_list_df.num_unique_values\n",
    "        \n",
    "        attributes_list_df = attributes_list_df[(attributes_list_df.k>3.0) & (attributes_list_df.num_unique_values>1)]\\\n",
    "                                    .sort_values(by='cnt', ascending=False).copy()\n",
    "        \n",
    "        self.vocabulary = { w:i for i,w in enumerate(sorted(attributes_list_df.attribute.values))}\n",
    "        return self.vocabulary\n",
    "        \n",
    "        \n",
    "    def _extract_features(self):\n",
    "        self.features_df = self.dataset[[\n",
    "            #'tag_name_parent',\n",
    "            #'tag_name',\n",
    "            'width', \n",
    "            'height', \n",
    "            'width_parent', \n",
    "            'height_parent', \n",
    "            'x', \n",
    "            'x_parent', \n",
    "            'y', \n",
    "            'y_parent',\n",
    "            'is_leaf',\n",
    "            'is_leaf_parent',\n",
    "            'num_followers',\n",
    "            'num_leafs',\n",
    "            #'num_leafs_parent',\n",
    "            'num_children',\n",
    "            'num_children_parent',\n",
    "            'sum_children_widths',\n",
    "            'sum_children_widths_parent',\n",
    "            'sum_children_hights',\n",
    "            'sum_children_hights_parent',\n",
    "            'displayed',\n",
    "            #'onmouseenter'\n",
    "        ]].copy()\n",
    "        \n",
    "        self.features_df.sum_children_hights = (self.features_df.sum_children_hights/self.features_df.num_children).fillna(-1)\n",
    "        self.features_df.sum_children_hights_parent = (self.features_df.sum_children_hights_parent/self.features_df.num_children_parent).fillna(-1)\n",
    "        self.features_df.sum_children_widths = (self.features_df.sum_children_widths/self.features_df.num_children).fillna(-1)\n",
    "        self.features_df.sum_children_widths_parent = (self.features_df.sum_children_widths_parent/self.features_df.num_children_parent).fillna(-1)\n",
    "\n",
    "        self.features_df.x = (self.features_df.x < 0).astype(int)\n",
    "        self.features_df.y = (self.features_df.y < 0).astype(int)\n",
    "        self.features_df.x_parent = (self.features_df.x_parent < 0).astype(int)\n",
    "        self.features_df.y_parent = (self.features_df.y_parent < 0).astype(int)\n",
    "        self.features_df['w'] = (self.features_df.width <= 2).astype(int)\n",
    "        self.features_df['w_parent'] = (self.features_df.width_parent <= 2).astype(int)\n",
    "        self.features_df['h'] = (self.features_df.height <= 2).astype(int)\n",
    "        self.features_df['h_parent'] = (self.features_df.height_parent <= 2).astype(int)\n",
    "        self.features_df.displayed = self.features_df.displayed.astype(int)\n",
    "        \n",
    "        \n",
    "    def _find_dataset_names(self, path_mask='dataset/df/*.parquet'):\n",
    "        return  set([re.sub( '.*[/\\\\\\]', '', re.sub('\\\\..*$', '', os.path.normpath(fn)))\n",
    "                        for fn in glob.glob(path_mask)])\n",
    "\n",
    "\n",
    "    def _gen_dataset_names(self):\n",
    "        dfs = self._find_dataset_names('dataset/df/*.parquet')\n",
    "        imgs = self._find_dataset_names('dataset/images/*.png')\n",
    "        anns = self._find_dataset_names('dataset/annotations/*.txt')\n",
    "\n",
    "        return (dfs.intersection(imgs)).intersection(anns)\n",
    "        \n",
    "    def _count_vectorizer_class(self):\n",
    "\n",
    "        self.dataset['cv_class'] = self.dataset.attributes.apply(lambda x: x.get('class')).fillna('')\n",
    "        file_name = 'model/count_vectorizer_class.pkl'\n",
    "        if os.path.exists(file_name):\n",
    "            logger.warning(f'Loading count vectorizer for column \"cv_class\": {file_name}')\n",
    "            with open(file_name, 'rb') as f:\n",
    "                self.count_vectorizer_class = pickle.load(f)\n",
    "        else:\n",
    "            logger.warning(f'Build count vectorizer for column \"cv_class\": {file_name}')\n",
    "            class_dict = Counter()\n",
    "            for s in self.dataset['cv_class'].values:\n",
    "                class_dict.update(s.lower().replace('-', ' ').split())\n",
    "            vocabulary = [cls for cls in class_dict if re.match('^[a-z]*$', cls)]\n",
    "            self.count_vectorizer_class = CountVectorizer(vocabulary=vocabulary).fit(self.dataset['cv_class'].values)\n",
    "            with open(file_name, 'wb') as f:\n",
    "                pickle.dump(self.count_vectorizer_class, f)\n",
    "        self.class_sm = self.count_vectorizer_class.transform(self.dataset['cv_class'].values)\n",
    "        logger.info(f'class_sm: {self.class_sm.shape}')\n",
    "\n",
    "    \n",
    "\n",
    "    "
   ]
  },
  {
   "cell_type": "code",
   "execution_count": null,
   "id": "civic-keyboard",
   "metadata": {},
   "outputs": [],
   "source": []
  },
  {
   "cell_type": "code",
   "execution_count": 10,
   "id": "eastern-bathroom",
   "metadata": {
    "scrolled": true
   },
   "outputs": [
    {
     "name": "stdout",
     "output_type": "stream",
     "text": [
      "2021-03-29 23:29:19,180 - WARNING - <ipython-input-9-b61a19b556d5>:<ipython-input-9-b61a19b556d5>:13 - Using all available data to generate dataset\n",
      "2021-03-29 23:29:19,183 - INFO - <ipython-input-9-b61a19b556d5>:<ipython-input-9-b61a19b556d5>:16 - List of dataset_names:{'user-table', 'react-ant', 'ms-office', 'different-elemants', 'bootstrap-form', 'search', 'bootstrap', 'bootstrap-forms', 'html-5', 'support', 'dates', 'contact-form', 'performance', 'metals-and-colors', 'bootstrap-form-control', 'bootstrap-1', 'bootstrap-reboot', 'complex-table', 'table-with-pages', 'angular', 'google-voice', 'gitlab', 'mobile-and-html-5', 'login'}\n",
      "2021-03-29 23:29:19,184 - INFO - <ipython-input-9-b61a19b556d5>:<ipython-input-9-b61a19b556d5>:21 - Dataset for user-table\n",
      "2021-03-29 23:29:19,202 - INFO - <ipython-input-9-b61a19b556d5>:<ipython-input-9-b61a19b556d5>:23 - Dataset shape: (369, 13)\n",
      "2021-03-29 23:29:19,203 - INFO - <ipython-input-9-b61a19b556d5>:<ipython-input-9-b61a19b556d5>:25 - cleaning tag_name from dummy/auxiliary words\n",
      "2021-03-29 23:29:19,204 - INFO - dataset:dataset.py:59 - select all leafs (nodes which are not parents)\n",
      "2021-03-29 23:29:19,204 - INFO - dataset:dataset.py:61 - Leafs set size: 178 (nodes which have no children)\n",
      "2021-03-29 23:29:19,205 - INFO - dataset:dataset.py:64 - count number of references to leafs\n",
      "2021-03-29 23:29:19,207 - INFO - dataset:dataset.py:66 - Nodes with leafs as children set size: 117 (nodes which have leafs as children)\n",
      "2021-03-29 23:29:19,208 - INFO - dataset:dataset.py:69 - count num children for each node\n",
      "2021-03-29 23:29:19,208 - INFO - dataset:dataset.py:71 - Nodes with children: 192\n",
      "2021-03-29 23:29:19,209 - INFO - dataset:dataset.py:74 - sum of children widths, heights, counts\n",
      "2021-03-29 23:29:19,213 - INFO - dataset:dataset.py:79 - Sum of children widths\n",
      "2021-03-29 23:29:19,216 - INFO - dataset:dataset.py:83 - Sum of children hights\n"
     ]
    },
    {
     "data": {
      "application/vnd.jupyter.widget-view+json": {
       "model_id": "ec3469292cb6447eb665f6ec04063aec",
       "version_major": 2,
       "version_minor": 0
      },
      "text/plain": [
       "  0%|          | 0/369 [00:00<?, ?it/s]"
      ]
     },
     "metadata": {},
     "output_type": "display_data"
    },
    {
     "name": "stdout",
     "output_type": "stream",
     "text": [
      "2021-03-29 23:29:19,715 - INFO - <ipython-input-9-b61a19b556d5>:<ipython-input-9-b61a19b556d5>:35 - Dataset shape after merging with parents: (369, 40)\n",
      "2021-03-29 23:29:19,716 - WARNING - <ipython-input-9-b61a19b556d5>:<ipython-input-9-b61a19b556d5>:40 - Load LABELS from dataset/annotations/user-table.txt\n"
     ]
    },
    {
     "data": {
      "application/vnd.jupyter.widget-view+json": {
       "model_id": "80a587ab038c4df98c73470b5e8078d9",
       "version_major": 2,
       "version_minor": 0
      },
      "text/plain": [
       "Assigning labels:   0%|          | 0/58 [00:00<?, ?it/s]"
      ]
     },
     "metadata": {},
     "output_type": "display_data"
    },
    {
     "name": "stdout",
     "output_type": "stream",
     "text": [
      "2021-03-29 23:29:19,982 - INFO - <ipython-input-9-b61a19b556d5>:<ipython-input-9-b61a19b556d5>:21 - Dataset for react-ant\n",
      "2021-03-29 23:29:20,017 - INFO - <ipython-input-9-b61a19b556d5>:<ipython-input-9-b61a19b556d5>:23 - Dataset shape: (703, 13)\n",
      "2021-03-29 23:29:20,017 - INFO - <ipython-input-9-b61a19b556d5>:<ipython-input-9-b61a19b556d5>:25 - cleaning tag_name from dummy/auxiliary words\n",
      "2021-03-29 23:29:20,017 - INFO - dataset:dataset.py:59 - select all leafs (nodes which are not parents)\n",
      "2021-03-29 23:29:20,032 - INFO - dataset:dataset.py:61 - Leafs set size: 261 (nodes which have no children)\n",
      "2021-03-29 23:29:20,034 - INFO - dataset:dataset.py:64 - count number of references to leafs\n",
      "2021-03-29 23:29:20,035 - INFO - dataset:dataset.py:66 - Nodes with leafs as children set size: 199 (nodes which have leafs as children)\n",
      "2021-03-29 23:29:20,036 - INFO - dataset:dataset.py:69 - count num children for each node\n",
      "2021-03-29 23:29:20,037 - INFO - dataset:dataset.py:71 - Nodes with children: 443\n",
      "2021-03-29 23:29:20,038 - INFO - dataset:dataset.py:74 - sum of children widths, heights, counts\n",
      "2021-03-29 23:29:20,042 - INFO - dataset:dataset.py:79 - Sum of children widths\n",
      "2021-03-29 23:29:20,045 - INFO - dataset:dataset.py:83 - Sum of children hights\n"
     ]
    },
    {
     "data": {
      "application/vnd.jupyter.widget-view+json": {
       "model_id": "015c91bfbf9f4abd9ff90392cb278ab6",
       "version_major": 2,
       "version_minor": 0
      },
      "text/plain": [
       "  0%|          | 0/703 [00:00<?, ?it/s]"
      ]
     },
     "metadata": {},
     "output_type": "display_data"
    },
    {
     "name": "stdout",
     "output_type": "stream",
     "text": [
      "2021-03-29 23:29:21,241 - INFO - <ipython-input-9-b61a19b556d5>:<ipython-input-9-b61a19b556d5>:35 - Dataset shape after merging with parents: (703, 40)\n",
      "2021-03-29 23:29:21,241 - WARNING - <ipython-input-9-b61a19b556d5>:<ipython-input-9-b61a19b556d5>:40 - Load LABELS from dataset/annotations/react-ant.txt\n"
     ]
    },
    {
     "data": {
      "application/vnd.jupyter.widget-view+json": {
       "model_id": "0ea4ba2a790744cb956e57b337b5015e",
       "version_major": 2,
       "version_minor": 0
      },
      "text/plain": [
       "Assigning labels:   0%|          | 0/92 [00:00<?, ?it/s]"
      ]
     },
     "metadata": {},
     "output_type": "display_data"
    },
    {
     "name": "stdout",
     "output_type": "stream",
     "text": [
      "2021-03-29 23:29:21,460 - INFO - <ipython-input-9-b61a19b556d5>:<ipython-input-9-b61a19b556d5>:21 - Dataset for ms-office\n",
      "2021-03-29 23:29:21,503 - INFO - <ipython-input-9-b61a19b556d5>:<ipython-input-9-b61a19b556d5>:23 - Dataset shape: (739, 13)\n",
      "2021-03-29 23:29:21,503 - INFO - <ipython-input-9-b61a19b556d5>:<ipython-input-9-b61a19b556d5>:25 - cleaning tag_name from dummy/auxiliary words\n",
      "2021-03-29 23:29:21,503 - INFO - dataset:dataset.py:59 - select all leafs (nodes which are not parents)\n",
      "2021-03-29 23:29:21,503 - INFO - dataset:dataset.py:61 - Leafs set size: 361 (nodes which have no children)\n",
      "2021-03-29 23:29:21,509 - INFO - dataset:dataset.py:64 - count number of references to leafs\n",
      "2021-03-29 23:29:21,511 - INFO - dataset:dataset.py:66 - Nodes with leafs as children set size: 255 (nodes which have leafs as children)\n",
      "2021-03-29 23:29:21,512 - INFO - dataset:dataset.py:69 - count num children for each node\n",
      "2021-03-29 23:29:21,512 - INFO - dataset:dataset.py:71 - Nodes with children: 379\n",
      "2021-03-29 23:29:21,514 - INFO - dataset:dataset.py:74 - sum of children widths, heights, counts\n",
      "2021-03-29 23:29:21,518 - INFO - dataset:dataset.py:79 - Sum of children widths\n",
      "2021-03-29 23:29:21,521 - INFO - dataset:dataset.py:83 - Sum of children hights\n"
     ]
    },
    {
     "data": {
      "application/vnd.jupyter.widget-view+json": {
       "model_id": "2c2fefd152c6443e8604887941dd1f65",
       "version_major": 2,
       "version_minor": 0
      },
      "text/plain": [
       "  0%|          | 0/739 [00:00<?, ?it/s]"
      ]
     },
     "metadata": {},
     "output_type": "display_data"
    },
    {
     "name": "stdout",
     "output_type": "stream",
     "text": [
      "2021-03-29 23:29:22,625 - INFO - <ipython-input-9-b61a19b556d5>:<ipython-input-9-b61a19b556d5>:35 - Dataset shape after merging with parents: (739, 40)\n",
      "2021-03-29 23:29:22,625 - WARNING - <ipython-input-9-b61a19b556d5>:<ipython-input-9-b61a19b556d5>:40 - Load LABELS from dataset/annotations/ms-office.txt\n"
     ]
    },
    {
     "data": {
      "application/vnd.jupyter.widget-view+json": {
       "model_id": "a013260941fc42b5b4303d68b6d4b76c",
       "version_major": 2,
       "version_minor": 0
      },
      "text/plain": [
       "Assigning labels:   0%|          | 0/121 [00:00<?, ?it/s]"
      ]
     },
     "metadata": {},
     "output_type": "display_data"
    },
    {
     "name": "stdout",
     "output_type": "stream",
     "text": [
      "2021-03-29 23:29:22,929 - INFO - <ipython-input-9-b61a19b556d5>:<ipython-input-9-b61a19b556d5>:21 - Dataset for different-elemants\n",
      "2021-03-29 23:29:22,958 - INFO - <ipython-input-9-b61a19b556d5>:<ipython-input-9-b61a19b556d5>:23 - Dataset shape: (292, 13)\n",
      "2021-03-29 23:29:22,958 - INFO - <ipython-input-9-b61a19b556d5>:<ipython-input-9-b61a19b556d5>:25 - cleaning tag_name from dummy/auxiliary words\n",
      "2021-03-29 23:29:22,959 - INFO - dataset:dataset.py:59 - select all leafs (nodes which are not parents)\n",
      "2021-03-29 23:29:22,960 - INFO - dataset:dataset.py:61 - Leafs set size: 132 (nodes which have no children)\n",
      "2021-03-29 23:29:22,962 - INFO - dataset:dataset.py:64 - count number of references to leafs\n",
      "2021-03-29 23:29:22,963 - INFO - dataset:dataset.py:66 - Nodes with leafs as children set size: 93 (nodes which have leafs as children)\n",
      "2021-03-29 23:29:22,964 - INFO - dataset:dataset.py:69 - count num children for each node\n",
      "2021-03-29 23:29:22,965 - INFO - dataset:dataset.py:71 - Nodes with children: 161\n",
      "2021-03-29 23:29:22,966 - INFO - dataset:dataset.py:74 - sum of children widths, heights, counts\n",
      "2021-03-29 23:29:22,971 - INFO - dataset:dataset.py:79 - Sum of children widths\n",
      "2021-03-29 23:29:22,972 - INFO - dataset:dataset.py:83 - Sum of children hights\n"
     ]
    },
    {
     "data": {
      "application/vnd.jupyter.widget-view+json": {
       "model_id": "4aa60811237b4feca8fe1d62251a19a8",
       "version_major": 2,
       "version_minor": 0
      },
      "text/plain": [
       "  0%|          | 0/292 [00:00<?, ?it/s]"
      ]
     },
     "metadata": {},
     "output_type": "display_data"
    },
    {
     "name": "stdout",
     "output_type": "stream",
     "text": [
      "2021-03-29 23:29:23,331 - INFO - <ipython-input-9-b61a19b556d5>:<ipython-input-9-b61a19b556d5>:35 - Dataset shape after merging with parents: (292, 40)\n",
      "2021-03-29 23:29:23,331 - WARNING - <ipython-input-9-b61a19b556d5>:<ipython-input-9-b61a19b556d5>:40 - Load LABELS from dataset/annotations/different-elemants.txt\n"
     ]
    },
    {
     "data": {
      "application/vnd.jupyter.widget-view+json": {
       "model_id": "a8f57183c57b4203a520a4918a504236",
       "version_major": 2,
       "version_minor": 0
      },
      "text/plain": [
       "Assigning labels:   0%|          | 0/50 [00:00<?, ?it/s]"
      ]
     },
     "metadata": {},
     "output_type": "display_data"
    },
    {
     "name": "stdout",
     "output_type": "stream",
     "text": [
      "2021-03-29 23:29:23,441 - INFO - <ipython-input-9-b61a19b556d5>:<ipython-input-9-b61a19b556d5>:21 - Dataset for bootstrap-form\n",
      "2021-03-29 23:29:23,475 - INFO - <ipython-input-9-b61a19b556d5>:<ipython-input-9-b61a19b556d5>:23 - Dataset shape: (814, 13)\n",
      "2021-03-29 23:29:23,475 - INFO - <ipython-input-9-b61a19b556d5>:<ipython-input-9-b61a19b556d5>:25 - cleaning tag_name from dummy/auxiliary words\n",
      "2021-03-29 23:29:23,475 - INFO - dataset:dataset.py:59 - select all leafs (nodes which are not parents)\n",
      "2021-03-29 23:29:23,485 - INFO - dataset:dataset.py:61 - Leafs set size: 475 (nodes which have no children)\n",
      "2021-03-29 23:29:23,487 - INFO - dataset:dataset.py:64 - count number of references to leafs\n",
      "2021-03-29 23:29:23,488 - INFO - dataset:dataset.py:66 - Nodes with leafs as children set size: 231 (nodes which have leafs as children)\n",
      "2021-03-29 23:29:23,490 - INFO - dataset:dataset.py:69 - count num children for each node\n",
      "2021-03-29 23:29:23,491 - INFO - dataset:dataset.py:71 - Nodes with children: 340\n",
      "2021-03-29 23:29:23,492 - INFO - dataset:dataset.py:74 - sum of children widths, heights, counts\n",
      "2021-03-29 23:29:23,496 - INFO - dataset:dataset.py:79 - Sum of children widths\n",
      "2021-03-29 23:29:23,499 - INFO - dataset:dataset.py:83 - Sum of children hights\n"
     ]
    },
    {
     "data": {
      "application/vnd.jupyter.widget-view+json": {
       "model_id": "5ad296f2da794e9e9e7974d49e2210a6",
       "version_major": 2,
       "version_minor": 0
      },
      "text/plain": [
       "  0%|          | 0/814 [00:00<?, ?it/s]"
      ]
     },
     "metadata": {},
     "output_type": "display_data"
    },
    {
     "name": "stdout",
     "output_type": "stream",
     "text": [
      "2021-03-29 23:29:24,572 - INFO - <ipython-input-9-b61a19b556d5>:<ipython-input-9-b61a19b556d5>:35 - Dataset shape after merging with parents: (814, 40)\n",
      "2021-03-29 23:29:24,572 - WARNING - <ipython-input-9-b61a19b556d5>:<ipython-input-9-b61a19b556d5>:40 - Load LABELS from dataset/annotations/bootstrap-form.txt\n"
     ]
    },
    {
     "data": {
      "application/vnd.jupyter.widget-view+json": {
       "model_id": "80820e7e4f1747f38594f6623e2e3a0d",
       "version_major": 2,
       "version_minor": 0
      },
      "text/plain": [
       "Assigning labels:   0%|          | 0/160 [00:00<?, ?it/s]"
      ]
     },
     "metadata": {},
     "output_type": "display_data"
    },
    {
     "name": "stdout",
     "output_type": "stream",
     "text": [
      "2021-03-29 23:29:25,004 - INFO - <ipython-input-9-b61a19b556d5>:<ipython-input-9-b61a19b556d5>:21 - Dataset for search\n",
      "2021-03-29 23:29:25,034 - INFO - <ipython-input-9-b61a19b556d5>:<ipython-input-9-b61a19b556d5>:23 - Dataset shape: (297, 13)\n",
      "2021-03-29 23:29:25,035 - INFO - <ipython-input-9-b61a19b556d5>:<ipython-input-9-b61a19b556d5>:25 - cleaning tag_name from dummy/auxiliary words\n",
      "2021-03-29 23:29:25,036 - INFO - dataset:dataset.py:59 - select all leafs (nodes which are not parents)\n",
      "2021-03-29 23:29:25,037 - INFO - dataset:dataset.py:61 - Leafs set size: 139 (nodes which have no children)\n",
      "2021-03-29 23:29:25,037 - INFO - dataset:dataset.py:64 - count number of references to leafs\n",
      "2021-03-29 23:29:25,039 - INFO - dataset:dataset.py:66 - Nodes with leafs as children set size: 91 (nodes which have leafs as children)\n",
      "2021-03-29 23:29:25,040 - INFO - dataset:dataset.py:69 - count num children for each node\n",
      "2021-03-29 23:29:25,040 - INFO - dataset:dataset.py:71 - Nodes with children: 159\n",
      "2021-03-29 23:29:25,041 - INFO - dataset:dataset.py:74 - sum of children widths, heights, counts\n",
      "2021-03-29 23:29:25,044 - INFO - dataset:dataset.py:79 - Sum of children widths\n",
      "2021-03-29 23:29:25,047 - INFO - dataset:dataset.py:83 - Sum of children hights\n"
     ]
    },
    {
     "data": {
      "application/vnd.jupyter.widget-view+json": {
       "model_id": "03a74212a7924c87b493d01bd227b026",
       "version_major": 2,
       "version_minor": 0
      },
      "text/plain": [
       "  0%|          | 0/297 [00:00<?, ?it/s]"
      ]
     },
     "metadata": {},
     "output_type": "display_data"
    },
    {
     "name": "stdout",
     "output_type": "stream",
     "text": [
      "2021-03-29 23:29:25,421 - INFO - <ipython-input-9-b61a19b556d5>:<ipython-input-9-b61a19b556d5>:35 - Dataset shape after merging with parents: (297, 40)\n",
      "2021-03-29 23:29:25,422 - WARNING - <ipython-input-9-b61a19b556d5>:<ipython-input-9-b61a19b556d5>:40 - Load LABELS from dataset/annotations/search.txt\n"
     ]
    },
    {
     "data": {
      "application/vnd.jupyter.widget-view+json": {
       "model_id": "9557e13f311a42e3956968842d3d997e",
       "version_major": 2,
       "version_minor": 0
      },
      "text/plain": [
       "Assigning labels:   0%|          | 0/45 [00:00<?, ?it/s]"
      ]
     },
     "metadata": {},
     "output_type": "display_data"
    },
    {
     "name": "stdout",
     "output_type": "stream",
     "text": [
      "2021-03-29 23:29:25,543 - INFO - <ipython-input-9-b61a19b556d5>:<ipython-input-9-b61a19b556d5>:21 - Dataset for bootstrap\n",
      "2021-03-29 23:29:25,595 - INFO - <ipython-input-9-b61a19b556d5>:<ipython-input-9-b61a19b556d5>:23 - Dataset shape: (1098, 13)\n",
      "2021-03-29 23:29:25,596 - INFO - <ipython-input-9-b61a19b556d5>:<ipython-input-9-b61a19b556d5>:25 - cleaning tag_name from dummy/auxiliary words\n",
      "2021-03-29 23:29:25,597 - INFO - dataset:dataset.py:59 - select all leafs (nodes which are not parents)\n",
      "2021-03-29 23:29:25,598 - INFO - dataset:dataset.py:61 - Leafs set size: 536 (nodes which have no children)\n",
      "2021-03-29 23:29:25,599 - INFO - dataset:dataset.py:64 - count number of references to leafs\n",
      "2021-03-29 23:29:25,601 - INFO - dataset:dataset.py:66 - Nodes with leafs as children set size: 373 (nodes which have leafs as children)\n",
      "2021-03-29 23:29:25,602 - INFO - dataset:dataset.py:69 - count num children for each node\n",
      "2021-03-29 23:29:25,603 - INFO - dataset:dataset.py:71 - Nodes with children: 563\n",
      "2021-03-29 23:29:25,605 - INFO - dataset:dataset.py:74 - sum of children widths, heights, counts\n",
      "2021-03-29 23:29:25,609 - INFO - dataset:dataset.py:79 - Sum of children widths\n",
      "2021-03-29 23:29:25,612 - INFO - dataset:dataset.py:83 - Sum of children hights\n"
     ]
    },
    {
     "data": {
      "application/vnd.jupyter.widget-view+json": {
       "model_id": "f507c467d8e6408196d0e09614a87691",
       "version_major": 2,
       "version_minor": 0
      },
      "text/plain": [
       "  0%|          | 0/1098 [00:00<?, ?it/s]"
      ]
     },
     "metadata": {},
     "output_type": "display_data"
    },
    {
     "name": "stdout",
     "output_type": "stream",
     "text": [
      "2021-03-29 23:29:27,152 - INFO - <ipython-input-9-b61a19b556d5>:<ipython-input-9-b61a19b556d5>:35 - Dataset shape after merging with parents: (1098, 40)\n",
      "2021-03-29 23:29:27,153 - WARNING - <ipython-input-9-b61a19b556d5>:<ipython-input-9-b61a19b556d5>:40 - Load LABELS from dataset/annotations/bootstrap.txt\n"
     ]
    },
    {
     "data": {
      "application/vnd.jupyter.widget-view+json": {
       "model_id": "3f1e66e77433484ebe6e2087d3ac0f0f",
       "version_major": 2,
       "version_minor": 0
      },
      "text/plain": [
       "Assigning labels:   0%|          | 0/264 [00:00<?, ?it/s]"
      ]
     },
     "metadata": {},
     "output_type": "display_data"
    },
    {
     "name": "stdout",
     "output_type": "stream",
     "text": [
      "2021-03-29 23:29:27,952 - INFO - <ipython-input-9-b61a19b556d5>:<ipython-input-9-b61a19b556d5>:21 - Dataset for bootstrap-forms\n",
      "2021-03-29 23:29:27,968 - INFO - <ipython-input-9-b61a19b556d5>:<ipython-input-9-b61a19b556d5>:23 - Dataset shape: (315, 13)\n",
      "2021-03-29 23:29:27,969 - INFO - <ipython-input-9-b61a19b556d5>:<ipython-input-9-b61a19b556d5>:25 - cleaning tag_name from dummy/auxiliary words\n",
      "2021-03-29 23:29:27,970 - INFO - dataset:dataset.py:59 - select all leafs (nodes which are not parents)\n",
      "2021-03-29 23:29:27,971 - INFO - dataset:dataset.py:61 - Leafs set size: 152 (nodes which have no children)\n",
      "2021-03-29 23:29:27,972 - INFO - dataset:dataset.py:64 - count number of references to leafs\n",
      "2021-03-29 23:29:27,974 - INFO - dataset:dataset.py:66 - Nodes with leafs as children set size: 93 (nodes which have leafs as children)\n",
      "2021-03-29 23:29:27,975 - INFO - dataset:dataset.py:69 - count num children for each node\n",
      "2021-03-29 23:29:27,975 - INFO - dataset:dataset.py:71 - Nodes with children: 164\n",
      "2021-03-29 23:29:27,976 - INFO - dataset:dataset.py:74 - sum of children widths, heights, counts\n",
      "2021-03-29 23:29:27,980 - INFO - dataset:dataset.py:79 - Sum of children widths\n",
      "2021-03-29 23:29:27,982 - INFO - dataset:dataset.py:83 - Sum of children hights\n"
     ]
    },
    {
     "data": {
      "application/vnd.jupyter.widget-view+json": {
       "model_id": "604587571f664ae8a4bc1f3512ec34ae",
       "version_major": 2,
       "version_minor": 0
      },
      "text/plain": [
       "  0%|          | 0/315 [00:00<?, ?it/s]"
      ]
     },
     "metadata": {},
     "output_type": "display_data"
    },
    {
     "name": "stdout",
     "output_type": "stream",
     "text": [
      "2021-03-29 23:29:28,412 - INFO - <ipython-input-9-b61a19b556d5>:<ipython-input-9-b61a19b556d5>:35 - Dataset shape after merging with parents: (315, 40)\n",
      "2021-03-29 23:29:28,412 - WARNING - <ipython-input-9-b61a19b556d5>:<ipython-input-9-b61a19b556d5>:40 - Load LABELS from dataset/annotations/bootstrap-forms.txt\n"
     ]
    },
    {
     "data": {
      "application/vnd.jupyter.widget-view+json": {
       "model_id": "bec53273b6bc4bc287655c91f9623414",
       "version_major": 2,
       "version_minor": 0
      },
      "text/plain": [
       "Assigning labels:   0%|          | 0/47 [00:00<?, ?it/s]"
      ]
     },
     "metadata": {},
     "output_type": "display_data"
    },
    {
     "name": "stdout",
     "output_type": "stream",
     "text": [
      "2021-03-29 23:29:28,520 - INFO - <ipython-input-9-b61a19b556d5>:<ipython-input-9-b61a19b556d5>:21 - Dataset for html-5\n",
      "2021-03-29 23:29:28,564 - INFO - <ipython-input-9-b61a19b556d5>:<ipython-input-9-b61a19b556d5>:23 - Dataset shape: (665, 13)\n",
      "2021-03-29 23:29:28,565 - INFO - <ipython-input-9-b61a19b556d5>:<ipython-input-9-b61a19b556d5>:25 - cleaning tag_name from dummy/auxiliary words\n",
      "2021-03-29 23:29:28,566 - INFO - dataset:dataset.py:59 - select all leafs (nodes which are not parents)\n",
      "2021-03-29 23:29:28,566 - INFO - dataset:dataset.py:61 - Leafs set size: 413 (nodes which have no children)\n",
      "2021-03-29 23:29:28,567 - INFO - dataset:dataset.py:64 - count number of references to leafs\n",
      "2021-03-29 23:29:28,570 - INFO - dataset:dataset.py:66 - Nodes with leafs as children set size: 165 (nodes which have leafs as children)\n",
      "2021-03-29 23:29:28,571 - INFO - dataset:dataset.py:69 - count num children for each node\n",
      "2021-03-29 23:29:28,572 - INFO - dataset:dataset.py:71 - Nodes with children: 253\n",
      "2021-03-29 23:29:28,573 - INFO - dataset:dataset.py:74 - sum of children widths, heights, counts\n",
      "2021-03-29 23:29:28,577 - INFO - dataset:dataset.py:79 - Sum of children widths\n",
      "2021-03-29 23:29:28,580 - INFO - dataset:dataset.py:83 - Sum of children hights\n"
     ]
    },
    {
     "data": {
      "application/vnd.jupyter.widget-view+json": {
       "model_id": "e017b81d60ef4234a64a8ed1ed41fbf0",
       "version_major": 2,
       "version_minor": 0
      },
      "text/plain": [
       "  0%|          | 0/665 [00:00<?, ?it/s]"
      ]
     },
     "metadata": {},
     "output_type": "display_data"
    },
    {
     "name": "stdout",
     "output_type": "stream",
     "text": [
      "2021-03-29 23:29:29,506 - INFO - <ipython-input-9-b61a19b556d5>:<ipython-input-9-b61a19b556d5>:35 - Dataset shape after merging with parents: (665, 40)\n",
      "2021-03-29 23:29:29,507 - WARNING - <ipython-input-9-b61a19b556d5>:<ipython-input-9-b61a19b556d5>:40 - Load LABELS from dataset/annotations/html-5.txt\n"
     ]
    },
    {
     "data": {
      "application/vnd.jupyter.widget-view+json": {
       "model_id": "d87b8a8d3a704947a6d8b04d441baa0b",
       "version_major": 2,
       "version_minor": 0
      },
      "text/plain": [
       "Assigning labels:   0%|          | 0/118 [00:00<?, ?it/s]"
      ]
     },
     "metadata": {},
     "output_type": "display_data"
    },
    {
     "name": "stdout",
     "output_type": "stream",
     "text": [
      "2021-03-29 23:29:29,825 - INFO - <ipython-input-9-b61a19b556d5>:<ipython-input-9-b61a19b556d5>:21 - Dataset for support\n",
      "2021-03-29 23:29:29,839 - INFO - <ipython-input-9-b61a19b556d5>:<ipython-input-9-b61a19b556d5>:23 - Dataset shape: (287, 13)\n",
      "2021-03-29 23:29:29,840 - INFO - <ipython-input-9-b61a19b556d5>:<ipython-input-9-b61a19b556d5>:25 - cleaning tag_name from dummy/auxiliary words\n",
      "2021-03-29 23:29:29,841 - INFO - dataset:dataset.py:59 - select all leafs (nodes which are not parents)\n",
      "2021-03-29 23:29:29,841 - INFO - dataset:dataset.py:61 - Leafs set size: 128 (nodes which have no children)\n",
      "2021-03-29 23:29:29,843 - INFO - dataset:dataset.py:64 - count number of references to leafs\n",
      "2021-03-29 23:29:29,844 - INFO - dataset:dataset.py:66 - Nodes with leafs as children set size: 90 (nodes which have leafs as children)\n",
      "2021-03-29 23:29:29,845 - INFO - dataset:dataset.py:69 - count num children for each node\n",
      "2021-03-29 23:29:29,846 - INFO - dataset:dataset.py:71 - Nodes with children: 160\n",
      "2021-03-29 23:29:29,847 - INFO - dataset:dataset.py:74 - sum of children widths, heights, counts\n",
      "2021-03-29 23:29:29,851 - INFO - dataset:dataset.py:79 - Sum of children widths\n",
      "2021-03-29 23:29:29,854 - INFO - dataset:dataset.py:83 - Sum of children hights\n"
     ]
    },
    {
     "data": {
      "application/vnd.jupyter.widget-view+json": {
       "model_id": "def56e22fea14540b870f6e202f524cd",
       "version_major": 2,
       "version_minor": 0
      },
      "text/plain": [
       "  0%|          | 0/287 [00:00<?, ?it/s]"
      ]
     },
     "metadata": {},
     "output_type": "display_data"
    },
    {
     "name": "stdout",
     "output_type": "stream",
     "text": [
      "2021-03-29 23:29:30,235 - INFO - <ipython-input-9-b61a19b556d5>:<ipython-input-9-b61a19b556d5>:35 - Dataset shape after merging with parents: (287, 40)\n",
      "2021-03-29 23:29:30,236 - WARNING - <ipython-input-9-b61a19b556d5>:<ipython-input-9-b61a19b556d5>:40 - Load LABELS from dataset/annotations/support.txt\n"
     ]
    },
    {
     "data": {
      "application/vnd.jupyter.widget-view+json": {
       "model_id": "7242b4a920ef4dc4af083c382d04a902",
       "version_major": 2,
       "version_minor": 0
      },
      "text/plain": [
       "Assigning labels:   0%|          | 0/40 [00:00<?, ?it/s]"
      ]
     },
     "metadata": {},
     "output_type": "display_data"
    },
    {
     "name": "stdout",
     "output_type": "stream",
     "text": [
      "2021-03-29 23:29:30,325 - INFO - <ipython-input-9-b61a19b556d5>:<ipython-input-9-b61a19b556d5>:21 - Dataset for dates\n",
      "2021-03-29 23:29:30,355 - INFO - <ipython-input-9-b61a19b556d5>:<ipython-input-9-b61a19b556d5>:23 - Dataset shape: (316, 13)\n",
      "2021-03-29 23:29:30,356 - INFO - <ipython-input-9-b61a19b556d5>:<ipython-input-9-b61a19b556d5>:25 - cleaning tag_name from dummy/auxiliary words\n",
      "2021-03-29 23:29:30,357 - INFO - dataset:dataset.py:59 - select all leafs (nodes which are not parents)\n",
      "2021-03-29 23:29:30,358 - INFO - dataset:dataset.py:61 - Leafs set size: 138 (nodes which have no children)\n",
      "2021-03-29 23:29:30,359 - INFO - dataset:dataset.py:64 - count number of references to leafs\n",
      "2021-03-29 23:29:30,360 - INFO - dataset:dataset.py:66 - Nodes with leafs as children set size: 101 (nodes which have leafs as children)\n",
      "2021-03-29 23:29:30,362 - INFO - dataset:dataset.py:69 - count num children for each node\n",
      "2021-03-29 23:29:30,362 - INFO - dataset:dataset.py:71 - Nodes with children: 179\n",
      "2021-03-29 23:29:30,363 - INFO - dataset:dataset.py:74 - sum of children widths, heights, counts\n",
      "2021-03-29 23:29:30,368 - INFO - dataset:dataset.py:79 - Sum of children widths\n",
      "2021-03-29 23:29:30,370 - INFO - dataset:dataset.py:83 - Sum of children hights\n"
     ]
    },
    {
     "data": {
      "application/vnd.jupyter.widget-view+json": {
       "model_id": "221a0d228d4a4bac956b023064138fe5",
       "version_major": 2,
       "version_minor": 0
      },
      "text/plain": [
       "  0%|          | 0/316 [00:00<?, ?it/s]"
      ]
     },
     "metadata": {},
     "output_type": "display_data"
    },
    {
     "name": "stdout",
     "output_type": "stream",
     "text": [
      "2021-03-29 23:29:30,772 - INFO - <ipython-input-9-b61a19b556d5>:<ipython-input-9-b61a19b556d5>:35 - Dataset shape after merging with parents: (316, 40)\n",
      "2021-03-29 23:29:30,772 - WARNING - <ipython-input-9-b61a19b556d5>:<ipython-input-9-b61a19b556d5>:40 - Load LABELS from dataset/annotations/dates.txt\n"
     ]
    },
    {
     "data": {
      "application/vnd.jupyter.widget-view+json": {
       "model_id": "f403b31e26ec4e9bb4d23d42b187d2e6",
       "version_major": 2,
       "version_minor": 0
      },
      "text/plain": [
       "Assigning labels:   0%|          | 0/48 [00:00<?, ?it/s]"
      ]
     },
     "metadata": {},
     "output_type": "display_data"
    },
    {
     "name": "stdout",
     "output_type": "stream",
     "text": [
      "2021-03-29 23:29:30,883 - INFO - <ipython-input-9-b61a19b556d5>:<ipython-input-9-b61a19b556d5>:21 - Dataset for contact-form\n",
      "2021-03-29 23:29:30,900 - INFO - <ipython-input-9-b61a19b556d5>:<ipython-input-9-b61a19b556d5>:23 - Dataset shape: (339, 13)\n",
      "2021-03-29 23:29:30,901 - INFO - <ipython-input-9-b61a19b556d5>:<ipython-input-9-b61a19b556d5>:25 - cleaning tag_name from dummy/auxiliary words\n",
      "2021-03-29 23:29:30,902 - INFO - dataset:dataset.py:59 - select all leafs (nodes which are not parents)\n",
      "2021-03-29 23:29:30,902 - INFO - dataset:dataset.py:61 - Leafs set size: 154 (nodes which have no children)\n",
      "2021-03-29 23:29:30,903 - INFO - dataset:dataset.py:64 - count number of references to leafs\n",
      "2021-03-29 23:29:30,904 - INFO - dataset:dataset.py:66 - Nodes with leafs as children set size: 99 (nodes which have leafs as children)\n",
      "2021-03-29 23:29:30,906 - INFO - dataset:dataset.py:69 - count num children for each node\n",
      "2021-03-29 23:29:30,906 - INFO - dataset:dataset.py:71 - Nodes with children: 186\n",
      "2021-03-29 23:29:30,908 - INFO - dataset:dataset.py:74 - sum of children widths, heights, counts\n",
      "2021-03-29 23:29:30,911 - INFO - dataset:dataset.py:79 - Sum of children widths\n",
      "2021-03-29 23:29:30,913 - INFO - dataset:dataset.py:83 - Sum of children hights\n"
     ]
    },
    {
     "data": {
      "application/vnd.jupyter.widget-view+json": {
       "model_id": "196dfc0927514ee48459faf84982a0cb",
       "version_major": 2,
       "version_minor": 0
      },
      "text/plain": [
       "  0%|          | 0/339 [00:00<?, ?it/s]"
      ]
     },
     "metadata": {},
     "output_type": "display_data"
    },
    {
     "name": "stdout",
     "output_type": "stream",
     "text": [
      "2021-03-29 23:29:31,373 - INFO - <ipython-input-9-b61a19b556d5>:<ipython-input-9-b61a19b556d5>:35 - Dataset shape after merging with parents: (339, 40)\n",
      "2021-03-29 23:29:31,374 - WARNING - <ipython-input-9-b61a19b556d5>:<ipython-input-9-b61a19b556d5>:40 - Load LABELS from dataset/annotations/contact-form.txt\n"
     ]
    },
    {
     "data": {
      "application/vnd.jupyter.widget-view+json": {
       "model_id": "d48da5ce45a9440a9ac7e98d384e96cd",
       "version_major": 2,
       "version_minor": 0
      },
      "text/plain": [
       "Assigning labels:   0%|          | 0/38 [00:00<?, ?it/s]"
      ]
     },
     "metadata": {},
     "output_type": "display_data"
    },
    {
     "name": "stdout",
     "output_type": "stream",
     "text": [
      "2021-03-29 23:29:31,474 - INFO - <ipython-input-9-b61a19b556d5>:<ipython-input-9-b61a19b556d5>:21 - Dataset for performance\n",
      "2021-03-29 23:29:31,566 - INFO - <ipython-input-9-b61a19b556d5>:<ipython-input-9-b61a19b556d5>:23 - Dataset shape: (2675, 13)\n",
      "2021-03-29 23:29:31,566 - INFO - <ipython-input-9-b61a19b556d5>:<ipython-input-9-b61a19b556d5>:25 - cleaning tag_name from dummy/auxiliary words\n",
      "2021-03-29 23:29:31,566 - INFO - dataset:dataset.py:59 - select all leafs (nodes which are not parents)\n",
      "2021-03-29 23:29:31,569 - INFO - dataset:dataset.py:61 - Leafs set size: 2121 (nodes which have no children)\n",
      "2021-03-29 23:29:31,571 - INFO - dataset:dataset.py:64 - count number of references to leafs\n",
      "2021-03-29 23:29:31,573 - INFO - dataset:dataset.py:66 - Nodes with leafs as children set size: 487 (nodes which have leafs as children)\n",
      "2021-03-29 23:29:31,574 - INFO - dataset:dataset.py:69 - count num children for each node\n",
      "2021-03-29 23:29:31,575 - INFO - dataset:dataset.py:71 - Nodes with children: 555\n",
      "2021-03-29 23:29:31,579 - INFO - dataset:dataset.py:74 - sum of children widths, heights, counts\n",
      "2021-03-29 23:29:31,583 - INFO - dataset:dataset.py:79 - Sum of children widths\n",
      "2021-03-29 23:29:31,585 - INFO - dataset:dataset.py:83 - Sum of children hights\n"
     ]
    },
    {
     "data": {
      "application/vnd.jupyter.widget-view+json": {
       "model_id": "f9f18f9b9775421bba1fa34ead0c09e3",
       "version_major": 2,
       "version_minor": 0
      },
      "text/plain": [
       "  0%|          | 0/2675 [00:00<?, ?it/s]"
      ]
     },
     "metadata": {},
     "output_type": "display_data"
    },
    {
     "name": "stdout",
     "output_type": "stream",
     "text": [
      "2021-03-29 23:29:35,232 - INFO - <ipython-input-9-b61a19b556d5>:<ipython-input-9-b61a19b556d5>:35 - Dataset shape after merging with parents: (2675, 40)\n",
      "2021-03-29 23:29:35,233 - WARNING - <ipython-input-9-b61a19b556d5>:<ipython-input-9-b61a19b556d5>:40 - Load LABELS from dataset/annotations/performance.txt\n"
     ]
    },
    {
     "data": {
      "application/vnd.jupyter.widget-view+json": {
       "model_id": "89cf78672c904af18feee869f0ab149f",
       "version_major": 2,
       "version_minor": 0
      },
      "text/plain": [
       "Assigning labels:   0%|          | 0/42 [00:00<?, ?it/s]"
      ]
     },
     "metadata": {},
     "output_type": "display_data"
    },
    {
     "name": "stdout",
     "output_type": "stream",
     "text": [
      "2021-03-29 23:29:36,083 - INFO - <ipython-input-9-b61a19b556d5>:<ipython-input-9-b61a19b556d5>:21 - Dataset for metals-and-colors\n",
      "2021-03-29 23:29:36,102 - INFO - <ipython-input-9-b61a19b556d5>:<ipython-input-9-b61a19b556d5>:23 - Dataset shape: (376, 13)\n",
      "2021-03-29 23:29:36,103 - INFO - <ipython-input-9-b61a19b556d5>:<ipython-input-9-b61a19b556d5>:25 - cleaning tag_name from dummy/auxiliary words\n",
      "2021-03-29 23:29:36,104 - INFO - dataset:dataset.py:59 - select all leafs (nodes which are not parents)\n",
      "2021-03-29 23:29:36,105 - INFO - dataset:dataset.py:61 - Leafs set size: 169 (nodes which have no children)\n",
      "2021-03-29 23:29:36,106 - INFO - dataset:dataset.py:64 - count number of references to leafs\n",
      "2021-03-29 23:29:36,107 - INFO - dataset:dataset.py:66 - Nodes with leafs as children set size: 108 (nodes which have leafs as children)\n",
      "2021-03-29 23:29:36,109 - INFO - dataset:dataset.py:69 - count num children for each node\n",
      "2021-03-29 23:29:36,109 - INFO - dataset:dataset.py:71 - Nodes with children: 208\n",
      "2021-03-29 23:29:36,110 - INFO - dataset:dataset.py:74 - sum of children widths, heights, counts\n",
      "2021-03-29 23:29:36,114 - INFO - dataset:dataset.py:79 - Sum of children widths\n",
      "2021-03-29 23:29:36,117 - INFO - dataset:dataset.py:83 - Sum of children hights\n"
     ]
    },
    {
     "data": {
      "application/vnd.jupyter.widget-view+json": {
       "model_id": "538590b10809444787a91a24a77b66bb",
       "version_major": 2,
       "version_minor": 0
      },
      "text/plain": [
       "  0%|          | 0/376 [00:00<?, ?it/s]"
      ]
     },
     "metadata": {},
     "output_type": "display_data"
    },
    {
     "name": "stdout",
     "output_type": "stream",
     "text": [
      "2021-03-29 23:29:36,720 - INFO - <ipython-input-9-b61a19b556d5>:<ipython-input-9-b61a19b556d5>:35 - Dataset shape after merging with parents: (376, 40)\n",
      "2021-03-29 23:29:36,720 - WARNING - <ipython-input-9-b61a19b556d5>:<ipython-input-9-b61a19b556d5>:40 - Load LABELS from dataset/annotations/metals-and-colors.txt\n"
     ]
    },
    {
     "data": {
      "application/vnd.jupyter.widget-view+json": {
       "model_id": "0a9ed192935841bca69ad36e5d9545f8",
       "version_major": 2,
       "version_minor": 0
      },
      "text/plain": [
       "Assigning labels:   0%|          | 0/34 [00:00<?, ?it/s]"
      ]
     },
     "metadata": {},
     "output_type": "display_data"
    },
    {
     "name": "stdout",
     "output_type": "stream",
     "text": [
      "2021-03-29 23:29:36,823 - INFO - <ipython-input-9-b61a19b556d5>:<ipython-input-9-b61a19b556d5>:21 - Dataset for bootstrap-form-control\n",
      "2021-03-29 23:29:36,884 - INFO - <ipython-input-9-b61a19b556d5>:<ipython-input-9-b61a19b556d5>:23 - Dataset shape: (1481, 13)\n",
      "2021-03-29 23:29:36,885 - INFO - <ipython-input-9-b61a19b556d5>:<ipython-input-9-b61a19b556d5>:25 - cleaning tag_name from dummy/auxiliary words\n",
      "2021-03-29 23:29:36,886 - INFO - dataset:dataset.py:59 - select all leafs (nodes which are not parents)\n",
      "2021-03-29 23:29:36,886 - INFO - dataset:dataset.py:61 - Leafs set size: 1181 (nodes which have no children)\n",
      "2021-03-29 23:29:36,888 - INFO - dataset:dataset.py:64 - count number of references to leafs\n",
      "2021-03-29 23:29:36,889 - INFO - dataset:dataset.py:66 - Nodes with leafs as children set size: 221 (nodes which have leafs as children)\n",
      "2021-03-29 23:29:36,891 - INFO - dataset:dataset.py:69 - count num children for each node\n",
      "2021-03-29 23:29:36,891 - INFO - dataset:dataset.py:71 - Nodes with children: 301\n",
      "2021-03-29 23:29:36,893 - INFO - dataset:dataset.py:74 - sum of children widths, heights, counts\n",
      "2021-03-29 23:29:36,896 - INFO - dataset:dataset.py:79 - Sum of children widths\n",
      "2021-03-29 23:29:36,899 - INFO - dataset:dataset.py:83 - Sum of children hights\n"
     ]
    },
    {
     "data": {
      "application/vnd.jupyter.widget-view+json": {
       "model_id": "f0f149a354194a94ae0d95d20b6bcef1",
       "version_major": 2,
       "version_minor": 0
      },
      "text/plain": [
       "  0%|          | 0/1481 [00:00<?, ?it/s]"
      ]
     },
     "metadata": {},
     "output_type": "display_data"
    },
    {
     "name": "stdout",
     "output_type": "stream",
     "text": [
      "2021-03-29 23:29:38,570 - INFO - <ipython-input-9-b61a19b556d5>:<ipython-input-9-b61a19b556d5>:35 - Dataset shape after merging with parents: (1481, 40)\n",
      "2021-03-29 23:29:38,571 - WARNING - <ipython-input-9-b61a19b556d5>:<ipython-input-9-b61a19b556d5>:40 - Load LABELS from dataset/annotations/bootstrap-form-control.txt\n"
     ]
    },
    {
     "data": {
      "application/vnd.jupyter.widget-view+json": {
       "model_id": "84c27a3f7d8341188a412305d280cdff",
       "version_major": 2,
       "version_minor": 0
      },
      "text/plain": [
       "Assigning labels:   0%|          | 0/78 [00:00<?, ?it/s]"
      ]
     },
     "metadata": {},
     "output_type": "display_data"
    },
    {
     "name": "stdout",
     "output_type": "stream",
     "text": [
      "2021-03-29 23:29:39,137 - INFO - <ipython-input-9-b61a19b556d5>:<ipython-input-9-b61a19b556d5>:21 - Dataset for bootstrap-1\n",
      "2021-03-29 23:29:39,355 - INFO - <ipython-input-9-b61a19b556d5>:<ipython-input-9-b61a19b556d5>:23 - Dataset shape: (5229, 13)\n",
      "2021-03-29 23:29:39,356 - INFO - <ipython-input-9-b61a19b556d5>:<ipython-input-9-b61a19b556d5>:25 - cleaning tag_name from dummy/auxiliary words\n",
      "2021-03-29 23:29:39,359 - INFO - dataset:dataset.py:59 - select all leafs (nodes which are not parents)\n",
      "2021-03-29 23:29:39,360 - INFO - dataset:dataset.py:61 - Leafs set size: 4581 (nodes which have no children)\n",
      "2021-03-29 23:29:39,363 - INFO - dataset:dataset.py:64 - count number of references to leafs\n",
      "2021-03-29 23:29:39,366 - INFO - dataset:dataset.py:66 - Nodes with leafs as children set size: 430 (nodes which have leafs as children)\n",
      "2021-03-29 23:29:39,369 - INFO - dataset:dataset.py:69 - count num children for each node\n",
      "2021-03-29 23:29:39,371 - INFO - dataset:dataset.py:71 - Nodes with children: 649\n",
      "2021-03-29 23:29:39,374 - INFO - dataset:dataset.py:74 - sum of children widths, heights, counts\n",
      "2021-03-29 23:29:39,380 - INFO - dataset:dataset.py:79 - Sum of children widths\n",
      "2021-03-29 23:29:39,383 - INFO - dataset:dataset.py:83 - Sum of children hights\n"
     ]
    },
    {
     "data": {
      "application/vnd.jupyter.widget-view+json": {
       "model_id": "6bbe1e0e76e647e6a788a87e94a9cdd9",
       "version_major": 2,
       "version_minor": 0
      },
      "text/plain": [
       "  0%|          | 0/5229 [00:00<?, ?it/s]"
      ]
     },
     "metadata": {},
     "output_type": "display_data"
    },
    {
     "name": "stdout",
     "output_type": "stream",
     "text": [
      "2021-03-29 23:29:45,495 - INFO - <ipython-input-9-b61a19b556d5>:<ipython-input-9-b61a19b556d5>:35 - Dataset shape after merging with parents: (5229, 40)\n",
      "2021-03-29 23:29:45,496 - WARNING - <ipython-input-9-b61a19b556d5>:<ipython-input-9-b61a19b556d5>:40 - Load LABELS from dataset/annotations/bootstrap-1.txt\n"
     ]
    },
    {
     "data": {
      "application/vnd.jupyter.widget-view+json": {
       "model_id": "661846080cc74c0897f1037f2ae2059e",
       "version_major": 2,
       "version_minor": 0
      },
      "text/plain": [
       "Assigning labels:   0%|          | 0/147 [00:00<?, ?it/s]"
      ]
     },
     "metadata": {},
     "output_type": "display_data"
    },
    {
     "name": "stdout",
     "output_type": "stream",
     "text": [
      "2021-03-29 23:29:48,215 - INFO - <ipython-input-9-b61a19b556d5>:<ipython-input-9-b61a19b556d5>:21 - Dataset for bootstrap-reboot\n",
      "2021-03-29 23:29:48,256 - INFO - <ipython-input-9-b61a19b556d5>:<ipython-input-9-b61a19b556d5>:23 - Dataset shape: (1043, 13)\n",
      "2021-03-29 23:29:48,256 - INFO - <ipython-input-9-b61a19b556d5>:<ipython-input-9-b61a19b556d5>:25 - cleaning tag_name from dummy/auxiliary words\n",
      "2021-03-29 23:29:48,256 - INFO - dataset:dataset.py:59 - select all leafs (nodes which are not parents)\n",
      "2021-03-29 23:29:48,256 - INFO - dataset:dataset.py:61 - Leafs set size: 640 (nodes which have no children)\n",
      "2021-03-29 23:29:48,269 - INFO - dataset:dataset.py:64 - count number of references to leafs\n",
      "2021-03-29 23:29:48,270 - INFO - dataset:dataset.py:66 - Nodes with leafs as children set size: 309 (nodes which have leafs as children)\n",
      "2021-03-29 23:29:48,270 - INFO - dataset:dataset.py:69 - count num children for each node\n",
      "2021-03-29 23:29:48,273 - INFO - dataset:dataset.py:71 - Nodes with children: 404\n",
      "2021-03-29 23:29:48,273 - INFO - dataset:dataset.py:74 - sum of children widths, heights, counts\n",
      "2021-03-29 23:29:48,279 - INFO - dataset:dataset.py:79 - Sum of children widths\n",
      "2021-03-29 23:29:48,280 - INFO - dataset:dataset.py:83 - Sum of children hights\n"
     ]
    },
    {
     "data": {
      "application/vnd.jupyter.widget-view+json": {
       "model_id": "b830ea05d23c459dbcff42c8e5dacde8",
       "version_major": 2,
       "version_minor": 0
      },
      "text/plain": [
       "  0%|          | 0/1043 [00:00<?, ?it/s]"
      ]
     },
     "metadata": {},
     "output_type": "display_data"
    },
    {
     "name": "stdout",
     "output_type": "stream",
     "text": [
      "2021-03-29 23:29:49,475 - INFO - <ipython-input-9-b61a19b556d5>:<ipython-input-9-b61a19b556d5>:35 - Dataset shape after merging with parents: (1043, 40)\n",
      "2021-03-29 23:29:49,475 - WARNING - <ipython-input-9-b61a19b556d5>:<ipython-input-9-b61a19b556d5>:40 - Load LABELS from dataset/annotations/bootstrap-reboot.txt\n"
     ]
    },
    {
     "data": {
      "application/vnd.jupyter.widget-view+json": {
       "model_id": "5f245169c9b3432f925b26d1b8a0b23f",
       "version_major": 2,
       "version_minor": 0
      },
      "text/plain": [
       "Assigning labels:   0%|          | 0/96 [00:00<?, ?it/s]"
      ]
     },
     "metadata": {},
     "output_type": "display_data"
    },
    {
     "name": "stdout",
     "output_type": "stream",
     "text": [
      "2021-03-29 23:29:49,999 - INFO - <ipython-input-9-b61a19b556d5>:<ipython-input-9-b61a19b556d5>:21 - Dataset for complex-table\n",
      "2021-03-29 23:29:50,020 - INFO - <ipython-input-9-b61a19b556d5>:<ipython-input-9-b61a19b556d5>:23 - Dataset shape: (426, 13)\n",
      "2021-03-29 23:29:50,020 - INFO - <ipython-input-9-b61a19b556d5>:<ipython-input-9-b61a19b556d5>:25 - cleaning tag_name from dummy/auxiliary words\n",
      "2021-03-29 23:29:50,022 - INFO - dataset:dataset.py:59 - select all leafs (nodes which are not parents)\n",
      "2021-03-29 23:29:50,022 - INFO - dataset:dataset.py:61 - Leafs set size: 206 (nodes which have no children)\n",
      "2021-03-29 23:29:50,023 - INFO - dataset:dataset.py:64 - count number of references to leafs\n",
      "2021-03-29 23:29:50,024 - INFO - dataset:dataset.py:66 - Nodes with leafs as children set size: 131 (nodes which have leafs as children)\n",
      "2021-03-29 23:29:50,025 - INFO - dataset:dataset.py:69 - count num children for each node\n",
      "2021-03-29 23:29:50,026 - INFO - dataset:dataset.py:71 - Nodes with children: 221\n",
      "2021-03-29 23:29:50,027 - INFO - dataset:dataset.py:74 - sum of children widths, heights, counts\n",
      "2021-03-29 23:29:50,031 - INFO - dataset:dataset.py:79 - Sum of children widths\n",
      "2021-03-29 23:29:50,033 - INFO - dataset:dataset.py:83 - Sum of children hights\n"
     ]
    },
    {
     "data": {
      "application/vnd.jupyter.widget-view+json": {
       "model_id": "e0ac2c9ca9184793a7e8955067e819c7",
       "version_major": 2,
       "version_minor": 0
      },
      "text/plain": [
       "  0%|          | 0/426 [00:00<?, ?it/s]"
      ]
     },
     "metadata": {},
     "output_type": "display_data"
    },
    {
     "name": "stdout",
     "output_type": "stream",
     "text": [
      "2021-03-29 23:29:50,679 - INFO - <ipython-input-9-b61a19b556d5>:<ipython-input-9-b61a19b556d5>:35 - Dataset shape after merging with parents: (426, 40)\n",
      "2021-03-29 23:29:50,680 - WARNING - <ipython-input-9-b61a19b556d5>:<ipython-input-9-b61a19b556d5>:40 - Load LABELS from dataset/annotations/complex-table.txt\n"
     ]
    },
    {
     "data": {
      "application/vnd.jupyter.widget-view+json": {
       "model_id": "53da453dce7448f8af99fef2c2c082f8",
       "version_major": 2,
       "version_minor": 0
      },
      "text/plain": [
       "Assigning labels:   0%|          | 0/61 [00:00<?, ?it/s]"
      ]
     },
     "metadata": {},
     "output_type": "display_data"
    },
    {
     "name": "stdout",
     "output_type": "stream",
     "text": [
      "2021-03-29 23:29:50,793 - INFO - <ipython-input-9-b61a19b556d5>:<ipython-input-9-b61a19b556d5>:21 - Dataset for table-with-pages\n",
      "2021-03-29 23:29:50,825 - INFO - <ipython-input-9-b61a19b556d5>:<ipython-input-9-b61a19b556d5>:23 - Dataset shape: (312, 13)\n",
      "2021-03-29 23:29:50,825 - INFO - <ipython-input-9-b61a19b556d5>:<ipython-input-9-b61a19b556d5>:25 - cleaning tag_name from dummy/auxiliary words\n",
      "2021-03-29 23:29:50,826 - INFO - dataset:dataset.py:59 - select all leafs (nodes which are not parents)\n",
      "2021-03-29 23:29:50,827 - INFO - dataset:dataset.py:61 - Leafs set size: 146 (nodes which have no children)\n",
      "2021-03-29 23:29:50,828 - INFO - dataset:dataset.py:64 - count number of references to leafs\n",
      "2021-03-29 23:29:50,829 - INFO - dataset:dataset.py:66 - Nodes with leafs as children set size: 94 (nodes which have leafs as children)\n",
      "2021-03-29 23:29:50,831 - INFO - dataset:dataset.py:69 - count num children for each node\n",
      "2021-03-29 23:29:50,831 - INFO - dataset:dataset.py:71 - Nodes with children: 167\n",
      "2021-03-29 23:29:50,833 - INFO - dataset:dataset.py:74 - sum of children widths, heights, counts\n",
      "2021-03-29 23:29:50,837 - INFO - dataset:dataset.py:79 - Sum of children widths\n",
      "2021-03-29 23:29:50,839 - INFO - dataset:dataset.py:83 - Sum of children hights\n"
     ]
    },
    {
     "data": {
      "application/vnd.jupyter.widget-view+json": {
       "model_id": "712e494f6960416ead71e58dbc90720e",
       "version_major": 2,
       "version_minor": 0
      },
      "text/plain": [
       "  0%|          | 0/312 [00:00<?, ?it/s]"
      ]
     },
     "metadata": {},
     "output_type": "display_data"
    },
    {
     "name": "stdout",
     "output_type": "stream",
     "text": [
      "2021-03-29 23:29:51,258 - INFO - <ipython-input-9-b61a19b556d5>:<ipython-input-9-b61a19b556d5>:35 - Dataset shape after merging with parents: (312, 40)\n",
      "2021-03-29 23:29:51,259 - WARNING - <ipython-input-9-b61a19b556d5>:<ipython-input-9-b61a19b556d5>:40 - Load LABELS from dataset/annotations/table-with-pages.txt\n"
     ]
    },
    {
     "data": {
      "application/vnd.jupyter.widget-view+json": {
       "model_id": "f917f102cc724b77a483243d0efd145d",
       "version_major": 2,
       "version_minor": 0
      },
      "text/plain": [
       "Assigning labels:   0%|          | 0/46 [00:00<?, ?it/s]"
      ]
     },
     "metadata": {},
     "output_type": "display_data"
    },
    {
     "name": "stdout",
     "output_type": "stream",
     "text": [
      "2021-03-29 23:29:51,385 - INFO - <ipython-input-9-b61a19b556d5>:<ipython-input-9-b61a19b556d5>:21 - Dataset for angular\n",
      "2021-03-29 23:29:52,324 - INFO - <ipython-input-9-b61a19b556d5>:<ipython-input-9-b61a19b556d5>:23 - Dataset shape: (6450, 13)\n",
      "2021-03-29 23:29:52,326 - INFO - <ipython-input-9-b61a19b556d5>:<ipython-input-9-b61a19b556d5>:25 - cleaning tag_name from dummy/auxiliary words\n",
      "2021-03-29 23:29:52,330 - INFO - dataset:dataset.py:59 - select all leafs (nodes which are not parents)\n",
      "2021-03-29 23:29:52,333 - INFO - dataset:dataset.py:61 - Leafs set size: 3250 (nodes which have no children)\n",
      "2021-03-29 23:29:52,336 - INFO - dataset:dataset.py:64 - count number of references to leafs\n",
      "2021-03-29 23:29:52,339 - INFO - dataset:dataset.py:66 - Nodes with leafs as children set size: 1750 (nodes which have leafs as children)\n",
      "2021-03-29 23:29:52,343 - INFO - dataset:dataset.py:69 - count num children for each node\n",
      "2021-03-29 23:29:52,344 - INFO - dataset:dataset.py:71 - Nodes with children: 3201\n",
      "2021-03-29 23:29:52,347 - INFO - dataset:dataset.py:74 - sum of children widths, heights, counts\n",
      "2021-03-29 23:29:52,354 - INFO - dataset:dataset.py:79 - Sum of children widths\n",
      "2021-03-29 23:29:52,360 - INFO - dataset:dataset.py:83 - Sum of children hights\n"
     ]
    },
    {
     "data": {
      "application/vnd.jupyter.widget-view+json": {
       "model_id": "ade3a41fe6e64d07a58fd4f6ff6c7e23",
       "version_major": 2,
       "version_minor": 0
      },
      "text/plain": [
       "  0%|          | 0/6450 [00:00<?, ?it/s]"
      ]
     },
     "metadata": {},
     "output_type": "display_data"
    },
    {
     "name": "stdout",
     "output_type": "stream",
     "text": [
      "2021-03-29 23:30:00,721 - INFO - <ipython-input-9-b61a19b556d5>:<ipython-input-9-b61a19b556d5>:35 - Dataset shape after merging with parents: (6450, 40)\n",
      "2021-03-29 23:30:00,722 - WARNING - <ipython-input-9-b61a19b556d5>:<ipython-input-9-b61a19b556d5>:40 - Load LABELS from dataset/annotations/angular.txt\n"
     ]
    },
    {
     "data": {
      "application/vnd.jupyter.widget-view+json": {
       "model_id": "f3aa25ca32934ccf9dd53caccd1fcba7",
       "version_major": 2,
       "version_minor": 0
      },
      "text/plain": [
       "Assigning labels:   0%|          | 0/526 [00:00<?, ?it/s]"
      ]
     },
     "metadata": {},
     "output_type": "display_data"
    },
    {
     "name": "stdout",
     "output_type": "stream",
     "text": [
      "2021-03-29 23:30:07,975 - INFO - <ipython-input-9-b61a19b556d5>:<ipython-input-9-b61a19b556d5>:21 - Dataset for google-voice\n",
      "2021-03-29 23:30:07,984 - INFO - <ipython-input-9-b61a19b556d5>:<ipython-input-9-b61a19b556d5>:23 - Dataset shape: (98, 13)\n",
      "2021-03-29 23:30:07,984 - INFO - <ipython-input-9-b61a19b556d5>:<ipython-input-9-b61a19b556d5>:25 - cleaning tag_name from dummy/auxiliary words\n",
      "2021-03-29 23:30:07,985 - INFO - dataset:dataset.py:59 - select all leafs (nodes which are not parents)\n",
      "2021-03-29 23:30:07,986 - INFO - dataset:dataset.py:61 - Leafs set size: 55 (nodes which have no children)\n",
      "2021-03-29 23:30:07,987 - INFO - dataset:dataset.py:64 - count number of references to leafs\n",
      "2021-03-29 23:30:07,989 - INFO - dataset:dataset.py:66 - Nodes with leafs as children set size: 25 (nodes which have leafs as children)\n",
      "2021-03-29 23:30:07,991 - INFO - dataset:dataset.py:69 - count num children for each node\n",
      "2021-03-29 23:30:07,991 - INFO - dataset:dataset.py:71 - Nodes with children: 44\n",
      "2021-03-29 23:30:07,992 - INFO - dataset:dataset.py:74 - sum of children widths, heights, counts\n",
      "2021-03-29 23:30:07,996 - INFO - dataset:dataset.py:79 - Sum of children widths\n",
      "2021-03-29 23:30:07,998 - INFO - dataset:dataset.py:83 - Sum of children hights\n"
     ]
    },
    {
     "data": {
      "application/vnd.jupyter.widget-view+json": {
       "model_id": "6c0ad46f61c94851ae4ac02912eaf27b",
       "version_major": 2,
       "version_minor": 0
      },
      "text/plain": [
       "  0%|          | 0/98 [00:00<?, ?it/s]"
      ]
     },
     "metadata": {},
     "output_type": "display_data"
    },
    {
     "name": "stdout",
     "output_type": "stream",
     "text": [
      "2021-03-29 23:30:08,095 - INFO - <ipython-input-9-b61a19b556d5>:<ipython-input-9-b61a19b556d5>:35 - Dataset shape after merging with parents: (98, 40)\n",
      "2021-03-29 23:30:08,095 - WARNING - <ipython-input-9-b61a19b556d5>:<ipython-input-9-b61a19b556d5>:40 - Load LABELS from dataset/annotations/google-voice.txt\n"
     ]
    },
    {
     "data": {
      "application/vnd.jupyter.widget-view+json": {
       "model_id": "a1cf0ea6f110444f825973a4237858f5",
       "version_major": 2,
       "version_minor": 0
      },
      "text/plain": [
       "Assigning labels:   0%|          | 0/11 [00:00<?, ?it/s]"
      ]
     },
     "metadata": {},
     "output_type": "display_data"
    },
    {
     "name": "stdout",
     "output_type": "stream",
     "text": [
      "2021-03-29 23:30:08,297 - INFO - <ipython-input-9-b61a19b556d5>:<ipython-input-9-b61a19b556d5>:21 - Dataset for gitlab\n",
      "2021-03-29 23:30:08,376 - INFO - <ipython-input-9-b61a19b556d5>:<ipython-input-9-b61a19b556d5>:23 - Dataset shape: (1803, 13)\n",
      "2021-03-29 23:30:08,376 - INFO - <ipython-input-9-b61a19b556d5>:<ipython-input-9-b61a19b556d5>:25 - cleaning tag_name from dummy/auxiliary words\n",
      "2021-03-29 23:30:08,376 - INFO - dataset:dataset.py:59 - select all leafs (nodes which are not parents)\n",
      "2021-03-29 23:30:08,388 - INFO - dataset:dataset.py:61 - Leafs set size: 1018 (nodes which have no children)\n",
      "2021-03-29 23:30:08,391 - INFO - dataset:dataset.py:64 - count number of references to leafs\n",
      "2021-03-29 23:30:08,392 - INFO - dataset:dataset.py:66 - Nodes with leafs as children set size: 587 (nodes which have leafs as children)\n",
      "2021-03-29 23:30:08,394 - INFO - dataset:dataset.py:69 - count num children for each node\n",
      "2021-03-29 23:30:08,394 - INFO - dataset:dataset.py:71 - Nodes with children: 786\n",
      "2021-03-29 23:30:08,398 - INFO - dataset:dataset.py:74 - sum of children widths, heights, counts\n",
      "2021-03-29 23:30:08,403 - INFO - dataset:dataset.py:79 - Sum of children widths\n",
      "2021-03-29 23:30:08,406 - INFO - dataset:dataset.py:83 - Sum of children hights\n"
     ]
    },
    {
     "data": {
      "application/vnd.jupyter.widget-view+json": {
       "model_id": "a5d159f17b9949418a6993f3f2bf4b1e",
       "version_major": 2,
       "version_minor": 0
      },
      "text/plain": [
       "  0%|          | 0/1803 [00:00<?, ?it/s]"
      ]
     },
     "metadata": {},
     "output_type": "display_data"
    },
    {
     "name": "stdout",
     "output_type": "stream",
     "text": [
      "2021-03-29 23:30:10,435 - INFO - <ipython-input-9-b61a19b556d5>:<ipython-input-9-b61a19b556d5>:35 - Dataset shape after merging with parents: (1803, 40)\n",
      "2021-03-29 23:30:10,435 - WARNING - <ipython-input-9-b61a19b556d5>:<ipython-input-9-b61a19b556d5>:40 - Load LABELS from dataset/annotations/gitlab.txt\n"
     ]
    },
    {
     "data": {
      "application/vnd.jupyter.widget-view+json": {
       "model_id": "6d5419052f524658a749fce29c19b3de",
       "version_major": 2,
       "version_minor": 0
      },
      "text/plain": [
       "Assigning labels:   0%|          | 0/175 [00:00<?, ?it/s]"
      ]
     },
     "metadata": {},
     "output_type": "display_data"
    },
    {
     "name": "stdout",
     "output_type": "stream",
     "text": [
      "2021-03-29 23:30:11,235 - INFO - <ipython-input-9-b61a19b556d5>:<ipython-input-9-b61a19b556d5>:21 - Dataset for mobile-and-html-5\n",
      "2021-03-29 23:30:11,276 - INFO - <ipython-input-9-b61a19b556d5>:<ipython-input-9-b61a19b556d5>:23 - Dataset shape: (650, 13)\n",
      "2021-03-29 23:30:11,277 - INFO - <ipython-input-9-b61a19b556d5>:<ipython-input-9-b61a19b556d5>:25 - cleaning tag_name from dummy/auxiliary words\n",
      "2021-03-29 23:30:11,278 - INFO - dataset:dataset.py:59 - select all leafs (nodes which are not parents)\n",
      "2021-03-29 23:30:11,281 - INFO - dataset:dataset.py:61 - Leafs set size: 398 (nodes which have no children)\n",
      "2021-03-29 23:30:11,283 - INFO - dataset:dataset.py:64 - count number of references to leafs\n",
      "2021-03-29 23:30:11,283 - INFO - dataset:dataset.py:66 - Nodes with leafs as children set size: 165 (nodes which have leafs as children)\n",
      "2021-03-29 23:30:11,283 - INFO - dataset:dataset.py:69 - count num children for each node\n",
      "2021-03-29 23:30:11,283 - INFO - dataset:dataset.py:71 - Nodes with children: 253\n",
      "2021-03-29 23:30:11,283 - INFO - dataset:dataset.py:74 - sum of children widths, heights, counts\n",
      "2021-03-29 23:30:11,283 - INFO - dataset:dataset.py:79 - Sum of children widths\n",
      "2021-03-29 23:30:11,294 - INFO - dataset:dataset.py:83 - Sum of children hights\n"
     ]
    },
    {
     "data": {
      "application/vnd.jupyter.widget-view+json": {
       "model_id": "80c4147d6de54c359912fdd67ed0532d",
       "version_major": 2,
       "version_minor": 0
      },
      "text/plain": [
       "  0%|          | 0/650 [00:00<?, ?it/s]"
      ]
     },
     "metadata": {},
     "output_type": "display_data"
    },
    {
     "name": "stdout",
     "output_type": "stream",
     "text": [
      "2021-03-29 23:30:12,206 - INFO - <ipython-input-9-b61a19b556d5>:<ipython-input-9-b61a19b556d5>:35 - Dataset shape after merging with parents: (650, 40)\n",
      "2021-03-29 23:30:12,206 - WARNING - <ipython-input-9-b61a19b556d5>:<ipython-input-9-b61a19b556d5>:40 - Load LABELS from dataset/annotations/mobile-and-html-5.txt\n"
     ]
    },
    {
     "data": {
      "application/vnd.jupyter.widget-view+json": {
       "model_id": "08ea36430f9e41b1bea27104538273f6",
       "version_major": 2,
       "version_minor": 0
      },
      "text/plain": [
       "Assigning labels:   0%|          | 0/114 [00:00<?, ?it/s]"
      ]
     },
     "metadata": {},
     "output_type": "display_data"
    },
    {
     "name": "stdout",
     "output_type": "stream",
     "text": [
      "2021-03-29 23:30:12,550 - INFO - <ipython-input-9-b61a19b556d5>:<ipython-input-9-b61a19b556d5>:21 - Dataset for login\n",
      "2021-03-29 23:30:12,553 - INFO - <ipython-input-9-b61a19b556d5>:<ipython-input-9-b61a19b556d5>:23 - Dataset shape: (231, 13)\n",
      "2021-03-29 23:30:12,553 - INFO - <ipython-input-9-b61a19b556d5>:<ipython-input-9-b61a19b556d5>:25 - cleaning tag_name from dummy/auxiliary words\n",
      "2021-03-29 23:30:12,553 - INFO - dataset:dataset.py:59 - select all leafs (nodes which are not parents)\n",
      "2021-03-29 23:30:12,553 - INFO - dataset:dataset.py:61 - Leafs set size: 100 (nodes which have no children)\n",
      "2021-03-29 23:30:12,569 - INFO - dataset:dataset.py:64 - count number of references to leafs\n",
      "2021-03-29 23:30:12,571 - INFO - dataset:dataset.py:66 - Nodes with leafs as children set size: 72 (nodes which have leafs as children)\n",
      "2021-03-29 23:30:12,572 - INFO - dataset:dataset.py:69 - count num children for each node\n",
      "2021-03-29 23:30:12,573 - INFO - dataset:dataset.py:71 - Nodes with children: 132\n",
      "2021-03-29 23:30:12,574 - INFO - dataset:dataset.py:74 - sum of children widths, heights, counts\n",
      "2021-03-29 23:30:12,578 - INFO - dataset:dataset.py:79 - Sum of children widths\n",
      "2021-03-29 23:30:12,579 - INFO - dataset:dataset.py:83 - Sum of children hights\n"
     ]
    },
    {
     "data": {
      "application/vnd.jupyter.widget-view+json": {
       "model_id": "c3a99439a79f453580b347a37097b375",
       "version_major": 2,
       "version_minor": 0
      },
      "text/plain": [
       "  0%|          | 0/231 [00:00<?, ?it/s]"
      ]
     },
     "metadata": {},
     "output_type": "display_data"
    },
    {
     "name": "stdout",
     "output_type": "stream",
     "text": [
      "2021-03-29 23:30:12,885 - INFO - <ipython-input-9-b61a19b556d5>:<ipython-input-9-b61a19b556d5>:35 - Dataset shape after merging with parents: (231, 40)\n",
      "2021-03-29 23:30:12,886 - WARNING - <ipython-input-9-b61a19b556d5>:<ipython-input-9-b61a19b556d5>:40 - Load LABELS from dataset/annotations/login.txt\n"
     ]
    },
    {
     "data": {
      "application/vnd.jupyter.widget-view+json": {
       "model_id": "72e45aa360ed493183507d46ab5de0ec",
       "version_major": 2,
       "version_minor": 0
      },
      "text/plain": [
       "Assigning labels:   0%|          | 0/23 [00:00<?, ?it/s]"
      ]
     },
     "metadata": {},
     "output_type": "display_data"
    },
    {
     "name": "stdout",
     "output_type": "stream",
     "text": [
      "2021-03-29 23:30:12,985 - INFO - <ipython-input-9-b61a19b556d5>:<ipython-input-9-b61a19b556d5>:55 - Concatenate datasets\n",
      "2021-03-29 23:30:13,051 - INFO - <ipython-input-9-b61a19b556d5>:<ipython-input-9-b61a19b556d5>:57 - Dataset shape after reading: (27008, 42)\n",
      "2021-03-29 23:30:13,051 - WARNING - <ipython-input-9-b61a19b556d5>:<ipython-input-9-b61a19b556d5>:165 - Oversample data to balance the dataset, this will create duplicated rows in dataset\n",
      "2021-03-29 23:30:14,029 - WARNING - <ipython-input-9-b61a19b556d5>:<ipython-input-9-b61a19b556d5>:178 - Rebalanced dataset size: 82062\n",
      "2021-03-29 23:30:14,047 - WARNING - <ipython-input-9-b61a19b556d5>:<ipython-input-9-b61a19b556d5>:320 - Loading count vectorizer for column \"cv_class\": model/count_vectorizer_class.pkl\n",
      "2021-03-29 23:30:14,329 - INFO - <ipython-input-9-b61a19b556d5>:<ipython-input-9-b61a19b556d5>:333 - class_sm: (82062, 779)\n",
      "2021-03-29 23:30:14,329 - INFO - <ipython-input-9-b61a19b556d5>:<ipython-input-9-b61a19b556d5>:66 - Build OHE column for attribute role\n",
      "2021-03-29 23:30:14,362 - INFO - <ipython-input-9-b61a19b556d5>:<ipython-input-9-b61a19b556d5>:66 - Build OHE column for attribute type\n",
      "2021-03-29 23:30:14,386 - INFO - <ipython-input-9-b61a19b556d5>:<ipython-input-9-b61a19b556d5>:66 - Build OHE column for attribute ui\n",
      "2021-03-29 23:30:14,416 - INFO - <ipython-input-9-b61a19b556d5>:<ipython-input-9-b61a19b556d5>:70 - Build OHE column for attribute role_parent\n",
      "2021-03-29 23:30:14,453 - INFO - <ipython-input-9-b61a19b556d5>:<ipython-input-9-b61a19b556d5>:70 - Build OHE column for attribute type_parent\n",
      "2021-03-29 23:30:14,480 - INFO - <ipython-input-9-b61a19b556d5>:<ipython-input-9-b61a19b556d5>:70 - Build OHE column for attribute ui_parent\n",
      "2021-03-29 23:30:14,503 - INFO - <ipython-input-9-b61a19b556d5>:<ipython-input-9-b61a19b556d5>:73 - OHE tag_name\n",
      "2021-03-29 23:30:14,503 - WARNING - <ipython-input-9-b61a19b556d5>:<ipython-input-9-b61a19b556d5>:192 - loading existing OHE for column \"tag_name\" from model/tag_name.pkl\n",
      "2021-03-29 23:30:14,526 - INFO - <ipython-input-9-b61a19b556d5>:<ipython-input-9-b61a19b556d5>:75 - tag_name_sm.shape: (82062, 298)\n",
      "2021-03-29 23:30:14,527 - INFO - <ipython-input-9-b61a19b556d5>:<ipython-input-9-b61a19b556d5>:77 - OHE tag_name_parent\n",
      "2021-03-29 23:30:14,527 - WARNING - <ipython-input-9-b61a19b556d5>:<ipython-input-9-b61a19b556d5>:192 - loading existing OHE for column \"tag_name_parent\" from model/tag_name.pkl\n",
      "2021-03-29 23:30:14,542 - INFO - <ipython-input-9-b61a19b556d5>:<ipython-input-9-b61a19b556d5>:79 - tag_name_parent_sm.shape: (82062, 298)\n",
      "2021-03-29 23:30:14,543 - INFO - <ipython-input-9-b61a19b556d5>:<ipython-input-9-b61a19b556d5>:81 - OHE ohe_role\n",
      "2021-03-29 23:30:14,544 - WARNING - <ipython-input-9-b61a19b556d5>:<ipython-input-9-b61a19b556d5>:192 - loading existing OHE for column \"ohe_role\" from model/ohe_role.pkl\n",
      "2021-03-29 23:30:14,557 - INFO - <ipython-input-9-b61a19b556d5>:<ipython-input-9-b61a19b556d5>:83 - ohe_role_sm.shape: (82062, 37)\n",
      "2021-03-29 23:30:14,557 - INFO - <ipython-input-9-b61a19b556d5>:<ipython-input-9-b61a19b556d5>:85 - OHE ohe_role_parent\n",
      "2021-03-29 23:30:14,558 - WARNING - <ipython-input-9-b61a19b556d5>:<ipython-input-9-b61a19b556d5>:192 - loading existing OHE for column \"ohe_role_parent\" from model/ohe_role.pkl\n",
      "2021-03-29 23:30:14,570 - INFO - <ipython-input-9-b61a19b556d5>:<ipython-input-9-b61a19b556d5>:87 - ohe_role_parent_sm.shape: (82062, 37)\n",
      "2021-03-29 23:30:14,571 - INFO - <ipython-input-9-b61a19b556d5>:<ipython-input-9-b61a19b556d5>:89 - OHE ohe_type\n",
      "2021-03-29 23:30:14,571 - WARNING - <ipython-input-9-b61a19b556d5>:<ipython-input-9-b61a19b556d5>:192 - loading existing OHE for column \"ohe_type\" from model/ohe_type.pkl\n",
      "2021-03-29 23:30:14,584 - INFO - <ipython-input-9-b61a19b556d5>:<ipython-input-9-b61a19b556d5>:91 - ohe_type_sm.shape: (82062, 28)\n",
      "2021-03-29 23:30:14,585 - INFO - <ipython-input-9-b61a19b556d5>:<ipython-input-9-b61a19b556d5>:93 - OHE ohe_type_parent\n",
      "2021-03-29 23:30:14,586 - WARNING - <ipython-input-9-b61a19b556d5>:<ipython-input-9-b61a19b556d5>:192 - loading existing OHE for column \"ohe_type_parent\" from model/ohe_type.pkl\n",
      "2021-03-29 23:30:14,598 - INFO - <ipython-input-9-b61a19b556d5>:<ipython-input-9-b61a19b556d5>:95 - ohe_type_parent_sm.shape: (82062, 28)\n",
      "2021-03-29 23:30:14,599 - INFO - <ipython-input-9-b61a19b556d5>:<ipython-input-9-b61a19b556d5>:97 - OHE ohe_ui\n",
      "2021-03-29 23:30:14,599 - WARNING - <ipython-input-9-b61a19b556d5>:<ipython-input-9-b61a19b556d5>:192 - loading existing OHE for column \"ohe_ui\" from model/ohe_ui.pkl\n",
      "2021-03-29 23:30:14,612 - INFO - <ipython-input-9-b61a19b556d5>:<ipython-input-9-b61a19b556d5>:99 - ohe_ui_sm.shape: (82062, 14)\n",
      "2021-03-29 23:30:14,613 - INFO - <ipython-input-9-b61a19b556d5>:<ipython-input-9-b61a19b556d5>:101 - OHE ohe_ui_parent\n",
      "2021-03-29 23:30:14,613 - WARNING - <ipython-input-9-b61a19b556d5>:<ipython-input-9-b61a19b556d5>:192 - loading existing OHE for column \"ohe_ui_parent\" from model/ohe_ui.pkl\n",
      "2021-03-29 23:30:14,626 - INFO - <ipython-input-9-b61a19b556d5>:<ipython-input-9-b61a19b556d5>:103 - ohe_ui_parent_sm.shape: (82062, 14)\n",
      "2021-03-29 23:30:15,074 - INFO - <ipython-input-9-b61a19b556d5>:<ipython-input-9-b61a19b556d5>:107 - Fit CountVectorizer for column \"attributes\"\n",
      "2021-03-29 23:30:15,074 - WARNING - <ipython-input-9-b61a19b556d5>:<ipython-input-9-b61a19b556d5>:214 - loading existing count vectorizer for column \"attributes_text\" from model/count_vectorizer_attributes_text.pkl\n",
      "2021-03-29 23:30:15,345 - INFO - <ipython-input-9-b61a19b556d5>:<ipython-input-9-b61a19b556d5>:109 - attributes_sm.shape: (82062, 107)\n",
      "2021-03-29 23:30:15,347 - WARNING - <ipython-input-9-b61a19b556d5>:<ipython-input-9-b61a19b556d5>:115 - Load CountVectorizer for column \"chidren_tags\": model/count_vectorizer_children_tags.pkl\n",
      "2021-03-29 23:30:15,347 - INFO - <ipython-input-9-b61a19b556d5>:<ipython-input-9-b61a19b556d5>:122 - CountVectorizer \"chilren_tags\" size: 232\n",
      "2021-03-29 23:30:15,522 - INFO - <ipython-input-9-b61a19b556d5>:<ipython-input-9-b61a19b556d5>:124 - chidren_tags_sm: (82062, 232)\n",
      "2021-03-29 23:30:15,967 - INFO - <ipython-input-9-b61a19b556d5>:<ipython-input-9-b61a19b556d5>:129 - Fit CountVectorizer for column \"attributes_parent\"\n",
      "2021-03-29 23:30:15,968 - WARNING - <ipython-input-9-b61a19b556d5>:<ipython-input-9-b61a19b556d5>:214 - loading existing count vectorizer for column \"attributes_parent_text\" from model/count_vectorizer_attributes_text.pkl\n",
      "2021-03-29 23:30:16,191 - INFO - <ipython-input-9-b61a19b556d5>:<ipython-input-9-b61a19b556d5>:132 - attributes_parent_sm.shape: (82062, 107)\n",
      "2021-03-29 23:30:16,532 - INFO - <ipython-input-9-b61a19b556d5>:<ipython-input-9-b61a19b556d5>:155 - OHE columns sparse matrix: (82062, 2002)\n"
     ]
    }
   ],
   "source": [
    "train_dataset = JDIDataset(rebalance=True)"
   ]
  },
  {
   "cell_type": "code",
   "execution_count": 11,
   "id": "informational-realtor",
   "metadata": {},
   "outputs": [
    {
     "data": {
      "text/plain": [
       "Index(['attributes', 'displayed', 'element_id', 'height', 'onmouseenter',\n",
       "       'onmouseover', 'parent_id', 'style', 'tag_name', 'text', 'width', 'x',\n",
       "       'y', 'is_leaf', 'num_leafs', 'num_children', 'sum_children_widths',\n",
       "       'sum_children_hights', 'children_tags', 'num_followers',\n",
       "       'attributes_parent', 'displayed_parent', 'element_id_parent',\n",
       "       'height_parent', 'onmouseenter_parent', 'onmouseover_parent',\n",
       "       'parent_id_parent', 'style_parent', 'tag_name_parent', 'text_parent',\n",
       "       'width_parent', 'x_parent', 'y_parent', 'is_leaf_parent',\n",
       "       'num_leafs_parent', 'num_children_parent', 'sum_children_widths_parent',\n",
       "       'sum_children_hights_parent', 'children_tags_parent',\n",
       "       'num_followers_parent', 'label', 'ds_name', 'cv_class', 'ohe_role',\n",
       "       'ohe_type', 'ohe_ui', 'ohe_role_parent', 'ohe_type_parent',\n",
       "       'ohe_ui_parent', 'attributes_text', 'attributes_parent_text'],\n",
       "      dtype='object')"
      ]
     },
     "execution_count": 11,
     "metadata": {},
     "output_type": "execute_result"
    }
   ],
   "source": [
    "train_dataset.dataset.columns"
   ]
  },
  {
   "cell_type": "code",
   "execution_count": 12,
   "id": "cubic-kennedy",
   "metadata": {},
   "outputs": [
    {
     "data": {
      "text/html": [
       "<h3>Check dataset.element_id for uniqueness: OK</h3>"
      ],
      "text/plain": [
       "<IPython.core.display.HTML object>"
      ]
     },
     "metadata": {},
     "output_type": "display_data"
    }
   ],
   "source": [
    "assert (train_dataset.dataset.element_id.nunique() == train_dataset.dataset.shape[0]) or train_dataset.rebalanced, 'There are nonunique values in the dataset, probably the dataset was rebalanced'\n",
    "display(HTML(\"<h3>Check dataset.element_id for uniqueness: OK</h3>\"))"
   ]
  },
  {
   "cell_type": "code",
   "execution_count": 13,
   "id": "matched-guitar",
   "metadata": {},
   "outputs": [
    {
     "data": {
      "text/html": [
       "<h3>Length of dataset: 82062<h3>"
      ],
      "text/plain": [
       "<IPython.core.display.HTML object>"
      ]
     },
     "metadata": {},
     "output_type": "display_data"
    }
   ],
   "source": [
    "display(HTML(f'<h3>Length of dataset: {train_dataset.dataset.shape[0]}<h3>'))"
   ]
  },
  {
   "cell_type": "code",
   "execution_count": 14,
   "id": "similar-deadline",
   "metadata": {},
   "outputs": [
    {
     "data": {
      "text/plain": [
       "(82062, 2002)"
      ]
     },
     "execution_count": 14,
     "metadata": {},
     "output_type": "execute_result"
    }
   ],
   "source": [
    "train_dataset.data.shape"
   ]
  },
  {
   "cell_type": "markdown",
   "id": "passing-wichita",
   "metadata": {},
   "source": [
    "## Test Dataloader"
   ]
  },
  {
   "cell_type": "code",
   "execution_count": 15,
   "id": "complimentary-remark",
   "metadata": {},
   "outputs": [],
   "source": [
    "BATCH_SIZE = 256\n",
    "dataloader = DataLoader(train_dataset, shuffle=True, batch_size = BATCH_SIZE)"
   ]
  },
  {
   "cell_type": "code",
   "execution_count": 16,
   "id": "proper-porter",
   "metadata": {},
   "outputs": [
    {
     "name": "stdout",
     "output_type": "stream",
     "text": [
      "Wall time: 5.66 s\n"
     ]
    },
    {
     "data": {
      "text/plain": [
       "[tensor([[0., 0., 0.,  ..., 0., 0., 0.],\n",
       "         [0., 0., 0.,  ..., 0., 0., 0.],\n",
       "         [0., 0., 0.,  ..., 0., 0., 0.],\n",
       "         ...,\n",
       "         [0., 0., 0.,  ..., 0., 0., 0.],\n",
       "         [0., 0., 0.,  ..., 0., 0., 0.],\n",
       "         [0., 0., 0.,  ..., 0., 0., 0.]]),\n",
       " tensor([ 1, 12, 20, 20, 20, 20,  1,  0,  1,  1,  0,  1,  1,  0,  0,  0,  0,  1,\n",
       "          1, 18, 20,  0, 20, 18, 20,  6, 20, 20,  3, 20, 20, 20,  1, 20,  1, 19,\n",
       "         20, 20,  1,  0,  1,  0, 20,  5, 20,  0,  1,  0,  5,  3,  0,  0,  4, 20,\n",
       "          1, 20,  1,  3,  3, 20,  0,  0, 20, 20,  3,  5,  1,  0,  4,  1,  1,  0,\n",
       "          1,  1,  0,  1, 20,  1, 18,  1,  5,  1,  1, 20,  1, 20, 20, 20,  4,  1,\n",
       "          0,  5,  1, 18,  1,  0,  3,  1,  1, 12, 20,  0, 20, 20,  0, 20,  3, 20,\n",
       "          1,  0,  0, 20,  0, 20, 20,  0,  1, 20,  1,  0,  1,  3,  4, 20,  1, 20,\n",
       "          1, 20, 20, 20,  4, 18,  0, 18, 14, 20,  1, 18,  5, 20,  0,  0,  1, 20,\n",
       "          5,  4,  1, 20,  3, 18,  4,  1,  1, 20,  4,  1,  1, 18,  1, 20,  1,  1,\n",
       "          1,  1,  1,  4, 20,  1,  1, 20,  0,  0,  1, 20,  0, 20,  1,  0, 20,  0,\n",
       "         18,  1,  1,  1,  1,  1,  1, 20, 20, 18,  5, 18,  2,  4, 20, 20,  1,  6,\n",
       "         18,  1,  1,  0,  1, 20, 14,  1,  0, 20, 18, 20,  1,  5,  1,  1,  1, 16,\n",
       "          3,  5,  0,  1,  1,  1,  1,  1,  1,  1,  3,  4,  1,  0,  3,  1,  2, 20,\n",
       "          0, 20, 20,  0,  2,  3,  1,  1, 20,  0,  1,  1,  0,  1,  0,  1,  1, 20,\n",
       "         20,  0,  1,  3], dtype=torch.int32)]"
      ]
     },
     "execution_count": 16,
     "metadata": {},
     "output_type": "execute_result"
    }
   ],
   "source": [
    "%%time\n",
    "next(iter(dataloader))"
   ]
  },
  {
   "cell_type": "code",
   "execution_count": 17,
   "id": "verified-radio",
   "metadata": {},
   "outputs": [
    {
     "name": "stdout",
     "output_type": "stream",
     "text": [
      "Elapsed time: 0:01:04.763266\n"
     ]
    }
   ],
   "source": [
    "print('Elapsed time:', dt.datetime.now() - START_DT)"
   ]
  },
  {
   "cell_type": "code",
   "execution_count": 18,
   "id": "accurate-elephant",
   "metadata": {
    "scrolled": true
   },
   "outputs": [
    {
     "data": {
      "application/vnd.jupyter.widget-view+json": {
       "model_id": "3fce8b5cd7044133b2a11cdc83c632b0",
       "version_major": 2,
       "version_minor": 0
      },
      "text/plain": [
       "  0%|          | 0/321 [00:00<?, ?it/s]"
      ]
     },
     "metadata": {},
     "output_type": "display_data"
    },
    {
     "name": "stdout",
     "output_type": "stream",
     "text": [
      "Wall time: 32min 3s\n"
     ]
    }
   ],
   "source": [
    "%%time\n",
    "\n",
    "NUM_BATCHES = len(dataloader)\n",
    "\n",
    "with trange(NUM_BATCHES) as bar:\n",
    "    for x, y in dataloader:\n",
    "        # print(x.shape, y.shape)\n",
    "        bar.update(1)"
   ]
  },
  {
   "cell_type": "code",
   "execution_count": 19,
   "id": "transparent-office",
   "metadata": {},
   "outputs": [
    {
     "name": "stdout",
     "output_type": "stream",
     "text": [
      "Elapsed time: 0:33:08.666929\n"
     ]
    }
   ],
   "source": [
    "print('Elapsed time:', dt.datetime.now() - START_DT)"
   ]
  },
  {
   "cell_type": "code",
   "execution_count": 20,
   "id": "abstract-african",
   "metadata": {},
   "outputs": [
    {
     "name": "stdout",
     "output_type": "stream",
     "text": [
      "2021-03-30 00:02:26,236 - INFO - <ipython-input-9-b61a19b556d5>:<ipython-input-9-b61a19b556d5>:16 - List of dataset_names:['angular']\n",
      "2021-03-30 00:02:26,238 - INFO - <ipython-input-9-b61a19b556d5>:<ipython-input-9-b61a19b556d5>:21 - Dataset for angular\n",
      "2021-03-30 00:02:27,163 - INFO - <ipython-input-9-b61a19b556d5>:<ipython-input-9-b61a19b556d5>:23 - Dataset shape: (6450, 13)\n",
      "2021-03-30 00:02:27,164 - INFO - <ipython-input-9-b61a19b556d5>:<ipython-input-9-b61a19b556d5>:25 - cleaning tag_name from dummy/auxiliary words\n",
      "2021-03-30 00:02:27,167 - INFO - dataset:dataset.py:59 - select all leafs (nodes which are not parents)\n",
      "2021-03-30 00:02:27,169 - INFO - dataset:dataset.py:61 - Leafs set size: 3250 (nodes which have no children)\n",
      "2021-03-30 00:02:27,172 - INFO - dataset:dataset.py:64 - count number of references to leafs\n",
      "2021-03-30 00:02:27,176 - INFO - dataset:dataset.py:66 - Nodes with leafs as children set size: 1750 (nodes which have leafs as children)\n",
      "2021-03-30 00:02:27,180 - INFO - dataset:dataset.py:69 - count num children for each node\n",
      "2021-03-30 00:02:27,181 - INFO - dataset:dataset.py:71 - Nodes with children: 3201\n",
      "2021-03-30 00:02:27,185 - INFO - dataset:dataset.py:74 - sum of children widths, heights, counts\n",
      "2021-03-30 00:02:27,193 - INFO - dataset:dataset.py:79 - Sum of children widths\n",
      "2021-03-30 00:02:27,199 - INFO - dataset:dataset.py:83 - Sum of children hights\n"
     ]
    },
    {
     "data": {
      "application/vnd.jupyter.widget-view+json": {
       "model_id": "8f8f90827a8846bd95fe56b7bc36fb12",
       "version_major": 2,
       "version_minor": 0
      },
      "text/plain": [
       "  0%|          | 0/6450 [00:00<?, ?it/s]"
      ]
     },
     "metadata": {},
     "output_type": "display_data"
    },
    {
     "name": "stdout",
     "output_type": "stream",
     "text": [
      "2021-03-30 00:02:35,834 - INFO - <ipython-input-9-b61a19b556d5>:<ipython-input-9-b61a19b556d5>:35 - Dataset shape after merging with parents: (6450, 40)\n",
      "2021-03-30 00:02:35,835 - WARNING - <ipython-input-9-b61a19b556d5>:<ipython-input-9-b61a19b556d5>:40 - Load LABELS from dataset/annotations/angular.txt\n"
     ]
    },
    {
     "data": {
      "application/vnd.jupyter.widget-view+json": {
       "model_id": "0791b875589a4be4963bc8a64b75884b",
       "version_major": 2,
       "version_minor": 0
      },
      "text/plain": [
       "Assigning labels:   0%|          | 0/526 [00:00<?, ?it/s]"
      ]
     },
     "metadata": {},
     "output_type": "display_data"
    },
    {
     "name": "stdout",
     "output_type": "stream",
     "text": [
      "2021-03-30 00:02:43,098 - INFO - <ipython-input-9-b61a19b556d5>:<ipython-input-9-b61a19b556d5>:55 - Concatenate datasets\n",
      "2021-03-30 00:02:43,106 - INFO - <ipython-input-9-b61a19b556d5>:<ipython-input-9-b61a19b556d5>:57 - Dataset shape after reading: (6450, 42)\n",
      "2021-03-30 00:02:43,111 - WARNING - <ipython-input-9-b61a19b556d5>:<ipython-input-9-b61a19b556d5>:320 - Loading count vectorizer for column \"cv_class\": model/count_vectorizer_class.pkl\n",
      "2021-03-30 00:02:43,152 - INFO - <ipython-input-9-b61a19b556d5>:<ipython-input-9-b61a19b556d5>:333 - class_sm: (6450, 779)\n",
      "2021-03-30 00:02:43,153 - INFO - <ipython-input-9-b61a19b556d5>:<ipython-input-9-b61a19b556d5>:66 - Build OHE column for attribute role\n",
      "2021-03-30 00:02:43,159 - INFO - <ipython-input-9-b61a19b556d5>:<ipython-input-9-b61a19b556d5>:66 - Build OHE column for attribute type\n",
      "2021-03-30 00:02:43,166 - INFO - <ipython-input-9-b61a19b556d5>:<ipython-input-9-b61a19b556d5>:66 - Build OHE column for attribute ui\n",
      "2021-03-30 00:02:43,172 - INFO - <ipython-input-9-b61a19b556d5>:<ipython-input-9-b61a19b556d5>:70 - Build OHE column for attribute role_parent\n",
      "2021-03-30 00:02:43,178 - INFO - <ipython-input-9-b61a19b556d5>:<ipython-input-9-b61a19b556d5>:70 - Build OHE column for attribute type_parent\n",
      "2021-03-30 00:02:43,184 - INFO - <ipython-input-9-b61a19b556d5>:<ipython-input-9-b61a19b556d5>:70 - Build OHE column for attribute ui_parent\n",
      "2021-03-30 00:02:43,189 - INFO - <ipython-input-9-b61a19b556d5>:<ipython-input-9-b61a19b556d5>:73 - OHE tag_name\n",
      "2021-03-30 00:02:43,190 - WARNING - <ipython-input-9-b61a19b556d5>:<ipython-input-9-b61a19b556d5>:192 - loading existing OHE for column \"tag_name\" from model/tag_name.pkl\n",
      "2021-03-30 00:02:43,194 - INFO - <ipython-input-9-b61a19b556d5>:<ipython-input-9-b61a19b556d5>:75 - tag_name_sm.shape: (6450, 298)\n",
      "2021-03-30 00:02:43,194 - INFO - <ipython-input-9-b61a19b556d5>:<ipython-input-9-b61a19b556d5>:77 - OHE tag_name_parent\n",
      "2021-03-30 00:02:43,195 - WARNING - <ipython-input-9-b61a19b556d5>:<ipython-input-9-b61a19b556d5>:192 - loading existing OHE for column \"tag_name_parent\" from model/tag_name.pkl\n",
      "2021-03-30 00:02:43,199 - INFO - <ipython-input-9-b61a19b556d5>:<ipython-input-9-b61a19b556d5>:79 - tag_name_parent_sm.shape: (6450, 298)\n",
      "2021-03-30 00:02:43,199 - INFO - <ipython-input-9-b61a19b556d5>:<ipython-input-9-b61a19b556d5>:81 - OHE ohe_role\n",
      "2021-03-30 00:02:43,200 - WARNING - <ipython-input-9-b61a19b556d5>:<ipython-input-9-b61a19b556d5>:192 - loading existing OHE for column \"ohe_role\" from model/ohe_role.pkl\n",
      "2021-03-30 00:02:43,203 - INFO - <ipython-input-9-b61a19b556d5>:<ipython-input-9-b61a19b556d5>:83 - ohe_role_sm.shape: (6450, 37)\n",
      "2021-03-30 00:02:43,203 - INFO - <ipython-input-9-b61a19b556d5>:<ipython-input-9-b61a19b556d5>:85 - OHE ohe_role_parent\n",
      "2021-03-30 00:02:43,204 - WARNING - <ipython-input-9-b61a19b556d5>:<ipython-input-9-b61a19b556d5>:192 - loading existing OHE for column \"ohe_role_parent\" from model/ohe_role.pkl\n",
      "2021-03-30 00:02:43,207 - INFO - <ipython-input-9-b61a19b556d5>:<ipython-input-9-b61a19b556d5>:87 - ohe_role_parent_sm.shape: (6450, 37)\n",
      "2021-03-30 00:02:43,208 - INFO - <ipython-input-9-b61a19b556d5>:<ipython-input-9-b61a19b556d5>:89 - OHE ohe_type\n",
      "2021-03-30 00:02:43,208 - WARNING - <ipython-input-9-b61a19b556d5>:<ipython-input-9-b61a19b556d5>:192 - loading existing OHE for column \"ohe_type\" from model/ohe_type.pkl\n",
      "2021-03-30 00:02:43,211 - INFO - <ipython-input-9-b61a19b556d5>:<ipython-input-9-b61a19b556d5>:91 - ohe_type_sm.shape: (6450, 28)\n",
      "2021-03-30 00:02:43,212 - INFO - <ipython-input-9-b61a19b556d5>:<ipython-input-9-b61a19b556d5>:93 - OHE ohe_type_parent\n",
      "2021-03-30 00:02:43,212 - WARNING - <ipython-input-9-b61a19b556d5>:<ipython-input-9-b61a19b556d5>:192 - loading existing OHE for column \"ohe_type_parent\" from model/ohe_type.pkl\n",
      "2021-03-30 00:02:43,215 - INFO - <ipython-input-9-b61a19b556d5>:<ipython-input-9-b61a19b556d5>:95 - ohe_type_parent_sm.shape: (6450, 28)\n",
      "2021-03-30 00:02:43,215 - INFO - <ipython-input-9-b61a19b556d5>:<ipython-input-9-b61a19b556d5>:97 - OHE ohe_ui\n",
      "2021-03-30 00:02:43,216 - WARNING - <ipython-input-9-b61a19b556d5>:<ipython-input-9-b61a19b556d5>:192 - loading existing OHE for column \"ohe_ui\" from model/ohe_ui.pkl\n",
      "2021-03-30 00:02:43,218 - INFO - <ipython-input-9-b61a19b556d5>:<ipython-input-9-b61a19b556d5>:99 - ohe_ui_sm.shape: (6450, 14)\n",
      "2021-03-30 00:02:43,219 - INFO - <ipython-input-9-b61a19b556d5>:<ipython-input-9-b61a19b556d5>:101 - OHE ohe_ui_parent\n",
      "2021-03-30 00:02:43,219 - WARNING - <ipython-input-9-b61a19b556d5>:<ipython-input-9-b61a19b556d5>:192 - loading existing OHE for column \"ohe_ui_parent\" from model/ohe_ui.pkl\n",
      "2021-03-30 00:02:43,222 - INFO - <ipython-input-9-b61a19b556d5>:<ipython-input-9-b61a19b556d5>:103 - ohe_ui_parent_sm.shape: (6450, 14)\n",
      "2021-03-30 00:02:43,333 - INFO - <ipython-input-9-b61a19b556d5>:<ipython-input-9-b61a19b556d5>:107 - Fit CountVectorizer for column \"attributes\"\n",
      "2021-03-30 00:02:43,333 - WARNING - <ipython-input-9-b61a19b556d5>:<ipython-input-9-b61a19b556d5>:214 - loading existing count vectorizer for column \"attributes_text\" from model/count_vectorizer_attributes_text.pkl\n",
      "2021-03-30 00:02:43,362 - INFO - <ipython-input-9-b61a19b556d5>:<ipython-input-9-b61a19b556d5>:109 - attributes_sm.shape: (6450, 107)\n",
      "2021-03-30 00:02:43,363 - WARNING - <ipython-input-9-b61a19b556d5>:<ipython-input-9-b61a19b556d5>:115 - Load CountVectorizer for column \"chidren_tags\": model/count_vectorizer_children_tags.pkl\n",
      "2021-03-30 00:02:43,364 - INFO - <ipython-input-9-b61a19b556d5>:<ipython-input-9-b61a19b556d5>:122 - CountVectorizer \"chilren_tags\" size: 232\n",
      "2021-03-30 00:02:43,384 - INFO - <ipython-input-9-b61a19b556d5>:<ipython-input-9-b61a19b556d5>:124 - chidren_tags_sm: (6450, 232)\n",
      "2021-03-30 00:02:43,492 - INFO - <ipython-input-9-b61a19b556d5>:<ipython-input-9-b61a19b556d5>:129 - Fit CountVectorizer for column \"attributes_parent\"\n",
      "2021-03-30 00:02:43,493 - WARNING - <ipython-input-9-b61a19b556d5>:<ipython-input-9-b61a19b556d5>:214 - loading existing count vectorizer for column \"attributes_parent_text\" from model/count_vectorizer_attributes_text.pkl\n",
      "2021-03-30 00:02:43,521 - INFO - <ipython-input-9-b61a19b556d5>:<ipython-input-9-b61a19b556d5>:132 - attributes_parent_sm.shape: (6450, 107)\n",
      "2021-03-30 00:02:43,557 - INFO - <ipython-input-9-b61a19b556d5>:<ipython-input-9-b61a19b556d5>:155 - OHE columns sparse matrix: (6450, 2002)\n"
     ]
    }
   ],
   "source": [
    "test_dataset = JDIDataset(dataset_names=['angular'], rebalance=False)"
   ]
  },
  {
   "cell_type": "code",
   "execution_count": 21,
   "id": "satellite-taste",
   "metadata": {},
   "outputs": [],
   "source": [
    "BATCH_SIZE = 1\n",
    "dataloader = DataLoader(test_dataset, shuffle=False, batch_size = BATCH_SIZE)"
   ]
  },
  {
   "cell_type": "code",
   "execution_count": 22,
   "id": "figured-score",
   "metadata": {},
   "outputs": [
    {
     "data": {
      "application/vnd.jupyter.widget-view+json": {
       "model_id": "7fe85f17f39c4335a83da5314fbf8314",
       "version_major": 2,
       "version_minor": 0
      },
      "text/plain": [
       "  0%|          | 0/6450 [00:00<?, ?it/s]"
      ]
     },
     "metadata": {},
     "output_type": "display_data"
    },
    {
     "name": "stdout",
     "output_type": "stream",
     "text": [
      "Wall time: 11 s\n"
     ]
    }
   ],
   "source": [
    "%%time\n",
    "\n",
    "NUM_BATCHES = len(dataloader)\n",
    "\n",
    "with trange(NUM_BATCHES) as bar:\n",
    "    for x, y in dataloader:\n",
    "        #print(x.shape, y)\n",
    "        bar.update(1)"
   ]
  },
  {
   "cell_type": "code",
   "execution_count": 23,
   "id": "electoral-teach",
   "metadata": {},
   "outputs": [
    {
     "name": "stdout",
     "output_type": "stream",
     "text": [
      "Elapsed time: 0:33:37.087409\n"
     ]
    }
   ],
   "source": [
    "print('Elapsed time:', dt.datetime.now() - START_DT)"
   ]
  }
 ],
 "metadata": {
  "kernelspec": {
   "display_name": "Python 3",
   "language": "python",
   "name": "python3"
  },
  "language_info": {
   "codemirror_mode": {
    "name": "ipython",
    "version": 3
   },
   "file_extension": ".py",
   "mimetype": "text/x-python",
   "name": "python",
   "nbconvert_exporter": "python",
   "pygments_lexer": "ipython3",
   "version": "3.7.9"
  }
 },
 "nbformat": 4,
 "nbformat_minor": 5
}
