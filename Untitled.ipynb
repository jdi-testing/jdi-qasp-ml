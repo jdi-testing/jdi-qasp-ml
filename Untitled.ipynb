{
 "cells": [
  {
   "cell_type": "code",
   "execution_count": 1,
   "id": "super-stocks",
   "metadata": {},
   "outputs": [],
   "source": [
    "import selenium\n",
    "from selenium.webdriver.chrome.options import Options\n",
    "import os"
   ]
  },
  {
   "cell_type": "code",
   "execution_count": 2,
   "id": "theoretical-belief",
   "metadata": {},
   "outputs": [],
   "source": [
    "options = Options()\n",
    "options.add_argument('--disable-gpu')  # Last I checked this was necessary.\n",
    "options.add_argument('--skip-js-errors')\n",
    "options.set_capability(\"platformName\", \"windows\")\n",
    "#options.add_argument('--headless')\n",
    " "
   ]
  },
  {
   "cell_type": "code",
   "execution_count": 3,
   "id": "rising-morgan",
   "metadata": {},
   "outputs": [],
   "source": [
    "chrome_driver_path = os.path.join(os.getcwd(), 'chromedriver.exe')"
   ]
  },
  {
   "cell_type": "code",
   "execution_count": 4,
   "id": "ranking-trunk",
   "metadata": {},
   "outputs": [],
   "source": [
    "driver = selenium.webdriver.Chrome(executable_path=chrome_driver_path, options=options)\n",
    "driver.maximize_window()"
   ]
  },
  {
   "cell_type": "code",
   "execution_count": 5,
   "id": "sudden-ability",
   "metadata": {},
   "outputs": [],
   "source": [
    "driver.get('https://www.cnews.ru')"
   ]
  },
  {
   "cell_type": "code",
   "execution_count": null,
   "id": "matched-pastor",
   "metadata": {},
   "outputs": [],
   "source": []
  }
 ],
 "metadata": {
  "kernelspec": {
   "display_name": "Python 3",
   "language": "python",
   "name": "python3"
  },
  "language_info": {
   "codemirror_mode": {
    "name": "ipython",
    "version": 3
   },
   "file_extension": ".py",
   "mimetype": "text/x-python",
   "name": "python",
   "nbconvert_exporter": "python",
   "pygments_lexer": "ipython3",
   "version": "3.7.9"
  }
 },
 "nbformat": 4,
 "nbformat_minor": 5
}
