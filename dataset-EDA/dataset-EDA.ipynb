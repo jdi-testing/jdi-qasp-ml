{
 "cells": [
  {
   "cell_type": "code",
   "execution_count": 1,
   "id": "a6ed5ce4",
   "metadata": {},
   "outputs": [
    {
     "name": "stdout",
     "output_type": "stream",
     "text": [
      "2021-06-15 20:49:06,419 -INFO - config:config.py:16 - Module utils.config was loaded\n",
      "2021-06-15 20:49:06,419 -INFO - common:common.py:618 - Module utils.common is loaded...\n",
      "2021-06-15 20:49:06,419 -INFO - hidden:hidden.py:121 - hidden module is loaded\n",
      "2021-06-15 20:49:06,722 -INFO - dataset_builder:dataset_builder.py:207 - dataset package is loaded...\n",
      "2021-06-15 20:49:07,087 -INFO - dataset:dataset.py:653 - dataset module is loaded...\n"
     ]
    },
    {
     "data": {
      "text/html": [
       "2021-06-15 20:49:07.088691 - Current working directory: <b>D:\\DataScience\\!WORK\\jdi-qasp-ml</b>"
      ],
      "text/plain": [
       "<IPython.core.display.HTML object>"
      ]
     },
     "metadata": {},
     "output_type": "display_data"
    }
   ],
   "source": [
    "import sys\n",
    "import re\n",
    "import os\n",
    "from datetime import datetime\n",
    "from time import sleep\n",
    "from IPython.display import display, clear_output, HTML\n",
    "import logging\n",
    "\n",
    "# set working dir\n",
    "WORKING_DIR = re.sub('jdi-qasp-ml.*$','',os.path.normpath(os.getcwd())) + 'jdi-qasp-ml'\n",
    "os.chdir(WORKING_DIR)\n",
    "\n",
    "import utils\n",
    "from utils import *\n",
    "import torch\n",
    "import pandas as pd\n",
    "import numpy as np\n",
    "import torch\n",
    "from glob import glob\n",
    "import selenium\n",
    "from tqdm.auto import tqdm, trange\n",
    "\n",
    "START_TS = datetime.now()\n",
    "display(HTML(f'{START_TS} - Current working directory: <b>{WORKING_DIR}</b>'))\n",
    "\n",
    "import matplotlib.pyplot as plt\n",
    "import matplotlib.patches as patches\n",
    "%matplotlib inline\n",
    "from scipy.sparse import csc_matrix, csr_matrix\n",
    "\n",
    "import numba\n"
   ]
  },
  {
   "cell_type": "code",
   "execution_count": 2,
   "id": "a88157df",
   "metadata": {},
   "outputs": [],
   "source": [
    "from sklearn.preprocessing import OneHotEncoder\n",
    "from sklearn.feature_extraction.text import CountVectorizer, TfidfVectorizer\n",
    "\n"
   ]
  },
  {
   "cell_type": "code",
   "execution_count": 3,
   "id": "2ba16f09",
   "metadata": {},
   "outputs": [],
   "source": [
    "datasets = JDIDataset.gen_dataset_names()\n",
    "# datasets  "
   ]
  },
  {
   "cell_type": "code",
   "execution_count": 4,
   "id": "70701c8d",
   "metadata": {},
   "outputs": [],
   "source": [
    "logger.setLevel(logging.WARNING)"
   ]
  },
  {
   "cell_type": "code",
   "execution_count": 5,
   "id": "155c9a31",
   "metadata": {
    "scrolled": false
   },
   "outputs": [
    {
     "data": {
      "application/vnd.jupyter.widget-view+json": {
       "model_id": "7c682bb3c33d476c946d3694884256f5",
       "version_major": 2,
       "version_minor": 0
      },
      "text/plain": [
       "  0%|          | 0/42 [00:00<?, ?it/s]"
      ]
     },
     "metadata": {},
     "output_type": "display_data"
    },
    {
     "name": "stdout",
     "output_type": "stream",
     "text": [
      "skip: ('dataset/annotations/ac-avto161.txt', 'dataset/df/ac-avto161.parquet')\n"
     ]
    }
   ],
   "source": [
    "ds_list = []\n",
    "with trange(len(datasets)) as bar:\n",
    "    for ds in datasets:\n",
    "        bar.set_postfix_str(f'Processing dataset: \"{ds}\"')\n",
    "        df_file_path = f'dataset/df/{ds}.parquet'\n",
    "        ann_file_path = f'dataset/annotations/{ds}.txt'\n",
    "        \n",
    "        if not os.path.exists(ann_file_path):\n",
    "            print('skip:', (ann_file_path, df_file_path))\n",
    "        else:\n",
    "            df = pd.read_parquet(df_file_path)\n",
    "            df = build_features(df)\n",
    "            df = assign_labels(df=df, annotations_file_path=ann_file_path)\n",
    "            ds_list.append(df)\n",
    "            \n",
    "        bar.update(1)\n",
    "\n",
    "df = pd.concat(ds_list).copy()"
   ]
  },
  {
   "cell_type": "code",
   "execution_count": 6,
   "id": "163393fa",
   "metadata": {},
   "outputs": [
    {
     "data": {
      "text/plain": [
       "4773"
      ]
     },
     "execution_count": 6,
     "metadata": {},
     "output_type": "execute_result"
    }
   ],
   "source": [
    "df[df.label_text != 'n/a'].shape[0]"
   ]
  },
  {
   "cell_type": "code",
   "execution_count": 7,
   "id": "52e6a665",
   "metadata": {},
   "outputs": [
    {
     "data": {
      "text/plain": [
       "n/a                 43193\n",
       "link                 2410\n",
       "button               1411\n",
       "checkbox              246\n",
       "textfield             213\n",
       "radiobutton           130\n",
       "selector               82\n",
       "datetimeselector       34\n",
       "table                  32\n",
       "slider-toggle          30\n",
       "slider                 29\n",
       "tab                    27\n",
       "dropdown               27\n",
       "textarea               23\n",
       "progressbar            21\n",
       "range                  18\n",
       "tree-node              11\n",
       "fileinput               8\n",
       "steper                  7\n",
       "colorpicker             6\n",
       "iframe                  5\n",
       "numberselector          3\n",
       "Name: label_text, dtype: int64"
      ]
     },
     "execution_count": 7,
     "metadata": {},
     "output_type": "execute_result"
    }
   ],
   "source": [
    "df.label_text.value_counts()"
   ]
  },
  {
   "cell_type": "code",
   "execution_count": 8,
   "id": "76d20aa1",
   "metadata": {},
   "outputs": [
    {
     "data": {
      "text/plain": [
       "DIV                               12932\n",
       "SPAN                               9201\n",
       "A                                  3908\n",
       "TD                                 2775\n",
       "LI                                 1973\n",
       "                                  ...  \n",
       "FORM-FIELD-ERROR-EXAMPLE              1\n",
       "ICON-OVERVIEW-EXAMPLE                 1\n",
       "MAT-CARD-TITLE                        1\n",
       "SIDENAV-DISABLE-CLOSE-EXAMPLE         1\n",
       "BUTTON-TOGGLE-OVERVIEW-EXAMPLE        1\n",
       "Name: tag_name, Length: 308, dtype: int64"
      ]
     },
     "execution_count": 8,
     "metadata": {},
     "output_type": "execute_result"
    }
   ],
   "source": [
    "df.tag_name.value_counts()"
   ]
  },
  {
   "cell_type": "markdown",
   "id": "5a5e6963",
   "metadata": {},
   "source": [
    "# tag_name"
   ]
  },
  {
   "cell_type": "code",
   "execution_count": 9,
   "id": "a99e6154",
   "metadata": {},
   "outputs": [
    {
     "data": {
      "text/plain": [
       "A                    2305\n",
       "DIV                   971\n",
       "BUTTON                515\n",
       "INPUT                 493\n",
       "LABEL                  86\n",
       "SPAN                   77\n",
       "LI                     54\n",
       "SELECT                 52\n",
       "P                      44\n",
       "MAT-RADIO-BUTTON       28\n",
       "TABLE                  24\n",
       "MAT-CHECKBOX           23\n",
       "TEXTAREA               22\n",
       "MAT-SELECT             21\n",
       "SVG                    13\n",
       "MAT-TREE-NODE           8\n",
       "IMG                     8\n",
       "IFRAME                  5\n",
       "MAT-BUTTON-TOGGLE       5\n",
       "MAT-SLIDER              5\n",
       "MAT-SLIDE-TOGGLE        3\n",
       "CIRCLE                  2\n",
       "PROGRESS                2\n",
       "RECT                    2\n",
       "H5                      1\n",
       "I                       1\n",
       "G                       1\n",
       "H2                      1\n",
       "MAT-TABLE               1\n",
       "Name: tag_name, dtype: int64"
      ]
     },
     "metadata": {},
     "output_type": "display_data"
    }
   ],
   "source": [
    "tag_name_series = df[df.label_text != 'n/a'].tag_name.value_counts()\n",
    "display(tag_name_series)\n",
    "tag_name_set = set(tag_name_series.index)"
   ]
  },
  {
   "cell_type": "code",
   "execution_count": 10,
   "id": "1c37d9e4",
   "metadata": {},
   "outputs": [
    {
     "data": {
      "text/plain": [
       "OneHotEncoder(categories=[['H5', 'INPUT', 'SELECT', 'MAT-RADIO-BUTTON', 'SVG',\n",
       "                           'CIRCLE', 'I', 'MAT-TREE-NODE', 'G', 'RECT',\n",
       "                           'TEXTAREA', 'H2', 'MAT-TABLE', 'A', 'TABLE',\n",
       "                           'IFRAME', 'MAT-SELECT', 'BUTTON', 'LI',\n",
       "                           'MAT-SLIDE-TOGGLE', 'PROGRESS', 'MAT-CHECKBOX',\n",
       "                           'MAT-BUTTON-TOGGLE', 'MAT-SLIDER', 'DIV', 'SPAN',\n",
       "                           'LABEL', 'IMG', 'P']],\n",
       "              handle_unknown='ignore')"
      ]
     },
     "execution_count": 10,
     "metadata": {},
     "output_type": "execute_result"
    }
   ],
   "source": [
    "tag_name_ohe = OneHotEncoder(handle_unknown='ignore', categories=[list(tag_name_set)])\n",
    "tag_name_ohe"
   ]
  },
  {
   "cell_type": "code",
   "execution_count": 11,
   "id": "39a729e8",
   "metadata": {},
   "outputs": [
    {
     "data": {
      "text/plain": [
       "array([['HTML'],\n",
       "       ['HEAD'],\n",
       "       ['TITLE'],\n",
       "       ...,\n",
       "       ['SCRIPT'],\n",
       "       ['SCRIPT'],\n",
       "       ['SCRIPT']], dtype=object)"
      ]
     },
     "execution_count": 11,
     "metadata": {},
     "output_type": "execute_result"
    }
   ],
   "source": [
    "np.expand_dims(df.tag_name.values, -1)"
   ]
  },
  {
   "cell_type": "code",
   "execution_count": 12,
   "id": "40b37554",
   "metadata": {},
   "outputs": [
    {
     "data": {
      "text/plain": [
       "OneHotEncoder(categories=[['H5', 'INPUT', 'SELECT', 'MAT-RADIO-BUTTON', 'SVG',\n",
       "                           'CIRCLE', 'I', 'MAT-TREE-NODE', 'G', 'RECT',\n",
       "                           'TEXTAREA', 'H2', 'MAT-TABLE', 'A', 'TABLE',\n",
       "                           'IFRAME', 'MAT-SELECT', 'BUTTON', 'LI',\n",
       "                           'MAT-SLIDE-TOGGLE', 'PROGRESS', 'MAT-CHECKBOX',\n",
       "                           'MAT-BUTTON-TOGGLE', 'MAT-SLIDER', 'DIV', 'SPAN',\n",
       "                           'LABEL', 'IMG', 'P']],\n",
       "              handle_unknown='ignore')"
      ]
     },
     "execution_count": 12,
     "metadata": {},
     "output_type": "execute_result"
    }
   ],
   "source": [
    "tag_name_ohe.fit(np.expand_dims(df[df.label_text != 'n/a'].tag_name.values, -1))"
   ]
  },
  {
   "cell_type": "code",
   "execution_count": 13,
   "id": "129d7e86",
   "metadata": {},
   "outputs": [
    {
     "data": {
      "text/plain": [
       "<47966x29 sparse matrix of type '<class 'numpy.float64'>'\n",
       "\twith 34389 stored elements in Compressed Sparse Row format>"
      ]
     },
     "execution_count": 13,
     "metadata": {},
     "output_type": "execute_result"
    }
   ],
   "source": [
    "tag_name_sm = tag_name_ohe.transform(np.expand_dims(df.tag_name.values, -1))\n",
    "tag_name_sm"
   ]
  },
  {
   "cell_type": "code",
   "execution_count": 14,
   "id": "6696ee71",
   "metadata": {},
   "outputs": [
    {
     "name": "stdout",
     "output_type": "stream",
     "text": [
      "2021-06-15 20:49:39,231 -INFO - features_builder:features_builder.py:216 - loading model/ohe_tag_name.pkl\n"
     ]
    },
    {
     "data": {
      "text/plain": [
       "<47966x29 sparse matrix of type '<class 'numpy.float64'>'\n",
       "\twith 34389 stored elements in Compressed Sparse Row format>"
      ]
     },
     "execution_count": 14,
     "metadata": {},
     "output_type": "execute_result"
    }
   ],
   "source": [
    "logger.setLevel(logging.DEBUG)\n",
    "tag_name_sm = build_tag_name_feature(df)\n",
    "tag_name_sm"
   ]
  },
  {
   "cell_type": "markdown",
   "id": "e1a115b5",
   "metadata": {},
   "source": [
    "# attributes.role"
   ]
  },
  {
   "cell_type": "code",
   "execution_count": 15,
   "id": "b5512a64",
   "metadata": {},
   "outputs": [
    {
     "data": {
      "text/plain": [
       "               3843\n",
       "button          820\n",
       "tab              34\n",
       "listbox          21\n",
       "combobox         15\n",
       "grid             12\n",
       "switch            9\n",
       "group             8\n",
       "slider            5\n",
       "option            3\n",
       "progressbar       3\n",
       "Name: attributes, dtype: int64"
      ]
     },
     "execution_count": 15,
     "metadata": {},
     "output_type": "execute_result"
    }
   ],
   "source": [
    "attr_role_series = df[df.label_text != 'n/a'].attributes.apply(lambda x: None if x is None else x.get('role')).fillna('')\n",
    "attr_role_series.value_counts()"
   ]
  },
  {
   "cell_type": "code",
   "execution_count": 16,
   "id": "2eb7b7f6",
   "metadata": {},
   "outputs": [
    {
     "data": {
      "text/plain": [
       "OneHotEncoder(handle_unknown='ignore')"
      ]
     },
     "execution_count": 16,
     "metadata": {},
     "output_type": "execute_result"
    }
   ],
   "source": [
    "attr_role_ohe = OneHotEncoder(handle_unknown='ignore').fit(np.expand_dims(attr_role_series.values, -1))\n",
    "attr_role_ohe"
   ]
  },
  {
   "cell_type": "code",
   "execution_count": 17,
   "id": "fe88f98b",
   "metadata": {},
   "outputs": [
    {
     "data": {
      "text/plain": [
       "<47966x11 sparse matrix of type '<class 'numpy.float64'>'\n",
       "\twith 46773 stored elements in Compressed Sparse Row format>"
      ]
     },
     "execution_count": 17,
     "metadata": {},
     "output_type": "execute_result"
    }
   ],
   "source": [
    "attr_role_sm = attr_role_ohe.transform(\n",
    "    np.expand_dims(\n",
    "        df.attributes.apply(lambda x: None if x is None else x.get('role')).fillna(''),\n",
    "        -1\n",
    "    )\n",
    ")\n",
    "attr_role_sm"
   ]
  },
  {
   "cell_type": "code",
   "execution_count": 18,
   "id": "f5ffc0e7",
   "metadata": {},
   "outputs": [
    {
     "name": "stdout",
     "output_type": "stream",
     "text": [
      "2021-06-15 20:49:39,359 -INFO - features_builder:features_builder.py:238 - loading model/ohe_role.pkl\n"
     ]
    },
    {
     "data": {
      "text/plain": [
       "<47966x11 sparse matrix of type '<class 'numpy.float64'>'\n",
       "\twith 46773 stored elements in Compressed Sparse Row format>"
      ]
     },
     "execution_count": 18,
     "metadata": {},
     "output_type": "execute_result"
    }
   ],
   "source": [
    "logger.setLevel(logging.DEBUG)\n",
    "role_sm = build_role_feature(df)\n",
    "role_sm"
   ]
  },
  {
   "cell_type": "markdown",
   "id": "a9f444ad",
   "metadata": {},
   "source": [
    "# attributes.type"
   ]
  },
  {
   "cell_type": "code",
   "execution_count": 19,
   "id": "7bb5c77e",
   "metadata": {},
   "outputs": [
    {
     "data": {
      "text/plain": [
       "                  3964\n",
       "button             345\n",
       "checkbox           151\n",
       "text               102\n",
       "submit              41\n",
       "number              34\n",
       "radio               31\n",
       "range               27\n",
       "search              15\n",
       "email               13\n",
       "password            13\n",
       "file                 9\n",
       "color                5\n",
       "reset                5\n",
       "month                3\n",
       "week                 3\n",
       "date                 3\n",
       "time                 3\n",
       "datetime-local       3\n",
       "tel                  2\n",
       "url                  1\n",
       "Name: attributes, dtype: int64"
      ]
     },
     "execution_count": 19,
     "metadata": {},
     "output_type": "execute_result"
    }
   ],
   "source": [
    "attr_type_series = df[df.label_text != 'n/a'].attributes.apply(lambda x: None if x is None else x.get('type')).fillna('')\n",
    "attr_type_series.value_counts()"
   ]
  },
  {
   "cell_type": "code",
   "execution_count": 20,
   "id": "2b4c430e",
   "metadata": {},
   "outputs": [
    {
     "data": {
      "text/plain": [
       "OneHotEncoder(handle_unknown='ignore')"
      ]
     },
     "execution_count": 20,
     "metadata": {},
     "output_type": "execute_result"
    }
   ],
   "source": [
    "attr_type_ohe = OneHotEncoder(handle_unknown='ignore').fit(np.expand_dims(attr_type_series.values, -1))\n",
    "attr_type_ohe"
   ]
  },
  {
   "cell_type": "code",
   "execution_count": 21,
   "id": "a022c066",
   "metadata": {},
   "outputs": [
    {
     "data": {
      "text/plain": [
       "<47966x21 sparse matrix of type '<class 'numpy.float64'>'\n",
       "\twith 47703 stored elements in Compressed Sparse Row format>"
      ]
     },
     "execution_count": 21,
     "metadata": {},
     "output_type": "execute_result"
    }
   ],
   "source": [
    "attr_type_sm = attr_type_ohe.transform(\n",
    "    np.expand_dims(\n",
    "        df.attributes.apply(lambda x: None if x is None else x.get('type')).fillna(''),\n",
    "        -1\n",
    "    )\n",
    ")\n",
    "attr_type_sm"
   ]
  },
  {
   "cell_type": "code",
   "execution_count": 22,
   "id": "57d74102",
   "metadata": {},
   "outputs": [
    {
     "name": "stdout",
     "output_type": "stream",
     "text": [
      "2021-06-15 20:49:39,508 -INFO - features_builder:features_builder.py:269 - Building OHE for \"type\"\n",
      "2021-06-15 20:49:39,518 -INFO - features_builder:features_builder.py:275 - OHE \"type\" categories: auto\n",
      "2021-06-15 20:49:39,519 -INFO - features_builder:features_builder.py:277 - Saving model/ohe_type.pkl\n"
     ]
    },
    {
     "data": {
      "text/plain": [
       "<47966x21 sparse matrix of type '<class 'numpy.float64'>'\n",
       "\twith 47703 stored elements in Compressed Sparse Row format>"
      ]
     },
     "execution_count": 22,
     "metadata": {},
     "output_type": "execute_result"
    }
   ],
   "source": [
    "logger.setLevel(logging.DEBUG)\n",
    "type_sm = build_type_feature(df)\n",
    "type_sm"
   ]
  },
  {
   "cell_type": "markdown",
   "id": "1f27426c",
   "metadata": {},
   "source": [
    "# attributes.ui"
   ]
  },
  {
   "cell_type": "code",
   "execution_count": 20,
   "id": "e2e1f29a",
   "metadata": {},
   "outputs": [
    {
     "data": {
      "text/plain": [
       "               4714\n",
       "label            40\n",
       "furniture         5\n",
       "d-table           3\n",
       "table             3\n",
       "github-link       2\n",
       "dropdown          2\n",
       "products          1\n",
       "textarea          1\n",
       "products-2        1\n",
       "link              1\n",
       "Name: attributes, dtype: int64"
      ]
     },
     "execution_count": 20,
     "metadata": {},
     "output_type": "execute_result"
    }
   ],
   "source": [
    "attr_ui_series = df[df.label_text != 'n/a'].attributes.apply(lambda x: None if x is None else x.get('ui')).fillna('')\n",
    "attr_ui_series.value_counts()"
   ]
  },
  {
   "cell_type": "code",
   "execution_count": 21,
   "id": "f235e9ae",
   "metadata": {},
   "outputs": [
    {
     "data": {
      "text/plain": [
       "OneHotEncoder(handle_unknown='ignore')"
      ]
     },
     "execution_count": 21,
     "metadata": {},
     "output_type": "execute_result"
    }
   ],
   "source": [
    "attr_ui_ohe = OneHotEncoder(handle_unknown='ignore').fit(np.expand_dims(attr_ui_series.values, -1))\n",
    "attr_ui_ohe"
   ]
  },
  {
   "cell_type": "code",
   "execution_count": 22,
   "id": "5e147c07",
   "metadata": {},
   "outputs": [
    {
     "data": {
      "text/plain": [
       "<47966x11 sparse matrix of type '<class 'numpy.float64'>'\n",
       "\twith 47957 stored elements in Compressed Sparse Row format>"
      ]
     },
     "execution_count": 22,
     "metadata": {},
     "output_type": "execute_result"
    }
   ],
   "source": [
    "attr_ui_sm = attr_ui_ohe.transform(\n",
    "    np.expand_dims(\n",
    "        df.attributes.apply(lambda x: None if x is None else x.get('ui')).fillna(''),\n",
    "        -1\n",
    "    )\n",
    ")\n",
    "attr_ui_sm"
   ]
  },
  {
   "cell_type": "markdown",
   "id": "3cbafdef",
   "metadata": {},
   "source": [
    "# attributes.class"
   ]
  },
  {
   "cell_type": "code",
   "execution_count": 23,
   "id": "51bd929b",
   "metadata": {},
   "outputs": [
    {
     "data": {
      "text/plain": [
       "                                                                                                                                         1410\n",
       "MuiButtonBase-root MuiListItem-root MuiListItem-gutters MuiListItem-button                                                                796\n",
       "news-link                                                                                                                                 165\n",
       "_1-6r                                                                                                                                     130\n",
       "_1V0q                                                                                                                                     103\n",
       "                                                                                                                                         ... \n",
       "btn btn-primary btn-lg                                                                                                                      1\n",
       "mat-input-element mat-form-field-autofill-control ng-tns-c95-39 cdk-text-field-autofill-monitored ng-untouched ng-pristine ng-invalid       1\n",
       "tv_video_desc                                                                                                                               1\n",
       "mat-form-field-infix ng-tns-c95-131                                                                                                         1\n",
       "mat-focus-indicator mat-mini-fab mat-button-base mat-primary                                                                                1\n",
       "Name: attributes, Length: 558, dtype: int64"
      ]
     },
     "execution_count": 23,
     "metadata": {},
     "output_type": "execute_result"
    }
   ],
   "source": [
    "attr_class_series = df[df.label_text != 'n/a'].attributes.apply(lambda x: None if x is None else x.get('class')).fillna('')\n",
    "attr_class_series.value_counts()"
   ]
  },
  {
   "cell_type": "code",
   "execution_count": 24,
   "id": "04c4bb70",
   "metadata": {},
   "outputs": [],
   "source": [
    "class_cv = CountVectorizer()"
   ]
  },
  {
   "cell_type": "code",
   "execution_count": 25,
   "id": "1fefe837",
   "metadata": {},
   "outputs": [
    {
     "data": {
      "text/plain": [
       "CountVectorizer()"
      ]
     },
     "execution_count": 25,
     "metadata": {},
     "output_type": "execute_result"
    }
   ],
   "source": [
    "class_cv.fit(attr_class_series.values)"
   ]
  },
  {
   "cell_type": "code",
   "execution_count": 26,
   "id": "eac9edb1",
   "metadata": {},
   "outputs": [
    {
     "name": "stdout",
     "output_type": "stream",
     "text": [
      "363\n",
      "['above', 'accent', 'account', 'action', 'active', 'add', 'alert', 'align', 'all', 'anchorjs', 'ani', 'ant', 'appearance', 'arrow', 'autocomplete', 'autofill', 'autosize', 'badge', 'bannerclose', 'bar', 'base', 'before', 'benefits', 'black', 'block', 'blue', 'body', 'bold', 'border', 'bottom', 'brand', 'breaking', 'btn', 'btnprimary', 'buffer', 'button', 'buttonlink', 'buttonnew', 'buttontext', 'buy', 'carbon', 'card', 'carousel', 'cascader', 'cat', 'cdk', 'center', 'change', 'char', 'check', 'checkbox', 'checked', 'checkmark', 'children', 'chip', 'circle', 'circledisableshrink', 'circleindeterminate', 'click', 'clipboard', 'close', 'cnb', 'cnm', 'collapsed', 'colorprimary', 'colorsecondary', 'column', 'company', 'comparisons', 'contained', 'containedprimary', 'containedsecondary', 'containedsizelarge', 'containedsizesmall', 'container', 'content', 'control', 'corner', 'cta', 'current', 'custom', 'danger', 'dark', 'dashed', 'dashedcolorprimary', 'datatable', 'default', 'delete', 'dense', 'determinate', 'disabled', 'document', 'dot', 'down', 'download', 'drop', 'dropdown', 'dynamic', 'edgeend', 'effect', 'eid', 'element', 'elevation', 'empty', 'example', 'expand', 'extended', 'external', 'fab', 'field', 'file', 'fileinput', 'filled', 'filter', 'filters', 'first', 'flat', 'flex', 'focus', 'follow', 'footer', 'form', 'forworkbutton', 'forworklink', 'fullwidth', 'glyph', 'green', 'grey', 'grid', 'group', 'grouped', 'groupedcontained', 'groupedcontainedhorizontal', 'groupedcontainedprimary', 'groupedcontainedvertical', 'groupedhorizontal', 'groupedoutlined', 'groupedoutlinedhorizontal', 'groupedoutlinedprimary', 'groupedvertical', 'grow', 'gutters', 'handle', 'has', 'header', 'helplink', 'hero', 'hlvc', 'horiz', 'horizontal', 'hover', 'html', 'icon', 'iframe', 'image', 'img', 'indeterminate', 'indicator', 'infix', 'info', 'inline', 'innovations', 'input', 'inputadornedend', 'inputadornedstart', 'inputmargindense', 'inputmultiline', 'inputs', 'inputtypesearch', 'inserted', 'invalid', 'item', 'items', 'jump', 'label', 'labelplacementbottom', 'labelplacementstart', 'labelplacementtop', 'last', 'lavender', 'lazyloaded', 'learn', 'light', 'link', 'links', 'list', 'login', 'logo', 'low', 'main', 'margin', 'marked', 'mat', 'max', 'mdl', 'medium', 'menu', 'min', 'mini', 'mni', 'monitored', 'more', 'mui', 'muibox', 'muibutton', 'muibuttonbase', 'muibuttongroup', 'muicircularprogress', 'muifab', 'muifilledinput', 'muiformcontrollabel', 'muiiconbutton', 'muiinput', 'muiinputbase', 'muilinearprogress', 'muilistitem', 'muilistsubheader', 'muinativeselect', 'muioutlinedinput', 'muiselect', 'muislider', 'muiswitch', 'muitab', 'muitypography', 'multiselect', 'muted', 'name', 'nativeinput', 'nav', 'navbar', 'navigation', 'new', 'news', 'next', 'node', 'none', 'ntl', 'ocparticlelink', 'ocpexternallink', 'ocpimagelink', 'ocplinkwithimage', 'oneplayer', 'orange', 'other', 'outline', 'outlined', 'outlinedprimary', 'overflow', 'overlap', 'overlay', 'owl', 'page', 'pages', 'pagination', 'paginator', 'paging', 'per', 'photo', 'plain', 'position', 'postname', 'poweredby', 'prev', 'previous', 'primary', 'pristine', 'profile', 'progress', 'radio', 'raised', 'range', 'records', 'red', 'release', 'required', 'resource', 'right', 'ripple', 'root', 'rounded', 'row', 'scroll', 'search', 'secondary', 'secondaryaction', 'see', 'seemore', 'select', 'selected', 'selection', 'selectmenu', 'selectpicker', 'sgl', 'showing', 'sign', 'signuplink', 'sizelarge', 'sizesmall', 'slick', 'slide', 'slider', 'small', 'sort', 'source', 'stage', 'standard', 'star', 'state', 'static', 'step', 'stk', 'stripe', 'stroked', 'success', 'suphomeandlandingpagecta', 'suphomeandlandingpagectabutton', 'suphomeandlandingpagefooterelementcalltoaction', 'suphomeandlandingpagesearchbox', 'suphomeandlandingpagesearchbutton', 'suphomepageiconmorelink', 'svg', 'switch', 'switchbase', 'tab', 'table', 'target', 'tbl', 'technoblog', 'testic', 'text', 'textarea', 'textcolorprimary', 'textprimary', 'textsecondary', 'thumb', 'ticks', 'tile', 'tizer', 'tns', 'toggle', 'toggleoptions', 'toggler', 'topnavdropdownlink', 'topnavdropdowntrigger', 'track', 'tree', 'trigger', 'uhf', 'uhff', 'uhflogo', 'untouched', 'upload', 'userpic', 'uui', 'valid', 'value', 'vertical', 'video', 'violet', 'warn', 'widget', 'without', 'wrapper']\n"
     ]
    }
   ],
   "source": [
    "vocabulary = sorted([v for v in class_cv.vocabulary_.keys() if re.match(r'^[a-z]+$',v ) and len(v) > 2])\n",
    "print(len(vocabulary))\n",
    "print(vocabulary)"
   ]
  },
  {
   "cell_type": "code",
   "execution_count": 27,
   "id": "da3fd1e3",
   "metadata": {},
   "outputs": [
    {
     "data": {
      "text/plain": [
       "CountVectorizer(vocabulary=['above', 'accent', 'account', 'action', 'active',\n",
       "                            'add', 'alert', 'align', 'all', 'anchorjs', 'ani',\n",
       "                            'ant', 'appearance', 'arrow', 'autocomplete',\n",
       "                            'autofill', 'autosize', 'badge', 'bannerclose',\n",
       "                            'bar', 'base', 'before', 'benefits', 'black',\n",
       "                            'block', 'blue', 'body', 'bold', 'border', 'bottom', ...])"
      ]
     },
     "execution_count": 27,
     "metadata": {},
     "output_type": "execute_result"
    }
   ],
   "source": [
    "attr_class_cv = CountVectorizer(vocabulary=vocabulary) #.fit(attr_class_series.values)\n",
    "attr_class_cv"
   ]
  },
  {
   "cell_type": "code",
   "execution_count": 28,
   "id": "c17cce12",
   "metadata": {},
   "outputs": [
    {
     "data": {
      "text/plain": [
       "<4773x363 sparse matrix of type '<class 'numpy.int64'>'\n",
       "\twith 11807 stored elements in Compressed Sparse Row format>"
      ]
     },
     "execution_count": 28,
     "metadata": {},
     "output_type": "execute_result"
    }
   ],
   "source": [
    "attr_class_sm = attr_class_cv.transform(attr_class_series.values)\n",
    "attr_class_mx = attr_class_sm.todense()\n",
    "attr_class_sm"
   ]
  },
  {
   "cell_type": "code",
   "execution_count": 29,
   "id": "e834c145",
   "metadata": {},
   "outputs": [
    {
     "data": {
      "text/plain": [
       "matrix([[0, 0, 0, 0, 0, 0, 0, 0, 0, 0, 0, 0, 0, 0, 0, 0, 0, 0, 0, 0, 0,\n",
       "         0, 0, 0, 0, 0, 0, 0, 0, 0, 0, 0, 0, 0, 0, 0, 0, 0, 0, 0, 0, 0,\n",
       "         0, 0, 0, 0, 0, 0, 0, 0, 0, 0, 0, 0, 0, 0, 0, 0, 0, 0, 0, 0, 0,\n",
       "         0, 0, 0, 0, 0, 0, 0, 0, 0, 0, 0, 0, 0, 0, 0, 0, 0, 0, 0, 0, 0,\n",
       "         0, 0, 0, 0, 0, 0, 0, 0, 0, 0, 0, 0, 0, 0, 0, 0, 0, 0, 0, 0, 0,\n",
       "         0, 0, 0, 0, 0, 0, 0, 0, 0, 0, 0, 0, 0, 0, 0, 0, 0, 0, 0, 0, 0,\n",
       "         0, 0, 0, 0, 0, 0, 0, 0, 0, 0, 0, 0, 0, 0, 0, 0, 0, 0, 0, 0, 0,\n",
       "         0, 0, 0, 0, 0, 0, 0, 0, 0, 0, 0, 0, 0, 0, 0, 0, 0, 0, 0, 0, 0,\n",
       "         0, 0, 0, 0, 0, 0, 0, 0, 0, 0, 0, 0, 0, 0, 0, 0, 0, 0, 0, 0, 0,\n",
       "         0, 0, 0, 0, 0, 0, 0, 0, 0, 0, 0, 0, 0, 0, 0, 0, 0, 0, 0, 0, 0,\n",
       "         0, 0, 0, 0, 0, 0, 0, 0, 0, 0, 0, 0, 0, 0, 0, 0, 0, 0, 0, 0, 0,\n",
       "         0, 0, 0, 0, 0, 0, 0, 0, 0, 0, 0, 0, 0, 0, 0, 0, 0, 0, 0, 0, 0,\n",
       "         0, 0, 0, 0, 0, 0, 0, 0, 0, 0, 0, 0, 0, 0, 0, 0, 0, 0, 0, 0, 0,\n",
       "         0, 0, 0, 0, 0, 0, 0, 0, 0, 0, 0, 0, 0, 0, 0, 0, 0, 0, 0, 0, 0,\n",
       "         0, 0, 0, 0, 0, 0, 0, 0, 0, 0, 0, 0, 0, 0, 0, 0, 0, 0, 0, 0, 0,\n",
       "         0, 0, 0, 0, 0, 0, 0, 0, 0, 0, 0, 0, 0, 0, 0, 0, 0, 0, 0, 0, 0,\n",
       "         0, 0, 0, 0, 0, 0, 0, 0, 0, 0, 0, 0, 0, 0, 0, 0, 0, 0, 0, 0, 0,\n",
       "         0, 0, 0, 0, 0, 0]], dtype=int64)"
      ]
     },
     "execution_count": 29,
     "metadata": {},
     "output_type": "execute_result"
    }
   ],
   "source": [
    "attr_class_mx[10]"
   ]
  },
  {
   "cell_type": "code",
   "execution_count": 30,
   "id": "2bce06af",
   "metadata": {},
   "outputs": [],
   "source": [
    "attr_class_tfidf = TfidfVectorizer(vocabulary=vocabulary).fit(attr_class_series.values)"
   ]
  },
  {
   "cell_type": "code",
   "execution_count": 31,
   "id": "9fb72081",
   "metadata": {},
   "outputs": [
    {
     "data": {
      "text/plain": [
       "(<4773x363 sparse matrix of type '<class 'numpy.float64'>'\n",
       " \twith 11807 stored elements in Compressed Sparse Row format>,\n",
       " scipy.sparse.csr.csr_matrix)"
      ]
     },
     "execution_count": 31,
     "metadata": {},
     "output_type": "execute_result"
    }
   ],
   "source": [
    "attr_class_sm = attr_class_tfidf.transform(attr_class_series.values)\n",
    "attr_class_mx = attr_class_sm.todense()\n",
    "attr_class_sm, type(attr_class_sm)"
   ]
  },
  {
   "cell_type": "code",
   "execution_count": 32,
   "id": "31fbc527",
   "metadata": {},
   "outputs": [
    {
     "name": "stdout",
     "output_type": "stream",
     "text": [
      "2021-06-15 14:42:35,888 -INFO - features_builder:features_builder.py:184 - TfIdfVectorizer for class attribute does not exist. Build the one.\n",
      "2021-06-15 14:42:35,888 -INFO - features_builder:features_builder.py:188 - Extract useful class features\n",
      "2021-06-15 14:42:36,086 -INFO - features_builder:features_builder.py:201 - Saving model/attr_class_tfidfd.pkl, vocabulary length: 389\n"
     ]
    },
    {
     "data": {
      "text/plain": [
       "<47966x389 sparse matrix of type '<class 'numpy.float64'>'\n",
       "\twith 65133 stored elements in Compressed Sparse Row format>"
      ]
     },
     "execution_count": 32,
     "metadata": {},
     "output_type": "execute_result"
    }
   ],
   "source": [
    "logger.setLevel(logging.DEBUG)\n",
    "attr_class_sm = build_class_feature(df)\n",
    "attr_class_sm"
   ]
  },
  {
   "cell_type": "markdown",
   "id": "67bbf4ba",
   "metadata": {},
   "source": [
    "# Explore attributes"
   ]
  },
  {
   "cell_type": "code",
   "execution_count": 33,
   "id": "8ec148ef",
   "metadata": {},
   "outputs": [
    {
     "name": "stdout",
     "output_type": "stream",
     "text": [
      "Number of labels: 4773\n"
     ]
    },
    {
     "data": {
      "application/vnd.jupyter.widget-view+json": {
       "model_id": "b13b7983bde34d74869da9f002f44f98",
       "version_major": 2,
       "version_minor": 0
      },
      "text/plain": [
       "0it [00:00, ?it/s]"
      ]
     },
     "metadata": {},
     "output_type": "display_data"
    }
   ],
   "source": [
    "from collections import Counter\n",
    "\n",
    "stats_na = Counter()\n",
    "stats_ctl = Counter()\n",
    "stats_all = Counter()\n",
    "\n",
    "print('Number of labels:', df[df.label_text != 'n/a'].shape[0])\n",
    "\n",
    "# Will Only attributes from labeled classes \n",
    "\n",
    "for _, r in tqdm(df[['attributes', 'label_text', 'displayed']].iterrows()):\n",
    "    if r.attributes is not None:\n",
    "        lst = [k for k in r.attributes.keys() if (r.attributes.get(k) is not None) and (str(r.attributes.get(k)).strip() != \"\")]\n",
    "        if r.label_text == 'n/a':\n",
    "            stats_na.update(lst)\n",
    "        else:\n",
    "            stats_ctl.update(lst)\n",
    "        stats_all.update(lst)\n",
    "attributes_na_df = pd.DataFrame({'keys': stats_na.keys(), 'counts': stats_na.values()}).sort_values(by='counts', ascending=False)\n",
    "\n",
    "attributes_ctl_df = pd.DataFrame({'keys': stats_ctl.keys(), 'counts': stats_ctl.values()}).sort_values(by='counts', ascending=False)\n",
    "attributes_all_df = pd.DataFrame({'keys': stats_all.keys(), 'counts': stats_all.values()}).sort_values(by='counts', ascending=False)\n"
   ]
  },
  {
   "cell_type": "code",
   "execution_count": 34,
   "id": "f5704f57",
   "metadata": {},
   "outputs": [
    {
     "data": {
      "text/html": [
       "<div>\n",
       "<style scoped>\n",
       "    .dataframe tbody tr th:only-of-type {\n",
       "        vertical-align: middle;\n",
       "    }\n",
       "\n",
       "    .dataframe tbody tr th {\n",
       "        vertical-align: top;\n",
       "    }\n",
       "\n",
       "    .dataframe thead th {\n",
       "        text-align: right;\n",
       "    }\n",
       "</style>\n",
       "<table border=\"1\" class=\"dataframe\">\n",
       "  <thead>\n",
       "    <tr style=\"text-align: right;\">\n",
       "      <th></th>\n",
       "      <th>keys</th>\n",
       "      <th>counts</th>\n",
       "      <th>p_all</th>\n",
       "    </tr>\n",
       "  </thead>\n",
       "  <tbody>\n",
       "    <tr>\n",
       "      <th>9</th>\n",
       "      <td>class</td>\n",
       "      <td>31009</td>\n",
       "      <td>0.646479</td>\n",
       "    </tr>\n",
       "    <tr>\n",
       "      <th>5</th>\n",
       "      <td>href</td>\n",
       "      <td>5150</td>\n",
       "      <td>0.107368</td>\n",
       "    </tr>\n",
       "    <tr>\n",
       "      <th>16</th>\n",
       "      <td>id</td>\n",
       "      <td>2674</td>\n",
       "      <td>0.055748</td>\n",
       "    </tr>\n",
       "    <tr>\n",
       "      <th>10</th>\n",
       "      <td>role</td>\n",
       "      <td>2472</td>\n",
       "      <td>0.051537</td>\n",
       "    </tr>\n",
       "    <tr>\n",
       "      <th>11</th>\n",
       "      <td>style</td>\n",
       "      <td>2227</td>\n",
       "      <td>0.046429</td>\n",
       "    </tr>\n",
       "    <tr>\n",
       "      <th>...</th>\n",
       "      <td>...</td>\n",
       "      <td>...</td>\n",
       "      <td>...</td>\n",
       "    </tr>\n",
       "    <tr>\n",
       "      <th>291</th>\n",
       "      <td>data-pause</td>\n",
       "      <td>1</td>\n",
       "      <td>0.000021</td>\n",
       "    </tr>\n",
       "    <tr>\n",
       "      <th>290</th>\n",
       "      <td>x-placement</td>\n",
       "      <td>1</td>\n",
       "      <td>0.000021</td>\n",
       "    </tr>\n",
       "    <tr>\n",
       "      <th>166</th>\n",
       "      <td>__bizdiag</td>\n",
       "      <td>1</td>\n",
       "      <td>0.000021</td>\n",
       "    </tr>\n",
       "    <tr>\n",
       "      <th>167</th>\n",
       "      <td>data-st-active-query-class</td>\n",
       "      <td>1</td>\n",
       "      <td>0.000021</td>\n",
       "    </tr>\n",
       "    <tr>\n",
       "      <th>87</th>\n",
       "      <td>fixedtopgap</td>\n",
       "      <td>1</td>\n",
       "      <td>0.000021</td>\n",
       "    </tr>\n",
       "  </tbody>\n",
       "</table>\n",
       "<p>348 rows × 3 columns</p>\n",
       "</div>"
      ],
      "text/plain": [
       "                           keys  counts     p_all\n",
       "9                         class   31009  0.646479\n",
       "5                          href    5150  0.107368\n",
       "16                           id    2674  0.055748\n",
       "10                         role    2472  0.051537\n",
       "11                        style    2227  0.046429\n",
       "..                          ...     ...       ...\n",
       "291                  data-pause       1  0.000021\n",
       "290                 x-placement       1  0.000021\n",
       "166                   __bizdiag       1  0.000021\n",
       "167  data-st-active-query-class       1  0.000021\n",
       "87                  fixedtopgap       1  0.000021\n",
       "\n",
       "[348 rows x 3 columns]"
      ]
     },
     "execution_count": 34,
     "metadata": {},
     "output_type": "execute_result"
    }
   ],
   "source": [
    "attributes_all_df['p_all']=attributes_all_df.counts/df.shape[0]\n",
    "attributes_all_df"
   ]
  },
  {
   "cell_type": "code",
   "execution_count": 35,
   "id": "3c74873f",
   "metadata": {},
   "outputs": [
    {
     "data": {
      "text/html": [
       "<div>\n",
       "<style scoped>\n",
       "    .dataframe tbody tr th:only-of-type {\n",
       "        vertical-align: middle;\n",
       "    }\n",
       "\n",
       "    .dataframe tbody tr th {\n",
       "        vertical-align: top;\n",
       "    }\n",
       "\n",
       "    .dataframe thead th {\n",
       "        text-align: right;\n",
       "    }\n",
       "</style>\n",
       "<table border=\"1\" class=\"dataframe\">\n",
       "  <thead>\n",
       "    <tr style=\"text-align: right;\">\n",
       "      <th></th>\n",
       "      <th>keys</th>\n",
       "      <th>counts_x</th>\n",
       "      <th>counts_y</th>\n",
       "      <th>p_all</th>\n",
       "      <th>p_x</th>\n",
       "      <th>p_y</th>\n",
       "      <th>importance</th>\n",
       "    </tr>\n",
       "  </thead>\n",
       "  <tbody>\n",
       "    <tr>\n",
       "      <th>1</th>\n",
       "      <td>href</td>\n",
       "      <td>2958</td>\n",
       "      <td>2192.0</td>\n",
       "      <td>0.107368</td>\n",
       "      <td>0.052916</td>\n",
       "      <td>0.167341</td>\n",
       "      <td>3.162394</td>\n",
       "    </tr>\n",
       "    <tr>\n",
       "      <th>10</th>\n",
       "      <td>tabindex</td>\n",
       "      <td>701</td>\n",
       "      <td>1163.0</td>\n",
       "      <td>0.038861</td>\n",
       "      <td>0.012540</td>\n",
       "      <td>0.088785</td>\n",
       "      <td>7.080034</td>\n",
       "    </tr>\n",
       "    <tr>\n",
       "      <th>5</th>\n",
       "      <td>role</td>\n",
       "      <td>1542</td>\n",
       "      <td>930.0</td>\n",
       "      <td>0.051537</td>\n",
       "      <td>0.027585</td>\n",
       "      <td>0.070998</td>\n",
       "      <td>2.573785</td>\n",
       "    </tr>\n",
       "    <tr>\n",
       "      <th>23</th>\n",
       "      <td>aria-disabled</td>\n",
       "      <td>324</td>\n",
       "      <td>885.0</td>\n",
       "      <td>0.025205</td>\n",
       "      <td>0.005796</td>\n",
       "      <td>0.067562</td>\n",
       "      <td>11.656601</td>\n",
       "    </tr>\n",
       "    <tr>\n",
       "      <th>9</th>\n",
       "      <td>type</td>\n",
       "      <td>789</td>\n",
       "      <td>809.0</td>\n",
       "      <td>0.033315</td>\n",
       "      <td>0.014114</td>\n",
       "      <td>0.061760</td>\n",
       "      <td>4.375676</td>\n",
       "    </tr>\n",
       "    <tr>\n",
       "      <th>4</th>\n",
       "      <td>id</td>\n",
       "      <td>2065</td>\n",
       "      <td>609.0</td>\n",
       "      <td>0.055748</td>\n",
       "      <td>0.036941</td>\n",
       "      <td>0.046492</td>\n",
       "      <td>1.258551</td>\n",
       "    </tr>\n",
       "    <tr>\n",
       "      <th>29</th>\n",
       "      <td>target</td>\n",
       "      <td>283</td>\n",
       "      <td>595.0</td>\n",
       "      <td>0.018305</td>\n",
       "      <td>0.005063</td>\n",
       "      <td>0.045423</td>\n",
       "      <td>8.972308</td>\n",
       "    </tr>\n",
       "    <tr>\n",
       "      <th>34</th>\n",
       "      <td>aria-label</td>\n",
       "      <td>192</td>\n",
       "      <td>229.0</td>\n",
       "      <td>0.008777</td>\n",
       "      <td>0.003435</td>\n",
       "      <td>0.017482</td>\n",
       "      <td>5.089884</td>\n",
       "    </tr>\n",
       "    <tr>\n",
       "      <th>82</th>\n",
       "      <td>placeholder</td>\n",
       "      <td>24</td>\n",
       "      <td>145.0</td>\n",
       "      <td>0.003523</td>\n",
       "      <td>0.000429</td>\n",
       "      <td>0.011070</td>\n",
       "      <td>25.782821</td>\n",
       "    </tr>\n",
       "    <tr>\n",
       "      <th>112</th>\n",
       "      <td>aria-invalid</td>\n",
       "      <td>15</td>\n",
       "      <td>134.0</td>\n",
       "      <td>0.003106</td>\n",
       "      <td>0.000268</td>\n",
       "      <td>0.010230</td>\n",
       "      <td>38.123012</td>\n",
       "    </tr>\n",
       "    <tr>\n",
       "      <th>20</th>\n",
       "      <td>value</td>\n",
       "      <td>355</td>\n",
       "      <td>122.0</td>\n",
       "      <td>0.009945</td>\n",
       "      <td>0.006351</td>\n",
       "      <td>0.009314</td>\n",
       "      <td>1.466578</td>\n",
       "    </tr>\n",
       "    <tr>\n",
       "      <th>43</th>\n",
       "      <td>ms.pgarea</td>\n",
       "      <td>103</td>\n",
       "      <td>116.0</td>\n",
       "      <td>0.004566</td>\n",
       "      <td>0.001843</td>\n",
       "      <td>0.008856</td>\n",
       "      <td>4.806118</td>\n",
       "    </tr>\n",
       "    <tr>\n",
       "      <th>113</th>\n",
       "      <td>aria-required</td>\n",
       "      <td>15</td>\n",
       "      <td>105.0</td>\n",
       "      <td>0.002502</td>\n",
       "      <td>0.000268</td>\n",
       "      <td>0.008016</td>\n",
       "      <td>29.872509</td>\n",
       "    </tr>\n",
       "    <tr>\n",
       "      <th>54</th>\n",
       "      <td>data-toggle</td>\n",
       "      <td>51</td>\n",
       "      <td>72.0</td>\n",
       "      <td>0.002564</td>\n",
       "      <td>0.000912</td>\n",
       "      <td>0.005497</td>\n",
       "      <td>6.024708</td>\n",
       "    </tr>\n",
       "    <tr>\n",
       "      <th>44</th>\n",
       "      <td>ms.cmpgrp</td>\n",
       "      <td>102</td>\n",
       "      <td>72.0</td>\n",
       "      <td>0.003628</td>\n",
       "      <td>0.001825</td>\n",
       "      <td>0.005497</td>\n",
       "      <td>3.012354</td>\n",
       "    </tr>\n",
       "    <tr>\n",
       "      <th>41</th>\n",
       "      <td>title</td>\n",
       "      <td>112</td>\n",
       "      <td>65.0</td>\n",
       "      <td>0.003690</td>\n",
       "      <td>0.002004</td>\n",
       "      <td>0.004962</td>\n",
       "      <td>2.476675</td>\n",
       "    </tr>\n",
       "    <tr>\n",
       "      <th>53</th>\n",
       "      <td>aria-expanded</td>\n",
       "      <td>52</td>\n",
       "      <td>61.0</td>\n",
       "      <td>0.002356</td>\n",
       "      <td>0.000930</td>\n",
       "      <td>0.004657</td>\n",
       "      <td>5.006107</td>\n",
       "    </tr>\n",
       "    <tr>\n",
       "      <th>128</th>\n",
       "      <td>aria-haspopup</td>\n",
       "      <td>11</td>\n",
       "      <td>56.0</td>\n",
       "      <td>0.001397</td>\n",
       "      <td>0.000197</td>\n",
       "      <td>0.004275</td>\n",
       "      <td>21.725461</td>\n",
       "    </tr>\n",
       "    <tr>\n",
       "      <th>38</th>\n",
       "      <td>data-m</td>\n",
       "      <td>149</td>\n",
       "      <td>55.0</td>\n",
       "      <td>0.004253</td>\n",
       "      <td>0.002665</td>\n",
       "      <td>0.004199</td>\n",
       "      <td>1.575252</td>\n",
       "    </tr>\n",
       "    <tr>\n",
       "      <th>127</th>\n",
       "      <td>min</td>\n",
       "      <td>11</td>\n",
       "      <td>50.0</td>\n",
       "      <td>0.001272</td>\n",
       "      <td>0.000197</td>\n",
       "      <td>0.003817</td>\n",
       "      <td>19.397733</td>\n",
       "    </tr>\n",
       "    <tr>\n",
       "      <th>135</th>\n",
       "      <td>max</td>\n",
       "      <td>9</td>\n",
       "      <td>49.0</td>\n",
       "      <td>0.001209</td>\n",
       "      <td>0.000161</td>\n",
       "      <td>0.003741</td>\n",
       "      <td>23.234174</td>\n",
       "    </tr>\n",
       "    <tr>\n",
       "      <th>69</th>\n",
       "      <td>aria-controls</td>\n",
       "      <td>32</td>\n",
       "      <td>45.0</td>\n",
       "      <td>0.001605</td>\n",
       "      <td>0.000572</td>\n",
       "      <td>0.003435</td>\n",
       "      <td>6.001174</td>\n",
       "    </tr>\n",
       "    <tr>\n",
       "      <th>139</th>\n",
       "      <td>aria-describedby</td>\n",
       "      <td>9</td>\n",
       "      <td>45.0</td>\n",
       "      <td>0.001126</td>\n",
       "      <td>0.000161</td>\n",
       "      <td>0.003435</td>\n",
       "      <td>21.337507</td>\n",
       "    </tr>\n",
       "    <tr>\n",
       "      <th>62</th>\n",
       "      <td>onclick</td>\n",
       "      <td>36</td>\n",
       "      <td>41.0</td>\n",
       "      <td>0.001605</td>\n",
       "      <td>0.000644</td>\n",
       "      <td>0.003130</td>\n",
       "      <td>4.860210</td>\n",
       "    </tr>\n",
       "    <tr>\n",
       "      <th>121</th>\n",
       "      <td>aria-selected</td>\n",
       "      <td>12</td>\n",
       "      <td>34.0</td>\n",
       "      <td>0.000959</td>\n",
       "      <td>0.000215</td>\n",
       "      <td>0.002596</td>\n",
       "      <td>12.091254</td>\n",
       "    </tr>\n",
       "  </tbody>\n",
       "</table>\n",
       "</div>"
      ],
      "text/plain": [
       "                 keys  counts_x  counts_y     p_all       p_x       p_y  \\\n",
       "1                href      2958    2192.0  0.107368  0.052916  0.167341   \n",
       "10           tabindex       701    1163.0  0.038861  0.012540  0.088785   \n",
       "5                role      1542     930.0  0.051537  0.027585  0.070998   \n",
       "23      aria-disabled       324     885.0  0.025205  0.005796  0.067562   \n",
       "9                type       789     809.0  0.033315  0.014114  0.061760   \n",
       "4                  id      2065     609.0  0.055748  0.036941  0.046492   \n",
       "29             target       283     595.0  0.018305  0.005063  0.045423   \n",
       "34         aria-label       192     229.0  0.008777  0.003435  0.017482   \n",
       "82        placeholder        24     145.0  0.003523  0.000429  0.011070   \n",
       "112      aria-invalid        15     134.0  0.003106  0.000268  0.010230   \n",
       "20              value       355     122.0  0.009945  0.006351  0.009314   \n",
       "43          ms.pgarea       103     116.0  0.004566  0.001843  0.008856   \n",
       "113     aria-required        15     105.0  0.002502  0.000268  0.008016   \n",
       "54        data-toggle        51      72.0  0.002564  0.000912  0.005497   \n",
       "44          ms.cmpgrp       102      72.0  0.003628  0.001825  0.005497   \n",
       "41              title       112      65.0  0.003690  0.002004  0.004962   \n",
       "53      aria-expanded        52      61.0  0.002356  0.000930  0.004657   \n",
       "128     aria-haspopup        11      56.0  0.001397  0.000197  0.004275   \n",
       "38             data-m       149      55.0  0.004253  0.002665  0.004199   \n",
       "127               min        11      50.0  0.001272  0.000197  0.003817   \n",
       "135               max         9      49.0  0.001209  0.000161  0.003741   \n",
       "69      aria-controls        32      45.0  0.001605  0.000572  0.003435   \n",
       "139  aria-describedby         9      45.0  0.001126  0.000161  0.003435   \n",
       "62            onclick        36      41.0  0.001605  0.000644  0.003130   \n",
       "121     aria-selected        12      34.0  0.000959  0.000215  0.002596   \n",
       "\n",
       "     importance  \n",
       "1      3.162394  \n",
       "10     7.080034  \n",
       "5      2.573785  \n",
       "23    11.656601  \n",
       "9      4.375676  \n",
       "4      1.258551  \n",
       "29     8.972308  \n",
       "34     5.089884  \n",
       "82    25.782821  \n",
       "112   38.123012  \n",
       "20     1.466578  \n",
       "43     4.806118  \n",
       "113   29.872509  \n",
       "54     6.024708  \n",
       "44     3.012354  \n",
       "41     2.476675  \n",
       "53     5.006107  \n",
       "128   21.725461  \n",
       "38     1.575252  \n",
       "127   19.397733  \n",
       "135   23.234174  \n",
       "69     6.001174  \n",
       "139   21.337507  \n",
       "62     4.860210  \n",
       "121   12.091254  "
      ]
     },
     "execution_count": 35,
     "metadata": {},
     "output_type": "execute_result"
    }
   ],
   "source": [
    "attr_stats_df = attributes_na_df.merge(attributes_ctl_df, on='keys', how='left')\n",
    "attr_stats_df = attr_stats_df.merge(attributes_all_df[['keys', 'p_all']], on = 'keys', how='left')\n",
    "\n",
    "counts_x_sum, counts_y_sum = attr_stats_df.agg({ 'counts_x': 'sum', 'counts_y': 'sum'}).values\n",
    "attr_stats_df['p_x'] = attr_stats_df.counts_x / counts_x_sum\n",
    "attr_stats_df['p_y'] = attr_stats_df.counts_y / counts_y_sum\n",
    "\n",
    "\n",
    "attr_stats_df['importance'] = attr_stats_df['p_y'] / attr_stats_df['p_x']\n",
    "\n",
    "attr_stats_df[(attr_stats_df.p_x < attr_stats_df.p_y) & (attr_stats_df.counts_y > 30)].sort_values(by='p_y', ascending=False).head(50)\n",
    "\n"
   ]
  },
  {
   "cell_type": "code",
   "execution_count": 36,
   "id": "85e9c5aa",
   "metadata": {},
   "outputs": [
    {
     "data": {
      "application/vnd.jupyter.widget-view+json": {
       "model_id": "b372404ae4fc419280f73c45dd02af2b",
       "version_major": 2,
       "version_minor": 0
      },
      "text/plain": [
       "  0%|          | 0/47966 [00:00<?, ?it/s]"
      ]
     },
     "metadata": {},
     "output_type": "display_data"
    }
   ],
   "source": [
    "_keys = set([\n",
    "    'aria-invalid', \n",
    "    'aria-haspopup', \n",
    "    'aria-expanded',      \n",
    "    'aria-required',\n",
    "    'aria-disabled',\n",
    "    'aria-selected',\n",
    "    'aria-describedby',\n",
    "    'aria-controls',\n",
    "    'aria-invalid',\n",
    "    'placeholder',\n",
    "    'value',\n",
    "    'for',\n",
    "    'onclick',\n",
    "    'target',\n",
    "    'role',\n",
    "    'type',\n",
    "    'id',\n",
    "    'name',\n",
    "    'href',\n",
    "    'min',\n",
    "    'max'\n",
    "])\n",
    "\n",
    "report = []\n",
    "with trange(df.shape[0]) as bar:\n",
    "    for _, r in df.iterrows():\n",
    "        attr = r.attributes\n",
    "        if attr is not None:\n",
    "            d = {}\n",
    "            d['label'] = 1 if r.label_text != 'n/a' else 0\n",
    "            for k in _keys:\n",
    "                v = attr.get(k)\n",
    "                if v is not None and v.strip() != \"\":\n",
    "                    d[k]=1\n",
    "                else:\n",
    "                    d[k]=0\n",
    "        else:\n",
    "            d = {k:0 for k in _keys}\n",
    "                \n",
    "        report.append(d)\n",
    "        bar.update(1)\n",
    "\n",
    "report_df = pd.DataFrame(report)"
   ]
  },
  {
   "cell_type": "code",
   "execution_count": 37,
   "id": "e233d695",
   "metadata": {},
   "outputs": [
    {
     "data": {
      "text/plain": [
       "0.0    35796\n",
       "1.0     6328\n",
       "2.0     3538\n",
       "3.0     1776\n",
       "4.0      304\n",
       "5.0      105\n",
       "6.0       99\n",
       "7.0        9\n",
       "9.0        8\n",
       "8.0        3\n",
       "dtype: int64"
      ]
     },
     "execution_count": 37,
     "metadata": {},
     "output_type": "execute_result"
    }
   ],
   "source": [
    "report_df.sum(axis=1).value_counts()"
   ]
  },
  {
   "cell_type": "code",
   "execution_count": 38,
   "id": "ade06558",
   "metadata": {},
   "outputs": [
    {
     "data": {
      "text/plain": [
       "_blank    762\n",
       "_self     115\n",
       "_top        1\n",
       "Name: attributes, dtype: int64"
      ]
     },
     "execution_count": 38,
     "metadata": {},
     "output_type": "execute_result"
    }
   ],
   "source": [
    "df.attributes.apply(lambda x: x.get('target') if x is not None else None).value_counts()"
   ]
  },
  {
   "cell_type": "code",
   "execution_count": 39,
   "id": "d4713e16",
   "metadata": {},
   "outputs": [
    {
     "data": {
      "text/plain": [
       "Index(['attributes', 'displayed', 'element_id', 'height', 'onmouseenter',\n",
       "       'onmouseover', 'parent_id', 'style', 'tag_name', 'text', 'width', 'x',\n",
       "       'y', 'is_hidden', 'upper_sibling', 'lower_sibling', 'siblings', 'idx',\n",
       "       'label', 'annotation_line_no', 'iou', 'tag', 'label_text'],\n",
       "      dtype='object')"
      ]
     },
     "execution_count": 39,
     "metadata": {},
     "output_type": "execute_result"
    }
   ],
   "source": [
    "df.columns"
   ]
  },
  {
   "cell_type": "code",
   "execution_count": 40,
   "id": "c0d46311",
   "metadata": {},
   "outputs": [
    {
     "data": {
      "text/html": [
       "<div>\n",
       "<style scoped>\n",
       "    .dataframe tbody tr th:only-of-type {\n",
       "        vertical-align: middle;\n",
       "    }\n",
       "\n",
       "    .dataframe tbody tr th {\n",
       "        vertical-align: top;\n",
       "    }\n",
       "\n",
       "    .dataframe thead th {\n",
       "        text-align: right;\n",
       "    }\n",
       "</style>\n",
       "<table border=\"1\" class=\"dataframe\">\n",
       "  <thead>\n",
       "    <tr style=\"text-align: right;\">\n",
       "      <th></th>\n",
       "      <th>label</th>\n",
       "      <th>for</th>\n",
       "      <th>target</th>\n",
       "      <th>aria-invalid</th>\n",
       "      <th>aria-expanded</th>\n",
       "      <th>aria-disabled</th>\n",
       "      <th>onclick</th>\n",
       "      <th>aria-haspopup</th>\n",
       "      <th>id</th>\n",
       "      <th>placeholder</th>\n",
       "      <th>...</th>\n",
       "      <th>aria-controls</th>\n",
       "      <th>aria-describedby</th>\n",
       "      <th>max</th>\n",
       "      <th>type</th>\n",
       "      <th>href</th>\n",
       "      <th>aria-selected</th>\n",
       "      <th>aria-required</th>\n",
       "      <th>role</th>\n",
       "      <th>name</th>\n",
       "      <th>value</th>\n",
       "    </tr>\n",
       "  </thead>\n",
       "  <tbody>\n",
       "    <tr>\n",
       "      <th>label</th>\n",
       "      <td>1.000000</td>\n",
       "      <td>0.011313</td>\n",
       "      <td>0.261888</td>\n",
       "      <td>0.148573</td>\n",
       "      <td>0.070624</td>\n",
       "      <td>0.337880</td>\n",
       "      <td>0.057284</td>\n",
       "      <td>0.091554</td>\n",
       "      <td>0.098539</td>\n",
       "      <td>0.150005</td>\n",
       "      <td>...</td>\n",
       "      <td>0.064284</td>\n",
       "      <td>0.081901</td>\n",
       "      <td>0.086228</td>\n",
       "      <td>0.249192</td>\n",
       "      <td>0.372761</td>\n",
       "      <td>0.065777</td>\n",
       "      <td>0.129194</td>\n",
       "      <td>0.211064</td>\n",
       "      <td>0.008951</td>\n",
       "      <td>0.050002</td>\n",
       "    </tr>\n",
       "    <tr>\n",
       "      <th>for</th>\n",
       "      <td>0.011313</td>\n",
       "      <td>1.000000</td>\n",
       "      <td>-0.014571</td>\n",
       "      <td>-0.005956</td>\n",
       "      <td>-0.005185</td>\n",
       "      <td>-0.017158</td>\n",
       "      <td>-0.004279</td>\n",
       "      <td>-0.003991</td>\n",
       "      <td>0.073118</td>\n",
       "      <td>-0.006345</td>\n",
       "      <td>...</td>\n",
       "      <td>-0.004279</td>\n",
       "      <td>-0.003582</td>\n",
       "      <td>-0.003713</td>\n",
       "      <td>-0.019809</td>\n",
       "      <td>-0.037007</td>\n",
       "      <td>-0.003306</td>\n",
       "      <td>-0.005344</td>\n",
       "      <td>-0.024873</td>\n",
       "      <td>-0.010706</td>\n",
       "      <td>-0.010694</td>\n",
       "    </tr>\n",
       "    <tr>\n",
       "      <th>target</th>\n",
       "      <td>0.261888</td>\n",
       "      <td>-0.014571</td>\n",
       "      <td>1.000000</td>\n",
       "      <td>-0.007622</td>\n",
       "      <td>-0.003428</td>\n",
       "      <td>-0.007075</td>\n",
       "      <td>0.017833</td>\n",
       "      <td>-0.000943</td>\n",
       "      <td>-0.028434</td>\n",
       "      <td>-0.008120</td>\n",
       "      <td>...</td>\n",
       "      <td>-0.005475</td>\n",
       "      <td>-0.004584</td>\n",
       "      <td>-0.004751</td>\n",
       "      <td>-0.025350</td>\n",
       "      <td>0.393724</td>\n",
       "      <td>-0.004231</td>\n",
       "      <td>-0.006838</td>\n",
       "      <td>-0.030423</td>\n",
       "      <td>-0.013700</td>\n",
       "      <td>-0.013685</td>\n",
       "    </tr>\n",
       "    <tr>\n",
       "      <th>aria-invalid</th>\n",
       "      <td>0.148573</td>\n",
       "      <td>-0.005956</td>\n",
       "      <td>-0.007622</td>\n",
       "      <td>1.000000</td>\n",
       "      <td>0.082293</td>\n",
       "      <td>0.053166</td>\n",
       "      <td>-0.002238</td>\n",
       "      <td>0.278783</td>\n",
       "      <td>0.226472</td>\n",
       "      <td>0.243268</td>\n",
       "      <td>...</td>\n",
       "      <td>-0.002238</td>\n",
       "      <td>0.199222</td>\n",
       "      <td>0.008838</td>\n",
       "      <td>0.083580</td>\n",
       "      <td>-0.019360</td>\n",
       "      <td>-0.001730</td>\n",
       "      <td>0.897152</td>\n",
       "      <td>0.049685</td>\n",
       "      <td>0.043432</td>\n",
       "      <td>0.039713</td>\n",
       "    </tr>\n",
       "    <tr>\n",
       "      <th>aria-expanded</th>\n",
       "      <td>0.070624</td>\n",
       "      <td>-0.005185</td>\n",
       "      <td>-0.003428</td>\n",
       "      <td>0.082293</td>\n",
       "      <td>1.000000</td>\n",
       "      <td>0.005903</td>\n",
       "      <td>-0.001949</td>\n",
       "      <td>0.274527</td>\n",
       "      <td>0.050046</td>\n",
       "      <td>0.084202</td>\n",
       "      <td>...</td>\n",
       "      <td>0.277338</td>\n",
       "      <td>-0.001631</td>\n",
       "      <td>-0.001691</td>\n",
       "      <td>0.098813</td>\n",
       "      <td>-0.002962</td>\n",
       "      <td>-0.001506</td>\n",
       "      <td>0.092260</td>\n",
       "      <td>0.089817</td>\n",
       "      <td>-0.000546</td>\n",
       "      <td>-0.004870</td>\n",
       "    </tr>\n",
       "    <tr>\n",
       "      <th>aria-disabled</th>\n",
       "      <td>0.337880</td>\n",
       "      <td>-0.017158</td>\n",
       "      <td>-0.007075</td>\n",
       "      <td>0.053166</td>\n",
       "      <td>0.005903</td>\n",
       "      <td>1.000000</td>\n",
       "      <td>-0.006448</td>\n",
       "      <td>-0.002453</td>\n",
       "      <td>0.001508</td>\n",
       "      <td>-0.009562</td>\n",
       "      <td>...</td>\n",
       "      <td>0.086575</td>\n",
       "      <td>0.006500</td>\n",
       "      <td>-0.001768</td>\n",
       "      <td>-0.029852</td>\n",
       "      <td>-0.045458</td>\n",
       "      <td>0.119629</td>\n",
       "      <td>0.061171</td>\n",
       "      <td>0.632681</td>\n",
       "      <td>-0.013455</td>\n",
       "      <td>-0.012095</td>\n",
       "    </tr>\n",
       "    <tr>\n",
       "      <th>onclick</th>\n",
       "      <td>0.057284</td>\n",
       "      <td>-0.004279</td>\n",
       "      <td>0.017833</td>\n",
       "      <td>-0.002238</td>\n",
       "      <td>-0.001949</td>\n",
       "      <td>-0.006448</td>\n",
       "      <td>1.000000</td>\n",
       "      <td>-0.001500</td>\n",
       "      <td>0.033382</td>\n",
       "      <td>-0.002384</td>\n",
       "      <td>...</td>\n",
       "      <td>-0.001608</td>\n",
       "      <td>-0.001346</td>\n",
       "      <td>-0.001395</td>\n",
       "      <td>0.053495</td>\n",
       "      <td>0.009643</td>\n",
       "      <td>-0.001242</td>\n",
       "      <td>-0.002008</td>\n",
       "      <td>-0.009347</td>\n",
       "      <td>-0.004023</td>\n",
       "      <td>0.043216</td>\n",
       "    </tr>\n",
       "    <tr>\n",
       "      <th>aria-haspopup</th>\n",
       "      <td>0.091554</td>\n",
       "      <td>-0.003991</td>\n",
       "      <td>-0.000943</td>\n",
       "      <td>0.278783</td>\n",
       "      <td>0.274527</td>\n",
       "      <td>-0.002453</td>\n",
       "      <td>-0.001500</td>\n",
       "      <td>1.000000</td>\n",
       "      <td>0.088232</td>\n",
       "      <td>0.101405</td>\n",
       "      <td>...</td>\n",
       "      <td>0.026387</td>\n",
       "      <td>-0.001256</td>\n",
       "      <td>0.014761</td>\n",
       "      <td>0.089484</td>\n",
       "      <td>-0.002152</td>\n",
       "      <td>-0.001159</td>\n",
       "      <td>0.311007</td>\n",
       "      <td>0.051878</td>\n",
       "      <td>-0.003752</td>\n",
       "      <td>-0.003748</td>\n",
       "    </tr>\n",
       "    <tr>\n",
       "      <th>id</th>\n",
       "      <td>0.098539</td>\n",
       "      <td>0.073118</td>\n",
       "      <td>-0.028434</td>\n",
       "      <td>0.226472</td>\n",
       "      <td>0.050046</td>\n",
       "      <td>0.001508</td>\n",
       "      <td>0.033382</td>\n",
       "      <td>0.088232</td>\n",
       "      <td>1.000000</td>\n",
       "      <td>0.164977</td>\n",
       "      <td>...</td>\n",
       "      <td>0.101475</td>\n",
       "      <td>0.070424</td>\n",
       "      <td>0.059528</td>\n",
       "      <td>0.265787</td>\n",
       "      <td>-0.030262</td>\n",
       "      <td>0.109898</td>\n",
       "      <td>0.206109</td>\n",
       "      <td>0.031315</td>\n",
       "      <td>0.169564</td>\n",
       "      <td>0.186275</td>\n",
       "    </tr>\n",
       "    <tr>\n",
       "      <th>placeholder</th>\n",
       "      <td>0.150005</td>\n",
       "      <td>-0.006345</td>\n",
       "      <td>-0.008120</td>\n",
       "      <td>0.243268</td>\n",
       "      <td>0.084202</td>\n",
       "      <td>-0.009562</td>\n",
       "      <td>-0.002384</td>\n",
       "      <td>0.101405</td>\n",
       "      <td>0.164977</td>\n",
       "      <td>1.000000</td>\n",
       "      <td>...</td>\n",
       "      <td>0.006404</td>\n",
       "      <td>0.197357</td>\n",
       "      <td>0.180171</td>\n",
       "      <td>0.241880</td>\n",
       "      <td>-0.020623</td>\n",
       "      <td>-0.001842</td>\n",
       "      <td>0.264668</td>\n",
       "      <td>0.005236</td>\n",
       "      <td>0.043626</td>\n",
       "      <td>0.093328</td>\n",
       "    </tr>\n",
       "    <tr>\n",
       "      <th>min</th>\n",
       "      <td>0.085416</td>\n",
       "      <td>-0.003808</td>\n",
       "      <td>-0.004873</td>\n",
       "      <td>0.040057</td>\n",
       "      <td>-0.001734</td>\n",
       "      <td>-0.002006</td>\n",
       "      <td>-0.001431</td>\n",
       "      <td>0.014329</td>\n",
       "      <td>0.060171</td>\n",
       "      <td>0.185459</td>\n",
       "      <td>...</td>\n",
       "      <td>-0.001431</td>\n",
       "      <td>-0.001198</td>\n",
       "      <td>0.941403</td>\n",
       "      <td>0.182439</td>\n",
       "      <td>-0.012376</td>\n",
       "      <td>-0.001106</td>\n",
       "      <td>0.045054</td>\n",
       "      <td>-0.005672</td>\n",
       "      <td>-0.003580</td>\n",
       "      <td>0.185080</td>\n",
       "    </tr>\n",
       "    <tr>\n",
       "      <th>aria-controls</th>\n",
       "      <td>0.064284</td>\n",
       "      <td>-0.004279</td>\n",
       "      <td>-0.005475</td>\n",
       "      <td>-0.002238</td>\n",
       "      <td>0.277338</td>\n",
       "      <td>0.086575</td>\n",
       "      <td>-0.001608</td>\n",
       "      <td>0.026387</td>\n",
       "      <td>0.101475</td>\n",
       "      <td>0.006404</td>\n",
       "      <td>...</td>\n",
       "      <td>1.000000</td>\n",
       "      <td>-0.001346</td>\n",
       "      <td>-0.001395</td>\n",
       "      <td>0.059298</td>\n",
       "      <td>0.001232</td>\n",
       "      <td>0.671723</td>\n",
       "      <td>-0.002008</td>\n",
       "      <td>0.103713</td>\n",
       "      <td>0.006463</td>\n",
       "      <td>-0.004019</td>\n",
       "    </tr>\n",
       "    <tr>\n",
       "      <th>aria-describedby</th>\n",
       "      <td>0.081901</td>\n",
       "      <td>-0.003582</td>\n",
       "      <td>-0.004584</td>\n",
       "      <td>0.199222</td>\n",
       "      <td>-0.001631</td>\n",
       "      <td>0.006500</td>\n",
       "      <td>-0.001346</td>\n",
       "      <td>-0.001256</td>\n",
       "      <td>0.070424</td>\n",
       "      <td>0.197357</td>\n",
       "      <td>...</td>\n",
       "      <td>-0.001346</td>\n",
       "      <td>1.000000</td>\n",
       "      <td>-0.001168</td>\n",
       "      <td>0.056125</td>\n",
       "      <td>-0.011643</td>\n",
       "      <td>-0.001040</td>\n",
       "      <td>0.172551</td>\n",
       "      <td>0.037166</td>\n",
       "      <td>0.009150</td>\n",
       "      <td>0.021698</td>\n",
       "    </tr>\n",
       "    <tr>\n",
       "      <th>max</th>\n",
       "      <td>0.086228</td>\n",
       "      <td>-0.003713</td>\n",
       "      <td>-0.004751</td>\n",
       "      <td>0.008838</td>\n",
       "      <td>-0.001691</td>\n",
       "      <td>-0.001768</td>\n",
       "      <td>-0.001395</td>\n",
       "      <td>0.014761</td>\n",
       "      <td>0.059528</td>\n",
       "      <td>0.180171</td>\n",
       "      <td>...</td>\n",
       "      <td>-0.001395</td>\n",
       "      <td>-0.001168</td>\n",
       "      <td>1.000000</td>\n",
       "      <td>0.174055</td>\n",
       "      <td>-0.012067</td>\n",
       "      <td>-0.001078</td>\n",
       "      <td>0.010266</td>\n",
       "      <td>-0.005397</td>\n",
       "      <td>-0.003491</td>\n",
       "      <td>0.202073</td>\n",
       "    </tr>\n",
       "    <tr>\n",
       "      <th>type</th>\n",
       "      <td>0.249192</td>\n",
       "      <td>-0.019809</td>\n",
       "      <td>-0.025350</td>\n",
       "      <td>0.083580</td>\n",
       "      <td>0.098813</td>\n",
       "      <td>-0.029852</td>\n",
       "      <td>0.053495</td>\n",
       "      <td>0.089484</td>\n",
       "      <td>0.265787</td>\n",
       "      <td>0.241880</td>\n",
       "      <td>...</td>\n",
       "      <td>0.059298</td>\n",
       "      <td>0.056125</td>\n",
       "      <td>0.174055</td>\n",
       "      <td>1.000000</td>\n",
       "      <td>-0.045621</td>\n",
       "      <td>0.005508</td>\n",
       "      <td>0.065120</td>\n",
       "      <td>-0.026985</td>\n",
       "      <td>0.286635</td>\n",
       "      <td>0.296338</td>\n",
       "    </tr>\n",
       "    <tr>\n",
       "      <th>href</th>\n",
       "      <td>0.372761</td>\n",
       "      <td>-0.037007</td>\n",
       "      <td>0.393724</td>\n",
       "      <td>-0.019360</td>\n",
       "      <td>-0.002962</td>\n",
       "      <td>-0.045458</td>\n",
       "      <td>0.009643</td>\n",
       "      <td>-0.002152</td>\n",
       "      <td>-0.030262</td>\n",
       "      <td>-0.020623</td>\n",
       "      <td>...</td>\n",
       "      <td>0.001232</td>\n",
       "      <td>-0.011643</td>\n",
       "      <td>-0.012067</td>\n",
       "      <td>-0.045621</td>\n",
       "      <td>1.000000</td>\n",
       "      <td>0.006660</td>\n",
       "      <td>-0.017369</td>\n",
       "      <td>-0.075361</td>\n",
       "      <td>-0.034795</td>\n",
       "      <td>-0.034759</td>\n",
       "    </tr>\n",
       "    <tr>\n",
       "      <th>aria-selected</th>\n",
       "      <td>0.065777</td>\n",
       "      <td>-0.003306</td>\n",
       "      <td>-0.004231</td>\n",
       "      <td>-0.001730</td>\n",
       "      <td>-0.001506</td>\n",
       "      <td>0.119629</td>\n",
       "      <td>-0.001242</td>\n",
       "      <td>-0.001159</td>\n",
       "      <td>0.109898</td>\n",
       "      <td>-0.001842</td>\n",
       "      <td>...</td>\n",
       "      <td>0.671723</td>\n",
       "      <td>-0.001040</td>\n",
       "      <td>-0.001078</td>\n",
       "      <td>0.005508</td>\n",
       "      <td>0.006660</td>\n",
       "      <td>1.000000</td>\n",
       "      <td>-0.001552</td>\n",
       "      <td>0.132915</td>\n",
       "      <td>-0.003108</td>\n",
       "      <td>-0.003105</td>\n",
       "    </tr>\n",
       "    <tr>\n",
       "      <th>aria-required</th>\n",
       "      <td>0.129194</td>\n",
       "      <td>-0.005344</td>\n",
       "      <td>-0.006838</td>\n",
       "      <td>0.897152</td>\n",
       "      <td>0.092260</td>\n",
       "      <td>0.061171</td>\n",
       "      <td>-0.002008</td>\n",
       "      <td>0.311007</td>\n",
       "      <td>0.206109</td>\n",
       "      <td>0.264668</td>\n",
       "      <td>...</td>\n",
       "      <td>-0.002008</td>\n",
       "      <td>0.172551</td>\n",
       "      <td>0.010266</td>\n",
       "      <td>0.065120</td>\n",
       "      <td>-0.017369</td>\n",
       "      <td>-0.001552</td>\n",
       "      <td>1.000000</td>\n",
       "      <td>0.058169</td>\n",
       "      <td>0.003379</td>\n",
       "      <td>0.020217</td>\n",
       "    </tr>\n",
       "    <tr>\n",
       "      <th>role</th>\n",
       "      <td>0.211064</td>\n",
       "      <td>-0.024873</td>\n",
       "      <td>-0.030423</td>\n",
       "      <td>0.049685</td>\n",
       "      <td>0.089817</td>\n",
       "      <td>0.632681</td>\n",
       "      <td>-0.009347</td>\n",
       "      <td>0.051878</td>\n",
       "      <td>0.031315</td>\n",
       "      <td>0.005236</td>\n",
       "      <td>...</td>\n",
       "      <td>0.103713</td>\n",
       "      <td>0.037166</td>\n",
       "      <td>-0.005397</td>\n",
       "      <td>-0.026985</td>\n",
       "      <td>-0.075361</td>\n",
       "      <td>0.132915</td>\n",
       "      <td>0.058169</td>\n",
       "      <td>1.000000</td>\n",
       "      <td>-0.016741</td>\n",
       "      <td>-0.019561</td>\n",
       "    </tr>\n",
       "    <tr>\n",
       "      <th>name</th>\n",
       "      <td>0.008951</td>\n",
       "      <td>-0.010706</td>\n",
       "      <td>-0.013700</td>\n",
       "      <td>0.043432</td>\n",
       "      <td>-0.000546</td>\n",
       "      <td>-0.013455</td>\n",
       "      <td>-0.004023</td>\n",
       "      <td>-0.003752</td>\n",
       "      <td>0.169564</td>\n",
       "      <td>0.043626</td>\n",
       "      <td>...</td>\n",
       "      <td>0.006463</td>\n",
       "      <td>0.009150</td>\n",
       "      <td>-0.003491</td>\n",
       "      <td>0.286635</td>\n",
       "      <td>-0.034795</td>\n",
       "      <td>-0.003108</td>\n",
       "      <td>0.003379</td>\n",
       "      <td>-0.016741</td>\n",
       "      <td>1.000000</td>\n",
       "      <td>0.317816</td>\n",
       "    </tr>\n",
       "    <tr>\n",
       "      <th>value</th>\n",
       "      <td>0.050002</td>\n",
       "      <td>-0.010694</td>\n",
       "      <td>-0.013685</td>\n",
       "      <td>0.039713</td>\n",
       "      <td>-0.004870</td>\n",
       "      <td>-0.012095</td>\n",
       "      <td>0.043216</td>\n",
       "      <td>-0.003748</td>\n",
       "      <td>0.186275</td>\n",
       "      <td>0.093328</td>\n",
       "      <td>...</td>\n",
       "      <td>-0.004019</td>\n",
       "      <td>0.021698</td>\n",
       "      <td>0.202073</td>\n",
       "      <td>0.296338</td>\n",
       "      <td>-0.034759</td>\n",
       "      <td>-0.003105</td>\n",
       "      <td>0.020217</td>\n",
       "      <td>-0.019561</td>\n",
       "      <td>0.317816</td>\n",
       "      <td>1.000000</td>\n",
       "    </tr>\n",
       "  </tbody>\n",
       "</table>\n",
       "<p>21 rows × 21 columns</p>\n",
       "</div>"
      ],
      "text/plain": [
       "                     label       for    target  aria-invalid  aria-expanded  \\\n",
       "label             1.000000  0.011313  0.261888      0.148573       0.070624   \n",
       "for               0.011313  1.000000 -0.014571     -0.005956      -0.005185   \n",
       "target            0.261888 -0.014571  1.000000     -0.007622      -0.003428   \n",
       "aria-invalid      0.148573 -0.005956 -0.007622      1.000000       0.082293   \n",
       "aria-expanded     0.070624 -0.005185 -0.003428      0.082293       1.000000   \n",
       "aria-disabled     0.337880 -0.017158 -0.007075      0.053166       0.005903   \n",
       "onclick           0.057284 -0.004279  0.017833     -0.002238      -0.001949   \n",
       "aria-haspopup     0.091554 -0.003991 -0.000943      0.278783       0.274527   \n",
       "id                0.098539  0.073118 -0.028434      0.226472       0.050046   \n",
       "placeholder       0.150005 -0.006345 -0.008120      0.243268       0.084202   \n",
       "min               0.085416 -0.003808 -0.004873      0.040057      -0.001734   \n",
       "aria-controls     0.064284 -0.004279 -0.005475     -0.002238       0.277338   \n",
       "aria-describedby  0.081901 -0.003582 -0.004584      0.199222      -0.001631   \n",
       "max               0.086228 -0.003713 -0.004751      0.008838      -0.001691   \n",
       "type              0.249192 -0.019809 -0.025350      0.083580       0.098813   \n",
       "href              0.372761 -0.037007  0.393724     -0.019360      -0.002962   \n",
       "aria-selected     0.065777 -0.003306 -0.004231     -0.001730      -0.001506   \n",
       "aria-required     0.129194 -0.005344 -0.006838      0.897152       0.092260   \n",
       "role              0.211064 -0.024873 -0.030423      0.049685       0.089817   \n",
       "name              0.008951 -0.010706 -0.013700      0.043432      -0.000546   \n",
       "value             0.050002 -0.010694 -0.013685      0.039713      -0.004870   \n",
       "\n",
       "                  aria-disabled   onclick  aria-haspopup        id  \\\n",
       "label                  0.337880  0.057284       0.091554  0.098539   \n",
       "for                   -0.017158 -0.004279      -0.003991  0.073118   \n",
       "target                -0.007075  0.017833      -0.000943 -0.028434   \n",
       "aria-invalid           0.053166 -0.002238       0.278783  0.226472   \n",
       "aria-expanded          0.005903 -0.001949       0.274527  0.050046   \n",
       "aria-disabled          1.000000 -0.006448      -0.002453  0.001508   \n",
       "onclick               -0.006448  1.000000      -0.001500  0.033382   \n",
       "aria-haspopup         -0.002453 -0.001500       1.000000  0.088232   \n",
       "id                     0.001508  0.033382       0.088232  1.000000   \n",
       "placeholder           -0.009562 -0.002384       0.101405  0.164977   \n",
       "min                   -0.002006 -0.001431       0.014329  0.060171   \n",
       "aria-controls          0.086575 -0.001608       0.026387  0.101475   \n",
       "aria-describedby       0.006500 -0.001346      -0.001256  0.070424   \n",
       "max                   -0.001768 -0.001395       0.014761  0.059528   \n",
       "type                  -0.029852  0.053495       0.089484  0.265787   \n",
       "href                  -0.045458  0.009643      -0.002152 -0.030262   \n",
       "aria-selected          0.119629 -0.001242      -0.001159  0.109898   \n",
       "aria-required          0.061171 -0.002008       0.311007  0.206109   \n",
       "role                   0.632681 -0.009347       0.051878  0.031315   \n",
       "name                  -0.013455 -0.004023      -0.003752  0.169564   \n",
       "value                 -0.012095  0.043216      -0.003748  0.186275   \n",
       "\n",
       "                  placeholder  ...  aria-controls  aria-describedby       max  \\\n",
       "label                0.150005  ...       0.064284          0.081901  0.086228   \n",
       "for                 -0.006345  ...      -0.004279         -0.003582 -0.003713   \n",
       "target              -0.008120  ...      -0.005475         -0.004584 -0.004751   \n",
       "aria-invalid         0.243268  ...      -0.002238          0.199222  0.008838   \n",
       "aria-expanded        0.084202  ...       0.277338         -0.001631 -0.001691   \n",
       "aria-disabled       -0.009562  ...       0.086575          0.006500 -0.001768   \n",
       "onclick             -0.002384  ...      -0.001608         -0.001346 -0.001395   \n",
       "aria-haspopup        0.101405  ...       0.026387         -0.001256  0.014761   \n",
       "id                   0.164977  ...       0.101475          0.070424  0.059528   \n",
       "placeholder          1.000000  ...       0.006404          0.197357  0.180171   \n",
       "min                  0.185459  ...      -0.001431         -0.001198  0.941403   \n",
       "aria-controls        0.006404  ...       1.000000         -0.001346 -0.001395   \n",
       "aria-describedby     0.197357  ...      -0.001346          1.000000 -0.001168   \n",
       "max                  0.180171  ...      -0.001395         -0.001168  1.000000   \n",
       "type                 0.241880  ...       0.059298          0.056125  0.174055   \n",
       "href                -0.020623  ...       0.001232         -0.011643 -0.012067   \n",
       "aria-selected       -0.001842  ...       0.671723         -0.001040 -0.001078   \n",
       "aria-required        0.264668  ...      -0.002008          0.172551  0.010266   \n",
       "role                 0.005236  ...       0.103713          0.037166 -0.005397   \n",
       "name                 0.043626  ...       0.006463          0.009150 -0.003491   \n",
       "value                0.093328  ...      -0.004019          0.021698  0.202073   \n",
       "\n",
       "                      type      href  aria-selected  aria-required      role  \\\n",
       "label             0.249192  0.372761       0.065777       0.129194  0.211064   \n",
       "for              -0.019809 -0.037007      -0.003306      -0.005344 -0.024873   \n",
       "target           -0.025350  0.393724      -0.004231      -0.006838 -0.030423   \n",
       "aria-invalid      0.083580 -0.019360      -0.001730       0.897152  0.049685   \n",
       "aria-expanded     0.098813 -0.002962      -0.001506       0.092260  0.089817   \n",
       "aria-disabled    -0.029852 -0.045458       0.119629       0.061171  0.632681   \n",
       "onclick           0.053495  0.009643      -0.001242      -0.002008 -0.009347   \n",
       "aria-haspopup     0.089484 -0.002152      -0.001159       0.311007  0.051878   \n",
       "id                0.265787 -0.030262       0.109898       0.206109  0.031315   \n",
       "placeholder       0.241880 -0.020623      -0.001842       0.264668  0.005236   \n",
       "min               0.182439 -0.012376      -0.001106       0.045054 -0.005672   \n",
       "aria-controls     0.059298  0.001232       0.671723      -0.002008  0.103713   \n",
       "aria-describedby  0.056125 -0.011643      -0.001040       0.172551  0.037166   \n",
       "max               0.174055 -0.012067      -0.001078       0.010266 -0.005397   \n",
       "type              1.000000 -0.045621       0.005508       0.065120 -0.026985   \n",
       "href             -0.045621  1.000000       0.006660      -0.017369 -0.075361   \n",
       "aria-selected     0.005508  0.006660       1.000000      -0.001552  0.132915   \n",
       "aria-required     0.065120 -0.017369      -0.001552       1.000000  0.058169   \n",
       "role             -0.026985 -0.075361       0.132915       0.058169  1.000000   \n",
       "name              0.286635 -0.034795      -0.003108       0.003379 -0.016741   \n",
       "value             0.296338 -0.034759      -0.003105       0.020217 -0.019561   \n",
       "\n",
       "                      name     value  \n",
       "label             0.008951  0.050002  \n",
       "for              -0.010706 -0.010694  \n",
       "target           -0.013700 -0.013685  \n",
       "aria-invalid      0.043432  0.039713  \n",
       "aria-expanded    -0.000546 -0.004870  \n",
       "aria-disabled    -0.013455 -0.012095  \n",
       "onclick          -0.004023  0.043216  \n",
       "aria-haspopup    -0.003752 -0.003748  \n",
       "id                0.169564  0.186275  \n",
       "placeholder       0.043626  0.093328  \n",
       "min              -0.003580  0.185080  \n",
       "aria-controls     0.006463 -0.004019  \n",
       "aria-describedby  0.009150  0.021698  \n",
       "max              -0.003491  0.202073  \n",
       "type              0.286635  0.296338  \n",
       "href             -0.034795 -0.034759  \n",
       "aria-selected    -0.003108 -0.003105  \n",
       "aria-required     0.003379  0.020217  \n",
       "role             -0.016741 -0.019561  \n",
       "name              1.000000  0.317816  \n",
       "value             0.317816  1.000000  \n",
       "\n",
       "[21 rows x 21 columns]"
      ]
     },
     "execution_count": 40,
     "metadata": {},
     "output_type": "execute_result"
    }
   ],
   "source": [
    "report_df.corr()"
   ]
  },
  {
   "cell_type": "code",
   "execution_count": 41,
   "id": "5a87887b",
   "metadata": {},
   "outputs": [
    {
     "data": {
      "application/vnd.jupyter.widget-view+json": {
       "model_id": "463e73ff6bd74059b2d2c3b6c802660a",
       "version_major": 2,
       "version_minor": 0
      },
      "text/plain": [
       "  0%|          | 0/47966 [00:00<?, ?it/s]"
      ]
     },
     "metadata": {},
     "output_type": "display_data"
    },
    {
     "data": {
      "text/html": [
       "<div>\n",
       "<style scoped>\n",
       "    .dataframe tbody tr th:only-of-type {\n",
       "        vertical-align: middle;\n",
       "    }\n",
       "\n",
       "    .dataframe tbody tr th {\n",
       "        vertical-align: top;\n",
       "    }\n",
       "\n",
       "    .dataframe thead th {\n",
       "        text-align: right;\n",
       "    }\n",
       "</style>\n",
       "<table border=\"1\" class=\"dataframe\">\n",
       "  <thead>\n",
       "    <tr style=\"text-align: right;\">\n",
       "      <th></th>\n",
       "      <th>aria-invalid</th>\n",
       "      <th>aria-haspopup</th>\n",
       "      <th>aria-expanded</th>\n",
       "      <th>aria-required</th>\n",
       "      <th>aria-disabled</th>\n",
       "      <th>aria-selected</th>\n",
       "      <th>aria-describedby</th>\n",
       "      <th>aria-controls</th>\n",
       "      <th>placeholder</th>\n",
       "      <th>value</th>\n",
       "      <th>for</th>\n",
       "      <th>onclick</th>\n",
       "      <th>target</th>\n",
       "      <th>id</th>\n",
       "      <th>name</th>\n",
       "      <th>min</th>\n",
       "      <th>max</th>\n",
       "    </tr>\n",
       "  </thead>\n",
       "  <tbody>\n",
       "    <tr>\n",
       "      <th>0</th>\n",
       "      <td>0</td>\n",
       "      <td>0</td>\n",
       "      <td>0</td>\n",
       "      <td>0</td>\n",
       "      <td>0</td>\n",
       "      <td>0</td>\n",
       "      <td>0</td>\n",
       "      <td>0</td>\n",
       "      <td>0</td>\n",
       "      <td>0</td>\n",
       "      <td>0</td>\n",
       "      <td>0</td>\n",
       "      <td>0</td>\n",
       "      <td>0</td>\n",
       "      <td>0</td>\n",
       "      <td>0</td>\n",
       "      <td>0</td>\n",
       "    </tr>\n",
       "    <tr>\n",
       "      <th>1</th>\n",
       "      <td>0</td>\n",
       "      <td>0</td>\n",
       "      <td>0</td>\n",
       "      <td>0</td>\n",
       "      <td>0</td>\n",
       "      <td>0</td>\n",
       "      <td>0</td>\n",
       "      <td>0</td>\n",
       "      <td>0</td>\n",
       "      <td>0</td>\n",
       "      <td>0</td>\n",
       "      <td>0</td>\n",
       "      <td>0</td>\n",
       "      <td>0</td>\n",
       "      <td>0</td>\n",
       "      <td>0</td>\n",
       "      <td>0</td>\n",
       "    </tr>\n",
       "    <tr>\n",
       "      <th>2</th>\n",
       "      <td>0</td>\n",
       "      <td>0</td>\n",
       "      <td>0</td>\n",
       "      <td>0</td>\n",
       "      <td>0</td>\n",
       "      <td>0</td>\n",
       "      <td>0</td>\n",
       "      <td>0</td>\n",
       "      <td>0</td>\n",
       "      <td>0</td>\n",
       "      <td>0</td>\n",
       "      <td>0</td>\n",
       "      <td>0</td>\n",
       "      <td>0</td>\n",
       "      <td>0</td>\n",
       "      <td>0</td>\n",
       "      <td>0</td>\n",
       "    </tr>\n",
       "    <tr>\n",
       "      <th>3</th>\n",
       "      <td>0</td>\n",
       "      <td>0</td>\n",
       "      <td>0</td>\n",
       "      <td>0</td>\n",
       "      <td>0</td>\n",
       "      <td>0</td>\n",
       "      <td>0</td>\n",
       "      <td>0</td>\n",
       "      <td>0</td>\n",
       "      <td>0</td>\n",
       "      <td>0</td>\n",
       "      <td>0</td>\n",
       "      <td>0</td>\n",
       "      <td>0</td>\n",
       "      <td>0</td>\n",
       "      <td>0</td>\n",
       "      <td>0</td>\n",
       "    </tr>\n",
       "    <tr>\n",
       "      <th>4</th>\n",
       "      <td>0</td>\n",
       "      <td>0</td>\n",
       "      <td>0</td>\n",
       "      <td>0</td>\n",
       "      <td>0</td>\n",
       "      <td>0</td>\n",
       "      <td>0</td>\n",
       "      <td>0</td>\n",
       "      <td>0</td>\n",
       "      <td>0</td>\n",
       "      <td>0</td>\n",
       "      <td>0</td>\n",
       "      <td>0</td>\n",
       "      <td>0</td>\n",
       "      <td>0</td>\n",
       "      <td>0</td>\n",
       "      <td>0</td>\n",
       "    </tr>\n",
       "    <tr>\n",
       "      <th>...</th>\n",
       "      <td>...</td>\n",
       "      <td>...</td>\n",
       "      <td>...</td>\n",
       "      <td>...</td>\n",
       "      <td>...</td>\n",
       "      <td>...</td>\n",
       "      <td>...</td>\n",
       "      <td>...</td>\n",
       "      <td>...</td>\n",
       "      <td>...</td>\n",
       "      <td>...</td>\n",
       "      <td>...</td>\n",
       "      <td>...</td>\n",
       "      <td>...</td>\n",
       "      <td>...</td>\n",
       "      <td>...</td>\n",
       "      <td>...</td>\n",
       "    </tr>\n",
       "    <tr>\n",
       "      <th>47961</th>\n",
       "      <td>0</td>\n",
       "      <td>0</td>\n",
       "      <td>0</td>\n",
       "      <td>0</td>\n",
       "      <td>0</td>\n",
       "      <td>0</td>\n",
       "      <td>0</td>\n",
       "      <td>0</td>\n",
       "      <td>0</td>\n",
       "      <td>0</td>\n",
       "      <td>0</td>\n",
       "      <td>0</td>\n",
       "      <td>0</td>\n",
       "      <td>0</td>\n",
       "      <td>0</td>\n",
       "      <td>0</td>\n",
       "      <td>0</td>\n",
       "    </tr>\n",
       "    <tr>\n",
       "      <th>47962</th>\n",
       "      <td>0</td>\n",
       "      <td>0</td>\n",
       "      <td>0</td>\n",
       "      <td>0</td>\n",
       "      <td>0</td>\n",
       "      <td>0</td>\n",
       "      <td>0</td>\n",
       "      <td>0</td>\n",
       "      <td>0</td>\n",
       "      <td>0</td>\n",
       "      <td>0</td>\n",
       "      <td>0</td>\n",
       "      <td>0</td>\n",
       "      <td>0</td>\n",
       "      <td>0</td>\n",
       "      <td>0</td>\n",
       "      <td>0</td>\n",
       "    </tr>\n",
       "    <tr>\n",
       "      <th>47963</th>\n",
       "      <td>0</td>\n",
       "      <td>0</td>\n",
       "      <td>0</td>\n",
       "      <td>0</td>\n",
       "      <td>0</td>\n",
       "      <td>0</td>\n",
       "      <td>0</td>\n",
       "      <td>0</td>\n",
       "      <td>0</td>\n",
       "      <td>0</td>\n",
       "      <td>0</td>\n",
       "      <td>0</td>\n",
       "      <td>0</td>\n",
       "      <td>0</td>\n",
       "      <td>0</td>\n",
       "      <td>0</td>\n",
       "      <td>0</td>\n",
       "    </tr>\n",
       "    <tr>\n",
       "      <th>47964</th>\n",
       "      <td>0</td>\n",
       "      <td>0</td>\n",
       "      <td>0</td>\n",
       "      <td>0</td>\n",
       "      <td>0</td>\n",
       "      <td>0</td>\n",
       "      <td>0</td>\n",
       "      <td>0</td>\n",
       "      <td>0</td>\n",
       "      <td>0</td>\n",
       "      <td>0</td>\n",
       "      <td>0</td>\n",
       "      <td>0</td>\n",
       "      <td>0</td>\n",
       "      <td>0</td>\n",
       "      <td>0</td>\n",
       "      <td>0</td>\n",
       "    </tr>\n",
       "    <tr>\n",
       "      <th>47965</th>\n",
       "      <td>0</td>\n",
       "      <td>0</td>\n",
       "      <td>0</td>\n",
       "      <td>0</td>\n",
       "      <td>0</td>\n",
       "      <td>0</td>\n",
       "      <td>0</td>\n",
       "      <td>0</td>\n",
       "      <td>0</td>\n",
       "      <td>0</td>\n",
       "      <td>0</td>\n",
       "      <td>0</td>\n",
       "      <td>0</td>\n",
       "      <td>0</td>\n",
       "      <td>0</td>\n",
       "      <td>0</td>\n",
       "      <td>0</td>\n",
       "    </tr>\n",
       "  </tbody>\n",
       "</table>\n",
       "<p>47966 rows × 17 columns</p>\n",
       "</div>"
      ],
      "text/plain": [
       "       aria-invalid  aria-haspopup  aria-expanded  aria-required  \\\n",
       "0                 0              0              0              0   \n",
       "1                 0              0              0              0   \n",
       "2                 0              0              0              0   \n",
       "3                 0              0              0              0   \n",
       "4                 0              0              0              0   \n",
       "...             ...            ...            ...            ...   \n",
       "47961             0              0              0              0   \n",
       "47962             0              0              0              0   \n",
       "47963             0              0              0              0   \n",
       "47964             0              0              0              0   \n",
       "47965             0              0              0              0   \n",
       "\n",
       "       aria-disabled  aria-selected  aria-describedby  aria-controls  \\\n",
       "0                  0              0                 0              0   \n",
       "1                  0              0                 0              0   \n",
       "2                  0              0                 0              0   \n",
       "3                  0              0                 0              0   \n",
       "4                  0              0                 0              0   \n",
       "...              ...            ...               ...            ...   \n",
       "47961              0              0                 0              0   \n",
       "47962              0              0                 0              0   \n",
       "47963              0              0                 0              0   \n",
       "47964              0              0                 0              0   \n",
       "47965              0              0                 0              0   \n",
       "\n",
       "       placeholder  value  for  onclick  target  id  name  min  max  \n",
       "0                0      0    0        0       0   0     0    0    0  \n",
       "1                0      0    0        0       0   0     0    0    0  \n",
       "2                0      0    0        0       0   0     0    0    0  \n",
       "3                0      0    0        0       0   0     0    0    0  \n",
       "4                0      0    0        0       0   0     0    0    0  \n",
       "...            ...    ...  ...      ...     ...  ..   ...  ...  ...  \n",
       "47961            0      0    0        0       0   0     0    0    0  \n",
       "47962            0      0    0        0       0   0     0    0    0  \n",
       "47963            0      0    0        0       0   0     0    0    0  \n",
       "47964            0      0    0        0       0   0     0    0    0  \n",
       "47965            0      0    0        0       0   0     0    0    0  \n",
       "\n",
       "[47966 rows x 17 columns]"
      ]
     },
     "execution_count": 41,
     "metadata": {},
     "output_type": "execute_result"
    }
   ],
   "source": [
    "attributes_df = build_attributes_feature(df)\n",
    "attributes_df"
   ]
  },
  {
   "cell_type": "code",
   "execution_count": 42,
   "id": "4892e0a1",
   "metadata": {},
   "outputs": [
    {
     "data": {
      "text/plain": [
       "(<47966x17 sparse matrix of type '<class 'numpy.int64'>'\n",
       " \twith 7247 stored elements in Compressed Sparse Row format>,\n",
       " 7247)"
      ]
     },
     "execution_count": 42,
     "metadata": {},
     "output_type": "execute_result"
    }
   ],
   "source": [
    "csr_matrix(attributes_df.values), attributes_df.values.sum()"
   ]
  },
  {
   "cell_type": "code",
   "execution_count": null,
   "id": "0bf808b3",
   "metadata": {},
   "outputs": [],
   "source": []
  }
 ],
 "metadata": {
  "kernelspec": {
   "display_name": "Python 3",
   "language": "python",
   "name": "python3"
  },
  "language_info": {
   "codemirror_mode": {
    "name": "ipython",
    "version": 3
   },
   "file_extension": ".py",
   "mimetype": "text/x-python",
   "name": "python",
   "nbconvert_exporter": "python",
   "pygments_lexer": "ipython3",
   "version": "3.7.9"
  }
 },
 "nbformat": 4,
 "nbformat_minor": 5
}
