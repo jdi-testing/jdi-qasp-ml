{
 "cells": [
  {
   "cell_type": "code",
   "execution_count": 1,
   "id": "a6b425fd",
   "metadata": {},
   "outputs": [
    {
     "name": "stdout",
     "output_type": "stream",
     "text": [
      "2021-06-18 18:29:32,338 -INFO - config:config.py:16 - Module utils.config was loaded\n",
      "2021-06-18 18:29:32,341 -INFO - common:common.py:618 - Module utils.common is loaded...\n",
      "2021-06-18 18:29:32,343 -INFO - hidden:hidden.py:121 - hidden module is loaded\n",
      "2021-06-18 18:29:32,670 -INFO - features_builder:features_builder.py:305 - feature_bilder module is loaded...\n",
      "2021-06-18 18:29:32,672 -INFO - dataset_builder:dataset_builder.py:207 - dataset package is loaded...\n",
      "2021-06-18 18:29:33,015 -INFO - dataset:dataset.py:273 - dataset module is loaded...\n"
     ]
    },
    {
     "data": {
      "text/html": [
       "2021-06-18 18:29:33.019974 - Current working directory: <b>D:\\DataScience\\!WORK\\jdi-qasp-ml</b>"
      ],
      "text/plain": [
       "<IPython.core.display.HTML object>"
      ]
     },
     "metadata": {},
     "output_type": "display_data"
    }
   ],
   "source": [
    "import sys\n",
    "import re\n",
    "import os\n",
    "from datetime import datetime\n",
    "from time import sleep\n",
    "from IPython.display import display, clear_output, HTML\n",
    "import logging\n",
    "\n",
    "# set working dir\n",
    "WORKING_DIR = re.sub('jdi-qasp-ml.*$','',os.path.normpath(os.getcwd())) + 'jdi-qasp-ml'\n",
    "os.chdir(WORKING_DIR)\n",
    "\n",
    "import utils\n",
    "from utils import *\n",
    "import torch\n",
    "import pandas as pd\n",
    "import numpy as np\n",
    "\n",
    "import torch\n",
    "from torch.utils.data import Dataset, DataLoader\n",
    "\n",
    "from glob import glob\n",
    "import selenium\n",
    "from tqdm.auto import tqdm, trange\n",
    "\n",
    "START_TS = datetime.now()\n",
    "display(HTML(f'{START_TS} - Current working directory: <b>{WORKING_DIR}</b>'))\n",
    "\n",
    "import matplotlib.pyplot as plt\n",
    "import matplotlib.patches as patches\n",
    "%matplotlib inline\n",
    "from scipy.sparse import csc_matrix, csr_matrix, vstack\n",
    "\n",
    "import numba\n"
   ]
  },
  {
   "cell_type": "code",
   "execution_count": 2,
   "id": "0a7ad7e6",
   "metadata": {},
   "outputs": [],
   "source": [
    "TRAIN_DATASETS = [\n",
    "    'angular',\n",
    "    'bootstrap-1',\n",
    "    # 'bootstrap-form-control',\n",
    "    'bootstrap-form',\n",
    "    'bootstrap-forms',\n",
    "    'bootstrap-reboot',\n",
    "    'bootstrap',\n",
    "    'complex-table',\n",
    "    'contact-form',\n",
    "    # 'dates',\n",
    "    \"different-elements\",\n",
    "    'gitlab',\n",
    "    'google-voice',\n",
    "    'html-5',\n",
    "    'login',\n",
    "    'metals-and-colors',\n",
    "    # 'mobile-and-html-5',\n",
    "    'ms-office',\n",
    "    'ozon',\n",
    "    'performance',\n",
    "    'react-ant',\n",
    "    # 'search',\n",
    "    # 'support',\n",
    "    # 'table-with-pages',\n",
    "    'user-table',\n",
    "    'wildberries',\n",
    "    'material-ui-Button Groups',\n",
    "    'material-ui-Switch',\n",
    "    'material-ui-Textarea Autosize',\n",
    "    'material-ui-Progress',\n",
    "    'material-ui-Radio',\n",
    "    'material-ui-Buttons',\n",
    "    'material-ui-Checkbox',\n",
    "    'material-ui-List',\n",
    "    'material-ui-Text Field',\n",
    "    'material-ui-Floating Action Button',\n",
    "    'material-ui-Slider',\n",
    "    'material-ui-Select'\n",
    "]\n",
    "\n",
    "TEST_DATASETS = [\n",
    "    'dates',\n",
    "    'search',\n",
    "    'support',\n",
    "    'table-with-pages',\n",
    "    'mobile-and-html-5',\n",
    "    'phys-org'\n",
    "]"
   ]
  },
  {
   "cell_type": "code",
   "execution_count": 3,
   "id": "98cc5ab3",
   "metadata": {},
   "outputs": [
    {
     "name": "stdout",
     "output_type": "stream",
     "text": [
      "2021-06-18 18:29:33,877 -INFO - <ipython-input-3-43c6dd9f1c24>:<ipython-input-3-43c6dd9f1c24>:2 - device: cuda\n"
     ]
    }
   ],
   "source": [
    "DEVICE = 'cuda' if torch.cuda.is_available() else 'cpu'\n",
    "logger.info(f'device: {DEVICE}')"
   ]
  },
  {
   "cell_type": "code",
   "execution_count": 4,
   "id": "0700d97d",
   "metadata": {},
   "outputs": [],
   "source": [
    "class JDNDataset(Dataset):\n",
    "    \n",
    "    def __init__(self, datasets_list: list=None, rebalance_and_suffle: bool=True):\n",
    "        \n",
    "        super(JDNDataset, self).__init__()\n",
    "        self.rebalance_and_suffle = rebalance_and_suffle\n",
    "        \n",
    "        if datasets_list is None:\n",
    "            logger.info('Will use all available datasets')\n",
    "            ds_files = glob('dataset/df/*.parquet')\n",
    "            ds_files = [(fn, 'dataset/annotations/' + re.split(r'[/\\\\]', re.sub(r'\\.parquet$', '', fn))[-1] + '.txt') for fn in ds_files]\n",
    "        else:\n",
    "            ds_files = [(f'dataset/df/{fn}.parquet', f'dataset/annotations/{fn}.txt') for fn in datasets_list]\n",
    "        \n",
    "        # display(ds_files)\n",
    "        \n",
    "        df_list = []\n",
    "        \n",
    "        logger.setLevel(logging.ERROR)\n",
    "        with trange(len(ds_files)) as bar:\n",
    "            for df_file_path, ann_file_path in ds_files:\n",
    "                if not os.path.exists(df_file_path):\n",
    "                    logger.error(f'File: {df_file_path} does not extst')\n",
    "                else:\n",
    "                    bar.set_postfix_str(f'{df_file_path}, {ann_file_path}')\n",
    "                    df = pd.read_parquet(df_file_path)\n",
    "                    df = build_features(df)\n",
    "                    df = assign_labels(df=df, annotations_file_path=ann_file_path)\n",
    "                    df_list.append(df)\n",
    "                bar.update(1)\n",
    "        \n",
    "        logger.setLevel(logging.DEBUG)\n",
    "        \n",
    "        self.df = pd.concat(df_list)\n",
    "        logger.info(f'self.df.shape: {self.df.shape}')\n",
    "        \n",
    "        logger.info('Check for duplicates...')\n",
    "        if self.df.element_id.nunique() != self.df.shape[0]:\n",
    "            logger.fatal('There are duplicates in the dataset')\n",
    "            raise Exception('There are duplicates in the dataset')\n",
    "        logger.info('Check for duplicates is OK')\n",
    "            \n",
    "        self.X, self.y = collect_dataset(self.df)\n",
    "        \n",
    "        if self.rebalance_and_suffle:\n",
    "            self.indices = np.array(rebalance(self.y))\n",
    "        else:\n",
    "            self.indices = np.array([i for i in range(len(self.y))])\n",
    "        \n",
    "    def __getitem__(self, idx):\n",
    "        return self.X[self.indices[idx]], self.y[self.indices[idx]]\n",
    "    \n",
    "    def __len__(self):\n",
    "        return self.indices.shape[0]\n"
   ]
  },
  {
   "cell_type": "code",
   "execution_count": 5,
   "id": "310876b7",
   "metadata": {
    "scrolled": false
   },
   "outputs": [
    {
     "data": {
      "application/vnd.jupyter.widget-view+json": {
       "model_id": "abca31cf284e4c449da09dab191bedfc",
       "version_major": 2,
       "version_minor": 0
      },
      "text/plain": [
       "  0%|          | 0/32 [00:00<?, ?it/s]"
      ]
     },
     "metadata": {},
     "output_type": "display_data"
    },
    {
     "name": "stdout",
     "output_type": "stream",
     "text": [
      "2021-06-18 18:30:01,555 -INFO - <ipython-input-4-1ee8047141fa>:<ipython-input-4-1ee8047141fa>:35 - self.df.shape: (39826, 24)\n",
      "2021-06-18 18:30:01,555 -INFO - <ipython-input-4-1ee8047141fa>:<ipython-input-4-1ee8047141fa>:37 - Check for duplicates...\n",
      "2021-06-18 18:30:01,565 -INFO - <ipython-input-4-1ee8047141fa>:<ipython-input-4-1ee8047141fa>:41 - Check for duplicates is OK\n",
      "2021-06-18 18:30:01,707 -INFO - features_builder:features_builder.py:228 - used column: tag_name\n",
      "2021-06-18 18:30:01,708 -INFO - features_builder:features_builder.py:231 - loading model/ohe_tag_name.pkl\n",
      "2021-06-18 18:30:01,725 -INFO - features_builder:features_builder.py:228 - used column: tag_name_parent\n",
      "2021-06-18 18:30:01,725 -INFO - features_builder:features_builder.py:231 - loading model/ohe_tag_name.pkl\n",
      "2021-06-18 18:30:01,742 -INFO - features_builder:features_builder.py:228 - used column: tag_name_upsib\n",
      "2021-06-18 18:30:01,743 -INFO - features_builder:features_builder.py:231 - loading model/ohe_tag_name.pkl\n",
      "2021-06-18 18:30:01,761 -INFO - features_builder:features_builder.py:228 - used column: tag_name_dnsib\n",
      "2021-06-18 18:30:01,762 -INFO - features_builder:features_builder.py:231 - loading model/ohe_tag_name.pkl\n",
      "2021-06-18 18:30:01,778 -INFO - dataset_collector:dataset_collector.py:46 - tag_name: (39826, 27)\n",
      "2021-06-18 18:30:01,778 -INFO - features_builder:features_builder.py:152 - used column: attributes_parent\n"
     ]
    },
    {
     "data": {
      "application/vnd.jupyter.widget-view+json": {
       "model_id": "7bfa965416454847b5f207d81157e654",
       "version_major": 2,
       "version_minor": 0
      },
      "text/plain": [
       "  0%|          | 0/39826 [00:00<?, ?it/s]"
      ]
     },
     "metadata": {},
     "output_type": "display_data"
    },
    {
     "name": "stdout",
     "output_type": "stream",
     "text": [
      "2021-06-18 18:30:04,791 -INFO - features_builder:features_builder.py:152 - used column: attributes_parent\n"
     ]
    },
    {
     "data": {
      "application/vnd.jupyter.widget-view+json": {
       "model_id": "a31a9b92904b4a188acf0d0f223d5b9e",
       "version_major": 2,
       "version_minor": 0
      },
      "text/plain": [
       "  0%|          | 0/39826 [00:00<?, ?it/s]"
      ]
     },
     "metadata": {},
     "output_type": "display_data"
    },
    {
     "name": "stdout",
     "output_type": "stream",
     "text": [
      "2021-06-18 18:30:07,828 -INFO - features_builder:features_builder.py:152 - used column: attributes_upsib\n"
     ]
    },
    {
     "data": {
      "application/vnd.jupyter.widget-view+json": {
       "model_id": "cd696fb187004b0fa692950d82dd2fd2",
       "version_major": 2,
       "version_minor": 0
      },
      "text/plain": [
       "  0%|          | 0/39826 [00:00<?, ?it/s]"
      ]
     },
     "metadata": {},
     "output_type": "display_data"
    },
    {
     "name": "stdout",
     "output_type": "stream",
     "text": [
      "2021-06-18 18:30:10,798 -INFO - features_builder:features_builder.py:152 - used column: attributes_dnsib\n"
     ]
    },
    {
     "data": {
      "application/vnd.jupyter.widget-view+json": {
       "model_id": "085b59609f7f4d439f5c5177e590a97b",
       "version_major": 2,
       "version_minor": 0
      },
      "text/plain": [
       "  0%|          | 0/39826 [00:00<?, ?it/s]"
      ]
     },
     "metadata": {},
     "output_type": "display_data"
    },
    {
     "name": "stdout",
     "output_type": "stream",
     "text": [
      "2021-06-18 18:30:13,830 -INFO - dataset_collector:dataset_collector.py:53 - attributes_sm: (39826, 17)\n",
      "2021-06-18 18:30:13,830 -INFO - features_builder:features_builder.py:188 - used column: attributes\n",
      "2021-06-18 18:30:13,831 -INFO - features_builder:features_builder.py:191 - TfIdfVectorizer for class attribute exists. Loaging...\n",
      "2021-06-18 18:30:13,990 -INFO - features_builder:features_builder.py:188 - used column: attributes_parent\n",
      "2021-06-18 18:30:13,991 -INFO - features_builder:features_builder.py:191 - TfIdfVectorizer for class attribute exists. Loaging...\n",
      "2021-06-18 18:30:14,164 -INFO - features_builder:features_builder.py:188 - used column: attributes_upsib\n",
      "2021-06-18 18:30:14,165 -INFO - features_builder:features_builder.py:191 - TfIdfVectorizer for class attribute exists. Loaging...\n",
      "2021-06-18 18:30:14,285 -INFO - features_builder:features_builder.py:188 - used column: attributes_dnsib\n",
      "2021-06-18 18:30:14,286 -INFO - features_builder:features_builder.py:191 - TfIdfVectorizer for class attribute exists. Loaging...\n",
      "2021-06-18 18:30:14,415 -INFO - dataset_collector:dataset_collector.py:60 - class_sm: (39826, 335)\n",
      "2021-06-18 18:30:14,416 -INFO - features_builder:features_builder.py:279 - used column: attributes\n",
      "2021-06-18 18:30:14,418 -INFO - features_builder:features_builder.py:282 - loading model/ohe_type.pkl\n",
      "2021-06-18 18:30:14,448 -INFO - features_builder:features_builder.py:279 - used column: attributes_parent\n",
      "2021-06-18 18:30:14,449 -INFO - features_builder:features_builder.py:282 - loading model/ohe_type.pkl\n",
      "2021-06-18 18:30:14,473 -INFO - features_builder:features_builder.py:279 - used column: attributes_upsib\n",
      "2021-06-18 18:30:14,474 -INFO - features_builder:features_builder.py:282 - loading model/ohe_type.pkl\n",
      "2021-06-18 18:30:14,503 -INFO - features_builder:features_builder.py:279 - used column: attributes_dnsib\n",
      "2021-06-18 18:30:14,504 -INFO - features_builder:features_builder.py:282 - loading model/ohe_type.pkl\n",
      "2021-06-18 18:30:14,533 -INFO - dataset_collector:dataset_collector.py:67 - type_sm: (39826, 22)\n",
      "2021-06-18 18:30:14,533 -INFO - features_builder:features_builder.py:251 - used column: attributes\n",
      "2021-06-18 18:30:14,535 -INFO - features_builder:features_builder.py:254 - loading model/ohe_role.pkl\n",
      "2021-06-18 18:30:14,566 -INFO - features_builder:features_builder.py:251 - used column: attributes_parent\n",
      "2021-06-18 18:30:14,567 -INFO - features_builder:features_builder.py:254 - loading model/ohe_role.pkl\n",
      "2021-06-18 18:30:14,598 -INFO - features_builder:features_builder.py:251 - used column: attributes_upsib\n",
      "2021-06-18 18:30:14,600 -INFO - features_builder:features_builder.py:254 - loading model/ohe_role.pkl\n",
      "2021-06-18 18:30:14,629 -INFO - features_builder:features_builder.py:251 - used column: attributes_dnsib\n",
      "2021-06-18 18:30:14,630 -INFO - features_builder:features_builder.py:254 - loading model/ohe_role.pkl\n",
      "2021-06-18 18:30:14,662 -INFO - dataset_collector:dataset_collector.py:74 - role_sm: (39826, 11)\n",
      "2021-06-18 18:30:14,927 -INFO - dataset_collector:dataset_collector.py:107 - X: (39826, 1656)\n",
      "2021-06-18 18:30:14,932 -INFO - dataset:dataset.py:181 - Rebalance dataset\n",
      "2021-06-18 18:30:14,938 -INFO - dataset:dataset.py:194 - \"n/a\" count: 36185, labels count: 3641\n"
     ]
    },
    {
     "data": {
      "text/html": [
       "<div>\n",
       "<style scoped>\n",
       "    .dataframe tbody tr th:only-of-type {\n",
       "        vertical-align: middle;\n",
       "    }\n",
       "\n",
       "    .dataframe tbody tr th {\n",
       "        vertical-align: top;\n",
       "    }\n",
       "\n",
       "    .dataframe thead th {\n",
       "        text-align: right;\n",
       "    }\n",
       "</style>\n",
       "<table border=\"1\" class=\"dataframe\">\n",
       "  <thead>\n",
       "    <tr style=\"text-align: right;\">\n",
       "      <th></th>\n",
       "      <th>label</th>\n",
       "      <th>label_text</th>\n",
       "      <th>cnt</th>\n",
       "      <th>ratio</th>\n",
       "      <th>cnt_rebalanced</th>\n",
       "    </tr>\n",
       "  </thead>\n",
       "  <tbody>\n",
       "    <tr>\n",
       "      <th>0</th>\n",
       "      <td>0</td>\n",
       "      <td>button</td>\n",
       "      <td>1158</td>\n",
       "      <td>4</td>\n",
       "      <td>4632</td>\n",
       "    </tr>\n",
       "    <tr>\n",
       "      <th>1</th>\n",
       "      <td>1</td>\n",
       "      <td>link</td>\n",
       "      <td>1636</td>\n",
       "      <td>3</td>\n",
       "      <td>4908</td>\n",
       "    </tr>\n",
       "    <tr>\n",
       "      <th>2</th>\n",
       "      <td>2</td>\n",
       "      <td>textfield</td>\n",
       "      <td>207</td>\n",
       "      <td>24</td>\n",
       "      <td>4968</td>\n",
       "    </tr>\n",
       "    <tr>\n",
       "      <th>3</th>\n",
       "      <td>3</td>\n",
       "      <td>dropdown</td>\n",
       "      <td>7</td>\n",
       "      <td>738</td>\n",
       "      <td>5166</td>\n",
       "    </tr>\n",
       "    <tr>\n",
       "      <th>4</th>\n",
       "      <td>4</td>\n",
       "      <td>checkbox</td>\n",
       "      <td>239</td>\n",
       "      <td>21</td>\n",
       "      <td>5019</td>\n",
       "    </tr>\n",
       "    <tr>\n",
       "      <th>5</th>\n",
       "      <td>5</td>\n",
       "      <td>radiobutton</td>\n",
       "      <td>105</td>\n",
       "      <td>49</td>\n",
       "      <td>5145</td>\n",
       "    </tr>\n",
       "    <tr>\n",
       "      <th>6</th>\n",
       "      <td>6</td>\n",
       "      <td>textarea</td>\n",
       "      <td>20</td>\n",
       "      <td>258</td>\n",
       "      <td>5160</td>\n",
       "    </tr>\n",
       "    <tr>\n",
       "      <th>7</th>\n",
       "      <td>7</td>\n",
       "      <td>fileinput</td>\n",
       "      <td>7</td>\n",
       "      <td>738</td>\n",
       "      <td>5166</td>\n",
       "    </tr>\n",
       "    <tr>\n",
       "      <th>8</th>\n",
       "      <td>8</td>\n",
       "      <td>iframe</td>\n",
       "      <td>5</td>\n",
       "      <td>1033</td>\n",
       "      <td>5165</td>\n",
       "    </tr>\n",
       "    <tr>\n",
       "      <th>9</th>\n",
       "      <td>9</td>\n",
       "      <td>range</td>\n",
       "      <td>6</td>\n",
       "      <td>861</td>\n",
       "      <td>5166</td>\n",
       "    </tr>\n",
       "    <tr>\n",
       "      <th>10</th>\n",
       "      <td>10</td>\n",
       "      <td>progressbar</td>\n",
       "      <td>20</td>\n",
       "      <td>258</td>\n",
       "      <td>5160</td>\n",
       "    </tr>\n",
       "    <tr>\n",
       "      <th>11</th>\n",
       "      <td>11</td>\n",
       "      <td>datetimeselector</td>\n",
       "      <td>25</td>\n",
       "      <td>206</td>\n",
       "      <td>5150</td>\n",
       "    </tr>\n",
       "    <tr>\n",
       "      <th>12</th>\n",
       "      <td>12</td>\n",
       "      <td>colorpicker</td>\n",
       "      <td>4</td>\n",
       "      <td>1292</td>\n",
       "      <td>5168</td>\n",
       "    </tr>\n",
       "    <tr>\n",
       "      <th>13</th>\n",
       "      <td>13</td>\n",
       "      <td>numberselector</td>\n",
       "      <td>2</td>\n",
       "      <td>2584</td>\n",
       "      <td>5168</td>\n",
       "    </tr>\n",
       "    <tr>\n",
       "      <th>14</th>\n",
       "      <td>14</td>\n",
       "      <td>selector</td>\n",
       "      <td>80</td>\n",
       "      <td>64</td>\n",
       "      <td>5120</td>\n",
       "    </tr>\n",
       "    <tr>\n",
       "      <th>15</th>\n",
       "      <td>15</td>\n",
       "      <td>table</td>\n",
       "      <td>21</td>\n",
       "      <td>246</td>\n",
       "      <td>5166</td>\n",
       "    </tr>\n",
       "    <tr>\n",
       "      <th>16</th>\n",
       "      <td>16</td>\n",
       "      <td>switch</td>\n",
       "      <td>29</td>\n",
       "      <td>178</td>\n",
       "      <td>5162</td>\n",
       "    </tr>\n",
       "    <tr>\n",
       "      <th>17</th>\n",
       "      <td>17</td>\n",
       "      <td>slider</td>\n",
       "      <td>27</td>\n",
       "      <td>191</td>\n",
       "      <td>5157</td>\n",
       "    </tr>\n",
       "    <tr>\n",
       "      <th>18</th>\n",
       "      <td>18</td>\n",
       "      <td>tree-node</td>\n",
       "      <td>10</td>\n",
       "      <td>516</td>\n",
       "      <td>5160</td>\n",
       "    </tr>\n",
       "    <tr>\n",
       "      <th>19</th>\n",
       "      <td>19</td>\n",
       "      <td>steper</td>\n",
       "      <td>7</td>\n",
       "      <td>738</td>\n",
       "      <td>5166</td>\n",
       "    </tr>\n",
       "    <tr>\n",
       "      <th>20</th>\n",
       "      <td>20</td>\n",
       "      <td>tab</td>\n",
       "      <td>26</td>\n",
       "      <td>198</td>\n",
       "      <td>5148</td>\n",
       "    </tr>\n",
       "    <tr>\n",
       "      <th>21</th>\n",
       "      <td>21</td>\n",
       "      <td>n/a</td>\n",
       "      <td>36185</td>\n",
       "      <td>1</td>\n",
       "      <td>36185</td>\n",
       "    </tr>\n",
       "  </tbody>\n",
       "</table>\n",
       "</div>"
      ],
      "text/plain": [
       "    label        label_text    cnt  ratio  cnt_rebalanced\n",
       "0       0            button   1158      4            4632\n",
       "1       1              link   1636      3            4908\n",
       "2       2         textfield    207     24            4968\n",
       "3       3          dropdown      7    738            5166\n",
       "4       4          checkbox    239     21            5019\n",
       "5       5       radiobutton    105     49            5145\n",
       "6       6          textarea     20    258            5160\n",
       "7       7         fileinput      7    738            5166\n",
       "8       8            iframe      5   1033            5165\n",
       "9       9             range      6    861            5166\n",
       "10     10       progressbar     20    258            5160\n",
       "11     11  datetimeselector     25    206            5150\n",
       "12     12       colorpicker      4   1292            5168\n",
       "13     13    numberselector      2   2584            5168\n",
       "14     14          selector     80     64            5120\n",
       "15     15             table     21    246            5166\n",
       "16     16            switch     29    178            5162\n",
       "17     17            slider     27    191            5157\n",
       "18     18         tree-node     10    516            5160\n",
       "19     19            steper      7    738            5166\n",
       "20     20               tab     26    198            5148\n",
       "21     21               n/a  36185      1           36185"
      ]
     },
     "metadata": {},
     "output_type": "display_data"
    },
    {
     "name": "stdout",
     "output_type": "stream",
     "text": [
      "2021-06-18 18:30:14,971 -INFO - dataset:dataset.py:209 - Rebalanced and shuffled indices: 143405\n"
     ]
    }
   ],
   "source": [
    "jdn_dataset = JDNDataset(datasets_list = TRAIN_DATASETS)\n"
   ]
  },
  {
   "cell_type": "code",
   "execution_count": 6,
   "id": "c01c7c69",
   "metadata": {},
   "outputs": [
    {
     "data": {
      "text/html": [
       "<h1><b>The dataset is OK, there are no duplicates: 39826, 39826</b></h1>"
      ],
      "text/plain": [
       "<IPython.core.display.HTML object>"
      ]
     },
     "metadata": {},
     "output_type": "display_data"
    }
   ],
   "source": [
    "assert jdn_dataset.df.element_id.nunique() == jdn_dataset.df.shape[0], \"There are duplicates in the dataset\"\n",
    "display(HTML(f\"<h1><b>The dataset is OK, there are no duplicates: {jdn_dataset.df.element_id.nunique()}, {jdn_dataset.df.shape[0]}</b></h1>\"))"
   ]
  },
  {
   "cell_type": "code",
   "execution_count": 7,
   "id": "25187337",
   "metadata": {},
   "outputs": [
    {
     "data": {
      "text/plain": [
       "array([32630, 14541, 10190, ..., 11789, 27250, 16857])"
      ]
     },
     "execution_count": 7,
     "metadata": {},
     "output_type": "execute_result"
    }
   ],
   "source": [
    "jdn_dataset.indices"
   ]
  },
  {
   "cell_type": "code",
   "execution_count": 8,
   "id": "0dd259be",
   "metadata": {},
   "outputs": [
    {
     "data": {
      "text/plain": [
       "(array([[0., 0., 0., ..., 0., 1., 1.],\n",
       "        [0., 0., 0., ..., 0., 0., 1.],\n",
       "        [0., 0., 0., ..., 0., 0., 0.],\n",
       "        [0., 0., 0., ..., 1., 1., 1.]]),\n",
       " array([18,  9, 21, 16]))"
      ]
     },
     "execution_count": 8,
     "metadata": {},
     "output_type": "execute_result"
    }
   ],
   "source": [
    "jdn_dataset[jdn_dataset.indices[[0,1,2,-1]]]"
   ]
  },
  {
   "cell_type": "markdown",
   "id": "02ce5744",
   "metadata": {},
   "source": [
    " "
   ]
  },
  {
   "cell_type": "markdown",
   "id": "121aa524",
   "metadata": {},
   "source": [
    " "
   ]
  },
  {
   "cell_type": "markdown",
   "id": "f8f91ec1",
   "metadata": {},
   "source": [
    " "
   ]
  },
  {
   "cell_type": "markdown",
   "id": "ee2387e7",
   "metadata": {},
   "source": [
    " "
   ]
  },
  {
   "cell_type": "markdown",
   "id": "1542a908",
   "metadata": {},
   "source": [
    " # Dataloader"
   ]
  },
  {
   "cell_type": "code",
   "execution_count": 9,
   "id": "9563da28",
   "metadata": {
    "scrolled": false
   },
   "outputs": [],
   "source": [
    "# jdn_dataset = JDNDataset(rebalance_and_suffle=False)"
   ]
  },
  {
   "cell_type": "code",
   "execution_count": 10,
   "id": "69dd0b9e",
   "metadata": {},
   "outputs": [],
   "source": [
    "# len(jdn_dataset)"
   ]
  },
  {
   "cell_type": "code",
   "execution_count": 11,
   "id": "bba77009",
   "metadata": {},
   "outputs": [],
   "source": [
    "BATCH_SIZE = 256"
   ]
  },
  {
   "cell_type": "code",
   "execution_count": 12,
   "id": "8e27de7a",
   "metadata": {},
   "outputs": [],
   "source": [
    "jdn_dataloader = DataLoader(jdn_dataset,\n",
    "                            batch_size=BATCH_SIZE,\n",
    "                            shuffle=True,\n",
    "                            pin_memory=True,\n",
    "                            drop_last=False,\n",
    "                            num_workers=0)"
   ]
  },
  {
   "cell_type": "code",
   "execution_count": 13,
   "id": "ce595039",
   "metadata": {},
   "outputs": [
    {
     "data": {
      "text/plain": [
       "561"
      ]
     },
     "execution_count": 13,
     "metadata": {},
     "output_type": "execute_result"
    }
   ],
   "source": [
    "len(jdn_dataloader)"
   ]
  },
  {
   "cell_type": "code",
   "execution_count": 14,
   "id": "d65b0424",
   "metadata": {},
   "outputs": [
    {
     "data": {
      "application/vnd.jupyter.widget-view+json": {
       "model_id": "9f7cc06d2e7d467c8d1115651fe34e13",
       "version_major": 2,
       "version_minor": 0
      },
      "text/plain": [
       "  0%|          | 0/561 [00:00<?, ?it/s]"
      ]
     },
     "metadata": {},
     "output_type": "display_data"
    },
    {
     "data": {
      "text/plain": [
       "(143405, 561, 143405)"
      ]
     },
     "execution_count": 14,
     "metadata": {},
     "output_type": "execute_result"
    }
   ],
   "source": [
    "r_cnt = 0\n",
    "with trange(len(jdn_dataloader)) as bar:\n",
    "    for X, y in jdn_dataloader:\n",
    "#         display(X)\n",
    "#         display(X.shape)\n",
    "#         display(y)\n",
    "#         display(y.shape)\n",
    "        bar.update(1)\n",
    "        r_cnt += X.shape[0]\n",
    "        #break\n",
    "r_cnt, len(jdn_dataloader), len(jdn_dataset)"
   ]
  },
  {
   "cell_type": "code",
   "execution_count": 17,
   "id": "9972c721",
   "metadata": {},
   "outputs": [
    {
     "data": {
      "text/plain": [
       "{0: 'button',\n",
       " 1: 'link',\n",
       " 2: 'textfield',\n",
       " 3: 'dropdown',\n",
       " 4: 'checkbox',\n",
       " 5: 'radiobutton',\n",
       " 6: 'textarea',\n",
       " 7: 'fileinput',\n",
       " 8: 'iframe',\n",
       " 9: 'range',\n",
       " 10: 'progressbar',\n",
       " 11: 'datetimeselector',\n",
       " 12: 'colorpicker',\n",
       " 13: 'numberselector',\n",
       " 14: 'selector',\n",
       " 15: 'table',\n",
       " 16: 'switch',\n",
       " 17: 'slider',\n",
       " 18: 'tree-node',\n",
       " 19: 'steper',\n",
       " 20: 'tab',\n",
       " 21: 'n/a'}"
      ]
     },
     "execution_count": 17,
     "metadata": {},
     "output_type": "execute_result"
    }
   ],
   "source": [
    "with open('dataset/classes.txt', 'r') as f:\n",
    "    classes_dict = { i:v.strip() for i, v in enumerate(f.readlines())}\n",
    "classes_dict"
   ]
  },
  {
   "cell_type": "code",
   "execution_count": null,
   "id": "da770e91",
   "metadata": {},
   "outputs": [],
   "source": []
  }
 ],
 "metadata": {
  "kernelspec": {
   "display_name": "Python 3",
   "language": "python",
   "name": "python3"
  },
  "language_info": {
   "codemirror_mode": {
    "name": "ipython",
    "version": 3
   },
   "file_extension": ".py",
   "mimetype": "text/x-python",
   "name": "python",
   "nbconvert_exporter": "python",
   "pygments_lexer": "ipython3",
   "version": "3.7.9"
  }
 },
 "nbformat": 4,
 "nbformat_minor": 5
}
