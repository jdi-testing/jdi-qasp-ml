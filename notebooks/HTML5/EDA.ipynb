{
 "cells": [
  {
   "cell_type": "code",
   "execution_count": 1,
   "metadata": {},
   "outputs": [],
   "source": [
    "import os, gc, sys\n",
    "from glob import glob\n",
    "from tqdm.notebook import tqdm\n",
    "\n",
    "import pandas as pd"
   ]
  },
  {
   "cell_type": "code",
   "execution_count": 2,
   "metadata": {},
   "outputs": [],
   "source": [
    "prefix = os.getcwd().split(\"jdi-qasp-ml\")[0]\n",
    "sys.path.append(os.path.join(prefix, \"jdi-qasp-ml\"))\n",
    "model_path = os.path.join(prefix, \"jdi-qasp-ml\", \"HTML5_model/model\")\n",
    "df_path = os.path.join(prefix, \"jdi-qasp-ml\", \"data/html5_dataset/df\")"
   ]
  },
  {
   "cell_type": "code",
   "execution_count": 15,
   "metadata": {},
   "outputs": [
    {
     "data": {
      "text/plain": [
       "['/Users/Mikhail_Bulgakov/GitRepo/jdi-qasp-ml/data/html5_dataset/df/html5-74.pkl',\n",
       " '/Users/Mikhail_Bulgakov/GitRepo/jdi-qasp-ml/data/html5_dataset/df/html5-205.pkl']"
      ]
     },
     "execution_count": 15,
     "metadata": {},
     "output_type": "execute_result"
    }
   ],
   "source": [
    "ds_files"
   ]
  },
  {
   "cell_type": "code",
   "execution_count": 3,
   "metadata": {},
   "outputs": [
    {
     "data": {
      "application/vnd.jupyter.widget-view+json": {
       "model_id": "3af80d5023d84a888619a019e9ff2d38",
       "version_major": 2,
       "version_minor": 0
      },
      "text/plain": [
       "  0%|          | 0/2 [00:00<?, ?it/s]"
      ]
     },
     "metadata": {},
     "output_type": "display_data"
    }
   ],
   "source": [
    "ds_files = glob(f\"{df_path}/html5*.pkl\")\n",
    "df = pd.DataFrame()\n",
    "for file in tqdm(ds_files[:200]):\n",
    "    df = pd.concat([df, pd.read_pickle(file)]).reset_index(drop=True)\n",
    "\n",
    "df.to_parquet(f\"{prefix}jdi-qasp-ml/data/html5_dataset/html5_full_dataset.parquet\")"
   ]
  },
  {
   "cell_type": "code",
   "execution_count": 7,
   "metadata": {},
   "outputs": [
    {
     "data": {
      "text/html": [
       "<div>\n",
       "<style scoped>\n",
       "    .dataframe tbody tr th:only-of-type {\n",
       "        vertical-align: middle;\n",
       "    }\n",
       "\n",
       "    .dataframe tbody tr th {\n",
       "        vertical-align: top;\n",
       "    }\n",
       "\n",
       "    .dataframe thead th {\n",
       "        text-align: right;\n",
       "    }\n",
       "</style>\n",
       "<table border=\"1\" class=\"dataframe\">\n",
       "  <thead>\n",
       "    <tr style=\"text-align: right;\">\n",
       "      <th></th>\n",
       "      <th>attributes</th>\n",
       "      <th>displayed</th>\n",
       "      <th>element_id</th>\n",
       "      <th>height</th>\n",
       "      <th>html</th>\n",
       "      <th>onmouseenter</th>\n",
       "      <th>onmouseover</th>\n",
       "      <th>parent_id</th>\n",
       "      <th>style</th>\n",
       "      <th>tag_name</th>\n",
       "      <th>text</th>\n",
       "      <th>width</th>\n",
       "      <th>x</th>\n",
       "      <th>y</th>\n",
       "    </tr>\n",
       "  </thead>\n",
       "  <tbody>\n",
       "    <tr>\n",
       "      <th>0</th>\n",
       "      <td>{'lang': 'en'}</td>\n",
       "      <td>True</td>\n",
       "      <td>9731870250400206134139851473</td>\n",
       "      <td>7254.4375</td>\n",
       "      <td>&lt;html lang=\"en\"&gt;&lt;head&gt;\\n        &lt;meta charset=...</td>\n",
       "      <td>None</td>\n",
       "      <td>None</td>\n",
       "      <td>None</td>\n",
       "      <td>[accent-color, align-content, align-items, ali...</td>\n",
       "      <td>HTML</td>\n",
       "      <td>Never offer Mrs recognize team six. Ground hea...</td>\n",
       "      <td>1390.000000</td>\n",
       "      <td>5.0000</td>\n",
       "      <td>5.0000</td>\n",
       "    </tr>\n",
       "    <tr>\n",
       "      <th>1</th>\n",
       "      <td>None</td>\n",
       "      <td>False</td>\n",
       "      <td>7926621857400206131397908333</td>\n",
       "      <td>0.0000</td>\n",
       "      <td>&lt;head&gt;\\n        &lt;meta charset=\"UTF-8\"&gt;\\n      ...</td>\n",
       "      <td>None</td>\n",
       "      <td>None</td>\n",
       "      <td>9731870250400206134139851473</td>\n",
       "      <td>[accent-color, align-content, align-items, ali...</td>\n",
       "      <td>HEAD</td>\n",
       "      <td>\\n        \\n        HTML5 Auto-generated\\n    ...</td>\n",
       "      <td>0.000000</td>\n",
       "      <td>0.0000</td>\n",
       "      <td>0.0000</td>\n",
       "    </tr>\n",
       "    <tr>\n",
       "      <th>2</th>\n",
       "      <td>{'charset': 'UTF-8'}</td>\n",
       "      <td>False</td>\n",
       "      <td>7148769340400206137565830151</td>\n",
       "      <td>0.0000</td>\n",
       "      <td>&lt;meta charset=\"UTF-8\"&gt;</td>\n",
       "      <td>None</td>\n",
       "      <td>None</td>\n",
       "      <td>7926621857400206131397908333</td>\n",
       "      <td>[accent-color, align-content, align-items, ali...</td>\n",
       "      <td>META</td>\n",
       "      <td></td>\n",
       "      <td>0.000000</td>\n",
       "      <td>0.0000</td>\n",
       "      <td>0.0000</td>\n",
       "    </tr>\n",
       "    <tr>\n",
       "      <th>3</th>\n",
       "      <td>None</td>\n",
       "      <td>False</td>\n",
       "      <td>4081525946400206130277263740</td>\n",
       "      <td>0.0000</td>\n",
       "      <td>&lt;title&gt;HTML5 Auto-generated&lt;/title&gt;</td>\n",
       "      <td>None</td>\n",
       "      <td>None</td>\n",
       "      <td>7926621857400206131397908333</td>\n",
       "      <td>[accent-color, align-content, align-items, ali...</td>\n",
       "      <td>TITLE</td>\n",
       "      <td>HTML5 Auto-generated</td>\n",
       "      <td>0.000000</td>\n",
       "      <td>0.0000</td>\n",
       "      <td>0.0000</td>\n",
       "    </tr>\n",
       "    <tr>\n",
       "      <th>4</th>\n",
       "      <td>None</td>\n",
       "      <td>False</td>\n",
       "      <td>4301272637400206136137201730</td>\n",
       "      <td>0.0000</td>\n",
       "      <td>&lt;style&gt;\\n            .content {\\n             ...</td>\n",
       "      <td>None</td>\n",
       "      <td>None</td>\n",
       "      <td>7926621857400206131397908333</td>\n",
       "      <td>[accent-color, align-content, align-items, ali...</td>\n",
       "      <td>STYLE</td>\n",
       "      <td>\\n            .content {\\n                widt...</td>\n",
       "      <td>0.000000</td>\n",
       "      <td>0.0000</td>\n",
       "      <td>0.0000</td>\n",
       "    </tr>\n",
       "    <tr>\n",
       "      <th>...</th>\n",
       "      <td>...</td>\n",
       "      <td>...</td>\n",
       "      <td>...</td>\n",
       "      <td>...</td>\n",
       "      <td>...</td>\n",
       "      <td>...</td>\n",
       "      <td>...</td>\n",
       "      <td>...</td>\n",
       "      <td>...</td>\n",
       "      <td>...</td>\n",
       "      <td>...</td>\n",
       "      <td>...</td>\n",
       "      <td>...</td>\n",
       "      <td>...</td>\n",
       "    </tr>\n",
       "    <tr>\n",
       "      <th>2376</th>\n",
       "      <td>{'class': '18b3ff6a', 'data-label': 'range', '...</td>\n",
       "      <td>True</td>\n",
       "      <td>1258669377400117222075817176</td>\n",
       "      <td>22.0000</td>\n",
       "      <td>&lt;input type=\"range\" list=\"datalist-4e063318\" n...</td>\n",
       "      <td>None</td>\n",
       "      <td>None</td>\n",
       "      <td>5922094332400117223936290597</td>\n",
       "      <td>[accent-color, align-content, align-items, ali...</td>\n",
       "      <td>INPUT</td>\n",
       "      <td></td>\n",
       "      <td>129.000000</td>\n",
       "      <td>95.0000</td>\n",
       "      <td>10357.1875</td>\n",
       "    </tr>\n",
       "    <tr>\n",
       "      <th>2377</th>\n",
       "      <td>{'id': 'datalist-4e063318', 'style': ''}</td>\n",
       "      <td>False</td>\n",
       "      <td>2457039561400117230653505453</td>\n",
       "      <td>0.0000</td>\n",
       "      <td>&lt;datalist id=\"datalist-4e063318\" style=\"\"&gt;\\n  ...</td>\n",
       "      <td>None</td>\n",
       "      <td>None</td>\n",
       "      <td>5922094332400117223936290597</td>\n",
       "      <td>[accent-color, align-content, align-items, ali...</td>\n",
       "      <td>DATALIST</td>\n",
       "      <td>\\n                \\n</td>\n",
       "      <td>0.000000</td>\n",
       "      <td>0.0000</td>\n",
       "      <td>0.0000</td>\n",
       "    </tr>\n",
       "    <tr>\n",
       "      <th>2378</th>\n",
       "      <td>{'class': 'df5ddaf0', 'data-label': 'link', 'h...</td>\n",
       "      <td>True</td>\n",
       "      <td>1793816106400117236988843156</td>\n",
       "      <td>26.0000</td>\n",
       "      <td>&lt;a name=\"f5231c0d\" href=\"#\" class=\"df5ddaf0\" i...</td>\n",
       "      <td>None</td>\n",
       "      <td>None</td>\n",
       "      <td>5019424281400117216785295249</td>\n",
       "      <td>[accent-color, align-content, align-items, ali...</td>\n",
       "      <td>A</td>\n",
       "      <td>Quality reduce.</td>\n",
       "      <td>153.937500</td>\n",
       "      <td>20.0000</td>\n",
       "      <td>10435.1875</td>\n",
       "    </tr>\n",
       "    <tr>\n",
       "      <th>2379</th>\n",
       "      <td>{'class': '2a299455', 'data-label': 'textfield...</td>\n",
       "      <td>True</td>\n",
       "      <td>4800478098400117239159401815</td>\n",
       "      <td>34.0000</td>\n",
       "      <td>&lt;input class=\"2a299455\" data-label=\"textfield\"...</td>\n",
       "      <td>None</td>\n",
       "      <td>None</td>\n",
       "      <td>5019424281400117216785295249</td>\n",
       "      <td>[accent-color, align-content, align-items, ali...</td>\n",
       "      <td>INPUT</td>\n",
       "      <td></td>\n",
       "      <td>258.000000</td>\n",
       "      <td>183.9375</td>\n",
       "      <td>10431.1875</td>\n",
       "    </tr>\n",
       "    <tr>\n",
       "      <th>2380</th>\n",
       "      <td>{'class': 'acae5f7f', 'data-label': 'button', ...</td>\n",
       "      <td>True</td>\n",
       "      <td>2186337296400117239981978098</td>\n",
       "      <td>92.0000</td>\n",
       "      <td>&lt;button class=\"acae5f7f\" style=\"color:#0e8e27;...</td>\n",
       "      <td>None</td>\n",
       "      <td>None</td>\n",
       "      <td>5019424281400117216785295249</td>\n",
       "      <td>[accent-color, align-content, align-items, ali...</td>\n",
       "      <td>BUTTON</td>\n",
       "      <td>Half.</td>\n",
       "      <td>120.484375</td>\n",
       "      <td>455.9375</td>\n",
       "      <td>10395.1875</td>\n",
       "    </tr>\n",
       "  </tbody>\n",
       "</table>\n",
       "<p>2381 rows × 14 columns</p>\n",
       "</div>"
      ],
      "text/plain": [
       "                                             attributes  displayed  \\\n",
       "0                                        {'lang': 'en'}       True   \n",
       "1                                                  None      False   \n",
       "2                                  {'charset': 'UTF-8'}      False   \n",
       "3                                                  None      False   \n",
       "4                                                  None      False   \n",
       "...                                                 ...        ...   \n",
       "2376  {'class': '18b3ff6a', 'data-label': 'range', '...       True   \n",
       "2377           {'id': 'datalist-4e063318', 'style': ''}      False   \n",
       "2378  {'class': 'df5ddaf0', 'data-label': 'link', 'h...       True   \n",
       "2379  {'class': '2a299455', 'data-label': 'textfield...       True   \n",
       "2380  {'class': 'acae5f7f', 'data-label': 'button', ...       True   \n",
       "\n",
       "                        element_id     height  \\\n",
       "0     9731870250400206134139851473  7254.4375   \n",
       "1     7926621857400206131397908333     0.0000   \n",
       "2     7148769340400206137565830151     0.0000   \n",
       "3     4081525946400206130277263740     0.0000   \n",
       "4     4301272637400206136137201730     0.0000   \n",
       "...                            ...        ...   \n",
       "2376  1258669377400117222075817176    22.0000   \n",
       "2377  2457039561400117230653505453     0.0000   \n",
       "2378  1793816106400117236988843156    26.0000   \n",
       "2379  4800478098400117239159401815    34.0000   \n",
       "2380  2186337296400117239981978098    92.0000   \n",
       "\n",
       "                                                   html onmouseenter  \\\n",
       "0     <html lang=\"en\"><head>\\n        <meta charset=...         None   \n",
       "1     <head>\\n        <meta charset=\"UTF-8\">\\n      ...         None   \n",
       "2                                <meta charset=\"UTF-8\">         None   \n",
       "3                   <title>HTML5 Auto-generated</title>         None   \n",
       "4     <style>\\n            .content {\\n             ...         None   \n",
       "...                                                 ...          ...   \n",
       "2376  <input type=\"range\" list=\"datalist-4e063318\" n...         None   \n",
       "2377  <datalist id=\"datalist-4e063318\" style=\"\">\\n  ...         None   \n",
       "2378  <a name=\"f5231c0d\" href=\"#\" class=\"df5ddaf0\" i...         None   \n",
       "2379  <input class=\"2a299455\" data-label=\"textfield\"...         None   \n",
       "2380  <button class=\"acae5f7f\" style=\"color:#0e8e27;...         None   \n",
       "\n",
       "     onmouseover                     parent_id  \\\n",
       "0           None                          None   \n",
       "1           None  9731870250400206134139851473   \n",
       "2           None  7926621857400206131397908333   \n",
       "3           None  7926621857400206131397908333   \n",
       "4           None  7926621857400206131397908333   \n",
       "...          ...                           ...   \n",
       "2376        None  5922094332400117223936290597   \n",
       "2377        None  5922094332400117223936290597   \n",
       "2378        None  5019424281400117216785295249   \n",
       "2379        None  5019424281400117216785295249   \n",
       "2380        None  5019424281400117216785295249   \n",
       "\n",
       "                                                  style  tag_name  \\\n",
       "0     [accent-color, align-content, align-items, ali...      HTML   \n",
       "1     [accent-color, align-content, align-items, ali...      HEAD   \n",
       "2     [accent-color, align-content, align-items, ali...      META   \n",
       "3     [accent-color, align-content, align-items, ali...     TITLE   \n",
       "4     [accent-color, align-content, align-items, ali...     STYLE   \n",
       "...                                                 ...       ...   \n",
       "2376  [accent-color, align-content, align-items, ali...     INPUT   \n",
       "2377  [accent-color, align-content, align-items, ali...  DATALIST   \n",
       "2378  [accent-color, align-content, align-items, ali...         A   \n",
       "2379  [accent-color, align-content, align-items, ali...     INPUT   \n",
       "2380  [accent-color, align-content, align-items, ali...    BUTTON   \n",
       "\n",
       "                                                   text        width  \\\n",
       "0     Never offer Mrs recognize team six. Ground hea...  1390.000000   \n",
       "1     \\n        \\n        HTML5 Auto-generated\\n    ...     0.000000   \n",
       "2                                                           0.000000   \n",
       "3                                  HTML5 Auto-generated     0.000000   \n",
       "4     \\n            .content {\\n                widt...     0.000000   \n",
       "...                                                 ...          ...   \n",
       "2376                                                      129.000000   \n",
       "2377                   \\n                \\n                 0.000000   \n",
       "2378                                   Quality reduce.    153.937500   \n",
       "2379                                                      258.000000   \n",
       "2380                                              Half.   120.484375   \n",
       "\n",
       "             x           y  \n",
       "0       5.0000      5.0000  \n",
       "1       0.0000      0.0000  \n",
       "2       0.0000      0.0000  \n",
       "3       0.0000      0.0000  \n",
       "4       0.0000      0.0000  \n",
       "...        ...         ...  \n",
       "2376   95.0000  10357.1875  \n",
       "2377    0.0000      0.0000  \n",
       "2378   20.0000  10435.1875  \n",
       "2379  183.9375  10431.1875  \n",
       "2380  455.9375  10395.1875  \n",
       "\n",
       "[2381 rows x 14 columns]"
      ]
     },
     "execution_count": 7,
     "metadata": {},
     "output_type": "execute_result"
    }
   ],
   "source": [
    "df"
   ]
  },
  {
   "cell_type": "code",
   "execution_count": null,
   "metadata": {},
   "outputs": [],
   "source": []
  },
  {
   "cell_type": "code",
   "execution_count": 9,
   "metadata": {},
   "outputs": [],
   "source": [
    "df['attributes_list'] = df.attributes.apply(lambda x: [] if x is None else list(x.keys()))"
   ]
  },
  {
   "cell_type": "code",
   "execution_count": 25,
   "metadata": {},
   "outputs": [
    {
     "data": {
      "text/plain": [
       "7       <p id=\"212e3822\" class=\"19be59ce\" disabled=\"\" ...\n",
       "9       <input value=\"440.87\" type=\"number\" data-label...\n",
       "11      <button style=\"color:#141414; font-size:34px; ...\n",
       "12      <label class=\"7b8cfed0\" style=\"color:#2b0000; ...\n",
       "13      <progress style=\"color:#b70c48; font-size:20px...\n",
       "                              ...                        \n",
       "2373    <input class=\"57f1ff94\" style=\"color:#a00429; ...\n",
       "2376    <input type=\"range\" list=\"datalist-4e063318\" n...\n",
       "2378    <a name=\"f5231c0d\" href=\"#\" class=\"df5ddaf0\" i...\n",
       "2379    <input class=\"2a299455\" data-label=\"textfield\"...\n",
       "2380    <button class=\"acae5f7f\" style=\"color:#0e8e27;...\n",
       "Name: html, Length: 531, dtype: object"
      ]
     },
     "execution_count": 25,
     "metadata": {},
     "output_type": "execute_result"
    }
   ],
   "source": [
    "df[df.attributes_list.apply(lambda x: True if (\"data-label\" in x) else False)].html"
   ]
  },
  {
   "cell_type": "code",
   "execution_count": 26,
   "metadata": {},
   "outputs": [
    {
     "data": {
      "text/plain": [
       "'<input class=\"2a299455\" data-label=\"textfield\" name=\"081d3bc0\" maxlength=\"79\" id=\"b874adac\" style=\"color:#ba4010; font-size:24px;\" minlength=\"12\" placeholder=\"Player less watch network.\" disabled=\"\" type=\"text\">'"
      ]
     },
     "execution_count": 26,
     "metadata": {},
     "output_type": "execute_result"
    }
   ],
   "source": [
    "df[df.attributes_list.apply(lambda x: True if (\"data-label\" in x) else False)].html[2379]"
   ]
  },
  {
   "cell_type": "code",
   "execution_count": 22,
   "metadata": {},
   "outputs": [
    {
     "data": {
      "text/plain": [
       "'<button style=\"color:#141414; font-size:34px; background:#f4dd7f; border-color:#bac948; padding:24px 44px; border-radius:16%;\" class=\"b4e32f2a\" data-label=\"button\" id=\"8c15cc96\" name=\"0fb52ecb\">\\t\\nAccording.\\n</button>'"
      ]
     },
     "execution_count": 22,
     "metadata": {},
     "output_type": "execute_result"
    }
   ],
   "source": [
    "df[df.attributes_list.apply(lambda x: True if (\"data-label\" in x) else False)].html[11]"
   ]
  },
  {
   "cell_type": "code",
   "execution_count": 24,
   "metadata": {},
   "outputs": [
    {
     "data": {
      "text/plain": [
       "{'class': 'b4e32f2a',\n",
       " 'data-label': 'button',\n",
       " 'id': '8c15cc96',\n",
       " 'name': '0fb52ecb',\n",
       " 'style': 'color:#141414; font-size:34px; background:#f4dd7f; border-color:#bac948; padding:24px 44px; border-radius:16%;'}"
      ]
     },
     "execution_count": 24,
     "metadata": {},
     "output_type": "execute_result"
    }
   ],
   "source": [
    "df[df.attributes_list.apply(lambda x: True if (\"data-label\" in x) else False)].attributes[11]"
   ]
  },
  {
   "cell_type": "code",
   "execution_count": 12,
   "metadata": {},
   "outputs": [
    {
     "name": "stdout",
     "output_type": "stream",
     "text": [
      "['colorpicker' 'fileinput' 'link' 'radiobutton' 'range' 'table' 'n/a'\n",
      " 'checkbox' 'progressbar' 'textarea' 'button' 'textfield' 'dropdown'\n",
      " 'numberselector' 'datetimeselector' 'selector']\n"
     ]
    }
   ],
   "source": [
    "print(df.attributes[df.attributes_list.apply(lambda x: True if \"data-label\" in x else False)].apply(lambda x: x.get(\"data-label\")).unique())"
   ]
  },
  {
   "cell_type": "code",
   "execution_count": 19,
   "metadata": {},
   "outputs": [
    {
     "name": "stdout",
     "output_type": "stream",
     "text": [
      "{'cols', 'font-size:28px;', 'font-size:14px;', 'placeholder', 'href', 'list', 'class', 'accept', 'font-size:27px;', 'font-size:15px;', 'font-size:18px;', 'size', 'type', 'font-size:23px;', 'rows', 'minlength', 'style', 'step', 'maxlength', 'font-size:25px;', 'value', 'max', 'min', 'font-size:26px;', 'font-size:22px;', 'font-size:21px;', 'font-size:19px;', 'font-size:17px;', 'required', 'checked', 'font-size:24px;', 'disabled', 'name', 'font-size:16px;', 'font-size:20px;', 'data-label', 'id', 'for', 'label'}\n"
     ]
    }
   ],
   "source": [
    "import itertools\n",
    "lists = df.attributes_list[df.attributes_list.apply(lambda x: True if \"data-label\" in x else False)].to_list()\n",
    "print(set(list(itertools.chain.from_iterable(lists))))"
   ]
  },
  {
   "cell_type": "code",
   "execution_count": null,
   "metadata": {},
   "outputs": [],
   "source": []
  }
 ],
 "metadata": {
  "interpreter": {
   "hash": "668ef8e5884dc3f6c7a385d426ec114c978b2f69913d82ea0913105f6d1e06ce"
  },
  "kernelspec": {
   "display_name": "Python 3.7.9 64-bit ('jdi-qasp-ml': conda)",
   "language": "python",
   "name": "python3"
  },
  "language_info": {
   "codemirror_mode": {
    "name": "ipython",
    "version": 3
   },
   "file_extension": ".py",
   "mimetype": "text/x-python",
   "name": "python",
   "nbconvert_exporter": "python",
   "pygments_lexer": "ipython3",
   "version": "3.7.9"
  },
  "orig_nbformat": 4
 },
 "nbformat": 4,
 "nbformat_minor": 2
}
