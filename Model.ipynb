{
 "cells": [
  {
   "cell_type": "code",
   "execution_count": 1,
   "id": "proof-violation",
   "metadata": {},
   "outputs": [
    {
     "name": "stdout",
     "output_type": "stream",
     "text": [
      "2021-03-04 03:38:48,981 - INFO - dataset:dataset.py:24 - dataset package is loaded...\n"
     ]
    }
   ],
   "source": [
    "import pandas as pd\n",
    "import numpy as np\n",
    "import matplotlib.pyplot as plt\n",
    "import os, sys, re, gc, glob\n",
    "from tqdm.auto import tqdm, trange\n",
    "\n",
    "from utils import DatasetBuilder, \\\n",
    "                  JDIDataset, \\\n",
    "                  maximize_window, \\\n",
    "                  assign_labels, \\\n",
    "                  build_path_features, \\\n",
    "                  build_children_features, \\\n",
    "                  build_elements_dataset\n",
    "\n",
    "from time import sleep\n",
    "\n",
    "from sklearn.feature_extraction.text import CountVectorizer\n",
    "from sklearn.feature_extraction.text import TfidfTransformer\n",
    "from sklearn.preprocessing import OneHotEncoder\n",
    "\n",
    "import torch\n",
    "import torch.nn.functional as F\n",
    "from torch.utils.data import DataLoader\n"
   ]
  },
  {
   "cell_type": "code",
   "execution_count": 2,
   "id": "plain-calvin",
   "metadata": {},
   "outputs": [
    {
     "name": "stdout",
     "output_type": "stream",
     "text": [
      "2021-03-04 03:38:50,746 - WARNING - dataset:dataset.py:313 - Using all availabel data to generate dataset\n",
      "2021-03-04 03:38:50,749 - INFO - dataset:dataset.py:317 - Dataset for bootstrap-forms\n",
      "2021-03-04 03:38:50,796 - INFO - dataset:dataset.py:320 - cleaning tag_name from dummy words\n",
      "2021-03-04 03:38:50,797 - WARNING - dataset:dataset.py:325 - Load LABELS from dataset/annotations/bootstrap-forms.txt\n"
     ]
    },
    {
     "data": {
      "application/vnd.jupyter.widget-view+json": {
       "model_id": "de698c50fc3a4647b5f42edce92d2786",
       "version_major": 2,
       "version_minor": 0
      },
      "text/plain": [
       "Assigning labels:   0%|          | 0/46 [00:00<?, ?it/s]"
      ]
     },
     "metadata": {},
     "output_type": "display_data"
    },
    {
     "name": "stdout",
     "output_type": "stream",
     "text": [
      "2021-03-04 03:38:51,083 - INFO - dataset:dataset.py:52 - select all leafs (nodes which are not parents)\n",
      "2021-03-04 03:38:51,084 - INFO - dataset:dataset.py:54 - Leafs set size: 151 (nodes which have no children)\n",
      "2021-03-04 03:38:51,085 - INFO - dataset:dataset.py:57 - count number of references to leafs\n",
      "2021-03-04 03:38:51,087 - INFO - dataset:dataset.py:59 - Nodes with leafs as children set size: 92 (nodes which have leafs as children)\n",
      "2021-03-04 03:38:51,088 - INFO - dataset:dataset.py:62 - count num children for each node\n",
      "2021-03-04 03:38:51,088 - INFO - dataset:dataset.py:64 - Nodes with children: 162\n",
      "2021-03-04 03:38:51,090 - INFO - dataset:dataset.py:67 - sum of children widths, heights, counts\n",
      "2021-03-04 03:38:51,094 - INFO - dataset:dataset.py:72 - Sum of children widths\n",
      "2021-03-04 03:38:51,099 - INFO - dataset:dataset.py:76 - Sum of children hights\n",
      "2021-03-04 03:38:51,108 - INFO - dataset:dataset.py:317 - Dataset for angular\n",
      "2021-03-04 03:38:51,125 - INFO - dataset:dataset.py:320 - cleaning tag_name from dummy words\n",
      "2021-03-04 03:38:51,128 - WARNING - dataset:dataset.py:325 - Load LABELS from dataset/annotations/angular.txt\n"
     ]
    },
    {
     "data": {
      "application/vnd.jupyter.widget-view+json": {
       "model_id": "2761300e4c33466ebf4e24f44c93b1b6",
       "version_major": 2,
       "version_minor": 0
      },
      "text/plain": [
       "Assigning labels:   0%|          | 0/526 [00:00<?, ?it/s]"
      ]
     },
     "metadata": {},
     "output_type": "display_data"
    },
    {
     "name": "stdout",
     "output_type": "stream",
     "text": [
      "2021-03-04 03:38:58,213 - INFO - dataset:dataset.py:52 - select all leafs (nodes which are not parents)\n",
      "2021-03-04 03:38:58,215 - INFO - dataset:dataset.py:54 - Leafs set size: 3249 (nodes which have no children)\n",
      "2021-03-04 03:38:58,218 - INFO - dataset:dataset.py:57 - count number of references to leafs\n",
      "2021-03-04 03:38:58,227 - INFO - dataset:dataset.py:59 - Nodes with leafs as children set size: 1749 (nodes which have leafs as children)\n",
      "2021-03-04 03:38:58,243 - INFO - dataset:dataset.py:62 - count num children for each node\n",
      "2021-03-04 03:38:58,249 - INFO - dataset:dataset.py:64 - Nodes with children: 3199\n",
      "2021-03-04 03:38:58,266 - INFO - dataset:dataset.py:67 - sum of children widths, heights, counts\n",
      "2021-03-04 03:38:58,278 - INFO - dataset:dataset.py:72 - Sum of children widths\n",
      "2021-03-04 03:38:58,285 - INFO - dataset:dataset.py:76 - Sum of children hights\n",
      "2021-03-04 03:38:58,308 - INFO - dataset:dataset.py:317 - Dataset for login\n",
      "2021-03-04 03:38:58,314 - INFO - dataset:dataset.py:320 - cleaning tag_name from dummy words\n",
      "2021-03-04 03:38:58,315 - WARNING - dataset:dataset.py:325 - Load LABELS from dataset/annotations/login.txt\n"
     ]
    },
    {
     "data": {
      "application/vnd.jupyter.widget-view+json": {
       "model_id": "c54dee39e9934ecab0fa4bc176842941",
       "version_major": 2,
       "version_minor": 0
      },
      "text/plain": [
       "Assigning labels:   0%|          | 0/23 [00:00<?, ?it/s]"
      ]
     },
     "metadata": {},
     "output_type": "display_data"
    },
    {
     "name": "stdout",
     "output_type": "stream",
     "text": [
      "2021-03-04 03:38:58,379 - INFO - dataset:dataset.py:52 - select all leafs (nodes which are not parents)\n",
      "2021-03-04 03:38:58,380 - INFO - dataset:dataset.py:54 - Leafs set size: 99 (nodes which have no children)\n",
      "2021-03-04 03:38:58,381 - INFO - dataset:dataset.py:57 - count number of references to leafs\n",
      "2021-03-04 03:38:58,383 - INFO - dataset:dataset.py:59 - Nodes with leafs as children set size: 71 (nodes which have leafs as children)\n",
      "2021-03-04 03:38:58,385 - INFO - dataset:dataset.py:62 - count num children for each node\n",
      "2021-03-04 03:38:58,386 - INFO - dataset:dataset.py:64 - Nodes with children: 130\n",
      "2021-03-04 03:38:58,388 - INFO - dataset:dataset.py:67 - sum of children widths, heights, counts\n",
      "2021-03-04 03:38:58,393 - INFO - dataset:dataset.py:72 - Sum of children widths\n",
      "2021-03-04 03:38:58,396 - INFO - dataset:dataset.py:76 - Sum of children hights\n",
      "2021-03-04 03:38:58,405 - INFO - dataset:dataset.py:317 - Dataset for bootstrap-form\n",
      "2021-03-04 03:38:58,412 - INFO - dataset:dataset.py:320 - cleaning tag_name from dummy words\n",
      "2021-03-04 03:38:58,415 - WARNING - dataset:dataset.py:325 - Load LABELS from dataset/annotations/bootstrap-form.txt\n"
     ]
    },
    {
     "data": {
      "application/vnd.jupyter.widget-view+json": {
       "model_id": "753fcb6bde7f4f78a5265262c44fda01",
       "version_major": 2,
       "version_minor": 0
      },
      "text/plain": [
       "Assigning labels:   0%|          | 0/160 [00:00<?, ?it/s]"
      ]
     },
     "metadata": {},
     "output_type": "display_data"
    },
    {
     "name": "stdout",
     "output_type": "stream",
     "text": [
      "2021-03-04 03:38:58,810 - INFO - dataset:dataset.py:52 - select all leafs (nodes which are not parents)\n",
      "2021-03-04 03:38:58,811 - INFO - dataset:dataset.py:54 - Leafs set size: 474 (nodes which have no children)\n",
      "2021-03-04 03:38:58,812 - INFO - dataset:dataset.py:57 - count number of references to leafs\n",
      "2021-03-04 03:38:58,814 - INFO - dataset:dataset.py:59 - Nodes with leafs as children set size: 230 (nodes which have leafs as children)\n",
      "2021-03-04 03:38:58,815 - INFO - dataset:dataset.py:62 - count num children for each node\n",
      "2021-03-04 03:38:58,816 - INFO - dataset:dataset.py:64 - Nodes with children: 338\n",
      "2021-03-04 03:38:58,817 - INFO - dataset:dataset.py:67 - sum of children widths, heights, counts\n",
      "2021-03-04 03:38:58,823 - INFO - dataset:dataset.py:72 - Sum of children widths\n",
      "2021-03-04 03:38:58,826 - INFO - dataset:dataset.py:76 - Sum of children hights\n",
      "2021-03-04 03:38:58,837 - INFO - dataset:dataset.py:317 - Dataset for bootstrap\n",
      "2021-03-04 03:38:58,846 - INFO - dataset:dataset.py:320 - cleaning tag_name from dummy words\n",
      "2021-03-04 03:38:58,848 - WARNING - dataset:dataset.py:325 - Load LABELS from dataset/annotations/bootstrap.txt\n"
     ]
    },
    {
     "data": {
      "application/vnd.jupyter.widget-view+json": {
       "model_id": "fa0c7d3a6a724380ba6c4ce7e698970a",
       "version_major": 2,
       "version_minor": 0
      },
      "text/plain": [
       "Assigning labels:   0%|          | 0/264 [00:00<?, ?it/s]"
      ]
     },
     "metadata": {},
     "output_type": "display_data"
    },
    {
     "name": "stdout",
     "output_type": "stream",
     "text": [
      "2021-03-04 03:38:59,535 - INFO - dataset:dataset.py:52 - select all leafs (nodes which are not parents)\n",
      "2021-03-04 03:38:59,536 - INFO - dataset:dataset.py:54 - Leafs set size: 535 (nodes which have no children)\n",
      "2021-03-04 03:38:59,538 - INFO - dataset:dataset.py:57 - count number of references to leafs\n",
      "2021-03-04 03:38:59,539 - INFO - dataset:dataset.py:59 - Nodes with leafs as children set size: 372 (nodes which have leafs as children)\n",
      "2021-03-04 03:38:59,541 - INFO - dataset:dataset.py:62 - count num children for each node\n",
      "2021-03-04 03:38:59,542 - INFO - dataset:dataset.py:64 - Nodes with children: 561\n",
      "2021-03-04 03:38:59,544 - INFO - dataset:dataset.py:67 - sum of children widths, heights, counts\n",
      "2021-03-04 03:38:59,550 - INFO - dataset:dataset.py:72 - Sum of children widths\n",
      "2021-03-04 03:38:59,553 - INFO - dataset:dataset.py:76 - Sum of children hights\n",
      "2021-03-04 03:38:59,564 - INFO - dataset:dataset.py:317 - Dataset for user-table\n",
      "2021-03-04 03:38:59,571 - INFO - dataset:dataset.py:320 - cleaning tag_name from dummy words\n",
      "2021-03-04 03:38:59,572 - WARNING - dataset:dataset.py:325 - Load LABELS from dataset/annotations/user-table.txt\n"
     ]
    },
    {
     "data": {
      "application/vnd.jupyter.widget-view+json": {
       "model_id": "05a5482fda464032a5978fda2c922f1b",
       "version_major": 2,
       "version_minor": 0
      },
      "text/plain": [
       "Assigning labels:   0%|          | 0/58 [00:00<?, ?it/s]"
      ]
     },
     "metadata": {},
     "output_type": "display_data"
    },
    {
     "name": "stdout",
     "output_type": "stream",
     "text": [
      "2021-03-04 03:38:59,665 - INFO - dataset:dataset.py:52 - select all leafs (nodes which are not parents)\n",
      "2021-03-04 03:38:59,665 - INFO - dataset:dataset.py:54 - Leafs set size: 177 (nodes which have no children)\n",
      "2021-03-04 03:38:59,667 - INFO - dataset:dataset.py:57 - count number of references to leafs\n",
      "2021-03-04 03:38:59,669 - INFO - dataset:dataset.py:59 - Nodes with leafs as children set size: 116 (nodes which have leafs as children)\n",
      "2021-03-04 03:38:59,671 - INFO - dataset:dataset.py:62 - count num children for each node\n",
      "2021-03-04 03:38:59,671 - INFO - dataset:dataset.py:64 - Nodes with children: 190\n",
      "2021-03-04 03:38:59,673 - INFO - dataset:dataset.py:67 - sum of children widths, heights, counts\n",
      "2021-03-04 03:38:59,679 - INFO - dataset:dataset.py:72 - Sum of children widths\n",
      "2021-03-04 03:38:59,681 - INFO - dataset:dataset.py:76 - Sum of children hights\n",
      "2021-03-04 03:38:59,693 - INFO - dataset:dataset.py:317 - Dataset for support\n",
      "2021-03-04 03:38:59,699 - INFO - dataset:dataset.py:320 - cleaning tag_name from dummy words\n",
      "2021-03-04 03:38:59,701 - WARNING - dataset:dataset.py:325 - Load LABELS from dataset/annotations/support.txt\n"
     ]
    },
    {
     "data": {
      "application/vnd.jupyter.widget-view+json": {
       "model_id": "fb8c5e59341842c9bda4d6c257e6f03e",
       "version_major": 2,
       "version_minor": 0
      },
      "text/plain": [
       "Assigning labels:   0%|          | 0/40 [00:00<?, ?it/s]"
      ]
     },
     "metadata": {},
     "output_type": "display_data"
    },
    {
     "name": "stdout",
     "output_type": "stream",
     "text": [
      "2021-03-04 03:38:59,763 - INFO - dataset:dataset.py:52 - select all leafs (nodes which are not parents)\n",
      "2021-03-04 03:38:59,764 - INFO - dataset:dataset.py:54 - Leafs set size: 127 (nodes which have no children)\n",
      "2021-03-04 03:38:59,765 - INFO - dataset:dataset.py:57 - count number of references to leafs\n",
      "2021-03-04 03:38:59,767 - INFO - dataset:dataset.py:59 - Nodes with leafs as children set size: 89 (nodes which have leafs as children)\n",
      "2021-03-04 03:38:59,768 - INFO - dataset:dataset.py:62 - count num children for each node\n",
      "2021-03-04 03:38:59,769 - INFO - dataset:dataset.py:64 - Nodes with children: 158\n",
      "2021-03-04 03:38:59,770 - INFO - dataset:dataset.py:67 - sum of children widths, heights, counts\n",
      "2021-03-04 03:38:59,775 - INFO - dataset:dataset.py:72 - Sum of children widths\n",
      "2021-03-04 03:38:59,778 - INFO - dataset:dataset.py:76 - Sum of children hights\n",
      "2021-03-04 03:38:59,789 - INFO - dataset:dataset.py:317 - Dataset for html-5\n",
      "2021-03-04 03:38:59,796 - INFO - dataset:dataset.py:320 - cleaning tag_name from dummy words\n",
      "2021-03-04 03:38:59,798 - WARNING - dataset:dataset.py:325 - Load LABELS from dataset/annotations/html-5.txt\n"
     ]
    },
    {
     "data": {
      "application/vnd.jupyter.widget-view+json": {
       "model_id": "6da510b14bd84225922fd2f534415f65",
       "version_major": 2,
       "version_minor": 0
      },
      "text/plain": [
       "Assigning labels:   0%|          | 0/118 [00:00<?, ?it/s]"
      ]
     },
     "metadata": {},
     "output_type": "display_data"
    },
    {
     "name": "stdout",
     "output_type": "stream",
     "text": [
      "2021-03-04 03:39:00,073 - INFO - dataset:dataset.py:52 - select all leafs (nodes which are not parents)\n",
      "2021-03-04 03:39:00,074 - INFO - dataset:dataset.py:54 - Leafs set size: 412 (nodes which have no children)\n",
      "2021-03-04 03:39:00,076 - INFO - dataset:dataset.py:57 - count number of references to leafs\n",
      "2021-03-04 03:39:00,077 - INFO - dataset:dataset.py:59 - Nodes with leafs as children set size: 164 (nodes which have leafs as children)\n",
      "2021-03-04 03:39:00,079 - INFO - dataset:dataset.py:62 - count num children for each node\n",
      "2021-03-04 03:39:00,080 - INFO - dataset:dataset.py:64 - Nodes with children: 251\n",
      "2021-03-04 03:39:00,081 - INFO - dataset:dataset.py:67 - sum of children widths, heights, counts\n",
      "2021-03-04 03:39:00,085 - INFO - dataset:dataset.py:72 - Sum of children widths\n",
      "2021-03-04 03:39:00,087 - INFO - dataset:dataset.py:76 - Sum of children hights\n",
      "2021-03-04 03:39:00,096 - INFO - dataset:dataset.py:317 - Dataset for metals-and-colors\n",
      "2021-03-04 03:39:00,101 - INFO - dataset:dataset.py:320 - cleaning tag_name from dummy words\n",
      "2021-03-04 03:39:00,102 - WARNING - dataset:dataset.py:325 - Load LABELS from dataset/annotations/metals-and-colors.txt\n"
     ]
    },
    {
     "data": {
      "application/vnd.jupyter.widget-view+json": {
       "model_id": "b0cb41abe305442c82e61db780c5dd24",
       "version_major": 2,
       "version_minor": 0
      },
      "text/plain": [
       "Assigning labels:   0%|          | 0/34 [00:00<?, ?it/s]"
      ]
     },
     "metadata": {},
     "output_type": "display_data"
    },
    {
     "name": "stdout",
     "output_type": "stream",
     "text": [
      "2021-03-04 03:39:00,152 - INFO - dataset:dataset.py:52 - select all leafs (nodes which are not parents)\n",
      "2021-03-04 03:39:00,153 - INFO - dataset:dataset.py:54 - Leafs set size: 168 (nodes which have no children)\n",
      "2021-03-04 03:39:00,154 - INFO - dataset:dataset.py:57 - count number of references to leafs\n",
      "2021-03-04 03:39:00,155 - INFO - dataset:dataset.py:59 - Nodes with leafs as children set size: 107 (nodes which have leafs as children)\n",
      "2021-03-04 03:39:00,156 - INFO - dataset:dataset.py:62 - count num children for each node\n",
      "2021-03-04 03:39:00,157 - INFO - dataset:dataset.py:64 - Nodes with children: 206\n",
      "2021-03-04 03:39:00,158 - INFO - dataset:dataset.py:67 - sum of children widths, heights, counts\n",
      "2021-03-04 03:39:00,162 - INFO - dataset:dataset.py:72 - Sum of children widths\n",
      "2021-03-04 03:39:00,165 - INFO - dataset:dataset.py:76 - Sum of children hights\n",
      "2021-03-04 03:39:00,173 - INFO - dataset:dataset.py:317 - Dataset for complex-table\n",
      "2021-03-04 03:39:00,179 - INFO - dataset:dataset.py:320 - cleaning tag_name from dummy words\n",
      "2021-03-04 03:39:00,181 - WARNING - dataset:dataset.py:325 - Load LABELS from dataset/annotations/complex-table.txt\n"
     ]
    },
    {
     "data": {
      "application/vnd.jupyter.widget-view+json": {
       "model_id": "f44015a5b54a4d56addc45e4e3a8adbe",
       "version_major": 2,
       "version_minor": 0
      },
      "text/plain": [
       "Assigning labels:   0%|          | 0/61 [00:00<?, ?it/s]"
      ]
     },
     "metadata": {},
     "output_type": "display_data"
    },
    {
     "name": "stdout",
     "output_type": "stream",
     "text": [
      "2021-03-04 03:39:00,256 - INFO - dataset:dataset.py:52 - select all leafs (nodes which are not parents)\n",
      "2021-03-04 03:39:00,258 - INFO - dataset:dataset.py:54 - Leafs set size: 205 (nodes which have no children)\n",
      "2021-03-04 03:39:00,260 - INFO - dataset:dataset.py:57 - count number of references to leafs\n",
      "2021-03-04 03:39:00,261 - INFO - dataset:dataset.py:59 - Nodes with leafs as children set size: 130 (nodes which have leafs as children)\n",
      "2021-03-04 03:39:00,263 - INFO - dataset:dataset.py:62 - count num children for each node\n",
      "2021-03-04 03:39:00,263 - INFO - dataset:dataset.py:64 - Nodes with children: 219\n",
      "2021-03-04 03:39:00,265 - INFO - dataset:dataset.py:67 - sum of children widths, heights, counts\n",
      "2021-03-04 03:39:00,269 - INFO - dataset:dataset.py:72 - Sum of children widths\n",
      "2021-03-04 03:39:00,271 - INFO - dataset:dataset.py:76 - Sum of children hights\n",
      "2021-03-04 03:39:00,279 - INFO - dataset:dataset.py:317 - Dataset for different-elemants\n",
      "2021-03-04 03:39:00,284 - INFO - dataset:dataset.py:320 - cleaning tag_name from dummy words\n",
      "2021-03-04 03:39:00,285 - WARNING - dataset:dataset.py:325 - Load LABELS from dataset/annotations/different-elemants.txt\n"
     ]
    },
    {
     "data": {
      "application/vnd.jupyter.widget-view+json": {
       "model_id": "d6f73a3be98a4b8ca24a3c561126fd92",
       "version_major": 2,
       "version_minor": 0
      },
      "text/plain": [
       "Assigning labels:   0%|          | 0/50 [00:00<?, ?it/s]"
      ]
     },
     "metadata": {},
     "output_type": "display_data"
    },
    {
     "name": "stdout",
     "output_type": "stream",
     "text": [
      "2021-03-04 03:39:00,340 - INFO - dataset:dataset.py:52 - select all leafs (nodes which are not parents)\n",
      "2021-03-04 03:39:00,340 - INFO - dataset:dataset.py:54 - Leafs set size: 131 (nodes which have no children)\n",
      "2021-03-04 03:39:00,341 - INFO - dataset:dataset.py:57 - count number of references to leafs\n",
      "2021-03-04 03:39:00,343 - INFO - dataset:dataset.py:59 - Nodes with leafs as children set size: 92 (nodes which have leafs as children)\n",
      "2021-03-04 03:39:00,344 - INFO - dataset:dataset.py:62 - count num children for each node\n",
      "2021-03-04 03:39:00,344 - INFO - dataset:dataset.py:64 - Nodes with children: 159\n",
      "2021-03-04 03:39:00,345 - INFO - dataset:dataset.py:67 - sum of children widths, heights, counts\n",
      "2021-03-04 03:39:00,349 - INFO - dataset:dataset.py:72 - Sum of children widths\n",
      "2021-03-04 03:39:00,351 - INFO - dataset:dataset.py:76 - Sum of children hights\n",
      "2021-03-04 03:39:00,359 - INFO - dataset:dataset.py:317 - Dataset for performance\n",
      "2021-03-04 03:39:00,369 - INFO - dataset:dataset.py:320 - cleaning tag_name from dummy words\n",
      "2021-03-04 03:39:00,371 - WARNING - dataset:dataset.py:325 - Load LABELS from dataset/annotations/performance.txt\n"
     ]
    },
    {
     "data": {
      "application/vnd.jupyter.widget-view+json": {
       "model_id": "4f61daffc93949228a7f2fe76ee68037",
       "version_major": 2,
       "version_minor": 0
      },
      "text/plain": [
       "Assigning labels:   0%|          | 0/42 [00:00<?, ?it/s]"
      ]
     },
     "metadata": {},
     "output_type": "display_data"
    },
    {
     "name": "stdout",
     "output_type": "stream",
     "text": [
      "2021-03-04 03:39:01,127 - INFO - dataset:dataset.py:52 - select all leafs (nodes which are not parents)\n",
      "2021-03-04 03:39:01,128 - INFO - dataset:dataset.py:54 - Leafs set size: 2120 (nodes which have no children)\n",
      "2021-03-04 03:39:01,129 - INFO - dataset:dataset.py:57 - count number of references to leafs\n",
      "2021-03-04 03:39:01,131 - INFO - dataset:dataset.py:59 - Nodes with leafs as children set size: 486 (nodes which have leafs as children)\n",
      "2021-03-04 03:39:01,133 - INFO - dataset:dataset.py:62 - count num children for each node\n",
      "2021-03-04 03:39:01,134 - INFO - dataset:dataset.py:64 - Nodes with children: 553\n",
      "2021-03-04 03:39:01,137 - INFO - dataset:dataset.py:67 - sum of children widths, heights, counts\n",
      "2021-03-04 03:39:01,142 - INFO - dataset:dataset.py:72 - Sum of children widths\n",
      "2021-03-04 03:39:01,145 - INFO - dataset:dataset.py:76 - Sum of children hights\n",
      "2021-03-04 03:39:01,159 - INFO - dataset:dataset.py:317 - Dataset for table-with-pages\n",
      "2021-03-04 03:39:01,165 - INFO - dataset:dataset.py:320 - cleaning tag_name from dummy words\n",
      "2021-03-04 03:39:01,167 - WARNING - dataset:dataset.py:325 - Load LABELS from dataset/annotations/table-with-pages.txt\n"
     ]
    },
    {
     "data": {
      "application/vnd.jupyter.widget-view+json": {
       "model_id": "28cd3ca1b9854fe593417175df6bf6fd",
       "version_major": 2,
       "version_minor": 0
      },
      "text/plain": [
       "Assigning labels:   0%|          | 0/46 [00:00<?, ?it/s]"
      ]
     },
     "metadata": {},
     "output_type": "display_data"
    },
    {
     "name": "stdout",
     "output_type": "stream",
     "text": [
      "2021-03-04 03:39:01,224 - INFO - dataset:dataset.py:52 - select all leafs (nodes which are not parents)\n",
      "2021-03-04 03:39:01,225 - INFO - dataset:dataset.py:54 - Leafs set size: 145 (nodes which have no children)\n",
      "2021-03-04 03:39:01,227 - INFO - dataset:dataset.py:57 - count number of references to leafs\n",
      "2021-03-04 03:39:01,228 - INFO - dataset:dataset.py:59 - Nodes with leafs as children set size: 93 (nodes which have leafs as children)\n",
      "2021-03-04 03:39:01,230 - INFO - dataset:dataset.py:62 - count num children for each node\n",
      "2021-03-04 03:39:01,231 - INFO - dataset:dataset.py:64 - Nodes with children: 165\n",
      "2021-03-04 03:39:01,232 - INFO - dataset:dataset.py:67 - sum of children widths, heights, counts\n",
      "2021-03-04 03:39:01,236 - INFO - dataset:dataset.py:72 - Sum of children widths\n",
      "2021-03-04 03:39:01,239 - INFO - dataset:dataset.py:76 - Sum of children hights\n",
      "2021-03-04 03:39:01,248 - INFO - dataset:dataset.py:317 - Dataset for mobile-and-html-5\n",
      "2021-03-04 03:39:01,254 - INFO - dataset:dataset.py:320 - cleaning tag_name from dummy words\n",
      "2021-03-04 03:39:01,256 - WARNING - dataset:dataset.py:325 - Load LABELS from dataset/annotations/mobile-and-html-5.txt\n"
     ]
    },
    {
     "data": {
      "application/vnd.jupyter.widget-view+json": {
       "model_id": "b10c14345b4f4e8aa7bb10a6b21b45c5",
       "version_major": 2,
       "version_minor": 0
      },
      "text/plain": [
       "Assigning labels:   0%|          | 0/113 [00:00<?, ?it/s]"
      ]
     },
     "metadata": {},
     "output_type": "display_data"
    },
    {
     "name": "stdout",
     "output_type": "stream",
     "text": [
      "2021-03-04 03:39:01,536 - INFO - dataset:dataset.py:52 - select all leafs (nodes which are not parents)\n",
      "2021-03-04 03:39:01,538 - INFO - dataset:dataset.py:54 - Leafs set size: 397 (nodes which have no children)\n",
      "2021-03-04 03:39:01,540 - INFO - dataset:dataset.py:57 - count number of references to leafs\n",
      "2021-03-04 03:39:01,542 - INFO - dataset:dataset.py:59 - Nodes with leafs as children set size: 164 (nodes which have leafs as children)\n",
      "2021-03-04 03:39:01,544 - INFO - dataset:dataset.py:62 - count num children for each node\n",
      "2021-03-04 03:39:01,545 - INFO - dataset:dataset.py:64 - Nodes with children: 251\n",
      "2021-03-04 03:39:01,548 - INFO - dataset:dataset.py:67 - sum of children widths, heights, counts\n",
      "2021-03-04 03:39:01,552 - INFO - dataset:dataset.py:72 - Sum of children widths\n",
      "2021-03-04 03:39:01,555 - INFO - dataset:dataset.py:76 - Sum of children hights\n",
      "2021-03-04 03:39:01,564 - INFO - dataset:dataset.py:317 - Dataset for react-ant\n",
      "2021-03-04 03:39:01,572 - INFO - dataset:dataset.py:320 - cleaning tag_name from dummy words\n",
      "2021-03-04 03:39:01,574 - WARNING - dataset:dataset.py:325 - Load LABELS from dataset/annotations/react-ant.txt\n"
     ]
    },
    {
     "data": {
      "application/vnd.jupyter.widget-view+json": {
       "model_id": "9c60bb7faa684fb58a62059e4972a341",
       "version_major": 2,
       "version_minor": 0
      },
      "text/plain": [
       "Assigning labels:   0%|          | 0/91 [00:00<?, ?it/s]"
      ]
     },
     "metadata": {},
     "output_type": "display_data"
    },
    {
     "name": "stdout",
     "output_type": "stream",
     "text": [
      "2021-03-04 03:39:01,757 - INFO - dataset:dataset.py:52 - select all leafs (nodes which are not parents)\n",
      "2021-03-04 03:39:01,759 - INFO - dataset:dataset.py:54 - Leafs set size: 260 (nodes which have no children)\n",
      "2021-03-04 03:39:01,761 - INFO - dataset:dataset.py:57 - count number of references to leafs\n",
      "2021-03-04 03:39:01,762 - INFO - dataset:dataset.py:59 - Nodes with leafs as children set size: 198 (nodes which have leafs as children)\n",
      "2021-03-04 03:39:01,764 - INFO - dataset:dataset.py:62 - count num children for each node\n",
      "2021-03-04 03:39:01,764 - INFO - dataset:dataset.py:64 - Nodes with children: 441\n",
      "2021-03-04 03:39:01,765 - INFO - dataset:dataset.py:67 - sum of children widths, heights, counts\n",
      "2021-03-04 03:39:01,769 - INFO - dataset:dataset.py:72 - Sum of children widths\n",
      "2021-03-04 03:39:01,773 - INFO - dataset:dataset.py:76 - Sum of children hights\n",
      "2021-03-04 03:39:01,784 - INFO - dataset:dataset.py:317 - Dataset for search\n",
      "2021-03-04 03:39:01,790 - INFO - dataset:dataset.py:320 - cleaning tag_name from dummy words\n",
      "2021-03-04 03:39:01,791 - WARNING - dataset:dataset.py:325 - Load LABELS from dataset/annotations/search.txt\n"
     ]
    },
    {
     "data": {
      "application/vnd.jupyter.widget-view+json": {
       "model_id": "1f0e8d1167d64ac886445bead0624b2b",
       "version_major": 2,
       "version_minor": 0
      },
      "text/plain": [
       "Assigning labels:   0%|          | 0/47 [00:00<?, ?it/s]"
      ]
     },
     "metadata": {},
     "output_type": "display_data"
    },
    {
     "name": "stdout",
     "output_type": "stream",
     "text": [
      "2021-03-04 03:39:01,857 - INFO - dataset:dataset.py:52 - select all leafs (nodes which are not parents)\n",
      "2021-03-04 03:39:01,858 - INFO - dataset:dataset.py:54 - Leafs set size: 138 (nodes which have no children)\n",
      "2021-03-04 03:39:01,859 - INFO - dataset:dataset.py:57 - count number of references to leafs\n",
      "2021-03-04 03:39:01,861 - INFO - dataset:dataset.py:59 - Nodes with leafs as children set size: 90 (nodes which have leafs as children)\n",
      "2021-03-04 03:39:01,862 - INFO - dataset:dataset.py:62 - count num children for each node\n",
      "2021-03-04 03:39:01,862 - INFO - dataset:dataset.py:64 - Nodes with children: 157\n",
      "2021-03-04 03:39:01,864 - INFO - dataset:dataset.py:67 - sum of children widths, heights, counts\n",
      "2021-03-04 03:39:01,867 - INFO - dataset:dataset.py:72 - Sum of children widths\n",
      "2021-03-04 03:39:01,869 - INFO - dataset:dataset.py:76 - Sum of children hights\n",
      "2021-03-04 03:39:01,879 - INFO - dataset:dataset.py:317 - Dataset for contact-form\n",
      "2021-03-04 03:39:01,885 - INFO - dataset:dataset.py:320 - cleaning tag_name from dummy words\n",
      "2021-03-04 03:39:01,886 - WARNING - dataset:dataset.py:325 - Load LABELS from dataset/annotations/contact-form.txt\n"
     ]
    },
    {
     "data": {
      "application/vnd.jupyter.widget-view+json": {
       "model_id": "9356747d1c9b42e0b39f462497bc9d28",
       "version_major": 2,
       "version_minor": 0
      },
      "text/plain": [
       "Assigning labels:   0%|          | 0/38 [00:00<?, ?it/s]"
      ]
     },
     "metadata": {},
     "output_type": "display_data"
    },
    {
     "name": "stdout",
     "output_type": "stream",
     "text": [
      "2021-03-04 03:39:01,946 - INFO - dataset:dataset.py:52 - select all leafs (nodes which are not parents)\n",
      "2021-03-04 03:39:01,947 - INFO - dataset:dataset.py:54 - Leafs set size: 153 (nodes which have no children)\n",
      "2021-03-04 03:39:01,948 - INFO - dataset:dataset.py:57 - count number of references to leafs\n",
      "2021-03-04 03:39:01,949 - INFO - dataset:dataset.py:59 - Nodes with leafs as children set size: 98 (nodes which have leafs as children)\n",
      "2021-03-04 03:39:01,951 - INFO - dataset:dataset.py:62 - count num children for each node\n",
      "2021-03-04 03:39:01,952 - INFO - dataset:dataset.py:64 - Nodes with children: 184\n",
      "2021-03-04 03:39:01,953 - INFO - dataset:dataset.py:67 - sum of children widths, heights, counts\n",
      "2021-03-04 03:39:01,958 - INFO - dataset:dataset.py:72 - Sum of children widths\n",
      "2021-03-04 03:39:01,961 - INFO - dataset:dataset.py:76 - Sum of children hights\n",
      "2021-03-04 03:39:01,969 - INFO - dataset:dataset.py:317 - Dataset for dates\n",
      "2021-03-04 03:39:01,976 - INFO - dataset:dataset.py:320 - cleaning tag_name from dummy words\n",
      "2021-03-04 03:39:01,978 - WARNING - dataset:dataset.py:325 - Load LABELS from dataset/annotations/dates.txt\n"
     ]
    },
    {
     "data": {
      "application/vnd.jupyter.widget-view+json": {
       "model_id": "054d761f3bf64a8daf07dfdaa24eb97f",
       "version_major": 2,
       "version_minor": 0
      },
      "text/plain": [
       "Assigning labels:   0%|          | 0/48 [00:00<?, ?it/s]"
      ]
     },
     "metadata": {},
     "output_type": "display_data"
    },
    {
     "name": "stdout",
     "output_type": "stream",
     "text": [
      "2021-03-04 03:39:02,042 - INFO - dataset:dataset.py:52 - select all leafs (nodes which are not parents)\n",
      "2021-03-04 03:39:02,043 - INFO - dataset:dataset.py:54 - Leafs set size: 137 (nodes which have no children)\n",
      "2021-03-04 03:39:02,044 - INFO - dataset:dataset.py:57 - count number of references to leafs\n",
      "2021-03-04 03:39:02,046 - INFO - dataset:dataset.py:59 - Nodes with leafs as children set size: 100 (nodes which have leafs as children)\n",
      "2021-03-04 03:39:02,048 - INFO - dataset:dataset.py:62 - count num children for each node\n",
      "2021-03-04 03:39:02,048 - INFO - dataset:dataset.py:64 - Nodes with children: 177\n",
      "2021-03-04 03:39:02,050 - INFO - dataset:dataset.py:67 - sum of children widths, heights, counts\n",
      "2021-03-04 03:39:02,054 - INFO - dataset:dataset.py:72 - Sum of children widths\n",
      "2021-03-04 03:39:02,056 - INFO - dataset:dataset.py:76 - Sum of children hights\n",
      "2021-03-04 03:39:02,065 - INFO - dataset:dataset.py:338 - Concatenate datasets\n",
      "2021-03-04 03:39:02,115 - INFO - dataset:dataset.py:341 - Drop redundunt columns: {'hover_after', 'ds_name', 'attr_class_parent', 'base64png_after_hover_parent', 'base64png_before_hover', 'base64png_before_hover_parent', 'element_id', 'y', 'x_parent', 'y_parent', 'element_id_parent', 'label_parent', 'hover_before', 'base64png_after_hover', 'parent_id_parent', 'path_parent', 'hover_after_parent', 'is_leaf_parent', 'x', 'path', 'hover_before_parent', 'attr_class', 'parent_id'}\n",
      "2021-03-04 03:39:02,183 - INFO - dataset:dataset.py:461 - Rebalance dataset\n",
      "2021-03-04 03:39:02,583 - INFO - dataset:dataset.py:473 - Rebalanced dataset size: 34593\n",
      "2021-03-04 03:39:02,586 - WARNING - dataset:dataset.py:374 - Load existing count vectorizer for tag_names\n",
      "2021-03-04 03:39:02,724 - WARNING - dataset:dataset.py:390 - Load existing attr_type OHE. You have to remove model/attr_type_ohe.pkl, to fit it from scratch\n",
      "2021-03-04 03:39:02,735 - WARNING - dataset:dataset.py:406 - Load existing attr_role OHE. You have to remove model/attr_role_ohe.pkl, to fit it from scratch\n",
      "2021-03-04 03:39:02,766 - WARNING - dataset:dataset.py:429 - Load existing label OHE from model/label_ohe.pkl\n",
      "2021-03-04 03:39:02,779 - INFO - dataset:dataset.py:453 - Drop encoded columns: [['tag_name', 'tag_name_parent', 'attr_role', 'attr_role_parent', 'attr_type', 'attr_type_parent', 'label', 'label_text']]\n"
     ]
    }
   ],
   "source": [
    "train_dataset = JDIDataset()"
   ]
  },
  {
   "cell_type": "code",
   "execution_count": 3,
   "id": "copyrighted-might",
   "metadata": {},
   "outputs": [
    {
     "data": {
      "text/plain": [
       "34593"
      ]
     },
     "execution_count": 3,
     "metadata": {},
     "output_type": "execute_result"
    }
   ],
   "source": [
    "len(train_dataset)"
   ]
  },
  {
   "cell_type": "code",
   "execution_count": 4,
   "id": "leading-characteristic",
   "metadata": {},
   "outputs": [
    {
     "data": {
      "text/plain": [
       "n/a                 14738\n",
       "link                10219\n",
       "button               3377\n",
       "textfield            1881\n",
       "checkbox             1111\n",
       "radiobutton           979\n",
       "dropdown              935\n",
       "range                 330\n",
       "table                 275\n",
       "datetimeselector      253\n",
       "textarea              176\n",
       "fileinput              77\n",
       "dropdownselector       55\n",
       "numberselector         55\n",
       "colorpicker            44\n",
       "iframe                 44\n",
       "checklist              22\n",
       "image                  22\n",
       "Name: label_text, dtype: int64"
      ]
     },
     "execution_count": 4,
     "metadata": {},
     "output_type": "execute_result"
    }
   ],
   "source": [
    "train_dataset.labels_text.label_text.value_counts()"
   ]
  },
  {
   "cell_type": "code",
   "execution_count": 5,
   "id": "capital-cradle",
   "metadata": {},
   "outputs": [
    {
     "data": {
      "text/plain": [
       "(555, 18)"
      ]
     },
     "execution_count": 5,
     "metadata": {},
     "output_type": "execute_result"
    }
   ],
   "source": [
    "IN_FEATURES = train_dataset[0][0].shape[0]\n",
    "OUT_FEATURES = train_dataset[0][1].shape[0]\n",
    "IN_FEATURES, OUT_FEATURES"
   ]
  },
  {
   "cell_type": "code",
   "execution_count": 7,
   "id": "stunning-jamaica",
   "metadata": {},
   "outputs": [],
   "source": [
    "class JDIModel(torch.nn.Module):\n",
    "    def __init__(self):\n",
    "        super(JDIModel, self).__init__()\n",
    "        \n",
    "        self.input_layer = torch.nn.Linear(in_features=IN_FEATURES, out_features=64, bias=False)\n",
    "        self.batchNorm1 = torch.nn.LayerNorm(normalized_shape=[self.input_layer.out_features])\n",
    "        self.leaky_relu1 = torch.nn.LeakyReLU(inplace=True)\n",
    "        self.hidden1 = torch.nn.Linear(in_features=self.input_layer.out_features, out_features=32, bias=False)\n",
    "        self.batchNorm2 = torch.nn.LayerNorm(normalized_shape=[self.hidden1.out_features])\n",
    "        self.leaky_relu2 = torch.nn.LeakyReLU(inplace=True)\n",
    "        self.hidden2 = torch.nn.Linear(in_features=self.hidden1.out_features, out_features=OUT_FEATURES, bias=True)\n",
    "        #self.out_layer = torch.nn.Softmax(dim=1)\n",
    "        \n",
    "    def forward(self, x):\n",
    "        x = self.input_layer(x)\n",
    "        x = self.batchNorm1(x)\n",
    "        x = self.leaky_relu1(x)\n",
    "        x = self.hidden1(x)\n",
    "        x = self.batchNorm2(x)\n",
    "        x = self.leaky_relu2(x)\n",
    "        x = self.hidden2(x)\n",
    "        #x = self.out_layer(x)\n",
    "        return x\n",
    "        \n",
    "        "
   ]
  },
  {
   "cell_type": "code",
   "execution_count": 8,
   "id": "structural-concern",
   "metadata": {},
   "outputs": [],
   "source": [
    "model = JDIModel()\n",
    "BATCH_SISE = 128\n",
    "train_dataloader = DataLoader(train_dataset, batch_size=BATCH_SISE, shuffle=True)\n"
   ]
  },
  {
   "cell_type": "code",
   "execution_count": 9,
   "id": "victorian-strand",
   "metadata": {},
   "outputs": [],
   "source": [
    "criterion = torch.nn.CrossEntropyLoss()"
   ]
  },
  {
   "cell_type": "code",
   "execution_count": 10,
   "id": "widespread-europe",
   "metadata": {},
   "outputs": [
    {
     "data": {
      "text/plain": [
       "'cuda'"
      ]
     },
     "execution_count": 10,
     "metadata": {},
     "output_type": "execute_result"
    }
   ],
   "source": [
    "DEVICE = 'cuda' if torch.cuda.is_available() else 'cpu'\n",
    "DEVICE"
   ]
  },
  {
   "cell_type": "code",
   "execution_count": 11,
   "id": "vanilla-mathematics",
   "metadata": {},
   "outputs": [
    {
     "data": {
      "application/vnd.jupyter.widget-view+json": {
       "model_id": "6547fb07b4a74efc94cff725d290fc0d",
       "version_major": 2,
       "version_minor": 0
      },
      "text/plain": [
       "  0%|          | 0/270 [00:00<?, ?it/s]"
      ]
     },
     "metadata": {},
     "output_type": "display_data"
    },
    {
     "name": "stdout",
     "output_type": "stream",
     "text": [
      "Epoch: 0, Mean loss: 1.2521244054591214\n"
     ]
    },
    {
     "data": {
      "application/vnd.jupyter.widget-view+json": {
       "model_id": "6952b0b2ef49430381ebf9fa797d4aae",
       "version_major": 2,
       "version_minor": 0
      },
      "text/plain": [
       "  0%|          | 0/270 [00:00<?, ?it/s]"
      ]
     },
     "metadata": {},
     "output_type": "display_data"
    },
    {
     "name": "stdout",
     "output_type": "stream",
     "text": [
      "Epoch: 1, Mean loss: 0.5856171393835986\n"
     ]
    },
    {
     "data": {
      "application/vnd.jupyter.widget-view+json": {
       "model_id": "cbd10d18024a4d1aaa2bd030c8279529",
       "version_major": 2,
       "version_minor": 0
      },
      "text/plain": [
       "  0%|          | 0/270 [00:00<?, ?it/s]"
      ]
     },
     "metadata": {},
     "output_type": "display_data"
    },
    {
     "name": "stdout",
     "output_type": "stream",
     "text": [
      "Epoch: 2, Mean loss: 0.43581285051725527\n"
     ]
    },
    {
     "data": {
      "application/vnd.jupyter.widget-view+json": {
       "model_id": "92a03c1aaba04dfaab9e95f6a9db762c",
       "version_major": 2,
       "version_minor": 0
      },
      "text/plain": [
       "  0%|          | 0/270 [00:00<?, ?it/s]"
      ]
     },
     "metadata": {},
     "output_type": "display_data"
    },
    {
     "name": "stdout",
     "output_type": "stream",
     "text": [
      "Epoch: 3, Mean loss: 0.364052272008525\n"
     ]
    },
    {
     "data": {
      "application/vnd.jupyter.widget-view+json": {
       "model_id": "7ac253f9829a4b6285918b690d67c833",
       "version_major": 2,
       "version_minor": 0
      },
      "text/plain": [
       "  0%|          | 0/270 [00:00<?, ?it/s]"
      ]
     },
     "metadata": {},
     "output_type": "display_data"
    },
    {
     "name": "stdout",
     "output_type": "stream",
     "text": [
      "Epoch: 4, Mean loss: 0.3143059159318606\n"
     ]
    },
    {
     "data": {
      "application/vnd.jupyter.widget-view+json": {
       "model_id": "b3737e4d287a4d6eaaee9122d6e28645",
       "version_major": 2,
       "version_minor": 0
      },
      "text/plain": [
       "  0%|          | 0/270 [00:00<?, ?it/s]"
      ]
     },
     "metadata": {},
     "output_type": "display_data"
    },
    {
     "name": "stdout",
     "output_type": "stream",
     "text": [
      "Epoch: 5, Mean loss: 0.2864811481149108\n"
     ]
    },
    {
     "data": {
      "application/vnd.jupyter.widget-view+json": {
       "model_id": "635ea9972d5f480e8b9b2238177fccfa",
       "version_major": 2,
       "version_minor": 0
      },
      "text/plain": [
       "  0%|          | 0/270 [00:00<?, ?it/s]"
      ]
     },
     "metadata": {},
     "output_type": "display_data"
    },
    {
     "name": "stdout",
     "output_type": "stream",
     "text": [
      "Epoch: 6, Mean loss: 0.2638705265742761\n"
     ]
    },
    {
     "data": {
      "application/vnd.jupyter.widget-view+json": {
       "model_id": "48990a5b91224ea4a11e0fee42973e2f",
       "version_major": 2,
       "version_minor": 0
      },
      "text/plain": [
       "  0%|          | 0/270 [00:00<?, ?it/s]"
      ]
     },
     "metadata": {},
     "output_type": "display_data"
    },
    {
     "name": "stdout",
     "output_type": "stream",
     "text": [
      "Epoch: 7, Mean loss: 0.2553343002994855\n"
     ]
    },
    {
     "data": {
      "application/vnd.jupyter.widget-view+json": {
       "model_id": "6b9e7d143a9f45cb888ad7d263528e0b",
       "version_major": 2,
       "version_minor": 0
      },
      "text/plain": [
       "  0%|          | 0/270 [00:00<?, ?it/s]"
      ]
     },
     "metadata": {},
     "output_type": "display_data"
    },
    {
     "name": "stdout",
     "output_type": "stream",
     "text": [
      "Epoch: 8, Mean loss: 0.24435961229933634\n"
     ]
    },
    {
     "data": {
      "application/vnd.jupyter.widget-view+json": {
       "model_id": "eeff0c910ec34cae8c09673a1916478c",
       "version_major": 2,
       "version_minor": 0
      },
      "text/plain": [
       "  0%|          | 0/270 [00:00<?, ?it/s]"
      ]
     },
     "metadata": {},
     "output_type": "display_data"
    },
    {
     "name": "stdout",
     "output_type": "stream",
     "text": [
      "Epoch: 9, Mean loss: 0.2236962722407447\n"
     ]
    }
   ],
   "source": [
    "model.to(DEVICE)\n",
    "model.train()\n",
    "\n",
    "criterion = torch.nn.CrossEntropyLoss()\n",
    "optimizer = torch.optim.Adam(model.parameters(), lr=0.001)\n",
    "cumulative_loss = 0.0\n",
    "\n",
    "NUM_BATCHES = len(train_dataset)//BATCH_SISE\n",
    "NUM_EPOCS = 10\n",
    "for epoch in range(NUM_EPOCS):\n",
    "    with trange(NUM_BATCHES) as bar:\n",
    "        cumulative_loss = 0.0\n",
    "        for x, y in train_dataloader:\n",
    "            y_hat = model(x.to(DEVICE))\n",
    "\n",
    "            target = torch.argmax(y.to(DEVICE), dim=1)\n",
    "            optimizer.zero_grad()\n",
    "\n",
    "            loss = criterion(y_hat, target)\n",
    "            loss.backward()\n",
    "            optimizer.step()\n",
    "            cumulative_loss += loss.item()\n",
    "            bar.set_description(f\"Epoch: {epoch}, {round(cumulative_loss,5)}, {round(loss.item(),5)}\")\n",
    "            bar.update(1)\n",
    "        print(f'Epoch: {epoch}, Mean loss: {cumulative_loss/NUM_BATCHES}')\n",
    "    \n",
    "    "
   ]
  },
  {
   "cell_type": "code",
   "execution_count": 12,
   "id": "prospective-minneapolis",
   "metadata": {},
   "outputs": [
    {
     "data": {
      "application/vnd.jupyter.widget-view+json": {
       "model_id": "9ad06db4b4ef44fda70c831e12841eca",
       "version_major": 2,
       "version_minor": 0
      },
      "text/plain": [
       "  0%|          | 0/270 [00:00<?, ?it/s]"
      ]
     },
     "metadata": {},
     "output_type": "display_data"
    },
    {
     "name": "stdout",
     "output_type": "stream",
     "text": [
      "Epoch: 0, Mean loss: 0.21944206196952748\n"
     ]
    },
    {
     "data": {
      "application/vnd.jupyter.widget-view+json": {
       "model_id": "c9bb10ae09874a0cbe9b484e26c08a54",
       "version_major": 2,
       "version_minor": 0
      },
      "text/plain": [
       "  0%|          | 0/270 [00:00<?, ?it/s]"
      ]
     },
     "metadata": {},
     "output_type": "display_data"
    },
    {
     "name": "stdout",
     "output_type": "stream",
     "text": [
      "Epoch: 1, Mean loss: 0.21374755474152388\n"
     ]
    },
    {
     "data": {
      "application/vnd.jupyter.widget-view+json": {
       "model_id": "4160b618d5b742cbb9e8c2c0fff5762d",
       "version_major": 2,
       "version_minor": 0
      },
      "text/plain": [
       "  0%|          | 0/270 [00:00<?, ?it/s]"
      ]
     },
     "metadata": {},
     "output_type": "display_data"
    },
    {
     "name": "stdout",
     "output_type": "stream",
     "text": [
      "Epoch: 2, Mean loss: 0.19767881714635424\n"
     ]
    },
    {
     "data": {
      "application/vnd.jupyter.widget-view+json": {
       "model_id": "25a049eddaa34574aa6b6a120d513124",
       "version_major": 2,
       "version_minor": 0
      },
      "text/plain": [
       "  0%|          | 0/270 [00:00<?, ?it/s]"
      ]
     },
     "metadata": {},
     "output_type": "display_data"
    },
    {
     "name": "stdout",
     "output_type": "stream",
     "text": [
      "Epoch: 3, Mean loss: 0.1923811147886294\n"
     ]
    },
    {
     "data": {
      "application/vnd.jupyter.widget-view+json": {
       "model_id": "124ee027cf7042589fe4074f6c796967",
       "version_major": 2,
       "version_minor": 0
      },
      "text/plain": [
       "  0%|          | 0/270 [00:00<?, ?it/s]"
      ]
     },
     "metadata": {},
     "output_type": "display_data"
    },
    {
     "name": "stdout",
     "output_type": "stream",
     "text": [
      "Epoch: 4, Mean loss: 0.19300280784567198\n"
     ]
    },
    {
     "data": {
      "application/vnd.jupyter.widget-view+json": {
       "model_id": "2260b111c3c94c98aff1dad5dbe04c95",
       "version_major": 2,
       "version_minor": 0
      },
      "text/plain": [
       "  0%|          | 0/270 [00:00<?, ?it/s]"
      ]
     },
     "metadata": {},
     "output_type": "display_data"
    },
    {
     "name": "stdout",
     "output_type": "stream",
     "text": [
      "Epoch: 5, Mean loss: 0.1921181106870925\n"
     ]
    },
    {
     "data": {
      "application/vnd.jupyter.widget-view+json": {
       "model_id": "7d86f8fde0ff4eceaa0ca46de9783d87",
       "version_major": 2,
       "version_minor": 0
      },
      "text/plain": [
       "  0%|          | 0/270 [00:00<?, ?it/s]"
      ]
     },
     "metadata": {},
     "output_type": "display_data"
    },
    {
     "name": "stdout",
     "output_type": "stream",
     "text": [
      "Epoch: 6, Mean loss: 0.18233060536009293\n"
     ]
    },
    {
     "data": {
      "application/vnd.jupyter.widget-view+json": {
       "model_id": "11e7a10eb8c04cbaae91de395752ed27",
       "version_major": 2,
       "version_minor": 0
      },
      "text/plain": [
       "  0%|          | 0/270 [00:00<?, ?it/s]"
      ]
     },
     "metadata": {},
     "output_type": "display_data"
    },
    {
     "name": "stdout",
     "output_type": "stream",
     "text": [
      "Epoch: 7, Mean loss: 0.17799068817661867\n"
     ]
    },
    {
     "data": {
      "application/vnd.jupyter.widget-view+json": {
       "model_id": "42fa9813fa4642de87084119f456c374",
       "version_major": 2,
       "version_minor": 0
      },
      "text/plain": [
       "  0%|          | 0/270 [00:00<?, ?it/s]"
      ]
     },
     "metadata": {},
     "output_type": "display_data"
    },
    {
     "name": "stdout",
     "output_type": "stream",
     "text": [
      "Epoch: 8, Mean loss: 0.17091449112803847\n"
     ]
    },
    {
     "data": {
      "application/vnd.jupyter.widget-view+json": {
       "model_id": "2f86e2d637484d27a1faabde09ac9b1b",
       "version_major": 2,
       "version_minor": 0
      },
      "text/plain": [
       "  0%|          | 0/270 [00:00<?, ?it/s]"
      ]
     },
     "metadata": {},
     "output_type": "display_data"
    },
    {
     "name": "stdout",
     "output_type": "stream",
     "text": [
      "Epoch: 9, Mean loss: 0.17541619181908943\n"
     ]
    }
   ],
   "source": [
    "model.to(DEVICE)\n",
    "model.train()\n",
    "\n",
    "criterion = torch.nn.CrossEntropyLoss()\n",
    "optimizer = torch.optim.Adam(model.parameters(), lr=0.001)\n",
    "cumulative_loss = 0.0\n",
    "\n",
    "NUM_BATCHES = len(train_dataset)//BATCH_SISE\n",
    "NUM_EPOCS = 10\n",
    "for epoch in range(NUM_EPOCS):\n",
    "    with trange(NUM_BATCHES) as bar:\n",
    "        cumulative_loss = 0.0\n",
    "        for x, y in train_dataloader:\n",
    "            y_hat = model(x.to(DEVICE))\n",
    "\n",
    "            target = torch.argmax(y.to(DEVICE), dim=1)\n",
    "            optimizer.zero_grad()\n",
    "\n",
    "            loss = criterion(y_hat, target)\n",
    "            loss.backward()\n",
    "            optimizer.step()\n",
    "            cumulative_loss += loss.item()\n",
    "            bar.set_description(f\"Epoch: {epoch}, {round(cumulative_loss,5)}, {round(loss.item(),5)}\")\n",
    "            bar.update(1)\n",
    "        print(f'Epoch: {epoch}, Mean loss: {cumulative_loss/NUM_BATCHES}')\n"
   ]
  },
  {
   "cell_type": "code",
   "execution_count": 14,
   "id": "educated-rainbow",
   "metadata": {},
   "outputs": [],
   "source": [
    "torch.save(model, 'model/model.weights')"
   ]
  },
  {
   "cell_type": "code",
   "execution_count": 15,
   "id": "heard-shopper",
   "metadata": {},
   "outputs": [],
   "source": [
    "model2 = torch.load('model/model.weights')"
   ]
  },
  {
   "cell_type": "code",
   "execution_count": 16,
   "id": "gentle-silly",
   "metadata": {},
   "outputs": [
    {
     "data": {
      "text/plain": [
       "JDIModel(\n",
       "  (input_layer): Linear(in_features=555, out_features=64, bias=False)\n",
       "  (batchNorm1): LayerNorm((64,), eps=1e-05, elementwise_affine=True)\n",
       "  (leaky_relu1): LeakyReLU(negative_slope=0.01, inplace=True)\n",
       "  (hidden1): Linear(in_features=64, out_features=32, bias=False)\n",
       "  (batchNorm2): LayerNorm((32,), eps=1e-05, elementwise_affine=True)\n",
       "  (leaky_relu2): LeakyReLU(negative_slope=0.01, inplace=True)\n",
       "  (hidden2): Linear(in_features=32, out_features=18, bias=True)\n",
       ")"
      ]
     },
     "execution_count": 16,
     "metadata": {},
     "output_type": "execute_result"
    }
   ],
   "source": [
    "model2.eval()"
   ]
  },
  {
   "cell_type": "code",
   "execution_count": 46,
   "id": "level-glasgow",
   "metadata": {},
   "outputs": [
    {
     "data": {
      "text/plain": [
       "array([['link']], dtype=object)"
      ]
     },
     "execution_count": 46,
     "metadata": {},
     "output_type": "execute_result"
    }
   ],
   "source": [
    "idx = 20223\n",
    "x = torch.tensor(train_dataset[idx][0]).unsqueeze(dim=0).to(DEVICE)\n",
    "train_dataset.label_ohe.inverse_transform(np.expand_dims(train_dataset[idx][1], 0))"
   ]
  },
  {
   "cell_type": "code",
   "execution_count": 47,
   "id": "grand-burden",
   "metadata": {},
   "outputs": [
    {
     "data": {
      "text/plain": [
       "array([[0., 0., 0., 0., 0., 0., 0., 0., 0., 0., 1., 0., 0., 0., 0., 0.,\n",
       "        0., 0.]], dtype=float32)"
      ]
     },
     "execution_count": 47,
     "metadata": {},
     "output_type": "execute_result"
    }
   ],
   "source": [
    "res = torch.round(torch.nn.Softmax(dim=1)(model2(x))).cpu().detach().numpy()\n",
    "res"
   ]
  },
  {
   "cell_type": "code",
   "execution_count": 48,
   "id": "upper-blanket",
   "metadata": {},
   "outputs": [
    {
     "data": {
      "text/plain": [
       "array([['link']], dtype=object)"
      ]
     },
     "execution_count": 48,
     "metadata": {},
     "output_type": "execute_result"
    }
   ],
   "source": [
    "train_dataset.label_ohe.inverse_transform(res)"
   ]
  },
  {
   "cell_type": "code",
   "execution_count": null,
   "id": "according-strain",
   "metadata": {},
   "outputs": [],
   "source": []
  },
  {
   "cell_type": "code",
   "execution_count": null,
   "id": "dynamic-washer",
   "metadata": {},
   "outputs": [],
   "source": []
  },
  {
   "cell_type": "code",
   "execution_count": 49,
   "id": "scheduled-precipitation",
   "metadata": {},
   "outputs": [
    {
     "data": {
      "text/plain": [
       "array([['textfield']], dtype=object)"
      ]
     },
     "execution_count": 49,
     "metadata": {},
     "output_type": "execute_result"
    }
   ],
   "source": [
    "idx = 30223\n",
    "x = torch.tensor(train_dataset[idx][0]).unsqueeze(dim=0).to(DEVICE)\n",
    "train_dataset.label_ohe.inverse_transform(np.expand_dims(train_dataset[idx][1], 0))"
   ]
  },
  {
   "cell_type": "code",
   "execution_count": 50,
   "id": "thick-granny",
   "metadata": {},
   "outputs": [
    {
     "data": {
      "text/plain": [
       "array([[0., 0., 0., 0., 0., 0., 0., 0., 0., 0., 0., 0., 0., 0., 0., 0.,\n",
       "        0., 1.]], dtype=float32)"
      ]
     },
     "execution_count": 50,
     "metadata": {},
     "output_type": "execute_result"
    }
   ],
   "source": [
    "res = torch.round(torch.nn.Softmax(dim=1)(model2(x))).cpu().detach().numpy()\n",
    "res"
   ]
  },
  {
   "cell_type": "code",
   "execution_count": 51,
   "id": "crazy-avatar",
   "metadata": {},
   "outputs": [
    {
     "data": {
      "text/plain": [
       "array([['textfield']], dtype=object)"
      ]
     },
     "execution_count": 51,
     "metadata": {},
     "output_type": "execute_result"
    }
   ],
   "source": [
    "train_dataset.label_ohe.inverse_transform(res)"
   ]
  },
  {
   "cell_type": "code",
   "execution_count": null,
   "id": "turned-grass",
   "metadata": {},
   "outputs": [],
   "source": []
  }
 ],
 "metadata": {
  "kernelspec": {
   "display_name": "Python 3",
   "language": "python",
   "name": "python3"
  },
  "language_info": {
   "codemirror_mode": {
    "name": "ipython",
    "version": 3
   },
   "file_extension": ".py",
   "mimetype": "text/x-python",
   "name": "python",
   "nbconvert_exporter": "python",
   "pygments_lexer": "ipython3",
   "version": "3.7.9"
  },
  "widgets": {
   "application/vnd.jupyter.widget-state+json": {
    "state": {
     "000c7bcf15e84a4491f19ca4d73fc849": {
      "model_module": "@jupyter-widgets/controls",
      "model_module_version": "1.5.0",
      "model_name": "DescriptionStyleModel",
      "state": {
       "description_width": ""
      }
     },
     "001fc44b91514584a7af3574415e45ca": {
      "model_module": "@jupyter-widgets/base",
      "model_module_version": "1.2.0",
      "model_name": "LayoutModel",
      "state": {}
     },
     "002bcf20ac814db4b941a71cae8ea9c7": {
      "model_module": "@jupyter-widgets/controls",
      "model_module_version": "1.5.0",
      "model_name": "HTMLModel",
      "state": {
       "layout": "IPY_MODEL_f683f7e3f4c94a77aa8217c624ed820a",
       "style": "IPY_MODEL_4b0dbcaf658b47de96bad8298bcc6aba",
       "value": "Epoch: 0, 338.07359, 0.48983: "
      }
     },
     "0030c0e58b104053a2fde7ef12fe49c0": {
      "model_module": "@jupyter-widgets/base",
      "model_module_version": "1.2.0",
      "model_name": "LayoutModel",
      "state": {}
     },
     "0066efe1a3a54a7e96c01fbab2f7e706": {
      "model_module": "@jupyter-widgets/controls",
      "model_module_version": "1.5.0",
      "model_name": "HTMLModel",
      "state": {
       "layout": "IPY_MODEL_72b87baf0a804e179f61f7d05e31a34f",
       "style": "IPY_MODEL_bcb6b8f344ef4b4485d3ae2e3dca3eb8",
       "value": " 113/113 [00:00&lt;00:00, 799.99it/s]"
      }
     },
     "008d317c6895460d97bb7d6afcf20945": {
      "model_module": "@jupyter-widgets/controls",
      "model_module_version": "1.5.0",
      "model_name": "HTMLModel",
      "state": {
       "layout": "IPY_MODEL_414a709875b14f40a4e7dafc2f1200f4",
       "style": "IPY_MODEL_ef1ed4d125e74c7299e24a96f8293e8b",
       "value": " 113/113 [00:00&lt;00:00, 831.70it/s]"
      }
     },
     "00ad10032c3249c980411d6a5b31f664": {
      "model_module": "@jupyter-widgets/controls",
      "model_module_version": "1.5.0",
      "model_name": "HBoxModel",
      "state": {
       "children": [
        "IPY_MODEL_5722c21bc7424ca4a79df62dc7b47c62",
        "IPY_MODEL_487ed959f5314f3aaff2b9496fa41016",
        "IPY_MODEL_434a980adad64de28bc2730f75ee90e3"
       ],
       "layout": "IPY_MODEL_035a1377449940828d98eb784adec361"
      }
     },
     "00d3a0ecb6a241f9a3108fbc39488bcd": {
      "model_module": "@jupyter-widgets/controls",
      "model_module_version": "1.5.0",
      "model_name": "FloatProgressModel",
      "state": {
       "bar_style": "success",
       "layout": "IPY_MODEL_4f9c51cf1a5146f38aaed843fb532a54",
       "max": 526,
       "style": "IPY_MODEL_54fb3ec3a6164a3f8bfbd65a4a773407",
       "value": 526
      }
     },
     "00ed5084d10743829de935945db24131": {
      "model_module": "@jupyter-widgets/controls",
      "model_module_version": "1.5.0",
      "model_name": "DescriptionStyleModel",
      "state": {
       "description_width": ""
      }
     },
     "012f90b9345f417f99edcad8a27cefb0": {
      "model_module": "@jupyter-widgets/controls",
      "model_module_version": "1.5.0",
      "model_name": "DescriptionStyleModel",
      "state": {
       "description_width": ""
      }
     },
     "01c4195ff58841f390cc850dfff7e489": {
      "model_module": "@jupyter-widgets/base",
      "model_module_version": "1.2.0",
      "model_name": "LayoutModel",
      "state": {}
     },
     "01f3f0fad2b349e9bcd15194a732a80c": {
      "model_module": "@jupyter-widgets/base",
      "model_module_version": "1.2.0",
      "model_name": "LayoutModel",
      "state": {}
     },
     "0231c6e5820342b98985b34c6b07b8b1": {
      "model_module": "@jupyter-widgets/controls",
      "model_module_version": "1.5.0",
      "model_name": "HBoxModel",
      "state": {
       "children": [
        "IPY_MODEL_fdf2a4f5cd6d436281054ca96caba75d",
        "IPY_MODEL_a8a5c4987d4a49b08781f5aa81299288",
        "IPY_MODEL_a038a0ac85f544539762d6ac5d5891b3"
       ],
       "layout": "IPY_MODEL_a1a48eb4d3574714abc6a4ca620d0ed3"
      }
     },
     "0261fb6b9a1246418d5321f16710365d": {
      "model_module": "@jupyter-widgets/controls",
      "model_module_version": "1.5.0",
      "model_name": "HTMLModel",
      "state": {
       "layout": "IPY_MODEL_59f6b855805347c0ad35b019e069b435",
       "style": "IPY_MODEL_ab294bd8da624db094a720c0717ad477",
       "value": "Assigning labels: 100%"
      }
     },
     "02735b78b4cd4a95a400bbf4932ba85a": {
      "model_module": "@jupyter-widgets/controls",
      "model_module_version": "1.5.0",
      "model_name": "FloatProgressModel",
      "state": {
       "bar_style": "success",
       "layout": "IPY_MODEL_f14c7e10722b469389076381c6cde2e8",
       "max": 270,
       "style": "IPY_MODEL_d125f0df9f4941bfa5b188e7f301cbd7",
       "value": 270
      }
     },
     "02be489b0e614b148d29321def9232fe": {
      "model_module": "@jupyter-widgets/base",
      "model_module_version": "1.2.0",
      "model_name": "LayoutModel",
      "state": {}
     },
     "02f4cef70002470f92860f57bd0a238f": {
      "model_module": "@jupyter-widgets/controls",
      "model_module_version": "1.5.0",
      "model_name": "FloatProgressModel",
      "state": {
       "bar_style": "success",
       "layout": "IPY_MODEL_711f38ffc982414690acd4814f09f9e4",
       "max": 40,
       "style": "IPY_MODEL_24c1d7a37ca941a390b1886441916e1d",
       "value": 40
      }
     },
     "02ffb18f3cba4ee6a43151f8deb4567f": {
      "model_module": "@jupyter-widgets/controls",
      "model_module_version": "1.5.0",
      "model_name": "DescriptionStyleModel",
      "state": {
       "description_width": ""
      }
     },
     "0308abf693874d3683535b17a290e227": {
      "model_module": "@jupyter-widgets/controls",
      "model_module_version": "1.5.0",
      "model_name": "HTMLModel",
      "state": {
       "layout": "IPY_MODEL_261f7752376547f886860eaccec3dd60",
       "style": "IPY_MODEL_22b4fa8e9cc54385917ac1345b5815c1",
       "value": "Assigning labels: 100%"
      }
     },
     "0319d162e9a24a7eacdda6dbc0d9143e": {
      "model_module": "@jupyter-widgets/base",
      "model_module_version": "1.2.0",
      "model_name": "LayoutModel",
      "state": {}
     },
     "035a1377449940828d98eb784adec361": {
      "model_module": "@jupyter-widgets/base",
      "model_module_version": "1.2.0",
      "model_name": "LayoutModel",
      "state": {}
     },
     "03bff3f13fea42f0a68568040807dab4": {
      "model_module": "@jupyter-widgets/controls",
      "model_module_version": "1.5.0",
      "model_name": "FloatProgressModel",
      "state": {
       "bar_style": "danger",
       "layout": "IPY_MODEL_5289719cfac346ac97af9f36bbc77619",
       "max": 270,
       "style": "IPY_MODEL_bb0d592134784a12a0fd92a143c29590",
       "value": 93
      }
     },
     "0413eb653a1b4184b85730949eedbefc": {
      "model_module": "@jupyter-widgets/controls",
      "model_module_version": "1.5.0",
      "model_name": "ProgressStyleModel",
      "state": {
       "description_width": ""
      }
     },
     "0460d73f6d8741ea94e6dff9efed0019": {
      "model_module": "@jupyter-widgets/controls",
      "model_module_version": "1.5.0",
      "model_name": "DescriptionStyleModel",
      "state": {
       "description_width": ""
      }
     },
     "046a755d95f64c91b0c241902ee1b858": {
      "model_module": "@jupyter-widgets/controls",
      "model_module_version": "1.5.0",
      "model_name": "DescriptionStyleModel",
      "state": {
       "description_width": ""
      }
     },
     "0470c755dced4c7e999a35e3d0e1c3b4": {
      "model_module": "@jupyter-widgets/controls",
      "model_module_version": "1.5.0",
      "model_name": "ProgressStyleModel",
      "state": {
       "description_width": ""
      }
     },
     "049ca7de7d92413090721d4132b2cc7f": {
      "model_module": "@jupyter-widgets/controls",
      "model_module_version": "1.5.0",
      "model_name": "HTMLModel",
      "state": {
       "layout": "IPY_MODEL_3f71b196007e42d2bc66394080d33624",
       "style": "IPY_MODEL_4d9e452e371d46278e8461613a8ed5ee",
       "value": " 38/38 [00:00&lt;00:00, 1225.87it/s]"
      }
     },
     "04dfde171466434fb7e7d457ed05daf3": {
      "model_module": "@jupyter-widgets/controls",
      "model_module_version": "1.5.0",
      "model_name": "HBoxModel",
      "state": {
       "children": [
        "IPY_MODEL_507970eae7b14867bafb3cb4e298ef90",
        "IPY_MODEL_678170d1a9e74f78bd0f74e24fccb1ca",
        "IPY_MODEL_152899dca85547b5a79c38b5b029b88a"
       ],
       "layout": "IPY_MODEL_a16b3e44010a4cbbb0b15016da71a8ff"
      }
     },
     "04eaeca369da420a8c743656ece260ae": {
      "model_module": "@jupyter-widgets/base",
      "model_module_version": "1.2.0",
      "model_name": "LayoutModel",
      "state": {}
     },
     "054d761f3bf64a8daf07dfdaa24eb97f": {
      "model_module": "@jupyter-widgets/controls",
      "model_module_version": "1.5.0",
      "model_name": "HBoxModel",
      "state": {
       "children": [
        "IPY_MODEL_18fb32127369466792bf1e0c2994c2b7",
        "IPY_MODEL_3cbd0d744c6a42a5a54de13b9674c9ec",
        "IPY_MODEL_dbe9ce5e394c486dbcc24583c331728d"
       ],
       "layout": "IPY_MODEL_dfb4d93b9612495a97d3c85b9826bc31"
      }
     },
     "05751faa1a7f4dd9a5957e7f56bf6593": {
      "model_module": "@jupyter-widgets/controls",
      "model_module_version": "1.5.0",
      "model_name": "FloatProgressModel",
      "state": {
       "bar_style": "success",
       "layout": "IPY_MODEL_08085b8e10d746c8bcd78188ff466b60",
       "max": 270,
       "style": "IPY_MODEL_d88025a47287485d8b14e2eb98658f91",
       "value": 270
      }
     },
     "05a5482fda464032a5978fda2c922f1b": {
      "model_module": "@jupyter-widgets/controls",
      "model_module_version": "1.5.0",
      "model_name": "HBoxModel",
      "state": {
       "children": [
        "IPY_MODEL_e744b7733e2b4f7386ad675c4ba938c9",
        "IPY_MODEL_431ca0ce79b848ff86f10ec6441373df",
        "IPY_MODEL_85c7c693ec864820b5e9da0b3e5a3f76"
       ],
       "layout": "IPY_MODEL_dd2a17d6c6a24425b5a7c2c51ae922c3"
      }
     },
     "05b072c38eac485e8baac5d8e45ea465": {
      "model_module": "@jupyter-widgets/base",
      "model_module_version": "1.2.0",
      "model_name": "LayoutModel",
      "state": {}
     },
     "05d6f705b146428da24db9265c51107e": {
      "model_module": "@jupyter-widgets/base",
      "model_module_version": "1.2.0",
      "model_name": "LayoutModel",
      "state": {}
     },
     "05f650c6bdc04e1594786354c3fe9429": {
      "model_module": "@jupyter-widgets/controls",
      "model_module_version": "1.5.0",
      "model_name": "HTMLModel",
      "state": {
       "layout": "IPY_MODEL_47536867e05841cb8ed38bef2e627cfb",
       "style": "IPY_MODEL_478f032dbf4349c4a05548d4a8c1947d",
       "value": "Assigning labels: 100%"
      }
     },
     "063ada04c41744138a8f3bc6daa1ae45": {
      "model_module": "@jupyter-widgets/base",
      "model_module_version": "1.2.0",
      "model_name": "LayoutModel",
      "state": {}
     },
     "06a8d032028b45e1a1cf4ea54e754a27": {
      "model_module": "@jupyter-widgets/controls",
      "model_module_version": "1.5.0",
      "model_name": "HTMLModel",
      "state": {
       "layout": "IPY_MODEL_7aba7f4fd1c84fc8ade215f438c10b8b",
       "style": "IPY_MODEL_4c6bc602caf14c61a385b17fa6997b51",
       "value": "Epoch: 9, 47.36237, 0.10635: "
      }
     },
     "06ab399c530c4626a1f9024e90ffc118": {
      "model_module": "@jupyter-widgets/controls",
      "model_module_version": "1.5.0",
      "model_name": "HTMLModel",
      "state": {
       "layout": "IPY_MODEL_1c035341838f4c2b95a15bbeef83ab90",
       "style": "IPY_MODEL_5cdd0a8143e847a2aac9aee1609f826c",
       "value": " 50/50 [00:00&lt;00:00, 1375.92it/s]"
      }
     },
     "074fb73857374508820d306f70791912": {
      "model_module": "@jupyter-widgets/controls",
      "model_module_version": "1.5.0",
      "model_name": "DescriptionStyleModel",
      "state": {
       "description_width": ""
      }
     },
     "07542c3726bc46baa3afc37fc94691c1": {
      "model_module": "@jupyter-widgets/controls",
      "model_module_version": "1.5.0",
      "model_name": "DescriptionStyleModel",
      "state": {
       "description_width": ""
      }
     },
     "07588ae35ad74235bb2df7fdf5214fa8": {
      "model_module": "@jupyter-widgets/controls",
      "model_module_version": "1.5.0",
      "model_name": "DescriptionStyleModel",
      "state": {
       "description_width": ""
      }
     },
     "07f7c64a24f24475bd6bc8f5163831cb": {
      "model_module": "@jupyter-widgets/controls",
      "model_module_version": "1.5.0",
      "model_name": "ProgressStyleModel",
      "state": {
       "description_width": ""
      }
     },
     "08085b8e10d746c8bcd78188ff466b60": {
      "model_module": "@jupyter-widgets/base",
      "model_module_version": "1.2.0",
      "model_name": "LayoutModel",
      "state": {}
     },
     "08697edacad647638ce1144408f73a2e": {
      "model_module": "@jupyter-widgets/base",
      "model_module_version": "1.2.0",
      "model_name": "LayoutModel",
      "state": {}
     },
     "087c5a82d3ab4147a81e938c0569087e": {
      "model_module": "@jupyter-widgets/controls",
      "model_module_version": "1.5.0",
      "model_name": "HTMLModel",
      "state": {
       "layout": "IPY_MODEL_8fe69925d8354fe587672f492cb814dd",
       "style": "IPY_MODEL_0e338f9eb573428596d6f98279b13d3f",
       "value": " 46/46 [00:00&lt;00:00, 1314.44it/s]"
      }
     },
     "093e6471cacb45bfaedd1023b4009112": {
      "model_module": "@jupyter-widgets/controls",
      "model_module_version": "1.5.0",
      "model_name": "HTMLModel",
      "state": {
       "layout": "IPY_MODEL_3b20b3057af54cc2a53761b7d39e4530",
       "style": "IPY_MODEL_53184525372d40e79290cd79674df22f",
       "value": " 271/? [03:03&lt;00:00,  1.91it/s]"
      }
     },
     "0a2165196bfc4ae3b043daa15135bd53": {
      "model_module": "@jupyter-widgets/controls",
      "model_module_version": "1.5.0",
      "model_name": "DescriptionStyleModel",
      "state": {
       "description_width": ""
      }
     },
     "0a26af4578774b5db026a3cbe139374e": {
      "model_module": "@jupyter-widgets/controls",
      "model_module_version": "1.5.0",
      "model_name": "HTMLModel",
      "state": {
       "layout": "IPY_MODEL_4519b329a76a4b6899a2ea05d0c1ebdc",
       "style": "IPY_MODEL_f3f7629a828940108ccb6fbfef49b7f6",
       "value": " 271/? [03:01&lt;00:00,  1.93it/s]"
      }
     },
     "0a3eba012dc04ad38f434205fec5d9d3": {
      "model_module": "@jupyter-widgets/controls",
      "model_module_version": "1.5.0",
      "model_name": "ProgressStyleModel",
      "state": {
       "description_width": ""
      }
     },
     "0a84ce358d884b1e8591c5aaa4695ceb": {
      "model_module": "@jupyter-widgets/controls",
      "model_module_version": "1.5.0",
      "model_name": "HTMLModel",
      "state": {
       "layout": "IPY_MODEL_2120f0bb912f4599aefe9092601329f5",
       "style": "IPY_MODEL_57c82dfd914542f6a71ac71f4b755a4f",
       "value": "Assigning labels: 100%"
      }
     },
     "0a9e62c490f64231803651710c8a5e11": {
      "model_module": "@jupyter-widgets/base",
      "model_module_version": "1.2.0",
      "model_name": "LayoutModel",
      "state": {}
     },
     "0ae33dc7de054e8c8e4e061dcd2f2e7f": {
      "model_module": "@jupyter-widgets/controls",
      "model_module_version": "1.5.0",
      "model_name": "HBoxModel",
      "state": {
       "children": [
        "IPY_MODEL_3c9ba8fa218b45e5836f1a1bb257caad",
        "IPY_MODEL_e38fe07906144a43b5b59dc9d8af8027",
        "IPY_MODEL_0fa2f4b2aa2644c7b7a7c83b6cf9c350"
       ],
       "layout": "IPY_MODEL_76f2221b617b42c08207794304d1e030"
      }
     },
     "0ae71d5226f84678a796450f8c7b52c3": {
      "model_module": "@jupyter-widgets/controls",
      "model_module_version": "1.5.0",
      "model_name": "DescriptionStyleModel",
      "state": {
       "description_width": ""
      }
     },
     "0aee283d282d453bb43ce9365c98071e": {
      "model_module": "@jupyter-widgets/controls",
      "model_module_version": "1.5.0",
      "model_name": "DescriptionStyleModel",
      "state": {
       "description_width": ""
      }
     },
     "0afa373a0cef4a58bbcca6275c362fc4": {
      "model_module": "@jupyter-widgets/base",
      "model_module_version": "1.2.0",
      "model_name": "LayoutModel",
      "state": {}
     },
     "0b1fb08d7f3048389376910ed102a4a8": {
      "model_module": "@jupyter-widgets/controls",
      "model_module_version": "1.5.0",
      "model_name": "DescriptionStyleModel",
      "state": {
       "description_width": ""
      }
     },
     "0b5ebfb3b3b947d7860d09e5a53fd3eb": {
      "model_module": "@jupyter-widgets/base",
      "model_module_version": "1.2.0",
      "model_name": "LayoutModel",
      "state": {}
     },
     "0baabd6dd327471ead1299b7c01b86de": {
      "model_module": "@jupyter-widgets/base",
      "model_module_version": "1.2.0",
      "model_name": "LayoutModel",
      "state": {}
     },
     "0bc6c782104d4b578dd6babaebfd688b": {
      "model_module": "@jupyter-widgets/controls",
      "model_module_version": "1.5.0",
      "model_name": "HBoxModel",
      "state": {
       "children": [
        "IPY_MODEL_3e63a5cae0f84f87b79ea55e63409b2e",
        "IPY_MODEL_2047d381f17b4e94ad5dc56453352371",
        "IPY_MODEL_23e41aaf595742b6bd99dcfd67a85d84"
       ],
       "layout": "IPY_MODEL_a0357cf6f539470884d4df0f843c053f"
      }
     },
     "0c7100347ad24c1a9b1bc89e4b07e6b3": {
      "model_module": "@jupyter-widgets/controls",
      "model_module_version": "1.5.0",
      "model_name": "FloatProgressModel",
      "state": {
       "bar_style": "success",
       "layout": "IPY_MODEL_063ada04c41744138a8f3bc6daa1ae45",
       "max": 270,
       "style": "IPY_MODEL_b6849974260d47698d8ebcef02ec2c32",
       "value": 270
      }
     },
     "0ce48f1bc9084f799f42efb5573ec564": {
      "model_module": "@jupyter-widgets/base",
      "model_module_version": "1.2.0",
      "model_name": "LayoutModel",
      "state": {}
     },
     "0da67359ea084e408eeb20b1371b54e9": {
      "model_module": "@jupyter-widgets/base",
      "model_module_version": "1.2.0",
      "model_name": "LayoutModel",
      "state": {}
     },
     "0de3b3c24b3b46b2985432680991c57a": {
      "model_module": "@jupyter-widgets/controls",
      "model_module_version": "1.5.0",
      "model_name": "HBoxModel",
      "state": {
       "children": [
        "IPY_MODEL_94f80d3044f3475aae3b6e42ae762ed1",
        "IPY_MODEL_ff781732dff64d5098b9b2371980e3a9",
        "IPY_MODEL_7571d47ebfb042aeae15c46286e6132c"
       ],
       "layout": "IPY_MODEL_3050d583a6624558a6e7a09b8d46b543"
      }
     },
     "0de82ef750454db7b2ee0e20b55c7756": {
      "model_module": "@jupyter-widgets/base",
      "model_module_version": "1.2.0",
      "model_name": "LayoutModel",
      "state": {}
     },
     "0e338f9eb573428596d6f98279b13d3f": {
      "model_module": "@jupyter-widgets/controls",
      "model_module_version": "1.5.0",
      "model_name": "DescriptionStyleModel",
      "state": {
       "description_width": ""
      }
     },
     "0ed64abcea30449aabfe6c825c2b7a28": {
      "model_module": "@jupyter-widgets/controls",
      "model_module_version": "1.5.0",
      "model_name": "FloatProgressModel",
      "state": {
       "bar_style": "success",
       "layout": "IPY_MODEL_5fffa42877734a9199e2ca4c64313e33",
       "max": 113,
       "style": "IPY_MODEL_53847691a74141abb9280a22ef8d689c",
       "value": 113
      }
     },
     "0ef4ef1e1c824c1690e4871206bb4682": {
      "model_module": "@jupyter-widgets/base",
      "model_module_version": "1.2.0",
      "model_name": "LayoutModel",
      "state": {}
     },
     "0f4fef8b313444c0924252eaa20f22a0": {
      "model_module": "@jupyter-widgets/controls",
      "model_module_version": "1.5.0",
      "model_name": "DescriptionStyleModel",
      "state": {
       "description_width": ""
      }
     },
     "0f943d0672db4d2fae76adc5639d1e9e": {
      "model_module": "@jupyter-widgets/controls",
      "model_module_version": "1.5.0",
      "model_name": "ProgressStyleModel",
      "state": {
       "description_width": ""
      }
     },
     "0f9aadc69e914551963bf4640be1471e": {
      "model_module": "@jupyter-widgets/controls",
      "model_module_version": "1.5.0",
      "model_name": "DescriptionStyleModel",
      "state": {
       "description_width": ""
      }
     },
     "0fa1bc8db40f40d393cde1cfd1954634": {
      "model_module": "@jupyter-widgets/base",
      "model_module_version": "1.2.0",
      "model_name": "LayoutModel",
      "state": {}
     },
     "0fa2f4b2aa2644c7b7a7c83b6cf9c350": {
      "model_module": "@jupyter-widgets/controls",
      "model_module_version": "1.5.0",
      "model_name": "HTMLModel",
      "state": {
       "layout": "IPY_MODEL_8a0b9ec6c1684ce6a3245a84973e08cb",
       "style": "IPY_MODEL_a198ec5391f24a1ba6e495a41b4b0583",
       "value": " 118/118 [00:00&lt;00:00, 762.38it/s]"
      }
     },
     "0fd20b6abc614ad1af9e34559758da32": {
      "model_module": "@jupyter-widgets/controls",
      "model_module_version": "1.5.0",
      "model_name": "DescriptionStyleModel",
      "state": {
       "description_width": ""
      }
     },
     "0fe450d5004640f1ad31c38a97500d78": {
      "model_module": "@jupyter-widgets/controls",
      "model_module_version": "1.5.0",
      "model_name": "ProgressStyleModel",
      "state": {
       "description_width": ""
      }
     },
     "0fe4798bad0e48e098f380c14f0fb5b3": {
      "model_module": "@jupyter-widgets/controls",
      "model_module_version": "1.5.0",
      "model_name": "DescriptionStyleModel",
      "state": {
       "description_width": ""
      }
     },
     "10a84ee23abf41f894796d5ac65fa477": {
      "model_module": "@jupyter-widgets/base",
      "model_module_version": "1.2.0",
      "model_name": "LayoutModel",
      "state": {}
     },
     "10c2a03e42544236be285acd87b59d8e": {
      "model_module": "@jupyter-widgets/base",
      "model_module_version": "1.2.0",
      "model_name": "LayoutModel",
      "state": {}
     },
     "11310f7c6b894ffba32f031593bc4a84": {
      "model_module": "@jupyter-widgets/controls",
      "model_module_version": "1.5.0",
      "model_name": "DescriptionStyleModel",
      "state": {
       "description_width": ""
      }
     },
     "113ef13014fd4e0d90d40d125e1d83ce": {
      "model_module": "@jupyter-widgets/controls",
      "model_module_version": "1.5.0",
      "model_name": "DescriptionStyleModel",
      "state": {
       "description_width": ""
      }
     },
     "11643f48862e4595aeb284a14afa756e": {
      "model_module": "@jupyter-widgets/controls",
      "model_module_version": "1.5.0",
      "model_name": "HTMLModel",
      "state": {
       "layout": "IPY_MODEL_10c2a03e42544236be285acd87b59d8e",
       "style": "IPY_MODEL_6075a27528e941fba54b9984b2b95b13",
       "value": " 264/264 [00:00&lt;00:00, 512.91it/s]"
      }
     },
     "1171ca64face4cffb62d70de39dbf2a7": {
      "model_module": "@jupyter-widgets/controls",
      "model_module_version": "1.5.0",
      "model_name": "DescriptionStyleModel",
      "state": {
       "description_width": ""
      }
     },
     "1195e1d2599b4efca7bd81057875a302": {
      "model_module": "@jupyter-widgets/controls",
      "model_module_version": "1.5.0",
      "model_name": "ProgressStyleModel",
      "state": {
       "description_width": ""
      }
     },
     "11bb7b864a04486fb909fbde923e1c45": {
      "model_module": "@jupyter-widgets/controls",
      "model_module_version": "1.5.0",
      "model_name": "HTMLModel",
      "state": {
       "layout": "IPY_MODEL_675aceaf4e884d048bf0dcafcf9c86b3",
       "style": "IPY_MODEL_d63a0066fb064b7ebf62aa3e0acabab0",
       "value": "Assigning labels: 100%"
      }
     },
     "11e7a10eb8c04cbaae91de395752ed27": {
      "model_module": "@jupyter-widgets/controls",
      "model_module_version": "1.5.0",
      "model_name": "HBoxModel",
      "state": {
       "children": [
        "IPY_MODEL_fb5c0f14bc244bbcb72457b3e0222d99",
        "IPY_MODEL_d9cbefff5583464d9341cb05b55c1b0c",
        "IPY_MODEL_db9210840b4140b4af39e1f42f9f3d40"
       ],
       "layout": "IPY_MODEL_9e99aa2cefc94c48aca4df016ed35b6c"
      }
     },
     "1213700a09cc4f4dafa11470ff11dd93": {
      "model_module": "@jupyter-widgets/base",
      "model_module_version": "1.2.0",
      "model_name": "LayoutModel",
      "state": {}
     },
     "124ee027cf7042589fe4074f6c796967": {
      "model_module": "@jupyter-widgets/controls",
      "model_module_version": "1.5.0",
      "model_name": "HBoxModel",
      "state": {
       "children": [
        "IPY_MODEL_f7da4131e298485ead8745b2f159353e",
        "IPY_MODEL_02735b78b4cd4a95a400bbf4932ba85a",
        "IPY_MODEL_6675493e674d4b4cb8553a7f95a66a08"
       ],
       "layout": "IPY_MODEL_2055c3ffead34c089a10c2a6c73800a2"
      }
     },
     "12c314474a37454a9b229a8c60160743": {
      "model_module": "@jupyter-widgets/base",
      "model_module_version": "1.2.0",
      "model_name": "LayoutModel",
      "state": {}
     },
     "13384aa2b7bf4f5f98ad12e09e8e634b": {
      "model_module": "@jupyter-widgets/controls",
      "model_module_version": "1.5.0",
      "model_name": "DescriptionStyleModel",
      "state": {
       "description_width": ""
      }
     },
     "1367a05573f844d499c97c081ac99111": {
      "model_module": "@jupyter-widgets/controls",
      "model_module_version": "1.5.0",
      "model_name": "DescriptionStyleModel",
      "state": {
       "description_width": ""
      }
     },
     "13715403a9064b5786128bdf267729f1": {
      "model_module": "@jupyter-widgets/controls",
      "model_module_version": "1.5.0",
      "model_name": "HTMLModel",
      "state": {
       "layout": "IPY_MODEL_a2875845277840c29dac3ca3d6783ce9",
       "style": "IPY_MODEL_a8c1918d7f6a4ac1bb631d999c1c36b2",
       "value": " 38/38 [00:00&lt;00:00, 1225.88it/s]"
      }
     },
     "13beb9c05be54af98d38001f3d343093": {
      "model_module": "@jupyter-widgets/base",
      "model_module_version": "1.2.0",
      "model_name": "LayoutModel",
      "state": {}
     },
     "13cc99042b0e4ef9ac2ffcfda79dcb8b": {
      "model_module": "@jupyter-widgets/base",
      "model_module_version": "1.2.0",
      "model_name": "LayoutModel",
      "state": {}
     },
     "140f8fe1382749b2803a15e9221b5608": {
      "model_module": "@jupyter-widgets/controls",
      "model_module_version": "1.5.0",
      "model_name": "DescriptionStyleModel",
      "state": {
       "description_width": ""
      }
     },
     "143fafd26a0d435fa31adaa90af4468d": {
      "model_module": "@jupyter-widgets/controls",
      "model_module_version": "1.5.0",
      "model_name": "DescriptionStyleModel",
      "state": {
       "description_width": ""
      }
     },
     "14415aa1c4844dd1b78ae5987ea8f402": {
      "model_module": "@jupyter-widgets/base",
      "model_module_version": "1.2.0",
      "model_name": "LayoutModel",
      "state": {}
     },
     "1443d480e6ea4f65a68f257ed4d1c3ea": {
      "model_module": "@jupyter-widgets/base",
      "model_module_version": "1.2.0",
      "model_name": "LayoutModel",
      "state": {}
     },
     "1495f33848564c428bedf0ed24f18abd": {
      "model_module": "@jupyter-widgets/controls",
      "model_module_version": "1.5.0",
      "model_name": "DescriptionStyleModel",
      "state": {
       "description_width": ""
      }
     },
     "1511edd31440438f8c61d274a2096b25": {
      "model_module": "@jupyter-widgets/base",
      "model_module_version": "1.2.0",
      "model_name": "LayoutModel",
      "state": {}
     },
     "152899dca85547b5a79c38b5b029b88a": {
      "model_module": "@jupyter-widgets/controls",
      "model_module_version": "1.5.0",
      "model_name": "HTMLModel",
      "state": {
       "layout": "IPY_MODEL_6e13d86f5cee4c8680466a2bc1061260",
       "style": "IPY_MODEL_f7fc807ddf254601abbab765c6029fcd",
       "value": " 1556/6919 [00:41&lt;02:27, 36.47it/s]"
      }
     },
     "152ea97976654491a1936673143d5c8d": {
      "model_module": "@jupyter-widgets/controls",
      "model_module_version": "1.5.0",
      "model_name": "DescriptionStyleModel",
      "state": {
       "description_width": ""
      }
     },
     "1535c839cc00405e9fe0d0c88f2f6b0c": {
      "model_module": "@jupyter-widgets/controls",
      "model_module_version": "1.5.0",
      "model_name": "HTMLModel",
      "state": {
       "layout": "IPY_MODEL_6aed45456db449378688aa5d9b2535dc",
       "style": "IPY_MODEL_5708cbd2c0224b0a855031bd72ad0027",
       "value": " 42/42 [00:00&lt;00:00, 186.37it/s]"
      }
     },
     "15c38e13eaed45368cdd6879d6f120a1": {
      "model_module": "@jupyter-widgets/controls",
      "model_module_version": "1.5.0",
      "model_name": "DescriptionStyleModel",
      "state": {
       "description_width": ""
      }
     },
     "15d09799158345e38dd7124b6b2bb214": {
      "model_module": "@jupyter-widgets/controls",
      "model_module_version": "1.5.0",
      "model_name": "HTMLModel",
      "state": {
       "layout": "IPY_MODEL_d3deaea7bf824db09a48ff0491fa8559",
       "style": "IPY_MODEL_7495c049e3134efbb71df6537a7d60e0",
       "value": " 61/61 [00:00&lt;00:00, 1024.71it/s]"
      }
     },
     "160fc9cba2b54aea82d6b29d694f14c5": {
      "model_module": "@jupyter-widgets/base",
      "model_module_version": "1.2.0",
      "model_name": "LayoutModel",
      "state": {}
     },
     "167f45ba5ef44102a92f34074b4c517f": {
      "model_module": "@jupyter-widgets/base",
      "model_module_version": "1.2.0",
      "model_name": "LayoutModel",
      "state": {}
     },
     "16ca8fc4a2d6454ba2ad5d88cdc0d450": {
      "model_module": "@jupyter-widgets/controls",
      "model_module_version": "1.5.0",
      "model_name": "DescriptionStyleModel",
      "state": {
       "description_width": ""
      }
     },
     "1705c59bb37e4792be10f458e5eb8d12": {
      "model_module": "@jupyter-widgets/controls",
      "model_module_version": "1.5.0",
      "model_name": "FloatProgressModel",
      "state": {
       "bar_style": "success",
       "layout": "IPY_MODEL_deaa51fdc9024da59488d24537d1900a",
       "max": 42,
       "style": "IPY_MODEL_be22f1f393714efd80917e87ffa54f46",
       "value": 42
      }
     },
     "1720f0aa3a7d4e23bc92186512bd0091": {
      "model_module": "@jupyter-widgets/controls",
      "model_module_version": "1.5.0",
      "model_name": "DescriptionStyleModel",
      "state": {
       "description_width": ""
      }
     },
     "178ffb5c7ed142ce8bf8d6d00f0a2fee": {
      "model_module": "@jupyter-widgets/base",
      "model_module_version": "1.2.0",
      "model_name": "LayoutModel",
      "state": {}
     },
     "179d8b2295634a20ae06a3f488000579": {
      "model_module": "@jupyter-widgets/controls",
      "model_module_version": "1.5.0",
      "model_name": "DescriptionStyleModel",
      "state": {
       "description_width": ""
      }
     },
     "17af100530bc41b68c35053cc60788d1": {
      "model_module": "@jupyter-widgets/controls",
      "model_module_version": "1.5.0",
      "model_name": "HTMLModel",
      "state": {
       "layout": "IPY_MODEL_9af77cb96dcb481a8ef95d90c3edaab7",
       "style": "IPY_MODEL_0f9aadc69e914551963bf4640be1471e",
       "value": "Assigning labels: 100%"
      }
     },
     "17f665a64bb84bf29a56b0b459a381d3": {
      "model_module": "@jupyter-widgets/controls",
      "model_module_version": "1.5.0",
      "model_name": "HTMLModel",
      "state": {
       "layout": "IPY_MODEL_9f93aeb3509f4593a059f8c4850eaa63",
       "style": "IPY_MODEL_49d7ff4a33ce4925b787e13fa072e581",
       "value": " 118/118 [00:00&lt;00:00, 768.25it/s]"
      }
     },
     "18670b3fcb124706a4752e2f3f0411a1": {
      "model_module": "@jupyter-widgets/base",
      "model_module_version": "1.2.0",
      "model_name": "LayoutModel",
      "state": {}
     },
     "189e3f2968ee4a85a9be35488578b671": {
      "model_module": "@jupyter-widgets/controls",
      "model_module_version": "1.5.0",
      "model_name": "DescriptionStyleModel",
      "state": {
       "description_width": ""
      }
     },
     "18faf45822d0493f8624d1417c0b6f96": {
      "model_module": "@jupyter-widgets/base",
      "model_module_version": "1.2.0",
      "model_name": "LayoutModel",
      "state": {}
     },
     "18fb32127369466792bf1e0c2994c2b7": {
      "model_module": "@jupyter-widgets/controls",
      "model_module_version": "1.5.0",
      "model_name": "HTMLModel",
      "state": {
       "layout": "IPY_MODEL_48eda5c940d6461488fc7f96ef9ef38a",
       "style": "IPY_MODEL_9625240d8f22437582b3e12e7edcc76b",
       "value": "Assigning labels: 100%"
      }
     },
     "191af7d7e06b4a7288e6affc08ed6ba4": {
      "model_module": "@jupyter-widgets/controls",
      "model_module_version": "1.5.0",
      "model_name": "FloatProgressModel",
      "state": {
       "bar_style": "success",
       "layout": "IPY_MODEL_0baabd6dd327471ead1299b7c01b86de",
       "max": 46,
       "style": "IPY_MODEL_1d168a2e99664c0599156f13b315a7ee",
       "value": 46
      }
     },
     "1924b81f3ac84f438fe3b70d4a7d5959": {
      "model_module": "@jupyter-widgets/base",
      "model_module_version": "1.2.0",
      "model_name": "LayoutModel",
      "state": {}
     },
     "192b21842f204233976b993ea0fdb1d7": {
      "model_module": "@jupyter-widgets/controls",
      "model_module_version": "1.5.0",
      "model_name": "DescriptionStyleModel",
      "state": {
       "description_width": ""
      }
     },
     "19bdcd489902468fa8914abd8785b924": {
      "model_module": "@jupyter-widgets/base",
      "model_module_version": "1.2.0",
      "model_name": "LayoutModel",
      "state": {}
     },
     "19c89df68020457cb2f7b21a94c6d743": {
      "model_module": "@jupyter-widgets/controls",
      "model_module_version": "1.5.0",
      "model_name": "HTMLModel",
      "state": {
       "layout": "IPY_MODEL_f98be06b69864b8fae96b8e04f229a67",
       "style": "IPY_MODEL_11310f7c6b894ffba32f031593bc4a84",
       "value": "Epoch: 5, 51.87189, 0.16902: "
      }
     },
     "1a4d3b320f1a451f86b61e7777a2d489": {
      "model_module": "@jupyter-widgets/controls",
      "model_module_version": "1.5.0",
      "model_name": "HTMLModel",
      "state": {
       "layout": "IPY_MODEL_e199d8e1c9824ed3a5c3ba3d17ee6320",
       "style": "IPY_MODEL_a09859d4e65a47ebb7a899bb063d75e8",
       "value": " 46/46 [00:00&lt;00:00, 1344.33it/s]"
      }
     },
     "1a93846fd1834530b213d96d2f7c5570": {
      "model_module": "@jupyter-widgets/controls",
      "model_module_version": "1.5.0",
      "model_name": "HBoxModel",
      "state": {
       "children": [
        "IPY_MODEL_9289c8deeefe44209abfb07b5591dead",
        "IPY_MODEL_9d116bc45c114ee989a67303c24207eb",
        "IPY_MODEL_88ff8ee13ca64e28b32a98fb213aaa60"
       ],
       "layout": "IPY_MODEL_4cbae280e89b468abb630164cfcf9ccf"
      }
     },
     "1ad1ef20524e4b02bb2ba6a658bca66a": {
      "model_module": "@jupyter-widgets/controls",
      "model_module_version": "1.5.0",
      "model_name": "HBoxModel",
      "state": {
       "children": [
        "IPY_MODEL_f2ff76f0a0064ae5be9c0fd4461bfbd4",
        "IPY_MODEL_6d331459338d4562ac844c7681c7f3e9",
        "IPY_MODEL_1fe918c1482044d2b3af73d41a2a71ad"
       ],
       "layout": "IPY_MODEL_239b026c43d940dfa2c001cf136537bb"
      }
     },
     "1aeddd8bb0c74d40b5eb5a90f98a418c": {
      "model_module": "@jupyter-widgets/base",
      "model_module_version": "1.2.0",
      "model_name": "LayoutModel",
      "state": {}
     },
     "1af740b0e98e4854893c63aaa7233913": {
      "model_module": "@jupyter-widgets/base",
      "model_module_version": "1.2.0",
      "model_name": "LayoutModel",
      "state": {}
     },
     "1af7d812d1474e09b4c1768c5fd224d8": {
      "model_module": "@jupyter-widgets/base",
      "model_module_version": "1.2.0",
      "model_name": "LayoutModel",
      "state": {}
     },
     "1af92fd64bcc4da8b5fafe46e3cb2226": {
      "model_module": "@jupyter-widgets/controls",
      "model_module_version": "1.5.0",
      "model_name": "DescriptionStyleModel",
      "state": {
       "description_width": ""
      }
     },
     "1ba357451e5243d2bf5a47576e174c3a": {
      "model_module": "@jupyter-widgets/controls",
      "model_module_version": "1.5.0",
      "model_name": "HTMLModel",
      "state": {
       "layout": "IPY_MODEL_6a53b19ee580489aa29a312c9cf892e2",
       "style": "IPY_MODEL_43360e90825a4ecab11153fdc3db03b6",
       "value": " 271/? [03:12&lt;00:00,  1.80it/s]"
      }
     },
     "1bba29ded94d4d588163ae7ee8a6de72": {
      "model_module": "@jupyter-widgets/base",
      "model_module_version": "1.2.0",
      "model_name": "LayoutModel",
      "state": {}
     },
     "1bd1fe58ce1942b6a3e6e360130014b2": {
      "model_module": "@jupyter-widgets/controls",
      "model_module_version": "1.5.0",
      "model_name": "HTMLModel",
      "state": {
       "layout": "IPY_MODEL_d6477979221a45c19341fae3a0a1861c",
       "style": "IPY_MODEL_5fbb415fe6dd4234968a4aecd0a22109",
       "value": "Assigning labels: 100%"
      }
     },
     "1bed9ec25b874a4799b10a9c5c52cd3f": {
      "model_module": "@jupyter-widgets/controls",
      "model_module_version": "1.5.0",
      "model_name": "DescriptionStyleModel",
      "state": {
       "description_width": ""
      }
     },
     "1c035341838f4c2b95a15bbeef83ab90": {
      "model_module": "@jupyter-widgets/base",
      "model_module_version": "1.2.0",
      "model_name": "LayoutModel",
      "state": {}
     },
     "1c0cdfb6043a40e292d903f5e8222ac0": {
      "model_module": "@jupyter-widgets/base",
      "model_module_version": "1.2.0",
      "model_name": "LayoutModel",
      "state": {}
     },
     "1ca190e210744f4c9c5f61af8235b507": {
      "model_module": "@jupyter-widgets/controls",
      "model_module_version": "1.5.0",
      "model_name": "HTMLModel",
      "state": {
       "layout": "IPY_MODEL_f9b495f11ecf43978d74d420536452c3",
       "style": "IPY_MODEL_e430ea6e848f4f4a9033d734b3d4c818",
       "value": " 271/? [03:03&lt;00:00,  1.90it/s]"
      }
     },
     "1cc51ee6986248f79369189b6f05ef80": {
      "model_module": "@jupyter-widgets/controls",
      "model_module_version": "1.5.0",
      "model_name": "DescriptionStyleModel",
      "state": {
       "description_width": ""
      }
     },
     "1d168a2e99664c0599156f13b315a7ee": {
      "model_module": "@jupyter-widgets/controls",
      "model_module_version": "1.5.0",
      "model_name": "ProgressStyleModel",
      "state": {
       "description_width": ""
      }
     },
     "1d23209dd4c34f1b9ec19f85b1d2024d": {
      "model_module": "@jupyter-widgets/base",
      "model_module_version": "1.2.0",
      "model_name": "LayoutModel",
      "state": {}
     },
     "1d3fce6bbe0846f2a8e0f6303ddbe8d5": {
      "model_module": "@jupyter-widgets/base",
      "model_module_version": "1.2.0",
      "model_name": "LayoutModel",
      "state": {}
     },
     "1d612dc6e2364d1fb958579585711925": {
      "model_module": "@jupyter-widgets/controls",
      "model_module_version": "1.5.0",
      "model_name": "HTMLModel",
      "state": {
       "layout": "IPY_MODEL_dd3f6a1180354a458ce4d4b1edb02420",
       "style": "IPY_MODEL_3ab90e1fa0f44bab83fb17e4df38eb7d",
       "value": " 160/160 [00:00&lt;00:00, 694.75it/s]"
      }
     },
     "1d63db5a3ec9411b8099c8f19956cd8d": {
      "model_module": "@jupyter-widgets/base",
      "model_module_version": "1.2.0",
      "model_name": "LayoutModel",
      "state": {}
     },
     "1db79219050c4268b3b5c7f9dd26a497": {
      "model_module": "@jupyter-widgets/controls",
      "model_module_version": "1.5.0",
      "model_name": "HTMLModel",
      "state": {
       "layout": "IPY_MODEL_2c3a6c454232476d9ab1f2c360bf39d6",
       "style": "IPY_MODEL_f21e12e428014fb6abd7b867ed21f7ab",
       "value": " 271/? [03:00&lt;00:00,  1.93it/s]"
      }
     },
     "1dd85e026079452ebb1debde993ec106": {
      "model_module": "@jupyter-widgets/controls",
      "model_module_version": "1.5.0",
      "model_name": "HBoxModel",
      "state": {
       "children": [
        "IPY_MODEL_dbd90c4a6cc94c729568dcec0d066167",
        "IPY_MODEL_2ce09bbeae264872a209a65602da93da",
        "IPY_MODEL_77f8b457bffd40d287d0e59c99e122cf"
       ],
       "layout": "IPY_MODEL_7f1336a7e4dc4a59bcdd9602d65cd54f"
      }
     },
     "1ddbb9e400bf4380ae059a40e20ebf12": {
      "model_module": "@jupyter-widgets/base",
      "model_module_version": "1.2.0",
      "model_name": "LayoutModel",
      "state": {}
     },
     "1e05082823354c9dae0e910b66753b63": {
      "model_module": "@jupyter-widgets/controls",
      "model_module_version": "1.5.0",
      "model_name": "HTMLModel",
      "state": {
       "layout": "IPY_MODEL_1511edd31440438f8c61d274a2096b25",
       "style": "IPY_MODEL_a9cb80527a8f440594a04859c5c6199f",
       "value": "Epoch: 2, 117.66947, 0.33319: "
      }
     },
     "1e32a53b2c6540499fdf6b98dd254072": {
      "model_module": "@jupyter-widgets/controls",
      "model_module_version": "1.5.0",
      "model_name": "HBoxModel",
      "state": {
       "children": [
        "IPY_MODEL_d13da43e5d284180bf7a3631e76f904a",
        "IPY_MODEL_cf9b9dc382bf4876ab41e749cbca6a36",
        "IPY_MODEL_b6265c9bf5b747f5a1c23c23856d1a09"
       ],
       "layout": "IPY_MODEL_0de82ef750454db7b2ee0e20b55c7756"
      }
     },
     "1ea28393097347a4945121fef1069980": {
      "model_module": "@jupyter-widgets/base",
      "model_module_version": "1.2.0",
      "model_name": "LayoutModel",
      "state": {}
     },
     "1edc5a349ddf4929b9ad23c91011f222": {
      "model_module": "@jupyter-widgets/controls",
      "model_module_version": "1.5.0",
      "model_name": "ProgressStyleModel",
      "state": {
       "description_width": ""
      }
     },
     "1f0e8d1167d64ac886445bead0624b2b": {
      "model_module": "@jupyter-widgets/controls",
      "model_module_version": "1.5.0",
      "model_name": "HBoxModel",
      "state": {
       "children": [
        "IPY_MODEL_9097587fefab4fd38bb28efd7e524fcc",
        "IPY_MODEL_1f841d705f5a4bd0931ef879e61f28ae",
        "IPY_MODEL_54d6638dd3394bcdb3b467d82593acb1"
       ],
       "layout": "IPY_MODEL_1af7d812d1474e09b4c1768c5fd224d8"
      }
     },
     "1f306f202bd545d489857fc572fcbe23": {
      "model_module": "@jupyter-widgets/base",
      "model_module_version": "1.2.0",
      "model_name": "LayoutModel",
      "state": {}
     },
     "1f841d705f5a4bd0931ef879e61f28ae": {
      "model_module": "@jupyter-widgets/controls",
      "model_module_version": "1.5.0",
      "model_name": "FloatProgressModel",
      "state": {
       "bar_style": "success",
       "layout": "IPY_MODEL_7f268bf4e9bb48009d81b711f6a04be6",
       "max": 47,
       "style": "IPY_MODEL_96a7f4547a6f4e439e1b0448fe244337",
       "value": 47
      }
     },
     "1f9436f0e7c945fb87da5edfb5d8f432": {
      "model_module": "@jupyter-widgets/base",
      "model_module_version": "1.2.0",
      "model_name": "LayoutModel",
      "state": {}
     },
     "1fe918c1482044d2b3af73d41a2a71ad": {
      "model_module": "@jupyter-widgets/controls",
      "model_module_version": "1.5.0",
      "model_name": "HTMLModel",
      "state": {
       "layout": "IPY_MODEL_d384d8bd141a4767b357bf2d78121977",
       "style": "IPY_MODEL_4e9fb5685c2947daa8e2c829fa511c9f",
       "value": " 271/? [03:11&lt;00:00,  1.80it/s]"
      }
     },
     "1fe9a3b6f3fa4ff8a45a7d84d594d5c1": {
      "model_module": "@jupyter-widgets/controls",
      "model_module_version": "1.5.0",
      "model_name": "DescriptionStyleModel",
      "state": {
       "description_width": ""
      }
     },
     "201e2357b0014dde96a12096a676c795": {
      "model_module": "@jupyter-widgets/controls",
      "model_module_version": "1.5.0",
      "model_name": "ProgressStyleModel",
      "state": {
       "description_width": ""
      }
     },
     "202f955c27b24f36bcb688a0a4262070": {
      "model_module": "@jupyter-widgets/base",
      "model_module_version": "1.2.0",
      "model_name": "LayoutModel",
      "state": {}
     },
     "2047d381f17b4e94ad5dc56453352371": {
      "model_module": "@jupyter-widgets/controls",
      "model_module_version": "1.5.0",
      "model_name": "FloatProgressModel",
      "state": {
       "bar_style": "success",
       "layout": "IPY_MODEL_c39c04d9d27a4ebf9d263b952aa6de6d",
       "max": 264,
       "style": "IPY_MODEL_0413eb653a1b4184b85730949eedbefc",
       "value": 264
      }
     },
     "2055c3ffead34c089a10c2a6c73800a2": {
      "model_module": "@jupyter-widgets/base",
      "model_module_version": "1.2.0",
      "model_name": "LayoutModel",
      "state": {}
     },
     "206efc8dc2db44138e818cd03b60f525": {
      "model_module": "@jupyter-widgets/base",
      "model_module_version": "1.2.0",
      "model_name": "LayoutModel",
      "state": {}
     },
     "20e9d1a8c3ba40209a20f5e797a3157a": {
      "model_module": "@jupyter-widgets/controls",
      "model_module_version": "1.5.0",
      "model_name": "FloatProgressModel",
      "state": {
       "bar_style": "danger",
       "layout": "IPY_MODEL_1443d480e6ea4f65a68f257ed4d1c3ea",
       "max": 271,
       "style": "IPY_MODEL_b53f0616c11347e9be4a6e4ab26623dd",
       "value": 5
      }
     },
     "2120f0bb912f4599aefe9092601329f5": {
      "model_module": "@jupyter-widgets/base",
      "model_module_version": "1.2.0",
      "model_name": "LayoutModel",
      "state": {}
     },
     "21b64adbd027491ab126ea353600e61e": {
      "model_module": "@jupyter-widgets/base",
      "model_module_version": "1.2.0",
      "model_name": "LayoutModel",
      "state": {}
     },
     "21cd983a148146dcb2f8446a49914c2d": {
      "model_module": "@jupyter-widgets/base",
      "model_module_version": "1.2.0",
      "model_name": "LayoutModel",
      "state": {}
     },
     "2248729430334e1fae69b56917c40bb7": {
      "model_module": "@jupyter-widgets/controls",
      "model_module_version": "1.5.0",
      "model_name": "HTMLModel",
      "state": {
       "layout": "IPY_MODEL_eb31f293ad5c4f0d84eff1d3ecd06cd8",
       "style": "IPY_MODEL_401fed6a505343bba7821e4b1e0e117f",
       "value": " 271/? [03:02&lt;00:00,  1.89it/s]"
      }
     },
     "224c7c2621754be8a051e21a09ed7573": {
      "model_module": "@jupyter-widgets/controls",
      "model_module_version": "1.5.0",
      "model_name": "HTMLModel",
      "state": {
       "layout": "IPY_MODEL_d4e2f1e68cb94d588a47d08a018ce4eb",
       "style": "IPY_MODEL_1367a05573f844d499c97c081ac99111",
       "value": "Assigning labels: 100%"
      }
     },
     "2260b111c3c94c98aff1dad5dbe04c95": {
      "model_module": "@jupyter-widgets/controls",
      "model_module_version": "1.5.0",
      "model_name": "HBoxModel",
      "state": {
       "children": [
        "IPY_MODEL_19c89df68020457cb2f7b21a94c6d743",
        "IPY_MODEL_c40099b659144823a30ec6387a3dccfb",
        "IPY_MODEL_b5a2aa7d9ac4499796828be2a5ce49ed"
       ],
       "layout": "IPY_MODEL_21b64adbd027491ab126ea353600e61e"
      }
     },
     "22b4fa8e9cc54385917ac1345b5815c1": {
      "model_module": "@jupyter-widgets/controls",
      "model_module_version": "1.5.0",
      "model_name": "DescriptionStyleModel",
      "state": {
       "description_width": ""
      }
     },
     "22b9b139ba7e4d1b822396a5f6c761e8": {
      "model_module": "@jupyter-widgets/controls",
      "model_module_version": "1.5.0",
      "model_name": "DescriptionStyleModel",
      "state": {
       "description_width": ""
      }
     },
     "22c87b7ac73c4682a75df39193a9b58f": {
      "model_module": "@jupyter-widgets/controls",
      "model_module_version": "1.5.0",
      "model_name": "FloatProgressModel",
      "state": {
       "bar_style": "success",
       "layout": "IPY_MODEL_2b5b1887ff9547d89ed50ff508767fd6",
       "max": 46,
       "style": "IPY_MODEL_889347259ae944b982976beaeb3c6022",
       "value": 46
      }
     },
     "22fa43f8a7524c21b21dd726e3095a1b": {
      "model_module": "@jupyter-widgets/controls",
      "model_module_version": "1.5.0",
      "model_name": "HTMLModel",
      "state": {
       "layout": "IPY_MODEL_38a7a0bfe15f43b7862239986365d57c",
       "style": "IPY_MODEL_5dd01105b4d6453fb1eb5d02d79885d7",
       "value": " 40/40 [00:00&lt;00:00, 1291.59it/s]"
      }
     },
     "239b026c43d940dfa2c001cf136537bb": {
      "model_module": "@jupyter-widgets/base",
      "model_module_version": "1.2.0",
      "model_name": "LayoutModel",
      "state": {}
     },
     "23e41aaf595742b6bd99dcfd67a85d84": {
      "model_module": "@jupyter-widgets/controls",
      "model_module_version": "1.5.0",
      "model_name": "HTMLModel",
      "state": {
       "layout": "IPY_MODEL_05d6f705b146428da24db9265c51107e",
       "style": "IPY_MODEL_4e7e44fa56e740ab97220f69121e7fca",
       "value": " 264/264 [00:00&lt;00:00, 518.78it/s]"
      }
     },
     "23f7418b6c1346ea87e382bfc5e23781": {
      "model_module": "@jupyter-widgets/base",
      "model_module_version": "1.2.0",
      "model_name": "LayoutModel",
      "state": {}
     },
     "2436164550d5432f9f8ff654781766c6": {
      "model_module": "@jupyter-widgets/controls",
      "model_module_version": "1.5.0",
      "model_name": "HTMLModel",
      "state": {
       "layout": "IPY_MODEL_13cc99042b0e4ef9ac2ffcfda79dcb8b",
       "style": "IPY_MODEL_725f8e50c0114714bb2060a10b4b029c",
       "value": " 0/270 [00:01&lt;?, ?it/s]"
      }
     },
     "244a245ace35417d9f22c809a5d1a290": {
      "model_module": "@jupyter-widgets/base",
      "model_module_version": "1.2.0",
      "model_name": "LayoutModel",
      "state": {}
     },
     "24b2f17b9b8049cf9de4da3f0b115bde": {
      "model_module": "@jupyter-widgets/base",
      "model_module_version": "1.2.0",
      "model_name": "LayoutModel",
      "state": {}
     },
     "24c1d7a37ca941a390b1886441916e1d": {
      "model_module": "@jupyter-widgets/controls",
      "model_module_version": "1.5.0",
      "model_name": "ProgressStyleModel",
      "state": {
       "description_width": ""
      }
     },
     "250cf841f5cb4c74969983ca3682b51b": {
      "model_module": "@jupyter-widgets/controls",
      "model_module_version": "1.5.0",
      "model_name": "DescriptionStyleModel",
      "state": {
       "description_width": ""
      }
     },
     "255326d9ff3f43048ce41500c5f8c011": {
      "model_module": "@jupyter-widgets/controls",
      "model_module_version": "1.5.0",
      "model_name": "HTMLModel",
      "state": {
       "layout": "IPY_MODEL_e8f7832876894f7fa6496ae583a51a75",
       "style": "IPY_MODEL_3463524d87e24e5cbe95cf986e9594da",
       "value": "Assigning labels: 100%"
      }
     },
     "25602d24ba8e40499305c60219edc66f": {
      "model_module": "@jupyter-widgets/controls",
      "model_module_version": "1.5.0",
      "model_name": "HBoxModel",
      "state": {
       "children": [
        "IPY_MODEL_6bc9d3767c1e4b2bbbc4e32e66a95036",
        "IPY_MODEL_f8f1e8270fc540d18941a65e0a6dfc5d",
        "IPY_MODEL_b0c39610f2e24616b737b12760e2fd9d"
       ],
       "layout": "IPY_MODEL_6259e585fba6427183b5cca07518251c"
      }
     },
     "25687cc699374d998366bf88b28fd354": {
      "model_module": "@jupyter-widgets/controls",
      "model_module_version": "1.5.0",
      "model_name": "DescriptionStyleModel",
      "state": {
       "description_width": ""
      }
     },
     "25a049eddaa34574aa6b6a120d513124": {
      "model_module": "@jupyter-widgets/controls",
      "model_module_version": "1.5.0",
      "model_name": "HBoxModel",
      "state": {
       "children": [
        "IPY_MODEL_36a67395038142adb32716c8fed3d2ca",
        "IPY_MODEL_9916c655a44f4e90b55463fa57130c5a",
        "IPY_MODEL_093e6471cacb45bfaedd1023b4009112"
       ],
       "layout": "IPY_MODEL_5fb6cd8e131f421fb5ece3bf94aa9bed"
      }
     },
     "25c334a4765d4ec897103bbd2dae1d5c": {
      "model_module": "@jupyter-widgets/controls",
      "model_module_version": "1.5.0",
      "model_name": "HTMLModel",
      "state": {
       "layout": "IPY_MODEL_b61074df167e4b0f93211e09dd47638d",
       "style": "IPY_MODEL_1495f33848564c428bedf0ed24f18abd",
       "value": "Epoch: 2, 53.37328, 0.07886: "
      }
     },
     "25ef6e9259b4487aa44ae5b7374f8938": {
      "model_module": "@jupyter-widgets/controls",
      "model_module_version": "1.5.0",
      "model_name": "ProgressStyleModel",
      "state": {
       "description_width": ""
      }
     },
     "261f7752376547f886860eaccec3dd60": {
      "model_module": "@jupyter-widgets/base",
      "model_module_version": "1.2.0",
      "model_name": "LayoutModel",
      "state": {}
     },
     "26612f8960c54442a2505fe0fc752e28": {
      "model_module": "@jupyter-widgets/controls",
      "model_module_version": "1.5.0",
      "model_name": "HTMLModel",
      "state": {
       "layout": "IPY_MODEL_7a8e83e4d43144d8955431509a925e9f",
       "style": "IPY_MODEL_50ab16f7cbfd4fa9aa177eeb7eb0166b",
       "value": " 0/270 [00:16&lt;?, ?it/s]"
      }
     },
     "26619fe2ccc2437f9ae00f7b44e10f04": {
      "model_module": "@jupyter-widgets/base",
      "model_module_version": "1.2.0",
      "model_name": "LayoutModel",
      "state": {}
     },
     "2761300e4c33466ebf4e24f44c93b1b6": {
      "model_module": "@jupyter-widgets/controls",
      "model_module_version": "1.5.0",
      "model_name": "HBoxModel",
      "state": {
       "children": [
        "IPY_MODEL_f4baaf0951ae4179ad2c059c3999a357",
        "IPY_MODEL_39e343ad9dc1407ca7a549452b53f516",
        "IPY_MODEL_be2e635773a3473c8a0ce97cd2f7c516"
       ],
       "layout": "IPY_MODEL_0030c0e58b104053a2fde7ef12fe49c0"
      }
     },
     "276d7071f1634806bf8937af65931868": {
      "model_module": "@jupyter-widgets/controls",
      "model_module_version": "1.5.0",
      "model_name": "DescriptionStyleModel",
      "state": {
       "description_width": ""
      }
     },
     "27a01c5af47340b6a5a65fe15314521c": {
      "model_module": "@jupyter-widgets/base",
      "model_module_version": "1.2.0",
      "model_name": "LayoutModel",
      "state": {}
     },
     "27fffee94e28428badaa24817838e536": {
      "model_module": "@jupyter-widgets/base",
      "model_module_version": "1.2.0",
      "model_name": "LayoutModel",
      "state": {}
     },
     "2821be695c9243bb979ca4eda5367742": {
      "model_module": "@jupyter-widgets/controls",
      "model_module_version": "1.5.0",
      "model_name": "HTMLModel",
      "state": {
       "layout": "IPY_MODEL_73f5e9c511114bb68f707aecf187354a",
       "style": "IPY_MODEL_98044882610040bbb59836b6a179c88f",
       "value": "Assigning labels: 100%"
      }
     },
     "285e61d2c38944378b5bc709cc08d3d0": {
      "model_module": "@jupyter-widgets/base",
      "model_module_version": "1.2.0",
      "model_name": "LayoutModel",
      "state": {}
     },
     "28cd3ca1b9854fe593417175df6bf6fd": {
      "model_module": "@jupyter-widgets/controls",
      "model_module_version": "1.5.0",
      "model_name": "HBoxModel",
      "state": {
       "children": [
        "IPY_MODEL_e58560bd07d24a679784b07dae11cbf5",
        "IPY_MODEL_a29c4058e4ce4adead23a39877477a27",
        "IPY_MODEL_770309ee103f4b6583c7f214727ac1ca"
       ],
       "layout": "IPY_MODEL_39d31d953e174acfa855ac55459c5fc5"
      }
     },
     "29469011456848f6a1671e971be669b8": {
      "model_module": "@jupyter-widgets/controls",
      "model_module_version": "1.5.0",
      "model_name": "HTMLModel",
      "state": {
       "layout": "IPY_MODEL_bfe938ffd8da4f6795eedd2666437c67",
       "style": "IPY_MODEL_0ae71d5226f84678a796450f8c7b52c3",
       "value": "Assigning labels: 100%"
      }
     },
     "29bfd141129e42dcb4fcfec3ca497c78": {
      "model_module": "@jupyter-widgets/base",
      "model_module_version": "1.2.0",
      "model_name": "LayoutModel",
      "state": {}
     },
     "29c97df08b0b40b6bbc64d534f3e545c": {
      "model_module": "@jupyter-widgets/controls",
      "model_module_version": "1.5.0",
      "model_name": "HTMLModel",
      "state": {
       "layout": "IPY_MODEL_0b5ebfb3b3b947d7860d09e5a53fd3eb",
       "style": "IPY_MODEL_a0e6a5c9140843f69f41cf612363124b",
       "value": "Assigning labels: 100%"
      }
     },
     "29e97108538d426997a9fb48d9f68918": {
      "model_module": "@jupyter-widgets/base",
      "model_module_version": "1.2.0",
      "model_name": "LayoutModel",
      "state": {}
     },
     "29f1da3a757f4cd38617c3c2ae7df4b5": {
      "model_module": "@jupyter-widgets/base",
      "model_module_version": "1.2.0",
      "model_name": "LayoutModel",
      "state": {}
     },
     "2a1b752bb05d4bab8cf88c0ac089078b": {
      "model_module": "@jupyter-widgets/controls",
      "model_module_version": "1.5.0",
      "model_name": "HTMLModel",
      "state": {
       "layout": "IPY_MODEL_ae0af7fa46b243e29fdc39948050b4a0",
       "style": "IPY_MODEL_1cc51ee6986248f79369189b6f05ef80",
       "value": "Epoch: 7, 68.94026, 0.24579: "
      }
     },
     "2acda32d35474b2788ea2e60d73bc10e": {
      "model_module": "@jupyter-widgets/controls",
      "model_module_version": "1.5.0",
      "model_name": "DescriptionStyleModel",
      "state": {
       "description_width": ""
      }
     },
     "2b0781947e6244a785a55185ec9fe24d": {
      "model_module": "@jupyter-widgets/base",
      "model_module_version": "1.2.0",
      "model_name": "LayoutModel",
      "state": {}
     },
     "2b3d26f6a87b4fdb9376dcaea6f3edbb": {
      "model_module": "@jupyter-widgets/controls",
      "model_module_version": "1.5.0",
      "model_name": "HTMLModel",
      "state": {
       "layout": "IPY_MODEL_bebe6960e9ff49e38ad954046656d8f2",
       "style": "IPY_MODEL_53d8651f57f14bb3973ba59ea69b5c44",
       "value": " 264/264 [00:00&lt;00:00, 505.94it/s]"
      }
     },
     "2b5b1887ff9547d89ed50ff508767fd6": {
      "model_module": "@jupyter-widgets/base",
      "model_module_version": "1.2.0",
      "model_name": "LayoutModel",
      "state": {}
     },
     "2b6bfd88456740498930b74da5c44b45": {
      "model_module": "@jupyter-widgets/controls",
      "model_module_version": "1.5.0",
      "model_name": "HBoxModel",
      "state": {
       "children": [
        "IPY_MODEL_620add48fb9342f8a96931c00db60eb7",
        "IPY_MODEL_e98da85a4a414f96be00f3bf0c02f8e5",
        "IPY_MODEL_06ab399c530c4626a1f9024e90ffc118"
       ],
       "layout": "IPY_MODEL_75d85d82781f46ee847425cf15e43528"
      }
     },
     "2b8b8d3990514bf38d93fd9ca6f4a5f4": {
      "model_module": "@jupyter-widgets/controls",
      "model_module_version": "1.5.0",
      "model_name": "HBoxModel",
      "state": {
       "children": [
        "IPY_MODEL_d34efaae1d5643cf8806fbcbb52010bb",
        "IPY_MODEL_43943355fe86495fbd0c210b03439697",
        "IPY_MODEL_e95a1659074d4689b93298aa9f7c198f"
       ],
       "layout": "IPY_MODEL_305c08ee3fff4ad5abf4afe14094f8a9"
      }
     },
     "2c3a6c454232476d9ab1f2c360bf39d6": {
      "model_module": "@jupyter-widgets/base",
      "model_module_version": "1.2.0",
      "model_name": "LayoutModel",
      "state": {}
     },
     "2c4839c824c24d1ea8d4ffae7c8c51f9": {
      "model_module": "@jupyter-widgets/base",
      "model_module_version": "1.2.0",
      "model_name": "LayoutModel",
      "state": {}
     },
     "2ce09bbeae264872a209a65602da93da": {
      "model_module": "@jupyter-widgets/controls",
      "model_module_version": "1.5.0",
      "model_name": "FloatProgressModel",
      "state": {
       "bar_style": "success",
       "layout": "IPY_MODEL_3e0eb043c19044ccae7024553e774d04",
       "max": 118,
       "style": "IPY_MODEL_64ac9e53e7d947e290aac642dc9dd3b7",
       "value": 118
      }
     },
     "2d4955366ec24a2c8b3324982005179f": {
      "model_module": "@jupyter-widgets/controls",
      "model_module_version": "1.5.0",
      "model_name": "ProgressStyleModel",
      "state": {
       "description_width": ""
      }
     },
     "2d994e457ddc4971b3c2a6b442043b53": {
      "model_module": "@jupyter-widgets/controls",
      "model_module_version": "1.5.0",
      "model_name": "ProgressStyleModel",
      "state": {
       "description_width": ""
      }
     },
     "2df92fdf42fa4d2ba3bc899289d62057": {
      "model_module": "@jupyter-widgets/controls",
      "model_module_version": "1.5.0",
      "model_name": "HTMLModel",
      "state": {
       "layout": "IPY_MODEL_dc84f787a5b1467690d1aace01e5c1d1",
       "style": "IPY_MODEL_2e96ece08dfe4bafbbe8cdd35c709eb9",
       "value": " 46/46 [00:00&lt;00:00, 1353.01it/s]"
      }
     },
     "2dfb1ee215e14ad7b78e0341aa72314d": {
      "model_module": "@jupyter-widgets/controls",
      "model_module_version": "1.5.0",
      "model_name": "HTMLModel",
      "state": {
       "layout": "IPY_MODEL_5b71845664af46aaa4f384f7018ddaf9",
       "style": "IPY_MODEL_ebc9cba13e4c44f88e7843dce5a70511",
       "value": "  0%"
      }
     },
     "2e5a73ae2047470790d1d726c136fa41": {
      "model_module": "@jupyter-widgets/controls",
      "model_module_version": "1.5.0",
      "model_name": "HBoxModel",
      "state": {
       "children": [
        "IPY_MODEL_7a164d4654354ff4a345dd315772d3b6",
        "IPY_MODEL_98bdc17e57ea4e5cae481015792f5ff8",
        "IPY_MODEL_2436164550d5432f9f8ff654781766c6"
       ],
       "layout": "IPY_MODEL_d4aa35951a134e7eb2dd673c7231d779"
      }
     },
     "2e5c9427cf6b4586b725006e2d349adc": {
      "model_module": "@jupyter-widgets/controls",
      "model_module_version": "1.5.0",
      "model_name": "HTMLModel",
      "state": {
       "layout": "IPY_MODEL_427a60c8cde748e2a93fea9e452ffa6d",
       "style": "IPY_MODEL_179d8b2295634a20ae06a3f488000579",
       "value": "Assigning labels: 100%"
      }
     },
     "2e6a9a0f31fd4d489e08890965aeb9e3": {
      "model_module": "@jupyter-widgets/controls",
      "model_module_version": "1.5.0",
      "model_name": "HTMLModel",
      "state": {
       "layout": "IPY_MODEL_c148cc9588a644d282f68cc7d0e16fb9",
       "style": "IPY_MODEL_3d143620f63f4d9e9317e124261a9b89",
       "value": " 58/58 [00:00&lt;00:00, 1160.09it/s]"
      }
     },
     "2e76b4c56b79457c9c833b487ca1bdac": {
      "model_module": "@jupyter-widgets/base",
      "model_module_version": "1.2.0",
      "model_name": "LayoutModel",
      "state": {}
     },
     "2e7fa146aa6e452e9279fcd10be2e697": {
      "model_module": "@jupyter-widgets/controls",
      "model_module_version": "1.5.0",
      "model_name": "FloatProgressModel",
      "state": {
       "bar_style": "success",
       "layout": "IPY_MODEL_524cdf53e3054b9d821a77de324b372f",
       "max": 46,
       "style": "IPY_MODEL_7adda80cd39f4703856d7d5deb20cee0",
       "value": 46
      }
     },
     "2e96ece08dfe4bafbbe8cdd35c709eb9": {
      "model_module": "@jupyter-widgets/controls",
      "model_module_version": "1.5.0",
      "model_name": "DescriptionStyleModel",
      "state": {
       "description_width": ""
      }
     },
     "2e98ea13b42c461da84cb0c1e4bec66b": {
      "model_module": "@jupyter-widgets/base",
      "model_module_version": "1.2.0",
      "model_name": "LayoutModel",
      "state": {}
     },
     "2ea5103fab0944f5b7e63970b3d9e29f": {
      "model_module": "@jupyter-widgets/controls",
      "model_module_version": "1.5.0",
      "model_name": "HTMLModel",
      "state": {
       "layout": "IPY_MODEL_5a6245419e944faa978b4ed1b6fddceb",
       "style": "IPY_MODEL_e3e5e30478d14abf8e0cef918db61e41",
       "value": "  4%"
      }
     },
     "2eb76a2d163b4a6eb4cb17f4b7058840": {
      "model_module": "@jupyter-widgets/controls",
      "model_module_version": "1.5.0",
      "model_name": "HBoxModel",
      "state": {
       "children": [
        "IPY_MODEL_0a84ce358d884b1e8591c5aaa4695ceb",
        "IPY_MODEL_c71bc9ab0d2d4157ae828685793a9274",
        "IPY_MODEL_049ca7de7d92413090721d4132b2cc7f"
       ],
       "layout": "IPY_MODEL_700266d40a6947bfb126413d45fd130a"
      }
     },
     "2f86e2d637484d27a1faabde09ac9b1b": {
      "model_module": "@jupyter-widgets/controls",
      "model_module_version": "1.5.0",
      "model_name": "HBoxModel",
      "state": {
       "children": [
        "IPY_MODEL_06a8d032028b45e1a1cf4ea54e754a27",
        "IPY_MODEL_0c7100347ad24c1a9b1bc89e4b07e6b3",
        "IPY_MODEL_2248729430334e1fae69b56917c40bb7"
       ],
       "layout": "IPY_MODEL_e9ee192a313943a3aee55b8a897d278a"
      }
     },
     "2f87bb61ba634898ab20c1fae95b52e8": {
      "model_module": "@jupyter-widgets/controls",
      "model_module_version": "1.5.0",
      "model_name": "FloatProgressModel",
      "state": {
       "bar_style": "success",
       "layout": "IPY_MODEL_77fcf510f25746ca9573af0ef3d384af",
       "max": 46,
       "style": "IPY_MODEL_c1d6fe3a8db34131991840d4be140c5a",
       "value": 46
      }
     },
     "2f9cb39605b24c17984a55d1d8fc07b1": {
      "model_module": "@jupyter-widgets/controls",
      "model_module_version": "1.5.0",
      "model_name": "HTMLModel",
      "state": {
       "layout": "IPY_MODEL_d5637d6cb46e45f7aa824cc35cc3a218",
       "style": "IPY_MODEL_695eb9afccb549b8817fd9630909b988",
       "value": "Assigning labels: 100%"
      }
     },
     "3050d583a6624558a6e7a09b8d46b543": {
      "model_module": "@jupyter-widgets/base",
      "model_module_version": "1.2.0",
      "model_name": "LayoutModel",
      "state": {}
     },
     "305c08ee3fff4ad5abf4afe14094f8a9": {
      "model_module": "@jupyter-widgets/base",
      "model_module_version": "1.2.0",
      "model_name": "LayoutModel",
      "state": {}
     },
     "30b3707f14474fd7922700ca4b4aa1f5": {
      "model_module": "@jupyter-widgets/controls",
      "model_module_version": "1.5.0",
      "model_name": "FloatProgressModel",
      "state": {
       "bar_style": "success",
       "layout": "IPY_MODEL_7a3cd4ba606e4bcc8fbd14e8833f1b05",
       "max": 160,
       "style": "IPY_MODEL_d84be1bb2a274552a876ec64c43b592b",
       "value": 160
      }
     },
     "30ea68b472e44018924a36c8776dd152": {
      "model_module": "@jupyter-widgets/controls",
      "model_module_version": "1.5.0",
      "model_name": "HTMLModel",
      "state": {
       "layout": "IPY_MODEL_ddc81616a8da4937aa4cc32d5427af8e",
       "style": "IPY_MODEL_6be40863830e4ba8b7f8e15e3fb607b3",
       "value": "  0%"
      }
     },
     "3177d8d67c8f4b47bcba5dad3a26f72f": {
      "model_module": "@jupyter-widgets/controls",
      "model_module_version": "1.5.0",
      "model_name": "HBoxModel",
      "state": {
       "children": [
        "IPY_MODEL_855eaea3671a4ec3b2ae808bb0bf0185",
        "IPY_MODEL_7c64ab2a203a4e62b9e764f38f087c27",
        "IPY_MODEL_b3adc1ea03014980967deb360b25bb99"
       ],
       "layout": "IPY_MODEL_773bb2cfb4fe46d591d542994e1bf372"
      }
     },
     "318d4212b42e4800a088376eed839033": {
      "model_module": "@jupyter-widgets/base",
      "model_module_version": "1.2.0",
      "model_name": "LayoutModel",
      "state": {}
     },
     "32058a9edd9b44c887f195cf8f134c24": {
      "model_module": "@jupyter-widgets/controls",
      "model_module_version": "1.5.0",
      "model_name": "FloatProgressModel",
      "state": {
       "bar_style": "success",
       "layout": "IPY_MODEL_f1fda0e178e24da78c5dac2b8a123f0f",
       "max": 113,
       "style": "IPY_MODEL_201e2357b0014dde96a12096a676c795",
       "value": 113
      }
     },
     "3209ca436eb94364afdc935fb59c9ed0": {
      "model_module": "@jupyter-widgets/base",
      "model_module_version": "1.2.0",
      "model_name": "LayoutModel",
      "state": {}
     },
     "321a57eec5584364934b8193c56e0feb": {
      "model_module": "@jupyter-widgets/base",
      "model_module_version": "1.2.0",
      "model_name": "LayoutModel",
      "state": {}
     },
     "32947928d7d34cb180a67fb80341ba37": {
      "model_module": "@jupyter-widgets/controls",
      "model_module_version": "1.5.0",
      "model_name": "HTMLModel",
      "state": {
       "layout": "IPY_MODEL_53486f2b05e04a7cb219f129e6c6d494",
       "style": "IPY_MODEL_bd6f552a54664d99bfb5e9ee9e8e74b0",
       "value": " 46/46 [00:00&lt;00:00, 1237.85it/s]"
      }
     },
     "32f8832d5899407ba63b7e992eb02a8c": {
      "model_module": "@jupyter-widgets/controls",
      "model_module_version": "1.5.0",
      "model_name": "HTMLModel",
      "state": {
       "layout": "IPY_MODEL_b0b93b0afa144d9aa9885b7a908db0f5",
       "style": "IPY_MODEL_bd367b86f20a454bb08d88f1e824ce9f",
       "value": " 91/91 [00:00&lt;00:00, 685.96it/s]"
      }
     },
     "330c16078f5645c0bd706fc87f54160f": {
      "model_module": "@jupyter-widgets/base",
      "model_module_version": "1.2.0",
      "model_name": "LayoutModel",
      "state": {}
     },
     "332857b307a842c2acd87aefb585c5a9": {
      "model_module": "@jupyter-widgets/base",
      "model_module_version": "1.2.0",
      "model_name": "LayoutModel",
      "state": {}
     },
     "3367dfe349ae4035bd7e885884af44a4": {
      "model_module": "@jupyter-widgets/controls",
      "model_module_version": "1.5.0",
      "model_name": "HTMLModel",
      "state": {
       "layout": "IPY_MODEL_12c314474a37454a9b229a8c60160743",
       "style": "IPY_MODEL_d768f0bebd8f4dc69285491791d3cf26",
       "value": "Assigning labels: 100%"
      }
     },
     "33a95c6003cb448c85986896265901c1": {
      "model_module": "@jupyter-widgets/base",
      "model_module_version": "1.2.0",
      "model_name": "LayoutModel",
      "state": {}
     },
     "33aeeac8a5ca4094a04be0659df33208": {
      "model_module": "@jupyter-widgets/base",
      "model_module_version": "1.2.0",
      "model_name": "LayoutModel",
      "state": {}
     },
     "33c434bcfba949cda041a94464708b83": {
      "model_module": "@jupyter-widgets/controls",
      "model_module_version": "1.5.0",
      "model_name": "HTMLModel",
      "state": {
       "layout": "IPY_MODEL_b38348fe44d24f97b948a72214f54b6b",
       "style": "IPY_MODEL_f565c6c3a8204ba1af32d07884f56c46",
       "value": "Epoch: 6, 71.24504, 0.26825: "
      }
     },
     "34339abd3ecc4fe7b4806a60a0375ec6": {
      "model_module": "@jupyter-widgets/controls",
      "model_module_version": "1.5.0",
      "model_name": "HTMLModel",
      "state": {
       "layout": "IPY_MODEL_a343c300058e49288589fe1ce2c02c4e",
       "style": "IPY_MODEL_54fa3a7afb2d40b09d3ef7226bf30766",
       "value": " 93/270 [01:07&lt;02:10,  1.36it/s]"
      }
     },
     "3463524d87e24e5cbe95cf986e9594da": {
      "model_module": "@jupyter-widgets/controls",
      "model_module_version": "1.5.0",
      "model_name": "DescriptionStyleModel",
      "state": {
       "description_width": ""
      }
     },
     "3463d4e001db425a86784a8fa81d4854": {
      "model_module": "@jupyter-widgets/controls",
      "model_module_version": "1.5.0",
      "model_name": "DescriptionStyleModel",
      "state": {
       "description_width": ""
      }
     },
     "346794969129429a8cd14e6cfe698eea": {
      "model_module": "@jupyter-widgets/controls",
      "model_module_version": "1.5.0",
      "model_name": "DescriptionStyleModel",
      "state": {
       "description_width": ""
      }
     },
     "350e8f47398c492c97158f27bd314e61": {
      "model_module": "@jupyter-widgets/base",
      "model_module_version": "1.2.0",
      "model_name": "LayoutModel",
      "state": {}
     },
     "35367d5daa8c40478ab977b54c9a4824": {
      "model_module": "@jupyter-widgets/base",
      "model_module_version": "1.2.0",
      "model_name": "LayoutModel",
      "state": {}
     },
     "35404382bf904c16b9e5a382eebf5cc5": {
      "model_module": "@jupyter-widgets/controls",
      "model_module_version": "1.5.0",
      "model_name": "ProgressStyleModel",
      "state": {
       "description_width": ""
      }
     },
     "35fa1d6431dd49d2b92bb31dae779d7f": {
      "model_module": "@jupyter-widgets/controls",
      "model_module_version": "1.5.0",
      "model_name": "FloatProgressModel",
      "state": {
       "bar_style": "success",
       "layout": "IPY_MODEL_05b072c38eac485e8baac5d8e45ea465",
       "max": 270,
       "style": "IPY_MODEL_fb8472cdac3a4ee6a669db640ee021bc",
       "value": 270
      }
     },
     "3608819097b64d749d84be63e09cb5a4": {
      "model_module": "@jupyter-widgets/controls",
      "model_module_version": "1.5.0",
      "model_name": "HTMLModel",
      "state": {
       "layout": "IPY_MODEL_54ce8924a8724bd787cae463ed822f84",
       "style": "IPY_MODEL_be751347e7e74b4e8b441c4c174bc913",
       "value": " 91/91 [00:00&lt;00:00, 715.48it/s]"
      }
     },
     "3619e6eab6214b84af9c2968ab9b9bed": {
      "model_module": "@jupyter-widgets/controls",
      "model_module_version": "1.5.0",
      "model_name": "FloatProgressModel",
      "state": {
       "bar_style": "success",
       "layout": "IPY_MODEL_906a4e6a6fbe422998c5b22e81b19651",
       "max": 118,
       "style": "IPY_MODEL_48280c97e0f841669948147a20569a01",
       "value": 118
      }
     },
     "365e0e698e7a49cfa2664136e764c5ae": {
      "model_module": "@jupyter-widgets/controls",
      "model_module_version": "1.5.0",
      "model_name": "FloatProgressModel",
      "state": {
       "bar_style": "success",
       "layout": "IPY_MODEL_eb4cf67535a34a5788e4f71b2b87670b",
       "max": 23,
       "style": "IPY_MODEL_98b7f9fd74c3476688e671299a60fa63",
       "value": 23
      }
     },
     "36854ea2c8e6443c9c31a6b9049686fd": {
      "model_module": "@jupyter-widgets/controls",
      "model_module_version": "1.5.0",
      "model_name": "ProgressStyleModel",
      "state": {
       "description_width": ""
      }
     },
     "36a67395038142adb32716c8fed3d2ca": {
      "model_module": "@jupyter-widgets/controls",
      "model_module_version": "1.5.0",
      "model_name": "HTMLModel",
      "state": {
       "layout": "IPY_MODEL_2b0781947e6244a785a55185ec9fe24d",
       "style": "IPY_MODEL_152ea97976654491a1936673143d5c8d",
       "value": "Epoch: 3, 51.9429, 0.06828: "
      }
     },
     "376af8ca6cc942d3b198c4de4cd3c063": {
      "model_module": "@jupyter-widgets/controls",
      "model_module_version": "1.5.0",
      "model_name": "FloatProgressModel",
      "state": {
       "bar_style": "danger",
       "layout": "IPY_MODEL_27a01c5af47340b6a5a65fe15314521c",
       "max": 270,
       "style": "IPY_MODEL_7b3840858ae2496a98d2720285754a53"
      }
     },
     "3795bff12ea14f9e85e718c3cc3eb1d6": {
      "model_module": "@jupyter-widgets/base",
      "model_module_version": "1.2.0",
      "model_name": "LayoutModel",
      "state": {}
     },
     "381705c06b954ab9874aa67c5880359e": {
      "model_module": "@jupyter-widgets/controls",
      "model_module_version": "1.5.0",
      "model_name": "DescriptionStyleModel",
      "state": {
       "description_width": ""
      }
     },
     "381e78f0789043d3924b39e9ed67b23c": {
      "model_module": "@jupyter-widgets/controls",
      "model_module_version": "1.5.0",
      "model_name": "HTMLModel",
      "state": {
       "layout": "IPY_MODEL_d82bd18eb4814e1294598d79e32890d5",
       "style": "IPY_MODEL_ccaf22bd034744aeba54ba372c76c9fb",
       "value": " 61/271 [00:41&lt;02:23,  1.46it/s]"
      }
     },
     "3895f5b56e344e129649df6715f58af5": {
      "model_module": "@jupyter-widgets/controls",
      "model_module_version": "1.5.0",
      "model_name": "FloatProgressModel",
      "state": {
       "bar_style": "success",
       "layout": "IPY_MODEL_8892b611ef144967940a0c68ca20b46b",
       "max": 270,
       "style": "IPY_MODEL_f45072dce9fb40fbabb0a103ba7a992c",
       "value": 270
      }
     },
     "38a7a0bfe15f43b7862239986365d57c": {
      "model_module": "@jupyter-widgets/base",
      "model_module_version": "1.2.0",
      "model_name": "LayoutModel",
      "state": {}
     },
     "38eb18756d4240c19fd5619355044a5e": {
      "model_module": "@jupyter-widgets/controls",
      "model_module_version": "1.5.0",
      "model_name": "FloatProgressModel",
      "state": {
       "bar_style": "success",
       "layout": "IPY_MODEL_cad285e786fd4f5bb558237831c29114",
       "max": 160,
       "style": "IPY_MODEL_f5e153c566644ebdaa42da229f39b4f6",
       "value": 160
      }
     },
     "3910996e285b489f97467ea09329a35b": {
      "model_module": "@jupyter-widgets/base",
      "model_module_version": "1.2.0",
      "model_name": "LayoutModel",
      "state": {}
     },
     "3910f492b4c44e26894c81c150844300": {
      "model_module": "@jupyter-widgets/controls",
      "model_module_version": "1.5.0",
      "model_name": "ProgressStyleModel",
      "state": {
       "description_width": ""
      }
     },
     "3912853cdd9348d390d399f861c08565": {
      "model_module": "@jupyter-widgets/controls",
      "model_module_version": "1.5.0",
      "model_name": "ProgressStyleModel",
      "state": {
       "description_width": ""
      }
     },
     "393ca1fc998e48ebbc61aa138b94df3a": {
      "model_module": "@jupyter-widgets/controls",
      "model_module_version": "1.5.0",
      "model_name": "DescriptionStyleModel",
      "state": {
       "description_width": ""
      }
     },
     "394031fb7a75477fae3c2c079c8977c2": {
      "model_module": "@jupyter-widgets/controls",
      "model_module_version": "1.5.0",
      "model_name": "FloatProgressModel",
      "state": {
       "bar_style": "success",
       "layout": "IPY_MODEL_8c3dbfcc7e2747fe9f67dca4070a462c",
       "max": 270,
       "style": "IPY_MODEL_5d83d0fe47f340bb80ec6492549020a5",
       "value": 270
      }
     },
     "3989ba1cf29d4081b27bd95d03e1dfc4": {
      "model_module": "@jupyter-widgets/base",
      "model_module_version": "1.2.0",
      "model_name": "LayoutModel",
      "state": {}
     },
     "399ebaf9f6f64976b818c1e94c34cfc6": {
      "model_module": "@jupyter-widgets/controls",
      "model_module_version": "1.5.0",
      "model_name": "ProgressStyleModel",
      "state": {
       "description_width": ""
      }
     },
     "39b23b4bb59c460e86bbcd65632c4010": {
      "model_module": "@jupyter-widgets/base",
      "model_module_version": "1.2.0",
      "model_name": "LayoutModel",
      "state": {}
     },
     "39d31d953e174acfa855ac55459c5fc5": {
      "model_module": "@jupyter-widgets/base",
      "model_module_version": "1.2.0",
      "model_name": "LayoutModel",
      "state": {}
     },
     "39e343ad9dc1407ca7a549452b53f516": {
      "model_module": "@jupyter-widgets/controls",
      "model_module_version": "1.5.0",
      "model_name": "FloatProgressModel",
      "state": {
       "bar_style": "success",
       "layout": "IPY_MODEL_88b30f9706c74bed85969bed7fa4641a",
       "max": 526,
       "style": "IPY_MODEL_5f879394f3314441ba2787def0240339",
       "value": 526
      }
     },
     "39e8e5f2b382414f84f3cfb8262f11af": {
      "model_module": "@jupyter-widgets/base",
      "model_module_version": "1.2.0",
      "model_name": "LayoutModel",
      "state": {}
     },
     "3a2a281b9efe43bfa63a8d83f9d6c6b1": {
      "model_module": "@jupyter-widgets/base",
      "model_module_version": "1.2.0",
      "model_name": "LayoutModel",
      "state": {}
     },
     "3a5a62f4436d47efa9b7c3b9b6da79ea": {
      "model_module": "@jupyter-widgets/controls",
      "model_module_version": "1.5.0",
      "model_name": "HBoxModel",
      "state": {
       "children": [
        "IPY_MODEL_d4b30be6021744b9b3c62862f6f0ff69",
        "IPY_MODEL_8bb762229c7f4e1e989524ac181411c3",
        "IPY_MODEL_381e78f0789043d3924b39e9ed67b23c"
       ],
       "layout": "IPY_MODEL_fa87c911c86e453ea8767c485ec92a81"
      }
     },
     "3a92b0cea09341558b26da23c17b07b2": {
      "model_module": "@jupyter-widgets/controls",
      "model_module_version": "1.5.0",
      "model_name": "HTMLModel",
      "state": {
       "layout": "IPY_MODEL_8f631dd519f84804bd89b31cdf9f0efc",
       "style": "IPY_MODEL_fdbc9c6b49c840d9bcb21a12bdcc93ac",
       "value": "Assigning labels: 100%"
      }
     },
     "3aa6bfbdcc454d92ae18247f2bde7c36": {
      "model_module": "@jupyter-widgets/controls",
      "model_module_version": "1.5.0",
      "model_name": "HTMLModel",
      "state": {
       "layout": "IPY_MODEL_8770462c9e094360a1f0d9b4af04dd01",
       "style": "IPY_MODEL_f2106d19336940ffa1e0aaac4466d2f6",
       "value": "Assigning labels: 100%"
      }
     },
     "3ab90e1fa0f44bab83fb17e4df38eb7d": {
      "model_module": "@jupyter-widgets/controls",
      "model_module_version": "1.5.0",
      "model_name": "DescriptionStyleModel",
      "state": {
       "description_width": ""
      }
     },
     "3ad4c5a58b86480e81fd609f3b85b1b6": {
      "model_module": "@jupyter-widgets/base",
      "model_module_version": "1.2.0",
      "model_name": "LayoutModel",
      "state": {}
     },
     "3ad83447183f43b7a5940693f9ecdbd5": {
      "model_module": "@jupyter-widgets/controls",
      "model_module_version": "1.5.0",
      "model_name": "HTMLModel",
      "state": {
       "layout": "IPY_MODEL_fb63051d2351495c9d1b56fdee53cd67",
       "style": "IPY_MODEL_4ad70be8fad04408a1c7c2c8fb3da03c",
       "value": " 16/270 [00:11&lt;03:05,  1.37it/s]"
      }
     },
     "3ae27dbf1af94b8690e53486cf06dd40": {
      "model_module": "@jupyter-widgets/base",
      "model_module_version": "1.2.0",
      "model_name": "LayoutModel",
      "state": {}
     },
     "3b20b3057af54cc2a53761b7d39e4530": {
      "model_module": "@jupyter-widgets/base",
      "model_module_version": "1.2.0",
      "model_name": "LayoutModel",
      "state": {}
     },
     "3b351b4ba91f44c8ab280dad4ec72eec": {
      "model_module": "@jupyter-widgets/base",
      "model_module_version": "1.2.0",
      "model_name": "LayoutModel",
      "state": {}
     },
     "3b47549d1a0843e99439ddc563de04e3": {
      "model_module": "@jupyter-widgets/base",
      "model_module_version": "1.2.0",
      "model_name": "LayoutModel",
      "state": {}
     },
     "3c25ba07bcc4486891fe81e737ecb877": {
      "model_module": "@jupyter-widgets/base",
      "model_module_version": "1.2.0",
      "model_name": "LayoutModel",
      "state": {}
     },
     "3c85fbb5b44f42e8b80d0c0e64f41ad0": {
      "model_module": "@jupyter-widgets/controls",
      "model_module_version": "1.5.0",
      "model_name": "ProgressStyleModel",
      "state": {
       "description_width": ""
      }
     },
     "3c9ba8fa218b45e5836f1a1bb257caad": {
      "model_module": "@jupyter-widgets/controls",
      "model_module_version": "1.5.0",
      "model_name": "HTMLModel",
      "state": {
       "layout": "IPY_MODEL_899f4a7c12e34e4da9ab7cdb5e0ace27",
       "style": "IPY_MODEL_1171ca64face4cffb62d70de39dbf2a7",
       "value": "Assigning labels: 100%"
      }
     },
     "3cbbfe8f68a14783b82fa7d8ebeb4559": {
      "model_module": "@jupyter-widgets/controls",
      "model_module_version": "1.5.0",
      "model_name": "HTMLModel",
      "state": {
       "layout": "IPY_MODEL_a37f1677d381478da61bb56f2de0d8a8",
       "style": "IPY_MODEL_a94247daf7dd4f26bd8e99dd60e2c840",
       "value": "Assigning labels: 100%"
      }
     },
     "3cbd0d744c6a42a5a54de13b9674c9ec": {
      "model_module": "@jupyter-widgets/controls",
      "model_module_version": "1.5.0",
      "model_name": "FloatProgressModel",
      "state": {
       "bar_style": "success",
       "layout": "IPY_MODEL_90f0f3d3193f469b8d870f87f2b14870",
       "max": 48,
       "style": "IPY_MODEL_e4e944a368ed4a6181dbe4c897eca1a5",
       "value": 48
      }
     },
     "3d143620f63f4d9e9317e124261a9b89": {
      "model_module": "@jupyter-widgets/controls",
      "model_module_version": "1.5.0",
      "model_name": "DescriptionStyleModel",
      "state": {
       "description_width": ""
      }
     },
     "3d1676eb61e64d4abf9360b999ae9b5e": {
      "model_module": "@jupyter-widgets/base",
      "model_module_version": "1.2.0",
      "model_name": "LayoutModel",
      "state": {}
     },
     "3d61d452cda5401f889e3b3e4d308db7": {
      "model_module": "@jupyter-widgets/base",
      "model_module_version": "1.2.0",
      "model_name": "LayoutModel",
      "state": {}
     },
     "3e0eb043c19044ccae7024553e774d04": {
      "model_module": "@jupyter-widgets/base",
      "model_module_version": "1.2.0",
      "model_name": "LayoutModel",
      "state": {}
     },
     "3e53a62cd9fa471382e6036e1eb57438": {
      "model_module": "@jupyter-widgets/controls",
      "model_module_version": "1.5.0",
      "model_name": "DescriptionStyleModel",
      "state": {
       "description_width": ""
      }
     },
     "3e63a5cae0f84f87b79ea55e63409b2e": {
      "model_module": "@jupyter-widgets/controls",
      "model_module_version": "1.5.0",
      "model_name": "HTMLModel",
      "state": {
       "layout": "IPY_MODEL_6638991944104f5bb571fa4f75cb8d90",
       "style": "IPY_MODEL_8a85fc2156024fceae25768751cfd4e9",
       "value": "Assigning labels: 100%"
      }
     },
     "3e8e3af527384f09aaa33911b11bf70a": {
      "model_module": "@jupyter-widgets/controls",
      "model_module_version": "1.5.0",
      "model_name": "HTMLModel",
      "state": {
       "layout": "IPY_MODEL_99ae06ea7670405285836a32f13ab8f4",
       "style": "IPY_MODEL_4ac5ed4fe5d74db38244f5bf251a00db",
       "value": "Assigning labels: 100%"
      }
     },
     "3eb47bb7fc614ebe938b48a6de77f86d": {
      "model_module": "@jupyter-widgets/base",
      "model_module_version": "1.2.0",
      "model_name": "LayoutModel",
      "state": {}
     },
     "3ed52057266b4a358bfead8a3bf048d5": {
      "model_module": "@jupyter-widgets/base",
      "model_module_version": "1.2.0",
      "model_name": "LayoutModel",
      "state": {}
     },
     "3f71b196007e42d2bc66394080d33624": {
      "model_module": "@jupyter-widgets/base",
      "model_module_version": "1.2.0",
      "model_name": "LayoutModel",
      "state": {}
     },
     "3f90e127efe54f24b4417ac33f78632e": {
      "model_module": "@jupyter-widgets/controls",
      "model_module_version": "1.5.0",
      "model_name": "HTMLModel",
      "state": {
       "layout": "IPY_MODEL_9c2974e8a5224b07819fe7b02c52d5d5",
       "style": "IPY_MODEL_f417bd698a684f4ebda9fc95115af23f",
       "value": "Assigning labels: 100%"
      }
     },
     "3f924cb52044463cb62e63346499694a": {
      "model_module": "@jupyter-widgets/controls",
      "model_module_version": "1.5.0",
      "model_name": "ProgressStyleModel",
      "state": {
       "description_width": ""
      }
     },
     "3fe091e93ce14f0a8d78a6ef28b3340e": {
      "model_module": "@jupyter-widgets/base",
      "model_module_version": "1.2.0",
      "model_name": "LayoutModel",
      "state": {}
     },
     "400b845b16c54feeb05b15cdb99324d6": {
      "model_module": "@jupyter-widgets/controls",
      "model_module_version": "1.5.0",
      "model_name": "HTMLModel",
      "state": {
       "layout": "IPY_MODEL_83c4da1841de4060ba6249858d44a59c",
       "style": "IPY_MODEL_b22903e046114dedab73253d85bc6d87",
       "value": " 0/271 [00:01&lt;?, ?it/s]"
      }
     },
     "401888ee740f4d7ab6840060e424545b": {
      "model_module": "@jupyter-widgets/controls",
      "model_module_version": "1.5.0",
      "model_name": "DescriptionStyleModel",
      "state": {
       "description_width": ""
      }
     },
     "401fed6a505343bba7821e4b1e0e117f": {
      "model_module": "@jupyter-widgets/controls",
      "model_module_version": "1.5.0",
      "model_name": "DescriptionStyleModel",
      "state": {
       "description_width": ""
      }
     },
     "4043e5e610f14f7090884963612ccdb5": {
      "model_module": "@jupyter-widgets/base",
      "model_module_version": "1.2.0",
      "model_name": "LayoutModel",
      "state": {}
     },
     "40c4d3ad885a4cdb93ac138a241b585f": {
      "model_module": "@jupyter-widgets/controls",
      "model_module_version": "1.5.0",
      "model_name": "ProgressStyleModel",
      "state": {
       "description_width": ""
      }
     },
     "40e5ba83458d4094ad8efd4a0c2b47ae": {
      "model_module": "@jupyter-widgets/controls",
      "model_module_version": "1.5.0",
      "model_name": "DescriptionStyleModel",
      "state": {
       "description_width": ""
      }
     },
     "40ed46769661478781c1bfe9a662e854": {
      "model_module": "@jupyter-widgets/base",
      "model_module_version": "1.2.0",
      "model_name": "LayoutModel",
      "state": {}
     },
     "411c47a501e849eb86f8404be759df50": {
      "model_module": "@jupyter-widgets/controls",
      "model_module_version": "1.5.0",
      "model_name": "HTMLModel",
      "state": {
       "layout": "IPY_MODEL_9a57cbeb1cb24a77b90ea205b1480203",
       "style": "IPY_MODEL_074fb73857374508820d306f70791912",
       "value": "Epoch: 8, 65.9771, 0.19295: "
      }
     },
     "413e09e8164b41369a440dee6f7ec672": {
      "model_module": "@jupyter-widgets/base",
      "model_module_version": "1.2.0",
      "model_name": "LayoutModel",
      "state": {}
     },
     "414a709875b14f40a4e7dafc2f1200f4": {
      "model_module": "@jupyter-widgets/base",
      "model_module_version": "1.2.0",
      "model_name": "LayoutModel",
      "state": {}
     },
     "4160b618d5b742cbb9e8c2c0fff5762d": {
      "model_module": "@jupyter-widgets/controls",
      "model_module_version": "1.5.0",
      "model_name": "HBoxModel",
      "state": {
       "children": [
        "IPY_MODEL_25c334a4765d4ec897103bbd2dae1d5c",
        "IPY_MODEL_590b710983cc487995c3507d5a0ed45e",
        "IPY_MODEL_8a8116a915a3419badeef8ee0056f547"
       ],
       "layout": "IPY_MODEL_dc9111593f0c4d38b00513bf459593c2"
      }
     },
     "4175fb1b3add4f1483d95bac1209a76d": {
      "model_module": "@jupyter-widgets/base",
      "model_module_version": "1.2.0",
      "model_name": "LayoutModel",
      "state": {}
     },
     "41a928b2be914ac08395dfebeb3712b1": {
      "model_module": "@jupyter-widgets/base",
      "model_module_version": "1.2.0",
      "model_name": "LayoutModel",
      "state": {}
     },
     "423c10e05c5c4427ac307ab94af8192b": {
      "model_module": "@jupyter-widgets/controls",
      "model_module_version": "1.5.0",
      "model_name": "DescriptionStyleModel",
      "state": {
       "description_width": ""
      }
     },
     "42527023aad847a5b5088098166e7fdf": {
      "model_module": "@jupyter-widgets/controls",
      "model_module_version": "1.5.0",
      "model_name": "DescriptionStyleModel",
      "state": {
       "description_width": ""
      }
     },
     "4254bc948f39499dacd3a5953b28726f": {
      "model_module": "@jupyter-widgets/controls",
      "model_module_version": "1.5.0",
      "model_name": "ProgressStyleModel",
      "state": {
       "description_width": ""
      }
     },
     "4267f8decd9541bf806c432df8cf6db2": {
      "model_module": "@jupyter-widgets/controls",
      "model_module_version": "1.5.0",
      "model_name": "HTMLModel",
      "state": {
       "layout": "IPY_MODEL_9ae5a9a765e2451090c56eb1b9f69b50",
       "style": "IPY_MODEL_460a08b308d049829f4fcfc7a8708f2c",
       "value": "Assigning labels: 100%"
      }
     },
     "427a60c8cde748e2a93fea9e452ffa6d": {
      "model_module": "@jupyter-widgets/base",
      "model_module_version": "1.2.0",
      "model_name": "LayoutModel",
      "state": {}
     },
     "4291e5f5df7c4178a5c5195b94373a7c": {
      "model_module": "@jupyter-widgets/controls",
      "model_module_version": "1.5.0",
      "model_name": "HBoxModel",
      "state": {
       "children": [
        "IPY_MODEL_9102daf760ac41c89bb2fedcd6943c99",
        "IPY_MODEL_191af7d7e06b4a7288e6affc08ed6ba4",
        "IPY_MODEL_ce9bb987e1034337ae6e6f77712f0d8f"
       ],
       "layout": "IPY_MODEL_9e2d90b5636c437ab0940f281664583d"
      }
     },
     "42aecbebf2be4a81bb4878bdc1d1be3d": {
      "model_module": "@jupyter-widgets/controls",
      "model_module_version": "1.5.0",
      "model_name": "DescriptionStyleModel",
      "state": {
       "description_width": ""
      }
     },
     "42b6455821bd4739b0b1b49f4f893575": {
      "model_module": "@jupyter-widgets/controls",
      "model_module_version": "1.5.0",
      "model_name": "HTMLModel",
      "state": {
       "layout": "IPY_MODEL_01c4195ff58841f390cc850dfff7e489",
       "style": "IPY_MODEL_c1b998ae03b0454b98134350a58c0519",
       "value": " 48/48 [00:00&lt;00:00, 1297.37it/s]"
      }
     },
     "42fa9813fa4642de87084119f456c374": {
      "model_module": "@jupyter-widgets/controls",
      "model_module_version": "1.5.0",
      "model_name": "HBoxModel",
      "state": {
       "children": [
        "IPY_MODEL_4aa9b0b8523d4f5ca82a31a2784bc45d",
        "IPY_MODEL_c67f56be843547a69cdbe3bd2c9aaf32",
        "IPY_MODEL_1ca190e210744f4c9c5f61af8235b507"
       ],
       "layout": "IPY_MODEL_61e06d0296dd4e2fb931fda58ffb031a"
      }
     },
     "43099bedff2a45329280dc6e1e13b6e9": {
      "model_module": "@jupyter-widgets/controls",
      "model_module_version": "1.5.0",
      "model_name": "ProgressStyleModel",
      "state": {
       "description_width": ""
      }
     },
     "431ca0ce79b848ff86f10ec6441373df": {
      "model_module": "@jupyter-widgets/controls",
      "model_module_version": "1.5.0",
      "model_name": "FloatProgressModel",
      "state": {
       "bar_style": "success",
       "layout": "IPY_MODEL_244a245ace35417d9f22c809a5d1a290",
       "max": 58,
       "style": "IPY_MODEL_b7587c58cfad4b79b811c4445a1e9670",
       "value": 58
      }
     },
     "43360e90825a4ecab11153fdc3db03b6": {
      "model_module": "@jupyter-widgets/controls",
      "model_module_version": "1.5.0",
      "model_name": "DescriptionStyleModel",
      "state": {
       "description_width": ""
      }
     },
     "43495310bff4457c8362ca4afeb620bd": {
      "model_module": "@jupyter-widgets/base",
      "model_module_version": "1.2.0",
      "model_name": "LayoutModel",
      "state": {}
     },
     "434a980adad64de28bc2730f75ee90e3": {
      "model_module": "@jupyter-widgets/controls",
      "model_module_version": "1.5.0",
      "model_name": "HTMLModel",
      "state": {
       "layout": "IPY_MODEL_649981185f5e4d5ba456262acaf95265",
       "style": "IPY_MODEL_113ef13014fd4e0d90d40d125e1d83ce",
       "value": " 38/38 [00:00&lt;00:00, 1141.83it/s]"
      }
     },
     "43943355fe86495fbd0c210b03439697": {
      "model_module": "@jupyter-widgets/controls",
      "model_module_version": "1.5.0",
      "model_name": "FloatProgressModel",
      "state": {
       "bar_style": "success",
       "layout": "IPY_MODEL_6ff24d47433d4e78a32d6eb26b752eb8",
       "max": 160,
       "style": "IPY_MODEL_c7504332fb4d4affb7da8ca4e0b20a28",
       "value": 160
      }
     },
     "43a4b4088536404a9448adc0c2ece644": {
      "model_module": "@jupyter-widgets/controls",
      "model_module_version": "1.5.0",
      "model_name": "FloatProgressModel",
      "state": {
       "bar_style": "danger",
       "layout": "IPY_MODEL_fc3f98eb27b34e0aa138629e652c9403",
       "max": 270,
       "style": "IPY_MODEL_479959a4cc334d0fb38c80168d425c43",
       "value": 16
      }
     },
     "4467d46dc6f44595ac0d69601f2cb9a7": {
      "model_module": "@jupyter-widgets/base",
      "model_module_version": "1.2.0",
      "model_name": "LayoutModel",
      "state": {}
     },
     "44b6d149112a48d49db578f37953c01d": {
      "model_module": "@jupyter-widgets/controls",
      "model_module_version": "1.5.0",
      "model_name": "FloatProgressModel",
      "state": {
       "bar_style": "success",
       "layout": "IPY_MODEL_cb39ff5411194f9bbc245c51e58fc44f",
       "max": 61,
       "style": "IPY_MODEL_7fec2350f62546c49e6b5bc77523c535",
       "value": 61
      }
     },
     "44ba68739bf549d7acb0a7296a3dc8c4": {
      "model_module": "@jupyter-widgets/controls",
      "model_module_version": "1.5.0",
      "model_name": "DescriptionStyleModel",
      "state": {
       "description_width": ""
      }
     },
     "4519b329a76a4b6899a2ea05d0c1ebdc": {
      "model_module": "@jupyter-widgets/base",
      "model_module_version": "1.2.0",
      "model_name": "LayoutModel",
      "state": {}
     },
     "45220f58ceb94e37838a9d259e51e67d": {
      "model_module": "@jupyter-widgets/controls",
      "model_module_version": "1.5.0",
      "model_name": "FloatProgressModel",
      "state": {
       "bar_style": "success",
       "layout": "IPY_MODEL_822cebdb0f834fbabb54382d7125340e",
       "max": 48,
       "style": "IPY_MODEL_e67502d1cf324dcf858325e78db4e7da",
       "value": 48
      }
     },
     "45820a62cbf84289902bb637a60c71ff": {
      "model_module": "@jupyter-widgets/controls",
      "model_module_version": "1.5.0",
      "model_name": "HBoxModel",
      "state": {
       "children": [
        "IPY_MODEL_d32ba4ff5a92464682236fe251e3de6d",
        "IPY_MODEL_c5a9c7c81b404ec8acbda8d1231e0513",
        "IPY_MODEL_c50a43f9f89f4f928872a2dadfb55a86"
       ],
       "layout": "IPY_MODEL_d439fb68b6ac4cbaba37657d4b143d75"
      }
     },
     "45fcacfe9eb7452d843220a24612fd3c": {
      "model_module": "@jupyter-widgets/controls",
      "model_module_version": "1.5.0",
      "model_name": "DescriptionStyleModel",
      "state": {
       "description_width": ""
      }
     },
     "460a08b308d049829f4fcfc7a8708f2c": {
      "model_module": "@jupyter-widgets/controls",
      "model_module_version": "1.5.0",
      "model_name": "DescriptionStyleModel",
      "state": {
       "description_width": ""
      }
     },
     "46a97f3ec2c34868a197e2fb6be1a4fa": {
      "model_module": "@jupyter-widgets/base",
      "model_module_version": "1.2.0",
      "model_name": "LayoutModel",
      "state": {}
     },
     "46b3b0a1629749f784b04895bde0acf7": {
      "model_module": "@jupyter-widgets/controls",
      "model_module_version": "1.5.0",
      "model_name": "ProgressStyleModel",
      "state": {
       "description_width": ""
      }
     },
     "47536867e05841cb8ed38bef2e627cfb": {
      "model_module": "@jupyter-widgets/base",
      "model_module_version": "1.2.0",
      "model_name": "LayoutModel",
      "state": {}
     },
     "478f032dbf4349c4a05548d4a8c1947d": {
      "model_module": "@jupyter-widgets/controls",
      "model_module_version": "1.5.0",
      "model_name": "DescriptionStyleModel",
      "state": {
       "description_width": ""
      }
     },
     "479959a4cc334d0fb38c80168d425c43": {
      "model_module": "@jupyter-widgets/controls",
      "model_module_version": "1.5.0",
      "model_name": "ProgressStyleModel",
      "state": {
       "description_width": ""
      }
     },
     "47e88952da69431d9edff6836a4afc21": {
      "model_module": "@jupyter-widgets/controls",
      "model_module_version": "1.5.0",
      "model_name": "DescriptionStyleModel",
      "state": {
       "description_width": ""
      }
     },
     "47eb5ea292134e0e88c3355490300f7d": {
      "model_module": "@jupyter-widgets/controls",
      "model_module_version": "1.5.0",
      "model_name": "DescriptionStyleModel",
      "state": {
       "description_width": ""
      }
     },
     "48280c97e0f841669948147a20569a01": {
      "model_module": "@jupyter-widgets/controls",
      "model_module_version": "1.5.0",
      "model_name": "ProgressStyleModel",
      "state": {
       "description_width": ""
      }
     },
     "482b8bcd521042acb766037d5cc8ec16": {
      "model_module": "@jupyter-widgets/base",
      "model_module_version": "1.2.0",
      "model_name": "LayoutModel",
      "state": {}
     },
     "4858afabe25a4233b4e880f696fa812b": {
      "model_module": "@jupyter-widgets/base",
      "model_module_version": "1.2.0",
      "model_name": "LayoutModel",
      "state": {}
     },
     "487ed959f5314f3aaff2b9496fa41016": {
      "model_module": "@jupyter-widgets/controls",
      "model_module_version": "1.5.0",
      "model_name": "FloatProgressModel",
      "state": {
       "bar_style": "success",
       "layout": "IPY_MODEL_799edf976c4f4e11a60e958b1cad0b55",
       "max": 38,
       "style": "IPY_MODEL_82846c0c46f745c3ba66f3a2480db65a",
       "value": 38
      }
     },
     "488831bccb5f44cfb135d59bf57adc22": {
      "model_module": "@jupyter-widgets/controls",
      "model_module_version": "1.5.0",
      "model_name": "DescriptionStyleModel",
      "state": {
       "description_width": ""
      }
     },
     "48990a5b91224ea4a11e0fee42973e2f": {
      "model_module": "@jupyter-widgets/controls",
      "model_module_version": "1.5.0",
      "model_name": "HBoxModel",
      "state": {
       "children": [
        "IPY_MODEL_2a1b752bb05d4bab8cf88c0ac089078b",
        "IPY_MODEL_35fa1d6431dd49d2b92bb31dae779d7f",
        "IPY_MODEL_763cc3f2d69940b2a4e3b84ae8072e06"
       ],
       "layout": "IPY_MODEL_83407cf8cc6d4ff19f3c1928be60310c"
      }
     },
     "48eda5c940d6461488fc7f96ef9ef38a": {
      "model_module": "@jupyter-widgets/base",
      "model_module_version": "1.2.0",
      "model_name": "LayoutModel",
      "state": {}
     },
     "48f9b7aaa6de46fabcb05e762e771135": {
      "model_module": "@jupyter-widgets/controls",
      "model_module_version": "1.5.0",
      "model_name": "ProgressStyleModel",
      "state": {
       "description_width": ""
      }
     },
     "493c933939ee41d2872d94ebd6d2c4ad": {
      "model_module": "@jupyter-widgets/controls",
      "model_module_version": "1.5.0",
      "model_name": "HTMLModel",
      "state": {
       "layout": "IPY_MODEL_6551b677b4f64dc4ab19374cf6c5bd97",
       "style": "IPY_MODEL_ffba0d2b6bf44549a91d33aad1e14139",
       "value": " 23/23 [00:00&lt;00:00, 1045.47it/s]"
      }
     },
     "494fefc03a9a434baa05a2043ab71d3d": {
      "model_module": "@jupyter-widgets/base",
      "model_module_version": "1.2.0",
      "model_name": "LayoutModel",
      "state": {}
     },
     "496dd6d011294955ba96eea27c091894": {
      "model_module": "@jupyter-widgets/base",
      "model_module_version": "1.2.0",
      "model_name": "LayoutModel",
      "state": {}
     },
     "49d7ff4a33ce4925b787e13fa072e581": {
      "model_module": "@jupyter-widgets/controls",
      "model_module_version": "1.5.0",
      "model_name": "DescriptionStyleModel",
      "state": {
       "description_width": ""
      }
     },
     "49e2233dabea4211913bccb2ea136393": {
      "model_module": "@jupyter-widgets/base",
      "model_module_version": "1.2.0",
      "model_name": "LayoutModel",
      "state": {}
     },
     "4a6fa98b0dfe49bbbd89a793e3cecfb1": {
      "model_module": "@jupyter-widgets/controls",
      "model_module_version": "1.5.0",
      "model_name": "DescriptionStyleModel",
      "state": {
       "description_width": ""
      }
     },
     "4aa9b0b8523d4f5ca82a31a2784bc45d": {
      "model_module": "@jupyter-widgets/controls",
      "model_module_version": "1.5.0",
      "model_name": "HTMLModel",
      "state": {
       "layout": "IPY_MODEL_65593f61da2c4cc0a3101bf2b6a1d960",
       "style": "IPY_MODEL_143fafd26a0d435fa31adaa90af4468d",
       "value": "Epoch: 8, 46.14691, 0.27694: "
      }
     },
     "4ac5ed4fe5d74db38244f5bf251a00db": {
      "model_module": "@jupyter-widgets/controls",
      "model_module_version": "1.5.0",
      "model_name": "DescriptionStyleModel",
      "state": {
       "description_width": ""
      }
     },
     "4ad70be8fad04408a1c7c2c8fb3da03c": {
      "model_module": "@jupyter-widgets/controls",
      "model_module_version": "1.5.0",
      "model_name": "DescriptionStyleModel",
      "state": {
       "description_width": ""
      }
     },
     "4afdc218a73d475098d3c19b7d1580a1": {
      "model_module": "@jupyter-widgets/base",
      "model_module_version": "1.2.0",
      "model_name": "LayoutModel",
      "state": {}
     },
     "4b0dbcaf658b47de96bad8298bcc6aba": {
      "model_module": "@jupyter-widgets/controls",
      "model_module_version": "1.5.0",
      "model_name": "DescriptionStyleModel",
      "state": {
       "description_width": ""
      }
     },
     "4b3b2d0d92f94a4896ff12ed0840a2b3": {
      "model_module": "@jupyter-widgets/base",
      "model_module_version": "1.2.0",
      "model_name": "LayoutModel",
      "state": {}
     },
     "4b4c5efd63cd43b5a9266daca3aae542": {
      "model_module": "@jupyter-widgets/base",
      "model_module_version": "1.2.0",
      "model_name": "LayoutModel",
      "state": {}
     },
     "4bb99028b49f4b1c87a19d59582e3b6c": {
      "model_module": "@jupyter-widgets/controls",
      "model_module_version": "1.5.0",
      "model_name": "FloatProgressModel",
      "state": {
       "bar_style": "success",
       "layout": "IPY_MODEL_9237f51f1c7f4ce590a09588a9a734fb",
       "max": 38,
       "style": "IPY_MODEL_b29ffc6b7ae64257b8afa35bc106cd5a",
       "value": 38
      }
     },
     "4bc10f7fe643436fb04f0acc729ecba3": {
      "model_module": "@jupyter-widgets/controls",
      "model_module_version": "1.5.0",
      "model_name": "DescriptionStyleModel",
      "state": {
       "description_width": ""
      }
     },
     "4bdfad6689e74ddbb583fa94043f71d8": {
      "model_module": "@jupyter-widgets/base",
      "model_module_version": "1.2.0",
      "model_name": "LayoutModel",
      "state": {}
     },
     "4bef54852b70494291d8722f6478f204": {
      "model_module": "@jupyter-widgets/base",
      "model_module_version": "1.2.0",
      "model_name": "LayoutModel",
      "state": {}
     },
     "4c06b110fec345ff998a81f9010244d3": {
      "model_module": "@jupyter-widgets/base",
      "model_module_version": "1.2.0",
      "model_name": "LayoutModel",
      "state": {}
     },
     "4c3e1d9687f94078bc986124f56b5de5": {
      "model_module": "@jupyter-widgets/controls",
      "model_module_version": "1.5.0",
      "model_name": "ProgressStyleModel",
      "state": {
       "description_width": ""
      }
     },
     "4c6bc602caf14c61a385b17fa6997b51": {
      "model_module": "@jupyter-widgets/controls",
      "model_module_version": "1.5.0",
      "model_name": "DescriptionStyleModel",
      "state": {
       "description_width": ""
      }
     },
     "4cbae280e89b468abb630164cfcf9ccf": {
      "model_module": "@jupyter-widgets/base",
      "model_module_version": "1.2.0",
      "model_name": "LayoutModel",
      "state": {}
     },
     "4ccafc39c9844a82bef2a92fefe130f9": {
      "model_module": "@jupyter-widgets/base",
      "model_module_version": "1.2.0",
      "model_name": "LayoutModel",
      "state": {}
     },
     "4d1c9ca37773427e8dd288c3f4f253e5": {
      "model_module": "@jupyter-widgets/controls",
      "model_module_version": "1.5.0",
      "model_name": "HBoxModel",
      "state": {
       "children": [
        "IPY_MODEL_dc72fb42372248f5ace0d2e30ab08a8a",
        "IPY_MODEL_a1bc79a7ed5a4479af0bfed58e3548ed",
        "IPY_MODEL_e2d9b263214c4c6fa8ecabb35b3030a9"
       ],
       "layout": "IPY_MODEL_917b7cf7cfd84cce917c6c69f76a37d4"
      }
     },
     "4d9e452e371d46278e8461613a8ed5ee": {
      "model_module": "@jupyter-widgets/controls",
      "model_module_version": "1.5.0",
      "model_name": "DescriptionStyleModel",
      "state": {
       "description_width": ""
      }
     },
     "4dc42576a9344065ba470a4b4b067cac": {
      "model_module": "@jupyter-widgets/base",
      "model_module_version": "1.2.0",
      "model_name": "LayoutModel",
      "state": {}
     },
     "4e005d03d6da4de1a3315b5ccc0261fa": {
      "model_module": "@jupyter-widgets/controls",
      "model_module_version": "1.5.0",
      "model_name": "HTMLModel",
      "state": {
       "layout": "IPY_MODEL_4bdfad6689e74ddbb583fa94043f71d8",
       "style": "IPY_MODEL_585f8a79d2ab44a8835f7808632ff2e2",
       "value": " 34/34 [00:00&lt;00:00, 1147.31it/s]"
      }
     },
     "4e1094fe5a6e4a08be11dbe9632ca0ad": {
      "model_module": "@jupyter-widgets/base",
      "model_module_version": "1.2.0",
      "model_name": "LayoutModel",
      "state": {}
     },
     "4e7e44fa56e740ab97220f69121e7fca": {
      "model_module": "@jupyter-widgets/controls",
      "model_module_version": "1.5.0",
      "model_name": "DescriptionStyleModel",
      "state": {
       "description_width": ""
      }
     },
     "4e9fb5685c2947daa8e2c829fa511c9f": {
      "model_module": "@jupyter-widgets/controls",
      "model_module_version": "1.5.0",
      "model_name": "DescriptionStyleModel",
      "state": {
       "description_width": ""
      }
     },
     "4f166f3b8f084129a16a75f86d274dc1": {
      "model_module": "@jupyter-widgets/controls",
      "model_module_version": "1.5.0",
      "model_name": "HTMLModel",
      "state": {
       "layout": "IPY_MODEL_9cd577b536b743edb08d5717b1ed748b",
       "style": "IPY_MODEL_f7420b98ba5e4e2a873a027ec73a5172",
       "value": "676.4005045890808, 2.197951316833496: "
      }
     },
     "4f3824d63f21481d803e4f6c6f17a81e": {
      "model_module": "@jupyter-widgets/controls",
      "model_module_version": "1.5.0",
      "model_name": "HTMLModel",
      "state": {
       "layout": "IPY_MODEL_ebe64a13762d4f47bfef93f30defb4cf",
       "style": "IPY_MODEL_3e53a62cd9fa471382e6036e1eb57438",
       "value": " 113/113 [00:00&lt;00:00, 752.47it/s]"
      }
     },
     "4f4277a1ef0b404d8ed570cdfb5a08c5": {
      "model_module": "@jupyter-widgets/base",
      "model_module_version": "1.2.0",
      "model_name": "LayoutModel",
      "state": {}
     },
     "4f61daffc93949228a7f2fe76ee68037": {
      "model_module": "@jupyter-widgets/controls",
      "model_module_version": "1.5.0",
      "model_name": "HBoxModel",
      "state": {
       "children": [
        "IPY_MODEL_8848304a44614296aa66a4ea71f0442f",
        "IPY_MODEL_d48625bf32e2459c83cd7b7f0ef1d017",
        "IPY_MODEL_1535c839cc00405e9fe0d0c88f2f6b0c"
       ],
       "layout": "IPY_MODEL_b6d0500448d54cc087b19d3ecf2ca376"
      }
     },
     "4f67167a1465491888bb760df1c9f90c": {
      "model_module": "@jupyter-widgets/base",
      "model_module_version": "1.2.0",
      "model_name": "LayoutModel",
      "state": {}
     },
     "4f9c51cf1a5146f38aaed843fb532a54": {
      "model_module": "@jupyter-widgets/base",
      "model_module_version": "1.2.0",
      "model_name": "LayoutModel",
      "state": {}
     },
     "4fa73f2d5fbb44dca0baedb29cc86cb4": {
      "model_module": "@jupyter-widgets/base",
      "model_module_version": "1.2.0",
      "model_name": "LayoutModel",
      "state": {}
     },
     "503bc7f767294a87a0fb4d253860167f": {
      "model_module": "@jupyter-widgets/controls",
      "model_module_version": "1.5.0",
      "model_name": "HTMLModel",
      "state": {
       "layout": "IPY_MODEL_1ea28393097347a4945121fef1069980",
       "style": "IPY_MODEL_bfd1c4a93a83425c8c6a446095626e96",
       "value": " 42/42 [00:00&lt;00:00, 194.89it/s]"
      }
     },
     "5054f79bb2c94807855a2374e3686a88": {
      "model_module": "@jupyter-widgets/controls",
      "model_module_version": "1.5.0",
      "model_name": "FloatProgressModel",
      "state": {
       "bar_style": "danger",
       "layout": "IPY_MODEL_350e8f47398c492c97158f27bd314e61",
       "max": 270,
       "style": "IPY_MODEL_f6526134f46945d38161f3b737300a27"
      }
     },
     "507970eae7b14867bafb3cb4e298ef90": {
      "model_module": "@jupyter-widgets/controls",
      "model_module_version": "1.5.0",
      "model_name": "HTMLModel",
      "state": {
       "layout": "IPY_MODEL_f198b6d8f828486f9235876dec54a4a6",
       "style": "IPY_MODEL_78c6418e68ae4c4ea15d8b34fb0892c4",
       "value": " 22%"
      }
     },
     "50ab16f7cbfd4fa9aa177eeb7eb0166b": {
      "model_module": "@jupyter-widgets/controls",
      "model_module_version": "1.5.0",
      "model_name": "DescriptionStyleModel",
      "state": {
       "description_width": ""
      }
     },
     "511c1d3316aa4575b30597c3d2535766": {
      "model_module": "@jupyter-widgets/base",
      "model_module_version": "1.2.0",
      "model_name": "LayoutModel",
      "state": {}
     },
     "512b0885faa84e72b60a84a536b3a399": {
      "model_module": "@jupyter-widgets/base",
      "model_module_version": "1.2.0",
      "model_name": "LayoutModel",
      "state": {}
     },
     "51781915e9d3433ebf49b0736016f783": {
      "model_module": "@jupyter-widgets/controls",
      "model_module_version": "1.5.0",
      "model_name": "FloatProgressModel",
      "state": {
       "bar_style": "success",
       "layout": "IPY_MODEL_318d4212b42e4800a088376eed839033",
       "max": 40,
       "style": "IPY_MODEL_cffa0bc1c9b64789ad085e19e54db509",
       "value": 40
      }
     },
     "51c3e637d1574a6b9596741d39e38fde": {
      "model_module": "@jupyter-widgets/controls",
      "model_module_version": "1.5.0",
      "model_name": "FloatProgressModel",
      "state": {
       "bar_style": "success",
       "layout": "IPY_MODEL_b227121a8d4d4521bc62a267c7e0a2a8",
       "max": 23,
       "style": "IPY_MODEL_dc1c45ae4a7143c7b80717c752e9b798",
       "value": 23
      }
     },
     "52145604fe2246cb84cb2c7271f2c12f": {
      "model_module": "@jupyter-widgets/controls",
      "model_module_version": "1.5.0",
      "model_name": "FloatProgressModel",
      "state": {
       "bar_style": "success",
       "layout": "IPY_MODEL_f7eabf6982b4428f943a81e65fc15eb2",
       "max": 46,
       "style": "IPY_MODEL_cc4f5ab198034bb69abac3bbda01ad03",
       "value": 46
      }
     },
     "524cdf53e3054b9d821a77de324b372f": {
      "model_module": "@jupyter-widgets/base",
      "model_module_version": "1.2.0",
      "model_name": "LayoutModel",
      "state": {}
     },
     "5278c5ba4f984e48aa1bead52911a84c": {
      "model_module": "@jupyter-widgets/base",
      "model_module_version": "1.2.0",
      "model_name": "LayoutModel",
      "state": {}
     },
     "5289719cfac346ac97af9f36bbc77619": {
      "model_module": "@jupyter-widgets/base",
      "model_module_version": "1.2.0",
      "model_name": "LayoutModel",
      "state": {}
     },
     "529c51342ca543a287b8b7307c135f65": {
      "model_module": "@jupyter-widgets/base",
      "model_module_version": "1.2.0",
      "model_name": "LayoutModel",
      "state": {}
     },
     "52eb4d4e7ce94fa1a3a698c0c2e24015": {
      "model_module": "@jupyter-widgets/base",
      "model_module_version": "1.2.0",
      "model_name": "LayoutModel",
      "state": {}
     },
     "52ed8655bcd14590b548c219fad14a72": {
      "model_module": "@jupyter-widgets/base",
      "model_module_version": "1.2.0",
      "model_name": "LayoutModel",
      "state": {}
     },
     "52f0a9f41aba41f1b966223dc6deaaed": {
      "model_module": "@jupyter-widgets/base",
      "model_module_version": "1.2.0",
      "model_name": "LayoutModel",
      "state": {}
     },
     "52fd1d584e124151a3056318bb4fc8ce": {
      "model_module": "@jupyter-widgets/controls",
      "model_module_version": "1.5.0",
      "model_name": "HTMLModel",
      "state": {
       "layout": "IPY_MODEL_b97b269c35c545abac5e04738b64be69",
       "style": "IPY_MODEL_f88a426984c24ef1b0d62cdce2305665",
       "value": "Epoch: 0, 623.5575, 2.4012: "
      }
     },
     "53184525372d40e79290cd79674df22f": {
      "model_module": "@jupyter-widgets/controls",
      "model_module_version": "1.5.0",
      "model_name": "DescriptionStyleModel",
      "state": {
       "description_width": ""
      }
     },
     "532eafe3090242d99c15cb5e50ff04ac": {
      "model_module": "@jupyter-widgets/controls",
      "model_module_version": "1.5.0",
      "model_name": "FloatProgressModel",
      "state": {
       "bar_style": "success",
       "layout": "IPY_MODEL_43495310bff4457c8362ca4afeb620bd",
       "max": 270,
       "style": "IPY_MODEL_40c4d3ad885a4cdb93ac138a241b585f",
       "value": 270
      }
     },
     "53486f2b05e04a7cb219f129e6c6d494": {
      "model_module": "@jupyter-widgets/base",
      "model_module_version": "1.2.0",
      "model_name": "LayoutModel",
      "state": {}
     },
     "53847691a74141abb9280a22ef8d689c": {
      "model_module": "@jupyter-widgets/controls",
      "model_module_version": "1.5.0",
      "model_name": "ProgressStyleModel",
      "state": {
       "description_width": ""
      }
     },
     "53ae2cd9a789436c96f0c2af8187a72a": {
      "model_module": "@jupyter-widgets/base",
      "model_module_version": "1.2.0",
      "model_name": "LayoutModel",
      "state": {}
     },
     "53d8651f57f14bb3973ba59ea69b5c44": {
      "model_module": "@jupyter-widgets/controls",
      "model_module_version": "1.5.0",
      "model_name": "DescriptionStyleModel",
      "state": {
       "description_width": ""
      }
     },
     "53dd2657830b4784968f740c5ce63ae4": {
      "model_module": "@jupyter-widgets/base",
      "model_module_version": "1.2.0",
      "model_name": "LayoutModel",
      "state": {}
     },
     "5430b193a1b14b02b14786c0370755db": {
      "model_module": "@jupyter-widgets/controls",
      "model_module_version": "1.5.0",
      "model_name": "DescriptionStyleModel",
      "state": {
       "description_width": ""
      }
     },
     "54617423e3fc48f2ae5912dd272e5e77": {
      "model_module": "@jupyter-widgets/controls",
      "model_module_version": "1.5.0",
      "model_name": "DescriptionStyleModel",
      "state": {
       "description_width": ""
      }
     },
     "546b602816184829a342da4d13b6666d": {
      "model_module": "@jupyter-widgets/controls",
      "model_module_version": "1.5.0",
      "model_name": "FloatProgressModel",
      "state": {
       "bar_style": "success",
       "layout": "IPY_MODEL_e37321d7055a4f5ca132c7fd6f35326c",
       "max": 48,
       "style": "IPY_MODEL_6dd78bdd27144a378d383cddbbe8028f",
       "value": 48
      }
     },
     "54c6d02ec76c4206a68b483e22faef08": {
      "model_module": "@jupyter-widgets/controls",
      "model_module_version": "1.5.0",
      "model_name": "FloatProgressModel",
      "state": {
       "bar_style": "success",
       "layout": "IPY_MODEL_a5401b83993e4e50a0baa128f9c2353c",
       "max": 264,
       "style": "IPY_MODEL_43099bedff2a45329280dc6e1e13b6e9",
       "value": 264
      }
     },
     "54ce8924a8724bd787cae463ed822f84": {
      "model_module": "@jupyter-widgets/base",
      "model_module_version": "1.2.0",
      "model_name": "LayoutModel",
      "state": {}
     },
     "54d6638dd3394bcdb3b467d82593acb1": {
      "model_module": "@jupyter-widgets/controls",
      "model_module_version": "1.5.0",
      "model_name": "HTMLModel",
      "state": {
       "layout": "IPY_MODEL_3ed52057266b4a358bfead8a3bf048d5",
       "style": "IPY_MODEL_1720f0aa3a7d4e23bc92186512bd0091",
       "value": " 47/47 [00:00&lt;00:00, 1342.95it/s]"
      }
     },
     "54fa3a7afb2d40b09d3ef7226bf30766": {
      "model_module": "@jupyter-widgets/controls",
      "model_module_version": "1.5.0",
      "model_name": "DescriptionStyleModel",
      "state": {
       "description_width": ""
      }
     },
     "54fb3ec3a6164a3f8bfbd65a4a773407": {
      "model_module": "@jupyter-widgets/controls",
      "model_module_version": "1.5.0",
      "model_name": "ProgressStyleModel",
      "state": {
       "description_width": ""
      }
     },
     "553f0567e1494e1ba3091384efce18c7": {
      "model_module": "@jupyter-widgets/controls",
      "model_module_version": "1.5.0",
      "model_name": "HTMLModel",
      "state": {
       "layout": "IPY_MODEL_4f67167a1465491888bb760df1c9f90c",
       "style": "IPY_MODEL_a9fabaaeecb6425ea9dd2575cbf7a910",
       "value": "  0%"
      }
     },
     "559b888ebe224d39833b28614ea01711": {
      "model_module": "@jupyter-widgets/controls",
      "model_module_version": "1.5.0",
      "model_name": "HTMLModel",
      "state": {
       "layout": "IPY_MODEL_3b47549d1a0843e99439ddc563de04e3",
       "style": "IPY_MODEL_54617423e3fc48f2ae5912dd272e5e77",
       "value": "Assigning labels: 100%"
      }
     },
     "55a5390ac85544a883addcbf47eba25d": {
      "model_module": "@jupyter-widgets/base",
      "model_module_version": "1.2.0",
      "model_name": "LayoutModel",
      "state": {}
     },
     "56c58bea47ef4ee78ceeba4398144531": {
      "model_module": "@jupyter-widgets/base",
      "model_module_version": "1.2.0",
      "model_name": "LayoutModel",
      "state": {}
     },
     "5708cbd2c0224b0a855031bd72ad0027": {
      "model_module": "@jupyter-widgets/controls",
      "model_module_version": "1.5.0",
      "model_name": "DescriptionStyleModel",
      "state": {
       "description_width": ""
      }
     },
     "571dbec94ad04ae994e1f6bd2e4707c3": {
      "model_module": "@jupyter-widgets/controls",
      "model_module_version": "1.5.0",
      "model_name": "HBoxModel",
      "state": {
       "children": [
        "IPY_MODEL_d29651a45eed45b09bd5fbad286ea1d2",
        "IPY_MODEL_66671b8af0dd44f68e5fc47ffd08f910",
        "IPY_MODEL_008d317c6895460d97bb7d6afcf20945"
       ],
       "layout": "IPY_MODEL_c49fe355857d4bb4a882d01f63c7a3cb"
      }
     },
     "5722c21bc7424ca4a79df62dc7b47c62": {
      "model_module": "@jupyter-widgets/controls",
      "model_module_version": "1.5.0",
      "model_name": "HTMLModel",
      "state": {
       "layout": "IPY_MODEL_aa5b009e3a1149598d213cf9e6d7cdc5",
       "style": "IPY_MODEL_42aecbebf2be4a81bb4878bdc1d1be3d",
       "value": "Assigning labels: 100%"
      }
     },
     "5758594657f642b7a349923f9c5444d3": {
      "model_module": "@jupyter-widgets/base",
      "model_module_version": "1.2.0",
      "model_name": "LayoutModel",
      "state": {}
     },
     "575bebacf14f4eaeb9d8c14bb3700259": {
      "model_module": "@jupyter-widgets/controls",
      "model_module_version": "1.5.0",
      "model_name": "ProgressStyleModel",
      "state": {
       "description_width": ""
      }
     },
     "57787a7eb8c54a12bf7eb4ae5594f144": {
      "model_module": "@jupyter-widgets/controls",
      "model_module_version": "1.5.0",
      "model_name": "HTMLModel",
      "state": {
       "layout": "IPY_MODEL_93b20ef422bf4d3bb62596b85014354a",
       "style": "IPY_MODEL_aa325d5cd644491d867239fc8245dbd9",
       "value": "  0%"
      }
     },
     "57c82dfd914542f6a71ac71f4b755a4f": {
      "model_module": "@jupyter-widgets/controls",
      "model_module_version": "1.5.0",
      "model_name": "DescriptionStyleModel",
      "state": {
       "description_width": ""
      }
     },
     "57d76fb12cbb47cb9410f60f8574dc49": {
      "model_module": "@jupyter-widgets/controls",
      "model_module_version": "1.5.0",
      "model_name": "HBoxModel",
      "state": {
       "children": [
        "IPY_MODEL_57787a7eb8c54a12bf7eb4ae5594f144",
        "IPY_MODEL_5054f79bb2c94807855a2374e3686a88",
        "IPY_MODEL_c5ae5ee33e234244a71664bac3dad887"
       ],
       "layout": "IPY_MODEL_f72eb38705e44668a49643be2f0a874e"
      }
     },
     "57dfbd6da4a64d208df44126587e0e16": {
      "model_module": "@jupyter-widgets/controls",
      "model_module_version": "1.5.0",
      "model_name": "HBoxModel",
      "state": {
       "children": [
        "IPY_MODEL_8804c1b3f0c4493aaeea627feb12bbf5",
        "IPY_MODEL_6d28c0aa738f433f9c1c9897efa2513c",
        "IPY_MODEL_2e6a9a0f31fd4d489e08890965aeb9e3"
       ],
       "layout": "IPY_MODEL_202f955c27b24f36bcb688a0a4262070"
      }
     },
     "58253811b99542dfbf4e9234f933b8b1": {
      "model_module": "@jupyter-widgets/controls",
      "model_module_version": "1.5.0",
      "model_name": "ProgressStyleModel",
      "state": {
       "description_width": ""
      }
     },
     "583e0d883ea44163a3556f47a072aeec": {
      "model_module": "@jupyter-widgets/base",
      "model_module_version": "1.2.0",
      "model_name": "LayoutModel",
      "state": {}
     },
     "584cbb1de8154195bc616f367519bcb6": {
      "model_module": "@jupyter-widgets/controls",
      "model_module_version": "1.5.0",
      "model_name": "DescriptionStyleModel",
      "state": {
       "description_width": ""
      }
     },
     "585f8a79d2ab44a8835f7808632ff2e2": {
      "model_module": "@jupyter-widgets/controls",
      "model_module_version": "1.5.0",
      "model_name": "DescriptionStyleModel",
      "state": {
       "description_width": ""
      }
     },
     "590b710983cc487995c3507d5a0ed45e": {
      "model_module": "@jupyter-widgets/controls",
      "model_module_version": "1.5.0",
      "model_name": "FloatProgressModel",
      "state": {
       "bar_style": "success",
       "layout": "IPY_MODEL_d19deac3432f42a4ab154a308e20032f",
       "max": 270,
       "style": "IPY_MODEL_0a3eba012dc04ad38f434205fec5d9d3",
       "value": 270
      }
     },
     "5919842093b74f629d6fc592331666fb": {
      "model_module": "@jupyter-widgets/controls",
      "model_module_version": "1.5.0",
      "model_name": "DescriptionStyleModel",
      "state": {
       "description_width": ""
      }
     },
     "59f6b855805347c0ad35b019e069b435": {
      "model_module": "@jupyter-widgets/base",
      "model_module_version": "1.2.0",
      "model_name": "LayoutModel",
      "state": {}
     },
     "5a60c8cbf4794a4a91ccdda0a72e6c01": {
      "model_module": "@jupyter-widgets/base",
      "model_module_version": "1.2.0",
      "model_name": "LayoutModel",
      "state": {}
     },
     "5a6245419e944faa978b4ed1b6fddceb": {
      "model_module": "@jupyter-widgets/base",
      "model_module_version": "1.2.0",
      "model_name": "LayoutModel",
      "state": {}
     },
     "5a939b91e0704be1a7046e23a0026028": {
      "model_module": "@jupyter-widgets/controls",
      "model_module_version": "1.5.0",
      "model_name": "FloatProgressModel",
      "state": {
       "bar_style": "success",
       "layout": "IPY_MODEL_eb149d6fdc4b4c0daef25ff62ed1c3fd",
       "max": 47,
       "style": "IPY_MODEL_3c85fbb5b44f42e8b80d0c0e64f41ad0",
       "value": 47
      }
     },
     "5b71845664af46aaa4f384f7018ddaf9": {
      "model_module": "@jupyter-widgets/base",
      "model_module_version": "1.2.0",
      "model_name": "LayoutModel",
      "state": {}
     },
     "5bd7cea901984814b42f5d2764a8efd5": {
      "model_module": "@jupyter-widgets/controls",
      "model_module_version": "1.5.0",
      "model_name": "DescriptionStyleModel",
      "state": {
       "description_width": ""
      }
     },
     "5be9f1fcd517481980b48cae881bc2d8": {
      "model_module": "@jupyter-widgets/controls",
      "model_module_version": "1.5.0",
      "model_name": "FloatProgressModel",
      "state": {
       "bar_style": "success",
       "layout": "IPY_MODEL_f555e031203344daac1660d91b6565c9",
       "max": 270,
       "style": "IPY_MODEL_4c3e1d9687f94078bc986124f56b5de5",
       "value": 270
      }
     },
     "5cdd0a8143e847a2aac9aee1609f826c": {
      "model_module": "@jupyter-widgets/controls",
      "model_module_version": "1.5.0",
      "model_name": "DescriptionStyleModel",
      "state": {
       "description_width": ""
      }
     },
     "5d83d0fe47f340bb80ec6492549020a5": {
      "model_module": "@jupyter-widgets/controls",
      "model_module_version": "1.5.0",
      "model_name": "ProgressStyleModel",
      "state": {
       "description_width": ""
      }
     },
     "5d872832779e469ba2683b5b3fdc649c": {
      "model_module": "@jupyter-widgets/controls",
      "model_module_version": "1.5.0",
      "model_name": "HTMLModel",
      "state": {
       "layout": "IPY_MODEL_4afdc218a73d475098d3c19b7d1580a1",
       "style": "IPY_MODEL_8e10ef0bc4a446418260dd5b5c1933b0",
       "value": "  6%"
      }
     },
     "5dac902b0fe04a148c4ef90a847b9350": {
      "model_module": "@jupyter-widgets/base",
      "model_module_version": "1.2.0",
      "model_name": "LayoutModel",
      "state": {}
     },
     "5dd01105b4d6453fb1eb5d02d79885d7": {
      "model_module": "@jupyter-widgets/controls",
      "model_module_version": "1.5.0",
      "model_name": "DescriptionStyleModel",
      "state": {
       "description_width": ""
      }
     },
     "5e06be02d73f43e3ba39efe6326381e5": {
      "model_module": "@jupyter-widgets/controls",
      "model_module_version": "1.5.0",
      "model_name": "HTMLModel",
      "state": {
       "layout": "IPY_MODEL_0afa373a0cef4a58bbcca6275c362fc4",
       "style": "IPY_MODEL_dcee92b77e124c1489b0f224a7e096da",
       "value": " 0/270 [00:00&lt;?, ?it/s]"
      }
     },
     "5e189f4346e04d23afcdcdd42a4185b4": {
      "model_module": "@jupyter-widgets/base",
      "model_module_version": "1.2.0",
      "model_name": "LayoutModel",
      "state": {}
     },
     "5f21df3b7dc64dc29bee5a7bfbd46f60": {
      "model_module": "@jupyter-widgets/controls",
      "model_module_version": "1.5.0",
      "model_name": "ProgressStyleModel",
      "state": {
       "description_width": ""
      }
     },
     "5f742ceb03ee47b9b949d07028304da2": {
      "model_module": "@jupyter-widgets/controls",
      "model_module_version": "1.5.0",
      "model_name": "ProgressStyleModel",
      "state": {
       "description_width": ""
      }
     },
     "5f879394f3314441ba2787def0240339": {
      "model_module": "@jupyter-widgets/controls",
      "model_module_version": "1.5.0",
      "model_name": "ProgressStyleModel",
      "state": {
       "description_width": ""
      }
     },
     "5f92c541f00240e9bd12d5ea64d1d67d": {
      "model_module": "@jupyter-widgets/base",
      "model_module_version": "1.2.0",
      "model_name": "LayoutModel",
      "state": {}
     },
     "5fb6cd8e131f421fb5ece3bf94aa9bed": {
      "model_module": "@jupyter-widgets/base",
      "model_module_version": "1.2.0",
      "model_name": "LayoutModel",
      "state": {}
     },
     "5fbb415fe6dd4234968a4aecd0a22109": {
      "model_module": "@jupyter-widgets/controls",
      "model_module_version": "1.5.0",
      "model_name": "DescriptionStyleModel",
      "state": {
       "description_width": ""
      }
     },
     "5fffa42877734a9199e2ca4c64313e33": {
      "model_module": "@jupyter-widgets/base",
      "model_module_version": "1.2.0",
      "model_name": "LayoutModel",
      "state": {}
     },
     "60063e0e49894a31902b75d4b4e6c97b": {
      "model_module": "@jupyter-widgets/controls",
      "model_module_version": "1.5.0",
      "model_name": "DescriptionStyleModel",
      "state": {
       "description_width": ""
      }
     },
     "600830afd413468bb21a1b76862ce680": {
      "model_module": "@jupyter-widgets/controls",
      "model_module_version": "1.5.0",
      "model_name": "FloatProgressModel",
      "state": {
       "bar_style": "success",
       "layout": "IPY_MODEL_3b351b4ba91f44c8ab280dad4ec72eec",
       "max": 47,
       "style": "IPY_MODEL_3f924cb52044463cb62e63346499694a",
       "value": 47
      }
     },
     "60643023f8014a56beea6c5c4067a525": {
      "model_module": "@jupyter-widgets/base",
      "model_module_version": "1.2.0",
      "model_name": "LayoutModel",
      "state": {}
     },
     "6075a27528e941fba54b9984b2b95b13": {
      "model_module": "@jupyter-widgets/controls",
      "model_module_version": "1.5.0",
      "model_name": "DescriptionStyleModel",
      "state": {
       "description_width": ""
      }
     },
     "60b4ebc80d8941bb8e6190422c007afe": {
      "model_module": "@jupyter-widgets/controls",
      "model_module_version": "1.5.0",
      "model_name": "ProgressStyleModel",
      "state": {
       "description_width": ""
      }
     },
     "61598f8713cc4f0aaf02a99f04771459": {
      "model_module": "@jupyter-widgets/base",
      "model_module_version": "1.2.0",
      "model_name": "LayoutModel",
      "state": {}
     },
     "615f90e6403c4f80b810101fb292fecb": {
      "model_module": "@jupyter-widgets/base",
      "model_module_version": "1.2.0",
      "model_name": "LayoutModel",
      "state": {}
     },
     "61857278aeab4ffd8db5e1dcf505cad3": {
      "model_module": "@jupyter-widgets/controls",
      "model_module_version": "1.5.0",
      "model_name": "HTMLModel",
      "state": {
       "layout": "IPY_MODEL_f8d58f93669d4281a617691bcaa3d7b0",
       "style": "IPY_MODEL_ff9366692ff644cc844c4c4cab6ec024",
       "value": " 118/118 [00:00&lt;00:00, 824.99it/s]"
      }
     },
     "61e06d0296dd4e2fb931fda58ffb031a": {
      "model_module": "@jupyter-widgets/base",
      "model_module_version": "1.2.0",
      "model_name": "LayoutModel",
      "state": {}
     },
     "620abe8b15864de29e8cef274c29cc0e": {
      "model_module": "@jupyter-widgets/base",
      "model_module_version": "1.2.0",
      "model_name": "LayoutModel",
      "state": {}
     },
     "620add48fb9342f8a96931c00db60eb7": {
      "model_module": "@jupyter-widgets/controls",
      "model_module_version": "1.5.0",
      "model_name": "HTMLModel",
      "state": {
       "layout": "IPY_MODEL_cab5792a9992409883b1396b376a66ab",
       "style": "IPY_MODEL_c1048693c5eb4f1ba0285d7ec71490f6",
       "value": "Assigning labels: 100%"
      }
     },
     "6259e585fba6427183b5cca07518251c": {
      "model_module": "@jupyter-widgets/base",
      "model_module_version": "1.2.0",
      "model_name": "LayoutModel",
      "state": {}
     },
     "6260d30f230448d3a9e834aaa200f913": {
      "model_module": "@jupyter-widgets/controls",
      "model_module_version": "1.5.0",
      "model_name": "HTMLModel",
      "state": {
       "layout": "IPY_MODEL_02be489b0e614b148d29321def9232fe",
       "style": "IPY_MODEL_dac41ff289c14ddaa1b97b5d7daf73a9",
       "value": " 271/? [03:04&lt;00:00,  1.60it/s]"
      }
     },
     "627fd0d46d1b4d11a94b504a6c4eb7e3": {
      "model_module": "@jupyter-widgets/controls",
      "model_module_version": "1.5.0",
      "model_name": "DescriptionStyleModel",
      "state": {
       "description_width": ""
      }
     },
     "628337f6aa794afd85f04a7b76aa615c": {
      "model_module": "@jupyter-widgets/controls",
      "model_module_version": "1.5.0",
      "model_name": "DescriptionStyleModel",
      "state": {
       "description_width": ""
      }
     },
     "635ea9972d5f480e8b9b2238177fccfa": {
      "model_module": "@jupyter-widgets/controls",
      "model_module_version": "1.5.0",
      "model_name": "HBoxModel",
      "state": {
       "children": [
        "IPY_MODEL_33c434bcfba949cda041a94464708b83",
        "IPY_MODEL_05751faa1a7f4dd9a5957e7f56bf6593",
        "IPY_MODEL_fcc164861ee7477899d73b5c91a2bcde"
       ],
       "layout": "IPY_MODEL_d5240f53e8ed45b18a8e3aa6b4a93d78"
      }
     },
     "63604ebae59840d591fcbb71fe6f8b63": {
      "model_module": "@jupyter-widgets/controls",
      "model_module_version": "1.5.0",
      "model_name": "HTMLModel",
      "state": {
       "layout": "IPY_MODEL_29bfd141129e42dcb4fcfec3ca497c78",
       "style": "IPY_MODEL_df2758325895461793120c7fa91711fc",
       "value": "  2%"
      }
     },
     "639a9aa8ceff4930811604c4c2e234fa": {
      "model_module": "@jupyter-widgets/controls",
      "model_module_version": "1.5.0",
      "model_name": "ProgressStyleModel",
      "state": {
       "description_width": ""
      }
     },
     "63a5cf7b8c4c46369ea4fdb9e8918340": {
      "model_module": "@jupyter-widgets/controls",
      "model_module_version": "1.5.0",
      "model_name": "HBoxModel",
      "state": {
       "children": [
        "IPY_MODEL_2ea5103fab0944f5b7e63970b3d9e29f",
        "IPY_MODEL_c2c4bb8afd2d4930b8fdf48ed95c12b6",
        "IPY_MODEL_db92158b793c449880227ba771b1443e"
       ],
       "layout": "IPY_MODEL_f0b848a4274241d1a30f9c41b18a9f02"
      }
     },
     "64422671be694ee0bcb6f83488d3acc8": {
      "model_module": "@jupyter-widgets/controls",
      "model_module_version": "1.5.0",
      "model_name": "HTMLModel",
      "state": {
       "layout": "IPY_MODEL_806b4ba3d40a4a8d8d35f96ba6d5b80d",
       "style": "IPY_MODEL_69cde9b09458401b9c6bd22c979da99e",
       "value": " 40/40 [00:00&lt;00:00, 1210.84it/s]"
      }
     },
     "646c3657de404084af8269e0958dfc19": {
      "model_module": "@jupyter-widgets/base",
      "model_module_version": "1.2.0",
      "model_name": "LayoutModel",
      "state": {}
     },
     "649981185f5e4d5ba456262acaf95265": {
      "model_module": "@jupyter-widgets/base",
      "model_module_version": "1.2.0",
      "model_name": "LayoutModel",
      "state": {}
     },
     "64ac9e53e7d947e290aac642dc9dd3b7": {
      "model_module": "@jupyter-widgets/controls",
      "model_module_version": "1.5.0",
      "model_name": "ProgressStyleModel",
      "state": {
       "description_width": ""
      }
     },
     "652b73dd0a2444f6a545f303cd89c1b2": {
      "model_module": "@jupyter-widgets/controls",
      "model_module_version": "1.5.0",
      "model_name": "HTMLModel",
      "state": {
       "layout": "IPY_MODEL_7b9ab5b91c864bfba7789041b74324d5",
       "style": "IPY_MODEL_ecf6d2e9dbb74825b6e7e02333d6518a",
       "value": " 5/271 [00:03&lt;02:57,  1.50it/s]"
      }
     },
     "6547fb07b4a74efc94cff725d290fc0d": {
      "model_module": "@jupyter-widgets/controls",
      "model_module_version": "1.5.0",
      "model_name": "HBoxModel",
      "state": {
       "children": [
        "IPY_MODEL_002bcf20ac814db4b941a71cae8ea9c7",
        "IPY_MODEL_db078fc000e246f18e0e28569ce56a09",
        "IPY_MODEL_6260d30f230448d3a9e834aaa200f913"
       ],
       "layout": "IPY_MODEL_001fc44b91514584a7af3574415e45ca"
      }
     },
     "654f5a2ca9634595946dbe1e6cad6841": {
      "model_module": "@jupyter-widgets/controls",
      "model_module_version": "1.5.0",
      "model_name": "HTMLModel",
      "state": {
       "layout": "IPY_MODEL_668fda1ec3ed4199931df7c8c259c708",
       "style": "IPY_MODEL_9a842c90fa68459fab55faa83080a2a3",
       "value": " 526/526 [00:06&lt;00:00, 85.65it/s]"
      }
     },
     "6551b677b4f64dc4ab19374cf6c5bd97": {
      "model_module": "@jupyter-widgets/base",
      "model_module_version": "1.2.0",
      "model_name": "LayoutModel",
      "state": {}
     },
     "65593f61da2c4cc0a3101bf2b6a1d960": {
      "model_module": "@jupyter-widgets/base",
      "model_module_version": "1.2.0",
      "model_name": "LayoutModel",
      "state": {}
     },
     "6594b213b413481e955f9a548f3626c1": {
      "model_module": "@jupyter-widgets/base",
      "model_module_version": "1.2.0",
      "model_name": "LayoutModel",
      "state": {}
     },
     "6638991944104f5bb571fa4f75cb8d90": {
      "model_module": "@jupyter-widgets/base",
      "model_module_version": "1.2.0",
      "model_name": "LayoutModel",
      "state": {}
     },
     "66671b8af0dd44f68e5fc47ffd08f910": {
      "model_module": "@jupyter-widgets/controls",
      "model_module_version": "1.5.0",
      "model_name": "FloatProgressModel",
      "state": {
       "bar_style": "success",
       "layout": "IPY_MODEL_33aeeac8a5ca4094a04be0659df33208",
       "max": 113,
       "style": "IPY_MODEL_ceaf9cf1f075402abab5dc8701514bf6",
       "value": 113
      }
     },
     "6675493e674d4b4cb8553a7f95a66a08": {
      "model_module": "@jupyter-widgets/controls",
      "model_module_version": "1.5.0",
      "model_name": "HTMLModel",
      "state": {
       "layout": "IPY_MODEL_fbc56e6ac81449b29ac066ebadd64307",
       "style": "IPY_MODEL_0a2165196bfc4ae3b043daa15135bd53",
       "value": " 271/? [03:03&lt;00:00,  1.87it/s]"
      }
     },
     "668fda1ec3ed4199931df7c8c259c708": {
      "model_module": "@jupyter-widgets/base",
      "model_module_version": "1.2.0",
      "model_name": "LayoutModel",
      "state": {}
     },
     "66bd06ac45594af0a1eca0756a09385f": {
      "model_module": "@jupyter-widgets/controls",
      "model_module_version": "1.5.0",
      "model_name": "ProgressStyleModel",
      "state": {
       "description_width": ""
      }
     },
     "66c81c0f0b1947eea0cdf22b507de9a6": {
      "model_module": "@jupyter-widgets/base",
      "model_module_version": "1.2.0",
      "model_name": "LayoutModel",
      "state": {}
     },
     "671bf34e2bcc4c8aab75c969f05e4587": {
      "model_module": "@jupyter-widgets/base",
      "model_module_version": "1.2.0",
      "model_name": "LayoutModel",
      "state": {}
     },
     "67267de802894f8f8af807b7652b44b5": {
      "model_module": "@jupyter-widgets/controls",
      "model_module_version": "1.5.0",
      "model_name": "DescriptionStyleModel",
      "state": {
       "description_width": ""
      }
     },
     "67541a2cf5d74ade9adc6ef0abe8a777": {
      "model_module": "@jupyter-widgets/controls",
      "model_module_version": "1.5.0",
      "model_name": "HTMLModel",
      "state": {
       "layout": "IPY_MODEL_4175fb1b3add4f1483d95bac1209a76d",
       "style": "IPY_MODEL_02ffb18f3cba4ee6a43151f8deb4567f",
       "value": "Assigning labels: 100%"
      }
     },
     "675aceaf4e884d048bf0dcafcf9c86b3": {
      "model_module": "@jupyter-widgets/base",
      "model_module_version": "1.2.0",
      "model_name": "LayoutModel",
      "state": {}
     },
     "678170d1a9e74f78bd0f74e24fccb1ca": {
      "model_module": "@jupyter-widgets/controls",
      "model_module_version": "1.5.0",
      "model_name": "FloatProgressModel",
      "state": {
       "bar_style": "danger",
       "layout": "IPY_MODEL_0a9e62c490f64231803651710c8a5e11",
       "max": 6919,
       "style": "IPY_MODEL_9d7bfa23c05d46caa9ea8d92bbc2aaf2",
       "value": 1556
      }
     },
     "67c3ae6ebc224d63887e8e2f9a7b9cc7": {
      "model_module": "@jupyter-widgets/controls",
      "model_module_version": "1.5.0",
      "model_name": "HTMLModel",
      "state": {
       "layout": "IPY_MODEL_14415aa1c4844dd1b78ae5987ea8f402",
       "style": "IPY_MODEL_423c10e05c5c4427ac307ab94af8192b",
       "value": " 91/91 [00:00&lt;00:00, 732.69it/s]"
      }
     },
     "67d326d395574586b3ca6ede05b409c7": {
      "model_module": "@jupyter-widgets/base",
      "model_module_version": "1.2.0",
      "model_name": "LayoutModel",
      "state": {}
     },
     "68925495646e41b78d6ecf94a736fdad": {
      "model_module": "@jupyter-widgets/controls",
      "model_module_version": "1.5.0",
      "model_name": "FloatProgressModel",
      "state": {
       "bar_style": "success",
       "layout": "IPY_MODEL_91632f117095464b8d43070bf955dbcf",
       "max": 34,
       "style": "IPY_MODEL_f842ba65037d489296c5cf93aecde203",
       "value": 34
      }
     },
     "68a991a219f94a97a72d1508e050c6a3": {
      "model_module": "@jupyter-widgets/base",
      "model_module_version": "1.2.0",
      "model_name": "LayoutModel",
      "state": {}
     },
     "68c9de65fe45419a9ab5a8313ed8ca73": {
      "model_module": "@jupyter-widgets/controls",
      "model_module_version": "1.5.0",
      "model_name": "HTMLModel",
      "state": {
       "layout": "IPY_MODEL_9e6bc7d5551445d5a44bc20bfd0aaf8e",
       "style": "IPY_MODEL_b7788d1217df4cbd8c05b01bb22df674",
       "value": "Assigning labels: 100%"
      }
     },
     "68f5637d30134ae889c64b1b3e0fb1d1": {
      "model_module": "@jupyter-widgets/base",
      "model_module_version": "1.2.0",
      "model_name": "LayoutModel",
      "state": {}
     },
     "6952b0b2ef49430381ebf9fa797d4aae": {
      "model_module": "@jupyter-widgets/controls",
      "model_module_version": "1.5.0",
      "model_name": "HBoxModel",
      "state": {
       "children": [
        "IPY_MODEL_b22a731bd0e549819d44fa679810a777",
        "IPY_MODEL_6f7f255b2d2d439da0c0f53bb6b560be",
        "IPY_MODEL_86c9f85f1cc64cabac5f5557a6d58fc3"
       ],
       "layout": "IPY_MODEL_3209ca436eb94364afdc935fb59c9ed0"
      }
     },
     "695eb9afccb549b8817fd9630909b988": {
      "model_module": "@jupyter-widgets/controls",
      "model_module_version": "1.5.0",
      "model_name": "DescriptionStyleModel",
      "state": {
       "description_width": ""
      }
     },
     "69c4a7ee4e084ff79b02e0039dabf69d": {
      "model_module": "@jupyter-widgets/controls",
      "model_module_version": "1.5.0",
      "model_name": "HBoxModel",
      "state": {
       "children": [
        "IPY_MODEL_e049daba57164a4382a0ef7027f5ada0",
        "IPY_MODEL_e5afc5f2d2b24f85b3db6f2d4f007abd",
        "IPY_MODEL_5e06be02d73f43e3ba39efe6326381e5"
       ],
       "layout": "IPY_MODEL_de4572c849054199aa55856c4e390140"
      }
     },
     "69cde9b09458401b9c6bd22c979da99e": {
      "model_module": "@jupyter-widgets/controls",
      "model_module_version": "1.5.0",
      "model_name": "DescriptionStyleModel",
      "state": {
       "description_width": ""
      }
     },
     "69f437a221f64da98c633ed814778cfe": {
      "model_module": "@jupyter-widgets/controls",
      "model_module_version": "1.5.0",
      "model_name": "HBoxModel",
      "state": {
       "children": [
        "IPY_MODEL_1bd1fe58ce1942b6a3e6e360130014b2",
        "IPY_MODEL_8935250d25904679a9bd09478cc820bd",
        "IPY_MODEL_dcab6c47f81240ff82a1d15f4a5f5848"
       ],
       "layout": "IPY_MODEL_deee0067cdc64ccab8af768216105455"
      }
     },
     "6a34df89644a46f5b29531cb9f2ca926": {
      "model_module": "@jupyter-widgets/base",
      "model_module_version": "1.2.0",
      "model_name": "LayoutModel",
      "state": {}
     },
     "6a53b19ee580489aa29a312c9cf892e2": {
      "model_module": "@jupyter-widgets/base",
      "model_module_version": "1.2.0",
      "model_name": "LayoutModel",
      "state": {}
     },
     "6aed45456db449378688aa5d9b2535dc": {
      "model_module": "@jupyter-widgets/base",
      "model_module_version": "1.2.0",
      "model_name": "LayoutModel",
      "state": {}
     },
     "6b4a5965f2fb406aa1eb873fea8c0532": {
      "model_module": "@jupyter-widgets/base",
      "model_module_version": "1.2.0",
      "model_name": "LayoutModel",
      "state": {}
     },
     "6b9e7d143a9f45cb888ad7d263528e0b": {
      "model_module": "@jupyter-widgets/controls",
      "model_module_version": "1.5.0",
      "model_name": "HBoxModel",
      "state": {
       "children": [
        "IPY_MODEL_411c47a501e849eb86f8404be759df50",
        "IPY_MODEL_9510775cd74f4d6abcea472077526e94",
        "IPY_MODEL_1db79219050c4268b3b5c7f9dd26a497"
       ],
       "layout": "IPY_MODEL_ede6a015511a4275a6e4fcd99d9e6ac3"
      }
     },
     "6bc9d3767c1e4b2bbbc4e32e66a95036": {
      "model_module": "@jupyter-widgets/controls",
      "model_module_version": "1.5.0",
      "model_name": "HTMLModel",
      "state": {
       "layout": "IPY_MODEL_7f8bf50744054b01bc02028d28f4e456",
       "style": "IPY_MODEL_192b21842f204233976b993ea0fdb1d7",
       "value": "Assigning labels: 100%"
      }
     },
     "6be40863830e4ba8b7f8e15e3fb607b3": {
      "model_module": "@jupyter-widgets/controls",
      "model_module_version": "1.5.0",
      "model_name": "DescriptionStyleModel",
      "state": {
       "description_width": ""
      }
     },
     "6be51bb2d3604df38dff7aa3e5d4f1b3": {
      "model_module": "@jupyter-widgets/base",
      "model_module_version": "1.2.0",
      "model_name": "LayoutModel",
      "state": {}
     },
     "6bf95ea57f764f0a92bcbef9f351134c": {
      "model_module": "@jupyter-widgets/controls",
      "model_module_version": "1.5.0",
      "model_name": "HBoxModel",
      "state": {
       "children": [
        "IPY_MODEL_ff64e70845494f67aa1a12d77bbcb0ec",
        "IPY_MODEL_97e2f710a934473fb831d9618c866422",
        "IPY_MODEL_64422671be694ee0bcb6f83488d3acc8"
       ],
       "layout": "IPY_MODEL_98ecee2a5ef2468ebc3b10805866637a"
      }
     },
     "6c112d6e7c3444d9999e501d8e1c0fb1": {
      "model_module": "@jupyter-widgets/controls",
      "model_module_version": "1.5.0",
      "model_name": "FloatProgressModel",
      "state": {
       "bar_style": "danger",
       "layout": "IPY_MODEL_413e09e8164b41369a440dee6f7ec672",
       "max": 270,
       "style": "IPY_MODEL_e9dfea8c5eeb4c85b26af5e2e4ecbb0d"
      }
     },
     "6c2fd93309e24340980a2ebca880fd7d": {
      "model_module": "@jupyter-widgets/controls",
      "model_module_version": "1.5.0",
      "model_name": "DescriptionStyleModel",
      "state": {
       "description_width": ""
      }
     },
     "6ca9c5ff1c454e6180415a3f6e72350f": {
      "model_module": "@jupyter-widgets/base",
      "model_module_version": "1.2.0",
      "model_name": "LayoutModel",
      "state": {}
     },
     "6caa5d626dea45d1bdcff99af353eacf": {
      "model_module": "@jupyter-widgets/controls",
      "model_module_version": "1.5.0",
      "model_name": "DescriptionStyleModel",
      "state": {
       "description_width": ""
      }
     },
     "6ced4b514a884cfb9587007b7124423e": {
      "model_module": "@jupyter-widgets/base",
      "model_module_version": "1.2.0",
      "model_name": "LayoutModel",
      "state": {}
     },
     "6d28c0aa738f433f9c1c9897efa2513c": {
      "model_module": "@jupyter-widgets/controls",
      "model_module_version": "1.5.0",
      "model_name": "FloatProgressModel",
      "state": {
       "bar_style": "success",
       "layout": "IPY_MODEL_52f0a9f41aba41f1b966223dc6deaaed",
       "max": 58,
       "style": "IPY_MODEL_575bebacf14f4eaeb9d8c14bb3700259",
       "value": 58
      }
     },
     "6d331459338d4562ac844c7681c7f3e9": {
      "model_module": "@jupyter-widgets/controls",
      "model_module_version": "1.5.0",
      "model_name": "FloatProgressModel",
      "state": {
       "bar_style": "success",
       "layout": "IPY_MODEL_26619fe2ccc2437f9ae00f7b44e10f04",
       "max": 270,
       "style": "IPY_MODEL_9aff2ca0ba8a46feb522732c90fd3901",
       "value": 270
      }
     },
     "6d63ab8ef2844ae99b1ac72ae8aea672": {
      "model_module": "@jupyter-widgets/base",
      "model_module_version": "1.2.0",
      "model_name": "LayoutModel",
      "state": {}
     },
     "6da510b14bd84225922fd2f534415f65": {
      "model_module": "@jupyter-widgets/controls",
      "model_module_version": "1.5.0",
      "model_name": "HBoxModel",
      "state": {
       "children": [
        "IPY_MODEL_255326d9ff3f43048ce41500c5f8c011",
        "IPY_MODEL_3619e6eab6214b84af9c2968ab9b9bed",
        "IPY_MODEL_17f665a64bb84bf29a56b0b459a381d3"
       ],
       "layout": "IPY_MODEL_167f45ba5ef44102a92f34074b4c517f"
      }
     },
     "6dce7652e8f04e58b442e65ae91f0a68": {
      "model_module": "@jupyter-widgets/base",
      "model_module_version": "1.2.0",
      "model_name": "LayoutModel",
      "state": {}
     },
     "6dd2d32a449e4f558c470f9b3d1bc1ba": {
      "model_module": "@jupyter-widgets/base",
      "model_module_version": "1.2.0",
      "model_name": "LayoutModel",
      "state": {}
     },
     "6dd78bdd27144a378d383cddbbe8028f": {
      "model_module": "@jupyter-widgets/controls",
      "model_module_version": "1.5.0",
      "model_name": "ProgressStyleModel",
      "state": {
       "description_width": ""
      }
     },
     "6e0a0fe8598c4285bab99920660345ea": {
      "model_module": "@jupyter-widgets/controls",
      "model_module_version": "1.5.0",
      "model_name": "DescriptionStyleModel",
      "state": {
       "description_width": ""
      }
     },
     "6e13d86f5cee4c8680466a2bc1061260": {
      "model_module": "@jupyter-widgets/base",
      "model_module_version": "1.2.0",
      "model_name": "LayoutModel",
      "state": {}
     },
     "6f24571a600046e997b88f2093efec94": {
      "model_module": "@jupyter-widgets/controls",
      "model_module_version": "1.5.0",
      "model_name": "HTMLModel",
      "state": {
       "layout": "IPY_MODEL_f16268e769b34f3ba80b6cca98d2dbf0",
       "style": "IPY_MODEL_42527023aad847a5b5088098166e7fdf",
       "value": "Assigning labels: 100%"
      }
     },
     "6f7f255b2d2d439da0c0f53bb6b560be": {
      "model_module": "@jupyter-widgets/controls",
      "model_module_version": "1.5.0",
      "model_name": "FloatProgressModel",
      "state": {
       "bar_style": "success",
       "layout": "IPY_MODEL_d945cf53d55b42c0bb2073dd4e01b393",
       "max": 270,
       "style": "IPY_MODEL_639a9aa8ceff4930811604c4c2e234fa",
       "value": 270
      }
     },
     "6ff01db3f7d54e248387633db1b6ffdb": {
      "model_module": "@jupyter-widgets/controls",
      "model_module_version": "1.5.0",
      "model_name": "DescriptionStyleModel",
      "state": {
       "description_width": ""
      }
     },
     "6ff24d47433d4e78a32d6eb26b752eb8": {
      "model_module": "@jupyter-widgets/base",
      "model_module_version": "1.2.0",
      "model_name": "LayoutModel",
      "state": {}
     },
     "700266d40a6947bfb126413d45fd130a": {
      "model_module": "@jupyter-widgets/base",
      "model_module_version": "1.2.0",
      "model_name": "LayoutModel",
      "state": {}
     },
     "701d7819e99d49c78a8dfa5dad39d7e7": {
      "model_module": "@jupyter-widgets/controls",
      "model_module_version": "1.5.0",
      "model_name": "DescriptionStyleModel",
      "state": {
       "description_width": ""
      }
     },
     "70eb6d844a2d43259db850086787e26c": {
      "model_module": "@jupyter-widgets/controls",
      "model_module_version": "1.5.0",
      "model_name": "DescriptionStyleModel",
      "state": {
       "description_width": ""
      }
     },
     "71184b23cb2e4c06be6565f10de4c829": {
      "model_module": "@jupyter-widgets/controls",
      "model_module_version": "1.5.0",
      "model_name": "ProgressStyleModel",
      "state": {
       "description_width": ""
      }
     },
     "711f38ffc982414690acd4814f09f9e4": {
      "model_module": "@jupyter-widgets/base",
      "model_module_version": "1.2.0",
      "model_name": "LayoutModel",
      "state": {}
     },
     "7242924e111446e2a1a42f3975bd7458": {
      "model_module": "@jupyter-widgets/base",
      "model_module_version": "1.2.0",
      "model_name": "LayoutModel",
      "state": {}
     },
     "725f8e50c0114714bb2060a10b4b029c": {
      "model_module": "@jupyter-widgets/controls",
      "model_module_version": "1.5.0",
      "model_name": "DescriptionStyleModel",
      "state": {
       "description_width": ""
      }
     },
     "7282386caec241618801e492cc3f0799": {
      "model_module": "@jupyter-widgets/controls",
      "model_module_version": "1.5.0",
      "model_name": "HTMLModel",
      "state": {
       "layout": "IPY_MODEL_98a285b7e641416da014be97c1beb2c0",
       "style": "IPY_MODEL_7ae8bd483546452696252d61262e572e",
       "value": "Assigning labels: 100%"
      }
     },
     "728795fe8633407386df6a14714af1e5": {
      "model_module": "@jupyter-widgets/base",
      "model_module_version": "1.2.0",
      "model_name": "LayoutModel",
      "state": {}
     },
     "72b87baf0a804e179f61f7d05e31a34f": {
      "model_module": "@jupyter-widgets/base",
      "model_module_version": "1.2.0",
      "model_name": "LayoutModel",
      "state": {}
     },
     "72e326f7fd0d4c1bafd7d112efacd152": {
      "model_module": "@jupyter-widgets/base",
      "model_module_version": "1.2.0",
      "model_name": "LayoutModel",
      "state": {}
     },
     "73745dc8cb1a4fe580037c01c859824b": {
      "model_module": "@jupyter-widgets/controls",
      "model_module_version": "1.5.0",
      "model_name": "HTMLModel",
      "state": {
       "layout": "IPY_MODEL_c91d0d420789407498db6500d3c55a15",
       "style": "IPY_MODEL_da4292ddad434d5d9e5ededdd1323375",
       "value": "Assigning labels: 100%"
      }
     },
     "739681a528474fd7bc5201416b6d2cc6": {
      "model_module": "@jupyter-widgets/controls",
      "model_module_version": "1.5.0",
      "model_name": "HTMLModel",
      "state": {
       "layout": "IPY_MODEL_1f306f202bd545d489857fc572fcbe23",
       "style": "IPY_MODEL_701d7819e99d49c78a8dfa5dad39d7e7",
       "value": "Assigning labels: 100%"
      }
     },
     "73d54e964cd5493c901af39b90bff90c": {
      "model_module": "@jupyter-widgets/controls",
      "model_module_version": "1.5.0",
      "model_name": "FloatProgressModel",
      "state": {
       "bar_style": "success",
       "layout": "IPY_MODEL_76f07ec930fb43e8b934fe6fe29827dd",
       "max": 50,
       "style": "IPY_MODEL_80e71cf276454d68bb72e8ceacb5b458",
       "value": 50
      }
     },
     "73f5e9c511114bb68f707aecf187354a": {
      "model_module": "@jupyter-widgets/base",
      "model_module_version": "1.2.0",
      "model_name": "LayoutModel",
      "state": {}
     },
     "74830ff4d2534f24a45b338715aa3185": {
      "model_module": "@jupyter-widgets/base",
      "model_module_version": "1.2.0",
      "model_name": "LayoutModel",
      "state": {}
     },
     "7495c049e3134efbb71df6537a7d60e0": {
      "model_module": "@jupyter-widgets/controls",
      "model_module_version": "1.5.0",
      "model_name": "DescriptionStyleModel",
      "state": {
       "description_width": ""
      }
     },
     "74f499737eaa4accb5257c85cc3c0440": {
      "model_module": "@jupyter-widgets/base",
      "model_module_version": "1.2.0",
      "model_name": "LayoutModel",
      "state": {}
     },
     "750ca772f6a249fdb4f8034a29fa4650": {
      "model_module": "@jupyter-widgets/controls",
      "model_module_version": "1.5.0",
      "model_name": "HBoxModel",
      "state": {
       "children": [
        "IPY_MODEL_30ea68b472e44018924a36c8776dd152",
        "IPY_MODEL_6c112d6e7c3444d9999e501d8e1c0fb1",
        "IPY_MODEL_26612f8960c54442a2505fe0fc752e28"
       ],
       "layout": "IPY_MODEL_6ced4b514a884cfb9587007b7124423e"
      }
     },
     "753fcb6bde7f4f78a5265262c44fda01": {
      "model_module": "@jupyter-widgets/controls",
      "model_module_version": "1.5.0",
      "model_name": "HBoxModel",
      "state": {
       "children": [
        "IPY_MODEL_3e8e3af527384f09aaa33911b11bf70a",
        "IPY_MODEL_30b3707f14474fd7922700ca4b4aa1f5",
        "IPY_MODEL_b573aa1fb9e04023bb37c78fe53ac54a"
       ],
       "layout": "IPY_MODEL_46a97f3ec2c34868a197e2fb6be1a4fa"
      }
     },
     "75527b4df7fc4f4a88d4c66a6b16506d": {
      "model_module": "@jupyter-widgets/controls",
      "model_module_version": "1.5.0",
      "model_name": "DescriptionStyleModel",
      "state": {
       "description_width": ""
      }
     },
     "75675d258469417aa485f07b3b867f61": {
      "model_module": "@jupyter-widgets/controls",
      "model_module_version": "1.5.0",
      "model_name": "DescriptionStyleModel",
      "state": {
       "description_width": ""
      }
     },
     "7571d47ebfb042aeae15c46286e6132c": {
      "model_module": "@jupyter-widgets/controls",
      "model_module_version": "1.5.0",
      "model_name": "HTMLModel",
      "state": {
       "layout": "IPY_MODEL_7ef785e94c08406c82349eb7968b392c",
       "style": "IPY_MODEL_07588ae35ad74235bb2df7fdf5214fa8",
       "value": " 526/526 [00:06&lt;00:00, 85.14it/s]"
      }
     },
     "75a5001895fc4aec904a514fef49dd2c": {
      "model_module": "@jupyter-widgets/controls",
      "model_module_version": "1.5.0",
      "model_name": "FloatProgressModel",
      "state": {
       "bar_style": "success",
       "layout": "IPY_MODEL_a19745aacd7d41e9b2ccda2562d2304c",
       "max": 61,
       "style": "IPY_MODEL_07f7c64a24f24475bd6bc8f5163831cb",
       "value": 61
      }
     },
     "75b5dfe850f94153b86da71c6242a1e3": {
      "model_module": "@jupyter-widgets/controls",
      "model_module_version": "1.5.0",
      "model_name": "HBoxModel",
      "state": {
       "children": [
        "IPY_MODEL_4267f8decd9541bf806c432df8cf6db2",
        "IPY_MODEL_4bb99028b49f4b1c87a19d59582e3b6c",
        "IPY_MODEL_13715403a9064b5786128bdf267729f1"
       ],
       "layout": "IPY_MODEL_10a84ee23abf41f894796d5ac65fa477"
      }
     },
     "75d85d82781f46ee847425cf15e43528": {
      "model_module": "@jupyter-widgets/base",
      "model_module_version": "1.2.0",
      "model_name": "LayoutModel",
      "state": {}
     },
     "76259b2ae92a4874b002f22fb67c5adc": {
      "model_module": "@jupyter-widgets/controls",
      "model_module_version": "1.5.0",
      "model_name": "DescriptionStyleModel",
      "state": {
       "description_width": ""
      }
     },
     "763b347f63074cc4a1102babe5f0ef85": {
      "model_module": "@jupyter-widgets/controls",
      "model_module_version": "1.5.0",
      "model_name": "DescriptionStyleModel",
      "state": {
       "description_width": ""
      }
     },
     "763cc3f2d69940b2a4e3b84ae8072e06": {
      "model_module": "@jupyter-widgets/controls",
      "model_module_version": "1.5.0",
      "model_name": "HTMLModel",
      "state": {
       "layout": "IPY_MODEL_ebe97c55874b47d1a5e584783695d0c0",
       "style": "IPY_MODEL_d2bf7a5aff7d49138849cb02e13b71d5",
       "value": " 271/? [03:00&lt;00:00,  1.93it/s]"
      }
     },
     "7686f224229c4aafa3bafc621bec934a": {
      "model_module": "@jupyter-widgets/controls",
      "model_module_version": "1.5.0",
      "model_name": "ProgressStyleModel",
      "state": {
       "description_width": ""
      }
     },
     "76ae2ee48995406da0cc7d92ab7310a4": {
      "model_module": "@jupyter-widgets/controls",
      "model_module_version": "1.5.0",
      "model_name": "HBoxModel",
      "state": {
       "children": [
        "IPY_MODEL_7f5ee4b8ae7e4fafabb638487fbfdd70",
        "IPY_MODEL_dc51014ad8114634b772cf34265cbfe7",
        "IPY_MODEL_2b3d26f6a87b4fdb9376dcaea6f3edbb"
       ],
       "layout": "IPY_MODEL_41a928b2be914ac08395dfebeb3712b1"
      }
     },
     "76c4c80fd3b54f129dbdd141799363c1": {
      "model_module": "@jupyter-widgets/controls",
      "model_module_version": "1.5.0",
      "model_name": "FloatProgressModel",
      "state": {
       "bar_style": "success",
       "layout": "IPY_MODEL_33a95c6003cb448c85986896265901c1",
       "max": 526,
       "style": "IPY_MODEL_86b431d41c554a1dbe5492f860c2bf45",
       "value": 526
      }
     },
     "76c6193741bd4ae1bb1b05710a7699c5": {
      "model_module": "@jupyter-widgets/base",
      "model_module_version": "1.2.0",
      "model_name": "LayoutModel",
      "state": {}
     },
     "76e4c36132cc431297603d9954b4d52e": {
      "model_module": "@jupyter-widgets/base",
      "model_module_version": "1.2.0",
      "model_name": "LayoutModel",
      "state": {}
     },
     "76f07ec930fb43e8b934fe6fe29827dd": {
      "model_module": "@jupyter-widgets/base",
      "model_module_version": "1.2.0",
      "model_name": "LayoutModel",
      "state": {}
     },
     "76f2221b617b42c08207794304d1e030": {
      "model_module": "@jupyter-widgets/base",
      "model_module_version": "1.2.0",
      "model_name": "LayoutModel",
      "state": {}
     },
     "770309ee103f4b6583c7f214727ac1ca": {
      "model_module": "@jupyter-widgets/controls",
      "model_module_version": "1.5.0",
      "model_name": "HTMLModel",
      "state": {
       "layout": "IPY_MODEL_583e0d883ea44163a3556f47a072aeec",
       "style": "IPY_MODEL_0fe4798bad0e48e098f380c14f0fb5b3",
       "value": " 46/46 [00:00&lt;00:00, 1314.38it/s]"
      }
     },
     "773ac2604e74412ca9b35deecd932273": {
      "model_module": "@jupyter-widgets/controls",
      "model_module_version": "1.5.0",
      "model_name": "DescriptionStyleModel",
      "state": {
       "description_width": ""
      }
     },
     "773bb2cfb4fe46d591d542994e1bf372": {
      "model_module": "@jupyter-widgets/base",
      "model_module_version": "1.2.0",
      "model_name": "LayoutModel",
      "state": {}
     },
     "774f25604b534db7a89f5a39fae8498b": {
      "model_module": "@jupyter-widgets/base",
      "model_module_version": "1.2.0",
      "model_name": "LayoutModel",
      "state": {}
     },
     "775307149d344963b97c227e2f9d36a0": {
      "model_module": "@jupyter-widgets/controls",
      "model_module_version": "1.5.0",
      "model_name": "ProgressStyleModel",
      "state": {
       "description_width": ""
      }
     },
     "77a12951536e4f2db21f177500d1886c": {
      "model_module": "@jupyter-widgets/controls",
      "model_module_version": "1.5.0",
      "model_name": "HTMLModel",
      "state": {
       "layout": "IPY_MODEL_9b156e26818244a1a40c5cf54c598eed",
       "style": "IPY_MODEL_f204fb23379d404583f2fb95bace09e8",
       "value": " 47/47 [00:00&lt;00:00, 1305.72it/s]"
      }
     },
     "77c1af97f9ff4f5298c4827d44af8264": {
      "model_module": "@jupyter-widgets/base",
      "model_module_version": "1.2.0",
      "model_name": "LayoutModel",
      "state": {}
     },
     "77f8b457bffd40d287d0e59c99e122cf": {
      "model_module": "@jupyter-widgets/controls",
      "model_module_version": "1.5.0",
      "model_name": "HTMLModel",
      "state": {
       "layout": "IPY_MODEL_a49d63717528498abd309727208a83c0",
       "style": "IPY_MODEL_a75f3c7822ac450eafadf357cebeb428",
       "value": " 118/118 [00:00&lt;00:00, 762.38it/s]"
      }
     },
     "77fcf510f25746ca9573af0ef3d384af": {
      "model_module": "@jupyter-widgets/base",
      "model_module_version": "1.2.0",
      "model_name": "LayoutModel",
      "state": {}
     },
     "78a6802fefdc4fdd83c96708e55be2f9": {
      "model_module": "@jupyter-widgets/base",
      "model_module_version": "1.2.0",
      "model_name": "LayoutModel",
      "state": {}
     },
     "78c6418e68ae4c4ea15d8b34fb0892c4": {
      "model_module": "@jupyter-widgets/controls",
      "model_module_version": "1.5.0",
      "model_name": "DescriptionStyleModel",
      "state": {
       "description_width": ""
      }
     },
     "791535c9402b4e91b99e7e07e5a99ef3": {
      "model_module": "@jupyter-widgets/controls",
      "model_module_version": "1.5.0",
      "model_name": "DescriptionStyleModel",
      "state": {
       "description_width": ""
      }
     },
     "793bebb1486e4bcd8484ed02c368f158": {
      "model_module": "@jupyter-widgets/controls",
      "model_module_version": "1.5.0",
      "model_name": "DescriptionStyleModel",
      "state": {
       "description_width": ""
      }
     },
     "795d681b91ce4be2887936909a21765d": {
      "model_module": "@jupyter-widgets/controls",
      "model_module_version": "1.5.0",
      "model_name": "HTMLModel",
      "state": {
       "layout": "IPY_MODEL_4b3b2d0d92f94a4896ff12ed0840a2b3",
       "style": "IPY_MODEL_f1718ac10ddc4dae9ea73f096f04c411",
       "value": "Epoch: 0, 59.24936, 0.1788: "
      }
     },
     "7970781747c740a1a8879198694e9dd0": {
      "model_module": "@jupyter-widgets/controls",
      "model_module_version": "1.5.0",
      "model_name": "HTMLModel",
      "state": {
       "layout": "IPY_MODEL_5278c5ba4f984e48aa1bead52911a84c",
       "style": "IPY_MODEL_f1dcae1a04d840be9b0551abcbe38a86",
       "value": "Assigning labels: 100%"
      }
     },
     "7995262a2d3e4fe0a169be7d45f6f8ec": {
      "model_module": "@jupyter-widgets/controls",
      "model_module_version": "1.5.0",
      "model_name": "ProgressStyleModel",
      "state": {
       "description_width": ""
      }
     },
     "799edf976c4f4e11a60e958b1cad0b55": {
      "model_module": "@jupyter-widgets/base",
      "model_module_version": "1.2.0",
      "model_name": "LayoutModel",
      "state": {}
     },
     "7a0a4d0985ea4bf68a69a7e721ca0286": {
      "model_module": "@jupyter-widgets/base",
      "model_module_version": "1.2.0",
      "model_name": "LayoutModel",
      "state": {}
     },
     "7a164d4654354ff4a345dd315772d3b6": {
      "model_module": "@jupyter-widgets/controls",
      "model_module_version": "1.5.0",
      "model_name": "HTMLModel",
      "state": {
       "layout": "IPY_MODEL_3d1676eb61e64d4abf9360b999ae9b5e",
       "style": "IPY_MODEL_60063e0e49894a31902b75d4b4e6c97b",
       "value": "  0%"
      }
     },
     "7a1ceec4a9cb4027aa90648c0536a785": {
      "model_module": "@jupyter-widgets/base",
      "model_module_version": "1.2.0",
      "model_name": "LayoutModel",
      "state": {}
     },
     "7a3cd4ba606e4bcc8fbd14e8833f1b05": {
      "model_module": "@jupyter-widgets/base",
      "model_module_version": "1.2.0",
      "model_name": "LayoutModel",
      "state": {}
     },
     "7a8e83e4d43144d8955431509a925e9f": {
      "model_module": "@jupyter-widgets/base",
      "model_module_version": "1.2.0",
      "model_name": "LayoutModel",
      "state": {}
     },
     "7aba7f4fd1c84fc8ade215f438c10b8b": {
      "model_module": "@jupyter-widgets/base",
      "model_module_version": "1.2.0",
      "model_name": "LayoutModel",
      "state": {}
     },
     "7ac253f9829a4b6285918b690d67c833": {
      "model_module": "@jupyter-widgets/controls",
      "model_module_version": "1.5.0",
      "model_name": "HBoxModel",
      "state": {
       "children": [
        "IPY_MODEL_c7133fe47acd4dd193109b52f176fe96",
        "IPY_MODEL_d131cd9e36b947eb9059947314b578c7",
        "IPY_MODEL_d107f7de337842e497321004a268daf5"
       ],
       "layout": "IPY_MODEL_6dd2d32a449e4f558c470f9b3d1bc1ba"
      }
     },
     "7adda80cd39f4703856d7d5deb20cee0": {
      "model_module": "@jupyter-widgets/controls",
      "model_module_version": "1.5.0",
      "model_name": "ProgressStyleModel",
      "state": {
       "description_width": ""
      }
     },
     "7ae8bd483546452696252d61262e572e": {
      "model_module": "@jupyter-widgets/controls",
      "model_module_version": "1.5.0",
      "model_name": "DescriptionStyleModel",
      "state": {
       "description_width": ""
      }
     },
     "7b0f8cb302ce4c19826fa829958b14cb": {
      "model_module": "@jupyter-widgets/base",
      "model_module_version": "1.2.0",
      "model_name": "LayoutModel",
      "state": {}
     },
     "7b3840858ae2496a98d2720285754a53": {
      "model_module": "@jupyter-widgets/controls",
      "model_module_version": "1.5.0",
      "model_name": "ProgressStyleModel",
      "state": {
       "description_width": ""
      }
     },
     "7b93f5a01b27474db376d98fa285d478": {
      "model_module": "@jupyter-widgets/base",
      "model_module_version": "1.2.0",
      "model_name": "LayoutModel",
      "state": {}
     },
     "7b9ab5b91c864bfba7789041b74324d5": {
      "model_module": "@jupyter-widgets/base",
      "model_module_version": "1.2.0",
      "model_name": "LayoutModel",
      "state": {}
     },
     "7bf3f274e5794ebeba669d230cd27da9": {
      "model_module": "@jupyter-widgets/base",
      "model_module_version": "1.2.0",
      "model_name": "LayoutModel",
      "state": {}
     },
     "7c59655d5db547cab86af463681f77b4": {
      "model_module": "@jupyter-widgets/controls",
      "model_module_version": "1.5.0",
      "model_name": "FloatProgressModel",
      "state": {
       "bar_style": "success",
       "layout": "IPY_MODEL_1f9436f0e7c945fb87da5edfb5d8f432",
       "max": 23,
       "style": "IPY_MODEL_48f9b7aaa6de46fabcb05e762e771135",
       "value": 23
      }
     },
     "7c6454868a43447ca106e60da8a1d108": {
      "model_module": "@jupyter-widgets/controls",
      "model_module_version": "1.5.0",
      "model_name": "HBoxModel",
      "state": {
       "children": [
        "IPY_MODEL_4f166f3b8f084129a16a75f86d274dc1",
        "IPY_MODEL_394031fb7a75477fae3c2c079c8977c2",
        "IPY_MODEL_1ba357451e5243d2bf5a47576e174c3a"
       ],
       "layout": "IPY_MODEL_6b4a5965f2fb406aa1eb873fea8c0532"
      }
     },
     "7c64ab2a203a4e62b9e764f38f087c27": {
      "model_module": "@jupyter-widgets/controls",
      "model_module_version": "1.5.0",
      "model_name": "FloatProgressModel",
      "state": {
       "bar_style": "success",
       "layout": "IPY_MODEL_9f83e5d87ddd42b5b374359400525757",
       "max": 61,
       "style": "IPY_MODEL_fc8790c7b91049bb912e2377e7fe5fec",
       "value": 61
      }
     },
     "7d86f8fde0ff4eceaa0ca46de9783d87": {
      "model_module": "@jupyter-widgets/controls",
      "model_module_version": "1.5.0",
      "model_name": "HBoxModel",
      "state": {
       "children": [
        "IPY_MODEL_7fff456d7a644099bd265139b5c7af91",
        "IPY_MODEL_5be9f1fcd517481980b48cae881bc2d8",
        "IPY_MODEL_af2f1a7ba36a44588ed818beecff3fe7"
       ],
       "layout": "IPY_MODEL_18faf45822d0493f8624d1417c0b6f96"
      }
     },
     "7db137cda76a49619f44bddb6058c783": {
      "model_module": "@jupyter-widgets/controls",
      "model_module_version": "1.5.0",
      "model_name": "DescriptionStyleModel",
      "state": {
       "description_width": ""
      }
     },
     "7e143601fa8946959fc175bcee82ee98": {
      "model_module": "@jupyter-widgets/controls",
      "model_module_version": "1.5.0",
      "model_name": "DescriptionStyleModel",
      "state": {
       "description_width": ""
      }
     },
     "7e28cd3e148b43c7a4f49030d6304ffd": {
      "model_module": "@jupyter-widgets/controls",
      "model_module_version": "1.5.0",
      "model_name": "HTMLModel",
      "state": {
       "layout": "IPY_MODEL_c092d493dcbd47f8855cd5e72489394e",
       "style": "IPY_MODEL_07542c3726bc46baa3afc37fc94691c1",
       "value": " 46/46 [00:00&lt;00:00,  4.36it/s]"
      }
     },
     "7e46d0f8a6a44d65976390fd070ac805": {
      "model_module": "@jupyter-widgets/controls",
      "model_module_version": "1.5.0",
      "model_name": "DescriptionStyleModel",
      "state": {
       "description_width": ""
      }
     },
     "7e727f5cd51d44dbba0c4312c2d0519a": {
      "model_module": "@jupyter-widgets/controls",
      "model_module_version": "1.5.0",
      "model_name": "ProgressStyleModel",
      "state": {
       "description_width": ""
      }
     },
     "7ecfe52092614d72a69706e78af06d98": {
      "model_module": "@jupyter-widgets/controls",
      "model_module_version": "1.5.0",
      "model_name": "DescriptionStyleModel",
      "state": {
       "description_width": ""
      }
     },
     "7ef0da634e9942fca24365ac75a85a6d": {
      "model_module": "@jupyter-widgets/base",
      "model_module_version": "1.2.0",
      "model_name": "LayoutModel",
      "state": {}
     },
     "7ef785e94c08406c82349eb7968b392c": {
      "model_module": "@jupyter-widgets/base",
      "model_module_version": "1.2.0",
      "model_name": "LayoutModel",
      "state": {}
     },
     "7f1336a7e4dc4a59bcdd9602d65cd54f": {
      "model_module": "@jupyter-widgets/base",
      "model_module_version": "1.2.0",
      "model_name": "LayoutModel",
      "state": {}
     },
     "7f268bf4e9bb48009d81b711f6a04be6": {
      "model_module": "@jupyter-widgets/base",
      "model_module_version": "1.2.0",
      "model_name": "LayoutModel",
      "state": {}
     },
     "7f5ee4b8ae7e4fafabb638487fbfdd70": {
      "model_module": "@jupyter-widgets/controls",
      "model_module_version": "1.5.0",
      "model_name": "HTMLModel",
      "state": {
       "layout": "IPY_MODEL_dde648b7a56043968548415c80d060ff",
       "style": "IPY_MODEL_250cf841f5cb4c74969983ca3682b51b",
       "value": "Assigning labels: 100%"
      }
     },
     "7f833cc1d8f74dffb375fa28a3c9944f": {
      "model_module": "@jupyter-widgets/controls",
      "model_module_version": "1.5.0",
      "model_name": "DescriptionStyleModel",
      "state": {
       "description_width": ""
      }
     },
     "7f8bf50744054b01bc02028d28f4e456": {
      "model_module": "@jupyter-widgets/base",
      "model_module_version": "1.2.0",
      "model_name": "LayoutModel",
      "state": {}
     },
     "7f91aaf4572f47a0a5962acd40aef00b": {
      "model_module": "@jupyter-widgets/controls",
      "model_module_version": "1.5.0",
      "model_name": "HBoxModel",
      "state": {
       "children": [
        "IPY_MODEL_efe77563509640a68913b95ee6ce8a96",
        "IPY_MODEL_8ddf11891fb84f4ab44dd51d51af5339",
        "IPY_MODEL_b9da4603f8754921b6b7a43b5b21cd7e"
       ],
       "layout": "IPY_MODEL_646c3657de404084af8269e0958dfc19"
      }
     },
     "7fec2350f62546c49e6b5bc77523c535": {
      "model_module": "@jupyter-widgets/controls",
      "model_module_version": "1.5.0",
      "model_name": "ProgressStyleModel",
      "state": {
       "description_width": ""
      }
     },
     "7fff456d7a644099bd265139b5c7af91": {
      "model_module": "@jupyter-widgets/controls",
      "model_module_version": "1.5.0",
      "model_name": "HTMLModel",
      "state": {
       "layout": "IPY_MODEL_0fa1bc8db40f40d393cde1cfd1954634",
       "style": "IPY_MODEL_16ca8fc4a2d6454ba2ad5d88cdc0d450",
       "value": "Epoch: 6, 49.22926, 0.09616: "
      }
     },
     "805f1c99a0c74af69eb1847ef1bcb785": {
      "model_module": "@jupyter-widgets/controls",
      "model_module_version": "1.5.0",
      "model_name": "HTMLModel",
      "state": {
       "layout": "IPY_MODEL_39e8e5f2b382414f84f3cfb8262f11af",
       "style": "IPY_MODEL_7e143601fa8946959fc175bcee82ee98",
       "value": " 0/270 [00:12&lt;?, ?it/s]"
      }
     },
     "806b4ba3d40a4a8d8d35f96ba6d5b80d": {
      "model_module": "@jupyter-widgets/base",
      "model_module_version": "1.2.0",
      "model_name": "LayoutModel",
      "state": {}
     },
     "80a2fe69305842f89e69a43de3c2d099": {
      "model_module": "@jupyter-widgets/controls",
      "model_module_version": "1.5.0",
      "model_name": "ProgressStyleModel",
      "state": {
       "description_width": ""
      }
     },
     "80e71cf276454d68bb72e8ceacb5b458": {
      "model_module": "@jupyter-widgets/controls",
      "model_module_version": "1.5.0",
      "model_name": "ProgressStyleModel",
      "state": {
       "description_width": ""
      }
     },
     "80f46243bede45f79fe6b60f48933aa7": {
      "model_module": "@jupyter-widgets/controls",
      "model_module_version": "1.5.0",
      "model_name": "DescriptionStyleModel",
      "state": {
       "description_width": ""
      }
     },
     "8145fe341dd94f91b1a0458f66c84b10": {
      "model_module": "@jupyter-widgets/controls",
      "model_module_version": "1.5.0",
      "model_name": "DescriptionStyleModel",
      "state": {
       "description_width": ""
      }
     },
     "81aa20ed57d84c3a98d895a73510b66c": {
      "model_module": "@jupyter-widgets/base",
      "model_module_version": "1.2.0",
      "model_name": "LayoutModel",
      "state": {}
     },
     "822cebdb0f834fbabb54382d7125340e": {
      "model_module": "@jupyter-widgets/base",
      "model_module_version": "1.2.0",
      "model_name": "LayoutModel",
      "state": {}
     },
     "82846c0c46f745c3ba66f3a2480db65a": {
      "model_module": "@jupyter-widgets/controls",
      "model_module_version": "1.5.0",
      "model_name": "ProgressStyleModel",
      "state": {
       "description_width": ""
      }
     },
     "82db0d46732746679610ada9418cbd37": {
      "model_module": "@jupyter-widgets/controls",
      "model_module_version": "1.5.0",
      "model_name": "DescriptionStyleModel",
      "state": {
       "description_width": ""
      }
     },
     "83407cf8cc6d4ff19f3c1928be60310c": {
      "model_module": "@jupyter-widgets/base",
      "model_module_version": "1.2.0",
      "model_name": "LayoutModel",
      "state": {}
     },
     "83a619468b0f4bc68ede84793c1b0245": {
      "model_module": "@jupyter-widgets/controls",
      "model_module_version": "1.5.0",
      "model_name": "FloatProgressModel",
      "state": {
       "bar_style": "success",
       "layout": "IPY_MODEL_76c6193741bd4ae1bb1b05710a7699c5",
       "max": 34,
       "style": "IPY_MODEL_ce09a807e86b4a538305a9ddcda84cfc",
       "value": 34
      }
     },
     "83b68c6173c74f3b96ad53e7bc510b52": {
      "model_module": "@jupyter-widgets/controls",
      "model_module_version": "1.5.0",
      "model_name": "HTMLModel",
      "state": {
       "layout": "IPY_MODEL_b7582628e5964a01b33ebf2ab20d1924",
       "style": "IPY_MODEL_acaf8fbdf408456187b2cf9709ce18f1",
       "value": "Assigning labels: 100%"
      }
     },
     "83c3f72979eb46808132ea005821ffb0": {
      "model_module": "@jupyter-widgets/controls",
      "model_module_version": "1.5.0",
      "model_name": "ProgressStyleModel",
      "state": {
       "description_width": ""
      }
     },
     "83c4da1841de4060ba6249858d44a59c": {
      "model_module": "@jupyter-widgets/base",
      "model_module_version": "1.2.0",
      "model_name": "LayoutModel",
      "state": {}
     },
     "851dd22627744b79962e2343bdb368e9": {
      "model_module": "@jupyter-widgets/base",
      "model_module_version": "1.2.0",
      "model_name": "LayoutModel",
      "state": {}
     },
     "855eaea3671a4ec3b2ae808bb0bf0185": {
      "model_module": "@jupyter-widgets/controls",
      "model_module_version": "1.5.0",
      "model_name": "HTMLModel",
      "state": {
       "layout": "IPY_MODEL_160fc9cba2b54aea82d6b29d694f14c5",
       "style": "IPY_MODEL_44ba68739bf549d7acb0a7296a3dc8c4",
       "value": "Assigning labels: 100%"
      }
     },
     "859ab8e33efb4004b5aded9553f3c039": {
      "model_module": "@jupyter-widgets/controls",
      "model_module_version": "1.5.0",
      "model_name": "DescriptionStyleModel",
      "state": {
       "description_width": ""
      }
     },
     "85b614997b8e401c991bf9a26698374c": {
      "model_module": "@jupyter-widgets/controls",
      "model_module_version": "1.5.0",
      "model_name": "HBoxModel",
      "state": {
       "children": [
        "IPY_MODEL_c205ddf4c96b45788c60d7c6f2069c72",
        "IPY_MODEL_e5f071f6f1814178886959a182da9bd6",
        "IPY_MODEL_f35f12dda7f1440a82b9ad3094dc551a"
       ],
       "layout": "IPY_MODEL_7b93f5a01b27474db376d98fa285d478"
      }
     },
     "85c7c693ec864820b5e9da0b3e5a3f76": {
      "model_module": "@jupyter-widgets/controls",
      "model_module_version": "1.5.0",
      "model_name": "HTMLModel",
      "state": {
       "layout": "IPY_MODEL_d2ea251466f74f56bf0863e8f2a73963",
       "style": "IPY_MODEL_381705c06b954ab9874aa67c5880359e",
       "value": " 58/58 [00:00&lt;00:00, 1115.54it/s]"
      }
     },
     "85db114a601747dcad5d547a6c798e12": {
      "model_module": "@jupyter-widgets/controls",
      "model_module_version": "1.5.0",
      "model_name": "DescriptionStyleModel",
      "state": {
       "description_width": ""
      }
     },
     "86133e24b9eb49c9ad07b07336c0b030": {
      "model_module": "@jupyter-widgets/controls",
      "model_module_version": "1.5.0",
      "model_name": "ProgressStyleModel",
      "state": {
       "description_width": ""
      }
     },
     "86ac225aaf6245509b0d2b98eea7e35a": {
      "model_module": "@jupyter-widgets/controls",
      "model_module_version": "1.5.0",
      "model_name": "HTMLModel",
      "state": {
       "layout": "IPY_MODEL_d891dd8114194ed9b90225b8ab472334",
       "style": "IPY_MODEL_b92cd814e1cb4c8ab256ae69aa1c8d45",
       "value": " 61/61 [00:00&lt;00:00, 1129.63it/s]"
      }
     },
     "86b431d41c554a1dbe5492f860c2bf45": {
      "model_module": "@jupyter-widgets/controls",
      "model_module_version": "1.5.0",
      "model_name": "ProgressStyleModel",
      "state": {
       "description_width": ""
      }
     },
     "86c5fb64ad9141ffa94ce374af750641": {
      "model_module": "@jupyter-widgets/controls",
      "model_module_version": "1.5.0",
      "model_name": "ProgressStyleModel",
      "state": {
       "description_width": ""
      }
     },
     "86c9f85f1cc64cabac5f5557a6d58fc3": {
      "model_module": "@jupyter-widgets/controls",
      "model_module_version": "1.5.0",
      "model_name": "HTMLModel",
      "state": {
       "layout": "IPY_MODEL_94ec6fbf5ad04f6480fcb2f3ea8d2ae1",
       "style": "IPY_MODEL_c52c001542c24339af7430492e060b8f",
       "value": " 271/? [03:01&lt;00:00,  1.93it/s]"
      }
     },
     "86e12a450ef8413e87d6a4e1a9c5339d": {
      "model_module": "@jupyter-widgets/base",
      "model_module_version": "1.2.0",
      "model_name": "LayoutModel",
      "state": {}
     },
     "872679a565944bbda13fc2e198d49aaf": {
      "model_module": "@jupyter-widgets/controls",
      "model_module_version": "1.5.0",
      "model_name": "HTMLModel",
      "state": {
       "layout": "IPY_MODEL_b4229d66441b4ceea28c1117b11ea8ab",
       "style": "IPY_MODEL_0b1fb08d7f3048389376910ed102a4a8",
       "value": " 48/48 [00:00&lt;00:00, 1200.02it/s]"
      }
     },
     "8770462c9e094360a1f0d9b4af04dd01": {
      "model_module": "@jupyter-widgets/base",
      "model_module_version": "1.2.0",
      "model_name": "LayoutModel",
      "state": {}
     },
     "8804c1b3f0c4493aaeea627feb12bbf5": {
      "model_module": "@jupyter-widgets/controls",
      "model_module_version": "1.5.0",
      "model_name": "HTMLModel",
      "state": {
       "layout": "IPY_MODEL_3ad4c5a58b86480e81fd609f3b85b1b6",
       "style": "IPY_MODEL_45fcacfe9eb7452d843220a24612fd3c",
       "value": "Assigning labels: 100%"
      }
     },
     "8848304a44614296aa66a4ea71f0442f": {
      "model_module": "@jupyter-widgets/controls",
      "model_module_version": "1.5.0",
      "model_name": "HTMLModel",
      "state": {
       "layout": "IPY_MODEL_72e326f7fd0d4c1bafd7d112efacd152",
       "style": "IPY_MODEL_82db0d46732746679610ada9418cbd37",
       "value": "Assigning labels: 100%"
      }
     },
     "8892b611ef144967940a0c68ca20b46b": {
      "model_module": "@jupyter-widgets/base",
      "model_module_version": "1.2.0",
      "model_name": "LayoutModel",
      "state": {}
     },
     "889347259ae944b982976beaeb3c6022": {
      "model_module": "@jupyter-widgets/controls",
      "model_module_version": "1.5.0",
      "model_name": "ProgressStyleModel",
      "state": {
       "description_width": ""
      }
     },
     "88b30f9706c74bed85969bed7fa4641a": {
      "model_module": "@jupyter-widgets/base",
      "model_module_version": "1.2.0",
      "model_name": "LayoutModel",
      "state": {}
     },
     "88f3112af71249f485333ee65560cc12": {
      "model_module": "@jupyter-widgets/controls",
      "model_module_version": "1.5.0",
      "model_name": "HBoxModel",
      "state": {
       "children": [
        "IPY_MODEL_29469011456848f6a1671e971be669b8",
        "IPY_MODEL_45220f58ceb94e37838a9d259e51e67d",
        "IPY_MODEL_42b6455821bd4739b0b1b49f4f893575"
       ],
       "layout": "IPY_MODEL_f892cd945f354dc099a77da2cbc6a155"
      }
     },
     "88ff8ee13ca64e28b32a98fb213aaa60": {
      "model_module": "@jupyter-widgets/controls",
      "model_module_version": "1.5.0",
      "model_name": "HTMLModel",
      "state": {
       "layout": "IPY_MODEL_512b0885faa84e72b60a84a536b3a399",
       "style": "IPY_MODEL_d12856a4c0c8414baec94c6b1404a81c",
       "value": " 42/42 [00:00&lt;00:00, 204.60it/s]"
      }
     },
     "88ffdfbcf56d494183356cdf8ab7e382": {
      "model_module": "@jupyter-widgets/base",
      "model_module_version": "1.2.0",
      "model_name": "LayoutModel",
      "state": {}
     },
     "8935250d25904679a9bd09478cc820bd": {
      "model_module": "@jupyter-widgets/controls",
      "model_module_version": "1.5.0",
      "model_name": "FloatProgressModel",
      "state": {
       "bar_style": "success",
       "layout": "IPY_MODEL_b7024bfef4a048c185fc248bc5e56f19",
       "max": 113,
       "style": "IPY_MODEL_ba27373874e04726a6d05a942a27b68a",
       "value": 113
      }
     },
     "899f4a7c12e34e4da9ab7cdb5e0ace27": {
      "model_module": "@jupyter-widgets/base",
      "model_module_version": "1.2.0",
      "model_name": "LayoutModel",
      "state": {}
     },
     "89ecd36a1ea94313b8a031776af01b60": {
      "model_module": "@jupyter-widgets/controls",
      "model_module_version": "1.5.0",
      "model_name": "ProgressStyleModel",
      "state": {
       "description_width": ""
      }
     },
     "8a0b9ec6c1684ce6a3245a84973e08cb": {
      "model_module": "@jupyter-widgets/base",
      "model_module_version": "1.2.0",
      "model_name": "LayoutModel",
      "state": {}
     },
     "8a8116a915a3419badeef8ee0056f547": {
      "model_module": "@jupyter-widgets/controls",
      "model_module_version": "1.5.0",
      "model_name": "HTMLModel",
      "state": {
       "layout": "IPY_MODEL_88ffdfbcf56d494183356cdf8ab7e382",
       "style": "IPY_MODEL_85db114a601747dcad5d547a6c798e12",
       "value": " 271/? [03:03&lt;00:00,  1.88it/s]"
      }
     },
     "8a85fc2156024fceae25768751cfd4e9": {
      "model_module": "@jupyter-widgets/controls",
      "model_module_version": "1.5.0",
      "model_name": "DescriptionStyleModel",
      "state": {
       "description_width": ""
      }
     },
     "8bb762229c7f4e1e989524ac181411c3": {
      "model_module": "@jupyter-widgets/controls",
      "model_module_version": "1.5.0",
      "model_name": "FloatProgressModel",
      "state": {
       "bar_style": "danger",
       "layout": "IPY_MODEL_e3ff209fa9b74971b485ec398ce87449",
       "max": 271,
       "style": "IPY_MODEL_71184b23cb2e4c06be6565f10de4c829",
       "value": 61
      }
     },
     "8c288c66657446f081ac1d4d532b31a7": {
      "model_module": "@jupyter-widgets/base",
      "model_module_version": "1.2.0",
      "model_name": "LayoutModel",
      "state": {}
     },
     "8c377fe5cc2d48baae9b642c88d251f6": {
      "model_module": "@jupyter-widgets/controls",
      "model_module_version": "1.5.0",
      "model_name": "HBoxModel",
      "state": {
       "children": [
        "IPY_MODEL_2821be695c9243bb979ca4eda5367742",
        "IPY_MODEL_5a939b91e0704be1a7046e23a0026028",
        "IPY_MODEL_a2c340668d8f49e4a435799deb5108f2"
       ],
       "layout": "IPY_MODEL_39b23b4bb59c460e86bbcd65632c4010"
      }
     },
     "8c3dbfcc7e2747fe9f67dca4070a462c": {
      "model_module": "@jupyter-widgets/base",
      "model_module_version": "1.2.0",
      "model_name": "LayoutModel",
      "state": {}
     },
     "8cdaa457b9464c1994605836b7f5eeed": {
      "model_module": "@jupyter-widgets/base",
      "model_module_version": "1.2.0",
      "model_name": "LayoutModel",
      "state": {}
     },
     "8cebbf87dcbd43bba9e9ad1de11fff78": {
      "model_module": "@jupyter-widgets/controls",
      "model_module_version": "1.5.0",
      "model_name": "ProgressStyleModel",
      "state": {
       "description_width": ""
      }
     },
     "8da7da7f36464d6bbc75566f035ec171": {
      "model_module": "@jupyter-widgets/controls",
      "model_module_version": "1.5.0",
      "model_name": "DescriptionStyleModel",
      "state": {
       "description_width": ""
      }
     },
     "8dd87267db41475286314f444ef54e4c": {
      "model_module": "@jupyter-widgets/controls",
      "model_module_version": "1.5.0",
      "model_name": "DescriptionStyleModel",
      "state": {
       "description_width": ""
      }
     },
     "8dde72cdcccf417a9cd6d635f52c65bb": {
      "model_module": "@jupyter-widgets/base",
      "model_module_version": "1.2.0",
      "model_name": "LayoutModel",
      "state": {}
     },
     "8ddf11891fb84f4ab44dd51d51af5339": {
      "model_module": "@jupyter-widgets/controls",
      "model_module_version": "1.5.0",
      "model_name": "FloatProgressModel",
      "state": {
       "bar_style": "success",
       "layout": "IPY_MODEL_d86e75bf1d3549598dc6ef67fbfcbc49",
       "max": 23,
       "style": "IPY_MODEL_89ecd36a1ea94313b8a031776af01b60",
       "value": 23
      }
     },
     "8e10ef0bc4a446418260dd5b5c1933b0": {
      "model_module": "@jupyter-widgets/controls",
      "model_module_version": "1.5.0",
      "model_name": "DescriptionStyleModel",
      "state": {
       "description_width": ""
      }
     },
     "8e35c50e8cb64aa68765adac1ba2c094": {
      "model_module": "@jupyter-widgets/controls",
      "model_module_version": "1.5.0",
      "model_name": "HTMLModel",
      "state": {
       "layout": "IPY_MODEL_d0719680922846eba81e60709df2bec9",
       "style": "IPY_MODEL_6c2fd93309e24340980a2ebca880fd7d",
       "value": " 271/? [03:00&lt;00:00,  1.92it/s]"
      }
     },
     "8edc2e80874a43d8a78bd888b135c368": {
      "model_module": "@jupyter-widgets/controls",
      "model_module_version": "1.5.0",
      "model_name": "HTMLModel",
      "state": {
       "layout": "IPY_MODEL_9962c7ec60fd428bbdc6f0f0ad936637",
       "style": "IPY_MODEL_f86b730f22a9423aad60f06f3448eb4d",
       "value": "Assigning labels: 100%"
      }
     },
     "8eef52864f9945d2a057dd54bc0d1150": {
      "model_module": "@jupyter-widgets/controls",
      "model_module_version": "1.5.0",
      "model_name": "FloatProgressModel",
      "state": {
       "bar_style": "success",
       "layout": "IPY_MODEL_ac672665d73a4cd080d3022e28410c71",
       "max": 91,
       "style": "IPY_MODEL_25ef6e9259b4487aa44ae5b7374f8938",
       "value": 91
      }
     },
     "8f51a1c4372a4c24983ca8c6a4014d32": {
      "model_module": "@jupyter-widgets/controls",
      "model_module_version": "1.5.0",
      "model_name": "HTMLModel",
      "state": {
       "layout": "IPY_MODEL_a7ecd049806b40248cbaf1c587f694f3",
       "style": "IPY_MODEL_e7d07b7dbe6442029c29075600202ef1",
       "value": "Assigning labels: 100%"
      }
     },
     "8f631dd519f84804bd89b31cdf9f0efc": {
      "model_module": "@jupyter-widgets/base",
      "model_module_version": "1.2.0",
      "model_name": "LayoutModel",
      "state": {}
     },
     "8f8bebf0878543fba98e7faf2eb44e19": {
      "model_module": "@jupyter-widgets/controls",
      "model_module_version": "1.5.0",
      "model_name": "HBoxModel",
      "state": {
       "children": [
        "IPY_MODEL_8edc2e80874a43d8a78bd888b135c368",
        "IPY_MODEL_f3f82d59d00b4180bc882e112d2fa431",
        "IPY_MODEL_e39e5e5cf87e4c6a91e1d4988b8ea418"
       ],
       "layout": "IPY_MODEL_b7d743e0e54449a5b14a88554c88248d"
      }
     },
     "8fa73da7bc564fc6ad808d91865126db": {
      "model_module": "@jupyter-widgets/controls",
      "model_module_version": "1.5.0",
      "model_name": "HTMLModel",
      "state": {
       "layout": "IPY_MODEL_1213700a09cc4f4dafa11470ff11dd93",
       "style": "IPY_MODEL_5bd7cea901984814b42f5d2764a8efd5",
       "value": " 48/48 [00:00&lt;00:00, 1333.40it/s]"
      }
     },
     "8fdd3238e42946a4ba2c0f19ef7f4b0d": {
      "model_module": "@jupyter-widgets/base",
      "model_module_version": "1.2.0",
      "model_name": "LayoutModel",
      "state": {}
     },
     "8fe69925d8354fe587672f492cb814dd": {
      "model_module": "@jupyter-widgets/base",
      "model_module_version": "1.2.0",
      "model_name": "LayoutModel",
      "state": {}
     },
     "9044dbdee1fe4d41ac1287d07852427a": {
      "model_module": "@jupyter-widgets/controls",
      "model_module_version": "1.5.0",
      "model_name": "HTMLModel",
      "state": {
       "layout": "IPY_MODEL_d35e828e37bf43db9c5874f03a7049f5",
       "style": "IPY_MODEL_9a4fe7a125054855b2e32ddf997eb1f0",
       "value": "Assigning labels: 100%"
      }
     },
     "906a4e6a6fbe422998c5b22e81b19651": {
      "model_module": "@jupyter-widgets/base",
      "model_module_version": "1.2.0",
      "model_name": "LayoutModel",
      "state": {}
     },
     "9097587fefab4fd38bb28efd7e524fcc": {
      "model_module": "@jupyter-widgets/controls",
      "model_module_version": "1.5.0",
      "model_name": "HTMLModel",
      "state": {
       "layout": "IPY_MODEL_efe16912dc2841b890e4f1877a8dedfd",
       "style": "IPY_MODEL_f0c56c362fea4841aa95ea2a82b72d0c",
       "value": "Assigning labels: 100%"
      }
     },
     "90cf0174ecc34db3abf7c04be49b3c59": {
      "model_module": "@jupyter-widgets/controls",
      "model_module_version": "1.5.0",
      "model_name": "DescriptionStyleModel",
      "state": {
       "description_width": ""
      }
     },
     "90f0f3d3193f469b8d870f87f2b14870": {
      "model_module": "@jupyter-widgets/base",
      "model_module_version": "1.2.0",
      "model_name": "LayoutModel",
      "state": {}
     },
     "9102daf760ac41c89bb2fedcd6943c99": {
      "model_module": "@jupyter-widgets/controls",
      "model_module_version": "1.5.0",
      "model_name": "HTMLModel",
      "state": {
       "layout": "IPY_MODEL_92d1032ddc6d4d3f9a249366af61f7c3",
       "style": "IPY_MODEL_da2ae7e2338f4412a95655c44b357d78",
       "value": "Assigning labels: 100%"
      }
     },
     "91632f117095464b8d43070bf955dbcf": {
      "model_module": "@jupyter-widgets/base",
      "model_module_version": "1.2.0",
      "model_name": "LayoutModel",
      "state": {}
     },
     "9176ef343ec24fa5b53a73a9aa4fbe33": {
      "model_module": "@jupyter-widgets/base",
      "model_module_version": "1.2.0",
      "model_name": "LayoutModel",
      "state": {}
     },
     "917b7cf7cfd84cce917c6c69f76a37d4": {
      "model_module": "@jupyter-widgets/base",
      "model_module_version": "1.2.0",
      "model_name": "LayoutModel",
      "state": {}
     },
     "91f7446b3cba4db18c078cd75f18f3fe": {
      "model_module": "@jupyter-widgets/base",
      "model_module_version": "1.2.0",
      "model_name": "LayoutModel",
      "state": {}
     },
     "9237f51f1c7f4ce590a09588a9a734fb": {
      "model_module": "@jupyter-widgets/base",
      "model_module_version": "1.2.0",
      "model_name": "LayoutModel",
      "state": {}
     },
     "9289c8deeefe44209abfb07b5591dead": {
      "model_module": "@jupyter-widgets/controls",
      "model_module_version": "1.5.0",
      "model_name": "HTMLModel",
      "state": {
       "layout": "IPY_MODEL_6dce7652e8f04e58b442e65ae91f0a68",
       "style": "IPY_MODEL_189e3f2968ee4a85a9be35488578b671",
       "value": "Assigning labels: 100%"
      }
     },
     "92a03c1aaba04dfaab9e95f6a9db762c": {
      "model_module": "@jupyter-widgets/controls",
      "model_module_version": "1.5.0",
      "model_name": "HBoxModel",
      "state": {
       "children": [
        "IPY_MODEL_b0b0f0baf13142e2bbdca56c9bb842ed",
        "IPY_MODEL_3895f5b56e344e129649df6715f58af5",
        "IPY_MODEL_abc03fc2967e453195193624f9c40531"
       ],
       "layout": "IPY_MODEL_620abe8b15864de29e8cef274c29cc0e"
      }
     },
     "92d1032ddc6d4d3f9a249366af61f7c3": {
      "model_module": "@jupyter-widgets/base",
      "model_module_version": "1.2.0",
      "model_name": "LayoutModel",
      "state": {}
     },
     "9356747d1c9b42e0b39f462497bc9d28": {
      "model_module": "@jupyter-widgets/controls",
      "model_module_version": "1.5.0",
      "model_name": "HBoxModel",
      "state": {
       "children": [
        "IPY_MODEL_3a92b0cea09341558b26da23c17b07b2",
        "IPY_MODEL_b242b3dc03eb42039595c580429bac45",
        "IPY_MODEL_a6906b0a6b024219b8e3f08ffc929811"
       ],
       "layout": "IPY_MODEL_e82476e5023a451586e5b3da71f39542"
      }
     },
     "93958c18370245ef809aa2b5c7f13f31": {
      "model_module": "@jupyter-widgets/controls",
      "model_module_version": "1.5.0",
      "model_name": "HBoxModel",
      "state": {
       "children": [
        "IPY_MODEL_c229388af85f434e9deed13617a55e59",
        "IPY_MODEL_d448d76cf644413f85546ecbe7285625",
        "IPY_MODEL_b67c9fed58a841cc8d1c6e97a5254ce7"
       ],
       "layout": "IPY_MODEL_e63e84e24ac14f65b2c382708d7a2de6"
      }
     },
     "93b20ef422bf4d3bb62596b85014354a": {
      "model_module": "@jupyter-widgets/base",
      "model_module_version": "1.2.0",
      "model_name": "LayoutModel",
      "state": {}
     },
     "944f6240d26149068e8743f94afc2fbd": {
      "model_module": "@jupyter-widgets/base",
      "model_module_version": "1.2.0",
      "model_name": "LayoutModel",
      "state": {}
     },
     "9484c2be50bd4c4b86728aae64a8fee9": {
      "model_module": "@jupyter-widgets/base",
      "model_module_version": "1.2.0",
      "model_name": "LayoutModel",
      "state": {}
     },
     "94d8e2f225a04e21a4c00f2ac06191ef": {
      "model_module": "@jupyter-widgets/base",
      "model_module_version": "1.2.0",
      "model_name": "LayoutModel",
      "state": {}
     },
     "94ec6fbf5ad04f6480fcb2f3ea8d2ae1": {
      "model_module": "@jupyter-widgets/base",
      "model_module_version": "1.2.0",
      "model_name": "LayoutModel",
      "state": {}
     },
     "94f80d3044f3475aae3b6e42ae762ed1": {
      "model_module": "@jupyter-widgets/controls",
      "model_module_version": "1.5.0",
      "model_name": "HTMLModel",
      "state": {
       "layout": "IPY_MODEL_fb08c1e668c94a0d885754527397e64c",
       "style": "IPY_MODEL_b6699b688e4742a59be2cfd0bb574a56",
       "value": "Assigning labels: 100%"
      }
     },
     "9510775cd74f4d6abcea472077526e94": {
      "model_module": "@jupyter-widgets/controls",
      "model_module_version": "1.5.0",
      "model_name": "FloatProgressModel",
      "state": {
       "bar_style": "success",
       "layout": "IPY_MODEL_4467d46dc6f44595ac0d69601f2cb9a7",
       "max": 270,
       "style": "IPY_MODEL_775307149d344963b97c227e2f9d36a0",
       "value": 270
      }
     },
     "9525621d28b54560bf9e378ea65fedba": {
      "model_module": "@jupyter-widgets/controls",
      "model_module_version": "1.5.0",
      "model_name": "FloatProgressModel",
      "state": {
       "bar_style": "success",
       "layout": "IPY_MODEL_f6aa8a5635ac47efb81210ec51a5320c",
       "max": 270,
       "style": "IPY_MODEL_7e727f5cd51d44dbba0c4312c2d0519a",
       "value": 270
      }
     },
     "95dc63a4e0bd482f9b005202d4b2bea5": {
      "model_module": "@jupyter-widgets/base",
      "model_module_version": "1.2.0",
      "model_name": "LayoutModel",
      "state": {}
     },
     "9602c91aac024fa297ca9d0e57c4bc68": {
      "model_module": "@jupyter-widgets/base",
      "model_module_version": "1.2.0",
      "model_name": "LayoutModel",
      "state": {}
     },
     "9625240d8f22437582b3e12e7edcc76b": {
      "model_module": "@jupyter-widgets/controls",
      "model_module_version": "1.5.0",
      "model_name": "DescriptionStyleModel",
      "state": {
       "description_width": ""
      }
     },
     "96420092784743afb9b8bd0260f34296": {
      "model_module": "@jupyter-widgets/base",
      "model_module_version": "1.2.0",
      "model_name": "LayoutModel",
      "state": {}
     },
     "96a7f4547a6f4e439e1b0448fe244337": {
      "model_module": "@jupyter-widgets/controls",
      "model_module_version": "1.5.0",
      "model_name": "ProgressStyleModel",
      "state": {
       "description_width": ""
      }
     },
     "96ffef0a60164590a76eb6e12c622e79": {
      "model_module": "@jupyter-widgets/controls",
      "model_module_version": "1.5.0",
      "model_name": "HBoxModel",
      "state": {
       "children": [
        "IPY_MODEL_af5fea4db34d4ed9b279b3c683917b07",
        "IPY_MODEL_22c87b7ac73c4682a75df39193a9b58f",
        "IPY_MODEL_2df92fdf42fa4d2ba3bc899289d62057"
       ],
       "layout": "IPY_MODEL_494fefc03a9a434baa05a2043ab71d3d"
      }
     },
     "97e2f710a934473fb831d9618c866422": {
      "model_module": "@jupyter-widgets/controls",
      "model_module_version": "1.5.0",
      "model_name": "FloatProgressModel",
      "state": {
       "bar_style": "success",
       "layout": "IPY_MODEL_74830ff4d2534f24a45b338715aa3185",
       "max": 40,
       "style": "IPY_MODEL_cb40a488ebac4f36bc6c2d72d2670a91",
       "value": 40
      }
     },
     "97e9ad50ccfa48afa297b2612c617c0a": {
      "model_module": "@jupyter-widgets/controls",
      "model_module_version": "1.5.0",
      "model_name": "HBoxModel",
      "state": {
       "children": [
        "IPY_MODEL_5d872832779e469ba2683b5b3fdc649c",
        "IPY_MODEL_43a4b4088536404a9448adc0c2ece644",
        "IPY_MODEL_3ad83447183f43b7a5940693f9ecdbd5"
       ],
       "layout": "IPY_MODEL_482b8bcd521042acb766037d5cc8ec16"
      }
     },
     "98044882610040bbb59836b6a179c88f": {
      "model_module": "@jupyter-widgets/controls",
      "model_module_version": "1.5.0",
      "model_name": "DescriptionStyleModel",
      "state": {
       "description_width": ""
      }
     },
     "982e5b1c26054b4bae0fbc406361ac80": {
      "model_module": "@jupyter-widgets/controls",
      "model_module_version": "1.5.0",
      "model_name": "HBoxModel",
      "state": {
       "children": [
        "IPY_MODEL_3aa6bfbdcc454d92ae18247f2bde7c36",
        "IPY_MODEL_51781915e9d3433ebf49b0736016f783",
        "IPY_MODEL_22fa43f8a7524c21b21dd726e3095a1b"
       ],
       "layout": "IPY_MODEL_f04731ecb5ce4b71b758eba4e07a6578"
      }
     },
     "985cbf01e6df428aa0b35209811091d9": {
      "model_module": "@jupyter-widgets/controls",
      "model_module_version": "1.5.0",
      "model_name": "HTMLModel",
      "state": {
       "layout": "IPY_MODEL_728795fe8633407386df6a14714af1e5",
       "style": "IPY_MODEL_aa119f0c750c4257bea8d1d121182478",
       "value": " 34/34 [00:00&lt;00:00, 1049.18it/s]"
      }
     },
     "986498d48a9d488fa8f41002ffa66608": {
      "model_module": "@jupyter-widgets/controls",
      "model_module_version": "1.5.0",
      "model_name": "HBoxModel",
      "state": {
       "children": [
        "IPY_MODEL_7282386caec241618801e492cc3f0799",
        "IPY_MODEL_7c59655d5db547cab86af463681f77b4",
        "IPY_MODEL_493c933939ee41d2872d94ebd6d2c4ad"
       ],
       "layout": "IPY_MODEL_b5980b112c564f9d82492fad340e9c2c"
      }
     },
     "98a285b7e641416da014be97c1beb2c0": {
      "model_module": "@jupyter-widgets/base",
      "model_module_version": "1.2.0",
      "model_name": "LayoutModel",
      "state": {}
     },
     "98b7f9fd74c3476688e671299a60fa63": {
      "model_module": "@jupyter-widgets/controls",
      "model_module_version": "1.5.0",
      "model_name": "ProgressStyleModel",
      "state": {
       "description_width": ""
      }
     },
     "98bdc17e57ea4e5cae481015792f5ff8": {
      "model_module": "@jupyter-widgets/controls",
      "model_module_version": "1.5.0",
      "model_name": "FloatProgressModel",
      "state": {
       "bar_style": "danger",
       "layout": "IPY_MODEL_d3f87685344f47d1ad9be69af7b692dd",
       "max": 270,
       "style": "IPY_MODEL_8cebbf87dcbd43bba9e9ad1de11fff78"
      }
     },
     "98ecee2a5ef2468ebc3b10805866637a": {
      "model_module": "@jupyter-widgets/base",
      "model_module_version": "1.2.0",
      "model_name": "LayoutModel",
      "state": {}
     },
     "9916c655a44f4e90b55463fa57130c5a": {
      "model_module": "@jupyter-widgets/controls",
      "model_module_version": "1.5.0",
      "model_name": "FloatProgressModel",
      "state": {
       "bar_style": "success",
       "layout": "IPY_MODEL_a477584f36734099ad591d614b8c7c0e",
       "max": 270,
       "style": "IPY_MODEL_edbd53d3f4b0433ca8ea9a1d0271ad86",
       "value": 270
      }
     },
     "9962c7ec60fd428bbdc6f0f0ad936637": {
      "model_module": "@jupyter-widgets/base",
      "model_module_version": "1.2.0",
      "model_name": "LayoutModel",
      "state": {}
     },
     "99ae06ea7670405285836a32f13ab8f4": {
      "model_module": "@jupyter-widgets/base",
      "model_module_version": "1.2.0",
      "model_name": "LayoutModel",
      "state": {}
     },
     "9a4fe7a125054855b2e32ddf997eb1f0": {
      "model_module": "@jupyter-widgets/controls",
      "model_module_version": "1.5.0",
      "model_name": "DescriptionStyleModel",
      "state": {
       "description_width": ""
      }
     },
     "9a57cbeb1cb24a77b90ea205b1480203": {
      "model_module": "@jupyter-widgets/base",
      "model_module_version": "1.2.0",
      "model_name": "LayoutModel",
      "state": {}
     },
     "9a842c90fa68459fab55faa83080a2a3": {
      "model_module": "@jupyter-widgets/controls",
      "model_module_version": "1.5.0",
      "model_name": "DescriptionStyleModel",
      "state": {
       "description_width": ""
      }
     },
     "9a8c76a9be8f44b4a6041d2e09b50feb": {
      "model_module": "@jupyter-widgets/base",
      "model_module_version": "1.2.0",
      "model_name": "LayoutModel",
      "state": {}
     },
     "9ac3f10d071a480fa09ba3ba90384c91": {
      "model_module": "@jupyter-widgets/base",
      "model_module_version": "1.2.0",
      "model_name": "LayoutModel",
      "state": {}
     },
     "9ad06db4b4ef44fda70c831e12841eca": {
      "model_module": "@jupyter-widgets/controls",
      "model_module_version": "1.5.0",
      "model_name": "HBoxModel",
      "state": {
       "children": [
        "IPY_MODEL_795d681b91ce4be2887936909a21765d",
        "IPY_MODEL_d122882aa0de4ef6858ef670c94c2536",
        "IPY_MODEL_def6923145004f97868663f13b11984c"
       ],
       "layout": "IPY_MODEL_4bef54852b70494291d8722f6478f204"
      }
     },
     "9ae5a9a765e2451090c56eb1b9f69b50": {
      "model_module": "@jupyter-widgets/base",
      "model_module_version": "1.2.0",
      "model_name": "LayoutModel",
      "state": {}
     },
     "9af77cb96dcb481a8ef95d90c3edaab7": {
      "model_module": "@jupyter-widgets/base",
      "model_module_version": "1.2.0",
      "model_name": "LayoutModel",
      "state": {}
     },
     "9aff2ca0ba8a46feb522732c90fd3901": {
      "model_module": "@jupyter-widgets/controls",
      "model_module_version": "1.5.0",
      "model_name": "ProgressStyleModel",
      "state": {
       "description_width": ""
      }
     },
     "9b156e26818244a1a40c5cf54c598eed": {
      "model_module": "@jupyter-widgets/base",
      "model_module_version": "1.2.0",
      "model_name": "LayoutModel",
      "state": {}
     },
     "9b5e4ed4b9f0409a9fd4a2e1f92d15b2": {
      "model_module": "@jupyter-widgets/controls",
      "model_module_version": "1.5.0",
      "model_name": "HTMLModel",
      "state": {
       "layout": "IPY_MODEL_04eaeca369da420a8c743656ece260ae",
       "style": "IPY_MODEL_fd54574182a94199930f1dbfd2840236",
       "value": " 264/264 [00:00&lt;00:00, 525.42it/s]"
      }
     },
     "9c2974e8a5224b07819fe7b02c52d5d5": {
      "model_module": "@jupyter-widgets/base",
      "model_module_version": "1.2.0",
      "model_name": "LayoutModel",
      "state": {}
     },
     "9c60bb7faa684fb58a62059e4972a341": {
      "model_module": "@jupyter-widgets/controls",
      "model_module_version": "1.5.0",
      "model_name": "HBoxModel",
      "state": {
       "children": [
        "IPY_MODEL_3f90e127efe54f24b4417ac33f78632e",
        "IPY_MODEL_f9feea30019a4d4687636a49e695957f",
        "IPY_MODEL_32f8832d5899407ba63b7e992eb02a8c"
       ],
       "layout": "IPY_MODEL_4f4277a1ef0b404d8ed570cdfb5a08c5"
      }
     },
     "9cd577b536b743edb08d5717b1ed748b": {
      "model_module": "@jupyter-widgets/base",
      "model_module_version": "1.2.0",
      "model_name": "LayoutModel",
      "state": {}
     },
     "9d116bc45c114ee989a67303c24207eb": {
      "model_module": "@jupyter-widgets/controls",
      "model_module_version": "1.5.0",
      "model_name": "FloatProgressModel",
      "state": {
       "bar_style": "success",
       "layout": "IPY_MODEL_a6d80fd4a5884630ba21cb4d0e06a39e",
       "max": 42,
       "style": "IPY_MODEL_5f21df3b7dc64dc29bee5a7bfbd46f60",
       "value": 42
      }
     },
     "9d7bfa23c05d46caa9ea8d92bbc2aaf2": {
      "model_module": "@jupyter-widgets/controls",
      "model_module_version": "1.5.0",
      "model_name": "ProgressStyleModel",
      "state": {
       "description_width": ""
      }
     },
     "9dda2254b0254368a262bcc19572ef61": {
      "model_module": "@jupyter-widgets/base",
      "model_module_version": "1.2.0",
      "model_name": "LayoutModel",
      "state": {}
     },
     "9e2d90b5636c437ab0940f281664583d": {
      "model_module": "@jupyter-widgets/base",
      "model_module_version": "1.2.0",
      "model_name": "LayoutModel",
      "state": {}
     },
     "9e51cc8cc8d84be6bfcaa7460360ce87": {
      "model_module": "@jupyter-widgets/controls",
      "model_module_version": "1.5.0",
      "model_name": "HBoxModel",
      "state": {
       "children": [
        "IPY_MODEL_11bb7b864a04486fb909fbde923e1c45",
        "IPY_MODEL_365e0e698e7a49cfa2664136e764c5ae",
        "IPY_MODEL_c198e1b98d534ca6950ccc31b4b87e46"
       ],
       "layout": "IPY_MODEL_3fe091e93ce14f0a8d78a6ef28b3340e"
      }
     },
     "9e6bc7d5551445d5a44bc20bfd0aaf8e": {
      "model_module": "@jupyter-widgets/base",
      "model_module_version": "1.2.0",
      "model_name": "LayoutModel",
      "state": {}
     },
     "9e99aa2cefc94c48aca4df016ed35b6c": {
      "model_module": "@jupyter-widgets/base",
      "model_module_version": "1.2.0",
      "model_name": "LayoutModel",
      "state": {}
     },
     "9f45636c19e9421797c53b1b02f78db4": {
      "model_module": "@jupyter-widgets/base",
      "model_module_version": "1.2.0",
      "model_name": "LayoutModel",
      "state": {}
     },
     "9f4c03bebc6c4ab99cf9e2f269fd7322": {
      "model_module": "@jupyter-widgets/controls",
      "model_module_version": "1.5.0",
      "model_name": "HBoxModel",
      "state": {
       "children": [
        "IPY_MODEL_559b888ebe224d39833b28614ea01711",
        "IPY_MODEL_2f87bb61ba634898ab20c1fae95b52e8",
        "IPY_MODEL_32947928d7d34cb180a67fb80341ba37"
       ],
       "layout": "IPY_MODEL_e08fe58b01874e4e986984db5845ae44"
      }
     },
     "9f83e5d87ddd42b5b374359400525757": {
      "model_module": "@jupyter-widgets/base",
      "model_module_version": "1.2.0",
      "model_name": "LayoutModel",
      "state": {}
     },
     "9f91d15070884d51ad7071cf10c2c51c": {
      "model_module": "@jupyter-widgets/controls",
      "model_module_version": "1.5.0",
      "model_name": "FloatProgressModel",
      "state": {
       "bar_style": "danger",
       "layout": "IPY_MODEL_4fa73f2d5fbb44dca0baedb29cc86cb4",
       "max": 271,
       "style": "IPY_MODEL_35404382bf904c16b9e5a382eebf5cc5"
      }
     },
     "9f93aeb3509f4593a059f8c4850eaa63": {
      "model_module": "@jupyter-widgets/base",
      "model_module_version": "1.2.0",
      "model_name": "LayoutModel",
      "state": {}
     },
     "a00ed7aa35a8429f9abe23cb68411f9c": {
      "model_module": "@jupyter-widgets/controls",
      "model_module_version": "1.5.0",
      "model_name": "HBoxModel",
      "state": {
       "children": [
        "IPY_MODEL_553f0567e1494e1ba3091384efce18c7",
        "IPY_MODEL_376af8ca6cc942d3b198c4de4cd3c063",
        "IPY_MODEL_805f1c99a0c74af69eb1847ef1bcb785"
       ],
       "layout": "IPY_MODEL_7bf3f274e5794ebeba669d230cd27da9"
      }
     },
     "a0357cf6f539470884d4df0f843c053f": {
      "model_module": "@jupyter-widgets/base",
      "model_module_version": "1.2.0",
      "model_name": "LayoutModel",
      "state": {}
     },
     "a038a0ac85f544539762d6ac5d5891b3": {
      "model_module": "@jupyter-widgets/controls",
      "model_module_version": "1.5.0",
      "model_name": "HTMLModel",
      "state": {
       "layout": "IPY_MODEL_671bf34e2bcc4c8aab75c969f05e4587",
       "style": "IPY_MODEL_2acda32d35474b2788ea2e60d73bc10e",
       "value": " 47/47 [00:00&lt;00:00, 1382.43it/s]"
      }
     },
     "a08f82aec768477e97434e0c5c5e3491": {
      "model_module": "@jupyter-widgets/controls",
      "model_module_version": "1.5.0",
      "model_name": "HBoxModel",
      "state": {
       "children": [
        "IPY_MODEL_05f650c6bdc04e1594786354c3fe9429",
        "IPY_MODEL_00d3a0ecb6a241f9a3108fbc39488bcd",
        "IPY_MODEL_654f5a2ca9634595946dbe1e6cad6841"
       ],
       "layout": "IPY_MODEL_1d23209dd4c34f1b9ec19f85b1d2024d"
      }
     },
     "a09859d4e65a47ebb7a899bb063d75e8": {
      "model_module": "@jupyter-widgets/controls",
      "model_module_version": "1.5.0",
      "model_name": "DescriptionStyleModel",
      "state": {
       "description_width": ""
      }
     },
     "a0c010ce00da4e439286531a189e08b2": {
      "model_module": "@jupyter-widgets/controls",
      "model_module_version": "1.5.0",
      "model_name": "ProgressStyleModel",
      "state": {
       "description_width": ""
      }
     },
     "a0e6a5c9140843f69f41cf612363124b": {
      "model_module": "@jupyter-widgets/controls",
      "model_module_version": "1.5.0",
      "model_name": "DescriptionStyleModel",
      "state": {
       "description_width": ""
      }
     },
     "a0f2e1ada2e5411e8af65ad628810a2b": {
      "model_module": "@jupyter-widgets/controls",
      "model_module_version": "1.5.0",
      "model_name": "HBoxModel",
      "state": {
       "children": [
        "IPY_MODEL_ce6ede49ef514f41b1e2b4c475f7fc1b",
        "IPY_MODEL_9f91d15070884d51ad7071cf10c2c51c",
        "IPY_MODEL_400b845b16c54feeb05b15cdb99324d6"
       ],
       "layout": "IPY_MODEL_fb9bc27a8edf493684a7009b25b6e416"
      }
     },
     "a10717baf8ca44279624d01508cbdc4c": {
      "model_module": "@jupyter-widgets/base",
      "model_module_version": "1.2.0",
      "model_name": "LayoutModel",
      "state": {}
     },
     "a117afa9310d42c790bfdb3f999e5a58": {
      "model_module": "@jupyter-widgets/controls",
      "model_module_version": "1.5.0",
      "model_name": "HBoxModel",
      "state": {
       "children": [
        "IPY_MODEL_83b68c6173c74f3b96ad53e7bc510b52",
        "IPY_MODEL_54c6d02ec76c4206a68b483e22faef08",
        "IPY_MODEL_9b5e4ed4b9f0409a9fd4a2e1f92d15b2"
       ],
       "layout": "IPY_MODEL_1d3fce6bbe0846f2a8e0f6303ddbe8d5"
      }
     },
     "a15d47063a93455b86229e8c0622a05d": {
      "model_module": "@jupyter-widgets/controls",
      "model_module_version": "1.5.0",
      "model_name": "DescriptionStyleModel",
      "state": {
       "description_width": ""
      }
     },
     "a16b3e44010a4cbbb0b15016da71a8ff": {
      "model_module": "@jupyter-widgets/base",
      "model_module_version": "1.2.0",
      "model_name": "LayoutModel",
      "state": {}
     },
     "a17ee866d6b94186880353d6589ca846": {
      "model_module": "@jupyter-widgets/controls",
      "model_module_version": "1.5.0",
      "model_name": "ProgressStyleModel",
      "state": {
       "description_width": ""
      }
     },
     "a19745aacd7d41e9b2ccda2562d2304c": {
      "model_module": "@jupyter-widgets/base",
      "model_module_version": "1.2.0",
      "model_name": "LayoutModel",
      "state": {}
     },
     "a198ec5391f24a1ba6e495a41b4b0583": {
      "model_module": "@jupyter-widgets/controls",
      "model_module_version": "1.5.0",
      "model_name": "DescriptionStyleModel",
      "state": {
       "description_width": ""
      }
     },
     "a1a48eb4d3574714abc6a4ca620d0ed3": {
      "model_module": "@jupyter-widgets/base",
      "model_module_version": "1.2.0",
      "model_name": "LayoutModel",
      "state": {}
     },
     "a1bc79a7ed5a4479af0bfed58e3548ed": {
      "model_module": "@jupyter-widgets/controls",
      "model_module_version": "1.5.0",
      "model_name": "FloatProgressModel",
      "state": {
       "bar_style": "success",
       "layout": "IPY_MODEL_f2c818e788674dc2bbc251eb48ec6ce9",
       "max": 40,
       "style": "IPY_MODEL_bfb54b190020404abfb8872ef66540da",
       "value": 40
      }
     },
     "a2875845277840c29dac3ca3d6783ce9": {
      "model_module": "@jupyter-widgets/base",
      "model_module_version": "1.2.0",
      "model_name": "LayoutModel",
      "state": {}
     },
     "a29c4058e4ce4adead23a39877477a27": {
      "model_module": "@jupyter-widgets/controls",
      "model_module_version": "1.5.0",
      "model_name": "FloatProgressModel",
      "state": {
       "bar_style": "success",
       "layout": "IPY_MODEL_3d61d452cda5401f889e3b3e4d308db7",
       "max": 46,
       "style": "IPY_MODEL_7686f224229c4aafa3bafc621bec934a",
       "value": 46
      }
     },
     "a2c340668d8f49e4a435799deb5108f2": {
      "model_module": "@jupyter-widgets/controls",
      "model_module_version": "1.5.0",
      "model_name": "HTMLModel",
      "state": {
       "layout": "IPY_MODEL_56c58bea47ef4ee78ceeba4398144531",
       "style": "IPY_MODEL_1af92fd64bcc4da8b5fafe46e3cb2226",
       "value": " 47/47 [00:00&lt;00:00, 1257.72it/s]"
      }
     },
     "a2eb5efb49d9435e8a67a792000e9e42": {
      "model_module": "@jupyter-widgets/controls",
      "model_module_version": "1.5.0",
      "model_name": "HTMLModel",
      "state": {
       "layout": "IPY_MODEL_8dde72cdcccf417a9cd6d635f52c65bb",
       "style": "IPY_MODEL_0fd20b6abc614ad1af9e34559758da32",
       "value": "Assigning labels: 100%"
      }
     },
     "a343c300058e49288589fe1ce2c02c4e": {
      "model_module": "@jupyter-widgets/base",
      "model_module_version": "1.2.0",
      "model_name": "LayoutModel",
      "state": {}
     },
     "a34f81e687334a47995181383f20c7d6": {
      "model_module": "@jupyter-widgets/controls",
      "model_module_version": "1.5.0",
      "model_name": "ProgressStyleModel",
      "state": {
       "description_width": ""
      }
     },
     "a3615b3215474b72ae2ddba2dc57e41c": {
      "model_module": "@jupyter-widgets/controls",
      "model_module_version": "1.5.0",
      "model_name": "DescriptionStyleModel",
      "state": {
       "description_width": ""
      }
     },
     "a37f1677d381478da61bb56f2de0d8a8": {
      "model_module": "@jupyter-widgets/base",
      "model_module_version": "1.2.0",
      "model_name": "LayoutModel",
      "state": {}
     },
     "a3b95ae8a7854716b16e0afa791fce60": {
      "model_module": "@jupyter-widgets/controls",
      "model_module_version": "1.5.0",
      "model_name": "FloatProgressModel",
      "state": {
       "bar_style": "success",
       "layout": "IPY_MODEL_fc12e65d5d294b59933fa869906f4db7",
       "max": 264,
       "style": "IPY_MODEL_1195e1d2599b4efca7bd81057875a302",
       "value": 264
      }
     },
     "a3d6b3a94b4c464fb95293f2570bd2e3": {
      "model_module": "@jupyter-widgets/controls",
      "model_module_version": "1.5.0",
      "model_name": "HBoxModel",
      "state": {
       "children": [
        "IPY_MODEL_73745dc8cb1a4fe580037c01c859824b",
        "IPY_MODEL_76c4c80fd3b54f129dbdd141799363c1",
        "IPY_MODEL_f5644c8c19db46acb9188621b2c1e84f"
       ],
       "layout": "IPY_MODEL_f710c962b686471b87c047d19d4c8169"
      }
     },
     "a477584f36734099ad591d614b8c7c0e": {
      "model_module": "@jupyter-widgets/base",
      "model_module_version": "1.2.0",
      "model_name": "LayoutModel",
      "state": {}
     },
     "a49d63717528498abd309727208a83c0": {
      "model_module": "@jupyter-widgets/base",
      "model_module_version": "1.2.0",
      "model_name": "LayoutModel",
      "state": {}
     },
     "a4c4d5e98351495491a8f661a82c7225": {
      "model_module": "@jupyter-widgets/controls",
      "model_module_version": "1.5.0",
      "model_name": "FloatProgressModel",
      "state": {
       "bar_style": "success",
       "layout": "IPY_MODEL_9602c91aac024fa297ca9d0e57c4bc68",
       "max": 50,
       "style": "IPY_MODEL_d69324af68194dff8c17f307be128e59",
       "value": 50
      }
     },
     "a4f13ff3b4754503ba6c4c9612b88337": {
      "model_module": "@jupyter-widgets/controls",
      "model_module_version": "1.5.0",
      "model_name": "DescriptionStyleModel",
      "state": {
       "description_width": ""
      }
     },
     "a5279fe602784732bcbdee1913e7b2a1": {
      "model_module": "@jupyter-widgets/controls",
      "model_module_version": "1.5.0",
      "model_name": "DescriptionStyleModel",
      "state": {
       "description_width": ""
      }
     },
     "a5401b83993e4e50a0baa128f9c2353c": {
      "model_module": "@jupyter-widgets/base",
      "model_module_version": "1.2.0",
      "model_name": "LayoutModel",
      "state": {}
     },
     "a604dfd8370a4bdfaa63298923651acd": {
      "model_module": "@jupyter-widgets/base",
      "model_module_version": "1.2.0",
      "model_name": "LayoutModel",
      "state": {}
     },
     "a626636b787b4723844839e3cf6867e8": {
      "model_module": "@jupyter-widgets/controls",
      "model_module_version": "1.5.0",
      "model_name": "DescriptionStyleModel",
      "state": {
       "description_width": ""
      }
     },
     "a6906b0a6b024219b8e3f08ffc929811": {
      "model_module": "@jupyter-widgets/controls",
      "model_module_version": "1.5.0",
      "model_name": "HTMLModel",
      "state": {
       "layout": "IPY_MODEL_9ac3f10d071a480fa09ba3ba90384c91",
       "style": "IPY_MODEL_046a755d95f64c91b0c241902ee1b858",
       "value": " 38/38 [00:00&lt;00:00, 1151.52it/s]"
      }
     },
     "a69b46eebe2240a7b3bdd947c0dbfaf6": {
      "model_module": "@jupyter-widgets/base",
      "model_module_version": "1.2.0",
      "model_name": "LayoutModel",
      "state": {}
     },
     "a6d80fd4a5884630ba21cb4d0e06a39e": {
      "model_module": "@jupyter-widgets/base",
      "model_module_version": "1.2.0",
      "model_name": "LayoutModel",
      "state": {}
     },
     "a6f50e2bad1a4661a6b2393b9c5148f5": {
      "model_module": "@jupyter-widgets/controls",
      "model_module_version": "1.5.0",
      "model_name": "FloatProgressModel",
      "state": {
       "bar_style": "success",
       "layout": "IPY_MODEL_7b0f8cb302ce4c19826fa829958b14cb",
       "max": 46,
       "style": "IPY_MODEL_dfc90de34e054a39a62e2405c9a97a7d",
       "value": 46
      }
     },
     "a75f3c7822ac450eafadf357cebeb428": {
      "model_module": "@jupyter-widgets/controls",
      "model_module_version": "1.5.0",
      "model_name": "DescriptionStyleModel",
      "state": {
       "description_width": ""
      }
     },
     "a77a8c114a6348c1b9291317397d38c9": {
      "model_module": "@jupyter-widgets/base",
      "model_module_version": "1.2.0",
      "model_name": "LayoutModel",
      "state": {}
     },
     "a7a0e69f28b148d39a23d4a29b0b93ba": {
      "model_module": "@jupyter-widgets/controls",
      "model_module_version": "1.5.0",
      "model_name": "HBoxModel",
      "state": {
       "children": [
        "IPY_MODEL_2e5c9427cf6b4586b725006e2d349adc",
        "IPY_MODEL_2e7fa146aa6e452e9279fcd10be2e697",
        "IPY_MODEL_1a4d3b320f1a451f86b61e7777a2d489"
       ],
       "layout": "IPY_MODEL_74f499737eaa4accb5257c85cc3c0440"
      }
     },
     "a7ecd049806b40248cbaf1c587f694f3": {
      "model_module": "@jupyter-widgets/base",
      "model_module_version": "1.2.0",
      "model_name": "LayoutModel",
      "state": {}
     },
     "a8a5c4987d4a49b08781f5aa81299288": {
      "model_module": "@jupyter-widgets/controls",
      "model_module_version": "1.5.0",
      "model_name": "FloatProgressModel",
      "state": {
       "bar_style": "success",
       "layout": "IPY_MODEL_afdc2693a1fc43ceb0a9462a351257bf",
       "max": 47,
       "style": "IPY_MODEL_cf760b36c5ff4323a17ce29633b86d89",
       "value": 47
      }
     },
     "a8b4d7b54eb3435f9baf69c52da3275b": {
      "model_module": "@jupyter-widgets/controls",
      "model_module_version": "1.5.0",
      "model_name": "FloatProgressModel",
      "state": {
       "bar_style": "success",
       "layout": "IPY_MODEL_2c4839c824c24d1ea8d4ffae7c8c51f9",
       "max": 91,
       "style": "IPY_MODEL_b6ae07a5350e4be2a315cd858ebfd235",
       "value": 91
      }
     },
     "a8c1918d7f6a4ac1bb631d999c1c36b2": {
      "model_module": "@jupyter-widgets/controls",
      "model_module_version": "1.5.0",
      "model_name": "DescriptionStyleModel",
      "state": {
       "description_width": ""
      }
     },
     "a90060b58fb34d5b84fd976ca5ac63e3": {
      "model_module": "@jupyter-widgets/base",
      "model_module_version": "1.2.0",
      "model_name": "LayoutModel",
      "state": {}
     },
     "a901540bd7aa400faee9896ea8c6fdaa": {
      "model_module": "@jupyter-widgets/controls",
      "model_module_version": "1.5.0",
      "model_name": "ProgressStyleModel",
      "state": {
       "description_width": ""
      }
     },
     "a94247daf7dd4f26bd8e99dd60e2c840": {
      "model_module": "@jupyter-widgets/controls",
      "model_module_version": "1.5.0",
      "model_name": "DescriptionStyleModel",
      "state": {
       "description_width": ""
      }
     },
     "a96c0798fedc4fdcafbf83788ea19038": {
      "model_module": "@jupyter-widgets/controls",
      "model_module_version": "1.5.0",
      "model_name": "HTMLModel",
      "state": {
       "layout": "IPY_MODEL_f11c9397595f43fda0b8cafd1cf3f1e3",
       "style": "IPY_MODEL_c57adc5d391c4e08a39ead2bd3c82e7b",
       "value": "Assigning labels: 100%"
      }
     },
     "a9cb80527a8f440594a04859c5c6199f": {
      "model_module": "@jupyter-widgets/controls",
      "model_module_version": "1.5.0",
      "model_name": "DescriptionStyleModel",
      "state": {
       "description_width": ""
      }
     },
     "a9fabaaeecb6425ea9dd2575cbf7a910": {
      "model_module": "@jupyter-widgets/controls",
      "model_module_version": "1.5.0",
      "model_name": "DescriptionStyleModel",
      "state": {
       "description_width": ""
      }
     },
     "aa0993663b5147ddb5c738e27df90a23": {
      "model_module": "@jupyter-widgets/controls",
      "model_module_version": "1.5.0",
      "model_name": "DescriptionStyleModel",
      "state": {
       "description_width": ""
      }
     },
     "aa119f0c750c4257bea8d1d121182478": {
      "model_module": "@jupyter-widgets/controls",
      "model_module_version": "1.5.0",
      "model_name": "DescriptionStyleModel",
      "state": {
       "description_width": ""
      }
     },
     "aa325d5cd644491d867239fc8245dbd9": {
      "model_module": "@jupyter-widgets/controls",
      "model_module_version": "1.5.0",
      "model_name": "DescriptionStyleModel",
      "state": {
       "description_width": ""
      }
     },
     "aa5b009e3a1149598d213cf9e6d7cdc5": {
      "model_module": "@jupyter-widgets/base",
      "model_module_version": "1.2.0",
      "model_name": "LayoutModel",
      "state": {}
     },
     "ab240b416ba945bfa0888496b9309806": {
      "model_module": "@jupyter-widgets/controls",
      "model_module_version": "1.5.0",
      "model_name": "HTMLModel",
      "state": {
       "layout": "IPY_MODEL_60643023f8014a56beea6c5c4067a525",
       "style": "IPY_MODEL_22b9b139ba7e4d1b822396a5f6c761e8",
       "value": "Epoch: 1, 57.71184, 0.34041: "
      }
     },
     "ab294bd8da624db094a720c0717ad477": {
      "model_module": "@jupyter-widgets/controls",
      "model_module_version": "1.5.0",
      "model_name": "DescriptionStyleModel",
      "state": {
       "description_width": ""
      }
     },
     "abc03fc2967e453195193624f9c40531": {
      "model_module": "@jupyter-widgets/controls",
      "model_module_version": "1.5.0",
      "model_name": "HTMLModel",
      "state": {
       "layout": "IPY_MODEL_3a2a281b9efe43bfa63a8d83f9d6c6b1",
       "style": "IPY_MODEL_000c7bcf15e84a4491f19ca4d73fc849",
       "value": " 271/? [03:00&lt;00:00,  1.91it/s]"
      }
     },
     "abf6bfb712c3433cbf27f285abbba4df": {
      "model_module": "@jupyter-widgets/base",
      "model_module_version": "1.2.0",
      "model_name": "LayoutModel",
      "state": {}
     },
     "ac282738d1a54e848525ed23709f7c93": {
      "model_module": "@jupyter-widgets/controls",
      "model_module_version": "1.5.0",
      "model_name": "HBoxModel",
      "state": {
       "children": [
        "IPY_MODEL_7970781747c740a1a8879198694e9dd0",
        "IPY_MODEL_8eef52864f9945d2a057dd54bc0d1150",
        "IPY_MODEL_67c3ae6ebc224d63887e8e2f9a7b9cc7"
       ],
       "layout": "IPY_MODEL_2e76b4c56b79457c9c833b487ca1bdac"
      }
     },
     "ac464a92baed4b9bb259538d7d265329": {
      "model_module": "@jupyter-widgets/controls",
      "model_module_version": "1.5.0",
      "model_name": "HTMLModel",
      "state": {
       "layout": "IPY_MODEL_35367d5daa8c40478ab977b54c9a4824",
       "style": "IPY_MODEL_70eb6d844a2d43259db850086787e26c",
       "value": " 61/61 [00:00&lt;00:00, 1083.75it/s]"
      }
     },
     "ac672665d73a4cd080d3022e28410c71": {
      "model_module": "@jupyter-widgets/base",
      "model_module_version": "1.2.0",
      "model_name": "LayoutModel",
      "state": {}
     },
     "acaf8fbdf408456187b2cf9709ce18f1": {
      "model_module": "@jupyter-widgets/controls",
      "model_module_version": "1.5.0",
      "model_name": "DescriptionStyleModel",
      "state": {
       "description_width": ""
      }
     },
     "acf7b3fef7f045ae89bf8232c38c7c8d": {
      "model_module": "@jupyter-widgets/controls",
      "model_module_version": "1.5.0",
      "model_name": "ProgressStyleModel",
      "state": {
       "description_width": ""
      }
     },
     "ae0af7fa46b243e29fdc39948050b4a0": {
      "model_module": "@jupyter-widgets/base",
      "model_module_version": "1.2.0",
      "model_name": "LayoutModel",
      "state": {}
     },
     "ae218ac1cd1b40eab8c6b9d0e0575b06": {
      "model_module": "@jupyter-widgets/base",
      "model_module_version": "1.2.0",
      "model_name": "LayoutModel",
      "state": {}
     },
     "aeb83ee64c9447c79b6b16a91749fbbe": {
      "model_module": "@jupyter-widgets/controls",
      "model_module_version": "1.5.0",
      "model_name": "HBoxModel",
      "state": {
       "children": [
        "IPY_MODEL_0261fb6b9a1246418d5321f16710365d",
        "IPY_MODEL_68925495646e41b78d6ecf94a736fdad",
        "IPY_MODEL_4e005d03d6da4de1a3315b5ccc0261fa"
       ],
       "layout": "IPY_MODEL_53dd2657830b4784968f740c5ce63ae4"
      }
     },
     "aebd8728f472460da1d0e81a22aee875": {
      "model_module": "@jupyter-widgets/controls",
      "model_module_version": "1.5.0",
      "model_name": "HBoxModel",
      "state": {
       "children": [
        "IPY_MODEL_c589621edeb54d0592a072bc7cf23715",
        "IPY_MODEL_03bff3f13fea42f0a68568040807dab4",
        "IPY_MODEL_34339abd3ecc4fe7b4806a60a0375ec6"
       ],
       "layout": "IPY_MODEL_3989ba1cf29d4081b27bd95d03e1dfc4"
      }
     },
     "af2f1a7ba36a44588ed818beecff3fe7": {
      "model_module": "@jupyter-widgets/controls",
      "model_module_version": "1.5.0",
      "model_name": "HTMLModel",
      "state": {
       "layout": "IPY_MODEL_24b2f17b9b8049cf9de4da3f0b115bde",
       "style": "IPY_MODEL_bebe134a6c6b455c8703f6f17cc6707c",
       "value": " 271/? [03:03&lt;00:00,  1.90it/s]"
      }
     },
     "af5fea4db34d4ed9b279b3c683917b07": {
      "model_module": "@jupyter-widgets/controls",
      "model_module_version": "1.5.0",
      "model_name": "HTMLModel",
      "state": {
       "layout": "IPY_MODEL_dbb1bc86747b4d409f13ba40fe745951",
       "style": "IPY_MODEL_fc91dfc4a6d644b4897a42c574a8e1f8",
       "value": "Assigning labels: 100%"
      }
     },
     "af96d23b515942e0933d1caa881a1a38": {
      "model_module": "@jupyter-widgets/controls",
      "model_module_version": "1.5.0",
      "model_name": "FloatProgressModel",
      "state": {
       "bar_style": "success",
       "layout": "IPY_MODEL_9176ef343ec24fa5b53a73a9aa4fbe33",
       "max": 61,
       "style": "IPY_MODEL_a17ee866d6b94186880353d6589ca846",
       "value": 61
      }
     },
     "afdc2693a1fc43ceb0a9462a351257bf": {
      "model_module": "@jupyter-widgets/base",
      "model_module_version": "1.2.0",
      "model_name": "LayoutModel",
      "state": {}
     },
     "b043b8f8a3ee4a4aa2b8632318759238": {
      "model_module": "@jupyter-widgets/controls",
      "model_module_version": "1.5.0",
      "model_name": "HTMLModel",
      "state": {
       "layout": "IPY_MODEL_206efc8dc2db44138e818cd03b60f525",
       "style": "IPY_MODEL_90cf0174ecc34db3abf7c04be49b3c59",
       "value": " 271/? [03:00&lt;00:00,  1.92it/s]"
      }
     },
     "b0b0f0baf13142e2bbdca56c9bb842ed": {
      "model_module": "@jupyter-widgets/controls",
      "model_module_version": "1.5.0",
      "model_name": "HTMLModel",
      "state": {
       "layout": "IPY_MODEL_3795bff12ea14f9e85e718c3cc3eb1d6",
       "style": "IPY_MODEL_7ecfe52092614d72a69706e78af06d98",
       "value": "Epoch: 3, 98.29411, 0.32398: "
      }
     },
     "b0b93b0afa144d9aa9885b7a908db0f5": {
      "model_module": "@jupyter-widgets/base",
      "model_module_version": "1.2.0",
      "model_name": "LayoutModel",
      "state": {}
     },
     "b0c39610f2e24616b737b12760e2fd9d": {
      "model_module": "@jupyter-widgets/controls",
      "model_module_version": "1.5.0",
      "model_name": "HTMLModel",
      "state": {
       "layout": "IPY_MODEL_67d326d395574586b3ca6ede05b409c7",
       "style": "IPY_MODEL_8dd87267db41475286314f444ef54e4c",
       "value": " 58/58 [00:00&lt;00:00, 1183.62it/s]"
      }
     },
     "b0cb41abe305442c82e61db780c5dd24": {
      "model_module": "@jupyter-widgets/controls",
      "model_module_version": "1.5.0",
      "model_name": "HBoxModel",
      "state": {
       "children": [
        "IPY_MODEL_8f51a1c4372a4c24983ca8c6a4014d32",
        "IPY_MODEL_83a619468b0f4bc68ede84793c1b0245",
        "IPY_MODEL_e9de553a6bac42a6ac67d9173f192a2c"
       ],
       "layout": "IPY_MODEL_27fffee94e28428badaa24817838e536"
      }
     },
     "b10c14345b4f4e8aa7bb10a6b21b45c5": {
      "model_module": "@jupyter-widgets/controls",
      "model_module_version": "1.5.0",
      "model_name": "HBoxModel",
      "state": {
       "children": [
        "IPY_MODEL_f7ec46fafa8c4169805bf09b0f2a1c59",
        "IPY_MODEL_0ed64abcea30449aabfe6c825c2b7a28",
        "IPY_MODEL_4f3824d63f21481d803e4f6c6f17a81e"
       ],
       "layout": "IPY_MODEL_0da67359ea084e408eeb20b1371b54e9"
      }
     },
     "b227121a8d4d4521bc62a267c7e0a2a8": {
      "model_module": "@jupyter-widgets/base",
      "model_module_version": "1.2.0",
      "model_name": "LayoutModel",
      "state": {}
     },
     "b22903e046114dedab73253d85bc6d87": {
      "model_module": "@jupyter-widgets/controls",
      "model_module_version": "1.5.0",
      "model_name": "DescriptionStyleModel",
      "state": {
       "description_width": ""
      }
     },
     "b22a731bd0e549819d44fa679810a777": {
      "model_module": "@jupyter-widgets/controls",
      "model_module_version": "1.5.0",
      "model_name": "HTMLModel",
      "state": {
       "layout": "IPY_MODEL_29e97108538d426997a9fb48d9f68918",
       "style": "IPY_MODEL_15c38e13eaed45368cdd6879d6f120a1",
       "value": "Epoch: 1, 158.11663, 0.70088: "
      }
     },
     "b242b3dc03eb42039595c580429bac45": {
      "model_module": "@jupyter-widgets/controls",
      "model_module_version": "1.5.0",
      "model_name": "FloatProgressModel",
      "state": {
       "bar_style": "success",
       "layout": "IPY_MODEL_3c25ba07bcc4486891fe81e737ecb877",
       "max": 38,
       "style": "IPY_MODEL_0f943d0672db4d2fae76adc5639d1e9e",
       "value": 38
      }
     },
     "b25d852cde2045a28efd800292e3978c": {
      "model_module": "@jupyter-widgets/base",
      "model_module_version": "1.2.0",
      "model_name": "LayoutModel",
      "state": {}
     },
     "b29ffc6b7ae64257b8afa35bc106cd5a": {
      "model_module": "@jupyter-widgets/controls",
      "model_module_version": "1.5.0",
      "model_name": "ProgressStyleModel",
      "state": {
       "description_width": ""
      }
     },
     "b2ba5fb990ca4f60af0049c5c602482c": {
      "model_module": "@jupyter-widgets/controls",
      "model_module_version": "1.5.0",
      "model_name": "DescriptionStyleModel",
      "state": {
       "description_width": ""
      }
     },
     "b3737e4d287a4d6eaaee9122d6e28645": {
      "model_module": "@jupyter-widgets/controls",
      "model_module_version": "1.5.0",
      "model_name": "HBoxModel",
      "state": {
       "children": [
        "IPY_MODEL_b8893a11075443ddab3b073756206d47",
        "IPY_MODEL_d39a20fd84ce4b92b6d43fd540d64897",
        "IPY_MODEL_0a26af4578774b5db026a3cbe139374e"
       ],
       "layout": "IPY_MODEL_e70ab25cf5454631ad285f984c7afea5"
      }
     },
     "b38348fe44d24f97b948a72214f54b6b": {
      "model_module": "@jupyter-widgets/base",
      "model_module_version": "1.2.0",
      "model_name": "LayoutModel",
      "state": {}
     },
     "b3adc1ea03014980967deb360b25bb99": {
      "model_module": "@jupyter-widgets/controls",
      "model_module_version": "1.5.0",
      "model_name": "HTMLModel",
      "state": {
       "layout": "IPY_MODEL_3eb47bb7fc614ebe938b48a6de77f86d",
       "style": "IPY_MODEL_e6d2b6288a35422e88b566bf286a5309",
       "value": " 61/61 [00:00&lt;00:00, 1129.68it/s]"
      }
     },
     "b3e0ba5e54b547fdbaf88ab5d9e7eeb0": {
      "model_module": "@jupyter-widgets/controls",
      "model_module_version": "1.5.0",
      "model_name": "HTMLModel",
      "state": {
       "layout": "IPY_MODEL_21cd983a148146dcb2f8446a49914c2d",
       "style": "IPY_MODEL_6ff01db3f7d54e248387633db1b6ffdb",
       "value": "Assigning labels: 100%"
      }
     },
     "b402106d24e64c36ad01970fa9ceb2de": {
      "model_module": "@jupyter-widgets/base",
      "model_module_version": "1.2.0",
      "model_name": "LayoutModel",
      "state": {}
     },
     "b4229d66441b4ceea28c1117b11ea8ab": {
      "model_module": "@jupyter-widgets/base",
      "model_module_version": "1.2.0",
      "model_name": "LayoutModel",
      "state": {}
     },
     "b4977900dbe04bcf8ce2d6c6a389e1a3": {
      "model_module": "@jupyter-widgets/base",
      "model_module_version": "1.2.0",
      "model_name": "LayoutModel",
      "state": {}
     },
     "b500e38268334a2a87fe369d0404e1a3": {
      "model_module": "@jupyter-widgets/controls",
      "model_module_version": "1.5.0",
      "model_name": "HTMLModel",
      "state": {
       "layout": "IPY_MODEL_3910996e285b489f97467ea09329a35b",
       "style": "IPY_MODEL_8da7da7f36464d6bbc75566f035ec171",
       "value": " 160/160 [00:00&lt;00:00, 666.14it/s]"
      }
     },
     "b52b494504a84e568982949984e37636": {
      "model_module": "@jupyter-widgets/controls",
      "model_module_version": "1.5.0",
      "model_name": "HBoxModel",
      "state": {
       "children": [
        "IPY_MODEL_224c7c2621754be8a051e21a09ed7573",
        "IPY_MODEL_a8b4d7b54eb3435f9baf69c52da3275b",
        "IPY_MODEL_3608819097b64d749d84be63e09cb5a4"
       ],
       "layout": "IPY_MODEL_95dc63a4e0bd482f9b005202d4b2bea5"
      }
     },
     "b53f0616c11347e9be4a6e4ab26623dd": {
      "model_module": "@jupyter-widgets/controls",
      "model_module_version": "1.5.0",
      "model_name": "ProgressStyleModel",
      "state": {
       "description_width": ""
      }
     },
     "b573aa1fb9e04023bb37c78fe53ac54a": {
      "model_module": "@jupyter-widgets/controls",
      "model_module_version": "1.5.0",
      "model_name": "HTMLModel",
      "state": {
       "layout": "IPY_MODEL_29f1da3a757f4cd38617c3c2ae7df4b5",
       "style": "IPY_MODEL_7e46d0f8a6a44d65976390fd070ac805",
       "value": " 160/160 [00:00&lt;00:00, 670.14it/s]"
      }
     },
     "b5980b112c564f9d82492fad340e9c2c": {
      "model_module": "@jupyter-widgets/base",
      "model_module_version": "1.2.0",
      "model_name": "LayoutModel",
      "state": {}
     },
     "b5a2aa7d9ac4499796828be2a5ce49ed": {
      "model_module": "@jupyter-widgets/controls",
      "model_module_version": "1.5.0",
      "model_name": "HTMLModel",
      "state": {
       "layout": "IPY_MODEL_dede135af0504dd3ac681f71769ba951",
       "style": "IPY_MODEL_f4fed98075214eb887009db388392886",
       "value": " 271/? [03:03&lt;00:00,  1.90it/s]"
      }
     },
     "b61074df167e4b0f93211e09dd47638d": {
      "model_module": "@jupyter-widgets/base",
      "model_module_version": "1.2.0",
      "model_name": "LayoutModel",
      "state": {}
     },
     "b6265c9bf5b747f5a1c23c23856d1a09": {
      "model_module": "@jupyter-widgets/controls",
      "model_module_version": "1.5.0",
      "model_name": "HTMLModel",
      "state": {
       "layout": "IPY_MODEL_cc809d0e25a14852b217464a3dbf7563",
       "style": "IPY_MODEL_5919842093b74f629d6fc592331666fb",
       "value": " 46/46 [00:00&lt;00:00, 1352.97it/s]"
      }
     },
     "b6699b688e4742a59be2cfd0bb574a56": {
      "model_module": "@jupyter-widgets/controls",
      "model_module_version": "1.5.0",
      "model_name": "DescriptionStyleModel",
      "state": {
       "description_width": ""
      }
     },
     "b67c9fed58a841cc8d1c6e97a5254ce7": {
      "model_module": "@jupyter-widgets/controls",
      "model_module_version": "1.5.0",
      "model_name": "HTMLModel",
      "state": {
       "layout": "IPY_MODEL_b6c0f23dff8942339dacda531733d462",
       "style": "IPY_MODEL_fd7ddd04df2048399ef1b763fdca312b",
       "value": " 5/271 [00:03&lt;03:13,  1.37it/s]"
      }
     },
     "b6849974260d47698d8ebcef02ec2c32": {
      "model_module": "@jupyter-widgets/controls",
      "model_module_version": "1.5.0",
      "model_name": "ProgressStyleModel",
      "state": {
       "description_width": ""
      }
     },
     "b6ae07a5350e4be2a315cd858ebfd235": {
      "model_module": "@jupyter-widgets/controls",
      "model_module_version": "1.5.0",
      "model_name": "ProgressStyleModel",
      "state": {
       "description_width": ""
      }
     },
     "b6c0f23dff8942339dacda531733d462": {
      "model_module": "@jupyter-widgets/base",
      "model_module_version": "1.2.0",
      "model_name": "LayoutModel",
      "state": {}
     },
     "b6d0500448d54cc087b19d3ecf2ca376": {
      "model_module": "@jupyter-widgets/base",
      "model_module_version": "1.2.0",
      "model_name": "LayoutModel",
      "state": {}
     },
     "b6e7bab7ab954fa8b624a5e98ed9e000": {
      "model_module": "@jupyter-widgets/controls",
      "model_module_version": "1.5.0",
      "model_name": "HBoxModel",
      "state": {
       "children": [
        "IPY_MODEL_52fd1d584e124151a3056318bb4fc8ce",
        "IPY_MODEL_c7b2e09afa8a4349b9d313d9f97df5db",
        "IPY_MODEL_baf7e2bb8a3e4b13b079da84d2b3dd80"
       ],
       "layout": "IPY_MODEL_66c81c0f0b1947eea0cdf22b507de9a6"
      }
     },
     "b7024bfef4a048c185fc248bc5e56f19": {
      "model_module": "@jupyter-widgets/base",
      "model_module_version": "1.2.0",
      "model_name": "LayoutModel",
      "state": {}
     },
     "b7582628e5964a01b33ebf2ab20d1924": {
      "model_module": "@jupyter-widgets/base",
      "model_module_version": "1.2.0",
      "model_name": "LayoutModel",
      "state": {}
     },
     "b7587c58cfad4b79b811c4445a1e9670": {
      "model_module": "@jupyter-widgets/controls",
      "model_module_version": "1.5.0",
      "model_name": "ProgressStyleModel",
      "state": {
       "description_width": ""
      }
     },
     "b7788d1217df4cbd8c05b01bb22df674": {
      "model_module": "@jupyter-widgets/controls",
      "model_module_version": "1.5.0",
      "model_name": "DescriptionStyleModel",
      "state": {
       "description_width": ""
      }
     },
     "b7d743e0e54449a5b14a88554c88248d": {
      "model_module": "@jupyter-widgets/base",
      "model_module_version": "1.2.0",
      "model_name": "LayoutModel",
      "state": {}
     },
     "b8893a11075443ddab3b073756206d47": {
      "model_module": "@jupyter-widgets/controls",
      "model_module_version": "1.5.0",
      "model_name": "HTMLModel",
      "state": {
       "layout": "IPY_MODEL_e57a42d571604ef6b8f4a794f9535371",
       "style": "IPY_MODEL_791535c9402b4e91b99e7e07e5a99ef3",
       "value": "Epoch: 5, 77.34991, 0.36943: "
      }
     },
     "b8a46a3f926345dd94f75827a65ecea5": {
      "model_module": "@jupyter-widgets/controls",
      "model_module_version": "1.5.0",
      "model_name": "FloatProgressModel",
      "state": {
       "bar_style": "success",
       "layout": "IPY_MODEL_285e61d2c38944378b5bc709cc08d3d0",
       "max": 270,
       "style": "IPY_MODEL_e225ff45e69b40ecad912ba1b74466d5",
       "value": 270
      }
     },
     "b92cd814e1cb4c8ab256ae69aa1c8d45": {
      "model_module": "@jupyter-widgets/controls",
      "model_module_version": "1.5.0",
      "model_name": "DescriptionStyleModel",
      "state": {
       "description_width": ""
      }
     },
     "b97b269c35c545abac5e04738b64be69": {
      "model_module": "@jupyter-widgets/base",
      "model_module_version": "1.2.0",
      "model_name": "LayoutModel",
      "state": {}
     },
     "b9da4603f8754921b6b7a43b5b21cd7e": {
      "model_module": "@jupyter-widgets/controls",
      "model_module_version": "1.5.0",
      "model_name": "HTMLModel",
      "state": {
       "layout": "IPY_MODEL_19bdcd489902468fa8914abd8785b924",
       "style": "IPY_MODEL_aa0993663b5147ddb5c738e27df90a23",
       "value": " 23/23 [00:00&lt;00:00, 1150.08it/s]"
      }
     },
     "ba27373874e04726a6d05a942a27b68a": {
      "model_module": "@jupyter-widgets/controls",
      "model_module_version": "1.5.0",
      "model_name": "ProgressStyleModel",
      "state": {
       "description_width": ""
      }
     },
     "baf7e2bb8a3e4b13b079da84d2b3dd80": {
      "model_module": "@jupyter-widgets/controls",
      "model_module_version": "1.5.0",
      "model_name": "HTMLModel",
      "state": {
       "layout": "IPY_MODEL_76e4c36132cc431297603d9954b4d52e",
       "style": "IPY_MODEL_67267de802894f8f8af807b7652b44b5",
       "value": " 271/? [03:09&lt;00:00,  1.81it/s]"
      }
     },
     "bb00c635885a40c8a7800b56c215c36c": {
      "model_module": "@jupyter-widgets/base",
      "model_module_version": "1.2.0",
      "model_name": "LayoutModel",
      "state": {}
     },
     "bb0d592134784a12a0fd92a143c29590": {
      "model_module": "@jupyter-widgets/controls",
      "model_module_version": "1.5.0",
      "model_name": "ProgressStyleModel",
      "state": {
       "description_width": ""
      }
     },
     "bb397177be81447f98b5ad067f3f7400": {
      "model_module": "@jupyter-widgets/base",
      "model_module_version": "1.2.0",
      "model_name": "LayoutModel",
      "state": {}
     },
     "bc2bde8f41a14b5fb653f9366cbda9f0": {
      "model_module": "@jupyter-widgets/controls",
      "model_module_version": "1.5.0",
      "model_name": "FloatProgressModel",
      "state": {
       "bar_style": "success",
       "layout": "IPY_MODEL_91f7446b3cba4db18c078cd75f18f3fe",
       "max": 50,
       "style": "IPY_MODEL_a0c010ce00da4e439286531a189e08b2",
       "value": 50
      }
     },
     "bca98b94e6e14c6699c9de30ee98e43a": {
      "model_module": "@jupyter-widgets/controls",
      "model_module_version": "1.5.0",
      "model_name": "HBoxModel",
      "state": {
       "children": [
        "IPY_MODEL_a2eb5efb49d9435e8a67a792000e9e42",
        "IPY_MODEL_1705c59bb37e4792be10f458e5eb8d12",
        "IPY_MODEL_503bc7f767294a87a0fb4d253860167f"
       ],
       "layout": "IPY_MODEL_4858afabe25a4233b4e880f696fa812b"
      }
     },
     "bcb6b8f344ef4b4485d3ae2e3dca3eb8": {
      "model_module": "@jupyter-widgets/controls",
      "model_module_version": "1.5.0",
      "model_name": "DescriptionStyleModel",
      "state": {
       "description_width": ""
      }
     },
     "bd18e39b31fe4e2e8112a3668ab9797c": {
      "model_module": "@jupyter-widgets/controls",
      "model_module_version": "1.5.0",
      "model_name": "HBoxModel",
      "state": {
       "children": [
        "IPY_MODEL_29c97df08b0b40b6bbc64d534f3e545c",
        "IPY_MODEL_edfc230f4cdd4a2e8031690ac83eb3b9",
        "IPY_MODEL_1d612dc6e2364d1fb958579585711925"
       ],
       "layout": "IPY_MODEL_8c288c66657446f081ac1d4d532b31a7"
      }
     },
     "bd367b86f20a454bb08d88f1e824ce9f": {
      "model_module": "@jupyter-widgets/controls",
      "model_module_version": "1.5.0",
      "model_name": "DescriptionStyleModel",
      "state": {
       "description_width": ""
      }
     },
     "bd6f552a54664d99bfb5e9ee9e8e74b0": {
      "model_module": "@jupyter-widgets/controls",
      "model_module_version": "1.5.0",
      "model_name": "DescriptionStyleModel",
      "state": {
       "description_width": ""
      }
     },
     "bd93fa859861440c929b2c9464f23715": {
      "model_module": "@jupyter-widgets/controls",
      "model_module_version": "1.5.0",
      "model_name": "DescriptionStyleModel",
      "state": {
       "description_width": ""
      }
     },
     "bdc7fe556ed549eb9cff0d6ed66e7876": {
      "model_module": "@jupyter-widgets/base",
      "model_module_version": "1.2.0",
      "model_name": "LayoutModel",
      "state": {}
     },
     "be22f1f393714efd80917e87ffa54f46": {
      "model_module": "@jupyter-widgets/controls",
      "model_module_version": "1.5.0",
      "model_name": "ProgressStyleModel",
      "state": {
       "description_width": ""
      }
     },
     "be2e635773a3473c8a0ce97cd2f7c516": {
      "model_module": "@jupyter-widgets/controls",
      "model_module_version": "1.5.0",
      "model_name": "HTMLModel",
      "state": {
       "layout": "IPY_MODEL_529c51342ca543a287b8b7307c135f65",
       "style": "IPY_MODEL_d7537338427844d8bf03142b83c0139e",
       "value": " 526/526 [00:06&lt;00:00, 85.24it/s]"
      }
     },
     "be6d206a779c431db81e312f758c1647": {
      "model_module": "@jupyter-widgets/base",
      "model_module_version": "1.2.0",
      "model_name": "LayoutModel",
      "state": {}
     },
     "be751347e7e74b4e8b441c4c174bc913": {
      "model_module": "@jupyter-widgets/controls",
      "model_module_version": "1.5.0",
      "model_name": "DescriptionStyleModel",
      "state": {
       "description_width": ""
      }
     },
     "bebe134a6c6b455c8703f6f17cc6707c": {
      "model_module": "@jupyter-widgets/controls",
      "model_module_version": "1.5.0",
      "model_name": "DescriptionStyleModel",
      "state": {
       "description_width": ""
      }
     },
     "bebe6960e9ff49e38ad954046656d8f2": {
      "model_module": "@jupyter-widgets/base",
      "model_module_version": "1.2.0",
      "model_name": "LayoutModel",
      "state": {}
     },
     "bee7eb4d84b04851adb44b118f13c31b": {
      "model_module": "@jupyter-widgets/base",
      "model_module_version": "1.2.0",
      "model_name": "LayoutModel",
      "state": {}
     },
     "bf4bed198d384f8d8c1eadadc85af076": {
      "model_module": "@jupyter-widgets/base",
      "model_module_version": "1.2.0",
      "model_name": "LayoutModel",
      "state": {}
     },
     "bf9fb9539ead4a5b8668810d10c43d5a": {
      "model_module": "@jupyter-widgets/base",
      "model_module_version": "1.2.0",
      "model_name": "LayoutModel",
      "state": {}
     },
     "bfb54b190020404abfb8872ef66540da": {
      "model_module": "@jupyter-widgets/controls",
      "model_module_version": "1.5.0",
      "model_name": "ProgressStyleModel",
      "state": {
       "description_width": ""
      }
     },
     "bfd1c4a93a83425c8c6a446095626e96": {
      "model_module": "@jupyter-widgets/controls",
      "model_module_version": "1.5.0",
      "model_name": "DescriptionStyleModel",
      "state": {
       "description_width": ""
      }
     },
     "bfe938ffd8da4f6795eedd2666437c67": {
      "model_module": "@jupyter-widgets/base",
      "model_module_version": "1.2.0",
      "model_name": "LayoutModel",
      "state": {}
     },
     "c092d493dcbd47f8855cd5e72489394e": {
      "model_module": "@jupyter-widgets/base",
      "model_module_version": "1.2.0",
      "model_name": "LayoutModel",
      "state": {}
     },
     "c1048693c5eb4f1ba0285d7ec71490f6": {
      "model_module": "@jupyter-widgets/controls",
      "model_module_version": "1.5.0",
      "model_name": "DescriptionStyleModel",
      "state": {
       "description_width": ""
      }
     },
     "c148cc9588a644d282f68cc7d0e16fb9": {
      "model_module": "@jupyter-widgets/base",
      "model_module_version": "1.2.0",
      "model_name": "LayoutModel",
      "state": {}
     },
     "c198e1b98d534ca6950ccc31b4b87e46": {
      "model_module": "@jupyter-widgets/controls",
      "model_module_version": "1.5.0",
      "model_name": "HTMLModel",
      "state": {
       "layout": "IPY_MODEL_be6d206a779c431db81e312f758c1647",
       "style": "IPY_MODEL_488831bccb5f44cfb135d59bf57adc22",
       "value": " 23/23 [00:00&lt;00:00, 1095.23it/s]"
      }
     },
     "c1b998ae03b0454b98134350a58c0519": {
      "model_module": "@jupyter-widgets/controls",
      "model_module_version": "1.5.0",
      "model_name": "DescriptionStyleModel",
      "state": {
       "description_width": ""
      }
     },
     "c1cc7d307f5545b2a4311c89eaa7c39f": {
      "model_module": "@jupyter-widgets/base",
      "model_module_version": "1.2.0",
      "model_name": "LayoutModel",
      "state": {}
     },
     "c1d6fe3a8db34131991840d4be140c5a": {
      "model_module": "@jupyter-widgets/controls",
      "model_module_version": "1.5.0",
      "model_name": "ProgressStyleModel",
      "state": {
       "description_width": ""
      }
     },
     "c205ddf4c96b45788c60d7c6f2069c72": {
      "model_module": "@jupyter-widgets/controls",
      "model_module_version": "1.5.0",
      "model_name": "HTMLModel",
      "state": {
       "layout": "IPY_MODEL_5dac902b0fe04a148c4ef90a847b9350",
       "style": "IPY_MODEL_1bed9ec25b874a4799b10a9c5c52cd3f",
       "value": "Assigning labels: 100%"
      }
     },
     "c229388af85f434e9deed13617a55e59": {
      "model_module": "@jupyter-widgets/controls",
      "model_module_version": "1.5.0",
      "model_name": "HTMLModel",
      "state": {
       "layout": "IPY_MODEL_23f7418b6c1346ea87e382bfc5e23781",
       "style": "IPY_MODEL_25687cc699374d998366bf88b28fd354",
       "value": "  2%"
      }
     },
     "c2c4bb8afd2d4930b8fdf48ed95c12b6": {
      "model_module": "@jupyter-widgets/controls",
      "model_module_version": "1.5.0",
      "model_name": "FloatProgressModel",
      "state": {
       "bar_style": "danger",
       "layout": "IPY_MODEL_0ce48f1bc9084f799f42efb5573ec564",
       "max": 270,
       "style": "IPY_MODEL_e336b182aebb4fb9a1290375a3ed6ffd",
       "value": 12
      }
     },
     "c2f8faae160c408590303f06d10372f0": {
      "model_module": "@jupyter-widgets/controls",
      "model_module_version": "1.5.0",
      "model_name": "HTMLModel",
      "state": {
       "layout": "IPY_MODEL_3ae27dbf1af94b8690e53486cf06dd40",
       "style": "IPY_MODEL_6e0a0fe8598c4285bab99920660345ea",
       "value": "Assigning labels: 100%"
      }
     },
     "c311396e18ba489fbd3cae0b1ba18e1f": {
      "model_module": "@jupyter-widgets/controls",
      "model_module_version": "1.5.0",
      "model_name": "HBoxModel",
      "state": {
       "children": [
        "IPY_MODEL_2dfb1ee215e14ad7b78e0341aa72314d",
        "IPY_MODEL_f4eea56b269242ea8a6cab01c5c39336",
        "IPY_MODEL_d017283ce9834e598db8a9fd95de69a1"
       ],
       "layout": "IPY_MODEL_9484c2be50bd4c4b86728aae64a8fee9"
      }
     },
     "c39c04d9d27a4ebf9d263b952aa6de6d": {
      "model_module": "@jupyter-widgets/base",
      "model_module_version": "1.2.0",
      "model_name": "LayoutModel",
      "state": {}
     },
     "c40099b659144823a30ec6387a3dccfb": {
      "model_module": "@jupyter-widgets/controls",
      "model_module_version": "1.5.0",
      "model_name": "FloatProgressModel",
      "state": {
       "bar_style": "success",
       "layout": "IPY_MODEL_4c06b110fec345ff998a81f9010244d3",
       "max": 270,
       "style": "IPY_MODEL_7995262a2d3e4fe0a169be7d45f6f8ec",
       "value": 270
      }
     },
     "c49fe355857d4bb4a882d01f63c7a3cb": {
      "model_module": "@jupyter-widgets/base",
      "model_module_version": "1.2.0",
      "model_name": "LayoutModel",
      "state": {}
     },
     "c4ab98d1010146c7af624982d7cbd53b": {
      "model_module": "@jupyter-widgets/controls",
      "model_module_version": "1.5.0",
      "model_name": "HTMLModel",
      "state": {
       "layout": "IPY_MODEL_d50b92c7e35b42a69bca6fec8d14507b",
       "style": "IPY_MODEL_7f833cc1d8f74dffb375fa28a3c9944f",
       "value": " 271/? [03:04&lt;00:00,  1.89it/s]"
      }
     },
     "c50a43f9f89f4f928872a2dadfb55a86": {
      "model_module": "@jupyter-widgets/controls",
      "model_module_version": "1.5.0",
      "model_name": "HTMLModel",
      "state": {
       "layout": "IPY_MODEL_d1d8b8468b054df9990201fd505c8e1d",
       "style": "IPY_MODEL_13384aa2b7bf4f5f98ad12e09e8e634b",
       "value": " 42/42 [00:00&lt;00:00, 196.85it/s]"
      }
     },
     "c52c001542c24339af7430492e060b8f": {
      "model_module": "@jupyter-widgets/controls",
      "model_module_version": "1.5.0",
      "model_name": "DescriptionStyleModel",
      "state": {
       "description_width": ""
      }
     },
     "c5307ed31fae4353b8df2c7640151330": {
      "model_module": "@jupyter-widgets/controls",
      "model_module_version": "1.5.0",
      "model_name": "HTMLModel",
      "state": {
       "layout": "IPY_MODEL_6ca9c5ff1c454e6180415a3f6e72350f",
       "style": "IPY_MODEL_e12273149cd944bba14680f447c8a82f",
       "value": " 50/50 [00:00&lt;00:00, 1458.43it/s]"
      }
     },
     "c53c7ff2f13046aba5dea73cea01cec0": {
      "model_module": "@jupyter-widgets/controls",
      "model_module_version": "1.5.0",
      "model_name": "ProgressStyleModel",
      "state": {
       "description_width": ""
      }
     },
     "c54835b921524026ab2f0a3d8e7f11a6": {
      "model_module": "@jupyter-widgets/controls",
      "model_module_version": "1.5.0",
      "model_name": "HTMLModel",
      "state": {
       "layout": "IPY_MODEL_9f45636c19e9421797c53b1b02f78db4",
       "style": "IPY_MODEL_859ab8e33efb4004b5aded9553f3c039",
       "value": "Assigning labels: 100%"
      }
     },
     "c54dee39e9934ecab0fa4bc176842941": {
      "model_module": "@jupyter-widgets/controls",
      "model_module_version": "1.5.0",
      "model_name": "HBoxModel",
      "state": {
       "children": [
        "IPY_MODEL_d32614d1d8d949698b8fa07925c76e29",
        "IPY_MODEL_51c3e637d1574a6b9596741d39e38fde",
        "IPY_MODEL_fe764df90afe4169802b3f5c767f155b"
       ],
       "layout": "IPY_MODEL_dc6230421a2144bd90558847b6c0bcb6"
      }
     },
     "c57adc5d391c4e08a39ead2bd3c82e7b": {
      "model_module": "@jupyter-widgets/controls",
      "model_module_version": "1.5.0",
      "model_name": "DescriptionStyleModel",
      "state": {
       "description_width": ""
      }
     },
     "c589621edeb54d0592a072bc7cf23715": {
      "model_module": "@jupyter-widgets/controls",
      "model_module_version": "1.5.0",
      "model_name": "HTMLModel",
      "state": {
       "layout": "IPY_MODEL_01f3f0fad2b349e9bcd15194a732a80c",
       "style": "IPY_MODEL_75527b4df7fc4f4a88d4c66a6b16506d",
       "value": "Epoch: 2, 209.50426, 2.28059:  34%"
      }
     },
     "c5a9c7c81b404ec8acbda8d1231e0513": {
      "model_module": "@jupyter-widgets/controls",
      "model_module_version": "1.5.0",
      "model_name": "FloatProgressModel",
      "state": {
       "bar_style": "success",
       "layout": "IPY_MODEL_4e1094fe5a6e4a08be11dbe9632ca0ad",
       "max": 42,
       "style": "IPY_MODEL_58253811b99542dfbf4e9234f933b8b1",
       "value": 42
      }
     },
     "c5ae5ee33e234244a71664bac3dad887": {
      "model_module": "@jupyter-widgets/controls",
      "model_module_version": "1.5.0",
      "model_name": "HTMLModel",
      "state": {
       "layout": "IPY_MODEL_5a60c8cbf4794a4a91ccdda0a72e6c01",
       "style": "IPY_MODEL_012f90b9345f417f99edcad8a27cefb0",
       "value": " 0/270 [00:00&lt;?, ?it/s]"
      }
     },
     "c67f56be843547a69cdbe3bd2c9aaf32": {
      "model_module": "@jupyter-widgets/controls",
      "model_module_version": "1.5.0",
      "model_name": "FloatProgressModel",
      "state": {
       "bar_style": "success",
       "layout": "IPY_MODEL_f45b0c3b9a464287a2eef23b2a311878",
       "max": 270,
       "style": "IPY_MODEL_d7e29a9a805046239bb52b44cb8b76eb",
       "value": 270
      }
     },
     "c6f825cb58334ce9a9dcfaaea8bd93fd": {
      "model_module": "@jupyter-widgets/controls",
      "model_module_version": "1.5.0",
      "model_name": "HTMLModel",
      "state": {
       "layout": "IPY_MODEL_496dd6d011294955ba96eea27c091894",
       "style": "IPY_MODEL_40e5ba83458d4094ad8efd4a0c2b47ae",
       "value": " 58/58 [00:00&lt;00:00, 1288.92it/s]"
      }
     },
     "c7133fe47acd4dd193109b52f176fe96": {
      "model_module": "@jupyter-widgets/controls",
      "model_module_version": "1.5.0",
      "model_name": "HTMLModel",
      "state": {
       "layout": "IPY_MODEL_81aa20ed57d84c3a98d895a73510b66c",
       "style": "IPY_MODEL_276d7071f1634806bf8937af65931868",
       "value": "Epoch: 4, 84.8626, 0.13148: "
      }
     },
     "c71bc9ab0d2d4157ae828685793a9274": {
      "model_module": "@jupyter-widgets/controls",
      "model_module_version": "1.5.0",
      "model_name": "FloatProgressModel",
      "state": {
       "bar_style": "success",
       "layout": "IPY_MODEL_944f6240d26149068e8743f94afc2fbd",
       "max": 38,
       "style": "IPY_MODEL_e3b46a7add61452b8284000c3b8130ae",
       "value": 38
      }
     },
     "c7504332fb4d4affb7da8ca4e0b20a28": {
      "model_module": "@jupyter-widgets/controls",
      "model_module_version": "1.5.0",
      "model_name": "ProgressStyleModel",
      "state": {
       "description_width": ""
      }
     },
     "c761803251734557aca7a920f24c2463": {
      "model_module": "@jupyter-widgets/controls",
      "model_module_version": "1.5.0",
      "model_name": "HTMLModel",
      "state": {
       "layout": "IPY_MODEL_f71db6aa99bd43a893c8f8145798a6b6",
       "style": "IPY_MODEL_00ed5084d10743829de935945db24131",
       "value": " 50/50 [00:00&lt;00:00, 1470.77it/s]"
      }
     },
     "c7b2e09afa8a4349b9d313d9f97df5db": {
      "model_module": "@jupyter-widgets/controls",
      "model_module_version": "1.5.0",
      "model_name": "FloatProgressModel",
      "state": {
       "bar_style": "success",
       "layout": "IPY_MODEL_bb00c635885a40c8a7800b56c215c36c",
       "max": 270,
       "style": "IPY_MODEL_c53c7ff2f13046aba5dea73cea01cec0",
       "value": 270
      }
     },
     "c91d0d420789407498db6500d3c55a15": {
      "model_module": "@jupyter-widgets/base",
      "model_module_version": "1.2.0",
      "model_name": "LayoutModel",
      "state": {}
     },
     "c93459d8e10d44a08eae815405f853f3": {
      "model_module": "@jupyter-widgets/controls",
      "model_module_version": "1.5.0",
      "model_name": "HBoxModel",
      "state": {
       "children": [
        "IPY_MODEL_da497aacd0514b7ca5bd7f15783942b3",
        "IPY_MODEL_32058a9edd9b44c887f195cf8f134c24",
        "IPY_MODEL_0066efe1a3a54a7e96c01fbab2f7e706"
       ],
       "layout": "IPY_MODEL_a77a8c114a6348c1b9291317397d38c9"
      }
     },
     "c9bb10ae09874a0cbe9b484e26c08a54": {
      "model_module": "@jupyter-widgets/controls",
      "model_module_version": "1.5.0",
      "model_name": "HBoxModel",
      "state": {
       "children": [
        "IPY_MODEL_ab240b416ba945bfa0888496b9309806",
        "IPY_MODEL_532eafe3090242d99c15cb5e50ff04ac",
        "IPY_MODEL_c4ab98d1010146c7af624982d7cbd53b"
       ],
       "layout": "IPY_MODEL_fd81cf1e06da4a46a2cc7219207e5805"
      }
     },
     "cab5792a9992409883b1396b376a66ab": {
      "model_module": "@jupyter-widgets/base",
      "model_module_version": "1.2.0",
      "model_name": "LayoutModel",
      "state": {}
     },
     "cad285e786fd4f5bb558237831c29114": {
      "model_module": "@jupyter-widgets/base",
      "model_module_version": "1.2.0",
      "model_name": "LayoutModel",
      "state": {}
     },
     "cad4d7dcddd1494791dd8ab6b17fe0d2": {
      "model_module": "@jupyter-widgets/controls",
      "model_module_version": "1.5.0",
      "model_name": "ProgressStyleModel",
      "state": {
       "description_width": ""
      }
     },
     "cb39ff5411194f9bbc245c51e58fc44f": {
      "model_module": "@jupyter-widgets/base",
      "model_module_version": "1.2.0",
      "model_name": "LayoutModel",
      "state": {}
     },
     "cb40a488ebac4f36bc6c2d72d2670a91": {
      "model_module": "@jupyter-widgets/controls",
      "model_module_version": "1.5.0",
      "model_name": "ProgressStyleModel",
      "state": {
       "description_width": ""
      }
     },
     "cb5b9599c13a431bb2d25962fa624a24": {
      "model_module": "@jupyter-widgets/base",
      "model_module_version": "1.2.0",
      "model_name": "LayoutModel",
      "state": {}
     },
     "cbd10d18024a4d1aaa2bd030c8279529": {
      "model_module": "@jupyter-widgets/controls",
      "model_module_version": "1.5.0",
      "model_name": "HBoxModel",
      "state": {
       "children": [
        "IPY_MODEL_1e05082823354c9dae0e910b66753b63",
        "IPY_MODEL_9525621d28b54560bf9e378ea65fedba",
        "IPY_MODEL_b043b8f8a3ee4a4aa2b8632318759238"
       ],
       "layout": "IPY_MODEL_e1cfeed7d56545a59ed9cd663a78bbb1"
      }
     },
     "cbd6df977e96413993925c7301b0dff2": {
      "model_module": "@jupyter-widgets/base",
      "model_module_version": "1.2.0",
      "model_name": "LayoutModel",
      "state": {}
     },
     "cc4f5ab198034bb69abac3bbda01ad03": {
      "model_module": "@jupyter-widgets/controls",
      "model_module_version": "1.5.0",
      "model_name": "ProgressStyleModel",
      "state": {
       "description_width": ""
      }
     },
     "cc809d0e25a14852b217464a3dbf7563": {
      "model_module": "@jupyter-widgets/base",
      "model_module_version": "1.2.0",
      "model_name": "LayoutModel",
      "state": {}
     },
     "ccaf22bd034744aeba54ba372c76c9fb": {
      "model_module": "@jupyter-widgets/controls",
      "model_module_version": "1.5.0",
      "model_name": "DescriptionStyleModel",
      "state": {
       "description_width": ""
      }
     },
     "ce09a807e86b4a538305a9ddcda84cfc": {
      "model_module": "@jupyter-widgets/controls",
      "model_module_version": "1.5.0",
      "model_name": "ProgressStyleModel",
      "state": {
       "description_width": ""
      }
     },
     "ce6ede49ef514f41b1e2b4c475f7fc1b": {
      "model_module": "@jupyter-widgets/controls",
      "model_module_version": "1.5.0",
      "model_name": "HTMLModel",
      "state": {
       "layout": "IPY_MODEL_d1e0ffb568c8443e9703f324f9db3608",
       "style": "IPY_MODEL_dac33586faa549f2bf51424b9900e82a",
       "value": "  0%"
      }
     },
     "ce9bb987e1034337ae6e6f77712f0d8f": {
      "model_module": "@jupyter-widgets/controls",
      "model_module_version": "1.5.0",
      "model_name": "HTMLModel",
      "state": {
       "layout": "IPY_MODEL_178ffb5c7ed142ce8bf8d6d00f0a2fee",
       "style": "IPY_MODEL_627fd0d46d1b4d11a94b504a6c4eb7e3",
       "value": " 46/46 [00:00&lt;00:00, 1314.27it/s]"
      }
     },
     "ceaf9cf1f075402abab5dc8701514bf6": {
      "model_module": "@jupyter-widgets/controls",
      "model_module_version": "1.5.0",
      "model_name": "ProgressStyleModel",
      "state": {
       "description_width": ""
      }
     },
     "ceddb61097a148f6a472883eac100d6d": {
      "model_module": "@jupyter-widgets/base",
      "model_module_version": "1.2.0",
      "model_name": "LayoutModel",
      "state": {}
     },
     "cf760b36c5ff4323a17ce29633b86d89": {
      "model_module": "@jupyter-widgets/controls",
      "model_module_version": "1.5.0",
      "model_name": "ProgressStyleModel",
      "state": {
       "description_width": ""
      }
     },
     "cf9b9dc382bf4876ab41e749cbca6a36": {
      "model_module": "@jupyter-widgets/controls",
      "model_module_version": "1.5.0",
      "model_name": "FloatProgressModel",
      "state": {
       "bar_style": "success",
       "layout": "IPY_MODEL_86e12a450ef8413e87d6a4e1a9c5339d",
       "max": 46,
       "style": "IPY_MODEL_3910f492b4c44e26894c81c150844300",
       "value": 46
      }
     },
     "cffa0bc1c9b64789ad085e19e54db509": {
      "model_module": "@jupyter-widgets/controls",
      "model_module_version": "1.5.0",
      "model_name": "ProgressStyleModel",
      "state": {
       "description_width": ""
      }
     },
     "d017283ce9834e598db8a9fd95de69a1": {
      "model_module": "@jupyter-widgets/controls",
      "model_module_version": "1.5.0",
      "model_name": "HTMLModel",
      "state": {
       "layout": "IPY_MODEL_d382e7f188354e0e94baf74c0cdffe48",
       "style": "IPY_MODEL_ee6c0ac79756488a974338a346723b3c",
       "value": " 0/270 [00:01&lt;?, ?it/s]"
      }
     },
     "d0719680922846eba81e60709df2bec9": {
      "model_module": "@jupyter-widgets/base",
      "model_module_version": "1.2.0",
      "model_name": "LayoutModel",
      "state": {}
     },
     "d107f7de337842e497321004a268daf5": {
      "model_module": "@jupyter-widgets/controls",
      "model_module_version": "1.5.0",
      "model_name": "HTMLModel",
      "state": {
       "layout": "IPY_MODEL_77c1af97f9ff4f5298c4827d44af8264",
       "style": "IPY_MODEL_b2ba5fb990ca4f60af0049c5c602482c",
       "value": " 271/? [03:01&lt;00:00,  1.90it/s]"
      }
     },
     "d122882aa0de4ef6858ef670c94c2536": {
      "model_module": "@jupyter-widgets/controls",
      "model_module_version": "1.5.0",
      "model_name": "FloatProgressModel",
      "state": {
       "bar_style": "success",
       "layout": "IPY_MODEL_5e189f4346e04d23afcdcdd42a4185b4",
       "max": 270,
       "style": "IPY_MODEL_4254bc948f39499dacd3a5953b28726f",
       "value": 270
      }
     },
     "d125f0df9f4941bfa5b188e7f301cbd7": {
      "model_module": "@jupyter-widgets/controls",
      "model_module_version": "1.5.0",
      "model_name": "ProgressStyleModel",
      "state": {
       "description_width": ""
      }
     },
     "d12856a4c0c8414baec94c6b1404a81c": {
      "model_module": "@jupyter-widgets/controls",
      "model_module_version": "1.5.0",
      "model_name": "DescriptionStyleModel",
      "state": {
       "description_width": ""
      }
     },
     "d131cd9e36b947eb9059947314b578c7": {
      "model_module": "@jupyter-widgets/controls",
      "model_module_version": "1.5.0",
      "model_name": "FloatProgressModel",
      "state": {
       "bar_style": "success",
       "layout": "IPY_MODEL_ffc7542eee3b4f57a41c277adfb5cc80",
       "max": 270,
       "style": "IPY_MODEL_dc25ad977d904d27bfe23672be35526f",
       "value": 270
      }
     },
     "d13da43e5d284180bf7a3631e76f904a": {
      "model_module": "@jupyter-widgets/controls",
      "model_module_version": "1.5.0",
      "model_name": "HTMLModel",
      "state": {
       "layout": "IPY_MODEL_53ae2cd9a789436c96f0c2af8187a72a",
       "style": "IPY_MODEL_47eb5ea292134e0e88c3355490300f7d",
       "value": "Assigning labels: 100%"
      }
     },
     "d14263d60fd34a7d811865b2aab4f99d": {
      "model_module": "@jupyter-widgets/controls",
      "model_module_version": "1.5.0",
      "model_name": "DescriptionStyleModel",
      "state": {
       "description_width": ""
      }
     },
     "d19deac3432f42a4ab154a308e20032f": {
      "model_module": "@jupyter-widgets/base",
      "model_module_version": "1.2.0",
      "model_name": "LayoutModel",
      "state": {}
     },
     "d1d8b8468b054df9990201fd505c8e1d": {
      "model_module": "@jupyter-widgets/base",
      "model_module_version": "1.2.0",
      "model_name": "LayoutModel",
      "state": {}
     },
     "d1e0ffb568c8443e9703f324f9db3608": {
      "model_module": "@jupyter-widgets/base",
      "model_module_version": "1.2.0",
      "model_name": "LayoutModel",
      "state": {}
     },
     "d29651a45eed45b09bd5fbad286ea1d2": {
      "model_module": "@jupyter-widgets/controls",
      "model_module_version": "1.5.0",
      "model_name": "HTMLModel",
      "state": {
       "layout": "IPY_MODEL_1bba29ded94d4d588163ae7ee8a6de72",
       "style": "IPY_MODEL_1fe9a3b6f3fa4ff8a45a7d84d594d5c1",
       "value": "Assigning labels: 100%"
      }
     },
     "d2bf7a5aff7d49138849cb02e13b71d5": {
      "model_module": "@jupyter-widgets/controls",
      "model_module_version": "1.5.0",
      "model_name": "DescriptionStyleModel",
      "state": {
       "description_width": ""
      }
     },
     "d2ea251466f74f56bf0863e8f2a73963": {
      "model_module": "@jupyter-widgets/base",
      "model_module_version": "1.2.0",
      "model_name": "LayoutModel",
      "state": {}
     },
     "d30685d5af3d4e1d9365a371750fe6e1": {
      "model_module": "@jupyter-widgets/base",
      "model_module_version": "1.2.0",
      "model_name": "LayoutModel",
      "state": {}
     },
     "d312a1a0d2bf485ea7fdde3cc8ba8b5e": {
      "model_module": "@jupyter-widgets/controls",
      "model_module_version": "1.5.0",
      "model_name": "HBoxModel",
      "state": {
       "children": [
        "IPY_MODEL_f6dac9c271b245da8ebed677fb372cd1",
        "IPY_MODEL_73d54e964cd5493c901af39b90bff90c",
        "IPY_MODEL_c5307ed31fae4353b8df2c7640151330"
       ],
       "layout": "IPY_MODEL_8cdaa457b9464c1994605836b7f5eeed"
      }
     },
     "d32614d1d8d949698b8fa07925c76e29": {
      "model_module": "@jupyter-widgets/controls",
      "model_module_version": "1.5.0",
      "model_name": "HTMLModel",
      "state": {
       "layout": "IPY_MODEL_321a57eec5584364934b8193c56e0feb",
       "style": "IPY_MODEL_80f46243bede45f79fe6b60f48933aa7",
       "value": "Assigning labels: 100%"
      }
     },
     "d32ba4ff5a92464682236fe251e3de6d": {
      "model_module": "@jupyter-widgets/controls",
      "model_module_version": "1.5.0",
      "model_name": "HTMLModel",
      "state": {
       "layout": "IPY_MODEL_fea31f0084044288a1fa17e0af3e87e3",
       "style": "IPY_MODEL_fdaf16e160c74dd2b25d3f514f2b1a39",
       "value": "Assigning labels: 100%"
      }
     },
     "d34efaae1d5643cf8806fbcbb52010bb": {
      "model_module": "@jupyter-widgets/controls",
      "model_module_version": "1.5.0",
      "model_name": "HTMLModel",
      "state": {
       "layout": "IPY_MODEL_bee7eb4d84b04851adb44b118f13c31b",
       "style": "IPY_MODEL_f31a3a79c1fb40c99fc2c7705170f659",
       "value": "Assigning labels: 100%"
      }
     },
     "d35e828e37bf43db9c5874f03a7049f5": {
      "model_module": "@jupyter-widgets/base",
      "model_module_version": "1.2.0",
      "model_name": "LayoutModel",
      "state": {}
     },
     "d382e7f188354e0e94baf74c0cdffe48": {
      "model_module": "@jupyter-widgets/base",
      "model_module_version": "1.2.0",
      "model_name": "LayoutModel",
      "state": {}
     },
     "d384d8bd141a4767b357bf2d78121977": {
      "model_module": "@jupyter-widgets/base",
      "model_module_version": "1.2.0",
      "model_name": "LayoutModel",
      "state": {}
     },
     "d39a20fd84ce4b92b6d43fd540d64897": {
      "model_module": "@jupyter-widgets/controls",
      "model_module_version": "1.5.0",
      "model_name": "FloatProgressModel",
      "state": {
       "bar_style": "success",
       "layout": "IPY_MODEL_cbd6df977e96413993925c7301b0dff2",
       "max": 270,
       "style": "IPY_MODEL_80a2fe69305842f89e69a43de3c2d099",
       "value": 270
      }
     },
     "d3deaea7bf824db09a48ff0491fa8559": {
      "model_module": "@jupyter-widgets/base",
      "model_module_version": "1.2.0",
      "model_name": "LayoutModel",
      "state": {}
     },
     "d3f75501e100426a8d7d7bfe67be5de6": {
      "model_module": "@jupyter-widgets/base",
      "model_module_version": "1.2.0",
      "model_name": "LayoutModel",
      "state": {}
     },
     "d3f87685344f47d1ad9be69af7b692dd": {
      "model_module": "@jupyter-widgets/base",
      "model_module_version": "1.2.0",
      "model_name": "LayoutModel",
      "state": {}
     },
     "d439fb68b6ac4cbaba37657d4b143d75": {
      "model_module": "@jupyter-widgets/base",
      "model_module_version": "1.2.0",
      "model_name": "LayoutModel",
      "state": {}
     },
     "d448d76cf644413f85546ecbe7285625": {
      "model_module": "@jupyter-widgets/controls",
      "model_module_version": "1.5.0",
      "model_name": "FloatProgressModel",
      "state": {
       "bar_style": "danger",
       "layout": "IPY_MODEL_615f90e6403c4f80b810101fb292fecb",
       "max": 271,
       "style": "IPY_MODEL_66bd06ac45594af0a1eca0756a09385f",
       "value": 5
      }
     },
     "d48625bf32e2459c83cd7b7f0ef1d017": {
      "model_module": "@jupyter-widgets/controls",
      "model_module_version": "1.5.0",
      "model_name": "FloatProgressModel",
      "state": {
       "bar_style": "success",
       "layout": "IPY_MODEL_55a5390ac85544a883addcbf47eba25d",
       "max": 42,
       "style": "IPY_MODEL_2d4955366ec24a2c8b3324982005179f",
       "value": 42
      }
     },
     "d4aa35951a134e7eb2dd673c7231d779": {
      "model_module": "@jupyter-widgets/base",
      "model_module_version": "1.2.0",
      "model_name": "LayoutModel",
      "state": {}
     },
     "d4b30be6021744b9b3c62862f6f0ff69": {
      "model_module": "@jupyter-widgets/controls",
      "model_module_version": "1.5.0",
      "model_name": "HTMLModel",
      "state": {
       "layout": "IPY_MODEL_4b4c5efd63cd43b5a9266daca3aae542",
       "style": "IPY_MODEL_bd93fa859861440c929b2c9464f23715",
       "value": " 23%"
      }
     },
     "d4e2f1e68cb94d588a47d08a018ce4eb": {
      "model_module": "@jupyter-widgets/base",
      "model_module_version": "1.2.0",
      "model_name": "LayoutModel",
      "state": {}
     },
     "d50b92c7e35b42a69bca6fec8d14507b": {
      "model_module": "@jupyter-widgets/base",
      "model_module_version": "1.2.0",
      "model_name": "LayoutModel",
      "state": {}
     },
     "d5240f53e8ed45b18a8e3aa6b4a93d78": {
      "model_module": "@jupyter-widgets/base",
      "model_module_version": "1.2.0",
      "model_name": "LayoutModel",
      "state": {}
     },
     "d5637d6cb46e45f7aa824cc35cc3a218": {
      "model_module": "@jupyter-widgets/base",
      "model_module_version": "1.2.0",
      "model_name": "LayoutModel",
      "state": {}
     },
     "d63a0066fb064b7ebf62aa3e0acabab0": {
      "model_module": "@jupyter-widgets/controls",
      "model_module_version": "1.5.0",
      "model_name": "DescriptionStyleModel",
      "state": {
       "description_width": ""
      }
     },
     "d6477979221a45c19341fae3a0a1861c": {
      "model_module": "@jupyter-widgets/base",
      "model_module_version": "1.2.0",
      "model_name": "LayoutModel",
      "state": {}
     },
     "d69324af68194dff8c17f307be128e59": {
      "model_module": "@jupyter-widgets/controls",
      "model_module_version": "1.5.0",
      "model_name": "ProgressStyleModel",
      "state": {
       "description_width": ""
      }
     },
     "d6f73a3be98a4b8ca24a3c561126fd92": {
      "model_module": "@jupyter-widgets/controls",
      "model_module_version": "1.5.0",
      "model_name": "HBoxModel",
      "state": {
       "children": [
        "IPY_MODEL_a96c0798fedc4fdcafbf83788ea19038",
        "IPY_MODEL_bc2bde8f41a14b5fb653f9366cbda9f0",
        "IPY_MODEL_f47016993ec7422e858c12a06441434f"
       ],
       "layout": "IPY_MODEL_ceddb61097a148f6a472883eac100d6d"
      }
     },
     "d7537338427844d8bf03142b83c0139e": {
      "model_module": "@jupyter-widgets/controls",
      "model_module_version": "1.5.0",
      "model_name": "DescriptionStyleModel",
      "state": {
       "description_width": ""
      }
     },
     "d768f0bebd8f4dc69285491791d3cf26": {
      "model_module": "@jupyter-widgets/controls",
      "model_module_version": "1.5.0",
      "model_name": "DescriptionStyleModel",
      "state": {
       "description_width": ""
      }
     },
     "d7e29a9a805046239bb52b44cb8b76eb": {
      "model_module": "@jupyter-widgets/controls",
      "model_module_version": "1.5.0",
      "model_name": "ProgressStyleModel",
      "state": {
       "description_width": ""
      }
     },
     "d82bd18eb4814e1294598d79e32890d5": {
      "model_module": "@jupyter-widgets/base",
      "model_module_version": "1.2.0",
      "model_name": "LayoutModel",
      "state": {}
     },
     "d84be1bb2a274552a876ec64c43b592b": {
      "model_module": "@jupyter-widgets/controls",
      "model_module_version": "1.5.0",
      "model_name": "ProgressStyleModel",
      "state": {
       "description_width": ""
      }
     },
     "d86e75bf1d3549598dc6ef67fbfcbc49": {
      "model_module": "@jupyter-widgets/base",
      "model_module_version": "1.2.0",
      "model_name": "LayoutModel",
      "state": {}
     },
     "d88025a47287485d8b14e2eb98658f91": {
      "model_module": "@jupyter-widgets/controls",
      "model_module_version": "1.5.0",
      "model_name": "ProgressStyleModel",
      "state": {
       "description_width": ""
      }
     },
     "d891dd8114194ed9b90225b8ab472334": {
      "model_module": "@jupyter-widgets/base",
      "model_module_version": "1.2.0",
      "model_name": "LayoutModel",
      "state": {}
     },
     "d89779d9f6764b21a5a1f8c485e880a3": {
      "model_module": "@jupyter-widgets/controls",
      "model_module_version": "1.5.0",
      "model_name": "HTMLModel",
      "state": {
       "layout": "IPY_MODEL_5758594657f642b7a349923f9c5444d3",
       "style": "IPY_MODEL_393ca1fc998e48ebbc61aa138b94df3a",
       "value": "Assigning labels: 100%"
      }
     },
     "d8ed7a2369a545c6bbae12c17d2ee611": {
      "model_module": "@jupyter-widgets/controls",
      "model_module_version": "1.5.0",
      "model_name": "HBoxModel",
      "state": {
       "children": [
        "IPY_MODEL_ea5951e86e0d4b3ca4bfa3175eb1efde",
        "IPY_MODEL_af96d23b515942e0933d1caa881a1a38",
        "IPY_MODEL_15d09799158345e38dd7124b6b2bb214"
       ],
       "layout": "IPY_MODEL_cb5b9599c13a431bb2d25962fa624a24"
      }
     },
     "d945cf53d55b42c0bb2073dd4e01b393": {
      "model_module": "@jupyter-widgets/base",
      "model_module_version": "1.2.0",
      "model_name": "LayoutModel",
      "state": {}
     },
     "d9cbefff5583464d9341cb05b55c1b0c": {
      "model_module": "@jupyter-widgets/controls",
      "model_module_version": "1.5.0",
      "model_name": "FloatProgressModel",
      "state": {
       "bar_style": "success",
       "layout": "IPY_MODEL_94d8e2f225a04e21a4c00f2ac06191ef",
       "max": 270,
       "style": "IPY_MODEL_2d994e457ddc4971b3c2a6b442043b53",
       "value": 270
      }
     },
     "da2ae7e2338f4412a95655c44b357d78": {
      "model_module": "@jupyter-widgets/controls",
      "model_module_version": "1.5.0",
      "model_name": "DescriptionStyleModel",
      "state": {
       "description_width": ""
      }
     },
     "da4292ddad434d5d9e5ededdd1323375": {
      "model_module": "@jupyter-widgets/controls",
      "model_module_version": "1.5.0",
      "model_name": "DescriptionStyleModel",
      "state": {
       "description_width": ""
      }
     },
     "da497aacd0514b7ca5bd7f15783942b3": {
      "model_module": "@jupyter-widgets/controls",
      "model_module_version": "1.5.0",
      "model_name": "HTMLModel",
      "state": {
       "layout": "IPY_MODEL_8fdd3238e42946a4ba2c0f19ef7f4b0d",
       "style": "IPY_MODEL_773ac2604e74412ca9b35deecd932273",
       "value": "Assigning labels: 100%"
      }
     },
     "dac33586faa549f2bf51424b9900e82a": {
      "model_module": "@jupyter-widgets/controls",
      "model_module_version": "1.5.0",
      "model_name": "DescriptionStyleModel",
      "state": {
       "description_width": ""
      }
     },
     "dac41ff289c14ddaa1b97b5d7daf73a9": {
      "model_module": "@jupyter-widgets/controls",
      "model_module_version": "1.5.0",
      "model_name": "DescriptionStyleModel",
      "state": {
       "description_width": ""
      }
     },
     "dad3c1e367804b8fb0ca9f3489c202fa": {
      "model_module": "@jupyter-widgets/controls",
      "model_module_version": "1.5.0",
      "model_name": "DescriptionStyleModel",
      "state": {
       "description_width": ""
      }
     },
     "db078fc000e246f18e0e28569ce56a09": {
      "model_module": "@jupyter-widgets/controls",
      "model_module_version": "1.5.0",
      "model_name": "FloatProgressModel",
      "state": {
       "bar_style": "success",
       "layout": "IPY_MODEL_9dda2254b0254368a262bcc19572ef61",
       "max": 270,
       "style": "IPY_MODEL_60b4ebc80d8941bb8e6190422c007afe",
       "value": 270
      }
     },
     "db9210840b4140b4af39e1f42f9f3d40": {
      "model_module": "@jupyter-widgets/controls",
      "model_module_version": "1.5.0",
      "model_name": "HTMLModel",
      "state": {
       "layout": "IPY_MODEL_1af740b0e98e4854893c63aaa7233913",
       "style": "IPY_MODEL_e840f7b6d3a04a5ba8a837c8e1374e78",
       "value": " 271/? [03:02&lt;00:00,  1.91it/s]"
      }
     },
     "db92158b793c449880227ba771b1443e": {
      "model_module": "@jupyter-widgets/controls",
      "model_module_version": "1.5.0",
      "model_name": "HTMLModel",
      "state": {
       "layout": "IPY_MODEL_2e98ea13b42c461da84cb0c1e4bec66b",
       "style": "IPY_MODEL_346794969129429a8cd14e6cfe698eea",
       "value": " 12/270 [00:08&lt;03:06,  1.39it/s]"
      }
     },
     "dbb1bc86747b4d409f13ba40fe745951": {
      "model_module": "@jupyter-widgets/base",
      "model_module_version": "1.2.0",
      "model_name": "LayoutModel",
      "state": {}
     },
     "dbd90c4a6cc94c729568dcec0d066167": {
      "model_module": "@jupyter-widgets/controls",
      "model_module_version": "1.5.0",
      "model_name": "HTMLModel",
      "state": {
       "layout": "IPY_MODEL_511c1d3316aa4575b30597c3d2535766",
       "style": "IPY_MODEL_3463d4e001db425a86784a8fa81d4854",
       "value": "Assigning labels: 100%"
      }
     },
     "dbe9ce5e394c486dbcc24583c331728d": {
      "model_module": "@jupyter-widgets/controls",
      "model_module_version": "1.5.0",
      "model_name": "HTMLModel",
      "state": {
       "layout": "IPY_MODEL_c1cc7d307f5545b2a4311c89eaa7c39f",
       "style": "IPY_MODEL_f23d79de48e742c5904b7830dcf2de92",
       "value": " 48/48 [00:00&lt;00:00, 1294.16it/s]"
      }
     },
     "dc1c45ae4a7143c7b80717c752e9b798": {
      "model_module": "@jupyter-widgets/controls",
      "model_module_version": "1.5.0",
      "model_name": "ProgressStyleModel",
      "state": {
       "description_width": ""
      }
     },
     "dc25ad977d904d27bfe23672be35526f": {
      "model_module": "@jupyter-widgets/controls",
      "model_module_version": "1.5.0",
      "model_name": "ProgressStyleModel",
      "state": {
       "description_width": ""
      }
     },
     "dc51014ad8114634b772cf34265cbfe7": {
      "model_module": "@jupyter-widgets/controls",
      "model_module_version": "1.5.0",
      "model_name": "FloatProgressModel",
      "state": {
       "bar_style": "success",
       "layout": "IPY_MODEL_4ccafc39c9844a82bef2a92fefe130f9",
       "max": 264,
       "style": "IPY_MODEL_3912853cdd9348d390d399f861c08565",
       "value": 264
      }
     },
     "dc6230421a2144bd90558847b6c0bcb6": {
      "model_module": "@jupyter-widgets/base",
      "model_module_version": "1.2.0",
      "model_name": "LayoutModel",
      "state": {}
     },
     "dc72fb42372248f5ace0d2e30ab08a8a": {
      "model_module": "@jupyter-widgets/controls",
      "model_module_version": "1.5.0",
      "model_name": "HTMLModel",
      "state": {
       "layout": "IPY_MODEL_774f25604b534db7a89f5a39fae8498b",
       "style": "IPY_MODEL_0f4fef8b313444c0924252eaa20f22a0",
       "value": "Assigning labels: 100%"
      }
     },
     "dc84f787a5b1467690d1aace01e5c1d1": {
      "model_module": "@jupyter-widgets/base",
      "model_module_version": "1.2.0",
      "model_name": "LayoutModel",
      "state": {}
     },
     "dc9111593f0c4d38b00513bf459593c2": {
      "model_module": "@jupyter-widgets/base",
      "model_module_version": "1.2.0",
      "model_name": "LayoutModel",
      "state": {}
     },
     "dcab6c47f81240ff82a1d15f4a5f5848": {
      "model_module": "@jupyter-widgets/controls",
      "model_module_version": "1.5.0",
      "model_name": "HTMLModel",
      "state": {
       "layout": "IPY_MODEL_bf9fb9539ead4a5b8668810d10c43d5a",
       "style": "IPY_MODEL_a5279fe602784732bcbdee1913e7b2a1",
       "value": " 113/113 [00:00&lt;00:00, 736.05it/s]"
      }
     },
     "dcee92b77e124c1489b0f224a7e096da": {
      "model_module": "@jupyter-widgets/controls",
      "model_module_version": "1.5.0",
      "model_name": "DescriptionStyleModel",
      "state": {
       "description_width": ""
      }
     },
     "dd2a17d6c6a24425b5a7c2c51ae922c3": {
      "model_module": "@jupyter-widgets/base",
      "model_module_version": "1.2.0",
      "model_name": "LayoutModel",
      "state": {}
     },
     "dd3f6a1180354a458ce4d4b1edb02420": {
      "model_module": "@jupyter-widgets/base",
      "model_module_version": "1.2.0",
      "model_name": "LayoutModel",
      "state": {}
     },
     "ddc81616a8da4937aa4cc32d5427af8e": {
      "model_module": "@jupyter-widgets/base",
      "model_module_version": "1.2.0",
      "model_name": "LayoutModel",
      "state": {}
     },
     "dde648b7a56043968548415c80d060ff": {
      "model_module": "@jupyter-widgets/base",
      "model_module_version": "1.2.0",
      "model_name": "LayoutModel",
      "state": {}
     },
     "de1623ea40154f4fb0816a8c7b58edd2": {
      "model_module": "@jupyter-widgets/controls",
      "model_module_version": "1.5.0",
      "model_name": "HBoxModel",
      "state": {
       "children": [
        "IPY_MODEL_2f9cb39605b24c17984a55d1d8fc07b1",
        "IPY_MODEL_546b602816184829a342da4d13b6666d",
        "IPY_MODEL_872679a565944bbda13fc2e198d49aaf"
       ],
       "layout": "IPY_MODEL_f08126b1f7f64d4988fa628166ba7c56"
      }
     },
     "de4572c849054199aa55856c4e390140": {
      "model_module": "@jupyter-widgets/base",
      "model_module_version": "1.2.0",
      "model_name": "LayoutModel",
      "state": {}
     },
     "de698c50fc3a4647b5f42edce92d2786": {
      "model_module": "@jupyter-widgets/controls",
      "model_module_version": "1.5.0",
      "model_name": "HBoxModel",
      "state": {
       "children": [
        "IPY_MODEL_3cbbfe8f68a14783b82fa7d8ebeb4559",
        "IPY_MODEL_a6f50e2bad1a4661a6b2393b9c5148f5",
        "IPY_MODEL_7e28cd3e148b43c7a4f49030d6304ffd"
       ],
       "layout": "IPY_MODEL_851dd22627744b79962e2343bdb368e9"
      }
     },
     "deaa51fdc9024da59488d24537d1900a": {
      "model_module": "@jupyter-widgets/base",
      "model_module_version": "1.2.0",
      "model_name": "LayoutModel",
      "state": {}
     },
     "dede135af0504dd3ac681f71769ba951": {
      "model_module": "@jupyter-widgets/base",
      "model_module_version": "1.2.0",
      "model_name": "LayoutModel",
      "state": {}
     },
     "deee0067cdc64ccab8af768216105455": {
      "model_module": "@jupyter-widgets/base",
      "model_module_version": "1.2.0",
      "model_name": "LayoutModel",
      "state": {}
     },
     "def6923145004f97868663f13b11984c": {
      "model_module": "@jupyter-widgets/controls",
      "model_module_version": "1.5.0",
      "model_name": "HTMLModel",
      "state": {
       "layout": "IPY_MODEL_18670b3fcb124706a4752e2f3f0411a1",
       "style": "IPY_MODEL_d14263d60fd34a7d811865b2aab4f99d",
       "value": " 271/? [03:05&lt;00:00,  1.90it/s]"
      }
     },
     "df2758325895461793120c7fa91711fc": {
      "model_module": "@jupyter-widgets/controls",
      "model_module_version": "1.5.0",
      "model_name": "DescriptionStyleModel",
      "state": {
       "description_width": ""
      }
     },
     "dfb4d93b9612495a97d3c85b9826bc31": {
      "model_module": "@jupyter-widgets/base",
      "model_module_version": "1.2.0",
      "model_name": "LayoutModel",
      "state": {}
     },
     "dfc90de34e054a39a62e2405c9a97a7d": {
      "model_module": "@jupyter-widgets/controls",
      "model_module_version": "1.5.0",
      "model_name": "ProgressStyleModel",
      "state": {
       "description_width": ""
      }
     },
     "e049daba57164a4382a0ef7027f5ada0": {
      "model_module": "@jupyter-widgets/controls",
      "model_module_version": "1.5.0",
      "model_name": "HTMLModel",
      "state": {
       "layout": "IPY_MODEL_78a6802fefdc4fdd83c96708e55be2f9",
       "style": "IPY_MODEL_a3615b3215474b72ae2ddba2dc57e41c",
       "value": "  0%"
      }
     },
     "e08fe58b01874e4e986984db5845ae44": {
      "model_module": "@jupyter-widgets/base",
      "model_module_version": "1.2.0",
      "model_name": "LayoutModel",
      "state": {}
     },
     "e12273149cd944bba14680f447c8a82f": {
      "model_module": "@jupyter-widgets/controls",
      "model_module_version": "1.5.0",
      "model_name": "DescriptionStyleModel",
      "state": {
       "description_width": ""
      }
     },
     "e199d8e1c9824ed3a5c3ba3d17ee6320": {
      "model_module": "@jupyter-widgets/base",
      "model_module_version": "1.2.0",
      "model_name": "LayoutModel",
      "state": {}
     },
     "e1cfeed7d56545a59ed9cd663a78bbb1": {
      "model_module": "@jupyter-widgets/base",
      "model_module_version": "1.2.0",
      "model_name": "LayoutModel",
      "state": {}
     },
     "e225ff45e69b40ecad912ba1b74466d5": {
      "model_module": "@jupyter-widgets/controls",
      "model_module_version": "1.5.0",
      "model_name": "ProgressStyleModel",
      "state": {
       "description_width": ""
      }
     },
     "e2a20f109dff4a3b99b86b556328086a": {
      "model_module": "@jupyter-widgets/base",
      "model_module_version": "1.2.0",
      "model_name": "LayoutModel",
      "state": {}
     },
     "e2d9b263214c4c6fa8ecabb35b3030a9": {
      "model_module": "@jupyter-widgets/controls",
      "model_module_version": "1.5.0",
      "model_name": "HTMLModel",
      "state": {
       "layout": "IPY_MODEL_68a991a219f94a97a72d1508e050c6a3",
       "style": "IPY_MODEL_628337f6aa794afd85f04a7b76aa615c",
       "value": " 40/40 [00:00&lt;00:00, 1280.61it/s]"
      }
     },
     "e30534f5fa7243d7ab5f9f0032dc731d": {
      "model_module": "@jupyter-widgets/controls",
      "model_module_version": "1.5.0",
      "model_name": "FloatProgressModel",
      "state": {
       "bar_style": "success",
       "layout": "IPY_MODEL_5f92c541f00240e9bd12d5ea64d1d67d",
       "max": 48,
       "style": "IPY_MODEL_86c5fb64ad9141ffa94ce374af750641",
       "value": 48
      }
     },
     "e336b182aebb4fb9a1290375a3ed6ffd": {
      "model_module": "@jupyter-widgets/controls",
      "model_module_version": "1.5.0",
      "model_name": "ProgressStyleModel",
      "state": {
       "description_width": ""
      }
     },
     "e37321d7055a4f5ca132c7fd6f35326c": {
      "model_module": "@jupyter-widgets/base",
      "model_module_version": "1.2.0",
      "model_name": "LayoutModel",
      "state": {}
     },
     "e38fe07906144a43b5b59dc9d8af8027": {
      "model_module": "@jupyter-widgets/controls",
      "model_module_version": "1.5.0",
      "model_name": "FloatProgressModel",
      "state": {
       "bar_style": "success",
       "layout": "IPY_MODEL_fa85c4dabf4441a0a5acc16da3f1d551",
       "max": 118,
       "style": "IPY_MODEL_46b3b0a1629749f784b04895bde0acf7",
       "value": 118
      }
     },
     "e39e5e5cf87e4c6a91e1d4988b8ea418": {
      "model_module": "@jupyter-widgets/controls",
      "model_module_version": "1.5.0",
      "model_name": "HTMLModel",
      "state": {
       "layout": "IPY_MODEL_b4977900dbe04bcf8ce2d6c6a389e1a3",
       "style": "IPY_MODEL_4bc10f7fe643436fb04f0acc729ecba3",
       "value": " 91/91 [00:00&lt;00:00, 648.07it/s]"
      }
     },
     "e3b46a7add61452b8284000c3b8130ae": {
      "model_module": "@jupyter-widgets/controls",
      "model_module_version": "1.5.0",
      "model_name": "ProgressStyleModel",
      "state": {
       "description_width": ""
      }
     },
     "e3e5e30478d14abf8e0cef918db61e41": {
      "model_module": "@jupyter-widgets/controls",
      "model_module_version": "1.5.0",
      "model_name": "DescriptionStyleModel",
      "state": {
       "description_width": ""
      }
     },
     "e3ff209fa9b74971b485ec398ce87449": {
      "model_module": "@jupyter-widgets/base",
      "model_module_version": "1.2.0",
      "model_name": "LayoutModel",
      "state": {}
     },
     "e430ea6e848f4f4a9033d734b3d4c818": {
      "model_module": "@jupyter-widgets/controls",
      "model_module_version": "1.5.0",
      "model_name": "DescriptionStyleModel",
      "state": {
       "description_width": ""
      }
     },
     "e4e944a368ed4a6181dbe4c897eca1a5": {
      "model_module": "@jupyter-widgets/controls",
      "model_module_version": "1.5.0",
      "model_name": "ProgressStyleModel",
      "state": {
       "description_width": ""
      }
     },
     "e57a42d571604ef6b8f4a794f9535371": {
      "model_module": "@jupyter-widgets/base",
      "model_module_version": "1.2.0",
      "model_name": "LayoutModel",
      "state": {}
     },
     "e58560bd07d24a679784b07dae11cbf5": {
      "model_module": "@jupyter-widgets/controls",
      "model_module_version": "1.5.0",
      "model_name": "HTMLModel",
      "state": {
       "layout": "IPY_MODEL_6d63ab8ef2844ae99b1ac72ae8aea672",
       "style": "IPY_MODEL_5430b193a1b14b02b14786c0370755db",
       "value": "Assigning labels: 100%"
      }
     },
     "e5afc5f2d2b24f85b3db6f2d4f007abd": {
      "model_module": "@jupyter-widgets/controls",
      "model_module_version": "1.5.0",
      "model_name": "FloatProgressModel",
      "state": {
       "bar_style": "danger",
       "layout": "IPY_MODEL_0ef4ef1e1c824c1690e4871206bb4682",
       "max": 270,
       "style": "IPY_MODEL_1edc5a349ddf4929b9ad23c91011f222"
      }
     },
     "e5f071f6f1814178886959a182da9bd6": {
      "model_module": "@jupyter-widgets/controls",
      "model_module_version": "1.5.0",
      "model_name": "FloatProgressModel",
      "state": {
       "bar_style": "success",
       "layout": "IPY_MODEL_96420092784743afb9b8bd0260f34296",
       "max": 34,
       "style": "IPY_MODEL_cad4d7dcddd1494791dd8ab6b17fe0d2",
       "value": 34
      }
     },
     "e63e84e24ac14f65b2c382708d7a2de6": {
      "model_module": "@jupyter-widgets/base",
      "model_module_version": "1.2.0",
      "model_name": "LayoutModel",
      "state": {}
     },
     "e67502d1cf324dcf858325e78db4e7da": {
      "model_module": "@jupyter-widgets/controls",
      "model_module_version": "1.5.0",
      "model_name": "ProgressStyleModel",
      "state": {
       "description_width": ""
      }
     },
     "e6d2b6288a35422e88b566bf286a5309": {
      "model_module": "@jupyter-widgets/controls",
      "model_module_version": "1.5.0",
      "model_name": "DescriptionStyleModel",
      "state": {
       "description_width": ""
      }
     },
     "e6f623969c234d19a2bd6e14a3ab47c6": {
      "model_module": "@jupyter-widgets/controls",
      "model_module_version": "1.5.0",
      "model_name": "DescriptionStyleModel",
      "state": {
       "description_width": ""
      }
     },
     "e70ab25cf5454631ad285f984c7afea5": {
      "model_module": "@jupyter-widgets/base",
      "model_module_version": "1.2.0",
      "model_name": "LayoutModel",
      "state": {}
     },
     "e744b7733e2b4f7386ad675c4ba938c9": {
      "model_module": "@jupyter-widgets/controls",
      "model_module_version": "1.5.0",
      "model_name": "HTMLModel",
      "state": {
       "layout": "IPY_MODEL_b25d852cde2045a28efd800292e3978c",
       "style": "IPY_MODEL_763b347f63074cc4a1102babe5f0ef85",
       "value": "Assigning labels: 100%"
      }
     },
     "e7d07b7dbe6442029c29075600202ef1": {
      "model_module": "@jupyter-widgets/controls",
      "model_module_version": "1.5.0",
      "model_name": "DescriptionStyleModel",
      "state": {
       "description_width": ""
      }
     },
     "e82476e5023a451586e5b3da71f39542": {
      "model_module": "@jupyter-widgets/base",
      "model_module_version": "1.2.0",
      "model_name": "LayoutModel",
      "state": {}
     },
     "e840f7b6d3a04a5ba8a837c8e1374e78": {
      "model_module": "@jupyter-widgets/controls",
      "model_module_version": "1.5.0",
      "model_name": "DescriptionStyleModel",
      "state": {
       "description_width": ""
      }
     },
     "e8e1cf5f7ea84606bff77cd6f3bedd3c": {
      "model_module": "@jupyter-widgets/base",
      "model_module_version": "1.2.0",
      "model_name": "LayoutModel",
      "state": {}
     },
     "e8ebd6ce0a594f6982210d6cbadb959b": {
      "model_module": "@jupyter-widgets/base",
      "model_module_version": "1.2.0",
      "model_name": "LayoutModel",
      "state": {}
     },
     "e8f7832876894f7fa6496ae583a51a75": {
      "model_module": "@jupyter-widgets/base",
      "model_module_version": "1.2.0",
      "model_name": "LayoutModel",
      "state": {}
     },
     "e95a1659074d4689b93298aa9f7c198f": {
      "model_module": "@jupyter-widgets/controls",
      "model_module_version": "1.5.0",
      "model_name": "HTMLModel",
      "state": {
       "layout": "IPY_MODEL_a90060b58fb34d5b84fd976ca5ac63e3",
       "style": "IPY_MODEL_e6f623969c234d19a2bd6e14a3ab47c6",
       "value": " 160/160 [00:00&lt;00:00, 690.20it/s]"
      }
     },
     "e98da85a4a414f96be00f3bf0c02f8e5": {
      "model_module": "@jupyter-widgets/controls",
      "model_module_version": "1.5.0",
      "model_name": "FloatProgressModel",
      "state": {
       "bar_style": "success",
       "layout": "IPY_MODEL_1aeddd8bb0c74d40b5eb5a90f98a418c",
       "max": 50,
       "style": "IPY_MODEL_399ebaf9f6f64976b818c1e94c34cfc6",
       "value": 50
      }
     },
     "e9de553a6bac42a6ac67d9173f192a2c": {
      "model_module": "@jupyter-widgets/controls",
      "model_module_version": "1.5.0",
      "model_name": "HTMLModel",
      "state": {
       "layout": "IPY_MODEL_e8ebd6ce0a594f6982210d6cbadb959b",
       "style": "IPY_MODEL_0460d73f6d8741ea94e6dff9efed0019",
       "value": " 34/34 [00:00&lt;00:00, 1172.45it/s]"
      }
     },
     "e9dfea8c5eeb4c85b26af5e2e4ecbb0d": {
      "model_module": "@jupyter-widgets/controls",
      "model_module_version": "1.5.0",
      "model_name": "ProgressStyleModel",
      "state": {
       "description_width": ""
      }
     },
     "e9ee192a313943a3aee55b8a897d278a": {
      "model_module": "@jupyter-widgets/base",
      "model_module_version": "1.2.0",
      "model_name": "LayoutModel",
      "state": {}
     },
     "ea5951e86e0d4b3ca4bfa3175eb1efde": {
      "model_module": "@jupyter-widgets/controls",
      "model_module_version": "1.5.0",
      "model_name": "HTMLModel",
      "state": {
       "layout": "IPY_MODEL_1ddbb9e400bf4380ae059a40e20ebf12",
       "style": "IPY_MODEL_584cbb1de8154195bc616f367519bcb6",
       "value": "Assigning labels: 100%"
      }
     },
     "eaaf2e88fffe425ca891fe2302d40b4a": {
      "model_module": "@jupyter-widgets/controls",
      "model_module_version": "1.5.0",
      "model_name": "HBoxModel",
      "state": {
       "children": [
        "IPY_MODEL_9044dbdee1fe4d41ac1287d07852427a",
        "IPY_MODEL_f6683ca3e1b941ceae8c30936d8a87ba",
        "IPY_MODEL_c6f825cb58334ce9a9dcfaaea8bd93fd"
       ],
       "layout": "IPY_MODEL_68f5637d30134ae889c64b1b3e0fb1d1"
      }
     },
     "eb149d6fdc4b4c0daef25ff62ed1c3fd": {
      "model_module": "@jupyter-widgets/base",
      "model_module_version": "1.2.0",
      "model_name": "LayoutModel",
      "state": {}
     },
     "eb165ce3e23440e99370644e343d7193": {
      "model_module": "@jupyter-widgets/base",
      "model_module_version": "1.2.0",
      "model_name": "LayoutModel",
      "state": {}
     },
     "eb31f293ad5c4f0d84eff1d3ecd06cd8": {
      "model_module": "@jupyter-widgets/base",
      "model_module_version": "1.2.0",
      "model_name": "LayoutModel",
      "state": {}
     },
     "eb4cf67535a34a5788e4f71b2b87670b": {
      "model_module": "@jupyter-widgets/base",
      "model_module_version": "1.2.0",
      "model_name": "LayoutModel",
      "state": {}
     },
     "eb8e0683923c4f5e8983413811108b09": {
      "model_module": "@jupyter-widgets/controls",
      "model_module_version": "1.5.0",
      "model_name": "FloatProgressModel",
      "state": {
       "bar_style": "success",
       "layout": "IPY_MODEL_52ed8655bcd14590b548c219fad14a72",
       "max": 118,
       "style": "IPY_MODEL_86133e24b9eb49c9ad07b07336c0b030",
       "value": 118
      }
     },
     "ebc9cba13e4c44f88e7843dce5a70511": {
      "model_module": "@jupyter-widgets/controls",
      "model_module_version": "1.5.0",
      "model_name": "DescriptionStyleModel",
      "state": {
       "description_width": ""
      }
     },
     "ebe64a13762d4f47bfef93f30defb4cf": {
      "model_module": "@jupyter-widgets/base",
      "model_module_version": "1.2.0",
      "model_name": "LayoutModel",
      "state": {}
     },
     "ebe97c55874b47d1a5e584783695d0c0": {
      "model_module": "@jupyter-widgets/base",
      "model_module_version": "1.2.0",
      "model_name": "LayoutModel",
      "state": {}
     },
     "ec331e938b924e1d88d11b00107ac165": {
      "model_module": "@jupyter-widgets/base",
      "model_module_version": "1.2.0",
      "model_name": "LayoutModel",
      "state": {}
     },
     "ece08383228c435f925c374681c03354": {
      "model_module": "@jupyter-widgets/controls",
      "model_module_version": "1.5.0",
      "model_name": "FloatProgressModel",
      "state": {
       "bar_style": "success",
       "layout": "IPY_MODEL_61598f8713cc4f0aaf02a99f04771459",
       "max": 34,
       "style": "IPY_MODEL_0fe450d5004640f1ad31c38a97500d78",
       "value": 34
      }
     },
     "ecf6d2e9dbb74825b6e7e02333d6518a": {
      "model_module": "@jupyter-widgets/controls",
      "model_module_version": "1.5.0",
      "model_name": "DescriptionStyleModel",
      "state": {
       "description_width": ""
      }
     },
     "edbd53d3f4b0433ca8ea9a1d0271ad86": {
      "model_module": "@jupyter-widgets/controls",
      "model_module_version": "1.5.0",
      "model_name": "ProgressStyleModel",
      "state": {
       "description_width": ""
      }
     },
     "edc4b1a0d0424c3fa4c1ee8a1f056789": {
      "model_module": "@jupyter-widgets/controls",
      "model_module_version": "1.5.0",
      "model_name": "HBoxModel",
      "state": {
       "children": [
        "IPY_MODEL_67541a2cf5d74ade9adc6ef0abe8a777",
        "IPY_MODEL_75a5001895fc4aec904a514fef49dd2c",
        "IPY_MODEL_ac464a92baed4b9bb259538d7d265329"
       ],
       "layout": "IPY_MODEL_40ed46769661478781c1bfe9a662e854"
      }
     },
     "ede6a015511a4275a6e4fcd99d9e6ac3": {
      "model_module": "@jupyter-widgets/base",
      "model_module_version": "1.2.0",
      "model_name": "LayoutModel",
      "state": {}
     },
     "edfc230f4cdd4a2e8031690ac83eb3b9": {
      "model_module": "@jupyter-widgets/controls",
      "model_module_version": "1.5.0",
      "model_name": "FloatProgressModel",
      "state": {
       "bar_style": "success",
       "layout": "IPY_MODEL_7a0a4d0985ea4bf68a69a7e721ca0286",
       "max": 160,
       "style": "IPY_MODEL_a901540bd7aa400faee9896ea8c6fdaa",
       "value": 160
      }
     },
     "ee6c0ac79756488a974338a346723b3c": {
      "model_module": "@jupyter-widgets/controls",
      "model_module_version": "1.5.0",
      "model_name": "DescriptionStyleModel",
      "state": {
       "description_width": ""
      }
     },
     "eeff0c910ec34cae8c09673a1916478c": {
      "model_module": "@jupyter-widgets/controls",
      "model_module_version": "1.5.0",
      "model_name": "HBoxModel",
      "state": {
       "children": [
        "IPY_MODEL_f272702c42134eb5a6b3212e24ae6794",
        "IPY_MODEL_b8a46a3f926345dd94f75827a65ecea5",
        "IPY_MODEL_8e35c50e8cb64aa68765adac1ba2c094"
       ],
       "layout": "IPY_MODEL_08697edacad647638ce1144408f73a2e"
      }
     },
     "ef1ed4d125e74c7299e24a96f8293e8b": {
      "model_module": "@jupyter-widgets/controls",
      "model_module_version": "1.5.0",
      "model_name": "DescriptionStyleModel",
      "state": {
       "description_width": ""
      }
     },
     "ef591bc03f574b01acf98d5a6003a9d6": {
      "model_module": "@jupyter-widgets/controls",
      "model_module_version": "1.5.0",
      "model_name": "HTMLModel",
      "state": {
       "layout": "IPY_MODEL_7a1ceec4a9cb4027aa90648c0536a785",
       "style": "IPY_MODEL_a4f13ff3b4754503ba6c4c9612b88337",
       "value": " 40/40 [00:00&lt;00:00, 1101.52it/s]"
      }
     },
     "efe16912dc2841b890e4f1877a8dedfd": {
      "model_module": "@jupyter-widgets/base",
      "model_module_version": "1.2.0",
      "model_name": "LayoutModel",
      "state": {}
     },
     "efe77563509640a68913b95ee6ce8a96": {
      "model_module": "@jupyter-widgets/controls",
      "model_module_version": "1.5.0",
      "model_name": "HTMLModel",
      "state": {
       "layout": "IPY_MODEL_bf4bed198d384f8d8c1eadadc85af076",
       "style": "IPY_MODEL_8145fe341dd94f91b1a0458f66c84b10",
       "value": "Assigning labels: 100%"
      }
     },
     "f04731ecb5ce4b71b758eba4e07a6578": {
      "model_module": "@jupyter-widgets/base",
      "model_module_version": "1.2.0",
      "model_name": "LayoutModel",
      "state": {}
     },
     "f08126b1f7f64d4988fa628166ba7c56": {
      "model_module": "@jupyter-widgets/base",
      "model_module_version": "1.2.0",
      "model_name": "LayoutModel",
      "state": {}
     },
     "f0b848a4274241d1a30f9c41b18a9f02": {
      "model_module": "@jupyter-widgets/base",
      "model_module_version": "1.2.0",
      "model_name": "LayoutModel",
      "state": {}
     },
     "f0c56c362fea4841aa95ea2a82b72d0c": {
      "model_module": "@jupyter-widgets/controls",
      "model_module_version": "1.5.0",
      "model_name": "DescriptionStyleModel",
      "state": {
       "description_width": ""
      }
     },
     "f11c9397595f43fda0b8cafd1cf3f1e3": {
      "model_module": "@jupyter-widgets/base",
      "model_module_version": "1.2.0",
      "model_name": "LayoutModel",
      "state": {}
     },
     "f14c7e10722b469389076381c6cde2e8": {
      "model_module": "@jupyter-widgets/base",
      "model_module_version": "1.2.0",
      "model_name": "LayoutModel",
      "state": {}
     },
     "f16268e769b34f3ba80b6cca98d2dbf0": {
      "model_module": "@jupyter-widgets/base",
      "model_module_version": "1.2.0",
      "model_name": "LayoutModel",
      "state": {}
     },
     "f1718ac10ddc4dae9ea73f096f04c411": {
      "model_module": "@jupyter-widgets/controls",
      "model_module_version": "1.5.0",
      "model_name": "DescriptionStyleModel",
      "state": {
       "description_width": ""
      }
     },
     "f198b6d8f828486f9235876dec54a4a6": {
      "model_module": "@jupyter-widgets/base",
      "model_module_version": "1.2.0",
      "model_name": "LayoutModel",
      "state": {}
     },
     "f1b7dbfcdb574c5eb981b0500a551a01": {
      "model_module": "@jupyter-widgets/controls",
      "model_module_version": "1.5.0",
      "model_name": "HBoxModel",
      "state": {
       "children": [
        "IPY_MODEL_17af100530bc41b68c35053cc60788d1",
        "IPY_MODEL_e30534f5fa7243d7ab5f9f0032dc731d",
        "IPY_MODEL_8fa73da7bc564fc6ad808d91865126db"
       ],
       "layout": "IPY_MODEL_4043e5e610f14f7090884963612ccdb5"
      }
     },
     "f1dcae1a04d840be9b0551abcbe38a86": {
      "model_module": "@jupyter-widgets/controls",
      "model_module_version": "1.5.0",
      "model_name": "DescriptionStyleModel",
      "state": {
       "description_width": ""
      }
     },
     "f1fda0e178e24da78c5dac2b8a123f0f": {
      "model_module": "@jupyter-widgets/base",
      "model_module_version": "1.2.0",
      "model_name": "LayoutModel",
      "state": {}
     },
     "f204fb23379d404583f2fb95bace09e8": {
      "model_module": "@jupyter-widgets/controls",
      "model_module_version": "1.5.0",
      "model_name": "DescriptionStyleModel",
      "state": {
       "description_width": ""
      }
     },
     "f2106d19336940ffa1e0aaac4466d2f6": {
      "model_module": "@jupyter-widgets/controls",
      "model_module_version": "1.5.0",
      "model_name": "DescriptionStyleModel",
      "state": {
       "description_width": ""
      }
     },
     "f21e12e428014fb6abd7b867ed21f7ab": {
      "model_module": "@jupyter-widgets/controls",
      "model_module_version": "1.5.0",
      "model_name": "DescriptionStyleModel",
      "state": {
       "description_width": ""
      }
     },
     "f23d79de48e742c5904b7830dcf2de92": {
      "model_module": "@jupyter-widgets/controls",
      "model_module_version": "1.5.0",
      "model_name": "DescriptionStyleModel",
      "state": {
       "description_width": ""
      }
     },
     "f272702c42134eb5a6b3212e24ae6794": {
      "model_module": "@jupyter-widgets/controls",
      "model_module_version": "1.5.0",
      "model_name": "HTMLModel",
      "state": {
       "layout": "IPY_MODEL_b402106d24e64c36ad01970fa9ceb2de",
       "style": "IPY_MODEL_140f8fe1382749b2803a15e9221b5608",
       "value": "Epoch: 9, 60.39799, 0.32813: "
      }
     },
     "f2c818e788674dc2bbc251eb48ec6ce9": {
      "model_module": "@jupyter-widgets/base",
      "model_module_version": "1.2.0",
      "model_name": "LayoutModel",
      "state": {}
     },
     "f2ff76f0a0064ae5be9c0fd4461bfbd4": {
      "model_module": "@jupyter-widgets/controls",
      "model_module_version": "1.5.0",
      "model_name": "HTMLModel",
      "state": {
       "layout": "IPY_MODEL_e8e1cf5f7ea84606bff77cd6f3bedd3c",
       "style": "IPY_MODEL_7db137cda76a49619f44bddb6058c783",
       "value": "Epoch: 1, 616.8518, 2.31593: "
      }
     },
     "f31a3a79c1fb40c99fc2c7705170f659": {
      "model_module": "@jupyter-widgets/controls",
      "model_module_version": "1.5.0",
      "model_name": "DescriptionStyleModel",
      "state": {
       "description_width": ""
      }
     },
     "f35f12dda7f1440a82b9ad3094dc551a": {
      "model_module": "@jupyter-widgets/controls",
      "model_module_version": "1.5.0",
      "model_name": "HTMLModel",
      "state": {
       "layout": "IPY_MODEL_13beb9c05be54af98d38001f3d343093",
       "style": "IPY_MODEL_dad3c1e367804b8fb0ca9f3489c202fa",
       "value": " 34/34 [00:00&lt;00:00, 1089.20it/s]"
      }
     },
     "f399792cd538402eba708e6d68307d17": {
      "model_module": "@jupyter-widgets/controls",
      "model_module_version": "1.5.0",
      "model_name": "HBoxModel",
      "state": {
       "children": [
        "IPY_MODEL_d89779d9f6764b21a5a1f8c485e880a3",
        "IPY_MODEL_38eb18756d4240c19fd5619355044a5e",
        "IPY_MODEL_b500e38268334a2a87fe369d0404e1a3"
       ],
       "layout": "IPY_MODEL_a10717baf8ca44279624d01508cbdc4c"
      }
     },
     "f3f7629a828940108ccb6fbfef49b7f6": {
      "model_module": "@jupyter-widgets/controls",
      "model_module_version": "1.5.0",
      "model_name": "DescriptionStyleModel",
      "state": {
       "description_width": ""
      }
     },
     "f3f82d59d00b4180bc882e112d2fa431": {
      "model_module": "@jupyter-widgets/controls",
      "model_module_version": "1.5.0",
      "model_name": "FloatProgressModel",
      "state": {
       "bar_style": "success",
       "layout": "IPY_MODEL_52eb4d4e7ce94fa1a3a698c0c2e24015",
       "max": 91,
       "style": "IPY_MODEL_0470c755dced4c7e999a35e3d0e1c3b4",
       "value": 91
      }
     },
     "f417bd698a684f4ebda9fc95115af23f": {
      "model_module": "@jupyter-widgets/controls",
      "model_module_version": "1.5.0",
      "model_name": "DescriptionStyleModel",
      "state": {
       "description_width": ""
      }
     },
     "f42a7ab1f0b241d79eefa626f8951355": {
      "model_module": "@jupyter-widgets/controls",
      "model_module_version": "1.5.0",
      "model_name": "HBoxModel",
      "state": {
       "children": [
        "IPY_MODEL_c54835b921524026ab2f0a3d8e7f11a6",
        "IPY_MODEL_eb8e0683923c4f5e8983413811108b09",
        "IPY_MODEL_61857278aeab4ffd8db5e1dcf505cad3"
       ],
       "layout": "IPY_MODEL_e2a20f109dff4a3b99b86b556328086a"
      }
     },
     "f44015a5b54a4d56addc45e4e3a8adbe": {
      "model_module": "@jupyter-widgets/controls",
      "model_module_version": "1.5.0",
      "model_name": "HBoxModel",
      "state": {
       "children": [
        "IPY_MODEL_3367dfe349ae4035bd7e885884af44a4",
        "IPY_MODEL_44b6d149112a48d49db578f37953c01d",
        "IPY_MODEL_86ac225aaf6245509b0d2b98eea7e35a"
       ],
       "layout": "IPY_MODEL_d3f75501e100426a8d7d7bfe67be5de6"
      }
     },
     "f45072dce9fb40fbabb0a103ba7a992c": {
      "model_module": "@jupyter-widgets/controls",
      "model_module_version": "1.5.0",
      "model_name": "ProgressStyleModel",
      "state": {
       "description_width": ""
      }
     },
     "f45b0c3b9a464287a2eef23b2a311878": {
      "model_module": "@jupyter-widgets/base",
      "model_module_version": "1.2.0",
      "model_name": "LayoutModel",
      "state": {}
     },
     "f47016993ec7422e858c12a06441434f": {
      "model_module": "@jupyter-widgets/controls",
      "model_module_version": "1.5.0",
      "model_name": "HTMLModel",
      "state": {
       "layout": "IPY_MODEL_ec331e938b924e1d88d11b00107ac165",
       "style": "IPY_MODEL_4a6fa98b0dfe49bbbd89a793e3cecfb1",
       "value": " 50/50 [00:00&lt;00:00, 1470.59it/s]"
      }
     },
     "f499b916ecb043afb47e02cf8da77a02": {
      "model_module": "@jupyter-widgets/controls",
      "model_module_version": "1.5.0",
      "model_name": "HBoxModel",
      "state": {
       "children": [
        "IPY_MODEL_739681a528474fd7bc5201416b6d2cc6",
        "IPY_MODEL_52145604fe2246cb84cb2c7271f2c12f",
        "IPY_MODEL_087c5a82d3ab4147a81e938c0569087e"
       ],
       "layout": "IPY_MODEL_bb397177be81447f98b5ad067f3f7400"
      }
     },
     "f4baaf0951ae4179ad2c059c3999a357": {
      "model_module": "@jupyter-widgets/controls",
      "model_module_version": "1.5.0",
      "model_name": "HTMLModel",
      "state": {
       "layout": "IPY_MODEL_9a8c76a9be8f44b4a6041d2e09b50feb",
       "style": "IPY_MODEL_f9dfba3529f94fa6ad8e54dd55938a99",
       "value": "Assigning labels: 100%"
      }
     },
     "f4eea56b269242ea8a6cab01c5c39336": {
      "model_module": "@jupyter-widgets/controls",
      "model_module_version": "1.5.0",
      "model_name": "FloatProgressModel",
      "state": {
       "bar_style": "danger",
       "layout": "IPY_MODEL_d30685d5af3d4e1d9365a371750fe6e1",
       "max": 270,
       "style": "IPY_MODEL_5f742ceb03ee47b9b949d07028304da2"
      }
     },
     "f4fed98075214eb887009db388392886": {
      "model_module": "@jupyter-widgets/controls",
      "model_module_version": "1.5.0",
      "model_name": "DescriptionStyleModel",
      "state": {
       "description_width": ""
      }
     },
     "f555e031203344daac1660d91b6565c9": {
      "model_module": "@jupyter-widgets/base",
      "model_module_version": "1.2.0",
      "model_name": "LayoutModel",
      "state": {}
     },
     "f5644c8c19db46acb9188621b2c1e84f": {
      "model_module": "@jupyter-widgets/controls",
      "model_module_version": "1.5.0",
      "model_name": "HTMLModel",
      "state": {
       "layout": "IPY_MODEL_7242924e111446e2a1a42f3975bd7458",
       "style": "IPY_MODEL_76259b2ae92a4874b002f22fb67c5adc",
       "value": " 526/526 [00:06&lt;00:00, 85.36it/s]"
      }
     },
     "f565c6c3a8204ba1af32d07884f56c46": {
      "model_module": "@jupyter-widgets/controls",
      "model_module_version": "1.5.0",
      "model_name": "DescriptionStyleModel",
      "state": {
       "description_width": ""
      }
     },
     "f5e153c566644ebdaa42da229f39b4f6": {
      "model_module": "@jupyter-widgets/controls",
      "model_module_version": "1.5.0",
      "model_name": "ProgressStyleModel",
      "state": {
       "description_width": ""
      }
     },
     "f6526134f46945d38161f3b737300a27": {
      "model_module": "@jupyter-widgets/controls",
      "model_module_version": "1.5.0",
      "model_name": "ProgressStyleModel",
      "state": {
       "description_width": ""
      }
     },
     "f6683ca3e1b941ceae8c30936d8a87ba": {
      "model_module": "@jupyter-widgets/controls",
      "model_module_version": "1.5.0",
      "model_name": "FloatProgressModel",
      "state": {
       "bar_style": "success",
       "layout": "IPY_MODEL_4dc42576a9344065ba470a4b4b067cac",
       "max": 58,
       "style": "IPY_MODEL_36854ea2c8e6443c9c31a6b9049686fd",
       "value": 58
      }
     },
     "f683f7e3f4c94a77aa8217c624ed820a": {
      "model_module": "@jupyter-widgets/base",
      "model_module_version": "1.2.0",
      "model_name": "LayoutModel",
      "state": {}
     },
     "f6aa8a5635ac47efb81210ec51a5320c": {
      "model_module": "@jupyter-widgets/base",
      "model_module_version": "1.2.0",
      "model_name": "LayoutModel",
      "state": {}
     },
     "f6dac9c271b245da8ebed677fb372cd1": {
      "model_module": "@jupyter-widgets/controls",
      "model_module_version": "1.5.0",
      "model_name": "HTMLModel",
      "state": {
       "layout": "IPY_MODEL_7ef0da634e9942fca24365ac75a85a6d",
       "style": "IPY_MODEL_a626636b787b4723844839e3cf6867e8",
       "value": "Assigning labels: 100%"
      }
     },
     "f710c962b686471b87c047d19d4c8169": {
      "model_module": "@jupyter-widgets/base",
      "model_module_version": "1.2.0",
      "model_name": "LayoutModel",
      "state": {}
     },
     "f71db6aa99bd43a893c8f8145798a6b6": {
      "model_module": "@jupyter-widgets/base",
      "model_module_version": "1.2.0",
      "model_name": "LayoutModel",
      "state": {}
     },
     "f72eb38705e44668a49643be2f0a874e": {
      "model_module": "@jupyter-widgets/base",
      "model_module_version": "1.2.0",
      "model_name": "LayoutModel",
      "state": {}
     },
     "f7420b98ba5e4e2a873a027ec73a5172": {
      "model_module": "@jupyter-widgets/controls",
      "model_module_version": "1.5.0",
      "model_name": "DescriptionStyleModel",
      "state": {
       "description_width": ""
      }
     },
     "f7da4131e298485ead8745b2f159353e": {
      "model_module": "@jupyter-widgets/controls",
      "model_module_version": "1.5.0",
      "model_name": "HTMLModel",
      "state": {
       "layout": "IPY_MODEL_1c0cdfb6043a40e292d903f5e8222ac0",
       "style": "IPY_MODEL_0aee283d282d453bb43ce9365c98071e",
       "value": "Epoch: 4, 52.11076, 0.06937: "
      }
     },
     "f7eabf6982b4428f943a81e65fc15eb2": {
      "model_module": "@jupyter-widgets/base",
      "model_module_version": "1.2.0",
      "model_name": "LayoutModel",
      "state": {}
     },
     "f7ec46fafa8c4169805bf09b0f2a1c59": {
      "model_module": "@jupyter-widgets/controls",
      "model_module_version": "1.5.0",
      "model_name": "HTMLModel",
      "state": {
       "layout": "IPY_MODEL_a69b46eebe2240a7b3bdd947c0dbfaf6",
       "style": "IPY_MODEL_47e88952da69431d9edff6836a4afc21",
       "value": "Assigning labels: 100%"
      }
     },
     "f7fc807ddf254601abbab765c6029fcd": {
      "model_module": "@jupyter-widgets/controls",
      "model_module_version": "1.5.0",
      "model_name": "DescriptionStyleModel",
      "state": {
       "description_width": ""
      }
     },
     "f842ba65037d489296c5cf93aecde203": {
      "model_module": "@jupyter-widgets/controls",
      "model_module_version": "1.5.0",
      "model_name": "ProgressStyleModel",
      "state": {
       "description_width": ""
      }
     },
     "f86b730f22a9423aad60f06f3448eb4d": {
      "model_module": "@jupyter-widgets/controls",
      "model_module_version": "1.5.0",
      "model_name": "DescriptionStyleModel",
      "state": {
       "description_width": ""
      }
     },
     "f88a426984c24ef1b0d62cdce2305665": {
      "model_module": "@jupyter-widgets/controls",
      "model_module_version": "1.5.0",
      "model_name": "DescriptionStyleModel",
      "state": {
       "description_width": ""
      }
     },
     "f892cd945f354dc099a77da2cbc6a155": {
      "model_module": "@jupyter-widgets/base",
      "model_module_version": "1.2.0",
      "model_name": "LayoutModel",
      "state": {}
     },
     "f8d58f93669d4281a617691bcaa3d7b0": {
      "model_module": "@jupyter-widgets/base",
      "model_module_version": "1.2.0",
      "model_name": "LayoutModel",
      "state": {}
     },
     "f8f1e8270fc540d18941a65e0a6dfc5d": {
      "model_module": "@jupyter-widgets/controls",
      "model_module_version": "1.5.0",
      "model_name": "FloatProgressModel",
      "state": {
       "bar_style": "success",
       "layout": "IPY_MODEL_abf6bfb712c3433cbf27f285abbba4df",
       "max": 58,
       "style": "IPY_MODEL_a34f81e687334a47995181383f20c7d6",
       "value": 58
      }
     },
     "f98be06b69864b8fae96b8e04f229a67": {
      "model_module": "@jupyter-widgets/base",
      "model_module_version": "1.2.0",
      "model_name": "LayoutModel",
      "state": {}
     },
     "f9b495f11ecf43978d74d420536452c3": {
      "model_module": "@jupyter-widgets/base",
      "model_module_version": "1.2.0",
      "model_name": "LayoutModel",
      "state": {}
     },
     "f9dfba3529f94fa6ad8e54dd55938a99": {
      "model_module": "@jupyter-widgets/controls",
      "model_module_version": "1.5.0",
      "model_name": "DescriptionStyleModel",
      "state": {
       "description_width": ""
      }
     },
     "f9feea30019a4d4687636a49e695957f": {
      "model_module": "@jupyter-widgets/controls",
      "model_module_version": "1.5.0",
      "model_name": "FloatProgressModel",
      "state": {
       "bar_style": "success",
       "layout": "IPY_MODEL_6a34df89644a46f5b29531cb9f2ca926",
       "max": 91,
       "style": "IPY_MODEL_acf7b3fef7f045ae89bf8232c38c7c8d",
       "value": 91
      }
     },
     "fa0c7d3a6a724380ba6c4ce7e698970a": {
      "model_module": "@jupyter-widgets/controls",
      "model_module_version": "1.5.0",
      "model_name": "HBoxModel",
      "state": {
       "children": [
        "IPY_MODEL_68c9de65fe45419a9ab5a8313ed8ca73",
        "IPY_MODEL_a3b95ae8a7854716b16e0afa791fce60",
        "IPY_MODEL_11643f48862e4595aeb284a14afa756e"
       ],
       "layout": "IPY_MODEL_bdc7fe556ed549eb9cff0d6ed66e7876"
      }
     },
     "fa85c4dabf4441a0a5acc16da3f1d551": {
      "model_module": "@jupyter-widgets/base",
      "model_module_version": "1.2.0",
      "model_name": "LayoutModel",
      "state": {}
     },
     "fa87c911c86e453ea8767c485ec92a81": {
      "model_module": "@jupyter-widgets/base",
      "model_module_version": "1.2.0",
      "model_name": "LayoutModel",
      "state": {}
     },
     "fb08c1e668c94a0d885754527397e64c": {
      "model_module": "@jupyter-widgets/base",
      "model_module_version": "1.2.0",
      "model_name": "LayoutModel",
      "state": {}
     },
     "fb5c0f14bc244bbcb72457b3e0222d99": {
      "model_module": "@jupyter-widgets/controls",
      "model_module_version": "1.5.0",
      "model_name": "HTMLModel",
      "state": {
       "layout": "IPY_MODEL_1924b81f3ac84f438fe3b70d4a7d5959",
       "style": "IPY_MODEL_a15d47063a93455b86229e8c0622a05d",
       "value": "Epoch: 7, 48.05749, 0.21008: "
      }
     },
     "fb63051d2351495c9d1b56fdee53cd67": {
      "model_module": "@jupyter-widgets/base",
      "model_module_version": "1.2.0",
      "model_name": "LayoutModel",
      "state": {}
     },
     "fb8472cdac3a4ee6a669db640ee021bc": {
      "model_module": "@jupyter-widgets/controls",
      "model_module_version": "1.5.0",
      "model_name": "ProgressStyleModel",
      "state": {
       "description_width": ""
      }
     },
     "fb8c5e59341842c9bda4d6c257e6f03e": {
      "model_module": "@jupyter-widgets/controls",
      "model_module_version": "1.5.0",
      "model_name": "HBoxModel",
      "state": {
       "children": [
        "IPY_MODEL_b3e0ba5e54b547fdbaf88ab5d9e7eeb0",
        "IPY_MODEL_02f4cef70002470f92860f57bd0a238f",
        "IPY_MODEL_ef591bc03f574b01acf98d5a6003a9d6"
       ],
       "layout": "IPY_MODEL_330c16078f5645c0bd706fc87f54160f"
      }
     },
     "fb9bc27a8edf493684a7009b25b6e416": {
      "model_module": "@jupyter-widgets/base",
      "model_module_version": "1.2.0",
      "model_name": "LayoutModel",
      "state": {}
     },
     "fbc56e6ac81449b29ac066ebadd64307": {
      "model_module": "@jupyter-widgets/base",
      "model_module_version": "1.2.0",
      "model_name": "LayoutModel",
      "state": {}
     },
     "fbfdcf76344e4eb89454f2437c57ce6c": {
      "model_module": "@jupyter-widgets/controls",
      "model_module_version": "1.5.0",
      "model_name": "HBoxModel",
      "state": {
       "children": [
        "IPY_MODEL_c2f8faae160c408590303f06d10372f0",
        "IPY_MODEL_ece08383228c435f925c374681c03354",
        "IPY_MODEL_985cbf01e6df428aa0b35209811091d9"
       ],
       "layout": "IPY_MODEL_332857b307a842c2acd87aefb585c5a9"
      }
     },
     "fc120b7111af4cb2ab13bd7169b029dc": {
      "model_module": "@jupyter-widgets/controls",
      "model_module_version": "1.5.0",
      "model_name": "HBoxModel",
      "state": {
       "children": [
        "IPY_MODEL_6f24571a600046e997b88f2093efec94",
        "IPY_MODEL_a4c4d5e98351495491a8f661a82c7225",
        "IPY_MODEL_c761803251734557aca7a920f24c2463"
       ],
       "layout": "IPY_MODEL_a604dfd8370a4bdfaa63298923651acd"
      }
     },
     "fc12e65d5d294b59933fa869906f4db7": {
      "model_module": "@jupyter-widgets/base",
      "model_module_version": "1.2.0",
      "model_name": "LayoutModel",
      "state": {}
     },
     "fc3f98eb27b34e0aa138629e652c9403": {
      "model_module": "@jupyter-widgets/base",
      "model_module_version": "1.2.0",
      "model_name": "LayoutModel",
      "state": {}
     },
     "fc8790c7b91049bb912e2377e7fe5fec": {
      "model_module": "@jupyter-widgets/controls",
      "model_module_version": "1.5.0",
      "model_name": "ProgressStyleModel",
      "state": {
       "description_width": ""
      }
     },
     "fc91dfc4a6d644b4897a42c574a8e1f8": {
      "model_module": "@jupyter-widgets/controls",
      "model_module_version": "1.5.0",
      "model_name": "DescriptionStyleModel",
      "state": {
       "description_width": ""
      }
     },
     "fcc164861ee7477899d73b5c91a2bcde": {
      "model_module": "@jupyter-widgets/controls",
      "model_module_version": "1.5.0",
      "model_name": "HTMLModel",
      "state": {
       "layout": "IPY_MODEL_0319d162e9a24a7eacdda6dbc0d9143e",
       "style": "IPY_MODEL_6caa5d626dea45d1bdcff99af353eacf",
       "value": " 271/? [03:00&lt;00:00,  1.95it/s]"
      }
     },
     "fcc46e7943a74e1fa2bb78d772a51adc": {
      "model_module": "@jupyter-widgets/controls",
      "model_module_version": "1.5.0",
      "model_name": "HBoxModel",
      "state": {
       "children": [
        "IPY_MODEL_0308abf693874d3683535b17a290e227",
        "IPY_MODEL_600830afd413468bb21a1b76862ce680",
        "IPY_MODEL_77a12951536e4f2db21f177500d1886c"
       ],
       "layout": "IPY_MODEL_49e2233dabea4211913bccb2ea136393"
      }
     },
     "fd54574182a94199930f1dbfd2840236": {
      "model_module": "@jupyter-widgets/controls",
      "model_module_version": "1.5.0",
      "model_name": "DescriptionStyleModel",
      "state": {
       "description_width": ""
      }
     },
     "fd7ddd04df2048399ef1b763fdca312b": {
      "model_module": "@jupyter-widgets/controls",
      "model_module_version": "1.5.0",
      "model_name": "DescriptionStyleModel",
      "state": {
       "description_width": ""
      }
     },
     "fd81cf1e06da4a46a2cc7219207e5805": {
      "model_module": "@jupyter-widgets/base",
      "model_module_version": "1.2.0",
      "model_name": "LayoutModel",
      "state": {}
     },
     "fdaf16e160c74dd2b25d3f514f2b1a39": {
      "model_module": "@jupyter-widgets/controls",
      "model_module_version": "1.5.0",
      "model_name": "DescriptionStyleModel",
      "state": {
       "description_width": ""
      }
     },
     "fdbc9c6b49c840d9bcb21a12bdcc93ac": {
      "model_module": "@jupyter-widgets/controls",
      "model_module_version": "1.5.0",
      "model_name": "DescriptionStyleModel",
      "state": {
       "description_width": ""
      }
     },
     "fdf2a4f5cd6d436281054ca96caba75d": {
      "model_module": "@jupyter-widgets/controls",
      "model_module_version": "1.5.0",
      "model_name": "HTMLModel",
      "state": {
       "layout": "IPY_MODEL_ae218ac1cd1b40eab8c6b9d0e0575b06",
       "style": "IPY_MODEL_401888ee740f4d7ab6840060e424545b",
       "value": "Assigning labels: 100%"
      }
     },
     "fe764df90afe4169802b3f5c767f155b": {
      "model_module": "@jupyter-widgets/controls",
      "model_module_version": "1.5.0",
      "model_name": "HTMLModel",
      "state": {
       "layout": "IPY_MODEL_eb165ce3e23440e99370644e343d7193",
       "style": "IPY_MODEL_793bebb1486e4bcd8484ed02c368f158",
       "value": " 23/23 [00:00&lt;00:00, 958.43it/s]"
      }
     },
     "fea31f0084044288a1fa17e0af3e87e3": {
      "model_module": "@jupyter-widgets/base",
      "model_module_version": "1.2.0",
      "model_name": "LayoutModel",
      "state": {}
     },
     "ff01fe3f4de54358b5374c007ed86ebe": {
      "model_module": "@jupyter-widgets/controls",
      "model_module_version": "1.5.0",
      "model_name": "HBoxModel",
      "state": {
       "children": [
        "IPY_MODEL_63604ebae59840d591fcbb71fe6f8b63",
        "IPY_MODEL_20e9d1a8c3ba40209a20f5e797a3157a",
        "IPY_MODEL_652b73dd0a2444f6a545f303cd89c1b2"
       ],
       "layout": "IPY_MODEL_6be51bb2d3604df38dff7aa3e5d4f1b3"
      }
     },
     "ff64e70845494f67aa1a12d77bbcb0ec": {
      "model_module": "@jupyter-widgets/controls",
      "model_module_version": "1.5.0",
      "model_name": "HTMLModel",
      "state": {
       "layout": "IPY_MODEL_1d63db5a3ec9411b8099c8f19956cd8d",
       "style": "IPY_MODEL_75675d258469417aa485f07b3b867f61",
       "value": "Assigning labels: 100%"
      }
     },
     "ff781732dff64d5098b9b2371980e3a9": {
      "model_module": "@jupyter-widgets/controls",
      "model_module_version": "1.5.0",
      "model_name": "FloatProgressModel",
      "state": {
       "bar_style": "success",
       "layout": "IPY_MODEL_6594b213b413481e955f9a548f3626c1",
       "max": 526,
       "style": "IPY_MODEL_83c3f72979eb46808132ea005821ffb0",
       "value": 526
      }
     },
     "ff9366692ff644cc844c4c4cab6ec024": {
      "model_module": "@jupyter-widgets/controls",
      "model_module_version": "1.5.0",
      "model_name": "DescriptionStyleModel",
      "state": {
       "description_width": ""
      }
     },
     "ffba0d2b6bf44549a91d33aad1e14139": {
      "model_module": "@jupyter-widgets/controls",
      "model_module_version": "1.5.0",
      "model_name": "DescriptionStyleModel",
      "state": {
       "description_width": ""
      }
     },
     "ffc7542eee3b4f57a41c277adfb5cc80": {
      "model_module": "@jupyter-widgets/base",
      "model_module_version": "1.2.0",
      "model_name": "LayoutModel",
      "state": {}
     }
    },
    "version_major": 2,
    "version_minor": 0
   }
  }
 },
 "nbformat": 4,
 "nbformat_minor": 5
}
