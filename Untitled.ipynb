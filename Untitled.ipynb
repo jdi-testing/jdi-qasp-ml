{
 "cells": [
  {
   "cell_type": "code",
   "execution_count": 5,
   "id": "79906514",
   "metadata": {},
   "outputs": [
    {
     "data": {
      "text/plain": [
       "0.5"
      ]
     },
     "execution_count": 5,
     "metadata": {},
     "output_type": "execute_result"
    }
   ],
   "source": [
    "PD = 0.01 (probability of desize)\n",
    "TPR = .99 (Test true positive rate)  \n",
    "\n",
    "TP = ?\n",
    "\n",
    "0.01*.99 /(PD*TP + (1-PD)*0.01)\n",
    "\n",
    "# PD = 0.01 #распространено среди населения\n",
    "# PT_and_D = 0.99 # точность при условии если есть болезнь\n",
    "# # PT_and_no_D = ?\n"
   ]
  },
  {
   "cell_type": "code",
   "execution_count": 2,
   "id": "4a2becf3",
   "metadata": {},
   "outputs": [
    {
     "data": {
      "text/plain": [
       "0.0099"
      ]
     },
     "execution_count": 2,
     "metadata": {},
     "output_type": "execute_result"
    }
   ],
   "source": [
    "(PT_and_D * PD)/(   0.01*0.99 + 0.01*0.99)"
   ]
  },
  {
   "cell_type": "code",
   "execution_count": 6,
   "id": "6171c2f9",
   "metadata": {},
   "outputs": [
    {
     "data": {
      "text/plain": [
       "0.019800000000000012"
      ]
     },
     "execution_count": 6,
     "metadata": {},
     "output_type": "execute_result"
    }
   ],
   "source": [
    "0.01*.99 + 0.99*(1. - .99)"
   ]
  },
  {
   "cell_type": "code",
   "execution_count": null,
   "id": "9d648c69",
   "metadata": {},
   "outputs": [],
   "source": []
  },
  {
   "cell_type": "code",
   "execution_count": null,
   "id": "cbbd5163",
   "metadata": {},
   "outputs": [],
   "source": [
    "Вероятность, что человек здоров при результате «болен»:\n",
    "\n",
    "Р(З | «Б») = 0,999 × 0,01 / (0,999 × 0,01 + 0,001 × 0,9) ≈ 0,917. "
   ]
  },
  {
   "cell_type": "code",
   "execution_count": null,
   "id": "bc960f26",
   "metadata": {},
   "outputs": [],
   "source": []
  },
  {
   "cell_type": "code",
   "execution_count": null,
   "id": "e60251c7",
   "metadata": {},
   "outputs": [],
   "source": []
  }
 ],
 "metadata": {
  "kernelspec": {
   "display_name": "Python 3",
   "language": "python",
   "name": "python3"
  },
  "language_info": {
   "codemirror_mode": {
    "name": "ipython",
    "version": 3
   },
   "file_extension": ".py",
   "mimetype": "text/x-python",
   "name": "python",
   "nbconvert_exporter": "python",
   "pygments_lexer": "ipython3",
   "version": "3.7.9"
  }
 },
 "nbformat": 4,
 "nbformat_minor": 5
}
