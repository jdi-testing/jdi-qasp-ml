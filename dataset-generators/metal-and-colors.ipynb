{
 "cells": [
  {
   "cell_type": "code",
   "execution_count": 1,
   "id": "ae727196",
   "metadata": {},
   "outputs": [
    {
     "name": "stdout",
     "output_type": "stream",
     "text": [
      "2021-06-09 18:54:29,661 -INFO - config:config.py:16 - Module utils.config was loaded\n",
      "2021-06-09 18:54:29,663 -INFO - common:common.py:616 - Module utils.common is loaded...\n",
      "2021-06-09 18:54:29,664 -INFO - hidden:hidden.py:121 - hidden module is loaded\n",
      "2021-06-09 18:54:29,666 -INFO - dataset_builder:dataset_builder.py:202 - dataset package is loaded...\n",
      "2021-06-09 18:54:30,272 -INFO - dataset:dataset.py:653 - dataset module is loaded...\n"
     ]
    },
    {
     "data": {
      "text/html": [
       "2021-06-09 18:54:30.274056 - Current working directory: <b>D:\\DataScience\\!WORK\\jdi-qasp-ml</b>"
      ],
      "text/plain": [
       "<IPython.core.display.HTML object>"
      ]
     },
     "metadata": {},
     "output_type": "display_data"
    }
   ],
   "source": [
    "import sys\n",
    "import re\n",
    "import os\n",
    "from datetime import datetime\n",
    "from time import sleep\n",
    "from IPython.display import display, clear_output, HTML\n",
    "\n",
    "# set working dir\n",
    "WORKING_DIR = re.sub('jdi-qasp-ml.*$','',os.path.normpath(os.getcwd())) + 'jdi-qasp-ml'\n",
    "os.chdir(WORKING_DIR)\n",
    "\n",
    "import utils\n",
    "from utils import *\n",
    "import torch\n",
    "import pandas as pd\n",
    "import numpy as np\n",
    "import torch\n",
    "from glob import glob\n",
    "import selenium\n",
    "from tqdm.auto import tqdm\n",
    "\n",
    "START_TS = datetime.now()\n",
    "display(HTML(f'{START_TS} - Current working directory: <b>{WORKING_DIR}</b>'))\n",
    "\n",
    "import matplotlib.pyplot as plt\n",
    "import matplotlib.patches as patches\n",
    "%matplotlib inline\n",
    "\n",
    "import numba\n",
    "\n"
   ]
  },
  {
   "cell_type": "code",
   "execution_count": 2,
   "id": "dd856dd9",
   "metadata": {},
   "outputs": [],
   "source": [
    "from utils import get_all_elements, iou_xywh, screenshot, maximize_window, get_parents_list, build_tree_dict, DatasetBuilder"
   ]
  },
  {
   "cell_type": "code",
   "execution_count": 3,
   "id": "fa9e3100",
   "metadata": {},
   "outputs": [
    {
     "data": {
      "text/plain": [
       "'3.141.0'"
      ]
     },
     "execution_count": 3,
     "metadata": {},
     "output_type": "execute_result"
    }
   ],
   "source": [
    "selenium.__version__"
   ]
  },
  {
   "cell_type": "markdown",
   "id": "667a9705",
   "metadata": {},
   "source": [
    "# Parameters"
   ]
  },
  {
   "cell_type": "code",
   "execution_count": 4,
   "id": "f1f53234",
   "metadata": {},
   "outputs": [],
   "source": [
    "SITE_URL = 'https://jdi-testing.github.io/jdi-light/'\n",
    "LOGIN = 'Roman'\n",
    "PASSWORD = 'Jdi1234'\n",
    "SAVE_SCREEN = True\n",
    "WAIT_TIME_SECONDS = 7\n",
    "HEADLESS = True #False"
   ]
  },
  {
   "cell_type": "code",
   "execution_count": 5,
   "id": "8831117f",
   "metadata": {},
   "outputs": [
    {
     "data": {
      "text/plain": [
       "({0: 'button',\n",
       "  1: 'link',\n",
       "  2: 'textfield',\n",
       "  3: 'dropdown',\n",
       "  4: 'checkbox',\n",
       "  5: 'radiobutton',\n",
       "  6: 'textarea',\n",
       "  7: 'fileinput',\n",
       "  8: 'iframe',\n",
       "  9: 'range',\n",
       "  10: 'progressbar',\n",
       "  11: 'datetimeselector',\n",
       "  12: 'colorpicker',\n",
       "  13: 'numberselector',\n",
       "  14: 'selector',\n",
       "  15: 'table',\n",
       "  16: 'slider-toggle',\n",
       "  17: 'slider',\n",
       "  18: 'tree-node',\n",
       "  19: 'steper',\n",
       "  20: 'tab',\n",
       "  21: 'n/a'},\n",
       " {'button': 0,\n",
       "  'link': 1,\n",
       "  'textfield': 2,\n",
       "  'dropdown': 3,\n",
       "  'checkbox': 4,\n",
       "  'radiobutton': 5,\n",
       "  'textarea': 6,\n",
       "  'fileinput': 7,\n",
       "  'iframe': 8,\n",
       "  'range': 9,\n",
       "  'progressbar': 10,\n",
       "  'datetimeselector': 11,\n",
       "  'colorpicker': 12,\n",
       "  'numberselector': 13,\n",
       "  'selector': 14,\n",
       "  'table': 15,\n",
       "  'slider-toggle': 16,\n",
       "  'slider': 17,\n",
       "  'tree-node': 18,\n",
       "  'steper': 19,\n",
       "  'tab': 20,\n",
       "  'n/a': 21})"
      ]
     },
     "execution_count": 5,
     "metadata": {},
     "output_type": "execute_result"
    }
   ],
   "source": [
    "with open('dataset/classes.txt', 'r') as f:\n",
    "    decoder_dict = { i:s.strip() for i, s in  enumerate(f.readlines())}\n",
    "    encoder_dict = { v: k for k, v in decoder_dict.items()}\n",
    "decoder_dict, encoder_dict"
   ]
  },
  {
   "cell_type": "markdown",
   "id": "f5daf45b",
   "metadata": {},
   "source": [
    "# Generate dataset"
   ]
  },
  {
   "cell_type": "code",
   "execution_count": 6,
   "id": "79ccbc29",
   "metadata": {},
   "outputs": [],
   "source": [
    "DATASET_NAME = 'metals-and-colors'"
   ]
  },
  {
   "cell_type": "code",
   "execution_count": 7,
   "id": "45ec5e07",
   "metadata": {},
   "outputs": [
    {
     "name": "stdout",
     "output_type": "stream",
     "text": [
      "2021-06-09 18:54:30,400 -INFO - dataset_builder:dataset_builder.py:77 - Dataset name: metals-and-colors\n",
      "2021-06-09 18:54:30,400 -INFO - dataset_builder:dataset_builder.py:86 - Create directories to save the dataset\n",
      "2021-06-09 18:54:30,401 -INFO - dataset_builder:dataset_builder.py:123 - Creating driver\n",
      "2021-06-09 18:54:31,654 -INFO - dataset_builder:dataset_builder.py:131 - Chrome web driver is created\n",
      "2021-06-09 18:54:31,655 -INFO - <ipython-input-7-15d1563296ea>:<ipython-input-7-15d1563296ea>:4 - getting page\n",
      "2021-06-09 18:54:39,664 -INFO - common:common.py:75 - Window maximized\n",
      "2021-06-09 18:54:46,676 -INFO - dataset_builder:dataset_builder.py:134 - save scrinshot: dataset/images/metals-and-colors.png\n",
      "2021-06-09 18:54:46,728 -INFO - dataset_builder:dataset_builder.py:178 - Collect features using JS script\n",
      "2021-06-09 18:54:47,029 -INFO - dataset_builder:dataset_builder.py:186 - Save html to dataset/html/metals-and-colors.html\n",
      "2021-06-09 18:54:47,036 -INFO - dataset_builder:dataset_builder.py:196 - Save parquet to dataset/df/metals-and-colors.parquet\n",
      "2021-06-09 18:54:47,142 -INFO - dataset_builder:dataset_builder.py:101 - Close web driver\n"
     ]
    },
    {
     "data": {
      "image/png": "[encoded data removed]",
      "text/plain": [
       "<Figure size 432x288 with 1 Axes>"
      ]
     },
     "metadata": {
      "needs_background": "light"
     },
     "output_type": "display_data"
    }
   ],
   "source": [
    "class JDIDatasetBuilder(DatasetBuilder):\n",
    "\n",
    "    def setUp(self, driver):\n",
    "        self.logger.info(f'getting page')\n",
    "        driver.get(SITE_URL)\n",
    "        \n",
    "        driver.find_element_by_id(\"user-icon\").click()\n",
    "        driver.find_element_by_id(\"name\").send_keys(LOGIN)\n",
    "        driver.find_element_by_id(\"password\").send_keys(PASSWORD)\n",
    "        driver.find_element_by_id(\"login-button\").click()\n",
    "        sleep(WAIT_TIME_SECONDS)\n",
    "        \n",
    "        driver.find_element_by_link_text(\"Metals & Colors\").click()\n",
    "        #driver.find_element_by_link_text(\"Bootstrap forms\").click()\n",
    "        #sleep(WAIT_TIME_SECONDS)\n",
    "        \n",
    "#         driver.find_element_by_link_text(\"Service\").click()\n",
    "#         driver.find_element_by_link_text(\"Complex Table\").click()\n",
    "        maximize_window(driver=driver)\n",
    "        sleep(WAIT_TIME_SECONDS)\n",
    "        \n",
    "\n",
    "with JDIDatasetBuilder(url=SITE_URL, dataset_name=DATASET_NAME, headless=True) as builder:\n",
    "    elements_df = builder.dataset\n",
    "    plt.imshow(plt.imread(f'dataset/images/{DATASET_NAME}.png'))"
   ]
  },
  {
   "cell_type": "code",
   "execution_count": 8,
   "id": "4acc0e25",
   "metadata": {},
   "outputs": [],
   "source": [
    "df = pd.read_parquet(f'dataset/df/{DATASET_NAME}.parquet')"
   ]
  },
  {
   "cell_type": "code",
   "execution_count": 9,
   "id": "2a1fa64a",
   "metadata": {},
   "outputs": [
    {
     "name": "stdout",
     "output_type": "stream",
     "text": [
      "2021-06-09 18:54:47,444 -INFO - hidden:hidden.py:107 - build field \"is_hidden\"\n"
     ]
    }
   ],
   "source": [
    "df = build_features(df)"
   ]
  },
  {
   "cell_type": "code",
   "execution_count": 10,
   "id": "91e8138a",
   "metadata": {},
   "outputs": [],
   "source": [
    "elements_dict = build_elements_dict(df)"
   ]
  },
  {
   "cell_type": "code",
   "execution_count": 11,
   "id": "a18b0488",
   "metadata": {},
   "outputs": [
    {
     "data": {
      "text/html": [
       "<div>\n",
       "<style scoped>\n",
       "    .dataframe tbody tr th:only-of-type {\n",
       "        vertical-align: middle;\n",
       "    }\n",
       "\n",
       "    .dataframe tbody tr th {\n",
       "        vertical-align: top;\n",
       "    }\n",
       "\n",
       "    .dataframe thead th {\n",
       "        text-align: right;\n",
       "    }\n",
       "</style>\n",
       "<table border=\"1\" class=\"dataframe\">\n",
       "  <thead>\n",
       "    <tr style=\"text-align: right;\">\n",
       "      <th></th>\n",
       "      <th>tag_name</th>\n",
       "      <th>element_id</th>\n",
       "      <th>parent_id</th>\n",
       "      <th>upper_sibling</th>\n",
       "      <th>lower_sibling</th>\n",
       "      <th>displayed</th>\n",
       "      <th>is_hidden</th>\n",
       "      <th>x</th>\n",
       "      <th>y</th>\n",
       "      <th>width</th>\n",
       "      <th>height</th>\n",
       "    </tr>\n",
       "  </thead>\n",
       "  <tbody>\n",
       "    <tr>\n",
       "      <th>0</th>\n",
       "      <td>HTML</td>\n",
       "      <td>2924792127540867316737019620</td>\n",
       "      <td>None</td>\n",
       "      <td>None</td>\n",
       "      <td>None</td>\n",
       "      <td>True</td>\n",
       "      <td>0</td>\n",
       "      <td>0.000000</td>\n",
       "      <td>0.0</td>\n",
       "      <td>1183.000000</td>\n",
       "      <td>725.0</td>\n",
       "    </tr>\n",
       "    <tr>\n",
       "      <th>1</th>\n",
       "      <td>HEAD</td>\n",
       "      <td>5176179866540867319175650785</td>\n",
       "      <td>2924792127540867316737019620</td>\n",
       "      <td>None</td>\n",
       "      <td>3884415685540867317541840947</td>\n",
       "      <td>False</td>\n",
       "      <td>0</td>\n",
       "      <td>0.000000</td>\n",
       "      <td>0.0</td>\n",
       "      <td>0.000000</td>\n",
       "      <td>0.0</td>\n",
       "    </tr>\n",
       "    <tr>\n",
       "      <th>2</th>\n",
       "      <td>META</td>\n",
       "      <td>9989245617540867310070479011</td>\n",
       "      <td>5176179866540867319175650785</td>\n",
       "      <td>None</td>\n",
       "      <td>0081164820540867315200753840</td>\n",
       "      <td>False</td>\n",
       "      <td>0</td>\n",
       "      <td>0.000000</td>\n",
       "      <td>0.0</td>\n",
       "      <td>0.000000</td>\n",
       "      <td>0.0</td>\n",
       "    </tr>\n",
       "    <tr>\n",
       "      <th>3</th>\n",
       "      <td>TITLE</td>\n",
       "      <td>0081164820540867315200753840</td>\n",
       "      <td>5176179866540867319175650785</td>\n",
       "      <td>9989245617540867310070479011</td>\n",
       "      <td>2639192066540867312176834275</td>\n",
       "      <td>False</td>\n",
       "      <td>0</td>\n",
       "      <td>0.000000</td>\n",
       "      <td>0.0</td>\n",
       "      <td>0.000000</td>\n",
       "      <td>0.0</td>\n",
       "    </tr>\n",
       "    <tr>\n",
       "      <th>4</th>\n",
       "      <td>META</td>\n",
       "      <td>2639192066540867312176834275</td>\n",
       "      <td>5176179866540867319175650785</td>\n",
       "      <td>0081164820540867315200753840</td>\n",
       "      <td>8137909939540867313660289916</td>\n",
       "      <td>False</td>\n",
       "      <td>0</td>\n",
       "      <td>0.000000</td>\n",
       "      <td>0.0</td>\n",
       "      <td>0.000000</td>\n",
       "      <td>0.0</td>\n",
       "    </tr>\n",
       "    <tr>\n",
       "      <th>...</th>\n",
       "      <td>...</td>\n",
       "      <td>...</td>\n",
       "      <td>...</td>\n",
       "      <td>...</td>\n",
       "      <td>...</td>\n",
       "      <td>...</td>\n",
       "      <td>...</td>\n",
       "      <td>...</td>\n",
       "      <td>...</td>\n",
       "      <td>...</td>\n",
       "      <td>...</td>\n",
       "    </tr>\n",
       "    <tr>\n",
       "      <th>371</th>\n",
       "      <td>LI</td>\n",
       "      <td>9458720567540867329447212820</td>\n",
       "      <td>2170641003540867326980661189</td>\n",
       "      <td>5861502755540867325111148794</td>\n",
       "      <td>None</td>\n",
       "      <td>True</td>\n",
       "      <td>0</td>\n",
       "      <td>1115.890625</td>\n",
       "      <td>703.0</td>\n",
       "      <td>64.109375</td>\n",
       "      <td>15.0</td>\n",
       "    </tr>\n",
       "    <tr>\n",
       "      <th>372</th>\n",
       "      <td>A</td>\n",
       "      <td>3380090396540867320100781497</td>\n",
       "      <td>9458720567540867329447212820</td>\n",
       "      <td>None</td>\n",
       "      <td>None</td>\n",
       "      <td>True</td>\n",
       "      <td>0</td>\n",
       "      <td>1115.890625</td>\n",
       "      <td>703.0</td>\n",
       "      <td>64.109375</td>\n",
       "      <td>15.0</td>\n",
       "    </tr>\n",
       "    <tr>\n",
       "      <th>373</th>\n",
       "      <td>SCRIPT</td>\n",
       "      <td>4142973712540867329324342637</td>\n",
       "      <td>3884415685540867317541840947</td>\n",
       "      <td>3619425212540867320279331092</td>\n",
       "      <td>0321692882540867328765553268</td>\n",
       "      <td>False</td>\n",
       "      <td>1</td>\n",
       "      <td>0.000000</td>\n",
       "      <td>0.0</td>\n",
       "      <td>0.000000</td>\n",
       "      <td>0.0</td>\n",
       "    </tr>\n",
       "    <tr>\n",
       "      <th>374</th>\n",
       "      <td>SCRIPT</td>\n",
       "      <td>0321692882540867328765553268</td>\n",
       "      <td>3884415685540867317541840947</td>\n",
       "      <td>4142973712540867329324342637</td>\n",
       "      <td>1391622777540867321439411524</td>\n",
       "      <td>False</td>\n",
       "      <td>1</td>\n",
       "      <td>0.000000</td>\n",
       "      <td>0.0</td>\n",
       "      <td>0.000000</td>\n",
       "      <td>0.0</td>\n",
       "    </tr>\n",
       "    <tr>\n",
       "      <th>375</th>\n",
       "      <td>SCRIPT</td>\n",
       "      <td>1391622777540867321439411524</td>\n",
       "      <td>3884415685540867317541840947</td>\n",
       "      <td>0321692882540867328765553268</td>\n",
       "      <td>None</td>\n",
       "      <td>False</td>\n",
       "      <td>1</td>\n",
       "      <td>0.000000</td>\n",
       "      <td>0.0</td>\n",
       "      <td>0.000000</td>\n",
       "      <td>0.0</td>\n",
       "    </tr>\n",
       "  </tbody>\n",
       "</table>\n",
       "<p>376 rows × 11 columns</p>\n",
       "</div>"
      ],
      "text/plain": [
       "    tag_name                    element_id                     parent_id  \\\n",
       "0       HTML  2924792127540867316737019620                          None   \n",
       "1       HEAD  5176179866540867319175650785  2924792127540867316737019620   \n",
       "2       META  9989245617540867310070479011  5176179866540867319175650785   \n",
       "3      TITLE  0081164820540867315200753840  5176179866540867319175650785   \n",
       "4       META  2639192066540867312176834275  5176179866540867319175650785   \n",
       "..       ...                           ...                           ...   \n",
       "371       LI  9458720567540867329447212820  2170641003540867326980661189   \n",
       "372        A  3380090396540867320100781497  9458720567540867329447212820   \n",
       "373   SCRIPT  4142973712540867329324342637  3884415685540867317541840947   \n",
       "374   SCRIPT  0321692882540867328765553268  3884415685540867317541840947   \n",
       "375   SCRIPT  1391622777540867321439411524  3884415685540867317541840947   \n",
       "\n",
       "                    upper_sibling                 lower_sibling  displayed  \\\n",
       "0                            None                          None       True   \n",
       "1                            None  3884415685540867317541840947      False   \n",
       "2                            None  0081164820540867315200753840      False   \n",
       "3    9989245617540867310070479011  2639192066540867312176834275      False   \n",
       "4    0081164820540867315200753840  8137909939540867313660289916      False   \n",
       "..                            ...                           ...        ...   \n",
       "371  5861502755540867325111148794                          None       True   \n",
       "372                          None                          None       True   \n",
       "373  3619425212540867320279331092  0321692882540867328765553268      False   \n",
       "374  4142973712540867329324342637  1391622777540867321439411524      False   \n",
       "375  0321692882540867328765553268                          None      False   \n",
       "\n",
       "     is_hidden            x      y        width  height  \n",
       "0            0     0.000000    0.0  1183.000000   725.0  \n",
       "1            0     0.000000    0.0     0.000000     0.0  \n",
       "2            0     0.000000    0.0     0.000000     0.0  \n",
       "3            0     0.000000    0.0     0.000000     0.0  \n",
       "4            0     0.000000    0.0     0.000000     0.0  \n",
       "..         ...          ...    ...          ...     ...  \n",
       "371          0  1115.890625  703.0    64.109375    15.0  \n",
       "372          0  1115.890625  703.0    64.109375    15.0  \n",
       "373          1     0.000000    0.0     0.000000     0.0  \n",
       "374          1     0.000000    0.0     0.000000     0.0  \n",
       "375          1     0.000000    0.0     0.000000     0.0  \n",
       "\n",
       "[376 rows x 11 columns]"
      ]
     },
     "execution_count": 11,
     "metadata": {},
     "output_type": "execute_result"
    }
   ],
   "source": [
    "df[['tag_name', 'element_id', 'parent_id', 'upper_sibling', 'lower_sibling', 'displayed', 'is_hidden', 'x', 'y', 'width', 'height']]"
   ]
  },
  {
   "cell_type": "code",
   "execution_count": 12,
   "id": "3635e541",
   "metadata": {},
   "outputs": [
    {
     "name": "stdout",
     "output_type": "stream",
     "text": [
      "2021-06-09 18:54:47,864 -INFO - common:common.py:489 - Num radio buttons found: 8\n",
      "2021-06-09 18:54:47,866 -INFO - common:common.py:493 - Num radio2 buttons found: 0\n",
      "2021-06-09 18:54:47,868 -INFO - common:common.py:500 - Num checkboxes found: 8\n",
      "2021-06-09 18:54:47,871 -INFO - common:common.py:507 - Num comboboxes/dropdowns found: 0\n",
      "2021-06-09 18:54:47,873 -INFO - common:common.py:518 - Num textfields found: 3\n",
      "2021-06-09 18:54:47,876 -INFO - common:common.py:523 - Num texfields for numbers found: 0\n",
      "2021-06-09 18:54:47,878 -INFO - common:common.py:528 - Num ranges found: 0\n",
      "2021-06-09 18:54:47,880 -INFO - common:common.py:533 - Num ordinary text inputs found: 0\n",
      "2021-06-09 18:54:47,882 -INFO - common:common.py:536 - Num buttons found: 7\n",
      "2021-06-09 18:54:47,884 -INFO - common:common.py:541 - Num buttons1 found: 1\n",
      "2021-06-09 18:54:47,886 -INFO - common:common.py:546 - Num buttons2 (Material-UI) found: 0\n",
      "2021-06-09 18:54:47,888 -INFO - common:common.py:551 - Num links found: 53\n",
      "(24, 8)\n"
     ]
    }
   ],
   "source": [
    "predictions_df = rule_base_predict(df)\n",
    "print(predictions_df.shape)\n",
    "# predictions_df"
   ]
  },
  {
   "cell_type": "markdown",
   "id": "acc6e75f",
   "metadata": {},
   "source": [
    "# **Enrich predictions**"
   ]
  },
  {
   "cell_type": "code",
   "execution_count": 13,
   "id": "61514667",
   "metadata": {
    "scrolled": false
   },
   "outputs": [],
   "source": [
    "# img = load_gray_image(f'dataset/images/{DATASET_NAME}.png')\n",
    "# img_height, img_width = img.shape\n",
    "# print(img_width, img_height)\n",
    "# plt.figure(figsize=(15, 500))\n",
    "# plt.imshow(img, cmap='gray')\n",
    "# axes = plt.gca()\n",
    "\n",
    "# for _, r in predictions_df.iterrows():\n",
    "    \n",
    "#     patch = patches.Rectangle((r.x, r.y), r.width, r.height, linewidth=2, alpha = .3, facecolor = 'red', edgecolor ='black')\n",
    "#     axes.add_patch(patch)\n",
    "#     plt.text(r.x, r.y, \n",
    "#              decoder_dict[r.label] + ':',  ## + r.element_id, \n",
    "#              fontsize = 10, \n",
    "#              color = 'white', \n",
    "#              backgroundcolor='black',\n",
    "#              alpha=1.)\n",
    "    "
   ]
  },
  {
   "cell_type": "markdown",
   "id": "b80e9bc1",
   "metadata": {},
   "source": [
    "# Generate and Save Labels"
   ]
  },
  {
   "cell_type": "code",
   "execution_count": 14,
   "id": "b6192d53",
   "metadata": {},
   "outputs": [],
   "source": [
    "# labels = build_to_yolo(df = predictions_df, img_width=img_width, img_heght=img_height)\n",
    "# labels"
   ]
  },
  {
   "cell_type": "code",
   "execution_count": 15,
   "id": "12eaa333",
   "metadata": {},
   "outputs": [],
   "source": [
    "# labeled_df = pd.DataFrame(labels, columns=['label', 'x', 'y', 'width', 'height'])\n",
    "# labeled_df.label = labeled_df.label.astype(int)\n",
    "# display(labeled_df)\n",
    "# labeled_df.to_csv(f'dataset/annotations/{DATASET_NAME}.txt', header=False, sep=' ', index=False)"
   ]
  },
  {
   "cell_type": "markdown",
   "id": "3252751e",
   "metadata": {},
   "source": [
    "# Preview Labels"
   ]
  },
  {
   "cell_type": "code",
   "execution_count": 26,
   "id": "f1832b8d",
   "metadata": {},
   "outputs": [],
   "source": [
    "img = load_gray_image(f'dataset/images/{DATASET_NAME}.png')\n",
    "img_height, img_width = img.shape\n"
   ]
  },
  {
   "cell_type": "code",
   "execution_count": 27,
   "id": "5df9d5df",
   "metadata": {},
   "outputs": [
    {
     "data": {
      "text/html": [
       "<div>\n",
       "<style scoped>\n",
       "    .dataframe tbody tr th:only-of-type {\n",
       "        vertical-align: middle;\n",
       "    }\n",
       "\n",
       "    .dataframe tbody tr th {\n",
       "        vertical-align: top;\n",
       "    }\n",
       "\n",
       "    .dataframe thead th {\n",
       "        text-align: right;\n",
       "    }\n",
       "</style>\n",
       "<table border=\"1\" class=\"dataframe\">\n",
       "  <thead>\n",
       "    <tr style=\"text-align: right;\">\n",
       "      <th></th>\n",
       "      <th>label</th>\n",
       "      <th>x</th>\n",
       "      <th>y</th>\n",
       "      <th>width</th>\n",
       "      <th>height</th>\n",
       "      <th>box</th>\n",
       "    </tr>\n",
       "  </thead>\n",
       "  <tbody>\n",
       "    <tr>\n",
       "      <th>0</th>\n",
       "      <td>1</td>\n",
       "      <td>0.051667</td>\n",
       "      <td>0.037736</td>\n",
       "      <td>0.070000</td>\n",
       "      <td>0.037736</td>\n",
       "      <td>(20, 14, 84, 28)</td>\n",
       "    </tr>\n",
       "    <tr>\n",
       "      <th>1</th>\n",
       "      <td>1</td>\n",
       "      <td>0.130000</td>\n",
       "      <td>0.041105</td>\n",
       "      <td>0.065000</td>\n",
       "      <td>0.030997</td>\n",
       "      <td>(117, 19, 78, 22)</td>\n",
       "    </tr>\n",
       "    <tr>\n",
       "      <th>2</th>\n",
       "      <td>1</td>\n",
       "      <td>0.214583</td>\n",
       "      <td>0.040431</td>\n",
       "      <td>0.044167</td>\n",
       "      <td>0.078167</td>\n",
       "      <td>(230, 0, 53, 57)</td>\n",
       "    </tr>\n",
       "    <tr>\n",
       "      <th>3</th>\n",
       "      <td>1</td>\n",
       "      <td>0.287500</td>\n",
       "      <td>0.040431</td>\n",
       "      <td>0.100000</td>\n",
       "      <td>0.078167</td>\n",
       "      <td>(285, 0, 120, 57)</td>\n",
       "    </tr>\n",
       "    <tr>\n",
       "      <th>4</th>\n",
       "      <td>1</td>\n",
       "      <td>0.377500</td>\n",
       "      <td>0.041105</td>\n",
       "      <td>0.078333</td>\n",
       "      <td>0.079515</td>\n",
       "      <td>(406, 0, 93, 59)</td>\n",
       "    </tr>\n",
       "  </tbody>\n",
       "</table>\n",
       "</div>"
      ],
      "text/plain": [
       "   label         x         y     width    height                box\n",
       "0      1  0.051667  0.037736  0.070000  0.037736   (20, 14, 84, 28)\n",
       "1      1  0.130000  0.041105  0.065000  0.030997  (117, 19, 78, 22)\n",
       "2      1  0.214583  0.040431  0.044167  0.078167   (230, 0, 53, 57)\n",
       "3      1  0.287500  0.040431  0.100000  0.078167  (285, 0, 120, 57)\n",
       "4      1  0.377500  0.041105  0.078333  0.079515   (406, 0, 93, 59)"
      ]
     },
     "execution_count": 27,
     "metadata": {},
     "output_type": "execute_result"
    }
   ],
   "source": [
    "boxes_df = pd.read_csv(f'dataset/annotations/{DATASET_NAME}.txt', sep=' ', names = ['label', 'x', 'y', 'width', 'height'])\n",
    "boxes_df\n",
    "boxes_df['box'] = boxes_df.apply(lambda r: from_yolo(r.x, r.y, r.width, r.height, img_width=img_width, img_height=img_height), axis=1)\n",
    "boxes_df.head()"
   ]
  },
  {
   "cell_type": "code",
   "execution_count": 28,
   "id": "1834f51a",
   "metadata": {
    "scrolled": true
   },
   "outputs": [],
   "source": [
    "# img = load_gray_image(f'dataset/images/{DATASET_NAME}.png')\n",
    "# img_height, img_width = img.shape\n",
    "# print(img_width, img_height)\n",
    "# plt.figure(figsize=(15, 500))\n",
    "# plt.imshow(img, cmap='gray')\n",
    "# axes = plt.gca()\n",
    "\n",
    "# for i, r in boxes_df.iterrows():\n",
    "#     x, y, w, h = from_yolo(r.x, r.y, r.width, r.height, img_width=img_width, img_height=img_height)    \n",
    "#     patch = patches.Rectangle((x, y), w, h, linewidth=2, alpha = .3, facecolor = 'red', edgecolor ='black')\n",
    "#     axes.add_patch(patch)\n",
    "#     plt.text(x, y, \n",
    "#              f'({i})' + decoder_dict[r.label] + ':',  ## + r.element_id, \n",
    "#              fontsize = 10, \n",
    "#              color = 'white', \n",
    "#              backgroundcolor='black',\n",
    "#              alpha=1.)\n",
    "    "
   ]
  },
  {
   "cell_type": "code",
   "execution_count": 29,
   "id": "b0cf0314",
   "metadata": {},
   "outputs": [
    {
     "data": {
      "text/plain": [
       "Index(['attributes', 'displayed', 'element_id', 'height', 'onmouseenter',\n",
       "       'onmouseover', 'parent_id', 'style', 'tag_name', 'text', 'width', 'x',\n",
       "       'y', 'is_hidden', 'upper_sibling', 'lower_sibling', 'siblings', 'idx',\n",
       "       'label', 'annotation_line_no', 'iou', 'tag', 'label_text'],\n",
       "      dtype='object')"
      ]
     },
     "execution_count": 29,
     "metadata": {},
     "output_type": "execute_result"
    }
   ],
   "source": [
    "# df = pd.read_parquet(f'dataset/df/{DATASET_NAME}.parquet')\n",
    "df.columns"
   ]
  },
  {
   "cell_type": "code",
   "execution_count": 30,
   "id": "d800ce46",
   "metadata": {},
   "outputs": [],
   "source": [
    "columns_to_drop = set(df.columns).intersection(set(['label', 'annotation_line_no', 'iou', 'tag', 'label_text']))\n",
    "if len(columns_to_drop) >= 0:\n",
    "    df.drop(columns=columns_to_drop, inplace=True)"
   ]
  },
  {
   "cell_type": "code",
   "execution_count": 31,
   "id": "c34ba089",
   "metadata": {
    "scrolled": false
   },
   "outputs": [
    {
     "name": "stdout",
     "output_type": "stream",
     "text": [
      "2021-06-09 18:56:50,489 -INFO - labels:labels.py:40 - Assign labels from annotation file: dataset/annotations/metals-and-colors.txt\n",
      "2021-06-09 18:56:50,490 -INFO - labels:labels.py:42 - Getting image size\n",
      "2021-06-09 18:56:50,491 -INFO - labels:labels.py:44 - Image size (w,h): (1200, 742)\n",
      "2021-06-09 18:56:50,492 -INFO - labels:labels.py:49 - {'button': 0, 'link': 1, 'textfield': 2, 'dropdown': 3, 'checkbox': 4, 'radiobutton': 5, 'textarea': 6, 'fileinput': 7, 'iframe': 8, 'range': 9, 'progressbar': 10, 'datetimeselector': 11, 'colorpicker': 12, 'numberselector': 13, 'selector': 14, 'table': 15, 'slider-toggle': 16, 'slider': 17, 'tree-node': 18, 'steper': 19, 'tab': 20, 'n/a': 21}\n",
      "2021-06-09 18:56:50,492 -INFO - labels:labels.py:57 - getting \"n/a\" class code\n",
      "2021-06-09 18:56:50,493 -INFO - labels:labels.py:64 - \"n/a\" class code: 21\n",
      "2021-06-09 18:56:50,494 -INFO - labels:labels.py:74 - 33 annotation has been read\n"
     ]
    },
    {
     "data": {
      "application/vnd.jupyter.widget-view+json": {
       "model_id": "248950a150f94647b6f2bdb151695a88",
       "version_major": 2,
       "version_minor": 0
      },
      "text/plain": [
       "Assign labels:   0%|          | 0/33 [00:00<?, ?it/s]"
      ]
     },
     "metadata": {},
     "output_type": "display_data"
    },
    {
     "name": "stdout",
     "output_type": "stream",
     "text": [
      "2021-06-09 18:56:51,703 -INFO - labels:labels.py:123 - labels_df: Index(['idx', 'label', 'annotation_line_no', 'iou', 'tag', 'label_text'], dtype='object')\n",
      "2021-06-09 18:56:51,705 -INFO - labels:labels.py:126 - 33 labels have been assigned\n"
     ]
    }
   ],
   "source": [
    "df = assign_labels(df=df, annotations_file_path=f'dataset/annotations/{DATASET_NAME}.txt', img_width=img_width, img_height=img_height)"
   ]
  },
  {
   "cell_type": "code",
   "execution_count": 32,
   "id": "322946ac",
   "metadata": {},
   "outputs": [
    {
     "data": {
      "text/plain": [
       "Index(['attributes', 'displayed', 'element_id', 'height', 'onmouseenter',\n",
       "       'onmouseover', 'parent_id', 'style', 'tag_name', 'text', 'width', 'x',\n",
       "       'y', 'is_hidden', 'upper_sibling', 'lower_sibling', 'siblings', 'idx_x',\n",
       "       'idx_y', 'label', 'annotation_line_no', 'iou', 'tag', 'label_text'],\n",
       "      dtype='object')"
      ]
     },
     "execution_count": 32,
     "metadata": {},
     "output_type": "execute_result"
    }
   ],
   "source": [
    "df.columns"
   ]
  },
  {
   "cell_type": "code",
   "execution_count": 33,
   "id": "3f5f84aa",
   "metadata": {},
   "outputs": [
    {
     "data": {
      "text/plain": [
       "21    343\n",
       "1      15\n",
       "5       8\n",
       "4       4\n",
       "0       3\n",
       "14      3\n",
       "Name: label, dtype: int64"
      ]
     },
     "execution_count": 33,
     "metadata": {},
     "output_type": "execute_result"
    }
   ],
   "source": [
    "df.label.value_counts()"
   ]
  },
  {
   "cell_type": "code",
   "execution_count": 34,
   "id": "27c4a933",
   "metadata": {
    "scrolled": false
   },
   "outputs": [
    {
     "name": "stdout",
     "output_type": "stream",
     "text": [
      "1200 742\n"
     ]
    },
    {
     "data": {
      "image/png": "[encoded data removed]",
      "text/plain": [
       "<Figure size 1080x36000 with 1 Axes>"
      ]
     },
     "metadata": {
      "needs_background": "light"
     },
     "output_type": "display_data"
    }
   ],
   "source": [
    "img = load_gray_image(f'dataset/images/{DATASET_NAME}.png')\n",
    "img_height, img_width = img.shape\n",
    "print(img_width, img_height)\n",
    "plt.figure(figsize=(15, 500))\n",
    "plt.imshow(img, cmap='gray')\n",
    "axes = plt.gca()\n",
    "\n",
    "for _, r in df[df.label_text != 'n/a'].iterrows():\n",
    "    x, y, w, h = r.x, r.y, r.width, r.height  \n",
    "    patch = patches.Rectangle((x, y), w, h, linewidth=2, alpha = .3, facecolor = 'red', edgecolor ='black')\n",
    "    \n",
    "    # print(r.tag_name, r.label_text, (x,y,w,h), r.element_id)\n",
    "    \n",
    "    axes.add_patch(patch)\n",
    "    plt.text(x, y, \n",
    "             decoder_dict[r.label] + ':' + r.tag_name + ': ' +str(round(r.iou, 4)), # + ':' + str((x, y, w, h)),  ## + r.element_id, \n",
    "             fontsize = 10, \n",
    "             color = 'white', \n",
    "             backgroundcolor='black',\n",
    "             alpha=1.)\n"
   ]
  },
  {
   "cell_type": "code",
   "execution_count": null,
   "id": "a5652d64",
   "metadata": {},
   "outputs": [],
   "source": []
  },
  {
   "cell_type": "code",
   "execution_count": null,
   "id": "4a9b363f",
   "metadata": {},
   "outputs": [],
   "source": []
  }
 ],
 "metadata": {
  "kernelspec": {
   "display_name": "Python 3",
   "language": "python",
   "name": "python3"
  },
  "language_info": {
   "codemirror_mode": {
    "name": "ipython",
    "version": 3
   },
   "file_extension": ".py",
   "mimetype": "text/x-python",
   "name": "python",
   "nbconvert_exporter": "python",
   "pygments_lexer": "ipython3",
   "version": "3.7.9"
  }
 },
 "nbformat": 4,
 "nbformat_minor": 5
}
